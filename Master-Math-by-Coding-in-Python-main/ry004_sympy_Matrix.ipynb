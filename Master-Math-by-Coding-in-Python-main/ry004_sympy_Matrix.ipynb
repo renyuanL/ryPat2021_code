{
 "cells": [
  {
   "cell_type": "code",
   "execution_count": 1,
   "id": "7f8db191-52da-427b-9dec-20d6aeea31eb",
   "metadata": {},
   "outputs": [],
   "source": [
    "import sympy as sm\n"
   ]
  },
  {
   "cell_type": "code",
   "execution_count": 15,
   "id": "70df949a-89ec-48df-9090-be993f6b5ffb",
   "metadata": {},
   "outputs": [],
   "source": [
    "A= [[1,2],[3,4]]\n",
    "A= sm.Matrix(A)"
   ]
  },
  {
   "cell_type": "code",
   "execution_count": 16,
   "id": "6461fecc-4309-4091-999d-b8acd023ee63",
   "metadata": {},
   "outputs": [
    {
     "data": {
      "text/latex": [
       "$\\displaystyle \\left[\\begin{matrix}1 & 2\\\\3 & 4\\end{matrix}\\right]$"
      ],
      "text/plain": [
       "Matrix([\n",
       "[1, 2],\n",
       "[3, 4]])"
      ]
     },
     "execution_count": 16,
     "metadata": {},
     "output_type": "execute_result"
    }
   ],
   "source": [
    "A"
   ]
  },
  {
   "cell_type": "code",
   "execution_count": 17,
   "id": "709b12bb-2ee9-4d8a-ab71-13956c3a066a",
   "metadata": {},
   "outputs": [
    {
     "data": {
      "text/plain": [
       "True"
      ]
     },
     "execution_count": 17,
     "metadata": {},
     "output_type": "execute_result"
    }
   ],
   "source": [
    "A**-1 == A.inv()"
   ]
  },
  {
   "cell_type": "code",
   "execution_count": 18,
   "id": "e5e8c843-da6e-4679-abc0-e15aaa76530b",
   "metadata": {},
   "outputs": [
    {
     "data": {
      "text/latex": [
       "$\\displaystyle \\left[\\begin{matrix}1 & 2\\end{matrix}\\right]$"
      ],
      "text/plain": [
       "Matrix([[1, 2]])"
      ]
     },
     "execution_count": 18,
     "metadata": {},
     "output_type": "execute_result"
    }
   ],
   "source": [
    "A.row(0)"
   ]
  },
  {
   "cell_type": "code",
   "execution_count": 19,
   "id": "3a9fc35b-6117-418f-b35c-085d7b711164",
   "metadata": {},
   "outputs": [
    {
     "data": {
      "text/latex": [
       "$\\displaystyle \\left[\\begin{matrix}1\\\\3\\end{matrix}\\right]$"
      ],
      "text/plain": [
       "Matrix([\n",
       "[1],\n",
       "[3]])"
      ]
     },
     "execution_count": 19,
     "metadata": {},
     "output_type": "execute_result"
    }
   ],
   "source": [
    "A.col(0)"
   ]
  },
  {
   "cell_type": "code",
   "execution_count": null,
   "id": "1fe101ea-4685-4467-b1ba-b79d84701687",
   "metadata": {},
   "outputs": [],
   "source": [
    "\n"
   ]
  },
  {
   "cell_type": "code",
   "execution_count": 23,
   "id": "84b0110a-6059-46fc-af16-6fd772638c6e",
   "metadata": {},
   "outputs": [
    {
     "data": {
      "text/latex": [
       "$\\displaystyle \\left[\\begin{matrix}37 & 54\\\\81 & 118\\end{matrix}\\right]$"
      ],
      "text/plain": [
       "Matrix([\n",
       "[37,  54],\n",
       "[81, 118]])"
      ]
     },
     "execution_count": 23,
     "metadata": {},
     "output_type": "execute_result"
    }
   ],
   "source": [
    "A**3"
   ]
  },
  {
   "cell_type": "code",
   "execution_count": 24,
   "id": "c67d8437-a438-4fa8-9859-b0856b3d3192",
   "metadata": {},
   "outputs": [
    {
     "data": {
      "text/latex": [
       "$\\displaystyle \\left[\\begin{matrix}37 & 54\\\\81 & 118\\end{matrix}\\right]$"
      ],
      "text/plain": [
       "Matrix([\n",
       "[37,  54],\n",
       "[81, 118]])"
      ]
     },
     "execution_count": 24,
     "metadata": {},
     "output_type": "execute_result"
    }
   ],
   "source": [
    "A*A*A"
   ]
  },
  {
   "cell_type": "code",
   "execution_count": 33,
   "id": "85b9eb9f-4b3f-47b1-9290-6395cad07d63",
   "metadata": {},
   "outputs": [
    {
     "data": {
      "text/latex": [
       "$\\displaystyle \\left[\\begin{matrix}10 & 14\\\\14 & 20\\end{matrix}\\right]$"
      ],
      "text/plain": [
       "Matrix([\n",
       "[10, 14],\n",
       "[14, 20]])"
      ]
     },
     "execution_count": 33,
     "metadata": {},
     "output_type": "execute_result"
    }
   ],
   "source": [
    "(A.T*A)"
   ]
  },
  {
   "cell_type": "code",
   "execution_count": 34,
   "id": "8338e4a1-143f-457b-81ee-dfb23ae57ecb",
   "metadata": {},
   "outputs": [
    {
     "data": {
      "text/latex": [
       "$\\displaystyle -2$"
      ],
      "text/plain": [
       "-2"
      ]
     },
     "execution_count": 34,
     "metadata": {},
     "output_type": "execute_result"
    }
   ],
   "source": [
    "A.det()"
   ]
  },
  {
   "cell_type": "code",
   "execution_count": 35,
   "id": "315892d5-89a3-4cbd-86fb-553ae92553ea",
   "metadata": {},
   "outputs": [
    {
     "data": {
      "text/plain": [
       "[Matrix([\n",
       " [1],\n",
       " [3]]),\n",
       " Matrix([\n",
       " [2],\n",
       " [4]])]"
      ]
     },
     "execution_count": 35,
     "metadata": {},
     "output_type": "execute_result"
    }
   ],
   "source": [
    "A.columnspace()"
   ]
  },
  {
   "cell_type": "code",
   "execution_count": 38,
   "id": "fa93af23-5361-4aa5-b22e-996fb0f5c927",
   "metadata": {},
   "outputs": [
    {
     "data": {
      "text/plain": [
       "[(5/2 - sqrt(33)/2,\n",
       "  1,\n",
       "  [Matrix([\n",
       "   [-sqrt(33)/6 - 1/2],\n",
       "   [                1]])]),\n",
       " (5/2 + sqrt(33)/2,\n",
       "  1,\n",
       "  [Matrix([\n",
       "   [-1/2 + sqrt(33)/6],\n",
       "   [                1]])])]"
      ]
     },
     "execution_count": 38,
     "metadata": {},
     "output_type": "execute_result"
    }
   ],
   "source": [
    "A.eigenvects()"
   ]
  },
  {
   "cell_type": "code",
   "execution_count": 40,
   "id": "c6d1ef98-dac0-4e49-914f-242c4b0095f1",
   "metadata": {},
   "outputs": [],
   "source": [
    "P,D= A.diagonalize()"
   ]
  },
  {
   "cell_type": "code",
   "execution_count": 41,
   "id": "36a995db-125a-4bbd-a1ac-2b0387dc1ee2",
   "metadata": {},
   "outputs": [
    {
     "data": {
      "text/latex": [
       "$\\displaystyle \\left[\\begin{matrix}- \\frac{\\sqrt{33}}{6} - \\frac{1}{2} & - \\frac{1}{2} + \\frac{\\sqrt{33}}{6}\\\\1 & 1\\end{matrix}\\right]$"
      ],
      "text/plain": [
       "Matrix([\n",
       "[-sqrt(33)/6 - 1/2, -1/2 + sqrt(33)/6],\n",
       "[                1,                 1]])"
      ]
     },
     "execution_count": 41,
     "metadata": {},
     "output_type": "execute_result"
    }
   ],
   "source": [
    "P"
   ]
  },
  {
   "cell_type": "code",
   "execution_count": 42,
   "id": "17c269c5-1148-4ba5-824b-59034a29d437",
   "metadata": {},
   "outputs": [
    {
     "data": {
      "text/latex": [
       "$\\displaystyle \\left[\\begin{matrix}\\frac{5}{2} - \\frac{\\sqrt{33}}{2} & 0\\\\0 & \\frac{5}{2} + \\frac{\\sqrt{33}}{2}\\end{matrix}\\right]$"
      ],
      "text/plain": [
       "Matrix([\n",
       "[5/2 - sqrt(33)/2,                0],\n",
       "[               0, 5/2 + sqrt(33)/2]])"
      ]
     },
     "execution_count": 42,
     "metadata": {},
     "output_type": "execute_result"
    }
   ],
   "source": [
    "D"
   ]
  },
  {
   "cell_type": "code",
   "execution_count": 53,
   "id": "365c11a1-fe24-4900-a1a9-6eeca02b47a0",
   "metadata": {},
   "outputs": [
    {
     "data": {
      "text/latex": [
       "$\\displaystyle \\left[\\begin{matrix}\\frac{\\left(\\frac{5}{2} - \\frac{\\sqrt{33}}{2}\\right) \\left(- \\sqrt{33} - 3\\right) \\left(- \\frac{\\sqrt{33}}{6} - \\frac{1}{2}\\right)}{\\sqrt{33} + 11} + \\frac{\\sqrt{33} \\left(- \\frac{1}{2} + \\frac{\\sqrt{33}}{6}\\right) \\left(\\frac{5}{2} + \\frac{\\sqrt{33}}{2}\\right)}{11} & \\frac{2 \\left(\\frac{5}{2} - \\frac{\\sqrt{33}}{2}\\right) \\left(- \\frac{\\sqrt{33}}{6} - \\frac{1}{2}\\right)}{\\frac{\\sqrt{33}}{2} + \\frac{11}{2}} + \\left(- \\frac{1}{2} + \\frac{\\sqrt{33}}{6}\\right) \\left(\\frac{5}{2} + \\frac{\\sqrt{33}}{2}\\right) \\left(\\frac{\\sqrt{33}}{22} + \\frac{1}{2}\\right)\\\\\\frac{\\left(\\frac{5}{2} - \\frac{\\sqrt{33}}{2}\\right) \\left(- \\sqrt{33} - 3\\right)}{\\sqrt{33} + 11} + \\frac{\\sqrt{33} \\left(\\frac{5}{2} + \\frac{\\sqrt{33}}{2}\\right)}{11} & \\frac{2 \\left(\\frac{5}{2} - \\frac{\\sqrt{33}}{2}\\right)}{\\frac{\\sqrt{33}}{2} + \\frac{11}{2}} + \\left(\\frac{5}{2} + \\frac{\\sqrt{33}}{2}\\right) \\left(\\frac{\\sqrt{33}}{22} + \\frac{1}{2}\\right)\\end{matrix}\\right]$"
      ],
      "text/plain": [
       "Matrix([\n",
       "[(5/2 - sqrt(33)/2)*(-sqrt(33) - 3)*(-sqrt(33)/6 - 1/2)/(sqrt(33) + 11) + sqrt(33)*(-1/2 + sqrt(33)/6)*(5/2 + sqrt(33)/2)/11, 2*(5/2 - sqrt(33)/2)*(-sqrt(33)/6 - 1/2)/(sqrt(33)/2 + 11/2) + (-1/2 + sqrt(33)/6)*(5/2 + sqrt(33)/2)*(sqrt(33)/22 + 1/2)],\n",
       "[                                        (5/2 - sqrt(33)/2)*(-sqrt(33) - 3)/(sqrt(33) + 11) + sqrt(33)*(5/2 + sqrt(33)/2)/11,                                         2*(5/2 - sqrt(33)/2)/(sqrt(33)/2 + 11/2) + (5/2 + sqrt(33)/2)*(sqrt(33)/22 + 1/2)]])"
      ]
     },
     "execution_count": 53,
     "metadata": {},
     "output_type": "execute_result"
    }
   ],
   "source": [
    "q= P*D*P.inv()\n",
    "q"
   ]
  },
  {
   "cell_type": "code",
   "execution_count": 54,
   "id": "244dca81-7d88-4da3-a937-7686ab7088e1",
   "metadata": {},
   "outputs": [
    {
     "data": {
      "text/latex": [
       "$\\displaystyle \\left[\\begin{matrix}\\frac{\\left(\\frac{5}{2} - \\frac{\\sqrt{33}}{2}\\right) \\left(- \\sqrt{33} - 3\\right) \\left(- \\frac{\\sqrt{33}}{6} - \\frac{1}{2}\\right)}{\\sqrt{33} + 11} + \\frac{\\sqrt{33} \\left(- \\frac{1}{2} + \\frac{\\sqrt{33}}{6}\\right) \\left(\\frac{5}{2} + \\frac{\\sqrt{33}}{2}\\right)}{11} & \\frac{2 \\left(\\frac{5}{2} - \\frac{\\sqrt{33}}{2}\\right) \\left(- \\frac{\\sqrt{33}}{6} - \\frac{1}{2}\\right)}{\\frac{\\sqrt{33}}{2} + \\frac{11}{2}} + \\left(- \\frac{1}{2} + \\frac{\\sqrt{33}}{6}\\right) \\left(\\frac{5}{2} + \\frac{\\sqrt{33}}{2}\\right) \\left(\\frac{\\sqrt{33}}{22} + \\frac{1}{2}\\right)\\\\\\frac{\\left(\\frac{5}{2} - \\frac{\\sqrt{33}}{2}\\right) \\left(- \\sqrt{33} - 3\\right)}{\\sqrt{33} + 11} + \\frac{\\sqrt{33} \\left(\\frac{5}{2} + \\frac{\\sqrt{33}}{2}\\right)}{11} & \\frac{2 \\left(\\frac{5}{2} - \\frac{\\sqrt{33}}{2}\\right)}{\\frac{\\sqrt{33}}{2} + \\frac{11}{2}} + \\left(\\frac{5}{2} + \\frac{\\sqrt{33}}{2}\\right) \\left(\\frac{\\sqrt{33}}{22} + \\frac{1}{2}\\right)\\end{matrix}\\right]$"
      ],
      "text/plain": [
       "Matrix([\n",
       "[(5/2 - sqrt(33)/2)*(-sqrt(33) - 3)*(-sqrt(33)/6 - 1/2)/(sqrt(33) + 11) + sqrt(33)*(-1/2 + sqrt(33)/6)*(5/2 + sqrt(33)/2)/11, 2*(5/2 - sqrt(33)/2)*(-sqrt(33)/6 - 1/2)/(sqrt(33)/2 + 11/2) + (-1/2 + sqrt(33)/6)*(5/2 + sqrt(33)/2)*(sqrt(33)/22 + 1/2)],\n",
       "[                                        (5/2 - sqrt(33)/2)*(-sqrt(33) - 3)/(sqrt(33) + 11) + sqrt(33)*(5/2 + sqrt(33)/2)/11,                                         2*(5/2 - sqrt(33)/2)/(sqrt(33)/2 + 11/2) + (5/2 + sqrt(33)/2)*(sqrt(33)/22 + 1/2)]])"
      ]
     },
     "execution_count": 54,
     "metadata": {},
     "output_type": "execute_result"
    }
   ],
   "source": [
    "q"
   ]
  },
  {
   "cell_type": "code",
   "execution_count": 61,
   "id": "a7839da5-163e-4a5d-af3a-fc0af84dca85",
   "metadata": {},
   "outputs": [
    {
     "data": {
      "text/latex": [
       "$\\displaystyle \\left[\\begin{matrix}1.0 & 2.0\\\\3.0 & 4.0\\end{matrix}\\right]$"
      ],
      "text/plain": [
       "Matrix([\n",
       "[1.0, 2.0],\n",
       "[3.0, 4.0]])"
      ]
     },
     "execution_count": 61,
     "metadata": {},
     "output_type": "execute_result"
    }
   ],
   "source": [
    "q.evalf()"
   ]
  },
  {
   "cell_type": "code",
   "execution_count": 62,
   "id": "1260f63e-e7e9-4e96-ba8b-8316d90b4bf8",
   "metadata": {},
   "outputs": [
    {
     "data": {
      "text/latex": [
       "$\\displaystyle \\left[\\begin{matrix}\\frac{\\left(\\frac{5}{2} - \\frac{\\sqrt{33}}{2}\\right) \\left(- \\sqrt{33} - 3\\right) \\left(- \\frac{\\sqrt{33}}{6} - \\frac{1}{2}\\right)}{\\sqrt{33} + 11} + \\frac{\\sqrt{33} \\left(- \\frac{1}{2} + \\frac{\\sqrt{33}}{6}\\right) \\left(\\frac{5}{2} + \\frac{\\sqrt{33}}{2}\\right)}{11} & \\frac{2 \\left(\\frac{5}{2} - \\frac{\\sqrt{33}}{2}\\right) \\left(- \\frac{\\sqrt{33}}{6} - \\frac{1}{2}\\right)}{\\frac{\\sqrt{33}}{2} + \\frac{11}{2}} + \\left(- \\frac{1}{2} + \\frac{\\sqrt{33}}{6}\\right) \\left(\\frac{5}{2} + \\frac{\\sqrt{33}}{2}\\right) \\left(\\frac{\\sqrt{33}}{22} + \\frac{1}{2}\\right)\\\\\\frac{\\left(\\frac{5}{2} - \\frac{\\sqrt{33}}{2}\\right) \\left(- \\sqrt{33} - 3\\right)}{\\sqrt{33} + 11} + \\frac{\\sqrt{33} \\left(\\frac{5}{2} + \\frac{\\sqrt{33}}{2}\\right)}{11} & \\frac{2 \\left(\\frac{5}{2} - \\frac{\\sqrt{33}}{2}\\right)}{\\frac{\\sqrt{33}}{2} + \\frac{11}{2}} + \\left(\\frac{5}{2} + \\frac{\\sqrt{33}}{2}\\right) \\left(\\frac{\\sqrt{33}}{22} + \\frac{1}{2}\\right)\\end{matrix}\\right]$"
      ],
      "text/plain": [
       "Matrix([\n",
       "[(5/2 - sqrt(33)/2)*(-sqrt(33) - 3)*(-sqrt(33)/6 - 1/2)/(sqrt(33) + 11) + sqrt(33)*(-1/2 + sqrt(33)/6)*(5/2 + sqrt(33)/2)/11, 2*(5/2 - sqrt(33)/2)*(-sqrt(33)/6 - 1/2)/(sqrt(33)/2 + 11/2) + (-1/2 + sqrt(33)/6)*(5/2 + sqrt(33)/2)*(sqrt(33)/22 + 1/2)],\n",
       "[                                        (5/2 - sqrt(33)/2)*(-sqrt(33) - 3)/(sqrt(33) + 11) + sqrt(33)*(5/2 + sqrt(33)/2)/11,                                         2*(5/2 - sqrt(33)/2)/(sqrt(33)/2 + 11/2) + (5/2 + sqrt(33)/2)*(sqrt(33)/22 + 1/2)]])"
      ]
     },
     "execution_count": 62,
     "metadata": {},
     "output_type": "execute_result"
    }
   ],
   "source": [
    "q"
   ]
  },
  {
   "cell_type": "code",
   "execution_count": 63,
   "id": "2318438d-86e3-44e9-b029-c86dca186bd9",
   "metadata": {},
   "outputs": [
    {
     "data": {
      "text/latex": [
       "$\\displaystyle \\left[\\begin{matrix}- \\frac{\\sqrt{33}}{6} - \\frac{1}{2} & - \\frac{1}{2} + \\frac{\\sqrt{33}}{6}\\\\1 & 1\\end{matrix}\\right]$"
      ],
      "text/plain": [
       "Matrix([\n",
       "[-sqrt(33)/6 - 1/2, -1/2 + sqrt(33)/6],\n",
       "[                1,                 1]])"
      ]
     },
     "execution_count": 63,
     "metadata": {},
     "output_type": "execute_result"
    }
   ],
   "source": [
    "P"
   ]
  },
  {
   "cell_type": "code",
   "execution_count": 64,
   "id": "008f7331-0f36-41d2-b8e1-3aada143a0b4",
   "metadata": {},
   "outputs": [
    {
     "data": {
      "text/latex": [
       "$\\displaystyle \\left[\\begin{matrix}\\frac{5}{2} - \\frac{\\sqrt{33}}{2} & 0\\\\0 & \\frac{5}{2} + \\frac{\\sqrt{33}}{2}\\end{matrix}\\right]$"
      ],
      "text/plain": [
       "Matrix([\n",
       "[5/2 - sqrt(33)/2,                0],\n",
       "[               0, 5/2 + sqrt(33)/2]])"
      ]
     },
     "execution_count": 64,
     "metadata": {},
     "output_type": "execute_result"
    }
   ],
   "source": [
    "D"
   ]
  },
  {
   "cell_type": "code",
   "execution_count": 65,
   "id": "575015e8-9b0b-4b51-8121-1bb394f9cbbf",
   "metadata": {},
   "outputs": [
    {
     "data": {
      "text/latex": [
       "$\\displaystyle \\left[\\begin{matrix}\\frac{- \\sqrt{33} - 3}{\\sqrt{33} + 11} & \\frac{2}{\\frac{\\sqrt{33}}{2} + \\frac{11}{2}}\\\\\\frac{\\sqrt{33}}{11} & \\frac{\\sqrt{33}}{22} + \\frac{1}{2}\\end{matrix}\\right]$"
      ],
      "text/plain": [
       "Matrix([\n",
       "[(-sqrt(33) - 3)/(sqrt(33) + 11), 2/(sqrt(33)/2 + 11/2)],\n",
       "[                    sqrt(33)/11,     sqrt(33)/22 + 1/2]])"
      ]
     },
     "execution_count": 65,
     "metadata": {},
     "output_type": "execute_result"
    }
   ],
   "source": [
    "P.inv()"
   ]
  },
  {
   "cell_type": "code",
   "execution_count": 67,
   "id": "e18bf06b-3a72-4df8-826d-a3eeae2efb2b",
   "metadata": {},
   "outputs": [
    {
     "data": {
      "text/latex": [
       "$\\displaystyle \\left[\\begin{matrix}-1.45742710775634 & 0.457427107756338\\\\1.0 & 1.0\\end{matrix}\\right]$"
      ],
      "text/plain": [
       "Matrix([\n",
       "[-1.45742710775634, 0.457427107756338],\n",
       "[              1.0,               1.0]])"
      ]
     },
     "execution_count": 67,
     "metadata": {},
     "output_type": "execute_result"
    }
   ],
   "source": [
    "P.evalf()"
   ]
  },
  {
   "cell_type": "code",
   "execution_count": 68,
   "id": "91ddc20d-ff07-40dd-97fe-414dc624d946",
   "metadata": {},
   "outputs": [
    {
     "data": {
      "text/latex": [
       "$\\displaystyle \\left[\\begin{matrix}1 & 2\\\\3 & 4\\end{matrix}\\right]$"
      ],
      "text/plain": [
       "Matrix([\n",
       "[1, 2],\n",
       "[3, 4]])"
      ]
     },
     "execution_count": 68,
     "metadata": {},
     "output_type": "execute_result"
    }
   ],
   "source": [
    "A"
   ]
  },
  {
   "cell_type": "code",
   "execution_count": 72,
   "id": "3204ca79-7226-40b9-9979-7d37ce3618f1",
   "metadata": {},
   "outputs": [
    {
     "data": {
      "text/latex": [
       "$\\displaystyle \\left[\\begin{matrix}a & b\\\\c & d\\end{matrix}\\right]$"
      ],
      "text/plain": [
       "Matrix([\n",
       "[a, b],\n",
       "[c, d]])"
      ]
     },
     "execution_count": 72,
     "metadata": {},
     "output_type": "execute_result"
    }
   ],
   "source": [
    "a,b,c,d= sm.symbols('a,b,c,d')\n",
    "A= [[a,b], [c,d]]\n",
    "A= sm.Matrix(A)\n",
    "A"
   ]
  },
  {
   "cell_type": "code",
   "execution_count": 73,
   "id": "fd83445f-f435-48d9-8823-084a05361317",
   "metadata": {},
   "outputs": [
    {
     "data": {
      "text/latex": [
       "$\\displaystyle \\left[\\begin{matrix}\\frac{d}{a d - b c} & - \\frac{b}{a d - b c}\\\\- \\frac{c}{a d - b c} & \\frac{a}{a d - b c}\\end{matrix}\\right]$"
      ],
      "text/plain": [
       "Matrix([\n",
       "[ d/(a*d - b*c), -b/(a*d - b*c)],\n",
       "[-c/(a*d - b*c),  a/(a*d - b*c)]])"
      ]
     },
     "execution_count": 73,
     "metadata": {},
     "output_type": "execute_result"
    }
   ],
   "source": [
    "A.inv()"
   ]
  },
  {
   "cell_type": "code",
   "execution_count": 74,
   "id": "6d1916a6-0e0c-4993-aee2-35f9d5e685ee",
   "metadata": {},
   "outputs": [
    {
     "data": {
      "text/latex": [
       "$\\displaystyle a d - b c$"
      ],
      "text/plain": [
       "a*d - b*c"
      ]
     },
     "execution_count": 74,
     "metadata": {},
     "output_type": "execute_result"
    }
   ],
   "source": [
    "A.det()"
   ]
  },
  {
   "cell_type": "code",
   "execution_count": 75,
   "id": "252ad218-34bf-46f6-8d63-3db981b68c53",
   "metadata": {},
   "outputs": [
    {
     "data": {
      "text/plain": [
       "{a/2 + d/2 - sqrt(a**2 - 2*a*d + 4*b*c + d**2)/2: 1,\n",
       " a/2 + d/2 + sqrt(a**2 - 2*a*d + 4*b*c + d**2)/2: 1}"
      ]
     },
     "execution_count": 75,
     "metadata": {},
     "output_type": "execute_result"
    }
   ],
   "source": [
    "A.eigenvals()"
   ]
  },
  {
   "cell_type": "code",
   "execution_count": 76,
   "id": "16eacf83-ad1d-4bd2-93ee-45d00dbf509f",
   "metadata": {},
   "outputs": [
    {
     "data": {
      "text/plain": [
       "[(a/2 + d/2 - sqrt(a**2 - 2*a*d + 4*b*c + d**2)/2,\n",
       "  1,\n",
       "  [Matrix([\n",
       "   [-d/c + (a/2 + d/2 - sqrt(a**2 - 2*a*d + 4*b*c + d**2)/2)/c],\n",
       "   [                                                         1]])]),\n",
       " (a/2 + d/2 + sqrt(a**2 - 2*a*d + 4*b*c + d**2)/2,\n",
       "  1,\n",
       "  [Matrix([\n",
       "   [-d/c + (a/2 + d/2 + sqrt(a**2 - 2*a*d + 4*b*c + d**2)/2)/c],\n",
       "   [                                                         1]])])]"
      ]
     },
     "execution_count": 76,
     "metadata": {},
     "output_type": "execute_result"
    }
   ],
   "source": [
    "A.eigenvects()"
   ]
  },
  {
   "cell_type": "code",
   "execution_count": 80,
   "id": "6f23a557-a69e-4735-96f0-37f3eca93e6d",
   "metadata": {},
   "outputs": [
    {
     "data": {
      "text/latex": [
       "$\\displaystyle \\left[\\begin{matrix}\\frac{a - d - \\sqrt{a^{2} - 2 a d + 4 b c + d^{2}}}{2 c} & \\frac{a - d + \\sqrt{a^{2} - 2 a d + 4 b c + d^{2}}}{2 c}\\\\1 & 1\\end{matrix}\\right]$"
      ],
      "text/plain": [
       "Matrix([\n",
       "[(a - d - sqrt(a**2 - 2*a*d + 4*b*c + d**2))/(2*c), (a - d + sqrt(a**2 - 2*a*d + 4*b*c + d**2))/(2*c)],\n",
       "[                                                1,                                                 1]])"
      ]
     },
     "metadata": {},
     "output_type": "display_data"
    },
    {
     "data": {
      "text/latex": [
       "$\\displaystyle \\left[\\begin{matrix}\\frac{a}{2} + \\frac{d}{2} - \\frac{\\sqrt{a^{2} - 2 a d + 4 b c + d^{2}}}{2} & 0\\\\0 & \\frac{a}{2} + \\frac{d}{2} + \\frac{\\sqrt{a^{2} - 2 a d + 4 b c + d^{2}}}{2}\\end{matrix}\\right]$"
      ],
      "text/plain": [
       "Matrix([\n",
       "[a/2 + d/2 - sqrt(a**2 - 2*a*d + 4*b*c + d**2)/2,                                               0],\n",
       "[                                              0, a/2 + d/2 + sqrt(a**2 - 2*a*d + 4*b*c + d**2)/2]])"
      ]
     },
     "metadata": {},
     "output_type": "display_data"
    }
   ],
   "source": [
    "P,D= A.diagonalize()\n",
    "display(P)\n",
    "display(D)"
   ]
  },
  {
   "cell_type": "code",
   "execution_count": 123,
   "id": "9ab00d46-b2d2-4ab7-a133-0013e889959b",
   "metadata": {},
   "outputs": [
    {
     "data": {
      "text/latex": [
       "$\\displaystyle \\left[\\begin{matrix}a_{00} & a_{01}\\\\a_{10} & a_{11}\\end{matrix}\\right]$"
      ],
      "text/plain": [
       "Matrix([\n",
       "[a00, a01],\n",
       "[a10, a11]])"
      ]
     },
     "execution_count": 123,
     "metadata": {},
     "output_type": "execute_result"
    }
   ],
   "source": [
    "a= sm.symbols('a:2:2')\n",
    "a= np.array(a).reshape(2,2)\n",
    "A= sm.Matrix(a)\n",
    "A"
   ]
  },
  {
   "cell_type": "code",
   "execution_count": 124,
   "id": "b47398cf-cb57-4467-a731-feead43abb51",
   "metadata": {},
   "outputs": [
    {
     "data": {
      "text/latex": [
       "$\\displaystyle \\left[\\begin{matrix}a_{00} & a_{10}\\\\a_{01} & a_{11}\\end{matrix}\\right]$"
      ],
      "text/plain": [
       "Matrix([\n",
       "[a00, a10],\n",
       "[a01, a11]])"
      ]
     },
     "execution_count": 124,
     "metadata": {},
     "output_type": "execute_result"
    }
   ],
   "source": [
    "A.transpose()"
   ]
  },
  {
   "cell_type": "code",
   "execution_count": 125,
   "id": "151fec0e-6724-4826-89bd-49ba2b4bde20",
   "metadata": {},
   "outputs": [
    {
     "data": {
      "text/latex": [
       "$\\displaystyle a_{00} a_{11} - a_{01} a_{10}$"
      ],
      "text/plain": [
       "a00*a11 - a01*a10"
      ]
     },
     "execution_count": 125,
     "metadata": {},
     "output_type": "execute_result"
    }
   ],
   "source": [
    "A.det()"
   ]
  },
  {
   "cell_type": "code",
   "execution_count": 126,
   "id": "de61b2e3-ddc4-4e3e-b288-173c1c175788",
   "metadata": {},
   "outputs": [
    {
     "data": {
      "text/latex": [
       "$\\displaystyle \\left[\\begin{matrix}\\frac{a_{11}}{a_{00} a_{11} - a_{01} a_{10}} & - \\frac{a_{01}}{a_{00} a_{11} - a_{01} a_{10}}\\\\- \\frac{a_{10}}{a_{00} a_{11} - a_{01} a_{10}} & \\frac{a_{00}}{a_{00} a_{11} - a_{01} a_{10}}\\end{matrix}\\right]$"
      ],
      "text/plain": [
       "Matrix([\n",
       "[ a11/(a00*a11 - a01*a10), -a01/(a00*a11 - a01*a10)],\n",
       "[-a10/(a00*a11 - a01*a10),  a00/(a00*a11 - a01*a10)]])"
      ]
     },
     "execution_count": 126,
     "metadata": {},
     "output_type": "execute_result"
    }
   ],
   "source": [
    "A.inv()"
   ]
  },
  {
   "cell_type": "code",
   "execution_count": 127,
   "id": "2d2b51c1-6756-437c-857c-aba530353801",
   "metadata": {},
   "outputs": [
    {
     "data": {
      "text/latex": [
       "$\\displaystyle \\left[\\begin{matrix}a_{11} & - a_{01}\\\\- a_{10} & a_{00}\\end{matrix}\\right]$"
      ],
      "text/plain": [
       "Matrix([\n",
       "[ a11, -a01],\n",
       "[-a10,  a00]])"
      ]
     },
     "execution_count": 127,
     "metadata": {},
     "output_type": "execute_result"
    }
   ],
   "source": [
    "A.det()*A.inv()"
   ]
  },
  {
   "cell_type": "code",
   "execution_count": 128,
   "id": "abe465ad-7398-4691-85de-bc6f88a2610c",
   "metadata": {},
   "outputs": [
    {
     "data": {
      "text/latex": [
       "$\\displaystyle \\left[\\begin{matrix}a_{00}^{2} + a_{01}^{2} & a_{00} a_{10} + a_{01} a_{11}\\\\a_{00} a_{10} + a_{01} a_{11} & a_{10}^{2} + a_{11}^{2}\\end{matrix}\\right]$"
      ],
      "text/plain": [
       "Matrix([\n",
       "[  a00**2 + a01**2, a00*a10 + a01*a11],\n",
       "[a00*a10 + a01*a11,   a10**2 + a11**2]])"
      ]
     },
     "execution_count": 128,
     "metadata": {},
     "output_type": "execute_result"
    }
   ],
   "source": [
    "A*A.transpose()"
   ]
  },
  {
   "cell_type": "code",
   "execution_count": 130,
   "id": "0d75d7d6-64ed-4eaa-a2a9-af6813a843a0",
   "metadata": {},
   "outputs": [
    {
     "data": {
      "text/plain": [
       "{a00/2 + a11/2 - sqrt(a00**2 - 2*a00*a11 + 4*a01*a10 + a11**2)/2: 1,\n",
       " a00/2 + a11/2 + sqrt(a00**2 - 2*a00*a11 + 4*a01*a10 + a11**2)/2: 1}"
      ]
     },
     "execution_count": 130,
     "metadata": {},
     "output_type": "execute_result"
    }
   ],
   "source": [
    "A.eigenvals()"
   ]
  },
  {
   "cell_type": "code",
   "execution_count": 131,
   "id": "8959a8cc-66dc-4fbc-ba38-0de6d1e5ec7d",
   "metadata": {},
   "outputs": [
    {
     "data": {
      "text/plain": [
       "[(a00/2 + a11/2 - sqrt(a00**2 - 2*a00*a11 + 4*a01*a10 + a11**2)/2,\n",
       "  1,\n",
       "  [Matrix([\n",
       "   [-a11/a10 + (a00/2 + a11/2 - sqrt(a00**2 - 2*a00*a11 + 4*a01*a10 + a11**2)/2)/a10],\n",
       "   [                                                                               1]])]),\n",
       " (a00/2 + a11/2 + sqrt(a00**2 - 2*a00*a11 + 4*a01*a10 + a11**2)/2,\n",
       "  1,\n",
       "  [Matrix([\n",
       "   [-a11/a10 + (a00/2 + a11/2 + sqrt(a00**2 - 2*a00*a11 + 4*a01*a10 + a11**2)/2)/a10],\n",
       "   [                                                                               1]])])]"
      ]
     },
     "execution_count": 131,
     "metadata": {},
     "output_type": "execute_result"
    }
   ],
   "source": [
    "A.eigenvects()"
   ]
  },
  {
   "cell_type": "code",
   "execution_count": 134,
   "id": "6fd65be0-2626-4cd8-b70a-37aac0a75e8f",
   "metadata": {},
   "outputs": [],
   "source": [
    "P,D= A.diagonalize()"
   ]
  },
  {
   "cell_type": "code",
   "execution_count": 135,
   "id": "bc5b7b28-0105-43cc-a7bd-5de2932cc529",
   "metadata": {},
   "outputs": [
    {
     "data": {
      "text/latex": [
       "$\\displaystyle \\left[\\begin{matrix}\\frac{a_{00} - a_{11} - \\sqrt{a_{00}^{2} - 2 a_{00} a_{11} + 4 a_{01} a_{10} + a_{11}^{2}}}{2 a_{10}} & \\frac{a_{00} - a_{11} + \\sqrt{a_{00}^{2} - 2 a_{00} a_{11} + 4 a_{01} a_{10} + a_{11}^{2}}}{2 a_{10}}\\\\1 & 1\\end{matrix}\\right]$"
      ],
      "text/plain": [
       "Matrix([\n",
       "[(a00 - a11 - sqrt(a00**2 - 2*a00*a11 + 4*a01*a10 + a11**2))/(2*a10), (a00 - a11 + sqrt(a00**2 - 2*a00*a11 + 4*a01*a10 + a11**2))/(2*a10)],\n",
       "[                                                                  1,                                                                   1]])"
      ]
     },
     "execution_count": 135,
     "metadata": {},
     "output_type": "execute_result"
    }
   ],
   "source": [
    "P"
   ]
  },
  {
   "cell_type": "code",
   "execution_count": 136,
   "id": "bfa9f4de-c84e-44d7-ac34-ca3797eb9963",
   "metadata": {},
   "outputs": [
    {
     "data": {
      "text/latex": [
       "$\\displaystyle \\left[\\begin{matrix}\\frac{a_{00}}{2} + \\frac{a_{11}}{2} - \\frac{\\sqrt{a_{00}^{2} - 2 a_{00} a_{11} + 4 a_{01} a_{10} + a_{11}^{2}}}{2} & 0\\\\0 & \\frac{a_{00}}{2} + \\frac{a_{11}}{2} + \\frac{\\sqrt{a_{00}^{2} - 2 a_{00} a_{11} + 4 a_{01} a_{10} + a_{11}^{2}}}{2}\\end{matrix}\\right]$"
      ],
      "text/plain": [
       "Matrix([\n",
       "[a00/2 + a11/2 - sqrt(a00**2 - 2*a00*a11 + 4*a01*a10 + a11**2)/2,                                                               0],\n",
       "[                                                              0, a00/2 + a11/2 + sqrt(a00**2 - 2*a00*a11 + 4*a01*a10 + a11**2)/2]])"
      ]
     },
     "execution_count": 136,
     "metadata": {},
     "output_type": "execute_result"
    }
   ],
   "source": [
    "D"
   ]
  },
  {
   "cell_type": "code",
   "execution_count": 137,
   "id": "6fe8660f-bedd-4c68-8c53-1d15ce52931d",
   "metadata": {},
   "outputs": [
    {
     "data": {
      "text/latex": [
       "$\\displaystyle \\left[\\begin{matrix}- \\frac{a_{10}}{\\sqrt{a_{00}^{2} - 2 a_{00} a_{11} + 4 a_{01} a_{10} + a_{11}^{2}}} & \\frac{a_{00} - a_{11} + \\sqrt{a_{00}^{2} - 2 a_{00} a_{11} + 4 a_{01} a_{10} + a_{11}^{2}}}{2 \\sqrt{a_{00}^{2} - 2 a_{00} a_{11} + 4 a_{01} a_{10} + a_{11}^{2}}}\\\\\\frac{a_{10}}{\\sqrt{a_{00}^{2} - 2 a_{00} a_{11} + 4 a_{01} a_{10} + a_{11}^{2}}} & \\frac{- a_{00} + a_{11} + \\sqrt{a_{00}^{2} - 2 a_{00} a_{11} + 4 a_{01} a_{10} + a_{11}^{2}}}{2 \\sqrt{a_{00}^{2} - 2 a_{00} a_{11} + 4 a_{01} a_{10} + a_{11}^{2}}}\\end{matrix}\\right]$"
      ],
      "text/plain": [
       "Matrix([\n",
       "[-a10/sqrt(a00**2 - 2*a00*a11 + 4*a01*a10 + a11**2),  (a00 - a11 + sqrt(a00**2 - 2*a00*a11 + 4*a01*a10 + a11**2))/(2*sqrt(a00**2 - 2*a00*a11 + 4*a01*a10 + a11**2))],\n",
       "[ a10/sqrt(a00**2 - 2*a00*a11 + 4*a01*a10 + a11**2), (-a00 + a11 + sqrt(a00**2 - 2*a00*a11 + 4*a01*a10 + a11**2))/(2*sqrt(a00**2 - 2*a00*a11 + 4*a01*a10 + a11**2))]])"
      ]
     },
     "execution_count": 137,
     "metadata": {},
     "output_type": "execute_result"
    }
   ],
   "source": [
    "P.inv()"
   ]
  },
  {
   "cell_type": "code",
   "execution_count": 141,
   "id": "ee97d890-1e76-4f2e-8464-b0f63b42d8d0",
   "metadata": {},
   "outputs": [
    {
     "data": {
      "text/latex": [
       "$\\displaystyle \\left[\\begin{matrix}- \\frac{\\left(\\frac{a_{00}}{2} + \\frac{a_{11}}{2} - \\frac{\\sqrt{a_{00}^{2} - 2 a_{00} a_{11} + 4 a_{01} a_{10} + a_{11}^{2}}}{2}\\right) \\left(a_{00} - a_{11} - \\sqrt{a_{00}^{2} - 2 a_{00} a_{11} + 4 a_{01} a_{10} + a_{11}^{2}}\\right)}{2 \\sqrt{a_{00}^{2} - 2 a_{00} a_{11} + 4 a_{01} a_{10} + a_{11}^{2}}} + \\frac{\\left(\\frac{a_{00}}{2} + \\frac{a_{11}}{2} + \\frac{\\sqrt{a_{00}^{2} - 2 a_{00} a_{11} + 4 a_{01} a_{10} + a_{11}^{2}}}{2}\\right) \\left(a_{00} - a_{11} + \\sqrt{a_{00}^{2} - 2 a_{00} a_{11} + 4 a_{01} a_{10} + a_{11}^{2}}\\right)}{2 \\sqrt{a_{00}^{2} - 2 a_{00} a_{11} + 4 a_{01} a_{10} + a_{11}^{2}}} & \\frac{\\left(- a_{00} + a_{11} + \\sqrt{a_{00}^{2} - 2 a_{00} a_{11} + 4 a_{01} a_{10} + a_{11}^{2}}\\right) \\left(\\frac{a_{00}}{2} + \\frac{a_{11}}{2} + \\frac{\\sqrt{a_{00}^{2} - 2 a_{00} a_{11} + 4 a_{01} a_{10} + a_{11}^{2}}}{2}\\right) \\left(a_{00} - a_{11} + \\sqrt{a_{00}^{2} - 2 a_{00} a_{11} + 4 a_{01} a_{10} + a_{11}^{2}}\\right)}{4 a_{10} \\sqrt{a_{00}^{2} - 2 a_{00} a_{11} + 4 a_{01} a_{10} + a_{11}^{2}}} + \\frac{\\left(\\frac{a_{00}}{2} + \\frac{a_{11}}{2} - \\frac{\\sqrt{a_{00}^{2} - 2 a_{00} a_{11} + 4 a_{01} a_{10} + a_{11}^{2}}}{2}\\right) \\left(a_{00} - a_{11} - \\sqrt{a_{00}^{2} - 2 a_{00} a_{11} + 4 a_{01} a_{10} + a_{11}^{2}}\\right) \\left(a_{00} - a_{11} + \\sqrt{a_{00}^{2} - 2 a_{00} a_{11} + 4 a_{01} a_{10} + a_{11}^{2}}\\right)}{4 a_{10} \\sqrt{a_{00}^{2} - 2 a_{00} a_{11} + 4 a_{01} a_{10} + a_{11}^{2}}}\\\\- \\frac{a_{10} \\left(\\frac{a_{00}}{2} + \\frac{a_{11}}{2} - \\frac{\\sqrt{a_{00}^{2} - 2 a_{00} a_{11} + 4 a_{01} a_{10} + a_{11}^{2}}}{2}\\right)}{\\sqrt{a_{00}^{2} - 2 a_{00} a_{11} + 4 a_{01} a_{10} + a_{11}^{2}}} + \\frac{a_{10} \\left(\\frac{a_{00}}{2} + \\frac{a_{11}}{2} + \\frac{\\sqrt{a_{00}^{2} - 2 a_{00} a_{11} + 4 a_{01} a_{10} + a_{11}^{2}}}{2}\\right)}{\\sqrt{a_{00}^{2} - 2 a_{00} a_{11} + 4 a_{01} a_{10} + a_{11}^{2}}} & \\frac{\\left(- a_{00} + a_{11} + \\sqrt{a_{00}^{2} - 2 a_{00} a_{11} + 4 a_{01} a_{10} + a_{11}^{2}}\\right) \\left(\\frac{a_{00}}{2} + \\frac{a_{11}}{2} + \\frac{\\sqrt{a_{00}^{2} - 2 a_{00} a_{11} + 4 a_{01} a_{10} + a_{11}^{2}}}{2}\\right)}{2 \\sqrt{a_{00}^{2} - 2 a_{00} a_{11} + 4 a_{01} a_{10} + a_{11}^{2}}} + \\frac{\\left(\\frac{a_{00}}{2} + \\frac{a_{11}}{2} - \\frac{\\sqrt{a_{00}^{2} - 2 a_{00} a_{11} + 4 a_{01} a_{10} + a_{11}^{2}}}{2}\\right) \\left(a_{00} - a_{11} + \\sqrt{a_{00}^{2} - 2 a_{00} a_{11} + 4 a_{01} a_{10} + a_{11}^{2}}\\right)}{2 \\sqrt{a_{00}^{2} - 2 a_{00} a_{11} + 4 a_{01} a_{10} + a_{11}^{2}}}\\end{matrix}\\right]$"
      ],
      "text/plain": [
       "Matrix([\n",
       "[-(a00/2 + a11/2 - sqrt(a00**2 - 2*a00*a11 + 4*a01*a10 + a11**2)/2)*(a00 - a11 - sqrt(a00**2 - 2*a00*a11 + 4*a01*a10 + a11**2))/(2*sqrt(a00**2 - 2*a00*a11 + 4*a01*a10 + a11**2)) + (a00/2 + a11/2 + sqrt(a00**2 - 2*a00*a11 + 4*a01*a10 + a11**2)/2)*(a00 - a11 + sqrt(a00**2 - 2*a00*a11 + 4*a01*a10 + a11**2))/(2*sqrt(a00**2 - 2*a00*a11 + 4*a01*a10 + a11**2)), (-a00 + a11 + sqrt(a00**2 - 2*a00*a11 + 4*a01*a10 + a11**2))*(a00/2 + a11/2 + sqrt(a00**2 - 2*a00*a11 + 4*a01*a10 + a11**2)/2)*(a00 - a11 + sqrt(a00**2 - 2*a00*a11 + 4*a01*a10 + a11**2))/(4*a10*sqrt(a00**2 - 2*a00*a11 + 4*a01*a10 + a11**2)) + (a00/2 + a11/2 - sqrt(a00**2 - 2*a00*a11 + 4*a01*a10 + a11**2)/2)*(a00 - a11 - sqrt(a00**2 - 2*a00*a11 + 4*a01*a10 + a11**2))*(a00 - a11 + sqrt(a00**2 - 2*a00*a11 + 4*a01*a10 + a11**2))/(4*a10*sqrt(a00**2 - 2*a00*a11 + 4*a01*a10 + a11**2))],\n",
       "[                                                                                                                        -a10*(a00/2 + a11/2 - sqrt(a00**2 - 2*a00*a11 + 4*a01*a10 + a11**2)/2)/sqrt(a00**2 - 2*a00*a11 + 4*a01*a10 + a11**2) + a10*(a00/2 + a11/2 + sqrt(a00**2 - 2*a00*a11 + 4*a01*a10 + a11**2)/2)/sqrt(a00**2 - 2*a00*a11 + 4*a01*a10 + a11**2),                                                                                                                                 (-a00 + a11 + sqrt(a00**2 - 2*a00*a11 + 4*a01*a10 + a11**2))*(a00/2 + a11/2 + sqrt(a00**2 - 2*a00*a11 + 4*a01*a10 + a11**2)/2)/(2*sqrt(a00**2 - 2*a00*a11 + 4*a01*a10 + a11**2)) + (a00/2 + a11/2 - sqrt(a00**2 - 2*a00*a11 + 4*a01*a10 + a11**2)/2)*(a00 - a11 + sqrt(a00**2 - 2*a00*a11 + 4*a01*a10 + a11**2))/(2*sqrt(a00**2 - 2*a00*a11 + 4*a01*a10 + a11**2))]])"
      ]
     },
     "execution_count": 141,
     "metadata": {},
     "output_type": "execute_result"
    }
   ],
   "source": [
    "P*D*P.inv()"
   ]
  },
  {
   "cell_type": "code",
   "execution_count": 144,
   "id": "e941fb29-e673-46cd-9362-7a2ccaebf6ef",
   "metadata": {},
   "outputs": [],
   "source": [
    "P,D= (A*A.T).diagonalize()"
   ]
  },
  {
   "cell_type": "code",
   "execution_count": 145,
   "id": "188f0c9f-304a-41f8-bc5d-6b48cccb4537",
   "metadata": {},
   "outputs": [
    {
     "data": {
      "text/latex": [
       "$\\displaystyle \\left[\\begin{matrix}\\frac{a_{00}^{2} + a_{01}^{2} - a_{10}^{2} - a_{11}^{2} - \\sqrt{\\left(a_{00}^{2} - 2 a_{00} a_{11} + a_{01}^{2} + 2 a_{01} a_{10} + a_{10}^{2} + a_{11}^{2}\\right) \\left(a_{00}^{2} + 2 a_{00} a_{11} + a_{01}^{2} - 2 a_{01} a_{10} + a_{10}^{2} + a_{11}^{2}\\right)}}{2 \\left(a_{00} a_{10} + a_{01} a_{11}\\right)} & \\frac{a_{00}^{2} + a_{01}^{2} - a_{10}^{2} - a_{11}^{2} + \\sqrt{\\left(a_{00}^{2} - 2 a_{00} a_{11} + a_{01}^{2} + 2 a_{01} a_{10} + a_{10}^{2} + a_{11}^{2}\\right) \\left(a_{00}^{2} + 2 a_{00} a_{11} + a_{01}^{2} - 2 a_{01} a_{10} + a_{10}^{2} + a_{11}^{2}\\right)}}{2 \\left(a_{00} a_{10} + a_{01} a_{11}\\right)}\\\\1 & 1\\end{matrix}\\right]$"
      ],
      "text/plain": [
       "Matrix([\n",
       "[(a00**2 + a01**2 - a10**2 - a11**2 - sqrt((a00**2 - 2*a00*a11 + a01**2 + 2*a01*a10 + a10**2 + a11**2)*(a00**2 + 2*a00*a11 + a01**2 - 2*a01*a10 + a10**2 + a11**2)))/(2*(a00*a10 + a01*a11)), (a00**2 + a01**2 - a10**2 - a11**2 + sqrt((a00**2 - 2*a00*a11 + a01**2 + 2*a01*a10 + a10**2 + a11**2)*(a00**2 + 2*a00*a11 + a01**2 - 2*a01*a10 + a10**2 + a11**2)))/(2*(a00*a10 + a01*a11))],\n",
       "[                                                                                                                                                                                          1,                                                                                                                                                                                           1]])"
      ]
     },
     "execution_count": 145,
     "metadata": {},
     "output_type": "execute_result"
    }
   ],
   "source": [
    "P\n"
   ]
  },
  {
   "cell_type": "code",
   "execution_count": 146,
   "id": "f26110f5-5f95-4cf5-9c8d-b6be95bfa032",
   "metadata": {},
   "outputs": [
    {
     "data": {
      "text/latex": [
       "$\\displaystyle \\left[\\begin{matrix}\\frac{a_{00}^{2}}{2} + \\frac{a_{01}^{2}}{2} + \\frac{a_{10}^{2}}{2} + \\frac{a_{11}^{2}}{2} - \\frac{\\sqrt{\\left(a_{00}^{2} - 2 a_{00} a_{11} + a_{01}^{2} + 2 a_{01} a_{10} + a_{10}^{2} + a_{11}^{2}\\right) \\left(a_{00}^{2} + 2 a_{00} a_{11} + a_{01}^{2} - 2 a_{01} a_{10} + a_{10}^{2} + a_{11}^{2}\\right)}}{2} & 0\\\\0 & \\frac{a_{00}^{2}}{2} + \\frac{a_{01}^{2}}{2} + \\frac{a_{10}^{2}}{2} + \\frac{a_{11}^{2}}{2} + \\frac{\\sqrt{\\left(a_{00}^{2} - 2 a_{00} a_{11} + a_{01}^{2} + 2 a_{01} a_{10} + a_{10}^{2} + a_{11}^{2}\\right) \\left(a_{00}^{2} + 2 a_{00} a_{11} + a_{01}^{2} - 2 a_{01} a_{10} + a_{10}^{2} + a_{11}^{2}\\right)}}{2}\\end{matrix}\\right]$"
      ],
      "text/plain": [
       "Matrix([\n",
       "[a00**2/2 + a01**2/2 + a10**2/2 + a11**2/2 - sqrt((a00**2 - 2*a00*a11 + a01**2 + 2*a01*a10 + a10**2 + a11**2)*(a00**2 + 2*a00*a11 + a01**2 - 2*a01*a10 + a10**2 + a11**2))/2,                                                                                                                                                                           0],\n",
       "[                                                                                                                                                                          0, a00**2/2 + a01**2/2 + a10**2/2 + a11**2/2 + sqrt((a00**2 - 2*a00*a11 + a01**2 + 2*a01*a10 + a10**2 + a11**2)*(a00**2 + 2*a00*a11 + a01**2 - 2*a01*a10 + a10**2 + a11**2))/2]])"
      ]
     },
     "execution_count": 146,
     "metadata": {},
     "output_type": "execute_result"
    }
   ],
   "source": [
    "D"
   ]
  },
  {
   "cell_type": "code",
   "execution_count": 147,
   "id": "bbb71c9e-16f6-48d5-8e64-575751a3797a",
   "metadata": {},
   "outputs": [
    {
     "data": {
      "text/latex": [
       "$\\displaystyle \\left[\\begin{matrix}\\frac{- a_{00} a_{10} - a_{01} a_{11}}{\\sqrt{a_{00}^{4} + 2 a_{00}^{2} a_{01}^{2} + 2 a_{00}^{2} a_{10}^{2} - 2 a_{00}^{2} a_{11}^{2} + 8 a_{00} a_{01} a_{10} a_{11} + a_{01}^{4} - 2 a_{01}^{2} a_{10}^{2} + 2 a_{01}^{2} a_{11}^{2} + a_{10}^{4} + 2 a_{10}^{2} a_{11}^{2} + a_{11}^{4}}} & \\frac{a_{00}^{2} + a_{01}^{2} - a_{10}^{2} - a_{11}^{2} + \\sqrt{a_{00}^{4} + 2 a_{00}^{2} a_{01}^{2} + 2 a_{00}^{2} a_{10}^{2} - 2 a_{00}^{2} a_{11}^{2} + 8 a_{00} a_{01} a_{10} a_{11} + a_{01}^{4} - 2 a_{01}^{2} a_{10}^{2} + 2 a_{01}^{2} a_{11}^{2} + a_{10}^{4} + 2 a_{10}^{2} a_{11}^{2} + a_{11}^{4}}}{2 \\sqrt{a_{00}^{4} + 2 a_{00}^{2} a_{01}^{2} + 2 a_{00}^{2} a_{10}^{2} - 2 a_{00}^{2} a_{11}^{2} + 8 a_{00} a_{01} a_{10} a_{11} + a_{01}^{4} - 2 a_{01}^{2} a_{10}^{2} + 2 a_{01}^{2} a_{11}^{2} + a_{10}^{4} + 2 a_{10}^{2} a_{11}^{2} + a_{11}^{4}}}\\\\\\frac{a_{00} a_{10} + a_{01} a_{11}}{\\sqrt{a_{00}^{4} + 2 a_{00}^{2} a_{01}^{2} + 2 a_{00}^{2} a_{10}^{2} - 2 a_{00}^{2} a_{11}^{2} + 8 a_{00} a_{01} a_{10} a_{11} + a_{01}^{4} - 2 a_{01}^{2} a_{10}^{2} + 2 a_{01}^{2} a_{11}^{2} + a_{10}^{4} + 2 a_{10}^{2} a_{11}^{2} + a_{11}^{4}}} & \\frac{- a_{00}^{2} - a_{01}^{2} + a_{10}^{2} + a_{11}^{2} + \\sqrt{a_{00}^{4} + 2 a_{00}^{2} a_{01}^{2} + 2 a_{00}^{2} a_{10}^{2} - 2 a_{00}^{2} a_{11}^{2} + 8 a_{00} a_{01} a_{10} a_{11} + a_{01}^{4} - 2 a_{01}^{2} a_{10}^{2} + 2 a_{01}^{2} a_{11}^{2} + a_{10}^{4} + 2 a_{10}^{2} a_{11}^{2} + a_{11}^{4}}}{2 \\sqrt{a_{00}^{4} + 2 a_{00}^{2} a_{01}^{2} + 2 a_{00}^{2} a_{10}^{2} - 2 a_{00}^{2} a_{11}^{2} + 8 a_{00} a_{01} a_{10} a_{11} + a_{01}^{4} - 2 a_{01}^{2} a_{10}^{2} + 2 a_{01}^{2} a_{11}^{2} + a_{10}^{4} + 2 a_{10}^{2} a_{11}^{2} + a_{11}^{4}}}\\end{matrix}\\right]$"
      ],
      "text/plain": [
       "Matrix([\n",
       "[(-a00*a10 - a01*a11)/sqrt(a00**4 + 2*a00**2*a01**2 + 2*a00**2*a10**2 - 2*a00**2*a11**2 + 8*a00*a01*a10*a11 + a01**4 - 2*a01**2*a10**2 + 2*a01**2*a11**2 + a10**4 + 2*a10**2*a11**2 + a11**4),  (a00**2 + a01**2 - a10**2 - a11**2 + sqrt(a00**4 + 2*a00**2*a01**2 + 2*a00**2*a10**2 - 2*a00**2*a11**2 + 8*a00*a01*a10*a11 + a01**4 - 2*a01**2*a10**2 + 2*a01**2*a11**2 + a10**4 + 2*a10**2*a11**2 + a11**4))/(2*sqrt(a00**4 + 2*a00**2*a01**2 + 2*a00**2*a10**2 - 2*a00**2*a11**2 + 8*a00*a01*a10*a11 + a01**4 - 2*a01**2*a10**2 + 2*a01**2*a11**2 + a10**4 + 2*a10**2*a11**2 + a11**4))],\n",
       "[ (a00*a10 + a01*a11)/sqrt(a00**4 + 2*a00**2*a01**2 + 2*a00**2*a10**2 - 2*a00**2*a11**2 + 8*a00*a01*a10*a11 + a01**4 - 2*a01**2*a10**2 + 2*a01**2*a11**2 + a10**4 + 2*a10**2*a11**2 + a11**4), (-a00**2 - a01**2 + a10**2 + a11**2 + sqrt(a00**4 + 2*a00**2*a01**2 + 2*a00**2*a10**2 - 2*a00**2*a11**2 + 8*a00*a01*a10*a11 + a01**4 - 2*a01**2*a10**2 + 2*a01**2*a11**2 + a10**4 + 2*a10**2*a11**2 + a11**4))/(2*sqrt(a00**4 + 2*a00**2*a01**2 + 2*a00**2*a10**2 - 2*a00**2*a11**2 + 8*a00*a01*a10*a11 + a01**4 - 2*a01**2*a10**2 + 2*a01**2*a11**2 + a10**4 + 2*a10**2*a11**2 + a11**4))]])"
      ]
     },
     "execution_count": 147,
     "metadata": {},
     "output_type": "execute_result"
    }
   ],
   "source": [
    "P.inv()"
   ]
  },
  {
   "cell_type": "code",
   "execution_count": 148,
   "id": "a0ee0ddf-b582-4ee2-8199-cd255f5b7fd7",
   "metadata": {},
   "outputs": [
    {
     "data": {
      "text/latex": [
       "$\\displaystyle \\left[\\begin{matrix}\\frac{\\left(- a_{00} a_{10} - a_{01} a_{11}\\right) \\left(\\frac{a_{00}^{2}}{2} + \\frac{a_{01}^{2}}{2} + \\frac{a_{10}^{2}}{2} + \\frac{a_{11}^{2}}{2} - \\frac{\\sqrt{\\left(a_{00}^{2} - 2 a_{00} a_{11} + a_{01}^{2} + 2 a_{01} a_{10} + a_{10}^{2} + a_{11}^{2}\\right) \\left(a_{00}^{2} + 2 a_{00} a_{11} + a_{01}^{2} - 2 a_{01} a_{10} + a_{10}^{2} + a_{11}^{2}\\right)}}{2}\\right) \\left(a_{00}^{2} + a_{01}^{2} - a_{10}^{2} - a_{11}^{2} - \\sqrt{\\left(a_{00}^{2} - 2 a_{00} a_{11} + a_{01}^{2} + 2 a_{01} a_{10} + a_{10}^{2} + a_{11}^{2}\\right) \\left(a_{00}^{2} + 2 a_{00} a_{11} + a_{01}^{2} - 2 a_{01} a_{10} + a_{10}^{2} + a_{11}^{2}\\right)}\\right)}{2 \\left(a_{00} a_{10} + a_{01} a_{11}\\right) \\sqrt{a_{00}^{4} + 2 a_{00}^{2} a_{01}^{2} + 2 a_{00}^{2} a_{10}^{2} - 2 a_{00}^{2} a_{11}^{2} + 8 a_{00} a_{01} a_{10} a_{11} + a_{01}^{4} - 2 a_{01}^{2} a_{10}^{2} + 2 a_{01}^{2} a_{11}^{2} + a_{10}^{4} + 2 a_{10}^{2} a_{11}^{2} + a_{11}^{4}}} + \\frac{\\left(\\frac{a_{00}^{2}}{2} + \\frac{a_{01}^{2}}{2} + \\frac{a_{10}^{2}}{2} + \\frac{a_{11}^{2}}{2} + \\frac{\\sqrt{\\left(a_{00}^{2} - 2 a_{00} a_{11} + a_{01}^{2} + 2 a_{01} a_{10} + a_{10}^{2} + a_{11}^{2}\\right) \\left(a_{00}^{2} + 2 a_{00} a_{11} + a_{01}^{2} - 2 a_{01} a_{10} + a_{10}^{2} + a_{11}^{2}\\right)}}{2}\\right) \\left(a_{00}^{2} + a_{01}^{2} - a_{10}^{2} - a_{11}^{2} + \\sqrt{\\left(a_{00}^{2} - 2 a_{00} a_{11} + a_{01}^{2} + 2 a_{01} a_{10} + a_{10}^{2} + a_{11}^{2}\\right) \\left(a_{00}^{2} + 2 a_{00} a_{11} + a_{01}^{2} - 2 a_{01} a_{10} + a_{10}^{2} + a_{11}^{2}\\right)}\\right)}{2 \\sqrt{a_{00}^{4} + 2 a_{00}^{2} a_{01}^{2} + 2 a_{00}^{2} a_{10}^{2} - 2 a_{00}^{2} a_{11}^{2} + 8 a_{00} a_{01} a_{10} a_{11} + a_{01}^{4} - 2 a_{01}^{2} a_{10}^{2} + 2 a_{01}^{2} a_{11}^{2} + a_{10}^{4} + 2 a_{10}^{2} a_{11}^{2} + a_{11}^{4}}} & \\frac{\\left(- a_{00}^{2} - a_{01}^{2} + a_{10}^{2} + a_{11}^{2} + \\sqrt{a_{00}^{4} + 2 a_{00}^{2} a_{01}^{2} + 2 a_{00}^{2} a_{10}^{2} - 2 a_{00}^{2} a_{11}^{2} + 8 a_{00} a_{01} a_{10} a_{11} + a_{01}^{4} - 2 a_{01}^{2} a_{10}^{2} + 2 a_{01}^{2} a_{11}^{2} + a_{10}^{4} + 2 a_{10}^{2} a_{11}^{2} + a_{11}^{4}}\\right) \\left(\\frac{a_{00}^{2}}{2} + \\frac{a_{01}^{2}}{2} + \\frac{a_{10}^{2}}{2} + \\frac{a_{11}^{2}}{2} + \\frac{\\sqrt{\\left(a_{00}^{2} - 2 a_{00} a_{11} + a_{01}^{2} + 2 a_{01} a_{10} + a_{10}^{2} + a_{11}^{2}\\right) \\left(a_{00}^{2} + 2 a_{00} a_{11} + a_{01}^{2} - 2 a_{01} a_{10} + a_{10}^{2} + a_{11}^{2}\\right)}}{2}\\right) \\left(a_{00}^{2} + a_{01}^{2} - a_{10}^{2} - a_{11}^{2} + \\sqrt{\\left(a_{00}^{2} - 2 a_{00} a_{11} + a_{01}^{2} + 2 a_{01} a_{10} + a_{10}^{2} + a_{11}^{2}\\right) \\left(a_{00}^{2} + 2 a_{00} a_{11} + a_{01}^{2} - 2 a_{01} a_{10} + a_{10}^{2} + a_{11}^{2}\\right)}\\right)}{4 \\left(a_{00} a_{10} + a_{01} a_{11}\\right) \\sqrt{a_{00}^{4} + 2 a_{00}^{2} a_{01}^{2} + 2 a_{00}^{2} a_{10}^{2} - 2 a_{00}^{2} a_{11}^{2} + 8 a_{00} a_{01} a_{10} a_{11} + a_{01}^{4} - 2 a_{01}^{2} a_{10}^{2} + 2 a_{01}^{2} a_{11}^{2} + a_{10}^{4} + 2 a_{10}^{2} a_{11}^{2} + a_{11}^{4}}} + \\frac{\\left(\\frac{a_{00}^{2}}{2} + \\frac{a_{01}^{2}}{2} + \\frac{a_{10}^{2}}{2} + \\frac{a_{11}^{2}}{2} - \\frac{\\sqrt{\\left(a_{00}^{2} - 2 a_{00} a_{11} + a_{01}^{2} + 2 a_{01} a_{10} + a_{10}^{2} + a_{11}^{2}\\right) \\left(a_{00}^{2} + 2 a_{00} a_{11} + a_{01}^{2} - 2 a_{01} a_{10} + a_{10}^{2} + a_{11}^{2}\\right)}}{2}\\right) \\left(a_{00}^{2} + a_{01}^{2} - a_{10}^{2} - a_{11}^{2} - \\sqrt{\\left(a_{00}^{2} - 2 a_{00} a_{11} + a_{01}^{2} + 2 a_{01} a_{10} + a_{10}^{2} + a_{11}^{2}\\right) \\left(a_{00}^{2} + 2 a_{00} a_{11} + a_{01}^{2} - 2 a_{01} a_{10} + a_{10}^{2} + a_{11}^{2}\\right)}\\right) \\left(a_{00}^{2} + a_{01}^{2} - a_{10}^{2} - a_{11}^{2} + \\sqrt{a_{00}^{4} + 2 a_{00}^{2} a_{01}^{2} + 2 a_{00}^{2} a_{10}^{2} - 2 a_{00}^{2} a_{11}^{2} + 8 a_{00} a_{01} a_{10} a_{11} + a_{01}^{4} - 2 a_{01}^{2} a_{10}^{2} + 2 a_{01}^{2} a_{11}^{2} + a_{10}^{4} + 2 a_{10}^{2} a_{11}^{2} + a_{11}^{4}}\\right)}{4 \\left(a_{00} a_{10} + a_{01} a_{11}\\right) \\sqrt{a_{00}^{4} + 2 a_{00}^{2} a_{01}^{2} + 2 a_{00}^{2} a_{10}^{2} - 2 a_{00}^{2} a_{11}^{2} + 8 a_{00} a_{01} a_{10} a_{11} + a_{01}^{4} - 2 a_{01}^{2} a_{10}^{2} + 2 a_{01}^{2} a_{11}^{2} + a_{10}^{4} + 2 a_{10}^{2} a_{11}^{2} + a_{11}^{4}}}\\\\\\frac{\\left(- a_{00} a_{10} - a_{01} a_{11}\\right) \\left(\\frac{a_{00}^{2}}{2} + \\frac{a_{01}^{2}}{2} + \\frac{a_{10}^{2}}{2} + \\frac{a_{11}^{2}}{2} - \\frac{\\sqrt{\\left(a_{00}^{2} - 2 a_{00} a_{11} + a_{01}^{2} + 2 a_{01} a_{10} + a_{10}^{2} + a_{11}^{2}\\right) \\left(a_{00}^{2} + 2 a_{00} a_{11} + a_{01}^{2} - 2 a_{01} a_{10} + a_{10}^{2} + a_{11}^{2}\\right)}}{2}\\right)}{\\sqrt{a_{00}^{4} + 2 a_{00}^{2} a_{01}^{2} + 2 a_{00}^{2} a_{10}^{2} - 2 a_{00}^{2} a_{11}^{2} + 8 a_{00} a_{01} a_{10} a_{11} + a_{01}^{4} - 2 a_{01}^{2} a_{10}^{2} + 2 a_{01}^{2} a_{11}^{2} + a_{10}^{4} + 2 a_{10}^{2} a_{11}^{2} + a_{11}^{4}}} + \\frac{\\left(a_{00} a_{10} + a_{01} a_{11}\\right) \\left(\\frac{a_{00}^{2}}{2} + \\frac{a_{01}^{2}}{2} + \\frac{a_{10}^{2}}{2} + \\frac{a_{11}^{2}}{2} + \\frac{\\sqrt{\\left(a_{00}^{2} - 2 a_{00} a_{11} + a_{01}^{2} + 2 a_{01} a_{10} + a_{10}^{2} + a_{11}^{2}\\right) \\left(a_{00}^{2} + 2 a_{00} a_{11} + a_{01}^{2} - 2 a_{01} a_{10} + a_{10}^{2} + a_{11}^{2}\\right)}}{2}\\right)}{\\sqrt{a_{00}^{4} + 2 a_{00}^{2} a_{01}^{2} + 2 a_{00}^{2} a_{10}^{2} - 2 a_{00}^{2} a_{11}^{2} + 8 a_{00} a_{01} a_{10} a_{11} + a_{01}^{4} - 2 a_{01}^{2} a_{10}^{2} + 2 a_{01}^{2} a_{11}^{2} + a_{10}^{4} + 2 a_{10}^{2} a_{11}^{2} + a_{11}^{4}}} & \\frac{\\left(- a_{00}^{2} - a_{01}^{2} + a_{10}^{2} + a_{11}^{2} + \\sqrt{a_{00}^{4} + 2 a_{00}^{2} a_{01}^{2} + 2 a_{00}^{2} a_{10}^{2} - 2 a_{00}^{2} a_{11}^{2} + 8 a_{00} a_{01} a_{10} a_{11} + a_{01}^{4} - 2 a_{01}^{2} a_{10}^{2} + 2 a_{01}^{2} a_{11}^{2} + a_{10}^{4} + 2 a_{10}^{2} a_{11}^{2} + a_{11}^{4}}\\right) \\left(\\frac{a_{00}^{2}}{2} + \\frac{a_{01}^{2}}{2} + \\frac{a_{10}^{2}}{2} + \\frac{a_{11}^{2}}{2} + \\frac{\\sqrt{\\left(a_{00}^{2} - 2 a_{00} a_{11} + a_{01}^{2} + 2 a_{01} a_{10} + a_{10}^{2} + a_{11}^{2}\\right) \\left(a_{00}^{2} + 2 a_{00} a_{11} + a_{01}^{2} - 2 a_{01} a_{10} + a_{10}^{2} + a_{11}^{2}\\right)}}{2}\\right)}{2 \\sqrt{a_{00}^{4} + 2 a_{00}^{2} a_{01}^{2} + 2 a_{00}^{2} a_{10}^{2} - 2 a_{00}^{2} a_{11}^{2} + 8 a_{00} a_{01} a_{10} a_{11} + a_{01}^{4} - 2 a_{01}^{2} a_{10}^{2} + 2 a_{01}^{2} a_{11}^{2} + a_{10}^{4} + 2 a_{10}^{2} a_{11}^{2} + a_{11}^{4}}} + \\frac{\\left(\\frac{a_{00}^{2}}{2} + \\frac{a_{01}^{2}}{2} + \\frac{a_{10}^{2}}{2} + \\frac{a_{11}^{2}}{2} - \\frac{\\sqrt{\\left(a_{00}^{2} - 2 a_{00} a_{11} + a_{01}^{2} + 2 a_{01} a_{10} + a_{10}^{2} + a_{11}^{2}\\right) \\left(a_{00}^{2} + 2 a_{00} a_{11} + a_{01}^{2} - 2 a_{01} a_{10} + a_{10}^{2} + a_{11}^{2}\\right)}}{2}\\right) \\left(a_{00}^{2} + a_{01}^{2} - a_{10}^{2} - a_{11}^{2} + \\sqrt{a_{00}^{4} + 2 a_{00}^{2} a_{01}^{2} + 2 a_{00}^{2} a_{10}^{2} - 2 a_{00}^{2} a_{11}^{2} + 8 a_{00} a_{01} a_{10} a_{11} + a_{01}^{4} - 2 a_{01}^{2} a_{10}^{2} + 2 a_{01}^{2} a_{11}^{2} + a_{10}^{4} + 2 a_{10}^{2} a_{11}^{2} + a_{11}^{4}}\\right)}{2 \\sqrt{a_{00}^{4} + 2 a_{00}^{2} a_{01}^{2} + 2 a_{00}^{2} a_{10}^{2} - 2 a_{00}^{2} a_{11}^{2} + 8 a_{00} a_{01} a_{10} a_{11} + a_{01}^{4} - 2 a_{01}^{2} a_{10}^{2} + 2 a_{01}^{2} a_{11}^{2} + a_{10}^{4} + 2 a_{10}^{2} a_{11}^{2} + a_{11}^{4}}}\\end{matrix}\\right]$"
      ],
      "text/plain": [
       "Matrix([\n",
       "[(-a00*a10 - a01*a11)*(a00**2/2 + a01**2/2 + a10**2/2 + a11**2/2 - sqrt((a00**2 - 2*a00*a11 + a01**2 + 2*a01*a10 + a10**2 + a11**2)*(a00**2 + 2*a00*a11 + a01**2 - 2*a01*a10 + a10**2 + a11**2))/2)*(a00**2 + a01**2 - a10**2 - a11**2 - sqrt((a00**2 - 2*a00*a11 + a01**2 + 2*a01*a10 + a10**2 + a11**2)*(a00**2 + 2*a00*a11 + a01**2 - 2*a01*a10 + a10**2 + a11**2)))/(2*(a00*a10 + a01*a11)*sqrt(a00**4 + 2*a00**2*a01**2 + 2*a00**2*a10**2 - 2*a00**2*a11**2 + 8*a00*a01*a10*a11 + a01**4 - 2*a01**2*a10**2 + 2*a01**2*a11**2 + a10**4 + 2*a10**2*a11**2 + a11**4)) + (a00**2/2 + a01**2/2 + a10**2/2 + a11**2/2 + sqrt((a00**2 - 2*a00*a11 + a01**2 + 2*a01*a10 + a10**2 + a11**2)*(a00**2 + 2*a00*a11 + a01**2 - 2*a01*a10 + a10**2 + a11**2))/2)*(a00**2 + a01**2 - a10**2 - a11**2 + sqrt((a00**2 - 2*a00*a11 + a01**2 + 2*a01*a10 + a10**2 + a11**2)*(a00**2 + 2*a00*a11 + a01**2 - 2*a01*a10 + a10**2 + a11**2)))/(2*sqrt(a00**4 + 2*a00**2*a01**2 + 2*a00**2*a10**2 - 2*a00**2*a11**2 + 8*a00*a01*a10*a11 + a01**4 - 2*a01**2*a10**2 + 2*a01**2*a11**2 + a10**4 + 2*a10**2*a11**2 + a11**4)), (-a00**2 - a01**2 + a10**2 + a11**2 + sqrt(a00**4 + 2*a00**2*a01**2 + 2*a00**2*a10**2 - 2*a00**2*a11**2 + 8*a00*a01*a10*a11 + a01**4 - 2*a01**2*a10**2 + 2*a01**2*a11**2 + a10**4 + 2*a10**2*a11**2 + a11**4))*(a00**2/2 + a01**2/2 + a10**2/2 + a11**2/2 + sqrt((a00**2 - 2*a00*a11 + a01**2 + 2*a01*a10 + a10**2 + a11**2)*(a00**2 + 2*a00*a11 + a01**2 - 2*a01*a10 + a10**2 + a11**2))/2)*(a00**2 + a01**2 - a10**2 - a11**2 + sqrt((a00**2 - 2*a00*a11 + a01**2 + 2*a01*a10 + a10**2 + a11**2)*(a00**2 + 2*a00*a11 + a01**2 - 2*a01*a10 + a10**2 + a11**2)))/(4*(a00*a10 + a01*a11)*sqrt(a00**4 + 2*a00**2*a01**2 + 2*a00**2*a10**2 - 2*a00**2*a11**2 + 8*a00*a01*a10*a11 + a01**4 - 2*a01**2*a10**2 + 2*a01**2*a11**2 + a10**4 + 2*a10**2*a11**2 + a11**4)) + (a00**2/2 + a01**2/2 + a10**2/2 + a11**2/2 - sqrt((a00**2 - 2*a00*a11 + a01**2 + 2*a01*a10 + a10**2 + a11**2)*(a00**2 + 2*a00*a11 + a01**2 - 2*a01*a10 + a10**2 + a11**2))/2)*(a00**2 + a01**2 - a10**2 - a11**2 - sqrt((a00**2 - 2*a00*a11 + a01**2 + 2*a01*a10 + a10**2 + a11**2)*(a00**2 + 2*a00*a11 + a01**2 - 2*a01*a10 + a10**2 + a11**2)))*(a00**2 + a01**2 - a10**2 - a11**2 + sqrt(a00**4 + 2*a00**2*a01**2 + 2*a00**2*a10**2 - 2*a00**2*a11**2 + 8*a00*a01*a10*a11 + a01**4 - 2*a01**2*a10**2 + 2*a01**2*a11**2 + a10**4 + 2*a10**2*a11**2 + a11**4))/(4*(a00*a10 + a01*a11)*sqrt(a00**4 + 2*a00**2*a01**2 + 2*a00**2*a10**2 - 2*a00**2*a11**2 + 8*a00*a01*a10*a11 + a01**4 - 2*a01**2*a10**2 + 2*a01**2*a11**2 + a10**4 + 2*a10**2*a11**2 + a11**4))],\n",
       "[                                                                                                                                                                                                                                                                                                                                                (-a00*a10 - a01*a11)*(a00**2/2 + a01**2/2 + a10**2/2 + a11**2/2 - sqrt((a00**2 - 2*a00*a11 + a01**2 + 2*a01*a10 + a10**2 + a11**2)*(a00**2 + 2*a00*a11 + a01**2 - 2*a01*a10 + a10**2 + a11**2))/2)/sqrt(a00**4 + 2*a00**2*a01**2 + 2*a00**2*a10**2 - 2*a00**2*a11**2 + 8*a00*a01*a10*a11 + a01**4 - 2*a01**2*a10**2 + 2*a01**2*a11**2 + a10**4 + 2*a10**2*a11**2 + a11**4) + (a00*a10 + a01*a11)*(a00**2/2 + a01**2/2 + a10**2/2 + a11**2/2 + sqrt((a00**2 - 2*a00*a11 + a01**2 + 2*a01*a10 + a10**2 + a11**2)*(a00**2 + 2*a00*a11 + a01**2 - 2*a01*a10 + a10**2 + a11**2))/2)/sqrt(a00**4 + 2*a00**2*a01**2 + 2*a00**2*a10**2 - 2*a00**2*a11**2 + 8*a00*a01*a10*a11 + a01**4 - 2*a01**2*a10**2 + 2*a01**2*a11**2 + a10**4 + 2*a10**2*a11**2 + a11**4),                                                                                                                                                                                                                                                                                                                                                                                 (-a00**2 - a01**2 + a10**2 + a11**2 + sqrt(a00**4 + 2*a00**2*a01**2 + 2*a00**2*a10**2 - 2*a00**2*a11**2 + 8*a00*a01*a10*a11 + a01**4 - 2*a01**2*a10**2 + 2*a01**2*a11**2 + a10**4 + 2*a10**2*a11**2 + a11**4))*(a00**2/2 + a01**2/2 + a10**2/2 + a11**2/2 + sqrt((a00**2 - 2*a00*a11 + a01**2 + 2*a01*a10 + a10**2 + a11**2)*(a00**2 + 2*a00*a11 + a01**2 - 2*a01*a10 + a10**2 + a11**2))/2)/(2*sqrt(a00**4 + 2*a00**2*a01**2 + 2*a00**2*a10**2 - 2*a00**2*a11**2 + 8*a00*a01*a10*a11 + a01**4 - 2*a01**2*a10**2 + 2*a01**2*a11**2 + a10**4 + 2*a10**2*a11**2 + a11**4)) + (a00**2/2 + a01**2/2 + a10**2/2 + a11**2/2 - sqrt((a00**2 - 2*a00*a11 + a01**2 + 2*a01*a10 + a10**2 + a11**2)*(a00**2 + 2*a00*a11 + a01**2 - 2*a01*a10 + a10**2 + a11**2))/2)*(a00**2 + a01**2 - a10**2 - a11**2 + sqrt(a00**4 + 2*a00**2*a01**2 + 2*a00**2*a10**2 - 2*a00**2*a11**2 + 8*a00*a01*a10*a11 + a01**4 - 2*a01**2*a10**2 + 2*a01**2*a11**2 + a10**4 + 2*a10**2*a11**2 + a11**4))/(2*sqrt(a00**4 + 2*a00**2*a01**2 + 2*a00**2*a10**2 - 2*a00**2*a11**2 + 8*a00*a01*a10*a11 + a01**4 - 2*a01**2*a10**2 + 2*a01**2*a11**2 + a10**4 + 2*a10**2*a11**2 + a11**4))]])"
      ]
     },
     "execution_count": 148,
     "metadata": {},
     "output_type": "execute_result"
    }
   ],
   "source": [
    "P*D*P.inv()"
   ]
  },
  {
   "cell_type": "code",
   "execution_count": 155,
   "id": "0b8c917d-a3a9-4ee9-a9f3-21fd52228522",
   "metadata": {},
   "outputs": [
    {
     "data": {
      "text/plain": [
       "array([[4, 1],\n",
       "       [1, 4]])"
      ]
     },
     "execution_count": 155,
     "metadata": {},
     "output_type": "execute_result"
    }
   ],
   "source": [
    "A= [[4,1],[1,4]]\n",
    "A= np.array(A)\n",
    "A"
   ]
  },
  {
   "cell_type": "code",
   "execution_count": 156,
   "id": "63acb0b2-23f3-4ea2-959c-b73ad14c58cb",
   "metadata": {},
   "outputs": [
    {
     "data": {
      "text/plain": [
       "(array([5., 3.]),\n",
       " array([[ 0.70710678, -0.70710678],\n",
       "        [ 0.70710678,  0.70710678]]))"
      ]
     },
     "execution_count": 156,
     "metadata": {},
     "output_type": "execute_result"
    }
   ],
   "source": [
    "np.linalg.eig(A)"
   ]
  },
  {
   "cell_type": "code",
   "execution_count": 157,
   "id": "d6deb61c-70dc-439a-a2ef-49a1376020b1",
   "metadata": {},
   "outputs": [
    {
     "data": {
      "text/latex": [
       "$\\displaystyle \\left[\\begin{matrix}4 & 1\\\\1 & 4\\end{matrix}\\right]$"
      ],
      "text/plain": [
       "Matrix([\n",
       "[4, 1],\n",
       "[1, 4]])"
      ]
     },
     "execution_count": 157,
     "metadata": {},
     "output_type": "execute_result"
    }
   ],
   "source": [
    "A= sm.Matrix(A)\n",
    "A"
   ]
  },
  {
   "cell_type": "code",
   "execution_count": 158,
   "id": "09cabf10-212a-4557-9d97-508eb8632289",
   "metadata": {},
   "outputs": [
    {
     "data": {
      "text/plain": [
       "(Matrix([\n",
       " [-1, 1],\n",
       " [ 1, 1]]),\n",
       " Matrix([\n",
       " [3, 0],\n",
       " [0, 5]]))"
      ]
     },
     "execution_count": 158,
     "metadata": {},
     "output_type": "execute_result"
    }
   ],
   "source": [
    "A.diagonalize()"
   ]
  },
  {
   "cell_type": "code",
   "execution_count": 160,
   "id": "74c5c233-1fd3-4f9b-b534-a70758234c4f",
   "metadata": {},
   "outputs": [
    {
     "data": {
      "text/plain": [
       "\u001b[1;31mSignature:\u001b[0m \u001b[0msm\u001b[0m\u001b[1;33m.\u001b[0m\u001b[0msingularities\u001b[0m\u001b[1;33m(\u001b[0m\u001b[0mexpression\u001b[0m\u001b[1;33m,\u001b[0m \u001b[0msymbol\u001b[0m\u001b[1;33m,\u001b[0m \u001b[0mdomain\u001b[0m\u001b[1;33m=\u001b[0m\u001b[1;32mNone\u001b[0m\u001b[1;33m)\u001b[0m\u001b[1;33m\u001b[0m\u001b[1;33m\u001b[0m\u001b[0m\n",
       "\u001b[1;31mDocstring:\u001b[0m\n",
       "Find singularities of a given function.\n",
       "\n",
       "Parameters\n",
       "==========\n",
       "\n",
       "expression : Expr\n",
       "    The target function in which singularities need to be found.\n",
       "symbol : Symbol\n",
       "    The symbol over the values of which the singularity in\n",
       "    expression in being searched for.\n",
       "\n",
       "Returns\n",
       "=======\n",
       "\n",
       "Set\n",
       "    A set of values for ``symbol`` for which ``expression`` has a\n",
       "    singularity. An ``EmptySet`` is returned if ``expression`` has no\n",
       "    singularities for any given value of ``Symbol``.\n",
       "\n",
       "Raises\n",
       "======\n",
       "\n",
       "NotImplementedError\n",
       "    Methods for determining the singularities of this function have\n",
       "    not been developed.\n",
       "\n",
       "Notes\n",
       "=====\n",
       "\n",
       "This function does not find non-isolated singularities\n",
       "nor does it find branch points of the expression.\n",
       "\n",
       "Currently supported functions are:\n",
       "    - univariate continuous (real or complex) functions\n",
       "\n",
       "References\n",
       "==========\n",
       "\n",
       ".. [1] https://en.wikipedia.org/wiki/Mathematical_singularity\n",
       "\n",
       "Examples\n",
       "========\n",
       "\n",
       ">>> from sympy.calculus.singularities import singularities\n",
       ">>> from sympy import Symbol, log\n",
       ">>> x = Symbol('x', real=True)\n",
       ">>> y = Symbol('y', real=False)\n",
       ">>> singularities(x**2 + x + 1, x)\n",
       "EmptySet\n",
       ">>> singularities(1/(x + 1), x)\n",
       "FiniteSet(-1)\n",
       ">>> singularities(1/(y**2 + 1), y)\n",
       "FiniteSet(I, -I)\n",
       ">>> singularities(1/(y**3 + 1), y)\n",
       "FiniteSet(-1, 1/2 - sqrt(3)*I/2, 1/2 + sqrt(3)*I/2)\n",
       ">>> singularities(log(x), x)\n",
       "FiniteSet(0)\n",
       "\u001b[1;31mFile:\u001b[0m      m:\\programdata\\anaconda3\\lib\\site-packages\\sympy\\calculus\\singularities.py\n",
       "\u001b[1;31mType:\u001b[0m      function\n"
      ]
     },
     "metadata": {},
     "output_type": "display_data"
    }
   ],
   "source": [
    "sm.singularities?"
   ]
  },
  {
   "cell_type": "code",
   "execution_count": null,
   "id": "65e48739-174f-4510-a50b-5b4c85977251",
   "metadata": {},
   "outputs": [],
   "source": []
  }
 ],
 "metadata": {
  "kernelspec": {
   "display_name": "Python 3",
   "language": "python",
   "name": "python3"
  },
  "language_info": {
   "codemirror_mode": {
    "name": "ipython",
    "version": 3
   },
   "file_extension": ".py",
   "mimetype": "text/x-python",
   "name": "python",
   "nbconvert_exporter": "python",
   "pygments_lexer": "ipython3",
   "version": "3.8.8"
  }
 },
 "nbformat": 4,
 "nbformat_minor": 5
}
