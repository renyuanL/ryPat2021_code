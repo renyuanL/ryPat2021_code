{
 "cells": [
  {
   "cell_type": "code",
   "execution_count": 1,
   "id": "9db637e9-20dd-4855-af99-f23474752197",
   "metadata": {},
   "outputs": [],
   "source": [
    "from ryPat import *"
   ]
  },
  {
   "cell_type": "code",
   "execution_count": 121,
   "id": "3d2978a7-5b10-4fe3-8dbf-8481351d4fe5",
   "metadata": {},
   "outputs": [
    {
     "data": {
      "image/png": "[encoded data removed]",
      "text/latex": [
       "$\\displaystyle \\left(x - 11\\right) \\left(x - 5\\right) \\left(x + 5\\right) + \\left(y - 12\\right) \\left(y - 4\\right) \\left(y + 2\\right)$"
      ],
      "text/plain": [
       "(x - 11)⋅(x - 5)⋅(x + 5) + (y - 12)⋅(y - 4)⋅(y + 2)"
      ]
     },
     "execution_count": 121,
     "metadata": {},
     "output_type": "execute_result"
    }
   ],
   "source": [
    "def f(x,y):\n",
    "    z= (x+5)*(x-5)*(x-11) + (y+2)*(y-4)*(y-12)\n",
    "    return z\n",
    "\n",
    "df_dx= f(x,y).diff(x)\n",
    "df_dy= f(x,y).diff(y)\n",
    "f(x,y)"
   ]
  },
  {
   "cell_type": "code",
   "execution_count": 118,
   "id": "e09fec4f-9dbe-4ebd-8da6-7d59f28a8288",
   "metadata": {
    "tags": []
   },
   "outputs": [
    {
     "data": {
      "text/plain": [
       "(array([[ 0.,  1.,  2.,  3.,  4.,  5.,  6.,  7.,  8.,  9., 10.],\n",
       "        [ 0.,  1.,  2.,  3.,  4.,  5.,  6.,  7.,  8.,  9., 10.],\n",
       "        [ 0.,  1.,  2.,  3.,  4.,  5.,  6.,  7.,  8.,  9., 10.],\n",
       "        [ 0.,  1.,  2.,  3.,  4.,  5.,  6.,  7.,  8.,  9., 10.],\n",
       "        [ 0.,  1.,  2.,  3.,  4.,  5.,  6.,  7.,  8.,  9., 10.],\n",
       "        [ 0.,  1.,  2.,  3.,  4.,  5.,  6.,  7.,  8.,  9., 10.],\n",
       "        [ 0.,  1.,  2.,  3.,  4.,  5.,  6.,  7.,  8.,  9., 10.],\n",
       "        [ 0.,  1.,  2.,  3.,  4.,  5.,  6.,  7.,  8.,  9., 10.],\n",
       "        [ 0.,  1.,  2.,  3.,  4.,  5.,  6.,  7.,  8.,  9., 10.],\n",
       "        [ 0.,  1.,  2.,  3.,  4.,  5.,  6.,  7.,  8.,  9., 10.],\n",
       "        [ 0.,  1.,  2.,  3.,  4.,  5.,  6.,  7.,  8.,  9., 10.]]),\n",
       " array([[ 0.,  0.,  0.,  0.,  0.,  0.,  0.,  0.,  0.,  0.,  0.],\n",
       "        [ 1.,  1.,  1.,  1.,  1.,  1.,  1.,  1.,  1.,  1.,  1.],\n",
       "        [ 2.,  2.,  2.,  2.,  2.,  2.,  2.,  2.,  2.,  2.,  2.],\n",
       "        [ 3.,  3.,  3.,  3.,  3.,  3.,  3.,  3.,  3.,  3.,  3.],\n",
       "        [ 4.,  4.,  4.,  4.,  4.,  4.,  4.,  4.,  4.,  4.,  4.],\n",
       "        [ 5.,  5.,  5.,  5.,  5.,  5.,  5.,  5.,  5.,  5.,  5.],\n",
       "        [ 6.,  6.,  6.,  6.,  6.,  6.,  6.,  6.,  6.,  6.,  6.],\n",
       "        [ 7.,  7.,  7.,  7.,  7.,  7.,  7.,  7.,  7.,  7.,  7.],\n",
       "        [ 8.,  8.,  8.,  8.,  8.,  8.,  8.,  8.,  8.,  8.,  8.],\n",
       "        [ 9.,  9.,  9.,  9.,  9.,  9.,  9.,  9.,  9.,  9.,  9.],\n",
       "        [10., 10., 10., 10., 10., 10., 10., 10., 10., 10., 10.]]))"
      ]
     },
     "execution_count": 118,
     "metadata": {},
     "output_type": "execute_result"
    }
   ],
   "source": [
    "xm, ym= np.meshgrid(\n",
    "    np.linspace(0,10,11),\n",
    "    np.linspace(0,10,11))\n",
    "xm,ym"
   ]
  },
  {
   "cell_type": "code",
   "execution_count": 122,
   "id": "d09dbd1a-fc69-4f88-b963-35dd556e786f",
   "metadata": {},
   "outputs": [],
   "source": [
    "fm= sm.lambdify((x,y), f(x,y))(xm,ym)\n",
    "um= sm.lambdify((x,y), df_dx)(xm,ym)\n",
    "vm= sm.lambdify((x,y), df_dy)(xm,ym)\n"
   ]
  },
  {
   "cell_type": "code",
   "execution_count": 123,
   "id": "78b14ebe-a389-4158-bdac-3a3d5545b6d5",
   "metadata": {},
   "outputs": [
    {
     "data": {
      "text/plain": [
       "<matplotlib.quiver.Quiver at 0x2d235633640>"
      ]
     },
     "execution_count": 123,
     "metadata": {},
     "output_type": "execute_result"
    }
   ],
   "source": [
    "%matplotlib qt\n",
    "pl.imshow(fm, origin='lower',cmap='rainbow')\n",
    "pl.quiver(xm,ym,um,vm)"
   ]
  },
  {
   "cell_type": "code",
   "execution_count": 127,
   "id": "d3231cde-e15e-487b-90fc-f16a0edb153b",
   "metadata": {},
   "outputs": [],
   "source": [
    "q= sm.plotting.plot3d(f(x,y), df_dx, df_dy, (x, 0,10),(y,0,10), xlabel='x', ylabel='y', show=False)\n",
    "q.show()"
   ]
  },
  {
   "cell_type": "code",
   "execution_count": 61,
   "id": "65872527-f83b-4152-864d-1531cde10f1f",
   "metadata": {},
   "outputs": [],
   "source": [
    "#q.backend\n",
    "#q._backend.plt.set_cmap('rainbow')\n",
    "#q.show()"
   ]
  },
  {
   "cell_type": "code",
   "execution_count": 94,
   "id": "8998bf48-b682-47e8-a49e-24372a951ee3",
   "metadata": {},
   "outputs": [
    {
     "data": {
      "text/plain": [
       "<sympy.plotting.plot.Plot at 0x2d238bf06d0>"
      ]
     },
     "execution_count": 94,
     "metadata": {},
     "output_type": "execute_result"
    }
   ],
   "source": [
    "q"
   ]
  },
  {
   "cell_type": "markdown",
   "id": "de9fdf22-3e0e-4377-9195-d04ee44b07a1",
   "metadata": {},
   "source": [
    "# Ref: 3d Vector Field \n",
    "- https://krajit.github.io/sympy/vectorFields/vectorFields.html\n"
   ]
  },
  {
   "cell_type": "code",
   "execution_count": 166,
   "id": "d06179fb-a9ea-448d-9b70-ed000ec0d113",
   "metadata": {},
   "outputs": [],
   "source": [
    "%reset -f\n",
    "from mpl_toolkits.mplot3d import axes3d\n",
    "import matplotlib.pyplot as pl\n",
    "import numpy as np\n",
    "#%matplotlib inline\n",
    "\n",
    "%matplotlib qt\n",
    "\n",
    "fg= pl.figure()\n",
    "ax=  fg.gca(projection='3d')\n",
    "\n",
    "x, y, z= np.meshgrid(np.arange(-5, 5),\n",
    "                     np.arange(-5, 5),\n",
    "                     np.arange(-5, 5)\n",
    "                    )\n",
    "\n",
    "π= np.pi\n",
    "\n",
    "f= x+2*y+3*z\n",
    "u= 1\n",
    "v= 2\n",
    "w= 3\n",
    "\n",
    "ax.quiver(x, y, z, u, v, w, length= .1, color = 'gray')\n",
    "#ax.quiver(x, y, u, v, color = 'gray')\n",
    "\n",
    "ax.set_xlabel('x')\n",
    "ax.set_ylabel('y')\n",
    "ax.set_zlabel('z')\n",
    "\n",
    "pl.show()"
   ]
  },
  {
   "cell_type": "code",
   "execution_count": 244,
   "id": "c480da66-6d64-4abe-9c2c-a5562c81f77c",
   "metadata": {},
   "outputs": [
    {
     "data": {
      "text/plain": [
       "\"\\nax.plot_surface(x,y,z, \\n                rstride= 1, \\n                cstride= 1,\\n                cmap=     'rainbow', #'viridis', #'rainbow',  \\n                edgecolor='none'\\n               )\\n\""
      ]
     },
     "execution_count": 244,
     "metadata": {},
     "output_type": "execute_result"
    }
   ],
   "source": [
    "from mpl_toolkits import mplot3d\n",
    "\n",
    "fg= pl.figure()\n",
    "\n",
    "#zz= f(xx,yy)\n",
    "\n",
    "xrange= np.arange(-10, 11)\n",
    "yrange= np.arange(-10, 11)\n",
    "\n",
    "x, y= np.meshgrid(xrange,yrange)\n",
    "\n",
    "\n",
    "#z= x**2+y**2\n",
    "\n",
    "z= x*(x-10)*(x+10) +y*(y-10)*(y+10)\n",
    "\n",
    "\n",
    "ax= pl.axes(projection='3d', \n",
    "            xlabel= 'x', \n",
    "            ylabel= 'y', \n",
    "            title=  'z= f(x,y)')\n",
    "\n",
    "ax.contour3D(x, y, z, 100, cmap='rainbow')\n",
    "\n",
    "'''\n",
    "ax.plot_surface(x,y,z, \n",
    "                rstride= 1, \n",
    "                cstride= 1,\n",
    "                cmap=     'rainbow', #'viridis', #'rainbow',  \n",
    "                edgecolor='none'\n",
    "               )\n",
    "'''"
   ]
  },
  {
   "cell_type": "code",
   "execution_count": 208,
   "id": "91c46cf2-ca36-4be0-bc85-d6761d0134e6",
   "metadata": {},
   "outputs": [
    {
     "data": {
      "text/plain": [
       "<mpl_toolkits.mplot3d.art3d.Line3DCollection at 0x2d22e36c550>"
      ]
     },
     "execution_count": 208,
     "metadata": {},
     "output_type": "execute_result"
    }
   ],
   "source": [
    "x0, y0, z0= np.meshgrid(\n",
    "    xrange,\n",
    "    yrange,\n",
    "    np.arange(0, 1)\n",
    "    )\n",
    "\n",
    "dz_dx= 2*x0\n",
    "dz_dy= 2*y0\n",
    "\n",
    "u= dz_dx\n",
    "v= dz_dy\n",
    "w= np.zeros_like(x0)\n",
    "ax.quiver(x0, y0, z0, u, v, w, length= .1, color = 'gray')"
   ]
  },
  {
   "cell_type": "code",
   "execution_count": 184,
   "id": "8f6111d2-2887-40ad-a490-601f084f359f",
   "metadata": {},
   "outputs": [],
   "source": []
  },
  {
   "cell_type": "code",
   "execution_count": 305,
   "id": "3c6be46c-d612-4006-afa7-c620d72ac9c5",
   "metadata": {},
   "outputs": [
    {
     "data": {
      "image/png": "[encoded data removed]",
      "text/latex": [
       "$\\displaystyle x \\left(x - 10\\right) \\left(x + 10\\right) + y \\left(y - 10\\right) \\left(y + 10\\right)$"
      ],
      "text/plain": [
       "x⋅(x - 10)⋅(x + 10) + y⋅(y - 10)⋅(y + 10)"
      ]
     },
     "metadata": {},
     "output_type": "display_data"
    },
    {
     "data": {
      "image/png": "[encoded data removed]",
      "text/latex": [
       "$\\displaystyle x \\left(x - 10\\right) + x \\left(x + 10\\right) + \\left(x - 10\\right) \\left(x + 10\\right)$"
      ],
      "text/plain": [
       "x⋅(x - 10) + x⋅(x + 10) + (x - 10)⋅(x + 10)"
      ]
     },
     "metadata": {},
     "output_type": "display_data"
    },
    {
     "data": {
      "image/png": "[encoded data removed]",
      "text/latex": [
       "$\\displaystyle y \\left(y - 10\\right) + y \\left(y + 10\\right) + \\left(y - 10\\right) \\left(y + 10\\right)$"
      ],
      "text/plain": [
       "y⋅(y - 10) + y⋅(y + 10) + (y - 10)⋅(y + 10)"
      ]
     },
     "metadata": {},
     "output_type": "display_data"
    },
    {
     "name": "stdout",
     "output_type": "stream",
     "text": [
      "x*(x - 10)*(x + 10) + y*(y - 10)*(y + 10)\n",
      "x*(x - 10) + x*(x + 10) + (x - 10)*(x + 10)\n",
      "y*(y - 10) + y*(y + 10) + (y - 10)*(y + 10)\n"
     ]
    },
    {
     "data": {
      "text/plain": [
       "<mpl_toolkits.mplot3d.art3d.Line3DCollection at 0x2d200030cd0>"
      ]
     },
     "execution_count": 305,
     "metadata": {},
     "output_type": "execute_result"
    }
   ],
   "source": [
    "from IPython.display import display\n",
    "\n",
    "import sympy as sm\n",
    "x,y,z= sm.symbols('x,y,z')\n",
    "\n",
    "#z= -(x**2 +y**2)\n",
    "z= x*(x-10)*(x+10) +y*(y-10)*(y+10)\n",
    "#z= sm.sin(x)/x+sm.sin(y)/y\n",
    "\n",
    "dz_dx= z.diff(x)\n",
    "dz_dy= z.diff(y)\n",
    "\n",
    "display(z)\n",
    "display(dz_dx)\n",
    "display(dz_dy)\n",
    "\n",
    "print(z)\n",
    "print(dz_dx)\n",
    "print(dz_dy)\n",
    "\n",
    "\n",
    "ϵ= 0.2\n",
    "\n",
    "xrange= np.arange(-10, 10+ϵ, ϵ)\n",
    "yrange= np.arange(-10, 10+ϵ, ϵ)\n",
    "\n",
    "xm, ym= np.meshgrid(xrange,yrange)\n",
    "zm= sm.lambdify((x,y),z)(xm,ym)\n",
    "\n",
    "fg= pl.figure()\n",
    "ax= pl.axes(projection='3d', \n",
    "            xlabel= 'x', \n",
    "            ylabel= 'y', \n",
    "            #title=  f'z= {z}'\n",
    "            title= f'z= ${sm.latex(z)}$'\n",
    "           )\n",
    "\n",
    "ax.contour3D(xm, ym, zm, 100, cmap='rainbow')\n",
    "\n",
    "#--------------------------------\n",
    "'''\n",
    "ax.plot_surface(xm,ym,zm, \n",
    "                #rstride= 1, \n",
    "                #cstride= 1,\n",
    "                cmap=     'rainbow', #'viridis', #'rainbow',  \n",
    "                edgecolor='none'\n",
    "               )\n",
    "'''\n",
    "\n",
    "#-------------------------------------------\n",
    "downSampleFactor= 5\n",
    "x0, y0, z0= np.meshgrid(\n",
    "    xrange[::downSampleFactor],\n",
    "    yrange[::downSampleFactor],\n",
    "    np.linspace(np.min(zm), np.min(zm)+1, 1)\n",
    "    )\n",
    "\n",
    "#dz_dx= 2*x0\n",
    "#dz_dy= 2*y0\n",
    "\n",
    "dz_dx_m= sm.lambdify((x,y),dz_dx)(x0,y0)\n",
    "dz_dy_m= sm.lambdify((x,y),dz_dy)(x0,y0)\n",
    "\n",
    "u= dz_dx_m\n",
    "v= dz_dy_m\n",
    "w= np.zeros_like(x0)\n",
    "ax.quiver(x0, y0, z0, \n",
    "          u, v, w, \n",
    "          length= 1/np.max([u,v]), \n",
    "          color = 'gray')"
   ]
  },
  {
   "cell_type": "code",
   "execution_count": 295,
   "id": "6c2dfbaf-9271-4ca0-afb1-488757495d5d",
   "metadata": {},
   "outputs": [
    {
     "data": {
      "image/png": "[encoded data removed]",
      "text/latex": [
       "$\\displaystyle 200.0$"
      ],
      "text/plain": [
       "200.0"
      ]
     },
     "execution_count": 295,
     "metadata": {},
     "output_type": "execute_result"
    }
   ],
   "source": [
    "np.max(v)"
   ]
  },
  {
   "cell_type": "code",
   "execution_count": 296,
   "id": "4b695598-1d78-490a-b31a-ae9a968b53c4",
   "metadata": {},
   "outputs": [
    {
     "data": {
      "image/png": "[encoded data removed]",
      "text/latex": [
       "$\\displaystyle 200.0$"
      ],
      "text/plain": [
       "200.0"
      ]
     },
     "execution_count": 296,
     "metadata": {},
     "output_type": "execute_result"
    }
   ],
   "source": [
    "np.max([u,v])"
   ]
  },
  {
   "cell_type": "code",
   "execution_count": null,
   "id": "14281fa1-5f12-4597-8f29-d2b9a99b189e",
   "metadata": {},
   "outputs": [],
   "source": []
  }
 ],
 "metadata": {
  "kernelspec": {
   "display_name": "Python 3",
   "language": "python",
   "name": "python3"
  },
  "language_info": {
   "codemirror_mode": {
    "name": "ipython",
    "version": 3
   },
   "file_extension": ".py",
   "mimetype": "text/x-python",
   "name": "python",
   "nbconvert_exporter": "python",
   "pygments_lexer": "ipython3",
   "version": "3.8.8"
  }
 },
 "nbformat": 4,
 "nbformat_minor": 5
}
