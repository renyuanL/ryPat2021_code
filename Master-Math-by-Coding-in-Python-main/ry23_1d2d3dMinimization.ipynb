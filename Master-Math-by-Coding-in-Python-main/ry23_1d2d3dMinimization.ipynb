{
 "cells": [
  {
   "cell_type": "code",
   "execution_count": 102,
   "id": "0254c9ac-1544-4f11-acdb-e7702c4f1a0e",
   "metadata": {},
   "outputs": [],
   "source": [
    "# f(x)= x^4+ 4 x^3− 79 x^2− 226 x + 720\n",
    "# x^∗=argmin_x  f(x)= ??"
   ]
  },
  {
   "cell_type": "code",
   "execution_count": 103,
   "id": "aaaba05a-ed30-485b-ac72-4c692057d0c8",
   "metadata": {},
   "outputs": [
    {
     "data": {
      "text/plain": [
       "array([1080.        , 1051.24011216, 1022.79929856, ..., 4425.26278656,\n",
       "       4492.37604816, 4560.        ])"
      ]
     },
     "execution_count": 103,
     "metadata": {},
     "output_type": "execute_result"
    }
   ],
   "source": [
    "import numpy as np\n",
    "import matplotlib.pyplot as pl\n",
    "\n",
    "def f(x):\n",
    "    y= x**4+ 4* x**3- 79 *x**2- 226 *x + 720\n",
    "    return y\n",
    "x= np.linspace(-10,10,1001) #100001)\n",
    "y= f(x)\n",
    "y"
   ]
  },
  {
   "cell_type": "code",
   "execution_count": 104,
   "id": "94fcbd52-94ce-444d-8d4e-66417df8be61",
   "metadata": {},
   "outputs": [
    {
     "data": {
      "text/plain": [
       "[<mpl_toolkits.mplot3d.art3d.Line3D at 0x24f177267f0>]"
      ]
     },
     "execution_count": 104,
     "metadata": {},
     "output_type": "execute_result"
    }
   ],
   "source": [
    "pl.plot(x,y)"
   ]
  },
  {
   "cell_type": "code",
   "execution_count": 105,
   "id": "fca3df5f-4cf3-4b3e-b0d0-ed95d446401a",
   "metadata": {},
   "outputs": [
    {
     "data": {
      "text/plain": [
       "(784, 5.68, -1338.5454182400003)"
      ]
     },
     "execution_count": 105,
     "metadata": {},
     "output_type": "execute_result"
    }
   ],
   "source": [
    "# [sol.01]\n",
    "k_star= np.argmin(y)\n",
    "k_star, x[k_star], y[k_star]"
   ]
  },
  {
   "cell_type": "code",
   "execution_count": 106,
   "id": "31c2fab7-dec5-445e-9ef5-fc19ad901ddb",
   "metadata": {},
   "outputs": [
    {
     "data": {
      "text/plain": [
       "(x**4 + 4*x**3 - 79*x**2 - 226*x + 720, 4*x**3 + 12*x**2 - 158*x - 226)"
      ]
     },
     "execution_count": 106,
     "metadata": {},
     "output_type": "execute_result"
    }
   ],
   "source": [
    "# [sol.02]\n",
    "import sympy as sm\n",
    "x= sm.symbols('x')\n",
    "df_dx= f(x).diff(x)\n",
    "f(x), df_dx"
   ]
  },
  {
   "cell_type": "code",
   "execution_count": 107,
   "id": "b6ae7a9a-8d06-4b1a-9173-daba3e9d64af",
   "metadata": {},
   "outputs": [
    {
     "data": {
      "text/plain": [
       "[-1 + (-1/2 - sqrt(3)*I/2)*(15/2 + 55*sqrt(1194)*I/36)**(1/3) + 85/(6*(-1/2 - sqrt(3)*I/2)*(15/2 + 55*sqrt(1194)*I/36)**(1/3)),\n",
       " -1 + 85/(6*(-1/2 + sqrt(3)*I/2)*(15/2 + 55*sqrt(1194)*I/36)**(1/3)) + (-1/2 + sqrt(3)*I/2)*(15/2 + 55*sqrt(1194)*I/36)**(1/3),\n",
       " -1 + 85/(6*(15/2 + 55*sqrt(1194)*I/36)**(1/3)) + (15/2 + 55*sqrt(1194)*I/36)**(1/3)]"
      ]
     },
     "execution_count": 107,
     "metadata": {},
     "output_type": "execute_result"
    }
   ],
   "source": [
    "sol= sm.solve(df_dx, x)\n",
    "sol"
   ]
  },
  {
   "cell_type": "code",
   "execution_count": 108,
   "id": "422db600-bf91-47da-be69-b1c09a0aacdf",
   "metadata": {},
   "outputs": [
    {
     "data": {
      "text/plain": [
       "[-1.35398485103579, -7.33499813374491, 5.68898298478070]"
      ]
     },
     "execution_count": 108,
     "metadata": {},
     "output_type": "execute_result"
    }
   ],
   "source": [
    "# 可以找出 3個 微分(斜率) 為 0 之處\n",
    "# 解出來可能含虛數(很小)，若很小很小，當作誤差要把它戶略掉\n",
    "q= [s.evalf().as_real_imag()[0] for s in sol]\n",
    "q"
   ]
  },
  {
   "cell_type": "code",
   "execution_count": 109,
   "id": "7a0f52c4-118c-4fbc-9279-ebbd786e7fd5",
   "metadata": {},
   "outputs": [
    {
     "data": {
      "text/plain": [
       "[874.603844119190, -556.543641549918, -1338.56020256927]"
      ]
     },
     "execution_count": 109,
     "metadata": {},
     "output_type": "execute_result"
    }
   ],
   "source": [
    "# local min vs global min，要再檢查這個... \n",
    "qq= [f(s).evalf() for s in q]\n",
    "qq"
   ]
  },
  {
   "cell_type": "code",
   "execution_count": 110,
   "id": "3253296f-262b-4908-89a3-f1f72f0f7125",
   "metadata": {},
   "outputs": [
    {
     "data": {
      "text/latex": [
       "$\\displaystyle 5.6889829847807$"
      ],
      "text/plain": [
       "5.68898298478070"
      ]
     },
     "execution_count": 110,
     "metadata": {},
     "output_type": "execute_result"
    }
   ],
   "source": [
    "# 最後撈出其對應的 local min ，作為 global min\n",
    "x_star= q[np.argmin(qq)]\n",
    "x_star"
   ]
  },
  {
   "cell_type": "code",
   "execution_count": null,
   "id": "9f379b22-3643-4522-af94-3b67c39a2c0f",
   "metadata": {},
   "outputs": [],
   "source": []
  },
  {
   "cell_type": "code",
   "execution_count": 111,
   "id": "3cd0129a-cb9d-4d04-9886-d9d04036dd3a",
   "metadata": {},
   "outputs": [],
   "source": [
    "from scipy.optimize import line_search\n"
   ]
  },
  {
   "cell_type": "code",
   "execution_count": 112,
   "id": "c4bfe3d9-7c1f-4151-afdb-a4adb669a26d",
   "metadata": {},
   "outputs": [
    {
     "name": "stdout",
     "output_type": "stream",
     "text": [
      "start=0.0, direction=1.0\n"
     ]
    },
    {
     "data": {
      "text/plain": [
       "(5.273291925465839, 6, 4, -1308.7514049259132, 720.0, -138.9382981879245)"
      ]
     },
     "execution_count": 112,
     "metadata": {},
     "output_type": "execute_result"
    }
   ],
   "source": [
    "# perform a line search on a convex objective function that does not converge\n",
    "from numpy import arange\n",
    "from scipy.optimize import line_search\n",
    "from matplotlib import pyplot\n",
    " \n",
    "# objective function\n",
    "def objective(x):\n",
    "\t#return (-5.0 + x)**2.0\n",
    "    y= f(x)\n",
    "    return y\n",
    "\n",
    " \n",
    "# gradient for the objective function\n",
    "def gradient(x):\n",
    "\t#return 2.0 * (-5.0 + x)\n",
    "    s= sm.symbols('s')\n",
    "    df_ds= f(s).diff(s)\n",
    "    y= sm.lambdify(s, df_ds)(x)\n",
    "    return y\n",
    "\n",
    " \n",
    "# define the starting point\n",
    "point = 0 #-5.0\n",
    "# define the direction to move\n",
    "direction = 1 #-3.0\n",
    "# print the initial conditions\n",
    "print('start=%.1f, direction=%.1f' % (point, direction))\n",
    "# perform the line search\n",
    "result = line_search(\n",
    "    objective, \n",
    "    gradient, \n",
    "    point, \n",
    "    direction)\n",
    "# summarize the result\n",
    "#print('Alpha: %s' % result[0])\n",
    "result"
   ]
  },
  {
   "cell_type": "code",
   "execution_count": 113,
   "id": "747710eb-c146-4247-b9f7-2b42b13b5432",
   "metadata": {},
   "outputs": [
    {
     "data": {
      "text/latex": [
       "$\\displaystyle 4 x^{3} + 12 x^{2} - 158 x - 226$"
      ],
      "text/plain": [
       "4*x**3 + 12*x**2 - 158*x - 226"
      ]
     },
     "execution_count": 113,
     "metadata": {},
     "output_type": "execute_result"
    }
   ],
   "source": [
    "f(x).diff(x)"
   ]
  },
  {
   "cell_type": "code",
   "execution_count": 114,
   "id": "f726afd9-8719-4568-a045-9e168b1cbb62",
   "metadata": {},
   "outputs": [
    {
     "data": {
      "text/plain": [
       "array([-368, -462, -484])"
      ]
     },
     "execution_count": 114,
     "metadata": {},
     "output_type": "execute_result"
    }
   ],
   "source": [
    "gradient(np.array([1,2,3]))"
   ]
  },
  {
   "cell_type": "code",
   "execution_count": 115,
   "id": "74cbb2bc-5c52-4265-922a-a3ec5305ba8c",
   "metadata": {},
   "outputs": [
    {
     "data": {
      "text/plain": [
       "array([ 420,    0, -480])"
      ]
     },
     "execution_count": 115,
     "metadata": {},
     "output_type": "execute_result"
    }
   ],
   "source": [
    "objective(np.array([1,2,3]))"
   ]
  },
  {
   "cell_type": "code",
   "execution_count": 116,
   "id": "9c167a32-83c8-4beb-9b4e-f9aa1c832658",
   "metadata": {},
   "outputs": [
    {
     "data": {
      "text/latex": [
       "$\\displaystyle x β_{2} + β_{1}$"
      ],
      "text/plain": [
       "x*β2 + β1"
      ]
     },
     "execution_count": 116,
     "metadata": {},
     "output_type": "execute_result"
    }
   ],
   "source": [
    "# Wiki example\n",
    "\n",
    "X= [(1,6), \n",
    "    (2,5), \n",
    "    (3,7), \n",
    "    (4,10)]\n",
    "\n",
    "def y_pred(x, β1, β2):\n",
    "    y= β1 + β2*x\n",
    "    return y\n",
    "\n",
    "x, β1, β2= sm.symbols('x, β1, β2')\n",
    "y_pred(x, β1, β2)"
   ]
  },
  {
   "cell_type": "code",
   "execution_count": 117,
   "id": "46200775-cf3d-4eb3-a104-cc8bcea5b35c",
   "metadata": {},
   "outputs": [
    {
     "data": {
      "text/plain": [
       "array([-β1 - β2 + 6, -β1 - 2*β2 + 5, -β1 - 3*β2 + 7, -β1 - 4*β2 + 10],\n",
       "      dtype=object)"
      ]
     },
     "execution_count": 117,
     "metadata": {},
     "output_type": "execute_result"
    }
   ],
   "source": [
    "def r(x, y, y_pred, β1, β2):\n",
    "    r= y-y_pred(x,β1, β2)\n",
    "    return r\n",
    "X= np.array(X)\n",
    "x= X[:,0]\n",
    "y= X[:,1]\n",
    "rr= r(x,y,y_pred, β1, β2)\n",
    "rr"
   ]
  },
  {
   "cell_type": "code",
   "execution_count": 118,
   "id": "9a954b3e-c559-49fc-8a2f-3cd32ded58b7",
   "metadata": {},
   "outputs": [
    {
     "data": {
      "text/latex": [
       "$\\displaystyle \\left(- β_{1} - 4 β_{2} + 10\\right)^{2} + \\left(- β_{1} - 3 β_{2} + 7\\right)^{2} + \\left(- β_{1} - 2 β_{2} + 5\\right)^{2} + \\left(- β_{1} - β_{2} + 6\\right)^{2}$"
      ],
      "text/plain": [
       "(-β1 - 4*β2 + 10)**2 + (-β1 - 3*β2 + 7)**2 + (-β1 - 2*β2 + 5)**2 + (-β1 - β2 + 6)**2"
      ]
     },
     "execution_count": 118,
     "metadata": {},
     "output_type": "execute_result"
    }
   ],
   "source": [
    "S= sum([rrr**2 for rrr in rr])\n",
    "S"
   ]
  },
  {
   "cell_type": "code",
   "execution_count": 119,
   "id": "9624e180-8cc9-4384-8ece-d87e74472261",
   "metadata": {},
   "outputs": [
    {
     "data": {
      "text/latex": [
       "$\\displaystyle 8 β_{1} + 20 β_{2} - 56$"
      ],
      "text/plain": [
       "8*β1 + 20*β2 - 56"
      ]
     },
     "execution_count": 119,
     "metadata": {},
     "output_type": "execute_result"
    }
   ],
   "source": [
    "S.diff(β1)"
   ]
  },
  {
   "cell_type": "code",
   "execution_count": 120,
   "id": "5a62e1ce-8bce-4ea5-9251-bff824bc1a64",
   "metadata": {},
   "outputs": [
    {
     "data": {
      "text/latex": [
       "$\\displaystyle 20 β_{1} + 60 β_{2} - 154$"
      ],
      "text/plain": [
       "20*β1 + 60*β2 - 154"
      ]
     },
     "execution_count": 120,
     "metadata": {},
     "output_type": "execute_result"
    }
   ],
   "source": [
    "S.diff(β2)"
   ]
  },
  {
   "cell_type": "code",
   "execution_count": 121,
   "id": "856b9935-a3fa-4da0-87e5-182bcf55f3e3",
   "metadata": {},
   "outputs": [
    {
     "data": {
      "text/plain": [
       "{β1: 7/2, β2: 7/5}"
      ]
     },
     "execution_count": 121,
     "metadata": {},
     "output_type": "execute_result"
    }
   ],
   "source": [
    "sol= sm.solve([S.diff(β1), S.diff(β2)], [β1, β2])\n",
    "sol"
   ]
  },
  {
   "cell_type": "code",
   "execution_count": 122,
   "id": "78e198e8-9bec-4514-84de-3910d2d37e07",
   "metadata": {},
   "outputs": [
    {
     "data": {
      "text/latex": [
       "$\\displaystyle 3.5$"
      ],
      "text/plain": [
       "3.50000000000000"
      ]
     },
     "execution_count": 122,
     "metadata": {},
     "output_type": "execute_result"
    }
   ],
   "source": [
    "sol.get(β1).evalf()"
   ]
  },
  {
   "cell_type": "code",
   "execution_count": 123,
   "id": "05914d80-5fef-4c7c-89a6-882d9b1cb285",
   "metadata": {},
   "outputs": [
    {
     "data": {
      "text/latex": [
       "$\\displaystyle 1.4$"
      ],
      "text/plain": [
       "1.40000000000000"
      ]
     },
     "execution_count": 123,
     "metadata": {},
     "output_type": "execute_result"
    }
   ],
   "source": [
    "sol.get(β2).evalf()"
   ]
  },
  {
   "cell_type": "code",
   "execution_count": 124,
   "id": "533324dd-94a6-4651-a99c-c4b625c3dd1b",
   "metadata": {},
   "outputs": [
    {
     "data": {
      "text/latex": [
       "$\\displaystyle x β_{2} + β_{1}$"
      ],
      "text/plain": [
       "x*β2 + β1"
      ]
     },
     "execution_count": 124,
     "metadata": {},
     "output_type": "execute_result"
    }
   ],
   "source": [
    "# Wiki example\n",
    "X= [(1,6), \n",
    "    (2,5), \n",
    "    (3,7), \n",
    "    (4,10)]\n",
    "\n",
    "# 改變 資料點的產生方式\n",
    "#'''\n",
    "N= 100\n",
    "X= np.random.normal(1, 10, size=(N,2))\n",
    "X[:,1]= 1*X[:,0] +2 + np.random.normal(0, 10, size=(N,))\n",
    "#'''\n",
    "\n",
    "def y_pred(x, β1, β2):\n",
    "    y= β1 + β2*x\n",
    "    return y\n",
    "x, β1, β2= sm.symbols('x, β1, β2')\n",
    "\n",
    "y_pred(x, β1, β2)"
   ]
  },
  {
   "cell_type": "code",
   "execution_count": 128,
   "id": "f7a71b00-d804-4e3f-8c45-52499963407b",
   "metadata": {},
   "outputs": [
    {
     "data": {
      "text/plain": [
       "(1.87239768659570, 0.815161986316674, 6495.56938016314)"
      ]
     },
     "execution_count": 128,
     "metadata": {},
     "output_type": "execute_result"
    }
   ],
   "source": [
    "def r(x, y, y_pred, β1, β2):\n",
    "    r= y-y_pred(x,β1, β2)\n",
    "    return r\n",
    "\n",
    "X= np.array(X)\n",
    "xx= X[:,0]\n",
    "yy= X[:,1]\n",
    "rr= r(xx,yy,y_pred, β1, β2)\n",
    "S= sum([rrr**2 for rrr in rr])\n",
    "sol= sm.solve([S.diff(β1), \n",
    "               S.diff(β2)], \n",
    "               [β1, β2])\n",
    "\n",
    "β1f, β2f= sol.get(β1).evalf(), sol.get(β2).evalf()\n",
    "\n",
    "#pl.scatter(xx,yy)\n",
    "#pl.plot(xx,y_pred(xx, β1f, β2f), 'blue')\n",
    "\n",
    "β1f, β2f, S.subs({β1:β1f, β2:β2f})"
   ]
  },
  {
   "cell_type": "code",
   "execution_count": null,
   "id": "5e22c25a-0790-4b3a-9d22-042194a3d25d",
   "metadata": {},
   "outputs": [],
   "source": []
  },
  {
   "cell_type": "code",
   "execution_count": null,
   "id": "5288c158-1cc1-470b-be8b-5536c0d798e2",
   "metadata": {},
   "outputs": [],
   "source": []
  },
  {
   "cell_type": "code",
   "execution_count": 129,
   "id": "917a7476-bb34-4ed7-8eab-643842351d37",
   "metadata": {},
   "outputs": [
    {
     "ename": "TypeError",
     "evalue": "loop of ufunc does not support argument 0 of type NoneType which has no callable sqrt method",
     "output_type": "error",
     "traceback": [
      "\u001b[1;31m---------------------------------------------------------------------------\u001b[0m",
      "\u001b[1;31mAttributeError\u001b[0m                            Traceback (most recent call last)",
      "\u001b[1;31mAttributeError\u001b[0m: 'NoneType' object has no attribute 'sqrt'",
      "\nThe above exception was the direct cause of the following exception:\n",
      "\u001b[1;31mTypeError\u001b[0m                                 Traceback (most recent call last)",
      "\u001b[1;32m<ipython-input-129-cd36f27e4c3a>\u001b[0m in \u001b[0;36m<module>\u001b[1;34m\u001b[0m\n\u001b[1;32m----> 1\u001b[1;33m \u001b[0mpl\u001b[0m\u001b[1;33m.\u001b[0m\u001b[0mscatter\u001b[0m\u001b[1;33m(\u001b[0m\u001b[0mxx\u001b[0m\u001b[1;33m,\u001b[0m\u001b[0myy\u001b[0m\u001b[1;33m)\u001b[0m\u001b[1;33m\u001b[0m\u001b[1;33m\u001b[0m\u001b[0m\n\u001b[0m\u001b[0;32m      2\u001b[0m \u001b[0mpl\u001b[0m\u001b[1;33m.\u001b[0m\u001b[0mplot\u001b[0m\u001b[1;33m(\u001b[0m\u001b[0mxx\u001b[0m\u001b[1;33m,\u001b[0m\u001b[0my_pred\u001b[0m\u001b[1;33m(\u001b[0m\u001b[0mxx\u001b[0m\u001b[1;33m,\u001b[0m \u001b[1;36m2\u001b[0m\u001b[1;33m,\u001b[0m \u001b[1;36m3\u001b[0m\u001b[1;33m)\u001b[0m\u001b[1;33m,\u001b[0m \u001b[1;34m'blue'\u001b[0m\u001b[1;33m)\u001b[0m\u001b[1;33m\u001b[0m\u001b[1;33m\u001b[0m\u001b[0m\n\u001b[0;32m      3\u001b[0m \u001b[0mS\u001b[0m\u001b[1;33m.\u001b[0m\u001b[0msubs\u001b[0m\u001b[1;33m(\u001b[0m\u001b[1;33m{\u001b[0m\u001b[0mβ1\u001b[0m\u001b[1;33m:\u001b[0m\u001b[1;36m2\u001b[0m\u001b[1;33m,\u001b[0m \u001b[0mβ2\u001b[0m\u001b[1;33m:\u001b[0m\u001b[1;36m3\u001b[0m\u001b[1;33m}\u001b[0m\u001b[1;33m)\u001b[0m\u001b[1;33m\u001b[0m\u001b[1;33m\u001b[0m\u001b[0m\n",
      "\u001b[1;32mM:\\ProgramData\\Anaconda3\\lib\\site-packages\\matplotlib\\pyplot.py\u001b[0m in \u001b[0;36mscatter\u001b[1;34m(x, y, s, c, marker, cmap, norm, vmin, vmax, alpha, linewidths, verts, edgecolors, plotnonfinite, data, **kwargs)\u001b[0m\n\u001b[0;32m   2888\u001b[0m         \u001b[0mverts\u001b[0m\u001b[1;33m=\u001b[0m\u001b[0mcbook\u001b[0m\u001b[1;33m.\u001b[0m\u001b[0mdeprecation\u001b[0m\u001b[1;33m.\u001b[0m\u001b[0m_deprecated_parameter\u001b[0m\u001b[1;33m,\u001b[0m\u001b[1;33m\u001b[0m\u001b[1;33m\u001b[0m\u001b[0m\n\u001b[0;32m   2889\u001b[0m         edgecolors=None, *, plotnonfinite=False, data=None, **kwargs):\n\u001b[1;32m-> 2890\u001b[1;33m     __ret = gca().scatter(\n\u001b[0m\u001b[0;32m   2891\u001b[0m         \u001b[0mx\u001b[0m\u001b[1;33m,\u001b[0m \u001b[0my\u001b[0m\u001b[1;33m,\u001b[0m \u001b[0ms\u001b[0m\u001b[1;33m=\u001b[0m\u001b[0ms\u001b[0m\u001b[1;33m,\u001b[0m \u001b[0mc\u001b[0m\u001b[1;33m=\u001b[0m\u001b[0mc\u001b[0m\u001b[1;33m,\u001b[0m \u001b[0mmarker\u001b[0m\u001b[1;33m=\u001b[0m\u001b[0mmarker\u001b[0m\u001b[1;33m,\u001b[0m \u001b[0mcmap\u001b[0m\u001b[1;33m=\u001b[0m\u001b[0mcmap\u001b[0m\u001b[1;33m,\u001b[0m \u001b[0mnorm\u001b[0m\u001b[1;33m=\u001b[0m\u001b[0mnorm\u001b[0m\u001b[1;33m,\u001b[0m\u001b[1;33m\u001b[0m\u001b[1;33m\u001b[0m\u001b[0m\n\u001b[0;32m   2892\u001b[0m         \u001b[0mvmin\u001b[0m\u001b[1;33m=\u001b[0m\u001b[0mvmin\u001b[0m\u001b[1;33m,\u001b[0m \u001b[0mvmax\u001b[0m\u001b[1;33m=\u001b[0m\u001b[0mvmax\u001b[0m\u001b[1;33m,\u001b[0m \u001b[0malpha\u001b[0m\u001b[1;33m=\u001b[0m\u001b[0malpha\u001b[0m\u001b[1;33m,\u001b[0m \u001b[0mlinewidths\u001b[0m\u001b[1;33m=\u001b[0m\u001b[0mlinewidths\u001b[0m\u001b[1;33m,\u001b[0m\u001b[1;33m\u001b[0m\u001b[1;33m\u001b[0m\u001b[0m\n",
      "\u001b[1;32mM:\\ProgramData\\Anaconda3\\lib\\site-packages\\mpl_toolkits\\mplot3d\\axes3d.py\u001b[0m in \u001b[0;36mscatter\u001b[1;34m(self, xs, ys, zs, zdir, s, c, depthshade, *args, **kwargs)\u001b[0m\n\u001b[0;32m   2310\u001b[0m             \u001b[0mzs\u001b[0m \u001b[1;33m=\u001b[0m \u001b[0mzs\u001b[0m\u001b[1;33m.\u001b[0m\u001b[0mcopy\u001b[0m\u001b[1;33m(\u001b[0m\u001b[1;33m)\u001b[0m\u001b[1;33m\u001b[0m\u001b[1;33m\u001b[0m\u001b[0m\n\u001b[0;32m   2311\u001b[0m \u001b[1;33m\u001b[0m\u001b[0m\n\u001b[1;32m-> 2312\u001b[1;33m         \u001b[0mpatches\u001b[0m \u001b[1;33m=\u001b[0m \u001b[0msuper\u001b[0m\u001b[1;33m(\u001b[0m\u001b[1;33m)\u001b[0m\u001b[1;33m.\u001b[0m\u001b[0mscatter\u001b[0m\u001b[1;33m(\u001b[0m\u001b[0mxs\u001b[0m\u001b[1;33m,\u001b[0m \u001b[0mys\u001b[0m\u001b[1;33m,\u001b[0m \u001b[0ms\u001b[0m\u001b[1;33m=\u001b[0m\u001b[0ms\u001b[0m\u001b[1;33m,\u001b[0m \u001b[0mc\u001b[0m\u001b[1;33m=\u001b[0m\u001b[0mc\u001b[0m\u001b[1;33m,\u001b[0m \u001b[1;33m*\u001b[0m\u001b[0margs\u001b[0m\u001b[1;33m,\u001b[0m \u001b[1;33m**\u001b[0m\u001b[0mkwargs\u001b[0m\u001b[1;33m)\u001b[0m\u001b[1;33m\u001b[0m\u001b[1;33m\u001b[0m\u001b[0m\n\u001b[0m\u001b[0;32m   2313\u001b[0m         art3d.patch_collection_2d_to_3d(patches, zs=zs, zdir=zdir,\n\u001b[0;32m   2314\u001b[0m                                         depthshade=depthshade)\n",
      "\u001b[1;32mM:\\ProgramData\\Anaconda3\\lib\\site-packages\\matplotlib\\__init__.py\u001b[0m in \u001b[0;36minner\u001b[1;34m(ax, data, *args, **kwargs)\u001b[0m\n\u001b[0;32m   1445\u001b[0m     \u001b[1;32mdef\u001b[0m \u001b[0minner\u001b[0m\u001b[1;33m(\u001b[0m\u001b[0max\u001b[0m\u001b[1;33m,\u001b[0m \u001b[1;33m*\u001b[0m\u001b[0margs\u001b[0m\u001b[1;33m,\u001b[0m \u001b[0mdata\u001b[0m\u001b[1;33m=\u001b[0m\u001b[1;32mNone\u001b[0m\u001b[1;33m,\u001b[0m \u001b[1;33m**\u001b[0m\u001b[0mkwargs\u001b[0m\u001b[1;33m)\u001b[0m\u001b[1;33m:\u001b[0m\u001b[1;33m\u001b[0m\u001b[1;33m\u001b[0m\u001b[0m\n\u001b[0;32m   1446\u001b[0m         \u001b[1;32mif\u001b[0m \u001b[0mdata\u001b[0m \u001b[1;32mis\u001b[0m \u001b[1;32mNone\u001b[0m\u001b[1;33m:\u001b[0m\u001b[1;33m\u001b[0m\u001b[1;33m\u001b[0m\u001b[0m\n\u001b[1;32m-> 1447\u001b[1;33m             \u001b[1;32mreturn\u001b[0m \u001b[0mfunc\u001b[0m\u001b[1;33m(\u001b[0m\u001b[0max\u001b[0m\u001b[1;33m,\u001b[0m \u001b[1;33m*\u001b[0m\u001b[0mmap\u001b[0m\u001b[1;33m(\u001b[0m\u001b[0msanitize_sequence\u001b[0m\u001b[1;33m,\u001b[0m \u001b[0margs\u001b[0m\u001b[1;33m)\u001b[0m\u001b[1;33m,\u001b[0m \u001b[1;33m**\u001b[0m\u001b[0mkwargs\u001b[0m\u001b[1;33m)\u001b[0m\u001b[1;33m\u001b[0m\u001b[1;33m\u001b[0m\u001b[0m\n\u001b[0m\u001b[0;32m   1448\u001b[0m \u001b[1;33m\u001b[0m\u001b[0m\n\u001b[0;32m   1449\u001b[0m         \u001b[0mbound\u001b[0m \u001b[1;33m=\u001b[0m \u001b[0mnew_sig\u001b[0m\u001b[1;33m.\u001b[0m\u001b[0mbind\u001b[0m\u001b[1;33m(\u001b[0m\u001b[0max\u001b[0m\u001b[1;33m,\u001b[0m \u001b[1;33m*\u001b[0m\u001b[0margs\u001b[0m\u001b[1;33m,\u001b[0m \u001b[1;33m**\u001b[0m\u001b[0mkwargs\u001b[0m\u001b[1;33m)\u001b[0m\u001b[1;33m\u001b[0m\u001b[1;33m\u001b[0m\u001b[0m\n",
      "\u001b[1;32mM:\\ProgramData\\Anaconda3\\lib\\site-packages\\matplotlib\\cbook\\deprecation.py\u001b[0m in \u001b[0;36mwrapper\u001b[1;34m(*inner_args, **inner_kwargs)\u001b[0m\n\u001b[0;32m    409\u001b[0m                          \u001b[1;32melse\u001b[0m \u001b[0mdeprecation_addendum\u001b[0m\u001b[1;33m,\u001b[0m\u001b[1;33m\u001b[0m\u001b[1;33m\u001b[0m\u001b[0m\n\u001b[0;32m    410\u001b[0m                 **kwargs)\n\u001b[1;32m--> 411\u001b[1;33m         \u001b[1;32mreturn\u001b[0m \u001b[0mfunc\u001b[0m\u001b[1;33m(\u001b[0m\u001b[1;33m*\u001b[0m\u001b[0minner_args\u001b[0m\u001b[1;33m,\u001b[0m \u001b[1;33m**\u001b[0m\u001b[0minner_kwargs\u001b[0m\u001b[1;33m)\u001b[0m\u001b[1;33m\u001b[0m\u001b[1;33m\u001b[0m\u001b[0m\n\u001b[0m\u001b[0;32m    412\u001b[0m \u001b[1;33m\u001b[0m\u001b[0m\n\u001b[0;32m    413\u001b[0m     \u001b[1;32mreturn\u001b[0m \u001b[0mwrapper\u001b[0m\u001b[1;33m\u001b[0m\u001b[1;33m\u001b[0m\u001b[0m\n",
      "\u001b[1;32mM:\\ProgramData\\Anaconda3\\lib\\site-packages\\matplotlib\\axes\\_axes.py\u001b[0m in \u001b[0;36mscatter\u001b[1;34m(self, x, y, s, c, marker, cmap, norm, vmin, vmax, alpha, linewidths, verts, edgecolors, plotnonfinite, **kwargs)\u001b[0m\n\u001b[0;32m   4486\u001b[0m         \u001b[0moffsets\u001b[0m \u001b[1;33m=\u001b[0m \u001b[0mnp\u001b[0m\u001b[1;33m.\u001b[0m\u001b[0mma\u001b[0m\u001b[1;33m.\u001b[0m\u001b[0mcolumn_stack\u001b[0m\u001b[1;33m(\u001b[0m\u001b[1;33m[\u001b[0m\u001b[0mx\u001b[0m\u001b[1;33m,\u001b[0m \u001b[0my\u001b[0m\u001b[1;33m]\u001b[0m\u001b[1;33m)\u001b[0m\u001b[1;33m\u001b[0m\u001b[1;33m\u001b[0m\u001b[0m\n\u001b[0;32m   4487\u001b[0m \u001b[1;33m\u001b[0m\u001b[0m\n\u001b[1;32m-> 4488\u001b[1;33m         collection = mcoll.PathCollection(\n\u001b[0m\u001b[0;32m   4489\u001b[0m                 \u001b[1;33m(\u001b[0m\u001b[0mpath\u001b[0m\u001b[1;33m,\u001b[0m\u001b[1;33m)\u001b[0m\u001b[1;33m,\u001b[0m \u001b[0mscales\u001b[0m\u001b[1;33m,\u001b[0m\u001b[1;33m\u001b[0m\u001b[1;33m\u001b[0m\u001b[0m\n\u001b[0;32m   4490\u001b[0m                 \u001b[0mfacecolors\u001b[0m\u001b[1;33m=\u001b[0m\u001b[0mcolors\u001b[0m\u001b[1;33m,\u001b[0m\u001b[1;33m\u001b[0m\u001b[1;33m\u001b[0m\u001b[0m\n",
      "\u001b[1;32mM:\\ProgramData\\Anaconda3\\lib\\site-packages\\matplotlib\\collections.py\u001b[0m in \u001b[0;36m__init__\u001b[1;34m(self, paths, sizes, **kwargs)\u001b[0m\n\u001b[0;32m    953\u001b[0m         \u001b[0msuper\u001b[0m\u001b[1;33m(\u001b[0m\u001b[1;33m)\u001b[0m\u001b[1;33m.\u001b[0m\u001b[0m__init__\u001b[0m\u001b[1;33m(\u001b[0m\u001b[1;33m**\u001b[0m\u001b[0mkwargs\u001b[0m\u001b[1;33m)\u001b[0m\u001b[1;33m\u001b[0m\u001b[1;33m\u001b[0m\u001b[0m\n\u001b[0;32m    954\u001b[0m         \u001b[0mself\u001b[0m\u001b[1;33m.\u001b[0m\u001b[0mset_paths\u001b[0m\u001b[1;33m(\u001b[0m\u001b[0mpaths\u001b[0m\u001b[1;33m)\u001b[0m\u001b[1;33m\u001b[0m\u001b[1;33m\u001b[0m\u001b[0m\n\u001b[1;32m--> 955\u001b[1;33m         \u001b[0mself\u001b[0m\u001b[1;33m.\u001b[0m\u001b[0mset_sizes\u001b[0m\u001b[1;33m(\u001b[0m\u001b[0msizes\u001b[0m\u001b[1;33m)\u001b[0m\u001b[1;33m\u001b[0m\u001b[1;33m\u001b[0m\u001b[0m\n\u001b[0m\u001b[0;32m    956\u001b[0m         \u001b[0mself\u001b[0m\u001b[1;33m.\u001b[0m\u001b[0mstale\u001b[0m \u001b[1;33m=\u001b[0m \u001b[1;32mTrue\u001b[0m\u001b[1;33m\u001b[0m\u001b[1;33m\u001b[0m\u001b[0m\n\u001b[0;32m    957\u001b[0m \u001b[1;33m\u001b[0m\u001b[0m\n",
      "\u001b[1;32mM:\\ProgramData\\Anaconda3\\lib\\site-packages\\matplotlib\\collections.py\u001b[0m in \u001b[0;36mset_sizes\u001b[1;34m(self, sizes, dpi)\u001b[0m\n\u001b[0;32m    920\u001b[0m             \u001b[0mself\u001b[0m\u001b[1;33m.\u001b[0m\u001b[0m_sizes\u001b[0m \u001b[1;33m=\u001b[0m \u001b[0mnp\u001b[0m\u001b[1;33m.\u001b[0m\u001b[0masarray\u001b[0m\u001b[1;33m(\u001b[0m\u001b[0msizes\u001b[0m\u001b[1;33m)\u001b[0m\u001b[1;33m\u001b[0m\u001b[1;33m\u001b[0m\u001b[0m\n\u001b[0;32m    921\u001b[0m             \u001b[0mself\u001b[0m\u001b[1;33m.\u001b[0m\u001b[0m_transforms\u001b[0m \u001b[1;33m=\u001b[0m \u001b[0mnp\u001b[0m\u001b[1;33m.\u001b[0m\u001b[0mzeros\u001b[0m\u001b[1;33m(\u001b[0m\u001b[1;33m(\u001b[0m\u001b[0mlen\u001b[0m\u001b[1;33m(\u001b[0m\u001b[0mself\u001b[0m\u001b[1;33m.\u001b[0m\u001b[0m_sizes\u001b[0m\u001b[1;33m)\u001b[0m\u001b[1;33m,\u001b[0m \u001b[1;36m3\u001b[0m\u001b[1;33m,\u001b[0m \u001b[1;36m3\u001b[0m\u001b[1;33m)\u001b[0m\u001b[1;33m)\u001b[0m\u001b[1;33m\u001b[0m\u001b[1;33m\u001b[0m\u001b[0m\n\u001b[1;32m--> 922\u001b[1;33m             \u001b[0mscale\u001b[0m \u001b[1;33m=\u001b[0m \u001b[0mnp\u001b[0m\u001b[1;33m.\u001b[0m\u001b[0msqrt\u001b[0m\u001b[1;33m(\u001b[0m\u001b[0mself\u001b[0m\u001b[1;33m.\u001b[0m\u001b[0m_sizes\u001b[0m\u001b[1;33m)\u001b[0m \u001b[1;33m*\u001b[0m \u001b[0mdpi\u001b[0m \u001b[1;33m/\u001b[0m \u001b[1;36m72.0\u001b[0m \u001b[1;33m*\u001b[0m \u001b[0mself\u001b[0m\u001b[1;33m.\u001b[0m\u001b[0m_factor\u001b[0m\u001b[1;33m\u001b[0m\u001b[1;33m\u001b[0m\u001b[0m\n\u001b[0m\u001b[0;32m    923\u001b[0m             \u001b[0mself\u001b[0m\u001b[1;33m.\u001b[0m\u001b[0m_transforms\u001b[0m\u001b[1;33m[\u001b[0m\u001b[1;33m:\u001b[0m\u001b[1;33m,\u001b[0m \u001b[1;36m0\u001b[0m\u001b[1;33m,\u001b[0m \u001b[1;36m0\u001b[0m\u001b[1;33m]\u001b[0m \u001b[1;33m=\u001b[0m \u001b[0mscale\u001b[0m\u001b[1;33m\u001b[0m\u001b[1;33m\u001b[0m\u001b[0m\n\u001b[0;32m    924\u001b[0m             \u001b[0mself\u001b[0m\u001b[1;33m.\u001b[0m\u001b[0m_transforms\u001b[0m\u001b[1;33m[\u001b[0m\u001b[1;33m:\u001b[0m\u001b[1;33m,\u001b[0m \u001b[1;36m1\u001b[0m\u001b[1;33m,\u001b[0m \u001b[1;36m1\u001b[0m\u001b[1;33m]\u001b[0m \u001b[1;33m=\u001b[0m \u001b[0mscale\u001b[0m\u001b[1;33m\u001b[0m\u001b[1;33m\u001b[0m\u001b[0m\n",
      "\u001b[1;31mTypeError\u001b[0m: loop of ufunc does not support argument 0 of type NoneType which has no callable sqrt method"
     ]
    }
   ],
   "source": [
    "pl.scatter(xx,yy)\n",
    "pl.plot(xx,y_pred(xx, 2, 3), 'blue')\n",
    "S.subs({β1:2, β2:3})\n"
   ]
  },
  {
   "cell_type": "code",
   "execution_count": null,
   "id": "7e92e599-7854-4e68-933a-6f1768fa8965",
   "metadata": {},
   "outputs": [],
   "source": [
    "pl.scatter(x,y)\n",
    "pl.plot(x,y_pred(x, -2, -3), 'blue')\n",
    "S.subs({β1:-2, β2:-3})"
   ]
  },
  {
   "cell_type": "code",
   "execution_count": null,
   "id": "fd56837a-4c94-4da5-a9dc-e3ba0896a1d8",
   "metadata": {},
   "outputs": [],
   "source": [
    "# Wiki example\n",
    "\n",
    "# 延伸成 polynomial, e.g., degree=3\n",
    "\n",
    "# 改變 資料點的產生方式\n",
    "#'''\n",
    "N= 100\n",
    "X= np.random.normal(1, 10, size=(N,2))\n",
    "X[:,1]= .01*X[:,0]**3 +2 + np.random.normal(0, 10, size=(N,))\n",
    "#'''\n",
    "\n",
    "def y_pred(x, β0, β1, β2, β3):\n",
    "    y= β0 + β1*x +β2*x**2 +β3*x**3\n",
    "    return y\n",
    "x, β0, β1, β2, β3= sm.symbols('x, β0, β1, β2, β3')\n",
    "y_pred(x, β0, β1, β2, β3)\n",
    "def r(x, y, y_pred, β0, β1, β2, β3):\n",
    "    r= y-y_pred(x,β0, β1, β2,β3)\n",
    "    return r\n",
    "\n",
    "X= np.array(X)\n",
    "x= X[:,0]\n",
    "y= X[:,1]\n",
    "\n",
    "rr= r(x,y,y_pred, β0, β1, β2 ,β3)\n",
    "S= sum([rrr**2 for rrr in rr])\n",
    "sol= sm.solve([S.diff(β0), \n",
    "               S.diff(β1),\n",
    "               S.diff(β2),\n",
    "               S.diff(β3)], \n",
    "               [β0, β1, β2, β3])\n",
    "\n",
    "β0f, β1f, β2f, β3f= [\n",
    "    sol.get(β0).evalf(), \n",
    "    sol.get(β1).evalf(),\n",
    "    sol.get(β2).evalf(), \n",
    "    sol.get(β3).evalf()\n",
    "]\n",
    "\n",
    "pl.scatter(x,y)\n",
    "pl.scatter(x,y_pred(x, β0f,β1f, β2f, β3f))\n",
    "\n",
    "\n",
    "β0f, β1f, β2f, β3f, S.subs({β0:β0f,β1:β1f, β2:β2f,  β3:β3f})"
   ]
  },
  {
   "cell_type": "code",
   "execution_count": null,
   "id": "a5393c42-22be-49a6-99d1-93c3ad27fdc0",
   "metadata": {},
   "outputs": [],
   "source": [
    "pl.scatter(x, y_pred(x, β0f,β1f, β2f, β3f))\n",
    "\n",
    "β0f, β1f, β2f, β3f,"
   ]
  },
  {
   "cell_type": "code",
   "execution_count": null,
   "id": "6254fcf6-0b56-40ae-8c4a-1bf2c1133743",
   "metadata": {},
   "outputs": [],
   "source": [
    "x.shape, y.shape"
   ]
  },
  {
   "cell_type": "code",
   "execution_count": null,
   "id": "f9ecadf0-ddf3-430d-8c3f-311e7478d5a0",
   "metadata": {},
   "outputs": [],
   "source": [
    "from sklearn import linear_model\n",
    "reg= linear_model.LinearRegression()\n",
    "\n",
    "reg.fit(\n",
    "    [[0], [1], [2]], \n",
    "    [1, 3, 8]\n",
    ")\n",
    "\n",
    "reg.intercept_, reg.coef_"
   ]
  },
  {
   "cell_type": "code",
   "execution_count": null,
   "id": "af48e29c-e179-4642-b0ae-47aebb533c5d",
   "metadata": {},
   "outputs": [],
   "source": [
    "x= x.astype('float').reshape(-1,1)\n",
    "y= y.astype('float')\n",
    "pl.scatter(x,y)"
   ]
  },
  {
   "cell_type": "code",
   "execution_count": null,
   "id": "fae79f6a-a191-46be-9823-bc08bb8f82cd",
   "metadata": {},
   "outputs": [],
   "source": [
    "reg= linear_model.LinearRegression()\n",
    "reg.fit(x, y)\n",
    "reg.intercept_, reg.coef_"
   ]
  },
  {
   "cell_type": "code",
   "execution_count": 131,
   "id": "83682849-1dd1-41c1-a421-d3942c59c146",
   "metadata": {},
   "outputs": [
    {
     "data": {
      "text/plain": [
       "Text(0.5, 0, '$y$')"
      ]
     },
     "execution_count": 131,
     "metadata": {},
     "output_type": "execute_result"
    }
   ],
   "source": [
    "# HomeWorkCh04_02\n",
    "\n",
    "import numpy as np\n",
    "import matplotlib.pyplot as pl\n",
    "def generateY(x, w):\n",
    "    ϵ= np.random.normal(\n",
    "        loc=   0.0, \n",
    "        scale= np.random.uniform(1,10), \n",
    "        size= x.shape[1])    \n",
    "    x= np.concatenate(\n",
    "            (np.ones((1,N)),\n",
    "             x), \n",
    "            axis=0)\n",
    "    y= w.T@x +ϵ\n",
    "    return y\n",
    "np.random.seed(0)\n",
    "N=    100\n",
    "low= -3.0\n",
    "high= 4.0\n",
    "b= -3  # y軸 截距\n",
    "w= np.array([b, 3, -2]) #.reshape(-1,1)\n",
    "x= np.random.uniform(low= low, \n",
    "                     high=high, \n",
    "                     size=(2,N))\n",
    "y= generateY(x, w)\n",
    "%matplotlib qt\n",
    "ax= pl.axes(projection='3d')\n",
    "ax.scatter3D(x[0,:],x[1,:],y, color='red')\n",
    "ax.set_xlabel('$x_0$')\n",
    "ax.set_ylabel('$x_1$')\n",
    "ax.set_zlabel('$y$')\n"
   ]
  },
  {
   "cell_type": "code",
   "execution_count": null,
   "id": "c5a73ac5-330b-4f77-b0c9-25c5a595f719",
   "metadata": {},
   "outputs": [],
   "source": [
    "x.shape, y.shape"
   ]
  },
  {
   "cell_type": "code",
   "execution_count": 134,
   "id": "5c2e146c-a62f-4de3-a88b-59350bc74a01",
   "metadata": {},
   "outputs": [
    {
     "data": {
      "text/plain": [
       "(-3.41405079445415, array([ 2.70205492, -2.03634216]))"
      ]
     },
     "execution_count": 134,
     "metadata": {},
     "output_type": "execute_result"
    }
   ],
   "source": [
    "# 要用 scikit-learn 的話， x 要轉置成 (100,2)\n",
    "xT= x.T\n",
    "\n",
    "# 然後，就一步到位！\n",
    "reg= linear_model.LinearRegression()\n",
    "reg.fit(xT, y)\n",
    "\n",
    "# answer:\n",
    "reg.intercept_, reg.coef_"
   ]
  },
  {
   "cell_type": "code",
   "execution_count": 132,
   "id": "e4213ea4-1607-4060-9325-2b7a493bb675",
   "metadata": {},
   "outputs": [
    {
     "data": {
      "text/plain": [
       "array([-3.41405079,  2.70205492, -2.03634216])"
      ]
     },
     "execution_count": 132,
     "metadata": {},
     "output_type": "execute_result"
    }
   ],
   "source": [
    "# 回到 Normal Equation\n",
    "# 如何把 Φ 接好接滿是一個小小的學問， numpy 要夠熟！\n",
    "Φ= np.concatenate(\n",
    "    [np.ones((x.T.shape[0],1)), \n",
    "     x.T], axis=1)\n",
    "Φ.shape\n",
    "\n",
    "weights= np.linalg.inv(Φ.T @ Φ) @ Φ.T @ y\n",
    "weights"
   ]
  },
  {
   "cell_type": "code",
   "execution_count": null,
   "id": "fb979090-abf4-4cf9-a36e-2208de42c611",
   "metadata": {},
   "outputs": [],
   "source": []
  }
 ],
 "metadata": {
  "kernelspec": {
   "display_name": "Python 3",
   "language": "python",
   "name": "python3"
  },
  "language_info": {
   "codemirror_mode": {
    "name": "ipython",
    "version": 3
   },
   "file_extension": ".py",
   "mimetype": "text/x-python",
   "name": "python",
   "nbconvert_exporter": "python",
   "pygments_lexer": "ipython3",
   "version": "3.8.8"
  }
 },
 "nbformat": 4,
 "nbformat_minor": 5
}
