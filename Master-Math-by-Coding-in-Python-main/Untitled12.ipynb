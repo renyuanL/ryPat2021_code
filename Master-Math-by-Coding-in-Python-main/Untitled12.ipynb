{
 "cells": [
  {
   "cell_type": "code",
   "execution_count": 1,
   "id": "813601db-4867-4a48-a393-de70c001e06b",
   "metadata": {},
   "outputs": [],
   "source": [
    "from ryPat import *"
   ]
  },
  {
   "cell_type": "code",
   "execution_count": 2,
   "id": "700d93f5-f34b-4460-94d1-f818c4cde613",
   "metadata": {},
   "outputs": [
    {
     "data": {
      "image/png": "[encoded data removed]",
      "text/latex": [
       "$\\displaystyle e^{- x^{2}}$"
      ],
      "text/plain": [
       "   2\n",
       " -x \n",
       "ℯ   "
      ]
     },
     "execution_count": 2,
     "metadata": {},
     "output_type": "execute_result"
    }
   ],
   "source": [
    "def f(x):\n",
    "    y= sm.exp(-x**2)\n",
    "    return y\n",
    "f(x)"
   ]
  },
  {
   "cell_type": "code",
   "execution_count": 3,
   "id": "f9b4a74c-f409-482e-b74d-598f5c26f2df",
   "metadata": {},
   "outputs": [
    {
     "data": {
      "image/png": "[encoded data removed]",
      "text/latex": [
       "$\\displaystyle \\frac{\\sqrt{\\pi} \\operatorname{erf}{\\left(x \\right)}}{2}$"
      ],
      "text/plain": [
       "√π⋅erf(x)\n",
       "─────────\n",
       "    2    "
      ]
     },
     "execution_count": 3,
     "metadata": {},
     "output_type": "execute_result"
    }
   ],
   "source": [
    "sm.integrate(f(x),x)"
   ]
  },
  {
   "cell_type": "code",
   "execution_count": 8,
   "id": "9792d6b7-8a5f-48b0-b0ef-cf78eb4f4fa4",
   "metadata": {},
   "outputs": [
    {
     "data": {
      "image/png": "[encoded data removed]",
      "text/latex": [
       "$\\displaystyle \\operatorname{erf}{\\left(x \\right)}$"
      ],
      "text/plain": [
       "erf(x)"
      ]
     },
     "execution_count": 8,
     "metadata": {},
     "output_type": "execute_result"
    }
   ],
   "source": [
    "sm.erf(x)"
   ]
  },
  {
   "cell_type": "code",
   "execution_count": 10,
   "id": "c38a1897-9f11-4936-85bc-275d716e327e",
   "metadata": {},
   "outputs": [
    {
     "data": {
      "image/png": "[encoded data removed]",
      "text/plain": [
       "<Figure size 432x288 with 1 Axes>"
      ]
     },
     "metadata": {},
     "output_type": "display_data"
    },
    {
     "data": {
      "text/plain": [
       "<sympy.plotting.plot.Plot at 0x15a3b610940>"
      ]
     },
     "execution_count": 10,
     "metadata": {},
     "output_type": "execute_result"
    }
   ],
   "source": [
    "sm.plotting.plot(sm.erf(x))"
   ]
  },
  {
   "cell_type": "code",
   "execution_count": 12,
   "id": "c3212716-7d6f-4fe6-994c-dd7202e195bb",
   "metadata": {},
   "outputs": [
    {
     "data": {
      "image/png": "[encoded data removed]",
      "text/latex": [
       "$\\displaystyle \\frac{2 e^{- x^{2}}}{\\sqrt{\\pi}}$"
      ],
      "text/plain": [
       "     2\n",
       "   -x \n",
       "2⋅ℯ   \n",
       "──────\n",
       "  √π  "
      ]
     },
     "execution_count": 12,
     "metadata": {},
     "output_type": "execute_result"
    }
   ],
   "source": [
    "sm.erf(x).diff(x)"
   ]
  },
  {
   "cell_type": "code",
   "execution_count": null,
   "id": "8a585188-bb78-4ff1-bcc6-627c75e11c05",
   "metadata": {},
   "outputs": [],
   "source": []
  }
 ],
 "metadata": {
  "kernelspec": {
   "display_name": "Python 3",
   "language": "python",
   "name": "python3"
  },
  "language_info": {
   "codemirror_mode": {
    "name": "ipython",
    "version": 3
   },
   "file_extension": ".py",
   "mimetype": "text/x-python",
   "name": "python",
   "nbconvert_exporter": "python",
   "pygments_lexer": "ipython3",
   "version": "3.8.8"
  }
 },
 "nbformat": 4,
 "nbformat_minor": 5
}
