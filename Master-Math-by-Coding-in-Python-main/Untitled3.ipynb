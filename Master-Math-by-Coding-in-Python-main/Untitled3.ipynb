{
 "cells": [
  {
   "cell_type": "code",
   "execution_count": 3,
   "id": "a275a96b-2f97-456f-b67c-822963783428",
   "metadata": {},
   "outputs": [],
   "source": [
    "import sympy as sm\n",
    "import matplotlib.pyplot as pl\n",
    "import numpy as np\n",
    "\n",
    "%matplotlib qt\n",
    "%matplotlib inline"
   ]
  },
  {
   "cell_type": "code",
   "execution_count": 4,
   "id": "6ed5d6b8-2e31-45a9-a419-791dc6efac0b",
   "metadata": {},
   "outputs": [],
   "source": [
    "\n",
    "# 符號變數\n",
    "x, y, z, t, u, v, dx, dy, dz, dt, du, dv= sm.symbols(\n",
    "    'x, y, z, t, u, v, dx, dy, dz, dt, du, dv')\n",
    "\n",
    "π= sm.pi\n"
   ]
  },
  {
   "cell_type": "code",
   "execution_count": 5,
   "id": "55ef9416-5d4d-46e7-a132-c7a260d401a2",
   "metadata": {},
   "outputs": [],
   "source": [
    "import sympy as sm\n",
    "\n",
    "x= sm.symbols('x')\n",
    "\n",
    "y1= 2*x\n",
    "y2= x**2\n",
    "y3= 2**x\n",
    "y4= x**x"
   ]
  },
  {
   "cell_type": "code",
   "execution_count": 6,
   "id": "99ae4e6c-4f73-4db0-bfd8-0905b976731f",
   "metadata": {},
   "outputs": [
    {
     "data": {
      "text/latex": [
       "$\\displaystyle 2$"
      ],
      "text/plain": [
       "2"
      ]
     },
     "execution_count": 6,
     "metadata": {},
     "output_type": "execute_result"
    }
   ],
   "source": [
    "y1.diff(x)"
   ]
  },
  {
   "cell_type": "code",
   "execution_count": 7,
   "id": "aea62f0e-dd06-4bee-9a39-163f269cb5eb",
   "metadata": {},
   "outputs": [
    {
     "data": {
      "text/latex": [
       "$\\displaystyle x^{2}$"
      ],
      "text/plain": [
       "x**2"
      ]
     },
     "execution_count": 7,
     "metadata": {},
     "output_type": "execute_result"
    }
   ],
   "source": [
    "y1.integrate(x)"
   ]
  },
  {
   "cell_type": "code",
   "execution_count": 8,
   "id": "76128a0f-4fea-4f81-b7f9-20b7745ab6c2",
   "metadata": {},
   "outputs": [
    {
     "data": {
      "text/latex": [
       "$\\displaystyle 2 x$"
      ],
      "text/plain": [
       "2*x"
      ]
     },
     "execution_count": 8,
     "metadata": {},
     "output_type": "execute_result"
    }
   ],
   "source": [
    "y2.diff(x)"
   ]
  },
  {
   "cell_type": "code",
   "execution_count": 9,
   "id": "7a6736e3-03ad-48ae-b6d9-860c8e925246",
   "metadata": {},
   "outputs": [
    {
     "data": {
      "text/latex": [
       "$\\displaystyle \\frac{x^{3}}{3}$"
      ],
      "text/plain": [
       "x**3/3"
      ]
     },
     "execution_count": 9,
     "metadata": {},
     "output_type": "execute_result"
    }
   ],
   "source": [
    "y2.integrate(x)"
   ]
  },
  {
   "cell_type": "code",
   "execution_count": 10,
   "id": "3a4984b3-666c-440d-877c-aafa10bb6efe",
   "metadata": {},
   "outputs": [
    {
     "data": {
      "text/latex": [
       "$\\displaystyle 2^{x} \\log{\\left(2 \\right)}$"
      ],
      "text/plain": [
       "2**x*log(2)"
      ]
     },
     "execution_count": 10,
     "metadata": {},
     "output_type": "execute_result"
    }
   ],
   "source": [
    "y3.diff(x)"
   ]
  },
  {
   "cell_type": "code",
   "execution_count": 11,
   "id": "da2e4a5d-c815-4f72-a5a7-5f1eff783bbe",
   "metadata": {},
   "outputs": [
    {
     "data": {
      "text/latex": [
       "$\\displaystyle \\frac{2^{x}}{\\log{\\left(2 \\right)}}$"
      ],
      "text/plain": [
       "2**x/log(2)"
      ]
     },
     "execution_count": 11,
     "metadata": {},
     "output_type": "execute_result"
    }
   ],
   "source": [
    "y3.integrate(x)"
   ]
  },
  {
   "cell_type": "code",
   "execution_count": 12,
   "id": "206a4c5c-c12a-48d9-85f7-318319e4a9e1",
   "metadata": {},
   "outputs": [
    {
     "data": {
      "text/latex": [
       "$\\displaystyle x^{x} \\left(\\log{\\left(x \\right)} + 1\\right)$"
      ],
      "text/plain": [
       "x**x*(log(x) + 1)"
      ]
     },
     "execution_count": 12,
     "metadata": {},
     "output_type": "execute_result"
    }
   ],
   "source": [
    "y4.diff(x)"
   ]
  },
  {
   "cell_type": "code",
   "execution_count": 13,
   "id": "897df6d6-1cd1-4c37-9f1f-b8d8c9a9294d",
   "metadata": {},
   "outputs": [
    {
     "data": {
      "text/latex": [
       "$\\displaystyle \\int x^{x}\\, dx$"
      ],
      "text/plain": [
       "Integral(x**x, x)"
      ]
     },
     "execution_count": 13,
     "metadata": {},
     "output_type": "execute_result"
    }
   ],
   "source": [
    "y4.integrate(x)"
   ]
  },
  {
   "cell_type": "code",
   "execution_count": 14,
   "id": "a25df85f-cbe5-49a3-b40e-bf6244425ab0",
   "metadata": {},
   "outputs": [
    {
     "data": {
      "text/latex": [
       "$\\displaystyle \\int x^{x}\\, dx$"
      ],
      "text/plain": [
       "Integral(x**x, x)"
      ]
     },
     "execution_count": 14,
     "metadata": {},
     "output_type": "execute_result"
    }
   ],
   "source": [
    "(x**x).integrate()"
   ]
  },
  {
   "cell_type": "code",
   "execution_count": 15,
   "id": "1d761406-b72e-4e00-a843-5b42073bfff3",
   "metadata": {},
   "outputs": [],
   "source": [
    "%matplotlib qt\n",
    "\n",
    "fg= sm.plotting.plot(\n",
    "    y1, \n",
    "    y2,\n",
    "    y3,\n",
    "    #y4,\n",
    "    (x,-1,5),\n",
    "    xlabel= f'{x}',\n",
    "    ylabel= f'y',\n",
    "    title=  f'y1, y2, y3= {y1}, {y2}, {y3}',\n",
    "    show= False\n",
    ")\n",
    "fg[0].line_color= 'red'\n",
    "fg[1].line_color= 'green'\n",
    "fg[2].line_color= 'blue'\n",
    "#fg[3].line_color= 'magenta'\n",
    "fg.legend=True\n",
    "fg.show()"
   ]
  },
  {
   "cell_type": "code",
   "execution_count": null,
   "id": "6cbf3624-2280-4b28-afd3-c7b1e6afef54",
   "metadata": {},
   "outputs": [],
   "source": []
  },
  {
   "cell_type": "code",
   "execution_count": null,
   "id": "5975cc5b-9b96-4507-9904-06f79469f158",
   "metadata": {},
   "outputs": [],
   "source": []
  },
  {
   "cell_type": "code",
   "execution_count": 16,
   "id": "8628c537-44af-4824-b99e-93b955a73ecd",
   "metadata": {},
   "outputs": [
    {
     "data": {
      "text/latex": [
       "$\\displaystyle \\int\\limits_{0}^{1} x^{x}\\, dx$"
      ],
      "text/plain": [
       "Integral(x**x, (x, 0, 1))"
      ]
     },
     "execution_count": 16,
     "metadata": {},
     "output_type": "execute_result"
    }
   ],
   "source": [
    "((x**x).integrate((x, 0,1))).evalf()"
   ]
  },
  {
   "cell_type": "code",
   "execution_count": null,
   "id": "69ad091f-6d97-4bc0-90d8-235a5cb085e6",
   "metadata": {},
   "outputs": [],
   "source": []
  },
  {
   "cell_type": "code",
   "execution_count": 17,
   "id": "adb464a7-4f4b-444b-903d-2c67b219aa29",
   "metadata": {},
   "outputs": [],
   "source": [
    "\n",
    "_0= sm.S.Zero\n",
    "_1= sm.S.One"
   ]
  },
  {
   "cell_type": "code",
   "execution_count": 18,
   "id": "aebc38d3-4141-443a-876a-926184b22526",
   "metadata": {},
   "outputs": [
    {
     "data": {
      "text/latex": [
       "$\\displaystyle t$"
      ],
      "text/plain": [
       "t"
      ]
     },
     "execution_count": 18,
     "metadata": {},
     "output_type": "execute_result"
    }
   ],
   "source": [
    "_1.integrate(t)"
   ]
  },
  {
   "cell_type": "code",
   "execution_count": 19,
   "id": "9df29627-ecd5-4962-87c4-2ffcc1c85361",
   "metadata": {},
   "outputs": [
    {
     "data": {
      "text/latex": [
       "$\\displaystyle \\frac{x^{y} y}{x}$"
      ],
      "text/plain": [
       "x**y*y/x"
      ]
     },
     "execution_count": 19,
     "metadata": {},
     "output_type": "execute_result"
    }
   ],
   "source": [
    "(x**y).diff(x)"
   ]
  },
  {
   "cell_type": "code",
   "execution_count": 20,
   "id": "e53f4f7d-bf5e-466e-b90a-e3770f368e80",
   "metadata": {},
   "outputs": [
    {
     "data": {
      "text/latex": [
       "$\\displaystyle x^{y} \\log{\\left(x \\right)}$"
      ],
      "text/plain": [
       "x**y*log(x)"
      ]
     },
     "execution_count": 20,
     "metadata": {},
     "output_type": "execute_result"
    }
   ],
   "source": [
    "(x**y).diff(y)"
   ]
  },
  {
   "cell_type": "code",
   "execution_count": null,
   "id": "c5b52c4a-62f6-44e8-a1ff-31a6be9052ed",
   "metadata": {},
   "outputs": [],
   "source": []
  },
  {
   "cell_type": "code",
   "execution_count": 21,
   "id": "71d93a52-6094-4633-939c-f1c438218445",
   "metadata": {},
   "outputs": [],
   "source": [
    "%matplotlib qt\n",
    "\n",
    "# 函數\n",
    "def f(x,y):\n",
    "    z= x**y\n",
    "    return z\n",
    "\n",
    "x,y = sm.symbols('x, y')\n",
    "z= f(x, y)\n",
    "fg= sm.plotting.plot3d(\n",
    "    z,\n",
    "    (x,0,1),\n",
    "    (y,0,1),\n",
    "    xlabel= f'{x}',\n",
    "    ylabel= f'{y}',\n",
    "    title=  f'{z}',\n",
    "    show= False\n",
    ")\n",
    "\n",
    "fg.show()"
   ]
  },
  {
   "cell_type": "code",
   "execution_count": 22,
   "id": "6755b9a7-608d-4c83-9698-89d67e1e4f7d",
   "metadata": {},
   "outputs": [
    {
     "data": {
      "text/latex": [
       "$\\displaystyle x^{x} \\left(\\log{\\left(x \\right)} + 1\\right)^{2} + \\frac{x^{x}}{x}$"
      ],
      "text/plain": [
       "x**x*(log(x) + 1)**2 + x**x/x"
      ]
     },
     "execution_count": 22,
     "metadata": {},
     "output_type": "execute_result"
    }
   ],
   "source": [
    "(x**x).diff(x).diff(x)"
   ]
  },
  {
   "cell_type": "code",
   "execution_count": 23,
   "id": "689cd98f-def3-4a73-94d6-479bd634488e",
   "metadata": {},
   "outputs": [],
   "source": [
    "z1= x*2\n",
    "z2= x**2\n",
    "z3= 2**x\n",
    "z4= x**x\n",
    "\n",
    "fg= sm.plotting.plot(\n",
    "    #z1,\n",
    "    \n",
    "    #z2, \n",
    "    z3,\n",
    "    z4,\n",
    "    (x,0,3),\n",
    "    xlabel= f'{x}',\n",
    "    title=  f'{z1},{z2},{z3},{z4}',\n",
    "    show= False\n",
    ")\n",
    "\n",
    "fg.show()"
   ]
  },
  {
   "cell_type": "code",
   "execution_count": 24,
   "id": "b448bcd7-5dbe-4222-8162-8036a6edb388",
   "metadata": {},
   "outputs": [
    {
     "data": {
      "text/latex": [
       "$\\displaystyle x^{x} \\left(\\log{\\left(x \\right)} + 1\\right)$"
      ],
      "text/plain": [
       "x**x*(log(x) + 1)"
      ]
     },
     "execution_count": 24,
     "metadata": {},
     "output_type": "execute_result"
    }
   ],
   "source": [
    "z4.diff(x)"
   ]
  },
  {
   "cell_type": "code",
   "execution_count": 25,
   "id": "522588ef-b3fd-45c1-a3cb-a542d6096a84",
   "metadata": {},
   "outputs": [
    {
     "data": {
      "text/latex": [
       "$\\displaystyle 1.0 x$"
      ],
      "text/plain": [
       "1.0*x"
      ]
     },
     "execution_count": 25,
     "metadata": {},
     "output_type": "execute_result"
    }
   ],
   "source": [
    "sm.Float(1).integrate(x)"
   ]
  },
  {
   "cell_type": "code",
   "execution_count": null,
   "id": "1fb4af04-800c-4175-9b5a-053fb3396121",
   "metadata": {},
   "outputs": [],
   "source": []
  },
  {
   "cell_type": "code",
   "execution_count": 26,
   "id": "bf55256a-27d5-4b73-beaa-f6ff30abd19c",
   "metadata": {},
   "outputs": [
    {
     "data": {
      "text/latex": [
       "$\\displaystyle v^{2}$"
      ],
      "text/plain": [
       "v**2"
      ]
     },
     "execution_count": 26,
     "metadata": {},
     "output_type": "execute_result"
    }
   ],
   "source": [
    "x= sm.cos(t)\n",
    "y= sm.sin(t)\n",
    "\n",
    "def z(x,y):\n",
    "    z= x * y**2\n",
    "    return z\n",
    "z(u,v).diff(u)"
   ]
  },
  {
   "cell_type": "code",
   "execution_count": 27,
   "id": "9e976325-1cc4-40cf-bc81-3fcd273c1fbd",
   "metadata": {},
   "outputs": [
    {
     "ename": "AttributeError",
     "evalue": "'function' object has no attribute 'diff'",
     "output_type": "error",
     "traceback": [
      "\u001b[1;31m---------------------------------------------------------------------------\u001b[0m",
      "\u001b[1;31mAttributeError\u001b[0m                            Traceback (most recent call last)",
      "\u001b[1;32m<ipython-input-27-25db7d9153f7>\u001b[0m in \u001b[0;36m<module>\u001b[1;34m\u001b[0m\n\u001b[1;32m----> 1\u001b[1;33m \u001b[0mz\u001b[0m\u001b[1;33m.\u001b[0m\u001b[0mdiff\u001b[0m\u001b[1;33m(\u001b[0m\u001b[0mt\u001b[0m\u001b[1;33m)\u001b[0m\u001b[1;33m\u001b[0m\u001b[1;33m\u001b[0m\u001b[0m\n\u001b[0m",
      "\u001b[1;31mAttributeError\u001b[0m: 'function' object has no attribute 'diff'"
     ]
    }
   ],
   "source": [
    "z.diff(t)"
   ]
  },
  {
   "cell_type": "code",
   "execution_count": null,
   "id": "bea50384-470c-4261-adfd-d0de80155e00",
   "metadata": {},
   "outputs": [],
   "source": []
  },
  {
   "cell_type": "code",
   "execution_count": 28,
   "id": "f7ceb135-501f-400a-aefe-c78425f5094e",
   "metadata": {},
   "outputs": [],
   "source": [
    "# 函數\n",
    "def f(x,y):\n",
    "    z1= x + y\n",
    "    z2= x + y**2\n",
    "    z= z2\n",
    "    \n",
    "    return z\n",
    "\n",
    "x,y = sm.symbols('x, y')\n",
    "z0= x*1e-10+y*1e-10+0 #f(x, y)\n",
    "z1= x  # f(x-3, y-3)\n",
    "z2= y # f(x+3, y+3)\n",
    "fg= sm.plotting.plot3d(\n",
    "    z0,\n",
    "    z1,\n",
    "    #z2,\n",
    "    #z2,\n",
    "    #1e-10/(x+y)+1,\n",
    "    #1e-10/(x+y)+2,\n",
    "    (x,0,1),\n",
    "    (y,0,1),\n",
    "    xlabel= f'{x}',\n",
    "    ylabel= f'{y}',\n",
    "    title=  f'{z}',\n",
    "    #show= False\n",
    ")\n",
    "\n",
    "fg.show()\n"
   ]
  },
  {
   "cell_type": "code",
   "execution_count": 29,
   "id": "2612e4f2-23df-4476-ab75-b12d2fc4cc98",
   "metadata": {},
   "outputs": [
    {
     "data": {
      "text/latex": [
       "$\\displaystyle 0$"
      ],
      "text/plain": [
       "0"
      ]
     },
     "execution_count": 29,
     "metadata": {},
     "output_type": "execute_result"
    }
   ],
   "source": [
    "z0.integrate((x,-10,10),(y,-10,10)).evalf()"
   ]
  },
  {
   "cell_type": "code",
   "execution_count": null,
   "id": "d314857d-23bd-4d44-bf39-97c66e62d540",
   "metadata": {},
   "outputs": [],
   "source": []
  },
  {
   "cell_type": "code",
   "execution_count": null,
   "id": "dbf24712-a0e6-4c3d-8400-18112e7ba1ea",
   "metadata": {},
   "outputs": [],
   "source": []
  },
  {
   "cell_type": "code",
   "execution_count": 30,
   "id": "65a3ea20-aea2-4107-8cd8-305940d19500",
   "metadata": {},
   "outputs": [],
   "source": [
    "#x= t\n",
    "x= sm.symbols('x')\n",
    "\n",
    "y= sm.sqrt(1-x**2)\n",
    "\n",
    "z0= 1e-10*x+1e-10\n",
    "\n",
    "z= sm.sin(10*y)\n",
    "\n",
    "fig= sm.plotting.plot3d_parametric_line(\n",
    "    (x, y, z0,(x,-1,1)),\n",
    "    (x, y, z, (x,-1,1)),\n",
    "    xlabel= f'x= {x}',\n",
    "    ylabel= f'y= {y}',\n",
    "    title=  f'z= {z}',\n",
    "    show= False\n",
    ")\n",
    "fig[0].line_color= 'red'\n",
    "fig.show()"
   ]
  },
  {
   "cell_type": "code",
   "execution_count": 31,
   "id": "16ea6fe3-3b3d-4728-a904-617b3b672881",
   "metadata": {},
   "outputs": [],
   "source": [
    "#sm.plotting.plot3d_parametric_line?"
   ]
  },
  {
   "cell_type": "code",
   "execution_count": 32,
   "id": "c1e789e9-fc63-43f8-bb2b-87530cfdeb41",
   "metadata": {},
   "outputs": [
    {
     "ename": "NameError",
     "evalue": "name 'fig2' is not defined",
     "output_type": "error",
     "traceback": [
      "\u001b[1;31m---------------------------------------------------------------------------\u001b[0m",
      "\u001b[1;31mNameError\u001b[0m                                 Traceback (most recent call last)",
      "\u001b[1;32m<ipython-input-32-73d731ead0b0>\u001b[0m in \u001b[0;36m<module>\u001b[1;34m\u001b[0m\n\u001b[1;32m----> 1\u001b[1;33m \u001b[0mfig2\u001b[0m\u001b[1;33m.\u001b[0m\u001b[0mshow\u001b[0m\u001b[1;33m(\u001b[0m\u001b[1;33m)\u001b[0m\u001b[1;33m\u001b[0m\u001b[1;33m\u001b[0m\u001b[0m\n\u001b[0m",
      "\u001b[1;31mNameError\u001b[0m: name 'fig2' is not defined"
     ]
    }
   ],
   "source": [
    "fig2.show()"
   ]
  },
  {
   "cell_type": "code",
   "execution_count": null,
   "id": "84197f59-139e-444d-b9c6-da363bea332f",
   "metadata": {},
   "outputs": [],
   "source": [
    "\n",
    "x= t\n",
    "y= t\n",
    "z= t\n",
    "sm.plotting.plot3d_parametric_line(\n",
    "    x,\n",
    "    y,\n",
    "    z,\n",
    "    (t,0,1),\n",
    "    xlabel= f'{x}',\n",
    "    ylabel= f'{y}',\n",
    "    title=  f'{z}'\n",
    ")"
   ]
  },
  {
   "cell_type": "code",
   "execution_count": null,
   "id": "a30dd308-2dfe-4b6b-a050-1053d18dba48",
   "metadata": {},
   "outputs": [],
   "source": [
    "θ= sm.symbols('θ')\n",
    "\n",
    "x= sm.cos(θ) \n",
    "y= sm.sin(θ*1e-10)\n",
    "\n",
    "sm.plotting.plot3d_parametric_line(\n",
    "    x,\n",
    "    y,\n",
    "    θ,\n",
    "    (θ, -π*10, π*10),\n",
    "    xlabel= f'x= {x}',\n",
    "    ylabel= f'y= {y}'\n",
    ")"
   ]
  },
  {
   "cell_type": "code",
   "execution_count": null,
   "id": "a7f9895e-0b8c-4110-9334-d21c46a5f982",
   "metadata": {},
   "outputs": [],
   "source": [
    "x= u\n",
    "y= v\n",
    "z= v\n",
    "sm.plotting.plot3d_parametric_surface(\n",
    "    x,\n",
    "    y,\n",
    "    z,\n",
    "    (u,0,1),\n",
    "    (v,0,1),\n",
    "    xlabel='x',\n",
    "    ylabel='y',\n",
    "    zlabel='z'\n",
    ")"
   ]
  },
  {
   "cell_type": "code",
   "execution_count": null,
   "id": "9252f338-0d5f-4486-93ee-079ff2c4a177",
   "metadata": {},
   "outputs": [],
   "source": [
    "i,n,m= sm.symbols('i,n,m')\n",
    "sm.Sum(i,(i,0,n-1))"
   ]
  },
  {
   "cell_type": "code",
   "execution_count": null,
   "id": "cd79b6ea-a5b3-45c1-862b-53b81875146a",
   "metadata": {},
   "outputs": [],
   "source": [
    "sm.Sum(i,(i,0,n-1)).doit()"
   ]
  },
  {
   "cell_type": "code",
   "execution_count": null,
   "id": "7a3f5811-75b6-496f-bc9a-3f68e176b14f",
   "metadata": {},
   "outputs": [],
   "source": [
    "sm.Sum(i**2,(i,0,n-1)).doit()"
   ]
  },
  {
   "cell_type": "code",
   "execution_count": null,
   "id": "1c78fe54-6ff8-421f-bec5-6c7cce7499a4",
   "metadata": {},
   "outputs": [],
   "source": [
    "sm.Sum(i**3,(i,0,n-1)).doit()"
   ]
  },
  {
   "cell_type": "code",
   "execution_count": null,
   "id": "717ed930-857c-4684-aeaa-a4d71b2dccde",
   "metadata": {},
   "outputs": [],
   "source": [
    "sm.Sum(i**10,(i,0,n-1)).doit()"
   ]
  },
  {
   "cell_type": "code",
   "execution_count": null,
   "id": "d388770d-d49a-42ee-8613-6b181160794d",
   "metadata": {},
   "outputs": [],
   "source": [
    "sm.Sum(i**m,(i,0,n-1)).doit()"
   ]
  },
  {
   "cell_type": "code",
   "execution_count": null,
   "id": "d0240fb3-4b69-49b7-a26f-f044f508c2e3",
   "metadata": {},
   "outputs": [],
   "source": [
    "def f(x,y):\n",
    "    z= x+2*y\n",
    "    return z\n",
    "\n",
    "z= f(x,y)\n",
    "z"
   ]
  },
  {
   "cell_type": "code",
   "execution_count": null,
   "id": "d6d2e29c-1f1f-4f93-b472-56c73c3dd909",
   "metadata": {},
   "outputs": [],
   "source": [
    "dz= f(x+dx, y+dy) -f(x,y)\n",
    "dz"
   ]
  },
  {
   "cell_type": "code",
   "execution_count": null,
   "id": "3e494e0f-7383-43ab-8c7f-7c7ae0dd178e",
   "metadata": {},
   "outputs": [],
   "source": [
    "# 符號變數\n",
    "x, y, z, t, u, v, dx, dy, dz, dt, du, dv, ϵ, ϵ0, ϵ1= sm.symbols(\n",
    "    'x, y, z, t, u, v, dx, dy, dz, dt, du, dv, ϵ, ϵ0, ϵ1')"
   ]
  },
  {
   "cell_type": "code",
   "execution_count": null,
   "id": "5b87163d-8ef3-4cf8-89c2-70d680b21779",
   "metadata": {},
   "outputs": [],
   "source": [
    "z=  f(x,y)\n",
    "dz= f(x+ϵ0, y+ϵ1) - f(x,y)\n",
    "z, dz"
   ]
  },
  {
   "cell_type": "code",
   "execution_count": null,
   "id": "22d2c50d-3a95-4a88-81fe-ad586b1a0488",
   "metadata": {},
   "outputs": [],
   "source": [
    "(dz/ϵ0).subs(ϵ1, 0)"
   ]
  },
  {
   "cell_type": "code",
   "execution_count": null,
   "id": "0af31ac2-6b0e-49bd-beb7-38b6f451ca80",
   "metadata": {},
   "outputs": [],
   "source": [
    "(dz/ϵ1).subs(ϵ0, 0)"
   ]
  },
  {
   "cell_type": "code",
   "execution_count": null,
   "id": "cf334fda-3075-40c9-9929-6362a93e855b",
   "metadata": {},
   "outputs": [],
   "source": []
  }
 ],
 "metadata": {
  "kernelspec": {
   "display_name": "Python 3",
   "language": "python",
   "name": "python3"
  },
  "language_info": {
   "codemirror_mode": {
    "name": "ipython",
    "version": 3
   },
   "file_extension": ".py",
   "mimetype": "text/x-python",
   "name": "python",
   "nbconvert_exporter": "python",
   "pygments_lexer": "ipython3",
   "version": "3.8.8"
  }
 },
 "nbformat": 4,
 "nbformat_minor": 5
}
