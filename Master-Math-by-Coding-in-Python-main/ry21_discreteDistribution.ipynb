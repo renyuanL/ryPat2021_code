{
 "cells": [
  {
   "cell_type": "code",
   "execution_count": 2,
   "id": "18443e6c-14f7-47e6-9fd2-f3783ca9bc15",
   "metadata": {},
   "outputs": [],
   "source": [
    "from ryPat import *\n"
   ]
  },
  {
   "cell_type": "code",
   "execution_count": 82,
   "id": "939db892-8491-4ca4-b011-c7c64856df06",
   "metadata": {},
   "outputs": [],
   "source": [
    "import seaborn as sb\n",
    "sb.set_theme()\n"
   ]
  },
  {
   "cell_type": "code",
   "execution_count": 129,
   "id": "0113dad5-9b87-4e62-b5df-3c1a151a579d",
   "metadata": {},
   "outputs": [
    {
     "data": {
      "text/plain": [
       "(array([0, 0, 0, 0, 0, 1, 0, 0, 1, 0]),\n",
       " array([0.8, 0.2]),\n",
       " array([0.8, 1. ]),\n",
       " array([-1.,  0.,  0.,  0.,  1.]))"
      ]
     },
     "execution_count": 129,
     "metadata": {},
     "output_type": "execute_result"
    }
   ],
   "source": [
    "import scipy.stats as st\n",
    "import scipy.special as sc\n",
    "\n",
    "percent_points= 百分位= [0, 1/4, 2/4, 3/4, 1]\n",
    "\n",
    "# Bernoulli\n",
    "k= [0,1]\n",
    "\n",
    "X=   st.bernoulli(p= 0.2).rvs(size= 10)\n",
    "pmf= st.bernoulli(p= 0.2).pmf(k)\n",
    "cdf= st.bernoulli(p= 0.2).cdf(k)\n",
    "ppf= st.bernoulli(p= 0.2).ppf(percent_points)\n",
    "X, pmf, cdf, ppf\n"
   ]
  },
  {
   "cell_type": "code",
   "execution_count": 124,
   "id": "83fbee85-29fb-45c3-9b7f-0be9837015d8",
   "metadata": {},
   "outputs": [
    {
     "data": {
      "text/plain": [
       "(array([4, 7, 0, 9, 8, 6, 8, 5, 7, 0]),\n",
       " array([0.1, 0.1, 0.1, 0.1, 0.1, 0.1, 0.1, 0.1, 0.1, 0.1, 0. ]),\n",
       " array([0.1, 0.2, 0.3, 0.4, 0.5, 0.6, 0.7, 0.8, 0.9, 1. , 1. ]),\n",
       " array([-1.,  2.,  4.,  7.,  9.]))"
      ]
     },
     "execution_count": 124,
     "metadata": {},
     "output_type": "execute_result"
    }
   ],
   "source": [
    "# Discrete Uniform (randint)\n",
    "k=   np.arange(0,11)\n",
    "\n",
    "\n",
    "X=   st.randint(low=0, high=10).rvs(size= 10)\n",
    "pmf= st.randint(low=0, high=10).pmf(k)\n",
    "cdf= st.randint(low=0, high=10).cdf(k)\n",
    "ppf= st.randint(low=0, high=10).ppf(percent_points)\n",
    "X, pmf, cdf, ppf"
   ]
  },
  {
   "cell_type": "code",
   "execution_count": 125,
   "id": "26528382-5e6e-4750-942e-71465435c86c",
   "metadata": {},
   "outputs": [
    {
     "data": {
      "text/plain": [
       "(array([1, 2, 4, 1, 1, 1, 1, 2, 0, 4]),\n",
       " array([1.07374182e-01, 2.68435456e-01, 3.01989888e-01, 2.01326592e-01,\n",
       "        8.80803840e-02, 2.64241152e-02, 5.50502400e-03, 7.86432000e-04,\n",
       "        7.37280000e-05, 4.09600000e-06, 1.02400000e-07]),\n",
       " array([0.10737418, 0.37580964, 0.67779953, 0.87912612, 0.9672065 ,\n",
       "        0.99363062, 0.99913564, 0.99992207, 0.9999958 , 0.9999999 ,\n",
       "        1.        ]),\n",
       " array([-1.,  1.,  2.,  3., 10.]))"
      ]
     },
     "execution_count": 125,
     "metadata": {},
     "output_type": "execute_result"
    }
   ],
   "source": [
    "# Binomial\n",
    "k=   np.arange(0,11)\n",
    "\n",
    "X=   st.binom(n=10, p= 0.2).rvs(size= 10)\n",
    "pmf= st.binom(n=10, p= 0.2).pmf(k)\n",
    "cdf= st.binom(n=10, p= 0.2).cdf(k)\n",
    "ppf= st.binom(n=10, p= 0.2).ppf(percent_points)\n",
    "X, pmf, cdf, ppf"
   ]
  },
  {
   "cell_type": "code",
   "execution_count": 126,
   "id": "b4ef6d9b-d462-4b7b-9d2e-bdb164fe9b1a",
   "metadata": {},
   "outputs": [
    {
     "data": {
      "text/plain": [
       "(array([1, 3, 1, 3, 2, 2, 3, 1, 3, 5]),\n",
       " array([1.35335283e-01, 2.70670566e-01, 2.70670566e-01, 1.80447044e-01,\n",
       "        9.02235222e-02, 3.60894089e-02, 1.20298030e-02, 3.43708656e-03,\n",
       "        8.59271640e-04, 1.90949253e-04, 3.81898506e-05]),\n",
       " array([0.13533528, 0.40600585, 0.67667642, 0.85712346, 0.94734698,\n",
       "        0.98343639, 0.99546619, 0.99890328, 0.99976255, 0.9999535 ,\n",
       "        0.99999169]),\n",
       " array([-1.,  1.,  2.,  3., inf]))"
      ]
     },
     "execution_count": 126,
     "metadata": {},
     "output_type": "execute_result"
    }
   ],
   "source": [
    "# Poisson\n",
    "k=   np.arange(0,11)\n",
    "X=   st.poisson(mu=2).rvs(size= 10)\n",
    "pmf= st.poisson(mu=2).pmf(k)\n",
    "cdf= st.poisson(mu=2).cdf(k)\n",
    "ppf= st.poisson(mu=2).ppf(percent_points)\n",
    "X, pmf, cdf, ppf"
   ]
  },
  {
   "cell_type": "code",
   "execution_count": 127,
   "id": "c895d6cb-f8c2-4676-9846-e661a1bc71a6",
   "metadata": {},
   "outputs": [
    {
     "data": {
      "text/plain": [
       "(array([ 9,  1,  7,  3, 22, 11, 13,  9,  1,  2]),\n",
       " array([0.        , 0.2       , 0.16      , 0.128     , 0.1024    ,\n",
       "        0.08192   , 0.065536  , 0.0524288 , 0.04194304, 0.03355443,\n",
       "        0.02684355, 0.02147484, 0.01717987, 0.0137439 , 0.01099512,\n",
       "        0.00879609, 0.00703687, 0.0056295 , 0.0045036 , 0.00360288,\n",
       "        0.0028823 ]),\n",
       " array([0.        , 0.2       , 0.36      , 0.488     , 0.5904    ,\n",
       "        0.67232   , 0.737856  , 0.7902848 , 0.83222784, 0.86578227,\n",
       "        0.89262582, 0.91410065, 0.93128052, 0.94502442, 0.95601953,\n",
       "        0.96481563, 0.9718525 , 0.977482  , 0.9819856 , 0.98558848,\n",
       "        0.98847078]),\n",
       " array([ 0.,  2.,  4.,  7., inf]))"
      ]
     },
     "execution_count": 127,
     "metadata": {},
     "output_type": "execute_result"
    }
   ],
   "source": [
    "# Geometric\n",
    "k=   np.arange(0,21)\n",
    "X=   st.geom(p=.2).rvs(size= 10)\n",
    "pmf= st.geom(p=.2).pmf(k)\n",
    "cdf= st.geom(p=.2).cdf(k)\n",
    "ppf= st.geom(p=.2).ppf(percent_points)\n",
    "X, pmf, cdf, ppf"
   ]
  },
  {
   "cell_type": "code",
   "execution_count": 128,
   "id": "56bc8c90-4443-4360-9b84-2576e5f49a39",
   "metadata": {},
   "outputs": [
    {
     "data": {
      "text/plain": [
       "(array([49, 39, 20, 31, 21, 49, 46, 11, 27, 24]),\n",
       " array([1.02400000e-07, 8.19200000e-07, 3.60448000e-06, 1.15343360e-05,\n",
       "        2.99892736e-05, 6.71759729e-05, 1.34351946e-04, 2.45672129e-04,\n",
       "        4.17642620e-04, 6.68228192e-04, 1.01570685e-03, 1.47739178e-03,\n",
       "        2.06834850e-03, 2.80022566e-03, 3.68029658e-03, 4.71077962e-03,\n",
       "        5.88847453e-03, 7.20472177e-03, 8.64566613e-03, 1.01927853e-02,\n",
       "        1.18236310e-02]),\n",
       " array([1.02400000e-07, 9.21600000e-07, 4.52608000e-06, 1.60604160e-05,\n",
       "        4.60496896e-05, 1.13225662e-04, 2.47577608e-04, 4.93249738e-04,\n",
       "        9.10892357e-04, 1.57912055e-03, 2.59482740e-03, 4.07221918e-03,\n",
       "        6.14056768e-03, 8.94079334e-03, 1.26210899e-02, 1.73318695e-02,\n",
       "        2.32203441e-02, 3.04250658e-02, 3.90707320e-02, 4.92635173e-02,\n",
       "        6.10871483e-02]),\n",
       " array([-1., 30., 39., 49., inf]))"
      ]
     },
     "execution_count": 128,
     "metadata": {},
     "output_type": "execute_result"
    }
   ],
   "source": [
    "# Negative Binomial\n",
    "\n",
    "k=   np.arange(0,21)\n",
    "X=   st.nbinom(n=10, p= 0.2).rvs(size= 10)\n",
    "pmf= st.nbinom(n=10, p= 0.2).pmf(k)\n",
    "cdf= st.nbinom(n=10, p= 0.2).cdf(k)\n",
    "ppf= st.nbinom(n=10, p= 0.2).ppf(percent_points)\n",
    "X, pmf, cdf, ppf"
   ]
  },
  {
   "cell_type": "code",
   "execution_count": null,
   "id": "481ea7ca-c21c-4396-b26b-1b104d57bd4d",
   "metadata": {},
   "outputs": [],
   "source": []
  },
  {
   "cell_type": "code",
   "execution_count": null,
   "id": "3b0642ca-ad77-4b68-ba33-374a3064b726",
   "metadata": {},
   "outputs": [],
   "source": []
  },
  {
   "cell_type": "code",
   "execution_count": null,
   "id": "dfb0c202-598f-4f9c-ab4f-3787c75034df",
   "metadata": {},
   "outputs": [],
   "source": []
  },
  {
   "cell_type": "code",
   "execution_count": null,
   "id": "87b29f95-fda1-42af-90dd-fa7ea33bf1a3",
   "metadata": {},
   "outputs": [],
   "source": []
  },
  {
   "cell_type": "code",
   "execution_count": null,
   "id": "fab5ac4d-4cef-4dcb-984a-d85b8308c135",
   "metadata": {},
   "outputs": [],
   "source": []
  },
  {
   "cell_type": "code",
   "execution_count": 75,
   "id": "09c1ae8a-3762-4617-b8b4-be08cda04f72",
   "metadata": {},
   "outputs": [
    {
     "data": {
      "image/png": "[encoded data removed]",
      "text/latex": [
       "$\\displaystyle p$"
      ],
      "text/plain": [
       "p"
      ]
     },
     "execution_count": 75,
     "metadata": {},
     "output_type": "execute_result"
    }
   ],
   "source": [
    "# Bernoulli\n",
    "def f(k,p):\n",
    "    y= sm.Piecewise(\n",
    "        (1-p, k==0),\n",
    "        (p, k==1)\n",
    "    )\n",
    "    return y\n",
    "f(1,p)"
   ]
  },
  {
   "cell_type": "code",
   "execution_count": 80,
   "id": "d46e4c4e-7e9b-428e-ac59-dc5fd8dffa9f",
   "metadata": {},
   "outputs": [
    {
     "data": {
      "image/png": "[encoded data removed]",
      "text/latex": [
       "$\\displaystyle \\text{NaN}$"
      ],
      "text/plain": [
       "nan"
      ]
     },
     "execution_count": 80,
     "metadata": {},
     "output_type": "execute_result"
    }
   ],
   "source": [
    "k= sm.symbols('k', integer=True, positive=True)\n",
    "y= lambda k:sm.Piecewise(\n",
    "    (1-p, k==0),\n",
    "    (p, k==1)\n",
    ")\n",
    "sm.Sum(y(k),(k,0,1))"
   ]
  },
  {
   "cell_type": "code",
   "execution_count": 77,
   "id": "29596dd0-9ade-497f-a734-a0fd23614df1",
   "metadata": {},
   "outputs": [
    {
     "data": {
      "text/plain": [
       "\u001b[1;31mInit signature:\u001b[0m \u001b[0msm\u001b[0m\u001b[1;33m.\u001b[0m\u001b[0mSum\u001b[0m\u001b[1;33m(\u001b[0m\u001b[0mfunction\u001b[0m\u001b[1;33m,\u001b[0m \u001b[1;33m*\u001b[0m\u001b[0msymbols\u001b[0m\u001b[1;33m,\u001b[0m \u001b[1;33m**\u001b[0m\u001b[0massumptions\u001b[0m\u001b[1;33m)\u001b[0m\u001b[1;33m\u001b[0m\u001b[1;33m\u001b[0m\u001b[0m\n",
       "\u001b[1;31mDocstring:\u001b[0m     \n",
       "Represents unevaluated summation.\n",
       "\n",
       "Explanation\n",
       "===========\n",
       "\n",
       "``Sum`` represents a finite or infinite series, with the first argument\n",
       "being the general form of terms in the series, and the second argument\n",
       "being ``(dummy_variable, start, end)``, with ``dummy_variable`` taking\n",
       "all integer values from ``start`` through ``end``. In accordance with\n",
       "long-standing mathematical convention, the end term is included in the\n",
       "summation.\n",
       "\n",
       "Finite sums\n",
       "===========\n",
       "\n",
       "For finite sums (and sums with symbolic limits assumed to be finite) we\n",
       "follow the summation convention described by Karr [1], especially\n",
       "definition 3 of section 1.4. The sum:\n",
       "\n",
       ".. math::\n",
       "\n",
       "    \\sum_{m \\leq i < n} f(i)\n",
       "\n",
       "has *the obvious meaning* for `m < n`, namely:\n",
       "\n",
       ".. math::\n",
       "\n",
       "    \\sum_{m \\leq i < n} f(i) = f(m) + f(m+1) + \\ldots + f(n-2) + f(n-1)\n",
       "\n",
       "with the upper limit value `f(n)` excluded. The sum over an empty set is\n",
       "zero if and only if `m = n`:\n",
       "\n",
       ".. math::\n",
       "\n",
       "    \\sum_{m \\leq i < n} f(i) = 0  \\quad \\mathrm{for} \\quad  m = n\n",
       "\n",
       "Finally, for all other sums over empty sets we assume the following\n",
       "definition:\n",
       "\n",
       ".. math::\n",
       "\n",
       "    \\sum_{m \\leq i < n} f(i) = - \\sum_{n \\leq i < m} f(i)  \\quad \\mathrm{for} \\quad  m > n\n",
       "\n",
       "It is important to note that Karr defines all sums with the upper\n",
       "limit being exclusive. This is in contrast to the usual mathematical notation,\n",
       "but does not affect the summation convention. Indeed we have:\n",
       "\n",
       ".. math::\n",
       "\n",
       "    \\sum_{m \\leq i < n} f(i) = \\sum_{i = m}^{n - 1} f(i)\n",
       "\n",
       "where the difference in notation is intentional to emphasize the meaning,\n",
       "with limits typeset on the top being inclusive.\n",
       "\n",
       "Examples\n",
       "========\n",
       "\n",
       ">>> from sympy.abc import i, k, m, n, x\n",
       ">>> from sympy import Sum, factorial, oo, IndexedBase, Function\n",
       ">>> Sum(k, (k, 1, m))\n",
       "Sum(k, (k, 1, m))\n",
       ">>> Sum(k, (k, 1, m)).doit()\n",
       "m**2/2 + m/2\n",
       ">>> Sum(k**2, (k, 1, m))\n",
       "Sum(k**2, (k, 1, m))\n",
       ">>> Sum(k**2, (k, 1, m)).doit()\n",
       "m**3/3 + m**2/2 + m/6\n",
       ">>> Sum(x**k, (k, 0, oo))\n",
       "Sum(x**k, (k, 0, oo))\n",
       ">>> Sum(x**k, (k, 0, oo)).doit()\n",
       "Piecewise((1/(1 - x), Abs(x) < 1), (Sum(x**k, (k, 0, oo)), True))\n",
       ">>> Sum(x**k/factorial(k), (k, 0, oo)).doit()\n",
       "exp(x)\n",
       "\n",
       "Here are examples to do summation with symbolic indices.  You\n",
       "can use either Function of IndexedBase classes:\n",
       "\n",
       ">>> f = Function('f')\n",
       ">>> Sum(f(n), (n, 0, 3)).doit()\n",
       "f(0) + f(1) + f(2) + f(3)\n",
       ">>> Sum(f(n), (n, 0, oo)).doit()\n",
       "Sum(f(n), (n, 0, oo))\n",
       ">>> f = IndexedBase('f')\n",
       ">>> Sum(f[n]**2, (n, 0, 3)).doit()\n",
       "f[0]**2 + f[1]**2 + f[2]**2 + f[3]**2\n",
       "\n",
       "An example showing that the symbolic result of a summation is still\n",
       "valid for seemingly nonsensical values of the limits. Then the Karr\n",
       "convention allows us to give a perfectly valid interpretation to\n",
       "those sums by interchanging the limits according to the above rules:\n",
       "\n",
       ">>> S = Sum(i, (i, 1, n)).doit()\n",
       ">>> S\n",
       "n**2/2 + n/2\n",
       ">>> S.subs(n, -4)\n",
       "6\n",
       ">>> Sum(i, (i, 1, -4)).doit()\n",
       "6\n",
       ">>> Sum(-i, (i, -3, 0)).doit()\n",
       "6\n",
       "\n",
       "An explicit example of the Karr summation convention:\n",
       "\n",
       ">>> S1 = Sum(i**2, (i, m, m+n-1)).doit()\n",
       ">>> S1\n",
       "m**2*n + m*n**2 - m*n + n**3/3 - n**2/2 + n/6\n",
       ">>> S2 = Sum(i**2, (i, m+n, m-1)).doit()\n",
       ">>> S2\n",
       "-m**2*n - m*n**2 + m*n - n**3/3 + n**2/2 - n/6\n",
       ">>> S1 + S2\n",
       "0\n",
       ">>> S3 = Sum(i, (i, m, m-1)).doit()\n",
       ">>> S3\n",
       "0\n",
       "\n",
       "See Also\n",
       "========\n",
       "\n",
       "summation\n",
       "Product, sympy.concrete.products.product\n",
       "\n",
       "References\n",
       "==========\n",
       "\n",
       ".. [1] Michael Karr, \"Summation in Finite Terms\", Journal of the ACM,\n",
       "       Volume 28 Issue 2, April 1981, Pages 305-350\n",
       "       http://dl.acm.org/citation.cfm?doid=322248.322255\n",
       ".. [2] https://en.wikipedia.org/wiki/Summation#Capital-sigma_notation\n",
       ".. [3] https://en.wikipedia.org/wiki/Empty_sum\n",
       "\u001b[1;31mFile:\u001b[0m           m:\\programdata\\anaconda3\\lib\\site-packages\\sympy\\concrete\\summations.py\n",
       "\u001b[1;31mType:\u001b[0m           ManagedProperties\n",
       "\u001b[1;31mSubclasses:\u001b[0m     \n"
      ]
     },
     "metadata": {},
     "output_type": "display_data"
    }
   ],
   "source": [
    "sm.Sum?"
   ]
  },
  {
   "cell_type": "code",
   "execution_count": null,
   "id": "18c393f3-0392-44de-8062-0b995f296f06",
   "metadata": {},
   "outputs": [],
   "source": []
  }
 ],
 "metadata": {
  "kernelspec": {
   "display_name": "Python 3",
   "language": "python",
   "name": "python3"
  },
  "language_info": {
   "codemirror_mode": {
    "name": "ipython",
    "version": 3
   },
   "file_extension": ".py",
   "mimetype": "text/x-python",
   "name": "python",
   "nbconvert_exporter": "python",
   "pygments_lexer": "ipython3",
   "version": "3.8.8"
  }
 },
 "nbformat": 4,
 "nbformat_minor": 5
}
