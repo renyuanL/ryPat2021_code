{
 "cells": [
  {
   "cell_type": "code",
   "execution_count": 41,
   "id": "97ed28a4-d159-4118-ae1c-f57a89a59cf4",
   "metadata": {},
   "outputs": [],
   "source": [
    "import sympy as sym\n",
    "import matplotlib.pyplot as pl\n",
    "import numpy as np\n",
    "\n",
    "from scipy.signal import find_peaks\n",
    "from IPython.display import display, Math\n",
    "\n",
    "from sympy.abc import *\n"
   ]
  },
  {
   "cell_type": "code",
   "execution_count": 58,
   "id": "9b290934-118d-4499-bcce-939efd63d0ec",
   "metadata": {},
   "outputs": [],
   "source": [
    "# 符號變數\n",
    "x, y, z= sym.symbols('x, y, z')\n",
    "\n",
    "# 函數\n",
    "def f(x):\n",
    "    y= 1 + x + x**2\n",
    "    return y\n",
    "\n",
    "def g(x):\n",
    "    y= x**3\n",
    "    return y\n",
    "\n",
    "def h(x):\n",
    "    #y= f(x) + g(x)\n",
    "    #y= f(x) * g(x)\n",
    "    y= f(g(x))\n",
    "    return y"
   ]
  },
  {
   "cell_type": "code",
   "execution_count": 43,
   "id": "e6ac236a-003c-4b7b-9f05-423b5b0d3cf3",
   "metadata": {},
   "outputs": [
    {
     "data": {
      "text/latex": [
       "$\\displaystyle x$"
      ],
      "text/plain": [
       "x"
      ]
     },
     "execution_count": 43,
     "metadata": {},
     "output_type": "execute_result"
    }
   ],
   "source": [
    "x"
   ]
  },
  {
   "cell_type": "code",
   "execution_count": 44,
   "id": "5f764d8a-9aec-4e1d-916e-9df9b63dc52f",
   "metadata": {},
   "outputs": [
    {
     "data": {
      "text/latex": [
       "$\\displaystyle y$"
      ],
      "text/plain": [
       "y"
      ]
     },
     "execution_count": 44,
     "metadata": {},
     "output_type": "execute_result"
    }
   ],
   "source": [
    "y"
   ]
  },
  {
   "cell_type": "code",
   "execution_count": 45,
   "id": "857efd25-e738-429b-b33b-4ca1483318f9",
   "metadata": {},
   "outputs": [
    {
     "data": {
      "text/latex": [
       "$\\displaystyle z$"
      ],
      "text/plain": [
       "z"
      ]
     },
     "execution_count": 45,
     "metadata": {},
     "output_type": "execute_result"
    }
   ],
   "source": [
    "z"
   ]
  },
  {
   "cell_type": "code",
   "execution_count": 48,
   "id": "bb896595-6e76-4e5a-a90b-a2c6e633083c",
   "metadata": {},
   "outputs": [
    {
     "data": {
      "text/latex": [
       "$\\displaystyle x^{2} + x + 1$"
      ],
      "text/plain": [
       "x**2 + x + 1"
      ]
     },
     "execution_count": 48,
     "metadata": {},
     "output_type": "execute_result"
    }
   ],
   "source": [
    "f(x)"
   ]
  },
  {
   "cell_type": "code",
   "execution_count": 49,
   "id": "c6ab5e2c-2638-474a-8e05-8696079d996e",
   "metadata": {},
   "outputs": [
    {
     "data": {
      "text/latex": [
       "$\\displaystyle y^{3}$"
      ],
      "text/plain": [
       "y**3"
      ]
     },
     "execution_count": 49,
     "metadata": {},
     "output_type": "execute_result"
    }
   ],
   "source": [
    "g(y)\n"
   ]
  },
  {
   "cell_type": "code",
   "execution_count": 55,
   "id": "adb8eaba-a612-4caa-945e-cf6b07121445",
   "metadata": {},
   "outputs": [
    {
     "data": {
      "text/latex": [
       "$\\displaystyle x$"
      ],
      "text/plain": [
       "x"
      ]
     },
     "execution_count": 55,
     "metadata": {},
     "output_type": "execute_result"
    }
   ],
   "source": [
    "x"
   ]
  },
  {
   "cell_type": "code",
   "execution_count": 57,
   "id": "95d514ad-262a-4b37-ab8a-4c62d50c8859",
   "metadata": {},
   "outputs": [
    {
     "data": {
      "text/latex": [
       "$\\displaystyle x^{6} + x^{3} + 1$"
      ],
      "text/plain": [
       "x**6 + x**3 + 1"
      ]
     },
     "execution_count": 57,
     "metadata": {},
     "output_type": "execute_result"
    }
   ],
   "source": [
    "f(g(x))"
   ]
  },
  {
   "cell_type": "code",
   "execution_count": 60,
   "id": "09a50f81-9a52-49e1-baad-5c334709fd24",
   "metadata": {},
   "outputs": [
    {
     "data": {
      "text/latex": [
       "$\\displaystyle x^{6} + x^{3} + 1$"
      ],
      "text/plain": [
       "x**6 + x**3 + 1"
      ]
     },
     "execution_count": 60,
     "metadata": {},
     "output_type": "execute_result"
    }
   ],
   "source": [
    "h(x)"
   ]
  },
  {
   "cell_type": "markdown",
   "id": "baacc5e3-cefd-408b-9e79-c8d62dd18654",
   "metadata": {},
   "source": [
    "# sys.float_info\n",
    "https://docs.python.org/3/library/sys.html#sys.float_info\n"
   ]
  },
  {
   "cell_type": "code",
   "execution_count": 155,
   "id": "3f28639b-6585-4d99-a0ae-b5e44ad63c63",
   "metadata": {},
   "outputs": [],
   "source": [
    "#sys.float_info\n",
    "\n",
    "'''\n",
    "sys.float_info(\n",
    "    max=1.7976931348623157e+308, \n",
    "    max_exp=1024, \n",
    "    max_10_exp=308, \n",
    "    min= 2.2250738585072014e-308,  ## 最小值 \n",
    "    min_exp=-1021, \n",
    "    min_10_exp=-307, \n",
    "    dig=15, \n",
    "    mant_dig=53, \n",
    "    epsilon= 2.220446049250313e-16, ## 最小有差別的值?\n",
    "    radix=2, \n",
    "    rounds=1)\n",
    "'''\n",
    "sys.float_info.epsilon, sys.float_info.min"
   ]
  },
  {
   "cell_type": "code",
   "execution_count": 182,
   "id": "d298c98d-e83d-4ac6-b3f4-ac8744484125",
   "metadata": {},
   "outputs": [
    {
     "data": {
      "text/plain": [
       "True"
      ]
     },
     "execution_count": 182,
     "metadata": {},
     "output_type": "execute_result"
    }
   ],
   "source": [
    "#\n",
    "# epsilon= 2.220446049250313e-16, ## 最小有差別的值?\n",
    "#\n",
    "\n",
    "all((\n",
    "2.220446049250313e-16 == 2.220446049250313e-16,\n",
    "2.220446049250313e-16 == 2.2204460492503130e-16,\n",
    "2.220446049250313e-16 == 2.2204460492503131e-16,\n",
    "2.220446049250313e-16 == 2.2204460492503132e-16, \n",
    "2.220446049250313e-16 == 2.2204460492503133e-16\n",
    ")) "
   ]
  },
  {
   "cell_type": "code",
   "execution_count": 209,
   "id": "b91ebc70-e3ee-42c7-afea-87d74dc12fe8",
   "metadata": {},
   "outputs": [
    {
     "data": {
      "text/plain": [
       "True"
      ]
     },
     "execution_count": 209,
     "metadata": {},
     "output_type": "execute_result"
    }
   ],
   "source": [
    "all((\n",
    "2.2250738585072014e-308 == 2.2250738585072014e-308,\n",
    "2.2250738585072014e-308 == 2.22507385850720140e-308,\n",
    "2.2250738585072014e-308 == 2.22507385850720141e-308,\n",
    "2.2250738585072014e-308 == 2.22507385850720142e-308,\n",
    "2.2250738585072014e-308 == 2.22507385850720143e-308,\n",
    "2.2250738585072014e-308 == 2.22507385850720144e-308,\n",
    "2.2250738585072014e-308 == 2.22507385850720145e-308,\n",
    "2.2250738585072014e-308 == 2.22507385850720146e-308,\n",
    "2.2250738585072014e-308 == 2.22507385850720147e-308,\n",
    "2.2250738585072014e-308 == 2.22507385850720148e-308,\n",
    "2.2250738585072014e-308 == 2.22507385850720149e-308,\n",
    "2.2250738585072014e-308 == 2.22507385850720150e-308,\n",
    "2.2250738585072014e-308 == 2.2250738585072013e-308,\n",
    "2.2250738585072014e-308 == 2.2250738585072012e-308,\n",
    "))"
   ]
  },
  {
   "cell_type": "markdown",
   "id": "aef37f13-f33c-44d1-b3d6-d380352a3f75",
   "metadata": {},
   "source": [
    "# 微分的觀念從這裡起跑...\n"
   ]
  },
  {
   "cell_type": "code",
   "execution_count": 273,
   "id": "bdb70758-4877-45c6-995b-1c387130c4e2",
   "metadata": {
    "collapsed": true,
    "jupyter": {
     "outputs_hidden": true
    },
    "tags": []
   },
   "outputs": [
    {
     "data": {
      "text/latex": [
       "$\\displaystyle x^{4}$"
      ],
      "text/plain": [
       "x**4"
      ]
     },
     "execution_count": 273,
     "metadata": {},
     "output_type": "execute_result"
    }
   ],
   "source": [
    "# 微分的觀念從這裡起跑...\n",
    "\n",
    "import sys\n",
    "\n",
    "#  ϵ= sys.float_info.epsilon # 0^{+}\n",
    "\n",
    "x, ϵ, dx= sym.symbols('x, ϵ, dx')\n",
    "\n",
    "def f(t):\n",
    "    y= t**4\n",
    "    return y\n",
    "\n",
    "f(x)"
   ]
  },
  {
   "cell_type": "code",
   "execution_count": 274,
   "id": "0eff57c1-a77a-4608-9951-2969f3a321ee",
   "metadata": {
    "collapsed": true,
    "jupyter": {
     "outputs_hidden": true
    },
    "tags": []
   },
   "outputs": [
    {
     "data": {
      "text/latex": [
       "$\\displaystyle ϵ^{4}$"
      ],
      "text/plain": [
       "ϵ**4"
      ]
     },
     "execution_count": 274,
     "metadata": {},
     "output_type": "execute_result"
    }
   ],
   "source": [
    "f(ϵ)"
   ]
  },
  {
   "cell_type": "code",
   "execution_count": 275,
   "id": "4888579b-763a-4dd2-bc6b-9c8f0961f013",
   "metadata": {
    "collapsed": true,
    "jupyter": {
     "outputs_hidden": true
    },
    "tags": []
   },
   "outputs": [
    {
     "data": {
      "text/latex": [
       "$\\displaystyle dx^{4}$"
      ],
      "text/plain": [
       "dx**4"
      ]
     },
     "execution_count": 275,
     "metadata": {},
     "output_type": "execute_result"
    }
   ],
   "source": [
    "f(dx) # 注意一下: d(x**4), (dx)**4 的分別"
   ]
  },
  {
   "cell_type": "code",
   "execution_count": 276,
   "id": "f5202fd5-0da5-40c8-9922-ef254c2a1bf0",
   "metadata": {
    "collapsed": true,
    "jupyter": {
     "outputs_hidden": true
    },
    "tags": []
   },
   "outputs": [
    {
     "data": {
      "text/latex": [
       "$\\displaystyle dx^{4}$"
      ],
      "text/plain": [
       "dx**4"
      ]
     },
     "execution_count": 276,
     "metadata": {},
     "output_type": "execute_result"
    }
   ],
   "source": [
    "(dx)**4  # 這個有定義，因為 dx 已視為一個符號變數"
   ]
  },
  {
   "cell_type": "code",
   "execution_count": 277,
   "id": "eb246814-b552-41a2-90fd-a4ab537dedd6",
   "metadata": {
    "collapsed": true,
    "jupyter": {
     "outputs_hidden": true
    },
    "tags": []
   },
   "outputs": [
    {
     "ename": "TypeError",
     "evalue": "'Symbol' object is not callable",
     "output_type": "error",
     "traceback": [
      "\u001b[1;31m---------------------------------------------------------------------------\u001b[0m",
      "\u001b[1;31mTypeError\u001b[0m                                 Traceback (most recent call last)",
      "\u001b[1;32m<ipython-input-277-eed73bf4b961>\u001b[0m in \u001b[0;36m<module>\u001b[1;34m\u001b[0m\n\u001b[1;32m----> 1\u001b[1;33m \u001b[0md\u001b[0m\u001b[1;33m(\u001b[0m\u001b[0mx\u001b[0m\u001b[1;33m**\u001b[0m\u001b[1;36m4\u001b[0m\u001b[1;33m)\u001b[0m  \u001b[1;31m# 這個尚沒有定義，除非我們開始 定義 d(...)\u001b[0m\u001b[1;33m\u001b[0m\u001b[1;33m\u001b[0m\u001b[0m\n\u001b[0m",
      "\u001b[1;31mTypeError\u001b[0m: 'Symbol' object is not callable"
     ]
    }
   ],
   "source": [
    "d(x**4)  # 這個尚沒有定義，除非我們開始 定義 d(...)"
   ]
  },
  {
   "cell_type": "code",
   "execution_count": 278,
   "id": "9f173568-e2ab-4bf8-9e91-4e0e9ad67ca7",
   "metadata": {
    "jupyter": {
     "source_hidden": true
    },
    "tags": []
   },
   "outputs": [],
   "source": [
    "# d(x**4) # 把 x**4 視為函數 f(x)， d(x**4) == d(f(x))"
   ]
  },
  {
   "cell_type": "code",
   "execution_count": 282,
   "id": "ff58a285-cd6c-490a-9830-2d0dc799650f",
   "metadata": {
    "collapsed": true,
    "jupyter": {
     "outputs_hidden": true
    },
    "tags": []
   },
   "outputs": [
    {
     "data": {
      "text/latex": [
       "$\\displaystyle x^{4}$"
      ],
      "text/plain": [
       "x**4"
      ]
     },
     "execution_count": 282,
     "metadata": {},
     "output_type": "execute_result"
    }
   ],
   "source": [
    "def f(t):\n",
    "    y= t**4\n",
    "    return y\n",
    "\n",
    "f(x)"
   ]
  },
  {
   "cell_type": "code",
   "execution_count": 283,
   "id": "f0554754-0a54-426a-9e02-725f1aaf51ed",
   "metadata": {
    "collapsed": true,
    "jupyter": {
     "outputs_hidden": true
    },
    "tags": []
   },
   "outputs": [
    {
     "data": {
      "text/latex": [
       "$\\displaystyle - x^{4} + \\left(dx + x\\right)^{4}$"
      ],
      "text/plain": [
       "-x**4 + (dx + x)**4"
      ]
     },
     "execution_count": 283,
     "metadata": {},
     "output_type": "execute_result"
    }
   ],
   "source": [
    "df= f(x+dx)-f(x)\n",
    "df"
   ]
  },
  {
   "cell_type": "code",
   "execution_count": 284,
   "id": "c100df74-8c0f-4459-9375-d3ee0d775d97",
   "metadata": {
    "collapsed": true,
    "jupyter": {
     "outputs_hidden": true
    },
    "tags": []
   },
   "outputs": [
    {
     "data": {
      "text/latex": [
       "$\\displaystyle \\frac{- x^{4} + \\left(dx + x\\right)^{4}}{dx}$"
      ],
      "text/plain": [
       "(-x**4 + (dx + x)**4)/dx"
      ]
     },
     "execution_count": 284,
     "metadata": {},
     "output_type": "execute_result"
    }
   ],
   "source": [
    "df/dx"
   ]
  },
  {
   "cell_type": "code",
   "execution_count": 285,
   "id": "40c5ad62-2398-4544-aee9-a78cececd2ec",
   "metadata": {
    "collapsed": true,
    "jupyter": {
     "outputs_hidden": true
    },
    "tags": []
   },
   "outputs": [
    {
     "data": {
      "text/latex": [
       "$\\displaystyle 4 x^{3}$"
      ],
      "text/plain": [
       "4*x**3"
      ]
     },
     "execution_count": 285,
     "metadata": {},
     "output_type": "execute_result"
    }
   ],
   "source": [
    "sym.limit(df/dx, dx, 0)"
   ]
  },
  {
   "cell_type": "code",
   "execution_count": 287,
   "id": "f50ff6cf-9c11-44e3-9a69-5675ec8a02e7",
   "metadata": {
    "collapsed": true,
    "jupyter": {
     "outputs_hidden": true
    },
    "tags": []
   },
   "outputs": [
    {
     "data": {
      "text/latex": [
       "$\\displaystyle 4 x^{3} + 6 x^{2} ϵ + 4 x ϵ^{2} + ϵ^{3}$"
      ],
      "text/plain": [
       "4*x**3 + 6*x**2*ϵ + 4*x*ϵ**2 + ϵ**3"
      ]
     },
     "execution_count": 287,
     "metadata": {},
     "output_type": "execute_result"
    }
   ],
   "source": [
    "h= (f(x+ϵ)-f(x))/ϵ\n",
    "h.expand()"
   ]
  },
  {
   "cell_type": "code",
   "execution_count": 288,
   "id": "8d4f54ab-59ca-49de-859b-50e76e51589f",
   "metadata": {
    "collapsed": true,
    "jupyter": {
     "outputs_hidden": true
    },
    "tags": []
   },
   "outputs": [
    {
     "data": {
      "text/latex": [
       "$\\displaystyle 4 x^{3}$"
      ],
      "text/plain": [
       "4*x**3"
      ]
     },
     "execution_count": 288,
     "metadata": {},
     "output_type": "execute_result"
    }
   ],
   "source": [
    "sym.limit(h, ϵ, 0)"
   ]
  },
  {
   "cell_type": "code",
   "execution_count": 289,
   "id": "aafbbc11-670b-4220-825f-16270cad16c9",
   "metadata": {
    "collapsed": true,
    "jupyter": {
     "outputs_hidden": true
    },
    "tags": []
   },
   "outputs": [
    {
     "data": {
      "text/latex": [
       "$\\displaystyle 4 x^{3}$"
      ],
      "text/plain": [
       "4*x**3"
      ]
     },
     "execution_count": 289,
     "metadata": {},
     "output_type": "execute_result"
    }
   ],
   "source": [
    "f(x).diff(x)"
   ]
  },
  {
   "cell_type": "markdown",
   "id": "5e149bb6-7fe3-4f37-bd2a-451f3c021b36",
   "metadata": {},
   "source": [
    "# use LaTex to write math\n",
    "\n",
    "$\n",
    "x, dx, f(), df()\n",
    "$\n",
    "\n",
    "\n",
    "```python\n",
    "from sympy import Symbol, sin, cos, exp, log, limit\n",
    "x=  Symbol('x')  # a variable, itself\n",
    "dx= Symbol('dx') # a change of a variable named x\n",
    "\n",
    "def f(t):\n",
    "    f= 1 + t + t**2 + 2**t + sin(t) + + cos(t) + exp(t) + log(t)\n",
    "    return f \n",
    "\n",
    "def df(f, t, dt):\n",
    "    df= f(t+dt) - f(t)\n",
    "    return df \n",
    "```\n",
    "\n",
    "\n",
    "$\n",
    "df(x) = f(x+dx) - f(x)\n",
    "$\n",
    "\n",
    "$\n",
    "f'(x) \n",
    "\\\\\n",
    "= \\dot{f}(x)\n",
    "\\\\\n",
    "=\\frac{d}{dx}(f(x))\n",
    "\\\\\n",
    "=\\lim_{dx \\to 0} \\frac{df(x)}{dx} \n",
    "\\\\\n",
    "=\\lim_{dx \\to 0} \\frac{f(x+dx)-f(x)}{dx}\n",
    "$"
   ]
  },
  {
   "cell_type": "code",
   "execution_count": 339,
   "id": "c885bf6d-9dcb-49e0-a955-32ef441e5b3f",
   "metadata": {},
   "outputs": [],
   "source": [
    "from sympy import Symbol, sin, cos, exp, log, limit\n",
    "\n",
    "x=  Symbol('x')  # a variable, named x\n",
    "dx= Symbol('dx') # a change of a variable named x\n",
    "\n",
    "def f(t):\n",
    "    f= 1 + t + t**2 + 2**t + sin(t) + cos(t) + exp(t) + log(t)\n",
    "    return f \n",
    "\n",
    "def df(f, t, dt):\n",
    "    df= f(t+dt) - f(t)\n",
    "    return df "
   ]
  },
  {
   "cell_type": "code",
   "execution_count": 345,
   "id": "cdebfe43-ed9b-4725-be4e-50ef395dd945",
   "metadata": {},
   "outputs": [
    {
     "data": {
      "text/latex": [
       "$\\displaystyle 2^{x} + x^{2} + x + e^{x} + \\log{\\left(x \\right)} + \\sin{\\left(x \\right)} + \\cos{\\left(x \\right)} + 1$"
      ],
      "text/plain": [
       "2**x + x**2 + x + exp(x) + log(x) + sin(x) + cos(x) + 1"
      ]
     },
     "execution_count": 345,
     "metadata": {},
     "output_type": "execute_result"
    }
   ],
   "source": [
    "y= f(x)\n",
    "y"
   ]
  },
  {
   "cell_type": "code",
   "execution_count": 346,
   "id": "97811736-8564-4f3c-84d2-4f892b868616",
   "metadata": {},
   "outputs": [
    {
     "data": {
      "text/latex": [
       "$\\displaystyle 2^{dx + x} + dx + x + \\left(dx + x\\right)^{2} + e^{dx + x} + \\log{\\left(dx + x \\right)} + \\sin{\\left(dx + x \\right)} + \\cos{\\left(dx + x \\right)} + 1$"
      ],
      "text/plain": [
       "2**(dx + x) + dx + x + (dx + x)**2 + exp(dx + x) + log(dx + x) + sin(dx + x) + cos(dx + x) + 1"
      ]
     },
     "execution_count": 346,
     "metadata": {},
     "output_type": "execute_result"
    }
   ],
   "source": [
    "y1= f(x+dx)\n",
    "y1"
   ]
  },
  {
   "cell_type": "code",
   "execution_count": 347,
   "id": "af9a89dc-be4b-46a3-bff8-0e361d203e2b",
   "metadata": {},
   "outputs": [
    {
     "data": {
      "text/latex": [
       "$\\displaystyle - 2^{x} + 2^{dx + x} + dx - x^{2} + \\left(dx + x\\right)^{2} - e^{x} + e^{dx + x} - \\log{\\left(x \\right)} + \\log{\\left(dx + x \\right)} - \\sin{\\left(x \\right)} + \\sin{\\left(dx + x \\right)} - \\cos{\\left(x \\right)} + \\cos{\\left(dx + x \\right)}$"
      ],
      "text/plain": [
       "-2**x + 2**(dx + x) + dx - x**2 + (dx + x)**2 - exp(x) + exp(dx + x) - log(x) + log(dx + x) - sin(x) + sin(dx + x) - cos(x) + cos(dx + x)"
      ]
     },
     "execution_count": 347,
     "metadata": {},
     "output_type": "execute_result"
    }
   ],
   "source": [
    "dy= df(f,x,dx) # == f(x+dx)-f(x) # == y1-y\n",
    "dy"
   ]
  },
  {
   "cell_type": "code",
   "execution_count": 348,
   "id": "692ad925-8591-4f56-bdb0-4112b09d36fc",
   "metadata": {},
   "outputs": [
    {
     "data": {
      "text/latex": [
       "$\\displaystyle \\frac{- 2^{x} + 2^{dx + x} + dx - x^{2} + \\left(dx + x\\right)^{2} - e^{x} + e^{dx + x} - \\log{\\left(x \\right)} + \\log{\\left(dx + x \\right)} - \\sin{\\left(x \\right)} + \\sin{\\left(dx + x \\right)} - \\cos{\\left(x \\right)} + \\cos{\\left(dx + x \\right)}}{dx}$"
      ],
      "text/plain": [
       "(-2**x + 2**(dx + x) + dx - x**2 + (dx + x)**2 - exp(x) + exp(dx + x) - log(x) + log(dx + x) - sin(x) + sin(dx + x) - cos(x) + cos(dx + x))/dx"
      ]
     },
     "execution_count": 348,
     "metadata": {},
     "output_type": "execute_result"
    }
   ],
   "source": [
    "dy/dx"
   ]
  },
  {
   "cell_type": "code",
   "execution_count": 349,
   "id": "8c1648e9-26b4-4bd4-be52-e14fa1938a4b",
   "metadata": {},
   "outputs": [
    {
     "data": {
      "text/latex": [
       "$\\displaystyle \\frac{2^{x} x \\log{\\left(2 \\right)} + 2 x^{2} + x e^{x} - x \\sin{\\left(x \\right)} + x \\cos{\\left(x \\right)} + x + 1}{x}$"
      ],
      "text/plain": [
       "(2**x*x*log(2) + 2*x**2 + x*exp(x) - x*sin(x) + x*cos(x) + x + 1)/x"
      ]
     },
     "execution_count": 349,
     "metadata": {},
     "output_type": "execute_result"
    }
   ],
   "source": [
    "q1= limit(dy/dx, dx, 0)\n",
    "q1"
   ]
  },
  {
   "cell_type": "code",
   "execution_count": 351,
   "id": "4f9c0cc0-660f-461e-9196-2316c3497dc8",
   "metadata": {},
   "outputs": [
    {
     "data": {
      "text/latex": [
       "$\\displaystyle 2^{x} \\log{\\left(2 \\right)} + 2 x + e^{x} - \\sin{\\left(x \\right)} + \\cos{\\left(x \\right)} + 1 + \\frac{1}{x}$"
      ],
      "text/plain": [
       "2**x*log(2) + 2*x + exp(x) - sin(x) + cos(x) + 1 + 1/x"
      ]
     },
     "execution_count": 351,
     "metadata": {},
     "output_type": "execute_result"
    }
   ],
   "source": [
    "q2= f(x).diff(x) # == dy/dx\n",
    "q2"
   ]
  },
  {
   "cell_type": "code",
   "execution_count": 352,
   "id": "5dd5c492-c6f9-4443-b7f3-010a8726756a",
   "metadata": {},
   "outputs": [
    {
     "data": {
      "text/latex": [
       "$\\displaystyle \\frac{2^{x} x \\log{\\left(2 \\right)} + 2 x^{2} + x e^{x} - x \\sin{\\left(x \\right)} + x \\cos{\\left(x \\right)} + x + 1}{x}$"
      ],
      "text/plain": [
       "(2**x*x*log(2) + 2*x**2 + x*exp(x) - x*sin(x) + x*cos(x) + x + 1)/x"
      ]
     },
     "execution_count": 352,
     "metadata": {},
     "output_type": "execute_result"
    }
   ],
   "source": [
    "q3= limit(\n",
    "    (f(x+dx)-f(x))/dx, \n",
    "    dx, \n",
    "    0)\n",
    "q3"
   ]
  },
  {
   "cell_type": "code",
   "execution_count": 353,
   "id": "38ae5745-d3b1-46bc-8be8-a652fbc21224",
   "metadata": {},
   "outputs": [
    {
     "data": {
      "text/plain": [
       "(False, False)"
      ]
     },
     "execution_count": 353,
     "metadata": {},
     "output_type": "execute_result"
    }
   ],
   "source": [
    "q1==q2, q2==q3"
   ]
  },
  {
   "cell_type": "code",
   "execution_count": 354,
   "id": "8ad45079-f55a-4d50-8a50-87013333fb9e",
   "metadata": {},
   "outputs": [
    {
     "data": {
      "text/plain": [
       "True"
      ]
     },
     "execution_count": 354,
     "metadata": {},
     "output_type": "execute_result"
    }
   ],
   "source": [
    "q1.simplify()==q2.simplify()"
   ]
  },
  {
   "cell_type": "code",
   "execution_count": 355,
   "id": "f0f38678-0871-491d-9299-a7ccae3af701",
   "metadata": {},
   "outputs": [
    {
     "data": {
      "text/plain": [
       "True"
      ]
     },
     "execution_count": 355,
     "metadata": {},
     "output_type": "execute_result"
    }
   ],
   "source": [
    "q1.simplify()==q3.simplify()"
   ]
  },
  {
   "cell_type": "code",
   "execution_count": 356,
   "id": "4fc309e1-e399-42f8-a5b8-e1906ec3254c",
   "metadata": {},
   "outputs": [
    {
     "data": {
      "text/plain": [
       "True"
      ]
     },
     "execution_count": 356,
     "metadata": {},
     "output_type": "execute_result"
    }
   ],
   "source": [
    "q2.simplify()==q3.simplify()"
   ]
  },
  {
   "cell_type": "code",
   "execution_count": null,
   "id": "ae5a396a-b318-4ca0-8203-c9ec96bfd3c0",
   "metadata": {},
   "outputs": [],
   "source": []
  },
  {
   "cell_type": "code",
   "execution_count": null,
   "id": "8e3d2787-6637-4323-9ca8-a1be49abdfb6",
   "metadata": {},
   "outputs": [],
   "source": []
  },
  {
   "cell_type": "code",
   "execution_count": null,
   "id": "4d9da936-3f58-4a90-b81a-5b0809c83d00",
   "metadata": {},
   "outputs": [],
   "source": []
  },
  {
   "cell_type": "code",
   "execution_count": null,
   "id": "1dfaa935-49f3-4beb-8abd-a477bea91c52",
   "metadata": {},
   "outputs": [],
   "source": []
  },
  {
   "cell_type": "code",
   "execution_count": null,
   "id": "e5f8439a-4344-40b6-9d40-5c224fd65232",
   "metadata": {},
   "outputs": [],
   "source": []
  },
  {
   "cell_type": "markdown",
   "id": "b9f1775d-6231-463c-b24f-48412ceb7659",
   "metadata": {},
   "source": [
    "# Chain Rule"
   ]
  },
  {
   "cell_type": "code",
   "execution_count": 20,
   "id": "9e33c792-0545-4bfd-916e-8a41ac142ecc",
   "metadata": {},
   "outputs": [
    {
     "data": {
      "text/latex": [
       "$\\displaystyle s^{2} + s + 1$"
      ],
      "text/plain": [
       "s**2 + s + 1"
      ]
     },
     "metadata": {},
     "output_type": "display_data"
    },
    {
     "data": {
      "text/latex": [
       "$\\displaystyle t^{3}$"
      ],
      "text/plain": [
       "t**3"
      ]
     },
     "metadata": {},
     "output_type": "display_data"
    }
   ],
   "source": [
    "def f(x):\n",
    "    y= 1 + x + x**2\n",
    "    return y\n",
    "\n",
    "def g(x):\n",
    "    y= x**3\n",
    "    return y\n",
    "\n",
    "display(f(s))\n",
    "display(g(t))"
   ]
  },
  {
   "cell_type": "code",
   "execution_count": 23,
   "id": "04b0e0d0-a456-40be-bc98-d64326dad54f",
   "metadata": {},
   "outputs": [
    {
     "data": {
      "text/latex": [
       "$\\displaystyle s^{3} \\left(s^{2} + s + 1\\right)$"
      ],
      "text/plain": [
       "s**3*(s**2 + s + 1)"
      ]
     },
     "execution_count": 23,
     "metadata": {},
     "output_type": "execute_result"
    }
   ],
   "source": [
    "f(s)*g(s)"
   ]
  },
  {
   "cell_type": "code",
   "execution_count": 27,
   "id": "a1cdb01a-5187-4e0c-92be-1d6d28ee2654",
   "metadata": {},
   "outputs": [
    {
     "data": {
      "text/latex": [
       "$\\displaystyle \\frac{s^{2} + s + 1}{s^{3}}$"
      ],
      "text/plain": [
       "(s**2 + s + 1)/s**3"
      ]
     },
     "execution_count": 27,
     "metadata": {},
     "output_type": "execute_result"
    }
   ],
   "source": [
    "f(s)/g(s)"
   ]
  },
  {
   "cell_type": "code",
   "execution_count": 24,
   "id": "8e91421c-9653-4bd8-a444-c7201be29cfe",
   "metadata": {},
   "outputs": [
    {
     "data": {
      "text/latex": [
       "$\\displaystyle s^{6} + s^{3} + 1$"
      ],
      "text/plain": [
       "s**6 + s**3 + 1"
      ]
     },
     "execution_count": 24,
     "metadata": {},
     "output_type": "execute_result"
    }
   ],
   "source": [
    "f(g(s))"
   ]
  },
  {
   "cell_type": "code",
   "execution_count": 25,
   "id": "c97650c8-57d7-4190-b8b3-41835cb4218e",
   "metadata": {},
   "outputs": [
    {
     "data": {
      "text/latex": [
       "$\\displaystyle \\left(s^{2} + s + 1\\right)^{3}$"
      ],
      "text/plain": [
       "(s**2 + s + 1)**3"
      ]
     },
     "execution_count": 25,
     "metadata": {},
     "output_type": "execute_result"
    }
   ],
   "source": [
    "g(f(s))"
   ]
  },
  {
   "cell_type": "markdown",
   "id": "72b61544-9b22-488c-ad86-f5d07f284b73",
   "metadata": {},
   "source": [
    "$$\n",
    "F(s)= f(g(s))\n",
    "\\\\\n",
    "\\frac\n",
    "{\\partial f}\n",
    "{\\partial g}\n",
    "\\cdot\n",
    "\\frac\n",
    "{\\partial g}\n",
    "{\\partial s}\n",
    "$$\n",
    "\n"
   ]
  },
  {
   "cell_type": "code",
   "execution_count": 35,
   "id": "6350755b-d138-4005-89a7-7bc836f257f9",
   "metadata": {},
   "outputs": [
    {
     "data": {
      "text/latex": [
       "$\\displaystyle s^{2} + s + 1$"
      ],
      "text/plain": [
       "s**2 + s + 1"
      ]
     },
     "execution_count": 35,
     "metadata": {},
     "output_type": "execute_result"
    }
   ],
   "source": [
    "f(s)"
   ]
  },
  {
   "cell_type": "code",
   "execution_count": 33,
   "id": "896a29de-7bb6-4af1-b7c9-aea64daf62d5",
   "metadata": {},
   "outputs": [
    {
     "data": {
      "text/latex": [
       "$\\displaystyle s^{6} + s^{3} + 1$"
      ],
      "text/plain": [
       "s**6 + s**3 + 1"
      ]
     },
     "execution_count": 33,
     "metadata": {},
     "output_type": "execute_result"
    }
   ],
   "source": [
    "F= f(g(s))\n",
    "F"
   ]
  },
  {
   "cell_type": "code",
   "execution_count": 34,
   "id": "a6970f89-3969-4702-9272-7cc368022b26",
   "metadata": {},
   "outputs": [
    {
     "data": {
      "text/latex": [
       "$\\displaystyle 6 s^{5} + 3 s^{2}$"
      ],
      "text/plain": [
       "6*s**5 + 3*s**2"
      ]
     },
     "execution_count": 34,
     "metadata": {},
     "output_type": "execute_result"
    }
   ],
   "source": [
    "F.diff(s)"
   ]
  },
  {
   "cell_type": "markdown",
   "id": "3f712c35-a351-47a9-86ea-6b5345d6e096",
   "metadata": {},
   "source": [
    "\n",
    "### Computing the area between two functions\n",
    "\n",
    "The area between two functions is given by the formula \n",
    "\n",
    "$\n",
    "A = \\int_{a}^{b}f(x) - g(x) dx\n",
    "$\n",
    "\n",
    "In our example, \n",
    "$\n",
    "f(x)=x^2\n",
    "$,  \n",
    "and \n",
    "$\n",
    "g(x)=x\n",
    "$\n",
    "\n",
    "Therefore, \n",
    "$\n",
    "A = \\int_{a}^{b}(x^2 - x) dx\n",
    "$\n",
    "\n",
    "We will compute the area between the two crossing points, that is, where the two functions are equal. This is given by the two solutions to the equation\n",
    "\n",
    "$$x^2=x$$\n",
    "\n",
    "The two solutions are $x=0$ and $x=1$. This gives us the definite integral of\n",
    "\n",
    "$$A = \\int_{0}^{1}(x^2 - x) dx$$\n",
    "\n",
    "The final answer will be given in the code below."
   ]
  },
  {
   "cell_type": "code",
   "execution_count": 36,
   "id": "c986d73e-7038-4029-9487-275e15ef80b9",
   "metadata": {},
   "outputs": [
    {
     "data": {
      "text/latex": [
       "$\\displaystyle x^{2} + x + 1$"
      ],
      "text/plain": [
       "x**2 + x + 1"
      ]
     },
     "execution_count": 36,
     "metadata": {},
     "output_type": "execute_result"
    }
   ],
   "source": [
    "f(x)"
   ]
  },
  {
   "cell_type": "code",
   "execution_count": 37,
   "id": "d869ef88-c6b6-4529-877f-a4f116514f83",
   "metadata": {},
   "outputs": [
    {
     "data": {
      "text/latex": [
       "$\\displaystyle x^{3}$"
      ],
      "text/plain": [
       "x**3"
      ]
     },
     "execution_count": 37,
     "metadata": {},
     "output_type": "execute_result"
    }
   ],
   "source": [
    "g(x)"
   ]
  },
  {
   "cell_type": "code",
   "execution_count": 38,
   "id": "3bb1c13c-3254-4285-b641-68a6ebf6fdac",
   "metadata": {},
   "outputs": [
    {
     "data": {
      "text/latex": [
       "$\\displaystyle x^{6} + x^{3} + 1$"
      ],
      "text/plain": [
       "x**6 + x**3 + 1"
      ]
     },
     "execution_count": 38,
     "metadata": {},
     "output_type": "execute_result"
    }
   ],
   "source": [
    "f(g(x))"
   ]
  },
  {
   "cell_type": "code",
   "execution_count": 40,
   "id": "ff0b3eae-a8f3-4753-909d-d66c9883da83",
   "metadata": {},
   "outputs": [
    {
     "data": {
      "text/latex": [
       "$\\displaystyle x^{6} + 3 x^{5} + 6 x^{4} + 7 x^{3} + 6 x^{2} + 3 x + 1$"
      ],
      "text/plain": [
       "x**6 + 3*x**5 + 6*x**4 + 7*x**3 + 6*x**2 + 3*x + 1"
      ]
     },
     "execution_count": 40,
     "metadata": {},
     "output_type": "execute_result"
    }
   ],
   "source": [
    "g(f(x)).expand()"
   ]
  },
  {
   "cell_type": "code",
   "execution_count": null,
   "id": "a17afbdc-1c0a-4f92-bcc8-dd75f68f6890",
   "metadata": {},
   "outputs": [],
   "source": []
  }
 ],
 "metadata": {
  "kernelspec": {
   "display_name": "Python 3",
   "language": "python",
   "name": "python3"
  },
  "language_info": {
   "codemirror_mode": {
    "name": "ipython",
    "version": 3
   },
   "file_extension": ".py",
   "mimetype": "text/x-python",
   "name": "python",
   "nbconvert_exporter": "python",
   "pygments_lexer": "ipython3",
   "version": "3.8.8"
  }
 },
 "nbformat": 4,
 "nbformat_minor": 5
}
