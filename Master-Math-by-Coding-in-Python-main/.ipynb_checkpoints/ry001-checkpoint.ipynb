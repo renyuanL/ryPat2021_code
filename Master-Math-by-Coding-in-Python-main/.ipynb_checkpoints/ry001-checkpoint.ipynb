{
 "cells": [
  {
   "cell_type": "code",
   "execution_count": 1,
   "id": "a6beb71d-9c4d-4445-810c-fa1ed36870a7",
   "metadata": {},
   "outputs": [],
   "source": [
    "# It's generally good practice to import all required modules at the top of the script!\n",
    "import sympy as sym\n",
    "import numpy as np\n",
    "from IPython.display import display, Math\n"
   ]
  },
  {
   "cell_type": "markdown",
   "id": "4eba1426-6b46-42bb-815e-4cadba210767",
   "metadata": {},
   "source": [
    "# VIDEO: Solving for x\n"
   ]
  },
  {
   "cell_type": "code",
   "execution_count": 4,
   "id": "1331922b-6d9f-4102-ad3d-27dec00acf11",
   "metadata": {},
   "outputs": [
    {
     "data": {
      "text/plain": [
       "[5/2]"
      ]
     },
     "execution_count": 4,
     "metadata": {},
     "output_type": "execute_result"
    }
   ],
   "source": [
    "x= sym.symbols('x')\n",
    "\n",
    "# the expression we want to solve is 2x+4=9\n",
    "expr= 2*x + 4 -9\n",
    "\n",
    "sym.solve(expr, x)\n",
    "#sym.solve?"
   ]
  },
  {
   "cell_type": "code",
   "execution_count": 27,
   "id": "0dd1cfd8-456d-4b70-9ed0-1b34ea5724b9",
   "metadata": {},
   "outputs": [
    {
     "data": {
      "text/plain": [
       "[-sqrt(10), sqrt(10)]"
      ]
     },
     "execution_count": 27,
     "metadata": {},
     "output_type": "execute_result"
    }
   ],
   "source": [
    "expr= x**2  -10\n",
    "解=  sym.solve(expr, x)\n",
    "解"
   ]
  },
  {
   "cell_type": "code",
   "execution_count": 31,
   "id": "6511f3c5-ce1d-40eb-82e6-4832fee3f801",
   "metadata": {},
   "outputs": [
    {
     "data": {
      "text/plain": [
       "'\\\\left[ - \\\\sqrt{10}, \\\\  \\\\sqrt{10}\\\\right]'"
      ]
     },
     "execution_count": 31,
     "metadata": {},
     "output_type": "execute_result"
    }
   ],
   "source": [
    "# LaTex\n",
    "sym.latex(解)"
   ]
  },
  {
   "cell_type": "code",
   "execution_count": 32,
   "id": "6d8c0a8c-07aa-48ec-bb18-4b61e0338324",
   "metadata": {},
   "outputs": [
    {
     "data": {
      "text/latex": [
       "$\\displaystyle \\left[ - \\sqrt{10}, \\  \\sqrt{10}\\right]$"
      ],
      "text/plain": [
       "<IPython.core.display.Math object>"
      ]
     },
     "execution_count": 32,
     "metadata": {},
     "output_type": "execute_result"
    }
   ],
   "source": [
    "# 看起來漂亮一點\n",
    "Math(sym.latex(解))"
   ]
  },
  {
   "cell_type": "markdown",
   "id": "26faae49-2869-4297-b9c1-2b2764137f82",
   "metadata": {},
   "source": [
    "### Exercises"
   ]
  },
  {
   "cell_type": "markdown",
   "id": "4cbc244b-b883-49d3-a74b-7d1dbc216e0b",
   "metadata": {},
   "source": [
    "#### 解 1元 方程式\n",
    "\n",
    "1. )\n",
    "$\n",
    "1 + x + x^2 + x^3 + x^4 = 0\n",
    "$\n",
    "\n",
    "2. )\n",
    "$\n",
    "c + b x + a x^2 = 0\n",
    "$\n"
   ]
  },
  {
   "cell_type": "code",
   "execution_count": 35,
   "id": "4d6c46f1-6ecb-47b8-b3e6-2e04b03f9bae",
   "metadata": {},
   "outputs": [
    {
     "data": {
      "text/latex": [
       "$\\displaystyle \\left[ - \\frac{1}{4} + \\frac{\\sqrt{5}}{4} - i \\sqrt{\\frac{\\sqrt{5}}{8} + \\frac{5}{8}}, \\  - \\frac{1}{4} + \\frac{\\sqrt{5}}{4} + i \\sqrt{\\frac{\\sqrt{5}}{8} + \\frac{5}{8}}, \\  - \\frac{\\sqrt{5}}{4} - \\frac{1}{4} - i \\sqrt{\\frac{5}{8} - \\frac{\\sqrt{5}}{8}}, \\  - \\frac{\\sqrt{5}}{4} - \\frac{1}{4} + i \\sqrt{\\frac{5}{8} - \\frac{\\sqrt{5}}{8}}\\right]$"
      ],
      "text/plain": [
       "<IPython.core.display.Math object>"
      ]
     },
     "execution_count": 35,
     "metadata": {},
     "output_type": "execute_result"
    }
   ],
   "source": [
    "#1.)\n",
    "\n",
    "x= sym.symbols('x')\n",
    "eqn= 1 + x + x**2 + x**3 + x**4\n",
    "解= sym.solve(eqn, x)\n",
    "lat解= sym.latex(解)\n",
    "Math(lat解)"
   ]
  },
  {
   "cell_type": "code",
   "execution_count": 37,
   "id": "2358aa76-4d34-4d65-849c-3039d60fa027",
   "metadata": {},
   "outputs": [
    {
     "data": {
      "text/latex": [
       "$\\displaystyle 0$"
      ],
      "text/plain": [
       "0"
      ]
     },
     "execution_count": 37,
     "metadata": {},
     "output_type": "execute_result"
    }
   ],
   "source": [
    "# 驗算\n",
    "eqn.subs(x, 解[0]).simplify()"
   ]
  },
  {
   "cell_type": "code",
   "execution_count": 38,
   "id": "c5599ea8-3d31-4569-8a3a-84c889910447",
   "metadata": {},
   "outputs": [
    {
     "name": "stdout",
     "output_type": "stream",
     "text": [
      "True\n",
      "True\n",
      "True\n",
      "True\n"
     ]
    }
   ],
   "source": [
    "for s in 解:\n",
    "    檢查= (eqn.subs(x, s).simplify() == 0)\n",
    "    print(檢查)\n",
    "    "
   ]
  },
  {
   "cell_type": "code",
   "execution_count": 42,
   "id": "a4701386-77b6-4fa1-b6e8-5393d98c6a9e",
   "metadata": {},
   "outputs": [],
   "source": [
    "全部檢查= []\n",
    "for s in 解:\n",
    "    檢查= (eqn.subs(x, s).simplify() == 0)\n",
    "    全部檢查 += [檢查]\n",
    "\n",
    "assert all(全部檢查)"
   ]
  },
  {
   "cell_type": "code",
   "execution_count": 43,
   "id": "434e4180-8726-4746-a147-6b358874fbb5",
   "metadata": {},
   "outputs": [
    {
     "data": {
      "text/latex": [
       "$\\displaystyle \\left[ \\frac{- b + \\sqrt{- 4 a c + b^{2}}}{2 a}, \\  - \\frac{b + \\sqrt{- 4 a c + b^{2}}}{2 a}\\right]$"
      ],
      "text/plain": [
       "<IPython.core.display.Math object>"
      ]
     },
     "execution_count": 43,
     "metadata": {},
     "output_type": "execute_result"
    }
   ],
   "source": [
    "#2.)\n",
    "\n",
    "x,a,b,c= sym.symbols('x, a, b, c')\n",
    "eqn= a * x**2 + b * x +c\n",
    "解= sym.solve(eqn, x)\n",
    "lat解= sym.latex(解)\n",
    "Math(lat解)\n"
   ]
  },
  {
   "cell_type": "code",
   "execution_count": 48,
   "id": "8f8ed1d8-eb5a-4ccd-801a-f77581207cf1",
   "metadata": {},
   "outputs": [
    {
     "data": {
      "text/plain": [
       "([True, True], True)"
      ]
     },
     "execution_count": 48,
     "metadata": {},
     "output_type": "execute_result"
    }
   ],
   "source": [
    "# 驗算\n",
    "全部檢查= []\n",
    "for s in 解:\n",
    "    檢查= (eqn.subs(x, s).simplify() == 0)\n",
    "    全部檢查 += [檢查]\n",
    "\n",
    "assert all(全部檢查)\n",
    "\n",
    "全部檢查,  all(全部檢查)"
   ]
  },
  {
   "cell_type": "code",
   "execution_count": null,
   "id": "ed0fd988-2e1c-4b36-8f5a-ffb97b5b52f0",
   "metadata": {},
   "outputs": [],
   "source": []
  },
  {
   "cell_type": "code",
   "execution_count": 58,
   "id": "0cbf42e3-1adc-4be9-9929-7263ab7cc938",
   "metadata": {},
   "outputs": [
    {
     "data": {
      "text/plain": [
       "(x, (a0, a1, a2, a3, a4, a5, a6, a7, a8, a9))"
      ]
     },
     "execution_count": 58,
     "metadata": {},
     "output_type": "execute_result"
    }
   ],
   "source": [
    "#3.)\n",
    "\n",
    "x= sym.symbols('x')\n",
    "a= sym.symbols('a:10')\n",
    "x, a"
   ]
  },
  {
   "cell_type": "code",
   "execution_count": 60,
   "id": "3710d3fe-8886-4582-bfa0-6e79d772ee81",
   "metadata": {},
   "outputs": [
    {
     "data": {
      "text/latex": [
       "$\\displaystyle \\left[ \\frac{- a_{1} + \\sqrt{- 4 a_{0} a_{2} + a_{1}^{2}}}{2 a_{2}}, \\  - \\frac{a_{1} + \\sqrt{- 4 a_{0} a_{2} + a_{1}^{2}}}{2 a_{2}}\\right]$"
      ],
      "text/plain": [
       "<IPython.core.display.Math object>"
      ]
     },
     "execution_count": 60,
     "metadata": {},
     "output_type": "execute_result"
    }
   ],
   "source": [
    "eqn= a[0] + a[1] *x + a[2] *x**2\n",
    "解= sym.solve(eqn, x)\n",
    "lat解= sym.latex(解)\n",
    "Math(lat解)"
   ]
  },
  {
   "cell_type": "code",
   "execution_count": 61,
   "id": "9fb3bfb4-3b72-4d86-b460-9171f705e8e7",
   "metadata": {},
   "outputs": [
    {
     "data": {
      "text/plain": [
       "([True, True], True)"
      ]
     },
     "execution_count": 61,
     "metadata": {},
     "output_type": "execute_result"
    }
   ],
   "source": [
    "# 驗算\n",
    "全部檢查= []\n",
    "for s in 解:\n",
    "    檢查= (eqn.subs(x, s).simplify() == 0)\n",
    "    全部檢查 += [檢查]\n",
    "\n",
    "assert all(全部檢查)\n",
    "\n",
    "全部檢查,  all(全部檢查)"
   ]
  },
  {
   "cell_type": "code",
   "execution_count": 62,
   "id": "34ddbfd7-7586-435d-83b9-8ba21484b81a",
   "metadata": {},
   "outputs": [
    {
     "data": {
      "text/latex": [
       "$\\displaystyle \\left[ - \\frac{a_{2}}{3 a_{3}} - \\frac{- \\frac{3 a_{1}}{a_{3}} + \\frac{a_{2}^{2}}{a_{3}^{2}}}{3 \\sqrt[3]{\\frac{27 a_{0}}{2 a_{3}} - \\frac{9 a_{1} a_{2}}{2 a_{3}^{2}} + \\frac{a_{2}^{3}}{a_{3}^{3}} + \\frac{\\sqrt{- 4 \\left(- \\frac{3 a_{1}}{a_{3}} + \\frac{a_{2}^{2}}{a_{3}^{2}}\\right)^{3} + \\left(\\frac{27 a_{0}}{a_{3}} - \\frac{9 a_{1} a_{2}}{a_{3}^{2}} + \\frac{2 a_{2}^{3}}{a_{3}^{3}}\\right)^{2}}}{2}}} - \\frac{\\sqrt[3]{\\frac{27 a_{0}}{2 a_{3}} - \\frac{9 a_{1} a_{2}}{2 a_{3}^{2}} + \\frac{a_{2}^{3}}{a_{3}^{3}} + \\frac{\\sqrt{- 4 \\left(- \\frac{3 a_{1}}{a_{3}} + \\frac{a_{2}^{2}}{a_{3}^{2}}\\right)^{3} + \\left(\\frac{27 a_{0}}{a_{3}} - \\frac{9 a_{1} a_{2}}{a_{3}^{2}} + \\frac{2 a_{2}^{3}}{a_{3}^{3}}\\right)^{2}}}{2}}}{3}, \\  - \\frac{a_{2}}{3 a_{3}} - \\frac{- \\frac{3 a_{1}}{a_{3}} + \\frac{a_{2}^{2}}{a_{3}^{2}}}{3 \\left(- \\frac{1}{2} - \\frac{\\sqrt{3} i}{2}\\right) \\sqrt[3]{\\frac{27 a_{0}}{2 a_{3}} - \\frac{9 a_{1} a_{2}}{2 a_{3}^{2}} + \\frac{a_{2}^{3}}{a_{3}^{3}} + \\frac{\\sqrt{- 4 \\left(- \\frac{3 a_{1}}{a_{3}} + \\frac{a_{2}^{2}}{a_{3}^{2}}\\right)^{3} + \\left(\\frac{27 a_{0}}{a_{3}} - \\frac{9 a_{1} a_{2}}{a_{3}^{2}} + \\frac{2 a_{2}^{3}}{a_{3}^{3}}\\right)^{2}}}{2}}} - \\frac{\\left(- \\frac{1}{2} - \\frac{\\sqrt{3} i}{2}\\right) \\sqrt[3]{\\frac{27 a_{0}}{2 a_{3}} - \\frac{9 a_{1} a_{2}}{2 a_{3}^{2}} + \\frac{a_{2}^{3}}{a_{3}^{3}} + \\frac{\\sqrt{- 4 \\left(- \\frac{3 a_{1}}{a_{3}} + \\frac{a_{2}^{2}}{a_{3}^{2}}\\right)^{3} + \\left(\\frac{27 a_{0}}{a_{3}} - \\frac{9 a_{1} a_{2}}{a_{3}^{2}} + \\frac{2 a_{2}^{3}}{a_{3}^{3}}\\right)^{2}}}{2}}}{3}, \\  - \\frac{a_{2}}{3 a_{3}} - \\frac{- \\frac{3 a_{1}}{a_{3}} + \\frac{a_{2}^{2}}{a_{3}^{2}}}{3 \\left(- \\frac{1}{2} + \\frac{\\sqrt{3} i}{2}\\right) \\sqrt[3]{\\frac{27 a_{0}}{2 a_{3}} - \\frac{9 a_{1} a_{2}}{2 a_{3}^{2}} + \\frac{a_{2}^{3}}{a_{3}^{3}} + \\frac{\\sqrt{- 4 \\left(- \\frac{3 a_{1}}{a_{3}} + \\frac{a_{2}^{2}}{a_{3}^{2}}\\right)^{3} + \\left(\\frac{27 a_{0}}{a_{3}} - \\frac{9 a_{1} a_{2}}{a_{3}^{2}} + \\frac{2 a_{2}^{3}}{a_{3}^{3}}\\right)^{2}}}{2}}} - \\frac{\\left(- \\frac{1}{2} + \\frac{\\sqrt{3} i}{2}\\right) \\sqrt[3]{\\frac{27 a_{0}}{2 a_{3}} - \\frac{9 a_{1} a_{2}}{2 a_{3}^{2}} + \\frac{a_{2}^{3}}{a_{3}^{3}} + \\frac{\\sqrt{- 4 \\left(- \\frac{3 a_{1}}{a_{3}} + \\frac{a_{2}^{2}}{a_{3}^{2}}\\right)^{3} + \\left(\\frac{27 a_{0}}{a_{3}} - \\frac{9 a_{1} a_{2}}{a_{3}^{2}} + \\frac{2 a_{2}^{3}}{a_{3}^{3}}\\right)^{2}}}{2}}}{3}\\right]$"
      ],
      "text/plain": [
       "<IPython.core.display.Math object>"
      ]
     },
     "execution_count": 62,
     "metadata": {},
     "output_type": "execute_result"
    }
   ],
   "source": [
    "#4.)\n",
    "eqn= a[0] + a[1] *x + a[2] *x**2 + a[3] * x**3\n",
    "解= sym.solve(eqn, x)\n",
    "lat解= sym.latex(解)\n",
    "Math(lat解)\n"
   ]
  },
  {
   "cell_type": "code",
   "execution_count": 63,
   "id": "0e85aca1-4e49-4dab-bfcb-c85a892bd6d9",
   "metadata": {},
   "outputs": [
    {
     "data": {
      "text/plain": [
       "([True, True, True], True)"
      ]
     },
     "execution_count": 63,
     "metadata": {},
     "output_type": "execute_result"
    }
   ],
   "source": [
    "# 驗算\n",
    "全部檢查= []\n",
    "for s in 解:\n",
    "    檢查= (eqn.subs(x, s).simplify() == 0)\n",
    "    全部檢查 += [檢查]\n",
    "\n",
    "assert all(全部檢查)\n",
    "\n",
    "全部檢查,  all(全部檢查)\n"
   ]
  },
  {
   "cell_type": "code",
   "execution_count": 98,
   "id": "4ece5a3e-8f75-4999-a023-30dcf0a30284",
   "metadata": {},
   "outputs": [
    {
     "data": {
      "text/latex": [
       "$\\displaystyle a_{0} + a_{1} x + a_{2} x^{2} + a_{3} x^{3} = 0$"
      ],
      "text/plain": [
       "Eq(a0 + a1*x + a2*x**2 + a3*x**3, 0)"
      ]
     },
     "execution_count": 98,
     "metadata": {},
     "output_type": "execute_result"
    }
   ],
   "source": [
    "# 找一組 特例 a0=a1=a2=a3==1\n",
    "# 來運用直覺建立驗算經驗\n",
    "#\n",
    "sym.Eq(eqn,0)"
   ]
  },
  {
   "cell_type": "code",
   "execution_count": 102,
   "id": "088bd9ff-e968-4a9f-9fa3-8c63bf06b05f",
   "metadata": {},
   "outputs": [
    {
     "data": {
      "text/latex": [
       "$\\displaystyle x^{3} + x^{2} + x + 1 = 0$"
      ],
      "text/plain": [
       "Eq(x**3 + x**2 + x + 1, 0)"
      ]
     },
     "execution_count": 102,
     "metadata": {},
     "output_type": "execute_result"
    }
   ],
   "source": [
    "eqn1= eqn.subs(\n",
    "        {a[0]:1, \n",
    "         a[1]:1, \n",
    "         a[2]:1, \n",
    "         a[3]:1})\n",
    "\n",
    "sym.Eq(eqn1,0)"
   ]
  },
  {
   "cell_type": "code",
   "execution_count": 104,
   "id": "c073c45e-0738-401c-b1f8-c272650158c7",
   "metadata": {},
   "outputs": [
    {
     "data": {
      "text/latex": [
       "$\\displaystyle - \\frac{a_{2}}{3 a_{3}} - \\frac{- \\frac{3 a_{1}}{a_{3}} + \\frac{a_{2}^{2}}{a_{3}^{2}}}{3 \\sqrt[3]{\\frac{27 a_{0}}{2 a_{3}} - \\frac{9 a_{1} a_{2}}{2 a_{3}^{2}} + \\frac{a_{2}^{3}}{a_{3}^{3}} + \\frac{\\sqrt{- 4 \\left(- \\frac{3 a_{1}}{a_{3}} + \\frac{a_{2}^{2}}{a_{3}^{2}}\\right)^{3} + \\left(\\frac{27 a_{0}}{a_{3}} - \\frac{9 a_{1} a_{2}}{a_{3}^{2}} + \\frac{2 a_{2}^{3}}{a_{3}^{3}}\\right)^{2}}}{2}}} - \\frac{\\sqrt[3]{\\frac{27 a_{0}}{2 a_{3}} - \\frac{9 a_{1} a_{2}}{2 a_{3}^{2}} + \\frac{a_{2}^{3}}{a_{3}^{3}} + \\frac{\\sqrt{- 4 \\left(- \\frac{3 a_{1}}{a_{3}} + \\frac{a_{2}^{2}}{a_{3}^{2}}\\right)^{3} + \\left(\\frac{27 a_{0}}{a_{3}} - \\frac{9 a_{1} a_{2}}{a_{3}^{2}} + \\frac{2 a_{2}^{3}}{a_{3}^{3}}\\right)^{2}}}{2}}}{3}$"
      ],
      "text/plain": [
       "<IPython.core.display.Math object>"
      ]
     },
     "execution_count": 104,
     "metadata": {},
     "output_type": "execute_result"
    }
   ],
   "source": [
    "lat解0= sym.latex(解[0])\n",
    "Math(lat解0)"
   ]
  },
  {
   "cell_type": "code",
   "execution_count": 94,
   "id": "6c7c779c-b096-45cb-ae68-60a936d11b13",
   "metadata": {},
   "outputs": [
    {
     "data": {
      "text/plain": [
       "(-1+0j)"
      ]
     },
     "execution_count": 94,
     "metadata": {},
     "output_type": "execute_result"
    }
   ],
   "source": [
    "complex(解[0].subs({a[0]:1, \n",
    "                    a[1]:1, \n",
    "                    a[2]:1, \n",
    "                    a[3]:1}))"
   ]
  },
  {
   "cell_type": "code",
   "execution_count": 96,
   "id": "10a2724c-01ad-4c93-a619-1d4ed698614b",
   "metadata": {},
   "outputs": [
    {
     "data": {
      "text/plain": [
       "(8.470329472543003e-22+1j)"
      ]
     },
     "execution_count": 96,
     "metadata": {},
     "output_type": "execute_result"
    }
   ],
   "source": [
    "complex(解[1].subs({a[0]:1, \n",
    "                    a[1]:1, \n",
    "                    a[2]:1, \n",
    "                    a[3]:1}))"
   ]
  },
  {
   "cell_type": "code",
   "execution_count": 97,
   "id": "62078192-f0b0-4d72-95b1-0cda2568bb4a",
   "metadata": {},
   "outputs": [
    {
     "data": {
      "text/plain": [
       "(8.470329472543003e-22-1j)"
      ]
     },
     "execution_count": 97,
     "metadata": {},
     "output_type": "execute_result"
    }
   ],
   "source": [
    "complex(解[2].subs({a[0]:1, \n",
    "                    a[1]:1, \n",
    "                    a[2]:1, \n",
    "                    a[3]:1}))"
   ]
  },
  {
   "cell_type": "markdown",
   "id": "94a929ab-d2d5-4e62-9142-79d14988c6ba",
   "metadata": {},
   "source": [
    "# 根據你的數學素養，你認為上述解答合理嗎？"
   ]
  },
  {
   "cell_type": "markdown",
   "id": "0b7542c2-8ff3-4bb0-bdaf-59a0c3b9dc25",
   "metadata": {},
   "source": [
    "# 再解一下下面這題，答案會讓你驚訝喔！\n",
    "\n",
    "$\n",
    "1 + x + x^2 + x^3 + .... + x^9 + x^{10} = 0\n",
    "$"
   ]
  },
  {
   "cell_type": "code",
   "execution_count": 141,
   "id": "9621e1a7-bab5-43a1-bf4f-44301ae8dd17",
   "metadata": {},
   "outputs": [
    {
     "data": {
      "text/latex": [
       "$\\displaystyle x^{10} + x^{9} + x^{8} + x^{7} + x^{6} + x^{5} + x^{4} + x^{3} + x^{2} + x + 1$"
      ],
      "text/plain": [
       "x**10 + x**9 + x**8 + x**7 + x**6 + x**5 + x**4 + x**3 + x**2 + x + 1"
      ]
     },
     "execution_count": 141,
     "metadata": {},
     "output_type": "execute_result"
    }
   ],
   "source": [
    "\n",
    "# 5.) 解一下 1 + x + x**2 + x**3 +.... + x**9 + x**10== 0\n",
    "\n",
    "x= sym.symbols('x')\n",
    "\n",
    "N= 11\n",
    "\n",
    "eqn= 0\n",
    "for i in range(N):\n",
    "    eqn += x**i\n",
    "eqn"
   ]
  },
  {
   "cell_type": "code",
   "execution_count": 142,
   "id": "858034da-7c04-4412-8760-53845959f33f",
   "metadata": {},
   "outputs": [
    {
     "data": {
      "text/latex": [
       "$\\displaystyle x^{10} + x^{9} + x^{8} + x^{7} + x^{6} + x^{5} + x^{4} + x^{3} + x^{2} + x + 1$"
      ],
      "text/plain": [
       "x**10 + x**9 + x**8 + x**7 + x**6 + x**5 + x**4 + x**3 + x**2 + x + 1"
      ]
     },
     "execution_count": 142,
     "metadata": {},
     "output_type": "execute_result"
    }
   ],
   "source": [
    "eqn= sum([x**i for i in range(N)])\n",
    "eqn"
   ]
  },
  {
   "cell_type": "code",
   "execution_count": 143,
   "id": "c7f551b3-6f29-4c0e-9f4c-7e9d1a9d7754",
   "metadata": {},
   "outputs": [
    {
     "data": {
      "text/plain": [
       "[-cos(pi/11) - I*sin(pi/11),\n",
       " -cos(pi/11) + I*sin(pi/11),\n",
       " cos(2*pi/11) - I*sin(2*pi/11),\n",
       " cos(2*pi/11) + I*sin(2*pi/11),\n",
       " -cos(3*pi/11) - I*sin(3*pi/11),\n",
       " -cos(3*pi/11) + I*sin(3*pi/11),\n",
       " cos(4*pi/11) - I*sin(4*pi/11),\n",
       " cos(4*pi/11) + I*sin(4*pi/11),\n",
       " -cos(5*pi/11) - I*sin(5*pi/11),\n",
       " -cos(5*pi/11) + I*sin(5*pi/11)]"
      ]
     },
     "execution_count": 143,
     "metadata": {},
     "output_type": "execute_result"
    }
   ],
   "source": [
    "解= sym.solve(eqn, x)\n",
    "解"
   ]
  },
  {
   "cell_type": "code",
   "execution_count": 144,
   "id": "f5209039-a214-4b5a-a273-29422a8a0a9e",
   "metadata": {},
   "outputs": [
    {
     "data": {
      "text/latex": [
       "$\\displaystyle \\left[ - \\cos{\\left(\\frac{\\pi}{11} \\right)} - i \\sin{\\left(\\frac{\\pi}{11} \\right)}, \\  - \\cos{\\left(\\frac{\\pi}{11} \\right)} + i \\sin{\\left(\\frac{\\pi}{11} \\right)}, \\  \\cos{\\left(\\frac{2 \\pi}{11} \\right)} - i \\sin{\\left(\\frac{2 \\pi}{11} \\right)}, \\  \\cos{\\left(\\frac{2 \\pi}{11} \\right)} + i \\sin{\\left(\\frac{2 \\pi}{11} \\right)}, \\  - \\cos{\\left(\\frac{3 \\pi}{11} \\right)} - i \\sin{\\left(\\frac{3 \\pi}{11} \\right)}, \\  - \\cos{\\left(\\frac{3 \\pi}{11} \\right)} + i \\sin{\\left(\\frac{3 \\pi}{11} \\right)}, \\  \\cos{\\left(\\frac{4 \\pi}{11} \\right)} - i \\sin{\\left(\\frac{4 \\pi}{11} \\right)}, \\  \\cos{\\left(\\frac{4 \\pi}{11} \\right)} + i \\sin{\\left(\\frac{4 \\pi}{11} \\right)}, \\  - \\cos{\\left(\\frac{5 \\pi}{11} \\right)} - i \\sin{\\left(\\frac{5 \\pi}{11} \\right)}, \\  - \\cos{\\left(\\frac{5 \\pi}{11} \\right)} + i \\sin{\\left(\\frac{5 \\pi}{11} \\right)}\\right]$"
      ],
      "text/plain": [
       "<IPython.core.display.Math object>"
      ]
     },
     "execution_count": 144,
     "metadata": {},
     "output_type": "execute_result"
    }
   ],
   "source": [
    "lat解= sym.latex(解)\n",
    "Math(lat解)"
   ]
  },
  {
   "cell_type": "markdown",
   "id": "535b69ec-2aca-4e83-bd33-a4516a07c8f3",
   "metadata": {},
   "source": [
    "$\n",
    "\\cos{\\left(\\frac{\\pi}{11} \\right)} - i \\sin{\\left(\\frac{\\pi}{11} \\right)}\n",
    "$"
   ]
  },
  {
   "cell_type": "code",
   "execution_count": 145,
   "id": "cd746f97-9e76-4892-88e8-2381ab385cb0",
   "metadata": {},
   "outputs": [
    {
     "name": "stdout",
     "output_type": "stream",
     "text": [
      "解[0]= - \\cos{\\left(\\frac{\\pi}{11} \\right)} - i \\sin{\\left(\\frac{\\pi}{11} \\right)}\n",
      "----------------------------------------\n"
     ]
    },
    {
     "data": {
      "text/latex": [
       "$\\displaystyle - \\cos{\\left(\\frac{\\pi}{11} \\right)} - i \\sin{\\left(\\frac{\\pi}{11} \\right)}$"
      ],
      "text/plain": [
       "<IPython.core.display.Math object>"
      ]
     },
     "metadata": {},
     "output_type": "display_data"
    },
    {
     "name": "stdout",
     "output_type": "stream",
     "text": [
      "========================================\n",
      "解[1]= - \\cos{\\left(\\frac{\\pi}{11} \\right)} + i \\sin{\\left(\\frac{\\pi}{11} \\right)}\n",
      "----------------------------------------\n"
     ]
    },
    {
     "data": {
      "text/latex": [
       "$\\displaystyle - \\cos{\\left(\\frac{\\pi}{11} \\right)} + i \\sin{\\left(\\frac{\\pi}{11} \\right)}$"
      ],
      "text/plain": [
       "<IPython.core.display.Math object>"
      ]
     },
     "metadata": {},
     "output_type": "display_data"
    },
    {
     "name": "stdout",
     "output_type": "stream",
     "text": [
      "========================================\n",
      "解[2]= \\cos{\\left(\\frac{2 \\pi}{11} \\right)} - i \\sin{\\left(\\frac{2 \\pi}{11} \\right)}\n",
      "----------------------------------------\n"
     ]
    },
    {
     "data": {
      "text/latex": [
       "$\\displaystyle \\cos{\\left(\\frac{2 \\pi}{11} \\right)} - i \\sin{\\left(\\frac{2 \\pi}{11} \\right)}$"
      ],
      "text/plain": [
       "<IPython.core.display.Math object>"
      ]
     },
     "metadata": {},
     "output_type": "display_data"
    },
    {
     "name": "stdout",
     "output_type": "stream",
     "text": [
      "========================================\n",
      "解[3]= \\cos{\\left(\\frac{2 \\pi}{11} \\right)} + i \\sin{\\left(\\frac{2 \\pi}{11} \\right)}\n",
      "----------------------------------------\n"
     ]
    },
    {
     "data": {
      "text/latex": [
       "$\\displaystyle \\cos{\\left(\\frac{2 \\pi}{11} \\right)} + i \\sin{\\left(\\frac{2 \\pi}{11} \\right)}$"
      ],
      "text/plain": [
       "<IPython.core.display.Math object>"
      ]
     },
     "metadata": {},
     "output_type": "display_data"
    },
    {
     "name": "stdout",
     "output_type": "stream",
     "text": [
      "========================================\n",
      "解[4]= - \\cos{\\left(\\frac{3 \\pi}{11} \\right)} - i \\sin{\\left(\\frac{3 \\pi}{11} \\right)}\n",
      "----------------------------------------\n"
     ]
    },
    {
     "data": {
      "text/latex": [
       "$\\displaystyle - \\cos{\\left(\\frac{3 \\pi}{11} \\right)} - i \\sin{\\left(\\frac{3 \\pi}{11} \\right)}$"
      ],
      "text/plain": [
       "<IPython.core.display.Math object>"
      ]
     },
     "metadata": {},
     "output_type": "display_data"
    },
    {
     "name": "stdout",
     "output_type": "stream",
     "text": [
      "========================================\n",
      "解[5]= - \\cos{\\left(\\frac{3 \\pi}{11} \\right)} + i \\sin{\\left(\\frac{3 \\pi}{11} \\right)}\n",
      "----------------------------------------\n"
     ]
    },
    {
     "data": {
      "text/latex": [
       "$\\displaystyle - \\cos{\\left(\\frac{3 \\pi}{11} \\right)} + i \\sin{\\left(\\frac{3 \\pi}{11} \\right)}$"
      ],
      "text/plain": [
       "<IPython.core.display.Math object>"
      ]
     },
     "metadata": {},
     "output_type": "display_data"
    },
    {
     "name": "stdout",
     "output_type": "stream",
     "text": [
      "========================================\n",
      "解[6]= \\cos{\\left(\\frac{4 \\pi}{11} \\right)} - i \\sin{\\left(\\frac{4 \\pi}{11} \\right)}\n",
      "----------------------------------------\n"
     ]
    },
    {
     "data": {
      "text/latex": [
       "$\\displaystyle \\cos{\\left(\\frac{4 \\pi}{11} \\right)} - i \\sin{\\left(\\frac{4 \\pi}{11} \\right)}$"
      ],
      "text/plain": [
       "<IPython.core.display.Math object>"
      ]
     },
     "metadata": {},
     "output_type": "display_data"
    },
    {
     "name": "stdout",
     "output_type": "stream",
     "text": [
      "========================================\n",
      "解[7]= \\cos{\\left(\\frac{4 \\pi}{11} \\right)} + i \\sin{\\left(\\frac{4 \\pi}{11} \\right)}\n",
      "----------------------------------------\n"
     ]
    },
    {
     "data": {
      "text/latex": [
       "$\\displaystyle \\cos{\\left(\\frac{4 \\pi}{11} \\right)} + i \\sin{\\left(\\frac{4 \\pi}{11} \\right)}$"
      ],
      "text/plain": [
       "<IPython.core.display.Math object>"
      ]
     },
     "metadata": {},
     "output_type": "display_data"
    },
    {
     "name": "stdout",
     "output_type": "stream",
     "text": [
      "========================================\n",
      "解[8]= - \\cos{\\left(\\frac{5 \\pi}{11} \\right)} - i \\sin{\\left(\\frac{5 \\pi}{11} \\right)}\n",
      "----------------------------------------\n"
     ]
    },
    {
     "data": {
      "text/latex": [
       "$\\displaystyle - \\cos{\\left(\\frac{5 \\pi}{11} \\right)} - i \\sin{\\left(\\frac{5 \\pi}{11} \\right)}$"
      ],
      "text/plain": [
       "<IPython.core.display.Math object>"
      ]
     },
     "metadata": {},
     "output_type": "display_data"
    },
    {
     "name": "stdout",
     "output_type": "stream",
     "text": [
      "========================================\n",
      "解[9]= - \\cos{\\left(\\frac{5 \\pi}{11} \\right)} + i \\sin{\\left(\\frac{5 \\pi}{11} \\right)}\n",
      "----------------------------------------\n"
     ]
    },
    {
     "data": {
      "text/latex": [
       "$\\displaystyle - \\cos{\\left(\\frac{5 \\pi}{11} \\right)} + i \\sin{\\left(\\frac{5 \\pi}{11} \\right)}$"
      ],
      "text/plain": [
       "<IPython.core.display.Math object>"
      ]
     },
     "metadata": {},
     "output_type": "display_data"
    },
    {
     "name": "stdout",
     "output_type": "stream",
     "text": [
      "========================================\n"
     ]
    }
   ],
   "source": [
    "\n",
    "#\n",
    "# 以下看起來更容易觀賞：\n",
    "#\n",
    "for i, s in enumerate(解):\n",
    "    lat= sym.latex(s)\n",
    "    \n",
    "    print(f'解[{i}]= {lat}')\n",
    "    print('-'*40)\n",
    "    display(Math(lat))\n",
    "    print('='*40)\n",
    "    "
   ]
  },
  {
   "cell_type": "code",
   "execution_count": 161,
   "id": "d161f852-2818-47af-9751-46f972924f6c",
   "metadata": {},
   "outputs": [
    {
     "ename": "AssertionError",
     "evalue": "",
     "output_type": "error",
     "traceback": [
      "\u001b[1;31m---------------------------------------------------------------------------\u001b[0m",
      "\u001b[1;31mAssertionError\u001b[0m                            Traceback (most recent call last)",
      "\u001b[1;32m<ipython-input-161-f713cdad80a9>\u001b[0m in \u001b[0;36m<module>\u001b[1;34m\u001b[0m\n\u001b[0;32m      5\u001b[0m     \u001b[0m全部檢查\u001b[0m \u001b[1;33m+=\u001b[0m \u001b[1;33m[\u001b[0m\u001b[0m檢查\u001b[0m\u001b[1;33m]\u001b[0m\u001b[1;33m\u001b[0m\u001b[1;33m\u001b[0m\u001b[0m\n\u001b[0;32m      6\u001b[0m \u001b[1;33m\u001b[0m\u001b[0m\n\u001b[1;32m----> 7\u001b[1;33m \u001b[1;32massert\u001b[0m \u001b[0mall\u001b[0m\u001b[1;33m(\u001b[0m\u001b[0m全部檢查\u001b[0m\u001b[1;33m)\u001b[0m\u001b[1;33m\u001b[0m\u001b[1;33m\u001b[0m\u001b[0m\n\u001b[0m\u001b[0;32m      8\u001b[0m \u001b[1;33m\u001b[0m\u001b[0m\n\u001b[0;32m      9\u001b[0m \u001b[0m全部檢查\u001b[0m\u001b[1;33m,\u001b[0m  \u001b[0mall\u001b[0m\u001b[1;33m(\u001b[0m\u001b[0m全部檢查\u001b[0m\u001b[1;33m)\u001b[0m\u001b[1;33m\u001b[0m\u001b[1;33m\u001b[0m\u001b[0m\n",
      "\u001b[1;31mAssertionError\u001b[0m: "
     ]
    }
   ],
   "source": [
    "# 驗算\n",
    "全部檢查= []\n",
    "for s in 解:\n",
    "    檢查= (eqn.subs(x, s) == 0)\n",
    "    全部檢查 += [檢查]\n",
    "\n",
    "assert all(全部檢查)\n",
    "\n",
    "全部檢查,  all(全部檢查)\n"
   ]
  },
  {
   "cell_type": "code",
   "execution_count": 158,
   "id": "fa8d21c3-3ecd-4861-9126-8e54297b7942",
   "metadata": {},
   "outputs": [
    {
     "data": {
      "text/plain": [
       "[False, False, False, False, False, False, False, False, False, False]"
      ]
     },
     "execution_count": 158,
     "metadata": {},
     "output_type": "execute_result"
    }
   ],
   "source": [
    "全部檢查"
   ]
  },
  {
   "cell_type": "code",
   "execution_count": 159,
   "id": "2b2df282-ad15-472d-a815-9d6ca6402fa9",
   "metadata": {},
   "outputs": [
    {
     "data": {
      "text/plain": [
       "(-3.6931914471142943e-127+1.4772765788457177e-126j)"
      ]
     },
     "execution_count": 159,
     "metadata": {},
     "output_type": "execute_result"
    }
   ],
   "source": [
    "complex(eqn.subs(x, s))"
   ]
  },
  {
   "cell_type": "code",
   "execution_count": 156,
   "id": "e63cd6f8-2287-4357-851c-41e4a973e7a2",
   "metadata": {},
   "outputs": [
    {
     "data": {
      "text/plain": [
       "True"
      ]
     },
     "execution_count": 156,
     "metadata": {},
     "output_type": "execute_result"
    }
   ],
   "source": [
    "import numpy as np\n",
    "np.isclose(complex(eqn.subs(x, 解[0])), 0)"
   ]
  },
  {
   "cell_type": "code",
   "execution_count": 160,
   "id": "1838bc0f-b1b9-42ae-8c41-b3948a75bce2",
   "metadata": {},
   "outputs": [
    {
     "data": {
      "text/plain": [
       "([True, True, True, True, True, True, True, True, True, True], True)"
      ]
     },
     "execution_count": 160,
     "metadata": {},
     "output_type": "execute_result"
    }
   ],
   "source": [
    "# 重新驗算\n",
    "全部檢查= []\n",
    "for s in 解:\n",
    "    #檢查= (eqn.subs(x, s) == 0)\n",
    "    檢查= np.isclose(complex(eqn.subs(x, s)), 0)\n",
    "    全部檢查 += [檢查]\n",
    "\n",
    "assert all(全部檢查)\n",
    "\n",
    "全部檢查,  all(全部檢查)\n"
   ]
  },
  {
   "cell_type": "code",
   "execution_count": 166,
   "id": "f9d8b75b-49b7-4ce0-9ed8-fa968283a3dd",
   "metadata": {},
   "outputs": [
    {
     "data": {
      "text/latex": [
       "$\\displaystyle - \\cos{\\left(\\frac{\\pi}{11} \\right)} + 1 + \\left(- \\cos{\\left(\\frac{\\pi}{11} \\right)} - i \\sin{\\left(\\frac{\\pi}{11} \\right)}\\right)^{5} + \\left(- \\cos{\\left(\\frac{\\pi}{11} \\right)} - i \\sin{\\left(\\frac{\\pi}{11} \\right)}\\right)^{7} + \\left(- \\cos{\\left(\\frac{\\pi}{11} \\right)} - i \\sin{\\left(\\frac{\\pi}{11} \\right)}\\right)^{3} + \\left(- \\cos{\\left(\\frac{\\pi}{11} \\right)} - i \\sin{\\left(\\frac{\\pi}{11} \\right)}\\right)^{9} - i \\sin{\\left(\\frac{\\pi}{11} \\right)} + \\left(- \\cos{\\left(\\frac{\\pi}{11} \\right)} - i \\sin{\\left(\\frac{\\pi}{11} \\right)}\\right)^{10} + \\left(- \\cos{\\left(\\frac{\\pi}{11} \\right)} - i \\sin{\\left(\\frac{\\pi}{11} \\right)}\\right)^{2} + \\left(- \\cos{\\left(\\frac{\\pi}{11} \\right)} - i \\sin{\\left(\\frac{\\pi}{11} \\right)}\\right)^{8} + \\left(- \\cos{\\left(\\frac{\\pi}{11} \\right)} - i \\sin{\\left(\\frac{\\pi}{11} \\right)}\\right)^{4} + \\left(- \\cos{\\left(\\frac{\\pi}{11} \\right)} - i \\sin{\\left(\\frac{\\pi}{11} \\right)}\\right)^{6}$"
      ],
      "text/plain": [
       "-cos(pi/11) + 1 + (-cos(pi/11) - I*sin(pi/11))**5 + (-cos(pi/11) - I*sin(pi/11))**7 + (-cos(pi/11) - I*sin(pi/11))**3 + (-cos(pi/11) - I*sin(pi/11))**9 - I*sin(pi/11) + (-cos(pi/11) - I*sin(pi/11))**10 + (-cos(pi/11) - I*sin(pi/11))**2 + (-cos(pi/11) - I*sin(pi/11))**8 + (-cos(pi/11) - I*sin(pi/11))**4 + (-cos(pi/11) - I*sin(pi/11))**6"
      ]
     },
     "execution_count": 166,
     "metadata": {},
     "output_type": "execute_result"
    }
   ],
   "source": [
    "eqn.subs(x, 解[0])"
   ]
  },
  {
   "cell_type": "code",
   "execution_count": 167,
   "id": "dc543692-075f-4698-afb9-7791518fde71",
   "metadata": {},
   "outputs": [
    {
     "data": {
      "text/latex": [
       "$\\displaystyle - 2 \\cos{\\left(\\frac{\\pi}{11} \\right)} - 2 \\cos{\\left(\\frac{3 \\pi}{11} \\right)} - 2 \\cos{\\left(\\frac{5 \\pi}{11} \\right)} + 2 \\cos{\\left(\\frac{4 \\pi}{11} \\right)} + 1 + 2 \\cos{\\left(\\frac{2 \\pi}{11} \\right)}$"
      ],
      "text/plain": [
       "-2*cos(pi/11) - 2*cos(3*pi/11) - 2*cos(5*pi/11) + 2*cos(4*pi/11) + 1 + 2*cos(2*pi/11)"
      ]
     },
     "execution_count": 167,
     "metadata": {},
     "output_type": "execute_result"
    }
   ],
   "source": [
    "eqn.subs(x, 解[0]).simplify()"
   ]
  },
  {
   "cell_type": "code",
   "execution_count": 168,
   "id": "bbcd541e-ea53-44ad-90f3-5344bc4d99be",
   "metadata": {},
   "outputs": [
    {
     "ename": "TypeError",
     "evalue": "can't convert complex to float",
     "output_type": "error",
     "traceback": [
      "\u001b[1;31m---------------------------------------------------------------------------\u001b[0m",
      "\u001b[1;31mTypeError\u001b[0m                                 Traceback (most recent call last)",
      "\u001b[1;32m<ipython-input-168-b3703ad77493>\u001b[0m in \u001b[0;36m<module>\u001b[1;34m\u001b[0m\n\u001b[1;32m----> 1\u001b[1;33m \u001b[0mfloat\u001b[0m\u001b[1;33m(\u001b[0m\u001b[0meqn\u001b[0m\u001b[1;33m.\u001b[0m\u001b[0msubs\u001b[0m\u001b[1;33m(\u001b[0m\u001b[0mx\u001b[0m\u001b[1;33m,\u001b[0m \u001b[0m解\u001b[0m\u001b[1;33m[\u001b[0m\u001b[1;36m0\u001b[0m\u001b[1;33m]\u001b[0m\u001b[1;33m)\u001b[0m\u001b[1;33m)\u001b[0m\u001b[1;33m\u001b[0m\u001b[1;33m\u001b[0m\u001b[0m\n\u001b[0m",
      "\u001b[1;32mM:\\ProgramData\\Anaconda3\\lib\\site-packages\\sympy\\core\\expr.py\u001b[0m in \u001b[0;36m__float__\u001b[1;34m(self)\u001b[0m\n\u001b[0;32m    355\u001b[0m             \u001b[1;32mreturn\u001b[0m \u001b[0mfloat\u001b[0m\u001b[1;33m(\u001b[0m\u001b[0mresult\u001b[0m\u001b[1;33m)\u001b[0m\u001b[1;33m\u001b[0m\u001b[1;33m\u001b[0m\u001b[0m\n\u001b[0;32m    356\u001b[0m         \u001b[1;32mif\u001b[0m \u001b[0mresult\u001b[0m\u001b[1;33m.\u001b[0m\u001b[0mis_number\u001b[0m \u001b[1;32mand\u001b[0m \u001b[0mresult\u001b[0m\u001b[1;33m.\u001b[0m\u001b[0mas_real_imag\u001b[0m\u001b[1;33m(\u001b[0m\u001b[1;33m)\u001b[0m\u001b[1;33m[\u001b[0m\u001b[1;36m1\u001b[0m\u001b[1;33m]\u001b[0m\u001b[1;33m:\u001b[0m\u001b[1;33m\u001b[0m\u001b[1;33m\u001b[0m\u001b[0m\n\u001b[1;32m--> 357\u001b[1;33m             \u001b[1;32mraise\u001b[0m \u001b[0mTypeError\u001b[0m\u001b[1;33m(\u001b[0m\u001b[1;34m\"can't convert complex to float\"\u001b[0m\u001b[1;33m)\u001b[0m\u001b[1;33m\u001b[0m\u001b[1;33m\u001b[0m\u001b[0m\n\u001b[0m\u001b[0;32m    358\u001b[0m         \u001b[1;32mraise\u001b[0m \u001b[0mTypeError\u001b[0m\u001b[1;33m(\u001b[0m\u001b[1;34m\"can't convert expression to float\"\u001b[0m\u001b[1;33m)\u001b[0m\u001b[1;33m\u001b[0m\u001b[1;33m\u001b[0m\u001b[0m\n\u001b[0;32m    359\u001b[0m \u001b[1;33m\u001b[0m\u001b[0m\n",
      "\u001b[1;31mTypeError\u001b[0m: can't convert complex to float"
     ]
    }
   ],
   "source": [
    "float(eqn.subs(x, 解[0]))"
   ]
  },
  {
   "cell_type": "code",
   "execution_count": 169,
   "id": "f4a5889a-d899-4556-b57f-2ed9b6159650",
   "metadata": {},
   "outputs": [
    {
     "data": {
      "text/plain": [
       "(-9.232978617785736e-128+9.232978617785736e-128j)"
      ]
     },
     "execution_count": 169,
     "metadata": {},
     "output_type": "execute_result"
    }
   ],
   "source": [
    "complex(eqn.subs(x, 解[0]))"
   ]
  },
  {
   "cell_type": "code",
   "execution_count": 170,
   "id": "432c0961-e19b-4400-b275-0246a95c178d",
   "metadata": {},
   "outputs": [
    {
     "data": {
      "text/plain": [
       "True"
      ]
     },
     "execution_count": 170,
     "metadata": {},
     "output_type": "execute_result"
    }
   ],
   "source": [
    "np.isclose(complex(eqn.subs(x, 解[0])), 0)"
   ]
  },
  {
   "cell_type": "code",
   "execution_count": 212,
   "id": "239ac504-cbe0-4b6e-813a-f0f7964e1457",
   "metadata": {},
   "outputs": [
    {
     "data": {
      "text/latex": [
       "$\\displaystyle x^{20} + x^{19} + x^{18} + x^{17} + x^{16} + x^{15} + x^{14} + x^{13} + x^{12} + x^{11} + x^{10} + x^{9} + x^{8} + x^{7} + x^{6} + x^{5} + x^{4} + x^{3} + x^{2} + x + 1$"
      ],
      "text/plain": [
       "x**20 + x**19 + x**18 + x**17 + x**16 + x**15 + x**14 + x**13 + x**12 + x**11 + x**10 + x**9 + x**8 + x**7 + x**6 + x**5 + x**4 + x**3 + x**2 + x + 1"
      ]
     },
     "metadata": {},
     "output_type": "display_data"
    },
    {
     "data": {
      "text/plain": [
       "[-1/2 - sqrt(3)*I/2,\n",
       " -1/2 + sqrt(3)*I/2,\n",
       " -cos(pi/21) - I*sin(pi/21),\n",
       " -cos(pi/21) + I*sin(pi/21),\n",
       " cos(2*pi/21) - I*sin(2*pi/21),\n",
       " cos(2*pi/21) + I*sin(2*pi/21),\n",
       " -cos(pi/7) - I*sin(pi/7),\n",
       " -cos(pi/7) + I*sin(pi/7),\n",
       " cos(4*pi/21) - I*sin(4*pi/21),\n",
       " cos(4*pi/21) + I*sin(4*pi/21),\n",
       " -cos(5*pi/21) - I*sin(5*pi/21),\n",
       " -cos(5*pi/21) + I*sin(5*pi/21),\n",
       " cos(2*pi/7) - I*sin(2*pi/7),\n",
       " cos(2*pi/7) + I*sin(2*pi/7),\n",
       " cos(8*pi/21) - I*sin(8*pi/21),\n",
       " cos(8*pi/21) + I*sin(8*pi/21),\n",
       " -cos(3*pi/7) - I*sin(3*pi/7),\n",
       " -cos(3*pi/7) + I*sin(3*pi/7),\n",
       " cos(10*pi/21) - I*sin(10*pi/21),\n",
       " cos(10*pi/21) + I*sin(10*pi/21)]"
      ]
     },
     "metadata": {},
     "output_type": "display_data"
    }
   ],
   "source": [
    "# 6.) 解一下 1 + x + x**2 + x**3 +.... + x**(N-1)== 0\n",
    "\n",
    "x= sym.symbols('x')\n",
    "\n",
    "N= 21\n",
    "\n",
    "eqn= sum([x**i for i in range(N)])\n",
    "display(eqn)\n",
    "\n",
    "解= sym.solve(eqn, x)\n",
    "display(解)"
   ]
  },
  {
   "cell_type": "markdown",
   "id": "9054aab9-2345-4168-8a6f-1c59bbba036a",
   "metadata": {},
   "source": [
    "# 這類型的方程式應該有通解，你能找找出來嗎？\n"
   ]
  },
  {
   "cell_type": "code",
   "execution_count": 220,
   "id": "64f49b0f-1c0d-4ca2-a210-aba44469e514",
   "metadata": {},
   "outputs": [
    {
     "data": {
      "text/latex": [
       "$\\displaystyle \\frac{1}{2} + \\left(- \\frac{1}{2} - \\frac{\\sqrt{3} i}{2}\\right)^{4} + \\left(- \\frac{1}{2} - \\frac{\\sqrt{3} i}{2}\\right)^{7} + \\left(- \\frac{1}{2} - \\frac{\\sqrt{3} i}{2}\\right)^{10} + \\left(- \\frac{1}{2} - \\frac{\\sqrt{3} i}{2}\\right)^{13} + \\left(- \\frac{1}{2} - \\frac{\\sqrt{3} i}{2}\\right)^{16} + \\left(- \\frac{1}{2} - \\frac{\\sqrt{3} i}{2}\\right)^{19} - \\frac{\\sqrt{3} i}{2} + \\left(- \\frac{1}{2} - \\frac{\\sqrt{3} i}{2}\\right)^{3} + \\left(- \\frac{1}{2} - \\frac{\\sqrt{3} i}{2}\\right)^{6} + \\left(- \\frac{1}{2} - \\frac{\\sqrt{3} i}{2}\\right)^{9} + \\left(- \\frac{1}{2} - \\frac{\\sqrt{3} i}{2}\\right)^{12} + \\left(- \\frac{1}{2} - \\frac{\\sqrt{3} i}{2}\\right)^{15} + \\left(- \\frac{1}{2} - \\frac{\\sqrt{3} i}{2}\\right)^{18} + \\left(- \\frac{1}{2} - \\frac{\\sqrt{3} i}{2}\\right)^{2} + \\left(- \\frac{1}{2} - \\frac{\\sqrt{3} i}{2}\\right)^{5} + \\left(- \\frac{1}{2} - \\frac{\\sqrt{3} i}{2}\\right)^{8} + \\left(- \\frac{1}{2} - \\frac{\\sqrt{3} i}{2}\\right)^{11} + \\left(- \\frac{1}{2} - \\frac{\\sqrt{3} i}{2}\\right)^{14} + \\left(- \\frac{1}{2} - \\frac{\\sqrt{3} i}{2}\\right)^{17} + \\left(- \\frac{1}{2} - \\frac{\\sqrt{3} i}{2}\\right)^{20}$"
      ],
      "text/plain": [
       "1/2 + (-1/2 - sqrt(3)*I/2)**4 + (-1/2 - sqrt(3)*I/2)**7 + (-1/2 - sqrt(3)*I/2)**10 + (-1/2 - sqrt(3)*I/2)**13 + (-1/2 - sqrt(3)*I/2)**16 + (-1/2 - sqrt(3)*I/2)**19 - sqrt(3)*I/2 + (-1/2 - sqrt(3)*I/2)**3 + (-1/2 - sqrt(3)*I/2)**6 + (-1/2 - sqrt(3)*I/2)**9 + (-1/2 - sqrt(3)*I/2)**12 + (-1/2 - sqrt(3)*I/2)**15 + (-1/2 - sqrt(3)*I/2)**18 + (-1/2 - sqrt(3)*I/2)**2 + (-1/2 - sqrt(3)*I/2)**5 + (-1/2 - sqrt(3)*I/2)**8 + (-1/2 - sqrt(3)*I/2)**11 + (-1/2 - sqrt(3)*I/2)**14 + (-1/2 - sqrt(3)*I/2)**17 + (-1/2 - sqrt(3)*I/2)**20"
      ]
     },
     "execution_count": 220,
     "metadata": {},
     "output_type": "execute_result"
    }
   ],
   "source": [
    "# PS 後記：\n",
    "eqn.subs(x, 解[0])"
   ]
  },
  {
   "cell_type": "code",
   "execution_count": 221,
   "id": "374c64aa-f9fc-449b-94f0-fa8ef18e5fc2",
   "metadata": {},
   "outputs": [
    {
     "data": {
      "text/latex": [
       "$\\displaystyle 0$"
      ],
      "text/plain": [
       "0"
      ]
     },
     "execution_count": 221,
     "metadata": {},
     "output_type": "execute_result"
    }
   ],
   "source": [
    "eqn.subs(x, 解[0]).simplify()"
   ]
  },
  {
   "cell_type": "code",
   "execution_count": 222,
   "id": "b6d2d9c5-8c75-4b01-9eb2-4da133b9559e",
   "metadata": {},
   "outputs": [
    {
     "data": {
      "text/latex": [
       "$\\displaystyle 5.0 \\cdot 10^{-128} + 2.0 \\cdot 10^{-128} i$"
      ],
      "text/plain": [
       "0.e-128 + 0.e-128*I"
      ]
     },
     "execution_count": 222,
     "metadata": {},
     "output_type": "execute_result"
    }
   ],
   "source": [
    "eqn.subs(x, 解[0]).evalf()"
   ]
  },
  {
   "cell_type": "code",
   "execution_count": 223,
   "id": "fc40b169-1a08-4c76-bf43-a18a106bd15c",
   "metadata": {},
   "outputs": [
    {
     "ename": "TypeError",
     "evalue": "can't convert complex to float",
     "output_type": "error",
     "traceback": [
      "\u001b[1;31m---------------------------------------------------------------------------\u001b[0m",
      "\u001b[1;31mTypeError\u001b[0m                                 Traceback (most recent call last)",
      "\u001b[1;32m<ipython-input-223-b3703ad77493>\u001b[0m in \u001b[0;36m<module>\u001b[1;34m\u001b[0m\n\u001b[1;32m----> 1\u001b[1;33m \u001b[0mfloat\u001b[0m\u001b[1;33m(\u001b[0m\u001b[0meqn\u001b[0m\u001b[1;33m.\u001b[0m\u001b[0msubs\u001b[0m\u001b[1;33m(\u001b[0m\u001b[0mx\u001b[0m\u001b[1;33m,\u001b[0m \u001b[0m解\u001b[0m\u001b[1;33m[\u001b[0m\u001b[1;36m0\u001b[0m\u001b[1;33m]\u001b[0m\u001b[1;33m)\u001b[0m\u001b[1;33m)\u001b[0m\u001b[1;33m\u001b[0m\u001b[1;33m\u001b[0m\u001b[0m\n\u001b[0m",
      "\u001b[1;32mM:\\ProgramData\\Anaconda3\\lib\\site-packages\\sympy\\core\\expr.py\u001b[0m in \u001b[0;36m__float__\u001b[1;34m(self)\u001b[0m\n\u001b[0;32m    355\u001b[0m             \u001b[1;32mreturn\u001b[0m \u001b[0mfloat\u001b[0m\u001b[1;33m(\u001b[0m\u001b[0mresult\u001b[0m\u001b[1;33m)\u001b[0m\u001b[1;33m\u001b[0m\u001b[1;33m\u001b[0m\u001b[0m\n\u001b[0;32m    356\u001b[0m         \u001b[1;32mif\u001b[0m \u001b[0mresult\u001b[0m\u001b[1;33m.\u001b[0m\u001b[0mis_number\u001b[0m \u001b[1;32mand\u001b[0m \u001b[0mresult\u001b[0m\u001b[1;33m.\u001b[0m\u001b[0mas_real_imag\u001b[0m\u001b[1;33m(\u001b[0m\u001b[1;33m)\u001b[0m\u001b[1;33m[\u001b[0m\u001b[1;36m1\u001b[0m\u001b[1;33m]\u001b[0m\u001b[1;33m:\u001b[0m\u001b[1;33m\u001b[0m\u001b[1;33m\u001b[0m\u001b[0m\n\u001b[1;32m--> 357\u001b[1;33m             \u001b[1;32mraise\u001b[0m \u001b[0mTypeError\u001b[0m\u001b[1;33m(\u001b[0m\u001b[1;34m\"can't convert complex to float\"\u001b[0m\u001b[1;33m)\u001b[0m\u001b[1;33m\u001b[0m\u001b[1;33m\u001b[0m\u001b[0m\n\u001b[0m\u001b[0;32m    358\u001b[0m         \u001b[1;32mraise\u001b[0m \u001b[0mTypeError\u001b[0m\u001b[1;33m(\u001b[0m\u001b[1;34m\"can't convert expression to float\"\u001b[0m\u001b[1;33m)\u001b[0m\u001b[1;33m\u001b[0m\u001b[1;33m\u001b[0m\u001b[0m\n\u001b[0;32m    359\u001b[0m \u001b[1;33m\u001b[0m\u001b[0m\n",
      "\u001b[1;31mTypeError\u001b[0m: can't convert complex to float"
     ]
    }
   ],
   "source": [
    "float(eqn.subs(x, 解[0]))"
   ]
  },
  {
   "cell_type": "code",
   "execution_count": 224,
   "id": "ba41e135-12be-4548-857e-5d0cd0de2671",
   "metadata": {},
   "outputs": [
    {
     "data": {
      "text/plain": [
       "(4.616489308892868e-128+2.308244654446434e-128j)"
      ]
     },
     "execution_count": 224,
     "metadata": {},
     "output_type": "execute_result"
    }
   ],
   "source": [
    "complex(eqn.subs(x, 解[0]))"
   ]
  },
  {
   "cell_type": "markdown",
   "id": "ecc175fa-3e83-4bba-8f01-b177aa62407d",
   "metadata": {},
   "source": [
    "# VIDEO: Expanding terms\n"
   ]
  },
  {
   "cell_type": "code",
   "execution_count": 226,
   "id": "eff3b134-4998-4a55-b4ae-05b41570ec58",
   "metadata": {},
   "outputs": [
    {
     "name": "stdout",
     "output_type": "stream",
     "text": [
      "Variable   Type        Data/Info\n",
      "--------------------------------\n",
      "Math       type        <class 'IPython.core.display.Math'>\n",
      "N          int         21\n",
      "a          tuple       n=10\n",
      "b          Symbol      b\n",
      "c          Symbol      c\n",
      "display    function    <function display at 0x000001B591A60310>\n",
      "eqn        Add         x**20 + x**19 + x**18 + x<...>**4 + x**3 + x**2 + x + 1\n",
      "eqn1       Add         x**3 + x**2 + x + 1\n",
      "expr       Add         x**2 - 10\n",
      "i          int         7\n",
      "lat        str         - \\cos{\\left(\\frac{5 \\pi}<...>\\frac{5 \\pi}{11} \\right)}\n",
      "lat解       str         \\left[ - \\cos{\\left(\\frac<...> \\pi}{11} \\right)}\\right]\n",
      "lat解0      str         - \\frac{a_{2}}{3 a_{3}} -<...>{3}}\\right)^{2}}}{2}}}{3}\n",
      "math       module      <module 'math' (built-in)>\n",
      "np         module      <module 'numpy' from 'M:\\<...>ges\\\\numpy\\\\__init__.py'>\n",
      "s          Add         -cos(5*pi/11) + I*sin(5*pi/11)\n",
      "sol        list        n=2\n",
      "sym        module      <module 'sympy' from 'M:\\<...>ges\\\\sympy\\\\__init__.py'>\n",
      "x          Symbol      x\n",
      "全部檢查       list        n=10\n",
      "檢查         bool        False\n",
      "解          list        n=20\n"
     ]
    }
   ],
   "source": [
    "# 檢查系統現在有哪些變數已經存在於工作環境中\n",
    "\n",
    "%whos"
   ]
  },
  {
   "cell_type": "markdown",
   "id": "ad22e6c2-fcc0-4bcb-884c-9d9712a7c402",
   "metadata": {},
   "source": [
    "# VIDEO: Creating and accessing matrices with numpy"
   ]
  },
  {
   "cell_type": "code",
   "execution_count": 227,
   "id": "cebba18d-70d9-4c45-89d0-46f322e4bcdc",
   "metadata": {},
   "outputs": [
    {
     "data": {
      "text/plain": [
       "array([[1, 2],\n",
       "       [3, 4]])"
      ]
     },
     "execution_count": 227,
     "metadata": {},
     "output_type": "execute_result"
    }
   ],
   "source": [
    "A= [[1,2],\n",
    "    [3,4]]\n",
    "A= np.array(A)\n",
    "A"
   ]
  },
  {
   "cell_type": "code",
   "execution_count": 230,
   "id": "b6634f17-538a-422e-9ed5-24a5798155df",
   "metadata": {},
   "outputs": [
    {
     "data": {
      "text/latex": [
       "$\\displaystyle \\left[\\begin{matrix}1 & 2\\\\3 & 4\\end{matrix}\\right]$"
      ],
      "text/plain": [
       "[[1, 2], [3, 4]]"
      ]
     },
     "execution_count": 230,
     "metadata": {},
     "output_type": "execute_result"
    }
   ],
   "source": [
    "A= sym.sympify(A)\n",
    "A"
   ]
  },
  {
   "cell_type": "code",
   "execution_count": 233,
   "id": "06070ae2-d163-41a4-aaa4-8ce16ca019eb",
   "metadata": {},
   "outputs": [
    {
     "data": {
      "text/plain": [
       "'\\\\left[\\\\begin{matrix}1 & 2\\\\\\\\3 & 4\\\\end{matrix}\\\\right]'"
      ]
     },
     "execution_count": 233,
     "metadata": {},
     "output_type": "execute_result"
    }
   ],
   "source": [
    "sym.latex(A)"
   ]
  },
  {
   "cell_type": "code",
   "execution_count": 240,
   "id": "931c01d0-b058-49f2-ba40-746e0b293d7d",
   "metadata": {},
   "outputs": [
    {
     "data": {
      "text/latex": [
       "$\\displaystyle \\left[\\begin{matrix}1 & 2\\end{matrix}\\right]$"
      ],
      "text/plain": [
       "[1, 2]"
      ]
     },
     "execution_count": 240,
     "metadata": {},
     "output_type": "execute_result"
    }
   ],
   "source": [
    "A[0]"
   ]
  },
  {
   "cell_type": "code",
   "execution_count": 241,
   "id": "2b17f554-dc8c-4ffa-8724-a2c7ccf71dfd",
   "metadata": {},
   "outputs": [
    {
     "data": {
      "text/latex": [
       "$\\displaystyle \\left[\\begin{matrix}3 & 4\\end{matrix}\\right]$"
      ],
      "text/plain": [
       "[3, 4]"
      ]
     },
     "execution_count": 241,
     "metadata": {},
     "output_type": "execute_result"
    }
   ],
   "source": [
    "A[1]"
   ]
  },
  {
   "cell_type": "code",
   "execution_count": 245,
   "id": "b2861a1a-2613-4c42-aa99-ccc2f48e75cd",
   "metadata": {},
   "outputs": [
    {
     "data": {
      "text/latex": [
       "$\\displaystyle \\left[\\begin{matrix}1 & 3\\\\2 & 4\\end{matrix}\\right]$"
      ],
      "text/plain": [
       "[[1, 3], [2, 4]]"
      ]
     },
     "execution_count": 245,
     "metadata": {},
     "output_type": "execute_result"
    }
   ],
   "source": [
    "A.transpose()"
   ]
  },
  {
   "cell_type": "code",
   "execution_count": 246,
   "id": "89a567c5-a4ff-474c-8496-00070cdc9da9",
   "metadata": {},
   "outputs": [
    {
     "data": {
      "text/plain": [
       "(a0, a1, a2, a3, a4, a5, a6, a7, a8, a9)"
      ]
     },
     "execution_count": 246,
     "metadata": {},
     "output_type": "execute_result"
    }
   ],
   "source": [
    "a"
   ]
  },
  {
   "cell_type": "code",
   "execution_count": 247,
   "id": "75dffaf6-6f37-4856-896b-1c3c42040d6b",
   "metadata": {},
   "outputs": [
    {
     "data": {
      "text/latex": [
       "$\\displaystyle \\left(a_{0} + a_{1}\\right) \\left(a_{2} + a_{3}\\right)$"
      ],
      "text/plain": [
       "(a0 + a1)*(a2 + a3)"
      ]
     },
     "execution_count": 247,
     "metadata": {},
     "output_type": "execute_result"
    }
   ],
   "source": [
    "(a[0]+a[1])*(a[2]+a[3])"
   ]
  },
  {
   "cell_type": "code",
   "execution_count": 248,
   "id": "f43c7892-feb7-4899-abfa-b4a25611d57e",
   "metadata": {},
   "outputs": [
    {
     "data": {
      "text/latex": [
       "$\\displaystyle a_{0} a_{2} + a_{0} a_{3} + a_{1} a_{2} + a_{1} a_{3}$"
      ],
      "text/plain": [
       "a0*a2 + a0*a3 + a1*a2 + a1*a3"
      ]
     },
     "execution_count": 248,
     "metadata": {},
     "output_type": "execute_result"
    }
   ],
   "source": [
    "_.expand()"
   ]
  },
  {
   "cell_type": "code",
   "execution_count": 268,
   "id": "f02df50e-43ae-420a-813e-99e12bdb5f1c",
   "metadata": {},
   "outputs": [
    {
     "data": {
      "text/plain": [
       "(a00,\n",
       " a01,\n",
       " a02,\n",
       " a10,\n",
       " a11,\n",
       " a12,\n",
       " a20,\n",
       " a21,\n",
       " a22,\n",
       " b00,\n",
       " b01,\n",
       " b02,\n",
       " b10,\n",
       " b11,\n",
       " b12,\n",
       " b20,\n",
       " b21,\n",
       " b22)"
      ]
     },
     "execution_count": 268,
     "metadata": {},
     "output_type": "execute_result"
    }
   ],
   "source": [
    "# about symbols\n",
    "a= sym.symbols(('a:3:3, b:3:3'))\n",
    "a"
   ]
  },
  {
   "cell_type": "code",
   "execution_count": 269,
   "id": "dfb7ac75-7a66-480c-885f-10c19de897de",
   "metadata": {},
   "outputs": [
    {
     "data": {
      "text/latex": [
       "$\\displaystyle x$"
      ],
      "text/plain": [
       "x"
      ]
     },
     "execution_count": 269,
     "metadata": {},
     "output_type": "execute_result"
    }
   ],
   "source": [
    "x"
   ]
  },
  {
   "cell_type": "code",
   "execution_count": 271,
   "id": "fe5f3124-2315-44e6-a379-363fe7c836fd",
   "metadata": {},
   "outputs": [],
   "source": [
    "x,y = sym.symbols('x,y')\n"
   ]
  },
  {
   "cell_type": "code",
   "execution_count": 276,
   "id": "831dfb8c-0a6d-453c-9ebc-f01cfcb64765",
   "metadata": {},
   "outputs": [
    {
     "data": {
      "text/latex": [
       "$\\displaystyle x^{10} + 10 x^{9} y + 45 x^{8} y^{2} + 120 x^{7} y^{3} + 210 x^{6} y^{4} + 252 x^{5} y^{5} + 210 x^{4} y^{6} + 120 x^{3} y^{7} + 45 x^{2} y^{8} + 10 x y^{9} + y^{10}$"
      ],
      "text/plain": [
       "x**10 + 10*x**9*y + 45*x**8*y**2 + 120*x**7*y**3 + 210*x**6*y**4 + 252*x**5*y**5 + 210*x**4*y**6 + 120*x**3*y**7 + 45*x**2*y**8 + 10*x*y**9 + y**10"
      ]
     },
     "execution_count": 276,
     "metadata": {},
     "output_type": "execute_result"
    }
   ],
   "source": [
    "((x+y)**10).expand()"
   ]
  },
  {
   "cell_type": "code",
   "execution_count": 277,
   "id": "07bbd426-045f-4ac7-9013-be9dabfcba8d",
   "metadata": {},
   "outputs": [
    {
     "data": {
      "text/latex": [
       "$\\displaystyle 10 x^{9}$"
      ],
      "text/plain": [
       "10*x**9"
      ]
     },
     "execution_count": 277,
     "metadata": {},
     "output_type": "execute_result"
    }
   ],
   "source": [
    "(x**10).diff(x)"
   ]
  },
  {
   "cell_type": "code",
   "execution_count": 282,
   "id": "541def4b-3c3c-40c1-9bc1-056a9aa122e2",
   "metadata": {},
   "outputs": [
    {
     "data": {
      "text/plain": [
       "0.4596976941318603"
      ]
     },
     "execution_count": 282,
     "metadata": {},
     "output_type": "execute_result"
    }
   ],
   "source": [
    "float((sym.sin(x)).integrate((x,0,1)))"
   ]
  },
  {
   "cell_type": "code",
   "execution_count": 290,
   "id": "62d0469d-22b8-4b85-a92b-50229c9deacc",
   "metadata": {},
   "outputs": [
    {
     "data": {
      "text/latex": [
       "$\\displaystyle x^{3} + x^{2} + x + 1$"
      ],
      "text/plain": [
       "x**3 + x**2 + x + 1"
      ]
     },
     "execution_count": 290,
     "metadata": {},
     "output_type": "execute_result"
    }
   ],
   "source": [
    "def f(x):\n",
    "    y= sym.sin(x)\n",
    "    y= 1+x+x**2+x**3\n",
    "    return y\n",
    "f(x)"
   ]
  },
  {
   "cell_type": "code",
   "execution_count": 284,
   "id": "2015aeb0-6f47-41c2-8b8a-fa63a589248a",
   "metadata": {},
   "outputs": [
    {
     "data": {
      "text/latex": [
       "$\\displaystyle \\cos{\\left(x \\right)}$"
      ],
      "text/plain": [
       "cos(x)"
      ]
     },
     "execution_count": 284,
     "metadata": {},
     "output_type": "execute_result"
    }
   ],
   "source": [
    "f(x).diff(x)"
   ]
  },
  {
   "cell_type": "code",
   "execution_count": 285,
   "id": "f7247297-cd82-4ab2-a06e-0e9bb6869a50",
   "metadata": {},
   "outputs": [
    {
     "data": {
      "text/latex": [
       "$\\displaystyle \\sin^{2}{\\left(x \\right)}$"
      ],
      "text/plain": [
       "sin(x)**2"
      ]
     },
     "execution_count": 285,
     "metadata": {},
     "output_type": "execute_result"
    }
   ],
   "source": [
    "f(x)**2"
   ]
  },
  {
   "cell_type": "code",
   "execution_count": 287,
   "id": "19cf1400-2da5-4d94-a6cc-15bc21af8747",
   "metadata": {},
   "outputs": [
    {
     "name": "stdout",
     "output_type": "stream",
     "text": [
      "sin(x)**2\n"
     ]
    }
   ],
   "source": [
    "print(f(x)**2)"
   ]
  },
  {
   "cell_type": "code",
   "execution_count": 288,
   "id": "0de64f41-7c6c-4523-8479-d2edf0c0c3ef",
   "metadata": {},
   "outputs": [
    {
     "data": {
      "text/latex": [
       "$\\displaystyle \\sin^{2}{\\left(x \\right)}$"
      ],
      "text/plain": [
       "sin(x)**2"
      ]
     },
     "metadata": {},
     "output_type": "display_data"
    }
   ],
   "source": [
    "display(f(x)**2)"
   ]
  },
  {
   "cell_type": "code",
   "execution_count": 289,
   "id": "1cb87d55-be20-40d4-ae1a-4d7dac68a720",
   "metadata": {},
   "outputs": [
    {
     "data": {
      "text/latex": [
       "$\\displaystyle \\sin{\\left(x \\right)}$"
      ],
      "text/plain": [
       "sin(x)"
      ]
     },
     "execution_count": 289,
     "metadata": {},
     "output_type": "execute_result"
    }
   ],
   "source": [
    "f(x)"
   ]
  },
  {
   "cell_type": "code",
   "execution_count": 291,
   "id": "428537b8-c1a2-4449-8a06-238c3558290f",
   "metadata": {},
   "outputs": [
    {
     "data": {
      "text/latex": [
       "$\\displaystyle x^{3} + x^{2} + x + 1$"
      ],
      "text/plain": [
       "x**3 + x**2 + x + 1"
      ]
     },
     "execution_count": 291,
     "metadata": {},
     "output_type": "execute_result"
    }
   ],
   "source": [
    "f(x)"
   ]
  },
  {
   "cell_type": "code",
   "execution_count": 293,
   "id": "1ffc4b28-22a7-4e4b-a78e-c498b241e0dd",
   "metadata": {},
   "outputs": [],
   "source": [
    "π = sym.pi\n"
   ]
  },
  {
   "cell_type": "code",
   "execution_count": 294,
   "id": "488fbb8b-d9a2-492a-8057-b2a1ef0f4959",
   "metadata": {},
   "outputs": [
    {
     "data": {
      "text/latex": [
       "$\\displaystyle 1 + \\pi + \\pi^{2} + \\pi^{3}$"
      ],
      "text/plain": [
       "1 + pi + pi**2 + pi**3"
      ]
     },
     "execution_count": 294,
     "metadata": {},
     "output_type": "execute_result"
    }
   ],
   "source": [
    "f(π)"
   ]
  },
  {
   "cell_type": "code",
   "execution_count": 295,
   "id": "12b19241-e8f6-4622-8d26-e680dca692e4",
   "metadata": {},
   "outputs": [
    {
     "data": {
      "text/plain": [
       "45.01747373497897"
      ]
     },
     "execution_count": 295,
     "metadata": {},
     "output_type": "execute_result"
    }
   ],
   "source": [
    "float(f(π))"
   ]
  },
  {
   "cell_type": "code",
   "execution_count": 300,
   "id": "35ea1627-7049-4ea9-be0b-7ba3651d2804",
   "metadata": {},
   "outputs": [],
   "source": [
    "def g(x):\n",
    "    return f(x).integrate(x)\n"
   ]
  },
  {
   "cell_type": "code",
   "execution_count": 301,
   "id": "b4c4b922-cc58-48be-9cbe-db50a7b3a425",
   "metadata": {},
   "outputs": [
    {
     "data": {
      "text/latex": [
       "$\\displaystyle \\frac{x^{4}}{4} + \\frac{x^{3}}{3} + \\frac{x^{2}}{2} + x$"
      ],
      "text/plain": [
       "x**4/4 + x**3/3 + x**2/2 + x"
      ]
     },
     "execution_count": 301,
     "metadata": {},
     "output_type": "execute_result"
    }
   ],
   "source": []
  },
  {
   "cell_type": "code",
   "execution_count": 302,
   "id": "9cd9b944-32b7-4deb-9359-82ff93c07d2e",
   "metadata": {},
   "outputs": [
    {
     "ename": "AttributeError",
     "evalue": "'float' object has no attribute 'integrate'",
     "output_type": "error",
     "traceback": [
      "\u001b[1;31m---------------------------------------------------------------------------\u001b[0m",
      "\u001b[1;31mAttributeError\u001b[0m                            Traceback (most recent call last)",
      "\u001b[1;32m<ipython-input-302-ef5c2e969c33>\u001b[0m in \u001b[0;36m<module>\u001b[1;34m\u001b[0m\n\u001b[1;32m----> 1\u001b[1;33m \u001b[0mg\u001b[0m\u001b[1;33m(\u001b[0m\u001b[1;36m0.1\u001b[0m\u001b[1;33m)\u001b[0m\u001b[1;33m\u001b[0m\u001b[1;33m\u001b[0m\u001b[0m\n\u001b[0m",
      "\u001b[1;32m<ipython-input-300-ac7ae66f0200>\u001b[0m in \u001b[0;36mg\u001b[1;34m(x)\u001b[0m\n\u001b[0;32m      1\u001b[0m \u001b[1;32mdef\u001b[0m \u001b[0mg\u001b[0m\u001b[1;33m(\u001b[0m\u001b[0mx\u001b[0m\u001b[1;33m)\u001b[0m\u001b[1;33m:\u001b[0m\u001b[1;33m\u001b[0m\u001b[1;33m\u001b[0m\u001b[0m\n\u001b[1;32m----> 2\u001b[1;33m     \u001b[1;32mreturn\u001b[0m \u001b[0mf\u001b[0m\u001b[1;33m(\u001b[0m\u001b[0mx\u001b[0m\u001b[1;33m)\u001b[0m\u001b[1;33m.\u001b[0m\u001b[0mintegrate\u001b[0m\u001b[1;33m(\u001b[0m\u001b[0mx\u001b[0m\u001b[1;33m)\u001b[0m\u001b[1;33m\u001b[0m\u001b[1;33m\u001b[0m\u001b[0m\n\u001b[0m",
      "\u001b[1;31mAttributeError\u001b[0m: 'float' object has no attribute 'integrate'"
     ]
    }
   ],
   "source": []
  },
  {
   "cell_type": "markdown",
   "id": "1710c2c4-0255-46b7-9062-165f64f39cec",
   "metadata": {},
   "source": [
    "# VIDEO: Polynomials\n",
    "\n"
   ]
  },
  {
   "cell_type": "code",
   "execution_count": 321,
   "id": "59d6852a-9cb9-43ed-9d54-864c53b1a3b1",
   "metadata": {},
   "outputs": [],
   "source": [
    "import sympy as sm\n",
    "import sympy as sym\n",
    "\n",
    "x= sm.symbols('x')\n",
    "\n",
    "# straight-forward version\n",
    "p1= 1 + x + x**2 + x**3\n",
    "p2= p1.copy()\n"
   ]
  },
  {
   "cell_type": "code",
   "execution_count": 324,
   "id": "5bb5b084-c066-4b06-81aa-9f49d1e1e9fa",
   "metadata": {},
   "outputs": [
    {
     "data": {
      "text/plain": [
       "(sympy.core.add.Add, sympy.core.add.Add)"
      ]
     },
     "execution_count": 324,
     "metadata": {},
     "output_type": "execute_result"
    }
   ],
   "source": [
    "type(p1), type(p2)"
   ]
  },
  {
   "cell_type": "code",
   "execution_count": 325,
   "id": "960b4fcd-5f71-475b-8da9-435e5eddefb6",
   "metadata": {},
   "outputs": [
    {
     "data": {
      "text/plain": [
       "sympy.polys.polytools.Poly"
      ]
     },
     "execution_count": 325,
     "metadata": {},
     "output_type": "execute_result"
    }
   ],
   "source": [
    "# Using the Poly class\n",
    "p1= sym.Poly(p1)\n",
    "type(p1)"
   ]
  },
  {
   "cell_type": "code",
   "execution_count": 326,
   "id": "2adb0274-d931-427b-8ab8-a3694e75f778",
   "metadata": {},
   "outputs": [
    {
     "data": {
      "text/plain": [
       "3"
      ]
     },
     "execution_count": 326,
     "metadata": {},
     "output_type": "execute_result"
    }
   ],
   "source": [
    "p1.degree()"
   ]
  },
  {
   "cell_type": "code",
   "execution_count": 331,
   "id": "20fa6585-7636-425c-b180-35a3fc03952a",
   "metadata": {},
   "outputs": [
    {
     "data": {
      "text/plain": [
       "316"
      ]
     },
     "execution_count": 331,
     "metadata": {},
     "output_type": "execute_result"
    }
   ],
   "source": [
    "len(dir(p1))"
   ]
  },
  {
   "cell_type": "code",
   "execution_count": 330,
   "id": "91537821-0bcc-4d3e-aee5-da23ff0a1c4b",
   "metadata": {},
   "outputs": [
    {
     "data": {
      "text/plain": [
       "302"
      ]
     },
     "execution_count": 330,
     "metadata": {},
     "output_type": "execute_result"
    }
   ],
   "source": [
    "len(dir(p2))"
   ]
  },
  {
   "cell_type": "code",
   "execution_count": 339,
   "id": "d8e46594-283b-4d71-80a0-c48b68aaa1c6",
   "metadata": {},
   "outputs": [
    {
     "data": {
      "text/latex": [
       "$\\displaystyle \\operatorname{Poly}{\\left( 3 x^{2} + 2 x + 1, x, domain=\\mathbb{Z} \\right)}$"
      ],
      "text/plain": [
       "Poly(3*x**2 + 2*x + 1, x, domain='ZZ')"
      ]
     },
     "execution_count": 339,
     "metadata": {},
     "output_type": "execute_result"
    }
   ],
   "source": [
    "p1.diff(x)"
   ]
  },
  {
   "cell_type": "code",
   "execution_count": 340,
   "id": "e5fccdd7-a7ee-4847-97b6-8cefbd67bbd3",
   "metadata": {},
   "outputs": [
    {
     "data": {
      "text/latex": [
       "$\\displaystyle 3 x^{2} + 2 x + 1$"
      ],
      "text/plain": [
       "3*x**2 + 2*x + 1"
      ]
     },
     "execution_count": 340,
     "metadata": {},
     "output_type": "execute_result"
    }
   ],
   "source": [
    "p2.diff(x)"
   ]
  },
  {
   "cell_type": "code",
   "execution_count": 342,
   "id": "7eb3aec0-449d-4352-b081-c40767b64614",
   "metadata": {},
   "outputs": [
    {
     "data": {
      "text/latex": [
       "$\\displaystyle \\operatorname{Poly}{\\left( x^{6} + 2 x^{5} + 3 x^{4} + 4 x^{3} + 3 x^{2} + 2 x + 1, x, domain=\\mathbb{Z} \\right)}$"
      ],
      "text/plain": [
       "Poly(x**6 + 2*x**5 + 3*x**4 + 4*x**3 + 3*x**2 + 2*x + 1, x, domain='ZZ')"
      ]
     },
     "execution_count": 342,
     "metadata": {},
     "output_type": "execute_result"
    }
   ],
   "source": [
    "p1**2"
   ]
  },
  {
   "cell_type": "code",
   "execution_count": 343,
   "id": "20cfab84-f6a6-4819-9b59-57a112d56c9a",
   "metadata": {},
   "outputs": [
    {
     "data": {
      "text/latex": [
       "$\\displaystyle \\left(x^{3} + x^{2} + x + 1\\right)^{2}$"
      ],
      "text/plain": [
       "(x**3 + x**2 + x + 1)**2"
      ]
     },
     "execution_count": 343,
     "metadata": {},
     "output_type": "execute_result"
    }
   ],
   "source": [
    "p2**2"
   ]
  },
  {
   "cell_type": "code",
   "execution_count": 444,
   "id": "13e18d5d-0793-48fc-83d0-3c7576868782",
   "metadata": {},
   "outputs": [],
   "source": [
    "s,t= sm.symbols('s,t')\n",
    "p0= s**2\n",
    "p1= (s+t)**2\n",
    "p2= (s-t)\n",
    "p0= sm.Poly(p0)\n",
    "p1=sm.Poly(p1)\n",
    "p2=sm.Poly(p2)"
   ]
  },
  {
   "cell_type": "code",
   "execution_count": 426,
   "id": "fc11f1b5-13cb-44a3-a7d2-9c9869f0aa28",
   "metadata": {},
   "outputs": [
    {
     "data": {
      "text/latex": [
       "$\\displaystyle s^{2}$"
      ],
      "text/plain": [
       "s**2"
      ]
     },
     "execution_count": 426,
     "metadata": {},
     "output_type": "execute_result"
    }
   ],
   "source": [
    "import sympy.plotting as smpl\n",
    "p0.as_expr()"
   ]
  },
  {
   "cell_type": "code",
   "execution_count": 449,
   "id": "be88df3a-6569-41c5-b400-1d245069fefd",
   "metadata": {},
   "outputs": [
    {
     "data": {
      "text/plain": [
       "<sympy.plotting.plot.Plot at 0x1b5acdcb310>"
      ]
     },
     "execution_count": 449,
     "metadata": {},
     "output_type": "execute_result"
    }
   ],
   "source": [
    "%matplotlib qt\n",
    "p2= x-y\n",
    "smpl.plot3d(p2, \n",
    "            (x,-1,1),\n",
    "            (y,-1,1),\n",
    "           xlabel='x',\n",
    "           ylabel='y',\n",
    "           title= '$z= (x-y)$')\n"
   ]
  },
  {
   "cell_type": "code",
   "execution_count": 445,
   "id": "3931902f-49b0-4321-82c2-8af03856e59d",
   "metadata": {},
   "outputs": [
    {
     "data": {
      "text/latex": [
       "$\\displaystyle \\operatorname{Poly}{\\left( s - t, s, t, domain=\\mathbb{Z} \\right)}$"
      ],
      "text/plain": [
       "Poly(s - t, s, t, domain='ZZ')"
      ]
     },
     "execution_count": 445,
     "metadata": {},
     "output_type": "execute_result"
    }
   ],
   "source": [
    "p2"
   ]
  },
  {
   "cell_type": "markdown",
   "id": "2e165906-2ccd-4068-ab27-52e29183b056",
   "metadata": {},
   "source": [
    "# 畫 3-D Cool!!\n",
    "## 還能轉，更Cool"
   ]
  },
  {
   "cell_type": "code",
   "execution_count": 488,
   "id": "e03c3724-1665-49be-878f-c4a960373cfc",
   "metadata": {},
   "outputs": [
    {
     "data": {
      "text/plain": [
       "<sympy.plotting.plot.Plot at 0x1b5cd82d2e0>"
      ]
     },
     "execution_count": 488,
     "metadata": {},
     "output_type": "execute_result"
    }
   ],
   "source": [
    "%matplotlib qt\n",
    "z1= x-y\n",
    "z2= y-x\n",
    "\n",
    "title= '''\n",
    "$z_1= (x-y)$\n",
    "$z_2= (y-x)$\n",
    "'''\n",
    "smpl.plot3d(z1, \n",
    "            z2, \n",
    "            (x,-1,1),\n",
    "            (y,-1,1),\n",
    "           xlabel='x',\n",
    "           ylabel='y',\n",
    "           title= title)\n"
   ]
  },
  {
   "cell_type": "code",
   "execution_count": 457,
   "id": "10d691fd-be80-4f8a-b2de-c480795f81f9",
   "metadata": {},
   "outputs": [
    {
     "data": {
      "text/plain": [
       "<sympy.plotting.plot.Plot at 0x1b5b3452fd0>"
      ]
     },
     "execution_count": 457,
     "metadata": {},
     "output_type": "execute_result"
    }
   ],
   "source": [
    "%matplotlib qt\n",
    "z= abs(x-y)\n",
    "smpl.plot3d(z, \n",
    "            (x,-1,1),\n",
    "            (y,-1,1),\n",
    "           xlabel='x',\n",
    "           ylabel='y',\n",
    "           title= '$z= |x-y|$')"
   ]
  },
  {
   "cell_type": "code",
   "execution_count": 458,
   "id": "64de09dc-487a-489f-9a00-18d837c7a4a8",
   "metadata": {},
   "outputs": [
    {
     "data": {
      "text/plain": [
       "<sympy.plotting.plot.Plot at 0x1b5b614c520>"
      ]
     },
     "execution_count": 458,
     "metadata": {},
     "output_type": "execute_result"
    }
   ],
   "source": [
    "%matplotlib qt\n",
    "z= (x-y)**2\n",
    "smpl.plot3d(z, \n",
    "            (x,-1,1),\n",
    "            (y,-1,1),\n",
    "           xlabel='x',\n",
    "           ylabel='y',\n",
    "           title= '$z= (x-y)^2$')"
   ]
  },
  {
   "cell_type": "code",
   "execution_count": 465,
   "id": "17c7263c-1180-4731-818a-4104e0bd293c",
   "metadata": {},
   "outputs": [
    {
     "data": {
      "text/plain": [
       "<sympy.plotting.plot.Plot at 0x1b5b94da310>"
      ]
     },
     "execution_count": 465,
     "metadata": {},
     "output_type": "execute_result"
    }
   ],
   "source": [
    "%matplotlib qt\n",
    "z= (x-y)**3\n",
    "smpl.plot3d(z,\n",
    "            (x,-1,1),\n",
    "            (y,-1,1),\n",
    "           xlabel='x',\n",
    "           ylabel='y',\n",
    "           title= '$z= (x-y)^3$')"
   ]
  },
  {
   "cell_type": "code",
   "execution_count": 487,
   "id": "09ef1f40-28ea-4d5c-b6d4-aff2acc85855",
   "metadata": {},
   "outputs": [
    {
     "data": {
      "text/plain": [
       "<sympy.plotting.plot.Plot at 0x1b5d0b620d0>"
      ]
     },
     "execution_count": 487,
     "metadata": {},
     "output_type": "execute_result"
    }
   ],
   "source": [
    "%matplotlib qt\n",
    "z1= x-y\n",
    "z2= z1**2\n",
    "z3= z1**3\n",
    "z4= sm.sin(z1)\n",
    "title= f'''\n",
    "$z_1= |x-y|$ \n",
    "#$z_2=z_1^2$\n",
    "#$z_3=z_1^3$\n",
    "$z_4=sm.sin(z_1)$\n",
    "'''\n",
    "smpl.plot3d(z1,\n",
    "            #z2,\n",
    "            #z3,\n",
    "            z4,\n",
    "            (x,0,10),\n",
    "            (y,0,10),\n",
    "           xlabel='x',\n",
    "           ylabel='y',\n",
    "           title= title)"
   ]
  },
  {
   "cell_type": "markdown",
   "id": "3f8da295-5ed0-4582-9842-51a1d727e40c",
   "metadata": {},
   "source": [
    "# VIDEO: Factoring polynomials\n"
   ]
  },
  {
   "cell_type": "code",
   "execution_count": 492,
   "id": "608b93e1-00f1-487d-95eb-4d32387ccf92",
   "metadata": {},
   "outputs": [
    {
     "data": {
      "text/latex": [
       "$\\displaystyle \\operatorname{Poly}{\\left( x^{2}a + xb + c, x, a, b, c, domain=\\mathbb{Z} \\right)}$"
      ],
      "text/plain": [
       "Poly(x**2*a + x*b + c, x, a, b, c, domain='ZZ')"
      ]
     },
     "execution_count": 492,
     "metadata": {},
     "output_type": "execute_result"
    }
   ],
   "source": [
    "x, y, a, b, c = sym.symbols('x, y,a,b,c')\n",
    "\n",
    "p= a*x**2 + b*x + c\n",
    "\n",
    "p=sym.Poly(p)\n",
    "\n",
    "sym.factor(p)"
   ]
  },
  {
   "cell_type": "code",
   "execution_count": 508,
   "id": "36bc9bbc-21bc-4945-ba22-25457dacb158",
   "metadata": {},
   "outputs": [
    {
     "data": {
      "text/latex": [
       "$\\displaystyle \\left[ \\frac{- b + \\sqrt{- 4 a c + b^{2}}}{2 a}, \\  - \\frac{b + \\sqrt{- 4 a c + b^{2}}}{2 a}\\right]$"
      ],
      "text/plain": [
       "<IPython.core.display.Math object>"
      ]
     },
     "execution_count": 508,
     "metadata": {},
     "output_type": "execute_result"
    }
   ],
   "source": [
    "解=    sym.solve(p,x)\n",
    "lat解= sym.latex(解)\n",
    "\n",
    "解\n",
    "lat解\n",
    "Math(lat解)"
   ]
  },
  {
   "cell_type": "code",
   "execution_count": 511,
   "id": "bf3af8ac-836a-4298-8fde-4038bac8cacf",
   "metadata": {},
   "outputs": [
    {
     "data": {
      "text/latex": [
       "$\\displaystyle a \\left(x - \\frac{- b + \\sqrt{- 4 a c + b^{2}}}{2 a}\\right) \\left(x + \\frac{b + \\sqrt{- 4 a c + b^{2}}}{2 a}\\right)$"
      ],
      "text/plain": [
       "a*(x - (-b + sqrt(-4*a*c + b**2))/(2*a))*(x + (b + sqrt(-4*a*c + b**2))/(2*a))"
      ]
     },
     "execution_count": 511,
     "metadata": {},
     "output_type": "execute_result"
    }
   ],
   "source": [
    "因式分解= (x-解[0]) *  (x-解[1]) *a\n",
    "因式分解"
   ]
  },
  {
   "cell_type": "code",
   "execution_count": null,
   "id": "a5526523-6e1d-4d06-a47e-54a0b3ce443c",
   "metadata": {},
   "outputs": [],
   "source": []
  }
 ],
 "metadata": {
  "kernelspec": {
   "display_name": "Python 3",
   "language": "python",
   "name": "python3"
  },
  "language_info": {
   "codemirror_mode": {
    "name": "ipython",
    "version": 3
   },
   "file_extension": ".py",
   "mimetype": "text/x-python",
   "name": "python",
   "nbconvert_exporter": "python",
   "pygments_lexer": "ipython3",
   "version": "3.8.8"
  }
 },
 "nbformat": 4,
 "nbformat_minor": 5
}
