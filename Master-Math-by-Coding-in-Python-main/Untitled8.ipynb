{
 "cells": [
  {
   "cell_type": "code",
   "execution_count": 46,
   "id": "2b9a4bf6-30e9-487b-8c69-9f51a351b121",
   "metadata": {},
   "outputs": [],
   "source": [
    "from ryPat import *"
   ]
  },
  {
   "cell_type": "code",
   "execution_count": 100,
   "id": "5d6055e1-29b4-4213-a8cd-8a23d18a1655",
   "metadata": {},
   "outputs": [],
   "source": [
    "def f(x,y):\n",
    "    z= x**2 + y**3\n",
    "    return z\n",
    "\n",
    "x, y, dx, dy, ϵ1, ϵ2= sm.symbols(\n",
    "    'x, y, dx, dy, ϵ1, ϵ2')\n",
    "\n",
    "dxf=  f(x+dx, y)- f(x,y)\n",
    "dxf1= f(x+dx, y+dy)- f(x,y+dy)\n",
    "dyf=  f(x, y+dy)- f(x,y)\n",
    "dyf1= f(x+dx, y+dy)- f(x+dx,y)\n",
    "df=   f(x+dx, y+dy)- f(x,y)"
   ]
  },
  {
   "cell_type": "code",
   "execution_count": 87,
   "id": "5b4f6dcd-119d-4da4-a253-c90e8bb088fe",
   "metadata": {},
   "outputs": [
    {
     "data": {
      "image/png": "[encoded data removed]",
      "text/latex": [
       "$\\displaystyle dx^{2} + 2 dx x + dy^{3} + 3 dy^{2} y + 3 dy y^{2}$"
      ],
      "text/plain": [
       "  2              3       2           2\n",
       "dx  + 2⋅dx⋅x + dy  + 3⋅dy ⋅y + 3⋅dy⋅y "
      ]
     },
     "execution_count": 87,
     "metadata": {},
     "output_type": "execute_result"
    }
   ],
   "source": [
    "df.expand()"
   ]
  },
  {
   "cell_type": "code",
   "execution_count": 88,
   "id": "9b6bd66c-85eb-48cd-ab14-b517b81532a7",
   "metadata": {},
   "outputs": [
    {
     "data": {
      "image/png": "[encoded data removed]",
      "text/latex": [
       "$\\displaystyle dx^{2} + 2 dx x + dy^{3} + 3 dy^{2} y + 3 dy y^{2}$"
      ],
      "text/plain": [
       "  2              3       2           2\n",
       "dx  + 2⋅dx⋅x + dy  + 3⋅dy ⋅y + 3⋅dy⋅y "
      ]
     },
     "execution_count": 88,
     "metadata": {},
     "output_type": "execute_result"
    }
   ],
   "source": [
    "(dxf+dyf).expand()"
   ]
  },
  {
   "cell_type": "code",
   "execution_count": 81,
   "id": "6bdf5aa8-e1d6-4d1b-9d9f-b84139ee13c0",
   "metadata": {},
   "outputs": [
    {
     "data": {
      "image/png": "[encoded data removed]",
      "text/latex": [
       "$\\displaystyle dx + dy$"
      ],
      "text/plain": [
       "dx + dy"
      ]
     },
     "execution_count": 81,
     "metadata": {},
     "output_type": "execute_result"
    }
   ],
   "source": [
    "(dyf+dxf1).expand()"
   ]
  },
  {
   "cell_type": "code",
   "execution_count": 82,
   "id": "4849e857-71db-405a-8382-e7d414a5954a",
   "metadata": {},
   "outputs": [
    {
     "data": {
      "text/plain": [
       "True"
      ]
     },
     "execution_count": 82,
     "metadata": {},
     "output_type": "execute_result"
    }
   ],
   "source": [
    "dxf == dxf1.subs(dy,0)"
   ]
  },
  {
   "cell_type": "code",
   "execution_count": 83,
   "id": "f199e65d-13b9-4467-ab74-b4775a117cab",
   "metadata": {},
   "outputs": [
    {
     "data": {
      "text/plain": [
       "True"
      ]
     },
     "execution_count": 83,
     "metadata": {},
     "output_type": "execute_result"
    }
   ],
   "source": [
    "dyf == dyf1.subs(dx,0)"
   ]
  },
  {
   "cell_type": "code",
   "execution_count": 95,
   "id": "c4abe7c7-7555-4328-8d6d-59b9c1d98bc9",
   "metadata": {},
   "outputs": [
    {
     "data": {
      "image/png": "[encoded data removed]",
      "text/latex": [
       "$\\displaystyle dx^{2} + 2 dx x + dy^{3} + 3 dy^{2} y + 3 dy y^{2} + x^{2} + y^{3}$"
      ],
      "text/plain": [
       "  2              3       2           2    2    3\n",
       "dx  + 2⋅dx⋅x + dy  + 3⋅dy ⋅y + 3⋅dy⋅y  + x  + y "
      ]
     },
     "execution_count": 95,
     "metadata": {},
     "output_type": "execute_result"
    }
   ],
   "source": [
    "f(x+dx,y+dy).expand()"
   ]
  },
  {
   "cell_type": "code",
   "execution_count": 96,
   "id": "3f92c5f4-8fc6-4469-8fc6-33c6260c0ff8",
   "metadata": {},
   "outputs": [
    {
     "name": "stdout",
     "output_type": "stream",
     "text": [
      "dx**2 + 2*dx*x + dy**3 + 3*dy**2*y + 3*dy*y**2 + x**2 + y**3\n"
     ]
    }
   ],
   "source": [
    "print(_)"
   ]
  },
  {
   "cell_type": "code",
   "execution_count": 102,
   "id": "5ebc7d25-093c-4a47-94aa-04906ee6840c",
   "metadata": {},
   "outputs": [
    {
     "data": {
      "image/png": "[encoded data removed]",
      "text/latex": [
       "$\\displaystyle - x^{2} - y^{3} + \\left(x + ϵ_{1}\\right)^{2} + \\left(y + ϵ_{2}\\right)^{3}$"
      ],
      "text/plain": [
       "   2    3           2           3\n",
       "- x  - y  + (x + ϵ₁)  + (y + ϵ₂) "
      ]
     },
     "execution_count": 102,
     "metadata": {},
     "output_type": "execute_result"
    }
   ],
   "source": [
    "f(x+ϵ1, y+ϵ2)-f(x, y)"
   ]
  },
  {
   "cell_type": "code",
   "execution_count": 103,
   "id": "e39e1c03-1bae-4457-9335-ea21866b843c",
   "metadata": {},
   "outputs": [
    {
     "data": {
      "image/png": "[encoded data removed]",
      "text/latex": [
       "$\\displaystyle 2 x ϵ_{1} + 3 y^{2} ϵ_{2} + 3 y ϵ_{2}^{2} + ϵ_{1}^{2} + ϵ_{2}^{3}$"
      ],
      "text/plain": [
       "            2            2     2     3\n",
       "2⋅x⋅ϵ₁ + 3⋅y ⋅ϵ₂ + 3⋅y⋅ϵ₂  + ϵ₁  + ϵ₂ "
      ]
     },
     "execution_count": 103,
     "metadata": {},
     "output_type": "execute_result"
    }
   ],
   "source": [
    "_.expand()"
   ]
  },
  {
   "cell_type": "code",
   "execution_count": 104,
   "id": "3aa0f38c-79c4-4a6e-9350-09b1b611629c",
   "metadata": {},
   "outputs": [
    {
     "data": {
      "image/png": "[encoded data removed]",
      "text/latex": [
       "$\\displaystyle - y^{3} + \\left(y + ϵ_{2}\\right)^{3}$"
      ],
      "text/plain": [
       "   3           3\n",
       "- y  + (y + ϵ₂) "
      ]
     },
     "execution_count": 104,
     "metadata": {},
     "output_type": "execute_result"
    }
   ],
   "source": [
    "f(x+ϵ1, y+ϵ2)-f(x+ϵ1, y)"
   ]
  },
  {
   "cell_type": "code",
   "execution_count": 105,
   "id": "148841c8-569e-4039-8832-5cee3849d276",
   "metadata": {},
   "outputs": [
    {
     "data": {
      "image/png": "[encoded data removed]",
      "text/latex": [
       "$\\displaystyle - x^{2} + \\left(x + ϵ_{1}\\right)^{2}$"
      ],
      "text/plain": [
       "   2           2\n",
       "- x  + (x + ϵ₁) "
      ]
     },
     "execution_count": 105,
     "metadata": {},
     "output_type": "execute_result"
    }
   ],
   "source": [
    "f(x+ϵ1, y+ϵ2)-f(x, y+ϵ2)"
   ]
  },
  {
   "cell_type": "code",
   "execution_count": 111,
   "id": "7c3e5ed2-2f99-4c30-84a8-12735a55345a",
   "metadata": {},
   "outputs": [
    {
     "data": {
      "image/png": "[encoded data removed]",
      "text/latex": [
       "$\\displaystyle \\left(ϵ_{1} + 1\\right)^{2} + \\left(ϵ_{2} + 1\\right)^{3} - 2$"
      ],
      "text/plain": [
       "        2           3    \n",
       "(ϵ₁ + 1)  + (ϵ₂ + 1)  - 2"
      ]
     },
     "execution_count": 111,
     "metadata": {},
     "output_type": "execute_result"
    }
   ],
   "source": [
    "x=y=1\n",
    "\n",
    "f(x+ϵ1, y+ϵ2) -f(x, y)"
   ]
  },
  {
   "cell_type": "code",
   "execution_count": 112,
   "id": "56b22c19-8b23-4829-94bd-f792b6987e8a",
   "metadata": {},
   "outputs": [
    {
     "data": {
      "image/png": "[encoded data removed]",
      "text/latex": [
       "$\\displaystyle \\left(ϵ_{2} + 1\\right)^{3} - 1$"
      ],
      "text/plain": [
       "        3    \n",
       "(ϵ₂ + 1)  - 1"
      ]
     },
     "execution_count": 112,
     "metadata": {},
     "output_type": "execute_result"
    }
   ],
   "source": [
    "f(x+ϵ1, y+ϵ2) -f(x+ϵ1, y)"
   ]
  },
  {
   "cell_type": "code",
   "execution_count": 113,
   "id": "404df2b8-7c4d-4f0c-9bef-bc8ed3a4a7ab",
   "metadata": {},
   "outputs": [
    {
     "data": {
      "image/png": "[encoded data removed]",
      "text/latex": [
       "$\\displaystyle \\left(ϵ_{1} + 1\\right)^{2} - 1$"
      ],
      "text/plain": [
       "        2    \n",
       "(ϵ₁ + 1)  - 1"
      ]
     },
     "execution_count": 113,
     "metadata": {},
     "output_type": "execute_result"
    }
   ],
   "source": [
    "f(x+ϵ1, y+ϵ2) -f(x, y+ϵ2)"
   ]
  },
  {
   "cell_type": "code",
   "execution_count": 114,
   "id": "26655c0b-36bb-4a27-9a11-865ef9099b41",
   "metadata": {},
   "outputs": [
    {
     "data": {
      "image/png": "[encoded data removed]",
      "text/latex": [
       "$\\displaystyle \\left(ϵ_{1} + 1\\right)^{2} - 1$"
      ],
      "text/plain": [
       "        2    \n",
       "(ϵ₁ + 1)  - 1"
      ]
     },
     "execution_count": 114,
     "metadata": {},
     "output_type": "execute_result"
    }
   ],
   "source": [
    "f(x+ϵ1, y)    -f(x, y)"
   ]
  },
  {
   "cell_type": "code",
   "execution_count": 119,
   "id": "aa6b1bb1-6d23-44c2-a31d-813464c27e0c",
   "metadata": {},
   "outputs": [
    {
     "data": {
      "image/png": "[encoded data removed]",
      "text/latex": [
       "$\\displaystyle - y^{3} + \\left(y + ϵ_{2}\\right)^{3}$"
      ],
      "text/plain": [
       "   3           3\n",
       "- y  + (y + ϵ₂) "
      ]
     },
     "execution_count": 119,
     "metadata": {},
     "output_type": "execute_result"
    }
   ],
   "source": [
    "f(x,    y+ϵ2) -f(x, y)"
   ]
  },
  {
   "cell_type": "code",
   "execution_count": 125,
   "id": "ec7b0767-fb3e-4276-9652-252c89b616b3",
   "metadata": {},
   "outputs": [
    {
     "data": {
      "text/plain": [
       "<sympy.plotting.plot.Plot at 0x18692929fd0>"
      ]
     },
     "execution_count": 125,
     "metadata": {},
     "output_type": "execute_result"
    }
   ],
   "source": [
    "%matplotlib qt\n",
    "\n",
    "def f(x,y):\n",
    "    z= x + 2*y\n",
    "    return z\n",
    "\n",
    "x, y= sm.symbols('x, y')\n",
    "\n",
    "z= f(x,y)\n",
    "\n",
    "sm.plotting.plot3d( \n",
    "     z,\n",
    "     (x,0,1),\n",
    "     (y,0,1),\n",
    "     xlabel= 'x',\n",
    "     ylabel= 'y',\n",
    "     title= f'z= ${sm.latex(z)}$')\n"
   ]
  },
  {
   "cell_type": "code",
   "execution_count": 131,
   "id": "fa556b5e-2cb5-4395-b2b1-739fe2ca3344",
   "metadata": {},
   "outputs": [
    {
     "data": {
      "text/plain": [
       "<matplotlib.contour.QuadContourSet at 0x1869d21af40>"
      ]
     },
     "execution_count": 131,
     "metadata": {},
     "output_type": "execute_result"
    }
   ],
   "source": [
    "import numpy as np\n",
    "import matplotlib.pyplot as pl\n",
    "from mpl_toolkits import mplot3d\n",
    "\n",
    "xm, ym= np.meshgrid(\n",
    "    np.linspace(0,1,101),\n",
    "    np.linspace(0,1,101)\n",
    "    )\n",
    "zm= sm.lambdify((x,y), z)(xm,ym)\n",
    "\n",
    "fg= pl.figure()\n",
    "\n",
    "ax= pl.axes(projection='3d', \n",
    "            xlabel= 'x', \n",
    "            ylabel= 'y', \n",
    "            title= f'z= {f(x,y)}')\n",
    "\n",
    "ax.contour3D(xm, ym, zm, 100, cmap='rainbow')\n"
   ]
  },
  {
   "cell_type": "code",
   "execution_count": null,
   "id": "b6ee0ece-d8bd-4f4e-af7d-c3635a9a60b1",
   "metadata": {},
   "outputs": [],
   "source": []
  }
 ],
 "metadata": {
  "kernelspec": {
   "display_name": "Python 3",
   "language": "python",
   "name": "python3"
  },
  "language_info": {
   "codemirror_mode": {
    "name": "ipython",
    "version": 3
   },
   "file_extension": ".py",
   "mimetype": "text/x-python",
   "name": "python",
   "nbconvert_exporter": "python",
   "pygments_lexer": "ipython3",
   "version": "3.8.8"
  }
 },
 "nbformat": 4,
 "nbformat_minor": 5
}
