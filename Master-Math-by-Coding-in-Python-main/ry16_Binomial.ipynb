{
 "cells": [
  {
   "cell_type": "markdown",
   "id": "3cac706a-ff2c-4b73-8bcf-9002b65b8c02",
   "metadata": {},
   "source": [
    "# sympy.stats.Binomial\n"
   ]
  },
  {
   "cell_type": "code",
   "execution_count": 51,
   "id": "a621e7fb-9f4d-49b5-a1c3-bc80a294f7a6",
   "metadata": {},
   "outputs": [],
   "source": [
    "from ryPat import *\n",
    "\n",
    "import sympy.stats as st\n",
    "\n",
    "p= sm.symbols('p', positive=True, real=True)\n",
    "n, k, x= sm.symbols('n, k, x', positive=True, integer=True)\n",
    "X= st.Binomial('X',n,p)\n"
   ]
  },
  {
   "cell_type": "code",
   "execution_count": 52,
   "id": "71d0b9b8-3903-48fc-8735-8a1b3c382c20",
   "metadata": {},
   "outputs": [
    {
     "data": {
      "image/png": "[encoded data removed]",
      "text/latex": [
       "$\\displaystyle X$"
      ],
      "text/plain": [
       "X"
      ]
     },
     "execution_count": 52,
     "metadata": {},
     "output_type": "execute_result"
    }
   ],
   "source": [
    "N=    10\n",
    "prob= 0.5\n",
    "\n",
    "q= X.subs({n:N, p: prob})\n",
    "q"
   ]
  },
  {
   "cell_type": "code",
   "execution_count": 53,
   "id": "c7e13854-1d38-4902-8ed9-3acd179e7e5a",
   "metadata": {},
   "outputs": [
    {
     "data": {
      "image/png": "[encoded data removed]",
      "text/latex": [
       "$\\displaystyle \\begin{cases} 0.5^{k} 0.5^{10 - k} {\\binom{10}{k}} & \\text{for}\\: k \\leq 10 \\\\0 & \\text{otherwise} \\end{cases}$"
      ],
      "text/plain": [
       "⎧   k    10 - k ⎛10⎞            \n",
       "⎪0.5 ⋅0.5      ⋅⎜  ⎟  for k ≤ 10\n",
       "⎨               ⎝k ⎠            \n",
       "⎪                               \n",
       "⎩         0           otherwise "
      ]
     },
     "execution_count": 53,
     "metadata": {},
     "output_type": "execute_result"
    }
   ],
   "source": [
    "f= st.density(q)\n",
    "f(k)"
   ]
  },
  {
   "cell_type": "code",
   "execution_count": 54,
   "id": "e14370f3-7e70-453f-9c60-c6aab9e9b19d",
   "metadata": {},
   "outputs": [
    {
     "data": {
      "image/png": "[encoded data removed]",
      "text/latex": [
       "$\\displaystyle \\sum_{k=0}^{10} \\begin{cases} 0.5^{k} 0.5^{10 - k} {\\binom{10}{k}} & \\text{for}\\: k \\leq 10 \\\\0 & \\text{otherwise} \\end{cases}$"
      ],
      "text/plain": [
       "  10                                  \n",
       "_____                                 \n",
       "╲                                     \n",
       " ╲                                    \n",
       "  ╲   ⎧   k    10 - k ⎛10⎞            \n",
       "   ╲  ⎪0.5 ⋅0.5      ⋅⎜  ⎟  for k ≤ 10\n",
       "   ╱  ⎨               ⎝k ⎠            \n",
       "  ╱   ⎪                               \n",
       " ╱    ⎩         0           otherwise \n",
       "╱                                     \n",
       "‾‾‾‾‾                                 \n",
       "k = 0                                 "
      ]
     },
     "execution_count": 54,
     "metadata": {},
     "output_type": "execute_result"
    }
   ],
   "source": [
    "q= sm.Sum(\n",
    "    f(k), \n",
    "    (k,0,N)\n",
    ")\n",
    "q"
   ]
  },
  {
   "cell_type": "code",
   "execution_count": 55,
   "id": "1e1ac841-3916-42ad-b549-31e5c10c9b82",
   "metadata": {},
   "outputs": [
    {
     "data": {
      "image/png": "[encoded data removed]",
      "text/latex": [
       "$\\displaystyle 1.0$"
      ],
      "text/plain": [
       "1.00000000000000"
      ]
     },
     "execution_count": 55,
     "metadata": {},
     "output_type": "execute_result"
    }
   ],
   "source": [
    "q.doit()"
   ]
  },
  {
   "cell_type": "code",
   "execution_count": 56,
   "id": "b7832d8a-bc3d-4069-a9c0-0c32f355fe53",
   "metadata": {},
   "outputs": [
    {
     "data": {
      "image/png": "[encoded data removed]",
      "text/latex": [
       "$\\displaystyle \\sum_{k=0}^{10} {\\binom{10}{k}}$"
      ],
      "text/plain": [
       "  10      \n",
       " ____     \n",
       " ╲        \n",
       "  ╲       \n",
       "   ╲  ⎛10⎞\n",
       "   ╱  ⎜  ⎟\n",
       "  ╱   ⎝k ⎠\n",
       " ╱        \n",
       " ‾‾‾‾     \n",
       "k = 0     "
      ]
     },
     "execution_count": 56,
     "metadata": {},
     "output_type": "execute_result"
    }
   ],
   "source": [
    "q= sm.Sum(\n",
    "    sm.binomial(N,k),\n",
    "    (k,0,N)\n",
    ")\n",
    "q"
   ]
  },
  {
   "cell_type": "code",
   "execution_count": 57,
   "id": "01715097-014c-4864-8522-8478e7367aac",
   "metadata": {},
   "outputs": [
    {
     "data": {
      "image/png": "[encoded data removed]",
      "text/latex": [
       "$\\displaystyle 1024$"
      ],
      "text/plain": [
       "1024"
      ]
     },
     "execution_count": 57,
     "metadata": {},
     "output_type": "execute_result"
    }
   ],
   "source": [
    "q.doit()"
   ]
  },
  {
   "cell_type": "code",
   "execution_count": 66,
   "id": "22757756-70fb-4802-8c4c-3597872fc5b6",
   "metadata": {},
   "outputs": [
    {
     "data": {
      "image/png": "[encoded data removed]",
      "text/latex": [
       "$\\displaystyle \\sum_{k=0}^{n} \\begin{cases} k p^{k} \\left(1 - p\\right)^{- k + n} {\\binom{n}{k}} & \\text{for}\\: k \\leq n \\\\0 & \\text{otherwise} \\end{cases}$"
      ],
      "text/plain": [
       "  n                                     \n",
       "_____                                   \n",
       "╲                                       \n",
       " ╲                                      \n",
       "  ╲   ⎧   k        -k + n ⎛n⎞           \n",
       "   ╲  ⎪k⋅p ⋅(1 - p)      ⋅⎜ ⎟  for k ≤ n\n",
       "   ╱  ⎨                   ⎝k⎠           \n",
       "  ╱   ⎪                                 \n",
       " ╱    ⎩          0             otherwise\n",
       "╱                                       \n",
       "‾‾‾‾‾                                   \n",
       "k = 0                                   "
      ]
     },
     "execution_count": 66,
     "metadata": {},
     "output_type": "execute_result"
    }
   ],
   "source": [
    "st.E(X).doit()"
   ]
  },
  {
   "cell_type": "code",
   "execution_count": 67,
   "id": "d2c8655b-f9bc-460a-8601-55fd1271458c",
   "metadata": {},
   "outputs": [
    {
     "data": {
      "image/png": "[encoded data removed]",
      "text/latex": [
       "$\\displaystyle \\sum_{k=0}^{n} \\begin{cases} k^{2} p^{k} \\left(1 - p\\right)^{- k + n} {\\binom{n}{k}} & \\text{for}\\: k \\leq n \\\\0 & \\text{otherwise} \\end{cases}$"
      ],
      "text/plain": [
       "  n                                      \n",
       "_____                                    \n",
       "╲                                        \n",
       " ╲                                       \n",
       "  ╲   ⎧ 2  k        -k + n ⎛n⎞           \n",
       "   ╲  ⎪k ⋅p ⋅(1 - p)      ⋅⎜ ⎟  for k ≤ n\n",
       "   ╱  ⎨                    ⎝k⎠           \n",
       "  ╱   ⎪                                  \n",
       " ╱    ⎩           0             otherwise\n",
       "╱                                        \n",
       "‾‾‾‾‾                                    \n",
       "k = 0                                    "
      ]
     },
     "execution_count": 67,
     "metadata": {},
     "output_type": "execute_result"
    }
   ],
   "source": [
    "st.E(X**2).doit()"
   ]
  },
  {
   "cell_type": "code",
   "execution_count": 93,
   "id": "cde7b3de-419c-41f3-acfa-f607ade83bf3",
   "metadata": {},
   "outputs": [
    {
     "data": {
      "image/png": "[encoded data removed]",
      "text/latex": [
       "$\\displaystyle \\sum_{k=0}^{n} \\begin{cases} p^{k} \\left(1 - p\\right)^{- k + n} \\left(\\left(k - \\sum_{k=0}^{n} \\begin{cases} k p^{k} \\left(1 - p\\right)^{- k + n} {\\binom{n}{k}} & \\text{for}\\: k \\leq n \\\\0 & \\text{otherwise} \\end{cases}\\right)^{2}\\right) {\\binom{n}{k}} & \\text{for}\\: k \\leq n \\\\0 & \\text{otherwise} \\end{cases}$"
      ],
      "text/plain": [
       "    n                                                                         \n",
       "__________                                                                    \n",
       "╲                                                                             \n",
       " ╲                                                                            \n",
       "  ╲        ⎧                                                               2  \n",
       "   ╲       ⎪                 ⎛      n                                     ⎞   \n",
       "    ╲      ⎪                 ⎜    _____                                   ⎟   \n",
       "     ╲     ⎪                 ⎜    ╲                                       ⎟   \n",
       "      ╲    ⎪                 ⎜     ╲                                      ⎟   \n",
       "       ╲   ⎪                 ⎜      ╲   ⎧   k        -k + n ⎛n⎞           ⎟   \n",
       "        ╲  ⎪ k        -k + n ⎜       ╲  ⎪k⋅p ⋅(1 - p)      ⋅⎜ ⎟  for k ≤ n⎟  ⎛\n",
       "        ╱  ⎨p ⋅(1 - p)      ⋅⎜k -    ╱  ⎨                   ⎝k⎠           ⎟ ⋅⎜\n",
       "       ╱   ⎪                 ⎜      ╱   ⎪                                 ⎟  ⎝\n",
       "      ╱    ⎪                 ⎜     ╱    ⎩          0             otherwise⎟   \n",
       "     ╱     ⎪                 ⎜    ╱                                       ⎟   \n",
       "    ╱      ⎪                 ⎜    ‾‾‾‾‾                                   ⎟   \n",
       "   ╱       ⎪                 ⎝    k = 0                                   ⎠   \n",
       "  ╱        ⎪                                                                  \n",
       " ╱         ⎩                                 0                                \n",
       "╱                                                                             \n",
       "‾‾‾‾‾‾‾‾‾‾                                                                    \n",
       "  k = 0                                                                       \n",
       "\n",
       "             \n",
       "             \n",
       "             \n",
       "             \n",
       "             \n",
       "             \n",
       "             \n",
       "             \n",
       "             \n",
       "             \n",
       "n⎞           \n",
       " ⎟  for k ≤ n\n",
       "k⎠           \n",
       "             \n",
       "             \n",
       "             \n",
       "             \n",
       "             \n",
       "    otherwise\n",
       "             \n",
       "             \n",
       "             "
      ]
     },
     "execution_count": 93,
     "metadata": {},
     "output_type": "execute_result"
    }
   ],
   "source": [
    "q= st.variance(X)\n",
    "q"
   ]
  },
  {
   "cell_type": "code",
   "execution_count": 92,
   "id": "9e96ad5f-bc83-40ee-8024-e3156ed5caba",
   "metadata": {},
   "outputs": [
    {
     "data": {
      "image/png": "[encoded data removed]",
      "text/latex": [
       "$\\displaystyle \\sqrt{\\sum_{k=0}^{n} \\begin{cases} p^{k} \\left(1 - p\\right)^{- k + n} \\left(\\left(k - \\sum_{k=0}^{n} \\begin{cases} k p^{k} \\left(1 - p\\right)^{- k + n} {\\binom{n}{k}} & \\text{for}\\: k \\leq n \\\\0 & \\text{otherwise} \\end{cases}\\right)^{2}\\right) {\\binom{n}{k}} & \\text{for}\\: k \\leq n \\\\0 & \\text{otherwise} \\end{cases}}$"
      ],
      "text/plain": [
       "                       _______________________________________________________\n",
       "                      ╱     n                                                 \n",
       "                     ╱  __________                                            \n",
       "                    ╱   ╲                                                     \n",
       "                   ╱     ╲                                                    \n",
       "                  ╱       ╲        ⎧                                          \n",
       "                 ╱         ╲       ⎪                 ⎛      n                 \n",
       "                ╱           ╲      ⎪                 ⎜    _____               \n",
       "               ╱             ╲     ⎪                 ⎜    ╲                   \n",
       "              ╱               ╲    ⎪                 ⎜     ╲                  \n",
       "             ╱                 ╲   ⎪                 ⎜      ╲   ⎧   k        -\n",
       "            ╱                   ╲  ⎪ k        -k + n ⎜       ╲  ⎪k⋅p ⋅(1 - p) \n",
       "           ╱                    ╱  ⎨p ⋅(1 - p)      ⋅⎜k -    ╱  ⎨             \n",
       "          ╱                    ╱   ⎪                 ⎜      ╱   ⎪             \n",
       "         ╱                    ╱    ⎪                 ⎜     ╱    ⎩          0  \n",
       "        ╱                    ╱     ⎪                 ⎜    ╱                   \n",
       "       ╱                    ╱      ⎪                 ⎜    ‾‾‾‾‾               \n",
       "      ╱                    ╱       ⎪                 ⎝    k = 0               \n",
       "     ╱                    ╱        ⎪                                          \n",
       "    ╱                    ╱         ⎩                                 0        \n",
       "   ╱                    ╱                                                     \n",
       "  ╱                     ‾‾‾‾‾‾‾‾‾‾                                            \n",
       "╲╱                        k = 0                                               \n",
       "\n",
       "______________________________________\n",
       "                                      \n",
       "                                      \n",
       "                                      \n",
       "                                      \n",
       "                     2                \n",
       "                    ⎞                 \n",
       "                    ⎟                 \n",
       "                    ⎟                 \n",
       "                    ⎟                 \n",
       "k + n ⎛n⎞           ⎟                 \n",
       "     ⋅⎜ ⎟  for k ≤ n⎟  ⎛n⎞            \n",
       "      ⎝k⎠           ⎟ ⋅⎜ ⎟  for k ≤ n \n",
       "                    ⎟  ⎝k⎠            \n",
       "           otherwise⎟                 \n",
       "                    ⎟                 \n",
       "                    ⎟                 \n",
       "                    ⎠                 \n",
       "                                      \n",
       "                            otherwise \n",
       "                                      \n",
       "                                      \n",
       "                                      "
      ]
     },
     "execution_count": 92,
     "metadata": {},
     "output_type": "execute_result"
    }
   ],
   "source": [
    "q= st.std(X)\n",
    "q"
   ]
  },
  {
   "cell_type": "code",
   "execution_count": 113,
   "id": "258245dc-0724-4483-a5c5-0c5dd7d0c046",
   "metadata": {},
   "outputs": [],
   "source": [
    "# 不大好玩....\n",
    "\n",
    "p= sm.symbols('p', positive=True, real=True)\n",
    "n, k, x= sm.symbols('n, k, x', positive=True, integer=True)\n",
    "X= st.Binomial('X',n,p)\n",
    "f= st.density(X.subs({n:10, p:0.5}))"
   ]
  },
  {
   "cell_type": "code",
   "execution_count": 114,
   "id": "c04c7c77-64e6-4332-bd9f-2f9b7f3057e5",
   "metadata": {},
   "outputs": [
    {
     "data": {
      "image/png": "[encoded data removed]",
      "text/latex": [
       "$\\displaystyle BinomialDistribution\\left(10, 0.5, 1, 0\\right)$"
      ],
      "text/plain": [
       "BinomialDistribution(10, 0.5, 1, 0)"
      ]
     },
     "execution_count": 114,
     "metadata": {},
     "output_type": "execute_result"
    }
   ],
   "source": [
    "f"
   ]
  },
  {
   "cell_type": "code",
   "execution_count": 115,
   "id": "336f09b2-2e9c-4ce6-837b-08b7c9d40ced",
   "metadata": {},
   "outputs": [
    {
     "data": {
      "image/png": "[encoded data removed]",
      "text/latex": [
       "$\\displaystyle \\left\\{ 0 : 0.0009765625, \\  1 : 0.009765625, \\  2 : 0.0439453125, \\  3 : 0.1171875, \\  4 : 0.205078125, \\  5 : 0.24609375, \\  6 : 0.205078125, \\  7 : 0.1171875, \\  8 : 0.0439453125, \\  9 : 0.009765625, \\  10 : 0.0009765625\\right\\}$"
      ],
      "text/plain": [
       "{0: 0.0009765625, 1: 0.009765625, 2: 0.0439453125, 3: 0.1171875, 4: 0.20507812\n",
       "5, 5: 0.24609375, 6: 0.205078125, 7: 0.1171875, 8: 0.0439453125, 9: 0.00976562\n",
       "5, 10: 0.0009765625}"
      ]
     },
     "execution_count": 115,
     "metadata": {},
     "output_type": "execute_result"
    }
   ],
   "source": [
    "f.dict"
   ]
  },
  {
   "cell_type": "code",
   "execution_count": 116,
   "id": "43b682b2-59d3-460e-bda2-e0d32756434f",
   "metadata": {},
   "outputs": [
    {
     "data": {
      "text/plain": [
       "<StemContainer object of 3 artists>"
      ]
     },
     "execution_count": 116,
     "metadata": {},
     "output_type": "execute_result"
    },
    {
     "data": {
      "image/png": "[encoded data removed]",
      "text/plain": [
       "<Figure size 432x288 with 1 Axes>"
      ]
     },
     "metadata": {},
     "output_type": "display_data"
    }
   ],
   "source": [
    "pl.stem(f.dict.keys(), f.dict.values())"
   ]
  },
  {
   "cell_type": "code",
   "execution_count": 117,
   "id": "3884268b-3dc5-4d9a-9edd-89fc25ccfd10",
   "metadata": {},
   "outputs": [
    {
     "data": {
      "image/png": "[encoded data removed]",
      "text/latex": [
       "$\\displaystyle X$"
      ],
      "text/plain": [
       "X"
      ]
     },
     "execution_count": 117,
     "metadata": {},
     "output_type": "execute_result"
    }
   ],
   "source": [
    "# Poisson\n",
    "λ= sm.symbols('λ', positive= True)\n",
    "X= st.Poisson('X', lamda= λ)\n",
    "X"
   ]
  },
  {
   "cell_type": "code",
   "execution_count": 118,
   "id": "01902308-9500-4deb-bdd4-b58ea224bbae",
   "metadata": {},
   "outputs": [
    {
     "data": {
      "image/png": "[encoded data removed]",
      "text/latex": [
       "$\\displaystyle \\frac{10^{k}}{e^{10} k!}$"
      ],
      "text/plain": [
       "  k  -10\n",
       "10 ⋅ℯ   \n",
       "────────\n",
       "   k!   "
      ]
     },
     "execution_count": 118,
     "metadata": {},
     "output_type": "execute_result"
    }
   ],
   "source": [
    "f= st.density(X.subs(λ, 10))\n",
    "f(k)"
   ]
  },
  {
   "cell_type": "code",
   "execution_count": 121,
   "id": "a9ad12e3-223f-408f-8725-775163937058",
   "metadata": {},
   "outputs": [
    {
     "data": {
      "image/png": "[encoded data removed]",
      "text/plain": [
       "<Figure size 432x288 with 1 Axes>"
      ]
     },
     "metadata": {},
     "output_type": "display_data"
    },
    {
     "data": {
      "text/plain": [
       "<sympy.plotting.plot.Plot at 0x1dbcbc01970>"
      ]
     },
     "execution_count": 121,
     "metadata": {},
     "output_type": "execute_result"
    }
   ],
   "source": [
    "sm.plot(f(k),(k,0,50))"
   ]
  },
  {
   "cell_type": "code",
   "execution_count": 137,
   "id": "e4dfe838-fa30-472e-996d-2306f360bda1",
   "metadata": {},
   "outputs": [
    {
     "ename": "NameError",
     "evalue": "name 'PoissonDistribution' is not defined",
     "output_type": "error",
     "traceback": [
      "\u001b[1;31m---------------------------------------------------------------------------\u001b[0m",
      "\u001b[1;31mNameError\u001b[0m                                 Traceback (most recent call last)",
      "\u001b[1;32m<ipython-input-137-31ea9cf2479b>\u001b[0m in \u001b[0;36m<module>\u001b[1;34m\u001b[0m\n\u001b[0;32m      9\u001b[0m \u001b[1;33m\u001b[0m\u001b[0m\n\u001b[0;32m     10\u001b[0m \u001b[0mxx\u001b[0m\u001b[1;33m=\u001b[0m \u001b[0mnp\u001b[0m\u001b[1;33m.\u001b[0m\u001b[0marange\u001b[0m\u001b[1;33m(\u001b[0m\u001b[1;36m0\u001b[0m\u001b[1;33m,\u001b[0m\u001b[1;36m50\u001b[0m\u001b[1;33m)\u001b[0m\u001b[1;33m\u001b[0m\u001b[1;33m\u001b[0m\u001b[0m\n\u001b[1;32m---> 11\u001b[1;33m yy= sm.lambdify(x,f,  \n\u001b[0m\u001b[0;32m     12\u001b[0m                 modules=['numpy',\n\u001b[0;32m     13\u001b[0m                          \u001b[1;34m'sympy'\u001b[0m\u001b[1;33m,\u001b[0m\u001b[1;33m\u001b[0m\u001b[1;33m\u001b[0m\u001b[0m\n",
      "\u001b[1;32m<lambdifygenerated-11>\u001b[0m in \u001b[0;36m_lambdifygenerated\u001b[1;34m(x)\u001b[0m\n\u001b[0;32m      2\u001b[0m     return (  # Not supported in Python with numpy:\n\u001b[0;32m      3\u001b[0m   \u001b[1;31m# PoissonDistribution\u001b[0m\u001b[1;33m\u001b[0m\u001b[1;33m\u001b[0m\u001b[1;33m\u001b[0m\u001b[0m\n\u001b[1;32m----> 4\u001b[1;33m PoissonDistribution(10))\n\u001b[0m",
      "\u001b[1;31mNameError\u001b[0m: name 'PoissonDistribution' is not defined"
     ]
    }
   ],
   "source": [
    "# 改回 matplotlib.pyplot ...\n",
    "# 但有一些 衝突待解...\n",
    "\n",
    "# 這一段進一步了解 sm.lambdify 的機制\n",
    "\n",
    "import numpy as np\n",
    "import matplotlib.pyplot as pl\n",
    "import scipy.stats\n",
    "\n",
    "xx= np.arange(0,50)\n",
    "yy= sm.lambdify(x,f,  \n",
    "                modules=['numpy',\n",
    "                         'sympy',\n",
    "                         #{'binomial':scipy.special.binom},\n",
    "                         #{'PoissonDistribution':\n",
    "                         #lambda x: scipy.stats.poisson.pmf(x, mu=10)\n",
    "                         #}\n",
    "                        ]\n",
    "               )(xx)\n",
    "pl.stem(xx,yy,'ro')\n",
    "pl.grid()\n",
    "\n",
    "# 老症狀\n",
    "# NameError: name 'PoissonDistribution' is not defined\n"
   ]
  },
  {
   "cell_type": "code",
   "execution_count": null,
   "id": "5eeedca2-5ee7-4e6c-9ae4-d6d322147671",
   "metadata": {},
   "outputs": [],
   "source": [
    "# 暫時離開 sympy.stats， 看來 這並非 sympy 的專長\n",
    "# 還是回到 scipy.stats"
   ]
  },
  {
   "cell_type": "markdown",
   "id": "e5867c83-ec67-4fbb-8696-d3908c8b9fa6",
   "metadata": {},
   "source": [
    "# scipy.stats\n",
    "\n",
    "- https://docs.scipy.org/doc/scipy/reference/stats.html\n",
    "\n",
    "- 還是從 Binomial 切入\n",
    "- https://docs.scipy.org/doc/scipy/reference/generated/scipy.stats.binom.html#scipy.stats.binom\n"
   ]
  },
  {
   "cell_type": "code",
   "execution_count": 146,
   "id": "99752524-1f39-4f42-8a78-bb44ed3177f5",
   "metadata": {},
   "outputs": [],
   "source": [
    "import numpy as np\n",
    "import scipy as sp\n",
    "import matplotlib.pyplot as pl\n",
    "\n",
    "import scipy.stats as st\n"
   ]
  },
  {
   "cell_type": "code",
   "execution_count": 148,
   "id": "9ccb9410-8847-4ccd-86c7-f12c988ba950",
   "metadata": {},
   "outputs": [
    {
     "data": {
      "text/plain": [
       "array([  1.,  10.,  45., 120., 210., 252., 210., 120.,  45.,  10.,   1.])"
      ]
     },
     "execution_count": 148,
     "metadata": {},
     "output_type": "execute_result"
    }
   ],
   "source": [
    "n= 10\n",
    "k= np.arange(0, n+1)\n",
    "\n",
    "q= sp.special.binom(n, k)\n",
    "q"
   ]
  },
  {
   "cell_type": "code",
   "execution_count": 149,
   "id": "65627f85-d6cd-46e1-a637-d680129eb81f",
   "metadata": {},
   "outputs": [
    {
     "data": {
      "image/png": "[encoded data removed]",
      "text/latex": [
       "$\\displaystyle 1024.0$"
      ],
      "text/plain": [
       "1024.0"
      ]
     },
     "execution_count": 149,
     "metadata": {},
     "output_type": "execute_result"
    }
   ],
   "source": [
    "q.sum()"
   ]
  },
  {
   "cell_type": "code",
   "execution_count": 150,
   "id": "d44f94ac-b24a-4736-a38b-a8301a9e9401",
   "metadata": {},
   "outputs": [
    {
     "data": {
      "text/plain": [
       "<StemContainer object of 3 artists>"
      ]
     },
     "execution_count": 150,
     "metadata": {},
     "output_type": "execute_result"
    },
    {
     "data": {
      "image/png": "[encoded data removed]",
      "text/plain": [
       "<Figure size 432x288 with 1 Axes>"
      ]
     },
     "metadata": {},
     "output_type": "display_data"
    }
   ],
   "source": [
    "pl.stem(q)"
   ]
  },
  {
   "cell_type": "code",
   "execution_count": 152,
   "id": "08c3f65b-d2fa-4fcd-8b70-754ab5079c1a",
   "metadata": {},
   "outputs": [
    {
     "data": {
      "text/plain": [
       "array([0.00097656, 0.00976562, 0.04394531, 0.1171875 , 0.20507812,\n",
       "       0.24609375, 0.20507812, 0.1171875 , 0.04394531, 0.00976562,\n",
       "       0.00097656])"
      ]
     },
     "execution_count": 152,
     "metadata": {},
     "output_type": "execute_result"
    }
   ],
   "source": [
    "def ryBinomPmf(k, n=10, p=0.5):\n",
    "    y= p**k * (1-p)**(n-k) *  sp.special.binom(n, k)\n",
    "    return y\n",
    "\n",
    "ryBinomPmf(k)"
   ]
  },
  {
   "cell_type": "code",
   "execution_count": 162,
   "id": "c5750a22-c354-462e-a223-11787f6dd0e5",
   "metadata": {},
   "outputs": [
    {
     "data": {
      "text/plain": [
       "<StemContainer object of 3 artists>"
      ]
     },
     "execution_count": 162,
     "metadata": {},
     "output_type": "execute_result"
    },
    {
     "data": {
      "image/png": "[encoded data removed]",
      "text/plain": [
       "<Figure size 432x288 with 1 Axes>"
      ]
     },
     "metadata": {},
     "output_type": "display_data"
    }
   ],
   "source": [
    "N=10\n",
    "prob= 0.3\n",
    "pl.stem(\n",
    "    ryBinomPmf(\n",
    "        k= np.arange(N+1), \n",
    "        n=N, p=prob\n",
    "    )\n",
    ")"
   ]
  },
  {
   "cell_type": "markdown",
   "id": "765b4322-2baa-4c86-b912-0f41d2fa88f4",
   "metadata": {},
   "source": [
    "# st.binom"
   ]
  },
  {
   "cell_type": "code",
   "execution_count": 205,
   "id": "89eb93ab-97e8-4f9b-84d6-c193691ea1e5",
   "metadata": {},
   "outputs": [
    {
     "data": {
      "text/plain": [
       "array([4, 6, 2, 3, 4, 2, 2, 7, 2, 4, 2, 4, 2, 4, 0, 3, 1, 3, 1, 3, 2, 3,\n",
       "       2, 4, 4, 6, 3, 5, 5, 1, 4, 1, 3, 4, 3, 3, 2, 4, 4, 1, 5, 2, 1, 2,\n",
       "       3, 2, 1, 3, 3, 2, 3, 3, 2, 2, 3, 4, 4, 3, 2, 3, 3, 5, 5, 4, 3, 1,\n",
       "       3, 5, 1, 3, 3, 2, 4, 3, 3, 2, 4, 4, 4, 1, 2, 3, 6, 2, 4, 2, 3, 2,\n",
       "       4, 5, 4, 1, 3, 3, 6, 3, 5, 2, 2, 2])"
      ]
     },
     "execution_count": 205,
     "metadata": {},
     "output_type": "execute_result"
    }
   ],
   "source": [
    "N=    10\n",
    "prob= 0.3\n",
    "sampSize= 100\n",
    "\n",
    "X= st.binom.rvs(n= N, p= prob, size= sampSize)\n",
    "X"
   ]
  },
  {
   "cell_type": "code",
   "execution_count": 206,
   "id": "5d0810a2-8a73-4626-99f1-ab8f0140150c",
   "metadata": {},
   "outputs": [
    {
     "data": {
      "image/png": "[encoded data removed]",
      "text/latex": [
       "$\\displaystyle \\left( 3.03, \\  1.8291\\right)$"
      ],
      "text/plain": [
       "(3.03, 1.8291000000000002)"
      ]
     },
     "execution_count": 206,
     "metadata": {},
     "output_type": "execute_result"
    }
   ],
   "source": [
    "X.mean(), X.var()"
   ]
  },
  {
   "cell_type": "code",
   "execution_count": 207,
   "id": "933e1ca3-8395-4aa2-a285-e49655b02cee",
   "metadata": {},
   "outputs": [
    {
     "data": {
      "text/plain": [
       "(array(5.), array(2.5))"
      ]
     },
     "execution_count": 207,
     "metadata": {},
     "output_type": "execute_result"
    }
   ],
   "source": [
    "μ, v= st.binom.stats(n, p)\n",
    "μ, v"
   ]
  },
  {
   "cell_type": "code",
   "execution_count": 208,
   "id": "874da909-1ae0-400d-b22c-7b851a132a8e",
   "metadata": {},
   "outputs": [
    {
     "data": {
      "text/plain": [
       "array([2.82475249e-02, 1.21060821e-01, 2.33474440e-01, 2.66827932e-01,\n",
       "       2.00120949e-01, 1.02919345e-01, 3.67569090e-02, 9.00169200e-03,\n",
       "       1.44670050e-03, 1.37781000e-04, 5.90490000e-06])"
      ]
     },
     "execution_count": 208,
     "metadata": {},
     "output_type": "execute_result"
    },
    {
     "data": {
      "image/png": "[encoded data removed]",
      "text/plain": [
       "<Figure size 432x288 with 1 Axes>"
      ]
     },
     "metadata": {},
     "output_type": "display_data"
    }
   ],
   "source": [
    "q= st.binom.pmf(k, n=N, p=prob)\n",
    "pl.stem(q)\n",
    "q"
   ]
  },
  {
   "cell_type": "code",
   "execution_count": 209,
   "id": "7ab43ea5-f711-40fa-8464-c14114d2c90e",
   "metadata": {},
   "outputs": [
    {
     "data": {
      "text/plain": [
       "array([0.02824752, 0.14930835, 0.38278279, 0.64961072, 0.84973167,\n",
       "       0.95265101, 0.98940792, 0.99840961, 0.99985631, 0.9999941 ,\n",
       "       1.        ])"
      ]
     },
     "execution_count": 209,
     "metadata": {},
     "output_type": "execute_result"
    },
    {
     "data": {
      "image/png": "[encoded data removed]",
      "text/plain": [
       "<Figure size 432x288 with 1 Axes>"
      ]
     },
     "metadata": {},
     "output_type": "display_data"
    }
   ],
   "source": [
    "q= st.binom.cdf(k, n=N, p=prob)\n",
    "pl.stem(q)\n",
    "q"
   ]
  },
  {
   "cell_type": "code",
   "execution_count": 231,
   "id": "364479fa-93f8-4031-ac6f-56a3a621ced3",
   "metadata": {},
   "outputs": [
    {
     "data": {
      "text/plain": [
       "array([ 1.,  2.,  2.,  3.,  3.,  3.,  4.,  4.,  5., 10.])"
      ]
     },
     "execution_count": 231,
     "metadata": {},
     "output_type": "execute_result"
    },
    {
     "data": {
      "image/png": "[encoded data removed]",
      "text/plain": [
       "<Figure size 432x288 with 1 Axes>"
      ]
     },
     "metadata": {},
     "output_type": "display_data"
    }
   ],
   "source": [
    "pp= np.linspace(.1,1,10)\n",
    "kk= st.binom.ppf(pp, n=N, p=prob)\n",
    "pl.barh(pp, kk, height= .01, align= 'edge')\n",
    "kk"
   ]
  },
  {
   "cell_type": "code",
   "execution_count": 219,
   "id": "c6e013fe-62da-4617-8201-a87f3b105603",
   "metadata": {
    "collapsed": true,
    "jupyter": {
     "outputs_hidden": true
    },
    "tags": []
   },
   "outputs": [
    {
     "data": {
      "text/plain": [
       "\u001b[1;31mSignature:\u001b[0m\n",
       "\u001b[0mpl\u001b[0m\u001b[1;33m.\u001b[0m\u001b[0mbar\u001b[0m\u001b[1;33m(\u001b[0m\u001b[1;33m\n",
       "\u001b[0m    \u001b[0mx\u001b[0m\u001b[1;33m,\u001b[0m\u001b[1;33m\n",
       "\u001b[0m    \u001b[0mheight\u001b[0m\u001b[1;33m,\u001b[0m\u001b[1;33m\n",
       "\u001b[0m    \u001b[0mwidth\u001b[0m\u001b[1;33m=\u001b[0m\u001b[1;36m0.8\u001b[0m\u001b[1;33m,\u001b[0m\u001b[1;33m\n",
       "\u001b[0m    \u001b[0mbottom\u001b[0m\u001b[1;33m=\u001b[0m\u001b[1;32mNone\u001b[0m\u001b[1;33m,\u001b[0m\u001b[1;33m\n",
       "\u001b[0m    \u001b[1;33m*\u001b[0m\u001b[1;33m,\u001b[0m\u001b[1;33m\n",
       "\u001b[0m    \u001b[0malign\u001b[0m\u001b[1;33m=\u001b[0m\u001b[1;34m'center'\u001b[0m\u001b[1;33m,\u001b[0m\u001b[1;33m\n",
       "\u001b[0m    \u001b[0mdata\u001b[0m\u001b[1;33m=\u001b[0m\u001b[1;32mNone\u001b[0m\u001b[1;33m,\u001b[0m\u001b[1;33m\n",
       "\u001b[0m    \u001b[1;33m**\u001b[0m\u001b[0mkwargs\u001b[0m\u001b[1;33m,\u001b[0m\u001b[1;33m\n",
       "\u001b[0m\u001b[1;33m)\u001b[0m\u001b[1;33m\u001b[0m\u001b[1;33m\u001b[0m\u001b[0m\n",
       "\u001b[1;31mDocstring:\u001b[0m\n",
       "Make a bar plot.\n",
       "\n",
       "The bars are positioned at *x* with the given *align*\\ment. Their\n",
       "dimensions are given by *height* and *width*. The vertical baseline\n",
       "is *bottom* (default 0).\n",
       "\n",
       "Many parameters can take either a single value applying to all bars\n",
       "or a sequence of values, one for each bar.\n",
       "\n",
       "Parameters\n",
       "----------\n",
       "x : float or array-like\n",
       "    The x coordinates of the bars. See also *align* for the\n",
       "    alignment of the bars to the coordinates.\n",
       "\n",
       "height : float or array-like\n",
       "    The height(s) of the bars.\n",
       "\n",
       "width : float or array-like, default: 0.8\n",
       "    The width(s) of the bars.\n",
       "\n",
       "bottom : float or array-like, default: 0\n",
       "    The y coordinate(s) of the bars bases.\n",
       "\n",
       "align : {'center', 'edge'}, default: 'center'\n",
       "    Alignment of the bars to the *x* coordinates:\n",
       "\n",
       "    - 'center': Center the base on the *x* positions.\n",
       "    - 'edge': Align the left edges of the bars with the *x* positions.\n",
       "\n",
       "    To align the bars on the right edge pass a negative *width* and\n",
       "    ``align='edge'``.\n",
       "\n",
       "Returns\n",
       "-------\n",
       "`.BarContainer`\n",
       "    Container with all the bars and optionally errorbars.\n",
       "\n",
       "Other Parameters\n",
       "----------------\n",
       "color : color or list of color, optional\n",
       "    The colors of the bar faces.\n",
       "\n",
       "edgecolor : color or list of color, optional\n",
       "    The colors of the bar edges.\n",
       "\n",
       "linewidth : float or array-like, optional\n",
       "    Width of the bar edge(s). If 0, don't draw edges.\n",
       "\n",
       "tick_label : str or list of str, optional\n",
       "    The tick labels of the bars.\n",
       "    Default: None (Use default numeric labels.)\n",
       "\n",
       "xerr, yerr : float or array-like of shape(N,) or shape(2, N), optional\n",
       "    If not *None*, add horizontal / vertical errorbars to the bar tips.\n",
       "    The values are +/- sizes relative to the data:\n",
       "\n",
       "    - scalar: symmetric +/- values for all bars\n",
       "    - shape(N,): symmetric +/- values for each bar\n",
       "    - shape(2, N): Separate - and + values for each bar. First row\n",
       "      contains the lower errors, the second row contains the upper\n",
       "      errors.\n",
       "    - *None*: No errorbar. (Default)\n",
       "\n",
       "    See :doc:`/gallery/statistics/errorbar_features`\n",
       "    for an example on the usage of ``xerr`` and ``yerr``.\n",
       "\n",
       "ecolor : color or list of color, default: 'black'\n",
       "    The line color of the errorbars.\n",
       "\n",
       "capsize : float, default: :rc:`errorbar.capsize`\n",
       "   The length of the error bar caps in points.\n",
       "\n",
       "error_kw : dict, optional\n",
       "    Dictionary of kwargs to be passed to the `~.Axes.errorbar`\n",
       "    method. Values of *ecolor* or *capsize* defined here take\n",
       "    precedence over the independent kwargs.\n",
       "\n",
       "log : bool, default: False\n",
       "    If *True*, set the y-axis to be log scale.\n",
       "\n",
       "**kwargs : `.Rectangle` properties\n",
       "\n",
       "Properties:\n",
       "    agg_filter: a filter function, which takes a (m, n, 3) float array and a dpi value, and returns a (m, n, 3) array\n",
       "    alpha: float or None\n",
       "    animated: bool\n",
       "    antialiased or aa: unknown\n",
       "    capstyle: {'butt', 'round', 'projecting'}\n",
       "    clip_box: `.Bbox`\n",
       "    clip_on: bool\n",
       "    clip_path: Patch or (Path, Transform) or None\n",
       "    color: color\n",
       "    contains: unknown\n",
       "    edgecolor or ec: color or None or 'auto'\n",
       "    facecolor or fc: color or None\n",
       "    figure: `.Figure`\n",
       "    fill: bool\n",
       "    gid: str\n",
       "    hatch: {'/', '\\\\', '|', '-', '+', 'x', 'o', 'O', '.', '*'}\n",
       "    in_layout: bool\n",
       "    joinstyle: {'miter', 'round', 'bevel'}\n",
       "    label: object\n",
       "    linestyle or ls: {'-', '--', '-.', ':', '', (offset, on-off-seq), ...}\n",
       "    linewidth or lw: float or None\n",
       "    path_effects: `.AbstractPathEffect`\n",
       "    picker: None or bool or callable\n",
       "    rasterized: bool or None\n",
       "    sketch_params: (scale: float, length: float, randomness: float)\n",
       "    snap: bool or None\n",
       "    transform: `.Transform`\n",
       "    url: str\n",
       "    visible: bool\n",
       "    zorder: float\n",
       "\n",
       "See Also\n",
       "--------\n",
       "barh: Plot a horizontal bar plot.\n",
       "\n",
       "Notes\n",
       "-----\n",
       "Stacked bars can be achieved by passing individual *bottom* values per\n",
       "bar. See :doc:`/gallery/lines_bars_and_markers/bar_stacked`.\n",
       "\n",
       ".. note::\n",
       "    In addition to the above described arguments, this function can take\n",
       "    a *data* keyword argument. If such a *data* argument is given,\n",
       "    every other argument can also be string ``s``, which is\n",
       "    interpreted as ``data[s]`` (unless this raises an exception).\n",
       "\n",
       "    Objects passed as **data** must support item access (``data[s]``) and\n",
       "    membership test (``s in data``).\n",
       "\u001b[1;31mFile:\u001b[0m      m:\\programdata\\anaconda3\\lib\\site-packages\\matplotlib\\pyplot.py\n",
       "\u001b[1;31mType:\u001b[0m      function\n"
      ]
     },
     "metadata": {},
     "output_type": "display_data"
    }
   ],
   "source": [
    "pl.bar?"
   ]
  },
  {
   "cell_type": "markdown",
   "id": "77e6759a-0976-4311-a5a1-2e361950b607",
   "metadata": {},
   "source": [
    "# Statistics (scipy.stats)\n",
    "- https://docs.scipy.org/doc/scipy/tutorial/stats.html\n",
    "\n",
    "- Introduction\n",
    "- In this tutorial, we discuss many, but certainly not all, features of scipy.stats. The intention here is to provide a user with a working knowledge of this package. We refer to the reference manual for further details.\n",
    "- \n",
    "- Note: This documentation is work in progress.\n",
    "- \n",
    "- Discrete Statistical Distributions\n",
    "- Continuous Statistical Distributions"
   ]
  },
  {
   "cell_type": "code",
   "execution_count": 406,
   "id": "aaac6145-7370-4917-8222-8c9ee02c6540",
   "metadata": {
    "tags": []
   },
   "outputs": [
    {
     "data": {
      "text/plain": [
       "array([5, 6, 5, 5, 5, 6, 5, 7, 8, 5, 6, 5, 5, 7, 3, 3, 2, 7, 6, 7, 8, 6,\n",
       "       5, 6, 3, 6, 3, 7, 5, 5, 4, 6, 5, 5, 2, 5, 5, 5, 7, 6, 4, 5, 6, 3,\n",
       "       6, 6, 4, 3, 4, 4, 5, 5, 8, 3, 4, 3, 6, 4, 5, 4, 3, 3, 6, 3, 4, 4,\n",
       "       6, 3, 7, 3, 8, 5, 8, 5, 6, 2, 4, 3, 4, 3, 4, 5, 3, 6, 5, 4, 5, 3,\n",
       "       5, 7, 4, 6, 3, 6, 4, 4, 5, 2, 7, 1])"
      ]
     },
     "execution_count": 406,
     "metadata": {},
     "output_type": "execute_result"
    }
   ],
   "source": [
    "import scipy.stats as st\n",
    "N=    10\n",
    "prob= 0.5\n",
    "sampSize= 100\n",
    "\n",
    "np.random.seed(0)\n",
    "X= st.binom.rvs(n= N, p= prob, size= sampSize)\n",
    "X"
   ]
  },
  {
   "cell_type": "code",
   "execution_count": 438,
   "id": "52886ce0-1f2a-4f53-9b57-ef11b13add32",
   "metadata": {},
   "outputs": [
    {
     "data": {
      "text/plain": [
       "[('a', int),\n",
       " ('b', float),\n",
       " ('badvalue', float),\n",
       " ('cdf', method),\n",
       " ('entropy', method),\n",
       " ('expect', method),\n",
       " ('extradoc', NoneType),\n",
       " ('freeze', method),\n",
       " ('generic_moment', method),\n",
       " ('inc', int),\n",
       " ('interval', method),\n",
       " ('isf', method),\n",
       " ('logcdf', method),\n",
       " ('logpmf', method),\n",
       " ('logsf', method),\n",
       " ('mean', method),\n",
       " ('median', method),\n",
       " ('moment', method),\n",
       " ('moment_tol', float),\n",
       " ('name', str),\n",
       " ('numargs', int),\n",
       " ('pmf', method),\n",
       " ('ppf', method),\n",
       " ('random_state', numpy.random.mtrand.RandomState),\n",
       " ('rvs', method),\n",
       " ('sf', method),\n",
       " ('shapes', str),\n",
       " ('stats', method),\n",
       " ('std', method),\n",
       " ('support', method),\n",
       " ('var', method),\n",
       " ('vecentropy', numpy.vectorize)]"
      ]
     },
     "execution_count": 438,
     "metadata": {},
     "output_type": "execute_result"
    }
   ],
   "source": [
    "[\n",
    " (x, type(getattr(st.binom, x)))\n",
    " for x in dir(st.binom) \n",
    " if not x.startswith('_')\n",
    "]\n"
   ]
  },
  {
   "cell_type": "code",
   "execution_count": null,
   "id": "fd4ba8f8-2de9-4eb1-9b38-a342c4280a90",
   "metadata": {},
   "outputs": [],
   "source": [
    "f= st.binom.pmf"
   ]
  },
  {
   "cell_type": "code",
   "execution_count": 280,
   "id": "711f1890-c379-4e80-835b-0b48deb8361d",
   "metadata": {
    "collapsed": true,
    "jupyter": {
     "outputs_hidden": true
    },
    "tags": []
   },
   "outputs": [
    {
     "data": {
      "text/plain": [
       "['F_onewayBadInputSizesWarning',\n",
       " 'F_onewayConstantInputWarning',\n",
       " 'PearsonRConstantInputWarning',\n",
       " 'PearsonRNearConstantInputWarning',\n",
       " 'SpearmanRConstantInputWarning',\n",
       " '__all__',\n",
       " '__builtins__',\n",
       " '__cached__',\n",
       " '__doc__',\n",
       " '__file__',\n",
       " '__loader__',\n",
       " '__name__',\n",
       " '__package__',\n",
       " '__path__',\n",
       " '__spec__',\n",
       " '_binned_statistic',\n",
       " '_constants',\n",
       " '_continuous_distns',\n",
       " '_discrete_distns',\n",
       " '_distn_infrastructure',\n",
       " '_distr_params',\n",
       " '_hypotests',\n",
       " '_ksstats',\n",
       " '_multivariate',\n",
       " '_rvs_sampling',\n",
       " '_stats',\n",
       " '_stats_mstats_common',\n",
       " '_tukeylambda_stats',\n",
       " '_wilcoxon_data',\n",
       " 'alpha',\n",
       " 'anderson',\n",
       " 'anderson_ksamp',\n",
       " 'anglit',\n",
       " 'ansari',\n",
       " 'arcsine',\n",
       " 'argus',\n",
       " 'bartlett',\n",
       " 'bayes_mvs',\n",
       " 'bernoulli',\n",
       " 'beta',\n",
       " 'betabinom',\n",
       " 'betaprime',\n",
       " 'binned_statistic',\n",
       " 'binned_statistic_2d',\n",
       " 'binned_statistic_dd',\n",
       " 'binom',\n",
       " 'binom_test',\n",
       " 'boltzmann',\n",
       " 'boxcox',\n",
       " 'boxcox_llf',\n",
       " 'boxcox_normmax',\n",
       " 'boxcox_normplot',\n",
       " 'bradford',\n",
       " 'brunnermunzel',\n",
       " 'burr',\n",
       " 'burr12',\n",
       " 'cauchy',\n",
       " 'chi',\n",
       " 'chi2',\n",
       " 'chi2_contingency',\n",
       " 'chisquare',\n",
       " 'circmean',\n",
       " 'circstd',\n",
       " 'circvar',\n",
       " 'combine_pvalues',\n",
       " 'contingency',\n",
       " 'cosine',\n",
       " 'cramervonmises',\n",
       " 'crystalball',\n",
       " 'cumfreq',\n",
       " 'describe',\n",
       " 'dgamma',\n",
       " 'dirichlet',\n",
       " 'distributions',\n",
       " 'dlaplace',\n",
       " 'dweibull',\n",
       " 'energy_distance',\n",
       " 'entropy',\n",
       " 'epps_singleton_2samp',\n",
       " 'erlang',\n",
       " 'expon',\n",
       " 'exponnorm',\n",
       " 'exponpow',\n",
       " 'exponweib',\n",
       " 'f',\n",
       " 'f_oneway',\n",
       " 'fatiguelife',\n",
       " 'find_repeats',\n",
       " 'fisher_exact',\n",
       " 'fisk',\n",
       " 'fligner',\n",
       " 'foldcauchy',\n",
       " 'foldnorm',\n",
       " 'friedmanchisquare',\n",
       " 'gamma',\n",
       " 'gausshyper',\n",
       " 'gaussian_kde',\n",
       " 'genexpon',\n",
       " 'genextreme',\n",
       " 'gengamma',\n",
       " 'genhalflogistic',\n",
       " 'geninvgauss',\n",
       " 'genlogistic',\n",
       " 'gennorm',\n",
       " 'genpareto',\n",
       " 'geom',\n",
       " 'gilbrat',\n",
       " 'gmean',\n",
       " 'gompertz',\n",
       " 'gstd',\n",
       " 'gumbel_l',\n",
       " 'gumbel_r',\n",
       " 'halfcauchy',\n",
       " 'halfgennorm',\n",
       " 'halflogistic',\n",
       " 'halfnorm',\n",
       " 'hmean',\n",
       " 'hypergeom',\n",
       " 'hypsecant',\n",
       " 'invgamma',\n",
       " 'invgauss',\n",
       " 'invweibull',\n",
       " 'invwishart',\n",
       " 'iqr',\n",
       " 'itemfreq',\n",
       " 'jarque_bera',\n",
       " 'johnsonsb',\n",
       " 'johnsonsu',\n",
       " 'kappa3',\n",
       " 'kappa4',\n",
       " 'kde',\n",
       " 'kendalltau',\n",
       " 'kruskal',\n",
       " 'ks_1samp',\n",
       " 'ks_2samp',\n",
       " 'ksone',\n",
       " 'kstat',\n",
       " 'kstatvar',\n",
       " 'kstest',\n",
       " 'kstwo',\n",
       " 'kstwobign',\n",
       " 'kurtosis',\n",
       " 'kurtosistest',\n",
       " 'laplace',\n",
       " 'laplace_asymmetric',\n",
       " 'levene',\n",
       " 'levy',\n",
       " 'levy_l',\n",
       " 'levy_stable',\n",
       " 'linregress',\n",
       " 'loggamma',\n",
       " 'logistic',\n",
       " 'loglaplace',\n",
       " 'lognorm',\n",
       " 'logser',\n",
       " 'loguniform',\n",
       " 'lomax',\n",
       " 'mannwhitneyu',\n",
       " 'matrix_normal',\n",
       " 'maxwell',\n",
       " 'median_abs_deviation',\n",
       " 'median_absolute_deviation',\n",
       " 'median_test',\n",
       " 'mielke',\n",
       " 'mode',\n",
       " 'moment',\n",
       " 'mood',\n",
       " 'morestats',\n",
       " 'moyal',\n",
       " 'mstats',\n",
       " 'mstats_basic',\n",
       " 'mstats_extras',\n",
       " 'multinomial',\n",
       " 'multiscale_graphcorr',\n",
       " 'multivariate_hypergeom',\n",
       " 'multivariate_normal',\n",
       " 'multivariate_t',\n",
       " 'mvn',\n",
       " 'mvsdist',\n",
       " 'nakagami',\n",
       " 'nbinom',\n",
       " 'ncf',\n",
       " 'nct',\n",
       " 'ncx2',\n",
       " 'nhypergeom',\n",
       " 'norm',\n",
       " 'normaltest',\n",
       " 'norminvgauss',\n",
       " 'obrientransform',\n",
       " 'ortho_group',\n",
       " 'pareto',\n",
       " 'pearson3',\n",
       " 'pearsonr',\n",
       " 'percentileofscore',\n",
       " 'planck',\n",
       " 'pointbiserialr',\n",
       " 'poisson',\n",
       " 'power_divergence',\n",
       " 'powerlaw',\n",
       " 'powerlognorm',\n",
       " 'powernorm',\n",
       " 'ppcc_max',\n",
       " 'ppcc_plot',\n",
       " 'probplot',\n",
       " 'randint',\n",
       " 'random_correlation',\n",
       " 'rankdata',\n",
       " 'ranksums',\n",
       " 'rayleigh',\n",
       " 'rdist',\n",
       " 'recipinvgauss',\n",
       " 'reciprocal',\n",
       " 'relfreq',\n",
       " 'rice',\n",
       " 'rv_continuous',\n",
       " 'rv_discrete',\n",
       " 'rv_histogram',\n",
       " 'rvs_ratio_uniforms',\n",
       " 'scoreatpercentile',\n",
       " 'sem',\n",
       " 'semicircular',\n",
       " 'shapiro',\n",
       " 'siegelslopes',\n",
       " 'sigmaclip',\n",
       " 'skellam',\n",
       " 'skew',\n",
       " 'skewnorm',\n",
       " 'skewtest',\n",
       " 'spearmanr',\n",
       " 'special_ortho_group',\n",
       " 'statlib',\n",
       " 'stats',\n",
       " 't',\n",
       " 'test',\n",
       " 'theilslopes',\n",
       " 'tiecorrect',\n",
       " 'tmax',\n",
       " 'tmean',\n",
       " 'tmin',\n",
       " 'trapezoid',\n",
       " 'trapz',\n",
       " 'triang',\n",
       " 'trim1',\n",
       " 'trim_mean',\n",
       " 'trimboth',\n",
       " 'truncexpon',\n",
       " 'truncnorm',\n",
       " 'tsem',\n",
       " 'tstd',\n",
       " 'ttest_1samp',\n",
       " 'ttest_ind',\n",
       " 'ttest_ind_from_stats',\n",
       " 'ttest_rel',\n",
       " 'tukeylambda',\n",
       " 'tvar',\n",
       " 'uniform',\n",
       " 'unitary_group',\n",
       " 'variation',\n",
       " 'vonmises',\n",
       " 'vonmises_line',\n",
       " 'wald',\n",
       " 'wasserstein_distance',\n",
       " 'weibull_max',\n",
       " 'weibull_min',\n",
       " 'weightedtau',\n",
       " 'wilcoxon',\n",
       " 'wishart',\n",
       " 'wrapcauchy',\n",
       " 'yeojohnson',\n",
       " 'yeojohnson_llf',\n",
       " 'yeojohnson_normmax',\n",
       " 'yeojohnson_normplot',\n",
       " 'yulesimon',\n",
       " 'zipf',\n",
       " 'zmap',\n",
       " 'zscore']"
      ]
     },
     "execution_count": 280,
     "metadata": {},
     "output_type": "execute_result"
    }
   ],
   "source": [
    "# 這句有梗！！\n",
    "\n",
    "# dir(st)\n",
    "# isinstance()\n",
    "# getattr(st, x)\n",
    "\n",
    "import scipy.stats as st\n",
    "dir(st)"
   ]
  },
  {
   "cell_type": "code",
   "execution_count": 282,
   "id": "4c4e5f41-9280-46a4-95a9-6c8d4b68651b",
   "metadata": {
    "tags": []
   },
   "outputs": [
    {
     "data": {
      "text/plain": [
       "(16,\n",
       " ['bernoulli',\n",
       "  'betabinom',\n",
       "  'binom',\n",
       "  'boltzmann',\n",
       "  'dlaplace',\n",
       "  'geom',\n",
       "  'hypergeom',\n",
       "  'logser',\n",
       "  'nbinom',\n",
       "  'nhypergeom',\n",
       "  'planck',\n",
       "  'poisson',\n",
       "  'randint',\n",
       "  'skellam',\n",
       "  'yulesimon',\n",
       "  'zipf'])"
      ]
     },
     "execution_count": 282,
     "metadata": {},
     "output_type": "execute_result"
    }
   ],
   "source": [
    "# 列出所有 離散型 隨機變數\n",
    "dist_discrete= [\n",
    "    x \n",
    "    for x in dir(st) \n",
    "    if isinstance(\n",
    "        getattr(st, x), \n",
    "        st.rv_discrete)\n",
    "]\n",
    "\n",
    "len(dist_discrete), dist_discrete"
   ]
  },
  {
   "cell_type": "code",
   "execution_count": 281,
   "id": "54c55afd-71e6-4ed2-9c99-92be4bee40d9",
   "metadata": {
    "collapsed": true,
    "jupyter": {
     "outputs_hidden": true
    },
    "tags": []
   },
   "outputs": [
    {
     "data": {
      "text/plain": [
       "(101,\n",
       " ['alpha',\n",
       "  'anglit',\n",
       "  'arcsine',\n",
       "  'argus',\n",
       "  'beta',\n",
       "  'betaprime',\n",
       "  'bradford',\n",
       "  'burr',\n",
       "  'burr12',\n",
       "  'cauchy',\n",
       "  'chi',\n",
       "  'chi2',\n",
       "  'cosine',\n",
       "  'crystalball',\n",
       "  'dgamma',\n",
       "  'dweibull',\n",
       "  'erlang',\n",
       "  'expon',\n",
       "  'exponnorm',\n",
       "  'exponpow',\n",
       "  'exponweib',\n",
       "  'f',\n",
       "  'fatiguelife',\n",
       "  'fisk',\n",
       "  'foldcauchy',\n",
       "  'foldnorm',\n",
       "  'gamma',\n",
       "  'gausshyper',\n",
       "  'genexpon',\n",
       "  'genextreme',\n",
       "  'gengamma',\n",
       "  'genhalflogistic',\n",
       "  'geninvgauss',\n",
       "  'genlogistic',\n",
       "  'gennorm',\n",
       "  'genpareto',\n",
       "  'gilbrat',\n",
       "  'gompertz',\n",
       "  'gumbel_l',\n",
       "  'gumbel_r',\n",
       "  'halfcauchy',\n",
       "  'halfgennorm',\n",
       "  'halflogistic',\n",
       "  'halfnorm',\n",
       "  'hypsecant',\n",
       "  'invgamma',\n",
       "  'invgauss',\n",
       "  'invweibull',\n",
       "  'johnsonsb',\n",
       "  'johnsonsu',\n",
       "  'kappa3',\n",
       "  'kappa4',\n",
       "  'ksone',\n",
       "  'kstwo',\n",
       "  'kstwobign',\n",
       "  'laplace',\n",
       "  'laplace_asymmetric',\n",
       "  'levy',\n",
       "  'levy_l',\n",
       "  'levy_stable',\n",
       "  'loggamma',\n",
       "  'logistic',\n",
       "  'loglaplace',\n",
       "  'lognorm',\n",
       "  'loguniform',\n",
       "  'lomax',\n",
       "  'maxwell',\n",
       "  'mielke',\n",
       "  'moyal',\n",
       "  'nakagami',\n",
       "  'ncf',\n",
       "  'nct',\n",
       "  'ncx2',\n",
       "  'norm',\n",
       "  'norminvgauss',\n",
       "  'pareto',\n",
       "  'pearson3',\n",
       "  'powerlaw',\n",
       "  'powerlognorm',\n",
       "  'powernorm',\n",
       "  'rayleigh',\n",
       "  'rdist',\n",
       "  'recipinvgauss',\n",
       "  'reciprocal',\n",
       "  'rice',\n",
       "  'semicircular',\n",
       "  'skewnorm',\n",
       "  't',\n",
       "  'trapezoid',\n",
       "  'trapz',\n",
       "  'triang',\n",
       "  'truncexpon',\n",
       "  'truncnorm',\n",
       "  'tukeylambda',\n",
       "  'uniform',\n",
       "  'vonmises',\n",
       "  'vonmises_line',\n",
       "  'wald',\n",
       "  'weibull_max',\n",
       "  'weibull_min',\n",
       "  'wrapcauchy'])"
      ]
     },
     "execution_count": 281,
     "metadata": {},
     "output_type": "execute_result"
    }
   ],
   "source": [
    "# 列出所有 連續型 隨機變數\n",
    "dist_continuous= [\n",
    "    x \n",
    "    for x in dir(st) \n",
    "    if isinstance(\n",
    "        getattr(st, x), \n",
    "        st.rv_continuous)\n",
    "]\n",
    "\n",
    "len(dist_continuous), dist_continuous"
   ]
  },
  {
   "cell_type": "code",
   "execution_count": 400,
   "id": "02b284c1-3241-4ed8-9642-c3e21f1e4e7d",
   "metadata": {},
   "outputs": [
    {
     "name": "stdout",
     "output_type": "stream",
     "text": [
      "\n",
      "            ========================================\n",
      "            n= 25\n",
      "            x= accumulate\n",
      "            y= <built-in method accumulate of numpy.ufunc object at 0x000001DBBFBE9400>\n",
      "            ----------------------------------------\n",
      "            z= accumulate(array, axis=0, dtype=None, out=None)\n",
      "\n",
      "    Accumulate the result of applying the operator to all elements.\n",
      "\n",
      "    For a one-dimensional array, accumulate produces results equivalent to::\n",
      "\n",
      "      r = np.empty(len(A))\n",
      "      t = op.identity        # op = the ufunc being applied to A's  elements\n",
      "      for i in range(len(A)):\n",
      "          t = op(t, A[i])\n",
      "          r[i] = t\n",
      "      return r\n",
      "\n",
      "    For example, add.accumulate() is equivalent to np.cumsum().\n",
      "\n",
      "    For a multi-dimensional array, accumulate is applied along only one\n",
      "    axis (axis zero by default; see Examples below) so repeated use is\n",
      "    necessary if one wants to accumulate over multiple axes.\n",
      "\n",
      "    Parameters\n",
      "    ----------\n",
      "    array : array_like\n",
      "        The array to act on.\n",
      "    axis : int, optional\n",
      "        The axis along which to apply the accumulation; default is zero.\n",
      "    dtype : data-type code, optional\n",
      "        The data-type used to represent the intermediate results. Defaults\n",
      "        to the data-type of the output array if such is provided, or the\n",
      "        the data-type of the input array if no output array is provided.\n",
      "    out : ndarray, None, or tuple of ndarray and None, optional\n",
      "        A location into which the result is stored. If not provided or None,\n",
      "        a freshly-allocated array is returned. For consistency with\n",
      "        ``ufunc.__call__``, if given as a keyword, this may be wrapped in a\n",
      "        1-element tuple.\n",
      "\n",
      "        .. versionchanged:: 1.13.0\n",
      "           Tuples are allowed for keyword argument.\n",
      "\n",
      "    Returns\n",
      "    -------\n",
      "    r : ndarray\n",
      "        The accumulated values. If `out` was supplied, `r` is a reference to\n",
      "        `out`.\n",
      "\n",
      "    Examples\n",
      "    --------\n",
      "    1-D array examples:\n",
      "\n",
      "    >>> np.add.accumulate([2, 3, 5])\n",
      "    array([ 2,  5, 10])\n",
      "    >>> np.multiply.accumulate([2, 3, 5])\n",
      "    array([ 2,  6, 30])\n",
      "\n",
      "    2-D array examples:\n",
      "\n",
      "    >>> I = np.eye(2)\n",
      "    >>> I\n",
      "    array([[1.,  0.],\n",
      "           [0.,  1.]])\n",
      "\n",
      "    Accumulate along axis 0 (rows), down columns:\n",
      "\n",
      "    >>> np.add.accumulate(I, 0)\n",
      "    array([[1.,  0.],\n",
      "           [1.,  1.]])\n",
      "    >>> np.add.accumulate(I) # no axis specified = axis zero\n",
      "    array([[1.,  0.],\n",
      "           [1.,  1.]])\n",
      "\n",
      "    Accumulate along axis 1 (columns), through rows:\n",
      "\n",
      "    >>> np.add.accumulate(I, 1)\n",
      "    array([[1.,  1.],\n",
      "           [0.,  1.]])\n",
      "            \n",
      "\n",
      "            ========================================\n",
      "            n= 26\n",
      "            x= at\n",
      "            y= <built-in method at of numpy.ufunc object at 0x000001DBBFBE9400>\n",
      "            ----------------------------------------\n",
      "            z= at(a, indices, b=None, /)\n",
      "\n",
      "    Performs unbuffered in place operation on operand 'a' for elements\n",
      "    specified by 'indices'. For addition ufunc, this method is equivalent to\n",
      "    ``a[indices] += b``, except that results are accumulated for elements that\n",
      "    are indexed more than once. For example, ``a[[0,0]] += 1`` will only\n",
      "    increment the first element once because of buffering, whereas\n",
      "    ``add.at(a, [0,0], 1)`` will increment the first element twice.\n",
      "\n",
      "    .. versionadded:: 1.8.0\n",
      "\n",
      "    Parameters\n",
      "    ----------\n",
      "    a : array_like\n",
      "        The array to perform in place operation on.\n",
      "    indices : array_like or tuple\n",
      "        Array like index object or slice object for indexing into first\n",
      "        operand. If first operand has multiple dimensions, indices can be a\n",
      "        tuple of array like index objects or slice objects.\n",
      "    b : array_like\n",
      "        Second operand for ufuncs requiring two operands. Operand must be\n",
      "        broadcastable over first operand after indexing or slicing.\n",
      "\n",
      "    Examples\n",
      "    --------\n",
      "    Set items 0 and 1 to their negative values:\n",
      "\n",
      "    >>> a = np.array([1, 2, 3, 4])\n",
      "    >>> np.negative.at(a, [0, 1])\n",
      "    >>> a\n",
      "    array([-1, -2,  3,  4])\n",
      "\n",
      "    Increment items 0 and 1, and increment item 2 twice:\n",
      "\n",
      "    >>> a = np.array([1, 2, 3, 4])\n",
      "    >>> np.add.at(a, [0, 1, 2, 2], 1)\n",
      "    >>> a\n",
      "    array([2, 3, 5, 4])\n",
      "\n",
      "    Add items 0 and 1 in first array to second array,\n",
      "    and store results in first array:\n",
      "\n",
      "    >>> a = np.array([1, 2, 3, 4])\n",
      "    >>> b = np.array([1, 2])\n",
      "    >>> np.add.at(a, [0, 1], b)\n",
      "    >>> a\n",
      "    array([2, 4, 3, 4])\n",
      "            \n",
      "\n",
      "            ========================================\n",
      "            n= 27\n",
      "            x= identity\n",
      "            y= None\n",
      "            ----------------------------------------\n",
      "            z= None\n",
      "            \n",
      "\n",
      "            ========================================\n",
      "            n= 28\n",
      "            x= nargs\n",
      "            y= 2\n",
      "            ----------------------------------------\n",
      "            z= int([x]) -> integer\n",
      "int(x, base=10) -> integer\n",
      "\n",
      "Convert a number or string to an integer, or return 0 if no arguments\n",
      "are given.  If x is a number, return x.__int__().  For floating point\n",
      "numbers, this truncates towards zero.\n",
      "\n",
      "If x is not a number or if base is given, then x must be a string,\n",
      "bytes, or bytearray instance representing an integer literal in the\n",
      "given base.  The literal can be preceded by '+' or '-' and be surrounded\n",
      "by whitespace.  The base defaults to 10.  Valid bases are 0 and 2-36.\n",
      "Base 0 means to interpret the base from the string as an integer literal.\n",
      ">>> int('0b100', base=0)\n",
      "4\n",
      "            \n",
      "\n",
      "            ========================================\n",
      "            n= 29\n",
      "            x= nin\n",
      "            y= 1\n",
      "            ----------------------------------------\n",
      "            z= int([x]) -> integer\n",
      "int(x, base=10) -> integer\n",
      "\n",
      "Convert a number or string to an integer, or return 0 if no arguments\n",
      "are given.  If x is a number, return x.__int__().  For floating point\n",
      "numbers, this truncates towards zero.\n",
      "\n",
      "If x is not a number or if base is given, then x must be a string,\n",
      "bytes, or bytearray instance representing an integer literal in the\n",
      "given base.  The literal can be preceded by '+' or '-' and be surrounded\n",
      "by whitespace.  The base defaults to 10.  Valid bases are 0 and 2-36.\n",
      "Base 0 means to interpret the base from the string as an integer literal.\n",
      ">>> int('0b100', base=0)\n",
      "4\n",
      "            \n",
      "\n",
      "            ========================================\n",
      "            n= 30\n",
      "            x= nout\n",
      "            y= 1\n",
      "            ----------------------------------------\n",
      "            z= int([x]) -> integer\n",
      "int(x, base=10) -> integer\n",
      "\n",
      "Convert a number or string to an integer, or return 0 if no arguments\n",
      "are given.  If x is a number, return x.__int__().  For floating point\n",
      "numbers, this truncates towards zero.\n",
      "\n",
      "If x is not a number or if base is given, then x must be a string,\n",
      "bytes, or bytearray instance representing an integer literal in the\n",
      "given base.  The literal can be preceded by '+' or '-' and be surrounded\n",
      "by whitespace.  The base defaults to 10.  Valid bases are 0 and 2-36.\n",
      "Base 0 means to interpret the base from the string as an integer literal.\n",
      ">>> int('0b100', base=0)\n",
      "4\n",
      "            \n",
      "\n",
      "            ========================================\n",
      "            n= 31\n",
      "            x= ntypes\n",
      "            y= 9\n",
      "            ----------------------------------------\n",
      "            z= int([x]) -> integer\n",
      "int(x, base=10) -> integer\n",
      "\n",
      "Convert a number or string to an integer, or return 0 if no arguments\n",
      "are given.  If x is a number, return x.__int__().  For floating point\n",
      "numbers, this truncates towards zero.\n",
      "\n",
      "If x is not a number or if base is given, then x must be a string,\n",
      "bytes, or bytearray instance representing an integer literal in the\n",
      "given base.  The literal can be preceded by '+' or '-' and be surrounded\n",
      "by whitespace.  The base defaults to 10.  Valid bases are 0 and 2-36.\n",
      "Base 0 means to interpret the base from the string as an integer literal.\n",
      ">>> int('0b100', base=0)\n",
      "4\n",
      "            \n",
      "\n",
      "            ========================================\n",
      "            n= 32\n",
      "            x= outer\n",
      "            y= <built-in method outer of numpy.ufunc object at 0x000001DBBFBE9400>\n",
      "            ----------------------------------------\n",
      "            z= outer(A, B, /, **kwargs)\n",
      "\n",
      "    Apply the ufunc `op` to all pairs (a, b) with a in `A` and b in `B`.\n",
      "\n",
      "    Let ``M = A.ndim``, ``N = B.ndim``. Then the result, `C`, of\n",
      "    ``op.outer(A, B)`` is an array of dimension M + N such that:\n",
      "\n",
      "    .. math:: C[i_0, ..., i_{M-1}, j_0, ..., j_{N-1}] =\n",
      "       op(A[i_0, ..., i_{M-1}], B[j_0, ..., j_{N-1}])\n",
      "\n",
      "    For `A` and `B` one-dimensional, this is equivalent to::\n",
      "\n",
      "      r = empty(len(A),len(B))\n",
      "      for i in range(len(A)):\n",
      "          for j in range(len(B)):\n",
      "              r[i,j] = op(A[i], B[j]) # op = ufunc in question\n",
      "\n",
      "    Parameters\n",
      "    ----------\n",
      "    A : array_like\n",
      "        First array\n",
      "    B : array_like\n",
      "        Second array\n",
      "    kwargs : any\n",
      "        Arguments to pass on to the ufunc. Typically `dtype` or `out`.\n",
      "\n",
      "    Returns\n",
      "    -------\n",
      "    r : ndarray\n",
      "        Output array\n",
      "\n",
      "    See Also\n",
      "    --------\n",
      "    numpy.outer : A less powerful version of ``np.multiply.outer``\n",
      "                  that `ravel`\\ s all inputs to 1D. This exists\n",
      "                  primarily for compatibility with old code.\n",
      "\n",
      "    tensordot : ``np.tensordot(a, b, axes=((), ()))`` and\n",
      "                ``np.multiply.outer(a, b)`` behave same for all\n",
      "                dimensions of a and b.\n",
      "\n",
      "    Examples\n",
      "    --------\n",
      "    >>> np.multiply.outer([1, 2, 3], [4, 5, 6])\n",
      "    array([[ 4,  5,  6],\n",
      "           [ 8, 10, 12],\n",
      "           [12, 15, 18]])\n",
      "\n",
      "    A multi-dimensional example:\n",
      "\n",
      "    >>> A = np.array([[1, 2, 3], [4, 5, 6]])\n",
      "    >>> A.shape\n",
      "    (2, 3)\n",
      "    >>> B = np.array([[1, 2, 3, 4]])\n",
      "    >>> B.shape\n",
      "    (1, 4)\n",
      "    >>> C = np.multiply.outer(A, B)\n",
      "    >>> C.shape; C\n",
      "    (2, 3, 1, 4)\n",
      "    array([[[[ 1,  2,  3,  4]],\n",
      "            [[ 2,  4,  6,  8]],\n",
      "            [[ 3,  6,  9, 12]]],\n",
      "           [[[ 4,  8, 12, 16]],\n",
      "            [[ 5, 10, 15, 20]],\n",
      "            [[ 6, 12, 18, 24]]]])\n",
      "            \n",
      "\n",
      "            ========================================\n",
      "            n= 33\n",
      "            x= reduce\n",
      "            y= <built-in method reduce of numpy.ufunc object at 0x000001DBBFBE9400>\n",
      "            ----------------------------------------\n",
      "            z= reduce(array, axis=0, dtype=None, out=None, keepdims=False, initial=<no value>, where=True)\n",
      "\n",
      "    Reduces `array`'s dimension by one, by applying ufunc along one axis.\n",
      "\n",
      "    Let :math:`array.shape = (N_0, ..., N_i, ..., N_{M-1})`.  Then\n",
      "    :math:`ufunc.reduce(array, axis=i)[k_0, ..,k_{i-1}, k_{i+1}, .., k_{M-1}]` =\n",
      "    the result of iterating `j` over :math:`range(N_i)`, cumulatively applying\n",
      "    ufunc to each :math:`array[k_0, ..,k_{i-1}, j, k_{i+1}, .., k_{M-1}]`.\n",
      "    For a one-dimensional array, reduce produces results equivalent to:\n",
      "    ::\n",
      "\n",
      "     r = op.identity # op = ufunc\n",
      "     for i in range(len(A)):\n",
      "       r = op(r, A[i])\n",
      "     return r\n",
      "\n",
      "    For example, add.reduce() is equivalent to sum().\n",
      "\n",
      "    Parameters\n",
      "    ----------\n",
      "    array : array_like\n",
      "        The array to act on.\n",
      "    axis : None or int or tuple of ints, optional\n",
      "        Axis or axes along which a reduction is performed.\n",
      "        The default (`axis` = 0) is perform a reduction over the first\n",
      "        dimension of the input array. `axis` may be negative, in\n",
      "        which case it counts from the last to the first axis.\n",
      "\n",
      "        .. versionadded:: 1.7.0\n",
      "\n",
      "        If this is None, a reduction is performed over all the axes.\n",
      "        If this is a tuple of ints, a reduction is performed on multiple\n",
      "        axes, instead of a single axis or all the axes as before.\n",
      "\n",
      "        For operations which are either not commutative or not associative,\n",
      "        doing a reduction over multiple axes is not well-defined. The\n",
      "        ufuncs do not currently raise an exception in this case, but will\n",
      "        likely do so in the future.\n",
      "    dtype : data-type code, optional\n",
      "        The type used to represent the intermediate results. Defaults\n",
      "        to the data-type of the output array if this is provided, or\n",
      "        the data-type of the input array if no output array is provided.\n",
      "    out : ndarray, None, or tuple of ndarray and None, optional\n",
      "        A location into which the result is stored. If not provided or None,\n",
      "        a freshly-allocated array is returned. For consistency with\n",
      "        ``ufunc.__call__``, if given as a keyword, this may be wrapped in a\n",
      "        1-element tuple.\n",
      "\n",
      "        .. versionchanged:: 1.13.0\n",
      "           Tuples are allowed for keyword argument.\n",
      "    keepdims : bool, optional\n",
      "        If this is set to True, the axes which are reduced are left\n",
      "        in the result as dimensions with size one. With this option,\n",
      "        the result will broadcast correctly against the original `array`.\n",
      "\n",
      "        .. versionadded:: 1.7.0\n",
      "    initial : scalar, optional\n",
      "        The value with which to start the reduction.\n",
      "        If the ufunc has no identity or the dtype is object, this defaults\n",
      "        to None - otherwise it defaults to ufunc.identity.\n",
      "        If ``None`` is given, the first element of the reduction is used,\n",
      "        and an error is thrown if the reduction is empty.\n",
      "\n",
      "        .. versionadded:: 1.15.0\n",
      "\n",
      "    where : array_like of bool, optional\n",
      "        A boolean array which is broadcasted to match the dimensions\n",
      "        of `array`, and selects elements to include in the reduction. Note\n",
      "        that for ufuncs like ``minimum`` that do not have an identity\n",
      "        defined, one has to pass in also ``initial``.\n",
      "\n",
      "        .. versionadded:: 1.17.0\n",
      "\n",
      "    Returns\n",
      "    -------\n",
      "    r : ndarray\n",
      "        The reduced array. If `out` was supplied, `r` is a reference to it.\n",
      "\n",
      "    Examples\n",
      "    --------\n",
      "    >>> np.multiply.reduce([2,3,5])\n",
      "    30\n",
      "\n",
      "    A multi-dimensional array example:\n",
      "\n",
      "    >>> X = np.arange(8).reshape((2,2,2))\n",
      "    >>> X\n",
      "    array([[[0, 1],\n",
      "            [2, 3]],\n",
      "           [[4, 5],\n",
      "            [6, 7]]])\n",
      "    >>> np.add.reduce(X, 0)\n",
      "    array([[ 4,  6],\n",
      "           [ 8, 10]])\n",
      "    >>> np.add.reduce(X) # confirm: default axis value is 0\n",
      "    array([[ 4,  6],\n",
      "           [ 8, 10]])\n",
      "    >>> np.add.reduce(X, 1)\n",
      "    array([[ 2,  4],\n",
      "           [10, 12]])\n",
      "    >>> np.add.reduce(X, 2)\n",
      "    array([[ 1,  5],\n",
      "           [ 9, 13]])\n",
      "\n",
      "    You can use the ``initial`` keyword argument to initialize the reduction\n",
      "    with a different value, and ``where`` to select specific elements to include:\n",
      "\n",
      "    >>> np.add.reduce([10], initial=5)\n",
      "    15\n",
      "    >>> np.add.reduce(np.ones((2, 2, 2)), axis=(0, 2), initial=10)\n",
      "    array([14., 14.])\n",
      "    >>> a = np.array([10., np.nan, 10])\n",
      "    >>> np.add.reduce(a, where=~np.isnan(a))\n",
      "    20.0\n",
      "\n",
      "    Allows reductions of empty arrays where they would normally fail, i.e.\n",
      "    for ufuncs without an identity.\n",
      "\n",
      "    >>> np.minimum.reduce([], initial=np.inf)\n",
      "    inf\n",
      "    >>> np.minimum.reduce([[1., 2.], [3., 4.]], initial=10., where=[True, False])\n",
      "    array([ 1., 10.])\n",
      "    >>> np.minimum.reduce([])\n",
      "    Traceback (most recent call last):\n",
      "        ...\n",
      "    ValueError: zero-size array to reduction operation minimum which has no identity\n",
      "            \n",
      "\n",
      "            ========================================\n",
      "            n= 34\n",
      "            x= reduceat\n",
      "            y= <built-in method reduceat of numpy.ufunc object at 0x000001DBBFBE9400>\n",
      "            ----------------------------------------\n",
      "            z= reduceat(array, indices, axis=0, dtype=None, out=None)\n",
      "\n",
      "    Performs a (local) reduce with specified slices over a single axis.\n",
      "\n",
      "    For i in ``range(len(indices))``, `reduceat` computes\n",
      "    ``ufunc.reduce(array[indices[i]:indices[i+1]])``, which becomes the i-th\n",
      "    generalized \"row\" parallel to `axis` in the final result (i.e., in a\n",
      "    2-D array, for example, if `axis = 0`, it becomes the i-th row, but if\n",
      "    `axis = 1`, it becomes the i-th column).  There are three exceptions to this:\n",
      "\n",
      "    * when ``i = len(indices) - 1`` (so for the last index),\n",
      "      ``indices[i+1] = array.shape[axis]``.\n",
      "    * if ``indices[i] >= indices[i + 1]``, the i-th generalized \"row\" is\n",
      "      simply ``array[indices[i]]``.\n",
      "    * if ``indices[i] >= len(array)`` or ``indices[i] < 0``, an error is raised.\n",
      "\n",
      "    The shape of the output depends on the size of `indices`, and may be\n",
      "    larger than `array` (this happens if ``len(indices) > array.shape[axis]``).\n",
      "\n",
      "    Parameters\n",
      "    ----------\n",
      "    array : array_like\n",
      "        The array to act on.\n",
      "    indices : array_like\n",
      "        Paired indices, comma separated (not colon), specifying slices to\n",
      "        reduce.\n",
      "    axis : int, optional\n",
      "        The axis along which to apply the reduceat.\n",
      "    dtype : data-type code, optional\n",
      "        The type used to represent the intermediate results. Defaults\n",
      "        to the data type of the output array if this is provided, or\n",
      "        the data type of the input array if no output array is provided.\n",
      "    out : ndarray, None, or tuple of ndarray and None, optional\n",
      "        A location into which the result is stored. If not provided or None,\n",
      "        a freshly-allocated array is returned. For consistency with\n",
      "        ``ufunc.__call__``, if given as a keyword, this may be wrapped in a\n",
      "        1-element tuple.\n",
      "\n",
      "        .. versionchanged:: 1.13.0\n",
      "           Tuples are allowed for keyword argument.\n",
      "\n",
      "    Returns\n",
      "    -------\n",
      "    r : ndarray\n",
      "        The reduced values. If `out` was supplied, `r` is a reference to\n",
      "        `out`.\n",
      "\n",
      "    Notes\n",
      "    -----\n",
      "    A descriptive example:\n",
      "\n",
      "    If `array` is 1-D, the function `ufunc.accumulate(array)` is the same as\n",
      "    ``ufunc.reduceat(array, indices)[::2]`` where `indices` is\n",
      "    ``range(len(array) - 1)`` with a zero placed\n",
      "    in every other element:\n",
      "    ``indices = zeros(2 * len(array) - 1)``,\n",
      "    ``indices[1::2] = range(1, len(array))``.\n",
      "\n",
      "    Don't be fooled by this attribute's name: `reduceat(array)` is not\n",
      "    necessarily smaller than `array`.\n",
      "\n",
      "    Examples\n",
      "    --------\n",
      "    To take the running sum of four successive values:\n",
      "\n",
      "    >>> np.add.reduceat(np.arange(8),[0,4, 1,5, 2,6, 3,7])[::2]\n",
      "    array([ 6, 10, 14, 18])\n",
      "\n",
      "    A 2-D example:\n",
      "\n",
      "    >>> x = np.linspace(0, 15, 16).reshape(4,4)\n",
      "    >>> x\n",
      "    array([[ 0.,   1.,   2.,   3.],\n",
      "           [ 4.,   5.,   6.,   7.],\n",
      "           [ 8.,   9.,  10.,  11.],\n",
      "           [12.,  13.,  14.,  15.]])\n",
      "\n",
      "    ::\n",
      "\n",
      "     # reduce such that the result has the following five rows:\n",
      "     # [row1 + row2 + row3]\n",
      "     # [row4]\n",
      "     # [row2]\n",
      "     # [row3]\n",
      "     # [row1 + row2 + row3 + row4]\n",
      "\n",
      "    >>> np.add.reduceat(x, [0, 3, 1, 2, 0])\n",
      "    array([[12.,  15.,  18.,  21.],\n",
      "           [12.,  13.,  14.,  15.],\n",
      "           [ 4.,   5.,   6.,   7.],\n",
      "           [ 8.,   9.,  10.,  11.],\n",
      "           [24.,  28.,  32.,  36.]])\n",
      "\n",
      "    ::\n",
      "\n",
      "     # reduce such that result has the following two columns:\n",
      "     # [col1 * col2 * col3, col4]\n",
      "\n",
      "    >>> np.multiply.reduceat(x, [0, 3], 1)\n",
      "    array([[   0.,     3.],\n",
      "           [ 120.,     7.],\n",
      "           [ 720.,    11.],\n",
      "           [2184.,    15.]])\n",
      "            \n",
      "\n",
      "            ========================================\n",
      "            n= 35\n",
      "            x= signature\n",
      "            y= None\n",
      "            ----------------------------------------\n",
      "            z= None\n",
      "            \n",
      "\n",
      "            ========================================\n",
      "            n= 36\n",
      "            x= types\n",
      "            y= ['e->e', 'f->f', 'f->f', 'd->d', 'g->g', 'F->F', 'D->D', 'G->G', 'O->O']\n",
      "            ----------------------------------------\n",
      "            z= Built-in mutable sequence.\n",
      "\n",
      "If no argument is given, the constructor creates a new empty list.\n",
      "The argument must be an iterable if specified.\n",
      "            \n"
     ]
    }
   ],
   "source": [
    "#st.rv_histogram?\n",
    "'''\n",
    "[(x,\n",
    "  getattr(st.rv_continuous,x),\n",
    "  print(getattr(st.rv_continuous,x).__doc__)\n",
    " )\n",
    " \n",
    " for x in dir(st.rv_continuous) \n",
    " if not x.startswith('_')]\n",
    "'''\n",
    "q= np.ndarray\n",
    "def ryGetAttr(className):\n",
    "    q= className\n",
    "    for n, x in enumerate(dir(q)): \n",
    "        if not x.startswith('_'):\n",
    "            y= getattr(q, x)\n",
    "            z= y.__doc__\n",
    "            print(f'''\n",
    "            {'='*40}\n",
    "            n= {n}\n",
    "            x= {x}\n",
    "            y= {y}\n",
    "            {'-'*40}\n",
    "            z= {z}\n",
    "            ''')\n",
    "\n",
    "        "
   ]
  },
  {
   "cell_type": "code",
   "execution_count": 370,
   "id": "7a2035bf-80b3-46fc-ae9e-31b33258be65",
   "metadata": {},
   "outputs": [
    {
     "data": {
      "text/plain": [
       "<method-wrapper '__str__' of binom_gen object at 0x000001DBC18155E0>"
      ]
     },
     "execution_count": 370,
     "metadata": {},
     "output_type": "execute_result"
    }
   ],
   "source": []
  },
  {
   "cell_type": "code",
   "execution_count": 1,
   "id": "bd0a0b90-1055-4f69-b7f9-5a9a09dc6a08",
   "metadata": {},
   "outputs": [],
   "source": [
    "import scipy.special as sc\n"
   ]
  },
  {
   "cell_type": "code",
   "execution_count": 7,
   "id": "6a72f43b-235b-42da-a50d-f6c6aa3c7946",
   "metadata": {},
   "outputs": [
    {
     "data": {
      "text/plain": [
       "\u001b[1;31mCall signature:\u001b[0m  \u001b[0msc\u001b[0m\u001b[1;33m.\u001b[0m\u001b[0mxlogy\u001b[0m\u001b[1;33m(\u001b[0m\u001b[1;33m*\u001b[0m\u001b[0margs\u001b[0m\u001b[1;33m,\u001b[0m \u001b[1;33m**\u001b[0m\u001b[0mkwargs\u001b[0m\u001b[1;33m)\u001b[0m\u001b[1;33m\u001b[0m\u001b[1;33m\u001b[0m\u001b[0m\n",
       "\u001b[1;31mType:\u001b[0m            ufunc\n",
       "\u001b[1;31mString form:\u001b[0m     <ufunc 'xlogy'>\n",
       "\u001b[1;31mFile:\u001b[0m            m:\\programdata\\anaconda3\\lib\\site-packages\\numpy\\__init__.py\n",
       "\u001b[1;31mDocstring:\u001b[0m      \n",
       "xlogy(x1, x2, /, out=None, *, where=True, casting='same_kind', order='K', dtype=None, subok=True[, signature, extobj])\n",
       "\n",
       "xlogy(x, y)\n",
       "\n",
       "Compute ``x*log(y)`` so that the result is 0 if ``x = 0``.\n",
       "\n",
       "Parameters\n",
       "----------\n",
       "x : array_like\n",
       "    Multiplier\n",
       "y : array_like\n",
       "    Argument\n",
       "\n",
       "Returns\n",
       "-------\n",
       "z : array_like\n",
       "    Computed x*log(y)\n",
       "\n",
       "Notes\n",
       "-----\n",
       "\n",
       ".. versionadded:: 0.13.0\n",
       "\u001b[1;31mClass docstring:\u001b[0m\n",
       "Functions that operate element by element on whole arrays.\n",
       "\n",
       "To see the documentation for a specific ufunc, use `info`.  For\n",
       "example, ``np.info(np.sin)``.  Because ufuncs are written in C\n",
       "(for speed) and linked into Python with NumPy's ufunc facility,\n",
       "Python's help() function finds this page whenever help() is called\n",
       "on a ufunc.\n",
       "\n",
       "A detailed explanation of ufuncs can be found in the docs for :ref:`ufuncs`.\n",
       "\n",
       "**Calling ufuncs:** ``op(*x[, out], where=True, **kwargs)``\n",
       "\n",
       "Apply `op` to the arguments `*x` elementwise, broadcasting the arguments.\n",
       "\n",
       "The broadcasting rules are:\n",
       "\n",
       "* Dimensions of length 1 may be prepended to either array.\n",
       "* Arrays may be repeated along dimensions of length 1.\n",
       "\n",
       "Parameters\n",
       "----------\n",
       "*x : array_like\n",
       "    Input arrays.\n",
       "out : ndarray, None, or tuple of ndarray and None, optional\n",
       "    Alternate array object(s) in which to put the result; if provided, it\n",
       "    must have a shape that the inputs broadcast to. A tuple of arrays\n",
       "    (possible only as a keyword argument) must have length equal to the\n",
       "    number of outputs; use None for uninitialized outputs to be\n",
       "    allocated by the ufunc.\n",
       "where : array_like, optional\n",
       "    This condition is broadcast over the input. At locations where the\n",
       "    condition is True, the `out` array will be set to the ufunc result.\n",
       "    Elsewhere, the `out` array will retain its original value.\n",
       "    Note that if an uninitialized `out` array is created via the default\n",
       "    ``out=None``, locations within it where the condition is False will\n",
       "    remain uninitialized.\n",
       "**kwargs\n",
       "    For other keyword-only arguments, see the :ref:`ufunc docs <ufuncs.kwargs>`.\n",
       "\n",
       "Returns\n",
       "-------\n",
       "r : ndarray or tuple of ndarray\n",
       "    `r` will have the shape that the arrays in `x` broadcast to; if `out` is\n",
       "    provided, it will be returned. If not, `r` will be allocated and\n",
       "    may contain uninitialized values. If the function has more than one\n",
       "    output, then the result will be a tuple of arrays.\n"
      ]
     },
     "metadata": {},
     "output_type": "display_data"
    }
   ],
   "source": [
    "#sc.gammainc??\n",
    "import inspect\n",
    "sc.xlogy??"
   ]
  },
  {
   "cell_type": "code",
   "execution_count": 9,
   "id": "e6cc1566-d4e7-4a8c-af26-934ba4bb0436",
   "metadata": {},
   "outputs": [
    {
     "ename": "TypeError",
     "evalue": "module, class, method, function, traceback, frame, or code object was expected, got ufunc",
     "output_type": "error",
     "traceback": [
      "\u001b[1;31m------------------------------------------------------\u001b[0m",
      "\u001b[1;31mTypeError\u001b[0m            Traceback (most recent call last)",
      "\u001b[1;32m<ipython-input-9-cc4f0a7c150c>\u001b[0m in \u001b[0;36m<module>\u001b[1;34m\u001b[0m\n\u001b[0;32m      1\u001b[0m \u001b[1;31m#sc.bdtr?\u001b[0m\u001b[1;33m\u001b[0m\u001b[1;33m\u001b[0m\u001b[1;33m\u001b[0m\u001b[0m\n\u001b[1;32m----> 2\u001b[1;33m \u001b[0minspect\u001b[0m\u001b[1;33m.\u001b[0m\u001b[0mgetsource\u001b[0m\u001b[1;33m(\u001b[0m\u001b[0msc\u001b[0m\u001b[1;33m.\u001b[0m\u001b[0mbdtr\u001b[0m\u001b[1;33m)\u001b[0m\u001b[1;33m\u001b[0m\u001b[1;33m\u001b[0m\u001b[0m\n\u001b[0m",
      "\u001b[1;32mM:\\ProgramData\\Anaconda3\\lib\\inspect.py\u001b[0m in \u001b[0;36mgetsource\u001b[1;34m(object)\u001b[0m\n\u001b[0;32m    995\u001b[0m     \u001b[1;32mor\u001b[0m \u001b[0mcode\u001b[0m \u001b[0mobject\u001b[0m\u001b[1;33m.\u001b[0m  \u001b[0mThe\u001b[0m \u001b[0msource\u001b[0m \u001b[0mcode\u001b[0m \u001b[1;32mis\u001b[0m \u001b[0mreturned\u001b[0m \u001b[1;32mas\u001b[0m \u001b[0ma\u001b[0m \u001b[0msingle\u001b[0m \u001b[0mstring\u001b[0m\u001b[1;33m.\u001b[0m  \u001b[0mAn\u001b[0m\u001b[1;33m\u001b[0m\u001b[1;33m\u001b[0m\u001b[0m\n\u001b[0;32m    996\u001b[0m     OSError is raised if the source code cannot be retrieved.\"\"\"\n\u001b[1;32m--> 997\u001b[1;33m     \u001b[0mlines\u001b[0m\u001b[1;33m,\u001b[0m \u001b[0mlnum\u001b[0m \u001b[1;33m=\u001b[0m \u001b[0mgetsourcelines\u001b[0m\u001b[1;33m(\u001b[0m\u001b[0mobject\u001b[0m\u001b[1;33m)\u001b[0m\u001b[1;33m\u001b[0m\u001b[1;33m\u001b[0m\u001b[0m\n\u001b[0m\u001b[0;32m    998\u001b[0m     \u001b[1;32mreturn\u001b[0m \u001b[1;34m''\u001b[0m\u001b[1;33m.\u001b[0m\u001b[0mjoin\u001b[0m\u001b[1;33m(\u001b[0m\u001b[0mlines\u001b[0m\u001b[1;33m)\u001b[0m\u001b[1;33m\u001b[0m\u001b[1;33m\u001b[0m\u001b[0m\n\u001b[0;32m    999\u001b[0m \u001b[1;33m\u001b[0m\u001b[0m\n",
      "\u001b[1;32mM:\\ProgramData\\Anaconda3\\lib\\inspect.py\u001b[0m in \u001b[0;36mgetsourcelines\u001b[1;34m(object)\u001b[0m\n\u001b[0;32m    977\u001b[0m     raised if the source code cannot be retrieved.\"\"\"\n\u001b[0;32m    978\u001b[0m     \u001b[0mobject\u001b[0m \u001b[1;33m=\u001b[0m \u001b[0munwrap\u001b[0m\u001b[1;33m(\u001b[0m\u001b[0mobject\u001b[0m\u001b[1;33m)\u001b[0m\u001b[1;33m\u001b[0m\u001b[1;33m\u001b[0m\u001b[0m\n\u001b[1;32m--> 979\u001b[1;33m     \u001b[0mlines\u001b[0m\u001b[1;33m,\u001b[0m \u001b[0mlnum\u001b[0m \u001b[1;33m=\u001b[0m \u001b[0mfindsource\u001b[0m\u001b[1;33m(\u001b[0m\u001b[0mobject\u001b[0m\u001b[1;33m)\u001b[0m\u001b[1;33m\u001b[0m\u001b[1;33m\u001b[0m\u001b[0m\n\u001b[0m\u001b[0;32m    980\u001b[0m \u001b[1;33m\u001b[0m\u001b[0m\n\u001b[0;32m    981\u001b[0m     \u001b[1;32mif\u001b[0m \u001b[0mistraceback\u001b[0m\u001b[1;33m(\u001b[0m\u001b[0mobject\u001b[0m\u001b[1;33m)\u001b[0m\u001b[1;33m:\u001b[0m\u001b[1;33m\u001b[0m\u001b[1;33m\u001b[0m\u001b[0m\n",
      "\u001b[1;32mM:\\ProgramData\\Anaconda3\\lib\\inspect.py\u001b[0m in \u001b[0;36mfindsource\u001b[1;34m(object)\u001b[0m\n\u001b[0;32m    778\u001b[0m     is raised if the source code cannot be retrieved.\"\"\"\n\u001b[0;32m    779\u001b[0m \u001b[1;33m\u001b[0m\u001b[0m\n\u001b[1;32m--> 780\u001b[1;33m     \u001b[0mfile\u001b[0m \u001b[1;33m=\u001b[0m \u001b[0mgetsourcefile\u001b[0m\u001b[1;33m(\u001b[0m\u001b[0mobject\u001b[0m\u001b[1;33m)\u001b[0m\u001b[1;33m\u001b[0m\u001b[1;33m\u001b[0m\u001b[0m\n\u001b[0m\u001b[0;32m    781\u001b[0m     \u001b[1;32mif\u001b[0m \u001b[0mfile\u001b[0m\u001b[1;33m:\u001b[0m\u001b[1;33m\u001b[0m\u001b[1;33m\u001b[0m\u001b[0m\n\u001b[0;32m    782\u001b[0m         \u001b[1;31m# Invalidate cache if needed.\u001b[0m\u001b[1;33m\u001b[0m\u001b[1;33m\u001b[0m\u001b[1;33m\u001b[0m\u001b[0m\n",
      "\u001b[1;32mM:\\ProgramData\\Anaconda3\\lib\\inspect.py\u001b[0m in \u001b[0;36mgetsourcefile\u001b[1;34m(object)\u001b[0m\n\u001b[0;32m    694\u001b[0m     \u001b[0mReturn\u001b[0m \u001b[1;32mNone\u001b[0m \u001b[1;32mif\u001b[0m \u001b[0mno\u001b[0m \u001b[0mway\u001b[0m \u001b[0mcan\u001b[0m \u001b[0mbe\u001b[0m \u001b[0midentified\u001b[0m \u001b[0mto\u001b[0m \u001b[0mget\u001b[0m \u001b[0mthe\u001b[0m \u001b[0msource\u001b[0m\u001b[1;33m.\u001b[0m\u001b[1;33m\u001b[0m\u001b[1;33m\u001b[0m\u001b[0m\n\u001b[0;32m    695\u001b[0m     \"\"\"\n\u001b[1;32m--> 696\u001b[1;33m     \u001b[0mfilename\u001b[0m \u001b[1;33m=\u001b[0m \u001b[0mgetfile\u001b[0m\u001b[1;33m(\u001b[0m\u001b[0mobject\u001b[0m\u001b[1;33m)\u001b[0m\u001b[1;33m\u001b[0m\u001b[1;33m\u001b[0m\u001b[0m\n\u001b[0m\u001b[0;32m    697\u001b[0m     \u001b[0mall_bytecode_suffixes\u001b[0m \u001b[1;33m=\u001b[0m \u001b[0mimportlib\u001b[0m\u001b[1;33m.\u001b[0m\u001b[0mmachinery\u001b[0m\u001b[1;33m.\u001b[0m\u001b[0mDEBUG_BYTECODE_SUFFIXES\u001b[0m\u001b[1;33m[\u001b[0m\u001b[1;33m:\u001b[0m\u001b[1;33m]\u001b[0m\u001b[1;33m\u001b[0m\u001b[1;33m\u001b[0m\u001b[0m\n\u001b[0;32m    698\u001b[0m     \u001b[0mall_bytecode_suffixes\u001b[0m \u001b[1;33m+=\u001b[0m \u001b[0mimportlib\u001b[0m\u001b[1;33m.\u001b[0m\u001b[0mmachinery\u001b[0m\u001b[1;33m.\u001b[0m\u001b[0mOPTIMIZED_BYTECODE_SUFFIXES\u001b[0m\u001b[1;33m[\u001b[0m\u001b[1;33m:\u001b[0m\u001b[1;33m]\u001b[0m\u001b[1;33m\u001b[0m\u001b[1;33m\u001b[0m\u001b[0m\n",
      "\u001b[1;32mM:\\ProgramData\\Anaconda3\\lib\\inspect.py\u001b[0m in \u001b[0;36mgetfile\u001b[1;34m(object)\u001b[0m\n\u001b[0;32m    674\u001b[0m     \u001b[1;32mif\u001b[0m \u001b[0miscode\u001b[0m\u001b[1;33m(\u001b[0m\u001b[0mobject\u001b[0m\u001b[1;33m)\u001b[0m\u001b[1;33m:\u001b[0m\u001b[1;33m\u001b[0m\u001b[1;33m\u001b[0m\u001b[0m\n\u001b[0;32m    675\u001b[0m         \u001b[1;32mreturn\u001b[0m \u001b[0mobject\u001b[0m\u001b[1;33m.\u001b[0m\u001b[0mco_filename\u001b[0m\u001b[1;33m\u001b[0m\u001b[1;33m\u001b[0m\u001b[0m\n\u001b[1;32m--> 676\u001b[1;33m     raise TypeError('module, class, method, function, traceback, frame, or '\n\u001b[0m\u001b[0;32m    677\u001b[0m                     'code object was expected, got {}'.format(\n\u001b[0;32m    678\u001b[0m                     type(object).__name__))\n",
      "\u001b[1;31mTypeError\u001b[0m: module, class, method, function, traceback, frame, or code object was expected, got ufunc"
     ]
    }
   ],
   "source": [
    "#sc.bdtr?\n",
    "inspect.getsource(sc.bdtr)"
   ]
  },
  {
   "cell_type": "code",
   "execution_count": 11,
   "id": "19c7a756-d779-4f9d-8dc1-33102053f292",
   "metadata": {},
   "outputs": [
    {
     "data": {
      "text/plain": [
       "\u001b[1;31mInit signature:\u001b[0m \u001b[0mnp\u001b[0m\u001b[1;33m.\u001b[0m\u001b[0mrandom\u001b[0m\u001b[1;33m.\u001b[0m\u001b[0mRandomState\u001b[0m\u001b[1;33m(\u001b[0m\u001b[0mself\u001b[0m\u001b[1;33m,\u001b[0m \u001b[1;33m/\u001b[0m\u001b[1;33m,\u001b[0m \u001b[1;33m*\u001b[0m\u001b[0margs\u001b[0m\u001b[1;33m,\u001b[0m \u001b[1;33m**\u001b[0m\u001b[0mkwargs\u001b[0m\u001b[1;33m)\u001b[0m\u001b[1;33m\u001b[0m\u001b[1;33m\u001b[0m\u001b[0m\n",
       "\u001b[1;31mDocstring:\u001b[0m     \n",
       "RandomState(seed=None)\n",
       "\n",
       "Container for the slow Mersenne Twister pseudo-random number generator.\n",
       "Consider using a different BitGenerator with the Generator container\n",
       "instead.\n",
       "\n",
       "`RandomState` and `Generator` expose a number of methods for generating\n",
       "random numbers drawn from a variety of probability distributions. In\n",
       "addition to the distribution-specific arguments, each method takes a\n",
       "keyword argument `size` that defaults to ``None``. If `size` is ``None``,\n",
       "then a single value is generated and returned. If `size` is an integer,\n",
       "then a 1-D array filled with generated values is returned. If `size` is a\n",
       "tuple, then an array with that shape is filled and returned.\n",
       "\n",
       "**Compatibility Guarantee**\n",
       "\n",
       "A fixed bit generator using a fixed seed and a fixed series of calls to\n",
       "'RandomState' methods using the same parameters will always produce the\n",
       "same results up to roundoff error except when the values were incorrect.\n",
       "`RandomState` is effectively frozen and will only receive updates that\n",
       "are required by changes in the the internals of Numpy. More substantial\n",
       "changes, including algorithmic improvements, are reserved for\n",
       "`Generator`.\n",
       "\n",
       "Parameters\n",
       "----------\n",
       "seed : {None, int, array_like, BitGenerator}, optional\n",
       "    Random seed used to initialize the pseudo-random number generator or\n",
       "    an instantized BitGenerator.  If an integer or array, used as a seed for\n",
       "    the MT19937 BitGenerator. Values can be any integer between 0 and\n",
       "    2**32 - 1 inclusive, an array (or other sequence) of such integers,\n",
       "    or ``None`` (the default).  If `seed` is ``None``, then the `MT19937`\n",
       "    BitGenerator is initialized by reading data from ``/dev/urandom``\n",
       "    (or the Windows analogue) if available or seed from the clock\n",
       "    otherwise.\n",
       "\n",
       "Notes\n",
       "-----\n",
       "The Python stdlib module \"random\" also contains a Mersenne Twister\n",
       "pseudo-random number generator with a number of methods that are similar\n",
       "to the ones available in `RandomState`. `RandomState`, besides being\n",
       "NumPy-aware, has the advantage that it provides a much larger number\n",
       "of probability distributions to choose from.\n",
       "\n",
       "See Also\n",
       "--------\n",
       "Generator\n",
       "MT19937\n",
       "numpy.random.BitGenerator\n",
       "\u001b[1;31mFile:\u001b[0m           m:\\programdata\\anaconda3\\lib\\site-packages\\numpy\\random\\mtrand.cp38-win_amd64.pyd\n",
       "\u001b[1;31mType:\u001b[0m           type\n",
       "\u001b[1;31mSubclasses:\u001b[0m     \n"
      ]
     },
     "metadata": {},
     "output_type": "display_data"
    }
   ],
   "source": [
    "import numpy as np\n",
    "np.random.RandomState?"
   ]
  },
  {
   "cell_type": "code",
   "execution_count": 12,
   "id": "9a33db59-3ada-4d87-bd84-6a92413150fa",
   "metadata": {},
   "outputs": [
    {
     "data": {
      "text/plain": [
       "\u001b[1;31mInit signature:\u001b[0m \u001b[0mnp\u001b[0m\u001b[1;33m.\u001b[0m\u001b[0mrandom\u001b[0m\u001b[1;33m.\u001b[0m\u001b[0mGenerator\u001b[0m\u001b[1;33m(\u001b[0m\u001b[0mself\u001b[0m\u001b[1;33m,\u001b[0m \u001b[1;33m/\u001b[0m\u001b[1;33m,\u001b[0m \u001b[1;33m*\u001b[0m\u001b[0margs\u001b[0m\u001b[1;33m,\u001b[0m \u001b[1;33m**\u001b[0m\u001b[0mkwargs\u001b[0m\u001b[1;33m)\u001b[0m\u001b[1;33m\u001b[0m\u001b[1;33m\u001b[0m\u001b[0m\n",
       "\u001b[1;31mDocstring:\u001b[0m     \n",
       "Generator(bit_generator)\n",
       "\n",
       "Container for the BitGenerators.\n",
       "\n",
       "``Generator`` exposes a number of methods for generating random\n",
       "numbers drawn from a variety of probability distributions. In addition to\n",
       "the distribution-specific arguments, each method takes a keyword argument\n",
       "`size` that defaults to ``None``. If `size` is ``None``, then a single\n",
       "value is generated and returned. If `size` is an integer, then a 1-D\n",
       "array filled with generated values is returned. If `size` is a tuple,\n",
       "then an array with that shape is filled and returned.\n",
       "\n",
       "The function :func:`numpy.random.default_rng` will instantiate\n",
       "a `Generator` with numpy's default `BitGenerator`.\n",
       "\n",
       "**No Compatibility Guarantee**\n",
       "\n",
       "``Generator`` does not provide a version compatibility guarantee. In\n",
       "particular, as better algorithms evolve the bit stream may change.\n",
       "\n",
       "Parameters\n",
       "----------\n",
       "bit_generator : BitGenerator\n",
       "    BitGenerator to use as the core generator.\n",
       "\n",
       "Notes\n",
       "-----\n",
       "The Python stdlib module `random` contains pseudo-random number generator\n",
       "with a number of methods that are similar to the ones available in\n",
       "``Generator``. It uses Mersenne Twister, and this bit generator can\n",
       "be accessed using ``MT19937``. ``Generator``, besides being\n",
       "NumPy-aware, has the advantage that it provides a much larger number\n",
       "of probability distributions to choose from.\n",
       "\n",
       "Examples\n",
       "--------\n",
       ">>> from numpy.random import Generator, PCG64\n",
       ">>> rg = Generator(PCG64())\n",
       ">>> rg.standard_normal()\n",
       "-0.203  # random\n",
       "\n",
       "See Also\n",
       "--------\n",
       "default_rng : Recommended constructor for `Generator`.\n",
       "\u001b[1;31mFile:\u001b[0m           m:\\programdata\\anaconda3\\lib\\site-packages\\numpy\\random\\_generator.cp38-win_amd64.pyd\n",
       "\u001b[1;31mType:\u001b[0m           type\n",
       "\u001b[1;31mSubclasses:\u001b[0m     \n"
      ]
     },
     "metadata": {},
     "output_type": "display_data"
    }
   ],
   "source": [
    "np.random.Generator?"
   ]
  },
  {
   "cell_type": "code",
   "execution_count": 13,
   "id": "18ae3411-7195-464c-bd33-b935c4e7efc7",
   "metadata": {},
   "outputs": [
    {
     "data": {
      "text/plain": [
       "\u001b[1;31mType:\u001b[0m        module\n",
       "\u001b[1;31mString form:\u001b[0m <module 'numpy.random' from 'M:\\\\ProgramData\\\\Anaconda3\\\\lib\\\\site-packages\\\\numpy\\\\random\\\\__init__.py'>\n",
       "\u001b[1;31mFile:\u001b[0m        m:\\programdata\\anaconda3\\lib\\site-packages\\numpy\\random\\__init__.py\n",
       "\u001b[1;31mDocstring:\u001b[0m  \n",
       "========================\n",
       "Random Number Generation\n",
       "========================\n",
       "\n",
       "Use ``default_rng()`` to create a `Generator` and call its methods.\n",
       "\n",
       "=============== =========================================================\n",
       "Generator\n",
       "--------------- ---------------------------------------------------------\n",
       "Generator       Class implementing all of the random number distributions\n",
       "default_rng     Default constructor for ``Generator``\n",
       "=============== =========================================================\n",
       "\n",
       "============================================= ===\n",
       "BitGenerator Streams that work with Generator\n",
       "--------------------------------------------- ---\n",
       "MT19937\n",
       "PCG64\n",
       "Philox\n",
       "SFC64\n",
       "============================================= ===\n",
       "\n",
       "============================================= ===\n",
       "Getting entropy to initialize a BitGenerator\n",
       "--------------------------------------------- ---\n",
       "SeedSequence\n",
       "============================================= ===\n",
       "\n",
       "\n",
       "Legacy\n",
       "------\n",
       "\n",
       "For backwards compatibility with previous versions of numpy before 1.17, the\n",
       "various aliases to the global `RandomState` methods are left alone and do not\n",
       "use the new `Generator` API.\n",
       "\n",
       "==================== =========================================================\n",
       "Utility functions\n",
       "-------------------- ---------------------------------------------------------\n",
       "random               Uniformly distributed floats over ``[0, 1)``\n",
       "bytes                Uniformly distributed random bytes.\n",
       "permutation          Randomly permute a sequence / generate a random sequence.\n",
       "shuffle              Randomly permute a sequence in place.\n",
       "choice               Random sample from 1-D array.\n",
       "==================== =========================================================\n",
       "\n",
       "==================== =========================================================\n",
       "Compatibility\n",
       "functions - removed\n",
       "in the new API\n",
       "-------------------- ---------------------------------------------------------\n",
       "rand                 Uniformly distributed values.\n",
       "randn                Normally distributed values.\n",
       "ranf                 Uniformly distributed floating point numbers.\n",
       "random_integers      Uniformly distributed integers in a given range.\n",
       "                     (deprecated, use ``integers(..., closed=True)`` instead)\n",
       "random_sample        Alias for `random_sample`\n",
       "randint              Uniformly distributed integers in a given range\n",
       "seed                 Seed the legacy random number generator.\n",
       "==================== =========================================================\n",
       "\n",
       "==================== =========================================================\n",
       "Univariate\n",
       "distributions\n",
       "-------------------- ---------------------------------------------------------\n",
       "beta                 Beta distribution over ``[0, 1]``.\n",
       "binomial             Binomial distribution.\n",
       "chisquare            :math:`\\chi^2` distribution.\n",
       "exponential          Exponential distribution.\n",
       "f                    F (Fisher-Snedecor) distribution.\n",
       "gamma                Gamma distribution.\n",
       "geometric            Geometric distribution.\n",
       "gumbel               Gumbel distribution.\n",
       "hypergeometric       Hypergeometric distribution.\n",
       "laplace              Laplace distribution.\n",
       "logistic             Logistic distribution.\n",
       "lognormal            Log-normal distribution.\n",
       "logseries            Logarithmic series distribution.\n",
       "negative_binomial    Negative binomial distribution.\n",
       "noncentral_chisquare Non-central chi-square distribution.\n",
       "noncentral_f         Non-central F distribution.\n",
       "normal               Normal / Gaussian distribution.\n",
       "pareto               Pareto distribution.\n",
       "poisson              Poisson distribution.\n",
       "power                Power distribution.\n",
       "rayleigh             Rayleigh distribution.\n",
       "triangular           Triangular distribution.\n",
       "uniform              Uniform distribution.\n",
       "vonmises             Von Mises circular distribution.\n",
       "wald                 Wald (inverse Gaussian) distribution.\n",
       "weibull              Weibull distribution.\n",
       "zipf                 Zipf's distribution over ranked data.\n",
       "==================== =========================================================\n",
       "\n",
       "==================== ==========================================================\n",
       "Multivariate\n",
       "distributions\n",
       "-------------------- ----------------------------------------------------------\n",
       "dirichlet            Multivariate generalization of Beta distribution.\n",
       "multinomial          Multivariate generalization of the binomial distribution.\n",
       "multivariate_normal  Multivariate generalization of the normal distribution.\n",
       "==================== ==========================================================\n",
       "\n",
       "==================== =========================================================\n",
       "Standard\n",
       "distributions\n",
       "-------------------- ---------------------------------------------------------\n",
       "standard_cauchy      Standard Cauchy-Lorentz distribution.\n",
       "standard_exponential Standard exponential distribution.\n",
       "standard_gamma       Standard Gamma distribution.\n",
       "standard_normal      Standard normal distribution.\n",
       "standard_t           Standard Student's t-distribution.\n",
       "==================== =========================================================\n",
       "\n",
       "==================== =========================================================\n",
       "Internal functions\n",
       "-------------------- ---------------------------------------------------------\n",
       "get_state            Get tuple representing internal state of generator.\n",
       "set_state            Set state of generator.\n",
       "==================== =========================================================\n"
      ]
     },
     "metadata": {},
     "output_type": "display_data"
    }
   ],
   "source": [
    "np.random?"
   ]
  },
  {
   "cell_type": "code",
   "execution_count": null,
   "id": "f6184b92-9488-4f91-a6f4-a3500968bee2",
   "metadata": {},
   "outputs": [],
   "source": []
  }
 ],
 "metadata": {
  "kernelspec": {
   "display_name": "Python 3",
   "language": "python",
   "name": "python3"
  },
  "language_info": {
   "codemirror_mode": {
    "name": "ipython",
    "version": 3
   },
   "file_extension": ".py",
   "mimetype": "text/x-python",
   "name": "python",
   "nbconvert_exporter": "python",
   "pygments_lexer": "ipython3",
   "version": "3.8.8"
  }
 },
 "nbformat": 4,
 "nbformat_minor": 5
}
