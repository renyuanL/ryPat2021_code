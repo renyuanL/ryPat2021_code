{
 "cells": [
  {
   "cell_type": "markdown",
   "id": "473e4843-d538-41bc-8018-f4f06f0b5dd8",
   "metadata": {},
   "source": [
    "# Gradient: Use Bell-shape function as an example\n"
   ]
  },
  {
   "cell_type": "code",
   "execution_count": 333,
   "id": "2b9a4bf6-30e9-487b-8c69-9f51a351b121",
   "metadata": {},
   "outputs": [],
   "source": [
    "\n",
    "from ryPat import *"
   ]
  },
  {
   "cell_type": "code",
   "execution_count": 334,
   "id": "5d6055e1-29b4-4213-a8cd-8a23d18a1655",
   "metadata": {},
   "outputs": [],
   "source": [
    "def f(x,y):\n",
    "    z= x**2 + y**3\n",
    "    return z\n",
    "\n",
    "x, y, dx, dy, ϵ1, ϵ2= sm.symbols(\n",
    "    'x, y, dx, dy, ϵ1, ϵ2')\n",
    "\n",
    "dxf=  f(x+dx, y)- f(x,y)\n",
    "dxf1= f(x+dx, y+dy)- f(x,y+dy)\n",
    "dyf=  f(x, y+dy)- f(x,y)\n",
    "dyf1= f(x+dx, y+dy)- f(x+dx,y)\n",
    "df=   f(x+dx, y+dy)- f(x,y)"
   ]
  },
  {
   "cell_type": "code",
   "execution_count": 335,
   "id": "5b4f6dcd-119d-4da4-a253-c90e8bb088fe",
   "metadata": {},
   "outputs": [
    {
     "data": {
      "image/png": "[encoded data removed]",
      "text/latex": [
       "$\\displaystyle dx^{2} + 2 dx x + dy^{3} + 3 dy^{2} y + 3 dy y^{2}$"
      ],
      "text/plain": [
       "  2              3       2           2\n",
       "dx  + 2⋅dx⋅x + dy  + 3⋅dy ⋅y + 3⋅dy⋅y "
      ]
     },
     "execution_count": 335,
     "metadata": {},
     "output_type": "execute_result"
    }
   ],
   "source": [
    "df.expand()"
   ]
  },
  {
   "cell_type": "code",
   "execution_count": 336,
   "id": "9b6bd66c-85eb-48cd-ab14-b517b81532a7",
   "metadata": {},
   "outputs": [
    {
     "data": {
      "image/png": "[encoded data removed]",
      "text/latex": [
       "$\\displaystyle dx^{2} + 2 dx x + dy^{3} + 3 dy^{2} y + 3 dy y^{2}$"
      ],
      "text/plain": [
       "  2              3       2           2\n",
       "dx  + 2⋅dx⋅x + dy  + 3⋅dy ⋅y + 3⋅dy⋅y "
      ]
     },
     "execution_count": 336,
     "metadata": {},
     "output_type": "execute_result"
    }
   ],
   "source": [
    "(dxf+dyf).expand()"
   ]
  },
  {
   "cell_type": "code",
   "execution_count": 337,
   "id": "6bdf5aa8-e1d6-4d1b-9d9f-b84139ee13c0",
   "metadata": {},
   "outputs": [
    {
     "data": {
      "image/png": "[encoded data removed]",
      "text/latex": [
       "$\\displaystyle dx^{2} + 2 dx x + dy^{3} + 3 dy^{2} y + 3 dy y^{2}$"
      ],
      "text/plain": [
       "  2              3       2           2\n",
       "dx  + 2⋅dx⋅x + dy  + 3⋅dy ⋅y + 3⋅dy⋅y "
      ]
     },
     "execution_count": 337,
     "metadata": {},
     "output_type": "execute_result"
    }
   ],
   "source": [
    "(dyf+dxf1).expand()"
   ]
  },
  {
   "cell_type": "code",
   "execution_count": 338,
   "id": "4849e857-71db-405a-8382-e7d414a5954a",
   "metadata": {},
   "outputs": [
    {
     "data": {
      "text/plain": [
       "True"
      ]
     },
     "execution_count": 338,
     "metadata": {},
     "output_type": "execute_result"
    }
   ],
   "source": [
    "dxf == dxf1.subs(dy,0)"
   ]
  },
  {
   "cell_type": "code",
   "execution_count": 339,
   "id": "f199e65d-13b9-4467-ab74-b4775a117cab",
   "metadata": {},
   "outputs": [
    {
     "data": {
      "text/plain": [
       "True"
      ]
     },
     "execution_count": 339,
     "metadata": {},
     "output_type": "execute_result"
    }
   ],
   "source": [
    "dyf == dyf1.subs(dx,0)"
   ]
  },
  {
   "cell_type": "code",
   "execution_count": 340,
   "id": "c4abe7c7-7555-4328-8d6d-59b9c1d98bc9",
   "metadata": {},
   "outputs": [
    {
     "data": {
      "image/png": "[encoded data removed]",
      "text/latex": [
       "$\\displaystyle dx^{2} + 2 dx x + dy^{3} + 3 dy^{2} y + 3 dy y^{2} + x^{2} + y^{3}$"
      ],
      "text/plain": [
       "  2              3       2           2    2    3\n",
       "dx  + 2⋅dx⋅x + dy  + 3⋅dy ⋅y + 3⋅dy⋅y  + x  + y "
      ]
     },
     "execution_count": 340,
     "metadata": {},
     "output_type": "execute_result"
    }
   ],
   "source": [
    "f(x+dx,y+dy).expand()"
   ]
  },
  {
   "cell_type": "code",
   "execution_count": 341,
   "id": "3f92c5f4-8fc6-4469-8fc6-33c6260c0ff8",
   "metadata": {},
   "outputs": [
    {
     "name": "stdout",
     "output_type": "stream",
     "text": [
      "dx**2 + 2*dx*x + dy**3 + 3*dy**2*y + 3*dy*y**2 + x**2 + y**3\n"
     ]
    }
   ],
   "source": [
    "print(_)"
   ]
  },
  {
   "cell_type": "code",
   "execution_count": 342,
   "id": "5ebc7d25-093c-4a47-94aa-04906ee6840c",
   "metadata": {},
   "outputs": [
    {
     "data": {
      "image/png": "[encoded data removed]",
      "text/latex": [
       "$\\displaystyle - x^{2} - y^{3} + \\left(x + ϵ_{1}\\right)^{2} + \\left(y + ϵ_{2}\\right)^{3}$"
      ],
      "text/plain": [
       "   2    3           2           3\n",
       "- x  - y  + (x + ϵ₁)  + (y + ϵ₂) "
      ]
     },
     "execution_count": 342,
     "metadata": {},
     "output_type": "execute_result"
    }
   ],
   "source": [
    "f(x+ϵ1, y+ϵ2)-f(x, y)"
   ]
  },
  {
   "cell_type": "code",
   "execution_count": 343,
   "id": "e39e1c03-1bae-4457-9335-ea21866b843c",
   "metadata": {},
   "outputs": [
    {
     "data": {
      "image/png": "[encoded data removed]",
      "text/latex": [
       "$\\displaystyle 2 x ϵ_{1} + 3 y^{2} ϵ_{2} + 3 y ϵ_{2}^{2} + ϵ_{1}^{2} + ϵ_{2}^{3}$"
      ],
      "text/plain": [
       "            2            2     2     3\n",
       "2⋅x⋅ϵ₁ + 3⋅y ⋅ϵ₂ + 3⋅y⋅ϵ₂  + ϵ₁  + ϵ₂ "
      ]
     },
     "execution_count": 343,
     "metadata": {},
     "output_type": "execute_result"
    }
   ],
   "source": [
    "_.expand()"
   ]
  },
  {
   "cell_type": "code",
   "execution_count": 344,
   "id": "3aa0f38c-79c4-4a6e-9350-09b1b611629c",
   "metadata": {},
   "outputs": [
    {
     "data": {
      "image/png": "[encoded data removed]",
      "text/latex": [
       "$\\displaystyle - y^{3} + \\left(y + ϵ_{2}\\right)^{3}$"
      ],
      "text/plain": [
       "   3           3\n",
       "- y  + (y + ϵ₂) "
      ]
     },
     "execution_count": 344,
     "metadata": {},
     "output_type": "execute_result"
    }
   ],
   "source": [
    "f(x+ϵ1, y+ϵ2)-f(x+ϵ1, y)"
   ]
  },
  {
   "cell_type": "code",
   "execution_count": 345,
   "id": "148841c8-569e-4039-8832-5cee3849d276",
   "metadata": {},
   "outputs": [
    {
     "data": {
      "image/png": "[encoded data removed]",
      "text/latex": [
       "$\\displaystyle - x^{2} + \\left(x + ϵ_{1}\\right)^{2}$"
      ],
      "text/plain": [
       "   2           2\n",
       "- x  + (x + ϵ₁) "
      ]
     },
     "execution_count": 345,
     "metadata": {},
     "output_type": "execute_result"
    }
   ],
   "source": [
    "f(x+ϵ1, y+ϵ2)-f(x, y+ϵ2)"
   ]
  },
  {
   "cell_type": "code",
   "execution_count": 346,
   "id": "7c3e5ed2-2f99-4c30-84a8-12735a55345a",
   "metadata": {},
   "outputs": [
    {
     "data": {
      "image/png": "[encoded data removed]",
      "text/latex": [
       "$\\displaystyle \\left(ϵ_{1} + 1\\right)^{2} + \\left(ϵ_{2} + 1\\right)^{3} - 2$"
      ],
      "text/plain": [
       "        2           3    \n",
       "(ϵ₁ + 1)  + (ϵ₂ + 1)  - 2"
      ]
     },
     "execution_count": 346,
     "metadata": {},
     "output_type": "execute_result"
    }
   ],
   "source": [
    "x=y=1\n",
    "\n",
    "f(x+ϵ1, y+ϵ2) -f(x, y)"
   ]
  },
  {
   "cell_type": "code",
   "execution_count": 347,
   "id": "56b22c19-8b23-4829-94bd-f792b6987e8a",
   "metadata": {},
   "outputs": [
    {
     "data": {
      "image/png": "[encoded data removed]",
      "text/latex": [
       "$\\displaystyle \\left(ϵ_{2} + 1\\right)^{3} - 1$"
      ],
      "text/plain": [
       "        3    \n",
       "(ϵ₂ + 1)  - 1"
      ]
     },
     "execution_count": 347,
     "metadata": {},
     "output_type": "execute_result"
    }
   ],
   "source": [
    "f(x+ϵ1, y+ϵ2) -f(x+ϵ1, y)"
   ]
  },
  {
   "cell_type": "code",
   "execution_count": 348,
   "id": "404df2b8-7c4d-4f0c-9bef-bc8ed3a4a7ab",
   "metadata": {},
   "outputs": [
    {
     "data": {
      "image/png": "[encoded data removed]",
      "text/latex": [
       "$\\displaystyle \\left(ϵ_{1} + 1\\right)^{2} - 1$"
      ],
      "text/plain": [
       "        2    \n",
       "(ϵ₁ + 1)  - 1"
      ]
     },
     "execution_count": 348,
     "metadata": {},
     "output_type": "execute_result"
    }
   ],
   "source": [
    "f(x+ϵ1, y+ϵ2) -f(x, y+ϵ2)"
   ]
  },
  {
   "cell_type": "code",
   "execution_count": 349,
   "id": "26655c0b-36bb-4a27-9a11-865ef9099b41",
   "metadata": {},
   "outputs": [
    {
     "data": {
      "image/png": "[encoded data removed]",
      "text/latex": [
       "$\\displaystyle \\left(ϵ_{1} + 1\\right)^{2} - 1$"
      ],
      "text/plain": [
       "        2    \n",
       "(ϵ₁ + 1)  - 1"
      ]
     },
     "execution_count": 349,
     "metadata": {},
     "output_type": "execute_result"
    }
   ],
   "source": [
    "f(x+ϵ1, y)    -f(x, y)"
   ]
  },
  {
   "cell_type": "code",
   "execution_count": 350,
   "id": "aa6b1bb1-6d23-44c2-a31d-813464c27e0c",
   "metadata": {},
   "outputs": [
    {
     "data": {
      "image/png": "[encoded data removed]",
      "text/latex": [
       "$\\displaystyle \\left(ϵ_{2} + 1\\right)^{3} - 1$"
      ],
      "text/plain": [
       "        3    \n",
       "(ϵ₂ + 1)  - 1"
      ]
     },
     "execution_count": 350,
     "metadata": {},
     "output_type": "execute_result"
    }
   ],
   "source": [
    "f(x,    y+ϵ2) -f(x, y)"
   ]
  },
  {
   "cell_type": "code",
   "execution_count": 351,
   "id": "3a72d434-dc01-422e-9c47-405636fdc5a3",
   "metadata": {},
   "outputs": [],
   "source": [
    "%matplotlib qt\n",
    "\n",
    "def f(x,y):\n",
    "    z= sm.exp(-(x**2 + y**2))\n",
    "    return z\n",
    "\n",
    "x, y= sm.symbols('x, y')\n",
    "\n",
    "z= f(x, y)\n",
    "xmin, xmax, ymin, ymax= [-5,+5,-5,+5]\n",
    "title= f'z= ${sm.latex(z)}$'\n",
    "\n",
    "def ryPlot3d(z, xmin= -5, xmax= 5, ymin= -5, ymax =5, title= 'z= f(x,y)'):\n",
    "    \n",
    "    title= f'z= {z} = ${sm.latex(z)}$'\n",
    " \n",
    "    sm.plotting.plot3d( \n",
    "         z,\n",
    "         (x,xmin,xmax),\n",
    "         (y,ymin,ymax),\n",
    "         xlabel= 'x',\n",
    "         ylabel= 'y',\n",
    "         title= title)\n",
    "    \n",
    "ryPlot3d(z)"
   ]
  },
  {
   "cell_type": "code",
   "execution_count": null,
   "id": "f3ed247f-39db-4131-b677-5133e6b71bc5",
   "metadata": {},
   "outputs": [],
   "source": []
  },
  {
   "cell_type": "code",
   "execution_count": 352,
   "id": "6e515dcd-b223-4a1f-b24a-e5ab6907e264",
   "metadata": {},
   "outputs": [],
   "source": [
    "\n",
    "#dir(z)"
   ]
  },
  {
   "cell_type": "code",
   "execution_count": 353,
   "id": "0d93e1cb-b798-435b-a092-8d7681a4fb93",
   "metadata": {},
   "outputs": [],
   "source": [
    "\n",
    "z1= f(x,y).diff(x)\n",
    "ryPlot3d(z1)"
   ]
  },
  {
   "cell_type": "code",
   "execution_count": 354,
   "id": "c4cb06b4-d47d-43be-9c6f-c3e9fba7df84",
   "metadata": {},
   "outputs": [],
   "source": [
    "z2= f(x,y).diff(y)\n",
    "ryPlot3d(z2)\n"
   ]
  },
  {
   "cell_type": "code",
   "execution_count": 355,
   "id": "8a226b5a-90d3-473b-87df-6146a5e721a3",
   "metadata": {},
   "outputs": [],
   "source": [
    "z11= f(x,y).diff(x).diff(x)\n",
    "ryPlot3d(z11)"
   ]
  },
  {
   "cell_type": "code",
   "execution_count": 356,
   "id": "3a2cee53-bfa3-4453-a15e-9062ff2180d8",
   "metadata": {},
   "outputs": [],
   "source": [
    "z12= f(x,y).diff(x).diff(y)\n",
    "ryPlot3d(z12)"
   ]
  },
  {
   "cell_type": "code",
   "execution_count": 357,
   "id": "005215a3-c27a-4b82-9c0a-cbf5bb1bf40f",
   "metadata": {},
   "outputs": [],
   "source": [
    "z111= f(x,y).diff(x).diff(x).diff(x)\n",
    "ryPlot3d(z111)\n",
    "\n",
    "z112= f(x,y).diff(x).diff(x).diff(y)\n",
    "ryPlot3d(z112)\n"
   ]
  },
  {
   "cell_type": "code",
   "execution_count": null,
   "id": "7b57009f-b525-4b90-a1e0-5f64009382e8",
   "metadata": {},
   "outputs": [],
   "source": []
  },
  {
   "cell_type": "code",
   "execution_count": 358,
   "id": "3aa2c310-20a9-4a21-9824-121a285ba71f",
   "metadata": {},
   "outputs": [
    {
     "data": {
      "image/png": "[encoded data removed]",
      "text/latex": [
       "$\\displaystyle e^{- x^{2} - y^{2}}$"
      ],
      "text/plain": [
       "    2    2\n",
       " - x  - y \n",
       "ℯ         "
      ]
     },
     "execution_count": 358,
     "metadata": {},
     "output_type": "execute_result"
    }
   ],
   "source": [
    "z"
   ]
  },
  {
   "cell_type": "code",
   "execution_count": null,
   "id": "4f9d42cc-1353-4ccc-83a0-10d6390df1fb",
   "metadata": {},
   "outputs": [],
   "source": []
  },
  {
   "cell_type": "code",
   "execution_count": null,
   "id": "8ccf3237-5afa-4c56-8693-5bf4964c68c7",
   "metadata": {},
   "outputs": [],
   "source": []
  },
  {
   "cell_type": "code",
   "execution_count": null,
   "id": "dcff083c-5b24-4c48-8c3e-684efe0ab659",
   "metadata": {},
   "outputs": [],
   "source": []
  },
  {
   "cell_type": "code",
   "execution_count": null,
   "id": "7f46ca77-7ee7-414b-bd0e-3564fb8d0a4a",
   "metadata": {},
   "outputs": [],
   "source": []
  },
  {
   "cell_type": "code",
   "execution_count": null,
   "id": "336b5888-9ffa-49a0-92dc-0de56669418a",
   "metadata": {},
   "outputs": [],
   "source": []
  },
  {
   "cell_type": "code",
   "execution_count": null,
   "id": "0614c744-33b7-4abb-86ae-94fa30eed1f4",
   "metadata": {},
   "outputs": [],
   "source": []
  },
  {
   "cell_type": "code",
   "execution_count": 360,
   "id": "fa556b5e-2cb5-4395-b2b1-739fe2ca3344",
   "metadata": {},
   "outputs": [],
   "source": [
    "import numpy as np\n",
    "import matplotlib.pyplot as pl\n",
    "from mpl_toolkits import mplot3d\n",
    "\n",
    "def ryContour3d(z, xmin= -5, xmax= 5, ymin= -5, ymax =5, title= 'z= f(x,y)'):\n",
    "    \n",
    "    xrange= np.linspace(xmin,xmax,101),\n",
    "    yrange= np.linspace(ymin,ymax,101)\n",
    "\n",
    "    xm, ym= np.meshgrid(\n",
    "        xrange, yrange)\n",
    "\n",
    "    zm= sm.lambdify((x,y), z)(xm,ym)\n",
    "\n",
    "    #fg= pl.figure()\n",
    "\n",
    "    ax= pl.axes(projection='3d', \n",
    "                xlabel= 'x', \n",
    "                ylabel= 'y', \n",
    "                title= title)\n",
    "\n",
    "    ax.contour3D(xm, ym, zm, 100, cmap='rainbow')\n",
    "    \n",
    "    def _ryPlotGradient():\n",
    "        downSampleFactor= 5\n",
    "        x0, y0, z0= np.meshgrid(\n",
    "            xrange[::downSampleFactor],\n",
    "            yrange[::downSampleFactor],\n",
    "            np.linspace(np.min(zm), np.min(zm)+.1, 1)\n",
    "            )\n",
    "\n",
    "        dz_dx_m= sm.lambdify((x,y),dz_dx)(x0,y0)\n",
    "        dz_dy_m= sm.lambdify((x,y),dz_dy)(x0,y0)\n",
    "\n",
    "        u= dz_dx_m\n",
    "        v= dz_dy_m\n",
    "        w= np.zeros_like(x0)\n",
    "\n",
    "        scaleLength= min(1/np.max([u,v]), .5)\n",
    "\n",
    "        ax.quiver(x0, y0, z0, \n",
    "                  u, v, w, \n",
    "                  length= scaleLength, \n",
    "                  color = 'gray')\n",
    "    \n",
    "    _ryPlotGradient()\n",
    "   \n",
    "    return ax\n",
    "\n",
    "#ryContour3d(z, title= title)"
   ]
  },
  {
   "cell_type": "code",
   "execution_count": null,
   "id": "b6ee0ece-d8bd-4f4e-af7d-c3635a9a60b1",
   "metadata": {},
   "outputs": [],
   "source": [
    "\n"
   ]
  },
  {
   "cell_type": "markdown",
   "id": "465fb31b-9b69-4c5b-9d34-2373d7b10177",
   "metadata": {},
   "source": [
    "# check the 1-d and 2-d normal distribution\n"
   ]
  },
  {
   "cell_type": "code",
   "execution_count": 361,
   "id": "1440e4fb-baf5-4fed-8560-a46c0faf6d65",
   "metadata": {},
   "outputs": [
    {
     "data": {
      "image/png": "[encoded data removed]",
      "text/latex": [
       "$\\displaystyle e^{- x^{2}}$"
      ],
      "text/plain": [
       "   2\n",
       " -x \n",
       "ℯ   "
      ]
     },
     "metadata": {},
     "output_type": "display_data"
    }
   ],
   "source": [
    "def f(x):\n",
    "    y= sm.exp(-x**2)\n",
    "    return y\n",
    "\n",
    "display(f(x))\n",
    "\n",
    "sm.plot(f(x),(x,-3,3))\n",
    "#---------------------\n",
    "\n",
    "# 讓圖形的標示清楚一點\n",
    "p= sm.plot(\n",
    "    f(x),\n",
    "    (x,-3,3),\n",
    "    show=False)\n",
    "p[0].line_color= 'red'\n",
    "p.legend= True\n",
    "p.title= f'''\n",
    "f(x)= ${sm.latex(f(x))}$\n",
    "'''\n",
    "p.show()"
   ]
  },
  {
   "cell_type": "code",
   "execution_count": 362,
   "id": "6766e534-f22b-4c0b-9f49-8281b9adc790",
   "metadata": {},
   "outputs": [],
   "source": [
    "#f= sm.Function('f')\n",
    "#F= sm.Function('F')\n",
    "#ϕ= sm.Function('ϕ')\n",
    "#\n",
    "#sm.Eq(F(x), \n",
    "#      f(t).integrate((t,-sm.oo,x)))"
   ]
  },
  {
   "cell_type": "code",
   "execution_count": 363,
   "id": "efb35dc8-2e16-41cb-96c8-bdd7de91ec1c",
   "metadata": {},
   "outputs": [],
   "source": [
    "#sm.Eq(ϕ(x), \n",
    "#      f(x).diff(x))"
   ]
  },
  {
   "cell_type": "code",
   "execution_count": 364,
   "id": "d7401f58-d755-4975-a7de-3e1bd78fe138",
   "metadata": {},
   "outputs": [],
   "source": [
    "#print(sm.latex(_))"
   ]
  },
  {
   "cell_type": "code",
   "execution_count": null,
   "id": "93f8609a-82ca-4fdf-bf5c-e796aa67766e",
   "metadata": {},
   "outputs": [],
   "source": []
  },
  {
   "cell_type": "code",
   "execution_count": null,
   "id": "b6d5523f-0283-4125-a2fa-eacedf4a61c7",
   "metadata": {},
   "outputs": [],
   "source": []
  },
  {
   "cell_type": "code",
   "execution_count": 365,
   "id": "635d315e-4aab-480b-a2cd-a6abd4901f23",
   "metadata": {},
   "outputs": [
    {
     "data": {
      "image/png": "[encoded data removed]",
      "text/latex": [
       "$\\displaystyle \\frac{\\sqrt{\\pi} \\operatorname{erf}{\\left(x \\right)}}{2} + \\frac{\\sqrt{\\pi}}{2}$"
      ],
      "text/plain": [
       "√π⋅erf(x)   √π\n",
       "───────── + ──\n",
       "    2       2 "
      ]
     },
     "execution_count": 365,
     "metadata": {},
     "output_type": "execute_result"
    }
   ],
   "source": [
    "def F(x):\n",
    "    y= f(t).integrate((t,-sm.oo, x))\n",
    "    return y\n",
    "F(x)"
   ]
  },
  {
   "cell_type": "code",
   "execution_count": 366,
   "id": "9db2f2e8-125a-479b-aa49-0fea86d1e281",
   "metadata": {},
   "outputs": [
    {
     "data": {
      "image/png": "[encoded data removed]",
      "text/latex": [
       "$\\displaystyle \\sqrt{\\pi}$"
      ],
      "text/plain": [
       "√π"
      ]
     },
     "execution_count": 366,
     "metadata": {},
     "output_type": "execute_result"
    }
   ],
   "source": [
    "F(x).subs(x,sm.oo)"
   ]
  },
  {
   "cell_type": "code",
   "execution_count": 367,
   "id": "8a31aaf2-4c90-4fdd-b4c0-6fb0effb14e9",
   "metadata": {},
   "outputs": [
    {
     "data": {
      "image/png": "[encoded data removed]",
      "text/latex": [
       "$\\displaystyle \\frac{\\sqrt{\\pi}}{2}$"
      ],
      "text/plain": [
       "√π\n",
       "──\n",
       "2 "
      ]
     },
     "execution_count": 367,
     "metadata": {},
     "output_type": "execute_result"
    }
   ],
   "source": [
    "F(x).subs(x,0)"
   ]
  },
  {
   "cell_type": "code",
   "execution_count": 368,
   "id": "320826ec-59cf-4089-abda-e65c10ae7a9b",
   "metadata": {},
   "outputs": [
    {
     "data": {
      "image/png": "[encoded data removed]",
      "text/latex": [
       "$\\displaystyle 0$"
      ],
      "text/plain": [
       "0"
      ]
     },
     "execution_count": 368,
     "metadata": {},
     "output_type": "execute_result"
    }
   ],
   "source": [
    "F(x).subs(x,-sm.oo)"
   ]
  },
  {
   "cell_type": "code",
   "execution_count": 369,
   "id": "746327d8-92f0-4d6b-afe4-9e42eada9bbc",
   "metadata": {},
   "outputs": [
    {
     "data": {
      "text/plain": [
       "<sympy.plotting.plot.Plot at 0x2978d01b8b0>"
      ]
     },
     "execution_count": 369,
     "metadata": {},
     "output_type": "execute_result"
    }
   ],
   "source": [
    "sm.plot(F(x),(x,-3,3))"
   ]
  },
  {
   "cell_type": "code",
   "execution_count": 370,
   "id": "6349c0d0-3bab-4c3b-9efa-1eec3c7e73d3",
   "metadata": {},
   "outputs": [],
   "source": [
    "p= sm.plot(\n",
    "    f(x),\n",
    "    F(x), \n",
    "    (x,-3,3),\n",
    "    show=False)\n",
    "p[0].line_color='r'\n",
    "p[1].line_color='g'\n",
    "p.legend= True\n",
    "p.title= f'''\n",
    "f(x)= ${sm.latex(f(x))}$\n",
    "F(x)= ${sm.latex(F(x))}$\n",
    "'''\n",
    "p.show()"
   ]
  },
  {
   "cell_type": "code",
   "execution_count": 371,
   "id": "f1789cc0-965e-42bc-a61e-ba97de5c101c",
   "metadata": {},
   "outputs": [
    {
     "data": {
      "image/png": "[encoded data removed]",
      "text/latex": [
       "$\\displaystyle - 2 x e^{- x^{2}}$"
      ],
      "text/plain": [
       "        2\n",
       "      -x \n",
       "-2⋅x⋅ℯ   "
      ]
     },
     "execution_count": 371,
     "metadata": {},
     "output_type": "execute_result"
    }
   ],
   "source": [
    "def ϕ(x):\n",
    "    y= f(x).diff(x)\n",
    "    return y\n",
    "ϕ(x)"
   ]
  },
  {
   "cell_type": "code",
   "execution_count": 372,
   "id": "ce4f8437-aba3-4a4b-824c-4db3dff2fc42",
   "metadata": {},
   "outputs": [],
   "source": [
    "q= sm.plot(\n",
    "    ϕ(x),\n",
    "    (x,-3,3),\n",
    "    show=False)\n",
    "q[0].line_color= 'blue'\n",
    "p.append(q[0])\n",
    "p.title += f'''\n",
    "ϕ(x)= ${sm.latex(ϕ(x))}$\n",
    "'''\n",
    "p.show()"
   ]
  },
  {
   "cell_type": "code",
   "execution_count": 373,
   "id": "34d9949a-0443-4d0f-96e8-335a66306f97",
   "metadata": {},
   "outputs": [],
   "source": [
    "# 針對 Bell-shape 函數，連續做微分，\n",
    "# 找尋曲線之最高與最低，亦即尋找其微分函數與x軸之交點\n",
    "\n",
    "ϕ0= f(x)\n",
    "ϕ1= f(x).diff(x,1)\n",
    "ϕ2= f(x).diff(x,2)\n",
    "ϕ3= f(x).diff(x,3)\n",
    "ϕ4= f(x).diff(x,4)\n",
    "\n",
    "q= sm.plot(\n",
    "    ϕ0,\n",
    "    ϕ1,\n",
    "    ϕ2,\n",
    "    ϕ3,\n",
    "    ϕ4,\n",
    "    (x,-3,3),\n",
    "    show=False)\n",
    "q[0].line_color= 'red'\n",
    "q[1].line_color= 'blue'\n",
    "q[2].line_color= 'cyan'\n",
    "q[3].line_color= 'magenta'\n",
    "q[4].line_color= 'gray'\n",
    "\n",
    "q.legend= True\n",
    "\n",
    "q.title= f'''\n",
    "$ϕ_0= f(x)= {sm.latex(ϕ0)}$\n",
    "$ϕ_1= {sm.latex(ϕ1)}$\n",
    "$ϕ_2= {sm.latex(ϕ2)}$\n",
    "$ϕ_3= {sm.latex(ϕ3)}$\n",
    "$ϕ_4= {sm.latex(ϕ4)}$\n",
    "'''\n",
    "q.show()"
   ]
  },
  {
   "cell_type": "code",
   "execution_count": 374,
   "id": "a71e40de-1256-49b2-838e-804939d08ca3",
   "metadata": {},
   "outputs": [
    {
     "data": {
      "image/png": "[encoded data removed]",
      "text/latex": [
       "$\\displaystyle \\left[ 0\\right]$"
      ],
      "text/plain": [
       "[0]"
      ]
     },
     "execution_count": 374,
     "metadata": {},
     "output_type": "execute_result"
    }
   ],
   "source": [
    "sm.solve(ϕ1,x)"
   ]
  },
  {
   "cell_type": "code",
   "execution_count": 375,
   "id": "60aee26e-ee44-4c51-a73f-b1ee271eef7f",
   "metadata": {},
   "outputs": [
    {
     "data": {
      "image/png": "[encoded data removed]",
      "text/latex": [
       "$\\displaystyle \\left[ - \\frac{\\sqrt{2}}{2}, \\  \\frac{\\sqrt{2}}{2}\\right]$"
      ],
      "text/plain": [
       "⎡-√2   √2⎤\n",
       "⎢────, ──⎥\n",
       "⎣ 2    2 ⎦"
      ]
     },
     "execution_count": 375,
     "metadata": {},
     "output_type": "execute_result"
    }
   ],
   "source": [
    "sm.solve(ϕ2,x)"
   ]
  },
  {
   "cell_type": "code",
   "execution_count": 376,
   "id": "1e11d82d-8354-4f25-88c1-f9ae28e3aa90",
   "metadata": {},
   "outputs": [
    {
     "data": {
      "image/png": "[encoded data removed]",
      "text/latex": [
       "$\\displaystyle \\left[ 0, \\  - \\frac{\\sqrt{6}}{2}, \\  \\frac{\\sqrt{6}}{2}\\right]$"
      ],
      "text/plain": [
       "⎡   -√6   √6⎤\n",
       "⎢0, ────, ──⎥\n",
       "⎣    2    2 ⎦"
      ]
     },
     "execution_count": 376,
     "metadata": {},
     "output_type": "execute_result"
    }
   ],
   "source": [
    "sm.solve(ϕ3,x)"
   ]
  },
  {
   "cell_type": "code",
   "execution_count": 377,
   "id": "d61649a1-3092-413a-b211-3245bca867a6",
   "metadata": {},
   "outputs": [
    {
     "data": {
      "image/png": "[encoded data removed]",
      "text/latex": [
       "$\\displaystyle \\left[ - \\sqrt{\\frac{3}{2} - \\frac{\\sqrt{6}}{2}}, \\  \\sqrt{\\frac{3}{2} - \\frac{\\sqrt{6}}{2}}, \\  - \\sqrt{\\frac{\\sqrt{6}}{2} + \\frac{3}{2}}, \\  \\sqrt{\\frac{\\sqrt{6}}{2} + \\frac{3}{2}}\\right]$"
      ],
      "text/plain": [
       "⎡     ________      ________       ________      ________⎤\n",
       "⎢    ╱ 3   √6      ╱ 3   √6       ╱ √6   3      ╱ √6   3 ⎥\n",
       "⎢-  ╱  ─ - ── ,   ╱  ─ - ── , -  ╱  ── + ─ ,   ╱  ── + ─ ⎥\n",
       "⎣ ╲╱   2   2    ╲╱   2   2     ╲╱   2    2   ╲╱   2    2 ⎦"
      ]
     },
     "execution_count": 377,
     "metadata": {},
     "output_type": "execute_result"
    }
   ],
   "source": [
    "sm.solve(ϕ4,x)"
   ]
  },
  {
   "cell_type": "code",
   "execution_count": 378,
   "id": "af495a88-2991-4e74-afc6-a47696d60748",
   "metadata": {},
   "outputs": [
    {
     "name": "stdout",
     "output_type": "stream",
     "text": [
      "n= 0\n"
     ]
    },
    {
     "data": {
      "image/png": "[encoded data removed]",
      "text/latex": [
       "$\\displaystyle \\text{False}$"
      ],
      "text/plain": [
       "False"
      ]
     },
     "metadata": {},
     "output_type": "display_data"
    },
    {
     "data": {
      "image/png": "[encoded data removed]",
      "text/latex": [
       "$\\displaystyle \\left[ \\right]$"
      ],
      "text/plain": [
       "[]"
      ]
     },
     "metadata": {},
     "output_type": "display_data"
    },
    {
     "name": "stdout",
     "output_type": "stream",
     "text": [
      "--------------------\n",
      "n= 1\n"
     ]
    },
    {
     "data": {
      "image/png": "[encoded data removed]",
      "text/latex": [
       "$\\displaystyle - 2 x e^{- x^{2}} = 0$"
      ],
      "text/plain": [
       "        2    \n",
       "      -x     \n",
       "-2⋅x⋅ℯ    = 0"
      ]
     },
     "metadata": {},
     "output_type": "display_data"
    },
    {
     "data": {
      "image/png": "[encoded data removed]",
      "text/latex": [
       "$\\displaystyle \\left[ 0\\right]$"
      ],
      "text/plain": [
       "[0]"
      ]
     },
     "metadata": {},
     "output_type": "display_data"
    },
    {
     "name": "stdout",
     "output_type": "stream",
     "text": [
      "--------------------\n",
      "n= 2\n"
     ]
    },
    {
     "data": {
      "image/png": "[encoded data removed]",
      "text/latex": [
       "$\\displaystyle 2 \\left(2 x^{2} - 1\\right) e^{- x^{2}} = 0$"
      ],
      "text/plain": [
       "                2    \n",
       "  ⎛   2    ⎞  -x     \n",
       "2⋅⎝2⋅x  - 1⎠⋅ℯ    = 0"
      ]
     },
     "metadata": {},
     "output_type": "display_data"
    },
    {
     "data": {
      "image/png": "[encoded data removed]",
      "text/latex": [
       "$\\displaystyle \\left[ - \\frac{\\sqrt{2}}{2}, \\  \\frac{\\sqrt{2}}{2}\\right]$"
      ],
      "text/plain": [
       "⎡-√2   √2⎤\n",
       "⎢────, ──⎥\n",
       "⎣ 2    2 ⎦"
      ]
     },
     "metadata": {},
     "output_type": "display_data"
    },
    {
     "name": "stdout",
     "output_type": "stream",
     "text": [
      "--------------------\n",
      "n= 3\n"
     ]
    },
    {
     "data": {
      "image/png": "[encoded data removed]",
      "text/latex": [
       "$\\displaystyle 4 x \\left(3 - 2 x^{2}\\right) e^{- x^{2}} = 0$"
      ],
      "text/plain": [
       "                  2    \n",
       "    ⎛       2⎞  -x     \n",
       "4⋅x⋅⎝3 - 2⋅x ⎠⋅ℯ    = 0"
      ]
     },
     "metadata": {},
     "output_type": "display_data"
    },
    {
     "data": {
      "image/png": "[encoded data removed]",
      "text/latex": [
       "$\\displaystyle \\left[ 0, \\  - \\frac{\\sqrt{6}}{2}, \\  \\frac{\\sqrt{6}}{2}\\right]$"
      ],
      "text/plain": [
       "⎡   -√6   √6⎤\n",
       "⎢0, ────, ──⎥\n",
       "⎣    2    2 ⎦"
      ]
     },
     "metadata": {},
     "output_type": "display_data"
    },
    {
     "name": "stdout",
     "output_type": "stream",
     "text": [
      "--------------------\n",
      "n= 4\n"
     ]
    },
    {
     "data": {
      "image/png": "[encoded data removed]",
      "text/latex": [
       "$\\displaystyle 4 \\left(4 x^{4} - 12 x^{2} + 3\\right) e^{- x^{2}} = 0$"
      ],
      "text/plain": [
       "                        2    \n",
       "  ⎛   4       2    ⎞  -x     \n",
       "4⋅⎝4⋅x  - 12⋅x  + 3⎠⋅ℯ    = 0"
      ]
     },
     "metadata": {},
     "output_type": "display_data"
    },
    {
     "data": {
      "image/png": "[encoded data removed]",
      "text/latex": [
       "$\\displaystyle \\left[ - \\sqrt{\\frac{3}{2} - \\frac{\\sqrt{6}}{2}}, \\  \\sqrt{\\frac{3}{2} - \\frac{\\sqrt{6}}{2}}, \\  - \\sqrt{\\frac{\\sqrt{6}}{2} + \\frac{3}{2}}, \\  \\sqrt{\\frac{\\sqrt{6}}{2} + \\frac{3}{2}}\\right]$"
      ],
      "text/plain": [
       "⎡     ________      ________       ________      ________⎤\n",
       "⎢    ╱ 3   √6      ╱ 3   √6       ╱ √6   3      ╱ √6   3 ⎥\n",
       "⎢-  ╱  ─ - ── ,   ╱  ─ - ── , -  ╱  ── + ─ ,   ╱  ── + ─ ⎥\n",
       "⎣ ╲╱   2   2    ╲╱   2   2     ╲╱   2    2   ╲╱   2    2 ⎦"
      ]
     },
     "metadata": {},
     "output_type": "display_data"
    },
    {
     "name": "stdout",
     "output_type": "stream",
     "text": [
      "--------------------\n"
     ]
    }
   ],
   "source": [
    "# 找出所有曲線與 x-軸的交點。\n",
    "\n",
    "解集= []\n",
    "for ϕ in [ϕ0, ϕ1, ϕ2, ϕ3, ϕ4]:\n",
    "    eq= sm.Eq(ϕ,0)\n",
    "    解= sm.solve(eq, x)\n",
    "    解集 += [(eq, 解)]\n",
    "解集\n",
    "\n",
    "for n, (eq, sol) in enumerate(解集):\n",
    "    print(f'n= {n}')\n",
    "    #print(f'eq= {eq}')\n",
    "    display(eq)\n",
    "    #print(f'sol= {sol}')\n",
    "    display(sol)\n",
    "    print('-'*20)\n"
   ]
  },
  {
   "cell_type": "code",
   "execution_count": 379,
   "id": "fe6766ae-7360-476c-8f60-e0530d459a82",
   "metadata": {},
   "outputs": [
    {
     "data": {
      "image/png": "[encoded data removed]",
      "text/latex": [
       "$\\displaystyle e^{- x^{2} - y^{2}}$"
      ],
      "text/plain": [
       "    2    2\n",
       " - x  - y \n",
       "ℯ         "
      ]
     },
     "execution_count": 379,
     "metadata": {},
     "output_type": "execute_result"
    }
   ],
   "source": [
    "# 以上是 1-D Bell-shape Function，\n",
    "# 接下來我們來看 2D 的 情形\n",
    "\n",
    "x,y= sm.symbols('x,y')\n",
    "\n",
    "def f(x,y):\n",
    "    y= sm.exp(-(x**2 + y**2))\n",
    "    return y\n",
    "f(x,y)"
   ]
  },
  {
   "cell_type": "code",
   "execution_count": 380,
   "id": "ce7a04bf-fa7b-41c2-b4a2-dd57d63de9c4",
   "metadata": {},
   "outputs": [
    {
     "data": {
      "image/png": "[encoded data removed]",
      "text/latex": [
       "$\\displaystyle \\frac{\\pi \\operatorname{erf}{\\left(x \\right)} \\operatorname{erf}{\\left(y \\right)}}{4} + \\frac{\\pi \\operatorname{erf}{\\left(x \\right)}}{4} + \\frac{\\pi \\operatorname{erf}{\\left(y \\right)}}{4} + \\frac{\\pi}{4}$"
      ],
      "text/plain": [
       "π⋅erf(x)⋅erf(y)   π⋅erf(x)   π⋅erf(y)   π\n",
       "─────────────── + ──────── + ──────── + ─\n",
       "       4             4          4       4"
      ]
     },
     "execution_count": 380,
     "metadata": {},
     "output_type": "execute_result"
    }
   ],
   "source": [
    "def F(x,y):\n",
    "    z= f(s,t).integrate(\n",
    "        (s, -sm.oo, x),\n",
    "        (t, -sm.oo, y))\n",
    "    return z\n",
    "F(x,y)"
   ]
  },
  {
   "cell_type": "code",
   "execution_count": 381,
   "id": "97a4346d-4933-4e8b-9e1a-b6330e56e581",
   "metadata": {},
   "outputs": [
    {
     "data": {
      "image/png": "[encoded data removed]",
      "text/latex": [
       "$\\displaystyle 4 x y e^{- x^{2} - y^{2}}$"
      ],
      "text/plain": [
       "          2    2\n",
       "       - x  - y \n",
       "4⋅x⋅y⋅ℯ         "
      ]
     },
     "execution_count": 381,
     "metadata": {},
     "output_type": "execute_result"
    }
   ],
   "source": [
    "def ϕ(x,y):\n",
    "    z= f(x,y).diff(x,y)\n",
    "    return z\n",
    "ϕ(x,y)"
   ]
  },
  {
   "cell_type": "code",
   "execution_count": null,
   "id": "00b5daa4-cd3a-4ca2-9801-893d74565302",
   "metadata": {},
   "outputs": [],
   "source": []
  },
  {
   "cell_type": "code",
   "execution_count": null,
   "id": "95adbefe-30b0-4fc8-94cb-9fd9d02c2092",
   "metadata": {},
   "outputs": [],
   "source": []
  },
  {
   "cell_type": "code",
   "execution_count": 382,
   "id": "bd06ab20-2c8b-43d0-b87e-e8f8179943f4",
   "metadata": {},
   "outputs": [
    {
     "data": {
      "text/plain": [
       "<sympy.plotting.plot.Plot at 0x2978da31790>"
      ]
     },
     "execution_count": 382,
     "metadata": {},
     "output_type": "execute_result"
    }
   ],
   "source": [
    "kwargs={'xlabel': 'x', 'ylabel': 'y'}\n",
    "\n",
    "sm.plotting.plot3d(f(x,y),(x,-3,3),(y,-3,3), **kwargs)"
   ]
  },
  {
   "cell_type": "code",
   "execution_count": 383,
   "id": "0ce1a819-34f5-4f16-b9ce-0b80cad60f56",
   "metadata": {},
   "outputs": [
    {
     "data": {
      "text/plain": [
       "<sympy.plotting.plot.Plot at 0x29786260430>"
      ]
     },
     "execution_count": 383,
     "metadata": {},
     "output_type": "execute_result"
    }
   ],
   "source": [
    "sm.plotting.plot3d(ϕ(x,y), (x,-3,3),(y,-3,3), **kwargs)"
   ]
  },
  {
   "cell_type": "code",
   "execution_count": 384,
   "id": "3760be90-c26e-440b-854b-93098946383a",
   "metadata": {},
   "outputs": [
    {
     "data": {
      "image/png": "[encoded data removed]",
      "text/latex": [
       "$\\displaystyle \\frac{\\pi \\operatorname{erf}{\\left(x \\right)} \\operatorname{erf}{\\left(y \\right)}}{4} + \\frac{\\pi \\operatorname{erf}{\\left(x \\right)}}{4} + \\frac{\\pi \\operatorname{erf}{\\left(y \\right)}}{4} + \\frac{\\pi}{4}$"
      ],
      "text/plain": [
       "π⋅erf(x)⋅erf(y)   π⋅erf(x)   π⋅erf(y)   π\n",
       "─────────────── + ──────── + ──────── + ─\n",
       "       4             4          4       4"
      ]
     },
     "execution_count": 384,
     "metadata": {},
     "output_type": "execute_result"
    }
   ],
   "source": [
    "x, y= sm.symbols('x,y')\n",
    "z= F(x,y)\n",
    "z"
   ]
  },
  {
   "cell_type": "code",
   "execution_count": 386,
   "id": "83d1d1a6-cc6d-4c6d-86f8-0058cba26fef",
   "metadata": {
    "tags": []
   },
   "outputs": [],
   "source": [
    "#sm.plotting.plot3d(z, (x,-3,3), (y,-3,3),  **kwargs)\n",
    "# 這個 有 bug，沒辦法，似乎 sympy.plotting.plot3d 畫不了 erf(x) * erf(y) !!!\n",
    "# 放棄，轉進 numpy + matplotlib.pyplot \n",
    "#"
   ]
  },
  {
   "cell_type": "code",
   "execution_count": 387,
   "id": "e99f3836-00ee-48f1-893b-db4fcc61e884",
   "metadata": {},
   "outputs": [
    {
     "data": {
      "text/plain": [
       "<matplotlib.contour.QuadContourSet at 0x2978d319700>"
      ]
     },
     "execution_count": 387,
     "metadata": {},
     "output_type": "execute_result"
    }
   ],
   "source": [
    "# erf(x)*erf(y) 在 sympy 中畫不出來！\n",
    "# 轉到 numpy 中試試看\n",
    "xm,ym= np.meshgrid(\n",
    "    np.linspace(-3,3,101),\n",
    "    np.linspace(-3,3,101)\n",
    ")\n",
    "zm= sm.lambdify((x,y),z)(xm,ym)\n",
    "\n",
    "fg= pl.figure()\n",
    "ax= pl.axes(projection='3d',\n",
    "            title= f'z= ${sm.latex(z)}$',\n",
    "            **kwargs)\n",
    "ax.contour3D(xm, ym, zm, 100,\n",
    "             cmap= 'rainbow')\n"
   ]
  },
  {
   "cell_type": "code",
   "execution_count": 388,
   "id": "1700c126-4f75-407f-84d7-e76ec704bf92",
   "metadata": {},
   "outputs": [
    {
     "data": {
      "text/plain": [
       "(<Figure size 640x480 with 1 Axes>,\n",
       " <Axes3DSubplot:title={'center':'z= $4 x y e^{- x^{2} - y^{2}}$'}, xlabel='x', ylabel='y'>)"
      ]
     },
     "execution_count": 388,
     "metadata": {},
     "output_type": "execute_result"
    }
   ],
   "source": [
    "# sympy 本來自己有簡單的方式來畫 3d 圖， 但 ...\n",
    "# F(x,y) 內含 erf(x)*erf(y) ，在 sympy 中畫不出來！\n",
    "# 於是... 只好轉到 numpy 中試試看 \n",
    "# (比較麻煩但功能也較多，至少我可以自己配色成彩虹顏色圖。)\n",
    "\n",
    "def ryPlot3d(z, xrange=(-3,+3), yrange=(-3,+3), kwargs= None):\n",
    "    \n",
    "    if kwargs == None:\n",
    "        kwargs={'xlabel': 'x', 'ylabel': 'y'}\n",
    "    \n",
    "    xmin, xmax= xrange\n",
    "    ymin, ymax= yrange\n",
    "    \n",
    "    xm,ym= np.meshgrid(\n",
    "        np.linspace(xmin,xmax,101),\n",
    "        np.linspace(ymin,ymax,101)\n",
    "    )\n",
    "    zm= sm.lambdify((x,y),z)(xm,ym)\n",
    "\n",
    "    fg= pl.figure()\n",
    "    ax= pl.axes(projection='3d',\n",
    "                title= f'z= ${sm.latex(z)}$',\n",
    "                **kwargs)\n",
    "    ax.contour3D(xm, ym, zm, 100,\n",
    "                 cmap= 'rainbow')\n",
    "    return fg, ax\n",
    "\n",
    "z0= f(x,y)\n",
    "ryPlot3d(z0)\n",
    "\n",
    "z1= F(x,y)\n",
    "ryPlot3d(z1)\n",
    "\n",
    "z2= ϕ(x,y)\n",
    "ryPlot3d(z2)\n"
   ]
  },
  {
   "cell_type": "code",
   "execution_count": 389,
   "id": "fc99e6df-e65e-4933-8c02-369402a302aa",
   "metadata": {},
   "outputs": [
    {
     "data": {
      "text/plain": [
       "(<Figure size 640x480 with 1 Axes>,\n",
       " <Axes3DSubplot:title={'center':'z= $e^{- x^{2} - y^{2}}$'}, xlabel='x', ylabel='y'>)"
      ]
     },
     "execution_count": 389,
     "metadata": {},
     "output_type": "execute_result"
    }
   ],
   "source": [
    "z= f(x,y)\n",
    "ryPlot3d(z)"
   ]
  },
  {
   "cell_type": "code",
   "execution_count": 390,
   "id": "6ac45090-e5aa-4655-86ac-281c862df02a",
   "metadata": {},
   "outputs": [
    {
     "data": {
      "text/plain": [
       "(<Figure size 640x480 with 1 Axes>,\n",
       " <Axes3DSubplot:title={'center':'z= $4 x y e^{- x^{2} - y^{2}}$'}, xlabel='x', ylabel='y'>)"
      ]
     },
     "execution_count": 390,
     "metadata": {},
     "output_type": "execute_result"
    }
   ],
   "source": [
    "z= f(x,y).diff(x,y)\n",
    "ryPlot3d(z)"
   ]
  },
  {
   "cell_type": "code",
   "execution_count": 391,
   "id": "ce914e87-eeac-4862-956c-b06064b3c770",
   "metadata": {},
   "outputs": [
    {
     "data": {
      "text/plain": [
       "(<Figure size 640x480 with 1 Axes>,\n",
       " <Axes3DSubplot:title={'center':'z= $4 \\\\left(4 x^{2} y^{2} e^{- x^{2} - y^{2}} - 2 x^{2} e^{- x^{2} - y^{2}} - 2 y^{2} e^{- x^{2} - y^{2}} + e^{- (x^{2} + y^{2})}\\\\right)$'}, xlabel='x', ylabel='y'>)"
      ]
     },
     "execution_count": 391,
     "metadata": {},
     "output_type": "execute_result"
    }
   ],
   "source": [
    "z= f(x,y).diff(x,y,x,y)\n",
    "ryPlot3d(z)"
   ]
  },
  {
   "cell_type": "code",
   "execution_count": 392,
   "id": "2dc228c5-b232-4552-b6fe-8b327d8d5ce9",
   "metadata": {},
   "outputs": [
    {
     "data": {
      "text/plain": [
       "(<Figure size 640x480 with 1 Axes>,\n",
       " <Axes3DSubplot:title={'center':'z= $\\\\frac{\\\\pi \\\\operatorname{erf}{\\\\left(x \\\\right)} \\\\operatorname{erf}{\\\\left(y \\\\right)}}{4} + \\\\frac{\\\\pi \\\\operatorname{erf}{\\\\left(x \\\\right)}}{4} + \\\\frac{\\\\pi \\\\operatorname{erf}{\\\\left(y \\\\right)}}{4} + \\\\frac{\\\\pi}{4}$'}, xlabel='x', ylabel='y'>)"
      ]
     },
     "execution_count": 392,
     "metadata": {},
     "output_type": "execute_result"
    }
   ],
   "source": [
    "z= f(s,t).integrate((s,-sm.oo,x),(t,-sm.oo,y))\n",
    "ryPlot3d(z)"
   ]
  },
  {
   "cell_type": "code",
   "execution_count": 393,
   "id": "59bb9075-e5b2-41b4-9f98-2af7475c70bf",
   "metadata": {},
   "outputs": [
    {
     "data": {
      "text/plain": [
       "(<Figure size 640x480 with 1 Axes>,\n",
       " <Axes3DSubplot:title={'center':'z= $4 x y e^{- x^{2} - y^{2}}$'}, xlabel='x', ylabel='y'>)"
      ]
     },
     "execution_count": 393,
     "metadata": {},
     "output_type": "execute_result"
    }
   ],
   "source": [
    "# 針對 f(x,y)，\n",
    "# 分別對 x, y 做微分，\n",
    "# 欣賞一下。\n",
    "\n",
    "z0=  f(x,y)\n",
    "z10= f(x,y).diff(x,1,y,0)\n",
    "z01= f(x,y).diff(x,0,y,1)\n",
    "z11= f(x,y).diff(x,1,y,1)\n",
    "\n",
    "ryPlot3d(z0)\n",
    "ryPlot3d(z10)\n",
    "ryPlot3d(z01)\n",
    "ryPlot3d(z11)\n"
   ]
  },
  {
   "cell_type": "code",
   "execution_count": 394,
   "id": "1c37cb70-a732-4947-9ae2-cd27e4a92b70",
   "metadata": {},
   "outputs": [
    {
     "data": {
      "text/plain": [
       "<mpl_toolkits.mplot3d.art3d.Line3DCollection at 0x29791e5d1f0>"
      ]
     },
     "execution_count": 394,
     "metadata": {},
     "output_type": "execute_result"
    }
   ],
   "source": [
    "# 進入真正的深水區\n",
    "# 運用 ax.quiver() 結合 Gradient Vector ，\n",
    "# 把 2D 函數 的梯度圖畫出。\n",
    "\n",
    "def ryPlot3d(z, xrange=(-3,+3), yrange=(-3,+3), kwargs= None):\n",
    "    \n",
    "    if kwargs == None:\n",
    "        kwargs={'xlabel': 'x', 'ylabel': 'y'}\n",
    "    \n",
    "    xmin, xmax= xrange\n",
    "    ymin, ymax= yrange\n",
    "    \n",
    "    xrange= np.linspace(xmin,xmax,101)\n",
    "    yrange= np.linspace(ymin,ymax,101)\n",
    "    xm,ym=  np.meshgrid(xrange,yrange)\n",
    "    \n",
    "    zm= sm.lambdify((x,y),z)(xm,ym)\n",
    "\n",
    "    fg= pl.figure()\n",
    "    ax= pl.axes(projection='3d',\n",
    "                title= f'z= ${sm.latex(z)}$',\n",
    "                **kwargs)\n",
    "    ax.contour3D(xm, ym, zm, 100,\n",
    "                 cmap= 'rainbow')\n",
    "    return fg, ax, zm, xrange, yrange\n",
    "\n",
    "\n",
    "z0=  f(x,y)   #.diff(x,y)\n",
    "z10= z0.diff(x,1,y,0)\n",
    "z01= z0.diff(x,0,y,1)\n",
    "\n",
    "\n",
    "fg, ax, zm, xrange, yrange=  ryPlot3d(z0)\n",
    "\n",
    "downSampleFactor= 2\n",
    "xm, ym, zm0= np.meshgrid(\n",
    "    xrange[::downSampleFactor],\n",
    "    yrange[::downSampleFactor],\n",
    "    np.linspace(np.min(zm), np.min(zm)+1, 1)\n",
    "    )\n",
    "\n",
    "#dz_dx= 2*x0\n",
    "#dz_dy= 2*y0\n",
    "\n",
    "dz_dx_m= sm.lambdify((x,y),z10)(xm,ym)\n",
    "dz_dy_m= sm.lambdify((x,y),z01)(xm,ym)\n",
    "\n",
    "u= dz_dx_m\n",
    "v= dz_dy_m\n",
    "w= np.zeros_like(xm)\n",
    "ax.quiver(xm, ym, zm0, \n",
    "          u, v, w, \n",
    "          length= .1*np.max([u,v]), \n",
    "          color = 'gray')"
   ]
  },
  {
   "cell_type": "code",
   "execution_count": 395,
   "id": "bdb59407-72f2-4916-8f20-b885242d6548",
   "metadata": {},
   "outputs": [],
   "source": [
    "# 進入真正的深水區\n",
    "# 運用 ax.quiver() 結合 Gradient Vector ，\n",
    "# 把 2D 函數 的梯度圖畫出。\n",
    "\n",
    "def ryPlot3d(z, xrange=(-3,+3), yrange=(-3,+3), kwargs= None):\n",
    "    \n",
    "    if kwargs == None:\n",
    "        kwargs={'xlabel': 'x', 'ylabel': 'y'}\n",
    "    \n",
    "    xmin, xmax= xrange\n",
    "    ymin, ymax= yrange\n",
    "    \n",
    "    xrange= np.linspace(xmin,xmax,101)\n",
    "    yrange= np.linspace(ymin,ymax,101)\n",
    "    xm,ym=  np.meshgrid(xrange,yrange)\n",
    "    \n",
    "    zm= sm.lambdify((x,y),z)(xm,ym)\n",
    "\n",
    "    fg= pl.figure()\n",
    "    ax= pl.axes(projection='3d',\n",
    "                title= f'z= ${sm.latex(z)}$',\n",
    "                **kwargs)\n",
    "    ax.contour3D(xm, ym, zm, 100,\n",
    "                 cmap= 'rainbow')\n",
    "    return fg, ax, zm, xrange, yrange\n",
    "\n",
    "def ryPlotGradientMap(z,\n",
    "                      xrange=(-3,+3), \n",
    "                      yrange=(-3,+3),\n",
    "                      downSampleFactor= 4, \n",
    "                      lengthFactor= .1):\n",
    "    \n",
    "    fg, ax, zm, xrange, yrange=  ryPlot3d(z, \n",
    "                                          xrange= xrange, \n",
    "                                          yrange=yrange)\n",
    "    \n",
    "    z10= z.diff(x,1,y,0)\n",
    "    z01= z.diff(x,0,y,1)\n",
    "\n",
    "    #downSampleFactor= 2\n",
    "    xm, ym, zm0= np.meshgrid(\n",
    "        xrange[::downSampleFactor],\n",
    "        yrange[::downSampleFactor],\n",
    "        np.linspace(np.min(zm), np.min(zm)+1, 1)\n",
    "        )\n",
    "\n",
    "    #dz_dx= 2*x0\n",
    "    #dz_dy= 2*y0\n",
    "\n",
    "    dz_dx_m= sm.lambdify((x,y),z10)(xm,ym)\n",
    "    dz_dy_m= sm.lambdify((x,y),z01)(xm,ym)\n",
    "\n",
    "    u= dz_dx_m\n",
    "    v= dz_dy_m\n",
    "    w= np.zeros_like(xm)\n",
    "    ax.quiver(xm, ym, zm0, \n",
    "              u, v, w, \n",
    "              length= lengthFactor, #*np.max([u,v]), \n",
    "              color = 'gray')\n",
    "\n",
    "\n",
    "z= f(x,y)\n",
    "ryPlotGradientMap(z)\n"
   ]
  },
  {
   "cell_type": "code",
   "execution_count": 396,
   "id": "4e025578-5216-4434-9fc2-a544de5aa0a0",
   "metadata": {},
   "outputs": [
    {
     "data": {
      "image/png": "[encoded data removed]",
      "text/latex": [
       "$\\displaystyle e^{- x^{2} - y^{2}}$"
      ],
      "text/plain": [
       "    2    2\n",
       " - x  - y \n",
       "ℯ         "
      ]
     },
     "execution_count": 396,
     "metadata": {},
     "output_type": "execute_result"
    }
   ],
   "source": [
    "\n",
    "# 進入真正的深水區\n",
    "# 運用 ax.quiver() 結合 Gradient Vector ，\n",
    "# 把 2D 函數 的梯度圖畫出。\n",
    "\n",
    "def ryPlot3d(z, xrange=(-3,+3), yrange=(-3,+3), kwargs= None):\n",
    "    \n",
    "    if kwargs == None:\n",
    "        kwargs={'xlabel': 'x', 'ylabel': 'y'}\n",
    "    \n",
    "    xmin, xmax= xrange\n",
    "    ymin, ymax= yrange\n",
    "    \n",
    "    xrange= np.linspace(xmin,xmax,101)\n",
    "    yrange= np.linspace(ymin,ymax,101)\n",
    "    xm,ym=  np.meshgrid(xrange,yrange)\n",
    "    \n",
    "    zm= sm.lambdify((x,y),z)(xm,ym)\n",
    "    \n",
    "    fg= pl.figure()\n",
    "    ax= pl.axes(projection='3d',\n",
    "                title= f'z= ${sm.latex(z)}$',\n",
    "                **kwargs)\n",
    "    ax.contour3D(xm, ym, zm, 100,\n",
    "                 cmap= 'rainbow')\n",
    "    return fg, ax, zm, xrange, yrange\n",
    "\n",
    "def ryPlotGradientMap(z,\n",
    "                      xrange=(-3,+3), \n",
    "                      yrange=(-3,+3),\n",
    "                      downSampleFactor= 4, \n",
    "                      lengthFactor= .1):\n",
    "    \n",
    "    fg, ax, zm, xrange, yrange=  ryPlot3d(z, \n",
    "                                          xrange= xrange, \n",
    "                                          yrange=yrange)\n",
    "    \n",
    "    z10= z.diff(x,1,y,0)\n",
    "    z01= z.diff(x,0,y,1)\n",
    "    \n",
    "    #downSampleFactor= 2\n",
    "    xm, ym, zm0= np.meshgrid(\n",
    "        xrange[::downSampleFactor],\n",
    "        yrange[::downSampleFactor],\n",
    "        np.linspace(np.min(zm), np.min(zm)+1, 1)\n",
    "        )\n",
    "    \n",
    "    #dz_dx= 2*x0\n",
    "    #dz_dy= 2*y0\n",
    "    \n",
    "    dz_dx_m= sm.lambdify((x,y),z10)(xm,ym)\n",
    "    dz_dy_m= sm.lambdify((x,y),z01)(xm,ym)\n",
    "    \n",
    "    u= dz_dx_m\n",
    "    v= dz_dy_m\n",
    "    w= np.zeros_like(xm)\n",
    "    ax.quiver(xm, ym, zm0, \n",
    "              u, v, w, \n",
    "              length= lengthFactor, #*np.max([u,v]), \n",
    "              color = 'gray')\n",
    "\n",
    "z= f(x,y)\n",
    "ryPlotGradientMap(z)\n",
    "z"
   ]
  },
  {
   "cell_type": "code",
   "execution_count": 397,
   "id": "11ca3d11-21ed-4c9a-89b2-63e40cd3094e",
   "metadata": {},
   "outputs": [
    {
     "data": {
      "image/png": "[encoded data removed]",
      "text/latex": [
       "$\\displaystyle - 2 x e^{- x^{2} - y^{2}}$"
      ],
      "text/plain": [
       "         2    2\n",
       "      - x  - y \n",
       "-2⋅x⋅ℯ         "
      ]
     },
     "execution_count": 397,
     "metadata": {},
     "output_type": "execute_result"
    }
   ],
   "source": [
    "z= f(x,y).diff(x)\n",
    "ryPlotGradientMap(z)\n",
    "z"
   ]
  },
  {
   "cell_type": "code",
   "execution_count": 398,
   "id": "8fa1d9f5-3533-4403-bca9-3c3411f5f113",
   "metadata": {},
   "outputs": [
    {
     "data": {
      "image/png": "[encoded data removed]",
      "text/latex": [
       "$\\displaystyle - 2 x e^{- x^{2} - y^{2}}$"
      ],
      "text/plain": [
       "         2    2\n",
       "      - x  - y \n",
       "-2⋅x⋅ℯ         "
      ]
     },
     "execution_count": 398,
     "metadata": {},
     "output_type": "execute_result"
    }
   ],
   "source": [
    "z"
   ]
  },
  {
   "cell_type": "markdown",
   "id": "a5050730-1466-499f-9b72-295346be4388",
   "metadata": {},
   "source": [
    "# 與 Wiki 的圖 比較\n",
    "- https://en.wikipedia.org/wiki/Gradient#/media/File:Gradient_of_a_Function.tif\n",
    "\n",
    "![](https://upload.wikimedia.org/wikipedia/commons/thumb/5/52/Gradient_of_a_Function.tif/lossy-page1-560px-Gradient_of_a_Function.tif.jpg)"
   ]
  },
  {
   "cell_type": "code",
   "execution_count": 399,
   "id": "7a59ff0f-5c82-4427-89af-d6bb5e83653e",
   "metadata": {},
   "outputs": [
    {
     "data": {
      "image/png": "[encoded data removed]",
      "text/latex": [
       "$\\displaystyle x e^{- x^{2} - y^{2}}$"
      ],
      "text/plain": [
       "      2    2\n",
       "   - x  - y \n",
       "x⋅ℯ         "
      ]
     },
     "execution_count": 399,
     "metadata": {},
     "output_type": "execute_result"
    }
   ],
   "source": [
    "z= f(x,y).diff(x)\n",
    "z= -z/2\n",
    "ryPlotGradientMap(z)\n",
    "z"
   ]
  },
  {
   "cell_type": "code",
   "execution_count": null,
   "id": "1b6b782d-3aeb-48e0-9ea8-d977550c5203",
   "metadata": {},
   "outputs": [],
   "source": []
  }
 ],
 "metadata": {
  "kernelspec": {
   "display_name": "Python 3",
   "language": "python",
   "name": "python3"
  },
  "language_info": {
   "codemirror_mode": {
    "name": "ipython",
    "version": 3
   },
   "file_extension": ".py",
   "mimetype": "text/x-python",
   "name": "python",
   "nbconvert_exporter": "python",
   "pygments_lexer": "ipython3",
   "version": "3.8.8"
  }
 },
 "nbformat": 4,
 "nbformat_minor": 5
}
