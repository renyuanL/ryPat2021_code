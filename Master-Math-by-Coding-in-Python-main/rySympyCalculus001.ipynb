{
 "cells": [
  {
   "cell_type": "code",
   "execution_count": 41,
   "id": "97ed28a4-d159-4118-ae1c-f57a89a59cf4",
   "metadata": {},
   "outputs": [],
   "source": [
    "import sympy as sym\n",
    "import matplotlib.pyplot as pl\n",
    "import numpy as np\n",
    "\n",
    "from scipy.signal import find_peaks\n",
    "from IPython.display import display, Math\n",
    "\n",
    "from sympy.abc import *\n"
   ]
  },
  {
   "cell_type": "code",
   "execution_count": 58,
   "id": "9b290934-118d-4499-bcce-939efd63d0ec",
   "metadata": {},
   "outputs": [],
   "source": [
    "# 符號變數\n",
    "x, y, z= sym.symbols('x, y, z')\n",
    "\n",
    "# 函數\n",
    "def f(x):\n",
    "    y= 1 + x + x**2\n",
    "    return y\n",
    "\n",
    "def g(x):\n",
    "    y= x**3\n",
    "    return y\n",
    "\n",
    "def h(x):\n",
    "    #y= f(x) + g(x)\n",
    "    #y= f(x) * g(x)\n",
    "    y= f(g(x))\n",
    "    return y"
   ]
  },
  {
   "cell_type": "code",
   "execution_count": 43,
   "id": "e6ac236a-003c-4b7b-9f05-423b5b0d3cf3",
   "metadata": {},
   "outputs": [
    {
     "data": {
      "text/latex": [
       "$\\displaystyle x$"
      ],
      "text/plain": [
       "x"
      ]
     },
     "execution_count": 43,
     "metadata": {},
     "output_type": "execute_result"
    }
   ],
   "source": [
    "x"
   ]
  },
  {
   "cell_type": "code",
   "execution_count": 44,
   "id": "5f764d8a-9aec-4e1d-916e-9df9b63dc52f",
   "metadata": {},
   "outputs": [
    {
     "data": {
      "text/latex": [
       "$\\displaystyle y$"
      ],
      "text/plain": [
       "y"
      ]
     },
     "execution_count": 44,
     "metadata": {},
     "output_type": "execute_result"
    }
   ],
   "source": [
    "y"
   ]
  },
  {
   "cell_type": "code",
   "execution_count": 45,
   "id": "857efd25-e738-429b-b33b-4ca1483318f9",
   "metadata": {},
   "outputs": [
    {
     "data": {
      "text/latex": [
       "$\\displaystyle z$"
      ],
      "text/plain": [
       "z"
      ]
     },
     "execution_count": 45,
     "metadata": {},
     "output_type": "execute_result"
    }
   ],
   "source": [
    "z"
   ]
  },
  {
   "cell_type": "code",
   "execution_count": 48,
   "id": "bb896595-6e76-4e5a-a90b-a2c6e633083c",
   "metadata": {},
   "outputs": [
    {
     "data": {
      "text/latex": [
       "$\\displaystyle x^{2} + x + 1$"
      ],
      "text/plain": [
       "x**2 + x + 1"
      ]
     },
     "execution_count": 48,
     "metadata": {},
     "output_type": "execute_result"
    }
   ],
   "source": [
    "f(x)"
   ]
  },
  {
   "cell_type": "code",
   "execution_count": 49,
   "id": "c6ab5e2c-2638-474a-8e05-8696079d996e",
   "metadata": {},
   "outputs": [
    {
     "data": {
      "text/latex": [
       "$\\displaystyle y^{3}$"
      ],
      "text/plain": [
       "y**3"
      ]
     },
     "execution_count": 49,
     "metadata": {},
     "output_type": "execute_result"
    }
   ],
   "source": [
    "g(y)\n"
   ]
  },
  {
   "cell_type": "code",
   "execution_count": 55,
   "id": "adb8eaba-a612-4caa-945e-cf6b07121445",
   "metadata": {},
   "outputs": [
    {
     "data": {
      "text/latex": [
       "$\\displaystyle x$"
      ],
      "text/plain": [
       "x"
      ]
     },
     "execution_count": 55,
     "metadata": {},
     "output_type": "execute_result"
    }
   ],
   "source": [
    "x"
   ]
  },
  {
   "cell_type": "code",
   "execution_count": 57,
   "id": "95d514ad-262a-4b37-ab8a-4c62d50c8859",
   "metadata": {},
   "outputs": [
    {
     "data": {
      "text/latex": [
       "$\\displaystyle x^{6} + x^{3} + 1$"
      ],
      "text/plain": [
       "x**6 + x**3 + 1"
      ]
     },
     "execution_count": 57,
     "metadata": {},
     "output_type": "execute_result"
    }
   ],
   "source": [
    "f(g(x))"
   ]
  },
  {
   "cell_type": "code",
   "execution_count": 60,
   "id": "09a50f81-9a52-49e1-baad-5c334709fd24",
   "metadata": {},
   "outputs": [
    {
     "data": {
      "text/latex": [
       "$\\displaystyle x^{6} + x^{3} + 1$"
      ],
      "text/plain": [
       "x**6 + x**3 + 1"
      ]
     },
     "execution_count": 60,
     "metadata": {},
     "output_type": "execute_result"
    }
   ],
   "source": [
    "h(x)"
   ]
  },
  {
   "cell_type": "markdown",
   "id": "baacc5e3-cefd-408b-9e79-c8d62dd18654",
   "metadata": {},
   "source": [
    "# sys.float_info\n",
    "https://docs.python.org/3/library/sys.html#sys.float_info\n"
   ]
  },
  {
   "cell_type": "code",
   "execution_count": 155,
   "id": "3f28639b-6585-4d99-a0ae-b5e44ad63c63",
   "metadata": {},
   "outputs": [],
   "source": [
    "#sys.float_info\n",
    "\n",
    "'''\n",
    "sys.float_info(\n",
    "    max=1.7976931348623157e+308, \n",
    "    max_exp=1024, \n",
    "    max_10_exp=308, \n",
    "    min= 2.2250738585072014e-308,  ## 最小值 \n",
    "    min_exp=-1021, \n",
    "    min_10_exp=-307, \n",
    "    dig=15, \n",
    "    mant_dig=53, \n",
    "    epsilon= 2.220446049250313e-16, ## 最小有差別的值?\n",
    "    radix=2, \n",
    "    rounds=1)\n",
    "'''\n",
    "sys.float_info.epsilon, sys.float_info.min"
   ]
  },
  {
   "cell_type": "code",
   "execution_count": 182,
   "id": "d298c98d-e83d-4ac6-b3f4-ac8744484125",
   "metadata": {},
   "outputs": [
    {
     "data": {
      "text/plain": [
       "True"
      ]
     },
     "execution_count": 182,
     "metadata": {},
     "output_type": "execute_result"
    }
   ],
   "source": [
    "#\n",
    "# epsilon= 2.220446049250313e-16, ## 最小有差別的值?\n",
    "#\n",
    "\n",
    "all((\n",
    "2.220446049250313e-16 == 2.220446049250313e-16,\n",
    "2.220446049250313e-16 == 2.2204460492503130e-16,\n",
    "2.220446049250313e-16 == 2.2204460492503131e-16,\n",
    "2.220446049250313e-16 == 2.2204460492503132e-16, \n",
    "2.220446049250313e-16 == 2.2204460492503133e-16\n",
    ")) "
   ]
  },
  {
   "cell_type": "code",
   "execution_count": 209,
   "id": "b91ebc70-e3ee-42c7-afea-87d74dc12fe8",
   "metadata": {},
   "outputs": [
    {
     "data": {
      "text/plain": [
       "True"
      ]
     },
     "execution_count": 209,
     "metadata": {},
     "output_type": "execute_result"
    }
   ],
   "source": [
    "all((\n",
    "2.2250738585072014e-308 == 2.2250738585072014e-308,\n",
    "2.2250738585072014e-308 == 2.22507385850720140e-308,\n",
    "2.2250738585072014e-308 == 2.22507385850720141e-308,\n",
    "2.2250738585072014e-308 == 2.22507385850720142e-308,\n",
    "2.2250738585072014e-308 == 2.22507385850720143e-308,\n",
    "2.2250738585072014e-308 == 2.22507385850720144e-308,\n",
    "2.2250738585072014e-308 == 2.22507385850720145e-308,\n",
    "2.2250738585072014e-308 == 2.22507385850720146e-308,\n",
    "2.2250738585072014e-308 == 2.22507385850720147e-308,\n",
    "2.2250738585072014e-308 == 2.22507385850720148e-308,\n",
    "2.2250738585072014e-308 == 2.22507385850720149e-308,\n",
    "2.2250738585072014e-308 == 2.22507385850720150e-308,\n",
    "2.2250738585072014e-308 == 2.2250738585072013e-308,\n",
    "2.2250738585072014e-308 == 2.2250738585072012e-308,\n",
    "))"
   ]
  },
  {
   "cell_type": "markdown",
   "id": "aef37f13-f33c-44d1-b3d6-d380352a3f75",
   "metadata": {},
   "source": [
    "# 微分的觀念從這裡起跑...\n"
   ]
  },
  {
   "cell_type": "code",
   "execution_count": 273,
   "id": "bdb70758-4877-45c6-995b-1c387130c4e2",
   "metadata": {
    "collapsed": true,
    "jupyter": {
     "outputs_hidden": true
    },
    "tags": []
   },
   "outputs": [
    {
     "data": {
      "text/latex": [
       "$\\displaystyle x^{4}$"
      ],
      "text/plain": [
       "x**4"
      ]
     },
     "execution_count": 273,
     "metadata": {},
     "output_type": "execute_result"
    }
   ],
   "source": [
    "# 微分的觀念從這裡起跑...\n",
    "\n",
    "import sys\n",
    "\n",
    "#  ϵ= sys.float_info.epsilon # 0^{+}\n",
    "\n",
    "x, ϵ, dx= sym.symbols('x, ϵ, dx')\n",
    "\n",
    "def f(t):\n",
    "    y= t**4\n",
    "    return y\n",
    "\n",
    "f(x)"
   ]
  },
  {
   "cell_type": "code",
   "execution_count": 274,
   "id": "0eff57c1-a77a-4608-9951-2969f3a321ee",
   "metadata": {
    "collapsed": true,
    "jupyter": {
     "outputs_hidden": true
    },
    "tags": []
   },
   "outputs": [
    {
     "data": {
      "text/latex": [
       "$\\displaystyle ϵ^{4}$"
      ],
      "text/plain": [
       "ϵ**4"
      ]
     },
     "execution_count": 274,
     "metadata": {},
     "output_type": "execute_result"
    }
   ],
   "source": [
    "f(ϵ)"
   ]
  },
  {
   "cell_type": "code",
   "execution_count": 275,
   "id": "4888579b-763a-4dd2-bc6b-9c8f0961f013",
   "metadata": {
    "collapsed": true,
    "jupyter": {
     "outputs_hidden": true
    },
    "tags": []
   },
   "outputs": [
    {
     "data": {
      "text/latex": [
       "$\\displaystyle dx^{4}$"
      ],
      "text/plain": [
       "dx**4"
      ]
     },
     "execution_count": 275,
     "metadata": {},
     "output_type": "execute_result"
    }
   ],
   "source": [
    "f(dx) # 注意一下: d(x**4), (dx)**4 的分別"
   ]
  },
  {
   "cell_type": "code",
   "execution_count": 276,
   "id": "f5202fd5-0da5-40c8-9922-ef254c2a1bf0",
   "metadata": {
    "collapsed": true,
    "jupyter": {
     "outputs_hidden": true
    },
    "tags": []
   },
   "outputs": [
    {
     "data": {
      "text/latex": [
       "$\\displaystyle dx^{4}$"
      ],
      "text/plain": [
       "dx**4"
      ]
     },
     "execution_count": 276,
     "metadata": {},
     "output_type": "execute_result"
    }
   ],
   "source": [
    "(dx)**4  # 這個有定義，因為 dx 已視為一個符號變數"
   ]
  },
  {
   "cell_type": "code",
   "execution_count": 277,
   "id": "eb246814-b552-41a2-90fd-a4ab537dedd6",
   "metadata": {
    "collapsed": true,
    "jupyter": {
     "outputs_hidden": true
    },
    "tags": []
   },
   "outputs": [
    {
     "ename": "TypeError",
     "evalue": "'Symbol' object is not callable",
     "output_type": "error",
     "traceback": [
      "\u001b[1;31m---------------------------------------------------------------------------\u001b[0m",
      "\u001b[1;31mTypeError\u001b[0m                                 Traceback (most recent call last)",
      "\u001b[1;32m<ipython-input-277-eed73bf4b961>\u001b[0m in \u001b[0;36m<module>\u001b[1;34m\u001b[0m\n\u001b[1;32m----> 1\u001b[1;33m \u001b[0md\u001b[0m\u001b[1;33m(\u001b[0m\u001b[0mx\u001b[0m\u001b[1;33m**\u001b[0m\u001b[1;36m4\u001b[0m\u001b[1;33m)\u001b[0m  \u001b[1;31m# 這個尚沒有定義，除非我們開始 定義 d(...)\u001b[0m\u001b[1;33m\u001b[0m\u001b[1;33m\u001b[0m\u001b[0m\n\u001b[0m",
      "\u001b[1;31mTypeError\u001b[0m: 'Symbol' object is not callable"
     ]
    }
   ],
   "source": [
    "d(x**4)  # 這個尚沒有定義，除非我們開始 定義 d(...)"
   ]
  },
  {
   "cell_type": "code",
   "execution_count": 278,
   "id": "9f173568-e2ab-4bf8-9e91-4e0e9ad67ca7",
   "metadata": {
    "jupyter": {
     "source_hidden": true
    },
    "tags": []
   },
   "outputs": [],
   "source": [
    "# d(x**4) # 把 x**4 視為函數 f(x)， d(x**4) == d(f(x))"
   ]
  },
  {
   "cell_type": "code",
   "execution_count": 282,
   "id": "ff58a285-cd6c-490a-9830-2d0dc799650f",
   "metadata": {
    "collapsed": true,
    "jupyter": {
     "outputs_hidden": true
    },
    "tags": []
   },
   "outputs": [
    {
     "data": {
      "text/latex": [
       "$\\displaystyle x^{4}$"
      ],
      "text/plain": [
       "x**4"
      ]
     },
     "execution_count": 282,
     "metadata": {},
     "output_type": "execute_result"
    }
   ],
   "source": [
    "def f(t):\n",
    "    y= t**4\n",
    "    return y\n",
    "\n",
    "f(x)"
   ]
  },
  {
   "cell_type": "code",
   "execution_count": 283,
   "id": "f0554754-0a54-426a-9e02-725f1aaf51ed",
   "metadata": {
    "collapsed": true,
    "jupyter": {
     "outputs_hidden": true
    },
    "tags": []
   },
   "outputs": [
    {
     "data": {
      "text/latex": [
       "$\\displaystyle - x^{4} + \\left(dx + x\\right)^{4}$"
      ],
      "text/plain": [
       "-x**4 + (dx + x)**4"
      ]
     },
     "execution_count": 283,
     "metadata": {},
     "output_type": "execute_result"
    }
   ],
   "source": [
    "df= f(x+dx)-f(x)\n",
    "df"
   ]
  },
  {
   "cell_type": "code",
   "execution_count": 284,
   "id": "c100df74-8c0f-4459-9375-d3ee0d775d97",
   "metadata": {
    "collapsed": true,
    "jupyter": {
     "outputs_hidden": true
    },
    "tags": []
   },
   "outputs": [
    {
     "data": {
      "text/latex": [
       "$\\displaystyle \\frac{- x^{4} + \\left(dx + x\\right)^{4}}{dx}$"
      ],
      "text/plain": [
       "(-x**4 + (dx + x)**4)/dx"
      ]
     },
     "execution_count": 284,
     "metadata": {},
     "output_type": "execute_result"
    }
   ],
   "source": [
    "df/dx"
   ]
  },
  {
   "cell_type": "code",
   "execution_count": 285,
   "id": "40c5ad62-2398-4544-aee9-a78cececd2ec",
   "metadata": {
    "collapsed": true,
    "jupyter": {
     "outputs_hidden": true
    },
    "tags": []
   },
   "outputs": [
    {
     "data": {
      "text/latex": [
       "$\\displaystyle 4 x^{3}$"
      ],
      "text/plain": [
       "4*x**3"
      ]
     },
     "execution_count": 285,
     "metadata": {},
     "output_type": "execute_result"
    }
   ],
   "source": [
    "sym.limit(df/dx, dx, 0)"
   ]
  },
  {
   "cell_type": "code",
   "execution_count": 287,
   "id": "f50ff6cf-9c11-44e3-9a69-5675ec8a02e7",
   "metadata": {
    "collapsed": true,
    "jupyter": {
     "outputs_hidden": true
    },
    "tags": []
   },
   "outputs": [
    {
     "data": {
      "text/latex": [
       "$\\displaystyle 4 x^{3} + 6 x^{2} ϵ + 4 x ϵ^{2} + ϵ^{3}$"
      ],
      "text/plain": [
       "4*x**3 + 6*x**2*ϵ + 4*x*ϵ**2 + ϵ**3"
      ]
     },
     "execution_count": 287,
     "metadata": {},
     "output_type": "execute_result"
    }
   ],
   "source": [
    "h= (f(x+ϵ)-f(x))/ϵ\n",
    "h.expand()"
   ]
  },
  {
   "cell_type": "code",
   "execution_count": 288,
   "id": "8d4f54ab-59ca-49de-859b-50e76e51589f",
   "metadata": {
    "collapsed": true,
    "jupyter": {
     "outputs_hidden": true
    },
    "tags": []
   },
   "outputs": [
    {
     "data": {
      "text/latex": [
       "$\\displaystyle 4 x^{3}$"
      ],
      "text/plain": [
       "4*x**3"
      ]
     },
     "execution_count": 288,
     "metadata": {},
     "output_type": "execute_result"
    }
   ],
   "source": [
    "sym.limit(h, ϵ, 0)"
   ]
  },
  {
   "cell_type": "code",
   "execution_count": 289,
   "id": "aafbbc11-670b-4220-825f-16270cad16c9",
   "metadata": {
    "collapsed": true,
    "jupyter": {
     "outputs_hidden": true
    },
    "tags": []
   },
   "outputs": [
    {
     "data": {
      "text/latex": [
       "$\\displaystyle 4 x^{3}$"
      ],
      "text/plain": [
       "4*x**3"
      ]
     },
     "execution_count": 289,
     "metadata": {},
     "output_type": "execute_result"
    }
   ],
   "source": [
    "f(x).diff(x)"
   ]
  },
  {
   "cell_type": "markdown",
   "id": "5e149bb6-7fe3-4f37-bd2a-451f3c021b36",
   "metadata": {},
   "source": [
    "# use LaTex to write math\n",
    "\n",
    "$\n",
    "x, dx, f(), df()\n",
    "$\n",
    "\n",
    "\n",
    "```python\n",
    "from sympy import Symbol, sin, cos, exp, log, limit\n",
    "x=  Symbol('x')  # a variable, itself\n",
    "dx= Symbol('dx') # a change of a variable named x\n",
    "\n",
    "def f(t):\n",
    "    f= 1 + t + t**2 + 2**t + sin(t) + + cos(t) + exp(t) + log(t)\n",
    "    return f \n",
    "\n",
    "def df(f, t, dt):\n",
    "    df= f(t+dt) - f(t)\n",
    "    return df \n",
    "```\n",
    "\n",
    "\n",
    "$\n",
    "df(x) = f(x+dx) - f(x)\n",
    "$\n",
    "\n",
    "$\n",
    "f'(x) \n",
    "\\\\\n",
    "= \\dot{f}(x)\n",
    "\\\\\n",
    "=\\frac{d}{dx}(f(x))\n",
    "\\\\\n",
    "=\\lim_{dx \\to 0} \\frac{df(x)}{dx} \n",
    "\\\\\n",
    "=\\lim_{dx \\to 0} \\frac{f(x+dx)-f(x)}{dx}\n",
    "$"
   ]
  },
  {
   "cell_type": "code",
   "execution_count": 444,
   "id": "c885bf6d-9dcb-49e0-a955-32ef441e5b3f",
   "metadata": {},
   "outputs": [],
   "source": [
    "from sympy import Symbol, sin, cos, exp, log, limit\n",
    "\n",
    "x=  Symbol('x')  # a variable, named x\n",
    "dx= Symbol('dx') # a change of a variable named x\n",
    "\n",
    "def f(t):\n",
    "    y= 1 + t + t**2 + 2**t #+ sin(t) + cos(t) + exp(t) + log(t)\n",
    "    return y \n",
    "\n",
    "def df(f, t, dt):\n",
    "    dy= f(t+dt) - f(t)\n",
    "    return dy "
   ]
  },
  {
   "cell_type": "code",
   "execution_count": 445,
   "id": "cdebfe43-ed9b-4725-be4e-50ef395dd945",
   "metadata": {},
   "outputs": [
    {
     "data": {
      "text/latex": [
       "$\\displaystyle 2^{x} + x^{2} + x + 1$"
      ],
      "text/plain": [
       "2**x + x**2 + x + 1"
      ]
     },
     "execution_count": 445,
     "metadata": {},
     "output_type": "execute_result"
    }
   ],
   "source": [
    "y= f(x)\n",
    "y"
   ]
  },
  {
   "cell_type": "code",
   "execution_count": 446,
   "id": "97811736-8564-4f3c-84d2-4f892b868616",
   "metadata": {},
   "outputs": [
    {
     "data": {
      "text/latex": [
       "$\\displaystyle 2^{dx + x} + dx + x + \\left(dx + x\\right)^{2} + 1$"
      ],
      "text/plain": [
       "2**(dx + x) + dx + x + (dx + x)**2 + 1"
      ]
     },
     "execution_count": 446,
     "metadata": {},
     "output_type": "execute_result"
    }
   ],
   "source": [
    "y1= f(x+dx)\n",
    "y1"
   ]
  },
  {
   "cell_type": "code",
   "execution_count": 447,
   "id": "af9a89dc-be4b-46a3-bff8-0e361d203e2b",
   "metadata": {},
   "outputs": [
    {
     "data": {
      "text/latex": [
       "$\\displaystyle - 2^{x} + 2^{dx + x} + dx - x^{2} + \\left(dx + x\\right)^{2}$"
      ],
      "text/plain": [
       "-2**x + 2**(dx + x) + dx - x**2 + (dx + x)**2"
      ]
     },
     "execution_count": 447,
     "metadata": {},
     "output_type": "execute_result"
    }
   ],
   "source": [
    "dy= df(f,x,dx) # == f(x+dx)-f(x) # == y1-y\n",
    "dy"
   ]
  },
  {
   "cell_type": "code",
   "execution_count": 448,
   "id": "692ad925-8591-4f56-bdb0-4112b09d36fc",
   "metadata": {},
   "outputs": [
    {
     "data": {
      "text/latex": [
       "$\\displaystyle \\frac{- 2^{x} + 2^{dx + x} + dx - x^{2} + \\left(dx + x\\right)^{2}}{dx}$"
      ],
      "text/plain": [
       "(-2**x + 2**(dx + x) + dx - x**2 + (dx + x)**2)/dx"
      ]
     },
     "execution_count": 448,
     "metadata": {},
     "output_type": "execute_result"
    }
   ],
   "source": [
    "dy/dx"
   ]
  },
  {
   "cell_type": "code",
   "execution_count": 449,
   "id": "8c1648e9-26b4-4bd4-be52-e14fa1938a4b",
   "metadata": {},
   "outputs": [
    {
     "data": {
      "text/latex": [
       "$\\displaystyle 2^{x} \\log{\\left(2 \\right)} + 2 x + 1$"
      ],
      "text/plain": [
       "2**x*log(2) + 2*x + 1"
      ]
     },
     "execution_count": 449,
     "metadata": {},
     "output_type": "execute_result"
    }
   ],
   "source": [
    "q1= limit(dy/dx, dx, 0)\n",
    "q1"
   ]
  },
  {
   "cell_type": "code",
   "execution_count": 450,
   "id": "4f9c0cc0-660f-461e-9196-2316c3497dc8",
   "metadata": {},
   "outputs": [
    {
     "data": {
      "text/latex": [
       "$\\displaystyle 2^{x} \\log{\\left(2 \\right)} + 2 x + 1$"
      ],
      "text/plain": [
       "2**x*log(2) + 2*x + 1"
      ]
     },
     "execution_count": 450,
     "metadata": {},
     "output_type": "execute_result"
    }
   ],
   "source": [
    "q2= f(x).diff(x) # == y.diff(x)\n",
    "q2"
   ]
  },
  {
   "cell_type": "code",
   "execution_count": 451,
   "id": "5dd5c492-c6f9-4443-b7f3-010a8726756a",
   "metadata": {},
   "outputs": [
    {
     "data": {
      "text/latex": [
       "$\\displaystyle 2^{x} \\log{\\left(2 \\right)} + 2 x + 1$"
      ],
      "text/plain": [
       "2**x*log(2) + 2*x + 1"
      ]
     },
     "execution_count": 451,
     "metadata": {},
     "output_type": "execute_result"
    }
   ],
   "source": [
    "q3= limit(\n",
    "    (f(x+dx)-f(x))/dx, \n",
    "    dx, \n",
    "    0)\n",
    "q3"
   ]
  },
  {
   "cell_type": "code",
   "execution_count": 452,
   "id": "38ae5745-d3b1-46bc-8be8-a652fbc21224",
   "metadata": {},
   "outputs": [
    {
     "data": {
      "text/plain": [
       "(True, True)"
      ]
     },
     "execution_count": 452,
     "metadata": {},
     "output_type": "execute_result"
    }
   ],
   "source": [
    "q1==q2, q2==q3"
   ]
  },
  {
   "cell_type": "code",
   "execution_count": 453,
   "id": "8ad45079-f55a-4d50-8a50-87013333fb9e",
   "metadata": {},
   "outputs": [
    {
     "data": {
      "text/plain": [
       "True"
      ]
     },
     "execution_count": 453,
     "metadata": {},
     "output_type": "execute_result"
    }
   ],
   "source": [
    "q1.simplify()==q2.simplify()"
   ]
  },
  {
   "cell_type": "code",
   "execution_count": 454,
   "id": "f0f38678-0871-491d-9299-a7ccae3af701",
   "metadata": {},
   "outputs": [
    {
     "data": {
      "text/plain": [
       "True"
      ]
     },
     "execution_count": 454,
     "metadata": {},
     "output_type": "execute_result"
    }
   ],
   "source": [
    "q1.simplify()==q3.simplify()"
   ]
  },
  {
   "cell_type": "code",
   "execution_count": 455,
   "id": "4fc309e1-e399-42f8-a5b8-e1906ec3254c",
   "metadata": {},
   "outputs": [
    {
     "data": {
      "text/plain": [
       "True"
      ]
     },
     "execution_count": 455,
     "metadata": {},
     "output_type": "execute_result"
    }
   ],
   "source": [
    "q2.simplify()==q3.simplify()"
   ]
  },
  {
   "cell_type": "code",
   "execution_count": 468,
   "id": "af7db14a-0498-4855-945f-2204eb851680",
   "metadata": {},
   "outputs": [
    {
     "data": {
      "text/latex": [
       "$\\displaystyle f(x)= 2^{x} + x^{2} + x + 1$"
      ],
      "text/plain": [
       "<IPython.core.display.Math object>"
      ]
     },
     "metadata": {},
     "output_type": "display_data"
    },
    {
     "data": {
      "image/png": "[encoded data removed]",
      "text/plain": [
       "<Figure size 432x288 with 1 Axes>"
      ]
     },
     "metadata": {},
     "output_type": "display_data"
    },
    {
     "data": {
      "text/plain": [
       "<sympy.plotting.plot.Plot at 0x1b26a93bcd0>"
      ]
     },
     "execution_count": 468,
     "metadata": {},
     "output_type": "execute_result"
    }
   ],
   "source": [
    "# 畫圖\n",
    "import sympy as sm\n",
    "import sympy.plotting as smplt\n",
    "\n",
    "\n",
    "display(Math(\n",
    "    f'f(x)= {sm.latex(f(x))}'\n",
    "))\n",
    "\n",
    "smplt.plot(f(x),(x,-3,3))"
   ]
  },
  {
   "cell_type": "code",
   "execution_count": 390,
   "id": "956cf0ed-915e-4e7a-bb12-a67770e769b3",
   "metadata": {},
   "outputs": [],
   "source": [
    "# Sum Rule\n",
    "# Product Rule\n",
    "# Quotient rule\n",
    "# Power Rule\n",
    "# Chain Rule\n",
    "# Antiderivative\n",
    "# Integrals\n",
    "# The fundamental theorem of calculus\n",
    "# Substitution rule\n",
    "# Areas between curves\n",
    "# Integration by parts\n",
    "# Multivariable calculus\n",
    "# Partial derivatives\n",
    "# Chain rule (again)\n"
   ]
  },
  {
   "cell_type": "code",
   "execution_count": null,
   "id": "7af94885-90e8-410a-b4fc-8b1c058a1eb5",
   "metadata": {},
   "outputs": [],
   "source": []
  },
  {
   "cell_type": "markdown",
   "id": "a0f50586-c6e1-4f3f-ae9d-683a5eefb177",
   "metadata": {},
   "source": [
    "\n",
    "\n",
    "$\n",
    "f'(x) \n",
    "= \\dot{f}(x)\n",
    "=\\frac{d}{dx}(f(x))\n",
    "$\n",
    "\n",
    "\n",
    "$\n",
    "df(x) \n",
    "= f(x+dx) - f(x)\n",
    "\\\\\n",
    "= f'(x) dx\n",
    "\\\\\n",
    "= \\frac{df}{dx} dx\n",
    "$\n",
    "\n",
    "$\n",
    "df(x,y) \n",
    "= f(x+dx, y+dy) - f(x,y)\n",
    "\\\\\n",
    "= \n",
    "\\frac{\\partial f}{\\partial x} dx\n",
    "+\n",
    "\\frac{\\partial f}{\\partial y} dy\n",
    "$"
   ]
  },
  {
   "cell_type": "code",
   "execution_count": null,
   "id": "17fc2600-a503-4ea2-afd1-afca4c919f38",
   "metadata": {},
   "outputs": [],
   "source": []
  },
  {
   "cell_type": "code",
   "execution_count": null,
   "id": "09c208e7-da25-4a15-9edd-3f9abb5d6699",
   "metadata": {},
   "outputs": [],
   "source": []
  },
  {
   "cell_type": "code",
   "execution_count": 520,
   "id": "9be91675-db54-40b6-84af-21401722ae6d",
   "metadata": {},
   "outputs": [],
   "source": [
    "# Multivariable calculus\n",
    "# Chain rule (again)\n",
    "import sympy as sm\n",
    "\n",
    "x, y, dx, dy= sm.symbols('x, y, dx, dy')\n",
    "\n",
    "def f(x,y):\n",
    "    z= x**2 + x*y + y**2\n",
    "    return z"
   ]
  },
  {
   "cell_type": "code",
   "execution_count": 522,
   "id": "b71207a5-3c33-4a30-94b6-b8221b527d23",
   "metadata": {},
   "outputs": [
    {
     "data": {
      "text/latex": [
       "$\\displaystyle x^{2} + x y + y^{2}$"
      ],
      "text/plain": [
       "x**2 + x*y + y**2"
      ]
     },
     "execution_count": 522,
     "metadata": {},
     "output_type": "execute_result"
    }
   ],
   "source": [
    "z= f(x,y)\n",
    "z"
   ]
  },
  {
   "cell_type": "code",
   "execution_count": 525,
   "id": "1c7b6243-8c3c-4aab-9fcc-cfa62770c8b1",
   "metadata": {},
   "outputs": [],
   "source": [
    "zx= z.diff(x)\n",
    "zx"
   ]
  },
  {
   "cell_type": "code",
   "execution_count": 527,
   "id": "4728f7cb-7099-472c-b8e7-37d8cd36062b",
   "metadata": {},
   "outputs": [
    {
     "data": {
      "text/latex": [
       "$\\displaystyle x + 2 y$"
      ],
      "text/plain": [
       "x + 2*y"
      ]
     },
     "execution_count": 527,
     "metadata": {},
     "output_type": "execute_result"
    }
   ],
   "source": [
    "zy= z.diff(y)\n",
    "zy"
   ]
  },
  {
   "cell_type": "code",
   "execution_count": 528,
   "id": "a6243713-286d-4c55-abe3-52fcfbe32591",
   "metadata": {},
   "outputs": [
    {
     "data": {
      "text/latex": [
       "$\\displaystyle - x^{2} - x y - y^{2} + \\left(dx + x\\right)^{2} + \\left(dx + x\\right) \\left(dy + y\\right) + \\left(dy + y\\right)^{2}$"
      ],
      "text/plain": [
       "-x**2 - x*y - y**2 + (dx + x)**2 + (dx + x)*(dy + y) + (dy + y)**2"
      ]
     },
     "execution_count": 528,
     "metadata": {},
     "output_type": "execute_result"
    }
   ],
   "source": [
    "dz= f(x+dx, y+dy) -f(x,y)\n",
    "dz"
   ]
  },
  {
   "cell_type": "code",
   "execution_count": 532,
   "id": "685d2513-34e1-4b5a-ad23-d1c76100d8b8",
   "metadata": {},
   "outputs": [
    {
     "data": {
      "text/latex": [
       "$\\displaystyle 2 x + y$"
      ],
      "text/plain": [
       "2*x + y"
      ]
     },
     "execution_count": 532,
     "metadata": {},
     "output_type": "execute_result"
    }
   ],
   "source": [
    "sm.limit(\n",
    "(dz/dx).subs(dy,0),\n",
    "dx,0)"
   ]
  },
  {
   "cell_type": "code",
   "execution_count": 533,
   "id": "5e47caa6-0ba4-422a-8299-d17ce3ef1887",
   "metadata": {},
   "outputs": [
    {
     "data": {
      "text/latex": [
       "$\\displaystyle 2 x + y$"
      ],
      "text/plain": [
       "2*x + y"
      ]
     },
     "execution_count": 533,
     "metadata": {},
     "output_type": "execute_result"
    }
   ],
   "source": [
    "z.diff(x)"
   ]
  },
  {
   "cell_type": "code",
   "execution_count": 535,
   "id": "488ca2e0-6df3-4213-ba1d-27be6f87fef3",
   "metadata": {},
   "outputs": [
    {
     "data": {
      "text/latex": [
       "$\\displaystyle dx \\left(2 x + y\\right) + dy \\left(x + 2 y\\right)$"
      ],
      "text/plain": [
       "dx*(2*x + y) + dy*(x + 2*y)"
      ]
     },
     "execution_count": 535,
     "metadata": {},
     "output_type": "execute_result"
    }
   ],
   "source": [
    "z.diff(x) * dx + z.diff(y) *dy"
   ]
  },
  {
   "cell_type": "code",
   "execution_count": 538,
   "id": "13eb36c5-0d46-49a9-89b6-927534c07282",
   "metadata": {},
   "outputs": [
    {
     "data": {
      "text/latex": [
       "$\\displaystyle \\frac{- x y + x \\left(dy + y\\right) - y^{2} + \\left(dy + y\\right)^{2}}{dy}$"
      ],
      "text/plain": [
       "(-x*y + x*(dy + y) - y**2 + (dy + y)**2)/dy"
      ]
     },
     "execution_count": 538,
     "metadata": {},
     "output_type": "execute_result"
    }
   ],
   "source": [
    "dz.subs(dx,0)/dy"
   ]
  },
  {
   "cell_type": "code",
   "execution_count": 540,
   "id": "77f313e1-1311-404b-bb32-2e97405fbe98",
   "metadata": {},
   "outputs": [
    {
     "data": {
      "text/latex": [
       "$\\displaystyle \n",
       "\\frac\n",
       "{\\partial f(x,y)}\n",
       "{\\partial x}\n",
       "$"
      ],
      "text/plain": [
       "<IPython.core.display.Math object>"
      ]
     },
     "execution_count": 540,
     "metadata": {},
     "output_type": "execute_result"
    }
   ],
   "source": [
    "s= '''\n",
    "\\\\frac\n",
    "{\\\\partial f(x,y)}\n",
    "{\\\\partial x}\n",
    "'''\n",
    "Math(s)"
   ]
  },
  {
   "cell_type": "code",
   "execution_count": 541,
   "id": "894c840f-7548-408d-8429-f123e9ce3332",
   "metadata": {},
   "outputs": [
    {
     "data": {
      "text/latex": [
       "$\\displaystyle 2 x + y$"
      ],
      "text/plain": [
       "<IPython.core.display.Math object>"
      ]
     },
     "execution_count": 541,
     "metadata": {},
     "output_type": "execute_result"
    }
   ],
   "source": [
    "s= sm.latex(\n",
    "    f(x,y).diff(x))\n",
    "Math(s)"
   ]
  },
  {
   "cell_type": "code",
   "execution_count": 545,
   "id": "3ef345eb-f9d9-4aba-ab84-a4bc909e1d92",
   "metadata": {},
   "outputs": [
    {
     "data": {
      "text/latex": [
       "$\\displaystyle f{\\left(u \\right)}$"
      ],
      "text/plain": [
       "f(u)"
      ]
     },
     "execution_count": 545,
     "metadata": {},
     "output_type": "execute_result"
    }
   ],
   "source": [
    "f= sm.Function('f')\n",
    "f(u)"
   ]
  },
  {
   "cell_type": "code",
   "execution_count": 551,
   "id": "34e10ac6-0a02-4195-854f-9b6089e8f088",
   "metadata": {},
   "outputs": [
    {
     "data": {
      "text/latex": [
       "$\\displaystyle 2^{f{\\left(u \\right)}} \\log{\\left(2 \\right)} \\frac{d}{d u} f{\\left(u \\right)}$"
      ],
      "text/plain": [
       "2**f(u)*log(2)*Derivative(f(u), u)"
      ]
     },
     "execution_count": 551,
     "metadata": {},
     "output_type": "execute_result"
    }
   ],
   "source": [
    "(2**f(u)).diff(u)"
   ]
  },
  {
   "cell_type": "code",
   "execution_count": 552,
   "id": "2322dece-0302-4d76-baac-904a14abfeb4",
   "metadata": {},
   "outputs": [
    {
     "data": {
      "text/plain": [
       "\u001b[1;31mInit signature:\u001b[0m \u001b[0mf\u001b[0m\u001b[1;33m(\u001b[0m\u001b[1;33m*\u001b[0m\u001b[0margs\u001b[0m\u001b[1;33m)\u001b[0m\u001b[1;33m\u001b[0m\u001b[1;33m\u001b[0m\u001b[0m\n",
       "\u001b[1;31mDocstring:\u001b[0m     \n",
       "Base class for expressions resulting from the application of an undefined\n",
       "function.\n",
       "\u001b[1;31mFile:\u001b[0m           m:\\programdata\\anaconda3\\lib\\site-packages\\sympy\\core\\function.py\n",
       "\u001b[1;31mType:\u001b[0m           UndefinedFunction\n",
       "\u001b[1;31mSubclasses:\u001b[0m     \n"
      ]
     },
     "metadata": {},
     "output_type": "display_data"
    }
   ],
   "source": [
    "f?"
   ]
  },
  {
   "cell_type": "code",
   "execution_count": null,
   "id": "a866f6cb-07d9-468c-9692-778a9d6e1b68",
   "metadata": {},
   "outputs": [],
   "source": []
  },
  {
   "cell_type": "code",
   "execution_count": 489,
   "id": "3b9d00c8-5a5c-4937-be92-cbc57bd10c83",
   "metadata": {},
   "outputs": [
    {
     "data": {
      "text/latex": [
       "$\\displaystyle 2 x + y$"
      ],
      "text/plain": [
       "2*x + y"
      ]
     },
     "execution_count": 489,
     "metadata": {},
     "output_type": "execute_result"
    }
   ],
   "source": [
    "\n",
    "sm.limit(\n",
    "(f(x+dx, y) -f(x, y))/dx,\n",
    "dx, 0)"
   ]
  },
  {
   "cell_type": "code",
   "execution_count": 553,
   "id": "538a1f7c-c0fc-475f-9393-6c494c60cbc7",
   "metadata": {},
   "outputs": [
    {
     "data": {
      "text/plain": [
       "f"
      ]
     },
     "execution_count": 553,
     "metadata": {},
     "output_type": "execute_result"
    }
   ],
   "source": [
    "f"
   ]
  },
  {
   "cell_type": "code",
   "execution_count": null,
   "id": "109a4a95-bd3f-44e8-ace0-cf95778ca76a",
   "metadata": {},
   "outputs": [],
   "source": []
  },
  {
   "cell_type": "code",
   "execution_count": null,
   "id": "4a1aa168-93cf-4b42-812d-02d7c5c28616",
   "metadata": {},
   "outputs": [],
   "source": []
  },
  {
   "cell_type": "code",
   "execution_count": null,
   "id": "057b6eb0-5cad-4f8d-a6d8-0db3ac3ca85e",
   "metadata": {},
   "outputs": [],
   "source": []
  },
  {
   "cell_type": "code",
   "execution_count": 490,
   "id": "28bc0da4-2179-4446-b909-701b1786a3cd",
   "metadata": {},
   "outputs": [
    {
     "data": {
      "text/latex": [
       "$\\displaystyle x + 2 y$"
      ],
      "text/plain": [
       "x + 2*y"
      ]
     },
     "execution_count": 490,
     "metadata": {},
     "output_type": "execute_result"
    }
   ],
   "source": [
    "sm.limit(\n",
    "(f(x, y+dy) -f(x, y))/dy,\n",
    "dy, 0)"
   ]
  },
  {
   "cell_type": "code",
   "execution_count": 491,
   "id": "53dc21ee-3fed-4d17-aec4-e990feac5f6e",
   "metadata": {},
   "outputs": [
    {
     "data": {
      "text/latex": [
       "$\\displaystyle 2 x + y$"
      ],
      "text/plain": [
       "2*x + y"
      ]
     },
     "execution_count": 491,
     "metadata": {},
     "output_type": "execute_result"
    }
   ],
   "source": [
    "f(x,y).diff(x)"
   ]
  },
  {
   "cell_type": "code",
   "execution_count": 492,
   "id": "9bbd28f8-1269-4793-8f74-265ee31bdf18",
   "metadata": {},
   "outputs": [
    {
     "data": {
      "text/latex": [
       "$\\displaystyle x + 2 y$"
      ],
      "text/plain": [
       "x + 2*y"
      ]
     },
     "execution_count": 492,
     "metadata": {},
     "output_type": "execute_result"
    }
   ],
   "source": [
    "f(x,y).diff(y)"
   ]
  },
  {
   "cell_type": "code",
   "execution_count": 499,
   "id": "c5dcb560-e472-464e-a749-f949bb4c6bc3",
   "metadata": {},
   "outputs": [
    {
     "data": {
      "text/latex": [
       "$\\displaystyle dx \\left(2 x + y\\right) + dy \\left(x + 2 y\\right)$"
      ],
      "text/plain": [
       "dx*(2*x + y) + dy*(x + 2*y)"
      ]
     },
     "execution_count": 499,
     "metadata": {},
     "output_type": "execute_result"
    }
   ],
   "source": [
    "df1= f(x,y).diff(x) * dx + f(x,y).diff(y) * dy\n",
    "df1"
   ]
  },
  {
   "cell_type": "code",
   "execution_count": 500,
   "id": "c04f15a4-b544-4cb1-a612-51684bc37907",
   "metadata": {},
   "outputs": [
    {
     "data": {
      "text/latex": [
       "$\\displaystyle - x^{2} - x y - y^{2} + \\left(dx + x\\right)^{2} + \\left(dx + x\\right) \\left(dy + y\\right) + \\left(dy + y\\right)^{2}$"
      ],
      "text/plain": [
       "-x**2 - x*y - y**2 + (dx + x)**2 + (dx + x)*(dy + y) + (dy + y)**2"
      ]
     },
     "execution_count": 500,
     "metadata": {},
     "output_type": "execute_result"
    }
   ],
   "source": [
    "df2= f(x+dx, y+dy)-f(x,y)\n",
    "df2"
   ]
  },
  {
   "cell_type": "code",
   "execution_count": 508,
   "id": "16192430-4f9c-4e11-882f-97a6199a2ae6",
   "metadata": {},
   "outputs": [
    {
     "data": {
      "text/plain": [
       "(dy*(x + 2*y), dy*(dy + x + 2*y))"
      ]
     },
     "execution_count": 508,
     "metadata": {},
     "output_type": "execute_result"
    }
   ],
   "source": [
    "sm.limit(df1, dx,0).simplify(), sm.limit(df2, dx,0).simplify()\n"
   ]
  },
  {
   "cell_type": "code",
   "execution_count": 509,
   "id": "9f32f054-8a12-4732-82d1-dc0fc6d411c9",
   "metadata": {},
   "outputs": [
    {
     "data": {
      "text/plain": [
       "(dx*(2*x + y), dx*(dx + 2*x + y))"
      ]
     },
     "execution_count": 509,
     "metadata": {},
     "output_type": "execute_result"
    }
   ],
   "source": [
    "sm.limit(df1, dy,0).simplify(), sm.limit(df2, dy,0).simplify()\n"
   ]
  },
  {
   "cell_type": "code",
   "execution_count": null,
   "id": "308cf009-938b-49b6-9fbc-aecc344a2056",
   "metadata": {},
   "outputs": [],
   "source": []
  },
  {
   "cell_type": "code",
   "execution_count": null,
   "id": "bdf822b8-ec21-4b1b-8069-788772ee1be0",
   "metadata": {},
   "outputs": [],
   "source": []
  },
  {
   "cell_type": "code",
   "execution_count": 457,
   "id": "8e3d2787-6637-4323-9ca8-a1be49abdfb6",
   "metadata": {},
   "outputs": [],
   "source": [
    "# 為了 美化，劃出格子點\n",
    "# https://stackoverflow.com/questions/44369537/how-to-display-grid-on-plot-in-sympy\n",
    "import seaborn as sns\n",
    "sns.set()\n",
    "sns.set_style(\"whitegrid\") #, {'grid.linestyle': '--'})\n",
    "\n"
   ]
  },
  {
   "cell_type": "code",
   "execution_count": 519,
   "id": "6d770519-956c-4d59-891d-3f10d36b06f0",
   "metadata": {},
   "outputs": [
    {
     "data": {
      "text/latex": [
       "$\\displaystyle z= (x + y)**2$"
      ],
      "text/plain": [
       "<IPython.core.display.Math object>"
      ]
     },
     "metadata": {},
     "output_type": "display_data"
    },
    {
     "data": {
      "image/png": "[encoded data removed]",
      "text/plain": [
       "<Figure size 432x288 with 1 Axes>"
      ]
     },
     "metadata": {},
     "output_type": "display_data"
    },
    {
     "data": {
      "text/plain": [
       "<sympy.plotting.plot.Plot at 0x1b26b755a30>"
      ]
     },
     "execution_count": 519,
     "metadata": {},
     "output_type": "execute_result"
    }
   ],
   "source": [
    "# 畫 z= f(x,y)\n",
    "\n",
    "x,y= sm.symbols('x,y')\n",
    "\n",
    "#z= x+y\n",
    "\n",
    "def f(x,y):\n",
    "    z= (x+y)**2 #x**2 + 2*x*y +y**2\n",
    "    return z\n",
    "\n",
    "z= f(x,y)\n",
    "\n",
    "display(Math(f'z= {z}'))\n",
    "\n",
    "smplt.plot3d(z, \n",
    "             (x,0,1),\n",
    "             (y,0,1), \n",
    "             xlabel= 'x', \n",
    "             ylabel= 'y')"
   ]
  },
  {
   "cell_type": "code",
   "execution_count": 441,
   "id": "b741e1bc-bebc-4b9d-aa6e-db243e86c6d5",
   "metadata": {},
   "outputs": [
    {
     "data": {
      "text/latex": [
       "$\\displaystyle z= sin(y)*cos(x)$"
      ],
      "text/plain": [
       "<IPython.core.display.Math object>"
      ]
     },
     "metadata": {},
     "output_type": "display_data"
    },
    {
     "data": {
      "image/png": "[encoded data removed]",
      "text/plain": [
       "<Figure size 432x288 with 1 Axes>"
      ]
     },
     "metadata": {},
     "output_type": "display_data"
    },
    {
     "data": {
      "text/plain": [
       "<sympy.plotting.plot.Plot at 0x1b268e503a0>"
      ]
     },
     "execution_count": 441,
     "metadata": {},
     "output_type": "execute_result"
    }
   ],
   "source": [
    "z= z.diff(x)\n",
    "\n",
    "display(Math(f'z= {z}'))\n",
    "\n",
    "smplt.plot3d(z, \n",
    "             (x,-10,10),\n",
    "             (y,-10,10), \n",
    "             xlabel= 'x', \n",
    "             ylabel= 'y')"
   ]
  },
  {
   "cell_type": "code",
   "execution_count": 442,
   "id": "1dfaa935-49f3-4beb-8abd-a477bea91c52",
   "metadata": {},
   "outputs": [
    {
     "data": {
      "text/latex": [
       "$\\displaystyle z= -sin(x)*sin(y)$"
      ],
      "text/plain": [
       "<IPython.core.display.Math object>"
      ]
     },
     "metadata": {},
     "output_type": "display_data"
    },
    {
     "data": {
      "image/png": "[encoded data removed]",
      "text/plain": [
       "<Figure size 432x288 with 1 Axes>"
      ]
     },
     "metadata": {},
     "output_type": "display_data"
    },
    {
     "data": {
      "text/plain": [
       "<sympy.plotting.plot.Plot at 0x1b2690ae040>"
      ]
     },
     "execution_count": 442,
     "metadata": {},
     "output_type": "execute_result"
    }
   ],
   "source": [
    "z= z.diff(x)\n",
    "\n",
    "display(Math(f'z= {z}'))\n",
    "\n",
    "smplt.plot3d(z, \n",
    "             (x,-10,10),\n",
    "             (y,-10,10), \n",
    "             xlabel= 'x', \n",
    "             ylabel= 'y')\n"
   ]
  },
  {
   "cell_type": "code",
   "execution_count": null,
   "id": "e5f8439a-4344-40b6-9d40-5c224fd65232",
   "metadata": {},
   "outputs": [],
   "source": []
  },
  {
   "cell_type": "markdown",
   "id": "b9f1775d-6231-463c-b24f-48412ceb7659",
   "metadata": {},
   "source": [
    "# Chain Rule"
   ]
  },
  {
   "cell_type": "code",
   "execution_count": 20,
   "id": "9e33c792-0545-4bfd-916e-8a41ac142ecc",
   "metadata": {},
   "outputs": [
    {
     "data": {
      "text/latex": [
       "$\\displaystyle s^{2} + s + 1$"
      ],
      "text/plain": [
       "s**2 + s + 1"
      ]
     },
     "metadata": {},
     "output_type": "display_data"
    },
    {
     "data": {
      "text/latex": [
       "$\\displaystyle t^{3}$"
      ],
      "text/plain": [
       "t**3"
      ]
     },
     "metadata": {},
     "output_type": "display_data"
    }
   ],
   "source": [
    "def f(x):\n",
    "    y= 1 + x + x**2\n",
    "    return y\n",
    "\n",
    "def g(x):\n",
    "    y= x**3\n",
    "    return y\n",
    "\n",
    "display(f(s))\n",
    "display(g(t))"
   ]
  },
  {
   "cell_type": "code",
   "execution_count": 23,
   "id": "04b0e0d0-a456-40be-bc98-d64326dad54f",
   "metadata": {},
   "outputs": [
    {
     "data": {
      "text/latex": [
       "$\\displaystyle s^{3} \\left(s^{2} + s + 1\\right)$"
      ],
      "text/plain": [
       "s**3*(s**2 + s + 1)"
      ]
     },
     "execution_count": 23,
     "metadata": {},
     "output_type": "execute_result"
    }
   ],
   "source": [
    "f(s)*g(s)"
   ]
  },
  {
   "cell_type": "code",
   "execution_count": 27,
   "id": "a1cdb01a-5187-4e0c-92be-1d6d28ee2654",
   "metadata": {},
   "outputs": [
    {
     "data": {
      "text/latex": [
       "$\\displaystyle \\frac{s^{2} + s + 1}{s^{3}}$"
      ],
      "text/plain": [
       "(s**2 + s + 1)/s**3"
      ]
     },
     "execution_count": 27,
     "metadata": {},
     "output_type": "execute_result"
    }
   ],
   "source": [
    "f(s)/g(s)"
   ]
  },
  {
   "cell_type": "code",
   "execution_count": 24,
   "id": "8e91421c-9653-4bd8-a444-c7201be29cfe",
   "metadata": {},
   "outputs": [
    {
     "data": {
      "text/latex": [
       "$\\displaystyle s^{6} + s^{3} + 1$"
      ],
      "text/plain": [
       "s**6 + s**3 + 1"
      ]
     },
     "execution_count": 24,
     "metadata": {},
     "output_type": "execute_result"
    }
   ],
   "source": [
    "f(g(s))"
   ]
  },
  {
   "cell_type": "code",
   "execution_count": 25,
   "id": "c97650c8-57d7-4190-b8b3-41835cb4218e",
   "metadata": {},
   "outputs": [
    {
     "data": {
      "text/latex": [
       "$\\displaystyle \\left(s^{2} + s + 1\\right)^{3}$"
      ],
      "text/plain": [
       "(s**2 + s + 1)**3"
      ]
     },
     "execution_count": 25,
     "metadata": {},
     "output_type": "execute_result"
    }
   ],
   "source": [
    "g(f(s))"
   ]
  },
  {
   "cell_type": "markdown",
   "id": "72b61544-9b22-488c-ad86-f5d07f284b73",
   "metadata": {},
   "source": [
    "$$\n",
    "F(s)= f(g(s))\n",
    "\\\\\n",
    "\\frac\n",
    "{\\partial f}\n",
    "{\\partial g}\n",
    "\\cdot\n",
    "\\frac\n",
    "{\\partial g}\n",
    "{\\partial s}\n",
    "$$\n",
    "\n"
   ]
  },
  {
   "cell_type": "code",
   "execution_count": 35,
   "id": "6350755b-d138-4005-89a7-7bc836f257f9",
   "metadata": {},
   "outputs": [
    {
     "data": {
      "text/latex": [
       "$\\displaystyle s^{2} + s + 1$"
      ],
      "text/plain": [
       "s**2 + s + 1"
      ]
     },
     "execution_count": 35,
     "metadata": {},
     "output_type": "execute_result"
    }
   ],
   "source": [
    "f(s)"
   ]
  },
  {
   "cell_type": "code",
   "execution_count": 33,
   "id": "896a29de-7bb6-4af1-b7c9-aea64daf62d5",
   "metadata": {},
   "outputs": [
    {
     "data": {
      "text/latex": [
       "$\\displaystyle s^{6} + s^{3} + 1$"
      ],
      "text/plain": [
       "s**6 + s**3 + 1"
      ]
     },
     "execution_count": 33,
     "metadata": {},
     "output_type": "execute_result"
    }
   ],
   "source": [
    "F= f(g(s))\n",
    "F"
   ]
  },
  {
   "cell_type": "code",
   "execution_count": 34,
   "id": "a6970f89-3969-4702-9272-7cc368022b26",
   "metadata": {},
   "outputs": [
    {
     "data": {
      "text/latex": [
       "$\\displaystyle 6 s^{5} + 3 s^{2}$"
      ],
      "text/plain": [
       "6*s**5 + 3*s**2"
      ]
     },
     "execution_count": 34,
     "metadata": {},
     "output_type": "execute_result"
    }
   ],
   "source": [
    "F.diff(s)"
   ]
  },
  {
   "cell_type": "markdown",
   "id": "3f712c35-a351-47a9-86ea-6b5345d6e096",
   "metadata": {},
   "source": [
    "\n",
    "### Computing the area between two functions\n",
    "\n",
    "The area between two functions is given by the formula \n",
    "\n",
    "$\n",
    "A = \\int_{a}^{b}f(x) - g(x) dx\n",
    "$\n",
    "\n",
    "In our example, \n",
    "$\n",
    "f(x)=x^2\n",
    "$,  \n",
    "and \n",
    "$\n",
    "g(x)=x\n",
    "$\n",
    "\n",
    "Therefore, \n",
    "$\n",
    "A = \\int_{a}^{b}(x^2 - x) dx\n",
    "$\n",
    "\n",
    "We will compute the area between the two crossing points, that is, where the two functions are equal. This is given by the two solutions to the equation\n",
    "\n",
    "$$x^2=x$$\n",
    "\n",
    "The two solutions are $x=0$ and $x=1$. This gives us the definite integral of\n",
    "\n",
    "$$A = \\int_{0}^{1}(x^2 - x) dx$$\n",
    "\n",
    "The final answer will be given in the code below."
   ]
  },
  {
   "cell_type": "code",
   "execution_count": 36,
   "id": "c986d73e-7038-4029-9487-275e15ef80b9",
   "metadata": {},
   "outputs": [
    {
     "data": {
      "text/latex": [
       "$\\displaystyle x^{2} + x + 1$"
      ],
      "text/plain": [
       "x**2 + x + 1"
      ]
     },
     "execution_count": 36,
     "metadata": {},
     "output_type": "execute_result"
    }
   ],
   "source": [
    "f(x)"
   ]
  },
  {
   "cell_type": "code",
   "execution_count": 37,
   "id": "d869ef88-c6b6-4529-877f-a4f116514f83",
   "metadata": {},
   "outputs": [
    {
     "data": {
      "text/latex": [
       "$\\displaystyle x^{3}$"
      ],
      "text/plain": [
       "x**3"
      ]
     },
     "execution_count": 37,
     "metadata": {},
     "output_type": "execute_result"
    }
   ],
   "source": [
    "g(x)"
   ]
  },
  {
   "cell_type": "code",
   "execution_count": 38,
   "id": "3bb1c13c-3254-4285-b641-68a6ebf6fdac",
   "metadata": {},
   "outputs": [
    {
     "data": {
      "text/latex": [
       "$\\displaystyle x^{6} + x^{3} + 1$"
      ],
      "text/plain": [
       "x**6 + x**3 + 1"
      ]
     },
     "execution_count": 38,
     "metadata": {},
     "output_type": "execute_result"
    }
   ],
   "source": [
    "f(g(x))"
   ]
  },
  {
   "cell_type": "code",
   "execution_count": 40,
   "id": "ff0b3eae-a8f3-4753-909d-d66c9883da83",
   "metadata": {},
   "outputs": [
    {
     "data": {
      "text/latex": [
       "$\\displaystyle x^{6} + 3 x^{5} + 6 x^{4} + 7 x^{3} + 6 x^{2} + 3 x + 1$"
      ],
      "text/plain": [
       "x**6 + 3*x**5 + 6*x**4 + 7*x**3 + 6*x**2 + 3*x + 1"
      ]
     },
     "execution_count": 40,
     "metadata": {},
     "output_type": "execute_result"
    }
   ],
   "source": [
    "g(f(x)).expand()"
   ]
  },
  {
   "cell_type": "code",
   "execution_count": null,
   "id": "a17afbdc-1c0a-4f92-bcc8-dd75f68f6890",
   "metadata": {},
   "outputs": [],
   "source": []
  }
 ],
 "metadata": {
  "kernelspec": {
   "display_name": "Python 3",
   "language": "python",
   "name": "python3"
  },
  "language_info": {
   "codemirror_mode": {
    "name": "ipython",
    "version": 3
   },
   "file_extension": ".py",
   "mimetype": "text/x-python",
   "name": "python",
   "nbconvert_exporter": "python",
   "pygments_lexer": "ipython3",
   "version": "3.8.8"
  }
 },
 "nbformat": 4,
 "nbformat_minor": 5
}
