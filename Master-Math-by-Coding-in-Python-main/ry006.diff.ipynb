{
 "cells": [
  {
   "cell_type": "markdown",
   "id": "4021fd65-6187-4121-9f2c-680aca1e1884",
   "metadata": {},
   "source": [
    "# Single variable calculus\n",
    "- Derivatives\n",
    "- Sum rule\n",
    "- Power rule\n",
    "- Trigonometric functions\n",
    "- First and second derivatives\n",
    "- Product rule\n",
    "- Quotient rule\n",
    "- Chain rule\n",
    "- Antiderivative\n",
    "- Integrals\n",
    "- The fundamental theorem of calculus\n",
    "- Substitution rule\n",
    "- Areas between curves\n",
    "- Integration by parts\n",
    "- "
   ]
  },
  {
   "cell_type": "code",
   "execution_count": 208,
   "id": "ce905ba3-c477-4f52-b8cd-8ffa727d5189",
   "metadata": {},
   "outputs": [],
   "source": [
    "import sympy as sm\n",
    "\n",
    "x= sm.symbols('x')\n",
    "\n",
    "def f(x):\n",
    "    y= 1+ x+ x**2 + x**3\n",
    "    return y\n",
    "\n",
    "y= f(x)"
   ]
  },
  {
   "cell_type": "code",
   "execution_count": 209,
   "id": "807c4343-7967-4d60-a0f1-8b7ab3d88875",
   "metadata": {},
   "outputs": [
    {
     "data": {
      "text/latex": [
       "$\\displaystyle x$"
      ],
      "text/plain": [
       "x"
      ]
     },
     "execution_count": 209,
     "metadata": {},
     "output_type": "execute_result"
    }
   ],
   "source": [
    "x"
   ]
  },
  {
   "cell_type": "code",
   "execution_count": 210,
   "id": "fe878e34-44b4-4ec8-bfbb-ebfc30d7cc23",
   "metadata": {},
   "outputs": [
    {
     "data": {
      "text/plain": [
       "<function __main__.f(x)>"
      ]
     },
     "execution_count": 210,
     "metadata": {},
     "output_type": "execute_result"
    }
   ],
   "source": [
    "f"
   ]
  },
  {
   "cell_type": "code",
   "execution_count": 211,
   "id": "bbce2647-f2fe-4e05-8bbf-c76b74d3fa5a",
   "metadata": {},
   "outputs": [
    {
     "data": {
      "text/latex": [
       "$\\displaystyle x^{3} + x^{2} + x + 1$"
      ],
      "text/plain": [
       "x**3 + x**2 + x + 1"
      ]
     },
     "execution_count": 211,
     "metadata": {},
     "output_type": "execute_result"
    }
   ],
   "source": [
    "y"
   ]
  },
  {
   "cell_type": "code",
   "execution_count": 212,
   "id": "856daa26-b87d-4d97-a3b9-2c1cee050b29",
   "metadata": {},
   "outputs": [
    {
     "data": {
      "text/latex": [
       "$\\displaystyle dx$"
      ],
      "text/plain": [
       "dx"
      ]
     },
     "execution_count": 212,
     "metadata": {},
     "output_type": "execute_result"
    }
   ],
   "source": [
    "# Derivatives\n",
    "dx= sm.symbols('dx')\n",
    "dx"
   ]
  },
  {
   "cell_type": "code",
   "execution_count": 213,
   "id": "7f3cc632-c1fc-48e8-9921-2cece3cfd3f0",
   "metadata": {},
   "outputs": [
    {
     "data": {
      "text/latex": [
       "$\\displaystyle dx - x^{3} - x^{2} + \\left(dx + x\\right)^{3} + \\left(dx + x\\right)^{2}$"
      ],
      "text/plain": [
       "dx - x**3 - x**2 + (dx + x)**3 + (dx + x)**2"
      ]
     },
     "execution_count": 213,
     "metadata": {},
     "output_type": "execute_result"
    }
   ],
   "source": [
    "dy= f(x+dx) - f(x)\n",
    "dy"
   ]
  },
  {
   "cell_type": "code",
   "execution_count": 214,
   "id": "6039cd0e-f79f-4df3-8d97-1aaa14a7f0a2",
   "metadata": {},
   "outputs": [
    {
     "data": {
      "text/latex": [
       "$\\displaystyle \\frac{dx - x^{3} - x^{2} + \\left(dx + x\\right)^{3} + \\left(dx + x\\right)^{2}}{dx}$"
      ],
      "text/plain": [
       "(dx - x**3 - x**2 + (dx + x)**3 + (dx + x)**2)/dx"
      ]
     },
     "execution_count": 214,
     "metadata": {},
     "output_type": "execute_result"
    }
   ],
   "source": [
    "dy/dx"
   ]
  },
  {
   "cell_type": "code",
   "execution_count": 215,
   "id": "3e557dee-9dc3-489e-a984-e67dc3c55b57",
   "metadata": {},
   "outputs": [],
   "source": [
    "dy_dx= sm.limit(dy/dx, dx, 0)"
   ]
  },
  {
   "cell_type": "code",
   "execution_count": 216,
   "id": "9ffd5769-5681-48b6-8337-dab83cc4fcff",
   "metadata": {},
   "outputs": [
    {
     "data": {
      "text/latex": [
       "$\\displaystyle 3 x^{2} + 2 x + 1$"
      ],
      "text/plain": [
       "3*x**2 + 2*x + 1"
      ]
     },
     "execution_count": 216,
     "metadata": {},
     "output_type": "execute_result"
    }
   ],
   "source": [
    "f(x).diff(x)"
   ]
  },
  {
   "cell_type": "code",
   "execution_count": 217,
   "id": "8286fd46-8dfc-4aea-9e74-b7d5ecf4616d",
   "metadata": {},
   "outputs": [
    {
     "data": {
      "text/plain": [
       "True"
      ]
     },
     "execution_count": 217,
     "metadata": {},
     "output_type": "execute_result"
    }
   ],
   "source": [
    "dy_dx == f(x).diff(x)"
   ]
  },
  {
   "cell_type": "code",
   "execution_count": 218,
   "id": "554483bd-9b00-4764-a95a-b324456a2691",
   "metadata": {},
   "outputs": [
    {
     "data": {
      "text/latex": [
       "$\\displaystyle 3 x^{2} + 4 x + 1$"
      ],
      "text/plain": [
       "3*x**2 + 4*x + 1"
      ]
     },
     "execution_count": 218,
     "metadata": {},
     "output_type": "execute_result"
    }
   ],
   "source": [
    "# Sum rule\n",
    "def g(x):\n",
    "    y= 1 + x**2\n",
    "    return y\n",
    "\n",
    "(f(x)+g(x)).diff(x)\n"
   ]
  },
  {
   "cell_type": "code",
   "execution_count": 219,
   "id": "4983be6a-b341-45fa-b8a4-973b94bbb979",
   "metadata": {},
   "outputs": [
    {
     "data": {
      "text/latex": [
       "$\\displaystyle 3 x^{2} + 4 x + 1$"
      ],
      "text/plain": [
       "3*x**2 + 4*x + 1"
      ]
     },
     "execution_count": 219,
     "metadata": {},
     "output_type": "execute_result"
    }
   ],
   "source": [
    "f(x).diff(x) + g(x).diff(x)"
   ]
  },
  {
   "cell_type": "code",
   "execution_count": 220,
   "id": "c2030b60-ae95-4b40-a6e1-6cf03010fe92",
   "metadata": {},
   "outputs": [
    {
     "data": {
      "text/plain": [
       "True"
      ]
     },
     "execution_count": 220,
     "metadata": {},
     "output_type": "execute_result"
    }
   ],
   "source": [
    "(f(x)+g(x)).diff(x) == f(x).diff(x) + g(x).diff(x)"
   ]
  },
  {
   "cell_type": "code",
   "execution_count": null,
   "id": "6f941d0c-75d6-4668-977e-5e753ef9623b",
   "metadata": {},
   "outputs": [],
   "source": []
  },
  {
   "cell_type": "code",
   "execution_count": 221,
   "id": "68f7de05-1b1e-4c8d-b5ba-ba713ed62333",
   "metadata": {},
   "outputs": [
    {
     "data": {
      "text/latex": [
       "$\\displaystyle 10 x^{9}$"
      ],
      "text/plain": [
       "10*x**9"
      ]
     },
     "execution_count": 221,
     "metadata": {},
     "output_type": "execute_result"
    }
   ],
   "source": [
    "# Power rule\n",
    "def h(x, n):\n",
    "    y= x**n\n",
    "    return y\n",
    "\n",
    "h(x,10).diff(x)"
   ]
  },
  {
   "cell_type": "code",
   "execution_count": 222,
   "id": "c74f8562-4bd5-4bbf-8e09-7c53cab38f52",
   "metadata": {},
   "outputs": [
    {
     "data": {
      "text/latex": [
       "$\\displaystyle \\frac{m x^{m}}{x}$"
      ],
      "text/plain": [
       "m*x**m/x"
      ]
     },
     "execution_count": 222,
     "metadata": {},
     "output_type": "execute_result"
    }
   ],
   "source": [
    "h(x,m).diff(x)"
   ]
  },
  {
   "cell_type": "code",
   "execution_count": 223,
   "id": "ebf33c07-3acc-4693-a8f0-b321d536c884",
   "metadata": {},
   "outputs": [],
   "source": [
    "m, n= sm.symbols('m, n')\n"
   ]
  },
  {
   "cell_type": "code",
   "execution_count": 224,
   "id": "d9063c13-99c0-407a-84aa-57df29d2924f",
   "metadata": {},
   "outputs": [
    {
     "data": {
      "text/latex": [
       "$\\displaystyle m x^{m - 1}$"
      ],
      "text/plain": [
       "m*x**(m - 1)"
      ]
     },
     "execution_count": 224,
     "metadata": {},
     "output_type": "execute_result"
    }
   ],
   "source": [
    "h(x,m).diff(x).simplify()"
   ]
  },
  {
   "cell_type": "code",
   "execution_count": 225,
   "id": "860d0976-9fe9-41e0-ab54-7f4716f46172",
   "metadata": {},
   "outputs": [
    {
     "data": {
      "text/latex": [
       "$\\displaystyle n x^{n - 1}$"
      ],
      "text/plain": [
       "n*x**(n - 1)"
      ]
     },
     "execution_count": 225,
     "metadata": {},
     "output_type": "execute_result"
    }
   ],
   "source": [
    "h(x,n).diff(x).simplify()"
   ]
  },
  {
   "cell_type": "code",
   "execution_count": null,
   "id": "d4b1c245-b970-4ffd-b69c-efb1e6f55928",
   "metadata": {},
   "outputs": [],
   "source": []
  },
  {
   "cell_type": "code",
   "execution_count": 226,
   "id": "a0b8ed4c-731f-4bec-9245-9c4b676e0b89",
   "metadata": {},
   "outputs": [
    {
     "data": {
      "text/latex": [
       "$\\displaystyle \\cos{\\left(x \\right)}$"
      ],
      "text/plain": [
       "cos(x)"
      ]
     },
     "execution_count": 226,
     "metadata": {},
     "output_type": "execute_result"
    }
   ],
   "source": [
    "# Trigonometric functions\n",
    "def sin(x):\n",
    "    y= sm.sin(x)\n",
    "    return y\n",
    "\n",
    "sin(x).diff(x)"
   ]
  },
  {
   "cell_type": "code",
   "execution_count": 227,
   "id": "6c9ff244-6ff1-4948-a96b-bd3eec895b1f",
   "metadata": {},
   "outputs": [
    {
     "data": {
      "text/latex": [
       "$\\displaystyle - \\sin{\\left(x \\right)}$"
      ],
      "text/plain": [
       "-sin(x)"
      ]
     },
     "execution_count": 227,
     "metadata": {},
     "output_type": "execute_result"
    }
   ],
   "source": [
    "sm.cos(x).diff(x)"
   ]
  },
  {
   "cell_type": "code",
   "execution_count": 228,
   "id": "52f2ddb2-e72b-44d6-9a79-0600c6a95981",
   "metadata": {},
   "outputs": [
    {
     "data": {
      "text/latex": [
       "$\\displaystyle \\tan^{2}{\\left(x \\right)} + 1$"
      ],
      "text/plain": [
       "tan(x)**2 + 1"
      ]
     },
     "execution_count": 228,
     "metadata": {},
     "output_type": "execute_result"
    }
   ],
   "source": [
    "sm.tan(x).diff(x)"
   ]
  },
  {
   "cell_type": "code",
   "execution_count": 229,
   "id": "f5f4baf7-29a8-46d3-bd6a-30d5ed1a062e",
   "metadata": {},
   "outputs": [
    {
     "data": {
      "text/latex": [
       "$\\displaystyle - \\cot^{2}{\\left(x \\right)} - 1$"
      ],
      "text/plain": [
       "-cot(x)**2 - 1"
      ]
     },
     "execution_count": 229,
     "metadata": {},
     "output_type": "execute_result"
    }
   ],
   "source": [
    "sm.cot(x).diff(x)"
   ]
  },
  {
   "cell_type": "code",
   "execution_count": 230,
   "id": "2ec75b9d-c0e5-4386-b9a4-61c4d308b7fc",
   "metadata": {},
   "outputs": [
    {
     "data": {
      "text/latex": [
       "$\\displaystyle \\tan{\\left(x \\right)} \\sec{\\left(x \\right)}$"
      ],
      "text/plain": [
       "tan(x)*sec(x)"
      ]
     },
     "execution_count": 230,
     "metadata": {},
     "output_type": "execute_result"
    }
   ],
   "source": [
    "sm.sec(x).diff(x)"
   ]
  },
  {
   "cell_type": "code",
   "execution_count": 231,
   "id": "5f26a53a-bb58-4974-a3fc-4017409f94e2",
   "metadata": {},
   "outputs": [
    {
     "data": {
      "text/latex": [
       "$\\displaystyle - \\cot{\\left(x \\right)} \\csc{\\left(x \\right)}$"
      ],
      "text/plain": [
       "-cot(x)*csc(x)"
      ]
     },
     "execution_count": 231,
     "metadata": {},
     "output_type": "execute_result"
    }
   ],
   "source": [
    "sm.csc(x).diff(x)"
   ]
  },
  {
   "cell_type": "code",
   "execution_count": 232,
   "id": "39f8e63e-7aba-47a3-9770-3f0c58f3ba4c",
   "metadata": {},
   "outputs": [
    {
     "data": {
      "text/latex": [
       "$\\displaystyle e^{x}$"
      ],
      "text/plain": [
       "exp(x)"
      ]
     },
     "execution_count": 232,
     "metadata": {},
     "output_type": "execute_result"
    }
   ],
   "source": [
    "sm.exp(x).diff(x)"
   ]
  },
  {
   "cell_type": "code",
   "execution_count": 233,
   "id": "24f61283-8471-4830-b70c-bb25392a3728",
   "metadata": {},
   "outputs": [
    {
     "data": {
      "text/latex": [
       "$\\displaystyle \\frac{1}{x}$"
      ],
      "text/plain": [
       "1/x"
      ]
     },
     "execution_count": 233,
     "metadata": {},
     "output_type": "execute_result"
    }
   ],
   "source": [
    "sm.log(x).diff(x)"
   ]
  },
  {
   "cell_type": "code",
   "execution_count": 234,
   "id": "be7f2cc9-b26d-456d-b4e4-065975f370ab",
   "metadata": {},
   "outputs": [
    {
     "data": {
      "text/latex": [
       "$\\displaystyle 6 x + 2$"
      ],
      "text/plain": [
       "6*x + 2"
      ]
     },
     "execution_count": 234,
     "metadata": {},
     "output_type": "execute_result"
    }
   ],
   "source": [
    "# First and second derivatives\n",
    "f(x).diff(x).diff(x)"
   ]
  },
  {
   "cell_type": "code",
   "execution_count": 235,
   "id": "f082051c-b43d-428d-85a9-19b4f93b23f6",
   "metadata": {},
   "outputs": [
    {
     "data": {
      "text/latex": [
       "$\\displaystyle \\left(x^{2} + 1\\right) \\left(x^{3} + x^{2} + x + 1\\right)$"
      ],
      "text/plain": [
       "(x**2 + 1)*(x**3 + x**2 + x + 1)"
      ]
     },
     "execution_count": 235,
     "metadata": {},
     "output_type": "execute_result"
    }
   ],
   "source": [
    "# Product rule\n",
    "fg= f(x)*g(x)\n",
    "fg"
   ]
  },
  {
   "cell_type": "code",
   "execution_count": 236,
   "id": "287c8b7c-f41b-4b8c-9278-2a367119fcb8",
   "metadata": {},
   "outputs": [
    {
     "data": {
      "text/latex": [
       "$\\displaystyle 2 x \\left(x^{3} + x^{2} + x + 1\\right) + \\left(x^{2} + 1\\right) \\left(3 x^{2} + 2 x + 1\\right)$"
      ],
      "text/plain": [
       "2*x*(x**3 + x**2 + x + 1) + (x**2 + 1)*(3*x**2 + 2*x + 1)"
      ]
     },
     "execution_count": 236,
     "metadata": {},
     "output_type": "execute_result"
    }
   ],
   "source": [
    "fg.diff(x)"
   ]
  },
  {
   "cell_type": "code",
   "execution_count": 237,
   "id": "0df927e7-50ad-4205-a443-5d880333ee95",
   "metadata": {},
   "outputs": [
    {
     "data": {
      "text/latex": [
       "$\\displaystyle 2 x \\left(x^{3} + x^{2} + x + 1\\right) + \\left(x^{2} + 1\\right) \\left(3 x^{2} + 2 x + 1\\right)$"
      ],
      "text/plain": [
       "2*x*(x**3 + x**2 + x + 1) + (x**2 + 1)*(3*x**2 + 2*x + 1)"
      ]
     },
     "execution_count": 237,
     "metadata": {},
     "output_type": "execute_result"
    }
   ],
   "source": [
    "f(x) * g(x).diff(x) + g(x) * f(x).diff(x)"
   ]
  },
  {
   "cell_type": "code",
   "execution_count": 238,
   "id": "894282ce-dc98-499a-81fe-02656a10f0fc",
   "metadata": {},
   "outputs": [
    {
     "data": {
      "text/plain": [
       "True"
      ]
     },
     "execution_count": 238,
     "metadata": {},
     "output_type": "execute_result"
    }
   ],
   "source": [
    "fg.diff(x) == f(x) * g(x).diff(x) + g(x) * f(x).diff(x)"
   ]
  },
  {
   "cell_type": "code",
   "execution_count": null,
   "id": "2fc1c895-39de-4ff9-9296-5a36fc053d2d",
   "metadata": {},
   "outputs": [],
   "source": []
  },
  {
   "cell_type": "code",
   "execution_count": 239,
   "id": "f600866e-9a5d-4219-bf32-106b98aa9303",
   "metadata": {},
   "outputs": [
    {
     "data": {
      "text/latex": [
       "$\\displaystyle \\frac{1}{x^{3} + x^{2} + x + 1}$"
      ],
      "text/plain": [
       "1/(x**3 + x**2 + x + 1)"
      ]
     },
     "execution_count": 239,
     "metadata": {},
     "output_type": "execute_result"
    }
   ],
   "source": [
    "# Quotient rule\n",
    "1/f(x)"
   ]
  },
  {
   "cell_type": "code",
   "execution_count": 240,
   "id": "b30ea248-ee20-47fe-adc9-995936ad3991",
   "metadata": {},
   "outputs": [
    {
     "data": {
      "text/latex": [
       "$\\displaystyle \\frac{- 3 x^{2} - 2 x - 1}{\\left(x^{3} + x^{2} + x + 1\\right)^{2}}$"
      ],
      "text/plain": [
       "(-3*x**2 - 2*x - 1)/(x**3 + x**2 + x + 1)**2"
      ]
     },
     "execution_count": 240,
     "metadata": {},
     "output_type": "execute_result"
    }
   ],
   "source": [
    "(1/f(x)).diff(x)"
   ]
  },
  {
   "cell_type": "code",
   "execution_count": 241,
   "id": "aaf1b3b5-286b-44e4-8557-9ca68d61f912",
   "metadata": {},
   "outputs": [
    {
     "data": {
      "text/latex": [
       "$\\displaystyle \\frac{- 3 x^{2} - 2 x - 1}{\\left(x^{3} + x^{2} + x + 1\\right)^{2}}$"
      ],
      "text/plain": [
       "(-3*x**2 - 2*x - 1)/(x**3 + x**2 + x + 1)**2"
      ]
     },
     "execution_count": 241,
     "metadata": {},
     "output_type": "execute_result"
    }
   ],
   "source": [
    "-f(x).diff(x)/f(x)**2"
   ]
  },
  {
   "cell_type": "code",
   "execution_count": 242,
   "id": "fbbbfe28-17a3-4cf5-a153-ec41c0358d1e",
   "metadata": {},
   "outputs": [
    {
     "data": {
      "text/plain": [
       "True"
      ]
     },
     "execution_count": 242,
     "metadata": {},
     "output_type": "execute_result"
    }
   ],
   "source": [
    "(1/f(x)).diff(x) == -f(x).diff(x)/f(x)**2"
   ]
  },
  {
   "cell_type": "code",
   "execution_count": null,
   "id": "80c567f0-362d-4fb2-8cd6-5b7eea017dae",
   "metadata": {},
   "outputs": [],
   "source": []
  },
  {
   "cell_type": "code",
   "execution_count": 243,
   "id": "0af96884-755b-4ee6-9b11-19b8cadebea6",
   "metadata": {},
   "outputs": [],
   "source": [
    "# Chain rule"
   ]
  },
  {
   "cell_type": "code",
   "execution_count": 244,
   "id": "cdd8110f-0e0e-4d23-94c0-dbb1ad5f7674",
   "metadata": {},
   "outputs": [
    {
     "data": {
      "text/latex": [
       "$\\displaystyle x^{3} + x^{2} + x + 1$"
      ],
      "text/plain": [
       "x**3 + x**2 + x + 1"
      ]
     },
     "execution_count": 244,
     "metadata": {},
     "output_type": "execute_result"
    }
   ],
   "source": [
    "f(x)"
   ]
  },
  {
   "cell_type": "code",
   "execution_count": 245,
   "id": "fc44ba54-9f21-4652-a93b-3d8cddc2c78e",
   "metadata": {},
   "outputs": [
    {
     "data": {
      "text/latex": [
       "$\\displaystyle x^{2} + 1$"
      ],
      "text/plain": [
       "x**2 + 1"
      ]
     },
     "execution_count": 245,
     "metadata": {},
     "output_type": "execute_result"
    }
   ],
   "source": [
    "g(x)"
   ]
  },
  {
   "cell_type": "code",
   "execution_count": 246,
   "id": "9cd99c9f-cf9b-47a6-862e-380b5d9cc7e8",
   "metadata": {},
   "outputs": [
    {
     "data": {
      "text/latex": [
       "$\\displaystyle x^{2} + \\left(x^{2} + 1\\right)^{3} + \\left(x^{2} + 1\\right)^{2} + 2$"
      ],
      "text/plain": [
       "x**2 + (x**2 + 1)**3 + (x**2 + 1)**2 + 2"
      ]
     },
     "execution_count": 246,
     "metadata": {},
     "output_type": "execute_result"
    }
   ],
   "source": [
    "f(g(x))"
   ]
  },
  {
   "cell_type": "code",
   "execution_count": 247,
   "id": "a53889cb-73eb-4899-9c43-9f5d3e1fd220",
   "metadata": {},
   "outputs": [
    {
     "data": {
      "text/latex": [
       "$\\displaystyle 6 x \\left(x^{2} + 1\\right)^{2} + 4 x \\left(x^{2} + 1\\right) + 2 x$"
      ],
      "text/plain": [
       "6*x*(x**2 + 1)**2 + 4*x*(x**2 + 1) + 2*x"
      ]
     },
     "execution_count": 247,
     "metadata": {},
     "output_type": "execute_result"
    }
   ],
   "source": [
    "f(g(x)).diff(x)"
   ]
  },
  {
   "cell_type": "code",
   "execution_count": 248,
   "id": "10cda1a8-af14-4ddd-a025-30f2ac76a04d",
   "metadata": {},
   "outputs": [
    {
     "data": {
      "text/latex": [
       "$\\displaystyle 2 x \\left(2 x^{2} + 3 \\left(x^{2} + 1\\right)^{2} + 3\\right)$"
      ],
      "text/plain": [
       "2*x*(2*x**2 + 3*(x**2 + 1)**2 + 3)"
      ]
     },
     "execution_count": 248,
     "metadata": {},
     "output_type": "execute_result"
    }
   ],
   "source": [
    "γ= sm.symbols('γ')\n",
    "\n",
    "f(γ).diff(γ).subs(γ, g(x)\n",
    ") * g(x).diff(x)"
   ]
  },
  {
   "cell_type": "code",
   "execution_count": 249,
   "id": "c3426afd-f414-467c-bdef-6ea8eafeef21",
   "metadata": {},
   "outputs": [
    {
     "data": {
      "text/plain": [
       "False"
      ]
     },
     "execution_count": 249,
     "metadata": {},
     "output_type": "execute_result"
    }
   ],
   "source": [
    "f(g(x)).diff(x) == f(γ).diff(γ).subs(γ, g(x)\n",
    "                    ) * g(x).diff(x)\n"
   ]
  },
  {
   "cell_type": "code",
   "execution_count": 250,
   "id": "481755d9-3999-4cdf-8a8b-ea6068b7b55b",
   "metadata": {},
   "outputs": [
    {
     "data": {
      "text/latex": [
       "$\\displaystyle 6 x^{5} + 16 x^{3} + 12 x$"
      ],
      "text/plain": [
       "6*x**5 + 16*x**3 + 12*x"
      ]
     },
     "execution_count": 250,
     "metadata": {},
     "output_type": "execute_result"
    }
   ],
   "source": [
    "f(g(x)).diff(x).expand()"
   ]
  },
  {
   "cell_type": "code",
   "execution_count": 251,
   "id": "0eb3237f-75fa-41bd-acc5-ae6c20ec673e",
   "metadata": {},
   "outputs": [
    {
     "data": {
      "text/latex": [
       "$\\displaystyle 6 x^{5} + 16 x^{3} + 12 x$"
      ],
      "text/plain": [
       "6*x**5 + 16*x**3 + 12*x"
      ]
     },
     "execution_count": 251,
     "metadata": {},
     "output_type": "execute_result"
    }
   ],
   "source": [
    "(f(γ).diff(γ).subs(γ, g(x)) * g(x).diff(x)).expand()"
   ]
  },
  {
   "cell_type": "code",
   "execution_count": 252,
   "id": "4436a12f-c542-447a-854a-d0f1f79c9a17",
   "metadata": {},
   "outputs": [
    {
     "data": {
      "text/plain": [
       "True"
      ]
     },
     "execution_count": 252,
     "metadata": {},
     "output_type": "execute_result"
    }
   ],
   "source": [
    "f(g(x)).diff(x).expand() == (f(γ).diff(γ).subs(γ, g(x)) * g(x).diff(x)).expand()"
   ]
  },
  {
   "cell_type": "code",
   "execution_count": 253,
   "id": "01c8839e-b401-46b7-b0bd-3a95686c7d31",
   "metadata": {},
   "outputs": [],
   "source": [
    "#\tAntiderivative\n",
    "#\tIntegrals\n",
    "\n"
   ]
  },
  {
   "cell_type": "code",
   "execution_count": 254,
   "id": "08be1e6d-4c09-4f2c-a693-08e5a1b11145",
   "metadata": {},
   "outputs": [
    {
     "data": {
      "text/latex": [
       "$\\displaystyle x^{3} + x^{2} + x + 1$"
      ],
      "text/plain": [
       "x**3 + x**2 + x + 1"
      ]
     },
     "execution_count": 254,
     "metadata": {},
     "output_type": "execute_result"
    }
   ],
   "source": [
    "f(x)"
   ]
  },
  {
   "cell_type": "code",
   "execution_count": 255,
   "id": "8a16859a-4eee-46a3-925c-fd20db11d454",
   "metadata": {},
   "outputs": [
    {
     "data": {
      "text/latex": [
       "$\\displaystyle \\frac{\\sum_{i=0}^{n - 1} \\left(\\frac{i^{3}}{n^{3}} + \\frac{i^{2}}{n^{2}} + \\frac{i}{n} + 1\\right)}{n}$"
      ],
      "text/plain": [
       "Sum(i**3/n**3 + i**2/n**2 + i/n + 1, (i, 0, n - 1))/n"
      ]
     },
     "execution_count": 255,
     "metadata": {},
     "output_type": "execute_result"
    }
   ],
   "source": [
    "i,n= sm.symbols('i,n')\n",
    "\n",
    "q= sm.Sum( f(i/n)*(1/n), \n",
    "          (i, 0, n-1))\n",
    "q= q.simplify()\n",
    "q"
   ]
  },
  {
   "cell_type": "code",
   "execution_count": 256,
   "id": "b1da0142-3d47-4d0a-8239-7a79e6edfcb8",
   "metadata": {},
   "outputs": [
    {
     "data": {
      "text/latex": [
       "$\\displaystyle \\frac{25}{12}$"
      ],
      "text/plain": [
       "25/12"
      ]
     },
     "execution_count": 256,
     "metadata": {},
     "output_type": "execute_result"
    }
   ],
   "source": [
    "sm.limit(q, n, sm.oo)"
   ]
  },
  {
   "cell_type": "code",
   "execution_count": 257,
   "id": "f29248c6-d753-4aba-97ba-1199a9920451",
   "metadata": {},
   "outputs": [
    {
     "data": {
      "text/latex": [
       "$\\displaystyle \\frac{x^{4}}{4} + \\frac{x^{3}}{3} + \\frac{x^{2}}{2} + x$"
      ],
      "text/plain": [
       "x**4/4 + x**3/3 + x**2/2 + x"
      ]
     },
     "execution_count": 257,
     "metadata": {},
     "output_type": "execute_result"
    }
   ],
   "source": [
    "f(x).integrate(x)"
   ]
  },
  {
   "cell_type": "code",
   "execution_count": 258,
   "id": "3cbe9efe-eea7-4cdf-acde-f99fc387b774",
   "metadata": {},
   "outputs": [
    {
     "data": {
      "text/latex": [
       "$\\displaystyle \\frac{25}{12}$"
      ],
      "text/plain": [
       "25/12"
      ]
     },
     "execution_count": 258,
     "metadata": {},
     "output_type": "execute_result"
    }
   ],
   "source": [
    "f(x).integrate((x,0,1))"
   ]
  },
  {
   "cell_type": "code",
   "execution_count": 259,
   "id": "697ad25f-e27e-44b6-bf2e-ecf184f41ba8",
   "metadata": {},
   "outputs": [
    {
     "data": {
      "text/latex": [
       "$\\displaystyle x^{3} + x^{2} + x + 1$"
      ],
      "text/plain": [
       "x**3 + x**2 + x + 1"
      ]
     },
     "execution_count": 259,
     "metadata": {},
     "output_type": "execute_result"
    }
   ],
   "source": [
    "#\tThe fundamental theorem of calculus\n",
    "f(x)"
   ]
  },
  {
   "cell_type": "code",
   "execution_count": 260,
   "id": "b75ce45c-a9b8-48ab-94cc-392ba17d68d7",
   "metadata": {},
   "outputs": [
    {
     "data": {
      "text/latex": [
       "$\\displaystyle \\frac{x^{4}}{4} + \\frac{x^{3}}{3} + \\frac{x^{2}}{2} + x$"
      ],
      "text/plain": [
       "x**4/4 + x**3/3 + x**2/2 + x"
      ]
     },
     "execution_count": 260,
     "metadata": {},
     "output_type": "execute_result"
    }
   ],
   "source": [
    "f(x).integrate(x)"
   ]
  },
  {
   "cell_type": "code",
   "execution_count": 261,
   "id": "edac7c30-aa56-4ac2-b4e7-50e236701b45",
   "metadata": {},
   "outputs": [
    {
     "data": {
      "text/latex": [
       "$\\displaystyle x^{3} + x^{2} + x + 1$"
      ],
      "text/plain": [
       "x**3 + x**2 + x + 1"
      ]
     },
     "execution_count": 261,
     "metadata": {},
     "output_type": "execute_result"
    }
   ],
   "source": [
    "f(x).integrate(x).diff(x)"
   ]
  },
  {
   "cell_type": "code",
   "execution_count": 262,
   "id": "5fa17279-8814-4bf8-b1cd-2dab6c79926f",
   "metadata": {},
   "outputs": [
    {
     "data": {
      "text/plain": [
       "True"
      ]
     },
     "execution_count": 262,
     "metadata": {},
     "output_type": "execute_result"
    }
   ],
   "source": [
    "f(x) == f(x).integrate(x).diff(x)"
   ]
  },
  {
   "cell_type": "code",
   "execution_count": null,
   "id": "6d376355-fcdd-4a0a-ba61-ff00f92a776a",
   "metadata": {},
   "outputs": [],
   "source": []
  },
  {
   "cell_type": "code",
   "execution_count": null,
   "id": "dcfb9de5-f95b-4ebc-852c-4294026b2bf0",
   "metadata": {},
   "outputs": [],
   "source": []
  },
  {
   "cell_type": "code",
   "execution_count": 263,
   "id": "48b777a9-67ab-4783-ac0d-9570fdb3a59e",
   "metadata": {},
   "outputs": [
    {
     "data": {
      "text/latex": [
       "$\\displaystyle 3 x^{2} + 2 x + 1$"
      ],
      "text/plain": [
       "3*x**2 + 2*x + 1"
      ]
     },
     "execution_count": 263,
     "metadata": {},
     "output_type": "execute_result"
    }
   ],
   "source": [
    "\n",
    "f(x).diff(x)"
   ]
  },
  {
   "cell_type": "code",
   "execution_count": 264,
   "id": "b30ef1ee-3be2-4791-ac5c-63e1e1f2ebc9",
   "metadata": {},
   "outputs": [
    {
     "data": {
      "text/latex": [
       "$\\displaystyle x^{3} + x^{2} + x$"
      ],
      "text/plain": [
       "x**3 + x**2 + x"
      ]
     },
     "execution_count": 264,
     "metadata": {},
     "output_type": "execute_result"
    }
   ],
   "source": [
    "f(x).diff(x).integrate(x)"
   ]
  },
  {
   "cell_type": "code",
   "execution_count": 265,
   "id": "b32d1b4b-ecda-4e4d-b2cc-ac78b84db98e",
   "metadata": {},
   "outputs": [
    {
     "data": {
      "text/plain": [
       "False"
      ]
     },
     "execution_count": 265,
     "metadata": {},
     "output_type": "execute_result"
    }
   ],
   "source": [
    "f(x) == f(x).diff(x).integrate(x) # 這裡 不相等， why??"
   ]
  },
  {
   "cell_type": "code",
   "execution_count": 266,
   "id": "bbf50782-4d02-4df2-a504-e62db6e6e71a",
   "metadata": {},
   "outputs": [
    {
     "data": {
      "text/latex": [
       "$\\displaystyle x^{2}$"
      ],
      "text/plain": [
       "x**2"
      ]
     },
     "execution_count": 266,
     "metadata": {},
     "output_type": "execute_result"
    }
   ],
   "source": [
    "# 先微分後積分 vs 先積分後微分\n",
    "# 有差別！ 彼此會差 1 個 常數項\n",
    "(x**2+100).diff(x).integrate(x)"
   ]
  },
  {
   "cell_type": "code",
   "execution_count": 267,
   "id": "154800ac-a967-4a26-8937-2818ee9edbf5",
   "metadata": {},
   "outputs": [
    {
     "data": {
      "text/latex": [
       "$\\displaystyle x^{2} + 100$"
      ],
      "text/plain": [
       "x**2 + 100"
      ]
     },
     "execution_count": 267,
     "metadata": {},
     "output_type": "execute_result"
    }
   ],
   "source": [
    "(x**2+100).integrate(x).diff(x)"
   ]
  },
  {
   "cell_type": "code",
   "execution_count": 268,
   "id": "c8e64426-1024-42d7-872d-bd12f69722cc",
   "metadata": {},
   "outputs": [],
   "source": [
    "#\tSubstitution rule"
   ]
  },
  {
   "cell_type": "code",
   "execution_count": 273,
   "id": "ec455f7f-58a6-4bac-a5e5-3e34b242ac0f",
   "metadata": {},
   "outputs": [
    {
     "data": {
      "text/latex": [
       "$\\displaystyle \\frac{2 \\left(x^{2} + 1\\right)^{\\frac{3}{2}}}{3}$"
      ],
      "text/plain": [
       "2*(x**2 + 1)**(3/2)/3"
      ]
     },
     "execution_count": 273,
     "metadata": {},
     "output_type": "execute_result"
    }
   ],
   "source": [
    "def f(x):\n",
    "    y= 2 * x * sm.sqrt(x**2+1)\n",
    "    return y\n",
    "\n",
    "x= sm.symbols('x')\n",
    "\n",
    "f(x).integrate(x).simplify()"
   ]
  },
  {
   "cell_type": "code",
   "execution_count": null,
   "id": "e61e7903-0a3f-4886-b8fb-66620487c75d",
   "metadata": {},
   "outputs": [],
   "source": []
  },
  {
   "cell_type": "code",
   "execution_count": null,
   "id": "3807f35f-ad9e-4000-a43e-b99d57bd4c9b",
   "metadata": {},
   "outputs": [],
   "source": [
    "#\tAreas between curves"
   ]
  },
  {
   "cell_type": "code",
   "execution_count": 272,
   "id": "72ae1735-10c6-45c1-9014-c48253d8f76e",
   "metadata": {},
   "outputs": [
    {
     "data": {
      "text/latex": [
       "$\\displaystyle 2 x \\sqrt{x^{2} + 1}$"
      ],
      "text/plain": [
       "2*x*sqrt(x**2 + 1)"
      ]
     },
     "execution_count": 272,
     "metadata": {},
     "output_type": "execute_result"
    }
   ],
   "source": [
    "#\tIntegration by parts\n",
    "f(x)"
   ]
  },
  {
   "cell_type": "code",
   "execution_count": 274,
   "id": "bf1dcfcc-fc2b-431f-836e-a2cc46981df6",
   "metadata": {},
   "outputs": [
    {
     "data": {
      "text/latex": [
       "$\\displaystyle \\frac{2 x^{2}}{\\sqrt{x^{2} + 1}} + 2 \\sqrt{x^{2} + 1}$"
      ],
      "text/plain": [
       "2*x**2/sqrt(x**2 + 1) + 2*sqrt(x**2 + 1)"
      ]
     },
     "execution_count": 274,
     "metadata": {},
     "output_type": "execute_result"
    }
   ],
   "source": []
  },
  {
   "cell_type": "code",
   "execution_count": null,
   "id": "54cb0693-f058-4731-a96a-2dcf6333c223",
   "metadata": {},
   "outputs": [],
   "source": []
  },
  {
   "cell_type": "code",
   "execution_count": null,
   "id": "1d01eb37-4c98-49fb-9e3e-d6674033bc09",
   "metadata": {},
   "outputs": [],
   "source": []
  },
  {
   "cell_type": "code",
   "execution_count": null,
   "id": "f7c1c46a-a566-462f-b528-bf2435a41661",
   "metadata": {},
   "outputs": [],
   "source": []
  },
  {
   "cell_type": "code",
   "execution_count": 186,
   "id": "1c19f8d3-7d7d-43b5-9939-ef0b47de0c21",
   "metadata": {},
   "outputs": [],
   "source": [
    "from IPython.display import display, Math, Audio"
   ]
  },
  {
   "cell_type": "markdown",
   "id": "84fce84c-0173-43e7-a713-a01f49b949ea",
   "metadata": {},
   "source": [
    "# Multivariable calculus\n"
   ]
  },
  {
   "cell_type": "code",
   "execution_count": 187,
   "id": "45532232-49f3-4836-93cc-b35ecff13f55",
   "metadata": {},
   "outputs": [],
   "source": [
    "x, y, dx, dy= sm.symbols('x,y,dx,dy')\n",
    "f= sm.Function('f')\n",
    "g= sm.Function('g')\n"
   ]
  },
  {
   "cell_type": "code",
   "execution_count": 188,
   "id": "72e1b049-8ff4-4a05-9524-9d679b4d48c0",
   "metadata": {},
   "outputs": [
    {
     "data": {
      "text/latex": [
       "$\\displaystyle \\frac{d}{d x} f{\\left(x \\right)}$"
      ],
      "text/plain": [
       "Derivative(f(x), x)"
      ]
     },
     "execution_count": 188,
     "metadata": {},
     "output_type": "execute_result"
    }
   ],
   "source": [
    "f(x).diff(x)"
   ]
  },
  {
   "cell_type": "code",
   "execution_count": 190,
   "id": "11d5f297-0b62-4cc7-93a5-4592ed96121b",
   "metadata": {},
   "outputs": [
    {
     "data": {
      "text/latex": [
       "$\\displaystyle f{\\left(x,y \\right)}$"
      ],
      "text/plain": [
       "f(x, y)"
      ]
     },
     "execution_count": 190,
     "metadata": {},
     "output_type": "execute_result"
    }
   ],
   "source": [
    "f(x,y)"
   ]
  },
  {
   "cell_type": "code",
   "execution_count": 191,
   "id": "04cfacfb-32ba-4aef-b7be-8489083ed926",
   "metadata": {},
   "outputs": [
    {
     "data": {
      "text/latex": [
       "$\\displaystyle \\frac{\\partial}{\\partial x} f{\\left(x,y \\right)}$"
      ],
      "text/plain": [
       "Derivative(f(x, y), x)"
      ]
     },
     "execution_count": 191,
     "metadata": {},
     "output_type": "execute_result"
    }
   ],
   "source": [
    "f(x,y).diff(x)"
   ]
  },
  {
   "cell_type": "code",
   "execution_count": 192,
   "id": "196aa767-02a4-4643-bdbc-7c286dc828bc",
   "metadata": {},
   "outputs": [
    {
     "data": {
      "text/latex": [
       "$\\displaystyle \\frac{\\partial}{\\partial y} f{\\left(x,y \\right)}$"
      ],
      "text/plain": [
       "Derivative(f(x, y), y)"
      ]
     },
     "execution_count": 192,
     "metadata": {},
     "output_type": "execute_result"
    }
   ],
   "source": [
    "f(x,y).diff(y)"
   ]
  },
  {
   "cell_type": "code",
   "execution_count": 204,
   "id": "037ba004-52a9-453d-8e02-a9bb7865672e",
   "metadata": {},
   "outputs": [
    {
     "data": {
      "text/latex": [
       "$\\displaystyle \\sqrt{\\pi}$"
      ],
      "text/plain": [
       "sqrt(pi)"
      ]
     },
     "execution_count": 204,
     "metadata": {},
     "output_type": "execute_result"
    }
   ],
   "source": [
    "sm.sqrt(sm.pi)"
   ]
  },
  {
   "cell_type": "code",
   "execution_count": 207,
   "id": "d4828aa4-6193-4e63-ae19-c6720fd72049",
   "metadata": {},
   "outputs": [
    {
     "data": {
      "text/latex": [
       "$\\displaystyle i$"
      ],
      "text/plain": [
       "I"
      ]
     },
     "execution_count": 207,
     "metadata": {},
     "output_type": "execute_result"
    }
   ],
   "source": [
    "sm.sqrt(-1)"
   ]
  },
  {
   "cell_type": "code",
   "execution_count": null,
   "id": "1d059186-0eb3-49ff-9a39-16b3d62abebe",
   "metadata": {},
   "outputs": [],
   "source": []
  }
 ],
 "metadata": {
  "kernelspec": {
   "display_name": "Python 3",
   "language": "python",
   "name": "python3"
  },
  "language_info": {
   "codemirror_mode": {
    "name": "ipython",
    "version": 3
   },
   "file_extension": ".py",
   "mimetype": "text/x-python",
   "name": "python",
   "nbconvert_exporter": "python",
   "pygments_lexer": "ipython3",
   "version": "3.8.8"
  }
 },
 "nbformat": 4,
 "nbformat_minor": 5
}
