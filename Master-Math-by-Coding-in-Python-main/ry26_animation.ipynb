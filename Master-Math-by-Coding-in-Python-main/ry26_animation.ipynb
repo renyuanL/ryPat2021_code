{
 "cells": [
  {
   "cell_type": "markdown",
   "id": "71a6f125-5829-457a-9e38-eca0ce890bad",
   "metadata": {},
   "source": [
    "# Learn How to Create Animated Graphs in Python\n",
    "- https://towardsdatascience.com/learn-how-to-create-animated-graphs-in-python-fce780421afe\n",
    "    \n",
    "![](https://miro.medium.com/max/576/1*mBJvfCxbvqFeVSJ9U1ey7w.gif)\n"
   ]
  },
  {
   "cell_type": "code",
   "execution_count": 2,
   "id": "ad318264-1c71-40a9-a4a4-f687bab00047",
   "metadata": {},
   "outputs": [],
   "source": [
    "import matplotlib.animation as ani\n",
    "import matplotlib.pyplot as plt\n",
    "import numpy as np\n",
    "import pandas as pd\n",
    "url = 'https://raw.githubusercontent.com/CSSEGISandData/COVID-19/master/csse_covid_19_data/csse_covid_19_time_series/time_series_covid19_deaths_global.csv'\n",
    "df = pd.read_csv(url, delimiter=',', header='infer')"
   ]
  },
  {
   "cell_type": "code",
   "execution_count": 3,
   "id": "6d017332-43cb-4182-aea2-3ff64b16dcd4",
   "metadata": {},
   "outputs": [],
   "source": [
    "df_interest = df.loc[\n",
    "    df['Country/Region'].isin(['United Kingdom', 'US', 'Italy', 'Germany'])\n",
    "    & df['Province/State'].isna()]"
   ]
  },
  {
   "cell_type": "code",
   "execution_count": 5,
   "id": "15288ce8-d74d-4b35-8432-a223e16a3602",
   "metadata": {},
   "outputs": [
    {
     "name": "stderr",
     "output_type": "stream",
     "text": [
      "M:\\ProgramData\\Anaconda3\\lib\\site-packages\\pandas\\core\\frame.py:4441: SettingWithCopyWarning: \n",
      "A value is trying to be set on a copy of a slice from a DataFrame\n",
      "\n",
      "See the caveats in the documentation: https://pandas.pydata.org/pandas-docs/stable/user_guide/indexing.html#returning-a-view-versus-a-copy\n",
      "  return super().rename(\n"
     ]
    }
   ],
   "source": [
    "df_interest.rename(\n",
    "    index=lambda x: df_interest.at[x, 'Country/Region'], inplace=True)"
   ]
  },
  {
   "cell_type": "code",
   "execution_count": 6,
   "id": "1c8307f9-b90c-4eb4-9e3d-520fe4138981",
   "metadata": {},
   "outputs": [],
   "source": [
    "df1 = df_interest.transpose()\n",
    "df1 = df1.drop(['Province/State', 'Country/Region', 'Lat', 'Long'])\n",
    "df1 = df1.loc[(df1 != 0).any(1)]\n",
    "df1.index = pd.to_datetime(df1.index)"
   ]
  },
  {
   "cell_type": "code",
   "execution_count": 7,
   "id": "0aeaf3f2-4eb5-4f13-97f8-73ecc3dcac2b",
   "metadata": {},
   "outputs": [
    {
     "data": {
      "text/html": [
       "<div>\n",
       "<style scoped>\n",
       "    .dataframe tbody tr th:only-of-type {\n",
       "        vertical-align: middle;\n",
       "    }\n",
       "\n",
       "    .dataframe tbody tr th {\n",
       "        vertical-align: top;\n",
       "    }\n",
       "\n",
       "    .dataframe thead th {\n",
       "        text-align: right;\n",
       "    }\n",
       "</style>\n",
       "<table border=\"1\" class=\"dataframe\">\n",
       "  <thead>\n",
       "    <tr style=\"text-align: right;\">\n",
       "      <th></th>\n",
       "      <th>Germany</th>\n",
       "      <th>Italy</th>\n",
       "      <th>US</th>\n",
       "      <th>United Kingdom</th>\n",
       "    </tr>\n",
       "  </thead>\n",
       "  <tbody>\n",
       "    <tr>\n",
       "      <th>2020-02-21</th>\n",
       "      <td>0</td>\n",
       "      <td>1</td>\n",
       "      <td>0</td>\n",
       "      <td>0</td>\n",
       "    </tr>\n",
       "    <tr>\n",
       "      <th>2020-02-22</th>\n",
       "      <td>0</td>\n",
       "      <td>2</td>\n",
       "      <td>0</td>\n",
       "      <td>0</td>\n",
       "    </tr>\n",
       "    <tr>\n",
       "      <th>2020-02-23</th>\n",
       "      <td>0</td>\n",
       "      <td>3</td>\n",
       "      <td>0</td>\n",
       "      <td>0</td>\n",
       "    </tr>\n",
       "    <tr>\n",
       "      <th>2020-02-24</th>\n",
       "      <td>0</td>\n",
       "      <td>7</td>\n",
       "      <td>0</td>\n",
       "      <td>0</td>\n",
       "    </tr>\n",
       "    <tr>\n",
       "      <th>2020-02-25</th>\n",
       "      <td>0</td>\n",
       "      <td>10</td>\n",
       "      <td>0</td>\n",
       "      <td>0</td>\n",
       "    </tr>\n",
       "    <tr>\n",
       "      <th>...</th>\n",
       "      <td>...</td>\n",
       "      <td>...</td>\n",
       "      <td>...</td>\n",
       "      <td>...</td>\n",
       "    </tr>\n",
       "    <tr>\n",
       "      <th>2021-11-07</th>\n",
       "      <td>96563</td>\n",
       "      <td>132391</td>\n",
       "      <td>754990</td>\n",
       "      <td>141805</td>\n",
       "    </tr>\n",
       "    <tr>\n",
       "      <th>2021-11-08</th>\n",
       "      <td>96731</td>\n",
       "      <td>132423</td>\n",
       "      <td>756220</td>\n",
       "      <td>141862</td>\n",
       "    </tr>\n",
       "    <tr>\n",
       "      <th>2021-11-09</th>\n",
       "      <td>96968</td>\n",
       "      <td>132491</td>\n",
       "      <td>757651</td>\n",
       "      <td>142124</td>\n",
       "    </tr>\n",
       "    <tr>\n",
       "      <th>2021-11-10</th>\n",
       "      <td>97203</td>\n",
       "      <td>132551</td>\n",
       "      <td>759277</td>\n",
       "      <td>142338</td>\n",
       "    </tr>\n",
       "    <tr>\n",
       "      <th>2021-11-11</th>\n",
       "      <td>97394</td>\n",
       "      <td>132618</td>\n",
       "      <td>760037</td>\n",
       "      <td>142533</td>\n",
       "    </tr>\n",
       "  </tbody>\n",
       "</table>\n",
       "<p>630 rows × 4 columns</p>\n",
       "</div>"
      ],
      "text/plain": [
       "           Germany   Italy      US United Kingdom\n",
       "2020-02-21       0       1       0              0\n",
       "2020-02-22       0       2       0              0\n",
       "2020-02-23       0       3       0              0\n",
       "2020-02-24       0       7       0              0\n",
       "2020-02-25       0      10       0              0\n",
       "...            ...     ...     ...            ...\n",
       "2021-11-07   96563  132391  754990         141805\n",
       "2021-11-08   96731  132423  756220         141862\n",
       "2021-11-09   96968  132491  757651         142124\n",
       "2021-11-10   97203  132551  759277         142338\n",
       "2021-11-11   97394  132618  760037         142533\n",
       "\n",
       "[630 rows x 4 columns]"
      ]
     },
     "execution_count": 7,
     "metadata": {},
     "output_type": "execute_result"
    }
   ],
   "source": [
    "df1"
   ]
  },
  {
   "cell_type": "code",
   "execution_count": 18,
   "id": "24b18258-e406-4270-8eae-67bf800472ce",
   "metadata": {},
   "outputs": [],
   "source": [
    "import numpy as np\n",
    "import matplotlib.pyplot as plt\n",
    "\n",
    "color= ['red', 'green', 'blue', 'magenta']\n",
    "fig=   plt.figure()\n",
    "plt.xticks(rotation= 45, \n",
    "           ha= \"right\", \n",
    "           rotation_mode=\"anchor\") #rotate the x-axis values\n",
    "\n",
    "plt.subplots_adjust(bottom = 0.2, top = 0.9) #ensuring the dates (on the x-axis) fit in the screen\n",
    "plt.ylabel('No of Deaths')\n",
    "plt.xlabel('Dates')\n",
    "\n",
    "def buildmebarchart(i= int):\n",
    "    plt.legend(df1.columns)\n",
    "    p = plt.plot(df1[:i].index, \n",
    "                 df1[:i].values) #note it only returns the dataset, up to the point i\n",
    "    for i in range(0,4):\n",
    "        p[i].set_color(color[i]) #set the colour of each curve\n",
    "    plt.grid()\n",
    "\n",
    "import matplotlib.animation as ani\n",
    "animator= ani.FuncAnimation(fig, \n",
    "                            buildmebarchart, \n",
    "                            interval = 1)\n",
    "\n",
    "\n",
    "#animator.save('__myfirstAnimation.gif')\n",
    "\n",
    "\n",
    "#plt.show()\n"
   ]
  },
  {
   "cell_type": "code",
   "execution_count": 16,
   "id": "70646830-1584-4b7e-b3ed-7eab2cae3bd6",
   "metadata": {},
   "outputs": [],
   "source": [
    "#%matplotlib qt\n",
    "animator.save('__myfirstAnimation.gif')\n"
   ]
  },
  {
   "cell_type": "code",
   "execution_count": null,
   "id": "c75c4b8a-d9fb-4b22-b34b-f6e252063118",
   "metadata": {},
   "outputs": [],
   "source": []
  },
  {
   "cell_type": "code",
   "execution_count": null,
   "id": "73b0de06-9b06-4682-a184-c76c7ce4d522",
   "metadata": {},
   "outputs": [],
   "source": []
  },
  {
   "cell_type": "code",
   "execution_count": null,
   "id": "41f22612-a07c-435c-bffd-ba60d3e4c499",
   "metadata": {},
   "outputs": [],
   "source": []
  },
  {
   "cell_type": "markdown",
   "id": "1de112ad-1c44-400b-850c-33167519bdda",
   "metadata": {},
   "source": [
    "# The double pendulum problem\n",
    "- https://matplotlib.org/2.1.2/gallery/animation/double_pendulum_animated_sgskip.html\n",
    "    "
   ]
  },
  {
   "cell_type": "code",
   "execution_count": 21,
   "id": "25e9a6d4-0ec6-47f3-8c8b-8573caaaa9c0",
   "metadata": {},
   "outputs": [],
   "source": [
    "from numpy import sin, cos\n",
    "import numpy as np\n",
    "import matplotlib.pyplot as plt\n",
    "import scipy.integrate as integrate\n",
    "import matplotlib.animation as animation\n",
    "\n",
    "G = 9.8  # acceleration due to gravity, in m/s^2\n",
    "L1 = 1.0  # length of pendulum 1 in m\n",
    "L2 = 1.0  # length of pendulum 2 in m\n",
    "M1 = 1.0  # mass of pendulum 1 in kg\n",
    "M2 = 1.0  # mass of pendulum 2 in kg\n",
    "\n",
    "\n",
    "def derivs(state, t):\n",
    "\n",
    "    dydx = np.zeros_like(state)\n",
    "    dydx[0] = state[1]\n",
    "\n",
    "    del_ = state[2] - state[0]\n",
    "    den1 = (M1 + M2)*L1 - M2*L1*cos(del_)*cos(del_)\n",
    "    dydx[1] = (M2*L1*state[1]*state[1]*sin(del_)*cos(del_) +\n",
    "               M2*G*sin(state[2])*cos(del_) +\n",
    "               M2*L2*state[3]*state[3]*sin(del_) -\n",
    "               (M1 + M2)*G*sin(state[0]))/den1\n",
    "\n",
    "    dydx[2] = state[3]\n",
    "\n",
    "    den2 = (L2/L1)*den1\n",
    "    dydx[3] = (-M2*L2*state[3]*state[3]*sin(del_)*cos(del_) +\n",
    "               (M1 + M2)*G*sin(state[0])*cos(del_) -\n",
    "               (M1 + M2)*L1*state[1]*state[1]*sin(del_) -\n",
    "               (M1 + M2)*G*sin(state[2]))/den2\n",
    "\n",
    "    return dydx\n",
    "\n",
    "# create a time array from 0..100 sampled at 0.05 second steps\n",
    "dt = 0.05\n",
    "t = np.arange(0.0, 20, dt)\n",
    "\n",
    "# th1 and th2 are the initial angles (degrees)\n",
    "# w10 and w20 are the initial angular velocities (degrees per second)\n",
    "th1 = 120.0\n",
    "w1 = 0.0\n",
    "th2 = -10.0\n",
    "w2 = 0.0\n",
    "\n",
    "# initial state\n",
    "state = np.radians([th1, w1, th2, w2])\n",
    "\n",
    "# integrate your ODE using scipy.integrate.\n",
    "y = integrate.odeint(derivs, state, t)\n",
    "\n",
    "x1 = L1*sin(y[:, 0])\n",
    "y1 = -L1*cos(y[:, 0])\n",
    "\n",
    "x2 = L2*sin(y[:, 2]) + x1\n",
    "y2 = -L2*cos(y[:, 2]) + y1\n",
    "\n",
    "fig = plt.figure()\n",
    "ax = fig.add_subplot(111, autoscale_on=False, xlim=(-2, 2), ylim=(-2, 2))\n",
    "ax.set_aspect('equal')\n",
    "ax.grid()\n",
    "\n",
    "line, = ax.plot([], [], 'o-', lw=2)\n",
    "time_template = 'time = %.1fs'\n",
    "time_text = ax.text(0.05, 0.9, '', transform=ax.transAxes)\n",
    "\n",
    "\n",
    "def init():\n",
    "    line.set_data([], [])\n",
    "    time_text.set_text('')\n",
    "    return line, time_text\n",
    "\n",
    "\n",
    "def animate(i):\n",
    "    thisx = [0, x1[i], x2[i]]\n",
    "    thisy = [0, y1[i], y2[i]]\n",
    "\n",
    "    line.set_data(thisx, thisy)\n",
    "    time_text.set_text(time_template % (i*dt))\n",
    "    return line, time_text\n",
    "\n",
    "ani = animation.FuncAnimation(fig, animate, np.arange(1, len(y)),\n",
    "                              interval=25, blit=True, init_func=init)\n",
    "\n",
    "ani.save('__double_pendulum.gif') #'__double_pendulum.mp4', fps=15)\n",
    "#plt.show()"
   ]
  },
  {
   "cell_type": "code",
   "execution_count": 1,
   "id": "bf6c86a2-6664-449a-88fc-ed26035eaeae",
   "metadata": {},
   "outputs": [
    {
     "data": {
      "text/plain": [
       "<AxesSubplot:xlabel='Date'>"
      ]
     },
     "execution_count": 1,
     "metadata": {},
     "output_type": "execute_result"
    },
    {
     "data": {
      "image/png": "[encoded data removed]",
      "text/plain": [
       "<Figure size 432x288 with 1 Axes>"
      ]
     },
     "metadata": {
      "needs_background": "light"
     },
     "output_type": "display_data"
    }
   ],
   "source": [
    "import pandas as pd\n",
    "\n",
    "X= pd.read_csv('_Transactions_Oct15_2021.csv')\n",
    "Y= X[['Date', 'Personal Value']].dropna()\n",
    "Y= Y.iloc[::-1,:]\n",
    "Y.index = pd.to_datetime(Y.Date)\n",
    "Y.plot(grid=True)"
   ]
  },
  {
   "cell_type": "code",
   "execution_count": 3,
   "id": "185c4096-6cc6-4338-bb35-15dbb072f5d7",
   "metadata": {},
   "outputs": [],
   "source": [
    "import numpy as np\n",
    "import matplotlib.pyplot as plt\n",
    "\n",
    "#color= ['red', 'green', 'blue', 'magenta']\n",
    "fig=   plt.figure()\n",
    "plt.xticks(rotation= 45, \n",
    "           ha= \"right\", \n",
    "           rotation_mode=\"anchor\") #rotate the x-axis values\n",
    "\n",
    "plt.subplots_adjust(bottom = 0.2, \n",
    "                    top = 0.9, \n",
    "                    left= .2, \n",
    "                    right=.9) #ensuring the dates (on the x-axis) fit in the screen\n",
    "plt.ylabel('$USD')\n",
    "plt.xlabel('Date')\n",
    "plt.title('Personal Value of Stock in USD$')\n",
    "\n",
    "def buildmebarchart(i= int):\n",
    "    \n",
    "    p= plt.plot(Y['Personal Value'][:i].index, \n",
    "                 Y['Personal Value'][:i].values) #note it only returns the dataset, up to the point i\n",
    "    \n",
    "    p[0].set_color('green') #set the colour of each curve\n",
    "    plt.legend(['Personal Value'])\n",
    "    plt.grid()\n",
    "    \n",
    "\n",
    "import matplotlib.animation as ani\n",
    "animator= ani.FuncAnimation(fig, \n",
    "                            buildmebarchart,\n",
    "                            interval= 50,\n",
    "                            repeat= True,\n",
    "                            #cache_frame_data= False\n",
    "                           )\n",
    "\n",
    "\n",
    "#plt.show()\n",
    "\n",
    "#animator.save('__ryPersonalValue.mp4', fps= 15)\n",
    "animator.save('__ryPersonalValue.gif')\n",
    "\n",
    "\n",
    "#plt.show()"
   ]
  },
  {
   "cell_type": "code",
   "execution_count": 2,
   "id": "0e7c747a-32ae-43cc-9c21-92e2aff90055",
   "metadata": {},
   "outputs": [],
   "source": [
    "%matplotlib qt"
   ]
  },
  {
   "cell_type": "code",
   "execution_count": 107,
   "id": "931a964f-027d-4d10-89eb-b01794f313d3",
   "metadata": {},
   "outputs": [],
   "source": [
    "animator.save('__ryPersonalValue.mp4', fps= 25)"
   ]
  },
  {
   "cell_type": "code",
   "execution_count": null,
   "id": "443d08f6-1c6b-4cfc-ab09-45bb3111335a",
   "metadata": {},
   "outputs": [],
   "source": []
  },
  {
   "cell_type": "code",
   "execution_count": 55,
   "id": "eb9f5b36-697e-4b4a-8610-9cc3c3777d35",
   "metadata": {},
   "outputs": [
    {
     "data": {
      "text/html": [
       "<div>\n",
       "<style scoped>\n",
       "    .dataframe tbody tr th:only-of-type {\n",
       "        vertical-align: middle;\n",
       "    }\n",
       "\n",
       "    .dataframe tbody tr th {\n",
       "        vertical-align: top;\n",
       "    }\n",
       "\n",
       "    .dataframe thead th {\n",
       "        text-align: right;\n",
       "    }\n",
       "</style>\n",
       "<table border=\"1\" class=\"dataframe\">\n",
       "  <thead>\n",
       "    <tr style=\"text-align: right;\">\n",
       "      <th></th>\n",
       "      <th>Date</th>\n",
       "      <th>Personal Value</th>\n",
       "    </tr>\n",
       "    <tr>\n",
       "      <th>Date</th>\n",
       "      <th></th>\n",
       "      <th></th>\n",
       "    </tr>\n",
       "  </thead>\n",
       "  <tbody>\n",
       "    <tr>\n",
       "      <th>July 27</th>\n",
       "      <td>July 27</td>\n",
       "      <td>100847.88</td>\n",
       "    </tr>\n",
       "    <tr>\n",
       "      <th>July 28</th>\n",
       "      <td>July 28</td>\n",
       "      <td>101173.54</td>\n",
       "    </tr>\n",
       "    <tr>\n",
       "      <th>July 29</th>\n",
       "      <td>July 29</td>\n",
       "      <td>101504.21</td>\n",
       "    </tr>\n",
       "    <tr>\n",
       "      <th>July 30</th>\n",
       "      <td>July 30</td>\n",
       "      <td>101674.25</td>\n",
       "    </tr>\n",
       "    <tr>\n",
       "      <th>July 31</th>\n",
       "      <td>July 31</td>\n",
       "      <td>101674.25</td>\n",
       "    </tr>\n",
       "    <tr>\n",
       "      <th>...</th>\n",
       "      <td>...</td>\n",
       "      <td>...</td>\n",
       "    </tr>\n",
       "    <tr>\n",
       "      <th>November 08</th>\n",
       "      <td>November 08</td>\n",
       "      <td>109439.36</td>\n",
       "    </tr>\n",
       "    <tr>\n",
       "      <th>November 09</th>\n",
       "      <td>November 09</td>\n",
       "      <td>113461.65</td>\n",
       "    </tr>\n",
       "    <tr>\n",
       "      <th>November 10</th>\n",
       "      <td>November 10</td>\n",
       "      <td>111960.93</td>\n",
       "    </tr>\n",
       "    <tr>\n",
       "      <th>November 11</th>\n",
       "      <td>November 11</td>\n",
       "      <td>112068.34</td>\n",
       "    </tr>\n",
       "    <tr>\n",
       "      <th>November 12</th>\n",
       "      <td>November 12</td>\n",
       "      <td>113516.76</td>\n",
       "    </tr>\n",
       "  </tbody>\n",
       "</table>\n",
       "<p>109 rows × 2 columns</p>\n",
       "</div>"
      ],
      "text/plain": [
       "                      Date  Personal Value\n",
       "Date                                      \n",
       " July 27           July 27       100847.88\n",
       " July 28           July 28       101173.54\n",
       " July 29           July 29       101504.21\n",
       " July 30           July 30       101674.25\n",
       " July 31           July 31       101674.25\n",
       "...                    ...             ...\n",
       " November 08   November 08       109439.36\n",
       " November 09   November 09       113461.65\n",
       " November 10   November 10       111960.93\n",
       " November 11   November 11       112068.34\n",
       " November 12   November 12       113516.76\n",
       "\n",
       "[109 rows x 2 columns]"
      ]
     },
     "execution_count": 55,
     "metadata": {},
     "output_type": "execute_result"
    }
   ],
   "source": [
    "Y[['Date']]= Y['Date'].apply(lambda x: ','.join(x.split(',')[1:]))\n",
    "Y"
   ]
  },
  {
   "cell_type": "code",
   "execution_count": 56,
   "id": "b1fab8f7-afcc-4104-8c88-d9efbc1c583f",
   "metadata": {},
   "outputs": [
    {
     "data": {
      "text/plain": [
       "<AxesSubplot:xlabel='Date'>"
      ]
     },
     "execution_count": 56,
     "metadata": {},
     "output_type": "execute_result"
    },
    {
     "data": {
      "image/png": "[encoded data removed]",
      "text/plain": [
       "<Figure size 432x288 with 1 Axes>"
      ]
     },
     "metadata": {
      "needs_background": "light"
     },
     "output_type": "display_data"
    }
   ],
   "source": [
    "#Y['Date'].apply(lambda x:datetime.strptime(x, ' %b %d, %Y'))\n",
    "\n",
    "#datetime.strptime(x, '%b%d,%Y')\n",
    "Y.plot(grid=True)"
   ]
  },
  {
   "cell_type": "code",
   "execution_count": 57,
   "id": "ee9385e2-2303-46c4-bb44-5415a290dfe3",
   "metadata": {},
   "outputs": [
    {
     "data": {
      "text/plain": [
       "datetime.datetime(2005, 6, 1, 13, 33)"
      ]
     },
     "execution_count": 57,
     "metadata": {},
     "output_type": "execute_result"
    }
   ],
   "source": [
    "from datetime import datetime\n",
    "\n",
    "datetime_object = datetime.strptime('Jun 1 2005  1:33PM', '%b %d %Y %I:%M%p')\n",
    "datetime_object"
   ]
  },
  {
   "cell_type": "code",
   "execution_count": 60,
   "id": "8eddfa38-5c90-4d17-bdb1-934b4becbfcd",
   "metadata": {},
   "outputs": [],
   "source": [
    "Y.index = pd.to_datetime(Y.Date)\n"
   ]
  },
  {
   "cell_type": "code",
   "execution_count": 62,
   "id": "978493b5-f498-4df2-9d1b-1c68cdd06d51",
   "metadata": {},
   "outputs": [
    {
     "data": {
      "text/plain": [
       "<AxesSubplot:xlabel='Date'>"
      ]
     },
     "execution_count": 62,
     "metadata": {},
     "output_type": "execute_result"
    },
    {
     "data": {
      "image/png": "[encoded data removed]",
      "text/plain": [
       "<Figure size 432x288 with 1 Axes>"
      ]
     },
     "metadata": {
      "needs_background": "light"
     },
     "output_type": "display_data"
    }
   ],
   "source": [
    "Y.plot()"
   ]
  },
  {
   "cell_type": "code",
   "execution_count": null,
   "id": "e108876f-e619-4420-a3c4-a09c650cf99e",
   "metadata": {},
   "outputs": [],
   "source": []
  }
 ],
 "metadata": {
  "kernelspec": {
   "display_name": "Python 3",
   "language": "python",
   "name": "python3"
  },
  "language_info": {
   "codemirror_mode": {
    "name": "ipython",
    "version": 3
   },
   "file_extension": ".py",
   "mimetype": "text/x-python",
   "name": "python",
   "nbconvert_exporter": "python",
   "pygments_lexer": "ipython3",
   "version": "3.8.8"
  }
 },
 "nbformat": 4,
 "nbformat_minor": 5
}
