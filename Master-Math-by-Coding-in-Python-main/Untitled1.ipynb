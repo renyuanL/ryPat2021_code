{
 "cells": [
  {
   "cell_type": "code",
   "execution_count": 1,
   "id": "f0d6bf45-48be-4462-a96a-3157364c40a3",
   "metadata": {},
   "outputs": [],
   "source": [
    "def f(x):\n",
    "    y= 1+x+x**2\n",
    "    return y\n",
    "def g(x):\n",
    "    y= x**3\n"
   ]
  },
  {
   "cell_type": "code",
   "execution_count": 2,
   "id": "f61ebb52-022f-4f8a-aa79-3bacd2f297b8",
   "metadata": {},
   "outputs": [
    {
     "ename": "TypeError",
     "evalue": "unsupported operand type(s) for +: 'function' and 'function'",
     "output_type": "error",
     "traceback": [
      "\u001b[1;31m---------------------------------------------------------------------------\u001b[0m",
      "\u001b[1;31mTypeError\u001b[0m                                 Traceback (most recent call last)",
      "\u001b[1;32m<ipython-input-2-8dc9e05f98e1>\u001b[0m in \u001b[0;36m<module>\u001b[1;34m\u001b[0m\n\u001b[1;32m----> 1\u001b[1;33m \u001b[0mf\u001b[0m\u001b[1;33m+\u001b[0m\u001b[0mg\u001b[0m\u001b[1;33m\u001b[0m\u001b[1;33m\u001b[0m\u001b[0m\n\u001b[0m",
      "\u001b[1;31mTypeError\u001b[0m: unsupported operand type(s) for +: 'function' and 'function'"
     ]
    }
   ],
   "source": [
    "f+g"
   ]
  },
  {
   "cell_type": "code",
   "execution_count": 3,
   "id": "9efaf29a-3c0c-41bb-b30e-b0a469947aa5",
   "metadata": {},
   "outputs": [],
   "source": [
    "import sympy as sm\n"
   ]
  },
  {
   "cell_type": "code",
   "execution_count": 4,
   "id": "94b17999-7955-402b-8e2e-c4dc9c19907c",
   "metadata": {},
   "outputs": [
    {
     "data": {
      "text/plain": [
       "\u001b[1;31mInit signature:\u001b[0m \u001b[0msm\u001b[0m\u001b[1;33m.\u001b[0m\u001b[0mFunctionClass\u001b[0m\u001b[1;33m(\u001b[0m\u001b[0mcls\u001b[0m\u001b[1;33m,\u001b[0m \u001b[1;33m*\u001b[0m\u001b[0margs\u001b[0m\u001b[1;33m,\u001b[0m \u001b[1;33m**\u001b[0m\u001b[0mkwargs\u001b[0m\u001b[1;33m)\u001b[0m\u001b[1;33m\u001b[0m\u001b[1;33m\u001b[0m\u001b[0m\n",
       "\u001b[1;31mDocstring:\u001b[0m     \n",
       "Base class for function classes. FunctionClass is a subclass of type.\n",
       "\n",
       "Use Function('<function name>' [ , signature ]) to create\n",
       "undefined function classes.\n",
       "\u001b[1;31mFile:\u001b[0m           m:\\programdata\\anaconda3\\lib\\site-packages\\sympy\\core\\function.py\n",
       "\u001b[1;31mType:\u001b[0m           type\n",
       "\u001b[1;31mSubclasses:\u001b[0m     UndefinedFunction, ExpMeta\n"
      ]
     },
     "metadata": {},
     "output_type": "display_data"
    }
   ],
   "source": [
    "sm.FunctionClass?"
   ]
  },
  {
   "cell_type": "code",
   "execution_count": 5,
   "id": "5fbbfe6b-3310-4387-adea-f1f489d992b8",
   "metadata": {},
   "outputs": [
    {
     "data": {
      "text/plain": [
       "\u001b[1;31mInit signature:\u001b[0m \u001b[0msm\u001b[0m\u001b[1;33m.\u001b[0m\u001b[0mFunction\u001b[0m\u001b[1;33m(\u001b[0m\u001b[1;33m*\u001b[0m\u001b[0margs\u001b[0m\u001b[1;33m)\u001b[0m\u001b[1;33m\u001b[0m\u001b[1;33m\u001b[0m\u001b[0m\n",
       "\u001b[1;31mDocstring:\u001b[0m     \n",
       "Base class for applied mathematical functions.\n",
       "\n",
       "It also serves as a constructor for undefined function classes.\n",
       "\n",
       "Examples\n",
       "========\n",
       "\n",
       "First example shows how to use Function as a constructor for undefined\n",
       "function classes:\n",
       "\n",
       ">>> from sympy import Function, Symbol\n",
       ">>> x = Symbol('x')\n",
       ">>> f = Function('f')\n",
       ">>> g = Function('g')(x)\n",
       ">>> f\n",
       "f\n",
       ">>> f(x)\n",
       "f(x)\n",
       ">>> g\n",
       "g(x)\n",
       ">>> f(x).diff(x)\n",
       "Derivative(f(x), x)\n",
       ">>> g.diff(x)\n",
       "Derivative(g(x), x)\n",
       "\n",
       "Assumptions can be passed to Function, and if function is initialized with a\n",
       "Symbol, the function inherits the name and assumptions associated with the Symbol:\n",
       "\n",
       ">>> f_real = Function('f', real=True)\n",
       ">>> f_real(x).is_real\n",
       "True\n",
       ">>> f_real_inherit = Function(Symbol('f', real=True))\n",
       ">>> f_real_inherit(x).is_real\n",
       "True\n",
       "\n",
       "Note that assumptions on a function are unrelated to the assumptions on\n",
       "the variable it is called on. If you want to add a relationship, subclass\n",
       "Function and define the appropriate ``_eval_is_assumption`` methods.\n",
       "\n",
       "In the following example Function is used as a base class for\n",
       "``my_func`` that represents a mathematical function *my_func*. Suppose\n",
       "that it is well known, that *my_func(0)* is *1* and *my_func* at infinity\n",
       "goes to *0*, so we want those two simplifications to occur automatically.\n",
       "Suppose also that *my_func(x)* is real exactly when *x* is real. Here is\n",
       "an implementation that honours those requirements:\n",
       "\n",
       ">>> from sympy import Function, S, oo, I, sin\n",
       ">>> class my_func(Function):\n",
       "...\n",
       "...     @classmethod\n",
       "...     def eval(cls, x):\n",
       "...         if x.is_Number:\n",
       "...             if x.is_zero:\n",
       "...                 return S.One\n",
       "...             elif x is S.Infinity:\n",
       "...                 return S.Zero\n",
       "...\n",
       "...     def _eval_is_real(self):\n",
       "...         return self.args[0].is_real\n",
       "...\n",
       ">>> x = S('x')\n",
       ">>> my_func(0) + sin(0)\n",
       "1\n",
       ">>> my_func(oo)\n",
       "0\n",
       ">>> my_func(3.54).n() # Not yet implemented for my_func.\n",
       "my_func(3.54)\n",
       ">>> my_func(I).is_real\n",
       "False\n",
       "\n",
       "In order for ``my_func`` to become useful, several other methods would\n",
       "need to be implemented. See source code of some of the already\n",
       "implemented functions for more complete examples.\n",
       "\n",
       "Also, if the function can take more than one argument, then ``nargs``\n",
       "must be defined, e.g. if ``my_func`` can take one or two arguments\n",
       "then,\n",
       "\n",
       ">>> class my_func(Function):\n",
       "...     nargs = (1, 2)\n",
       "...\n",
       ">>>\n",
       "\u001b[1;31mFile:\u001b[0m           m:\\programdata\\anaconda3\\lib\\site-packages\\sympy\\core\\function.py\n",
       "\u001b[1;31mType:\u001b[0m           FunctionClass\n",
       "\u001b[1;31mSubclasses:\u001b[0m     AppliedUndef, WildFunction, Mod, primepi, totient, reduced_totient, divisor_sigma, udivisor_sigma, primenu, primeomega, ...\n"
      ]
     },
     "metadata": {},
     "output_type": "display_data"
    }
   ],
   "source": [
    "sm.Function?"
   ]
  },
  {
   "cell_type": "code",
   "execution_count": 6,
   "id": "7569156f-778c-4492-85f4-44f2963f78c9",
   "metadata": {},
   "outputs": [],
   "source": [
    "x= sm.Symbol('x')"
   ]
  },
  {
   "cell_type": "code",
   "execution_count": 7,
   "id": "8e24294a-cb2b-41e9-8e00-17808f949c44",
   "metadata": {},
   "outputs": [
    {
     "data": {
      "text/latex": [
       "$\\displaystyle 2 x$"
      ],
      "text/plain": [
       "2*x"
      ]
     },
     "execution_count": 7,
     "metadata": {},
     "output_type": "execute_result"
    }
   ],
   "source": [
    "x+x"
   ]
  },
  {
   "cell_type": "code",
   "execution_count": 8,
   "id": "ad993537-a142-49ce-a19a-4214e443e461",
   "metadata": {},
   "outputs": [
    {
     "data": {
      "text/latex": [
       "$\\displaystyle x^{2}$"
      ],
      "text/plain": [
       "x**2"
      ]
     },
     "execution_count": 8,
     "metadata": {},
     "output_type": "execute_result"
    }
   ],
   "source": [
    "x*x"
   ]
  },
  {
   "cell_type": "code",
   "execution_count": 11,
   "id": "a4cf29df-817c-466a-ada5-47d566908998",
   "metadata": {},
   "outputs": [
    {
     "data": {
      "text/plain": [
       "True"
      ]
     },
     "execution_count": 11,
     "metadata": {},
     "output_type": "execute_result"
    }
   ],
   "source": [
    "x.__add__(x) == x+x"
   ]
  },
  {
   "cell_type": "code",
   "execution_count": 22,
   "id": "297bec5f-a9db-4242-b4d6-2a2106fdb2da",
   "metadata": {},
   "outputs": [],
   "source": [
    "f= sm.Function('f')\n",
    "g= sm.Function('g')"
   ]
  },
  {
   "cell_type": "code",
   "execution_count": 24,
   "id": "bcb7a8d8-6159-46a7-9c61-646c4c3b88da",
   "metadata": {},
   "outputs": [
    {
     "data": {
      "text/latex": [
       "$\\displaystyle f{\\left(x \\right)} + g{\\left(x \\right)}$"
      ],
      "text/plain": [
       "f(x) + g(x)"
      ]
     },
     "execution_count": 24,
     "metadata": {},
     "output_type": "execute_result"
    }
   ],
   "source": [
    "f(x)+g(x)"
   ]
  },
  {
   "cell_type": "code",
   "execution_count": 26,
   "id": "e4c3e16a-4604-4199-87c3-5994e910bd5e",
   "metadata": {},
   "outputs": [
    {
     "data": {
      "text/latex": [
       "$\\displaystyle f{\\left(x \\right)} \\frac{d}{d x} g{\\left(x \\right)} + g{\\left(x \\right)} \\frac{d}{d x} f{\\left(x \\right)}$"
      ],
      "text/plain": [
       "f(x)*Derivative(g(x), x) + g(x)*Derivative(f(x), x)"
      ]
     },
     "execution_count": 26,
     "metadata": {},
     "output_type": "execute_result"
    }
   ],
   "source": [
    "(f(x)*g(x)).diff(x)"
   ]
  },
  {
   "cell_type": "code",
   "execution_count": 27,
   "id": "d8e503c2-7162-4a24-be24-09724370c90a",
   "metadata": {},
   "outputs": [
    {
     "data": {
      "text/latex": [
       "$\\displaystyle \\frac{d}{d g{\\left(x \\right)}} f{\\left(g{\\left(x \\right)} \\right)} \\frac{d}{d x} g{\\left(x \\right)}$"
      ],
      "text/plain": [
       "Derivative(f(g(x)), g(x))*Derivative(g(x), x)"
      ]
     },
     "execution_count": 27,
     "metadata": {},
     "output_type": "execute_result"
    }
   ],
   "source": [
    "f(g(x)).diff(x)\n"
   ]
  },
  {
   "cell_type": "code",
   "execution_count": 30,
   "id": "0c14275b-ad60-4414-82e2-32116f980081",
   "metadata": {},
   "outputs": [
    {
     "data": {
      "text/latex": [
       "$\\displaystyle f{\\left(g{\\left(x \\right)} \\right)}$"
      ],
      "text/plain": [
       "f(g(x))"
      ]
     },
     "execution_count": 30,
     "metadata": {},
     "output_type": "execute_result"
    }
   ],
   "source": [
    "γ= sm.Symbol('γ')\n",
    "f(γ).subs(γ, g(x))"
   ]
  },
  {
   "cell_type": "code",
   "execution_count": 31,
   "id": "3683a5ce-7fbc-451f-82a7-822761d36365",
   "metadata": {},
   "outputs": [
    {
     "data": {
      "text/latex": [
       "$\\displaystyle \\frac{d}{d g{\\left(x \\right)}} f{\\left(g{\\left(x \\right)} \\right)}$"
      ],
      "text/plain": [
       "Derivative(f(g(x)), g(x))"
      ]
     },
     "execution_count": 31,
     "metadata": {},
     "output_type": "execute_result"
    }
   ],
   "source": [
    "f(g(x)).diff(g(x))"
   ]
  },
  {
   "cell_type": "code",
   "execution_count": 39,
   "id": "965cebbc-a693-4b1b-aa3f-f1a70f3f268f",
   "metadata": {},
   "outputs": [
    {
     "data": {
      "text/latex": [
       "$\\displaystyle \\int\\limits_{-\\infty}^{x} f{\\left(x \\right)}\\, dx$"
      ],
      "text/plain": [
       "Integral(f(x), (x, -oo, x))"
      ]
     },
     "execution_count": 39,
     "metadata": {},
     "output_type": "execute_result"
    }
   ],
   "source": [
    "f(x).integrate((x,-sm.oo,x))"
   ]
  },
  {
   "cell_type": "code",
   "execution_count": 20,
   "id": "4f2324b0-c0a3-4094-aafb-030911377175",
   "metadata": {},
   "outputs": [
    {
     "data": {
      "text/plain": [
       "f"
      ]
     },
     "execution_count": 20,
     "metadata": {},
     "output_type": "execute_result"
    }
   ],
   "source": [
    "type(f(x))"
   ]
  },
  {
   "cell_type": "code",
   "execution_count": 21,
   "id": "d0f0752c-1288-4904-8ef5-7a42d4a2b701",
   "metadata": {},
   "outputs": [
    {
     "data": {
      "text/latex": [
       "$\\displaystyle f{\\left(x \\right)}$"
      ],
      "text/plain": [
       "f(x)"
      ]
     },
     "execution_count": 21,
     "metadata": {},
     "output_type": "execute_result"
    }
   ],
   "source": [
    "f(x)"
   ]
  },
  {
   "cell_type": "code",
   "execution_count": 45,
   "id": "c9bee529-320d-4f0a-b206-b3385fb1a5c9",
   "metadata": {},
   "outputs": [
    {
     "data": {
      "text/latex": [
       "$\\displaystyle \\log{\\left(x \\right)}$"
      ],
      "text/plain": [
       "log(x)"
      ]
     },
     "execution_count": 45,
     "metadata": {},
     "output_type": "execute_result"
    }
   ],
   "source": [
    "sm.log(x).diff(x).integrate(x)"
   ]
  },
  {
   "cell_type": "code",
   "execution_count": 47,
   "id": "7da7fa4f-875e-4377-a79b-a678c02e98d4",
   "metadata": {},
   "outputs": [
    {
     "data": {
      "text/latex": [
       "$\\displaystyle \\operatorname{atan}{\\left(x \\right)}$"
      ],
      "text/plain": [
       "atan(x)"
      ]
     },
     "execution_count": 47,
     "metadata": {},
     "output_type": "execute_result"
    }
   ],
   "source": [
    "(1/(1+x**2)).integrate(x)"
   ]
  },
  {
   "cell_type": "code",
   "execution_count": 53,
   "id": "a3d9934a-42f8-4180-85c0-3792946547af",
   "metadata": {},
   "outputs": [
    {
     "data": {
      "text/plain": [
       "(f(x), Derivative(f(x), x), Integral(f(x), x))"
      ]
     },
     "execution_count": 53,
     "metadata": {},
     "output_type": "execute_result"
    }
   ],
   "source": [
    "f(x), f(x).diff(x), f(x).integrate(x)"
   ]
  },
  {
   "cell_type": "code",
   "execution_count": 55,
   "id": "13302826-05dd-4066-80db-c512728097ef",
   "metadata": {},
   "outputs": [
    {
     "data": {
      "text/latex": [
       "$\\displaystyle f{\\left(x \\right)}$"
      ],
      "text/plain": [
       "f(x)"
      ]
     },
     "execution_count": 55,
     "metadata": {},
     "output_type": "execute_result"
    }
   ],
   "source": [
    "f(x) "
   ]
  },
  {
   "cell_type": "code",
   "execution_count": 56,
   "id": "dce26e85-23af-4c27-bfc3-3657a707d106",
   "metadata": {},
   "outputs": [
    {
     "data": {
      "text/latex": [
       "$\\displaystyle \\frac{d}{d x} f{\\left(x \\right)}$"
      ],
      "text/plain": [
       "Derivative(f(x), x)"
      ]
     },
     "execution_count": 56,
     "metadata": {},
     "output_type": "execute_result"
    }
   ],
   "source": [
    "f(x).diff(x) "
   ]
  },
  {
   "cell_type": "code",
   "execution_count": 61,
   "id": "d52575de-4955-4a54-b76a-edcbd2a9361e",
   "metadata": {},
   "outputs": [
    {
     "name": "stdout",
     "output_type": "stream",
     "text": [
      "\\int f{\\left(x \\right)}\\, dx\n"
     ]
    }
   ],
   "source": [
    "print(sm.latex(f(x).integrate(x)))"
   ]
  },
  {
   "cell_type": "markdown",
   "id": "13227d7d-200d-49aa-b0e5-2268a7ea3e78",
   "metadata": {},
   "source": [
    "$$\n",
    "\\int f{\\left(x \\right)}\\, dx\n",
    "$$"
   ]
  },
  {
   "cell_type": "code",
   "execution_count": 62,
   "id": "9414c0fe-fd8a-4607-bc47-ddfd53e3c3e1",
   "metadata": {},
   "outputs": [
    {
     "data": {
      "text/latex": [
       "$\\displaystyle \\int f{\\left(x \\right)}\\, dx$"
      ],
      "text/plain": [
       "Integral(f(x), x)"
      ]
     },
     "execution_count": 62,
     "metadata": {},
     "output_type": "execute_result"
    }
   ],
   "source": [
    "f(x).integrate(x)"
   ]
  },
  {
   "cell_type": "code",
   "execution_count": 64,
   "id": "fa442f23-c66f-46eb-a404-b2c95d4784d4",
   "metadata": {},
   "outputs": [
    {
     "data": {
      "text/latex": [
       "$\\displaystyle - \\frac{\\frac{d}{d x} f{\\left(x \\right)}}{f^{2}{\\left(x \\right)}}$"
      ],
      "text/plain": [
       "-Derivative(f(x), x)/f(x)**2"
      ]
     },
     "execution_count": 64,
     "metadata": {},
     "output_type": "execute_result"
    }
   ],
   "source": [
    "(1/f(x)).diff(x)"
   ]
  },
  {
   "cell_type": "code",
   "execution_count": 65,
   "id": "18b31993-70ca-48f2-8fed-5d4135858373",
   "metadata": {},
   "outputs": [
    {
     "data": {
      "text/latex": [
       "$\\displaystyle \\int \\frac{1}{f{\\left(x \\right)}}\\, dx$"
      ],
      "text/plain": [
       "Integral(1/f(x), x)"
      ]
     },
     "execution_count": 65,
     "metadata": {},
     "output_type": "execute_result"
    }
   ],
   "source": [
    "(1/f(x)).integrate(x)"
   ]
  },
  {
   "cell_type": "code",
   "execution_count": 66,
   "id": "5614ca4c-3455-46bf-b79f-bc7adf66f868",
   "metadata": {},
   "outputs": [
    {
     "data": {
      "text/latex": [
       "$\\displaystyle f{\\left(x \\right)} \\frac{d}{d x} g{\\left(x \\right)} + g{\\left(x \\right)} \\frac{d}{d x} f{\\left(x \\right)}$"
      ],
      "text/plain": [
       "f(x)*Derivative(g(x), x) + g(x)*Derivative(f(x), x)"
      ]
     },
     "execution_count": 66,
     "metadata": {},
     "output_type": "execute_result"
    }
   ],
   "source": [
    "(f(x)*g(x)).diff(x)"
   ]
  },
  {
   "cell_type": "code",
   "execution_count": 68,
   "id": "bb269527-a9cf-4f56-ad9d-be23856c315a",
   "metadata": {},
   "outputs": [
    {
     "data": {
      "text/latex": [
       "$\\displaystyle f{\\left(x \\right)} \\frac{d}{d x} g{\\left(x \\right)} + g{\\left(x \\right)} \\frac{d}{d x} f{\\left(x \\right)}$"
      ],
      "text/plain": [
       "f(x)*Derivative(g(x), x) + g(x)*Derivative(f(x), x)"
      ]
     },
     "execution_count": 68,
     "metadata": {},
     "output_type": "execute_result"
    }
   ],
   "source": [
    "f(x)*g(x).diff(x) + g(x)*f(x).diff(x)"
   ]
  },
  {
   "cell_type": "code",
   "execution_count": 70,
   "id": "da1a3713-af22-4c8f-b296-bf125278829f",
   "metadata": {},
   "outputs": [
    {
     "data": {
      "text/latex": [
       "$\\displaystyle 4 \\sin{\\left(x \\right)} + \\frac{- \\sqrt{x} + 2 x^{5}}{x}$"
      ],
      "text/plain": [
       "4*sin(x) + (-sqrt(x) + 2*x**5)/x"
      ]
     },
     "execution_count": 70,
     "metadata": {},
     "output_type": "execute_result"
    }
   ],
   "source": [
    "q= 4*sm.sin(x) + (2*x**5 - sm.sqrt(x))/x\n",
    "q"
   ]
  },
  {
   "cell_type": "code",
   "execution_count": 72,
   "id": "d691f3e0-8082-4080-ad14-ba485f1c660c",
   "metadata": {},
   "outputs": [
    {
     "data": {
      "text/latex": [
       "$\\displaystyle - 2 \\sqrt{x} + \\frac{2 x^{5}}{5} - 4 \\cos{\\left(x \\right)}$"
      ],
      "text/plain": [
       "-2*sqrt(x) + 2*x**5/5 - 4*cos(x)"
      ]
     },
     "execution_count": 72,
     "metadata": {},
     "output_type": "execute_result"
    }
   ],
   "source": [
    "Q= q.integrate(x)\n",
    "Q"
   ]
  },
  {
   "cell_type": "code",
   "execution_count": 75,
   "id": "9a1b4cd9-4526-42de-bf90-c0afca2179c2",
   "metadata": {},
   "outputs": [
    {
     "data": {
      "image/png": "[encoded data removed]",
      "text/plain": [
       "<Figure size 432x288 with 1 Axes>"
      ]
     },
     "metadata": {
      "needs_background": "light"
     },
     "output_type": "display_data"
    },
    {
     "data": {
      "text/plain": [
       "<sympy.plotting.plot.Plot at 0x12b67755f40>"
      ]
     },
     "execution_count": 75,
     "metadata": {},
     "output_type": "execute_result"
    }
   ],
   "source": [
    "sm.plotting.plot(q, Q, (x,-1,1))\n"
   ]
  },
  {
   "cell_type": "code",
   "execution_count": 85,
   "id": "bddd536f-23b8-4904-bf08-44d14111e908",
   "metadata": {},
   "outputs": [
    {
     "data": {
      "text/latex": [
       "$\\displaystyle \\frac{n^{2}}{2} + \\frac{n}{2}$"
      ],
      "text/plain": [
       "n**2/2 + n/2"
      ]
     },
     "execution_count": 85,
     "metadata": {},
     "output_type": "execute_result"
    }
   ],
   "source": [
    "i= sm.Symbol('i')\n",
    "n= sm.Symbol('n')\n",
    "k= sm.Symbol('k')\n",
    "\n",
    "sm.Sum(i, (i,1,n)).doit()"
   ]
  },
  {
   "cell_type": "code",
   "execution_count": 81,
   "id": "f7f09fa9-a7e5-4f37-8f2e-42eff65bd222",
   "metadata": {},
   "outputs": [
    {
     "data": {
      "text/latex": [
       "$\\displaystyle \\frac{n^{3}}{3} + \\frac{n^{2}}{2} + \\frac{n}{6}$"
      ],
      "text/plain": [
       "n**3/3 + n**2/2 + n/6"
      ]
     },
     "execution_count": 81,
     "metadata": {},
     "output_type": "execute_result"
    }
   ],
   "source": [
    "sm.Sum(i**2, (i,1,n)).doit()"
   ]
  },
  {
   "cell_type": "code",
   "execution_count": 82,
   "id": "0fad07c6-ce2e-4f8f-9913-80a904fce7a5",
   "metadata": {},
   "outputs": [
    {
     "data": {
      "text/latex": [
       "$\\displaystyle \\frac{n^{4}}{4} + \\frac{n^{3}}{2} + \\frac{n^{2}}{4}$"
      ],
      "text/plain": [
       "n**4/4 + n**3/2 + n**2/4"
      ]
     },
     "execution_count": 82,
     "metadata": {},
     "output_type": "execute_result"
    }
   ],
   "source": [
    "sm.Sum(i**3, (i,1,n)).doit()"
   ]
  },
  {
   "cell_type": "code",
   "execution_count": 84,
   "id": "0ecea7ef-1b09-46ee-b4af-80ebb6599c00",
   "metadata": {},
   "outputs": [
    {
     "data": {
      "text/latex": [
       "$\\displaystyle \\frac{n^{5}}{5} + \\frac{n^{4}}{2} + \\frac{n^{3}}{3} - \\frac{n}{30}$"
      ],
      "text/plain": [
       "n**5/5 + n**4/2 + n**3/3 - n/30"
      ]
     },
     "execution_count": 84,
     "metadata": {},
     "output_type": "execute_result"
    }
   ],
   "source": [
    "sm.Sum(i**4, (i,1,n)).doit()"
   ]
  },
  {
   "cell_type": "code",
   "execution_count": 89,
   "id": "e63a91c3-d082-495d-af77-5bc89954f8c6",
   "metadata": {},
   "outputs": [
    {
     "data": {
      "text/latex": [
       "$\\displaystyle \\sum_{i=1}^{n} i^{k}$"
      ],
      "text/plain": [
       "Sum(i**k, (i, 1, n))"
      ]
     },
     "execution_count": 89,
     "metadata": {},
     "output_type": "execute_result"
    }
   ],
   "source": [
    "sm.Sum(i**k, (i,1,n)).expand().simplify().doit()"
   ]
  },
  {
   "cell_type": "code",
   "execution_count": 91,
   "id": "5986b8e6-6475-4799-9dc8-8b5525283da1",
   "metadata": {},
   "outputs": [
    {
     "data": {
      "text/latex": [
       "$\\displaystyle \\sum_{i=0}^{n} \\frac{\\left(\\frac{i}{n}\\right)^{k}}{n}$"
      ],
      "text/plain": [
       "Sum((i/n)**k/n, (i, 0, n))"
      ]
     },
     "execution_count": 91,
     "metadata": {},
     "output_type": "execute_result"
    }
   ],
   "source": [
    "sm.Sum((i/n)**k * (1/n), (i,0,n))"
   ]
  },
  {
   "cell_type": "code",
   "execution_count": 93,
   "id": "984bec33-4c14-4e91-a3d5-6baa0c3f3cdb",
   "metadata": {},
   "outputs": [],
   "source": [
    "#sm.limit(sm.Sum((i/n)**k * (1/n), (i,0,n)), n,sm.oo)"
   ]
  },
  {
   "cell_type": "code",
   "execution_count": 95,
   "id": "e9b846d1-2a91-4e67-9e7a-ae056407b99e",
   "metadata": {},
   "outputs": [
    {
     "data": {
      "text/latex": [
       "$\\displaystyle 2 x \\sqrt{x^{2} + 1}$"
      ],
      "text/plain": [
       "2*x*sqrt(x**2 + 1)"
      ]
     },
     "execution_count": 95,
     "metadata": {},
     "output_type": "execute_result"
    }
   ],
   "source": [
    "q= 2*x *sm.sqrt(x**2+1)\n",
    "q"
   ]
  },
  {
   "cell_type": "code",
   "execution_count": 96,
   "id": "d501df61-4d50-46e4-b54b-239a4c5e1d63",
   "metadata": {},
   "outputs": [
    {
     "data": {
      "text/latex": [
       "$\\displaystyle \\frac{2 x^{2} \\sqrt{x^{2} + 1}}{3} + \\frac{2 \\sqrt{x^{2} + 1}}{3}$"
      ],
      "text/plain": [
       "2*x**2*sqrt(x**2 + 1)/3 + 2*sqrt(x**2 + 1)/3"
      ]
     },
     "execution_count": 96,
     "metadata": {},
     "output_type": "execute_result"
    }
   ],
   "source": [
    "q.integrate(x)"
   ]
  },
  {
   "cell_type": "code",
   "execution_count": 97,
   "id": "03839e4b-0112-48a0-b34d-ff3db435eeb5",
   "metadata": {},
   "outputs": [
    {
     "data": {
      "text/latex": [
       "$\\displaystyle f{\\left(x \\right)}$"
      ],
      "text/plain": [
       "f(x)"
      ]
     },
     "execution_count": 97,
     "metadata": {},
     "output_type": "execute_result"
    }
   ],
   "source": [
    "f(x)"
   ]
  },
  {
   "cell_type": "code",
   "execution_count": 98,
   "id": "15f506dd-7782-491d-b0de-68b6f01f35e9",
   "metadata": {},
   "outputs": [
    {
     "data": {
      "text/latex": [
       "$\\displaystyle g{\\left(x \\right)}$"
      ],
      "text/plain": [
       "g(x)"
      ]
     },
     "execution_count": 98,
     "metadata": {},
     "output_type": "execute_result"
    }
   ],
   "source": [
    "g(x)"
   ]
  },
  {
   "cell_type": "code",
   "execution_count": 100,
   "id": "c025f05b-9e3a-4b2f-80e8-7dd65fb96bb3",
   "metadata": {},
   "outputs": [
    {
     "data": {
      "text/latex": [
       "$\\displaystyle \\int f{\\left(x \\right)} \\frac{d}{d x} g{\\left(x \\right)}\\, dx$"
      ],
      "text/plain": [
       "Integral(f(x)*Derivative(g(x), x), x)"
      ]
     },
     "execution_count": 100,
     "metadata": {},
     "output_type": "execute_result"
    }
   ],
   "source": [
    "(f(x)*g(x).diff(x)).integrate(x)"
   ]
  },
  {
   "cell_type": "code",
   "execution_count": 101,
   "id": "7c6fbc9a-c876-481a-8bb5-e66b0b2abc78",
   "metadata": {},
   "outputs": [
    {
     "data": {
      "text/latex": [
       "$\\displaystyle \\int g{\\left(x \\right)} \\frac{d}{d x} f{\\left(x \\right)}\\, dx$"
      ],
      "text/plain": [
       "Integral(g(x)*Derivative(f(x), x), x)"
      ]
     },
     "execution_count": 101,
     "metadata": {},
     "output_type": "execute_result"
    }
   ],
   "source": [
    "(g(x)*f(x).diff(x)).integrate(x)"
   ]
  },
  {
   "cell_type": "code",
   "execution_count": 104,
   "id": "a4a6cbce-9f8e-4224-bedc-8be2567f2b60",
   "metadata": {},
   "outputs": [
    {
     "data": {
      "text/latex": [
       "$\\displaystyle \\int f{\\left(x \\right)} \\frac{d}{d x} g{\\left(x \\right)}\\, dx + \\int g{\\left(x \\right)} \\frac{d}{d x} f{\\left(x \\right)}\\, dx$"
      ],
      "text/plain": [
       "Integral(f(x)*Derivative(g(x), x), x) + Integral(g(x)*Derivative(f(x), x), x)"
      ]
     },
     "execution_count": 104,
     "metadata": {},
     "output_type": "execute_result"
    }
   ],
   "source": [
    "q1= (f(x)*g(x).diff(x)).integrate(x) + (g(x)*f(x).diff(x)).integrate(x)\n",
    "q1"
   ]
  },
  {
   "cell_type": "code",
   "execution_count": 105,
   "id": "e5955d1c-5595-461c-901e-6013c92cbcdb",
   "metadata": {},
   "outputs": [
    {
     "data": {
      "text/latex": [
       "$\\displaystyle \\int f{\\left(x \\right)} g{\\left(x \\right)}\\, dx$"
      ],
      "text/plain": [
       "Integral(f(x)*g(x), x)"
      ]
     },
     "execution_count": 105,
     "metadata": {},
     "output_type": "execute_result"
    }
   ],
   "source": [
    "q2= (f(x)*g(x)).integrate(x)\n",
    "q2"
   ]
  },
  {
   "cell_type": "code",
   "execution_count": 106,
   "id": "1a191743-92ff-4e53-a22f-c5e42b807418",
   "metadata": {},
   "outputs": [
    {
     "data": {
      "text/latex": [
       "$\\displaystyle \\int f{\\left(x \\right)} \\frac{d}{d x} g{\\left(x \\right)}\\, dx + \\int g{\\left(x \\right)} \\frac{d}{d x} f{\\left(x \\right)}\\, dx = \\int f{\\left(x \\right)} g{\\left(x \\right)}\\, dx$"
      ],
      "text/plain": [
       "Eq(Integral(f(x)*Derivative(g(x), x), x) + Integral(g(x)*Derivative(f(x), x), x), Integral(f(x)*g(x), x))"
      ]
     },
     "execution_count": 106,
     "metadata": {},
     "output_type": "execute_result"
    }
   ],
   "source": [
    "sm.Eq(q1, q2)"
   ]
  },
  {
   "cell_type": "code",
   "execution_count": 107,
   "id": "2b50f346-cdf7-4259-87e9-c52656253f72",
   "metadata": {},
   "outputs": [
    {
     "data": {
      "text/latex": [
       "$\\displaystyle x^{5} e^{x}$"
      ],
      "text/plain": [
       "x**5*exp(x)"
      ]
     },
     "execution_count": 107,
     "metadata": {},
     "output_type": "execute_result"
    }
   ],
   "source": [
    "q= x**5 * sm.exp(x)\n",
    "q"
   ]
  },
  {
   "cell_type": "code",
   "execution_count": 108,
   "id": "37e05943-cf76-4111-af1a-73e44d5d41cf",
   "metadata": {},
   "outputs": [
    {
     "data": {
      "text/latex": [
       "$\\displaystyle \\left(x^{5} - 5 x^{4} + 20 x^{3} - 60 x^{2} + 120 x - 120\\right) e^{x}$"
      ],
      "text/plain": [
       "(x**5 - 5*x**4 + 20*x**3 - 60*x**2 + 120*x - 120)*exp(x)"
      ]
     },
     "execution_count": 108,
     "metadata": {},
     "output_type": "execute_result"
    }
   ],
   "source": [
    "q.integrate(x)"
   ]
  },
  {
   "cell_type": "code",
   "execution_count": 109,
   "id": "c6018931-f85f-48cb-8b20-96237922c57b",
   "metadata": {},
   "outputs": [
    {
     "data": {
      "text/latex": [
       "$\\displaystyle x^{5} e^{x} + 5 x^{4} e^{x}$"
      ],
      "text/plain": [
       "x**5*exp(x) + 5*x**4*exp(x)"
      ]
     },
     "execution_count": 109,
     "metadata": {},
     "output_type": "execute_result"
    }
   ],
   "source": [
    "q.diff(x)"
   ]
  },
  {
   "cell_type": "code",
   "execution_count": 110,
   "id": "52ce588d-5c31-4d92-894c-658268548107",
   "metadata": {},
   "outputs": [
    {
     "ename": "NameError",
     "evalue": "name 'y' is not defined",
     "output_type": "error",
     "traceback": [
      "\u001b[1;31m---------------------------------------------------------------------------\u001b[0m",
      "\u001b[1;31mNameError\u001b[0m                                 Traceback (most recent call last)",
      "\u001b[1;32m<ipython-input-110-5d26660c4dfa>\u001b[0m in \u001b[0;36m<module>\u001b[1;34m\u001b[0m\n\u001b[1;32m----> 1\u001b[1;33m \u001b[0mf\u001b[0m\u001b[1;33m(\u001b[0m\u001b[0mx\u001b[0m\u001b[1;33m,\u001b[0m\u001b[0my\u001b[0m\u001b[1;33m)\u001b[0m\u001b[1;33m\u001b[0m\u001b[1;33m\u001b[0m\u001b[0m\n\u001b[0m",
      "\u001b[1;31mNameError\u001b[0m: name 'y' is not defined"
     ]
    }
   ],
   "source": [
    "f(x,y)"
   ]
  },
  {
   "cell_type": "code",
   "execution_count": 118,
   "id": "9d713943-3f1b-475c-8c79-03d05cb6ff67",
   "metadata": {},
   "outputs": [],
   "source": [
    "x, y, dx, dy= sm.symbols('x,y,dx,dy')\n"
   ]
  },
  {
   "cell_type": "code",
   "execution_count": 119,
   "id": "6150a9ea-8562-43bf-aa5f-993a70a4cc0b",
   "metadata": {},
   "outputs": [
    {
     "data": {
      "text/latex": [
       "$\\displaystyle f{\\left(x,y \\right)}$"
      ],
      "text/plain": [
       "f(x, y)"
      ]
     },
     "execution_count": 119,
     "metadata": {},
     "output_type": "execute_result"
    }
   ],
   "source": [
    "f(x,y)"
   ]
  },
  {
   "cell_type": "code",
   "execution_count": 121,
   "id": "7880dea6-5cc5-4b2e-8f4f-abde912dd199",
   "metadata": {},
   "outputs": [
    {
     "data": {
      "text/latex": [
       "$\\displaystyle dx \\frac{\\partial}{\\partial x} f{\\left(x,y \\right)} + dy \\frac{\\partial}{\\partial y} f{\\left(x,y \\right)}$"
      ],
      "text/plain": [
       "dx*Derivative(f(x, y), x) + dy*Derivative(f(x, y), y)"
      ]
     },
     "execution_count": 121,
     "metadata": {},
     "output_type": "execute_result"
    }
   ],
   "source": [
    "f(x,y).diff(x)*dx + f(x,y).diff(y)*dy"
   ]
  },
  {
   "cell_type": "code",
   "execution_count": 123,
   "id": "8b45fe74-79d1-4910-85bb-8a60e20f6ccd",
   "metadata": {},
   "outputs": [
    {
     "data": {
      "text/latex": [
       "$\\displaystyle - f{\\left(x,y \\right)} + f{\\left(dx + x,dy + y \\right)}$"
      ],
      "text/plain": [
       "-f(x, y) + f(dx + x, dy + y)"
      ]
     },
     "execution_count": 123,
     "metadata": {},
     "output_type": "execute_result"
    }
   ],
   "source": [
    "f(x+dx, y+dy) -f(x,y)"
   ]
  },
  {
   "cell_type": "code",
   "execution_count": null,
   "id": "bb40a27c-9c48-443f-92ec-bb0fbb23bb3e",
   "metadata": {},
   "outputs": [],
   "source": []
  }
 ],
 "metadata": {
  "kernelspec": {
   "display_name": "Python 3",
   "language": "python",
   "name": "python3"
  },
  "language_info": {
   "codemirror_mode": {
    "name": "ipython",
    "version": 3
   },
   "file_extension": ".py",
   "mimetype": "text/x-python",
   "name": "python",
   "nbconvert_exporter": "python",
   "pygments_lexer": "ipython3",
   "version": "3.8.8"
  }
 },
 "nbformat": 4,
 "nbformat_minor": 5
}
