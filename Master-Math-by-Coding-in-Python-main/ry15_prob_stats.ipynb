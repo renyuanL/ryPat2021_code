{
 "cells": [
  {
   "cell_type": "code",
   "execution_count": 1,
   "id": "a4e49bf0-ab83-40cd-8301-6695fc67b30c",
   "metadata": {},
   "outputs": [],
   "source": [
    "from ryPat import *"
   ]
  },
  {
   "cell_type": "code",
   "execution_count": 11,
   "id": "1b29790c-3142-46f7-aaa2-5ecec87ea5a4",
   "metadata": {},
   "outputs": [
    {
     "data": {
      "image/png": "[encoded data removed]",
      "text/latex": [
       "$\\displaystyle {\\binom{n}{k}}$"
      ],
      "text/plain": [
       "⎛n⎞\n",
       "⎜ ⎟\n",
       "⎝k⎠"
      ]
     },
     "execution_count": 11,
     "metadata": {},
     "output_type": "execute_result"
    }
   ],
   "source": [
    "sm.binomial(n,k)"
   ]
  },
  {
   "cell_type": "markdown",
   "id": "c7312236-f87f-459e-8ce7-3169ada826d2",
   "metadata": {},
   "source": [
    "# sm.binomial?\n",
    "\n",
    "$\n",
    "\\binom{n}{k}= \n",
    "\\frac{n!}{k!(n-k)!}\n",
    "$"
   ]
  },
  {
   "cell_type": "markdown",
   "id": "f865b933-aec5-4c5a-9bfa-4fdb3c3bdb60",
   "metadata": {},
   "source": [
    "# np.random.binomial?\n",
    "$P(N) = \\binom{n}{N}p^N(1-p)^{n-N} $,\n",
    "        "
   ]
  },
  {
   "cell_type": "code",
   "execution_count": 20,
   "id": "e4e7f5ce-9d52-4c86-a93b-3712c2c61b85",
   "metadata": {},
   "outputs": [],
   "source": [
    "import scipy.stats as st"
   ]
  },
  {
   "cell_type": "markdown",
   "id": "879453ca-ac1e-40e0-a573-fc206ca837d2",
   "metadata": {},
   "source": [
    "# st.binom?\n",
    "\n",
    "$\n",
    "f(k) = \\binom{n}{k} p^k (1-p)^{n-k}\n",
    "\\\\\n",
    "k \\in {0, 1,..., n}, \n",
    "0 \\leq p \\leq 1\n",
    "$"
   ]
  },
  {
   "cell_type": "code",
   "execution_count": 83,
   "id": "d351e648-454e-43f3-941c-76de6fb7a533",
   "metadata": {},
   "outputs": [
    {
     "name": "stdout",
     "output_type": "stream",
     "text": [
      "n= 0, --------------------\n"
     ]
    },
    {
     "data": {
      "image/png": "[encoded data removed]",
      "text/latex": [
       "$\\displaystyle 1$"
      ],
      "text/plain": [
       "1"
      ]
     },
     "metadata": {},
     "output_type": "display_data"
    },
    {
     "data": {
      "image/png": "[encoded data removed]",
      "text/latex": [
       "$\\displaystyle 1$"
      ],
      "text/plain": [
       "1"
      ]
     },
     "metadata": {},
     "output_type": "display_data"
    },
    {
     "name": "stdout",
     "output_type": "stream",
     "text": [
      "n= 1, --------------------\n"
     ]
    },
    {
     "data": {
      "image/png": "[encoded data removed]",
      "text/latex": [
       "$\\displaystyle x + y$"
      ],
      "text/plain": [
       "x + y"
      ]
     },
     "metadata": {},
     "output_type": "display_data"
    },
    {
     "data": {
      "image/png": "[encoded data removed]",
      "text/latex": [
       "$\\displaystyle x + y$"
      ],
      "text/plain": [
       "x + y"
      ]
     },
     "metadata": {},
     "output_type": "display_data"
    },
    {
     "name": "stdout",
     "output_type": "stream",
     "text": [
      "n= 2, --------------------\n"
     ]
    },
    {
     "data": {
      "image/png": "[encoded data removed]",
      "text/latex": [
       "$\\displaystyle \\left(x + y\\right)^{2}$"
      ],
      "text/plain": [
       "       2\n",
       "(x + y) "
      ]
     },
     "metadata": {},
     "output_type": "display_data"
    },
    {
     "data": {
      "image/png": "[encoded data removed]",
      "text/latex": [
       "$\\displaystyle x^{2} + 2 x y + y^{2}$"
      ],
      "text/plain": [
       " 2            2\n",
       "x  + 2⋅x⋅y + y "
      ]
     },
     "metadata": {},
     "output_type": "display_data"
    },
    {
     "name": "stdout",
     "output_type": "stream",
     "text": [
      "n= 3, --------------------\n"
     ]
    },
    {
     "data": {
      "image/png": "[encoded data removed]",
      "text/latex": [
       "$\\displaystyle \\left(x + y\\right)^{3}$"
      ],
      "text/plain": [
       "       3\n",
       "(x + y) "
      ]
     },
     "metadata": {},
     "output_type": "display_data"
    },
    {
     "data": {
      "image/png": "[encoded data removed]",
      "text/latex": [
       "$\\displaystyle x^{3} + 3 x^{2} y + 3 x y^{2} + y^{3}$"
      ],
      "text/plain": [
       " 3      2          2    3\n",
       "x  + 3⋅x ⋅y + 3⋅x⋅y  + y "
      ]
     },
     "metadata": {},
     "output_type": "display_data"
    },
    {
     "name": "stdout",
     "output_type": "stream",
     "text": [
      "n= 4, --------------------\n"
     ]
    },
    {
     "data": {
      "image/png": "[encoded data removed]",
      "text/latex": [
       "$\\displaystyle \\left(x + y\\right)^{4}$"
      ],
      "text/plain": [
       "       4\n",
       "(x + y) "
      ]
     },
     "metadata": {},
     "output_type": "display_data"
    },
    {
     "data": {
      "image/png": "[encoded data removed]",
      "text/latex": [
       "$\\displaystyle x^{4} + 4 x^{3} y + 6 x^{2} y^{2} + 4 x y^{3} + y^{4}$"
      ],
      "text/plain": [
       " 4      3        2  2        3    4\n",
       "x  + 4⋅x ⋅y + 6⋅x ⋅y  + 4⋅x⋅y  + y "
      ]
     },
     "metadata": {},
     "output_type": "display_data"
    },
    {
     "name": "stdout",
     "output_type": "stream",
     "text": [
      "n= 5, --------------------\n"
     ]
    },
    {
     "data": {
      "image/png": "[encoded data removed]",
      "text/latex": [
       "$\\displaystyle \\left(x + y\\right)^{5}$"
      ],
      "text/plain": [
       "       5\n",
       "(x + y) "
      ]
     },
     "metadata": {},
     "output_type": "display_data"
    },
    {
     "data": {
      "image/png": "[encoded data removed]",
      "text/latex": [
       "$\\displaystyle x^{5} + 5 x^{4} y + 10 x^{3} y^{2} + 10 x^{2} y^{3} + 5 x y^{4} + y^{5}$"
      ],
      "text/plain": [
       " 5      4         3  2       2  3        4    5\n",
       "x  + 5⋅x ⋅y + 10⋅x ⋅y  + 10⋅x ⋅y  + 5⋅x⋅y  + y "
      ]
     },
     "metadata": {},
     "output_type": "display_data"
    },
    {
     "name": "stdout",
     "output_type": "stream",
     "text": [
      "n= 6, --------------------\n"
     ]
    },
    {
     "data": {
      "image/png": "[encoded data removed]",
      "text/latex": [
       "$\\displaystyle \\left(x + y\\right)^{6}$"
      ],
      "text/plain": [
       "       6\n",
       "(x + y) "
      ]
     },
     "metadata": {},
     "output_type": "display_data"
    },
    {
     "data": {
      "image/png": "[encoded data removed]",
      "text/latex": [
       "$\\displaystyle x^{6} + 6 x^{5} y + 15 x^{4} y^{2} + 20 x^{3} y^{3} + 15 x^{2} y^{4} + 6 x y^{5} + y^{6}$"
      ],
      "text/plain": [
       " 6      5         4  2       3  3       2  4        5    6\n",
       "x  + 6⋅x ⋅y + 15⋅x ⋅y  + 20⋅x ⋅y  + 15⋅x ⋅y  + 6⋅x⋅y  + y "
      ]
     },
     "metadata": {},
     "output_type": "display_data"
    },
    {
     "name": "stdout",
     "output_type": "stream",
     "text": [
      "n= 7, --------------------\n"
     ]
    },
    {
     "data": {
      "image/png": "[encoded data removed]",
      "text/latex": [
       "$\\displaystyle \\left(x + y\\right)^{7}$"
      ],
      "text/plain": [
       "       7\n",
       "(x + y) "
      ]
     },
     "metadata": {},
     "output_type": "display_data"
    },
    {
     "data": {
      "image/png": "[encoded data removed]",
      "text/latex": [
       "$\\displaystyle x^{7} + 7 x^{6} y + 21 x^{5} y^{2} + 35 x^{4} y^{3} + 35 x^{3} y^{4} + 21 x^{2} y^{5} + 7 x y^{6} + y^{7}$"
      ],
      "text/plain": [
       " 7      6         5  2       4  3       3  4       2  5        6    7\n",
       "x  + 7⋅x ⋅y + 21⋅x ⋅y  + 35⋅x ⋅y  + 35⋅x ⋅y  + 21⋅x ⋅y  + 7⋅x⋅y  + y "
      ]
     },
     "metadata": {},
     "output_type": "display_data"
    },
    {
     "name": "stdout",
     "output_type": "stream",
     "text": [
      "n= 8, --------------------\n"
     ]
    },
    {
     "data": {
      "image/png": "[encoded data removed]",
      "text/latex": [
       "$\\displaystyle \\left(x + y\\right)^{8}$"
      ],
      "text/plain": [
       "       8\n",
       "(x + y) "
      ]
     },
     "metadata": {},
     "output_type": "display_data"
    },
    {
     "data": {
      "image/png": "[encoded data removed]",
      "text/latex": [
       "$\\displaystyle x^{8} + 8 x^{7} y + 28 x^{6} y^{2} + 56 x^{5} y^{3} + 70 x^{4} y^{4} + 56 x^{3} y^{5} + 28 x^{2} y^{6} + 8 x y^{7} + y^{8}$"
      ],
      "text/plain": [
       " 8      7         6  2       5  3       4  4       3  5       2  6        7   \n",
       "x  + 8⋅x ⋅y + 28⋅x ⋅y  + 56⋅x ⋅y  + 70⋅x ⋅y  + 56⋅x ⋅y  + 28⋅x ⋅y  + 8⋅x⋅y  + \n",
       "\n",
       " 8\n",
       "y "
      ]
     },
     "metadata": {},
     "output_type": "display_data"
    },
    {
     "name": "stdout",
     "output_type": "stream",
     "text": [
      "n= 9, --------------------\n"
     ]
    },
    {
     "data": {
      "image/png": "[encoded data removed]",
      "text/latex": [
       "$\\displaystyle \\left(x + y\\right)^{9}$"
      ],
      "text/plain": [
       "       9\n",
       "(x + y) "
      ]
     },
     "metadata": {},
     "output_type": "display_data"
    },
    {
     "data": {
      "image/png": "[encoded data removed]",
      "text/latex": [
       "$\\displaystyle x^{9} + 9 x^{8} y + 36 x^{7} y^{2} + 84 x^{6} y^{3} + 126 x^{5} y^{4} + 126 x^{4} y^{5} + 84 x^{3} y^{6} + 36 x^{2} y^{7} + 9 x y^{8} + y^{9}$"
      ],
      "text/plain": [
       " 9      8         7  2       6  3        5  4        4  5       3  6       2  \n",
       "x  + 9⋅x ⋅y + 36⋅x ⋅y  + 84⋅x ⋅y  + 126⋅x ⋅y  + 126⋅x ⋅y  + 84⋅x ⋅y  + 36⋅x ⋅y\n",
       "\n",
       "7        8    9\n",
       "  + 9⋅x⋅y  + y "
      ]
     },
     "metadata": {},
     "output_type": "display_data"
    },
    {
     "name": "stdout",
     "output_type": "stream",
     "text": [
      "n= 10, --------------------\n"
     ]
    },
    {
     "data": {
      "image/png": "[encoded data removed]",
      "text/latex": [
       "$\\displaystyle \\left(x + y\\right)^{10}$"
      ],
      "text/plain": [
       "       10\n",
       "(x + y)  "
      ]
     },
     "metadata": {},
     "output_type": "display_data"
    },
    {
     "data": {
      "image/png": "[encoded data removed]",
      "text/latex": [
       "$\\displaystyle x^{10} + 10 x^{9} y + 45 x^{8} y^{2} + 120 x^{7} y^{3} + 210 x^{6} y^{4} + 252 x^{5} y^{5} + 210 x^{4} y^{6} + 120 x^{3} y^{7} + 45 x^{2} y^{8} + 10 x y^{9} + y^{10}$"
      ],
      "text/plain": [
       " 10       9         8  2        7  3        6  4        5  5        4  6      \n",
       "x   + 10⋅x ⋅y + 45⋅x ⋅y  + 120⋅x ⋅y  + 210⋅x ⋅y  + 252⋅x ⋅y  + 210⋅x ⋅y  + 120\n",
       "\n",
       "  3  7       2  8         9    10\n",
       "⋅x ⋅y  + 45⋅x ⋅y  + 10⋅x⋅y  + y  "
      ]
     },
     "metadata": {},
     "output_type": "display_data"
    }
   ],
   "source": [
    "# in Sympy, the Binomial Coefficients\n",
    "\n",
    "for n in range(11):\n",
    "    q=  (x+y)**n\n",
    "    q1= q.expand()\n",
    "    \n",
    "    print(f'n= {n}, {\"-\"*20}')  \n",
    "    display(q)\n",
    "    display(q1)"
   ]
  },
  {
   "cell_type": "code",
   "execution_count": 84,
   "id": "09a0c512-d69e-41c2-b648-f457cce8c946",
   "metadata": {},
   "outputs": [
    {
     "data": {
      "image/png": "[encoded data removed]",
      "text/latex": [
       "$\\displaystyle \\left(x + y\\right)^{10}$"
      ],
      "text/plain": [
       "       10\n",
       "(x + y)  "
      ]
     },
     "execution_count": 84,
     "metadata": {},
     "output_type": "execute_result"
    }
   ],
   "source": [
    "q"
   ]
  },
  {
   "cell_type": "code",
   "execution_count": 63,
   "id": "e823036b-6acc-4c0c-822b-9b0694c6a02a",
   "metadata": {},
   "outputs": [
    {
     "data": {
      "image/png": "[encoded data removed]",
      "text/latex": [
       "$\\displaystyle {\\binom{n}{k}}$"
      ],
      "text/plain": [
       "⎛n⎞\n",
       "⎜ ⎟\n",
       "⎝k⎠"
      ]
     },
     "execution_count": 63,
     "metadata": {},
     "output_type": "execute_result"
    }
   ],
   "source": [
    "n,k= sm.symbols('n, k')\n",
    "sm.binomial(n,k)"
   ]
  },
  {
   "cell_type": "code",
   "execution_count": 64,
   "id": "ffe1f560-7cbb-4692-8852-b9881fc66d24",
   "metadata": {},
   "outputs": [
    {
     "data": {
      "image/png": "[encoded data removed]",
      "text/latex": [
       "$\\displaystyle 252$"
      ],
      "text/plain": [
       "252"
      ]
     },
     "execution_count": 64,
     "metadata": {},
     "output_type": "execute_result"
    }
   ],
   "source": [
    "# n=10, k=5, \n",
    "sm.binomial(10,5)"
   ]
  },
  {
   "cell_type": "code",
   "execution_count": 65,
   "id": "4de97885-12dc-4631-8955-eb171eb5276d",
   "metadata": {},
   "outputs": [
    {
     "data": {
      "image/png": "[encoded data removed]",
      "text/latex": [
       "$\\displaystyle 252$"
      ],
      "text/plain": [
       "252"
      ]
     },
     "execution_count": 65,
     "metadata": {},
     "output_type": "execute_result"
    }
   ],
   "source": [
    "# Note that starting Python 3.8, \n",
    "# the standard library provides the math.comb function \n",
    "# to compute the binomial coefficient:\n",
    "\n",
    "import math\n",
    "# n=9, k=4, \n",
    "math.comb(10,5)"
   ]
  },
  {
   "cell_type": "code",
   "execution_count": null,
   "id": "6b6ea4fc-3fb9-4eb1-9dd9-338e400b8af2",
   "metadata": {},
   "outputs": [],
   "source": []
  },
  {
   "cell_type": "code",
   "execution_count": 97,
   "id": "94d0e077-b787-4713-ac84-71ed3494c73b",
   "metadata": {},
   "outputs": [
    {
     "data": {
      "image/png": "[encoded data removed]",
      "text/latex": [
       "$\\displaystyle \\operatorname{Poly}{\\left( x^{10} + 10 x^{9}y + 45 x^{8}y^{2} + 120 x^{7}y^{3} + 210 x^{6}y^{4} + 252 x^{5}y^{5} + 210 x^{4}y^{6} + 120 x^{3}y^{7} + 45 x^{2}y^{8} + 10 xy^{9} + y^{10}, x, y, domain=\\mathbb{Z} \\right)}$"
      ],
      "text/plain": [
       "Poly(x**10 + 10*x**9*y + 45*x**8*y**2 + 120*x**7*y**3 + 210*x**6*y**4 + 252*x*\n",
       "*5*y**5 + 210*x**4*y**6 + 120*x**3*y**7 + 45*x**2*y**8 + 10*x*y**9 + y**10, x,\n",
       " y, domain='ZZ')"
      ]
     },
     "execution_count": 97,
     "metadata": {},
     "output_type": "execute_result"
    }
   ],
   "source": [
    "q1= q.as_poly()\n",
    "q1"
   ]
  },
  {
   "cell_type": "code",
   "execution_count": 98,
   "id": "8d1f8299-c812-4764-aca7-b79a2765b88f",
   "metadata": {},
   "outputs": [
    {
     "data": {
      "image/png": "[encoded data removed]",
      "text/latex": [
       "$\\displaystyle \\left[ 1, \\  10, \\  45, \\  120, \\  210, \\  252, \\  210, \\  120, \\  45, \\  10, \\  1\\right]$"
      ],
      "text/plain": [
       "[1, 10, 45, 120, 210, 252, 210, 120, 45, 10, 1]"
      ]
     },
     "execution_count": 98,
     "metadata": {},
     "output_type": "execute_result"
    }
   ],
   "source": [
    "q1.coeffs()"
   ]
  },
  {
   "cell_type": "code",
   "execution_count": 87,
   "id": "1cbe10aa-904f-469c-a9e0-40801177d792",
   "metadata": {},
   "outputs": [
    {
     "data": {
      "image/png": "[encoded data removed]",
      "text/latex": [
       "$\\displaystyle 1024$"
      ],
      "text/plain": [
       "1024"
      ]
     },
     "execution_count": 87,
     "metadata": {},
     "output_type": "execute_result"
    }
   ],
   "source": [
    "sum(_)"
   ]
  },
  {
   "cell_type": "code",
   "execution_count": 92,
   "id": "2ad7fbce-46ad-4bee-89e3-e2f266d70050",
   "metadata": {},
   "outputs": [
    {
     "data": {
      "text/plain": [
       "<StemContainer object of 3 artists>"
      ]
     },
     "execution_count": 92,
     "metadata": {},
     "output_type": "execute_result"
    },
    {
     "data": {
      "image/png": "[encoded data removed]",
      "text/plain": [
       "<Figure size 432x288 with 1 Axes>"
      ]
     },
     "metadata": {},
     "output_type": "display_data"
    }
   ],
   "source": [
    "pl.stem(q1.coeffs())"
   ]
  },
  {
   "cell_type": "code",
   "execution_count": 93,
   "id": "19cb753c-8d6d-4527-812c-fa53a4a802e0",
   "metadata": {},
   "outputs": [
    {
     "data": {
      "text/plain": [
       "array([1, 10, 45, 120, 210, 252, 210, 120, 45, 10, 1], dtype=object)"
      ]
     },
     "execution_count": 93,
     "metadata": {},
     "output_type": "execute_result"
    }
   ],
   "source": [
    "q2= np.array(q1.coeffs())\n",
    "q2"
   ]
  },
  {
   "cell_type": "code",
   "execution_count": 94,
   "id": "681601e6-475d-4b8a-bc69-8966f7ee89c0",
   "metadata": {},
   "outputs": [
    {
     "data": {
      "text/plain": [
       "array([1, 11, 56, 176, 386, 638, 848, 968, 1013, 1023, 1024], dtype=object)"
      ]
     },
     "execution_count": 94,
     "metadata": {},
     "output_type": "execute_result"
    }
   ],
   "source": [
    "q2.cumsum()"
   ]
  },
  {
   "cell_type": "code",
   "execution_count": 95,
   "id": "aa95846e-1c6e-4c05-905b-d40346e0f90f",
   "metadata": {},
   "outputs": [
    {
     "data": {
      "text/plain": [
       "<StemContainer object of 3 artists>"
      ]
     },
     "execution_count": 95,
     "metadata": {},
     "output_type": "execute_result"
    },
    {
     "data": {
      "image/png": "[encoded data removed]",
      "text/plain": [
       "<Figure size 432x288 with 1 Axes>"
      ]
     },
     "metadata": {},
     "output_type": "display_data"
    }
   ],
   "source": [
    "pl.stem(q2.cumsum())"
   ]
  },
  {
   "cell_type": "code",
   "execution_count": null,
   "id": "dae559c7-e744-44d6-8bf5-1cdaa1e7ac03",
   "metadata": {},
   "outputs": [],
   "source": []
  },
  {
   "cell_type": "code",
   "execution_count": 100,
   "id": "c4b28f5a-3b30-4a32-bcc7-ccbd7d87a422",
   "metadata": {},
   "outputs": [
    {
     "data": {
      "image/png": "[encoded data removed]",
      "text/latex": [
       "$\\displaystyle n \\log{\\left(n \\right)} - n + 1$"
      ],
      "text/plain": [
       "n⋅log(n) - n + 1"
      ]
     },
     "execution_count": 100,
     "metadata": {},
     "output_type": "execute_result"
    }
   ],
   "source": [
    "#Stirling formula\n",
    "x,n= sm.symbols('x,n')\n",
    "sm.log(x).integrate((x,1,n))"
   ]
  },
  {
   "cell_type": "code",
   "execution_count": 102,
   "id": "2122b7e8-7056-43fa-b58a-71d55df8097a",
   "metadata": {},
   "outputs": [],
   "source": [
    "#st.binom?"
   ]
  },
  {
   "cell_type": "code",
   "execution_count": 106,
   "id": "8e21bd7f-29d1-4c51-8ea7-929a4af549cc",
   "metadata": {},
   "outputs": [
    {
     "data": {
      "text/plain": [
       "\u001b[1;31mSignature:\u001b[0m \u001b[0mst\u001b[0m\u001b[1;33m.\u001b[0m\u001b[0mnorm\u001b[0m\u001b[1;33m.\u001b[0m\u001b[0mpdf\u001b[0m\u001b[1;33m(\u001b[0m\u001b[0mx\u001b[0m\u001b[1;33m,\u001b[0m \u001b[1;33m*\u001b[0m\u001b[0margs\u001b[0m\u001b[1;33m,\u001b[0m \u001b[1;33m**\u001b[0m\u001b[0mkwds\u001b[0m\u001b[1;33m)\u001b[0m\u001b[1;33m\u001b[0m\u001b[1;33m\u001b[0m\u001b[0m\n",
       "\u001b[1;31mDocstring:\u001b[0m\n",
       "Probability density function at x of the given RV.\n",
       "\n",
       "Parameters\n",
       "----------\n",
       "x : array_like\n",
       "    quantiles\n",
       "arg1, arg2, arg3,... : array_like\n",
       "    The shape parameter(s) for the distribution (see docstring of the\n",
       "    instance object for more information)\n",
       "loc : array_like, optional\n",
       "    location parameter (default=0)\n",
       "scale : array_like, optional\n",
       "    scale parameter (default=1)\n",
       "\n",
       "Returns\n",
       "-------\n",
       "pdf : ndarray\n",
       "    Probability density function evaluated at x\n",
       "\u001b[1;31mFile:\u001b[0m      m:\\programdata\\anaconda3\\lib\\site-packages\\scipy\\stats\\_distn_infrastructure.py\n",
       "\u001b[1;31mType:\u001b[0m      method\n"
      ]
     },
     "metadata": {},
     "output_type": "display_data"
    }
   ],
   "source": [
    "st.norm.pdf?"
   ]
  },
  {
   "cell_type": "code",
   "execution_count": 107,
   "id": "be240f23-3b5f-444b-9987-10ba9673c97c",
   "metadata": {},
   "outputs": [
    {
     "data": {
      "text/plain": [
       "\u001b[1;31mType:\u001b[0m        module\n",
       "\u001b[1;31mString form:\u001b[0m <module 'sympy.functions' from 'M:\\\\ProgramData\\\\Anaconda3\\\\lib\\\\site-packages\\\\sympy\\\\functions\\\\__init__.py'>\n",
       "\u001b[1;31mFile:\u001b[0m        m:\\programdata\\anaconda3\\lib\\site-packages\\sympy\\functions\\__init__.py\n",
       "\u001b[1;31mDocstring:\u001b[0m  \n",
       "A functions module, includes all the standard functions.\n",
       "\n",
       "Combinatorial - factorial, fibonacci, harmonic, bernoulli...\n",
       "Elementary - hyperbolic, trigonometric, exponential, floor and ceiling, sqrt...\n",
       "Special - gamma, zeta,spherical harmonics...\n"
      ]
     },
     "metadata": {},
     "output_type": "display_data"
    }
   ],
   "source": [
    "sm.functions."
   ]
  },
  {
   "cell_type": "code",
   "execution_count": 110,
   "id": "13c95fa2-51c9-4cdc-94a5-fa040708e335",
   "metadata": {},
   "outputs": [],
   "source": [
    "import sympy.stats as smst"
   ]
  },
  {
   "cell_type": "markdown",
   "id": "0e38b5bb-3531-4b01-9d91-d98faaf66978",
   "metadata": {},
   "source": [
    "# smst.Normal?\n",
    "\n",
    "$\n",
    "    f(x) := \\frac{1}{\\sigma\\sqrt{2\\pi}} e^{ -\\frac{(x-\\mu)^2}{2\\sigma^2} }\n",
    "$"
   ]
  },
  {
   "cell_type": "code",
   "execution_count": 127,
   "id": "1df22a20-a028-4e14-aa5e-5dc56ba1792b",
   "metadata": {},
   "outputs": [
    {
     "data": {
      "image/png": "[encoded data removed]",
      "text/latex": [
       "$\\displaystyle X$"
      ],
      "text/plain": [
       "X"
      ]
     },
     "execution_count": 127,
     "metadata": {},
     "output_type": "execute_result"
    }
   ],
   "source": [
    "x,y,z,s,t,p,q,μ,σ= sm .symbols('x,y,z,s,t,p,q,μ,σ')\n",
    "\n",
    "X= smst.Normal(\"X\", 0, 1)\n",
    "X"
   ]
  },
  {
   "cell_type": "code",
   "execution_count": 121,
   "id": "949dd46f-d4ec-43f1-b8e6-bf8ad0656091",
   "metadata": {},
   "outputs": [
    {
     "data": {
      "text/plain": [
       "sympy.stats.rv.RandomSymbol"
      ]
     },
     "execution_count": 121,
     "metadata": {},
     "output_type": "execute_result"
    }
   ],
   "source": [
    "type(X)"
   ]
  },
  {
   "cell_type": "code",
   "execution_count": 128,
   "id": "2a478008-6c7e-4d76-8730-4d474e761266",
   "metadata": {},
   "outputs": [
    {
     "data": {
      "image/png": "[encoded data removed]",
      "text/latex": [
       "$\\displaystyle \\frac{\\sqrt{2} e^{- \\frac{x^{2}}{2}}}{2 \\sqrt{\\pi}}$"
      ],
      "text/plain": [
       "      2 \n",
       "    -x  \n",
       "    ────\n",
       "     2  \n",
       "√2⋅ℯ    \n",
       "────────\n",
       "  2⋅√π  "
      ]
     },
     "execution_count": 128,
     "metadata": {},
     "output_type": "execute_result"
    }
   ],
   "source": [
    "f= smst.density(X)(x)\n",
    "f"
   ]
  },
  {
   "cell_type": "code",
   "execution_count": 129,
   "id": "d17600ce-9aa3-4e8b-b2aa-fbf8449edf9b",
   "metadata": {},
   "outputs": [
    {
     "data": {
      "image/png": "[encoded data removed]",
      "text/latex": [
       "$\\displaystyle \\frac{\\operatorname{erf}{\\left(\\frac{\\sqrt{2} x}{2} \\right)}}{2} + \\frac{1}{2}$"
      ],
      "text/plain": [
       "   ⎛√2⋅x⎞    \n",
       "erf⎜────⎟    \n",
       "   ⎝ 2  ⎠   1\n",
       "───────── + ─\n",
       "    2       2"
      ]
     },
     "execution_count": 129,
     "metadata": {},
     "output_type": "execute_result"
    }
   ],
   "source": [
    "F= smst.cdf(X)(x)\n",
    "F"
   ]
  },
  {
   "cell_type": "code",
   "execution_count": 136,
   "id": "81f8fa7a-b8ba-4a78-b6b4-01d2880433f9",
   "metadata": {},
   "outputs": [
    {
     "data": {
      "image/png": "[encoded data removed]",
      "text/latex": [
       "$\\displaystyle 0$"
      ],
      "text/plain": [
       "0"
      ]
     },
     "execution_count": 136,
     "metadata": {},
     "output_type": "execute_result"
    }
   ],
   "source": [
    "smst.E(X)"
   ]
  },
  {
   "cell_type": "code",
   "execution_count": 134,
   "id": "31975075-95c4-4745-961f-a3998c995ba3",
   "metadata": {},
   "outputs": [
    {
     "ename": "AttributeError",
     "evalue": "module 'sympy.stats' has no attribute 'Var'",
     "output_type": "error",
     "traceback": [
      "\u001b[1;31m---------------------------------------------------------------------------\u001b[0m",
      "\u001b[1;31mAttributeError\u001b[0m                            Traceback (most recent call last)",
      "\u001b[1;32m<ipython-input-134-19b075bd64fc>\u001b[0m in \u001b[0;36m<module>\u001b[1;34m\u001b[0m\n\u001b[1;32m----> 1\u001b[1;33m \u001b[0msmst\u001b[0m\u001b[1;33m.\u001b[0m\u001b[0mVar\u001b[0m\u001b[1;33m(\u001b[0m\u001b[0mX\u001b[0m\u001b[1;33m)\u001b[0m\u001b[1;33m\u001b[0m\u001b[1;33m\u001b[0m\u001b[0m\n\u001b[0m",
      "\u001b[1;31mAttributeError\u001b[0m: module 'sympy.stats' has no attribute 'Var'"
     ]
    }
   ],
   "source": [
    "#smst.Var(X)"
   ]
  },
  {
   "cell_type": "code",
   "execution_count": 143,
   "id": "27404ae4-8e0c-41b5-b450-6a2cd41abeb5",
   "metadata": {},
   "outputs": [
    {
     "data": {
      "image/png": "[encoded data removed]",
      "text/latex": [
       "$\\displaystyle 1$"
      ],
      "text/plain": [
       "1"
      ]
     },
     "execution_count": 143,
     "metadata": {},
     "output_type": "execute_result"
    }
   ],
   "source": [
    "smst.std(X)"
   ]
  },
  {
   "cell_type": "code",
   "execution_count": 144,
   "id": "ddbdd454-3b5b-486b-9f54-c2bfee82d704",
   "metadata": {},
   "outputs": [
    {
     "data": {
      "image/png": "[encoded data removed]",
      "text/latex": [
       "$\\displaystyle 1$"
      ],
      "text/plain": [
       "1"
      ]
     },
     "execution_count": 144,
     "metadata": {},
     "output_type": "execute_result"
    }
   ],
   "source": [
    "smst.variance(X)"
   ]
  },
  {
   "cell_type": "code",
   "execution_count": 148,
   "id": "0ed44cc4-8a98-475f-bb91-b3936ae227b0",
   "metadata": {},
   "outputs": [
    {
     "data": {
      "text/plain": [
       "(array([20, 20, 20, 20, 20, 20, 20, 20, 20, 20, 20, 20, 20, 20, 20, 20, 20,\n",
       "        20, 20, 20, 20, 20, 20, 20, 20, 20, 20, 20, 20, 20, 20, 20, 20, 20,\n",
       "        20, 20, 20, 20, 20, 20, 20, 20, 20, 20, 20, 20, 20, 20, 20, 20],\n",
       "       dtype=int64),\n",
       " array([-3.  , -2.88, -2.76, -2.64, -2.52, -2.4 , -2.28, -2.16, -2.04,\n",
       "        -1.92, -1.8 , -1.68, -1.56, -1.44, -1.32, -1.2 , -1.08, -0.96,\n",
       "        -0.84, -0.72, -0.6 , -0.48, -0.36, -0.24, -0.12,  0.  ,  0.12,\n",
       "         0.24,  0.36,  0.48,  0.6 ,  0.72,  0.84,  0.96,  1.08,  1.2 ,\n",
       "         1.32,  1.44,  1.56,  1.68,  1.8 ,  1.92,  2.04,  2.16,  2.28,\n",
       "         2.4 ,  2.52,  2.64,  2.76,  2.88,  3.  ]))"
      ]
     },
     "execution_count": 148,
     "metadata": {},
     "output_type": "execute_result"
    }
   ],
   "source": [
    "hd"
   ]
  },
  {
   "cell_type": "code",
   "execution_count": 366,
   "id": "42c4536f-999f-40e4-87e0-71e6759dbb67",
   "metadata": {},
   "outputs": [],
   "source": [
    "# pdensities of x, x^2, and x^3\n",
    "%matplotlib qt\n",
    "\n",
    "t= np.linspace(-10,10,1000)\n",
    "\n",
    "fig, ax= plt.subplots(2,5)\n",
    "fig.set_size_inches(12,6) # width, height in inches\n",
    "\n",
    "for i in range(5):\n",
    "    #i=1    \n",
    "    # histogram of the function\n",
    "    values= t**i\n",
    "    \n",
    "    #np.random.shuffle(values) # 加上這行頗為有趣\n",
    "    \n",
    "    counts, value_bins= np.histogram(values, 30)#, density=True)\n",
    "    counts= counts #/ sum(counts)\n",
    "\n",
    "    # plot the function\n",
    "    ax[0,i].plot(values, t)\n",
    "    ax[0,i].set_xlabel('values')\n",
    "    ax[0,i].set_ylabel('t')\n",
    "    ax[0,i].set_title(f'$values= t^{i}$')\n",
    "\n",
    "    # plot its distribution\n",
    "    ax[1,i].plot(\n",
    "        value_bins[:-1],\n",
    "        counts)\n",
    "    ax[1,i].set_xlabel('value_bins')\n",
    "    ax[1,i].set_ylabel('counts')\n",
    "    \n",
    "    \n",
    "plt.show()\n"
   ]
  },
  {
   "cell_type": "code",
   "execution_count": 260,
   "id": "b635b101-df97-4fd3-b7b6-e9469e3c0aab",
   "metadata": {
    "collapsed": true,
    "jupyter": {
     "outputs_hidden": true
    },
    "tags": []
   },
   "outputs": [
    {
     "data": {
      "text/plain": [
       "\u001b[1;31mSignature:\u001b[0m\n",
       "\u001b[0mnp\u001b[0m\u001b[1;33m.\u001b[0m\u001b[0mhistogram\u001b[0m\u001b[1;33m(\u001b[0m\u001b[1;33m\n",
       "\u001b[0m    \u001b[0ma\u001b[0m\u001b[1;33m,\u001b[0m\u001b[1;33m\n",
       "\u001b[0m    \u001b[0mbins\u001b[0m\u001b[1;33m=\u001b[0m\u001b[1;36m10\u001b[0m\u001b[1;33m,\u001b[0m\u001b[1;33m\n",
       "\u001b[0m    \u001b[0mrange\u001b[0m\u001b[1;33m=\u001b[0m\u001b[1;32mNone\u001b[0m\u001b[1;33m,\u001b[0m\u001b[1;33m\n",
       "\u001b[0m    \u001b[0mnormed\u001b[0m\u001b[1;33m=\u001b[0m\u001b[1;32mNone\u001b[0m\u001b[1;33m,\u001b[0m\u001b[1;33m\n",
       "\u001b[0m    \u001b[0mweights\u001b[0m\u001b[1;33m=\u001b[0m\u001b[1;32mNone\u001b[0m\u001b[1;33m,\u001b[0m\u001b[1;33m\n",
       "\u001b[0m    \u001b[0mdensity\u001b[0m\u001b[1;33m=\u001b[0m\u001b[1;32mNone\u001b[0m\u001b[1;33m,\u001b[0m\u001b[1;33m\n",
       "\u001b[0m\u001b[1;33m)\u001b[0m\u001b[1;33m\u001b[0m\u001b[1;33m\u001b[0m\u001b[0m\n",
       "\u001b[1;31mDocstring:\u001b[0m\n",
       "Compute the histogram of a set of data.\n",
       "\n",
       "Parameters\n",
       "----------\n",
       "a : array_like\n",
       "    Input data. The histogram is computed over the flattened array.\n",
       "bins : int or sequence of scalars or str, optional\n",
       "    If `bins` is an int, it defines the number of equal-width\n",
       "    bins in the given range (10, by default). If `bins` is a\n",
       "    sequence, it defines a monotonically increasing array of bin edges,\n",
       "    including the rightmost edge, allowing for non-uniform bin widths.\n",
       "\n",
       "    .. versionadded:: 1.11.0\n",
       "\n",
       "    If `bins` is a string, it defines the method used to calculate the\n",
       "    optimal bin width, as defined by `histogram_bin_edges`.\n",
       "\n",
       "range : (float, float), optional\n",
       "    The lower and upper range of the bins.  If not provided, range\n",
       "    is simply ``(a.min(), a.max())``.  Values outside the range are\n",
       "    ignored. The first element of the range must be less than or\n",
       "    equal to the second. `range` affects the automatic bin\n",
       "    computation as well. While bin width is computed to be optimal\n",
       "    based on the actual data within `range`, the bin count will fill\n",
       "    the entire range including portions containing no data.\n",
       "normed : bool, optional\n",
       "\n",
       "    .. deprecated:: 1.6.0\n",
       "\n",
       "    This is equivalent to the `density` argument, but produces incorrect\n",
       "    results for unequal bin widths. It should not be used.\n",
       "\n",
       "    .. versionchanged:: 1.15.0\n",
       "        DeprecationWarnings are actually emitted.\n",
       "\n",
       "weights : array_like, optional\n",
       "    An array of weights, of the same shape as `a`.  Each value in\n",
       "    `a` only contributes its associated weight towards the bin count\n",
       "    (instead of 1). If `density` is True, the weights are\n",
       "    normalized, so that the integral of the density over the range\n",
       "    remains 1.\n",
       "density : bool, optional\n",
       "    If ``False``, the result will contain the number of samples in\n",
       "    each bin. If ``True``, the result is the value of the\n",
       "    probability *density* function at the bin, normalized such that\n",
       "    the *integral* over the range is 1. Note that the sum of the\n",
       "    histogram values will not be equal to 1 unless bins of unity\n",
       "    width are chosen; it is not a probability *mass* function.\n",
       "\n",
       "    Overrides the ``normed`` keyword if given.\n",
       "\n",
       "Returns\n",
       "-------\n",
       "hist : array\n",
       "    The values of the histogram. See `density` and `weights` for a\n",
       "    description of the possible semantics.\n",
       "bin_edges : array of dtype float\n",
       "    Return the bin edges ``(length(hist)+1)``.\n",
       "\n",
       "\n",
       "See Also\n",
       "--------\n",
       "histogramdd, bincount, searchsorted, digitize, histogram_bin_edges\n",
       "\n",
       "Notes\n",
       "-----\n",
       "All but the last (righthand-most) bin is half-open.  In other words,\n",
       "if `bins` is::\n",
       "\n",
       "  [1, 2, 3, 4]\n",
       "\n",
       "then the first bin is ``[1, 2)`` (including 1, but excluding 2) and\n",
       "the second ``[2, 3)``.  The last bin, however, is ``[3, 4]``, which\n",
       "*includes* 4.\n",
       "\n",
       "\n",
       "Examples\n",
       "--------\n",
       ">>> np.histogram([1, 2, 1], bins=[0, 1, 2, 3])\n",
       "(array([0, 2, 1]), array([0, 1, 2, 3]))\n",
       ">>> np.histogram(np.arange(4), bins=np.arange(5), density=True)\n",
       "(array([0.25, 0.25, 0.25, 0.25]), array([0, 1, 2, 3, 4]))\n",
       ">>> np.histogram([[1, 2, 1], [1, 0, 1]], bins=[0,1,2,3])\n",
       "(array([1, 4, 1]), array([0, 1, 2, 3]))\n",
       "\n",
       ">>> a = np.arange(5)\n",
       ">>> hist, bin_edges = np.histogram(a, density=True)\n",
       ">>> hist\n",
       "array([0.5, 0. , 0.5, 0. , 0. , 0.5, 0. , 0.5, 0. , 0.5])\n",
       ">>> hist.sum()\n",
       "2.4999999999999996\n",
       ">>> np.sum(hist * np.diff(bin_edges))\n",
       "1.0\n",
       "\n",
       ".. versionadded:: 1.11.0\n",
       "\n",
       "Automated Bin Selection Methods example, using 2 peak random data\n",
       "with 2000 points:\n",
       "\n",
       ">>> import matplotlib.pyplot as plt\n",
       ">>> rng = np.random.RandomState(10)  # deterministic random data\n",
       ">>> a = np.hstack((rng.normal(size=1000),\n",
       "...                rng.normal(loc=5, scale=2, size=1000)))\n",
       ">>> _ = plt.hist(a, bins='auto')  # arguments are passed to np.histogram\n",
       ">>> plt.title(\"Histogram with 'auto' bins\")\n",
       "Text(0.5, 1.0, \"Histogram with 'auto' bins\")\n",
       ">>> plt.show()\n",
       "\u001b[1;31mFile:\u001b[0m      m:\\programdata\\anaconda3\\lib\\site-packages\\numpy\\lib\\histograms.py\n",
       "\u001b[1;31mType:\u001b[0m      function\n"
      ]
     },
     "metadata": {},
     "output_type": "display_data"
    }
   ],
   "source": [
    "#np.random.shuffle?\n",
    "np.histogram?"
   ]
  },
  {
   "cell_type": "code",
   "execution_count": 362,
   "id": "a3678595-ba08-4e02-83ae-da67c025b2ec",
   "metadata": {},
   "outputs": [],
   "source": [
    "# pdensities of x, x^2, and x^3\n",
    "t= np.linspace(-10,10,1000)\n",
    "\n",
    "fig, ax= plt.subplots(4,2)\n",
    "fig.set_size_inches(6,10) # width, height in inches\n",
    "\n",
    "s= 1\n",
    "for i in range(4):\n",
    "    #i=1    \n",
    "    # histogram of the function\n",
    "    s = t**i\n",
    "    h= np.histogram(s, 100)\n",
    "    h0= h[0] #/ sum(h[0])\n",
    "\n",
    "    # plot the function\n",
    "    ax[i,0].plot(t, s)\n",
    "    ax[i,0].set_xlabel('t')\n",
    "    ax[i,0].set_ylabel('s')\n",
    "    ax[i,0].set_title(f'$s= t^{i}$')\n",
    "\n",
    "    # plot its distribution\n",
    "    ax[i,1].plot(\n",
    "        h0,  \n",
    "        h[1][:-1]             \n",
    "        )\n",
    "\n",
    "plt.show()"
   ]
  },
  {
   "cell_type": "code",
   "execution_count": 204,
   "id": "23bd6b89-10b9-4649-81c1-23b69d85e659",
   "metadata": {},
   "outputs": [],
   "source": [
    "#np.histogram?"
   ]
  },
  {
   "cell_type": "code",
   "execution_count": 285,
   "id": "6d7366ab-0090-4b36-9b3e-a641cf09e8ba",
   "metadata": {
    "collapsed": true,
    "jupyter": {
     "outputs_hidden": true
    },
    "tags": []
   },
   "outputs": [
    {
     "data": {
      "text/plain": [
       "\u001b[1;31mDocstring:\u001b[0m\n",
       "normal(loc=0.0, scale=1.0, size=None)\n",
       "\n",
       "Draw random samples from a normal (Gaussian) distribution.\n",
       "\n",
       "The probability density function of the normal distribution, first\n",
       "derived by De Moivre and 200 years later by both Gauss and Laplace\n",
       "independently [2]_, is often called the bell curve because of\n",
       "its characteristic shape (see the example below).\n",
       "\n",
       "The normal distributions occurs often in nature.  For example, it\n",
       "describes the commonly occurring distribution of samples influenced\n",
       "by a large number of tiny, random disturbances, each with its own\n",
       "unique distribution [2]_.\n",
       "\n",
       ".. note::\n",
       "    New code should use the ``normal`` method of a ``default_rng()``\n",
       "    instance instead; please see the :ref:`random-quick-start`.\n",
       "\n",
       "Parameters\n",
       "----------\n",
       "loc : float or array_like of floats\n",
       "    Mean (\"centre\") of the distribution.\n",
       "scale : float or array_like of floats\n",
       "    Standard deviation (spread or \"width\") of the distribution. Must be\n",
       "    non-negative.\n",
       "size : int or tuple of ints, optional\n",
       "    Output shape.  If the given shape is, e.g., ``(m, n, k)``, then\n",
       "    ``m * n * k`` samples are drawn.  If size is ``None`` (default),\n",
       "    a single value is returned if ``loc`` and ``scale`` are both scalars.\n",
       "    Otherwise, ``np.broadcast(loc, scale).size`` samples are drawn.\n",
       "\n",
       "Returns\n",
       "-------\n",
       "out : ndarray or scalar\n",
       "    Drawn samples from the parameterized normal distribution.\n",
       "\n",
       "See Also\n",
       "--------\n",
       "scipy.stats.norm : probability density function, distribution or\n",
       "    cumulative density function, etc.\n",
       "Generator.normal: which should be used for new code.\n",
       "\n",
       "Notes\n",
       "-----\n",
       "The probability density for the Gaussian distribution is\n",
       "\n",
       ".. math:: p(x) = \\frac{1}{\\sqrt{ 2 \\pi \\sigma^2 }}\n",
       "                 e^{ - \\frac{ (x - \\mu)^2 } {2 \\sigma^2} },\n",
       "\n",
       "where :math:`\\mu` is the mean and :math:`\\sigma` the standard\n",
       "deviation. The square of the standard deviation, :math:`\\sigma^2`,\n",
       "is called the variance.\n",
       "\n",
       "The function has its peak at the mean, and its \"spread\" increases with\n",
       "the standard deviation (the function reaches 0.607 times its maximum at\n",
       ":math:`x + \\sigma` and :math:`x - \\sigma` [2]_).  This implies that\n",
       "normal is more likely to return samples lying close to the mean, rather\n",
       "than those far away.\n",
       "\n",
       "References\n",
       "----------\n",
       ".. [1] Wikipedia, \"Normal distribution\",\n",
       "       https://en.wikipedia.org/wiki/Normal_distribution\n",
       ".. [2] P. R. Peebles Jr., \"Central Limit Theorem\" in \"Probability,\n",
       "       Random Variables and Random Signal Principles\", 4th ed., 2001,\n",
       "       pp. 51, 51, 125.\n",
       "\n",
       "Examples\n",
       "--------\n",
       "Draw samples from the distribution:\n",
       "\n",
       ">>> mu, sigma = 0, 0.1 # mean and standard deviation\n",
       ">>> s = np.random.normal(mu, sigma, 1000)\n",
       "\n",
       "Verify the mean and the variance:\n",
       "\n",
       ">>> abs(mu - np.mean(s))\n",
       "0.0  # may vary\n",
       "\n",
       ">>> abs(sigma - np.std(s, ddof=1))\n",
       "0.1  # may vary\n",
       "\n",
       "Display the histogram of the samples, along with\n",
       "the probability density function:\n",
       "\n",
       ">>> import matplotlib.pyplot as plt\n",
       ">>> count, bins, ignored = plt.hist(s, 30, density=True)\n",
       ">>> plt.plot(bins, 1/(sigma * np.sqrt(2 * np.pi)) *\n",
       "...                np.exp( - (bins - mu)**2 / (2 * sigma**2) ),\n",
       "...          linewidth=2, color='r')\n",
       ">>> plt.show()\n",
       "\n",
       "Two-by-four array of samples from N(3, 6.25):\n",
       "\n",
       ">>> np.random.normal(3, 2.5, size=(2, 4))\n",
       "array([[-4.49401501,  4.00950034, -1.81814867,  7.29718677],   # random\n",
       "       [ 0.39924804,  4.68456316,  4.99394529,  4.84057254]])  # random\n",
       "\u001b[1;31mType:\u001b[0m      builtin_function_or_method\n"
      ]
     },
     "metadata": {},
     "output_type": "display_data"
    }
   ],
   "source": [
    "#pl.barh?\n",
    "np.random.normal?"
   ]
  },
  {
   "cell_type": "code",
   "execution_count": 333,
   "id": "5ac14341-4bbb-40ee-bd90-6479b049c423",
   "metadata": {},
   "outputs": [
    {
     "data": {
      "text/plain": [
       "<StemContainer object of 3 artists>"
      ]
     },
     "execution_count": 333,
     "metadata": {},
     "output_type": "execute_result"
    }
   ],
   "source": [
    "# 製造 符合 3種分布的資料點\n",
    "\n",
    "size= 10000\n",
    "x= np.arange(size)\n",
    "\n",
    "#y= np.random.random(size) \n",
    "#y= np.random.binomial(n= 100, p=.5, size= size) \n",
    "y= np.random.normal(loc= 0, scale= 1, size= size) \n",
    "\n",
    "y.sort()\n",
    "counts, value_bins= np.histogram(y,100)\n",
    "\n",
    "pl.subplot(1,2,1)\n",
    "pl.plot(y,x)\n",
    "\n",
    "pl.subplot(1,2,2)\n",
    "pl.stem(value_bins[:-1], counts)\n",
    "\n"
   ]
  },
  {
   "cell_type": "code",
   "execution_count": 421,
   "id": "9ff3f348-334c-47e3-8622-e4dada791e6a",
   "metadata": {},
   "outputs": [
    {
     "data": {
      "text/plain": [
       "(array([-100,  -99,  -98,  -97,  -96,  -95,  -94,  -93,  -92,  -91,  -90,\n",
       "         -89,  -88,  -87,  -86,  -85,  -84,  -83,  -82,  -81,  -80,  -79,\n",
       "         -78,  -77,  -76,  -75,  -74,  -73,  -72,  -71,  -70,  -69,  -68,\n",
       "         -67,  -66,  -65,  -64,  -63,  -62,  -61,  -60,  -59,  -58,  -57,\n",
       "         -56,  -55,  -54,  -53,  -52,  -51,  -50,  -49,  -48,  -47,  -46,\n",
       "         -45,  -44,  -43,  -42,  -41,  -40,  -39,  -38,  -37,  -36,  -35,\n",
       "         -34,  -33,  -32,  -31,  -30,  -29,  -28,  -27,  -26,  -25,  -24,\n",
       "         -23,  -22,  -21,  -20,  -19,  -18,  -17,  -16,  -15,  -14,  -13,\n",
       "         -12,  -11,  -10,   -9,   -8,   -7,   -6,   -5,   -4,   -3,   -2,\n",
       "          -1,    0,    1,    2,    3,    4,    5,    6,    7,    8,    9,\n",
       "          10,   11,   12,   13,   14,   15,   16,   17,   18,   19,   20,\n",
       "          21,   22,   23,   24,   25,   26,   27,   28,   29,   30,   31,\n",
       "          32,   33,   34,   35,   36,   37,   38,   39,   40,   41,   42,\n",
       "          43,   44,   45,   46,   47,   48,   49,   50,   51,   52,   53,\n",
       "          54,   55,   56,   57,   58,   59,   60,   61,   62,   63,   64,\n",
       "          65,   66,   67,   68,   69,   70,   71,   72,   73,   74,   75,\n",
       "          76,   77,   78,   79,   80,   81,   82,   83,   84,   85,   86,\n",
       "          87,   88,   89,   90,   91,   92,   93,   94,   95,   96,   97,\n",
       "          98,   99]),\n",
       " array([10000,  9801,  9604,  9409,  9216,  9025,  8836,  8649,  8464,\n",
       "         8281,  8100,  7921,  7744,  7569,  7396,  7225,  7056,  6889,\n",
       "         6724,  6561,  6400,  6241,  6084,  5929,  5776,  5625,  5476,\n",
       "         5329,  5184,  5041,  4900,  4761,  4624,  4489,  4356,  4225,\n",
       "         4096,  3969,  3844,  3721,  3600,  3481,  3364,  3249,  3136,\n",
       "         3025,  2916,  2809,  2704,  2601,  2500,  2401,  2304,  2209,\n",
       "         2116,  2025,  1936,  1849,  1764,  1681,  1600,  1521,  1444,\n",
       "         1369,  1296,  1225,  1156,  1089,  1024,   961,   900,   841,\n",
       "          784,   729,   676,   625,   576,   529,   484,   441,   400,\n",
       "          361,   324,   289,   256,   225,   196,   169,   144,   121,\n",
       "          100,    81,    64,    49,    36,    25,    16,     9,     4,\n",
       "            1,     0,     1,     4,     9,    16,    25,    36,    49,\n",
       "           64,    81,   100,   121,   144,   169,   196,   225,   256,\n",
       "          289,   324,   361,   400,   441,   484,   529,   576,   625,\n",
       "          676,   729,   784,   841,   900,   961,  1024,  1089,  1156,\n",
       "         1225,  1296,  1369,  1444,  1521,  1600,  1681,  1764,  1849,\n",
       "         1936,  2025,  2116,  2209,  2304,  2401,  2500,  2601,  2704,\n",
       "         2809,  2916,  3025,  3136,  3249,  3364,  3481,  3600,  3721,\n",
       "         3844,  3969,  4096,  4225,  4356,  4489,  4624,  4761,  4900,\n",
       "         5041,  5184,  5329,  5476,  5625,  5776,  5929,  6084,  6241,\n",
       "         6400,  6561,  6724,  6889,  7056,  7225,  7396,  7569,  7744,\n",
       "         7921,  8100,  8281,  8464,  8649,  8836,  9025,  9216,  9409,\n",
       "         9604,  9801], dtype=int32),\n",
       " array([-100,  -99,  -98,  -97,  -96,  -95,  -94,  -93,  -92,  -91,  -90,\n",
       "         -89,  -88,  -87,  -86,  -85,  -84,  -83,  -82,  -81,  -80,  -79,\n",
       "         -78,  -77,  -76,  -75,  -74,  -73,  -72,  -71,  -70,  -69,  -68,\n",
       "         -67,  -66,  -65,  -64,  -63,  -62,  -61,  -60,  -59,  -58,  -57,\n",
       "         -56,  -55,  -54,  -53,  -52,  -51,  -50,  -49,  -48,  -47,  -46,\n",
       "         -45,  -44,  -43,  -42,  -41,  -40,  -39,  -38,  -37,  -36,  -35,\n",
       "         -34,  -33,  -32,  -31,  -30,  -29,  -28,  -27,  -26,  -25,  -24,\n",
       "         -23,  -22,  -21,  -20,  -19,  -18,  -17,  -16,  -15,  -14,  -13,\n",
       "         -12,  -11,  -10,   -9,   -8,   -7,   -6,   -5,   -4,   -3,   -2,\n",
       "          -1,    0,    1,    2,    3,    4,    5,    6,    7,    8,    9,\n",
       "          10,   11,   12,   13,   14,   15,   16,   17,   18,   19,   20,\n",
       "          21,   22,   23,   24,   25,   26,   27,   28,   29,   30,   31,\n",
       "          32,   33,   34,   35,   36,   37,   38,   39,   40,   41,   42,\n",
       "          43,   44,   45,   46,   47,   48,   49,   50,   51,   52,   53,\n",
       "          54,   55,   56,   57,   58,   59,   60,   61,   62,   63,   64,\n",
       "          65,   66,   67,   68,   69,   70,   71,   72,   73,   74,   75,\n",
       "          76,   77,   78,   79,   80,   81,   82,   83,   84,   85,   86,\n",
       "          87,   88,   89,   90,   91,   92,   93,   94,   95,   96,   97,\n",
       "          98,   99]),\n",
       " array([0, 0, 0, 0, 0, 0, 0, 0, 0, 0, 0, 0, 0, 0, 0, 0, 0, 0, 0, 0, 0, 0,\n",
       "        0, 0, 0, 0, 0, 0, 0, 0, 0, 0, 0, 0, 0, 0, 0, 0, 0, 0, 0, 0, 0, 0,\n",
       "        0, 0, 0, 0, 0, 0, 0, 0, 0, 0, 0, 0, 0, 0, 0, 0, 0, 0, 0, 0, 0, 0,\n",
       "        0, 0, 0, 0, 0, 0, 0, 0, 0, 0, 0, 0, 0, 0, 0, 0, 0, 0, 0, 0, 0, 0,\n",
       "        0, 0, 0, 0, 0, 0, 0, 0, 0, 0, 0, 0, 0, 1, 2, 0, 0, 2, 0, 0, 0, 0,\n",
       "        2, 0, 0, 0, 0, 0, 0, 2, 0, 0, 0, 0, 0, 0, 0, 0, 2, 0, 0, 0, 0, 0,\n",
       "        0, 0, 0, 0, 0, 2, 0, 0, 0, 0, 0, 0, 0, 0, 0, 0, 0, 0, 2, 0, 0, 0,\n",
       "        0, 0, 0, 0, 0, 0, 0, 0, 0, 0, 0, 2, 0, 0, 0, 0, 0, 0, 0, 0, 0, 0,\n",
       "        0, 0, 0, 0, 0, 0, 2, 0, 0, 0, 0, 0, 0, 0, 0, 0, 0, 0, 0, 0, 0, 0,\n",
       "        0, 0], dtype=int64))"
      ]
     },
     "execution_count": 421,
     "metadata": {},
     "output_type": "execute_result"
    }
   ],
   "source": [
    "#X= np.random.random(size=100)\n",
    "\n",
    "#t= np.linspace(0,100,100)\n",
    "t= np.arange(-100,100)\n",
    "X= t**2\n",
    "f,x= np.histogram(X, bins=t)\n",
    "f= np.insert(f,0,0)\n",
    "t, X, x, f"
   ]
  },
  {
   "cell_type": "code",
   "execution_count": 428,
   "id": "33ce01e2-e0c1-429a-88ff-2615713203b4",
   "metadata": {},
   "outputs": [],
   "source": [
    "ax= pl.axes()"
   ]
  },
  {
   "cell_type": "code",
   "execution_count": 429,
   "id": "318c3c96-bb68-4495-a3f4-0d89fdedbd03",
   "metadata": {},
   "outputs": [
    {
     "data": {
      "image/png": "[encoded data removed]",
      "text/latex": [
       "$\\displaystyle \\left( \\left( 200,\\right), \\  \\left( 200,\\right), \\  \\left( 200,\\right), \\  \\left( 200,\\right)\\right)$"
      ],
      "text/plain": [
       "((200,), (200,), (200,), (200,))"
      ]
     },
     "execution_count": 429,
     "metadata": {},
     "output_type": "execute_result"
    }
   ],
   "source": [
    "x.shape, t.shape, X.shape, f.shape"
   ]
  },
  {
   "cell_type": "code",
   "execution_count": 427,
   "id": "8732051a-3c97-455d-a965-8f83df66593f",
   "metadata": {},
   "outputs": [
    {
     "data": {
      "text/plain": [
       "<StemContainer object of 3 artists>"
      ]
     },
     "execution_count": 427,
     "metadata": {},
     "output_type": "execute_result"
    }
   ],
   "source": [
    "ax.stem(t,X)"
   ]
  },
  {
   "cell_type": "code",
   "execution_count": 430,
   "id": "8b64943c-83ce-4f8c-8598-5c1173dacb1c",
   "metadata": {},
   "outputs": [
    {
     "data": {
      "text/plain": [
       "<StemContainer object of 3 artists>"
      ]
     },
     "execution_count": 430,
     "metadata": {},
     "output_type": "execute_result"
    }
   ],
   "source": [
    "#pl.figure()\n",
    "ax.stem(x,f)"
   ]
  },
  {
   "cell_type": "code",
   "execution_count": 409,
   "id": "fc2c9f20-882d-47c6-8bde-9182a5de0f73",
   "metadata": {},
   "outputs": [],
   "source": [
    "ax.clear()"
   ]
  },
  {
   "cell_type": "code",
   "execution_count": 411,
   "id": "dc626e89-396f-4fd7-9ab2-d636940991c3",
   "metadata": {},
   "outputs": [
    {
     "data": {
      "text/plain": [
       "<StemContainer object of 3 artists>"
      ]
     },
     "execution_count": 411,
     "metadata": {},
     "output_type": "execute_result"
    }
   ],
   "source": [
    "ax.stem(x[1:],f)"
   ]
  },
  {
   "cell_type": "code",
   "execution_count": 420,
   "id": "05c388a4-b109-4bd3-a887-938baf40bff2",
   "metadata": {},
   "outputs": [
    {
     "data": {
      "text/plain": [
       "array([    0,     0,     0,     0,     0,     0,     0,     0,     0,\n",
       "           0,     0,     0,     0,     0,     0,     0,     0,     0,\n",
       "           0,     0,     0,     0,     0,     0,     0,     0,     0,\n",
       "           0,     0,     0,     0,     0,     0,     0,     0,     0,\n",
       "           0,     0,     0,     0,     0,     0,     0,     0,     0,\n",
       "           0,     0,     0,     0,     0,     0,     0,     0,     0,\n",
       "           0,     0,     0,     0,     0,     0,     0,     0,     0,\n",
       "           0,     0,     0,     0,     0,     0,     0,     0,     0,\n",
       "           0,     0,     0,     0,     0,     0,     0,     0,     0,\n",
       "           0,     0,     0,     0,     0,     0,     0,     0,     0,\n",
       "           0,     0,     0,     0,     0,     0,     0,     0,     0,\n",
       "           0,     1,     2,     0,     0,     2,     0,     0,     0,\n",
       "           0,     2,     0,     0,     0,     0,     0,     0,     2,\n",
       "           0,     0,     0,     0,     0,     0,     0,     0,     2,\n",
       "           0,     0,     0,     0,     0,     0,     0,     0,     0,\n",
       "           0,     2,     0,     0,     0,     0,     0,     0,     0,\n",
       "           0,     0,     0,     0,     0,     2,     0,     0,     0,\n",
       "           0,     0,     0,     0,     0,     0,     0,     0,     0,\n",
       "           0,     0,     2,     0,     0,     0,     0,     0,     0,\n",
       "           0,     0,     0,     0,     0,     0,     0,     0,     0,\n",
       "           0,     2,     0,     0,     0,     0,     0,     0,     0,\n",
       "           0,     0,     0,     0,     0,     0,     0,     0,     0,\n",
       "           0, 10000,  2000], dtype=int64)"
      ]
     },
     "execution_count": 420,
     "metadata": {},
     "output_type": "execute_result"
    }
   ],
   "source": [
    "np.append(f,[10000,2000])"
   ]
  },
  {
   "cell_type": "code",
   "execution_count": 514,
   "id": "65c65a7b-eac1-4bd7-9fd5-895e9e4bf0cb",
   "metadata": {},
   "outputs": [
    {
     "data": {
      "text/plain": [
       "(array([-0.99999923, -0.89999931, -0.79999938, -0.69999946, -0.59999954,\n",
       "        -0.49999962, -0.39999969, -0.29999977, -0.19999985, -0.09999992,\n",
       "         0.        ,  0.09999992,  0.19999985,  0.29999977,  0.39999969,\n",
       "         0.49999962,  0.59999954,  0.69999946,  0.79999938,  0.89999931,\n",
       "         0.99999923]),\n",
       " array([  0, 137,  62,  49,  43,  39,  37,  35,  33,  33,  32,  33,  33,\n",
       "         33,  35,  37,  39,  43,  49,  62, 137], dtype=int64),\n",
       " array([-0.99999923, -0.89999931, -0.79999938, -0.69999946, -0.59999954,\n",
       "        -0.49999962, -0.39999969, -0.29999977, -0.19999985, -0.09999992,\n",
       "         0.        ,  0.09999992,  0.19999985,  0.29999977,  0.39999969,\n",
       "         0.49999962,  0.59999954,  0.69999946,  0.79999938,  0.89999931,\n",
       "         0.99999923]),\n",
       " array([  0, 137,  62,  49,  43,  39,  37,  35,  33,  33,  32,  33,  33,\n",
       "         33,  35,  37,  39,  43,  49,  62, 137], dtype=int64),\n",
       " array([-0.99999923, -0.89999931, -0.79999938, -0.69999946, -0.59999954,\n",
       "        -0.49999962, -0.39999969, -0.29999977, -0.19999985, -0.09999992,\n",
       "         0.        ,  0.09999992,  0.19999985,  0.29999977,  0.39999969,\n",
       "         0.49999962,  0.59999954,  0.69999946,  0.79999938,  0.89999931,\n",
       "         0.99999923]),\n",
       " array([  0, 137,  62,  49,  43,  39,  37,  35,  33,  33,  32,  33,  33,\n",
       "         33,  35,  37,  39,  43,  49,  62, 137], dtype=int64))"
      ]
     },
     "execution_count": 514,
     "metadata": {},
     "output_type": "execute_result"
    }
   ],
   "source": [
    "# 3 個 在時間軸上 不同的訊號，\n",
    "# 使用 np.histogram() 把它們視為相同的機率分布！\n",
    "\n",
    "t= np.linspace(-10,10,1001)\n",
    "#t= np.arange(-10,10)\n",
    "X= np.sin(t*2) #t**2\n",
    "X1= np.sort(X)\n",
    "\n",
    "X2= X.copy()\n",
    "np.random.shuffle(X2)  # 這個 .shuffle() 每次結果都不同！！\n",
    "\n",
    "f, x= np.histogram(X, bins=20)\n",
    "f= np.insert(f,0,0)  \n",
    "# 上面這一行是 ry 特殊補丁，\n",
    "# .histogram() 做出的 f, x 長度不同，影響後面程式碼的簡潔！\n",
    "\n",
    "f1, x1= np.histogram(X1, bins=20)\n",
    "f1= np.insert(f1,0,0)  \n",
    "\n",
    "f2, x2= np.histogram(X2, bins=20)\n",
    "f2= np.insert(f2,0,0)\n",
    "\n",
    "t, X, X1, X2\n",
    "x, f, x1, f1, x2, f2"
   ]
  },
  {
   "cell_type": "code",
   "execution_count": 515,
   "id": "0e2cf0f9-1959-4f09-9b89-c770cdb23587",
   "metadata": {},
   "outputs": [
    {
     "data": {
      "text/plain": [
       "<matplotlib.legend.Legend at 0x242124c15b0>"
      ]
     },
     "execution_count": 515,
     "metadata": {},
     "output_type": "execute_result"
    }
   ],
   "source": [
    "fg1= pl.figure('fg1')\n",
    "ax1= pl.axes()\n",
    "ax1.plot(t,X,'ro',t,X1,'gx',t,X2,'b.')\n",
    "ax1.set_xlabel('t')\n",
    "ax1.set_ylabel('X, X1, X2')\n",
    "ax1.legend(['X','X1','X2'])"
   ]
  },
  {
   "cell_type": "code",
   "execution_count": 516,
   "id": "26149a7d-426c-4681-93e8-0b2cb3edd31a",
   "metadata": {},
   "outputs": [
    {
     "data": {
      "text/plain": [
       "<matplotlib.legend.Legend at 0x242128efe80>"
      ]
     },
     "execution_count": 516,
     "metadata": {},
     "output_type": "execute_result"
    }
   ],
   "source": [
    "fg2= pl.figure('fg2')\n",
    "ax2= pl.axes()\n",
    "ax2.plot(f,x,'ro',f1,x1,'gx',f2,x2,'b.')\n",
    "ax2.plot(f,x,'r-',f1,x1,'g--',f2,x2,'b-.')\n",
    "ax2.set_xlabel('f, f1, f2')\n",
    "ax2.set_ylabel('x')\n",
    "ax2.legend(['f','f1','f2'])"
   ]
  },
  {
   "cell_type": "code",
   "execution_count": 517,
   "id": "8b64b748-b538-46cb-bbd2-ae7cdf22384b",
   "metadata": {},
   "outputs": [
    {
     "data": {
      "text/plain": [
       "<matplotlib.legend.Legend at 0x242130a9850>"
      ]
     },
     "execution_count": 517,
     "metadata": {},
     "output_type": "execute_result"
    }
   ],
   "source": [
    "fg3= pl.figure('fg3')\n",
    "ax3= pl.axes()\n",
    "ax3.plot(x,f,'ro',x1,f1,'gx',x2,f2,'b.')\n",
    "ax3.plot(x,f,'r-',x1,f1,'g--',x2,f2,'b-.')\n",
    "ax3.set_ylabel('f, f1, f2')\n",
    "ax3.set_xlabel('x')\n",
    "ax3.legend(['f','f1','f2'])"
   ]
  },
  {
   "cell_type": "code",
   "execution_count": 538,
   "id": "683629d0-1bf7-4230-bf32-53d58a65898d",
   "metadata": {},
   "outputs": [
    {
     "data": {
      "text/plain": [
       "[<matplotlib.lines.Line2D at 0x24207c2c460>,\n",
       " <matplotlib.lines.Line2D at 0x24207c2c340>]"
      ]
     },
     "execution_count": 538,
     "metadata": {},
     "output_type": "execute_result"
    }
   ],
   "source": [
    "# 加碼觀察 cumsum\n",
    "F= np.cumsum(f)\n",
    "fg4= pl.figure('fg4')\n",
    "ax4= pl.axes()\n",
    "#ax3.plot(x,f,'ro',x1,f1,'gx',x2,f2,'b.')\n",
    "#ax3.plot(x,f,'r-',x1,f1,'g--',x2,f2,'b-.')\n",
    "#ax3.set_ylabel('f, f1, f2')\n",
    "#ax3.set_xlabel('x')\n",
    "#ax3.legend(['f','f1','f2'])\n",
    "#ax4.plot(F,x,'cs')\n",
    "ax4.set_xlabel('F,f')\n",
    "ax4.set_ylabel('x')\n",
    "ax4.plot(F,x,'cs-.', f,x,'gx--')"
   ]
  },
  {
   "cell_type": "code",
   "execution_count": 520,
   "id": "bd89afff-87d8-4027-830d-3786ae58bfc0",
   "metadata": {},
   "outputs": [
    {
     "data": {
      "image/png": "[encoded data removed]",
      "text/latex": [
       "$\\displaystyle \\left( 21,\\right)$"
      ],
      "text/plain": [
       "(21,)"
      ]
     },
     "execution_count": 520,
     "metadata": {},
     "output_type": "execute_result"
    }
   ],
   "source": [
    "f.shape"
   ]
  },
  {
   "cell_type": "code",
   "execution_count": 523,
   "id": "d7b9c4dc-8755-4c30-9e32-d45be14f4b1d",
   "metadata": {},
   "outputs": [
    {
     "data": {
      "image/png": "[encoded data removed]",
      "text/latex": [
       "$\\displaystyle \\left( 20,\\right)$"
      ],
      "text/plain": [
       "(20,)"
      ]
     },
     "execution_count": 523,
     "metadata": {},
     "output_type": "execute_result"
    }
   ],
   "source": [
    "np.diff(f).shape"
   ]
  },
  {
   "cell_type": "code",
   "execution_count": null,
   "id": "fe4fe932-8af1-4eca-bd19-5d53d36bbd7c",
   "metadata": {},
   "outputs": [],
   "source": []
  },
  {
   "cell_type": "code",
   "execution_count": 442,
   "id": "36f09c09-eb93-43bb-ad1b-120c913554b5",
   "metadata": {},
   "outputs": [
    {
     "data": {
      "text/plain": [
       "[<matplotlib.lines.Line2D at 0x242005a09a0>,\n",
       " <matplotlib.lines.Line2D at 0x242005a0a60>]"
      ]
     },
     "execution_count": 442,
     "metadata": {},
     "output_type": "execute_result"
    }
   ],
   "source": [
    "\n",
    "ax2= pl.axes()\n",
    "ax2.plot(x,f,x1,f1)"
   ]
  },
  {
   "cell_type": "code",
   "execution_count": 445,
   "id": "ae0163bd-3bf3-44d9-a10e-22bb4f735106",
   "metadata": {},
   "outputs": [
    {
     "data": {
      "text/plain": [
       "\u001b[1;31mDocstring:\u001b[0m\n",
       "shuffle(x)\n",
       "\n",
       "Modify a sequence in-place by shuffling its contents.\n",
       "\n",
       "This function only shuffles the array along the first axis of a\n",
       "multi-dimensional array. The order of sub-arrays is changed but\n",
       "their contents remains the same.\n",
       "\n",
       ".. note::\n",
       "    New code should use the ``shuffle`` method of a ``default_rng()``\n",
       "    instance instead; please see the :ref:`random-quick-start`.\n",
       "\n",
       "Parameters\n",
       "----------\n",
       "x : ndarray or MutableSequence\n",
       "    The array, list or mutable sequence to be shuffled.\n",
       "\n",
       "Returns\n",
       "-------\n",
       "None\n",
       "\n",
       "See Also\n",
       "--------\n",
       "Generator.shuffle: which should be used for new code.\n",
       "\n",
       "Examples\n",
       "--------\n",
       ">>> arr = np.arange(10)\n",
       ">>> np.random.shuffle(arr)\n",
       ">>> arr\n",
       "[1 7 5 2 9 4 3 6 0 8] # random\n",
       "\n",
       "Multi-dimensional arrays are only shuffled along the first axis:\n",
       "\n",
       ">>> arr = np.arange(9).reshape((3, 3))\n",
       ">>> np.random.shuffle(arr)\n",
       ">>> arr\n",
       "array([[3, 4, 5], # random\n",
       "       [6, 7, 8],\n",
       "       [0, 1, 2]])\n",
       "\u001b[1;31mType:\u001b[0m      builtin_function_or_method\n"
      ]
     },
     "metadata": {},
     "output_type": "display_data"
    }
   ],
   "source": [
    "np.random.shuffle?"
   ]
  },
  {
   "cell_type": "code",
   "execution_count": null,
   "id": "16542393-b2a3-4da4-a6b7-331165b7a322",
   "metadata": {},
   "outputs": [],
   "source": []
  },
  {
   "cell_type": "code",
   "execution_count": 291,
   "id": "72c66ed2-3d9e-43a4-8a38-50e4bc4d7017",
   "metadata": {},
   "outputs": [
    {
     "data": {
      "text/plain": [
       "[<matplotlib.lines.Line2D at 0x2427ac11b20>]"
      ]
     },
     "execution_count": 291,
     "metadata": {},
     "output_type": "execute_result"
    }
   ],
   "source": [
    "x= np.arange(1000)\n",
    "y= np.random.poisson(size= 1000) \n",
    "y.sort()\n",
    "pl.plot(x,y)"
   ]
  },
  {
   "cell_type": "code",
   "execution_count": 280,
   "id": "b0562678-48af-47d1-ab54-a2889ebae6cf",
   "metadata": {},
   "outputs": [],
   "source": [
    "y.sort()"
   ]
  },
  {
   "cell_type": "code",
   "execution_count": 281,
   "id": "32fec14d-6ed6-4316-bf8f-a656ab5fb4ae",
   "metadata": {},
   "outputs": [
    {
     "data": {
      "text/plain": [
       "<StemContainer object of 3 artists>"
      ]
     },
     "execution_count": 281,
     "metadata": {},
     "output_type": "execute_result"
    }
   ],
   "source": [
    "pl.stem(x,y)"
   ]
  },
  {
   "cell_type": "code",
   "execution_count": 503,
   "id": "1e8bdb2f-1fab-4b1d-a552-4b2a4cf1e8c3",
   "metadata": {},
   "outputs": [],
   "source": [
    "# 封裝測試一下...，允許輸入不同函數\n",
    "def ryHistogram_demo(func= None):\n",
    "    \n",
    "    # 在時間軸上 不同的訊號，\n",
    "    # 使用 np.histogram() 把它們視為相同的機率分布！\n",
    "    t= np.linspace(-10,10,1001)\n",
    "    #t= np.arange(-10,10)\n",
    "    \n",
    "    if func==None:\n",
    "        func= np.sin\n",
    "        \n",
    "    X= func(t) #t**2\n",
    "    \n",
    "    X1= np.sort(X)\n",
    "    X2= X.copy()\n",
    "    np.random.shuffle(X2)  # 這個 .shuffle() 每次結果都不同！！\n",
    "    f, x= np.histogram(X, bins=20)\n",
    "    f= np.insert(f,0,0)  \n",
    "    # 上面這一行是 ry 特殊補丁，\n",
    "    # .histogram() 做出的 f, x 長度不同，影響後面程式碼的簡潔！\n",
    "    f1, x1= np.histogram(X1, bins=20)\n",
    "    f1= np.insert(f1,0,0)  \n",
    "    f2, x2= np.histogram(X2, bins=20)\n",
    "    f2= np.insert(f2,0,0)\n",
    "    t, X, X1, X2\n",
    "    x, f, x1, f1, x2, f2\n",
    "    fg1= pl.figure('fg1')\n",
    "    ax1= pl.axes()\n",
    "    ax1.plot(t,X,'ro',t,X1,'gx',t,X2,'b.')\n",
    "    ax1.set_xlabel('t')\n",
    "    ax1.set_ylabel('X, X1, X2')\n",
    "    ax1.legend(['X','X1','X2'])\n",
    "    \n",
    "    '''\n",
    "    fg2= pl.figure('fg2')\n",
    "    ax2= pl.axes()\n",
    "    ax2.plot(f,x,'ro',f1,x1,'gx',f2,x2,'b.')\n",
    "    ax2.plot(f,x,'r-',f1,x1,'g--',f2,x2,'b-.')\n",
    "    ax2.set_xlabel('f, f1, f2')\n",
    "    ax2.set_ylabel('x')\n",
    "    ax2.legend(['f','f1','f2'])\n",
    "    '''\n",
    "    fg3= pl.figure('fg3')\n",
    "    ax3= pl.axes()\n",
    "    ax3.plot(x,f,'ro',x1,f1,'gx',x2,f2,'b.')\n",
    "    ax3.plot(x,f,'r-',x1,f1,'g--',x2,f2,'b-.')\n",
    "    ax3.set_ylabel('f, f1, f2')\n",
    "    ax3.set_xlabel('x')\n",
    "    ax3.legend(['f','f1','f2'])\n",
    "\n",
    "ryHistogram_demo()"
   ]
  },
  {
   "cell_type": "code",
   "execution_count": 506,
   "id": "478f1094-1037-4456-b64f-76c413b87b8f",
   "metadata": {},
   "outputs": [],
   "source": [
    "def f(x):\n",
    "    y= np.sin(x) + np.sin(x*2) + np.sin(x*3)\n",
    "    return y\n",
    "\n",
    "ryHistogram_demo(f)\n"
   ]
  },
  {
   "cell_type": "code",
   "execution_count": 671,
   "id": "7deb8cce-c627-49e9-837f-f4ee71663325",
   "metadata": {},
   "outputs": [],
   "source": [
    "# 封裝測試一下...，允許輸入不同函數\n",
    "# 加碼練習 subplot()\n",
    "# 加碼觀察 cumsum()\n",
    "\n",
    "def ryHistogram_demo(func= None):\n",
    "    \n",
    "    # 在時間軸上 不同的訊號，\n",
    "    # 使用 np.histogram() 把它們視為相同的機率分布！\n",
    "    t= np.linspace(-10,10,1001)\n",
    "    #t= np.arange(-10,10)\n",
    "    \n",
    "    if func==None:\n",
    "        func= np.sin\n",
    "        \n",
    "    X= func(t) #t**2\n",
    "    \n",
    "    X1= np.sort(X)\n",
    "    X2= X.copy()\n",
    "    np.random.shuffle(X2)  # 這個 .shuffle() 每次結果都不同！！\n",
    "    \n",
    "    \n",
    "    # 針對離散型，也許 nbins 要精細一點計算\n",
    "    nbins= len(set(X))\n",
    "    nbins= min(nbins, 20)\n",
    "    \n",
    "    f, x= np.histogram(X, bins= nbins)\n",
    "    f= np.insert(f,0,0)  \n",
    "    # 上面這一行是 ry 特殊補丁，\n",
    "    # .histogram() 做出的 f, x 長度不同，影響後面程式碼的簡潔！\n",
    "    f1, x1= np.histogram(X1, bins= nbins)\n",
    "    f1= np.insert(f1,0,0)  \n",
    "    f2, x2= np.histogram(X2, bins= nbins)\n",
    "    f2= np.insert(f2,0,0)\n",
    "    t, X, X1, X2\n",
    "    x, f, x1, f1, x2, f2\n",
    "    \n",
    "    # 加碼觀察 cumsum\n",
    "    F= np.cumsum(f)\n",
    "    \n",
    "    #fg1= pl.figure('fg1')\n",
    "    #ax= pl.axes()\n",
    "    \n",
    "    fg, ax = plt.subplots(2,2,figsize=(10,5))\n",
    "    \n",
    "    ax[0,0].plot(t,X,'ro',t,X1,'gx',t,X2,'b.')\n",
    "    ax[0,0].set_xlabel('t')\n",
    "    ax[0,0].set_ylabel('X, X1, X2')\n",
    "    ax[0,0].legend(['X','X1','X2'])\n",
    "    \n",
    "    #'''\n",
    "    #fg2= pl.figure('fg2')\n",
    "    #ax2= pl.axes()\n",
    "    ax[0,1].plot(f,x,'ro--',f1,x1,'gx-.',f2,x2,'b.-',F,x,'cs--')\n",
    "    ax[0,1].set_xlabel('f, f1, f2, F')\n",
    "    ax[0,1].set_ylabel('x')\n",
    "    ax[0,1].legend(['f','f1','f2','F'])\n",
    "    #'''\n",
    "    #fg3= pl.figure('fg3')\n",
    "    #ax3= pl.axes()\n",
    "    ax[1,0].plot(x,f,'ro--',x1,f1,'gx-',x2,f2,'b.-', x,F,'cs--')\n",
    "    ax[1,0].set_ylabel('f, f1, f2, F')\n",
    "    ax[1,0].set_xlabel('x')\n",
    "    ax[1,0].legend(['f','f1','f2','F'])\n",
    "    \n",
    "    # 加碼觀察 cumsum\n",
    "    # 本想簡單達成\n",
    "    # 但 加 legend() 出問題，只好把以下幾行混進上面程式碼中，殘念！！！\n",
    "    \n",
    "    '''\n",
    "    F= np.cumsum(f)\n",
    "\n",
    "    ax[1,0].plot(x,F,'cs-')\n",
    "    #ax[1,0].legend(['F'])\n",
    "\n",
    "    ax[0,1].plot(F,x,'cs-')\n",
    "    #ax[0,1].legend(['F'])\n",
    "    '''\n",
    "    \n",
    "ryHistogram_demo()"
   ]
  },
  {
   "cell_type": "code",
   "execution_count": 627,
   "id": "c1779138-89f9-4b9e-b79b-975d0fa45f47",
   "metadata": {},
   "outputs": [],
   "source": [
    "def f(t):\n",
    "    y= abs(np.sin(t))\n",
    "    #y= t**2\n",
    "    #y= np.sin(t) + np.sin(t*2) + np.sin(t*3)\n",
    "    #y= (t+10) * (t+5)* (t)* (t-4) * (t-9)    \n",
    "    return y\n",
    "\n",
    "ryHistogram_demo(f)"
   ]
  },
  {
   "cell_type": "markdown",
   "id": "e299f9e2-3638-416f-811d-d362f095e89d",
   "metadata": {},
   "source": [
    "# 在觀賞 .cumsum() 時，發現一件 有趣的數學知識\n",
    "\n",
    "    - X= X(t) --> 【sort()】   --> X1= X1(t)\n",
    "    - f= f(x) --> 【cumsum()】 --> F= F(x)\n",
    "    - 然後:\n",
    "    - 把 F(x) 的 橫坐標與縱坐標調換， \n",
    "  \n",
    "$ \n",
    "x= x(F) = F^{-1}(F(x)) \n",
    "$     \n",
    "    \n",
    "    - 你就發現: x= x(F) 與 X1= X1(t) 形狀 一模一樣，\n",
    "    - 只差橫坐標 \n",
    "    - F in [0,1000]\n",
    "    - t in [-10, 10]\n",
    "    - 上面這段話用文字表達有點不容易，必須搭配圖形來說明....\n",
    "    \n",
    "\n",
    "- 再進一步思考， f(x) 其實是 X(t) 的 histogram()\n",
    "- X(t) --> 【.histogram()】 --> f(x)\n",
    "- X(t) 可以來自某個 「被決定的」(deterministic) 函數 (或信號)，然後打亂時間軸也沒關係\n"
   ]
  },
  {
   "cell_type": "code",
   "execution_count": 679,
   "id": "28d0ca83-7bd8-4491-8545-f450d2416cd3",
   "metadata": {},
   "outputs": [],
   "source": [
    "#\n",
    "# 產生資料點 的機制可以從 決定型 函數 走向 隨機型函數\n",
    "#\n",
    "\n",
    "def f(t):\n",
    "    \n",
    "    #y= abs(np.sin(t))\n",
    "    #y= t**2\n",
    "    #y= np.sin(t) + np.sin(t*2) + np.sin(t*3)\n",
    "    #y= (t+10) * (t+5)* (t)* (t-4) * (t-9)  \n",
    "    \n",
    "    y= np.random.random(size= len(t))\n",
    "    #y= np.random.randint(0,10,size=len(t))\n",
    "    \n",
    "    #y= np.random.normal(size= len(t))\n",
    "    \n",
    "    #y= np.random.binomial(n=10, p= 0.5, size=len(t))\n",
    "    #y= np.random.poisson(lam=5, size= len(t))\n",
    "    \n",
    "    #y= np.random.lognormal(size= len(t))\n",
    "    #y= np.log(y)\n",
    "    #\n",
    "    #y= np.random.poisson(lam=10, size= len(t))\n",
    "    #y= np.random.binomial(n=100, p= 0.1, size=len(t))\n",
    "    #y= np.random.normal(loc= 10, scale=10, size=len(t))\n",
    "    \n",
    "    return y\n",
    "\n",
    "ryHistogram_demo(f)"
   ]
  },
  {
   "cell_type": "code",
   "execution_count": 640,
   "id": "f56b5db8-2ee0-40fc-a5c3-3d63ac30522a",
   "metadata": {},
   "outputs": [
    {
     "data": {
      "text/plain": [
       "array([ 4, 14,  4, ...,  7, 15,  5])"
      ]
     },
     "execution_count": 640,
     "metadata": {},
     "output_type": "execute_result"
    }
   ],
   "source": [
    "np.random.binomial(n=100, p= 0.1, size=len(t))"
   ]
  },
  {
   "cell_type": "code",
   "execution_count": 643,
   "id": "690c380a-9e49-4b2f-a4d2-8ecb880fbe93",
   "metadata": {},
   "outputs": [
    {
     "data": {
      "text/plain": [
       "array([-0.30535585,  0.51887417,  0.13969417, ..., -0.98400812,\n",
       "        0.54748761,  0.60540454])"
      ]
     },
     "execution_count": 643,
     "metadata": {},
     "output_type": "execute_result"
    }
   ],
   "source": [
    "np.random.normal(loc= 10, scale=1, size=len(t))"
   ]
  },
  {
   "cell_type": "code",
   "execution_count": 661,
   "id": "a4c419e9-1e6b-4f30-9e24-c7dcb542cf95",
   "metadata": {},
   "outputs": [
    {
     "data": {
      "text/plain": [
       "array([6, 2, 0, ..., 9, 9, 5])"
      ]
     },
     "execution_count": 661,
     "metadata": {},
     "output_type": "execute_result"
    }
   ],
   "source": [
    "np.random.randint(0,10,size=len(t))"
   ]
  },
  {
   "cell_type": "code",
   "execution_count": 664,
   "id": "87c8189f-ee63-4afe-8d2e-0209e868468f",
   "metadata": {},
   "outputs": [
    {
     "data": {
      "text/plain": [
       "array([4, 2, 7, ..., 7, 1, 4])"
      ]
     },
     "execution_count": 664,
     "metadata": {},
     "output_type": "execute_result"
    }
   ],
   "source": [
    "y= np.random.randint(0,10,size=len(t))\n",
    "y"
   ]
  },
  {
   "cell_type": "code",
   "execution_count": 670,
   "id": "40d17120-8f64-4015-8237-417f009e02c0",
   "metadata": {},
   "outputs": [
    {
     "data": {
      "text/plain": [
       "(array([106,   0,  90,   0, 110,   0,  92,   0, 122,   0,   0,  86,   0,\n",
       "        105,   0, 105,   0,  98,   0,  87], dtype=int64),\n",
       " array([0.  , 0.45, 0.9 , 1.35, 1.8 , 2.25, 2.7 , 3.15, 3.6 , 4.05, 4.5 ,\n",
       "        4.95, 5.4 , 5.85, 6.3 , 6.75, 7.2 , 7.65, 8.1 , 8.55, 9.  ]))"
      ]
     },
     "execution_count": 670,
     "metadata": {},
     "output_type": "execute_result"
    }
   ],
   "source": [
    "np.histogram(y,20)"
   ]
  },
  {
   "cell_type": "code",
   "execution_count": null,
   "id": "f9a17911-da4f-4baf-81a0-f12f2e5340f1",
   "metadata": {},
   "outputs": [],
   "source": []
  },
  {
   "cell_type": "code",
   "execution_count": null,
   "id": "3a191c1a-fffb-4762-8e25-ba9dd4acb30b",
   "metadata": {},
   "outputs": [],
   "source": []
  },
  {
   "cell_type": "code",
   "execution_count": null,
   "id": "732d215d-acbc-47ad-bbb7-742056589615",
   "metadata": {},
   "outputs": [],
   "source": []
  },
  {
   "cell_type": "code",
   "execution_count": null,
   "id": "65b36553-2ecc-4d22-870f-25e81884689c",
   "metadata": {},
   "outputs": [],
   "source": []
  },
  {
   "cell_type": "code",
   "execution_count": null,
   "id": "384f0782-bbc2-444d-ba36-d18462ac0d88",
   "metadata": {},
   "outputs": [],
   "source": []
  },
  {
   "cell_type": "code",
   "execution_count": null,
   "id": "04d62493-e346-4c0b-88de-51f2174a1a19",
   "metadata": {},
   "outputs": [],
   "source": []
  },
  {
   "cell_type": "code",
   "execution_count": null,
   "id": "db6b5119-9003-4066-b3f0-5b63c7eab2f4",
   "metadata": {},
   "outputs": [],
   "source": []
  },
  {
   "cell_type": "code",
   "execution_count": null,
   "id": "36b5787e-0785-4593-9e52-85e2df96e930",
   "metadata": {},
   "outputs": [],
   "source": []
  },
  {
   "cell_type": "code",
   "execution_count": 550,
   "id": "bf6fc6cd-6bff-4af4-95d8-5faedfde63eb",
   "metadata": {
    "collapsed": true,
    "jupyter": {
     "outputs_hidden": true
    },
    "tags": []
   },
   "outputs": [
    {
     "data": {
      "text/plain": [
       "\u001b[1;31mSignature:\u001b[0m \u001b[0mpl\u001b[0m\u001b[1;33m.\u001b[0m\u001b[0mlegend\u001b[0m\u001b[1;33m(\u001b[0m\u001b[1;33m*\u001b[0m\u001b[0margs\u001b[0m\u001b[1;33m,\u001b[0m \u001b[1;33m**\u001b[0m\u001b[0mkwargs\u001b[0m\u001b[1;33m)\u001b[0m\u001b[1;33m\u001b[0m\u001b[1;33m\u001b[0m\u001b[0m\n",
       "\u001b[1;31mDocstring:\u001b[0m\n",
       "Place a legend on the axes.\n",
       "\n",
       "Call signatures::\n",
       "\n",
       "    legend()\n",
       "    legend(labels)\n",
       "    legend(handles, labels)\n",
       "\n",
       "The call signatures correspond to three different ways how to use\n",
       "this method.\n",
       "\n",
       "**1. Automatic detection of elements to be shown in the legend**\n",
       "\n",
       "The elements to be added to the legend are automatically determined,\n",
       "when you do not pass in any extra arguments.\n",
       "\n",
       "In this case, the labels are taken from the artist. You can specify\n",
       "them either at artist creation or by calling the\n",
       ":meth:`~.Artist.set_label` method on the artist::\n",
       "\n",
       "    line, = ax.plot([1, 2, 3], label='Inline label')\n",
       "    ax.legend()\n",
       "\n",
       "or::\n",
       "\n",
       "    line, = ax.plot([1, 2, 3])\n",
       "    line.set_label('Label via method')\n",
       "    ax.legend()\n",
       "\n",
       "Specific lines can be excluded from the automatic legend element\n",
       "selection by defining a label starting with an underscore.\n",
       "This is default for all artists, so calling `.Axes.legend` without\n",
       "any arguments and without setting the labels manually will result in\n",
       "no legend being drawn.\n",
       "\n",
       "\n",
       "**2. Labeling existing plot elements**\n",
       "\n",
       "To make a legend for lines which already exist on the axes\n",
       "(via plot for instance), simply call this function with an iterable\n",
       "of strings, one for each legend item. For example::\n",
       "\n",
       "    ax.plot([1, 2, 3])\n",
       "    ax.legend(['A simple line'])\n",
       "\n",
       "Note: This way of using is discouraged, because the relation between\n",
       "plot elements and labels is only implicit by their order and can\n",
       "easily be mixed up.\n",
       "\n",
       "\n",
       "**3. Explicitly defining the elements in the legend**\n",
       "\n",
       "For full control of which artists have a legend entry, it is possible\n",
       "to pass an iterable of legend artists followed by an iterable of\n",
       "legend labels respectively::\n",
       "\n",
       "    legend((line1, line2, line3), ('label1', 'label2', 'label3'))\n",
       "\n",
       "Parameters\n",
       "----------\n",
       "handles : sequence of `.Artist`, optional\n",
       "    A list of Artists (lines, patches) to be added to the legend.\n",
       "    Use this together with *labels*, if you need full control on what\n",
       "    is shown in the legend and the automatic mechanism described above\n",
       "    is not sufficient.\n",
       "\n",
       "    The length of handles and labels should be the same in this\n",
       "    case. If they are not, they are truncated to the smaller length.\n",
       "\n",
       "labels : list of str, optional\n",
       "    A list of labels to show next to the artists.\n",
       "    Use this together with *handles*, if you need full control on what\n",
       "    is shown in the legend and the automatic mechanism described above\n",
       "    is not sufficient.\n",
       "\n",
       "Returns\n",
       "-------\n",
       "`~matplotlib.legend.Legend`\n",
       "\n",
       "Other Parameters\n",
       "----------------\n",
       "\n",
       "loc : str or pair of floats, default: :rc:`legend.loc` ('best' for axes, 'upper right' for figures)\n",
       "    The location of the legend.\n",
       "\n",
       "    The strings\n",
       "    ``'upper left', 'upper right', 'lower left', 'lower right'``\n",
       "    place the legend at the corresponding corner of the axes/figure.\n",
       "\n",
       "    The strings\n",
       "    ``'upper center', 'lower center', 'center left', 'center right'``\n",
       "    place the legend at the center of the corresponding edge of the\n",
       "    axes/figure.\n",
       "\n",
       "    The string ``'center'`` places the legend at the center of the axes/figure.\n",
       "\n",
       "    The string ``'best'`` places the legend at the location, among the nine\n",
       "    locations defined so far, with the minimum overlap with other drawn\n",
       "    artists.  This option can be quite slow for plots with large amounts of\n",
       "    data; your plotting speed may benefit from providing a specific location.\n",
       "\n",
       "    The location can also be a 2-tuple giving the coordinates of the lower-left\n",
       "    corner of the legend in axes coordinates (in which case *bbox_to_anchor*\n",
       "    will be ignored).\n",
       "\n",
       "    For back-compatibility, ``'center right'`` (but no other location) can also\n",
       "    be spelled ``'right'``, and each \"string\" locations can also be given as a\n",
       "    numeric value:\n",
       "\n",
       "        ===============   =============\n",
       "        Location String   Location Code\n",
       "        ===============   =============\n",
       "        'best'            0\n",
       "        'upper right'     1\n",
       "        'upper left'      2\n",
       "        'lower left'      3\n",
       "        'lower right'     4\n",
       "        'right'           5\n",
       "        'center left'     6\n",
       "        'center right'    7\n",
       "        'lower center'    8\n",
       "        'upper center'    9\n",
       "        'center'          10\n",
       "        ===============   =============\n",
       "\n",
       "bbox_to_anchor : `.BboxBase`, 2-tuple, or 4-tuple of floats\n",
       "    Box that is used to position the legend in conjunction with *loc*.\n",
       "    Defaults to `axes.bbox` (if called as a method to `.Axes.legend`) or\n",
       "    `figure.bbox` (if `.Figure.legend`).  This argument allows arbitrary\n",
       "    placement of the legend.\n",
       "\n",
       "    Bbox coordinates are interpreted in the coordinate system given by\n",
       "    *bbox_transform*, with the default transform\n",
       "    Axes or Figure coordinates, depending on which ``legend`` is called.\n",
       "\n",
       "    If a 4-tuple or `.BboxBase` is given, then it specifies the bbox\n",
       "    ``(x, y, width, height)`` that the legend is placed in.\n",
       "    To put the legend in the best location in the bottom right\n",
       "    quadrant of the axes (or figure)::\n",
       "\n",
       "        loc='best', bbox_to_anchor=(0.5, 0., 0.5, 0.5)\n",
       "\n",
       "    A 2-tuple ``(x, y)`` places the corner of the legend specified by *loc* at\n",
       "    x, y.  For example, to put the legend's upper right-hand corner in the\n",
       "    center of the axes (or figure) the following keywords can be used::\n",
       "\n",
       "        loc='upper right', bbox_to_anchor=(0.5, 0.5)\n",
       "\n",
       "ncol : int, default: 1\n",
       "    The number of columns that the legend has.\n",
       "\n",
       "prop : None or `matplotlib.font_manager.FontProperties` or dict\n",
       "    The font properties of the legend. If None (default), the current\n",
       "    :data:`matplotlib.rcParams` will be used.\n",
       "\n",
       "fontsize : int or {'xx-small', 'x-small', 'small', 'medium', 'large', 'x-large', 'xx-large'}\n",
       "    The font size of the legend. If the value is numeric the size will be the\n",
       "    absolute font size in points. String values are relative to the current\n",
       "    default font size. This argument is only used if *prop* is not specified.\n",
       "\n",
       "labelcolor : str or list\n",
       "    Sets the color of the text in the legend. Can be a valid color string\n",
       "    (for example, 'red'), or a list of color strings. The labelcolor can\n",
       "    also be made to match the color of the line or marker using 'linecolor',\n",
       "    'markerfacecolor' (or 'mfc'), or 'markeredgecolor' (or 'mec').\n",
       "\n",
       "numpoints : int, default: :rc:`legend.numpoints`\n",
       "    The number of marker points in the legend when creating a legend\n",
       "    entry for a `.Line2D` (line).\n",
       "\n",
       "scatterpoints : int, default: :rc:`legend.scatterpoints`\n",
       "    The number of marker points in the legend when creating\n",
       "    a legend entry for a `.PathCollection` (scatter plot).\n",
       "\n",
       "scatteryoffsets : iterable of floats, default: ``[0.375, 0.5, 0.3125]``\n",
       "    The vertical offset (relative to the font size) for the markers\n",
       "    created for a scatter plot legend entry. 0.0 is at the base the\n",
       "    legend text, and 1.0 is at the top. To draw all markers at the\n",
       "    same height, set to ``[0.5]``.\n",
       "\n",
       "markerscale : float, default: :rc:`legend.markerscale`\n",
       "    The relative size of legend markers compared with the originally\n",
       "    drawn ones.\n",
       "\n",
       "markerfirst : bool, default: True\n",
       "    If *True*, legend marker is placed to the left of the legend label.\n",
       "    If *False*, legend marker is placed to the right of the legend label.\n",
       "\n",
       "frameon : bool, default: :rc:`legend.frameon`\n",
       "    Whether the legend should be drawn on a patch (frame).\n",
       "\n",
       "fancybox : bool, default: :rc:`legend.fancybox`\n",
       "    Whether round edges should be enabled around the `~.FancyBboxPatch` which\n",
       "    makes up the legend's background.\n",
       "\n",
       "shadow : bool, default: :rc:`legend.shadow`\n",
       "    Whether to draw a shadow behind the legend.\n",
       "\n",
       "framealpha : float, default: :rc:`legend.framealpha`\n",
       "    The alpha transparency of the legend's background.\n",
       "    If *shadow* is activated and *framealpha* is ``None``, the default value is\n",
       "    ignored.\n",
       "\n",
       "facecolor : \"inherit\" or color, default: :rc:`legend.facecolor`\n",
       "    The legend's background color.\n",
       "    If ``\"inherit\"``, use :rc:`axes.facecolor`.\n",
       "\n",
       "edgecolor : \"inherit\" or color, default: :rc:`legend.edgecolor`\n",
       "    The legend's background patch edge color.\n",
       "    If ``\"inherit\"``, use take :rc:`axes.edgecolor`.\n",
       "\n",
       "mode : {\"expand\", None}\n",
       "    If *mode* is set to ``\"expand\"`` the legend will be horizontally\n",
       "    expanded to fill the axes area (or *bbox_to_anchor* if defines\n",
       "    the legend's size).\n",
       "\n",
       "bbox_transform : None or `matplotlib.transforms.Transform`\n",
       "    The transform for the bounding box (*bbox_to_anchor*). For a value\n",
       "    of ``None`` (default) the Axes'\n",
       "    :data:`~matplotlib.axes.Axes.transAxes` transform will be used.\n",
       "\n",
       "title : str or None\n",
       "    The legend's title. Default is no title (``None``).\n",
       "\n",
       "title_fontsize : int or {'xx-small', 'x-small', 'small', 'medium', 'large', 'x-large', 'xx-large'}, default: :rc:`legend.title_fontsize`\n",
       "    The font size of the legend's title.\n",
       "\n",
       "borderpad : float, default: :rc:`legend.borderpad`\n",
       "    The fractional whitespace inside the legend border, in font-size units.\n",
       "\n",
       "labelspacing : float, default: :rc:`legend.labelspacing`\n",
       "    The vertical space between the legend entries, in font-size units.\n",
       "\n",
       "handlelength : float, default: :rc:`legend.handlelength`\n",
       "    The length of the legend handles, in font-size units.\n",
       "\n",
       "handletextpad : float, default: :rc:`legend.handletextpad`\n",
       "    The pad between the legend handle and text, in font-size units.\n",
       "\n",
       "borderaxespad : float, default: :rc:`legend.borderaxespad`\n",
       "    The pad between the axes and legend border, in font-size units.\n",
       "\n",
       "columnspacing : float, default: :rc:`legend.columnspacing`\n",
       "    The spacing between columns, in font-size units.\n",
       "\n",
       "handler_map : dict or None\n",
       "    The custom dictionary mapping instances or types to a legend\n",
       "    handler. This *handler_map* updates the default handler map\n",
       "    found at `matplotlib.legend.Legend.get_legend_handler_map`.\n",
       "\n",
       "\n",
       "Notes\n",
       "-----\n",
       "Some artists are not supported by this function.  See\n",
       ":doc:`/tutorials/intermediate/legend_guide` for details.\n",
       "\n",
       "Examples\n",
       "--------\n",
       ".. plot:: gallery/text_labels_and_annotations/legend.py\n",
       "\u001b[1;31mSource:\u001b[0m   \n",
       "\u001b[1;33m@\u001b[0m\u001b[0m_copy_docstring_and_deprecators\u001b[0m\u001b[1;33m(\u001b[0m\u001b[0mAxes\u001b[0m\u001b[1;33m.\u001b[0m\u001b[0mlegend\u001b[0m\u001b[1;33m)\u001b[0m\u001b[1;33m\n",
       "\u001b[0m\u001b[1;32mdef\u001b[0m \u001b[0mlegend\u001b[0m\u001b[1;33m(\u001b[0m\u001b[1;33m*\u001b[0m\u001b[0margs\u001b[0m\u001b[1;33m,\u001b[0m \u001b[1;33m**\u001b[0m\u001b[0mkwargs\u001b[0m\u001b[1;33m)\u001b[0m\u001b[1;33m:\u001b[0m\u001b[1;33m\n",
       "\u001b[0m    \u001b[1;32mreturn\u001b[0m \u001b[0mgca\u001b[0m\u001b[1;33m(\u001b[0m\u001b[1;33m)\u001b[0m\u001b[1;33m.\u001b[0m\u001b[0mlegend\u001b[0m\u001b[1;33m(\u001b[0m\u001b[1;33m*\u001b[0m\u001b[0margs\u001b[0m\u001b[1;33m,\u001b[0m \u001b[1;33m**\u001b[0m\u001b[0mkwargs\u001b[0m\u001b[1;33m)\u001b[0m\u001b[1;33m\u001b[0m\u001b[1;33m\u001b[0m\u001b[0m\n",
       "\u001b[1;31mFile:\u001b[0m      m:\\programdata\\anaconda3\\lib\\site-packages\\matplotlib\\pyplot.py\n",
       "\u001b[1;31mType:\u001b[0m      function\n"
      ]
     },
     "metadata": {},
     "output_type": "display_data"
    }
   ],
   "source": [
    "\n",
    "#pl.legend??"
   ]
  },
  {
   "cell_type": "code",
   "execution_count": 552,
   "id": "c5bebbc0-c636-4fa2-b158-2eba34bd574e",
   "metadata": {},
   "outputs": [],
   "source": [
    "fg, ax= plt.subplots(2,2,figsize=(10,5))\n"
   ]
  },
  {
   "cell_type": "code",
   "execution_count": 582,
   "id": "99f50f54-97e6-4d27-8fdf-41733171ed2e",
   "metadata": {},
   "outputs": [
    {
     "data": {
      "text/plain": [
       "[<matplotlib.lines.Line2D at 0x242113d61c0>]"
      ]
     },
     "execution_count": 582,
     "metadata": {},
     "output_type": "execute_result"
    }
   ],
   "source": [
    "ax[0,0].plot(f1*f1)"
   ]
  },
  {
   "cell_type": "code",
   "execution_count": 576,
   "id": "daf74080-42de-4186-8265-c30f399611be",
   "metadata": {},
   "outputs": [],
   "source": [
    "ax[0,0].set_label(['f1'])"
   ]
  },
  {
   "cell_type": "code",
   "execution_count": 583,
   "id": "7ac94e86-228e-48b6-bc48-d692f3ea3aad",
   "metadata": {},
   "outputs": [
    {
     "data": {
      "text/plain": [
       "<matplotlib.legend.Legend at 0x242113d6610>"
      ]
     },
     "execution_count": 583,
     "metadata": {},
     "output_type": "execute_result"
    }
   ],
   "source": [
    "ax[0,0].legend(['f1','f2'])"
   ]
  },
  {
   "cell_type": "code",
   "execution_count": 569,
   "id": "4f107fa6-6a6c-4cba-a284-15303323055a",
   "metadata": {},
   "outputs": [
    {
     "data": {
      "text/plain": [
       "'f1'"
      ]
     },
     "execution_count": 569,
     "metadata": {},
     "output_type": "execute_result"
    }
   ],
   "source": [
    "ax[0,0].get_label()"
   ]
  },
  {
   "cell_type": "code",
   "execution_count": 568,
   "id": "aa10028c-ba97-4edc-b917-c195c0469a5a",
   "metadata": {},
   "outputs": [],
   "source": [
    "ax[0,0].set_label('f1')"
   ]
  },
  {
   "cell_type": "markdown",
   "id": "704c8081-a24b-4ed8-9c11-a573c88d2c6e",
   "metadata": {},
   "source": [
    "# VIDEO: Virtual coin tosses"
   ]
  },
  {
   "cell_type": "code",
   "execution_count": 229,
   "id": "3121c206-eda7-4326-98fa-6626b2922c1a",
   "metadata": {},
   "outputs": [
    {
     "data": {
      "image/png": "[encoded data removed]",
      "text/plain": [
       "<Figure size 432x288 with 1 Axes>"
      ]
     },
     "metadata": {},
     "output_type": "display_data"
    }
   ],
   "source": [
    "# p(heads), which one is weighted?\n",
    "\n",
    "faircoin= .5\n",
    "biascoin= .6\n",
    "\n",
    "nTrials= 100\n",
    "\n",
    "# initialize\n",
    "results= np.zeros((2,nTrials))\n",
    "\n",
    "for j in range(nTrials):\n",
    "    results[0,j]= np.random.rand()>faircoin\n",
    "    results[1,j]= np.random.rand()>biascoin\n",
    "    \n",
    "\n",
    "plt.plot(results[0,:]-.05,'s',markersize=10)\n",
    "plt.plot(results[1,:]+.05,'s',markersize=10)\n",
    "plt.yticks([0,1],['Tails','Heads'])\n",
    "plt.xlabel('Flip #')\n",
    "plt.ylim([-.5,1.5])\n",
    "plt.legend(['Fair','Biased'])\n",
    "plt.show()"
   ]
  },
  {
   "cell_type": "code",
   "execution_count": 230,
   "id": "94749b07-4790-4a81-8080-69190fe07589",
   "metadata": {
    "collapsed": true,
    "jupyter": {
     "outputs_hidden": true
    },
    "tags": []
   },
   "outputs": [
    {
     "data": {
      "text/plain": [
       "array([[1., 0., 1., 0., 1., 1., 1., 1., 1., 1., 1., 0., 0., 0., 0., 0.,\n",
       "        0., 0., 0., 1., 1., 1., 1., 0., 0., 1., 1., 1., 0., 1., 1., 0.,\n",
       "        0., 1., 1., 1., 0., 0., 1., 0., 1., 0., 0., 1., 0., 0., 0., 1.,\n",
       "        1., 1., 1., 1., 1., 0., 1., 0., 1., 1., 1., 1., 1., 0., 1., 0.,\n",
       "        0., 0., 0., 0., 0., 0., 1., 1., 0., 1., 0., 0., 0., 0., 0., 0.,\n",
       "        1., 0., 1., 1., 0., 0., 1., 1., 0., 1., 0., 0., 1., 1., 1., 0.,\n",
       "        0., 0., 0., 1.],\n",
       "       [0., 0., 0., 0., 0., 0., 0., 0., 0., 1., 0., 1., 0., 1., 1., 0.,\n",
       "        0., 1., 0., 0., 0., 0., 1., 1., 0., 0., 0., 1., 1., 1., 0., 1.,\n",
       "        0., 0., 0., 1., 1., 1., 0., 1., 0., 1., 1., 1., 1., 0., 0., 0.,\n",
       "        1., 0., 0., 1., 0., 1., 1., 0., 1., 1., 0., 0., 0., 1., 1., 1.,\n",
       "        0., 1., 0., 0., 1., 0., 0., 0., 0., 0., 1., 0., 1., 0., 0., 0.,\n",
       "        0., 1., 0., 0., 0., 0., 0., 1., 0., 1., 0., 1., 0., 1., 0., 0.,\n",
       "        1., 1., 1., 1.]])"
      ]
     },
     "execution_count": 230,
     "metadata": {},
     "output_type": "execute_result"
    }
   ],
   "source": [
    "results"
   ]
  },
  {
   "cell_type": "code",
   "execution_count": 231,
   "id": "0979ab02-14e9-4f85-8e7c-e89361d1565c",
   "metadata": {},
   "outputs": [
    {
     "data": {
      "text/html": [
       "<div>\n",
       "<style scoped>\n",
       "    .dataframe tbody tr th:only-of-type {\n",
       "        vertical-align: middle;\n",
       "    }\n",
       "\n",
       "    .dataframe tbody tr th {\n",
       "        vertical-align: top;\n",
       "    }\n",
       "\n",
       "    .dataframe thead th {\n",
       "        text-align: right;\n",
       "    }\n",
       "</style>\n",
       "<table border=\"1\" class=\"dataframe\">\n",
       "  <thead>\n",
       "    <tr style=\"text-align: right;\">\n",
       "      <th></th>\n",
       "      <th>0</th>\n",
       "      <th>1</th>\n",
       "      <th>2</th>\n",
       "      <th>3</th>\n",
       "      <th>4</th>\n",
       "      <th>5</th>\n",
       "      <th>6</th>\n",
       "      <th>7</th>\n",
       "      <th>8</th>\n",
       "      <th>9</th>\n",
       "      <th>...</th>\n",
       "      <th>90</th>\n",
       "      <th>91</th>\n",
       "      <th>92</th>\n",
       "      <th>93</th>\n",
       "      <th>94</th>\n",
       "      <th>95</th>\n",
       "      <th>96</th>\n",
       "      <th>97</th>\n",
       "      <th>98</th>\n",
       "      <th>99</th>\n",
       "    </tr>\n",
       "  </thead>\n",
       "  <tbody>\n",
       "    <tr>\n",
       "      <th>Fair</th>\n",
       "      <td>1</td>\n",
       "      <td>0</td>\n",
       "      <td>1</td>\n",
       "      <td>0</td>\n",
       "      <td>1</td>\n",
       "      <td>1</td>\n",
       "      <td>1</td>\n",
       "      <td>1</td>\n",
       "      <td>1</td>\n",
       "      <td>1</td>\n",
       "      <td>...</td>\n",
       "      <td>0</td>\n",
       "      <td>0</td>\n",
       "      <td>1</td>\n",
       "      <td>1</td>\n",
       "      <td>1</td>\n",
       "      <td>0</td>\n",
       "      <td>0</td>\n",
       "      <td>0</td>\n",
       "      <td>0</td>\n",
       "      <td>1</td>\n",
       "    </tr>\n",
       "    <tr>\n",
       "      <th>Biased</th>\n",
       "      <td>0</td>\n",
       "      <td>0</td>\n",
       "      <td>0</td>\n",
       "      <td>0</td>\n",
       "      <td>0</td>\n",
       "      <td>0</td>\n",
       "      <td>0</td>\n",
       "      <td>0</td>\n",
       "      <td>0</td>\n",
       "      <td>1</td>\n",
       "      <td>...</td>\n",
       "      <td>0</td>\n",
       "      <td>1</td>\n",
       "      <td>0</td>\n",
       "      <td>1</td>\n",
       "      <td>0</td>\n",
       "      <td>0</td>\n",
       "      <td>1</td>\n",
       "      <td>1</td>\n",
       "      <td>1</td>\n",
       "      <td>1</td>\n",
       "    </tr>\n",
       "  </tbody>\n",
       "</table>\n",
       "<p>2 rows × 100 columns</p>\n",
       "</div>"
      ],
      "text/plain": [
       "        0   1   2   3   4   5   6   7   8   9   ...  90  91  92  93  94  95  \\\n",
       "Fair     1   0   1   0   1   1   1   1   1   1  ...   0   0   1   1   1   0   \n",
       "Biased   0   0   0   0   0   0   0   0   0   1  ...   0   1   0   1   0   0   \n",
       "\n",
       "        96  97  98  99  \n",
       "Fair     0   0   0   1  \n",
       "Biased   1   1   1   1  \n",
       "\n",
       "[2 rows x 100 columns]"
      ]
     },
     "execution_count": 231,
     "metadata": {},
     "output_type": "execute_result"
    }
   ],
   "source": [
    "import pandas as pd\n",
    "df= pd.DataFrame(\n",
    "    results,\n",
    "    dtype='int',\n",
    "    index=['Fair','Biased'])\n",
    "df"
   ]
  },
  {
   "cell_type": "code",
   "execution_count": 232,
   "id": "6da9e0a3-e387-4465-afc6-1223d2d0d376",
   "metadata": {},
   "outputs": [
    {
     "data": {
      "text/html": [
       "<div>\n",
       "<style scoped>\n",
       "    .dataframe tbody tr th:only-of-type {\n",
       "        vertical-align: middle;\n",
       "    }\n",
       "\n",
       "    .dataframe tbody tr th {\n",
       "        vertical-align: top;\n",
       "    }\n",
       "\n",
       "    .dataframe thead th {\n",
       "        text-align: right;\n",
       "    }\n",
       "</style>\n",
       "<table border=\"1\" class=\"dataframe\">\n",
       "  <thead>\n",
       "    <tr style=\"text-align: right;\">\n",
       "      <th></th>\n",
       "      <th>0</th>\n",
       "      <th>1</th>\n",
       "      <th>2</th>\n",
       "      <th>3</th>\n",
       "      <th>4</th>\n",
       "      <th>5</th>\n",
       "      <th>6</th>\n",
       "      <th>7</th>\n",
       "      <th>8</th>\n",
       "      <th>9</th>\n",
       "      <th>...</th>\n",
       "      <th>91</th>\n",
       "      <th>92</th>\n",
       "      <th>93</th>\n",
       "      <th>94</th>\n",
       "      <th>95</th>\n",
       "      <th>96</th>\n",
       "      <th>97</th>\n",
       "      <th>98</th>\n",
       "      <th>99</th>\n",
       "      <th>ave</th>\n",
       "    </tr>\n",
       "  </thead>\n",
       "  <tbody>\n",
       "    <tr>\n",
       "      <th>Fair</th>\n",
       "      <td>1</td>\n",
       "      <td>0</td>\n",
       "      <td>1</td>\n",
       "      <td>0</td>\n",
       "      <td>1</td>\n",
       "      <td>1</td>\n",
       "      <td>1</td>\n",
       "      <td>1</td>\n",
       "      <td>1</td>\n",
       "      <td>1</td>\n",
       "      <td>...</td>\n",
       "      <td>0</td>\n",
       "      <td>1</td>\n",
       "      <td>1</td>\n",
       "      <td>1</td>\n",
       "      <td>0</td>\n",
       "      <td>0</td>\n",
       "      <td>0</td>\n",
       "      <td>0</td>\n",
       "      <td>1</td>\n",
       "      <td>0.50</td>\n",
       "    </tr>\n",
       "    <tr>\n",
       "      <th>Biased</th>\n",
       "      <td>0</td>\n",
       "      <td>0</td>\n",
       "      <td>0</td>\n",
       "      <td>0</td>\n",
       "      <td>0</td>\n",
       "      <td>0</td>\n",
       "      <td>0</td>\n",
       "      <td>0</td>\n",
       "      <td>0</td>\n",
       "      <td>1</td>\n",
       "      <td>...</td>\n",
       "      <td>1</td>\n",
       "      <td>0</td>\n",
       "      <td>1</td>\n",
       "      <td>0</td>\n",
       "      <td>0</td>\n",
       "      <td>1</td>\n",
       "      <td>1</td>\n",
       "      <td>1</td>\n",
       "      <td>1</td>\n",
       "      <td>0.41</td>\n",
       "    </tr>\n",
       "  </tbody>\n",
       "</table>\n",
       "<p>2 rows × 101 columns</p>\n",
       "</div>"
      ],
      "text/plain": [
       "        0  1  2  3  4  5  6  7  8  9  ...  91  92  93  94  95  96  97  98  99  \\\n",
       "Fair    1  0  1  0  1  1  1  1  1  1  ...   0   1   1   1   0   0   0   0   1   \n",
       "Biased  0  0  0  0  0  0  0  0  0  1  ...   1   0   1   0   0   1   1   1   1   \n",
       "\n",
       "         ave  \n",
       "Fair    0.50  \n",
       "Biased  0.41  \n",
       "\n",
       "[2 rows x 101 columns]"
      ]
     },
     "execution_count": 232,
     "metadata": {},
     "output_type": "execute_result"
    }
   ],
   "source": [
    "df['ave']= df.mean(axis=1)\n",
    "df"
   ]
  },
  {
   "cell_type": "code",
   "execution_count": null,
   "id": "8bccebf0-f08a-43e4-b708-df463d5a6e75",
   "metadata": {},
   "outputs": [],
   "source": []
  },
  {
   "cell_type": "code",
   "execution_count": 336,
   "id": "3b113c75-9496-4697-a21a-c0ed69be1abc",
   "metadata": {},
   "outputs": [],
   "source": [
    "import random as rd"
   ]
  },
  {
   "cell_type": "code",
   "execution_count": 338,
   "id": "36fab4a2-a6b3-4174-bd5f-97416d76d381",
   "metadata": {},
   "outputs": [],
   "source": [
    "import statistics as st"
   ]
  },
  {
   "cell_type": "code",
   "execution_count": 354,
   "id": "32e207f8-519a-4731-b6f6-2bb2e524516c",
   "metadata": {},
   "outputs": [
    {
     "data": {
      "text/plain": [
       "[<matplotlib.lines.Line2D at 0x2421e67e7f0>]"
      ]
     },
     "execution_count": 354,
     "metadata": {},
     "output_type": "execute_result"
    }
   ],
   "source": [
    "#X= [rd.random() for i in range(100)]\n",
    "#X= [rd.uniform(10,20) for i in range(100)]\n",
    "#X= [rd.triangular(10, 20, 15) for i in range(100)]\n",
    "X= [rd.normalvariate(100, 10) for i in range(1000)]\n",
    "#X= [rd.lognormvariate(100, 10) for i in range(1000)]\n",
    "#X= [math.log(x) for x in X]\n",
    "\n",
    "X.sort()\n",
    "pl.plot(X)"
   ]
  },
  {
   "cell_type": "code",
   "execution_count": 357,
   "id": "fea68ce6-475a-4a4e-9f37-e232b19f01a7",
   "metadata": {},
   "outputs": [
    {
     "data": {
      "image/png": "[encoded data removed]",
      "text/latex": [
       "$\\displaystyle 100.08896277748$"
      ],
      "text/plain": [
       "100.08896277747995"
      ]
     },
     "execution_count": 357,
     "metadata": {},
     "output_type": "execute_result"
    }
   ],
   "source": [
    "st.mean(X)"
   ]
  },
  {
   "cell_type": "code",
   "execution_count": 358,
   "id": "06910268-42a6-4300-afee-127e4105b5fe",
   "metadata": {},
   "outputs": [
    {
     "data": {
      "image/png": "[encoded data removed]",
      "text/latex": [
       "$\\displaystyle 10.2218645659381$"
      ],
      "text/plain": [
       "10.221864565938134"
      ]
     },
     "execution_count": 358,
     "metadata": {},
     "output_type": "execute_result"
    }
   ],
   "source": [
    "st.stdev(X)"
   ]
  },
  {
   "cell_type": "code",
   "execution_count": 359,
   "id": "8647b917-f153-4b73-85d2-1512b0027cd2",
   "metadata": {},
   "outputs": [
    {
     "data": {
      "image/png": "[encoded data removed]",
      "text/latex": [
       "$\\displaystyle 100.08896277748$"
      ],
      "text/plain": [
       "100.08896277747995"
      ]
     },
     "execution_count": 359,
     "metadata": {},
     "output_type": "execute_result"
    }
   ],
   "source": [
    "np.mean(X)"
   ]
  },
  {
   "cell_type": "code",
   "execution_count": 360,
   "id": "05d80eda-8d06-4cb8-954e-ea6df7c7cbe7",
   "metadata": {},
   "outputs": [
    {
     "data": {
      "image/png": "[encoded data removed]",
      "text/latex": [
       "$\\displaystyle 10.2167523552828$"
      ],
      "text/plain": [
       "10.216752355282829"
      ]
     },
     "execution_count": 360,
     "metadata": {},
     "output_type": "execute_result"
    }
   ],
   "source": [
    "np.std(X)"
   ]
  },
  {
   "cell_type": "code",
   "execution_count": 361,
   "id": "b16e17b7-5541-4cc1-8fc6-0876376ef46e",
   "metadata": {
    "collapsed": true,
    "jupyter": {
     "outputs_hidden": true
    },
    "tags": []
   },
   "outputs": [
    {
     "data": {
      "text/plain": [
       "\u001b[1;31mSignature:\u001b[0m\n",
       "\u001b[0mnp\u001b[0m\u001b[1;33m.\u001b[0m\u001b[0mhistogram2d\u001b[0m\u001b[1;33m(\u001b[0m\u001b[1;33m\n",
       "\u001b[0m    \u001b[0mx\u001b[0m\u001b[1;33m,\u001b[0m\u001b[1;33m\n",
       "\u001b[0m    \u001b[0my\u001b[0m\u001b[1;33m,\u001b[0m\u001b[1;33m\n",
       "\u001b[0m    \u001b[0mbins\u001b[0m\u001b[1;33m=\u001b[0m\u001b[1;36m10\u001b[0m\u001b[1;33m,\u001b[0m\u001b[1;33m\n",
       "\u001b[0m    \u001b[0mrange\u001b[0m\u001b[1;33m=\u001b[0m\u001b[1;32mNone\u001b[0m\u001b[1;33m,\u001b[0m\u001b[1;33m\n",
       "\u001b[0m    \u001b[0mnormed\u001b[0m\u001b[1;33m=\u001b[0m\u001b[1;32mNone\u001b[0m\u001b[1;33m,\u001b[0m\u001b[1;33m\n",
       "\u001b[0m    \u001b[0mweights\u001b[0m\u001b[1;33m=\u001b[0m\u001b[1;32mNone\u001b[0m\u001b[1;33m,\u001b[0m\u001b[1;33m\n",
       "\u001b[0m    \u001b[0mdensity\u001b[0m\u001b[1;33m=\u001b[0m\u001b[1;32mNone\u001b[0m\u001b[1;33m,\u001b[0m\u001b[1;33m\n",
       "\u001b[0m\u001b[1;33m)\u001b[0m\u001b[1;33m\u001b[0m\u001b[1;33m\u001b[0m\u001b[0m\n",
       "\u001b[1;31mDocstring:\u001b[0m\n",
       "Compute the bi-dimensional histogram of two data samples.\n",
       "\n",
       "Parameters\n",
       "----------\n",
       "x : array_like, shape (N,)\n",
       "    An array containing the x coordinates of the points to be\n",
       "    histogrammed.\n",
       "y : array_like, shape (N,)\n",
       "    An array containing the y coordinates of the points to be\n",
       "    histogrammed.\n",
       "bins : int or array_like or [int, int] or [array, array], optional\n",
       "    The bin specification:\n",
       "\n",
       "      * If int, the number of bins for the two dimensions (nx=ny=bins).\n",
       "      * If array_like, the bin edges for the two dimensions\n",
       "        (x_edges=y_edges=bins).\n",
       "      * If [int, int], the number of bins in each dimension\n",
       "        (nx, ny = bins).\n",
       "      * If [array, array], the bin edges in each dimension\n",
       "        (x_edges, y_edges = bins).\n",
       "      * A combination [int, array] or [array, int], where int\n",
       "        is the number of bins and array is the bin edges.\n",
       "\n",
       "range : array_like, shape(2,2), optional\n",
       "    The leftmost and rightmost edges of the bins along each dimension\n",
       "    (if not specified explicitly in the `bins` parameters):\n",
       "    ``[[xmin, xmax], [ymin, ymax]]``. All values outside of this range\n",
       "    will be considered outliers and not tallied in the histogram.\n",
       "density : bool, optional\n",
       "    If False, the default, returns the number of samples in each bin.\n",
       "    If True, returns the probability *density* function at the bin,\n",
       "    ``bin_count / sample_count / bin_area``.\n",
       "normed : bool, optional\n",
       "    An alias for the density argument that behaves identically. To avoid\n",
       "    confusion with the broken normed argument to `histogram`, `density`\n",
       "    should be preferred.\n",
       "weights : array_like, shape(N,), optional\n",
       "    An array of values ``w_i`` weighing each sample ``(x_i, y_i)``.\n",
       "    Weights are normalized to 1 if `normed` is True. If `normed` is\n",
       "    False, the values of the returned histogram are equal to the sum of\n",
       "    the weights belonging to the samples falling into each bin.\n",
       "\n",
       "Returns\n",
       "-------\n",
       "H : ndarray, shape(nx, ny)\n",
       "    The bi-dimensional histogram of samples `x` and `y`. Values in `x`\n",
       "    are histogrammed along the first dimension and values in `y` are\n",
       "    histogrammed along the second dimension.\n",
       "xedges : ndarray, shape(nx+1,)\n",
       "    The bin edges along the first dimension.\n",
       "yedges : ndarray, shape(ny+1,)\n",
       "    The bin edges along the second dimension.\n",
       "\n",
       "See Also\n",
       "--------\n",
       "histogram : 1D histogram\n",
       "histogramdd : Multidimensional histogram\n",
       "\n",
       "Notes\n",
       "-----\n",
       "When `normed` is True, then the returned histogram is the sample\n",
       "density, defined such that the sum over bins of the product\n",
       "``bin_value * bin_area`` is 1.\n",
       "\n",
       "Please note that the histogram does not follow the Cartesian convention\n",
       "where `x` values are on the abscissa and `y` values on the ordinate\n",
       "axis.  Rather, `x` is histogrammed along the first dimension of the\n",
       "array (vertical), and `y` along the second dimension of the array\n",
       "(horizontal).  This ensures compatibility with `histogramdd`.\n",
       "\n",
       "Examples\n",
       "--------\n",
       ">>> from matplotlib.image import NonUniformImage\n",
       ">>> import matplotlib.pyplot as plt\n",
       "\n",
       "Construct a 2-D histogram with variable bin width. First define the bin\n",
       "edges:\n",
       "\n",
       ">>> xedges = [0, 1, 3, 5]\n",
       ">>> yedges = [0, 2, 3, 4, 6]\n",
       "\n",
       "Next we create a histogram H with random bin content:\n",
       "\n",
       ">>> x = np.random.normal(2, 1, 100)\n",
       ">>> y = np.random.normal(1, 1, 100)\n",
       ">>> H, xedges, yedges = np.histogram2d(x, y, bins=(xedges, yedges))\n",
       ">>> H = H.T  # Let each row list bins with common y range.\n",
       "\n",
       ":func:`imshow <matplotlib.pyplot.imshow>` can only display square bins:\n",
       "\n",
       ">>> fig = plt.figure(figsize=(7, 3))\n",
       ">>> ax = fig.add_subplot(131, title='imshow: square bins')\n",
       ">>> plt.imshow(H, interpolation='nearest', origin='lower',\n",
       "...         extent=[xedges[0], xedges[-1], yedges[0], yedges[-1]])\n",
       "<matplotlib.image.AxesImage object at 0x...>\n",
       "\n",
       ":func:`pcolormesh <matplotlib.pyplot.pcolormesh>` can display actual edges:\n",
       "\n",
       ">>> ax = fig.add_subplot(132, title='pcolormesh: actual edges',\n",
       "...         aspect='equal')\n",
       ">>> X, Y = np.meshgrid(xedges, yedges)\n",
       ">>> ax.pcolormesh(X, Y, H)\n",
       "<matplotlib.collections.QuadMesh object at 0x...>\n",
       "\n",
       ":class:`NonUniformImage <matplotlib.image.NonUniformImage>` can be used to\n",
       "display actual bin edges with interpolation:\n",
       "\n",
       ">>> ax = fig.add_subplot(133, title='NonUniformImage: interpolated',\n",
       "...         aspect='equal', xlim=xedges[[0, -1]], ylim=yedges[[0, -1]])\n",
       ">>> im = NonUniformImage(ax, interpolation='bilinear')\n",
       ">>> xcenters = (xedges[:-1] + xedges[1:]) / 2\n",
       ">>> ycenters = (yedges[:-1] + yedges[1:]) / 2\n",
       ">>> im.set_data(xcenters, ycenters, H)\n",
       ">>> ax.images.append(im)\n",
       ">>> plt.show()\n",
       "\u001b[1;31mFile:\u001b[0m      m:\\programdata\\anaconda3\\lib\\site-packages\\numpy\\lib\\twodim_base.py\n",
       "\u001b[1;31mType:\u001b[0m      function\n"
      ]
     },
     "metadata": {},
     "output_type": "display_data"
    }
   ],
   "source": [
    "np.histogram2d?"
   ]
  },
  {
   "cell_type": "markdown",
   "id": "eb208488-bd0c-4c3b-b1ab-deb40ab051d8",
   "metadata": {},
   "source": [
    "# VIDEO: Building distributions from random numbers\n"
   ]
  },
  {
   "cell_type": "code",
   "execution_count": 710,
   "id": "7d4b9db4-a224-40dd-89a3-429269a15ee8",
   "metadata": {},
   "outputs": [],
   "source": [
    "# review of normal distribution\n",
    "\n",
    "shift = 5\n",
    "stretch = 2\n",
    "n = 1000\n",
    "\n",
    "pnts = np.random.randn(n)*stretch + shift\n",
    "print('Mean of %g, std of %g' %(np.mean(pnts),np.std(pnts)))"
   ]
  },
  {
   "cell_type": "code",
   "execution_count": 721,
   "id": "2949b2dc-d94b-4d4c-bb80-afc9ed7690ac",
   "metadata": {},
   "outputs": [],
   "source": [
    "n= 1000\n",
    "X= np.random.normal(size= n)\n",
    "\n",
    "fig,ax = plt.subplots(1, 2,figsize=(6,3))\n",
    "ax[0].plot(X,'r.',alpha=.5)\n",
    "\n",
    "X.sort()\n",
    "ax[0].plot(X,'g.',alpha=.3)\n",
    "\n",
    "f,x= np.histogram(X, bins=20)\n",
    "x= x[:-1]\n",
    "ax[1].barh(x,f,  height= .2, color='r', alpha=.5)\n",
    "\n",
    "F= f.cumsum()\n",
    "ax[1].barh(x, F,  height= .2, color= 'g', alpha=.3)\n",
    "\n",
    "plt.show()"
   ]
  },
  {
   "cell_type": "code",
   "execution_count": 733,
   "id": "615bc62a-f722-4c5d-8be3-9e27c5824ba5",
   "metadata": {},
   "outputs": [],
   "source": [
    "n= 1000\n",
    "\n",
    "t= np.arange(n)\n",
    "X= np.random.normal(size= n)\n",
    "\n",
    "fig,ax = plt.subplots(2, 1,figsize=(6,3))\n",
    "ax[0].plot(X,t,'r.',alpha=.5)\n",
    "\n",
    "X1= X.copy()\n",
    "X1.sort()\n",
    "ax[0].plot(X1,t,'g.',alpha=.3)\n",
    "\n",
    "ax[0].set_xlabel('X')\n",
    "ax[0].set_ylabel('t')\n",
    "ax[0].legend(['X','X1= X.sort()'])\n",
    "ax[0].set_title('X= X(t), X1= X.sort()')\n",
    "\n",
    "\n",
    "f,x= np.histogram(X, bins=20)\n",
    "x= x[:-1]\n",
    "ax[1].bar(x, f, width= .2, color='r', alpha=.5)\n",
    "\n",
    "F= f.cumsum()\n",
    "ax[1].bar(x, F, width= .2, color= 'g', alpha=.3)\n",
    "\n",
    "ax[1].set_xlabel('x')\n",
    "ax[1].set_ylabel('f, F')\n",
    "#ax[1].set_label(['f','F'])\n",
    "ax[1].legend(['f','F'])\n",
    "\n",
    "ax[1].set_title('f= f(x), F= f.cumsum()')\n",
    "\n",
    "\n",
    "plt.show()"
   ]
  },
  {
   "cell_type": "code",
   "execution_count": 776,
   "id": "21d84dc0-af54-4ae6-a282-a7a5bbd75db7",
   "metadata": {},
   "outputs": [],
   "source": [
    "#np.random.randint?"
   ]
  },
  {
   "cell_type": "code",
   "execution_count": 785,
   "id": "99b2ce31-5737-41ee-b285-294462f6f002",
   "metadata": {},
   "outputs": [],
   "source": [
    "# 打包起來\n",
    "\n",
    "def ryDistribution_demo(distributionType= 'normal', sampleSize= 1000):\n",
    "    \n",
    "    #sampleSize= 1000\n",
    "\n",
    "    t= np.arange(sampleSize)\n",
    "    \n",
    "    if distributionType in ['normal','gauss','gaussian']:\n",
    "        X= np.random.normal(size= sampleSize)\n",
    "    elif distributionType == 'uniform':\n",
    "        X= np.random.uniform(0,10, size= sampleSize)\n",
    "    elif distributionType == 'binomial':\n",
    "        X= np.random.binomial(n=10, p=.5, size= sampleSize)\n",
    "    elif distributionType == 'poisson':\n",
    "        X= np.random.poisson(lam=5, size= sampleSize)\n",
    "    elif distributionType == 'uniform_d':\n",
    "        X= np.random.randint(low= 0, high= 10, size= sampleSize)\n",
    "    else: # 以上皆非時，以下 sin() 取代\n",
    "        X= np.sin(t/sampleSize*2*np.pi)\n",
    "        X += np.sin(t/sampleSize*2*np.pi *2)\n",
    "        X += np.sin(t/sampleSize*2*np.pi *3)\n",
    "        \n",
    "    #X= X*X\n",
    "\n",
    "    fig,ax = plt.subplots(3, 1,figsize=(6,3))\n",
    "    ax[0].plot(t,X,'r.',alpha=.5)\n",
    "\n",
    "    X1= X.copy()\n",
    "    X1.sort()\n",
    "\n",
    "    ax[0].plot(t,X1,'g.',alpha=.3)\n",
    "\n",
    "    ax[0].set_xlabel('t')\n",
    "    ax[0].set_ylabel('X')\n",
    "    ax[0].legend(['X','X1= X.sort()'])\n",
    "    ax[0].set_title(f'{distributionType}, X= X(t)')\n",
    "\n",
    "    ax[1].plot(X,t,'r.',alpha=.5)\n",
    "    ax[1].plot(X1,t,'g.',alpha=.3)\n",
    "\n",
    "    ax[1].set_xlabel('X')\n",
    "    ax[1].set_ylabel('t')\n",
    "    ax[1].legend(['X','X1= X.sort()'])\n",
    "    ax[1].set_title('$t= t(X)=X^{-1}(X(t))$, t in vertical, X in horizontal')\n",
    "\n",
    "    # 針對離散型，也許 nbins 要精細一點計算\n",
    "    nbins= len(set(X))\n",
    "    nbins= min(nbins, 20)\n",
    "    \n",
    "    f, x= np.histogram(X, bins= nbins)\n",
    "    x= x[:-1] # 原本的 x 比 f 多 1 點，故在此把它弄掉\n",
    "    \n",
    "    xwidth=  (X.max()-X.min())/nbins/2\n",
    "    \n",
    "    ax[2].bar(x, f, width= xwidth, color='r', alpha=.5)\n",
    "\n",
    "    F= f.cumsum()\n",
    "    ax[2].bar(x, F, width= xwidth, color= 'g', alpha=.3)\n",
    "\n",
    "    ax[2].set_xlabel('x')\n",
    "    ax[2].set_ylabel('f, F')\n",
    "    ax[2].legend(['f','F= f.cumsum()'])\n",
    "    ax[2].set_title('f= histogram(X)= f(x)')\n",
    "\n",
    "\n",
    "    plt.show()\n",
    "    \n",
    "# ryDistribution_demo('uniform', 100)\n",
    "# ryDistribution_demo('uniform', 1000)\n",
    "ryDistribution_demo('normal', 1000)\n",
    "#ryDistribution_demo('uniform_d', 1000)\n",
    "#ryDistribution_demo('binomial', 1000)\n",
    "#ryDistribution_demo('poisson', 1000)\n",
    "#ryDistribution_demo('xxx', 1000)\n",
    "\n"
   ]
  },
  {
   "cell_type": "code",
   "execution_count": null,
   "id": "f8a8d360-85cb-4538-8a61-4f0549d9f857",
   "metadata": {},
   "outputs": [],
   "source": []
  },
  {
   "cell_type": "code",
   "execution_count": null,
   "id": "49fcbbbd-b88a-4839-b17b-459a2568e21d",
   "metadata": {},
   "outputs": [],
   "source": []
  },
  {
   "cell_type": "code",
   "execution_count": null,
   "id": "11b466cf-a2dc-4530-8a46-3f1bef594026",
   "metadata": {},
   "outputs": [],
   "source": []
  },
  {
   "cell_type": "code",
   "execution_count": 761,
   "id": "7fa0b3da-9494-432e-8286-019c078b217b",
   "metadata": {},
   "outputs": [],
   "source": [
    "\n",
    "#plt.hist?\n",
    "#plt.barh?"
   ]
  },
  {
   "cell_type": "code",
   "execution_count": null,
   "id": "07c0b153-80b9-4ce3-ac86-dc1f844e0978",
   "metadata": {},
   "outputs": [],
   "source": []
  }
 ],
 "metadata": {
  "kernelspec": {
   "display_name": "Python 3",
   "language": "python",
   "name": "python3"
  },
  "language_info": {
   "codemirror_mode": {
    "name": "ipython",
    "version": 3
   },
   "file_extension": ".py",
   "mimetype": "text/x-python",
   "name": "python",
   "nbconvert_exporter": "python",
   "pygments_lexer": "ipython3",
   "version": "3.8.8"
  }
 },
 "nbformat": 4,
 "nbformat_minor": 5
}
