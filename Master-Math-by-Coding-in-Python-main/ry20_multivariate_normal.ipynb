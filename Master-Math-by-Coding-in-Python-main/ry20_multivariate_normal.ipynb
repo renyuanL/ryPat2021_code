{
 "cells": [
  {
   "cell_type": "code",
   "execution_count": 1,
   "id": "55363179-d7ed-4f0a-bba9-2904ca42face",
   "metadata": {},
   "outputs": [],
   "source": [
    "from ryPat import *\n"
   ]
  },
  {
   "cell_type": "code",
   "execution_count": 79,
   "id": "ebb88e6f-e890-43d5-b822-7d0fbbe5e1d9",
   "metadata": {},
   "outputs": [
    {
     "data": {
      "text/plain": [
       "<matplotlib.contour.QuadContourSet at 0x2944cc1b0d0>"
      ]
     },
     "execution_count": 79,
     "metadata": {},
     "output_type": "execute_result"
    }
   ],
   "source": [
    "#st.multivariate_normal?\n",
    "\n",
    "# 先測試一下 .pdf(x= [?,?])\n",
    "\n",
    "st.multivariate_normal.pdf([0,0])\n",
    "\n",
    "dx= .01\n",
    "xx,yy= np.mgrid[-5:5+dx:dx, -5:5+dx:dx]\n",
    "zz= st.multivariate_normal.pdf([xx[0,0],yy[0,0]])\n",
    "zz\n",
    "\n",
    "xx.shape\n",
    "\n",
    "yy.shape\n",
    "\n",
    "# 如何 把 xx[:,:] 與 yy[:,:] 疊起來 變成 zz[:,:,2]\n",
    "# 這樣 zz 可視為由 2-d vectors 形成的 矩陣，\n",
    "# 整個矩陣就可直接丟進去 .pdf(z[:,:,2], mean= [?,?], cov=[[?,?],[?,?]])\n",
    "\n",
    "zz= np.stack([xx,yy], axis= -1)\n",
    "zz.shape\n",
    "\n",
    "ff= st.multivariate_normal.pdf(\n",
    "    zz, \n",
    "    mean= [0,0], \n",
    "    cov= [[1,0],\n",
    "          [0,1]])\n",
    "ff.shape\n",
    "\n",
    "# Gamma Function on Complex numbers\n",
    "import numpy as np\n",
    "import scipy.special as sc\n",
    "\n",
    "%matplotlib qt\n",
    "import matplotlib.pyplot as pl\n",
    "import mpl_toolkits\n",
    "\n",
    "ax= pl.axes(projection='3d', \n",
    "            xlabel='x', \n",
    "            ylabel='y',\n",
    "            title= 'z= f(x,y)= multivariate_normal.pdf(x,y)'\n",
    "           )\n",
    "ax.contour3D(xx,yy,ff, \n",
    "             100,\n",
    "             cmap='rainbow'\n",
    "            )"
   ]
  },
  {
   "cell_type": "code",
   "execution_count": 121,
   "id": "8f96a875-9272-4724-8b9e-8578bef092ee",
   "metadata": {},
   "outputs": [
    {
     "data": {
      "text/plain": [
       "<matplotlib.contour.QuadContourSet at 0x29473a46910>"
      ]
     },
     "execution_count": 121,
     "metadata": {},
     "output_type": "execute_result"
    }
   ],
   "source": [
    "# 改變 cov 看一看，那是從 1d 延伸到 2d 最主要的不同點\n",
    "\n",
    "ryCov= [[1, 0],\n",
    "        [0, 1]]\n",
    "#\n",
    "# cov matrix 不能亂設\n",
    "# the input matrix must be positive semidefinite\n",
    "#\n",
    "\n",
    "ff= st.multivariate_normal.pdf(\n",
    "    zz, \n",
    "    mean= [0,0], \n",
    "    cov=  ryCov)\n",
    "ax= pl.axes(projection='3d', \n",
    "            xlabel='x', \n",
    "            ylabel='y',\n",
    "            title= 'z= f(x,y)= multivariate_normal.pdf(x,y)'\n",
    "           )\n",
    "ax.contour3D(xx,yy,ff, \n",
    "             100,\n",
    "             cmap='rainbow'\n",
    "            )"
   ]
  },
  {
   "cell_type": "code",
   "execution_count": 141,
   "id": "12f43d25-61d2-43ca-8b39-b97842a8dec2",
   "metadata": {},
   "outputs": [],
   "source": [
    "# 山巒起伏的多峰常態分布，cov 維持一致\n",
    "\n",
    "dx= .01\n",
    "xx,yy= np.mgrid[-5:5+dx:dx, -5:5+dx:dx]\n",
    "zz= np.stack([xx,yy], axis= -1)\n",
    "zz.shape\n",
    "\n",
    "ff= np.zeros_like(xx)\n",
    "\n",
    "locations= [\n",
    "  [ 0,  0],\n",
    "  [ 2,  0],\n",
    "  [ 0,  3],\n",
    "  [-4,  0],\n",
    "  [-2, -3],\n",
    "  [ 3, -2]]\n",
    "    \n",
    "for μ in locations:        \n",
    "    ff += st.multivariate_normal.pdf(\n",
    "        zz, \n",
    "        mean= μ, \n",
    "        cov=  ryCov\n",
    "        ) *1/len(locations)\n",
    "\n",
    "ax= pl.axes(projection='3d', \n",
    "            xlabel='x', \n",
    "            ylabel='y',\n",
    "            title= 'z= Σf(x,y)*1/N'\n",
    "           )\n",
    "ax.contour3D(xx,yy,ff, \n",
    "             100,\n",
    "             cmap='rainbow'\n",
    "            )"
   ]
  },
  {
   "cell_type": "code",
   "execution_count": null,
   "id": "ce769c2d-2205-497a-8ef1-005de47a3f31",
   "metadata": {},
   "outputs": [],
   "source": []
  },
  {
   "cell_type": "code",
   "execution_count": 145,
   "id": "2b527193-0ded-4af8-b12b-8d97d121b767",
   "metadata": {},
   "outputs": [
    {
     "data": {
      "text/plain": [
       "<matplotlib.contour.QuadContourSet at 0x2949a5639a0>"
      ]
     },
     "execution_count": 145,
     "metadata": {},
     "output_type": "execute_result"
    }
   ],
   "source": [
    "# 山巒起伏的多峰常態分布，連 cov 也可變換\n",
    "\n",
    "dx= .01\n",
    "xx,yy= np.mgrid[-5:5+dx:dx, -5:5+dx:dx]\n",
    "zz= np.stack([xx,yy], axis= -1)\n",
    "zz.shape\n",
    "\n",
    "ff= np.zeros_like(xx)\n",
    "\n",
    "locations= [\n",
    "  [ 0,  0],\n",
    "  [ 2,  0],\n",
    "  [ 0,  3],\n",
    "  [-4,  0],\n",
    "  [-2, -3],\n",
    "  [ 3, -2]]\n",
    "\n",
    "covs= [\n",
    "    [[1,0], \n",
    "     [0,1]],\n",
    "    \n",
    "    [[1,0], \n",
    "     [0,2]],\n",
    "    \n",
    "    [[2,0], \n",
    "     [0,1]],\n",
    "    \n",
    "    [[1,1/2], \n",
    "     [1/2,1]],\n",
    "    \n",
    "    [[1,-1/2], \n",
    "     [-1/2,1]],\n",
    "    \n",
    "    [[1,-1/2], \n",
    "     [-1/4,1]]\n",
    "    ]\n",
    "    \n",
    "for μ, c in zip(locations, covs):        \n",
    "    ff += st.multivariate_normal.pdf(\n",
    "        zz, \n",
    "        mean= μ, \n",
    "        cov=  c,\n",
    "        ) *1/len(locations)\n",
    "\n",
    "pl.figure()\n",
    "ax= pl.axes(projection='3d', \n",
    "            xlabel='x', \n",
    "            ylabel='y',\n",
    "            title= 'z= Σf(x,y)*1/N'\n",
    "           )\n",
    "ax.contour3D(xx,yy,ff, \n",
    "             100,\n",
    "             cmap='rainbow'\n",
    "            )"
   ]
  },
  {
   "cell_type": "code",
   "execution_count": null,
   "id": "9a238060-5fe4-4aeb-b334-2dfaeb422ce7",
   "metadata": {},
   "outputs": [],
   "source": []
  }
 ],
 "metadata": {
  "kernelspec": {
   "display_name": "Python 3",
   "language": "python",
   "name": "python3"
  },
  "language_info": {
   "codemirror_mode": {
    "name": "ipython",
    "version": 3
   },
   "file_extension": ".py",
   "mimetype": "text/x-python",
   "name": "python",
   "nbconvert_exporter": "python",
   "pygments_lexer": "ipython3",
   "version": "3.8.8"
  }
 },
 "nbformat": 4,
 "nbformat_minor": 5
}
