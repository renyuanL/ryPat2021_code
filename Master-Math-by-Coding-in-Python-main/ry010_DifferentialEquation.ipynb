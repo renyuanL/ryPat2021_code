{
 "cells": [
  {
   "cell_type": "code",
   "execution_count": 2,
   "id": "c8400b2a-608a-48ea-9b5b-7809c8bdd5bf",
   "metadata": {},
   "outputs": [],
   "source": [
    "from ryPat import *\n"
   ]
  },
  {
   "cell_type": "code",
   "execution_count": 31,
   "id": "a41a8456-b3dc-4a7e-b3fe-9a134e7580c7",
   "metadata": {},
   "outputs": [
    {
     "data": {
      "text/plain": [
       "f"
      ]
     },
     "execution_count": 31,
     "metadata": {},
     "output_type": "execute_result"
    }
   ],
   "source": [
    "#%%\n",
    "# Solve the differential equation y\" − y = e^x.\n",
    "#\n",
    "f= sm.Function('f')\n",
    "f"
   ]
  },
  {
   "cell_type": "code",
   "execution_count": 32,
   "id": "d0876ff2-2708-43ff-93e3-ac64a069fcc4",
   "metadata": {},
   "outputs": [
    {
     "data": {
      "image/png": "[encoded data removed]",
      "text/latex": [
       "$\\displaystyle - f{\\left(x \\right)} + \\frac{d^{2}}{d x^{2}} f{\\left(x \\right)} = e^{x}$"
      ],
      "text/plain": [
       "          2           \n",
       "         d           x\n",
       "-f(x) + ───(f(x)) = ℯ \n",
       "          2           \n",
       "        dx            "
      ]
     },
     "execution_count": 32,
     "metadata": {},
     "output_type": "execute_result"
    }
   ],
   "source": [
    "dEq= sm.Eq(\n",
    "    f(x).diff(x, 2) - f(x), \n",
    "    sm.exp(x)\n",
    ")\n",
    "dEq"
   ]
  },
  {
   "cell_type": "code",
   "execution_count": 33,
   "id": "73fff08e-31b4-482b-b035-c477fca78647",
   "metadata": {},
   "outputs": [
    {
     "data": {
      "image/png": "[encoded data removed]",
      "text/latex": [
       "$\\displaystyle f{\\left(x \\right)} = C_{2} e^{- x} + \\left(C_{1} + \\frac{x}{2}\\right) e^{x}$"
      ],
      "text/plain": [
       "           -x   ⎛     x⎞  x\n",
       "f(x) = C₂⋅ℯ   + ⎜C₁ + ─⎟⋅ℯ \n",
       "                ⎝     2⎠   "
      ]
     },
     "execution_count": 33,
     "metadata": {},
     "output_type": "execute_result"
    }
   ],
   "source": [
    "通解= sm.dsolve(dEq, f(x))\n",
    "通解"
   ]
  },
  {
   "cell_type": "code",
   "execution_count": 35,
   "id": "5c13f7a6-3a2b-4580-bf97-2fe7215e7881",
   "metadata": {},
   "outputs": [
    {
     "data": {
      "image/png": "[encoded data removed]",
      "text/latex": [
       "$\\displaystyle \\left( f{\\left(x \\right)}, \\  C_{2} e^{- x} + \\left(C_{1} + \\frac{x}{2}\\right) e^{x}\\right)$"
      ],
      "text/plain": [
       "⎛          -x   ⎛     x⎞  x⎞\n",
       "⎜f(x), C₂⋅ℯ   + ⎜C₁ + ─⎟⋅ℯ ⎟\n",
       "⎝               ⎝     2⎠   ⎠"
      ]
     },
     "execution_count": 35,
     "metadata": {},
     "output_type": "execute_result"
    }
   ],
   "source": [
    "通解.lhs, 通解.rhs"
   ]
  },
  {
   "cell_type": "code",
   "execution_count": 38,
   "id": "039bd014-9b19-4363-b92a-a0a60756090d",
   "metadata": {},
   "outputs": [
    {
     "data": {
      "image/png": "[encoded data removed]",
      "text/latex": [
       "$\\displaystyle f{\\left(x \\right)} = \\left(\\frac{x}{2} + 10\\right) e^{x} + 20 e^{- x}$"
      ],
      "text/plain": [
       "       ⎛x     ⎞  x       -x\n",
       "f(x) = ⎜─ + 10⎟⋅ℯ  + 20⋅ℯ  \n",
       "       ⎝2     ⎠            "
      ]
     },
     "execution_count": 38,
     "metadata": {},
     "output_type": "execute_result"
    }
   ],
   "source": [
    "#%%\n",
    "# 通解 中 有 C1, C2，為任意常數，(放在上式的右邊 right-hand-side (rhs))\n",
    "# 可試著代入 整數 C1=10, C2=20 試試看\n",
    "\n",
    "y= 通解.subs(\n",
    "        {'C1':10, 'C2':20})\n",
    "y"
   ]
  },
  {
   "cell_type": "code",
   "execution_count": 42,
   "id": "60c90b4b-633b-4530-9855-da21406f556d",
   "metadata": {},
   "outputs": [
    {
     "data": {
      "image/png": "[encoded data removed]",
      "text/latex": [
       "$\\displaystyle C_{2} e^{- x} + \\left(C_{1} + \\frac{x}{2}\\right) e^{x}$"
      ],
      "text/plain": [
       "    -x   ⎛     x⎞  x\n",
       "C₂⋅ℯ   + ⎜C₁ + ─⎟⋅ℯ \n",
       "         ⎝     2⎠   "
      ]
     },
     "execution_count": 42,
     "metadata": {},
     "output_type": "execute_result"
    }
   ],
   "source": [
    "# 解微分方程的 SOP 告訴我們提供 初始條件, \n",
    "#e.g., f(0)= 某數值 v0， f'(0)= 某數值 v1\n",
    "# 將可靠解 方程組 來 求出 C1, C2，如下範例：\n",
    "#%%\n",
    "# with initial conditions\n",
    "# y(0) = 0\n",
    "# y'(0)=10\n",
    "\n",
    "y= 通解.rhs\n",
    "y"
   ]
  },
  {
   "cell_type": "code",
   "execution_count": 43,
   "id": "a408656d-d5f6-46e5-a962-30f58ff31795",
   "metadata": {},
   "outputs": [
    {
     "data": {
      "image/png": "[encoded data removed]",
      "text/latex": [
       "$\\displaystyle \\left( C_{1} + C_{2} = 0, \\  C_{1} - C_{2} + \\frac{1}{2} = 10\\right)$"
      ],
      "text/plain": [
       "(C₁ + C₂ = 0, C₁ - C₂ + 1/2 = 10)"
      ]
     },
     "execution_count": 43,
     "metadata": {},
     "output_type": "execute_result"
    }
   ],
   "source": [
    "eq1= sm.Eq(y.subs(x,0),0)\n",
    "eq2= sm.Eq(y.diff(x).subs(x,0),10)\n",
    "eq1, eq2"
   ]
  },
  {
   "cell_type": "code",
   "execution_count": 46,
   "id": "ef365895-f2a8-452b-a42b-8d806d16b293",
   "metadata": {},
   "outputs": [
    {
     "data": {
      "image/png": "[encoded data removed]",
      "text/latex": [
       "$\\displaystyle \\left\\{ C_{1} : \\frac{19}{4}, \\  C_{2} : - \\frac{19}{4}\\right\\}$"
      ],
      "text/plain": [
       "{C₁: 19/4, C₂: -19/4}"
      ]
     },
     "execution_count": 46,
     "metadata": {},
     "output_type": "execute_result"
    }
   ],
   "source": [
    "#C1, C2= sm.symbols('C1, C2')\n",
    "\n",
    "c解= sm.solve(\n",
    "  [eq1, eq2],\n",
    "  'C1','C2'\n",
    "  )\n",
    "c解\n"
   ]
  },
  {
   "cell_type": "code",
   "execution_count": 48,
   "id": "1d01eb58-8089-4a48-b3c4-8349b859732d",
   "metadata": {},
   "outputs": [
    {
     "data": {
      "image/png": "[encoded data removed]",
      "text/latex": [
       "$\\displaystyle \\left(\\frac{x}{2} + \\frac{19}{4}\\right) e^{x} - \\frac{19 e^{- x}}{4}$"
      ],
      "text/plain": [
       "                  -x\n",
       "⎛x   19⎞  x   19⋅ℯ  \n",
       "⎜─ + ──⎟⋅ℯ  - ──────\n",
       "⎝2   4 ⎠        4   "
      ]
     },
     "execution_count": 48,
     "metadata": {},
     "output_type": "execute_result"
    }
   ],
   "source": [
    "特解= y.subs(c解)\n",
    "特解"
   ]
  },
  {
   "cell_type": "code",
   "execution_count": 50,
   "id": "0547266e-25fe-48dd-a898-3c9eef61d8c2",
   "metadata": {},
   "outputs": [],
   "source": [
    "#c1= c解[sm.Symbol('C1')]\n",
    "#c2= c解[sm.Symbol('C2')]\n",
    "#c1, c2\n",
    "\n",
    "#特解= y.subs({'C1':c1, 'C2':c2})\n",
    "#特解"
   ]
  },
  {
   "cell_type": "code",
   "execution_count": null,
   "id": "31c19d47-9fc3-4495-b7cd-ef5a18c3dccd",
   "metadata": {},
   "outputs": [],
   "source": []
  },
  {
   "cell_type": "code",
   "execution_count": 53,
   "id": "50e1d440-c168-4602-ac34-e89b0ccd21f8",
   "metadata": {},
   "outputs": [
    {
     "data": {
      "image/png": "[encoded data removed]",
      "text/plain": [
       "<Figure size 432x288 with 1 Axes>"
      ]
     },
     "metadata": {},
     "output_type": "display_data"
    },
    {
     "data": {
      "text/plain": [
       "<sympy.plotting.plot.Plot at 0x2a1dec38850>"
      ]
     },
     "execution_count": 53,
     "metadata": {},
     "output_type": "execute_result"
    }
   ],
   "source": [
    "# 作圖看看！\n",
    "sm.plotting.plot(特解, (x,0,10), xlabel='x')"
   ]
  },
  {
   "cell_type": "code",
   "execution_count": 56,
   "id": "81f1b773-697a-4721-8cfa-90216e49de53",
   "metadata": {},
   "outputs": [
    {
     "data": {
      "image/png": "[encoded data removed]",
      "text/plain": [
       "<Figure size 432x288 with 1 Axes>"
      ]
     },
     "metadata": {},
     "output_type": "display_data"
    },
    {
     "data": {
      "image/png": "[encoded data removed]",
      "text/plain": [
       "<Figure size 432x288 with 1 Axes>"
      ]
     },
     "metadata": {},
     "output_type": "display_data"
    },
    {
     "data": {
      "text/plain": [
       "<sympy.plotting.plot.Plot at 0x2a1ded22670>"
      ]
     },
     "execution_count": 56,
     "metadata": {},
     "output_type": "execute_result"
    }
   ],
   "source": [
    "# 微分方程 可視為 【系統】的概念\n",
    "\n",
    "# 輸入函數 a(x) ---> 【系統】 ----> 輸出函數 b(x)\n",
    "# 在上例中 輸入 a(x) = e**x\n",
    "# 而 輸出 b(x) == 最後解出的特解\n",
    "# 把輸入也畫在下面以資比較：\n",
    "輸入函數= sm.exp(x)\n",
    "輸出函數= 特解\n",
    "sm.plotting.plot(輸入函數, (x,0,10), xlabel='x')\n",
    "sm.plotting.plot(輸出函數, (x,0,10), xlabel='x')\n"
   ]
  },
  {
   "cell_type": "code",
   "execution_count": null,
   "id": "00ee4aa3-b2f5-4cee-a3bf-5c4ad7fe501f",
   "metadata": {},
   "outputs": [],
   "source": [
    "# 它們有不同嗎？\n",
    "# 嘗試不同的輸入函數 a(x) 看看\n",
    "# e.g. \n",
    "# a(x) = sin(x), x**2, 1 + x + x**2 +x**3, ...\n"
   ]
  }
 ],
 "metadata": {
  "kernelspec": {
   "display_name": "Python 3",
   "language": "python",
   "name": "python3"
  },
  "language_info": {
   "codemirror_mode": {
    "name": "ipython",
    "version": 3
   },
   "file_extension": ".py",
   "mimetype": "text/x-python",
   "name": "python",
   "nbconvert_exporter": "python",
   "pygments_lexer": "ipython3",
   "version": "3.8.8"
  }
 },
 "nbformat": 4,
 "nbformat_minor": 5
}
