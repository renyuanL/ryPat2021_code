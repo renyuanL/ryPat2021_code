{
 "cells": [
  {
   "cell_type": "code",
   "execution_count": 33,
   "id": "dc463dd9-77d0-45ff-932b-eb5fc10e0adf",
   "metadata": {},
   "outputs": [],
   "source": [
    "from ryPat import *\n",
    "import seaborn as sb\n",
    "sb.set_theme()"
   ]
  },
  {
   "cell_type": "code",
   "execution_count": 48,
   "id": "dc29696a-b5d1-4b3e-b38a-788ca36f283d",
   "metadata": {},
   "outputs": [
    {
     "data": {
      "text/plain": [
       "Text(0, 0.5, 'f(x)')"
      ]
     },
     "execution_count": 48,
     "metadata": {},
     "output_type": "execute_result"
    },
    {
     "data": {
      "image/png": "[encoded data removed]",
      "text/plain": [
       "<Figure size 432x288 with 2 Axes>"
      ]
     },
     "metadata": {},
     "output_type": "display_data"
    }
   ],
   "source": [
    "# Data Visualization\n",
    "# Histogram\n",
    "\n",
    "X= st.norm(loc= 50, scale= 5).rvs(size=100)\n",
    "\n",
    "t= np.arange(X.size)\n",
    "\n",
    "pl.subplot(2,1,1)\n",
    "pl.scatter(X,t)\n",
    "pl.xlabel('X')\n",
    "pl.ylabel('t')\n",
    "\n",
    "pl.subplot(2,1,2)\n",
    "pl.hist(X, bins= 10)\n",
    "pl.xlabel('x')\n",
    "pl.ylabel('f(x)')\n"
   ]
  },
  {
   "cell_type": "code",
   "execution_count": 55,
   "id": "be8b1854-feab-40ad-9d87-a73a6a1d8f09",
   "metadata": {},
   "outputs": [
    {
     "data": {
      "text/plain": [
       "DescribeResult(nobs=100, minmax=(41.98192204868026, 61.31830888815212), mean=50.59228400066419, variance=18.793092379996068, skewness=0.19202533479950062, kurtosis=-0.5913060322843284)"
      ]
     },
     "execution_count": 55,
     "metadata": {},
     "output_type": "execute_result"
    }
   ],
   "source": [
    "des= st.describe(X)\n",
    "des"
   ]
  },
  {
   "cell_type": "code",
   "execution_count": 57,
   "id": "8596b2d3-e9cf-4580-9e92-0295de2c071b",
   "metadata": {},
   "outputs": [
    {
     "data": {
      "image/png": "[encoded data removed]",
      "text/latex": [
       "$\\displaystyle \\left( 50.5922840006642, \\  18.7930923799961, \\  0.192025334799501, \\  -0.591306032284328\\right)$"
      ],
      "text/plain": [
       "(50.59228400066419, 18.793092379996068, 0.19202533479950062, -0.59130603228432\n",
       "84)"
      ]
     },
     "execution_count": 57,
     "metadata": {},
     "output_type": "execute_result"
    }
   ],
   "source": [
    "des.mean, des.variance, des.skewness, des.kurtosis"
   ]
  },
  {
   "cell_type": "code",
   "execution_count": 63,
   "id": "dad618e9-49b9-4c22-a803-fbfc353639f8",
   "metadata": {},
   "outputs": [
    {
     "data": {
      "text/plain": [
       "(ModeResult(mode=array([41.98192205]), count=array([1])), 5.59412418485865)"
      ]
     },
     "execution_count": 63,
     "metadata": {},
     "output_type": "execute_result"
    }
   ],
   "source": [
    "st.mode(X), st.iqr(X)"
   ]
  },
  {
   "cell_type": "code",
   "execution_count": 68,
   "id": "dd6081b0-aced-4930-9af5-0b4d71a95eb0",
   "metadata": {},
   "outputs": [
    {
     "data": {
      "image/png": "[encoded data removed]",
      "text/latex": [
       "$\\displaystyle 4.60154520067692$"
      ],
      "text/plain": [
       "4.601545200676925"
      ]
     },
     "execution_count": 68,
     "metadata": {},
     "output_type": "execute_result"
    }
   ],
   "source": [
    "#st.entropy?\n",
    "st.entropy(X)"
   ]
  },
  {
   "cell_type": "code",
   "execution_count": 76,
   "id": "49e6545f-f4f5-4a09-878f-9001da93e227",
   "metadata": {},
   "outputs": [],
   "source": [
    "lr= st.linregress(t, X)\n",
    "m= lr.slope\n",
    "b= lr.intercept\n",
    "\n",
    "x0= X.min()\n",
    "x1= X.max()\n",
    "\n",
    "t0= t[0]\n",
    "t1= t[-1]\n",
    "\n",
    "y0= m*t0+b\n",
    "y1= m*t1+b\n",
    "\n",
    "pl.scatter(t,X)\n",
    "pl.plot([t0,t1],[y0,y1], 'r')"
   ]
  },
  {
   "cell_type": "code",
   "execution_count": 178,
   "id": "c27ce941-7899-4455-a65d-d6d069d5b973",
   "metadata": {},
   "outputs": [],
   "source": [
    "# Data Visualization\n",
    "# Histogram\n",
    "\n",
    "sampSize= 100\n",
    "t= np.arange(sampSize)\n",
    "\n",
    "# 你可以變換不同的機率分布來試試看\n",
    "\n",
    "X= st.uniform(loc= 30, scale= 10).rvs(size= sampSize)\n",
    "#X= st.norm(loc= 50, scale= 5).rvs(size= sampSize)\n",
    "#X= st.gamma(a= 50, scale= 1).rvs(size= sampSize)\n",
    "\n",
    "#X= st.randint(low= 30, high= 70).rvs(size= sampSize)\n",
    "#X= st.binom(n= 100, p= .5).rvs(size= sampSize)\n",
    "#X= st.poisson(mu= 30).rvs(size= sampSize)\n",
    "\n",
    "#開始作圖，視覺化\n",
    "\n",
    "fg, ax= pl.subplots(1,3)\n",
    "\n",
    "# 隨機變數隨著時間軸 t 展開\n",
    "ax[0].scatter(t,X)\n",
    "ax[0].set_xlabel('t')\n",
    "ax[0].set_ylabel('X')\n",
    "ax[0].set_title('random variable, X(t)')\n",
    "\n",
    "# 基本的 histogram\n",
    "ax[1].hist(X, bins= 10, orientation= 'horizontal')\n",
    "ax[1].set_xlabel('f(x)')\n",
    "ax[1].set_ylabel('x')\n",
    "ax[1].set_title('Histogram, f(x)')\n",
    "\n",
    "# Linear regression\n",
    "lr= st.linregress(t, X)\n",
    "lr\n",
    "\n",
    "# visualize the regression line\n",
    "m= lr.slope\n",
    "b= lr.intercept\n",
    "\n",
    "x0= X.min()\n",
    "x1= X.max()\n",
    "\n",
    "t0= t[0]\n",
    "t1= t[-1]\n",
    "\n",
    "y0= m*t0+b\n",
    "y1= m*t1+b\n",
    "\n",
    "\n",
    "ax[0].plot([t0,t1],[y0,y1],'r')\n",
    "\n",
    "# statistical description\n",
    "\n",
    "des= st.describe(X)\n",
    "des\n",
    "\n",
    "## qq-plot\n",
    "\n",
    "ax[2]= st.probplot(X, plot= pl)"
   ]
  },
  {
   "cell_type": "code",
   "execution_count": 161,
   "id": "748241a7-5c47-43f8-b518-1daa6d054505",
   "metadata": {},
   "outputs": [],
   "source": [
    "%matplotlib qt"
   ]
  },
  {
   "cell_type": "code",
   "execution_count": 255,
   "id": "897bdc90-ec68-44e2-bd75-1736b1059c61",
   "metadata": {},
   "outputs": [
    {
     "name": "stdout",
     "output_type": "stream",
     "text": [
      "[*********************100%***********************]  3 of 3 completed\n"
     ]
    },
    {
     "data": {
      "text/plain": [
       "array([[<AxesSubplot:title={'center':'AAPL'}>,\n",
       "        <AxesSubplot:title={'center':'GOOGL'}>],\n",
       "       [<AxesSubplot:title={'center':'MSFT'}>, <AxesSubplot:>]],\n",
       "      dtype=object)"
      ]
     },
     "execution_count": 255,
     "metadata": {},
     "output_type": "execute_result"
    }
   ],
   "source": [
    "# 淺嚐 pandas\n",
    "# 運用 yfinance 撈股票價格歷史資料\n",
    "\n",
    "import pandas as pd\n",
    "import yfinance as yf\n",
    "\n",
    "# 選3支股票，世界前 3大。\n",
    "tks= yf.Tickers(['MSFT', 'AAPL', 'Googl'])\n",
    "tks\n",
    "# 撈1年的資料\n",
    "tkPrice= tks.history(period='max')\n",
    "\n",
    "# 簡單作圖 X= X(t)\n",
    "tkPrice.Close.plot(ylabel='$USD')\n",
    "tkPrice.Close.plot(logy= True, ylabel='$USD')\n",
    "\n",
    "# Histogram\n",
    "tkPrice.Close.hist()\n",
    "tkPrice.Close.hist(orientation= 'horizontal')"
   ]
  },
  {
   "cell_type": "code",
   "execution_count": 262,
   "id": "3da4fa6a-6332-4e09-a171-7bd43338cbb0",
   "metadata": {},
   "outputs": [
    {
     "data": {
      "text/plain": [
       "<AxesSubplot:title={'center':'Market Capital (in $TrillionUSD)'}, xlabel='Date', ylabel='$TrillionUSD'>"
      ]
     },
     "execution_count": 262,
     "metadata": {},
     "output_type": "execute_result"
    }
   ],
   "source": [
    "#AAPL:  Shares Outstanding\t16.41B\n",
    "#MSFT:  Shares Outstanding\t7.51B\n",
    "#GOOGL&GOOG: Implied Shares Outstanding 663.76M\n",
    "\n",
    "# 公司總市值，$TrillionUSD\n",
    "X0= tkPrice.Close.AAPL.apply(lambda x:  x*16.41/1e3) \n",
    "X1= tkPrice.Close.MSFT.apply(lambda x:  x*7.51/1e3)\n",
    "X2= tkPrice.Close.GOOGL.apply(lambda x: x*.66376/1e3)\n",
    "\n",
    "X= pd.DataFrame([X0,X1,X2])\n",
    "X= X.T\n",
    "X.plot(ylabel='$TrillionUSD', \n",
    "       #logy= True, \n",
    "       title='Market Capital (in $TrillionUSD)')\n"
   ]
  },
  {
   "cell_type": "code",
   "execution_count": 238,
   "id": "65ef70b4-5538-4b3a-a4a6-257a1ba520ad",
   "metadata": {},
   "outputs": [
    {
     "data": {
      "text/plain": [
       "<AxesSubplot:xlabel='Date', ylabel='$USD'>"
      ]
     },
     "execution_count": 238,
     "metadata": {},
     "output_type": "execute_result"
    }
   ],
   "source": [
    "tkPrice.Close.plot(logy= True, ylabel='$USD')"
   ]
  },
  {
   "cell_type": "code",
   "execution_count": 263,
   "id": "fafae527-0d47-44b6-a3a9-11c6549dad0c",
   "metadata": {},
   "outputs": [
    {
     "data": {
      "text/plain": [
       "array([[<AxesSubplot:title={'center':'AAPL'}>,\n",
       "        <AxesSubplot:title={'center':'MSFT'}>],\n",
       "       [<AxesSubplot:title={'center':'GOOGL'}>, <AxesSubplot:>]],\n",
       "      dtype=object)"
      ]
     },
     "execution_count": 263,
     "metadata": {},
     "output_type": "execute_result"
    }
   ],
   "source": [
    "X.hist()"
   ]
  },
  {
   "cell_type": "code",
   "execution_count": 273,
   "id": "3bb9e78a-243b-4ef0-8011-97f230da1fa8",
   "metadata": {},
   "outputs": [
    {
     "data": {
      "text/plain": [
       "array([[<AxesSubplot:title={'center':'AAPL'}>,\n",
       "        <AxesSubplot:title={'center':'MSFT'}>],\n",
       "       [<AxesSubplot:title={'center':'GOOGL'}>, <AxesSubplot:>]],\n",
       "      dtype=object)"
      ]
     },
     "execution_count": 273,
     "metadata": {},
     "output_type": "execute_result"
    }
   ],
   "source": [
    "X.iloc[-500:].hist(orientation='horizontal')"
   ]
  },
  {
   "cell_type": "code",
   "execution_count": 269,
   "id": "08e1f68f-2d72-44b5-bdee-8e757a71ef05",
   "metadata": {},
   "outputs": [
    {
     "name": "stdout",
     "output_type": "stream",
     "text": [
      "Object `pd.hist` not found.\n"
     ]
    }
   ],
   "source": []
  },
  {
   "cell_type": "code",
   "execution_count": 272,
   "id": "fdbd5e50-a8d2-48fa-bad3-f6154f261659",
   "metadata": {},
   "outputs": [
    {
     "data": {
      "text/plain": [
       "\u001b[1;31mDocstring:\u001b[0m Alias for `%history`.\n",
       "\u001b[1;31mFile:\u001b[0m      m:\\programdata\\anaconda3\\lib\\site-packages\\ipython\\core\\magic.py\n"
      ]
     },
     "metadata": {},
     "output_type": "display_data"
    }
   ],
   "source": [
    "X.iloc[-500:].hist?"
   ]
  },
  {
   "cell_type": "code",
   "execution_count": null,
   "id": "e7c1cfb4-103b-4a67-9fcc-2f49fc15cdda",
   "metadata": {},
   "outputs": [],
   "source": [
    "X.iloc[-500:].hist"
   ]
  },
  {
   "cell_type": "code",
   "execution_count": null,
   "id": "7f67737e-f6c2-464b-8cca-a5fd748524ea",
   "metadata": {},
   "outputs": [],
   "source": [
    "X.iloc[-500:].hist"
   ]
  },
  {
   "cell_type": "code",
   "execution_count": null,
   "id": "a28c66ec-9bfe-435a-b2e4-7f5ab13df7dd",
   "metadata": {},
   "outputs": [],
   "source": [
    "X.iloc[-500:].hist"
   ]
  },
  {
   "cell_type": "code",
   "execution_count": 280,
   "id": "65753976-a8be-412c-af61-3fe6c142d80f",
   "metadata": {},
   "outputs": [
    {
     "data": {
      "text/html": [
       "<div>\n",
       "<style scoped>\n",
       "    .dataframe tbody tr th:only-of-type {\n",
       "        vertical-align: middle;\n",
       "    }\n",
       "\n",
       "    .dataframe tbody tr th {\n",
       "        vertical-align: top;\n",
       "    }\n",
       "\n",
       "    .dataframe thead th {\n",
       "        text-align: right;\n",
       "    }\n",
       "</style>\n",
       "<table border=\"1\" class=\"dataframe\">\n",
       "  <thead>\n",
       "    <tr style=\"text-align: right;\">\n",
       "      <th></th>\n",
       "      <th>AAPL</th>\n",
       "      <th>MSFT</th>\n",
       "      <th>GOOGL</th>\n",
       "    </tr>\n",
       "  </thead>\n",
       "  <tbody>\n",
       "    <tr>\n",
       "      <th>count</th>\n",
       "      <td>467.000000</td>\n",
       "      <td>467.000000</td>\n",
       "      <td>467.000000</td>\n",
       "    </tr>\n",
       "    <tr>\n",
       "      <th>mean</th>\n",
       "      <td>1.863368</td>\n",
       "      <td>1.688044</td>\n",
       "      <td>1.264168</td>\n",
       "    </tr>\n",
       "    <tr>\n",
       "      <th>std</th>\n",
       "      <td>0.445598</td>\n",
       "      <td>0.341904</td>\n",
       "      <td>0.354599</td>\n",
       "    </tr>\n",
       "    <tr>\n",
       "      <th>min</th>\n",
       "      <td>0.909158</td>\n",
       "      <td>1.002535</td>\n",
       "      <td>0.699689</td>\n",
       "    </tr>\n",
       "    <tr>\n",
       "      <th>25%</th>\n",
       "      <td>1.432051</td>\n",
       "      <td>1.457471</td>\n",
       "      <td>0.970351</td>\n",
       "    </tr>\n",
       "    <tr>\n",
       "      <th>50%</th>\n",
       "      <td>1.980640</td>\n",
       "      <td>1.617085</td>\n",
       "      <td>1.159755</td>\n",
       "    </tr>\n",
       "    <tr>\n",
       "      <th>75%</th>\n",
       "      <td>2.189548</td>\n",
       "      <td>1.912372</td>\n",
       "      <td>1.565110</td>\n",
       "    </tr>\n",
       "    <tr>\n",
       "      <th>max</th>\n",
       "      <td>2.567536</td>\n",
       "      <td>2.526664</td>\n",
       "      <td>1.976040</td>\n",
       "    </tr>\n",
       "  </tbody>\n",
       "</table>\n",
       "</div>"
      ],
      "text/plain": [
       "             AAPL        MSFT       GOOGL\n",
       "count  467.000000  467.000000  467.000000\n",
       "mean     1.863368    1.688044    1.264168\n",
       "std      0.445598    0.341904    0.354599\n",
       "min      0.909158    1.002535    0.699689\n",
       "25%      1.432051    1.457471    0.970351\n",
       "50%      1.980640    1.617085    1.159755\n",
       "75%      2.189548    1.912372    1.565110\n",
       "max      2.567536    2.526664    1.976040"
      ]
     },
     "execution_count": 280,
     "metadata": {},
     "output_type": "execute_result"
    }
   ],
   "source": [
    "X.loc['2020-01':].describe()"
   ]
  },
  {
   "cell_type": "code",
   "execution_count": 285,
   "id": "5bc8b6ca-936b-4f80-b6c6-2bb1ea3be711",
   "metadata": {},
   "outputs": [
    {
     "data": {
      "text/plain": [
       "array([[<AxesSubplot:title={'center':'AAPL'}>,\n",
       "        <AxesSubplot:title={'center':'MSFT'}>],\n",
       "       [<AxesSubplot:title={'center':'GOOGL'}>, <AxesSubplot:>]],\n",
       "      dtype=object)"
      ]
     },
     "execution_count": 285,
     "metadata": {},
     "output_type": "execute_result"
    }
   ],
   "source": [
    "X.loc['2020-01':].hist(orientation='horizontal')"
   ]
  },
  {
   "cell_type": "code",
   "execution_count": 282,
   "id": "f8577640-0306-43c0-91ce-10dd39f4f527",
   "metadata": {},
   "outputs": [
    {
     "data": {
      "text/plain": [
       "<AxesSubplot:xlabel='Date'>"
      ]
     },
     "execution_count": 282,
     "metadata": {},
     "output_type": "execute_result"
    }
   ],
   "source": [
    "X.loc['2020-01':].plot()"
   ]
  },
  {
   "cell_type": "code",
   "execution_count": 286,
   "id": "b0b661ca-b56a-4d32-9e94-175aa56ceadc",
   "metadata": {},
   "outputs": [
    {
     "data": {
      "image/png": "[encoded data removed]",
      "text/latex": [
       "$\\displaystyle 0.00750758793072666$"
      ],
      "text/plain": [
       "0.007507587930726656"
      ]
     },
     "execution_count": 286,
     "metadata": {},
     "output_type": "execute_result"
    }
   ],
   "source": [
    "2.523/336.06 #= 0.007508 Trillion 股"
   ]
  },
  {
   "cell_type": "code",
   "execution_count": 342,
   "id": "63489241-8c20-4e6c-893d-479b8fe9ef42",
   "metadata": {},
   "outputs": [],
   "source": [
    "#\n",
    "# Top10 Companies\n",
    "#\n",
    "top10= {\n",
    "    'MSFT':    'Microsoft',\n",
    "    'AAPL':    'Apple',\n",
    "    #'2222.SR': 'Saudi Aramco',\n",
    "    'GOOG':    'Alphabet (Google)',\n",
    "    'AMZN':    'Amazon',\n",
    "    'TSLA':    'Tesla',\n",
    "    'FB':      'Meta (Facebook)',\n",
    "    'NVDA':    'NVIDIA',\n",
    "    'BRK-A':   'Berkshire Hathaway',\n",
    "    'TSM':     'TSMC',\n",
    "    'TCEHY':   'Tencent',\n",
    "    #'JPM':     'JPMorgan Chase'\n",
    "    }\n"
   ]
  },
  {
   "cell_type": "code",
   "execution_count": 343,
   "id": "bda2eb44-c4bf-4733-a00d-251f005b7bcb",
   "metadata": {},
   "outputs": [
    {
     "data": {
      "text/plain": [
       "['MSFT', 'AAPL', 'GOOG', 'AMZN', 'TSLA', 'FB', 'NVDA', 'BRK-A', 'TSM', 'TCEHY']"
      ]
     },
     "execution_count": 343,
     "metadata": {},
     "output_type": "execute_result"
    }
   ],
   "source": [
    "top10L= list(top10.keys())\n",
    "top10L"
   ]
  },
  {
   "cell_type": "code",
   "execution_count": 344,
   "id": "d53107f0-512b-45cb-bf78-8c8060b23a5b",
   "metadata": {},
   "outputs": [
    {
     "name": "stdout",
     "output_type": "stream",
     "text": [
      "[*********************100%***********************]  10 of 10 completed\n"
     ]
    },
    {
     "data": {
      "text/plain": [
       "<AxesSubplot:xlabel='Date'>"
      ]
     },
     "execution_count": 344,
     "metadata": {},
     "output_type": "execute_result"
    }
   ],
   "source": [
    "tks= yf.Tickers(top10L)\n",
    "X= tks.history(period='max')\n",
    "X.Close.plot(logy=True)"
   ]
  },
  {
   "cell_type": "code",
   "execution_count": 352,
   "id": "84c54f9b-c5b1-4238-99a3-465498c4518a",
   "metadata": {},
   "outputs": [
    {
     "data": {
      "text/plain": [
       "array([7.49866095e-03, 1.64595452e-02, 6.53266332e-04, 5.05825519e-04,\n",
       "       1.00654664e-03, 2.74669481e-03, 2.49196693e-03, 1.50974654e-06,\n",
       "       5.18599321e-03, 9.60607612e-03])"
      ]
     },
     "execution_count": 352,
     "metadata": {},
     "output_type": "execute_result"
    }
   ],
   "source": [
    "top10Stocks= [\n",
    "    (2.52E+03,  336.06),\n",
    "    (2.49E+03,  151.28),\n",
    "    #(2.02E+03, 10.09), \n",
    "    (1.95E+03,  2985), \n",
    "    (1.78E+03,  3519), \n",
    "    (1.23E+03,  1222), \n",
    "    (936.98\t,   341.13), \n",
    "    (741.41\t,   297.52), \n",
    "    (655.23\t,   434000), \n",
    "    (610.91\t,   117.80), \n",
    "    (562.82\t,   58.59), \n",
    "    #(503.24,   168.05), \n",
    "    ]\n",
    "\n",
    "#top10Stocks= np.array(top10Stocks)[:,-1]*1e-3 # unit= Trillion\n",
    "#top10Stocks\n",
    "\n",
    "top10Stocks= np.array(top10Stocks)[:,0]/ np.array(top10Stocks)[:,1]/1e3 # unit= Trillion\n",
    "top10Stocks"
   ]
  },
  {
   "cell_type": "code",
   "execution_count": 355,
   "id": "f84c45ff-74d3-4989-8de0-61452173c7e1",
   "metadata": {},
   "outputs": [
    {
     "data": {
      "text/plain": [
       "<AxesSubplot:title={'center':'Top10 largest Companies, Market Cap'}, xlabel='Date', ylabel='Trillion ($10^{12}$) Dallars'>"
      ]
     },
     "execution_count": 355,
     "metadata": {},
     "output_type": "execute_result"
    }
   ],
   "source": [
    "Y= X.Close.loc[:,top10L]*top10Stocks\n",
    "Y.plot(#logy=True, \n",
    "       title= 'Top10 largest Companies, Market Cap',\n",
    "       ylabel= 'Trillion ($10^{12}$) Dallars')"
   ]
  },
  {
   "cell_type": "code",
   "execution_count": 356,
   "id": "e3650bb3-f8ea-4a73-953e-23e05c96d7d1",
   "metadata": {},
   "outputs": [
    {
     "data": {
      "text/html": [
       "<div>\n",
       "<style scoped>\n",
       "    .dataframe tbody tr th:only-of-type {\n",
       "        vertical-align: middle;\n",
       "    }\n",
       "\n",
       "    .dataframe tbody tr th {\n",
       "        vertical-align: top;\n",
       "    }\n",
       "\n",
       "    .dataframe thead th {\n",
       "        text-align: right;\n",
       "    }\n",
       "</style>\n",
       "<table border=\"1\" class=\"dataframe\">\n",
       "  <thead>\n",
       "    <tr style=\"text-align: right;\">\n",
       "      <th></th>\n",
       "      <th>MSFT</th>\n",
       "      <th>AAPL</th>\n",
       "      <th>GOOG</th>\n",
       "      <th>AMZN</th>\n",
       "      <th>TSLA</th>\n",
       "      <th>FB</th>\n",
       "      <th>NVDA</th>\n",
       "      <th>BRK-A</th>\n",
       "      <th>TSM</th>\n",
       "      <th>TCEHY</th>\n",
       "    </tr>\n",
       "  </thead>\n",
       "  <tbody>\n",
       "    <tr>\n",
       "      <th>count</th>\n",
       "      <td>1221.000000</td>\n",
       "      <td>1221.000000</td>\n",
       "      <td>1221.000000</td>\n",
       "      <td>1221.000000</td>\n",
       "      <td>1221.000000</td>\n",
       "      <td>1221.000000</td>\n",
       "      <td>1221.000000</td>\n",
       "      <td>1221.000000</td>\n",
       "      <td>1221.000000</td>\n",
       "      <td>1221.000000</td>\n",
       "    </tr>\n",
       "    <tr>\n",
       "      <th>mean</th>\n",
       "      <td>1.096055</td>\n",
       "      <td>1.163244</td>\n",
       "      <td>0.912973</td>\n",
       "      <td>1.033537</td>\n",
       "      <td>0.227127</td>\n",
       "      <td>0.575251</td>\n",
       "      <td>0.198605</td>\n",
       "      <td>0.477644</td>\n",
       "      <td>0.296904</td>\n",
       "      <td>0.500273</td>\n",
       "    </tr>\n",
       "    <tr>\n",
       "      <th>std</th>\n",
       "      <td>0.533215</td>\n",
       "      <td>0.630923</td>\n",
       "      <td>0.354277</td>\n",
       "      <td>0.433114</td>\n",
       "      <td>0.268613</td>\n",
       "      <td>0.173931</td>\n",
       "      <td>0.134689</td>\n",
       "      <td>0.075416</td>\n",
       "      <td>0.167054</td>\n",
       "      <td>0.148727</td>\n",
       "    </tr>\n",
       "    <tr>\n",
       "      <th>min</th>\n",
       "      <td>0.435156</td>\n",
       "      <td>0.449377</td>\n",
       "      <td>0.513559</td>\n",
       "      <td>0.381226</td>\n",
       "      <td>0.036028</td>\n",
       "      <td>0.320979</td>\n",
       "      <td>0.058797</td>\n",
       "      <td>0.359471</td>\n",
       "      <td>0.130471</td>\n",
       "      <td>0.231927</td>\n",
       "    </tr>\n",
       "    <tr>\n",
       "      <th>25%</th>\n",
       "      <td>0.670665</td>\n",
       "      <td>0.677978</td>\n",
       "      <td>0.687197</td>\n",
       "      <td>0.747620</td>\n",
       "      <td>0.059962</td>\n",
       "      <td>0.456940</td>\n",
       "      <td>0.103779</td>\n",
       "      <td>0.428391</td>\n",
       "      <td>0.180442</td>\n",
       "      <td>0.401158</td>\n",
       "    </tr>\n",
       "    <tr>\n",
       "      <th>50%</th>\n",
       "      <td>0.962171</td>\n",
       "      <td>0.844927</td>\n",
       "      <td>0.776087</td>\n",
       "      <td>0.920026</td>\n",
       "      <td>0.069470</td>\n",
       "      <td>0.509979</td>\n",
       "      <td>0.146338</td>\n",
       "      <td>0.464700</td>\n",
       "      <td>0.207672</td>\n",
       "      <td>0.469193</td>\n",
       "    </tr>\n",
       "    <tr>\n",
       "      <th>75%</th>\n",
       "      <td>1.544407</td>\n",
       "      <td>1.825916</td>\n",
       "      <td>0.991658</td>\n",
       "      <td>1.558281</td>\n",
       "      <td>0.375160</td>\n",
       "      <td>0.699913</td>\n",
       "      <td>0.302143</td>\n",
       "      <td>0.503032</td>\n",
       "      <td>0.403191</td>\n",
       "      <td>0.589045</td>\n",
       "    </tr>\n",
       "    <tr>\n",
       "      <th>max</th>\n",
       "      <td>2.522850</td>\n",
       "      <td>2.575288</td>\n",
       "      <td>1.949882</td>\n",
       "      <td>1.887442</td>\n",
       "      <td>1.237962</td>\n",
       "      <td>1.049732</td>\n",
       "      <td>0.742631</td>\n",
       "      <td>0.663473</td>\n",
       "      <td>0.717859</td>\n",
       "      <td>0.949422</td>\n",
       "    </tr>\n",
       "  </tbody>\n",
       "</table>\n",
       "</div>"
      ],
      "text/plain": [
       "              MSFT         AAPL         GOOG         AMZN         TSLA  \\\n",
       "count  1221.000000  1221.000000  1221.000000  1221.000000  1221.000000   \n",
       "mean      1.096055     1.163244     0.912973     1.033537     0.227127   \n",
       "std       0.533215     0.630923     0.354277     0.433114     0.268613   \n",
       "min       0.435156     0.449377     0.513559     0.381226     0.036028   \n",
       "25%       0.670665     0.677978     0.687197     0.747620     0.059962   \n",
       "50%       0.962171     0.844927     0.776087     0.920026     0.069470   \n",
       "75%       1.544407     1.825916     0.991658     1.558281     0.375160   \n",
       "max       2.522850     2.575288     1.949882     1.887442     1.237962   \n",
       "\n",
       "                FB         NVDA        BRK-A          TSM        TCEHY  \n",
       "count  1221.000000  1221.000000  1221.000000  1221.000000  1221.000000  \n",
       "mean      0.575251     0.198605     0.477644     0.296904     0.500273  \n",
       "std       0.173931     0.134689     0.075416     0.167054     0.148727  \n",
       "min       0.320979     0.058797     0.359471     0.130471     0.231927  \n",
       "25%       0.456940     0.103779     0.428391     0.180442     0.401158  \n",
       "50%       0.509979     0.146338     0.464700     0.207672     0.469193  \n",
       "75%       0.699913     0.302143     0.503032     0.403191     0.589045  \n",
       "max       1.049732     0.742631     0.663473     0.717859     0.949422  "
      ]
     },
     "execution_count": 356,
     "metadata": {},
     "output_type": "execute_result"
    }
   ],
   "source": [
    "Y.loc['2017-01-01':].describe()"
   ]
  },
  {
   "cell_type": "code",
   "execution_count": 357,
   "id": "69694cc3-9835-4817-a688-b564c4217736",
   "metadata": {},
   "outputs": [
    {
     "data": {
      "text/plain": [
       "array([[<AxesSubplot:title={'center':'MSFT'}>,\n",
       "        <AxesSubplot:title={'center':'AAPL'}>,\n",
       "        <AxesSubplot:title={'center':'GOOG'}>],\n",
       "       [<AxesSubplot:title={'center':'AMZN'}>,\n",
       "        <AxesSubplot:title={'center':'TSLA'}>,\n",
       "        <AxesSubplot:title={'center':'FB'}>],\n",
       "       [<AxesSubplot:title={'center':'NVDA'}>,\n",
       "        <AxesSubplot:title={'center':'BRK-A'}>,\n",
       "        <AxesSubplot:title={'center':'TSM'}>],\n",
       "       [<AxesSubplot:title={'center':'TCEHY'}>, <AxesSubplot:>,\n",
       "        <AxesSubplot:>]], dtype=object)"
      ]
     },
     "execution_count": 357,
     "metadata": {},
     "output_type": "execute_result"
    }
   ],
   "source": [
    "Y.loc['2017-01-01':].hist(orientation='horizontal')"
   ]
  },
  {
   "cell_type": "code",
   "execution_count": null,
   "id": "0851f28f-5f33-4735-9039-b0f9bdee5c92",
   "metadata": {},
   "outputs": [],
   "source": []
  }
 ],
 "metadata": {
  "kernelspec": {
   "display_name": "Python 3",
   "language": "python",
   "name": "python3"
  },
  "language_info": {
   "codemirror_mode": {
    "name": "ipython",
    "version": 3
   },
   "file_extension": ".py",
   "mimetype": "text/x-python",
   "name": "python",
   "nbconvert_exporter": "python",
   "pygments_lexer": "ipython3",
   "version": "3.8.8"
  }
 },
 "nbformat": 4,
 "nbformat_minor": 5
}
