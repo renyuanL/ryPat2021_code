{
 "cells": [
  {
   "cell_type": "code",
   "execution_count": null,
   "metadata": {
    "id": "pu9hZwNQMfHC"
   },
   "outputs": [],
   "source": [
    "\n"
   ]
  },
  {
   "cell_type": "markdown",
   "metadata": {
    "id": "zKNUU3yQRAme"
   },
   "source": [
    "# Linear Algebra\n",
    "\n",
    "## This chapter will cover the following topics:\n",
    "\n",
    "- Comparing scalars and vectors\n",
    "- Linear equations\n",
    "- Matrix operations\n",
    "- Vector spaces and subspaces\n",
    "- Linear maps\n",
    "- Matrix decompositions\n",
    "\n",
    "\n",
    "###  scalars and vectors\n"
   ]
  },
  {
   "cell_type": "code",
   "execution_count": 1,
   "metadata": {
    "colab": {
     "base_uri": "https://localhost:8080/"
    },
    "id": "NZOdmvKhMhwo",
    "outputId": "337adf6d-2c76-4fbb-faeb-a663bb310c12"
   },
   "outputs": [
    {
     "data": {
      "text/plain": [
       "[10, 20]"
      ]
     },
     "execution_count": 1,
     "metadata": {},
     "output_type": "execute_result"
    }
   ],
   "source": [
    "# scalar, 純量，就是單純的數字\n",
    "x1= 10\n",
    "x2= 20\n",
    "\n",
    "# vector, 一組數字，排成一列\n",
    "xV= xVector= [x1,x2]\n",
    "xV\n"
   ]
  },
  {
   "cell_type": "code",
   "execution_count": 2,
   "metadata": {
    "colab": {
     "base_uri": "https://localhost:8080/"
    },
    "id": "hut5JH2xM0Im",
    "outputId": "7e35b17b-aa4c-4969-f57c-57319ff07e18"
   },
   "outputs": [
    {
     "data": {
      "text/plain": [
       "2"
      ]
     },
     "execution_count": 2,
     "metadata": {},
     "output_type": "execute_result"
    }
   ],
   "source": [
    "# dimension, 向量中，元素的個數，\n",
    "xDim= xDimension= len(xV)\n",
    "xDim"
   ]
  },
  {
   "cell_type": "code",
   "execution_count": 3,
   "metadata": {
    "colab": {
     "base_uri": "https://localhost:8080/"
    },
    "id": "m4IM8_YlM8da",
    "outputId": "f588c84e-3f6b-4ef8-aed1-36c2003f1757"
   },
   "outputs": [
    {
     "data": {
      "text/plain": [
       "[10, 20, 30, 40]"
      ]
     },
     "execution_count": 3,
     "metadata": {},
     "output_type": "execute_result"
    }
   ],
   "source": [
    "# add, 向量的加法\n",
    "xV1= [10, 20]\n",
    "xV2= [30, 40]\n",
    "xV3= xV1 + xV2 \n",
    "# 這樣是錯的，它是 \"Python List\" 的【串接】，並非數學上向量的加法\n",
    "xV3"
   ]
  },
  {
   "cell_type": "code",
   "execution_count": 4,
   "metadata": {
    "colab": {
     "base_uri": "https://localhost:8080/"
    },
    "id": "Ryzr3yANO1CY",
    "outputId": "be2af34e-f23f-4217-d80e-38a0e1153a2e"
   },
   "outputs": [
    {
     "data": {
      "text/plain": [
       "[40, 60]"
      ]
     },
     "execution_count": 4,
     "metadata": {},
     "output_type": "execute_result"
    }
   ],
   "source": [
    "# 運用 陽春 Python 的向量加法\n",
    "xV3= [x1+x2 for x1,x2 in zip(xV1, xV2)]\n",
    "xV3\n",
    " "
   ]
  },
  {
   "cell_type": "code",
   "execution_count": 5,
   "metadata": {
    "colab": {
     "base_uri": "https://localhost:8080/"
    },
    "id": "Mt9LyYkNOXhM",
    "outputId": "d347f92f-5a83-4519-9cae-76cd826dc1fa"
   },
   "outputs": [
    {
     "data": {
      "text/plain": [
       "array([40, 60])"
      ]
     },
     "execution_count": 5,
     "metadata": {},
     "output_type": "execute_result"
    }
   ],
   "source": [
    "# 借助 numpy 的 add 來方便操作數學上的加法\n",
    "import numpy as np\n",
    "\n",
    "xV1= [10, 20]\n",
    "xV2= [30, 40]\n",
    "\n",
    "xV3= np.add(xV1, xV2)\n",
    "xV3\n"
   ]
  },
  {
   "cell_type": "code",
   "execution_count": 6,
   "metadata": {
    "colab": {
     "base_uri": "https://localhost:8080/"
    },
    "id": "ydhW_ZUyP4v4",
    "outputId": "5e620d69-36b5-4299-9767-d6669e544a71"
   },
   "outputs": [
    {
     "data": {
      "text/plain": [
       "array([40, 60])"
      ]
     },
     "execution_count": 6,
     "metadata": {},
     "output_type": "execute_result"
    }
   ],
   "source": [
    "# 更漂亮的寫法如下，直接把向量表示成 numpy 的 核心物件 np.array()\n",
    "\n",
    "xV1= [10, 20]\n",
    "xV2= [30, 40]\n",
    "\n",
    "xV1= np.array(xV1)\n",
    "xV2= np.array(xV2)\n",
    "\n",
    "xV3= xV1 + xV2\n",
    "xV3"
   ]
  },
  {
   "cell_type": "code",
   "execution_count": 7,
   "metadata": {
    "colab": {
     "base_uri": "https://localhost:8080/"
    },
    "id": "3_5fqehfQ4Hw",
    "outputId": "3b58e679-4506-4dd4-800c-1ec9690cb586"
   },
   "outputs": [
    {
     "data": {
      "text/plain": [
       "array([10, 20])"
      ]
     },
     "execution_count": 7,
     "metadata": {},
     "output_type": "execute_result"
    }
   ],
   "source": [
    "xV1"
   ]
  },
  {
   "cell_type": "code",
   "execution_count": 8,
   "metadata": {
    "colab": {
     "base_uri": "https://localhost:8080/"
    },
    "id": "RwCLH6ayRe8d",
    "outputId": "f49ff144-7394-4d25-b694-783ad1467f23"
   },
   "outputs": [
    {
     "data": {
      "text/plain": [
       "array([30, 40])"
      ]
     },
     "execution_count": 8,
     "metadata": {},
     "output_type": "execute_result"
    }
   ],
   "source": [
    "xV2"
   ]
  },
  {
   "cell_type": "code",
   "execution_count": 9,
   "metadata": {
    "colab": {
     "base_uri": "https://localhost:8080/"
    },
    "id": "6F9C6NBCRln5",
    "outputId": "8202169c-7a6b-4079-cd92-a44013472491"
   },
   "outputs": [
    {
     "data": {
      "text/plain": [
       "array([40, 60])"
      ]
     },
     "execution_count": 9,
     "metadata": {},
     "output_type": "execute_result"
    }
   ],
   "source": [
    "xV3"
   ]
  },
  {
   "cell_type": "code",
   "execution_count": 10,
   "metadata": {
    "colab": {
     "base_uri": "https://localhost:8080/"
    },
    "id": "var9NF-iRmvC",
    "outputId": "b6919d59-9185-4b5c-81ca-e50cbff4df6b"
   },
   "outputs": [
    {
     "data": {
      "text/plain": [
       "array([100, 200])"
      ]
     },
     "execution_count": 10,
     "metadata": {},
     "output_type": "execute_result"
    }
   ],
   "source": [
    "# multiply, 向量的乘法: (1) 純量 乘 向量 (2) 向量 (內、外)乘 向量\n",
    "\n",
    "# (1) 純量 乘 向量 (2) 向量 (內、外)乘 向量\n",
    "c= 10\n",
    "\n",
    "xV1= [10, 20]\n",
    "xV1= np.array(xV1)\n",
    "\n",
    "xV3= c * xV1\n",
    "xV3"
   ]
  },
  {
   "cell_type": "code",
   "execution_count": 11,
   "metadata": {
    "colab": {
     "base_uri": "https://localhost:8080/"
    },
    "id": "zewNFQeBSS5z",
    "outputId": "408a3eb7-c45a-4077-bc94-745f8f5ad434"
   },
   "outputs": [
    {
     "data": {
      "text/plain": [
       "1100"
      ]
     },
     "execution_count": 11,
     "metadata": {},
     "output_type": "execute_result"
    }
   ],
   "source": [
    "# ((2) 向量 (內、外)乘 向量\n",
    "\n",
    "xV1= [10, 20]\n",
    "xV2= [30, 40]\n",
    "\n",
    "xV1= np.array(xV1)\n",
    "xV2= np.array(xV2)\n",
    "\n",
    "np.dot(xV1, xV2)"
   ]
  },
  {
   "cell_type": "code",
   "execution_count": 12,
   "metadata": {
    "colab": {
     "base_uri": "https://localhost:8080/"
    },
    "id": "b4HGnZMEStDD",
    "outputId": "d26983b2-f098-4257-ee70-5da1ef32beb7"
   },
   "outputs": [
    {
     "data": {
      "text/plain": [
       "array([[300, 400],\n",
       "       [600, 800]])"
      ]
     },
     "execution_count": 12,
     "metadata": {},
     "output_type": "execute_result"
    }
   ],
   "source": [
    "np.outer(xV1, xV2)"
   ]
  },
  {
   "cell_type": "code",
   "execution_count": 13,
   "metadata": {
    "colab": {
     "base_uri": "https://localhost:8080/",
     "height": 35
    },
    "id": "YaFFBb9WS4zs",
    "outputId": "7bf522d0-b744-4ee4-e013-b2c974be53cf"
   },
   "outputs": [
    {
     "data": {
      "text/plain": [
       "'\\nCompute the outer product of two vectors.\\n'"
      ]
     },
     "execution_count": 13,
     "metadata": {},
     "output_type": "execute_result"
    },
    {
     "data": {
      "text/plain": [
       "\u001b[1;31mSignature:\u001b[0m \u001b[0mnp\u001b[0m\u001b[1;33m.\u001b[0m\u001b[0mouter\u001b[0m\u001b[1;33m(\u001b[0m\u001b[0ma\u001b[0m\u001b[1;33m,\u001b[0m \u001b[0mb\u001b[0m\u001b[1;33m,\u001b[0m \u001b[0mout\u001b[0m\u001b[1;33m=\u001b[0m\u001b[1;32mNone\u001b[0m\u001b[1;33m)\u001b[0m\u001b[1;33m\u001b[0m\u001b[1;33m\u001b[0m\u001b[0m\n",
       "\u001b[1;31mDocstring:\u001b[0m\n",
       "Compute the outer product of two vectors.\n",
       "\n",
       "Given two vectors, ``a = [a0, a1, ..., aM]`` and\n",
       "``b = [b0, b1, ..., bN]``,\n",
       "the outer product [1]_ is::\n",
       "\n",
       "  [[a0*b0  a0*b1 ... a0*bN ]\n",
       "   [a1*b0    .\n",
       "   [ ...          .\n",
       "   [aM*b0            aM*bN ]]\n",
       "\n",
       "Parameters\n",
       "----------\n",
       "a : (M,) array_like\n",
       "    First input vector.  Input is flattened if\n",
       "    not already 1-dimensional.\n",
       "b : (N,) array_like\n",
       "    Second input vector.  Input is flattened if\n",
       "    not already 1-dimensional.\n",
       "out : (M, N) ndarray, optional\n",
       "    A location where the result is stored\n",
       "\n",
       "    .. versionadded:: 1.9.0\n",
       "\n",
       "Returns\n",
       "-------\n",
       "out : (M, N) ndarray\n",
       "    ``out[i, j] = a[i] * b[j]``\n",
       "\n",
       "See also\n",
       "--------\n",
       "inner\n",
       "einsum : ``einsum('i,j->ij', a.ravel(), b.ravel())`` is the equivalent.\n",
       "ufunc.outer : A generalization to dimensions other than 1D and other\n",
       "              operations. ``np.multiply.outer(a.ravel(), b.ravel())``\n",
       "              is the equivalent.\n",
       "tensordot : ``np.tensordot(a.ravel(), b.ravel(), axes=((), ()))``\n",
       "            is the equivalent.\n",
       "\n",
       "References\n",
       "----------\n",
       ".. [1] : G. H. Golub and C. F. Van Loan, *Matrix Computations*, 3rd\n",
       "         ed., Baltimore, MD, Johns Hopkins University Press, 1996,\n",
       "         pg. 8.\n",
       "\n",
       "Examples\n",
       "--------\n",
       "Make a (*very* coarse) grid for computing a Mandelbrot set:\n",
       "\n",
       ">>> rl = np.outer(np.ones((5,)), np.linspace(-2, 2, 5))\n",
       ">>> rl\n",
       "array([[-2., -1.,  0.,  1.,  2.],\n",
       "       [-2., -1.,  0.,  1.,  2.],\n",
       "       [-2., -1.,  0.,  1.,  2.],\n",
       "       [-2., -1.,  0.,  1.,  2.],\n",
       "       [-2., -1.,  0.,  1.,  2.]])\n",
       ">>> im = np.outer(1j*np.linspace(2, -2, 5), np.ones((5,)))\n",
       ">>> im\n",
       "array([[0.+2.j, 0.+2.j, 0.+2.j, 0.+2.j, 0.+2.j],\n",
       "       [0.+1.j, 0.+1.j, 0.+1.j, 0.+1.j, 0.+1.j],\n",
       "       [0.+0.j, 0.+0.j, 0.+0.j, 0.+0.j, 0.+0.j],\n",
       "       [0.-1.j, 0.-1.j, 0.-1.j, 0.-1.j, 0.-1.j],\n",
       "       [0.-2.j, 0.-2.j, 0.-2.j, 0.-2.j, 0.-2.j]])\n",
       ">>> grid = rl + im\n",
       ">>> grid\n",
       "array([[-2.+2.j, -1.+2.j,  0.+2.j,  1.+2.j,  2.+2.j],\n",
       "       [-2.+1.j, -1.+1.j,  0.+1.j,  1.+1.j,  2.+1.j],\n",
       "       [-2.+0.j, -1.+0.j,  0.+0.j,  1.+0.j,  2.+0.j],\n",
       "       [-2.-1.j, -1.-1.j,  0.-1.j,  1.-1.j,  2.-1.j],\n",
       "       [-2.-2.j, -1.-2.j,  0.-2.j,  1.-2.j,  2.-2.j]])\n",
       "\n",
       "An example using a \"vector\" of letters:\n",
       "\n",
       ">>> x = np.array(['a', 'b', 'c'], dtype=object)\n",
       ">>> np.outer(x, [1, 2, 3])\n",
       "array([['a', 'aa', 'aaa'],\n",
       "       ['b', 'bb', 'bbb'],\n",
       "       ['c', 'cc', 'ccc']], dtype=object)\n",
       "\u001b[1;31mFile:\u001b[0m      m:\\programdata\\anaconda3\\lib\\site-packages\\numpy\\core\\numeric.py\n",
       "\u001b[1;31mType:\u001b[0m      function\n"
      ]
     },
     "metadata": {},
     "output_type": "display_data"
    }
   ],
   "source": [
    "np.outer?\n",
    "'''\n",
    "Compute the outer product of two vectors.\n",
    "'''"
   ]
  },
  {
   "cell_type": "code",
   "execution_count": 14,
   "metadata": {
    "colab": {
     "base_uri": "https://localhost:8080/"
    },
    "id": "Vm0gCVewTT5K",
    "outputId": "1c51f44e-ee0e-4274-d661-c90ccbea46a7"
   },
   "outputs": [
    {
     "data": {
      "text/plain": [
       "array(-200)"
      ]
     },
     "execution_count": 14,
     "metadata": {},
     "output_type": "execute_result"
    }
   ],
   "source": [
    "np.cross(xV1, xV2)"
   ]
  },
  {
   "cell_type": "code",
   "execution_count": 15,
   "metadata": {
    "colab": {
     "base_uri": "https://localhost:8080/",
     "height": 70
    },
    "id": "gjj9NbsCTpha",
    "outputId": "f07d55a9-4487-4205-b34c-6febc38ed698"
   },
   "outputs": [
    {
     "data": {
      "text/plain": [
       "'\\nReturn the cross product of two (arrays of) vectors.\\nThe cross product of `a` and `b` in :math:`R^3` \\nis a vector perpendicular\\nto both `a` and `b`. \\n需要進一步畫圖解釋...\\n'"
      ]
     },
     "execution_count": 15,
     "metadata": {},
     "output_type": "execute_result"
    },
    {
     "data": {
      "text/plain": [
       "\u001b[1;31mSignature:\u001b[0m \u001b[0mnp\u001b[0m\u001b[1;33m.\u001b[0m\u001b[0mcross\u001b[0m\u001b[1;33m(\u001b[0m\u001b[0ma\u001b[0m\u001b[1;33m,\u001b[0m \u001b[0mb\u001b[0m\u001b[1;33m,\u001b[0m \u001b[0maxisa\u001b[0m\u001b[1;33m=\u001b[0m\u001b[1;33m-\u001b[0m\u001b[1;36m1\u001b[0m\u001b[1;33m,\u001b[0m \u001b[0maxisb\u001b[0m\u001b[1;33m=\u001b[0m\u001b[1;33m-\u001b[0m\u001b[1;36m1\u001b[0m\u001b[1;33m,\u001b[0m \u001b[0maxisc\u001b[0m\u001b[1;33m=\u001b[0m\u001b[1;33m-\u001b[0m\u001b[1;36m1\u001b[0m\u001b[1;33m,\u001b[0m \u001b[0maxis\u001b[0m\u001b[1;33m=\u001b[0m\u001b[1;32mNone\u001b[0m\u001b[1;33m)\u001b[0m\u001b[1;33m\u001b[0m\u001b[1;33m\u001b[0m\u001b[0m\n",
       "\u001b[1;31mDocstring:\u001b[0m\n",
       "Return the cross product of two (arrays of) vectors.\n",
       "\n",
       "The cross product of `a` and `b` in :math:`R^3` is a vector perpendicular\n",
       "to both `a` and `b`.  If `a` and `b` are arrays of vectors, the vectors\n",
       "are defined by the last axis of `a` and `b` by default, and these axes\n",
       "can have dimensions 2 or 3.  Where the dimension of either `a` or `b` is\n",
       "2, the third component of the input vector is assumed to be zero and the\n",
       "cross product calculated accordingly.  In cases where both input vectors\n",
       "have dimension 2, the z-component of the cross product is returned.\n",
       "\n",
       "Parameters\n",
       "----------\n",
       "a : array_like\n",
       "    Components of the first vector(s).\n",
       "b : array_like\n",
       "    Components of the second vector(s).\n",
       "axisa : int, optional\n",
       "    Axis of `a` that defines the vector(s).  By default, the last axis.\n",
       "axisb : int, optional\n",
       "    Axis of `b` that defines the vector(s).  By default, the last axis.\n",
       "axisc : int, optional\n",
       "    Axis of `c` containing the cross product vector(s).  Ignored if\n",
       "    both input vectors have dimension 2, as the return is scalar.\n",
       "    By default, the last axis.\n",
       "axis : int, optional\n",
       "    If defined, the axis of `a`, `b` and `c` that defines the vector(s)\n",
       "    and cross product(s).  Overrides `axisa`, `axisb` and `axisc`.\n",
       "\n",
       "Returns\n",
       "-------\n",
       "c : ndarray\n",
       "    Vector cross product(s).\n",
       "\n",
       "Raises\n",
       "------\n",
       "ValueError\n",
       "    When the dimension of the vector(s) in `a` and/or `b` does not\n",
       "    equal 2 or 3.\n",
       "\n",
       "See Also\n",
       "--------\n",
       "inner : Inner product\n",
       "outer : Outer product.\n",
       "ix_ : Construct index arrays.\n",
       "\n",
       "Notes\n",
       "-----\n",
       ".. versionadded:: 1.9.0\n",
       "\n",
       "Supports full broadcasting of the inputs.\n",
       "\n",
       "Examples\n",
       "--------\n",
       "Vector cross-product.\n",
       "\n",
       ">>> x = [1, 2, 3]\n",
       ">>> y = [4, 5, 6]\n",
       ">>> np.cross(x, y)\n",
       "array([-3,  6, -3])\n",
       "\n",
       "One vector with dimension 2.\n",
       "\n",
       ">>> x = [1, 2]\n",
       ">>> y = [4, 5, 6]\n",
       ">>> np.cross(x, y)\n",
       "array([12, -6, -3])\n",
       "\n",
       "Equivalently:\n",
       "\n",
       ">>> x = [1, 2, 0]\n",
       ">>> y = [4, 5, 6]\n",
       ">>> np.cross(x, y)\n",
       "array([12, -6, -3])\n",
       "\n",
       "Both vectors with dimension 2.\n",
       "\n",
       ">>> x = [1,2]\n",
       ">>> y = [4,5]\n",
       ">>> np.cross(x, y)\n",
       "array(-3)\n",
       "\n",
       "Multiple vector cross-products. Note that the direction of the cross\n",
       "product vector is defined by the `right-hand rule`.\n",
       "\n",
       ">>> x = np.array([[1,2,3], [4,5,6]])\n",
       ">>> y = np.array([[4,5,6], [1,2,3]])\n",
       ">>> np.cross(x, y)\n",
       "array([[-3,  6, -3],\n",
       "       [ 3, -6,  3]])\n",
       "\n",
       "The orientation of `c` can be changed using the `axisc` keyword.\n",
       "\n",
       ">>> np.cross(x, y, axisc=0)\n",
       "array([[-3,  3],\n",
       "       [ 6, -6],\n",
       "       [-3,  3]])\n",
       "\n",
       "Change the vector definition of `x` and `y` using `axisa` and `axisb`.\n",
       "\n",
       ">>> x = np.array([[1,2,3], [4,5,6], [7, 8, 9]])\n",
       ">>> y = np.array([[7, 8, 9], [4,5,6], [1,2,3]])\n",
       ">>> np.cross(x, y)\n",
       "array([[ -6,  12,  -6],\n",
       "       [  0,   0,   0],\n",
       "       [  6, -12,   6]])\n",
       ">>> np.cross(x, y, axisa=0, axisb=0)\n",
       "array([[-24,  48, -24],\n",
       "       [-30,  60, -30],\n",
       "       [-36,  72, -36]])\n",
       "\u001b[1;31mFile:\u001b[0m      m:\\programdata\\anaconda3\\lib\\site-packages\\numpy\\core\\numeric.py\n",
       "\u001b[1;31mType:\u001b[0m      function\n"
      ]
     },
     "metadata": {},
     "output_type": "display_data"
    }
   ],
   "source": [
    "np.cross?\n",
    "'''\n",
    "Return the cross product of two (arrays of) vectors.\n",
    "The cross product of `a` and `b` in :math:`R^3` \n",
    "is a vector perpendicular\n",
    "to both `a` and `b`. \n",
    "需要進一步畫圖解釋...\n",
    "'''"
   ]
  },
  {
   "cell_type": "code",
   "execution_count": 16,
   "metadata": {
    "colab": {
     "base_uri": "https://localhost:8080/",
     "height": 53
    },
    "id": "CY0MKVWiUEji",
    "outputId": "e6bd38dc-0c66-47df-bdea-af6c59eb7594"
   },
   "outputs": [
    {
     "data": {
      "text/plain": [
       "'\\naM xV = bV\\n\\naM= \\n[[1, -2],\\n [2, 1]]\\n\\nxV= \\n[[x1], \\n [x2]]\\n\\nbV=\\n[[1], \\n [7]]\\n'"
      ]
     },
     "execution_count": 16,
     "metadata": {},
     "output_type": "execute_result"
    }
   ],
   "source": [
    "# Linear equations\n",
    "'''\n",
    "x - 2y = 1\n",
    "2x + y = 7\n",
    "\n",
    "(x,y) = ?\n",
    "'''\n",
    "\n",
    "'''\n",
    "aM xV = bV\n",
    "\n",
    "aM= \n",
    "[[1, -2],\n",
    " [2, 1]]\n",
    "\n",
    "xV= \n",
    "[[x1], \n",
    " [x2]]\n",
    "\n",
    "bV=\n",
    "[[1], \n",
    " [7]]\n",
    "'''\n"
   ]
  },
  {
   "cell_type": "code",
   "execution_count": 17,
   "metadata": {
    "colab": {
     "base_uri": "https://localhost:8080/"
    },
    "id": "UooAkf_lWJDj",
    "outputId": "28349cd9-5b01-4d42-cb87-1fe4fe756125"
   },
   "outputs": [
    {
     "data": {
      "text/plain": [
       "[[1, -2], [2, 1]]"
      ]
     },
     "execution_count": 17,
     "metadata": {},
     "output_type": "execute_result"
    }
   ],
   "source": [
    "# 矩陣 aMatrix\n",
    "\n",
    "aM= [[1, -2],\n",
    "   [2, 1]]\n",
    "aM"
   ]
  },
  {
   "cell_type": "code",
   "execution_count": 18,
   "metadata": {
    "colab": {
     "base_uri": "https://localhost:8080/"
    },
    "id": "sv_w_-QaWJHT",
    "outputId": "108a6876-fcd2-4345-ba8d-a2a83d7f2090"
   },
   "outputs": [
    {
     "data": {
      "text/plain": [
       "[[1, -2], [2, 1], [1, -2], [2, 1]]"
      ]
     },
     "execution_count": 18,
     "metadata": {},
     "output_type": "execute_result"
    }
   ],
   "source": [
    "aM + aM\n",
    "# 這是錯的，它只是 python List 的串接，並非數學上 矩陣的相加"
   ]
  },
  {
   "cell_type": "code",
   "execution_count": 19,
   "metadata": {
    "colab": {
     "base_uri": "https://localhost:8080/"
    },
    "id": "-KMa34GuWJLU",
    "outputId": "34405482-48ff-4362-c937-6ea9e044e9a1"
   },
   "outputs": [
    {
     "data": {
      "text/plain": [
       "array([[ 1, -2],\n",
       "       [ 2,  1]])"
      ]
     },
     "execution_count": 19,
     "metadata": {},
     "output_type": "execute_result"
    }
   ],
   "source": [
    "# 借助 numpy\n",
    "aM = np.array(aM)\n",
    "aM"
   ]
  },
  {
   "cell_type": "code",
   "execution_count": 20,
   "metadata": {
    "colab": {
     "base_uri": "https://localhost:8080/"
    },
    "id": "RADU6q1PW_ME",
    "outputId": "79200152-890b-4c4b-c556-003b51723888"
   },
   "outputs": [
    {
     "data": {
      "text/plain": [
       "array([[ 2, -4],\n",
       "       [ 4,  2]])"
      ]
     },
     "execution_count": 20,
     "metadata": {},
     "output_type": "execute_result"
    }
   ],
   "source": [
    "aM + aM"
   ]
  },
  {
   "cell_type": "code",
   "execution_count": 21,
   "metadata": {
    "colab": {
     "base_uri": "https://localhost:8080/"
    },
    "id": "Cp_PTou1XCfo",
    "outputId": "7af9fc82-37d3-474d-f19f-4dda2bb45657"
   },
   "outputs": [
    {
     "data": {
      "text/plain": [
       "array([[ 10, -20],\n",
       "       [ 20,  10]])"
      ]
     },
     "execution_count": 21,
     "metadata": {},
     "output_type": "execute_result"
    }
   ],
   "source": [
    "aM * 10"
   ]
  },
  {
   "cell_type": "code",
   "execution_count": 22,
   "metadata": {
    "colab": {
     "base_uri": "https://localhost:8080/"
    },
    "id": "EuTrt8QKXH3E",
    "outputId": "2c6a5754-4a5c-4c69-f974-eea321653828"
   },
   "outputs": [
    {
     "data": {
      "text/plain": [
       "array([[1, 4],\n",
       "       [4, 1]])"
      ]
     },
     "execution_count": 22,
     "metadata": {},
     "output_type": "execute_result"
    }
   ],
   "source": [
    "aM * aM\n",
    "# 這是錯的，它並非數學上矩陣的相乘，\n",
    "# 僅是 矩陣中元素對元素的相乘 (element-wise multiplication)"
   ]
  },
  {
   "cell_type": "code",
   "execution_count": 23,
   "metadata": {
    "colab": {
     "base_uri": "https://localhost:8080/"
    },
    "id": "1lqcMmhSXKv9",
    "outputId": "1a6b858b-5cea-4be1-cf32-301a719fd019"
   },
   "outputs": [
    {
     "data": {
      "text/plain": [
       "array([[-3, -4],\n",
       "       [ 4, -3]])"
      ]
     },
     "execution_count": 23,
     "metadata": {},
     "output_type": "execute_result"
    }
   ],
   "source": [
    "np.matmul(aM, aM)\n",
    "# 這才是正常的矩陣相乘，用紙筆算算看"
   ]
  },
  {
   "cell_type": "code",
   "execution_count": 24,
   "metadata": {
    "colab": {
     "base_uri": "https://localhost:8080/"
    },
    "id": "r_anHDd0Xoc2",
    "outputId": "01f18342-143a-4f37-9fae-2b9965a02acf"
   },
   "outputs": [
    {
     "data": {
      "text/plain": [
       "array([[-3, -4],\n",
       "       [ 4, -3]])"
      ]
     },
     "execution_count": 24,
     "metadata": {},
     "output_type": "execute_result"
    }
   ],
   "source": [
    "# 矩陣乘法的特殊算符 @\n",
    "aM @ aM"
   ]
  },
  {
   "cell_type": "code",
   "execution_count": 25,
   "metadata": {
    "colab": {
     "base_uri": "https://localhost:8080/"
    },
    "id": "FYz8atohYJDM",
    "outputId": "2cb74176-fe04-4584-cdc4-71a8fe51197d"
   },
   "outputs": [
    {
     "data": {
      "text/plain": [
       "array([[ 1, -2],\n",
       "       [ 2,  1]])"
      ]
     },
     "execution_count": 25,
     "metadata": {},
     "output_type": "execute_result"
    }
   ],
   "source": [
    "# 矩陣 乘 向量\n",
    "\n",
    "aM= [[1, -2],\n",
    "   [2, 1]]\n",
    "\n",
    "bV= [[1], \n",
    "   [7]]\n",
    "\n",
    "# 上面用手打完，它們 僅是 Python List，\n",
    "# 須執行以下指令轉成 numpy array \n",
    "# 才有強大的 numpy 數學工具可用\n",
    "aM= np.array(aM)\n",
    "bV= np.array(bV)\n",
    "\n",
    "aM"
   ]
  },
  {
   "cell_type": "code",
   "execution_count": 26,
   "metadata": {
    "colab": {
     "base_uri": "https://localhost:8080/"
    },
    "id": "W6BxnChVYvcO",
    "outputId": "64f582f7-2798-470e-cad1-8c2ab3e773e4"
   },
   "outputs": [
    {
     "data": {
      "text/plain": [
       "array([[1],\n",
       "       [7]])"
      ]
     },
     "execution_count": 26,
     "metadata": {},
     "output_type": "execute_result"
    }
   ],
   "source": [
    "bV"
   ]
  },
  {
   "cell_type": "code",
   "execution_count": 27,
   "metadata": {
    "colab": {
     "base_uri": "https://localhost:8080/"
    },
    "id": "BO7pWSH-ZZ7c",
    "outputId": "15ef73cb-6e7e-4756-eecb-9b44254017ef"
   },
   "outputs": [
    {
     "data": {
      "text/plain": [
       "array([[-13],\n",
       "       [  9]])"
      ]
     },
     "execution_count": 27,
     "metadata": {},
     "output_type": "execute_result"
    }
   ],
   "source": [
    "# 在 numpy 裡面，向量也算矩陣的一種特例，\n",
    "# 因此矩陣乘向量可以透過矩陣乘矩陣來運行 \n",
    "np.matmul(aM, bV)"
   ]
  },
  {
   "cell_type": "code",
   "execution_count": 28,
   "metadata": {
    "colab": {
     "base_uri": "https://localhost:8080/"
    },
    "id": "eyumfjvQZcki",
    "outputId": "56247015-3076-40a8-e953-4f712d5a6337"
   },
   "outputs": [
    {
     "data": {
      "text/plain": [
       "array([[-13],\n",
       "       [  9]])"
      ]
     },
     "execution_count": 28,
     "metadata": {},
     "output_type": "execute_result"
    }
   ],
   "source": [
    "# 或者 使用 算符 @\n",
    "aM @ bV\n"
   ]
  },
  {
   "cell_type": "code",
   "execution_count": 29,
   "metadata": {
    "colab": {
     "base_uri": "https://localhost:8080/",
     "height": 237
    },
    "id": "E3XgSdbFaNcO",
    "outputId": "fbd99ad5-df15-44fd-d202-b8996cea2cb6"
   },
   "outputs": [
    {
     "ename": "ValueError",
     "evalue": "matmul: Input operand 1 has a mismatch in its core dimension 0, with gufunc signature (n?,k),(k,m?)->(n?,m?) (size 2 is different from 1)",
     "output_type": "error",
     "traceback": [
      "\u001b[1;31m---------------------------------------------------------------------------\u001b[0m",
      "\u001b[1;31mValueError\u001b[0m                                Traceback (most recent call last)",
      "\u001b[1;32m<ipython-input-29-966fab110116>\u001b[0m in \u001b[0;36m<module>\u001b[1;34m\u001b[0m\n\u001b[0;32m      1\u001b[0m \u001b[1;31m# 回憶一下 矩陣相乘(或矩陣乘向量)時，順序不能亂調，涉及矩陣或向量本身的形狀及維度。\u001b[0m\u001b[1;33m\u001b[0m\u001b[1;33m\u001b[0m\u001b[1;33m\u001b[0m\u001b[0m\n\u001b[0;32m      2\u001b[0m \u001b[1;33m\u001b[0m\u001b[0m\n\u001b[1;32m----> 3\u001b[1;33m \u001b[0mbV\u001b[0m \u001b[1;33m@\u001b[0m \u001b[0maM\u001b[0m\u001b[1;33m\u001b[0m\u001b[1;33m\u001b[0m\u001b[0m\n\u001b[0m",
      "\u001b[1;31mValueError\u001b[0m: matmul: Input operand 1 has a mismatch in its core dimension 0, with gufunc signature (n?,k),(k,m?)->(n?,m?) (size 2 is different from 1)"
     ]
    }
   ],
   "source": [
    "# 回憶一下 矩陣相乘(或矩陣乘向量)時，順序不能亂調，涉及矩陣或向量本身的形狀及維度。\n",
    "\n",
    "bV @ aM"
   ]
  },
  {
   "cell_type": "code",
   "execution_count": null,
   "metadata": {
    "id": "XFh4JA3Ga0yr"
   },
   "outputs": [],
   "source": [
    "bV"
   ]
  },
  {
   "cell_type": "code",
   "execution_count": null,
   "metadata": {
    "id": "YghDK6Ykbmek"
   },
   "outputs": [],
   "source": [
    "bV.shape"
   ]
  },
  {
   "cell_type": "code",
   "execution_count": null,
   "metadata": {
    "id": "gDxek_7Mbo54"
   },
   "outputs": [],
   "source": [
    "aM"
   ]
  },
  {
   "cell_type": "code",
   "execution_count": null,
   "metadata": {
    "id": "ZSB7Pvu6br6B"
   },
   "outputs": [],
   "source": [
    "aM.shape"
   ]
  },
  {
   "cell_type": "code",
   "execution_count": null,
   "metadata": {
    "id": "EYvQeTgXbtjF"
   },
   "outputs": [],
   "source": [
    "# (2,2)矩陣 可以乘 (2,1)矩陣\n",
    "aM @ bV\n"
   ]
  },
  {
   "cell_type": "code",
   "execution_count": null,
   "metadata": {
    "id": "NhPQmJBUci79"
   },
   "outputs": [],
   "source": [
    "\n",
    "# (2,1)矩陣 不能乘 (2,2)矩陣\n",
    "bV @ aM"
   ]
  },
  {
   "cell_type": "code",
   "execution_count": null,
   "metadata": {
    "id": "K_1qW7L3cWz-"
   },
   "outputs": [],
   "source": []
  },
  {
   "cell_type": "code",
   "execution_count": null,
   "metadata": {
    "id": "YtGdqgA3cZB0"
   },
   "outputs": [],
   "source": [
    "# Inverse matrices\n",
    "\n",
    "# 先講矩陣世界中的單位矩陣 Identity Matrix, I\n",
    "# 相當於數字世界中的 1\n",
    "# 誰乘上這個 I (或 1)，都等於它自己\n",
    "\n",
    "I= np.eye(1)\n",
    "I"
   ]
  },
  {
   "cell_type": "code",
   "execution_count": null,
   "metadata": {
    "id": "vzveI1AWc7AA"
   },
   "outputs": [],
   "source": [
    "I= np.eye(2)\n",
    "I"
   ]
  },
  {
   "cell_type": "code",
   "execution_count": null,
   "metadata": {
    "id": "5kLu1szheIeM"
   },
   "outputs": [],
   "source": [
    "I= np.eye(3)\n",
    "I"
   ]
  },
  {
   "cell_type": "code",
   "execution_count": null,
   "metadata": {
    "id": "gYdo9TRKeLxg"
   },
   "outputs": [],
   "source": [
    "np.eye?\n",
    "'''\n",
    "Return a 2-D array with ones on the diagonal and zeros elsewhere.\n",
    "'''"
   ]
  },
  {
   "cell_type": "code",
   "execution_count": null,
   "metadata": {
    "id": "2YY5-HVgePDG"
   },
   "outputs": [],
   "source": [
    "aM"
   ]
  },
  {
   "cell_type": "code",
   "execution_count": null,
   "metadata": {
    "id": "AhPgnE-6eX9J"
   },
   "outputs": [],
   "source": [
    "I= np.eye(2)\n",
    "I"
   ]
  },
  {
   "cell_type": "code",
   "execution_count": null,
   "metadata": {
    "id": "3rAV_OeFecNR"
   },
   "outputs": [],
   "source": [
    "aM @ I"
   ]
  },
  {
   "cell_type": "code",
   "execution_count": null,
   "metadata": {
    "id": "xgF9HWNfefw4"
   },
   "outputs": [],
   "source": [
    "I @ aM"
   ]
  },
  {
   "cell_type": "code",
   "execution_count": null,
   "metadata": {
    "id": "iuqLrQg-eiKI"
   },
   "outputs": [],
   "source": [
    "# 有了 I 的概念，知道了任何矩陣乘上 I 會等於 那個矩陣自己\n",
    "# 那麼，能否找出 任何矩陣乘上什麼東西，會等於 I 呢？\n",
    "# 從數字來說， (10) * 1 = (10)\n",
    "# (10) * 【?】 == 1\n",
    "# 從矩陣來說 aM @ I = aM\n",
    "# aM @ 【?】== I\n",
    "# 答案是 【反矩陣】 (Inverse matrices)\n"
   ]
  },
  {
   "cell_type": "code",
   "execution_count": null,
   "metadata": {
    "id": "lOFNiKAXgKZo"
   },
   "outputs": [],
   "source": [
    "invM= np.linalg.inv(aM) # 這個反矩陣算法(inv)藏得比較深，在 np.linalg 這個模組中\n",
    "invM"
   ]
  },
  {
   "cell_type": "code",
   "execution_count": null,
   "metadata": {
    "id": "mDoVvg0MgXcG"
   },
   "outputs": [],
   "source": [
    "aM @ invM"
   ]
  },
  {
   "cell_type": "code",
   "execution_count": null,
   "metadata": {
    "id": "-yp9vn18h0pv"
   },
   "outputs": [],
   "source": [
    "invM @ aM"
   ]
  },
  {
   "cell_type": "code",
   "execution_count": null,
   "metadata": {
    "id": "Ae9SeRT0h4-z"
   },
   "outputs": [],
   "source": [
    "# 走到這裡，我們終於有足夠的工具來解決 線性方程組的問題了\n",
    "# Linear equations\n",
    "'''\n",
    "x - 2y = 1\n",
    "2x + y = 7\n",
    "\n",
    "(x,y) = ?\n",
    "'''\n",
    "\n",
    "'''\n",
    "aM xV = bV\n",
    "\n",
    "aM= \n",
    "[[1, -2],\n",
    " [2, 1]]\n",
    "\n",
    "xV= \n",
    "[[x1], \n",
    " [x2]]\n",
    "\n",
    "bV=\n",
    "[[1], \n",
    " [7]]\n",
    "'''\n",
    "\n",
    "'''\n",
    "aM @ xV = bV\n",
    "==> 求解 xV = inv(aM) @ bV\n",
    "驗算： aM @ xV ==?== bV \n",
    "'''\n"
   ]
  },
  {
   "cell_type": "code",
   "execution_count": null,
   "metadata": {
    "id": "TlmGPs1ijgMl"
   },
   "outputs": [],
   "source": [
    "aM= [[1, -2],\n",
    "   [2, 1]]\n",
    "\n",
    "xV= [[x1], \n",
    "   [x2]]\n",
    "\n",
    "bV= [[1], \n",
    "   [7]]\n",
    "\n",
    "aM= np.array(aM)\n",
    "xV= np.array(xV)\n",
    "bV= np.array(bV)\n",
    "\n",
    "# ==> \n",
    "invM= np.linalg.inv(aM)\n",
    "xV= invM @ bV\n",
    "xV"
   ]
  },
  {
   "cell_type": "code",
   "execution_count": null,
   "metadata": {
    "id": "aqW1KWfCjtjk"
   },
   "outputs": [],
   "source": [
    "# 上面就是方程式之解答了\n",
    "# 還可驗算一下：\n",
    "左邊= aM @ xV\n",
    "左邊"
   ]
  },
  {
   "cell_type": "code",
   "execution_count": null,
   "metadata": {
    "id": "BZtL7VoNkUKF"
   },
   "outputs": [],
   "source": [
    "右邊= bV\n",
    "右邊"
   ]
  },
  {
   "cell_type": "code",
   "execution_count": null,
   "metadata": {
    "id": "vKI0W5hWkVdm"
   },
   "outputs": [],
   "source": [
    "左邊 == 右邊"
   ]
  },
  {
   "cell_type": "code",
   "execution_count": null,
   "metadata": {
    "id": "NYV9E5OfklL4"
   },
   "outputs": [],
   "source": [
    "# 蛤！蝦毀，怎麼全 False???\n",
    "# 難道我的眼睛有業障？!@#$%^&*()\n",
    "np.isclose(左邊, 右邊, rtol=1e-05, atol=1e-08, equal_nan=False)"
   ]
  },
  {
   "cell_type": "code",
   "execution_count": null,
   "metadata": {
    "id": "eULwSLuZlwlH"
   },
   "outputs": [],
   "source": [
    "# 這個要解釋一下....\n",
    "np.isclose?\n",
    "'''\n",
    "Returns a boolean array where two arrays are element-wise equal \n",
    "within a tolerance.\n",
    "'''"
   ]
  },
  {
   "cell_type": "code",
   "execution_count": null,
   "metadata": {
    "id": "9xO67-1BmJQ3"
   },
   "outputs": [],
   "source": [
    "# Matrix transpose\n",
    "\n",
    "aM"
   ]
  },
  {
   "cell_type": "code",
   "execution_count": null,
   "metadata": {
    "id": "fQg0eGklmcEP"
   },
   "outputs": [],
   "source": [
    "aM.transpose()"
   ]
  },
  {
   "cell_type": "code",
   "execution_count": null,
   "metadata": {
    "id": "s5OVp4EomjZE"
   },
   "outputs": [],
   "source": [
    "# np.linalg 模組中還有很多寶貝值得挖掘\n",
    "\n",
    "np.linalg.solve?\n",
    "'''\n",
    "Solve a linear matrix equation, or system of linear scalar equations.\n",
    "'''"
   ]
  },
  {
   "cell_type": "code",
   "execution_count": null,
   "metadata": {
    "id": "5967Qjkqm_ok"
   },
   "outputs": [],
   "source": [
    "np.linalg.solve(aM, bV)"
   ]
  },
  {
   "cell_type": "code",
   "execution_count": null,
   "metadata": {
    "id": "rk1YpTo-nNHS"
   },
   "outputs": [],
   "source": [
    "# for more, goto\n",
    "# https://numpy.org/doc/stable/reference/routines.linalg.html\n"
   ]
  },
  {
   "cell_type": "code",
   "execution_count": null,
   "metadata": {
    "id": "OMNeihX9yMLl"
   },
   "outputs": [],
   "source": []
  },
  {
   "cell_type": "code",
   "execution_count": null,
   "metadata": {
    "id": "Kbpq9hgkyMR2"
   },
   "outputs": [],
   "source": []
  },
  {
   "cell_type": "code",
   "execution_count": null,
   "metadata": {
    "id": "FPJuKS32yMWT"
   },
   "outputs": [],
   "source": [
    "# Matrix Decompositions\n",
    "\n",
    "# https://people.duke.edu/~ccc14/sta-663-2016/07_LinearAlgebra2.html\n"
   ]
  },
  {
   "cell_type": "code",
   "execution_count": null,
   "metadata": {
    "id": "cLQKj2mdyMaL"
   },
   "outputs": [],
   "source": [
    "# LU Decomposition\n",
    "'''\n",
    "LU stands for ‘Lower Upper’, \n",
    "and so an LU decomposition of a matrix A \n",
    "is a decomposition so that\n",
    "A = LU\n",
    "'''\n",
    "\n",
    "import numpy as np\n",
    "import scipy.linalg as la\n",
    "np.set_printoptions(suppress=True)\n",
    "\n",
    "A= [[1,3,4],\n",
    "   [2,1,3],\n",
    "   [4,1,2]]\n",
    "\n",
    "L= [[1,0,0],\n",
    "  [2,1,0],\n",
    "  [4,11/5,1]]\n",
    "\n",
    "U= [[1,3,4],\n",
    "  [0,-5,-5],\n",
    "  [0,0,-3]]\n",
    "\n",
    "A= np.array(A)\n",
    "L= np.array(L)\n",
    "U= np.array(U)\n"
   ]
  },
  {
   "cell_type": "code",
   "execution_count": null,
   "metadata": {
    "id": "lx5gPtov0bIR"
   },
   "outputs": [],
   "source": [
    "A"
   ]
  },
  {
   "cell_type": "code",
   "execution_count": null,
   "metadata": {
    "id": "AS1cGV4O0jcN"
   },
   "outputs": [],
   "source": [
    "L@U"
   ]
  },
  {
   "cell_type": "code",
   "execution_count": null,
   "metadata": {
    "id": "vcFmWLoK0dwe"
   },
   "outputs": [],
   "source": [
    "np.isclose(A, L@U)"
   ]
  },
  {
   "cell_type": "code",
   "execution_count": null,
   "metadata": {
    "id": "5So4DWgV0tOx"
   },
   "outputs": [],
   "source": [
    "# try to synthesize a L matrix and a U matrix\n",
    "# to become a A matrix\n",
    "\n",
    "L= [ [1,0],\n",
    "   [2,3]]\n",
    "U= [[1,2],\n",
    "  [0,3]]\n",
    "\n",
    "L= np.array(L)\n",
    "U= np.array(U)\n",
    "A = L@U\n",
    "A"
   ]
  },
  {
   "cell_type": "code",
   "execution_count": null,
   "metadata": {
    "id": "HWnWknY91vgb"
   },
   "outputs": [],
   "source": [
    "import scipy.linalg as la\n",
    "P, L, U= la.lu(A)\n",
    "\n"
   ]
  },
  {
   "cell_type": "code",
   "execution_count": null,
   "metadata": {
    "id": "lnq1IN6Q2OzY"
   },
   "outputs": [],
   "source": [
    "P"
   ]
  },
  {
   "cell_type": "code",
   "execution_count": null,
   "metadata": {
    "id": "GvS670Ly2V3A"
   },
   "outputs": [],
   "source": [
    "L"
   ]
  },
  {
   "cell_type": "code",
   "execution_count": null,
   "metadata": {
    "id": "SjYUWhXC2W7S"
   },
   "outputs": [],
   "source": [
    "U"
   ]
  },
  {
   "cell_type": "code",
   "execution_count": null,
   "metadata": {
    "id": "ep60apRP2YR4"
   },
   "outputs": [],
   "source": [
    "la.lu?"
   ]
  },
  {
   "cell_type": "code",
   "execution_count": null,
   "metadata": {
    "id": "VlV-eIfJ2eQg"
   },
   "outputs": [],
   "source": [
    "P@L@U"
   ]
  },
  {
   "cell_type": "markdown",
   "metadata": {
    "id": "YIuf19zE2oqt"
   },
   "source": [
    "# https://docs.scipy.org/doc/scipy/reference/tutorial/linalg.html\n",
    "\n",
    "'''\n",
    "Linear Algebra (scipy.linalg)\n",
    "When SciPy is built using the optimized ATLAS LAPACK and BLAS libraries, \n",
    "it has very fast linear algebra capabilities. \n",
    "If you dig deep enough, \n",
    "all of the raw LAPACK and BLAS libraries are available \n",
    "for your use for even more speed. \n",
    "In this section, some easier-to-use interfaces to these routines are described.\n",
    "'''\n"
   ]
  },
  {
   "cell_type": "code",
   "execution_count": null,
   "metadata": {
    "id": "0bu-zlw6BVaQ"
   },
   "outputs": [],
   "source": [
    "# Basic routines\n",
    "## Finding the inverse\n",
    "## Solving a linear system\n",
    "## Finding the determinant\n",
    "## Computing norms\n",
    "## Solving linear least-squares problems and pseudo-inverses\n",
    "## Generalized inverse\n",
    "\n",
    "# Decompositions\n",
    "## Eigenvalues and eigenvectors\n",
    "## Singular value decomposition\n",
    "## LU decomposition\n",
    "## Cholesky decomposition\n",
    "## QR decomposition\n",
    "## Schur decomposition\n",
    "## Interpolative decomposition\n",
    "\n",
    "# Matrix functions\n",
    "## Exponential and logarithm functions\n",
    "## Trigonometric functions\n",
    "## Hyperbolic trigonometric functions\n",
    "## Arbitrary function\n",
    "\n",
    "# Special matrices\n",
    "\n"
   ]
  },
  {
   "cell_type": "code",
   "execution_count": null,
   "metadata": {
    "id": "w53cpvLuD8dc"
   },
   "outputs": [],
   "source": [
    "# Linear Algebra Examples\n",
    "## https://people.duke.edu/~ccc14/sta-663-2016/08_LinearAlgebraExamples.html\n"
   ]
  },
  {
   "cell_type": "code",
   "execution_count": null,
   "metadata": {
    "id": "YI_5pPuzD8hn"
   },
   "outputs": [],
   "source": [
    "# Applications of Linear Alebra: PCA\n",
    "## https://people.duke.edu/~ccc14/sta-663-2016/09_PCA.html\n"
   ]
  },
  {
   "cell_type": "code",
   "execution_count": 32,
   "metadata": {
    "id": "O4PVSCkSD8mD"
   },
   "outputs": [
    {
     "data": {
      "text/plain": [
       "array([3.75, 1.25])"
      ]
     },
     "execution_count": 32,
     "metadata": {},
     "output_type": "execute_result"
    }
   ],
   "source": [
    "np.linalg.solve([[1,5],[5,1]],[10,20])"
   ]
  },
  {
   "cell_type": "code",
   "execution_count": 33,
   "metadata": {},
   "outputs": [
    {
     "data": {
      "text/plain": [
       "(array([ 6., -4.]),\n",
       " array([[ 0.70710678, -0.70710678],\n",
       "        [ 0.70710678,  0.70710678]]))"
      ]
     },
     "execution_count": 33,
     "metadata": {},
     "output_type": "execute_result"
    }
   ],
   "source": [
    "np.linalg.eig([[1,5],[5,1]])"
   ]
  },
  {
   "cell_type": "code",
   "execution_count": null,
   "metadata": {},
   "outputs": [],
   "source": []
  }
 ],
 "metadata": {
  "colab": {
   "name": "ryPattern001_LinearAlgebra.ipynb",
   "provenance": []
  },
  "kernelspec": {
   "display_name": "Python 3",
   "language": "python",
   "name": "python3"
  },
  "language_info": {
   "codemirror_mode": {
    "name": "ipython",
    "version": 3
   },
   "file_extension": ".py",
   "mimetype": "text/x-python",
   "name": "python",
   "nbconvert_exporter": "python",
   "pygments_lexer": "ipython3",
   "version": "3.8.8"
  }
 },
 "nbformat": 4,
 "nbformat_minor": 4
}
