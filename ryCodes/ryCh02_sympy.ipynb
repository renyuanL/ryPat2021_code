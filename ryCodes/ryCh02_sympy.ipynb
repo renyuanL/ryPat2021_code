{
 "cells": [
  {
   "cell_type": "code",
   "execution_count": 1,
   "id": "a4574a74-1e01-4d59-8bf1-931703dfa247",
   "metadata": {},
   "outputs": [
    {
     "data": {
      "text/latex": [
       "$\\displaystyle x^{2} + x + 1$"
      ],
      "text/plain": [
       "x**2 + x + 1"
      ]
     },
     "execution_count": 1,
     "metadata": {},
     "output_type": "execute_result"
    }
   ],
   "source": [
    "# 用 sympy 來驗證 Chain-Rule\n",
    "\n",
    "import sympy as sy\n",
    "\n",
    "def f(x):\n",
    "    y= 1 + x + x**2\n",
    "    return y\n",
    "def g(x):\n",
    "    y= x**3\n",
    "    return y\n",
    "\n",
    "x= sy.symbols('x')\n",
    "\n",
    "f(x)"
   ]
  },
  {
   "cell_type": "code",
   "execution_count": 435,
   "id": "c03f3a0e-67b6-4478-87f1-617648f7e5f2",
   "metadata": {},
   "outputs": [
    {
     "data": {
      "text/latex": [
       "$\\displaystyle x^{3}$"
      ],
      "text/plain": [
       "x**3"
      ]
     },
     "execution_count": 435,
     "metadata": {},
     "output_type": "execute_result"
    }
   ],
   "source": [
    "g(x)"
   ]
  },
  {
   "cell_type": "code",
   "execution_count": 436,
   "id": "a7666508-eb88-4b82-aa1a-be8922a5e231",
   "metadata": {},
   "outputs": [
    {
     "data": {
      "text/latex": [
       "$\\displaystyle 2 x + 1$"
      ],
      "text/plain": [
       "2*x + 1"
      ]
     },
     "execution_count": 436,
     "metadata": {},
     "output_type": "execute_result"
    }
   ],
   "source": [
    "f(x).diff(x)"
   ]
  },
  {
   "cell_type": "code",
   "execution_count": 437,
   "id": "14a54f2c-1625-4339-8b44-ae585e1ceacb",
   "metadata": {},
   "outputs": [
    {
     "data": {
      "text/latex": [
       "$\\displaystyle 3 x^{2}$"
      ],
      "text/plain": [
       "3*x**2"
      ]
     },
     "execution_count": 437,
     "metadata": {},
     "output_type": "execute_result"
    }
   ],
   "source": [
    "g(x).diff(x)"
   ]
  },
  {
   "cell_type": "code",
   "execution_count": 438,
   "id": "be1c177a-8a58-482e-9520-2b422a2bff83",
   "metadata": {},
   "outputs": [
    {
     "data": {
      "text/latex": [
       "$\\displaystyle x^{6} + x^{3} + 1$"
      ],
      "text/plain": [
       "x**6 + x**3 + 1"
      ]
     },
     "execution_count": 438,
     "metadata": {},
     "output_type": "execute_result"
    }
   ],
   "source": [
    "f(g(x))"
   ]
  },
  {
   "cell_type": "code",
   "execution_count": 439,
   "id": "4d30e199-ea1e-4a04-a3cc-e17d014cf571",
   "metadata": {},
   "outputs": [
    {
     "data": {
      "text/latex": [
       "$\\displaystyle \\left(x^{2} + x + 1\\right)^{3}$"
      ],
      "text/plain": [
       "(x**2 + x + 1)**3"
      ]
     },
     "execution_count": 439,
     "metadata": {},
     "output_type": "execute_result"
    }
   ],
   "source": [
    "g(f(x))"
   ]
  },
  {
   "cell_type": "code",
   "execution_count": 440,
   "id": "ae8cf3b1-bce3-4329-9ae3-83865fe4cc40",
   "metadata": {},
   "outputs": [
    {
     "data": {
      "text/latex": [
       "$\\displaystyle x^{6} + 3 x^{5} + 6 x^{4} + 7 x^{3} + 6 x^{2} + 3 x + 1$"
      ],
      "text/plain": [
       "x**6 + 3*x**5 + 6*x**4 + 7*x**3 + 6*x**2 + 3*x + 1"
      ]
     },
     "execution_count": 440,
     "metadata": {},
     "output_type": "execute_result"
    }
   ],
   "source": [
    "g(f(x)).expand()"
   ]
  },
  {
   "cell_type": "code",
   "execution_count": 441,
   "id": "6d784db2-1c5d-4664-b196-802dc78e18c3",
   "metadata": {},
   "outputs": [
    {
     "data": {
      "text/latex": [
       "$\\displaystyle γ^{2} + γ + 1$"
      ],
      "text/plain": [
       "γ**2 + γ + 1"
      ]
     },
     "execution_count": 441,
     "metadata": {},
     "output_type": "execute_result"
    }
   ],
   "source": [
    "ϕ, γ= sy.symbols('ϕ, γ') # ϕ, γ are Greek letters for f, g\n",
    "f(γ)"
   ]
  },
  {
   "cell_type": "code",
   "execution_count": 442,
   "id": "cbc5a96f-3725-4b3f-b64e-7240ba77e7fb",
   "metadata": {},
   "outputs": [
    {
     "data": {
      "text/latex": [
       "$\\displaystyle ϕ^{3}$"
      ],
      "text/plain": [
       "ϕ**3"
      ]
     },
     "execution_count": 442,
     "metadata": {},
     "output_type": "execute_result"
    }
   ],
   "source": [
    "g(ϕ)"
   ]
  },
  {
   "cell_type": "code",
   "execution_count": 443,
   "id": "5a18be27-76a4-451c-a5bc-f9901e98fe46",
   "metadata": {},
   "outputs": [
    {
     "data": {
      "text/latex": [
       "$\\displaystyle x^{6} + x^{3} + 1$"
      ],
      "text/plain": [
       "x**6 + x**3 + 1"
      ]
     },
     "execution_count": 443,
     "metadata": {},
     "output_type": "execute_result"
    }
   ],
   "source": [
    "Φ = f(g(x))\n",
    "Φ"
   ]
  },
  {
   "cell_type": "code",
   "execution_count": 445,
   "id": "fc16b0c3-1a0f-47d4-94b3-c6b69dd7dc92",
   "metadata": {},
   "outputs": [
    {
     "data": {
      "text/latex": [
       "$\\displaystyle x^{6} + 3 x^{5} + 6 x^{4} + 7 x^{3} + 6 x^{2} + 3 x + 1$"
      ],
      "text/plain": [
       "x**6 + 3*x**5 + 6*x**4 + 7*x**3 + 6*x**2 + 3*x + 1"
      ]
     },
     "execution_count": 445,
     "metadata": {},
     "output_type": "execute_result"
    }
   ],
   "source": [
    "Γ= g(f(x))\n",
    "Γ.expand()"
   ]
  },
  {
   "cell_type": "code",
   "execution_count": 446,
   "id": "e0cc36af-0c05-4773-87fd-8a2695550196",
   "metadata": {},
   "outputs": [
    {
     "data": {
      "text/latex": [
       "$\\displaystyle γ^{2} + γ + 1$"
      ],
      "text/plain": [
       "γ**2 + γ + 1"
      ]
     },
     "execution_count": 446,
     "metadata": {},
     "output_type": "execute_result"
    }
   ],
   "source": [
    "Φ_γ= f(γ)\n",
    "Φ_γ"
   ]
  },
  {
   "cell_type": "code",
   "execution_count": 447,
   "id": "d53e941e-0ca5-4fb9-972c-4a5c6f756c16",
   "metadata": {},
   "outputs": [
    {
     "data": {
      "text/latex": [
       "$\\displaystyle ϕ^{3}$"
      ],
      "text/plain": [
       "ϕ**3"
      ]
     },
     "execution_count": 447,
     "metadata": {},
     "output_type": "execute_result"
    }
   ],
   "source": [
    "Γ_ϕ= g(ϕ)\n",
    "Γ_ϕ"
   ]
  },
  {
   "cell_type": "code",
   "execution_count": 448,
   "id": "b35a53ff-6f0a-46ed-99a3-493dace2c12a",
   "metadata": {},
   "outputs": [
    {
     "data": {
      "text/latex": [
       "$\\displaystyle 2 γ + 1$"
      ],
      "text/plain": [
       "2*γ + 1"
      ]
     },
     "execution_count": 448,
     "metadata": {},
     "output_type": "execute_result"
    }
   ],
   "source": [
    "Φ_γ.diff(γ)"
   ]
  },
  {
   "cell_type": "code",
   "execution_count": 449,
   "id": "063e2e4e-b088-471f-9f5b-12b69745723e",
   "metadata": {},
   "outputs": [
    {
     "data": {
      "text/latex": [
       "$\\displaystyle 3 x^{2}$"
      ],
      "text/plain": [
       "3*x**2"
      ]
     },
     "execution_count": 449,
     "metadata": {},
     "output_type": "execute_result"
    }
   ],
   "source": [
    "g(x).diff(x)"
   ]
  },
  {
   "cell_type": "code",
   "execution_count": 451,
   "id": "53fc50cf-f257-40a0-9b3a-6d05e63c3cfb",
   "metadata": {},
   "outputs": [
    {
     "data": {
      "text/latex": [
       "$\\displaystyle 3 x^{2} \\left(2 x^{3} + 1\\right)$"
      ],
      "text/plain": [
       "3*x**2*(2*x**3 + 1)"
      ]
     },
     "execution_count": 451,
     "metadata": {},
     "output_type": "execute_result"
    }
   ],
   "source": [
    "# dΦ/dγ * dγ/dx\n",
    "(\n",
    "Φ_γ.diff(γ) \n",
    "* g(x).diff(x)\n",
    ").subs(γ, g(x))"
   ]
  },
  {
   "cell_type": "code",
   "execution_count": 452,
   "id": "29f9e159-56ac-43b2-b2c3-ea2be571d736",
   "metadata": {},
   "outputs": [
    {
     "data": {
      "text/latex": [
       "$\\displaystyle 6 x^{5} + 3 x^{2}$"
      ],
      "text/plain": [
       "6*x**5 + 3*x**2"
      ]
     },
     "execution_count": 452,
     "metadata": {},
     "output_type": "execute_result"
    }
   ],
   "source": [
    "#dΦ/dx\n",
    "Φ.diff(x)"
   ]
  },
  {
   "cell_type": "code",
   "execution_count": 454,
   "id": "8ac098c6-b746-48b7-b096-fae05e597dca",
   "metadata": {},
   "outputs": [],
   "source": [
    "#  dΦ/dγ * dγ/dx ==  dΦ/dx\n",
    "assert (\n",
    "Φ_γ.diff(γ) \n",
    "* g(x).diff(x)\n",
    ").subs(γ, g(x)).expand() == Φ.diff(x).expand()"
   ]
  },
  {
   "cell_type": "code",
   "execution_count": 455,
   "id": "0bebb898-b379-493f-b7b7-039d36b44186",
   "metadata": {},
   "outputs": [
    {
     "data": {
      "text/latex": [
       "$\\displaystyle 3 \\left(2 x + 1\\right) \\left(x^{2} + x + 1\\right)^{2}$"
      ],
      "text/plain": [
       "3*(2*x + 1)*(x**2 + x + 1)**2"
      ]
     },
     "execution_count": 455,
     "metadata": {},
     "output_type": "execute_result"
    }
   ],
   "source": [
    "# dΓ/dϕ * dϕ/dx\n",
    "(\n",
    "Γ_ϕ.diff(ϕ) \n",
    "* f(x).diff(x)\n",
    ").subs(ϕ, f(x))"
   ]
  },
  {
   "cell_type": "code",
   "execution_count": 456,
   "id": "28dbb144-8018-453c-943e-7fb47cb8710b",
   "metadata": {},
   "outputs": [
    {
     "data": {
      "text/latex": [
       "$\\displaystyle \\left(6 x + 3\\right) \\left(x^{2} + x + 1\\right)^{2}$"
      ],
      "text/plain": [
       "(6*x + 3)*(x**2 + x + 1)**2"
      ]
     },
     "execution_count": 456,
     "metadata": {},
     "output_type": "execute_result"
    }
   ],
   "source": [
    "#dΓ/dx\n",
    "Γ.diff(x)"
   ]
  },
  {
   "cell_type": "code",
   "execution_count": 457,
   "id": "de9e6bd7-81dd-403f-8634-5d03572888b2",
   "metadata": {},
   "outputs": [],
   "source": [
    "# dΓ/dϕ * dϕ/dx == dΓ/dx\n",
    "assert (\n",
    "Γ_ϕ.diff(ϕ) \n",
    "* f(x).diff(x)\n",
    ").subs(ϕ, f(x)).expand() == Γ.diff(x).expand()"
   ]
  },
  {
   "cell_type": "code",
   "execution_count": null,
   "id": "55e5f87e-057c-4f4d-9619-465f52a8eca7",
   "metadata": {},
   "outputs": [],
   "source": []
  },
  {
   "cell_type": "code",
   "execution_count": 367,
   "id": "695ace48-a101-4219-a61c-50177c6c62ac",
   "metadata": {},
   "outputs": [
    {
     "data": {
      "image/png": "[encoded data removed]",
      "text/plain": [
       "<Figure size 432x288 with 1 Axes>"
      ]
     },
     "metadata": {
      "needs_background": "light"
     },
     "output_type": "display_data"
    },
    {
     "data": {
      "image/png": "[encoded data removed]",
      "text/plain": [
       "<Figure size 432x288 with 1 Axes>"
      ]
     },
     "metadata": {
      "needs_background": "light"
     },
     "output_type": "display_data"
    }
   ],
   "source": [
    "\n",
    "# 用 numpy 來算微分、積分、並作圖\n",
    "def f(x):\n",
    "    y= 1 + x + x**2\n",
    "    #y= np.cos(x) + np.cos(2*x) + np.cos(3*x)\n",
    "    #y= np.exp(-x) * np.cos(x)\n",
    "    return y\n",
    "\n",
    "x= np.linspace(-10,10,1001) # N=1001 越大越好，代表，分得越精細，  dx -->0\n",
    "y= f(x)\n",
    "\n",
    "#z= y.diff()\n",
    "\n",
    "dx= x[1:]-x[0:-1]\n",
    "#dx= np.append(dx, dx[-1])\n",
    "dx= np.insert(dx, 0, dx[0])  # 在最前端補1點 = dx[0]\n",
    "\n",
    "dy= y[1:]-y[0:-1]\n",
    "#dy= np.append(dy, dy[-1])\n",
    "dy= np.insert(dy,0, dy[0]) # 在最前端補1點 = dy[0]\n",
    "dy_dx= dy/dx\n",
    "\n",
    "import matplotlib.pyplot as pl\n",
    "pl.plot(x, y, 'r', \n",
    "        x, dy_dx,'g')\n",
    "pl.grid()\n",
    "pl.show()\n",
    "\n",
    "# 用 numpy 來算積分並作圖\n",
    "\n",
    "sY= (y*dx).cumsum()\n",
    "\n",
    "#sY= np.insert(sY, 0, y[0]) # 在最前端補1點 = y[0]\n",
    "# .cumsum() 不須補 0 了\n",
    "\n",
    "pl.plot(x, y, 'r',\n",
    "        x, dy_dx, 'g',\n",
    "        x, sY,'b')\n",
    "pl.grid()\n",
    "pl.show()"
   ]
  },
  {
   "cell_type": "code",
   "execution_count": null,
   "id": "df370137-d327-4709-8345-a469ac10dedf",
   "metadata": {},
   "outputs": [],
   "source": []
  },
  {
   "cell_type": "code",
   "execution_count": 419,
   "id": "2896b419-0db1-43a3-a3c6-3bc60f8ddf27",
   "metadata": {},
   "outputs": [
    {
     "data": {
      "text/latex": [
       "$\\displaystyle x^{2} + x + 1$"
      ],
      "text/plain": [
       "x**2 + x + 1"
      ]
     },
     "execution_count": 419,
     "metadata": {},
     "output_type": "execute_result"
    }
   ],
   "source": [
    "import sympy as sy\n",
    "\n",
    "x=  sy.Symbol('x')\n",
    "def f(x):\n",
    "    y= 1 +x +x**2\n",
    "    return y\n",
    "\n",
    "f(x)"
   ]
  },
  {
   "cell_type": "code",
   "execution_count": 420,
   "id": "b5f5e657-dc4e-4e89-8483-da80e30ea86d",
   "metadata": {},
   "outputs": [
    {
     "data": {
      "text/latex": [
       "$\\displaystyle x^{3}$"
      ],
      "text/plain": [
       "x**3"
      ]
     },
     "execution_count": 420,
     "metadata": {},
     "output_type": "execute_result"
    }
   ],
   "source": [
    "def g(x):\n",
    "    y= x**3\n",
    "    return y\n",
    "\n",
    "g(x)"
   ]
  },
  {
   "cell_type": "code",
   "execution_count": 421,
   "id": "78194356-5521-49ac-b02f-23c1da6dd237",
   "metadata": {},
   "outputs": [
    {
     "data": {
      "text/latex": [
       "$\\displaystyle x^{6} + x^{3} + 1$"
      ],
      "text/plain": [
       "x**6 + x**3 + 1"
      ]
     },
     "execution_count": 421,
     "metadata": {},
     "output_type": "execute_result"
    }
   ],
   "source": [
    "f(g(x))"
   ]
  },
  {
   "cell_type": "code",
   "execution_count": 429,
   "id": "9f303b04-66c6-48d9-a7a9-073bd833d7dc",
   "metadata": {},
   "outputs": [
    {
     "data": {
      "text/latex": [
       "$\\displaystyle x^{6} + 3 x^{5} + 6 x^{4} + 7 x^{3} + 6 x^{2} + 3 x + 1$"
      ],
      "text/plain": [
       "x**6 + 3*x**5 + 6*x**4 + 7*x**3 + 6*x**2 + 3*x + 1"
      ]
     },
     "execution_count": 429,
     "metadata": {},
     "output_type": "execute_result"
    }
   ],
   "source": [
    "g(f(x)).expand()"
   ]
  },
  {
   "cell_type": "code",
   "execution_count": 423,
   "id": "8f5b7853-b6cb-441a-b78b-c4c996590b3f",
   "metadata": {},
   "outputs": [],
   "source": [
    "ϕ, γ= sy.symbols('ϕ, γ')\n"
   ]
  },
  {
   "cell_type": "code",
   "execution_count": 424,
   "id": "e11b26ce-a387-4f1c-8e30-b5b2166e2dd3",
   "metadata": {},
   "outputs": [
    {
     "data": {
      "text/latex": [
       "$\\displaystyle γ^{2} + γ + 1$"
      ],
      "text/plain": [
       "γ**2 + γ + 1"
      ]
     },
     "execution_count": 424,
     "metadata": {},
     "output_type": "execute_result"
    }
   ],
   "source": [
    "f(g(x)).subs(g(x),γ)"
   ]
  },
  {
   "cell_type": "code",
   "execution_count": 425,
   "id": "68c05d99-6551-4783-b0ed-5f8cb8f3aa2d",
   "metadata": {},
   "outputs": [
    {
     "data": {
      "text/latex": [
       "$\\displaystyle ϕ^{3}$"
      ],
      "text/plain": [
       "ϕ**3"
      ]
     },
     "execution_count": 425,
     "metadata": {},
     "output_type": "execute_result"
    }
   ],
   "source": [
    "g(f(x)).subs(f(x),ϕ)"
   ]
  },
  {
   "cell_type": "code",
   "execution_count": 426,
   "id": "57d020f1-b885-4884-9967-dd973f4758fe",
   "metadata": {},
   "outputs": [
    {
     "data": {
      "text/latex": [
       "$\\displaystyle 2 γ + 1$"
      ],
      "text/plain": [
       "2*γ + 1"
      ]
     },
     "execution_count": 426,
     "metadata": {},
     "output_type": "execute_result"
    }
   ],
   "source": [
    "f(g(x)).subs(g(x),γ).diff(γ)"
   ]
  },
  {
   "cell_type": "code",
   "execution_count": 428,
   "id": "c1871b8f-8386-4cb6-8897-ea051717eea9",
   "metadata": {},
   "outputs": [
    {
     "data": {
      "text/latex": [
       "$\\displaystyle 2 γ + 1$"
      ],
      "text/plain": [
       "2*γ + 1"
      ]
     },
     "execution_count": 428,
     "metadata": {},
     "output_type": "execute_result"
    }
   ],
   "source": [
    "f(γ).diff(γ)"
   ]
  },
  {
   "cell_type": "code",
   "execution_count": null,
   "id": "1beef973-8d23-465f-8de1-21e6f941cef6",
   "metadata": {},
   "outputs": [],
   "source": []
  },
  {
   "cell_type": "code",
   "execution_count": null,
   "id": "3c4526b7-f299-436e-8e82-2dd295fe4ff9",
   "metadata": {},
   "outputs": [],
   "source": []
  },
  {
   "cell_type": "code",
   "execution_count": null,
   "id": "045e9cca-6a0f-4ffb-b937-12c614f9fa09",
   "metadata": {},
   "outputs": [],
   "source": []
  },
  {
   "cell_type": "code",
   "execution_count": null,
   "id": "db8190db-db8d-46a4-84fc-1a0b269d1daa",
   "metadata": {},
   "outputs": [],
   "source": []
  },
  {
   "cell_type": "code",
   "execution_count": null,
   "id": "a347cccc-c0cc-4434-8a9e-fea428e2220d",
   "metadata": {},
   "outputs": [],
   "source": []
  },
  {
   "cell_type": "code",
   "execution_count": null,
   "id": "66272887-c22f-45d0-a005-928a36713fa0",
   "metadata": {},
   "outputs": [],
   "source": []
  },
  {
   "cell_type": "code",
   "execution_count": null,
   "id": "d75d889c-d0e5-4234-94d9-8db43358ee7a",
   "metadata": {},
   "outputs": [],
   "source": []
  },
  {
   "cell_type": "code",
   "execution_count": 371,
   "id": "d4491069-a8b4-42ba-b017-e719c6644635",
   "metadata": {},
   "outputs": [
    {
     "data": {
      "text/latex": [
       "$\\displaystyle x^{2} + x + 1$"
      ],
      "text/plain": [
       "x**2 + x + 1"
      ]
     },
     "execution_count": 371,
     "metadata": {},
     "output_type": "execute_result"
    }
   ],
   "source": [
    "import sympy as sy\n",
    "\n",
    "x=  sy.Symbol('x')\n",
    "def f(x):\n",
    "    y= 1 + x + x**2\n",
    "    #y= sy.cos(x) + sy.cos(2*x) + sy.cos(3*x)\n",
    "    #y= sy.exp(-x) * sy.cos(x)\n",
    "    return y\n",
    "\n",
    "f(x)"
   ]
  },
  {
   "cell_type": "code",
   "execution_count": 374,
   "id": "4079566f-a1a0-4748-ad13-08bfdcbf43f3",
   "metadata": {},
   "outputs": [
    {
     "data": {
      "text/latex": [
       "$\\displaystyle x^{2} + x + 1$"
      ],
      "text/plain": [
       "x**2 + x + 1"
      ]
     },
     "execution_count": 374,
     "metadata": {},
     "output_type": "execute_result"
    }
   ],
   "source": [
    "y= f(x)\n",
    "y"
   ]
  },
  {
   "cell_type": "code",
   "execution_count": 383,
   "id": "e57989c9-c49b-4d14-9bec-5bbcdc98943b",
   "metadata": {},
   "outputs": [
    {
     "data": {
      "text/latex": [
       "$\\displaystyle x^{2} + x + \\left(x^{2} + x + 1\\right)^{2} + 2$"
      ],
      "text/plain": [
       "x**2 + x + (x**2 + x + 1)**2 + 2"
      ]
     },
     "execution_count": 383,
     "metadata": {},
     "output_type": "execute_result"
    }
   ],
   "source": [
    "z= f(f(x))\n",
    "z"
   ]
  },
  {
   "cell_type": "code",
   "execution_count": 384,
   "id": "8cc8df26-5c98-4bbb-bbe4-004fb895db8e",
   "metadata": {},
   "outputs": [
    {
     "data": {
      "text/latex": [
       "$\\displaystyle 2 x + 1$"
      ],
      "text/plain": [
       "2*x + 1"
      ]
     },
     "execution_count": 384,
     "metadata": {},
     "output_type": "execute_result"
    }
   ],
   "source": [
    "f(x).diff(x)"
   ]
  },
  {
   "cell_type": "code",
   "execution_count": 387,
   "id": "46af06b7-4e01-490d-ae29-0b7ca22303b9",
   "metadata": {},
   "outputs": [
    {
     "data": {
      "text/latex": [
       "$\\displaystyle 2 q + 1$"
      ],
      "text/plain": [
       "2*q + 1"
      ]
     },
     "execution_count": 387,
     "metadata": {},
     "output_type": "execute_result"
    }
   ],
   "source": [
    "f(q).diff(q)"
   ]
  },
  {
   "cell_type": "code",
   "execution_count": 408,
   "id": "54cd6ae8-b724-4d05-8c30-2a5240f100e2",
   "metadata": {},
   "outputs": [],
   "source": [
    "# df/dq\n",
    "\n",
    "q= sy.Symbol('q')\n",
    "\n",
    "df_dq= (\n",
    "f(f(x))\n",
    ".subs(f(x),q)\n",
    ".diff(q)\n",
    ".subs(q,f(x))\n",
    ")"
   ]
  },
  {
   "cell_type": "code",
   "execution_count": 407,
   "id": "b5b654a2-e8c2-453b-93fe-311706891e32",
   "metadata": {},
   "outputs": [],
   "source": [
    "# dq/dx\n",
    "dq_dx= (\n",
    "q\n",
    ".subs(q, f(x))\n",
    ".diff(x)\n",
    ")\n"
   ]
  },
  {
   "cell_type": "code",
   "execution_count": 406,
   "id": "bb687a00-8808-4f8b-8e07-dac7ae4f3010",
   "metadata": {},
   "outputs": [],
   "source": [
    "#df/dx\n",
    "df_dx= f(f(x)).diff(x)\n"
   ]
  },
  {
   "cell_type": "code",
   "execution_count": 410,
   "id": "5eac4a68-8263-414b-adc1-9b13c663f94e",
   "metadata": {},
   "outputs": [
    {
     "data": {
      "text/latex": [
       "$\\displaystyle 4 x^{3} + 6 x^{2} + 8 x + 3$"
      ],
      "text/plain": [
       "4*x**3 + 6*x**2 + 8*x + 3"
      ]
     },
     "execution_count": 410,
     "metadata": {},
     "output_type": "execute_result"
    }
   ],
   "source": [
    "df_dx.expand()"
   ]
  },
  {
   "cell_type": "code",
   "execution_count": 412,
   "id": "d94a77b2-d417-451e-89c1-370506435c44",
   "metadata": {},
   "outputs": [
    {
     "data": {
      "text/latex": [
       "$\\displaystyle 4 x^{3} + 6 x^{2} + 8 x + 3$"
      ],
      "text/plain": [
       "4*x**3 + 6*x**2 + 8*x + 3"
      ]
     },
     "execution_count": 412,
     "metadata": {},
     "output_type": "execute_result"
    }
   ],
   "source": [
    "(df_dq * dq_dx).expand()\n"
   ]
  },
  {
   "cell_type": "code",
   "execution_count": null,
   "id": "e2470fdd-3880-40a8-a7b9-02f3eb3c7e21",
   "metadata": {},
   "outputs": [],
   "source": []
  },
  {
   "cell_type": "code",
   "execution_count": null,
   "id": "1a3f3f00-6b2d-4521-a897-415e1e9addc2",
   "metadata": {},
   "outputs": [],
   "source": []
  },
  {
   "cell_type": "code",
   "execution_count": null,
   "id": "75dd448a-9d92-4c84-9643-4f99bf87f325",
   "metadata": {},
   "outputs": [],
   "source": []
  },
  {
   "cell_type": "code",
   "execution_count": null,
   "id": "219a6da6-d9a5-4005-83e9-79c203eb8656",
   "metadata": {},
   "outputs": [],
   "source": []
  },
  {
   "cell_type": "code",
   "execution_count": 381,
   "id": "d1fad23b-ceb6-412d-ad41-20ac9cad77e9",
   "metadata": {},
   "outputs": [
    {
     "data": {
      "text/latex": [
       "$\\displaystyle q^{2} + q + 1$"
      ],
      "text/plain": [
       "q**2 + q + 1"
      ]
     },
     "execution_count": 381,
     "metadata": {},
     "output_type": "execute_result"
    }
   ],
   "source": [
    "\n",
    "q= sy.Symbol('q')\n",
    "z= f(q)\n",
    "z"
   ]
  },
  {
   "cell_type": "code",
   "execution_count": null,
   "id": "ebd631e8-4ff0-4459-88b0-a7b6aad4208d",
   "metadata": {},
   "outputs": [],
   "source": []
  },
  {
   "cell_type": "code",
   "execution_count": null,
   "id": "d0918d39-94fa-43a6-b448-2fd0e8a20e4d",
   "metadata": {},
   "outputs": [],
   "source": []
  },
  {
   "cell_type": "code",
   "execution_count": null,
   "id": "3c6bec7e-b33c-490d-9017-687ec5ab13b8",
   "metadata": {},
   "outputs": [],
   "source": []
  },
  {
   "cell_type": "code",
   "execution_count": 382,
   "id": "c8ce330c-cb76-4cc6-9d7e-1302f2e3b123",
   "metadata": {},
   "outputs": [
    {
     "data": {
      "text/latex": [
       "$\\displaystyle x^{2} + x + \\left(x^{2} + x + 1\\right)^{2} + 2$"
      ],
      "text/plain": [
       "x**2 + x + (x**2 + x + 1)**2 + 2"
      ]
     },
     "execution_count": 382,
     "metadata": {},
     "output_type": "execute_result"
    }
   ],
   "source": [
    "z.subs(q, f(x))"
   ]
  },
  {
   "cell_type": "code",
   "execution_count": null,
   "id": "ff1acec2-efed-460e-ab37-10e8558f95ff",
   "metadata": {},
   "outputs": [],
   "source": []
  },
  {
   "cell_type": "code",
   "execution_count": 184,
   "id": "1d7b64b3-e341-4dee-a0a8-6d62f4d49ba7",
   "metadata": {},
   "outputs": [
    {
     "data": {
      "text/plain": [
       "(x, dx)"
      ]
     },
     "execution_count": 184,
     "metadata": {},
     "output_type": "execute_result"
    }
   ],
   "source": [
    "x=  sy.Symbol('x')\n",
    "dx= sy.Symbol('dx')\n",
    "x, dx"
   ]
  },
  {
   "cell_type": "code",
   "execution_count": 262,
   "id": "77a60afe-d6fe-4470-9f06-c3c54d10db4d",
   "metadata": {},
   "outputs": [
    {
     "data": {
      "text/latex": [
       "$\\displaystyle x^{2} + x + 1$"
      ],
      "text/plain": [
       "x**2 + x + 1"
      ]
     },
     "execution_count": 262,
     "metadata": {},
     "output_type": "execute_result"
    }
   ],
   "source": [
    "def f(x):\n",
    "    y= 1 + x + x**2\n",
    "    #y= sy.cos(x) + sy.cos(2*x) + sy.cos(3*x)\n",
    "    #y= sy.exp(-x) * sy.cos(x)\n",
    "    return y\n",
    "\n",
    "f(x)"
   ]
  },
  {
   "cell_type": "code",
   "execution_count": 224,
   "id": "5ef8e477-488e-4820-902d-0f04e41f99b0",
   "metadata": {},
   "outputs": [
    {
     "data": {
      "text/latex": [
       "$\\displaystyle - \\sin{\\left(x \\right)} - 2 \\sin{\\left(2 x \\right)} - 3 \\sin{\\left(3 x \\right)}$"
      ],
      "text/plain": [
       "-sin(x) - 2*sin(2*x) - 3*sin(3*x)"
      ]
     },
     "execution_count": 224,
     "metadata": {},
     "output_type": "execute_result"
    }
   ],
   "source": [
    "((f(x+dx)-f(x))/dx\n",
    ").limit(dx,0)"
   ]
  },
  {
   "cell_type": "code",
   "execution_count": 225,
   "id": "464dcd62-2d6f-44e5-9fc4-13a8ecedd038",
   "metadata": {},
   "outputs": [
    {
     "data": {
      "text/latex": [
       "$\\displaystyle - \\sin{\\left(x \\right)} - 2 \\sin{\\left(2 x \\right)} - 3 \\sin{\\left(3 x \\right)}$"
      ],
      "text/plain": [
       "-sin(x) - 2*sin(2*x) - 3*sin(3*x)"
      ]
     },
     "execution_count": 225,
     "metadata": {},
     "output_type": "execute_result"
    }
   ],
   "source": [
    "f(x).diff(x)"
   ]
  },
  {
   "cell_type": "code",
   "execution_count": 227,
   "id": "46018235-3a2b-40bb-9278-e29c05552d4d",
   "metadata": {},
   "outputs": [
    {
     "data": {
      "text/plain": [
       "-0.8658370272794481"
      ]
     },
     "execution_count": 227,
     "metadata": {},
     "output_type": "execute_result"
    }
   ],
   "source": [
    "float(f(1))"
   ]
  },
  {
   "cell_type": "code",
   "execution_count": 251,
   "id": "31ee352a-12b4-40ab-8e7f-9433b63b6bab",
   "metadata": {},
   "outputs": [
    {
     "data": {
      "text/latex": [
       "$\\displaystyle x^{2} + x + 1$"
      ],
      "text/plain": [
       "x**2 + x + 1"
      ]
     },
     "execution_count": 251,
     "metadata": {},
     "output_type": "execute_result"
    }
   ],
   "source": [
    "p= x**2+x+1\n",
    "q= p**2\n",
    "p"
   ]
  },
  {
   "cell_type": "code",
   "execution_count": 257,
   "id": "cdbd2050-c2c4-4b19-88f3-4a3283d202d8",
   "metadata": {},
   "outputs": [
    {
     "data": {
      "text/latex": [
       "$\\displaystyle \\left(x^{2} + x + 1\\right)^{2}$"
      ],
      "text/plain": [
       "(x**2 + x + 1)**2"
      ]
     },
     "execution_count": 257,
     "metadata": {},
     "output_type": "execute_result"
    }
   ],
   "source": [
    "q"
   ]
  },
  {
   "cell_type": "code",
   "execution_count": 258,
   "id": "e4b04ce5-28fb-469d-8ea4-30e128e32f38",
   "metadata": {},
   "outputs": [
    {
     "data": {
      "text/latex": [
       "$\\displaystyle z^{2}$"
      ],
      "text/plain": [
       "z**2"
      ]
     },
     "execution_count": 258,
     "metadata": {},
     "output_type": "execute_result"
    }
   ],
   "source": [
    "z= sy.Symbol('z')\n",
    "q.subs(p, z)"
   ]
  },
  {
   "cell_type": "code",
   "execution_count": 261,
   "id": "b01237a9-b0ff-4b45-9a0a-df12b13c8630",
   "metadata": {},
   "outputs": [
    {
     "data": {
      "text/latex": [
       "$\\displaystyle \\cos{\\left(x \\right)} + \\cos{\\left(2 x \\right)} + \\cos{\\left(3 x \\right)}$"
      ],
      "text/plain": [
       "cos(x) + cos(2*x) + cos(3*x)"
      ]
     },
     "execution_count": 261,
     "metadata": {},
     "output_type": "execute_result"
    }
   ],
   "source": [
    "f(x)"
   ]
  },
  {
   "cell_type": "code",
   "execution_count": 263,
   "id": "3619b9c7-2c67-42f5-8aa5-f68f388fb25a",
   "metadata": {},
   "outputs": [
    {
     "data": {
      "text/latex": [
       "$\\displaystyle x^{2} + x + 1$"
      ],
      "text/plain": [
       "x**2 + x + 1"
      ]
     },
     "execution_count": 263,
     "metadata": {},
     "output_type": "execute_result"
    }
   ],
   "source": [
    "f(x)"
   ]
  },
  {
   "cell_type": "code",
   "execution_count": 264,
   "id": "c217443f-94a0-47ec-9b1d-8a6350006963",
   "metadata": {},
   "outputs": [],
   "source": [
    "def f(x):\n",
    "    y= x**2 +x +1\n",
    "    return y\n",
    "\n",
    "def g(x):\n",
    "    y= x**2\n",
    "    return y\n"
   ]
  },
  {
   "cell_type": "code",
   "execution_count": 273,
   "id": "4a899505-c764-472e-a6f9-f070a5c0264b",
   "metadata": {},
   "outputs": [
    {
     "data": {
      "text/latex": [
       "$\\displaystyle x^{2} + x + 1$"
      ],
      "text/plain": [
       "x**2 + x + 1"
      ]
     },
     "execution_count": 273,
     "metadata": {},
     "output_type": "execute_result"
    }
   ],
   "source": [
    "x= sy.symbols('x')\n",
    "F= f(x)\n",
    "F"
   ]
  },
  {
   "cell_type": "code",
   "execution_count": 274,
   "id": "66b4f944-b37c-431c-b73b-019f8ddd54e0",
   "metadata": {},
   "outputs": [
    {
     "data": {
      "text/latex": [
       "$\\displaystyle x^{2}$"
      ],
      "text/plain": [
       "x**2"
      ]
     },
     "execution_count": 274,
     "metadata": {},
     "output_type": "execute_result"
    }
   ],
   "source": [
    "G= g(x)\n",
    "G"
   ]
  },
  {
   "cell_type": "code",
   "execution_count": 279,
   "id": "a95abf72-332e-4e02-8aa6-0ae03306f746",
   "metadata": {},
   "outputs": [
    {
     "data": {
      "text/latex": [
       "$\\displaystyle x^{4} + x^{2} + 1$"
      ],
      "text/plain": [
       "x**4 + x**2 + 1"
      ]
     },
     "execution_count": 279,
     "metadata": {},
     "output_type": "execute_result"
    }
   ],
   "source": [
    "F_G= f(g(x))\n",
    "F_G"
   ]
  },
  {
   "cell_type": "code",
   "execution_count": 280,
   "id": "7c5e76f7-642e-4d59-be19-cdff50492e5e",
   "metadata": {},
   "outputs": [
    {
     "data": {
      "text/latex": [
       "$\\displaystyle 4 x^{3} + 2 x$"
      ],
      "text/plain": [
       "4*x**3 + 2*x"
      ]
     },
     "execution_count": 280,
     "metadata": {},
     "output_type": "execute_result"
    }
   ],
   "source": [
    "F_G.diff(x)"
   ]
  },
  {
   "cell_type": "code",
   "execution_count": 287,
   "id": "de6efacf-78ec-4658-a944-583aafa9887c",
   "metadata": {},
   "outputs": [
    {
     "data": {
      "text/plain": [
       "(x**2 + x + 1, x**2, x**4 + x**2 + 1)"
      ]
     },
     "execution_count": 287,
     "metadata": {},
     "output_type": "execute_result"
    }
   ],
   "source": [
    "f(x), g(x), f(g(x))"
   ]
  },
  {
   "cell_type": "code",
   "execution_count": 289,
   "id": "9bd1529c-e931-4814-b789-2677d26090c8",
   "metadata": {},
   "outputs": [
    {
     "data": {
      "text/plain": [
       "(2*x + 1, 2*x, 4*x**3 + 2*x)"
      ]
     },
     "execution_count": 289,
     "metadata": {},
     "output_type": "execute_result"
    }
   ],
   "source": [
    "f(x).diff(x), g(x).diff(x), f(g(x)).diff(x)"
   ]
  },
  {
   "cell_type": "code",
   "execution_count": 296,
   "id": "63ca4b86-744b-4474-8bd9-581bf5982f8f",
   "metadata": {},
   "outputs": [
    {
     "data": {
      "text/latex": [
       "$\\displaystyle 2 x \\left(2 x^{2} + 1\\right)$"
      ],
      "text/plain": [
       "2*x*(2*x**2 + 1)"
      ]
     },
     "execution_count": 296,
     "metadata": {},
     "output_type": "execute_result"
    }
   ],
   "source": [
    "((\n",
    "(f(z).diff(z))\n",
    ".subs(z, g(x))\n",
    ")\n",
    "*g(x).diff(x)\n",
    ")"
   ]
  },
  {
   "cell_type": "code",
   "execution_count": 297,
   "id": "709fd98d-83f6-4ab1-ac38-d5b5b2611c92",
   "metadata": {},
   "outputs": [
    {
     "data": {
      "text/latex": [
       "$\\displaystyle 4 x^{3} + 2 x$"
      ],
      "text/plain": [
       "4*x**3 + 2*x"
      ]
     },
     "execution_count": 297,
     "metadata": {},
     "output_type": "execute_result"
    }
   ],
   "source": [
    "f(g(x)).diff(x)"
   ]
  },
  {
   "cell_type": "code",
   "execution_count": null,
   "id": "7d247ad2-b459-4683-b1cf-b519c40476d0",
   "metadata": {},
   "outputs": [],
   "source": []
  },
  {
   "cell_type": "code",
   "execution_count": 31,
   "id": "3cde7d81-ccd7-49a3-aef0-6f13f776a23d",
   "metadata": {},
   "outputs": [],
   "source": [
    "\n",
    "f= 1 + x + x**2\n",
    "g= sy.cos(x) +sy.cos(2*x) + sy.cos(3*x)\n",
    "h= sy.exp(x) + sy.exp(2*x) +sy.exp(3*x)\n"
   ]
  },
  {
   "cell_type": "code",
   "execution_count": 323,
   "id": "324b22d1-7912-46da-849b-0a87f5748dd7",
   "metadata": {},
   "outputs": [
    {
     "data": {
      "text/latex": [
       "$\\displaystyle x^{2} + x + 1$"
      ],
      "text/plain": [
       "x**2 + x + 1"
      ]
     },
     "execution_count": 323,
     "metadata": {},
     "output_type": "execute_result"
    }
   ],
   "source": [
    "\n",
    "# f1()= f'()         # differentiation\n",
    "# f2()= f1'()= f2()  # 2nd differentiation\n",
    "# F()= Σ f(x)dx      # integration\n",
    "\n",
    "\n",
    "def f(x):\n",
    "    y= x**2+x+1\n",
    "    #y= sy.sin(x) * sy.exp(-x)\n",
    "    return y\n",
    "\n",
    "x= sy.symbols('x')\n",
    "f(x)"
   ]
  },
  {
   "cell_type": "code",
   "execution_count": 328,
   "id": "e6a92dd2-b240-4361-9529-eaf1e483f6b5",
   "metadata": {},
   "outputs": [
    {
     "data": {
      "text/latex": [
       "$\\displaystyle 2 x + 1$"
      ],
      "text/plain": [
       "2*x + 1"
      ]
     },
     "execution_count": 328,
     "metadata": {},
     "output_type": "execute_result"
    }
   ],
   "source": [
    "f1= f(x).diff(x)\n",
    "f1"
   ]
  },
  {
   "cell_type": "code",
   "execution_count": 335,
   "id": "3fd21b59-0df4-40b2-912e-5bb8b9b4d2c6",
   "metadata": {},
   "outputs": [
    {
     "data": {
      "text/latex": [
       "$\\displaystyle \\frac{x^{3}}{3} + \\frac{x^{2}}{2} + x$"
      ],
      "text/plain": [
       "x**3/3 + x**2/2 + x"
      ]
     },
     "execution_count": 335,
     "metadata": {},
     "output_type": "execute_result"
    }
   ],
   "source": [
    "F= f(x).integrate(x)\n",
    "F"
   ]
  },
  {
   "cell_type": "code",
   "execution_count": 334,
   "id": "a667e35c-2a37-4ba3-b129-4b8237e7583a",
   "metadata": {},
   "outputs": [
    {
     "data": {
      "text/latex": [
       "$\\displaystyle \\frac{3}{4}$"
      ],
      "text/plain": [
       "3/4"
      ]
     },
     "execution_count": 334,
     "metadata": {},
     "output_type": "execute_result"
    }
   ],
   "source": [
    "F01= f(x).integrate(x, (x,0,1))\n",
    "F01"
   ]
  },
  {
   "cell_type": "code",
   "execution_count": 332,
   "id": "9d9cbf71-bbf2-4aa6-ab16-27258ae14161",
   "metadata": {},
   "outputs": [
    {
     "data": {
      "text/plain": [
       "0.75"
      ]
     },
     "execution_count": 332,
     "metadata": {},
     "output_type": "execute_result"
    }
   ],
   "source": [
    "float(F01)"
   ]
  },
  {
   "cell_type": "code",
   "execution_count": 339,
   "id": "a633581e-45f3-425d-8f93-feb579e14332",
   "metadata": {},
   "outputs": [
    {
     "data": {
      "text/latex": [
       "$\\displaystyle \\frac{11}{6}$"
      ],
      "text/plain": [
       "11/6"
      ]
     },
     "execution_count": 339,
     "metadata": {},
     "output_type": "execute_result"
    }
   ],
   "source": [
    "F.subs(x,1)-F.subs(x,0)"
   ]
  },
  {
   "cell_type": "code",
   "execution_count": 340,
   "id": "bed6a0ce-8a7c-401e-a1f3-37e3be5228d5",
   "metadata": {},
   "outputs": [
    {
     "data": {
      "text/latex": [
       "$\\displaystyle \\frac{x^{3}}{3} + \\frac{x^{2}}{2} + x$"
      ],
      "text/plain": [
       "x**3/3 + x**2/2 + x"
      ]
     },
     "execution_count": 340,
     "metadata": {},
     "output_type": "execute_result"
    }
   ],
   "source": [
    "F"
   ]
  },
  {
   "cell_type": "code",
   "execution_count": 342,
   "id": "cb20c1b6-e3a0-40bb-b6ec-f56f137212df",
   "metadata": {},
   "outputs": [],
   "source": [
    "g= f(x)"
   ]
  },
  {
   "cell_type": "code",
   "execution_count": 349,
   "id": "39c94b75-3898-4332-a59b-58d552d3a53c",
   "metadata": {},
   "outputs": [
    {
     "data": {
      "text/latex": [
       "$\\displaystyle \\frac{3}{4}$"
      ],
      "text/plain": [
       "3/4"
      ]
     },
     "execution_count": 349,
     "metadata": {},
     "output_type": "execute_result"
    }
   ],
   "source": [
    "g.integrate(x,(x,0,1))"
   ]
  },
  {
   "cell_type": "code",
   "execution_count": 352,
   "id": "025f3a47-55eb-49d6-b738-9595521df269",
   "metadata": {},
   "outputs": [
    {
     "data": {
      "text/latex": [
       "$\\displaystyle \\frac{3}{4}$"
      ],
      "text/plain": [
       "3/4"
      ]
     },
     "execution_count": 352,
     "metadata": {},
     "output_type": "execute_result"
    }
   ],
   "source": [
    "g.integrate(x,(x,0,1))"
   ]
  },
  {
   "cell_type": "code",
   "execution_count": 354,
   "id": "98f3143d-bf6e-4625-bd6c-e546ea417277",
   "metadata": {},
   "outputs": [
    {
     "data": {
      "text/latex": [
       "$\\displaystyle \\frac{x^{3}}{3} + \\frac{x^{2}}{2} + x$"
      ],
      "text/plain": [
       "x**3/3 + x**2/2 + x"
      ]
     },
     "execution_count": 354,
     "metadata": {},
     "output_type": "execute_result"
    }
   ],
   "source": [
    "G= g.integrate(x)\n",
    "G"
   ]
  },
  {
   "cell_type": "code",
   "execution_count": 356,
   "id": "6653ad03-48ce-4e47-946a-ae921e42ce7f",
   "metadata": {},
   "outputs": [
    {
     "data": {
      "text/latex": [
       "$\\displaystyle \\frac{8}{3}$"
      ],
      "text/plain": [
       "8/3"
      ]
     },
     "execution_count": 356,
     "metadata": {},
     "output_type": "execute_result"
    }
   ],
   "source": [
    "G.subs(x,1)-G.subs(x,-1)"
   ]
  },
  {
   "cell_type": "code",
   "execution_count": 357,
   "id": "d13761d0-c642-4735-b6a6-d38b8f4a206e",
   "metadata": {},
   "outputs": [
    {
     "data": {
      "text/latex": [
       "$\\displaystyle \\frac{1}{3}$"
      ],
      "text/plain": [
       "1/3"
      ]
     },
     "execution_count": 357,
     "metadata": {},
     "output_type": "execute_result"
    }
   ],
   "source": [
    "g.integrate(x,(x,-1,1))"
   ]
  },
  {
   "cell_type": "code",
   "execution_count": 360,
   "id": "1b4c5687-fc5c-4e98-be0f-ec6841e57043",
   "metadata": {},
   "outputs": [
    {
     "data": {
      "text/latex": [
       "$\\displaystyle \\frac{11}{6}$"
      ],
      "text/plain": [
       "11/6"
      ]
     },
     "execution_count": 360,
     "metadata": {},
     "output_type": "execute_result"
    }
   ],
   "source": [
    "sy.integrate(g,(x,0,1))"
   ]
  },
  {
   "cell_type": "code",
   "execution_count": 363,
   "id": "5f4c22ef-f08b-413d-b4a7-28f698040151",
   "metadata": {},
   "outputs": [
    {
     "data": {
      "text/latex": [
       "$\\displaystyle \\frac{11}{6}$"
      ],
      "text/plain": [
       "11/6"
      ]
     },
     "execution_count": 363,
     "metadata": {},
     "output_type": "execute_result"
    }
   ],
   "source": [
    "g.integrate((x,0,1))"
   ]
  },
  {
   "cell_type": "code",
   "execution_count": 366,
   "id": "c4ac1bc6-1f2f-4581-887c-3396b91e0e00",
   "metadata": {},
   "outputs": [
    {
     "data": {
      "text/latex": [
       "$\\displaystyle \\frac{11}{6}$"
      ],
      "text/plain": [
       "11/6"
      ]
     },
     "execution_count": 366,
     "metadata": {},
     "output_type": "execute_result"
    }
   ],
   "source": [
    "g.integrate((x,0,1))"
   ]
  },
  {
   "cell_type": "code",
   "execution_count": 43,
   "id": "779d2d43-5d1d-4d71-93e5-db24b7b41f81",
   "metadata": {},
   "outputs": [
    {
     "data": {
      "text/plain": [
       "-78.42632701693294"
      ]
     },
     "execution_count": 43,
     "metadata": {},
     "output_type": "execute_result"
    }
   ],
   "source": [
    "F= (f*g*h).expand()\n",
    "F.subs(x, 1)"
   ]
  },
  {
   "cell_type": "code",
   "execution_count": 69,
   "id": "d8d94e3a-6cf6-4d79-a47f-a59c5421a534",
   "metadata": {},
   "outputs": [
    {
     "data": {
      "text/latex": [
       "$\\displaystyle 2 \\pi$"
      ],
      "text/plain": [
       "2*pi"
      ]
     },
     "execution_count": 69,
     "metadata": {},
     "output_type": "execute_result"
    }
   ],
   "source": [
    "q= sy.csc(x)\n",
    "q.period()\n"
   ]
  },
  {
   "cell_type": "code",
   "execution_count": 79,
   "id": "c3e249a3-bf44-4052-9e13-c8b9f944ad0a",
   "metadata": {},
   "outputs": [
    {
     "data": {
      "text/latex": [
       "$\\displaystyle \\left[\\begin{matrix}2 & 1\\\\1 & 2\\end{matrix}\\right]$"
      ],
      "text/plain": [
       "Matrix([\n",
       "[2, 1],\n",
       "[1, 2]])"
      ]
     },
     "execution_count": 79,
     "metadata": {},
     "output_type": "execute_result"
    }
   ],
   "source": [
    "A= [[2,1],\n",
    "    [1,2]]\n",
    "\n",
    "A= sy.Matrix(A)\n",
    "A"
   ]
  },
  {
   "cell_type": "code",
   "execution_count": 81,
   "id": "0bf294ce-743f-4d54-b9e1-6092b14bcd36",
   "metadata": {},
   "outputs": [
    {
     "data": {
      "text/plain": [
       "[(1,\n",
       "  1,\n",
       "  [Matrix([\n",
       "   [-1],\n",
       "   [ 1]])]),\n",
       " (3,\n",
       "  1,\n",
       "  [Matrix([\n",
       "   [1],\n",
       "   [1]])])]"
      ]
     },
     "execution_count": 81,
     "metadata": {},
     "output_type": "execute_result"
    }
   ],
   "source": [
    "A.eigenvects()"
   ]
  },
  {
   "cell_type": "code",
   "execution_count": 84,
   "id": "f5a3ad9a-8091-4d86-9ccd-009ea9b36bb2",
   "metadata": {},
   "outputs": [
    {
     "data": {
      "text/latex": [
       "$\\displaystyle \\left[\\begin{matrix}\\frac{2}{3} & - \\frac{1}{3}\\\\- \\frac{1}{3} & \\frac{2}{3}\\end{matrix}\\right]$"
      ],
      "text/plain": [
       "Matrix([\n",
       "[ 2/3, -1/3],\n",
       "[-1/3,  2/3]])"
      ]
     },
     "execution_count": 84,
     "metadata": {},
     "output_type": "execute_result"
    }
   ],
   "source": [
    "A.inv()"
   ]
  },
  {
   "cell_type": "code",
   "execution_count": 85,
   "id": "fe25a02c-12df-479f-ba41-300946c201a9",
   "metadata": {},
   "outputs": [
    {
     "data": {
      "text/latex": [
       "$\\displaystyle \\left[\\begin{matrix}2 & 1\\\\1 & 2\\end{matrix}\\right]$"
      ],
      "text/plain": [
       "Matrix([\n",
       "[2, 1],\n",
       "[1, 2]])"
      ]
     },
     "execution_count": 85,
     "metadata": {},
     "output_type": "execute_result"
    }
   ],
   "source": [
    "A.transpose()"
   ]
  },
  {
   "cell_type": "code",
   "execution_count": 90,
   "id": "8beec148-0c53-44ac-b8ff-83fa1f4cae65",
   "metadata": {},
   "outputs": [
    {
     "data": {
      "text/latex": [
       "$\\displaystyle \\left[\\begin{matrix}\\frac{2}{3} & - \\frac{1}{3}\\\\- \\frac{1}{3} & \\frac{2}{3}\\end{matrix}\\right]$"
      ],
      "text/plain": [
       "Matrix([\n",
       "[ 2/3, -1/3],\n",
       "[-1/3,  2/3]])"
      ]
     },
     "execution_count": 90,
     "metadata": {},
     "output_type": "execute_result"
    }
   ],
   "source": [
    "A.inv()\n"
   ]
  },
  {
   "cell_type": "code",
   "execution_count": 102,
   "id": "735b0bf2-8d1b-40e3-b208-92d8db98fa65",
   "metadata": {},
   "outputs": [
    {
     "data": {
      "text/plain": [
       "array([[2, 1],\n",
       "       [1, 2]], dtype=object)"
      ]
     },
     "execution_count": 102,
     "metadata": {},
     "output_type": "execute_result"
    }
   ],
   "source": [
    "import numpy as np\n",
    "np.array(A)"
   ]
  },
  {
   "cell_type": "code",
   "execution_count": 169,
   "id": "f038158e-503c-4ea1-852a-8a2cae98de75",
   "metadata": {},
   "outputs": [
    {
     "data": {
      "image/png": "[encoded data removed]",
      "text/plain": [
       "<Figure size 432x288 with 1 Axes>"
      ]
     },
     "metadata": {
      "needs_background": "light"
     },
     "output_type": "display_data"
    },
    {
     "data": {
      "image/png": "[encoded data removed]",
      "text/plain": [
       "<Figure size 432x288 with 1 Axes>"
      ]
     },
     "metadata": {
      "needs_background": "light"
     },
     "output_type": "display_data"
    }
   ],
   "source": []
  },
  {
   "cell_type": "code",
   "execution_count": 104,
   "id": "5e0de78a-edcf-4ada-b2ea-6da3c7080f07",
   "metadata": {},
   "outputs": [
    {
     "data": {
      "text/latex": [
       "$\\displaystyle \\left[\\begin{matrix}2 & 1\\\\1 & 2\\end{matrix}\\right]$"
      ],
      "text/plain": [
       "Matrix([\n",
       "[2, 1],\n",
       "[1, 2]])"
      ]
     },
     "execution_count": 104,
     "metadata": {},
     "output_type": "execute_result"
    }
   ],
   "source": [
    "A.transpose()"
   ]
  },
  {
   "cell_type": "code",
   "execution_count": null,
   "id": "b0d0033d-ba74-4678-b115-8942edbeb51c",
   "metadata": {},
   "outputs": [],
   "source": []
  },
  {
   "cell_type": "code",
   "execution_count": 166,
   "id": "17b5c36b-3dc5-443a-9e6d-082574050618",
   "metadata": {},
   "outputs": [
    {
     "data": {
      "image/png": "[encoded data removed]",
      "text/plain": [
       "<Figure size 432x288 with 1 Axes>"
      ]
     },
     "metadata": {
      "needs_background": "light"
     },
     "output_type": "display_data"
    }
   ],
   "source": []
  },
  {
   "cell_type": "code",
   "execution_count": 159,
   "id": "bad620ae-637a-4fb4-a038-48f338fe4119",
   "metadata": {},
   "outputs": [
    {
     "data": {
      "text/plain": [
       "101"
      ]
     },
     "execution_count": 159,
     "metadata": {},
     "output_type": "execute_result"
    }
   ],
   "source": [
    "len(sY)"
   ]
  },
  {
   "cell_type": "code",
   "execution_count": 162,
   "id": "e961d795-4c8f-4a51-8ce4-3e68cf4c44bf",
   "metadata": {},
   "outputs": [
    {
     "data": {
      "text/plain": [
       "array([ 1,  3,  6, 10], dtype=int32)"
      ]
     },
     "execution_count": 162,
     "metadata": {},
     "output_type": "execute_result"
    }
   ],
   "source": [
    "z= np.array([1,2,3,4])\n",
    "z.cumsum()"
   ]
  },
  {
   "cell_type": "code",
   "execution_count": 126,
   "id": "a54beccf-a07f-4cf1-b5bd-b033f2138651",
   "metadata": {},
   "outputs": [],
   "source": [
    "\n",
    "dy= y[1:]-y[0:-1]\n",
    "dy= np.append(dy,0)"
   ]
  },
  {
   "cell_type": "code",
   "execution_count": null,
   "id": "5acecb9d-d4a7-49bf-8858-2d3a688d2dad",
   "metadata": {},
   "outputs": [],
   "source": []
  },
  {
   "cell_type": "code",
   "execution_count": null,
   "id": "932d05e1-365c-4173-9533-8bccd404a6d0",
   "metadata": {},
   "outputs": [],
   "source": []
  },
  {
   "cell_type": "code",
   "execution_count": null,
   "id": "73fe7be0-bd5a-47d5-ab27-d8e41dff8631",
   "metadata": {},
   "outputs": [],
   "source": []
  },
  {
   "cell_type": "code",
   "execution_count": 20,
   "id": "9ec9675e-2e99-468d-93de-683482b1e67c",
   "metadata": {},
   "outputs": [
    {
     "data": {
      "text/latex": [
       "$\\displaystyle - \\cos{\\left(x \\right)}$"
      ],
      "text/plain": [
       "-cos(x)"
      ]
     },
     "execution_count": 20,
     "metadata": {},
     "output_type": "execute_result"
    }
   ],
   "source": [
    "sy.sin(x).diff(x).diff(x).diff(x)"
   ]
  },
  {
   "cell_type": "code",
   "execution_count": 21,
   "id": "75fdd743-f8bf-4724-a41c-99f15b2efbdb",
   "metadata": {},
   "outputs": [],
   "source": [
    "x, dx= sy.symbols('x, dx')\n",
    "x, dx"
   ]
  },
  {
   "cell_type": "code",
   "execution_count": 28,
   "id": "85af56b2-1a41-476c-8036-c333179c1bd1",
   "metadata": {},
   "outputs": [
    {
     "data": {
      "text/latex": [
       "$\\displaystyle 1$"
      ],
      "text/plain": [
       "1"
      ]
     },
     "execution_count": 28,
     "metadata": {},
     "output_type": "execute_result"
    }
   ],
   "source": [
    "(sy.sin(dx)/dx).limit(dx,0)"
   ]
  },
  {
   "cell_type": "code",
   "execution_count": 4,
   "id": "4d3b85bc-e954-43ec-ab66-d7c46b6e8540",
   "metadata": {},
   "outputs": [
    {
     "data": {
      "text/plain": [
       "(x, y, z, a, b, c)"
      ]
     },
     "execution_count": 4,
     "metadata": {},
     "output_type": "execute_result"
    }
   ],
   "source": [
    "sy.symbols('x, y, z, a, b, c')"
   ]
  },
  {
   "cell_type": "code",
   "execution_count": 7,
   "id": "06975d8e-150b-48b3-8b19-95ea3a4f2f16",
   "metadata": {},
   "outputs": [
    {
     "data": {
      "text/plain": [
       "(a0, a1, a2, a3, a4, a5, a6, a7, a8, a9)"
      ]
     },
     "execution_count": 7,
     "metadata": {},
     "output_type": "execute_result"
    }
   ],
   "source": [
    "sy.symbols('a:10')"
   ]
  },
  {
   "cell_type": "code",
   "execution_count": 8,
   "id": "b37c5271-e3ed-4434-897a-0384777362df",
   "metadata": {},
   "outputs": [
    {
     "ename": "NameError",
     "evalue": "name 'x' is not defined",
     "output_type": "error",
     "traceback": [
      "\u001b[1;31m---------------------------------------------------------------------------\u001b[0m",
      "\u001b[1;31mNameError\u001b[0m                                 Traceback (most recent call last)",
      "\u001b[1;32m<ipython-input-8-ea5668ec6c05>\u001b[0m in \u001b[0;36m<module>\u001b[1;34m\u001b[0m\n\u001b[1;32m----> 1\u001b[1;33m \u001b[0mtype\u001b[0m\u001b[1;33m(\u001b[0m\u001b[0mx\u001b[0m\u001b[1;33m)\u001b[0m\u001b[1;33m\u001b[0m\u001b[1;33m\u001b[0m\u001b[0m\n\u001b[0m\u001b[0;32m      2\u001b[0m \u001b[1;31m#sympy.core.symbol.Symbol\u001b[0m\u001b[1;33m\u001b[0m\u001b[1;33m\u001b[0m\u001b[1;33m\u001b[0m\u001b[0m\n",
      "\u001b[1;31mNameError\u001b[0m: name 'x' is not defined"
     ]
    }
   ],
   "source": [
    "type(x)\n",
    "#sympy.core.symbol.Symbol"
   ]
  },
  {
   "cell_type": "code",
   "execution_count": 22,
   "id": "d79a6a7a-5099-4215-82d8-89f444159b32",
   "metadata": {},
   "outputs": [
    {
     "data": {
      "text/plain": [
       "sympy.core.add.Add"
      ]
     },
     "execution_count": 22,
     "metadata": {},
     "output_type": "execute_result"
    }
   ],
   "source": [
    "f= x+y\n",
    "type(f)"
   ]
  },
  {
   "cell_type": "code",
   "execution_count": 26,
   "id": "c9342778-79ba-403e-9139-8107e42edcdd",
   "metadata": {},
   "outputs": [
    {
     "data": {
      "text/latex": [
       "$\\displaystyle 10$"
      ],
      "text/plain": [
       "10"
      ]
     },
     "execution_count": 26,
     "metadata": {},
     "output_type": "execute_result"
    }
   ],
   "source": [
    "x.subs(x, 10)"
   ]
  },
  {
   "cell_type": "code",
   "execution_count": 31,
   "id": "1e8cc407-f371-431a-9cb5-5dd9611c9f4d",
   "metadata": {},
   "outputs": [
    {
     "data": {
      "text/plain": [
       "((x + y)**2, 900)"
      ]
     },
     "execution_count": 31,
     "metadata": {},
     "output_type": "execute_result"
    }
   ],
   "source": [
    "f= (x+y)**2\n",
    "f, f.subs({x:10, y:20})"
   ]
  },
  {
   "cell_type": "code",
   "execution_count": 48,
   "id": "227ae95b-28c1-4c32-857d-f9e617689e3e",
   "metadata": {},
   "outputs": [
    {
     "data": {
      "text/plain": [
       "(1/3, 0.3333333333333333)"
      ]
     },
     "execution_count": 48,
     "metadata": {},
     "output_type": "execute_result"
    }
   ],
   "source": [
    "q= Rational(1,3)\n",
    "q, float(q)"
   ]
  },
  {
   "cell_type": "code",
   "execution_count": 50,
   "id": "98db05f9-9ab4-464b-adaf-4f84f1351ec8",
   "metadata": {},
   "outputs": [
    {
     "data": {
      "text/plain": [
       "(11/15, 0.7333333333333333)"
      ]
     },
     "execution_count": 50,
     "metadata": {},
     "output_type": "execute_result"
    }
   ],
   "source": [
    "q1= Rational(1,3) \n",
    "q2= Rational(2,5)\n",
    "q= q1+q2\n",
    "q, float(q)"
   ]
  },
  {
   "cell_type": "code",
   "execution_count": 42,
   "id": "3615c7c6-628d-4136-99d6-a643dfab874a",
   "metadata": {},
   "outputs": [
    {
     "data": {
      "text/plain": [
       "True"
      ]
     },
     "execution_count": 42,
     "metadata": {},
     "output_type": "execute_result"
    }
   ],
   "source": [
    "Integer(1)/Integer(3) == Rational(1,3)"
   ]
  },
  {
   "cell_type": "code",
   "execution_count": 51,
   "id": "aa42a91c-a3f8-4de9-859b-d29ab7f7b37e",
   "metadata": {},
   "outputs": [
    {
     "data": {
      "text/plain": [
       "False"
      ]
     },
     "execution_count": 51,
     "metadata": {},
     "output_type": "execute_result"
    }
   ],
   "source": [
    "Integer(1)/Integer(3) == 1/3"
   ]
  },
  {
   "cell_type": "code",
   "execution_count": 1,
   "id": "66698aae-5f1c-4428-9fe9-0b3cf04faea8",
   "metadata": {},
   "outputs": [],
   "source": [
    "import math\n",
    "import numpy as np\n",
    "import sympy\n"
   ]
  },
  {
   "cell_type": "code",
   "execution_count": 3,
   "id": "12002461-22f3-41c7-8107-10972670a9a8",
   "metadata": {},
   "outputs": [
    {
     "data": {
      "text/plain": [
       "3"
      ]
     },
     "execution_count": 3,
     "metadata": {},
     "output_type": "execute_result"
    }
   ],
   "source": [
    "x= 1\n",
    "y= 2\n",
    "z= x+y\n",
    "z"
   ]
  },
  {
   "cell_type": "code",
   "execution_count": 5,
   "id": "e1792267-26a3-42c0-b49f-e2a271dcd58a",
   "metadata": {},
   "outputs": [
    {
     "data": {
      "text/plain": [
       "[1, 1, 2, 2]"
      ]
     },
     "execution_count": 5,
     "metadata": {},
     "output_type": "execute_result"
    }
   ],
   "source": [
    "x= [1,1]\n",
    "y= [2,2]\n",
    "z= x+y\n",
    "z"
   ]
  },
  {
   "cell_type": "code",
   "execution_count": 10,
   "id": "d2d12e63-be90-48f4-812d-8c0a00ee5e76",
   "metadata": {},
   "outputs": [
    {
     "data": {
      "text/plain": [
       "array([3, 3])"
      ]
     },
     "execution_count": 10,
     "metadata": {},
     "output_type": "execute_result"
    }
   ],
   "source": [
    "xx= np.array([1,1])\n",
    "yy= np.array([2,2])\n",
    "zz= xx+yy\n",
    "zz"
   ]
  },
  {
   "cell_type": "code",
   "execution_count": 11,
   "id": "4946ca64-235a-4bf1-a701-734b92cfcefc",
   "metadata": {},
   "outputs": [
    {
     "data": {
      "text/latex": [
       "$\\displaystyle x + y$"
      ],
      "text/plain": [
       "x + y"
      ]
     },
     "execution_count": 11,
     "metadata": {},
     "output_type": "execute_result"
    }
   ],
   "source": [
    "x,y= sympy.symbols('x, y')\n",
    "z= x+y\n",
    "z"
   ]
  },
  {
   "cell_type": "code",
   "execution_count": 15,
   "id": "63ce8538-03b8-44b9-9987-ae2fa2c85b56",
   "metadata": {},
   "outputs": [
    {
     "data": {
      "text/plain": [
       "(x + y, 3)"
      ]
     },
     "execution_count": 15,
     "metadata": {},
     "output_type": "execute_result"
    }
   ],
   "source": [
    "z, z.subs({x:1, y:2})"
   ]
  },
  {
   "cell_type": "code",
   "execution_count": 16,
   "id": "7971f47b-c6fb-4e87-a804-c7af09c85c34",
   "metadata": {},
   "outputs": [
    {
     "data": {
      "text/plain": [
       "(x + y, 300)"
      ]
     },
     "execution_count": 16,
     "metadata": {},
     "output_type": "execute_result"
    }
   ],
   "source": [
    "z, z.subs({x:100, y:200})"
   ]
  },
  {
   "cell_type": "code",
   "execution_count": 17,
   "id": "57cb7a6b-9675-4d96-95a9-4564e04425d1",
   "metadata": {},
   "outputs": [
    {
     "data": {
      "text/latex": [
       "$\\displaystyle \\left(x + y\\right)^{2}$"
      ],
      "text/plain": [
       "(x + y)**2"
      ]
     },
     "execution_count": 17,
     "metadata": {},
     "output_type": "execute_result"
    }
   ],
   "source": [
    "z= (x+y)**2\n",
    "z\n"
   ]
  },
  {
   "cell_type": "code",
   "execution_count": 19,
   "id": "8c54211a-98d8-4092-9352-b9c429e4f754",
   "metadata": {},
   "outputs": [
    {
     "data": {
      "text/latex": [
       "$\\displaystyle x^{2} + 2 x y + y^{2}$"
      ],
      "text/plain": [
       "x**2 + 2*x*y + y**2"
      ]
     },
     "execution_count": 19,
     "metadata": {},
     "output_type": "execute_result"
    }
   ],
   "source": [
    "z1= sympy.expand(z)\n",
    "z1"
   ]
  },
  {
   "cell_type": "code",
   "execution_count": 24,
   "id": "c0b34fa6-7252-4939-b0db-f7f106b28abc",
   "metadata": {},
   "outputs": [
    {
     "data": {
      "text/latex": [
       "$\\displaystyle 900$"
      ],
      "text/plain": [
       "900"
      ]
     },
     "execution_count": 24,
     "metadata": {},
     "output_type": "execute_result"
    }
   ],
   "source": [
    "z.subs({x:10, y:20})"
   ]
  },
  {
   "cell_type": "code",
   "execution_count": 25,
   "id": "9cd94240-6906-4859-9323-bc31037f0ab7",
   "metadata": {},
   "outputs": [
    {
     "data": {
      "text/latex": [
       "$\\displaystyle 900$"
      ],
      "text/plain": [
       "900"
      ]
     },
     "execution_count": 25,
     "metadata": {},
     "output_type": "execute_result"
    }
   ],
   "source": [
    "z1.subs({x:10, y:20})"
   ]
  },
  {
   "cell_type": "code",
   "execution_count": 26,
   "id": "c5a1324c-f222-4e3e-a143-afc0e0de9ba3",
   "metadata": {},
   "outputs": [
    {
     "data": {
      "text/latex": [
       "$\\displaystyle \\left(x + y\\right)^{2}$"
      ],
      "text/plain": [
       "(x + y)**2"
      ]
     },
     "execution_count": 26,
     "metadata": {},
     "output_type": "execute_result"
    }
   ],
   "source": [
    "z2= sympy.factor(z1)\n",
    "z2"
   ]
  },
  {
   "cell_type": "code",
   "execution_count": 463,
   "id": "ca425730-6412-47f5-b5ff-a2dd5f015c62",
   "metadata": {},
   "outputs": [
    {
     "data": {
      "text/plain": [
       "(1/3, 0.3333333333333333)"
      ]
     },
     "execution_count": 463,
     "metadata": {},
     "output_type": "execute_result"
    }
   ],
   "source": [
    "x= sy.Integer(1)\n",
    "y= sy.Integer(3)\n",
    "x/y, float(x/y)"
   ]
  },
  {
   "cell_type": "code",
   "execution_count": 465,
   "id": "6617811d-7b9e-4755-8f8c-470be23a9f5d",
   "metadata": {},
   "outputs": [
    {
     "data": {
      "text/plain": [
       "sympy.core.numbers.Float"
      ]
     },
     "execution_count": 465,
     "metadata": {},
     "output_type": "execute_result"
    }
   ],
   "source": []
  },
  {
   "cell_type": "code",
   "execution_count": 467,
   "id": "cde83d83-3d74-4fad-87f5-3d92f79377fd",
   "metadata": {},
   "outputs": [
    {
     "data": {
      "text/plain": [
       "1.4142135623730951"
      ]
     },
     "execution_count": 467,
     "metadata": {},
     "output_type": "execute_result"
    }
   ],
   "source": [
    "float(sy.sqrt(2))"
   ]
  },
  {
   "cell_type": "code",
   "execution_count": 468,
   "id": "70e3b77b-807b-481f-be38-d90cc121c3b0",
   "metadata": {},
   "outputs": [
    {
     "data": {
      "text/plain": [
       "3.141592653589793"
      ]
     },
     "execution_count": 468,
     "metadata": {},
     "output_type": "execute_result"
    }
   ],
   "source": [
    "float(sy.pi)"
   ]
  },
  {
   "cell_type": "code",
   "execution_count": 470,
   "id": "4e4981bb-ffa7-4f06-ac00-451e22749641",
   "metadata": {},
   "outputs": [
    {
     "data": {
      "text/latex": [
       "$\\displaystyle \\sin{\\left(x^{2} + x + 1 \\right)}$"
      ],
      "text/plain": [
       "sin(x**2 + x + 1)"
      ]
     },
     "execution_count": 470,
     "metadata": {},
     "output_type": "execute_result"
    }
   ],
   "source": [
    "def f(x):\n",
    "    y= sy.sin(1 + x + x**2)\n",
    "    return y\n",
    "x= sy.symbols('x')\n",
    "f(x)"
   ]
  },
  {
   "cell_type": "code",
   "execution_count": 472,
   "id": "8882573c-9512-494d-8e58-2a49580eedc6",
   "metadata": {},
   "outputs": [
    {
     "data": {
      "text/latex": [
       "$\\displaystyle \\left(2 x + 1\\right) \\cos{\\left(x^{2} + x + 1 \\right)}$"
      ],
      "text/plain": [
       "(2*x + 1)*cos(x**2 + x + 1)"
      ]
     },
     "execution_count": 472,
     "metadata": {},
     "output_type": "execute_result"
    }
   ],
   "source": [
    "g= f(x).diff(x)\n",
    "g"
   ]
  },
  {
   "cell_type": "code",
   "execution_count": 481,
   "id": "136b7772-5e4a-4251-86e5-c41beda15081",
   "metadata": {},
   "outputs": [
    {
     "data": {
      "text/plain": [
       "array([ 0.54030231,  0.54241156,  0.54394607,  0.54488989,  0.54522694,\n",
       "        0.54494103,  0.54401585,  0.54243503,  0.5401821 ,  0.53724054,\n",
       "        0.53359382,  0.52922536,  0.52411858,  0.51825695,  0.51162396,\n",
       "        0.50420317,  0.49597823,  0.48693292,  0.47705116,  0.46631702,\n",
       "        0.4547148 ,  0.44222902,  0.42884446,  0.41454621,  0.39931968,\n",
       "        0.38315065,  0.3660253 ,  0.34793027,  0.32885265,  0.30878008,\n",
       "        0.28770076,  0.26560349,  0.24247773,  0.21831363,  0.19310208,\n",
       "        0.16683479,  0.13950428,  0.11110397,  0.08162824,  0.05107245,\n",
       "        0.01943301, -0.01329257, -0.04710561, -0.08200624, -0.1179933 ,\n",
       "       -0.15506432, -0.19321544, -0.23244136, -0.27273528, -0.31408886,\n",
       "       -0.35649211, -0.39993341, -0.44439938, -0.48987485, -0.53634283,\n",
       "       -0.5837844 , -0.63217869, -0.6815028 , -0.73173179, -0.78283857,\n",
       "       -0.83479388, -0.88756624, -0.9411219 , -0.99542476, -1.05043638,\n",
       "       -1.1061159 , -1.16242001, -1.21930292, -1.27671631, -1.33460931,\n",
       "       -1.39292847, -1.45161774, -1.51061843, -1.56986923, -1.62930616,\n",
       "       -1.6888626 , -1.74846926, -1.80805419, -1.8675428 , -1.92685786,\n",
       "       -1.98591953, -2.04464538, -2.10295043, -2.16074721, -2.21794576,\n",
       "       -2.27445371, -2.33017636, -2.38501672, -2.43887563, -2.49165178,\n",
       "       -2.54324187, -2.59354068, -2.6424412 , -2.68983473, -2.73561105,\n",
       "       -2.77965852, -2.82186425, -2.86211426, -2.90029365, -2.93628679,\n",
       "       -2.96997749])"
      ]
     },
     "execution_count": 481,
     "metadata": {},
     "output_type": "execute_result"
    }
   ],
   "source": [
    "t= np.linspace(0,1,101)\n",
    "\n",
    "sy.lambdify(\n",
    "    x, f(x).diff(x), 'numpy'\n",
    ")(t)"
   ]
  },
  {
   "cell_type": "code",
   "execution_count": null,
   "id": "b9ae0609-eedc-46fa-8830-5a0226602662",
   "metadata": {},
   "outputs": [],
   "source": []
  },
  {
   "cell_type": "code",
   "execution_count": null,
   "id": "f60a3394-acf6-4345-8c62-84ed5a498343",
   "metadata": {},
   "outputs": [],
   "source": []
  },
  {
   "cell_type": "code",
   "execution_count": 473,
   "id": "ba000b40-58db-4d63-b357-a9b7edb40243",
   "metadata": {},
   "outputs": [],
   "source": [
    "\n",
    "import numpy as np\n",
    "import pandas as pd\n",
    "\n"
   ]
  },
  {
   "cell_type": "code",
   "execution_count": null,
   "id": "c43cff17-5713-4bd0-bca7-a2ad6f685474",
   "metadata": {},
   "outputs": [],
   "source": []
  }
 ],
 "metadata": {
  "kernelspec": {
   "display_name": "Python 3",
   "language": "python",
   "name": "python3"
  },
  "language_info": {
   "codemirror_mode": {
    "name": "ipython",
    "version": 3
   },
   "file_extension": ".py",
   "mimetype": "text/x-python",
   "name": "python",
   "nbconvert_exporter": "python",
   "pygments_lexer": "ipython3",
   "version": "3.8.8"
  }
 },
 "nbformat": 4,
 "nbformat_minor": 5
}
