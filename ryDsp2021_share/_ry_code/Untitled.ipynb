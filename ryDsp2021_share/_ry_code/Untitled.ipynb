{
 "cells": [
  {
   "cell_type": "code",
   "execution_count": 12,
   "id": "6bdbf45a-2fe4-4d26-bbaa-5e214f551852",
   "metadata": {},
   "outputs": [],
   "source": [
    "import numpy as np\n",
    "\n",
    "import thinkdsp_class as tc"
   ]
  },
  {
   "cell_type": "code",
   "execution_count": 13,
   "id": "d1a44751-be26-4d98-91dd-cdcb8f885a3c",
   "metadata": {},
   "outputs": [
    {
     "data": {
      "text/plain": [
       "<thinkdsp_class.Wave at 0x294e5928700>"
      ]
     },
     "execution_count": 13,
     "metadata": {},
     "output_type": "execute_result"
    }
   ],
   "source": [
    "x= np.random.random(1000)\n",
    "x= tc.Wave(x)\n",
    "x"
   ]
  },
  {
   "cell_type": "code",
   "execution_count": 14,
   "id": "6db646e0-a81b-4983-8f1b-4d3e14b5281f",
   "metadata": {},
   "outputs": [
    {
     "data": {
      "image/png": "[encoded data removed]",
      "text/plain": [
       "<Figure size 432x288 with 1 Axes>"
      ]
     },
     "metadata": {
      "needs_background": "light"
     },
     "output_type": "display_data"
    }
   ],
   "source": [
    "x.plot()"
   ]
  },
  {
   "cell_type": "code",
   "execution_count": 19,
   "id": "8b521829-d76b-44b7-a028-e8645c53d222",
   "metadata": {},
   "outputs": [
    {
     "data": {
      "text/plain": [
       "(<thinkdsp_class.Wave at 0x294e5928700>,\n",
       " <thinkdsp_class.Wave at 0x294e48f9eb0>)"
      ]
     },
     "execution_count": 19,
     "metadata": {},
     "output_type": "execute_result"
    }
   ],
   "source": [
    "y= x.copy()\n",
    "x,y"
   ]
  },
  {
   "cell_type": "code",
   "execution_count": 20,
   "id": "d9450e6c-6462-4054-87fc-13153375e737",
   "metadata": {},
   "outputs": [
    {
     "data": {
      "text/plain": [
       "1000"
      ]
     },
     "execution_count": 20,
     "metadata": {},
     "output_type": "execute_result"
    }
   ],
   "source": [
    "len(x)"
   ]
  },
  {
   "cell_type": "code",
   "execution_count": 22,
   "id": "c405465a-656f-4ed9-8b9f-66b8cf3bea1f",
   "metadata": {},
   "outputs": [
    {
     "data": {
      "text/plain": [
       "0.0"
      ]
     },
     "execution_count": 22,
     "metadata": {},
     "output_type": "execute_result"
    }
   ],
   "source": [
    "x.start"
   ]
  },
  {
   "cell_type": "code",
   "execution_count": 23,
   "id": "81eef1c5-a953-4968-8888-01d76c671376",
   "metadata": {},
   "outputs": [
    {
     "data": {
      "text/plain": [
       "0.09061224489795919"
      ]
     },
     "execution_count": 23,
     "metadata": {},
     "output_type": "execute_result"
    }
   ],
   "source": [
    "x.end"
   ]
  },
  {
   "cell_type": "code",
   "execution_count": 24,
   "id": "70c1f2e8-ea2f-4c19-98d7-c44bfb3c3e26",
   "metadata": {},
   "outputs": [
    {
     "data": {
      "text/plain": [
       "0.09070294784580499"
      ]
     },
     "execution_count": 24,
     "metadata": {},
     "output_type": "execute_result"
    }
   ],
   "source": [
    "x.duration"
   ]
  },
  {
   "cell_type": "code",
   "execution_count": 30,
   "id": "e95c6bfe-7769-42c4-9f8e-1f636457b7dc",
   "metadata": {},
   "outputs": [
    {
     "data": {
      "text/plain": [
       "(<thinkdsp_class.Wave at 0x294e510ac70>,\n",
       " <thinkdsp_class.Wave at 0x294e510a790>)"
      ]
     },
     "execution_count": 30,
     "metadata": {},
     "output_type": "execute_result"
    }
   ],
   "source": [
    "x= np.random.random(10)\n",
    "y= np.random.random(10)\n",
    "\n",
    "x= tc.Wave(x)\n",
    "y= tc.Wave(y)\n",
    "\n",
    "x, y"
   ]
  },
  {
   "cell_type": "code",
   "execution_count": 29,
   "id": "022acaea-afa9-4e7e-9201-b1964c127b00",
   "metadata": {},
   "outputs": [
    {
     "ename": "NameError",
     "evalue": "name 'find_index' is not defined",
     "output_type": "error",
     "traceback": [
      "\u001b[1;31m---------------------------\u001b[0m",
      "\u001b[1;31mNameError\u001b[0mTraceback (most recent call last)",
      "\u001b[1;32m<ipython-input-29-259706549f3d>\u001b[0m in \u001b[0;36m<module>\u001b[1;34m\u001b[0m\n\u001b[1;32m----> 1\u001b[1;33m \u001b[0mx\u001b[0m\u001b[1;33m+\u001b[0m\u001b[0my\u001b[0m\u001b[1;33m\u001b[0m\u001b[1;33m\u001b[0m\u001b[0m\n\u001b[0m",
      "\u001b[1;32mM:\\ry_2021_Fall\\_ryDsp2021\\ThinkDSP\\_ry_code\\thinkdsp_class.py\u001b[0m in \u001b[0;36m__add__\u001b[1;34m(self, other)\u001b[0m\n\u001b[0;32m    116\u001b[0m             \u001b[0mys\u001b[0m\u001b[1;33m[\u001b[0m\u001b[0mi\u001b[0m\u001b[1;33m:\u001b[0m\u001b[0mj\u001b[0m\u001b[1;33m]\u001b[0m \u001b[1;33m+=\u001b[0m \u001b[0mwave\u001b[0m\u001b[1;33m.\u001b[0m\u001b[0mys\u001b[0m\u001b[1;33m\u001b[0m\u001b[1;33m\u001b[0m\u001b[0m\n\u001b[0;32m    117\u001b[0m \u001b[1;33m\u001b[0m\u001b[0m\n\u001b[1;32m--> 118\u001b[1;33m         \u001b[0madd_ys\u001b[0m\u001b[1;33m(\u001b[0m\u001b[0mself\u001b[0m\u001b[1;33m)\u001b[0m\u001b[1;33m\u001b[0m\u001b[1;33m\u001b[0m\u001b[0m\n\u001b[0m\u001b[0;32m    119\u001b[0m         \u001b[0madd_ys\u001b[0m\u001b[1;33m(\u001b[0m\u001b[0mother\u001b[0m\u001b[1;33m)\u001b[0m\u001b[1;33m\u001b[0m\u001b[1;33m\u001b[0m\u001b[0m\n\u001b[0;32m    120\u001b[0m \u001b[1;33m\u001b[0m\u001b[0m\n",
      "\u001b[1;32mM:\\ry_2021_Fall\\_ryDsp2021\\ThinkDSP\\_ry_code\\thinkdsp_class.py\u001b[0m in \u001b[0;36madd_ys\u001b[1;34m(wave)\u001b[0m\n\u001b[0;32m    103\u001b[0m \u001b[1;33m\u001b[0m\u001b[0m\n\u001b[0;32m    104\u001b[0m         \u001b[1;32mdef\u001b[0m \u001b[0madd_ys\u001b[0m\u001b[1;33m(\u001b[0m\u001b[0mwave\u001b[0m\u001b[1;33m)\u001b[0m\u001b[1;33m:\u001b[0m\u001b[1;33m\u001b[0m\u001b[1;33m\u001b[0m\u001b[0m\n\u001b[1;32m--> 105\u001b[1;33m             \u001b[0mi\u001b[0m \u001b[1;33m=\u001b[0m \u001b[0mfind_index\u001b[0m\u001b[1;33m(\u001b[0m\u001b[0mwave\u001b[0m\u001b[1;33m.\u001b[0m\u001b[0mstart\u001b[0m\u001b[1;33m,\u001b[0m \u001b[0mts\u001b[0m\u001b[1;33m)\u001b[0m\u001b[1;33m\u001b[0m\u001b[1;33m\u001b[0m\u001b[0m\n\u001b[0m\u001b[0;32m    106\u001b[0m \u001b[1;33m\u001b[0m\u001b[0m\n\u001b[0;32m    107\u001b[0m             \u001b[1;31m# make sure the arrays line up reasonably well\u001b[0m\u001b[1;33m\u001b[0m\u001b[1;33m\u001b[0m\u001b[1;33m\u001b[0m\u001b[0m\n",
      "\u001b[1;31mNameError\u001b[0m: name 'find_index' is not defined"
     ]
    }
   ],
   "source": [
    "x+y"
   ]
  },
  {
   "cell_type": "code",
   "execution_count": null,
   "id": "8f987a6e-1784-4dc0-ba3f-7b6e4223e981",
   "metadata": {},
   "outputs": [],
   "source": []
  }
 ],
 "metadata": {
  "kernelspec": {
   "display_name": "Python 3",
   "language": "python",
   "name": "python3"
  },
  "language_info": {
   "codemirror_mode": {
    "name": "ipython",
    "version": 3
   },
   "file_extension": ".py",
   "mimetype": "text/x-python",
   "name": "python",
   "nbconvert_exporter": "python",
   "pygments_lexer": "ipython3",
   "version": "3.8.8"
  }
 },
 "nbformat": 4,
 "nbformat_minor": 5
}
