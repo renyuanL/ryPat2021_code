{
 "cells": [
  {
   "cell_type": "code",
   "execution_count": 1,
   "id": "52005f00-66fc-4067-a6ce-22e47eb56c95",
   "metadata": {},
   "outputs": [],
   "source": [
    "from ryPat import *\n"
   ]
  },
  {
   "cell_type": "code",
   "execution_count": 5,
   "id": "77f0183e-679d-4e6f-bbcc-67a52748ebc1",
   "metadata": {},
   "outputs": [
    {
     "data": {
      "image/png": "[encoded data removed]",
      "text/latex": [
       "$\\displaystyle 1$"
      ],
      "text/plain": [
       "1"
      ]
     },
     "execution_count": 5,
     "metadata": {},
     "output_type": "execute_result"
    }
   ],
   "source": [
    "def f(x,a,b):\n",
    "    y= 1/(b-a)\n",
    "    return y\n",
    "x,a,b= sm.symbols('x,a,b')\n",
    "q= sm.integrate(f(x,a,b), (x,a,b))\n",
    "q.simplify()"
   ]
  },
  {
   "cell_type": "code",
   "execution_count": 9,
   "id": "7a59b12e-efe1-4350-a1f2-387fa41b17d4",
   "metadata": {},
   "outputs": [
    {
     "data": {
      "image/png": "[encoded data removed]",
      "text/latex": [
       "$\\displaystyle \\frac{a}{2} + \\frac{b}{2}$"
      ],
      "text/plain": [
       "a   b\n",
       "─ + ─\n",
       "2   2"
      ]
     },
     "execution_count": 9,
     "metadata": {},
     "output_type": "execute_result"
    }
   ],
   "source": [
    "EX= sm.integrate(x*f(x,a,b), (x,a,b))\n",
    "EX.simplify()"
   ]
  },
  {
   "cell_type": "code",
   "execution_count": 10,
   "id": "499aea1c-2773-4e4d-850f-22a9aa0525f1",
   "metadata": {},
   "outputs": [
    {
     "data": {
      "image/png": "[encoded data removed]",
      "text/latex": [
       "$\\displaystyle \\frac{a^{2}}{3} + \\frac{a b}{3} + \\frac{b^{2}}{3}$"
      ],
      "text/plain": [
       " 2          2\n",
       "a    a⋅b   b \n",
       "── + ─── + ──\n",
       "3     3    3 "
      ]
     },
     "execution_count": 10,
     "metadata": {},
     "output_type": "execute_result"
    }
   ],
   "source": [
    "EXX= sm.integrate(x**2 *f(x,a,b), (x,a,b))\n",
    "EXX.simplify()"
   ]
  },
  {
   "cell_type": "code",
   "execution_count": 18,
   "id": "3103dd0a-6f90-4f45-92dc-d603ab37f2ae",
   "metadata": {},
   "outputs": [
    {
     "data": {
      "image/png": "[encoded data removed]",
      "text/latex": [
       "$\\displaystyle \\frac{a^{2}}{12} - \\frac{a b}{6} + \\frac{b^{2}}{12}$"
      ],
      "text/plain": [
       " 2          2\n",
       "a    a⋅b   b \n",
       "── - ─── + ──\n",
       "12    6    12"
      ]
     },
     "execution_count": 18,
     "metadata": {},
     "output_type": "execute_result"
    }
   ],
   "source": [
    "VX=EXX-EX**2\n",
    "VX.simplify()"
   ]
  },
  {
   "cell_type": "code",
   "execution_count": 13,
   "id": "c9ccbfd4-2403-425e-8858-5a57047021f1",
   "metadata": {},
   "outputs": [
    {
     "data": {
      "image/png": "[encoded data removed]",
      "text/latex": [
       "$\\displaystyle \\frac{a^{4} - b^{4}}{4 \\left(a - b\\right)}$"
      ],
      "text/plain": [
       "  4    4 \n",
       " a  - b  \n",
       "─────────\n",
       "4⋅(a - b)"
      ]
     },
     "execution_count": 13,
     "metadata": {},
     "output_type": "execute_result"
    }
   ],
   "source": [
    "EX3= sm.integrate(x**3 *f(x,a,b), (x,a,b))\n",
    "EX3.simplify()"
   ]
  },
  {
   "cell_type": "code",
   "execution_count": 19,
   "id": "deb420c5-0278-497e-a80d-11cf108c2ab8",
   "metadata": {},
   "outputs": [
    {
     "data": {
      "image/png": "[encoded data removed]",
      "text/latex": [
       "$\\displaystyle 0$"
      ],
      "text/plain": [
       "0"
      ]
     },
     "execution_count": 19,
     "metadata": {},
     "output_type": "execute_result"
    }
   ],
   "source": [
    "skew= sm.integrate(((x-EX)/sm.sqrt(VX))**3 *f(x,a,b), (x,a,b))\n",
    "skew.simplify()"
   ]
  },
  {
   "cell_type": "code",
   "execution_count": 20,
   "id": "37258b15-ed05-45ac-8813-f185208870d7",
   "metadata": {},
   "outputs": [
    {
     "data": {
      "image/png": "[encoded data removed]",
      "text/latex": [
       "$\\displaystyle \\frac{9}{5}$"
      ],
      "text/plain": [
       "9/5"
      ]
     },
     "execution_count": 20,
     "metadata": {},
     "output_type": "execute_result"
    }
   ],
   "source": [
    "kurt= sm.integrate(((x-EX)/sm.sqrt(VX))**4 *f(x,a,b), (x,a,b))\n",
    "kurt.simplify()"
   ]
  },
  {
   "cell_type": "code",
   "execution_count": 5,
   "id": "27d73e36-9e15-4148-80e1-a82b7cce8bf5",
   "metadata": {},
   "outputs": [
    {
     "data": {
      "image/png": "[encoded data removed]",
      "text/latex": [
       "$\\displaystyle 1$"
      ],
      "text/plain": [
       "1"
      ]
     },
     "execution_count": 5,
     "metadata": {},
     "output_type": "execute_result"
    }
   ],
   "source": [
    "def f(x,μ,σ):\n",
    "    y= sm.exp(-(x-μ)**2/σ**2/2)/sm.sqrt(2*π)/σ\n",
    "    return y\n",
    "x,μ= sm.symbols('x,μ')\n",
    "σ= sm.symbols('σ', positive=True)\n",
    "q= sm.integrate(f(x,μ,σ), (x,-sm.oo, sm.oo))\n",
    "q.simplify()"
   ]
  },
  {
   "cell_type": "code",
   "execution_count": 6,
   "id": "f7a1a518-0294-4846-9566-c35346557b65",
   "metadata": {},
   "outputs": [
    {
     "data": {
      "image/png": "[encoded data removed]",
      "text/latex": [
       "$\\displaystyle μ$"
      ],
      "text/plain": [
       "μ"
      ]
     },
     "execution_count": 6,
     "metadata": {},
     "output_type": "execute_result"
    }
   ],
   "source": [
    "q= sm.integrate(x*f(x,μ,σ), (x,-sm.oo, sm.oo))\n",
    "q.simplify()"
   ]
  },
  {
   "cell_type": "code",
   "execution_count": 7,
   "id": "317d1cd6-dd00-469d-867e-e30e56a615ff",
   "metadata": {},
   "outputs": [
    {
     "data": {
      "image/png": "[encoded data removed]",
      "text/latex": [
       "$\\displaystyle μ^{2} + σ^{2}$"
      ],
      "text/plain": [
       " 2    2\n",
       "μ  + σ "
      ]
     },
     "execution_count": 7,
     "metadata": {},
     "output_type": "execute_result"
    }
   ],
   "source": [
    "q= sm.integrate((x**2)*f(x,μ,σ), (x,-sm.oo, sm.oo))\n",
    "q.simplify()"
   ]
  },
  {
   "cell_type": "code",
   "execution_count": 8,
   "id": "7d9287bb-5b00-4297-ad90-0df349089973",
   "metadata": {},
   "outputs": [
    {
     "data": {
      "image/png": "[encoded data removed]",
      "text/latex": [
       "$\\displaystyle μ \\left(μ^{2} + 3 σ^{2}\\right)$"
      ],
      "text/plain": [
       "  ⎛ 2      2⎞\n",
       "μ⋅⎝μ  + 3⋅σ ⎠"
      ]
     },
     "execution_count": 8,
     "metadata": {},
     "output_type": "execute_result"
    }
   ],
   "source": [
    "q= sm.integrate((x**3)*f(x,μ,σ), (x,-sm.oo, sm.oo))\n",
    "q.simplify()"
   ]
  },
  {
   "cell_type": "code",
   "execution_count": 9,
   "id": "8ec2fa30-d338-4f46-8782-61fdb4b81203",
   "metadata": {},
   "outputs": [
    {
     "data": {
      "image/png": "[encoded data removed]",
      "text/latex": [
       "$\\displaystyle μ^{4} + 6 μ^{2} σ^{2} + 3 σ^{4}$"
      ],
      "text/plain": [
       " 4      2  2      4\n",
       "μ  + 6⋅μ ⋅σ  + 3⋅σ "
      ]
     },
     "execution_count": 9,
     "metadata": {},
     "output_type": "execute_result"
    }
   ],
   "source": [
    "q= sm.integrate((x**4)*f(x,μ,σ), (x,-sm.oo, sm.oo))\n",
    "q.simplify()"
   ]
  },
  {
   "cell_type": "code",
   "execution_count": 12,
   "id": "236dce33-f149-4228-aee4-78bbb15f14f9",
   "metadata": {},
   "outputs": [],
   "source": [
    "#q= sm.integrate(-sm.log(f(x,μ,σ))*f(x,μ,σ), \n",
    "#                (x,-sm.oo, sm.oo))\n",
    "#q.simplify()\n"
   ]
  },
  {
   "cell_type": "code",
   "execution_count": 16,
   "id": "07468433-f546-4a69-8251-3793eeec5927",
   "metadata": {},
   "outputs": [
    {
     "data": {
      "image/png": "[encoded data removed]",
      "text/latex": [
       "$\\displaystyle - \\frac{\\sqrt{2} e^{- \\frac{\\left(x - μ\\right)^{2}}{2 σ^{2}}} \\log{\\left(\\frac{\\sqrt{2} e^{- \\frac{\\left(x - μ\\right)^{2}}{2 σ^{2}}}}{2 \\sqrt{\\pi} σ} \\right)}}{2 \\sqrt{\\pi} σ}$"
      ],
      "text/plain": [
       "                   ⎛            2 ⎞ \n",
       "             2     ⎜    -(x - μ)  ⎟ \n",
       "     -(x - μ)      ⎜    ──────────⎟ \n",
       "     ──────────    ⎜          2   ⎟ \n",
       "           2       ⎜       2⋅σ    ⎟ \n",
       "        2⋅σ        ⎜√2⋅ℯ          ⎟ \n",
       "-√2⋅ℯ          ⋅log⎜──────────────⎟ \n",
       "                   ⎝    2⋅√π⋅σ    ⎠ \n",
       "────────────────────────────────────\n",
       "               2⋅√π⋅σ               "
      ]
     },
     "execution_count": 16,
     "metadata": {},
     "output_type": "execute_result"
    }
   ],
   "source": [
    "q= -sm.log(f(x,μ,σ))*f(x,μ,σ)\n",
    "q.simplify()"
   ]
  },
  {
   "cell_type": "code",
   "execution_count": 40,
   "id": "214dfe65-dfec-43ee-8f91-efa2b649e56c",
   "metadata": {},
   "outputs": [
    {
     "data": {
      "image/png": "[encoded data removed]",
      "text/latex": [
       "$\\displaystyle \\frac{\\sqrt{2} e^{- \\frac{x^{2}}{2}}}{2 \\sqrt{\\pi}}$"
      ],
      "text/plain": [
       "      2 \n",
       "    -x  \n",
       "    ────\n",
       "     2  \n",
       "√2⋅ℯ    \n",
       "────────\n",
       "  2⋅√π  "
      ]
     },
     "execution_count": 40,
     "metadata": {},
     "output_type": "execute_result"
    }
   ],
   "source": [
    "ϕ= f(x,0,1)\n",
    "ϕ"
   ]
  },
  {
   "cell_type": "code",
   "execution_count": 42,
   "id": "cfecdf00-4b5d-46e9-a00f-d9111fbc0ebb",
   "metadata": {},
   "outputs": [
    {
     "data": {
      "image/png": "[encoded data removed]",
      "text/latex": [
       "$\\displaystyle 1.41893853320467$"
      ],
      "text/plain": [
       "1.41893853320467"
      ]
     },
     "execution_count": 42,
     "metadata": {},
     "output_type": "execute_result"
    }
   ],
   "source": [
    "q= sm.integrate(-sm.log(ϕ)*ϕ, \n",
    "                (x,-sm.oo, sm.oo))\n",
    "q.simplify().evalf()\n"
   ]
  },
  {
   "cell_type": "code",
   "execution_count": 28,
   "id": "617c1f79-0a59-40bc-8e65-d2d5ce253778",
   "metadata": {},
   "outputs": [
    {
     "data": {
      "image/png": "[encoded data removed]",
      "text/latex": [
       "$\\displaystyle 0.954499736103642$"
      ],
      "text/plain": [
       "0.954499736103642"
      ]
     },
     "execution_count": 28,
     "metadata": {},
     "output_type": "execute_result"
    }
   ],
   "source": [
    "q= sm.integrate(ϕ, \n",
    "                (x,-2, 2))\n",
    "q.simplify().evalf()\n"
   ]
  },
  {
   "cell_type": "code",
   "execution_count": 61,
   "id": "7dc0a517-3864-4a96-b508-2754ff446a1e",
   "metadata": {},
   "outputs": [],
   "source": [
    "X= st.norm(loc=0, scale=1)"
   ]
  },
  {
   "cell_type": "code",
   "execution_count": 62,
   "id": "9f3f68c5-09ca-4297-83df-7ea6162b43ce",
   "metadata": {},
   "outputs": [
    {
     "data": {
      "text/plain": [
       "array(1.41893853)"
      ]
     },
     "execution_count": 62,
     "metadata": {},
     "output_type": "execute_result"
    }
   ],
   "source": [
    "X.entropy()"
   ]
  },
  {
   "cell_type": "code",
   "execution_count": 63,
   "id": "3c312c10-0f05-4f43-9aec-e6b6818095d0",
   "metadata": {},
   "outputs": [
    {
     "data": {
      "text/plain": [
       "\u001b[1;31mSignature:\u001b[0m \u001b[0mX\u001b[0m\u001b[1;33m.\u001b[0m\u001b[0mstats\u001b[0m\u001b[1;33m(\u001b[0m\u001b[0mmoments\u001b[0m\u001b[1;33m=\u001b[0m\u001b[1;34m'mv'\u001b[0m\u001b[1;33m)\u001b[0m\u001b[1;33m\u001b[0m\u001b[1;33m\u001b[0m\u001b[0m\n",
       "\u001b[1;31mDocstring:\u001b[0m <no docstring>\n",
       "\u001b[1;31mSource:\u001b[0m   \n",
       "    \u001b[1;32mdef\u001b[0m \u001b[0mstats\u001b[0m\u001b[1;33m(\u001b[0m\u001b[0mself\u001b[0m\u001b[1;33m,\u001b[0m \u001b[0mmoments\u001b[0m\u001b[1;33m=\u001b[0m\u001b[1;34m'mv'\u001b[0m\u001b[1;33m)\u001b[0m\u001b[1;33m:\u001b[0m\u001b[1;33m\n",
       "\u001b[0m        \u001b[0mkwds\u001b[0m \u001b[1;33m=\u001b[0m \u001b[0mself\u001b[0m\u001b[1;33m.\u001b[0m\u001b[0mkwds\u001b[0m\u001b[1;33m.\u001b[0m\u001b[0mcopy\u001b[0m\u001b[1;33m(\u001b[0m\u001b[1;33m)\u001b[0m\u001b[1;33m\n",
       "\u001b[0m        \u001b[0mkwds\u001b[0m\u001b[1;33m.\u001b[0m\u001b[0mupdate\u001b[0m\u001b[1;33m(\u001b[0m\u001b[1;33m{\u001b[0m\u001b[1;34m'moments'\u001b[0m\u001b[1;33m:\u001b[0m \u001b[0mmoments\u001b[0m\u001b[1;33m}\u001b[0m\u001b[1;33m)\u001b[0m\u001b[1;33m\n",
       "\u001b[0m        \u001b[1;32mreturn\u001b[0m \u001b[0mself\u001b[0m\u001b[1;33m.\u001b[0m\u001b[0mdist\u001b[0m\u001b[1;33m.\u001b[0m\u001b[0mstats\u001b[0m\u001b[1;33m(\u001b[0m\u001b[1;33m*\u001b[0m\u001b[0mself\u001b[0m\u001b[1;33m.\u001b[0m\u001b[0margs\u001b[0m\u001b[1;33m,\u001b[0m \u001b[1;33m**\u001b[0m\u001b[0mkwds\u001b[0m\u001b[1;33m)\u001b[0m\u001b[1;33m\u001b[0m\u001b[1;33m\u001b[0m\u001b[0m\n",
       "\u001b[1;31mFile:\u001b[0m      m:\\programdata\\anaconda3\\lib\\site-packages\\scipy\\stats\\_distn_infrastructure.py\n",
       "\u001b[1;31mType:\u001b[0m      method\n"
      ]
     },
     "metadata": {},
     "output_type": "display_data"
    }
   ],
   "source": [
    "X.stats??"
   ]
  },
  {
   "cell_type": "code",
   "execution_count": 79,
   "id": "353e8eeb-ae85-474a-ab6f-b6101303a169",
   "metadata": {},
   "outputs": [
    {
     "data": {
      "text/plain": [
       "[<matplotlib.lines.Line2D at 0x15ef5d85190>]"
      ]
     },
     "execution_count": 79,
     "metadata": {},
     "output_type": "execute_result"
    },
    {
     "data": {
      "image/png": "[encoded data removed]",
      "text/plain": [
       "<Figure size 432x288 with 1 Axes>"
      ]
     },
     "metadata": {},
     "output_type": "display_data"
    }
   ],
   "source": [
    "X= st.norm(loc=0, scale=1)\n",
    "#X= st.uniform(loc=-1, scale=2)\n",
    "Y= X.rvs(size= 1000)\n",
    "pl.plot(Y)\n",
    "pl.plot(np.sort(Y))"
   ]
  },
  {
   "cell_type": "code",
   "execution_count": 72,
   "id": "789ec671-aa69-4f60-9531-c64bb6a619df",
   "metadata": {},
   "outputs": [
    {
     "data": {
      "text/plain": [
       "[<matplotlib.lines.Line2D at 0x15ef2981970>]"
      ]
     },
     "execution_count": 72,
     "metadata": {},
     "output_type": "execute_result"
    },
    {
     "data": {
      "image/png": "[encoded data removed]",
      "text/plain": [
       "<Figure size 432x288 with 1 Axes>"
      ]
     },
     "metadata": {},
     "output_type": "display_data"
    }
   ],
   "source": []
  },
  {
   "cell_type": "code",
   "execution_count": 65,
   "id": "36c907d7-f051-4040-bb76-fd65b9e01cdf",
   "metadata": {},
   "outputs": [
    {
     "data": {
      "text/plain": [
       "(array([ 6., 11., 17., 16., 23., 10.,  7.,  6.,  2.,  2.]),\n",
       " array([-2.21266672, -1.71793175, -1.22319677, -0.7284618 , -0.23372682,\n",
       "         0.26100815,  0.75574313,  1.2504781 ,  1.74521308,  2.23994805,\n",
       "         2.73468303]),\n",
       " <BarContainer object of 10 artists>)"
      ]
     },
     "execution_count": 65,
     "metadata": {},
     "output_type": "execute_result"
    },
    {
     "data": {
      "image/png": "[encoded data removed]",
      "text/plain": [
       "<Figure size 432x288 with 1 Axes>"
      ]
     },
     "metadata": {},
     "output_type": "display_data"
    }
   ],
   "source": [
    "pl.hist(Y)"
   ]
  },
  {
   "cell_type": "code",
   "execution_count": 66,
   "id": "b0ec56d7-2c85-43d9-8738-dd6ab47bbebd",
   "metadata": {},
   "outputs": [
    {
     "data": {
      "image/png": "[encoded data removed]",
      "text/latex": [
       "$\\displaystyle \\left( 0.0, \\  1.0\\right)$"
      ],
      "text/plain": [
       "(0.0, 1.0)"
      ]
     },
     "execution_count": 66,
     "metadata": {},
     "output_type": "execute_result"
    }
   ],
   "source": [
    "X.mean(), X.var()"
   ]
  },
  {
   "cell_type": "code",
   "execution_count": 69,
   "id": "84a6768d-190a-432c-8451-a64029c88990",
   "metadata": {},
   "outputs": [
    {
     "data": {
      "image/png": "[encoded data removed]",
      "text/latex": [
       "$\\displaystyle -0.086331416636704$"
      ],
      "text/plain": [
       "-0.08633141663670404"
      ]
     },
     "execution_count": 69,
     "metadata": {},
     "output_type": "execute_result"
    }
   ],
   "source": [
    "X.rvs(size=100).mean()"
   ]
  },
  {
   "cell_type": "code",
   "execution_count": 70,
   "id": "f08de354-8c29-46f8-92d5-be3928da2af6",
   "metadata": {},
   "outputs": [
    {
     "data": {
      "image/png": "[encoded data removed]",
      "text/latex": [
       "$\\displaystyle 1.00102159686281$"
      ],
      "text/plain": [
       "1.001021596862813"
      ]
     },
     "execution_count": 70,
     "metadata": {},
     "output_type": "execute_result"
    }
   ],
   "source": [
    "X.rvs(size=100).var()"
   ]
  },
  {
   "cell_type": "code",
   "execution_count": null,
   "id": "dff63a01-57d5-4648-9af2-43600cb926ed",
   "metadata": {},
   "outputs": [],
   "source": []
  }
 ],
 "metadata": {
  "kernelspec": {
   "display_name": "Python 3",
   "language": "python",
   "name": "python3"
  },
  "language_info": {
   "codemirror_mode": {
    "name": "ipython",
    "version": 3
   },
   "file_extension": ".py",
   "mimetype": "text/x-python",
   "name": "python",
   "nbconvert_exporter": "python",
   "pygments_lexer": "ipython3",
   "version": "3.8.8"
  }
 },
 "nbformat": 4,
 "nbformat_minor": 5
}
