{
 "cells": [
  {
   "cell_type": "code",
   "execution_count": 1,
   "id": "1431def3-851a-4e1b-ab6f-9f8fce82cf3c",
   "metadata": {},
   "outputs": [],
   "source": [
    "from ryPat import *\n"
   ]
  },
  {
   "cell_type": "markdown",
   "id": "008db9e7-0311-4e8a-a14b-7c3628e4413a",
   "metadata": {},
   "source": [
    "# Multivariable calculus\n"
   ]
  },
  {
   "cell_type": "code",
   "execution_count": 409,
   "id": "38c37a2b-0a95-4d37-ba52-79ea8849101a",
   "metadata": {},
   "outputs": [],
   "source": [
    "def f0(x,y):\n",
    "    '''\n",
    "    這是要模擬 躺平在xy平面上的函數\n",
    "    '''\n",
    "    z= 1e-10 * (x+y)\n",
    "    return z"
   ]
  },
  {
   "cell_type": "code",
   "execution_count": 2,
   "id": "0d42f1dd-c428-49af-a63f-2713e6b0285d",
   "metadata": {},
   "outputs": [],
   "source": [
    "def f(x,y):\n",
    "    zx=  (x+10)*(x+5)*(x-1)*(x-5)*(x-10)\n",
    "    zy=  (y+10)*(y+2)*(y+1)*(y-2)*(y-10)\n",
    "    z= zx*zy\n",
    "    \n",
    "    return z\n",
    "\n",
    "x,y= sm.symbols('x,y')\n",
    "z= f(x,y)\n",
    "\n",
    "%matplotlib qt\n",
    "q= sm.plotting.plot3d(\n",
    "   z,\n",
    "   (x,-10,10), \n",
    "   (y,-10,10),\n",
    "   xlabel= 'x',\n",
    "   ylabel= 'y',\n",
    "   title= f'z= f(x,y)= {z}',\n",
    "   show=False)\n",
    "q.show()\n"
   ]
  },
  {
   "cell_type": "code",
   "execution_count": 3,
   "id": "4bc97f65-5f49-4566-9374-c480136bb728",
   "metadata": {},
   "outputs": [
    {
     "data": {
      "image/png": "[encoded data removed]",
      "text/latex": [
       "$\\displaystyle \\left(x - 10\\right) \\left(x - 5\\right) \\left(x - 1\\right) \\left(x + 5\\right) \\left(x + 10\\right) \\left(y - 10\\right) \\left(y - 2\\right) \\left(y + 1\\right) \\left(y + 2\\right) \\left(y + 10\\right)$"
      ],
      "text/plain": [
       "(x - 10)⋅(x - 5)⋅(x - 1)⋅(x + 5)⋅(x + 10)⋅(y - 10)⋅(y - 2)⋅(y + 1)⋅(y + 2)⋅(y \n",
       "+ 10)"
      ]
     },
     "execution_count": 3,
     "metadata": {},
     "output_type": "execute_result"
    }
   ],
   "source": [
    "z\n"
   ]
  },
  {
   "cell_type": "code",
   "execution_count": 4,
   "id": "39feef9b-ec47-4096-ae72-3302b185ee3f",
   "metadata": {},
   "outputs": [
    {
     "data": {
      "image/png": "[encoded data removed]",
      "text/latex": [
       "$\\displaystyle x^{5} y^{5} + x^{5} y^{4} - 104 x^{5} y^{3} - 104 x^{5} y^{2} + 400 x^{5} y + 400 x^{5} - x^{4} y^{5} - x^{4} y^{4} + 104 x^{4} y^{3} + 104 x^{4} y^{2} - 400 x^{4} y - 400 x^{4} - 125 x^{3} y^{5} - 125 x^{3} y^{4} + 13000 x^{3} y^{3} + 13000 x^{3} y^{2} - 50000 x^{3} y - 50000 x^{3} + 125 x^{2} y^{5} + 125 x^{2} y^{4} - 13000 x^{2} y^{3} - 13000 x^{2} y^{2} + 50000 x^{2} y + 50000 x^{2} + 2500 x y^{5} + 2500 x y^{4} - 260000 x y^{3} - 260000 x y^{2} + 1000000 x y + 1000000 x - 2500 y^{5} - 2500 y^{4} + 260000 y^{3} + 260000 y^{2} - 1000000 y - 1000000$"
      ],
      "text/plain": [
       " 5  5    5  4        5  3        5  2        5          5    4  5    4  4     \n",
       "x ⋅y  + x ⋅y  - 104⋅x ⋅y  - 104⋅x ⋅y  + 400⋅x ⋅y + 400⋅x  - x ⋅y  - x ⋅y  + 10\n",
       "\n",
       "   4  3        4  2        4          4        3  5        3  4          3  3 \n",
       "4⋅x ⋅y  + 104⋅x ⋅y  - 400⋅x ⋅y - 400⋅x  - 125⋅x ⋅y  - 125⋅x ⋅y  + 13000⋅x ⋅y  \n",
       "\n",
       "         3  2          3            3        2  5        2  4          2  3   \n",
       "+ 13000⋅x ⋅y  - 50000⋅x ⋅y - 50000⋅x  + 125⋅x ⋅y  + 125⋅x ⋅y  - 13000⋅x ⋅y  - \n",
       "\n",
       "       2  2          2            2           5           4             3     \n",
       "13000⋅x ⋅y  + 50000⋅x ⋅y + 50000⋅x  + 2500⋅x⋅y  + 2500⋅x⋅y  - 260000⋅x⋅y  - 26\n",
       "\n",
       "        2                                   5         4           3           \n",
       "0000⋅x⋅y  + 1000000⋅x⋅y + 1000000⋅x - 2500⋅y  - 2500⋅y  + 260000⋅y  + 260000⋅y\n",
       "\n",
       "2                      \n",
       "  - 1000000⋅y - 1000000"
      ]
     },
     "execution_count": 4,
     "metadata": {},
     "output_type": "execute_result"
    }
   ],
   "source": [
    "z.expand()"
   ]
  },
  {
   "cell_type": "code",
   "execution_count": null,
   "id": "1e6f94f7-9db4-4d92-8c4b-98fcb10795dd",
   "metadata": {},
   "outputs": [],
   "source": []
  },
  {
   "cell_type": "code",
   "execution_count": 5,
   "id": "37ada8db-0f4f-4136-bb42-4fe56bf4f5a5",
   "metadata": {},
   "outputs": [
    {
     "data": {
      "image/png": "[encoded data removed]",
      "text/latex": [
       "$\\displaystyle \\left( 101, \\  101\\right)$"
      ],
      "text/plain": [
       "(101, 101)"
      ]
     },
     "execution_count": 5,
     "metadata": {},
     "output_type": "execute_result"
    }
   ],
   "source": [
    "# 回到更基礎的 numpy 配 matplotlib 來畫圖\n",
    "\n",
    "xx= np.linspace(-10,10,101)\n",
    "yy= np.linspace(-10,10,101)\n",
    "xm, ym= np.meshgrid(xx,yy)\n",
    "xm.shape\n"
   ]
  },
  {
   "cell_type": "code",
   "execution_count": 6,
   "id": "29dafe53-4fe4-4dec-9b51-7c1d0409ab1f",
   "metadata": {
    "tags": []
   },
   "outputs": [
    {
     "data": {
      "text/plain": [
       "array([[[0, 0, 0, 0, 0, 0, 0, 0, 0, 0],\n",
       "        [1, 1, 1, 1, 1, 1, 1, 1, 1, 1],\n",
       "        [2, 2, 2, 2, 2, 2, 2, 2, 2, 2],\n",
       "        [3, 3, 3, 3, 3, 3, 3, 3, 3, 3],\n",
       "        [4, 4, 4, 4, 4, 4, 4, 4, 4, 4],\n",
       "        [5, 5, 5, 5, 5, 5, 5, 5, 5, 5],\n",
       "        [6, 6, 6, 6, 6, 6, 6, 6, 6, 6],\n",
       "        [7, 7, 7, 7, 7, 7, 7, 7, 7, 7],\n",
       "        [8, 8, 8, 8, 8, 8, 8, 8, 8, 8],\n",
       "        [9, 9, 9, 9, 9, 9, 9, 9, 9, 9]],\n",
       "\n",
       "       [[0, 1, 2, 3, 4, 5, 6, 7, 8, 9],\n",
       "        [0, 1, 2, 3, 4, 5, 6, 7, 8, 9],\n",
       "        [0, 1, 2, 3, 4, 5, 6, 7, 8, 9],\n",
       "        [0, 1, 2, 3, 4, 5, 6, 7, 8, 9],\n",
       "        [0, 1, 2, 3, 4, 5, 6, 7, 8, 9],\n",
       "        [0, 1, 2, 3, 4, 5, 6, 7, 8, 9],\n",
       "        [0, 1, 2, 3, 4, 5, 6, 7, 8, 9],\n",
       "        [0, 1, 2, 3, 4, 5, 6, 7, 8, 9],\n",
       "        [0, 1, 2, 3, 4, 5, 6, 7, 8, 9],\n",
       "        [0, 1, 2, 3, 4, 5, 6, 7, 8, 9]]])"
      ]
     },
     "execution_count": 6,
     "metadata": {},
     "output_type": "execute_result"
    }
   ],
   "source": [
    "#np.meshgrid?\n",
    "np.mgrid[0:10, 0:10]\n"
   ]
  },
  {
   "cell_type": "code",
   "execution_count": 7,
   "id": "d427e37a-34de-4440-9881-b88d74b1eecf",
   "metadata": {},
   "outputs": [
    {
     "data": {
      "text/plain": [
       "array([[0],\n",
       "       [1],\n",
       "       [2],\n",
       "       [3],\n",
       "       [4],\n",
       "       [5],\n",
       "       [6],\n",
       "       [7],\n",
       "       [8],\n",
       "       [9]])"
      ]
     },
     "execution_count": 7,
     "metadata": {},
     "output_type": "execute_result"
    }
   ],
   "source": [
    "xv= np.arange(10).reshape(-1,1)\n",
    "xv"
   ]
  },
  {
   "cell_type": "code",
   "execution_count": 8,
   "id": "b41b6b49-46a8-4cea-ae60-cf6e3895333c",
   "metadata": {},
   "outputs": [
    {
     "data": {
      "text/plain": [
       "array([[1., 1., 1., 1., 1., 1., 1., 1., 1., 1.]])"
      ]
     },
     "execution_count": 8,
     "metadata": {},
     "output_type": "execute_result"
    }
   ],
   "source": [
    "yv= np.ones(10).reshape(1,-1)\n",
    "yv"
   ]
  },
  {
   "cell_type": "code",
   "execution_count": 9,
   "id": "4ec511cd-3e03-4476-aa6b-a5850dcaea34",
   "metadata": {},
   "outputs": [
    {
     "data": {
      "text/plain": [
       "array([[0., 0., 0., 0., 0., 0., 0., 0., 0., 0.],\n",
       "       [1., 1., 1., 1., 1., 1., 1., 1., 1., 1.],\n",
       "       [2., 2., 2., 2., 2., 2., 2., 2., 2., 2.],\n",
       "       [3., 3., 3., 3., 3., 3., 3., 3., 3., 3.],\n",
       "       [4., 4., 4., 4., 4., 4., 4., 4., 4., 4.],\n",
       "       [5., 5., 5., 5., 5., 5., 5., 5., 5., 5.],\n",
       "       [6., 6., 6., 6., 6., 6., 6., 6., 6., 6.],\n",
       "       [7., 7., 7., 7., 7., 7., 7., 7., 7., 7.],\n",
       "       [8., 8., 8., 8., 8., 8., 8., 8., 8., 8.],\n",
       "       [9., 9., 9., 9., 9., 9., 9., 9., 9., 9.]])"
      ]
     },
     "execution_count": 9,
     "metadata": {},
     "output_type": "execute_result"
    }
   ],
   "source": [
    "xm= xv@yv\n",
    "xm"
   ]
  },
  {
   "cell_type": "code",
   "execution_count": 10,
   "id": "765cbf9e-6705-490f-9e42-82aa883bd60c",
   "metadata": {},
   "outputs": [
    {
     "data": {
      "text/plain": [
       "array([[0., 1., 2., 3., 4., 5., 6., 7., 8., 9.],\n",
       "       [0., 1., 2., 3., 4., 5., 6., 7., 8., 9.],\n",
       "       [0., 1., 2., 3., 4., 5., 6., 7., 8., 9.],\n",
       "       [0., 1., 2., 3., 4., 5., 6., 7., 8., 9.],\n",
       "       [0., 1., 2., 3., 4., 5., 6., 7., 8., 9.],\n",
       "       [0., 1., 2., 3., 4., 5., 6., 7., 8., 9.],\n",
       "       [0., 1., 2., 3., 4., 5., 6., 7., 8., 9.],\n",
       "       [0., 1., 2., 3., 4., 5., 6., 7., 8., 9.],\n",
       "       [0., 1., 2., 3., 4., 5., 6., 7., 8., 9.],\n",
       "       [0., 1., 2., 3., 4., 5., 6., 7., 8., 9.]])"
      ]
     },
     "execution_count": 10,
     "metadata": {},
     "output_type": "execute_result"
    }
   ],
   "source": [
    "ym= xm.T\n",
    "ym"
   ]
  },
  {
   "cell_type": "code",
   "execution_count": 12,
   "id": "726ee006-3511-4ee5-80b3-dc689df8a6e5",
   "metadata": {},
   "outputs": [
    {
     "data": {
      "text/plain": [
       "[<matplotlib.lines.Line2D at 0x1fa724e5cd0>,\n",
       " <matplotlib.lines.Line2D at 0x1fa724e5d00>,\n",
       " <matplotlib.lines.Line2D at 0x1fa724e5d60>,\n",
       " <matplotlib.lines.Line2D at 0x1fa724e5e20>,\n",
       " <matplotlib.lines.Line2D at 0x1fa724e5ee0>,\n",
       " <matplotlib.lines.Line2D at 0x1fa724e5fa0>,\n",
       " <matplotlib.lines.Line2D at 0x1fa724ef0a0>,\n",
       " <matplotlib.lines.Line2D at 0x1fa724ef160>,\n",
       " <matplotlib.lines.Line2D at 0x1fa724ef220>,\n",
       " <matplotlib.lines.Line2D at 0x1fa724ef2e0>]"
      ]
     },
     "execution_count": 12,
     "metadata": {},
     "output_type": "execute_result"
    }
   ],
   "source": [
    "pl.plot(xm, ym,'o')\n",
    "#, xlabel='x', ylabel='y')\n",
    "#pl.plot?"
   ]
  },
  {
   "cell_type": "code",
   "execution_count": 13,
   "id": "63047266-5695-4ef7-81f2-df224a2216d1",
   "metadata": {},
   "outputs": [
    {
     "data": {
      "text/plain": [
       "(array([[0],\n",
       "        [1],\n",
       "        [2],\n",
       "        [3],\n",
       "        [4]]),\n",
       " array([[0, 1, 2, 3, 4, 5, 6, 7, 8, 9]]))"
      ]
     },
     "execution_count": 13,
     "metadata": {},
     "output_type": "execute_result"
    }
   ],
   "source": [
    "# meshgrid\n",
    "iv, jv= np.ogrid[0:5, 0:10]\n",
    "iv, jv"
   ]
  },
  {
   "cell_type": "code",
   "execution_count": 14,
   "id": "f8c80a0c-a489-4c3c-8d9f-c0a2297376a6",
   "metadata": {},
   "outputs": [
    {
     "data": {
      "text/plain": [
       "(array([[0, 0, 0, 0, 0, 0, 0, 0, 0, 0],\n",
       "        [1, 1, 1, 1, 1, 1, 1, 1, 1, 1],\n",
       "        [2, 2, 2, 2, 2, 2, 2, 2, 2, 2],\n",
       "        [3, 3, 3, 3, 3, 3, 3, 3, 3, 3],\n",
       "        [4, 4, 4, 4, 4, 4, 4, 4, 4, 4]]),\n",
       " array([[0, 1, 2, 3, 4, 5, 6, 7, 8, 9],\n",
       "        [0, 1, 2, 3, 4, 5, 6, 7, 8, 9],\n",
       "        [0, 1, 2, 3, 4, 5, 6, 7, 8, 9],\n",
       "        [0, 1, 2, 3, 4, 5, 6, 7, 8, 9],\n",
       "        [0, 1, 2, 3, 4, 5, 6, 7, 8, 9]]))"
      ]
     },
     "execution_count": 14,
     "metadata": {},
     "output_type": "execute_result"
    }
   ],
   "source": [
    "im= iv @ np.ones_like(jv)\n",
    "jm= np.ones_like(iv) @ jv\n",
    "im, jm"
   ]
  },
  {
   "cell_type": "code",
   "execution_count": 15,
   "id": "dcf949a0-9366-4672-8533-f05d2213eb03",
   "metadata": {},
   "outputs": [
    {
     "data": {
      "text/plain": [
       "<matplotlib.collections.PathCollection at 0x1fa727f57c0>"
      ]
     },
     "execution_count": 15,
     "metadata": {},
     "output_type": "execute_result"
    }
   ],
   "source": [
    "import matplotlib.pyplot as plt\n",
    "\n",
    "plt.figure()\n",
    "plt.title('ryMeshgrid')\n",
    "plt.xlabel('x, col: j')\n",
    "plt.ylabel('y, row: i')\n",
    "plt.grid(True)\n",
    "\n",
    "plt.xticks(jv.flatten())\n",
    "plt.yticks(iv.flatten())\n",
    "\n",
    "ym, xm= im, jm\n",
    "\n",
    "plt.scatter(xm,\n",
    "            ym,\n",
    "            color=\"gray\", \n",
    "            marker=\"o\")\n",
    "\n",
    "plt.scatter(jv, \n",
    "            jv*0, \n",
    "            color=\"red\", \n",
    "            marker=\"x\")\n",
    "\n",
    "plt.scatter(iv*0, \n",
    "            iv, \n",
    "            color=\"purple\", \n",
    "            marker=\"^\")"
   ]
  },
  {
   "cell_type": "code",
   "execution_count": 16,
   "id": "09f16e14-4937-4ed5-8c44-b6dd5f4d1f30",
   "metadata": {},
   "outputs": [
    {
     "data": {
      "text/plain": [
       "array([[0, 1, 2, 3, 4, 5, 6, 7, 8, 9],\n",
       "       [0, 1, 2, 3, 4, 5, 6, 7, 8, 9],\n",
       "       [0, 1, 2, 3, 4, 5, 6, 7, 8, 9],\n",
       "       [0, 1, 2, 3, 4, 5, 6, 7, 8, 9],\n",
       "       [0, 1, 2, 3, 4, 5, 6, 7, 8, 9]])"
      ]
     },
     "execution_count": 16,
     "metadata": {},
     "output_type": "execute_result"
    }
   ],
   "source": [
    "xm"
   ]
  },
  {
   "cell_type": "code",
   "execution_count": 17,
   "id": "a819bd86-fd00-4c57-8f5c-3b1f2b6741ac",
   "metadata": {},
   "outputs": [
    {
     "data": {
      "text/plain": [
       "array([[0, 0, 0, 0, 0, 0, 0, 0, 0, 0],\n",
       "       [1, 1, 1, 1, 1, 1, 1, 1, 1, 1],\n",
       "       [2, 2, 2, 2, 2, 2, 2, 2, 2, 2],\n",
       "       [3, 3, 3, 3, 3, 3, 3, 3, 3, 3],\n",
       "       [4, 4, 4, 4, 4, 4, 4, 4, 4, 4]])"
      ]
     },
     "execution_count": 17,
     "metadata": {},
     "output_type": "execute_result"
    }
   ],
   "source": [
    "ym"
   ]
  },
  {
   "cell_type": "code",
   "execution_count": 18,
   "id": "5e63bf1d-3f0f-45ad-9cc8-86aa9228a752",
   "metadata": {},
   "outputs": [],
   "source": [
    "# numpy 提供了 mgrid[] 來自動化上述行動，小心一下 ym, xm = im, jm (垂直、水平) 的對應\n",
    "im, jm= np.mgrid[0:5, 0:10]\n",
    "ym, xm= im, jm"
   ]
  },
  {
   "cell_type": "code",
   "execution_count": 19,
   "id": "e308cdca-98b3-4616-92f2-07542abca204",
   "metadata": {},
   "outputs": [
    {
     "data": {
      "text/plain": [
       "array([[0, 1, 2, 3, 4, 5, 6, 7, 8, 9],\n",
       "       [0, 1, 2, 3, 4, 5, 6, 7, 8, 9],\n",
       "       [0, 1, 2, 3, 4, 5, 6, 7, 8, 9],\n",
       "       [0, 1, 2, 3, 4, 5, 6, 7, 8, 9],\n",
       "       [0, 1, 2, 3, 4, 5, 6, 7, 8, 9]])"
      ]
     },
     "execution_count": 19,
     "metadata": {},
     "output_type": "execute_result"
    }
   ],
   "source": [
    "xm"
   ]
  },
  {
   "cell_type": "code",
   "execution_count": 20,
   "id": "cfa6a230-faee-4b34-9217-b22e93ea3db2",
   "metadata": {},
   "outputs": [
    {
     "data": {
      "text/plain": [
       "array([[0, 0, 0, 0, 0, 0, 0, 0, 0, 0],\n",
       "       [1, 1, 1, 1, 1, 1, 1, 1, 1, 1],\n",
       "       [2, 2, 2, 2, 2, 2, 2, 2, 2, 2],\n",
       "       [3, 3, 3, 3, 3, 3, 3, 3, 3, 3],\n",
       "       [4, 4, 4, 4, 4, 4, 4, 4, 4, 4]])"
      ]
     },
     "execution_count": 20,
     "metadata": {},
     "output_type": "execute_result"
    }
   ],
   "source": [
    "ym"
   ]
  },
  {
   "cell_type": "code",
   "execution_count": 21,
   "id": "f06b53e7-e5b8-4a4d-9be7-f9cf315d84d0",
   "metadata": {},
   "outputs": [
    {
     "data": {
      "text/plain": [
       "<matplotlib.colorbar.Colorbar at 0x1fa72af8610>"
      ]
     },
     "execution_count": 21,
     "metadata": {},
     "output_type": "execute_result"
    }
   ],
   "source": [
    "# 改變2D函數形式，做一些圖來瞧瞧。\n",
    "\n",
    "zm= np.sin(xm)*ym\n",
    "pl.figure()\n",
    "pl.imshow(zm, \n",
    "          origin='lower',  # 用這行 把原點 (0,0) 設在左【下】角\n",
    "          cmap= 'rainbow' #'viridis',\n",
    "          )\n",
    "pl.xlabel('x')\n",
    "pl.ylabel('y')\n",
    "pl.title('z= f(x,y)= sin(x)*y, Rainbow colors map f(x,y) values')\n",
    "pl.colorbar()\n"
   ]
  },
  {
   "cell_type": "code",
   "execution_count": 25,
   "id": "31cdcd26-b6b6-4e61-be68-3fd369c76110",
   "metadata": {},
   "outputs": [
    {
     "data": {
      "text/plain": [
       "<matplotlib.colorbar.Colorbar at 0x1fa73f367f0>"
      ]
     },
     "execution_count": 25,
     "metadata": {},
     "output_type": "execute_result"
    }
   ],
   "source": [
    "# 終於可以用numpy + matplotlib 畫任意 2D 函數圖形\n",
    "def f(x,y):\n",
    "    zx=  (x+10)*(x+5)*(x-1)*(x-5)*(x-10)\n",
    "    zy=  (y+10)*(y+2)*(y+1)*(y-2)*(y-10)\n",
    "    z= zx*zy\n",
    "    \n",
    "    return z\n",
    "\n",
    "ym, xm= np.mgrid[-10:10.1:.1, -10:10.1:.1]\n",
    "zm= f(xm,ym)\n",
    "pl.figure()\n",
    "pl.imshow(zm, \n",
    "          origin='lower',  # 用這行 把原點 (0,0) 設在左【下】角\n",
    "          cmap= 'rainbow' #'viridis'\n",
    "          )\n",
    "pl.xlabel('x')\n",
    "pl.ylabel('y')\n",
    "pl.title('z= f(x,y), Rainbow colors map f(x,y) values')\n",
    "#plt.xticks(np.arange(0,xm[0].size,step=10), xm[0,0::10])\n",
    "#plt.yticks([])#ym[0])\n",
    "# 但是 x,y 軸上的數值標示仍未搞定，\n",
    "# 目前適用矩陣的 index (0,1,2,...)而非 x,y 的真實值\n",
    "\n",
    "pl.colorbar()"
   ]
  },
  {
   "cell_type": "code",
   "execution_count": 64,
   "id": "6f55200e-4f49-4eba-9455-c2d0db4c3dd4",
   "metadata": {},
   "outputs": [
    {
     "data": {
      "text/plain": [
       "<mpl_toolkits.mplot3d.art3d.Poly3DCollection at 0x1fa01de0ca0>"
      ]
     },
     "execution_count": 64,
     "metadata": {},
     "output_type": "execute_result"
    }
   ],
   "source": [
    "## 試試 3D\n",
    "\n",
    "from mpl_toolkits import mplot3d\n",
    "\n",
    "fg= pl.figure()\n",
    "\n",
    "ax= pl.axes(projection='3d', \n",
    "            xlabel= 'x', \n",
    "            ylabel= 'y', \n",
    "            title= 'z= f(x,y)')\n",
    "\n",
    "#ax.contour3D(xm, ym, zm, 100, cmap='rainbow')\n",
    "\n",
    "'''\n",
    "ax.plot_wireframe(xm, ym, zm,\n",
    "                rstride= 5, \n",
    "                cstride= 5\n",
    "                )\n",
    "'''\n",
    "\n",
    "\n",
    "#'''\n",
    "ax.plot_surface(xm,ym,zm, \n",
    "                rstride= 5, \n",
    "                cstride= 5,\n",
    "                cmap=     'rainbow',  \n",
    "                edgecolor= 'gray'\n",
    "               )\n",
    "#'''\n",
    "\n",
    "# 想畫 z 軸，但仍不好看！\n",
    "\n"
   ]
  },
  {
   "cell_type": "code",
   "execution_count": 62,
   "id": "2f674cb8-a347-4208-b4b2-3886d0a8e349",
   "metadata": {},
   "outputs": [
    {
     "data": {
      "text/plain": [
       "<mpl_toolkits.mplot3d.art3d.Path3DCollection at 0x1fa00dc75b0>"
      ]
     },
     "execution_count": 62,
     "metadata": {},
     "output_type": "execute_result"
    }
   ],
   "source": [
    "zAxis= xm[0] / xm[0].max() * abs(zm).max()\n",
    "zAxis\n",
    "ax.scatter3D(xm[0]*0, \n",
    "             xm[0]*0, \n",
    "             zAxis, \n",
    "             color='magenta')"
   ]
  },
  {
   "cell_type": "code",
   "execution_count": 61,
   "id": "96318fda-9c9a-467d-b8fb-bbd039b39a92",
   "metadata": {},
   "outputs": [
    {
     "data": {
      "text/plain": [
       "array([-2.49364746e+08, -2.46871098e+08, -2.44377451e+08, -2.41883803e+08,\n",
       "       -2.39390156e+08, -2.36896508e+08, -2.34402861e+08, -2.31909214e+08,\n",
       "       -2.29415566e+08, -2.26921919e+08, -2.24428271e+08, -2.21934624e+08,\n",
       "       -2.19440976e+08, -2.16947329e+08, -2.14453681e+08, -2.11960034e+08,\n",
       "       -2.09466386e+08, -2.06972739e+08, -2.04479091e+08, -2.01985444e+08,\n",
       "       -1.99491797e+08, -1.96998149e+08, -1.94504502e+08, -1.92010854e+08,\n",
       "       -1.89517207e+08, -1.87023559e+08, -1.84529912e+08, -1.82036264e+08,\n",
       "       -1.79542617e+08, -1.77048969e+08, -1.74555322e+08, -1.72061675e+08,\n",
       "       -1.69568027e+08, -1.67074380e+08, -1.64580732e+08, -1.62087085e+08,\n",
       "       -1.59593437e+08, -1.57099790e+08, -1.54606142e+08, -1.52112495e+08,\n",
       "       -1.49618847e+08, -1.47125200e+08, -1.44631553e+08, -1.42137905e+08,\n",
       "       -1.39644258e+08, -1.37150610e+08, -1.34656963e+08, -1.32163315e+08,\n",
       "       -1.29669668e+08, -1.27176020e+08, -1.24682373e+08, -1.22188725e+08,\n",
       "       -1.19695078e+08, -1.17201430e+08, -1.14707783e+08, -1.12214136e+08,\n",
       "       -1.09720488e+08, -1.07226841e+08, -1.04733193e+08, -1.02239546e+08,\n",
       "       -9.97458983e+07, -9.72522508e+07, -9.47586034e+07, -9.22649559e+07,\n",
       "       -8.97713085e+07, -8.72776610e+07, -8.47840135e+07, -8.22903661e+07,\n",
       "       -7.97967186e+07, -7.73030712e+07, -7.48094237e+07, -7.23157763e+07,\n",
       "       -6.98221288e+07, -6.73284813e+07, -6.48348339e+07, -6.23411864e+07,\n",
       "       -5.98475390e+07, -5.73538915e+07, -5.48602441e+07, -5.23665966e+07,\n",
       "       -4.98729491e+07, -4.73793017e+07, -4.48856542e+07, -4.23920068e+07,\n",
       "       -3.98983593e+07, -3.74047119e+07, -3.49110644e+07, -3.24174169e+07,\n",
       "       -2.99237695e+07, -2.74301220e+07, -2.49364746e+07, -2.24428271e+07,\n",
       "       -1.99491797e+07, -1.74555322e+07, -1.49618847e+07, -1.24682373e+07,\n",
       "       -9.97458983e+06, -7.48094237e+06, -4.98729491e+06, -2.49364746e+06,\n",
       "        0.00000000e+00,  2.49364746e+06,  4.98729491e+06,  7.48094237e+06,\n",
       "        9.97458983e+06,  1.24682373e+07,  1.49618847e+07,  1.74555322e+07,\n",
       "        1.99491797e+07,  2.24428271e+07,  2.49364746e+07,  2.74301220e+07,\n",
       "        2.99237695e+07,  3.24174169e+07,  3.49110644e+07,  3.74047119e+07,\n",
       "        3.98983593e+07,  4.23920068e+07,  4.48856542e+07,  4.73793017e+07,\n",
       "        4.98729491e+07,  5.23665966e+07,  5.48602441e+07,  5.73538915e+07,\n",
       "        5.98475390e+07,  6.23411864e+07,  6.48348339e+07,  6.73284813e+07,\n",
       "        6.98221288e+07,  7.23157763e+07,  7.48094237e+07,  7.73030712e+07,\n",
       "        7.97967186e+07,  8.22903661e+07,  8.47840135e+07,  8.72776610e+07,\n",
       "        8.97713085e+07,  9.22649559e+07,  9.47586034e+07,  9.72522508e+07,\n",
       "        9.97458983e+07,  1.02239546e+08,  1.04733193e+08,  1.07226841e+08,\n",
       "        1.09720488e+08,  1.12214136e+08,  1.14707783e+08,  1.17201430e+08,\n",
       "        1.19695078e+08,  1.22188725e+08,  1.24682373e+08,  1.27176020e+08,\n",
       "        1.29669668e+08,  1.32163315e+08,  1.34656963e+08,  1.37150610e+08,\n",
       "        1.39644258e+08,  1.42137905e+08,  1.44631553e+08,  1.47125200e+08,\n",
       "        1.49618847e+08,  1.52112495e+08,  1.54606142e+08,  1.57099790e+08,\n",
       "        1.59593437e+08,  1.62087085e+08,  1.64580732e+08,  1.67074380e+08,\n",
       "        1.69568027e+08,  1.72061675e+08,  1.74555322e+08,  1.77048969e+08,\n",
       "        1.79542617e+08,  1.82036264e+08,  1.84529912e+08,  1.87023559e+08,\n",
       "        1.89517207e+08,  1.92010854e+08,  1.94504502e+08,  1.96998149e+08,\n",
       "        1.99491797e+08,  2.01985444e+08,  2.04479091e+08,  2.06972739e+08,\n",
       "        2.09466386e+08,  2.11960034e+08,  2.14453681e+08,  2.16947329e+08,\n",
       "        2.19440976e+08,  2.21934624e+08,  2.24428271e+08,  2.26921919e+08,\n",
       "        2.29415566e+08,  2.31909214e+08,  2.34402861e+08,  2.36896508e+08,\n",
       "        2.39390156e+08,  2.41883803e+08,  2.44377451e+08,  2.46871098e+08,\n",
       "        2.49364746e+08])"
      ]
     },
     "execution_count": 61,
     "metadata": {},
     "output_type": "execute_result"
    }
   ],
   "source": [
    "zAxis= xm[0] / xm[0].max() * abs(zm).max()\n",
    "zAxis"
   ]
  },
  {
   "cell_type": "code",
   "execution_count": 59,
   "id": "c460e6ec-2064-4406-839d-42ff7fefd3b8",
   "metadata": {},
   "outputs": [
    {
     "data": {
      "image/png": "[encoded data removed]",
      "text/latex": [
       "$\\displaystyle 249364745.71254$"
      ],
      "text/plain": [
       "249364745.71254006"
      ]
     },
     "execution_count": 59,
     "metadata": {},
     "output_type": "execute_result"
    }
   ],
   "source": [
    "abs(zm).max()"
   ]
  },
  {
   "cell_type": "code",
   "execution_count": 507,
   "id": "aa7f0ef5-ec95-455d-8a0c-a68462f924a5",
   "metadata": {},
   "outputs": [
    {
     "data": {
      "text/plain": [
       "<mpl_toolkits.mplot3d.art3d.Path3DCollection at 0x20ee69044f0>"
      ]
     },
     "execution_count": 507,
     "metadata": {},
     "output_type": "execute_result"
    }
   ],
   "source": [
    "from mpl_toolkits import mplot3d\n",
    "\n",
    "fg= pl.figure()\n",
    "\n",
    "zz= f(xx,yy)\n",
    "\n",
    "ax= pl.axes(projection='3d', \n",
    "            xlabel= 'x', \n",
    "            ylabel= 'y', \n",
    "            title= f'z= {z}')\n",
    "#ax.plot3D(xx, yy, zz)\n",
    "\n",
    "\n",
    "#ax.contour3D(xm, ym, zm, 100) #, cmap='binary')\n",
    "#ax.plot_wireframe(xm, ym, zm)\n",
    "#'''\n",
    "ax.plot_surface(xm,ym,zm, \n",
    "                rstride= 5, \n",
    "                cstride= 5,\n",
    "                cmap=     'viridis', #'rainbow',  \n",
    "                edgecolor='none'\n",
    "               )\n",
    "#'''\n",
    "ax.scatter3D(xx*0, \n",
    "             yy*0, \n",
    "             xx/max(xx)*max(abs(zz)), \n",
    "             color='magenta')"
   ]
  },
  {
   "cell_type": "code",
   "execution_count": 457,
   "id": "5d9ed36a-d434-41f6-844e-e02809c3e2a0",
   "metadata": {},
   "outputs": [
    {
     "data": {
      "text/plain": [
       "Text(0.07047665878555721, -0.07320235304988147, 'y')"
      ]
     },
     "execution_count": 457,
     "metadata": {},
     "output_type": "execute_result"
    }
   ],
   "source": [
    "ax.set_xlabel('x')\n",
    "ax.set_ylabel('y')\n"
   ]
  },
  {
   "cell_type": "code",
   "execution_count": 495,
   "id": "9a5dbade-6f1f-459b-8ff5-1793b3cb6aeb",
   "metadata": {},
   "outputs": [
    {
     "data": {
      "text/plain": [
       "array([-1.  , -0.98, -0.96, -0.94, -0.92, -0.9 , -0.88, -0.86, -0.84,\n",
       "       -0.82, -0.8 , -0.78, -0.76, -0.74, -0.72, -0.7 , -0.68, -0.66,\n",
       "       -0.64, -0.62, -0.6 , -0.58, -0.56, -0.54, -0.52, -0.5 , -0.48,\n",
       "       -0.46, -0.44, -0.42, -0.4 , -0.38, -0.36, -0.34, -0.32, -0.3 ,\n",
       "       -0.28, -0.26, -0.24, -0.22, -0.2 , -0.18, -0.16, -0.14, -0.12,\n",
       "       -0.1 , -0.08, -0.06, -0.04, -0.02,  0.  ,  0.02,  0.04,  0.06,\n",
       "        0.08,  0.1 ,  0.12,  0.14,  0.16,  0.18,  0.2 ,  0.22,  0.24,\n",
       "        0.26,  0.28,  0.3 ,  0.32,  0.34,  0.36,  0.38,  0.4 ,  0.42,\n",
       "        0.44,  0.46,  0.48,  0.5 ,  0.52,  0.54,  0.56,  0.58,  0.6 ,\n",
       "        0.62,  0.64,  0.66,  0.68,  0.7 ,  0.72,  0.74,  0.76,  0.78,\n",
       "        0.8 ,  0.82,  0.84,  0.86,  0.88,  0.9 ,  0.92,  0.94,  0.96,\n",
       "        0.98,  1.  ])"
      ]
     },
     "execution_count": 495,
     "metadata": {},
     "output_type": "execute_result"
    }
   ],
   "source": [
    "xx/max(xx)"
   ]
  },
  {
   "cell_type": "code",
   "execution_count": null,
   "id": "f7c82958-ed47-459c-afbb-f809fa9e7336",
   "metadata": {},
   "outputs": [],
   "source": []
  },
  {
   "cell_type": "code",
   "execution_count": null,
   "id": "bf23ae50-1434-4559-a400-5fc1c61adf11",
   "metadata": {},
   "outputs": [],
   "source": []
  },
  {
   "cell_type": "code",
   "execution_count": null,
   "id": "98af8588-68e2-4f61-b8ae-3846f694986c",
   "metadata": {},
   "outputs": [],
   "source": []
  },
  {
   "cell_type": "code",
   "execution_count": null,
   "id": "50b66950-f1ef-4cd9-8294-7e68ab47e813",
   "metadata": {},
   "outputs": [],
   "source": []
  },
  {
   "cell_type": "code",
   "execution_count": 88,
   "id": "3698a955-d8fe-4e5c-bf91-ac2241b1e805",
   "metadata": {},
   "outputs": [
    {
     "data": {
      "text/plain": [
       "\"\\nx= sm.symbols('x')\\ny= sm.sin(10*x)\\nz= f(x,y)\\n\\nsm.plotting.plot3d_parametric_line(\\n    (x, y, z, (x,0,1)),\\n    xlabel= 'x', \\n    ylabel='y')\\n\""
      ]
     },
     "execution_count": 88,
     "metadata": {},
     "output_type": "execute_result"
    }
   ],
   "source": [
    "\n",
    "'''\n",
    "x= sm.symbols('x')\n",
    "y= sm.sin(10*x)\n",
    "z= f(x,y)\n",
    "\n",
    "sm.plotting.plot3d_parametric_line(\n",
    "    (x, y, z, (x,0,1)),\n",
    "    xlabel= 'x', \n",
    "    ylabel='y')\n",
    "'''"
   ]
  },
  {
   "cell_type": "code",
   "execution_count": null,
   "id": "83ab1d99-cf94-4255-ae8d-d98dcd09760a",
   "metadata": {},
   "outputs": [],
   "source": []
  },
  {
   "cell_type": "code",
   "execution_count": 90,
   "id": "9b619fd7-9773-4808-ba3f-f535e057b133",
   "metadata": {},
   "outputs": [
    {
     "data": {
      "text/latex": [
       "$\\displaystyle x + y^{2}$"
      ],
      "text/plain": [
       "x + y**2"
      ]
     },
     "execution_count": 90,
     "metadata": {},
     "output_type": "execute_result"
    }
   ],
   "source": [
    "z"
   ]
  },
  {
   "cell_type": "code",
   "execution_count": 91,
   "id": "d8ccc31d-44f6-49b6-8cb5-d624e149fdbc",
   "metadata": {},
   "outputs": [
    {
     "data": {
      "text/latex": [
       "$\\displaystyle x + y^{2}$"
      ],
      "text/plain": [
       "x + y**2"
      ]
     },
     "execution_count": 91,
     "metadata": {},
     "output_type": "execute_result"
    }
   ],
   "source": [
    "f(x,y)"
   ]
  },
  {
   "cell_type": "code",
   "execution_count": 92,
   "id": "2fe59bcd-fca7-41bd-870a-1a56ce1e687a",
   "metadata": {},
   "outputs": [
    {
     "data": {
      "text/latex": [
       "$\\displaystyle 1$"
      ],
      "text/plain": [
       "1"
      ]
     },
     "execution_count": 92,
     "metadata": {},
     "output_type": "execute_result"
    }
   ],
   "source": [
    "f(x,y).diff(x)"
   ]
  },
  {
   "cell_type": "code",
   "execution_count": 93,
   "id": "f92fd0b0-50f9-455c-9e4a-8ed8bf8f2342",
   "metadata": {},
   "outputs": [
    {
     "data": {
      "text/latex": [
       "$\\displaystyle 2 y$"
      ],
      "text/plain": [
       "2*y"
      ]
     },
     "execution_count": 93,
     "metadata": {},
     "output_type": "execute_result"
    }
   ],
   "source": [
    "f(x,y).diff(y)"
   ]
  },
  {
   "cell_type": "code",
   "execution_count": 109,
   "id": "c159787f-1311-4a8f-bf02-aef4492d4525",
   "metadata": {},
   "outputs": [
    {
     "data": {
      "text/latex": [
       "$\\displaystyle \\int \\frac{\\partial}{\\partial x} \\left(x + y^{2}\\right)\\, dx$"
      ],
      "text/plain": [
       "Integral(Derivative(x + y**2, x), x)"
      ]
     },
     "execution_count": 109,
     "metadata": {},
     "output_type": "execute_result"
    }
   ],
   "source": [
    "sm.Integral(\n",
    "    sm.Derivative(\n",
    "        f(x,y),\n",
    "        x),\n",
    "    x)"
   ]
  },
  {
   "cell_type": "code",
   "execution_count": 110,
   "id": "5c80a4bc-214a-40d0-a420-35c350541726",
   "metadata": {},
   "outputs": [
    {
     "data": {
      "text/latex": [
       "$\\displaystyle \\frac{\\partial}{\\partial x} \\left(x + y^{2}\\right)$"
      ],
      "text/plain": [
       "Derivative(x + y**2, x)"
      ]
     },
     "execution_count": 110,
     "metadata": {},
     "output_type": "execute_result"
    }
   ],
   "source": [
    "sm.Derivative(\n",
    "    f(x,y),\n",
    "    x)"
   ]
  },
  {
   "cell_type": "code",
   "execution_count": 113,
   "id": "b24e1913-2b7b-4d0d-977b-31260e831eca",
   "metadata": {},
   "outputs": [
    {
     "data": {
      "text/latex": [
       "$\\displaystyle \\frac{x^{2} y}{2} + \\frac{x y^{3}}{3}$"
      ],
      "text/plain": [
       "x**2*y/2 + x*y**3/3"
      ]
     },
     "execution_count": 113,
     "metadata": {},
     "output_type": "execute_result"
    }
   ],
   "source": [
    "sm.Integral(\n",
    "    f(x,y),\n",
    "    x,\n",
    "    y).doit()"
   ]
  },
  {
   "cell_type": "code",
   "execution_count": 116,
   "id": "cef610fc-3ebd-447b-a097-8cca2fd89423",
   "metadata": {},
   "outputs": [
    {
     "data": {
      "text/latex": [
       "$\\displaystyle \\frac{5}{6}$"
      ],
      "text/plain": [
       "5/6"
      ]
     },
     "execution_count": 116,
     "metadata": {},
     "output_type": "execute_result"
    }
   ],
   "source": [
    "sm.Integral(\n",
    "    f(x,y),\n",
    "    (x,0,1),\n",
    "    (y,0,1)).doit()"
   ]
  },
  {
   "cell_type": "code",
   "execution_count": null,
   "id": "48ebdda0-c373-4a95-b8bb-80e82de0c45f",
   "metadata": {},
   "outputs": [],
   "source": []
  },
  {
   "cell_type": "code",
   "execution_count": 123,
   "id": "873eb493-723d-452d-8056-8de9e4c3bfc5",
   "metadata": {},
   "outputs": [
    {
     "data": {
      "text/latex": [
       "$\\displaystyle 1$"
      ],
      "text/plain": [
       "1"
      ]
     },
     "execution_count": 123,
     "metadata": {},
     "output_type": "execute_result"
    }
   ],
   "source": [
    "sm.Integral(\n",
    "    1,\n",
    "    (x,0,1),\n",
    "    (y,0,1)).doit()"
   ]
  },
  {
   "cell_type": "code",
   "execution_count": 189,
   "id": "4a46acaf-4e30-4423-82cf-97da7d21f3fa",
   "metadata": {},
   "outputs": [
    {
     "data": {
      "text/latex": [
       "$\\displaystyle \\int\\limits_{- r}^{r}\\int\\limits_{- \\sqrt{r^{2} - x^{2}}}^{\\sqrt{r^{2} - x^{2}}} 1\\, dy\\, dx$"
      ],
      "text/plain": [
       "Integral(1, (y, -sqrt(r**2 - x**2), sqrt(r**2 - x**2)), (x, -r, r))"
      ]
     },
     "execution_count": 189,
     "metadata": {},
     "output_type": "execute_result"
    }
   ],
   "source": [
    "#\n",
    "# 圓面積 π r**2\n",
    "#\n",
    "r= sm.symbols('r', positive=True)\n",
    "\n",
    "y0=  sm.sqrt(r**2-x**2)\n",
    "\n",
    "F= sm.Integral(\n",
    "    1,\n",
    "    (y,\n",
    "     -y0,\n",
    "     y0),\n",
    "    (x,\n",
    "     -r,\n",
    "     r))\n",
    "F"
   ]
  },
  {
   "cell_type": "code",
   "execution_count": 190,
   "id": "b942a94c-a0e9-42bd-8521-a1d85bf3c789",
   "metadata": {},
   "outputs": [
    {
     "data": {
      "text/latex": [
       "$\\displaystyle \\pi r^{2}$"
      ],
      "text/plain": [
       "pi*r**2"
      ]
     },
     "execution_count": 190,
     "metadata": {},
     "output_type": "execute_result"
    }
   ],
   "source": [
    "F.doit()"
   ]
  },
  {
   "cell_type": "code",
   "execution_count": 197,
   "id": "84533bd2-93eb-4668-9fff-533ae1251b2a",
   "metadata": {},
   "outputs": [
    {
     "data": {
      "text/latex": [
       "$\\displaystyle 2 \\int\\limits_{- r}^{r} \\sqrt{r^{2} - x^{2}}\\, dx$"
      ],
      "text/plain": [
       "2*Integral(sqrt(r**2 - x**2), (x, -r, r))"
      ]
     },
     "execution_count": 197,
     "metadata": {},
     "output_type": "execute_result"
    }
   ],
   "source": [
    "F= sm.Integral(y0, (x,-r, r))*2\n",
    "F"
   ]
  },
  {
   "cell_type": "code",
   "execution_count": 198,
   "id": "5b60d727-161d-4010-8dce-c9a2af88d574",
   "metadata": {},
   "outputs": [
    {
     "data": {
      "text/latex": [
       "$\\displaystyle \\pi r^{2}$"
      ],
      "text/plain": [
       "pi*r**2"
      ]
     },
     "execution_count": 198,
     "metadata": {},
     "output_type": "execute_result"
    }
   ],
   "source": [
    "F.doit()"
   ]
  },
  {
   "cell_type": "code",
   "execution_count": 205,
   "id": "9a5c4364-e629-42b8-a291-c5b11e4b642f",
   "metadata": {},
   "outputs": [
    {
     "data": {
      "text/latex": [
       "$\\displaystyle \\int\\limits_{0}^{2 \\pi}\\int\\limits_{0}^{r} r\\, dr\\, dθ$"
      ],
      "text/plain": [
       "Integral(r, (r, 0, r), (θ, 0, 2*pi))"
      ]
     },
     "execution_count": 205,
     "metadata": {},
     "output_type": "execute_result"
    }
   ],
   "source": [
    "\n",
    "r, θ, dr, dθ= sm.symbols('r, θ, dr, dθ')\n",
    "π= sm.pi\n",
    "\n",
    "F= sm.Integral(\n",
    "    r,\n",
    "    (r, 0, r),\n",
    "    (θ, 0, 2*π))\n",
    "\n",
    "F"
   ]
  },
  {
   "cell_type": "code",
   "execution_count": 206,
   "id": "799225eb-5dd1-4b54-8335-b0f422d11e26",
   "metadata": {},
   "outputs": [
    {
     "data": {
      "text/latex": [
       "$\\displaystyle \\pi r^{2}$"
      ],
      "text/plain": [
       "pi*r**2"
      ]
     },
     "execution_count": 206,
     "metadata": {},
     "output_type": "execute_result"
    }
   ],
   "source": [
    "F.doit()"
   ]
  },
  {
   "cell_type": "code",
   "execution_count": 208,
   "id": "aa7b8155-e110-4ae4-9fe6-0dd14bcebbc6",
   "metadata": {},
   "outputs": [
    {
     "data": {
      "text/latex": [
       "$\\displaystyle \\int\\limits_{0}^{h}\\int\\limits_{- r}^{r}\\int\\limits_{- \\sqrt{r^{2} - x^{2}}}^{\\sqrt{r^{2} - x^{2}}} 1\\, dy\\, dx\\, dz$"
      ],
      "text/plain": [
       "Integral(1, (y, -sqrt(r**2 - x**2), sqrt(r**2 - x**2)), (x, -r, r), (z, 0, h))"
      ]
     },
     "execution_count": 208,
     "metadata": {},
     "output_type": "execute_result"
    }
   ],
   "source": [
    "#\n",
    "# 圓柱 體積 π r**2 * h\n",
    "#\n",
    "r,h=   sm.symbols('r,h', positive=True)\n",
    "x,y,z= sm.symbols('x,y,z')\n",
    "\n",
    "\n",
    "y0=  sm.sqrt(r**2-x**2)\n",
    "\n",
    "F= sm.Integral(\n",
    "    1,\n",
    "    (y,-y0, y0),\n",
    "    (x, -r, r),\n",
    "    (z, 0, h))\n",
    "F"
   ]
  },
  {
   "cell_type": "code",
   "execution_count": 209,
   "id": "84ea3da9-916c-410f-855c-d7f09d8ae12e",
   "metadata": {},
   "outputs": [
    {
     "data": {
      "text/latex": [
       "$\\displaystyle \\pi h r^{2}$"
      ],
      "text/plain": [
       "pi*h*r**2"
      ]
     },
     "execution_count": 209,
     "metadata": {},
     "output_type": "execute_result"
    }
   ],
   "source": [
    "F.doit()"
   ]
  },
  {
   "cell_type": "code",
   "execution_count": 215,
   "id": "c814be21-f98c-4871-b709-dad2fc69016b",
   "metadata": {},
   "outputs": [
    {
     "data": {
      "text/latex": [
       "$\\displaystyle \\int\\limits_{- r}^{r}\\int\\limits_{- \\sqrt{r^{2} - x^{2}}}^{\\sqrt{r^{2} - x^{2}}}\\int\\limits_{0}^{h} 1\\, dz\\, dy\\, dx$"
      ],
      "text/plain": [
       "Integral(1, (z, 0, h), (y, -sqrt(r**2 - x**2), sqrt(r**2 - x**2)), (x, -r, r))"
      ]
     },
     "execution_count": 215,
     "metadata": {},
     "output_type": "execute_result"
    }
   ],
   "source": [
    "#\n",
    "# 圓柱，球屋頂，體積 \n",
    "#\n",
    "r,h=   sm.symbols('r,h', positive=True)\n",
    "x,y,z= sm.symbols('x,y,z')\n",
    "\n",
    "\n",
    "y0=  sm.sqrt(r**2-x**2)\n",
    "z0=  sm.sqrt(r**2-x**2-y**2)\n",
    "F= sm.Integral(\n",
    "    1,\n",
    "    (z,  0, h),\n",
    "    (y,-y0, y0),\n",
    "    (x, -r, r)\n",
    ")\n",
    "F"
   ]
  },
  {
   "cell_type": "code",
   "execution_count": 216,
   "id": "8c526da1-5212-449e-a52d-fcb5ab0cd570",
   "metadata": {},
   "outputs": [
    {
     "data": {
      "text/latex": [
       "$\\displaystyle \\pi h r^{2}$"
      ],
      "text/plain": [
       "pi*h*r**2"
      ]
     },
     "execution_count": 216,
     "metadata": {},
     "output_type": "execute_result"
    }
   ],
   "source": [
    "F.doit()"
   ]
  },
  {
   "cell_type": "code",
   "execution_count": 217,
   "id": "9b21c14c-754a-4f7a-a77d-12664fa800a9",
   "metadata": {},
   "outputs": [
    {
     "data": {
      "text/latex": [
       "$\\displaystyle \\int\\limits_{- r}^{r}\\int\\limits_{- \\sqrt{r^{2} - x^{2}}}^{\\sqrt{r^{2} - x^{2}}}\\int\\limits_{0}^{\\sqrt{r^{2} - x^{2} - y^{2}}} 1\\, dz\\, dy\\, dx$"
      ],
      "text/plain": [
       "Integral(1, (z, 0, sqrt(r**2 - x**2 - y**2)), (y, -sqrt(r**2 - x**2), sqrt(r**2 - x**2)), (x, -r, r))"
      ]
     },
     "execution_count": 217,
     "metadata": {},
     "output_type": "execute_result"
    }
   ],
   "source": [
    "F= sm.Integral(\n",
    "    1,\n",
    "    (z,  0, z0),\n",
    "    (y,-y0, y0),\n",
    "    (x, -r, r)\n",
    ")\n",
    "F"
   ]
  },
  {
   "cell_type": "code",
   "execution_count": 219,
   "id": "8b916c09-5263-4e67-90d0-8e2b392db406",
   "metadata": {},
   "outputs": [],
   "source": [
    "#F.doit()  # 這個要算很久，而且算出來結果蠻難看的，也不知對不對！ 也許該有其他做法。 直角坐標、球座標轉換後再來算！！\n"
   ]
  },
  {
   "cell_type": "code",
   "execution_count": 220,
   "id": "7273d18b-6a88-411f-a977-bb37dd7c4c75",
   "metadata": {},
   "outputs": [
    {
     "data": {
      "text/latex": [
       "$\\displaystyle \\sqrt{r^{2} - x^{2} - y^{2}}$"
      ],
      "text/plain": [
       "sqrt(r**2 - x**2 - y**2)"
      ]
     },
     "execution_count": 220,
     "metadata": {},
     "output_type": "execute_result"
    }
   ],
   "source": [
    "z0"
   ]
  },
  {
   "cell_type": "code",
   "execution_count": 225,
   "id": "60b93419-4cf8-4c4e-aed0-5be2e8b7f279",
   "metadata": {},
   "outputs": [
    {
     "data": {
      "text/latex": [
       "$\\displaystyle \\int\\limits_{0}^{r} \\begin{cases} - \\frac{i \\left(\\frac{\\int\\limits_{0}^{r} \\left(- \\frac{r^{2} \\operatorname{polar\\_lift}^{2}{\\left(r^{2} - y^{2} \\right)}}{x^{2} \\sqrt{x^{2} - \\operatorname{polar\\_lift}{\\left(r^{2} - y^{2} \\right)}} - \\sqrt{x^{2} - \\operatorname{polar\\_lift}{\\left(r^{2} - y^{2} \\right)}} \\operatorname{polar\\_lift}{\\left(r^{2} - y^{2} \\right)}}\\right)\\, dx}{r^{2} - y^{2}} + \\frac{\\int\\limits_{0}^{r} \\frac{r^{4} x^{2}}{x^{2} \\sqrt{x^{2} - \\operatorname{polar\\_lift}{\\left(r^{2} - y^{2} \\right)}} - \\sqrt{x^{2} - \\operatorname{polar\\_lift}{\\left(r^{2} - y^{2} \\right)}} \\operatorname{polar\\_lift}{\\left(r^{2} - y^{2} \\right)}}\\, dx}{r^{2} - y^{2}} + \\frac{\\int\\limits_{0}^{r} \\left(- \\frac{r^{4} \\operatorname{polar\\_lift}{\\left(r^{2} - y^{2} \\right)}}{x^{2} \\sqrt{x^{2} - \\operatorname{polar\\_lift}{\\left(r^{2} - y^{2} \\right)}} - \\sqrt{x^{2} - \\operatorname{polar\\_lift}{\\left(r^{2} - y^{2} \\right)}} \\operatorname{polar\\_lift}{\\left(r^{2} - y^{2} \\right)}}\\right)\\, dx}{r^{2} - y^{2}} + \\frac{\\int\\limits_{0}^{r} \\frac{x^{2} y^{4}}{x^{2} \\sqrt{x^{2} - \\operatorname{polar\\_lift}{\\left(r^{2} - y^{2} \\right)}} - \\sqrt{x^{2} - \\operatorname{polar\\_lift}{\\left(r^{2} - y^{2} \\right)}} \\operatorname{polar\\_lift}{\\left(r^{2} - y^{2} \\right)}}\\, dx}{r^{2} - y^{2}} + \\frac{\\int\\limits_{0}^{r} \\frac{3 x^{2} \\operatorname{polar\\_lift}^{2}{\\left(r^{2} - y^{2} \\right)}}{x^{2} \\sqrt{x^{2} - \\operatorname{polar\\_lift}{\\left(r^{2} - y^{2} \\right)}} - \\sqrt{x^{2} - \\operatorname{polar\\_lift}{\\left(r^{2} - y^{2} \\right)}} \\operatorname{polar\\_lift}{\\left(r^{2} - y^{2} \\right)}}\\, dx}{r^{2} - y^{2}} + \\frac{\\int\\limits_{0}^{r} \\left(- \\frac{2 x^{4} \\operatorname{polar\\_lift}{\\left(r^{2} - y^{2} \\right)}}{x^{2} \\sqrt{x^{2} - \\operatorname{polar\\_lift}{\\left(r^{2} - y^{2} \\right)}} - \\sqrt{x^{2} - \\operatorname{polar\\_lift}{\\left(r^{2} - y^{2} \\right)}} \\operatorname{polar\\_lift}{\\left(r^{2} - y^{2} \\right)}}\\right)\\, dx}{r^{2} - y^{2}} + \\frac{\\int\\limits_{0}^{r} \\frac{y^{2} \\operatorname{polar\\_lift}^{2}{\\left(r^{2} - y^{2} \\right)}}{x^{2} \\sqrt{x^{2} - \\operatorname{polar\\_lift}{\\left(r^{2} - y^{2} \\right)}} - \\sqrt{x^{2} - \\operatorname{polar\\_lift}{\\left(r^{2} - y^{2} \\right)}} \\operatorname{polar\\_lift}{\\left(r^{2} - y^{2} \\right)}}\\, dx}{r^{2} - y^{2}} + \\frac{\\int\\limits_{0}^{r} \\left(- \\frac{y^{4} \\operatorname{polar\\_lift}{\\left(r^{2} - y^{2} \\right)}}{x^{2} \\sqrt{x^{2} - \\operatorname{polar\\_lift}{\\left(r^{2} - y^{2} \\right)}} - \\sqrt{x^{2} - \\operatorname{polar\\_lift}{\\left(r^{2} - y^{2} \\right)}} \\operatorname{polar\\_lift}{\\left(r^{2} - y^{2} \\right)}}\\right)\\, dx}{r^{2} - y^{2}} + \\frac{\\int\\limits_{0}^{r} \\left(- \\frac{2 r^{2} x^{2} y^{2}}{x^{2} \\sqrt{x^{2} - \\operatorname{polar\\_lift}{\\left(r^{2} - y^{2} \\right)}} - \\sqrt{x^{2} - \\operatorname{polar\\_lift}{\\left(r^{2} - y^{2} \\right)}} \\operatorname{polar\\_lift}{\\left(r^{2} - y^{2} \\right)}}\\right)\\, dx}{r^{2} - y^{2}} + \\frac{\\int\\limits_{0}^{r} \\frac{2 r^{2} y^{2} \\operatorname{polar\\_lift}{\\left(r^{2} - y^{2} \\right)}}{x^{2} \\sqrt{x^{2} - \\operatorname{polar\\_lift}{\\left(r^{2} - y^{2} \\right)}} - \\sqrt{x^{2} - \\operatorname{polar\\_lift}{\\left(r^{2} - y^{2} \\right)}} \\operatorname{polar\\_lift}{\\left(r^{2} - y^{2} \\right)}}\\, dx}{r^{2} - y^{2}}\\right)}{2} & \\text{for}\\: \\left(r^{2} - y^{2} \\leq 0 \\vee \\frac{x^{2}}{r^{2} - y^{2}} > 1\\right) \\wedge \\left(\\frac{x^{2}}{- r^{2} + y^{2}} > 1 \\vee r^{2} - y^{2} > 0\\right) \\\\\\frac{\\int\\limits_{0}^{r} \\frac{r^{2} \\operatorname{polar\\_lift}^{3}{\\left(r^{2} - y^{2} \\right)}}{x^{4} \\sqrt{- x^{2} + \\operatorname{polar\\_lift}{\\left(r^{2} - y^{2} \\right)}} - 2 x^{2} \\sqrt{- x^{2} + \\operatorname{polar\\_lift}{\\left(r^{2} - y^{2} \\right)}} \\operatorname{polar\\_lift}{\\left(r^{2} - y^{2} \\right)} + \\sqrt{- x^{2} + \\operatorname{polar\\_lift}{\\left(r^{2} - y^{2} \\right)}} \\operatorname{polar\\_lift}^{2}{\\left(r^{2} - y^{2} \\right)}}\\, dx}{2 \\left(r^{2} - y^{2}\\right)} + \\frac{\\int\\limits_{0}^{r} \\frac{r^{4} x^{4}}{x^{4} \\sqrt{- x^{2} + \\operatorname{polar\\_lift}{\\left(r^{2} - y^{2} \\right)}} - 2 x^{2} \\sqrt{- x^{2} + \\operatorname{polar\\_lift}{\\left(r^{2} - y^{2} \\right)}} \\operatorname{polar\\_lift}{\\left(r^{2} - y^{2} \\right)} + \\sqrt{- x^{2} + \\operatorname{polar\\_lift}{\\left(r^{2} - y^{2} \\right)}} \\operatorname{polar\\_lift}^{2}{\\left(r^{2} - y^{2} \\right)}}\\, dx}{2 \\left(r^{2} - y^{2}\\right)} + \\frac{\\int\\limits_{0}^{r} \\frac{r^{4} \\operatorname{polar\\_lift}^{2}{\\left(r^{2} - y^{2} \\right)}}{x^{4} \\sqrt{- x^{2} + \\operatorname{polar\\_lift}{\\left(r^{2} - y^{2} \\right)}} - 2 x^{2} \\sqrt{- x^{2} + \\operatorname{polar\\_lift}{\\left(r^{2} - y^{2} \\right)}} \\operatorname{polar\\_lift}{\\left(r^{2} - y^{2} \\right)} + \\sqrt{- x^{2} + \\operatorname{polar\\_lift}{\\left(r^{2} - y^{2} \\right)}} \\operatorname{polar\\_lift}^{2}{\\left(r^{2} - y^{2} \\right)}}\\, dx}{2 \\left(r^{2} - y^{2}\\right)} + \\frac{\\int\\limits_{0}^{r} \\left(- \\frac{3 x^{2} \\operatorname{polar\\_lift}^{3}{\\left(r^{2} - y^{2} \\right)}}{x^{4} \\sqrt{- x^{2} + \\operatorname{polar\\_lift}{\\left(r^{2} - y^{2} \\right)}} - 2 x^{2} \\sqrt{- x^{2} + \\operatorname{polar\\_lift}{\\left(r^{2} - y^{2} \\right)}} \\operatorname{polar\\_lift}{\\left(r^{2} - y^{2} \\right)} + \\sqrt{- x^{2} + \\operatorname{polar\\_lift}{\\left(r^{2} - y^{2} \\right)}} \\operatorname{polar\\_lift}^{2}{\\left(r^{2} - y^{2} \\right)}}\\right)\\, dx}{2 \\left(r^{2} - y^{2}\\right)} + \\frac{\\int\\limits_{0}^{r} \\frac{x^{4} y^{4}}{x^{4} \\sqrt{- x^{2} + \\operatorname{polar\\_lift}{\\left(r^{2} - y^{2} \\right)}} - 2 x^{2} \\sqrt{- x^{2} + \\operatorname{polar\\_lift}{\\left(r^{2} - y^{2} \\right)}} \\operatorname{polar\\_lift}{\\left(r^{2} - y^{2} \\right)} + \\sqrt{- x^{2} + \\operatorname{polar\\_lift}{\\left(r^{2} - y^{2} \\right)}} \\operatorname{polar\\_lift}^{2}{\\left(r^{2} - y^{2} \\right)}}\\, dx}{2 \\left(r^{2} - y^{2}\\right)} + \\frac{\\int\\limits_{0}^{r} \\frac{5 x^{4} \\operatorname{polar\\_lift}^{2}{\\left(r^{2} - y^{2} \\right)}}{x^{4} \\sqrt{- x^{2} + \\operatorname{polar\\_lift}{\\left(r^{2} - y^{2} \\right)}} - 2 x^{2} \\sqrt{- x^{2} + \\operatorname{polar\\_lift}{\\left(r^{2} - y^{2} \\right)}} \\operatorname{polar\\_lift}{\\left(r^{2} - y^{2} \\right)} + \\sqrt{- x^{2} + \\operatorname{polar\\_lift}{\\left(r^{2} - y^{2} \\right)}} \\operatorname{polar\\_lift}^{2}{\\left(r^{2} - y^{2} \\right)}}\\, dx}{2 \\left(r^{2} - y^{2}\\right)} + \\frac{\\int\\limits_{0}^{r} \\left(- \\frac{2 x^{6} \\operatorname{polar\\_lift}{\\left(r^{2} - y^{2} \\right)}}{x^{4} \\sqrt{- x^{2} + \\operatorname{polar\\_lift}{\\left(r^{2} - y^{2} \\right)}} - 2 x^{2} \\sqrt{- x^{2} + \\operatorname{polar\\_lift}{\\left(r^{2} - y^{2} \\right)}} \\operatorname{polar\\_lift}{\\left(r^{2} - y^{2} \\right)} + \\sqrt{- x^{2} + \\operatorname{polar\\_lift}{\\left(r^{2} - y^{2} \\right)}} \\operatorname{polar\\_lift}^{2}{\\left(r^{2} - y^{2} \\right)}}\\right)\\, dx}{2 \\left(r^{2} - y^{2}\\right)} + \\frac{\\int\\limits_{0}^{r} \\left(- \\frac{y^{2} \\operatorname{polar\\_lift}^{3}{\\left(r^{2} - y^{2} \\right)}}{x^{4} \\sqrt{- x^{2} + \\operatorname{polar\\_lift}{\\left(r^{2} - y^{2} \\right)}} - 2 x^{2} \\sqrt{- x^{2} + \\operatorname{polar\\_lift}{\\left(r^{2} - y^{2} \\right)}} \\operatorname{polar\\_lift}{\\left(r^{2} - y^{2} \\right)} + \\sqrt{- x^{2} + \\operatorname{polar\\_lift}{\\left(r^{2} - y^{2} \\right)}} \\operatorname{polar\\_lift}^{2}{\\left(r^{2} - y^{2} \\right)}}\\right)\\, dx}{2 \\left(r^{2} - y^{2}\\right)} + \\frac{\\int\\limits_{0}^{r} \\frac{y^{4} \\operatorname{polar\\_lift}^{2}{\\left(r^{2} - y^{2} \\right)}}{x^{4} \\sqrt{- x^{2} + \\operatorname{polar\\_lift}{\\left(r^{2} - y^{2} \\right)}} - 2 x^{2} \\sqrt{- x^{2} + \\operatorname{polar\\_lift}{\\left(r^{2} - y^{2} \\right)}} \\operatorname{polar\\_lift}{\\left(r^{2} - y^{2} \\right)} + \\sqrt{- x^{2} + \\operatorname{polar\\_lift}{\\left(r^{2} - y^{2} \\right)}} \\operatorname{polar\\_lift}^{2}{\\left(r^{2} - y^{2} \\right)}}\\, dx}{2 \\left(r^{2} - y^{2}\\right)} + \\frac{\\int\\limits_{0}^{r} \\left(- \\frac{r^{2} x^{2} \\operatorname{polar\\_lift}^{2}{\\left(r^{2} - y^{2} \\right)}}{x^{4} \\sqrt{- x^{2} + \\operatorname{polar\\_lift}{\\left(r^{2} - y^{2} \\right)}} - 2 x^{2} \\sqrt{- x^{2} + \\operatorname{polar\\_lift}{\\left(r^{2} - y^{2} \\right)}} \\operatorname{polar\\_lift}{\\left(r^{2} - y^{2} \\right)} + \\sqrt{- x^{2} + \\operatorname{polar\\_lift}{\\left(r^{2} - y^{2} \\right)}} \\operatorname{polar\\_lift}^{2}{\\left(r^{2} - y^{2} \\right)}}\\right)\\, dx}{2 \\left(r^{2} - y^{2}\\right)} + \\frac{\\int\\limits_{0}^{r} \\left(- \\frac{2 r^{2} x^{4} y^{2}}{x^{4} \\sqrt{- x^{2} + \\operatorname{polar\\_lift}{\\left(r^{2} - y^{2} \\right)}} - 2 x^{2} \\sqrt{- x^{2} + \\operatorname{polar\\_lift}{\\left(r^{2} - y^{2} \\right)}} \\operatorname{polar\\_lift}{\\left(r^{2} - y^{2} \\right)} + \\sqrt{- x^{2} + \\operatorname{polar\\_lift}{\\left(r^{2} - y^{2} \\right)}} \\operatorname{polar\\_lift}^{2}{\\left(r^{2} - y^{2} \\right)}}\\right)\\, dx}{2 \\left(r^{2} - y^{2}\\right)} + \\frac{\\int\\limits_{0}^{r} \\left(- \\frac{2 r^{2} y^{2} \\operatorname{polar\\_lift}^{2}{\\left(r^{2} - y^{2} \\right)}}{x^{4} \\sqrt{- x^{2} + \\operatorname{polar\\_lift}{\\left(r^{2} - y^{2} \\right)}} - 2 x^{2} \\sqrt{- x^{2} + \\operatorname{polar\\_lift}{\\left(r^{2} - y^{2} \\right)}} \\operatorname{polar\\_lift}{\\left(r^{2} - y^{2} \\right)} + \\sqrt{- x^{2} + \\operatorname{polar\\_lift}{\\left(r^{2} - y^{2} \\right)}} \\operatorname{polar\\_lift}^{2}{\\left(r^{2} - y^{2} \\right)}}\\right)\\, dx}{2 \\left(r^{2} - y^{2}\\right)} + \\frac{\\int\\limits_{0}^{r} \\left(- \\frac{2 r^{4} x^{2} \\operatorname{polar\\_lift}{\\left(r^{2} - y^{2} \\right)}}{x^{4} \\sqrt{- x^{2} + \\operatorname{polar\\_lift}{\\left(r^{2} - y^{2} \\right)}} - 2 x^{2} \\sqrt{- x^{2} + \\operatorname{polar\\_lift}{\\left(r^{2} - y^{2} \\right)}} \\operatorname{polar\\_lift}{\\left(r^{2} - y^{2} \\right)} + \\sqrt{- x^{2} + \\operatorname{polar\\_lift}{\\left(r^{2} - y^{2} \\right)}} \\operatorname{polar\\_lift}^{2}{\\left(r^{2} - y^{2} \\right)}}\\right)\\, dx}{2 \\left(r^{2} - y^{2}\\right)} + \\frac{\\int\\limits_{0}^{r} \\frac{x^{2} y^{2} \\operatorname{polar\\_lift}^{2}{\\left(r^{2} - y^{2} \\right)}}{x^{4} \\sqrt{- x^{2} + \\operatorname{polar\\_lift}{\\left(r^{2} - y^{2} \\right)}} - 2 x^{2} \\sqrt{- x^{2} + \\operatorname{polar\\_lift}{\\left(r^{2} - y^{2} \\right)}} \\operatorname{polar\\_lift}{\\left(r^{2} - y^{2} \\right)} + \\sqrt{- x^{2} + \\operatorname{polar\\_lift}{\\left(r^{2} - y^{2} \\right)}} \\operatorname{polar\\_lift}^{2}{\\left(r^{2} - y^{2} \\right)}}\\, dx}{2 \\left(r^{2} - y^{2}\\right)} + \\frac{\\int\\limits_{0}^{r} \\left(- \\frac{2 x^{2} y^{4} \\operatorname{polar\\_lift}{\\left(r^{2} - y^{2} \\right)}}{x^{4} \\sqrt{- x^{2} + \\operatorname{polar\\_lift}{\\left(r^{2} - y^{2} \\right)}} - 2 x^{2} \\sqrt{- x^{2} + \\operatorname{polar\\_lift}{\\left(r^{2} - y^{2} \\right)}} \\operatorname{polar\\_lift}{\\left(r^{2} - y^{2} \\right)} + \\sqrt{- x^{2} + \\operatorname{polar\\_lift}{\\left(r^{2} - y^{2} \\right)}} \\operatorname{polar\\_lift}^{2}{\\left(r^{2} - y^{2} \\right)}}\\right)\\, dx}{2 \\left(r^{2} - y^{2}\\right)} + \\frac{\\int\\limits_{0}^{r} \\frac{4 r^{2} x^{2} y^{2} \\operatorname{polar\\_lift}{\\left(r^{2} - y^{2} \\right)}}{x^{4} \\sqrt{- x^{2} + \\operatorname{polar\\_lift}{\\left(r^{2} - y^{2} \\right)}} - 2 x^{2} \\sqrt{- x^{2} + \\operatorname{polar\\_lift}{\\left(r^{2} - y^{2} \\right)}} \\operatorname{polar\\_lift}{\\left(r^{2} - y^{2} \\right)} + \\sqrt{- x^{2} + \\operatorname{polar\\_lift}{\\left(r^{2} - y^{2} \\right)}} \\operatorname{polar\\_lift}^{2}{\\left(r^{2} - y^{2} \\right)}}\\, dx}{2 \\left(r^{2} - y^{2}\\right)} & \\text{otherwise} \\end{cases}\\, dy$"
      ],
      "text/plain": [
       "Integral(Piecewise((-I*(Integral(-r**2*polar_lift(r**2 - y**2)**2/(x**2*sqrt(x**2 - polar_lift(r**2 - y**2)) - sqrt(x**2 - polar_lift(r**2 - y**2))*polar_lift(r**2 - y**2)), (x, 0, r))/(r**2 - y**2) + Integral(r**4*x**2/(x**2*sqrt(x**2 - polar_lift(r**2 - y**2)) - sqrt(x**2 - polar_lift(r**2 - y**2))*polar_lift(r**2 - y**2)), (x, 0, r))/(r**2 - y**2) + Integral(-r**4*polar_lift(r**2 - y**2)/(x**2*sqrt(x**2 - polar_lift(r**2 - y**2)) - sqrt(x**2 - polar_lift(r**2 - y**2))*polar_lift(r**2 - y**2)), (x, 0, r))/(r**2 - y**2) + Integral(x**2*y**4/(x**2*sqrt(x**2 - polar_lift(r**2 - y**2)) - sqrt(x**2 - polar_lift(r**2 - y**2))*polar_lift(r**2 - y**2)), (x, 0, r))/(r**2 - y**2) + Integral(3*x**2*polar_lift(r**2 - y**2)**2/(x**2*sqrt(x**2 - polar_lift(r**2 - y**2)) - sqrt(x**2 - polar_lift(r**2 - y**2))*polar_lift(r**2 - y**2)), (x, 0, r))/(r**2 - y**2) + Integral(-2*x**4*polar_lift(r**2 - y**2)/(x**2*sqrt(x**2 - polar_lift(r**2 - y**2)) - sqrt(x**2 - polar_lift(r**2 - y**2))*polar_lift(r**2 - y**2)), (x, 0, r))/(r**2 - y**2) + Integral(y**2*polar_lift(r**2 - y**2)**2/(x**2*sqrt(x**2 - polar_lift(r**2 - y**2)) - sqrt(x**2 - polar_lift(r**2 - y**2))*polar_lift(r**2 - y**2)), (x, 0, r))/(r**2 - y**2) + Integral(-y**4*polar_lift(r**2 - y**2)/(x**2*sqrt(x**2 - polar_lift(r**2 - y**2)) - sqrt(x**2 - polar_lift(r**2 - y**2))*polar_lift(r**2 - y**2)), (x, 0, r))/(r**2 - y**2) + Integral(-2*r**2*x**2*y**2/(x**2*sqrt(x**2 - polar_lift(r**2 - y**2)) - sqrt(x**2 - polar_lift(r**2 - y**2))*polar_lift(r**2 - y**2)), (x, 0, r))/(r**2 - y**2) + Integral(2*r**2*y**2*polar_lift(r**2 - y**2)/(x**2*sqrt(x**2 - polar_lift(r**2 - y**2)) - sqrt(x**2 - polar_lift(r**2 - y**2))*polar_lift(r**2 - y**2)), (x, 0, r))/(r**2 - y**2))/2, ((r**2 - y**2 <= 0) | (x**2/(r**2 - y**2) > 1)) & ((r**2 - y**2 > 0) | (x**2/(-r**2 + y**2) > 1))), (Integral(r**2*polar_lift(r**2 - y**2)**3/(x**4*sqrt(-x**2 + polar_lift(r**2 - y**2)) - 2*x**2*sqrt(-x**2 + polar_lift(r**2 - y**2))*polar_lift(r**2 - y**2) + sqrt(-x**2 + polar_lift(r**2 - y**2))*polar_lift(r**2 - y**2)**2), (x, 0, r))/(2*(r**2 - y**2)) + Integral(r**4*x**4/(x**4*sqrt(-x**2 + polar_lift(r**2 - y**2)) - 2*x**2*sqrt(-x**2 + polar_lift(r**2 - y**2))*polar_lift(r**2 - y**2) + sqrt(-x**2 + polar_lift(r**2 - y**2))*polar_lift(r**2 - y**2)**2), (x, 0, r))/(2*(r**2 - y**2)) + Integral(r**4*polar_lift(r**2 - y**2)**2/(x**4*sqrt(-x**2 + polar_lift(r**2 - y**2)) - 2*x**2*sqrt(-x**2 + polar_lift(r**2 - y**2))*polar_lift(r**2 - y**2) + sqrt(-x**2 + polar_lift(r**2 - y**2))*polar_lift(r**2 - y**2)**2), (x, 0, r))/(2*(r**2 - y**2)) + Integral(-3*x**2*polar_lift(r**2 - y**2)**3/(x**4*sqrt(-x**2 + polar_lift(r**2 - y**2)) - 2*x**2*sqrt(-x**2 + polar_lift(r**2 - y**2))*polar_lift(r**2 - y**2) + sqrt(-x**2 + polar_lift(r**2 - y**2))*polar_lift(r**2 - y**2)**2), (x, 0, r))/(2*(r**2 - y**2)) + Integral(x**4*y**4/(x**4*sqrt(-x**2 + polar_lift(r**2 - y**2)) - 2*x**2*sqrt(-x**2 + polar_lift(r**2 - y**2))*polar_lift(r**2 - y**2) + sqrt(-x**2 + polar_lift(r**2 - y**2))*polar_lift(r**2 - y**2)**2), (x, 0, r))/(2*(r**2 - y**2)) + Integral(5*x**4*polar_lift(r**2 - y**2)**2/(x**4*sqrt(-x**2 + polar_lift(r**2 - y**2)) - 2*x**2*sqrt(-x**2 + polar_lift(r**2 - y**2))*polar_lift(r**2 - y**2) + sqrt(-x**2 + polar_lift(r**2 - y**2))*polar_lift(r**2 - y**2)**2), (x, 0, r))/(2*(r**2 - y**2)) + Integral(-2*x**6*polar_lift(r**2 - y**2)/(x**4*sqrt(-x**2 + polar_lift(r**2 - y**2)) - 2*x**2*sqrt(-x**2 + polar_lift(r**2 - y**2))*polar_lift(r**2 - y**2) + sqrt(-x**2 + polar_lift(r**2 - y**2))*polar_lift(r**2 - y**2)**2), (x, 0, r))/(2*(r**2 - y**2)) + Integral(-y**2*polar_lift(r**2 - y**2)**3/(x**4*sqrt(-x**2 + polar_lift(r**2 - y**2)) - 2*x**2*sqrt(-x**2 + polar_lift(r**2 - y**2))*polar_lift(r**2 - y**2) + sqrt(-x**2 + polar_lift(r**2 - y**2))*polar_lift(r**2 - y**2)**2), (x, 0, r))/(2*(r**2 - y**2)) + Integral(y**4*polar_lift(r**2 - y**2)**2/(x**4*sqrt(-x**2 + polar_lift(r**2 - y**2)) - 2*x**2*sqrt(-x**2 + polar_lift(r**2 - y**2))*polar_lift(r**2 - y**2) + sqrt(-x**2 + polar_lift(r**2 - y**2))*polar_lift(r**2 - y**2)**2), (x, 0, r))/(2*(r**2 - y**2)) + Integral(-r**2*x**2*polar_lift(r**2 - y**2)**2/(x**4*sqrt(-x**2 + polar_lift(r**2 - y**2)) - 2*x**2*sqrt(-x**2 + polar_lift(r**2 - y**2))*polar_lift(r**2 - y**2) + sqrt(-x**2 + polar_lift(r**2 - y**2))*polar_lift(r**2 - y**2)**2), (x, 0, r))/(2*(r**2 - y**2)) + Integral(-2*r**2*x**4*y**2/(x**4*sqrt(-x**2 + polar_lift(r**2 - y**2)) - 2*x**2*sqrt(-x**2 + polar_lift(r**2 - y**2))*polar_lift(r**2 - y**2) + sqrt(-x**2 + polar_lift(r**2 - y**2))*polar_lift(r**2 - y**2)**2), (x, 0, r))/(2*(r**2 - y**2)) + Integral(-2*r**2*y**2*polar_lift(r**2 - y**2)**2/(x**4*sqrt(-x**2 + polar_lift(r**2 - y**2)) - 2*x**2*sqrt(-x**2 + polar_lift(r**2 - y**2))*polar_lift(r**2 - y**2) + sqrt(-x**2 + polar_lift(r**2 - y**2))*polar_lift(r**2 - y**2)**2), (x, 0, r))/(2*(r**2 - y**2)) + Integral(-2*r**4*x**2*polar_lift(r**2 - y**2)/(x**4*sqrt(-x**2 + polar_lift(r**2 - y**2)) - 2*x**2*sqrt(-x**2 + polar_lift(r**2 - y**2))*polar_lift(r**2 - y**2) + sqrt(-x**2 + polar_lift(r**2 - y**2))*polar_lift(r**2 - y**2)**2), (x, 0, r))/(2*(r**2 - y**2)) + Integral(x**2*y**2*polar_lift(r**2 - y**2)**2/(x**4*sqrt(-x**2 + polar_lift(r**2 - y**2)) - 2*x**2*sqrt(-x**2 + polar_lift(r**2 - y**2))*polar_lift(r**2 - y**2) + sqrt(-x**2 + polar_lift(r**2 - y**2))*polar_lift(r**2 - y**2)**2), (x, 0, r))/(2*(r**2 - y**2)) + Integral(-2*x**2*y**4*polar_lift(r**2 - y**2)/(x**4*sqrt(-x**2 + polar_lift(r**2 - y**2)) - 2*x**2*sqrt(-x**2 + polar_lift(r**2 - y**2))*polar_lift(r**2 - y**2) + sqrt(-x**2 + polar_lift(r**2 - y**2))*polar_lift(r**2 - y**2)**2), (x, 0, r))/(2*(r**2 - y**2)) + Integral(4*r**2*x**2*y**2*polar_lift(r**2 - y**2)/(x**4*sqrt(-x**2 + polar_lift(r**2 - y**2)) - 2*x**2*sqrt(-x**2 + polar_lift(r**2 - y**2))*polar_lift(r**2 - y**2) + sqrt(-x**2 + polar_lift(r**2 - y**2))*polar_lift(r**2 - y**2)**2), (x, 0, r))/(2*(r**2 - y**2)), True)), (y, 0, r))"
      ]
     },
     "execution_count": 225,
     "metadata": {},
     "output_type": "execute_result"
    }
   ],
   "source": [
    "sm.integrate(z0,(x,0,r),(y,0,r))"
   ]
  },
  {
   "cell_type": "code",
   "execution_count": null,
   "id": "370571ed-2b1a-4e9c-b2ec-28a017ef418b",
   "metadata": {},
   "outputs": [],
   "source": []
  },
  {
   "cell_type": "code",
   "execution_count": 250,
   "id": "524f6de9-27bd-49a7-b478-b906b22f04a5",
   "metadata": {},
   "outputs": [],
   "source": [
    "# (x,y,z) --> (r,θ,ϕ)\n",
    "\n",
    "x, y, z, r, θ, ϕ = sm.symbols('x, y, z, r, θ, ϕ')\n",
    "\n",
    "z= r *sm.cos(θ)\n",
    "\n",
    "ρ= r *sm.sin(θ)  # 投影在 xy-plane 上的半徑\n",
    "\n",
    "x= ρ *sm.cos(ϕ)\n",
    "y= ρ *sm.sin(ϕ)"
   ]
  },
  {
   "cell_type": "code",
   "execution_count": 251,
   "id": "fb1a9820-26d3-4850-bd1e-0604c0a11834",
   "metadata": {},
   "outputs": [
    {
     "data": {
      "text/latex": [
       "$\\displaystyle r \\sin{\\left(θ \\right)} \\cos{\\left(ϕ \\right)}$"
      ],
      "text/plain": [
       "r*sin(θ)*cos(ϕ)"
      ]
     },
     "execution_count": 251,
     "metadata": {},
     "output_type": "execute_result"
    }
   ],
   "source": [
    "x"
   ]
  },
  {
   "cell_type": "code",
   "execution_count": 252,
   "id": "8c19a04c-83bb-4205-bd82-6b08f6b0a0dc",
   "metadata": {},
   "outputs": [
    {
     "data": {
      "text/latex": [
       "$\\displaystyle r \\sin{\\left(θ \\right)} \\sin{\\left(ϕ \\right)}$"
      ],
      "text/plain": [
       "r*sin(θ)*sin(ϕ)"
      ]
     },
     "execution_count": 252,
     "metadata": {},
     "output_type": "execute_result"
    }
   ],
   "source": [
    "y"
   ]
  },
  {
   "cell_type": "code",
   "execution_count": 253,
   "id": "17665454-b516-41bc-99e2-ab02d6ae7d95",
   "metadata": {},
   "outputs": [
    {
     "data": {
      "text/latex": [
       "$\\displaystyle r \\cos{\\left(θ \\right)}$"
      ],
      "text/plain": [
       "r*cos(θ)"
      ]
     },
     "execution_count": 253,
     "metadata": {},
     "output_type": "execute_result"
    }
   ],
   "source": [
    "z"
   ]
  },
  {
   "cell_type": "code",
   "execution_count": 258,
   "id": "26a483aa-e637-4203-a779-2d1a6d1bcb92",
   "metadata": {},
   "outputs": [
    {
     "data": {
      "text/latex": [
       "$\\displaystyle \\left[\\begin{matrix}\\sin{\\left(θ \\right)} \\cos{\\left(ϕ \\right)} & r \\cos{\\left(θ \\right)} \\cos{\\left(ϕ \\right)} & - r \\sin{\\left(θ \\right)} \\sin{\\left(ϕ \\right)}\\\\\\sin{\\left(θ \\right)} \\sin{\\left(ϕ \\right)} & r \\sin{\\left(ϕ \\right)} \\cos{\\left(θ \\right)} & r \\sin{\\left(θ \\right)} \\cos{\\left(ϕ \\right)}\\\\\\cos{\\left(θ \\right)} & - r \\sin{\\left(θ \\right)} & 0\\end{matrix}\\right]$"
      ],
      "text/plain": [
       "Matrix([\n",
       "[sin(θ)*cos(ϕ), r*cos(θ)*cos(ϕ), -r*sin(θ)*sin(ϕ)],\n",
       "[sin(θ)*sin(ϕ), r*sin(ϕ)*cos(θ),  r*sin(θ)*cos(ϕ)],\n",
       "[       cos(θ),       -r*sin(θ),                0]])"
      ]
     },
     "execution_count": 258,
     "metadata": {},
     "output_type": "execute_result"
    }
   ],
   "source": [
    "F= sm.Matrix([x, y, z])\n",
    "J= F.jacobian([r, θ, ϕ])\n",
    "J"
   ]
  },
  {
   "cell_type": "code",
   "execution_count": 260,
   "id": "d9777457-2248-4fa1-9fc7-d1fe69f2c6b9",
   "metadata": {},
   "outputs": [
    {
     "data": {
      "text/latex": [
       "$\\displaystyle r^{2} \\sin{\\left(θ \\right)}$"
      ],
      "text/plain": [
       "r**2*sin(θ)"
      ]
     },
     "execution_count": 260,
     "metadata": {},
     "output_type": "execute_result"
    }
   ],
   "source": [
    "J.det().simplify()"
   ]
  },
  {
   "cell_type": "code",
   "execution_count": 277,
   "id": "6dcfeff7-90bd-436c-a9a7-7598af49ddc9",
   "metadata": {},
   "outputs": [
    {
     "data": {
      "text/latex": [
       "$\\displaystyle \\int\\limits_{0}^{r}\\int\\limits_{0}^{\\pi}\\int\\limits_{0}^{2 \\pi} r^{2} \\sin{\\left(θ \\right)}\\, dϕ\\, dθ\\, dr$"
      ],
      "text/plain": [
       "Integral(r**2*sin(θ), (ϕ, 0, 2*pi), (θ, 0, pi), (r, 0, r))"
      ]
     },
     "execution_count": 277,
     "metadata": {},
     "output_type": "execute_result"
    }
   ],
   "source": [
    "F= sm.Integral(\n",
    "    (1) * r**2 * sm.sin(θ),\n",
    "    (ϕ, 0, 2*π),\n",
    "    (θ, 0, π),\n",
    "    (r, 0, r)\n",
    "    )\n",
    "F"
   ]
  },
  {
   "cell_type": "code",
   "execution_count": 281,
   "id": "49a9d0e6-76bb-4994-be6c-42321ed55915",
   "metadata": {},
   "outputs": [],
   "source": [
    "dV, dx, dy, dz, dr, dθ, dϕ = sm.symbols('dV, dx, dy, dz, dr, dθ, dϕ')\n",
    "\n",
    "dV1= dx *dy *dz\n",
    "dV2= dr * (r*dθ) * (r*sm.sin(θ)*dϕ)\n"
   ]
  },
  {
   "cell_type": "code",
   "execution_count": 282,
   "id": "9f3b604b-ab1b-4e58-9a4d-46fcc9d64b22",
   "metadata": {},
   "outputs": [
    {
     "data": {
      "text/latex": [
       "$\\displaystyle dx dy dz$"
      ],
      "text/plain": [
       "dx*dy*dz"
      ]
     },
     "execution_count": 282,
     "metadata": {},
     "output_type": "execute_result"
    }
   ],
   "source": [
    "dV1"
   ]
  },
  {
   "cell_type": "code",
   "execution_count": 283,
   "id": "61982001-c322-45fb-a7c8-c6e3428ace34",
   "metadata": {},
   "outputs": [
    {
     "data": {
      "text/latex": [
       "$\\displaystyle dr dθ dϕ r^{2} \\sin{\\left(θ \\right)}$"
      ],
      "text/plain": [
       "dr*dθ*dϕ*r**2*sin(θ)"
      ]
     },
     "execution_count": 283,
     "metadata": {},
     "output_type": "execute_result"
    }
   ],
   "source": [
    "dV2"
   ]
  },
  {
   "cell_type": "code",
   "execution_count": 296,
   "id": "328b2aa0-703d-4300-8caa-26134fdc915c",
   "metadata": {},
   "outputs": [],
   "source": []
  },
  {
   "cell_type": "code",
   "execution_count": 316,
   "id": "00d9b453-98cd-4c10-8486-7e2feca3efa7",
   "metadata": {},
   "outputs": [
    {
     "data": {
      "text/plain": [
       "(x + 2*y, 3*s - t)"
      ]
     },
     "execution_count": 316,
     "metadata": {},
     "output_type": "execute_result"
    }
   ],
   "source": [
    "s,t,x,y= sm.symbols('s,t,x,y')\n",
    "ds,dt,dx,dy= sm.symbols('ds,dt,dx,dy')\n",
    "\n",
    "def f(x,y):\n",
    "    z= x+2*y\n",
    "    return z\n",
    "\n",
    "#integrate(f(x,y)dxdy)\n",
    "f_xy= f(x,y)\n",
    "\n",
    "x= s+t\n",
    "y= s-t\n",
    "\n",
    "f_st= f(x,y)\n",
    "\n",
    "f_xy, f_st\n",
    "\n"
   ]
  },
  {
   "cell_type": "code",
   "execution_count": 321,
   "id": "8b81bc15-6fac-43b0-b70d-3b0599e49cdb",
   "metadata": {},
   "outputs": [
    {
     "data": {
      "text/latex": [
       "$\\displaystyle \\frac{3}{2}$"
      ],
      "text/plain": [
       "3/2"
      ]
     },
     "execution_count": 321,
     "metadata": {},
     "output_type": "execute_result"
    }
   ],
   "source": [
    "s,t,x,y= sm.symbols('s,t,x,y')\n",
    "f_xy.integrate((x,0,1),(y,0,1))"
   ]
  },
  {
   "cell_type": "code",
   "execution_count": 322,
   "id": "e3027776-4d18-4f70-880a-f1e2341f32c7",
   "metadata": {},
   "outputs": [
    {
     "data": {
      "text/latex": [
       "$\\displaystyle 1$"
      ],
      "text/plain": [
       "1"
      ]
     },
     "execution_count": 322,
     "metadata": {},
     "output_type": "execute_result"
    }
   ],
   "source": [
    "f_st.integrate((s,0,1),(t,0,1))"
   ]
  },
  {
   "cell_type": "code",
   "execution_count": 311,
   "id": "6db2b9c5-af0a-497f-94f0-a05fd43f900e",
   "metadata": {},
   "outputs": [
    {
     "data": {
      "text/latex": [
       "$\\displaystyle s - t$"
      ],
      "text/plain": [
       "s - t"
      ]
     },
     "execution_count": 311,
     "metadata": {},
     "output_type": "execute_result"
    }
   ],
   "source": [
    "y"
   ]
  },
  {
   "cell_type": "code",
   "execution_count": null,
   "id": "c699e281-61db-46bc-9540-72014310026f",
   "metadata": {},
   "outputs": [],
   "source": []
  }
 ],
 "metadata": {
  "kernelspec": {
   "display_name": "Python 3",
   "language": "python",
   "name": "python3"
  },
  "language_info": {
   "codemirror_mode": {
    "name": "ipython",
    "version": 3
   },
   "file_extension": ".py",
   "mimetype": "text/x-python",
   "name": "python",
   "nbconvert_exporter": "python",
   "pygments_lexer": "ipython3",
   "version": "3.8.8"
  }
 },
 "nbformat": 4,
 "nbformat_minor": 5
}
