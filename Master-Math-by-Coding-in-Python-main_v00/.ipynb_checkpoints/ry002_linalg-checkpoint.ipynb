{
 "cells": [
  {
   "cell_type": "code",
   "execution_count": 1,
   "id": "c3bef88d-6d3c-49f5-92db-1155f873fa27",
   "metadata": {},
   "outputs": [],
   "source": [
    "import numpy as np\n",
    "import matplotlib.pyplot as plt\n",
    "import sympy as sym\n",
    "from IPython.display import display,Math\n",
    "\n",
    "import matplotlib.pyplot as pl\n",
    "import sympy as sm\n"
   ]
  },
  {
   "cell_type": "markdown",
   "id": "d25b61f6-fd9c-4929-860b-8b66af3e6a2d",
   "metadata": {},
   "source": [
    "# VIDEO: Vectors\n"
   ]
  },
  {
   "cell_type": "code",
   "execution_count": null,
   "id": "378f8620-f857-44ce-9dc4-2d450fbb52e3",
   "metadata": {},
   "outputs": [],
   "source": []
  }
 ],
 "metadata": {
  "kernelspec": {
   "display_name": "Python 3",
   "language": "python",
   "name": "python3"
  },
  "language_info": {
   "codemirror_mode": {
    "name": "ipython",
    "version": 3
   },
   "file_extension": ".py",
   "mimetype": "text/x-python",
   "name": "python",
   "nbconvert_exporter": "python",
   "pygments_lexer": "ipython3",
   "version": "3.8.8"
  }
 },
 "nbformat": 4,
 "nbformat_minor": 5
}
