{
 "cells": [
  {
   "cell_type": "code",
   "execution_count": 1,
   "id": "53fadc46-df50-476d-93b3-bc4a5f941544",
   "metadata": {},
   "outputs": [],
   "source": [
    "import numpy as np\n",
    "import scipy.stats as st\n"
   ]
  },
  {
   "cell_type": "code",
   "execution_count": 2,
   "id": "a367a915-37a0-40e5-90b2-1101dfe8456f",
   "metadata": {},
   "outputs": [
    {
     "data": {
      "text/plain": [
       "<scipy.stats._continuous_distns.norm_gen at 0x1b1d82eb6a0>"
      ]
     },
     "execution_count": 2,
     "metadata": {},
     "output_type": "execute_result"
    }
   ],
   "source": [
    "st.randint\n",
    "st.binom\n",
    "st.poisson\n",
    "\n",
    "st.uniform\n",
    "st.norm"
   ]
  },
  {
   "cell_type": "markdown",
   "id": "4a0d3463-9ddc-4806-b11e-c3b91a807c74",
   "metadata": {},
   "source": [
    "# st.randint??\n",
    "\n",
    "Notes\n",
    "-----\n",
    "\n",
    "The probability mass function for `randint` is:\n",
    "\n",
    ".. math::\n",
    "$\n",
    "    f(k) = \\frac{1}{high - low}\n",
    "$\n",
    "\n",
    "for ``k = low, ..., high - 1``.\n",
    "\n",
    "`randint` takes ``low`` and ``high`` as shape parameters.\n",
    "\n"
   ]
  },
  {
   "cell_type": "code",
   "execution_count": 9,
   "id": "e876fc56-30d3-44bf-9d3e-8940e40411d2",
   "metadata": {},
   "outputs": [],
   "source": [
    "class randint_gen(st.rv_discrete):\n",
    "    r\"\"\"A uniform discrete random variable.\n",
    "\n",
    "    %(before_notes)s\n",
    "\n",
    "    Notes\n",
    "    -----\n",
    "    The probability mass function for `randint` is:\n",
    "\n",
    "    .. math::\n",
    "\n",
    "        f(k) = \\frac{1}{high - low}\n",
    "\n",
    "    for ``k = low, ..., high - 1``.\n",
    "\n",
    "    `randint` takes ``low`` and ``high`` as shape parameters.\n",
    "\n",
    "    %(after_notes)s\n",
    "\n",
    "    %(example)s\n",
    "\n",
    "    \"\"\"\n",
    "    def _argcheck(self, low, high):\n",
    "        return (high > low)\n",
    "\n",
    "    def _get_support(self, low, high):\n",
    "        return low, high-1\n",
    "\n",
    "    def _pmf(self, k, low, high):\n",
    "        # randint.pmf(k) = 1./(high - low)\n",
    "        p = np.ones_like(k) / (high - low)\n",
    "        return np.where((k >= low) & (k < high), p, 0.)\n",
    "\n",
    "    def _cdf(self, x, low, high):\n",
    "        k = floor(x)\n",
    "        return (k - low + 1.) / (high - low)\n",
    "\n",
    "    def _ppf(self, q, low, high):\n",
    "        vals = ceil(q * (high - low) + low) - 1\n",
    "        vals1 = (vals - 1).clip(low, high)\n",
    "        temp = self._cdf(vals1, low, high)\n",
    "        return np.where(temp >= q, vals1, vals)\n",
    "\n",
    "    def _stats(self, low, high):\n",
    "        m2, m1 = np.asarray(high), np.asarray(low)\n",
    "        mu = (m2 + m1 - 1.0) / 2\n",
    "        d = m2 - m1\n",
    "        var = (d*d - 1) / 12.0\n",
    "        g1 = 0.0\n",
    "        g2 = -6.0/5.0 * (d*d + 1.0) / (d*d - 1.0)\n",
    "        return mu, var, g1, g2\n",
    "\n",
    "    def _rvs(self, low, high, size=None, random_state=None):\n",
    "        \"\"\"An array of *size* random integers >= ``low`` and < ``high``.\"\"\"\n",
    "        if np.asarray(low).size == 1 and np.asarray(high).size == 1:\n",
    "            # no need to vectorize in that case\n",
    "            return rng_integers(random_state, low, high, size=size)\n",
    "\n",
    "        if size is not None:\n",
    "            # NumPy's RandomState.randint() doesn't broadcast its arguments.\n",
    "            # Use `broadcast_to()` to extend the shapes of low and high\n",
    "            # up to size.  Then we can use the numpy.vectorize'd\n",
    "            # randint without needing to pass it a `size` argument.\n",
    "            low = np.broadcast_to(low, size)\n",
    "            high = np.broadcast_to(high, size)\n",
    "        randint = np.vectorize(partial(rng_integers, random_state),\n",
    "                               otypes=[np.int_])\n",
    "        return randint(low, high)\n",
    "\n",
    "    def _entropy(self, low, high):\n",
    "        return log(high - low)\n",
    "\n",
    "\n",
    "randint= randint_gen(\n",
    "    name='randint', \n",
    "    longname='A discrete uniform (random integer)')\n"
   ]
  },
  {
   "cell_type": "code",
   "execution_count": 17,
   "id": "064a44ef-f00a-4d8a-82b7-c77ed93c458b",
   "metadata": {},
   "outputs": [],
   "source": [
    "#\n",
    "# Author:  Travis Oliphant  2002-2011 with contributions from\n",
    "#          SciPy Developers 2004-2011\n",
    "#\n",
    "from functools import partial\n",
    "from scipy import special\n",
    "from scipy.special import entr, logsumexp, betaln, gammaln as gamln\n",
    "from scipy._lib._util import _lazywhere, rng_integers\n",
    "\n",
    "from numpy import floor, ceil, log, exp, sqrt, log1p, expm1, tanh, cosh, sinh\n",
    "\n",
    "import numpy as np\n",
    "\n",
    "from scipy.stats._distn_infrastructure import (\n",
    "        rv_discrete, _ncx2_pdf, _ncx2_cdf, get_distribution_names)"
   ]
  },
  {
   "cell_type": "code",
   "execution_count": 21,
   "id": "ddb3330c-2e04-4f42-8e9a-8e352d846778",
   "metadata": {},
   "outputs": [
    {
     "data": {
      "text/plain": [
       "array([15, 13, 11, 14, 16, 11, 15, 13, 11, 14, 15, 14, 17, 10, 16, 19, 10,\n",
       "       17, 16, 12, 18, 17, 18, 15, 10, 16, 19, 18, 16, 10, 14, 16, 15, 13,\n",
       "       17, 18, 13, 14, 15, 10, 19, 19, 15, 18, 11, 18, 18, 11, 10, 12, 12,\n",
       "       14, 12, 13, 17, 10, 15, 18, 19, 19, 13, 12, 10, 18, 15, 14, 10, 18,\n",
       "       10, 14, 13, 19, 16, 12, 11, 14, 15, 16, 12, 16, 10, 16, 17, 10, 12,\n",
       "       18, 11, 15, 19, 19, 12, 12, 18, 18, 11, 12, 10, 19, 18, 17],\n",
       "      dtype=int64)"
      ]
     },
     "execution_count": 21,
     "metadata": {},
     "output_type": "execute_result"
    }
   ],
   "source": [
    "\n",
    "randint._rvs(low= 10, high= 20, size= 100)"
   ]
  },
  {
   "cell_type": "code",
   "execution_count": 22,
   "id": "4d1d93c8-3bc7-4b34-b44c-2c348148c5c2",
   "metadata": {},
   "outputs": [
    {
     "data": {
      "text/plain": [
       "array([0. , 0. , 0. , 0. , 0. , 0. , 0. , 0. , 0. , 0. , 0.1, 0.1, 0.1,\n",
       "       0.1, 0.1, 0.1, 0.1, 0.1, 0.1, 0.1, 0. , 0. , 0. , 0. , 0. , 0. ,\n",
       "       0. , 0. , 0. , 0. ])"
      ]
     },
     "execution_count": 22,
     "metadata": {},
     "output_type": "execute_result"
    }
   ],
   "source": [
    "k= np.arange(0,30)\n",
    "randint._pmf(k, low= 10, high= 20)"
   ]
  },
  {
   "cell_type": "code",
   "execution_count": 23,
   "id": "8faac0e2-15d3-459e-af55-cf018a53a13c",
   "metadata": {},
   "outputs": [
    {
     "data": {
      "text/plain": [
       "array([-0.9, -0.8, -0.7, -0.6, -0.5, -0.4, -0.3, -0.2, -0.1,  0. ,  0.1,\n",
       "        0.2,  0.3,  0.4,  0.5,  0.6,  0.7,  0.8,  0.9,  1. ,  1.1,  1.2,\n",
       "        1.3,  1.4,  1.5,  1.6,  1.7,  1.8,  1.9,  2. ])"
      ]
     },
     "execution_count": 23,
     "metadata": {},
     "output_type": "execute_result"
    }
   ],
   "source": [
    "randint._cdf(k, low= 10, high= 20)"
   ]
  },
  {
   "cell_type": "code",
   "execution_count": 25,
   "id": "0cb35d16-ba7c-48a2-ac0f-339ddaa2e663",
   "metadata": {},
   "outputs": [
    {
     "data": {
      "text/plain": [
       "(14.5, 8.25, 0.0, -1.2242424242424241)"
      ]
     },
     "execution_count": 25,
     "metadata": {},
     "output_type": "execute_result"
    }
   ],
   "source": [
    "randint._stats(low= 10, high= 20)"
   ]
  },
  {
   "cell_type": "code",
   "execution_count": 26,
   "id": "24e89736-cb79-4abd-a6cd-da3d5018dbe5",
   "metadata": {},
   "outputs": [
    {
     "data": {
      "text/plain": [
       "2.302585092994046"
      ]
     },
     "execution_count": 26,
     "metadata": {},
     "output_type": "execute_result"
    }
   ],
   "source": [
    "randint._entropy(low= 10, high= 20)"
   ]
  },
  {
   "cell_type": "code",
   "execution_count": 27,
   "id": "134abe6f-c213-4121-9eac-a952fcc4f066",
   "metadata": {},
   "outputs": [
    {
     "data": {
      "text/plain": [
       "array([10., 10., 10., 10., 10., 10., 10., 10., 10., 10., 10., 11., 11.,\n",
       "       11., 11., 11., 11., 11., 11., 11., 11., 12., 12., 12., 12., 12.,\n",
       "       12., 12., 12., 12., 12., 13., 13., 13., 13., 13., 13., 13., 13.,\n",
       "       13., 13., 14., 14., 14., 14., 14., 14., 14., 14., 14., 14., 15.,\n",
       "       15., 15., 15., 15., 15., 15., 15., 15., 15., 16., 16., 16., 16.,\n",
       "       16., 16., 16., 16., 16., 16., 17., 17., 17., 17., 17., 17., 17.,\n",
       "       17., 17., 17., 18., 18., 18., 18., 18., 18., 18., 18., 18., 18.,\n",
       "       19., 19., 19., 19., 19., 19., 19., 19., 19., 19.])"
      ]
     },
     "execution_count": 27,
     "metadata": {},
     "output_type": "execute_result"
    }
   ],
   "source": [
    "q= np.linspace(0,1,101)\n",
    "randint._ppf(q, low= 10, high= 20)\n"
   ]
  },
  {
   "cell_type": "code",
   "execution_count": 32,
   "id": "5087e6c0-5953-4498-b232-46f715467f5f",
   "metadata": {},
   "outputs": [
    {
     "data": {
      "text/plain": [
       "array([0. , 0. , 0. , 0. , 0. , 0. , 0. , 0. , 0. , 0. , 0.1, 0.2, 0.3,\n",
       "       0.4, 0.5, 0.6, 0.7, 0.8, 0.9, 1. , 1. , 1. , 1. , 1. , 1. , 1. ,\n",
       "       1. , 1. , 1. , 1. ])"
      ]
     },
     "execution_count": 32,
     "metadata": {},
     "output_type": "execute_result"
    }
   ],
   "source": [
    "st.randint.cdf(k, low=10, high=20) # 與 ._cdf 不同"
   ]
  },
  {
   "cell_type": "code",
   "execution_count": 33,
   "id": "3664ee04-04a3-4044-b2ba-8597c919cf02",
   "metadata": {},
   "outputs": [
    {
     "data": {
      "text/plain": [
       "array([-0.9, -0.8, -0.7, -0.6, -0.5, -0.4, -0.3, -0.2, -0.1,  0. ,  0.1,\n",
       "        0.2,  0.3,  0.4,  0.5,  0.6,  0.7,  0.8,  0.9,  1. ,  1.1,  1.2,\n",
       "        1.3,  1.4,  1.5,  1.6,  1.7,  1.8,  1.9,  2. ])"
      ]
     },
     "execution_count": 33,
     "metadata": {},
     "output_type": "execute_result"
    }
   ],
   "source": [
    "st.randint._cdf(k, low=10, high=20) # 與 .cdf 不同"
   ]
  },
  {
   "cell_type": "code",
   "execution_count": 34,
   "id": "a673f64b-ea8f-4570-82a0-4451f60825d0",
   "metadata": {},
   "outputs": [
    {
     "data": {
      "text/plain": [
       "array([ 9., 10., 10., 10., 10., 10., 10., 10., 10., 10., 10., 11., 11.,\n",
       "       11., 11., 11., 11., 11., 11., 11., 11., 12., 12., 12., 12., 12.,\n",
       "       12., 12., 12., 12., 12., 13., 13., 13., 13., 13., 13., 13., 13.,\n",
       "       13., 13., 14., 14., 14., 14., 14., 14., 14., 14., 14., 14., 15.,\n",
       "       15., 15., 15., 15., 15., 15., 15., 15., 15., 16., 16., 16., 16.,\n",
       "       16., 16., 16., 16., 16., 16., 17., 17., 17., 17., 17., 17., 17.,\n",
       "       17., 17., 17., 18., 18., 18., 18., 18., 18., 18., 18., 18., 18.,\n",
       "       19., 19., 19., 19., 19., 19., 19., 19., 19., 19.])"
      ]
     },
     "execution_count": 34,
     "metadata": {},
     "output_type": "execute_result"
    }
   ],
   "source": [
    "st.randint.ppf(q, low= 10, high= 20)"
   ]
  },
  {
   "cell_type": "code",
   "execution_count": 37,
   "id": "b008ab4c-70f9-465c-b743-35ea1d978d4d",
   "metadata": {},
   "outputs": [
    {
     "name": "stdout",
     "output_type": "stream",
     "text": [
      "Object `st.randint._pdf` not found.\n"
     ]
    }
   ],
   "source": [
    "st.randint._pdf?"
   ]
  },
  {
   "cell_type": "code",
   "execution_count": 38,
   "id": "78813de2-7c3f-499e-a505-0292ad590f05",
   "metadata": {},
   "outputs": [],
   "source": [
    "import scipy\n"
   ]
  },
  {
   "cell_type": "code",
   "execution_count": 40,
   "id": "acf77659-5082-4229-8633-816b7c099c0a",
   "metadata": {},
   "outputs": [
    {
     "data": {
      "text/plain": [
       "\u001b[1;31mSignature:\u001b[0m \u001b[0mscipy\u001b[0m\u001b[1;33m.\u001b[0m\u001b[0mmisc\u001b[0m\u001b[1;33m.\u001b[0m\u001b[0mderivative\u001b[0m\u001b[1;33m(\u001b[0m\u001b[0mfunc\u001b[0m\u001b[1;33m,\u001b[0m \u001b[0mx0\u001b[0m\u001b[1;33m,\u001b[0m \u001b[0mdx\u001b[0m\u001b[1;33m=\u001b[0m\u001b[1;36m1.0\u001b[0m\u001b[1;33m,\u001b[0m \u001b[0mn\u001b[0m\u001b[1;33m=\u001b[0m\u001b[1;36m1\u001b[0m\u001b[1;33m,\u001b[0m \u001b[0margs\u001b[0m\u001b[1;33m=\u001b[0m\u001b[1;33m(\u001b[0m\u001b[1;33m)\u001b[0m\u001b[1;33m,\u001b[0m \u001b[0morder\u001b[0m\u001b[1;33m=\u001b[0m\u001b[1;36m3\u001b[0m\u001b[1;33m)\u001b[0m\u001b[1;33m\u001b[0m\u001b[1;33m\u001b[0m\u001b[0m\n",
       "\u001b[1;31mDocstring:\u001b[0m\n",
       "Find the nth derivative of a function at a point.\n",
       "\n",
       "Given a function, use a central difference formula with spacing `dx` to\n",
       "compute the nth derivative at `x0`.\n",
       "\n",
       "Parameters\n",
       "----------\n",
       "func : function\n",
       "    Input function.\n",
       "x0 : float\n",
       "    The point at which the nth derivative is found.\n",
       "dx : float, optional\n",
       "    Spacing.\n",
       "n : int, optional\n",
       "    Order of the derivative. Default is 1.\n",
       "args : tuple, optional\n",
       "    Arguments\n",
       "order : int, optional\n",
       "    Number of points to use, must be odd.\n",
       "\n",
       "Notes\n",
       "-----\n",
       "Decreasing the step size too small can result in round-off error.\n",
       "\n",
       "Examples\n",
       "--------\n",
       ">>> from scipy.misc import derivative\n",
       ">>> def f(x):\n",
       "...     return x**3 + x**2\n",
       ">>> derivative(f, 1.0, dx=1e-6)\n",
       "4.9999999999217337\n",
       "\u001b[1;31mFile:\u001b[0m      m:\\programdata\\anaconda3\\lib\\site-packages\\scipy\\misc\\common.py\n",
       "\u001b[1;31mType:\u001b[0m      function\n"
      ]
     },
     "metadata": {},
     "output_type": "display_data"
    }
   ],
   "source": [
    "scipy.misc.derivative?\n"
   ]
  },
  {
   "cell_type": "code",
   "execution_count": 76,
   "id": "879b23b2-34b8-4838-832d-8014473ac8d1",
   "metadata": {},
   "outputs": [
    {
     "data": {
      "image/png": "[encoded data removed]",
      "text/plain": [
       "<Figure size 432x288 with 1 Axes>"
      ]
     },
     "metadata": {
      "needs_background": "light"
     },
     "output_type": "display_data"
    }
   ],
   "source": [
    "# numpy 版的微積分\n",
    "\n",
    "def f(x):\n",
    "    y= (x-10)*x*(x+5)\n",
    "    return y\n",
    "x= np.linspace(-10,10,101)\n",
    "y= f(x)\n",
    "\n",
    "dydx= scipy.misc.derivative(f,x)\n",
    "\n",
    "def diff(f,x):\n",
    "    dx= (x[-1]-x[0])/(len(x)-1)\n",
    "    dy_dx= np.diff(f(x))/dx\n",
    "    dy_dx= np.insert(dy_dx,0,dy_dx[0])\n",
    "    return dy_dx\n",
    "\n",
    "dydx2= diff(f,x)\n",
    "\n",
    "def integrate(f,x):\n",
    "    dx= (x[-1]-x[0])/(len(x)-1)\n",
    "    Sydx= np.cumsum(f(x))*dx\n",
    "    return Sydx\n",
    "\n",
    "intg= integrate(f,x)\n",
    "\n",
    "import matplotlib.pyplot as pl\n",
    "pl.plot(x,y,'r',\n",
    "        x,dydx,'g',\n",
    "        x,dydx2,'b',\n",
    "        x, intg,'m')\n",
    "pl.grid()\n"
   ]
  },
  {
   "cell_type": "code",
   "execution_count": 56,
   "id": "985d34f6-3175-41d7-a5cf-63b03f52f3b2",
   "metadata": {},
   "outputs": [
    {
     "data": {
      "text/plain": [
       "array([100. ,   0. ,   0.1,   0.2,   0.3,   0.4,   0.5,   0.6,   0.7,\n",
       "         0.8,   0.9,   1. ,   1.1,   1.2,   1.3,   1.4,   1.5,   1.6,\n",
       "         1.7,   1.8,   1.9,   2. ,   2.1,   2.2,   2.3,   2.4,   2.5,\n",
       "         2.6,   2.7,   2.8,   2.9,   3. ,   3.1,   3.2,   3.3,   3.4,\n",
       "         3.5,   3.6,   3.7,   3.8,   3.9,   4. ,   4.1,   4.2,   4.3,\n",
       "         4.4,   4.5,   4.6,   4.7,   4.8,   4.9,   5. ,   5.1,   5.2,\n",
       "         5.3,   5.4,   5.5,   5.6,   5.7,   5.8,   5.9,   6. ,   6.1,\n",
       "         6.2,   6.3,   6.4,   6.5,   6.6,   6.7,   6.8,   6.9,   7. ,\n",
       "         7.1,   7.2,   7.3,   7.4,   7.5,   7.6,   7.7,   7.8,   7.9,\n",
       "         8. ,   8.1,   8.2,   8.3,   8.4,   8.5,   8.6,   8.7,   8.8,\n",
       "         8.9,   9. ,   9.1,   9.2,   9.3,   9.4,   9.5,   9.6,   9.7,\n",
       "         9.8,   9.9,  10. ])"
      ]
     },
     "execution_count": 56,
     "metadata": {},
     "output_type": "execute_result"
    }
   ],
   "source": [
    "x= np.linspace(0,10,101)\n",
    "x= np.insert(x,0,100)\n",
    "x"
   ]
  },
  {
   "cell_type": "code",
   "execution_count": 77,
   "id": "d836c453-a8ab-4626-b4a3-0c1b6dedfd66",
   "metadata": {},
   "outputs": [],
   "source": [
    "#scipy.integrate.quad?"
   ]
  },
  {
   "cell_type": "code",
   "execution_count": 78,
   "id": "66750c31-2a2b-47fc-a6d4-2a620d8332dd",
   "metadata": {},
   "outputs": [],
   "source": [
    "import numpy as np"
   ]
  },
  {
   "cell_type": "code",
   "execution_count": 79,
   "id": "9e500e2a-173f-421d-9a34-de58e6f5fe6f",
   "metadata": {},
   "outputs": [
    {
     "data": {
      "text/plain": [
       "\u001b[1;31mType:\u001b[0m        module\n",
       "\u001b[1;31mString form:\u001b[0m <module 'numpy.random' from 'M:\\\\ProgramData\\\\Anaconda3\\\\lib\\\\site-packages\\\\numpy\\\\random\\\\__init__.py'>\n",
       "\u001b[1;31mFile:\u001b[0m        m:\\programdata\\anaconda3\\lib\\site-packages\\numpy\\random\\__init__.py\n",
       "\u001b[1;31mDocstring:\u001b[0m  \n",
       "========================\n",
       "Random Number Generation\n",
       "========================\n",
       "\n",
       "Use ``default_rng()`` to create a `Generator` and call its methods.\n",
       "\n",
       "=============== =========================================================\n",
       "Generator\n",
       "--------------- ---------------------------------------------------------\n",
       "Generator       Class implementing all of the random number distributions\n",
       "default_rng     Default constructor for ``Generator``\n",
       "=============== =========================================================\n",
       "\n",
       "============================================= ===\n",
       "BitGenerator Streams that work with Generator\n",
       "--------------------------------------------- ---\n",
       "MT19937\n",
       "PCG64\n",
       "Philox\n",
       "SFC64\n",
       "============================================= ===\n",
       "\n",
       "============================================= ===\n",
       "Getting entropy to initialize a BitGenerator\n",
       "--------------------------------------------- ---\n",
       "SeedSequence\n",
       "============================================= ===\n",
       "\n",
       "\n",
       "Legacy\n",
       "------\n",
       "\n",
       "For backwards compatibility with previous versions of numpy before 1.17, the\n",
       "various aliases to the global `RandomState` methods are left alone and do not\n",
       "use the new `Generator` API.\n",
       "\n",
       "==================== =========================================================\n",
       "Utility functions\n",
       "-------------------- ---------------------------------------------------------\n",
       "random               Uniformly distributed floats over ``[0, 1)``\n",
       "bytes                Uniformly distributed random bytes.\n",
       "permutation          Randomly permute a sequence / generate a random sequence.\n",
       "shuffle              Randomly permute a sequence in place.\n",
       "choice               Random sample from 1-D array.\n",
       "==================== =========================================================\n",
       "\n",
       "==================== =========================================================\n",
       "Compatibility\n",
       "functions - removed\n",
       "in the new API\n",
       "-------------------- ---------------------------------------------------------\n",
       "rand                 Uniformly distributed values.\n",
       "randn                Normally distributed values.\n",
       "ranf                 Uniformly distributed floating point numbers.\n",
       "random_integers      Uniformly distributed integers in a given range.\n",
       "                     (deprecated, use ``integers(..., closed=True)`` instead)\n",
       "random_sample        Alias for `random_sample`\n",
       "randint              Uniformly distributed integers in a given range\n",
       "seed                 Seed the legacy random number generator.\n",
       "==================== =========================================================\n",
       "\n",
       "==================== =========================================================\n",
       "Univariate\n",
       "distributions\n",
       "-------------------- ---------------------------------------------------------\n",
       "beta                 Beta distribution over ``[0, 1]``.\n",
       "binomial             Binomial distribution.\n",
       "chisquare            :math:`\\chi^2` distribution.\n",
       "exponential          Exponential distribution.\n",
       "f                    F (Fisher-Snedecor) distribution.\n",
       "gamma                Gamma distribution.\n",
       "geometric            Geometric distribution.\n",
       "gumbel               Gumbel distribution.\n",
       "hypergeometric       Hypergeometric distribution.\n",
       "laplace              Laplace distribution.\n",
       "logistic             Logistic distribution.\n",
       "lognormal            Log-normal distribution.\n",
       "logseries            Logarithmic series distribution.\n",
       "negative_binomial    Negative binomial distribution.\n",
       "noncentral_chisquare Non-central chi-square distribution.\n",
       "noncentral_f         Non-central F distribution.\n",
       "normal               Normal / Gaussian distribution.\n",
       "pareto               Pareto distribution.\n",
       "poisson              Poisson distribution.\n",
       "power                Power distribution.\n",
       "rayleigh             Rayleigh distribution.\n",
       "triangular           Triangular distribution.\n",
       "uniform              Uniform distribution.\n",
       "vonmises             Von Mises circular distribution.\n",
       "wald                 Wald (inverse Gaussian) distribution.\n",
       "weibull              Weibull distribution.\n",
       "zipf                 Zipf's distribution over ranked data.\n",
       "==================== =========================================================\n",
       "\n",
       "==================== ==========================================================\n",
       "Multivariate\n",
       "distributions\n",
       "-------------------- ----------------------------------------------------------\n",
       "dirichlet            Multivariate generalization of Beta distribution.\n",
       "multinomial          Multivariate generalization of the binomial distribution.\n",
       "multivariate_normal  Multivariate generalization of the normal distribution.\n",
       "==================== ==========================================================\n",
       "\n",
       "==================== =========================================================\n",
       "Standard\n",
       "distributions\n",
       "-------------------- ---------------------------------------------------------\n",
       "standard_cauchy      Standard Cauchy-Lorentz distribution.\n",
       "standard_exponential Standard exponential distribution.\n",
       "standard_gamma       Standard Gamma distribution.\n",
       "standard_normal      Standard normal distribution.\n",
       "standard_t           Standard Student's t-distribution.\n",
       "==================== =========================================================\n",
       "\n",
       "==================== =========================================================\n",
       "Internal functions\n",
       "-------------------- ---------------------------------------------------------\n",
       "get_state            Get tuple representing internal state of generator.\n",
       "set_state            Set state of generator.\n",
       "==================== =========================================================\n"
      ]
     },
     "metadata": {},
     "output_type": "display_data"
    }
   ],
   "source": [
    "np.random?"
   ]
  },
  {
   "cell_type": "code",
   "execution_count": 82,
   "id": "a7c3a06b-4c88-4b84-a6b9-e950f3c9d4a2",
   "metadata": {},
   "outputs": [
    {
     "data": {
      "text/plain": [
       "array([5, 6, 5, 5, 5, 6, 5, 7, 8, 5, 6, 5, 5, 7, 3, 3, 2, 7, 6, 7, 8, 6,\n",
       "       5, 6, 3, 6, 3, 7, 5, 5, 4, 6, 5, 5, 2, 5, 5, 5, 7, 6, 4, 5, 6, 3,\n",
       "       6, 6, 4, 3, 4, 4, 5, 5, 8, 3, 4, 3, 6, 4, 5, 4, 3, 3, 6, 3, 4, 4,\n",
       "       6, 3, 7, 3, 8, 5, 8, 5, 6, 2, 4, 3, 4, 3, 4, 5, 3, 6, 5, 4, 5, 3,\n",
       "       5, 7, 4, 6, 3, 6, 4, 4, 5, 2, 7, 1])"
      ]
     },
     "execution_count": 82,
     "metadata": {},
     "output_type": "execute_result"
    }
   ],
   "source": [
    "x= np.random.RandomState(0)    \n",
    "x.binomial(n=10, p=.5, size=100)"
   ]
  },
  {
   "cell_type": "code",
   "execution_count": 97,
   "id": "e9d0a8e4-baac-43ae-8a31-eaedae4f58ff",
   "metadata": {},
   "outputs": [
    {
     "data": {
      "text/plain": [
       "array([ 0.71422382,  2.28433335,  1.56410258,  0.61110371, -0.87736332,\n",
       "       -1.6210875 , -0.581673  , -0.53783395, -1.55602368, -0.05446484,\n",
       "       -1.81127879, -0.63117522, -0.92815918,  1.49072192,  0.19549934,\n",
       "       -0.47160433,  1.81235465, -2.29413748,  0.65120935, -1.13049645,\n",
       "       -0.77734666,  1.11593845,  1.33945302, -1.76743365,  0.42441246,\n",
       "        1.08930905, -0.38418568,  0.63220141, -0.5496559 ,  0.52112574,\n",
       "        0.10834955,  0.26166848, -0.91475533,  0.85823779,  0.09433429,\n",
       "       -1.48590386, -1.90058426, -1.1375792 , -1.76203889, -0.28862322,\n",
       "        1.04798222,  0.24995754,  0.04690446, -1.03224304,  0.40318568,\n",
       "       -0.68405925,  1.26232219, -2.00555659, -0.3320304 , -0.2961004 ,\n",
       "       -2.21836076, -0.18350288,  0.39230806,  0.24163481,  0.10393591,\n",
       "       -0.82957119,  0.49275939,  0.09011279, -0.99756754, -0.80003821,\n",
       "        0.20707557,  0.52346303, -0.69939482,  0.91370581, -0.67278478,\n",
       "        0.1333245 ,  0.42689602, -0.01284939, -0.35224831,  0.81946661,\n",
       "        0.52198773,  1.19725986, -0.38248621,  0.69166192,  0.35388501,\n",
       "        1.04758534, -0.42389623, -3.51476812, -1.34315673,  1.42550613,\n",
       "        0.22858201, -0.25766376,  0.05037072, -1.38021088, -0.26167207,\n",
       "       -0.17937969, -0.69277058,  1.13782687, -0.16915725, -0.76391367,\n",
       "       -0.4980731 , -0.36289111,  0.26396031, -0.62964191, -0.4722584 ,\n",
       "       -1.51336104,  1.10762468,  0.17623875, -0.94035354,  0.92959433])"
      ]
     },
     "execution_count": 97,
     "metadata": {},
     "output_type": "execute_result"
    }
   ],
   "source": [
    "x.standard_normal(size=100)"
   ]
  },
  {
   "cell_type": "code",
   "execution_count": 439,
   "id": "ae45d72d-3f3d-40a4-96a9-c937edba81c1",
   "metadata": {},
   "outputs": [
    {
     "data": {
      "image/png": "[encoded data removed]",
      "text/plain": [
       "<Figure size 432x288 with 2 Axes>"
      ]
     },
     "metadata": {
      "needs_background": "light"
     },
     "output_type": "display_data"
    },
    {
     "data": {
      "image/png": "[encoded data removed]",
      "text/plain": [
       "<Figure size 432x288 with 2 Axes>"
      ]
     },
     "metadata": {
      "needs_background": "light"
     },
     "output_type": "display_data"
    },
    {
     "data": {
      "image/png": "[encoded data removed]",
      "text/plain": [
       "<Figure size 432x288 with 2 Axes>"
      ]
     },
     "metadata": {
      "needs_background": "light"
     },
     "output_type": "display_data"
    },
    {
     "data": {
      "image/png": "[encoded data removed]",
      "text/plain": [
       "<Figure size 432x288 with 2 Axes>"
      ]
     },
     "metadata": {
      "needs_background": "light"
     },
     "output_type": "display_data"
    },
    {
     "data": {
      "image/png": "[encoded data removed]",
      "text/plain": [
       "<Figure size 432x288 with 2 Axes>"
      ]
     },
     "metadata": {
      "needs_background": "light"
     },
     "output_type": "display_data"
    },
    {
     "data": {
      "image/png": "[encoded data removed]",
      "text/plain": [
       "<Figure size 432x288 with 2 Axes>"
      ]
     },
     "metadata": {
      "needs_background": "light"
     },
     "output_type": "display_data"
    },
    {
     "data": {
      "image/png": "[encoded data removed]",
      "text/plain": [
       "<Figure size 432x288 with 2 Axes>"
      ]
     },
     "metadata": {
      "needs_background": "light"
     },
     "output_type": "display_data"
    }
   ],
   "source": [
    "#\n",
    "# 各種分布，使用 np.histogram() 來初步了解\n",
    "# 每種分布皆有各自的參數以及獨特的數學公式\n",
    "#\n",
    "\n",
    "import numpy as np\n",
    "import matplotlib.pyplot as pl\n",
    "\n",
    "#rg=  np.random.default_rng()\n",
    "\n",
    "size= 1000\n",
    "\n",
    "XL= []\n",
    "X= np.random.uniform(low=0, high=10,size= size)\n",
    "XL += [X]\n",
    "\n",
    "X= np.random.standard_normal(size= size)\n",
    "XL += [X]\n",
    "\n",
    "X= np.random.standard_gamma(shape=10, size= size)\n",
    "XL += [X]\n",
    "\n",
    "X= np.random.randint(low=0, high=10, size=size)\n",
    "XL += [X]\n",
    "\n",
    "X= np.random.binomial(n= 10, p= .5, size= size)\n",
    "XL += [X]\n",
    "\n",
    "X= np.random.poisson(lam=10, size= size)\n",
    "XL += [X]\n",
    "\n",
    "X= np.random.negative_binomial(n= 10, p=.5, size= size)\n",
    "XL += [X]\n",
    "\n",
    "for X in XL:\n",
    "    # 針對離散型，也許 nbins 要精細一點計算\n",
    "    nbins= len(set(X))\n",
    "    nbins= min(nbins, 20)\n",
    "\n",
    "    f,x= np.histogram(X, bins= nbins)\n",
    "    x= x[:-1]\n",
    "\n",
    "\n",
    "    fg, ax= pl.subplots(2,1)\n",
    "    t=      np.arange(len(X))\n",
    "    ax[0].scatter(X, t)\n",
    "    ax[1].stem(x, f)\n",
    "\n",
    "#f,x"
   ]
  },
  {
   "cell_type": "code",
   "execution_count": 456,
   "id": "28c5ccf9-6a7f-486d-9efe-a2d6f9404913",
   "metadata": {},
   "outputs": [
    {
     "data": {
      "text/plain": [
       "21.244978230833325"
      ]
     },
     "execution_count": 456,
     "metadata": {},
     "output_type": "execute_result"
    }
   ],
   "source": [
    "import scipy.stats as st\n",
    "#st.rv_histogram?\n",
    "f,x= np.histogram(X, bins= nbins)\n",
    "hist_dist= st.rv_histogram((f,x))\n",
    "hist_dist.var()"
   ]
  },
  {
   "cell_type": "code",
   "execution_count": 447,
   "id": "66a73463-bb3e-4ce1-b413-3f60bf635226",
   "metadata": {},
   "outputs": [
    {
     "data": {
      "text/plain": [
       "\u001b[1;31mInit signature:\u001b[0m \u001b[0mst\u001b[0m\u001b[1;33m.\u001b[0m\u001b[0mrv_histogram\u001b[0m\u001b[1;33m(\u001b[0m\u001b[0mhistogram\u001b[0m\u001b[1;33m,\u001b[0m \u001b[1;33m*\u001b[0m\u001b[0margs\u001b[0m\u001b[1;33m,\u001b[0m \u001b[1;33m**\u001b[0m\u001b[0mkwargs\u001b[0m\u001b[1;33m)\u001b[0m\u001b[1;33m\u001b[0m\u001b[1;33m\u001b[0m\u001b[0m\n",
       "\u001b[1;31mDocstring:\u001b[0m     \n",
       "Generates a distribution given by a histogram.\n",
       "This is useful to generate a template distribution from a binned\n",
       "datasample.\n",
       "\n",
       "As a subclass of the `rv_continuous` class, `rv_histogram` inherits from it\n",
       "a collection of generic methods (see `rv_continuous` for the full list),\n",
       "and implements them based on the properties of the provided binned\n",
       "datasample.\n",
       "\n",
       "Parameters\n",
       "----------\n",
       "histogram : tuple of array_like\n",
       "  Tuple containing two array_like objects\n",
       "  The first containing the content of n bins\n",
       "  The second containing the (n+1) bin boundaries\n",
       "  In particular the return value np.histogram is accepted\n",
       "\n",
       "Notes\n",
       "-----\n",
       "There are no additional shape parameters except for the loc and scale.\n",
       "The pdf is defined as a stepwise function from the provided histogram\n",
       "The cdf is a linear interpolation of the pdf.\n",
       "\n",
       ".. versionadded:: 0.19.0\n",
       "\n",
       "Examples\n",
       "--------\n",
       "\n",
       "Create a scipy.stats distribution from a numpy histogram\n",
       "\n",
       ">>> import scipy.stats\n",
       ">>> import numpy as np\n",
       ">>> data = scipy.stats.norm.rvs(size=100000, loc=0, scale=1.5, random_state=123)\n",
       ">>> hist = np.histogram(data, bins=100)\n",
       ">>> hist_dist = scipy.stats.rv_histogram(hist)\n",
       "\n",
       "Behaves like an ordinary scipy rv_continuous distribution\n",
       "\n",
       ">>> hist_dist.pdf(1.0)\n",
       "0.20538577847618705\n",
       ">>> hist_dist.cdf(2.0)\n",
       "0.90818568543056499\n",
       "\n",
       "PDF is zero above (below) the highest (lowest) bin of the histogram,\n",
       "defined by the max (min) of the original dataset\n",
       "\n",
       ">>> hist_dist.pdf(np.max(data))\n",
       "0.0\n",
       ">>> hist_dist.cdf(np.max(data))\n",
       "1.0\n",
       ">>> hist_dist.pdf(np.min(data))\n",
       "7.7591907244498314e-05\n",
       ">>> hist_dist.cdf(np.min(data))\n",
       "0.0\n",
       "\n",
       "PDF and CDF follow the histogram\n",
       "\n",
       ">>> import matplotlib.pyplot as plt\n",
       ">>> X = np.linspace(-5.0, 5.0, 100)\n",
       ">>> plt.title(\"PDF from Template\")\n",
       ">>> plt.hist(data, density=True, bins=100)\n",
       ">>> plt.plot(X, hist_dist.pdf(X), label='PDF')\n",
       ">>> plt.plot(X, hist_dist.cdf(X), label='CDF')\n",
       ">>> plt.show()\n",
       "\u001b[1;31mInit docstring:\u001b[0m\n",
       "Create a new distribution using the given histogram\n",
       "\n",
       "Parameters\n",
       "----------\n",
       "histogram : tuple of array_like\n",
       "  Tuple containing two array_like objects\n",
       "  The first containing the content of n bins\n",
       "  The second containing the (n+1) bin boundaries\n",
       "  In particular the return value np.histogram is accepted\n",
       "\u001b[1;31mFile:\u001b[0m           m:\\programdata\\anaconda3\\lib\\site-packages\\scipy\\stats\\_continuous_distns.py\n",
       "\u001b[1;31mType:\u001b[0m           type\n",
       "\u001b[1;31mSubclasses:\u001b[0m     \n"
      ]
     },
     "metadata": {},
     "output_type": "display_data"
    }
   ],
   "source": [
    "st.rv_histogram?"
   ]
  },
  {
   "cell_type": "code",
   "execution_count": null,
   "id": "02dc2911-76fd-4c62-ad69-f36fdc7d03d6",
   "metadata": {},
   "outputs": [],
   "source": []
  },
  {
   "cell_type": "code",
   "execution_count": null,
   "id": "ddde6f80-6392-4211-8707-89822172b136",
   "metadata": {},
   "outputs": [],
   "source": []
  },
  {
   "cell_type": "code",
   "execution_count": null,
   "id": "9f4895f8-c5f9-427a-b809-90c5c7311aef",
   "metadata": {},
   "outputs": [],
   "source": []
  },
  {
   "cell_type": "code",
   "execution_count": null,
   "id": "9a963b9b-ce07-44e3-bf69-97dcbea2f883",
   "metadata": {},
   "outputs": [],
   "source": []
  },
  {
   "cell_type": "code",
   "execution_count": null,
   "id": "c6b5fb9c-c07f-423d-acbf-0684357b09f2",
   "metadata": {},
   "outputs": [],
   "source": []
  },
  {
   "cell_type": "code",
   "execution_count": null,
   "id": "b4f186ed-0d52-46bb-bdad-e2a42dafd92f",
   "metadata": {},
   "outputs": [],
   "source": []
  },
  {
   "cell_type": "code",
   "execution_count": null,
   "id": "cf0bb35e-a43f-4744-9bb0-a8c441778e6c",
   "metadata": {},
   "outputs": [],
   "source": []
  },
  {
   "cell_type": "code",
   "execution_count": null,
   "id": "f87ac83d-3c9a-43cb-a2ea-2b91c966d9e0",
   "metadata": {},
   "outputs": [],
   "source": []
  },
  {
   "cell_type": "code",
   "execution_count": null,
   "id": "0dce2f0e-a5cc-4881-8495-cc1109e46501",
   "metadata": {},
   "outputs": [],
   "source": []
  },
  {
   "cell_type": "code",
   "execution_count": 400,
   "id": "c16474f5-098f-4859-8ca2-41b544773446",
   "metadata": {},
   "outputs": [
    {
     "data": {
      "text/plain": [
       "\u001b[1;31mDocstring:\u001b[0m\n",
       "negative_binomial(n, p, size=None)\n",
       "\n",
       "Draw samples from a negative binomial distribution.\n",
       "\n",
       "Samples are drawn from a negative binomial distribution with specified\n",
       "parameters, `n` successes and `p` probability of success where `n`\n",
       "is > 0 and `p` is in the interval (0, 1].\n",
       "\n",
       "Parameters\n",
       "----------\n",
       "n : float or array_like of floats\n",
       "    Parameter of the distribution, > 0.\n",
       "p : float or array_like of floats\n",
       "    Parameter of the distribution. Must satisfy 0 < p <= 1.\n",
       "size : int or tuple of ints, optional\n",
       "    Output shape.  If the given shape is, e.g., ``(m, n, k)``, then\n",
       "    ``m * n * k`` samples are drawn.  If size is ``None`` (default),\n",
       "    a single value is returned if ``n`` and ``p`` are both scalars.\n",
       "    Otherwise, ``np.broadcast(n, p).size`` samples are drawn.\n",
       "\n",
       "Returns\n",
       "-------\n",
       "out : ndarray or scalar\n",
       "    Drawn samples from the parameterized negative binomial distribution,\n",
       "    where each sample is equal to N, the number of failures that\n",
       "    occurred before a total of n successes was reached.\n",
       "\n",
       "Notes\n",
       "-----\n",
       "The probability mass function of the negative binomial distribution is\n",
       "\n",
       ".. math:: P(N;n,p) = \\frac{\\Gamma(N+n)}{N!\\Gamma(n)}p^{n}(1-p)^{N},\n",
       "\n",
       "where :math:`n` is the number of successes, :math:`p` is the\n",
       "probability of success, :math:`N+n` is the number of trials, and\n",
       ":math:`\\Gamma` is the gamma function. When :math:`n` is an integer,\n",
       ":math:`\\frac{\\Gamma(N+n)}{N!\\Gamma(n)} = \\binom{N+n-1}{N}`, which is\n",
       "the more common form of this term in the the pmf. The negative\n",
       "binomial distribution gives the probability of N failures given n\n",
       "successes, with a success on the last trial.\n",
       "\n",
       "If one throws a die repeatedly until the third time a \"1\" appears,\n",
       "then the probability distribution of the number of non-\"1\"s that\n",
       "appear before the third \"1\" is a negative binomial distribution.\n",
       "\n",
       "References\n",
       "----------\n",
       ".. [1] Weisstein, Eric W. \"Negative Binomial Distribution.\" From\n",
       "       MathWorld--A Wolfram Web Resource.\n",
       "       http://mathworld.wolfram.com/NegativeBinomialDistribution.html\n",
       ".. [2] Wikipedia, \"Negative binomial distribution\",\n",
       "       https://en.wikipedia.org/wiki/Negative_binomial_distribution\n",
       "\n",
       "Examples\n",
       "--------\n",
       "Draw samples from the distribution:\n",
       "\n",
       "A real world example. A company drills wild-cat oil\n",
       "exploration wells, each with an estimated probability of\n",
       "success of 0.1.  What is the probability of having one success\n",
       "for each successive well, that is what is the probability of a\n",
       "single success after drilling 5 wells, after 6 wells, etc.?\n",
       "\n",
       ">>> s = np.random.default_rng().negative_binomial(1, 0.1, 100000)\n",
       ">>> for i in range(1, 11): # doctest: +SKIP\n",
       "...    probability = sum(s<i) / 100000.\n",
       "...    print(i, \"wells drilled, probability of one success =\", probability)\n",
       "\u001b[1;31mType:\u001b[0m      builtin_function_or_method\n"
      ]
     },
     "metadata": {},
     "output_type": "display_data"
    }
   ],
   "source": [
    "\n",
    "#rg.standard_gamma?\n",
    "rg.negative_binomial?\n"
   ]
  },
  {
   "cell_type": "code",
   "execution_count": 214,
   "id": "063626df-c1ad-41f7-b32e-f5f51d46c1bf",
   "metadata": {},
   "outputs": [
    {
     "data": {
      "text/plain": [
       "\u001b[1;31mDocstring:\u001b[0m\n",
       "uniform(low=0.0, high=1.0, size=None)\n",
       "\n",
       "Draw samples from a uniform distribution.\n",
       "\n",
       "Samples are uniformly distributed over the half-open interval\n",
       "``[low, high)`` (includes low, but excludes high).  In other words,\n",
       "any value within the given interval is equally likely to be drawn\n",
       "by `uniform`.\n",
       "\n",
       "Parameters\n",
       "----------\n",
       "low : float or array_like of floats, optional\n",
       "    Lower boundary of the output interval.  All values generated will be\n",
       "    greater than or equal to low.  The default value is 0.\n",
       "high : float or array_like of floats\n",
       "    Upper boundary of the output interval.  All values generated will be\n",
       "    less than high.  The default value is 1.0.\n",
       "size : int or tuple of ints, optional\n",
       "    Output shape.  If the given shape is, e.g., ``(m, n, k)``, then\n",
       "    ``m * n * k`` samples are drawn.  If size is ``None`` (default),\n",
       "    a single value is returned if ``low`` and ``high`` are both scalars.\n",
       "    Otherwise, ``np.broadcast(low, high).size`` samples are drawn.\n",
       "\n",
       "Returns\n",
       "-------\n",
       "out : ndarray or scalar\n",
       "    Drawn samples from the parameterized uniform distribution.\n",
       "\n",
       "See Also\n",
       "--------\n",
       "integers : Discrete uniform distribution, yielding integers.\n",
       "random : Floats uniformly distributed over ``[0, 1)``.\n",
       "\n",
       "Notes\n",
       "-----\n",
       "The probability density function of the uniform distribution is\n",
       "\n",
       ".. math:: p(x) = \\frac{1}{b - a}\n",
       "\n",
       "anywhere within the interval ``[a, b)``, and zero elsewhere.\n",
       "\n",
       "When ``high`` == ``low``, values of ``low`` will be returned.\n",
       "If ``high`` < ``low``, the results are officially undefined\n",
       "and may eventually raise an error, i.e. do not rely on this\n",
       "function to behave when passed arguments satisfying that\n",
       "inequality condition.\n",
       "\n",
       "Examples\n",
       "--------\n",
       "Draw samples from the distribution:\n",
       "\n",
       ">>> s = np.random.default_rng().uniform(-1,0,1000)\n",
       "\n",
       "All values are within the given interval:\n",
       "\n",
       ">>> np.all(s >= -1)\n",
       "True\n",
       ">>> np.all(s < 0)\n",
       "True\n",
       "\n",
       "Display the histogram of the samples, along with the\n",
       "probability density function:\n",
       "\n",
       ">>> import matplotlib.pyplot as plt\n",
       ">>> count, bins, ignored = plt.hist(s, 15, density=True)\n",
       ">>> plt.plot(bins, np.ones_like(bins), linewidth=2, color='r')\n",
       ">>> plt.show()\n",
       "\u001b[1;31mType:\u001b[0m      builtin_function_or_method\n"
      ]
     },
     "metadata": {},
     "output_type": "display_data"
    }
   ],
   "source": [
    "rg.uniform?"
   ]
  },
  {
   "cell_type": "code",
   "execution_count": 215,
   "id": "d0d25f5b-de51-439e-ae17-74a3d0060d8e",
   "metadata": {},
   "outputs": [
    {
     "data": {
      "text/plain": [
       "\u001b[1;31mDocstring:\u001b[0m\n",
       "randint(low, high=None, size=None, dtype=int)\n",
       "\n",
       "Return random integers from `low` (inclusive) to `high` (exclusive).\n",
       "\n",
       "Return random integers from the \"discrete uniform\" distribution of\n",
       "the specified dtype in the \"half-open\" interval [`low`, `high`). If\n",
       "`high` is None (the default), then results are from [0, `low`).\n",
       "\n",
       ".. note::\n",
       "    New code should use the ``integers`` method of a ``default_rng()``\n",
       "    instance instead; please see the :ref:`random-quick-start`.\n",
       "\n",
       "Parameters\n",
       "----------\n",
       "low : int or array-like of ints\n",
       "    Lowest (signed) integers to be drawn from the distribution (unless\n",
       "    ``high=None``, in which case this parameter is one above the\n",
       "    *highest* such integer).\n",
       "high : int or array-like of ints, optional\n",
       "    If provided, one above the largest (signed) integer to be drawn\n",
       "    from the distribution (see above for behavior if ``high=None``).\n",
       "    If array-like, must contain integer values\n",
       "size : int or tuple of ints, optional\n",
       "    Output shape.  If the given shape is, e.g., ``(m, n, k)``, then\n",
       "    ``m * n * k`` samples are drawn.  Default is None, in which case a\n",
       "    single value is returned.\n",
       "dtype : dtype, optional\n",
       "    Desired dtype of the result. Byteorder must be native.\n",
       "    The default value is int.\n",
       "\n",
       "    .. versionadded:: 1.11.0\n",
       "\n",
       "Returns\n",
       "-------\n",
       "out : int or ndarray of ints\n",
       "    `size`-shaped array of random integers from the appropriate\n",
       "    distribution, or a single such random int if `size` not provided.\n",
       "\n",
       "See Also\n",
       "--------\n",
       "random_integers : similar to `randint`, only for the closed\n",
       "    interval [`low`, `high`], and 1 is the lowest value if `high` is\n",
       "    omitted.\n",
       "Generator.integers: which should be used for new code.\n",
       "\n",
       "Examples\n",
       "--------\n",
       ">>> np.random.randint(2, size=10)\n",
       "array([1, 0, 0, 0, 1, 1, 0, 0, 1, 0]) # random\n",
       ">>> np.random.randint(1, size=10)\n",
       "array([0, 0, 0, 0, 0, 0, 0, 0, 0, 0])\n",
       "\n",
       "Generate a 2 x 4 array of ints between 0 and 4, inclusive:\n",
       "\n",
       ">>> np.random.randint(5, size=(2, 4))\n",
       "array([[4, 0, 2, 1], # random\n",
       "       [3, 2, 2, 0]])\n",
       "\n",
       "Generate a 1 x 3 array with 3 different upper bounds\n",
       "\n",
       ">>> np.random.randint(1, [3, 5, 10])\n",
       "array([2, 2, 9]) # random\n",
       "\n",
       "Generate a 1 by 3 array with 3 different lower bounds\n",
       "\n",
       ">>> np.random.randint([1, 5, 7], 10)\n",
       "array([9, 8, 7]) # random\n",
       "\n",
       "Generate a 2 by 4 array using broadcasting with dtype of uint8\n",
       "\n",
       ">>> np.random.randint([1, 3, 5, 7], [[10], [20]], dtype=np.uint8)\n",
       "array([[ 8,  6,  9,  7], # random\n",
       "       [ 1, 16,  9, 12]], dtype=uint8)\n",
       "\u001b[1;31mType:\u001b[0m      builtin_function_or_method\n"
      ]
     },
     "metadata": {},
     "output_type": "display_data"
    }
   ],
   "source": [
    "np.random.randint?"
   ]
  },
  {
   "cell_type": "code",
   "execution_count": 436,
   "id": "650bd03c-17c0-47ac-948c-16c0110d5a4c",
   "metadata": {},
   "outputs": [
    {
     "data": {
      "text/plain": [
       "['BitGenerator',\n",
       " 'Generator',\n",
       " 'MT19937',\n",
       " 'PCG64',\n",
       " 'Philox',\n",
       " 'RandomState',\n",
       " 'SFC64',\n",
       " 'SeedSequence',\n",
       " '__RandomState_ctor',\n",
       " '__all__',\n",
       " '__builtins__',\n",
       " '__cached__',\n",
       " '__doc__',\n",
       " '__file__',\n",
       " '__loader__',\n",
       " '__name__',\n",
       " '__package__',\n",
       " '__path__',\n",
       " '__spec__',\n",
       " '_bounded_integers',\n",
       " '_common',\n",
       " '_generator',\n",
       " '_mt19937',\n",
       " '_pcg64',\n",
       " '_philox',\n",
       " '_pickle',\n",
       " '_sfc64',\n",
       " 'beta',\n",
       " 'binomial',\n",
       " 'bit_generator',\n",
       " 'bytes',\n",
       " 'chisquare',\n",
       " 'choice',\n",
       " 'default_rng',\n",
       " 'dirichlet',\n",
       " 'exponential',\n",
       " 'f',\n",
       " 'gamma',\n",
       " 'geometric',\n",
       " 'get_state',\n",
       " 'gumbel',\n",
       " 'hypergeometric',\n",
       " 'laplace',\n",
       " 'logistic',\n",
       " 'lognormal',\n",
       " 'logseries',\n",
       " 'mtrand',\n",
       " 'multinomial',\n",
       " 'multivariate_normal',\n",
       " 'negative_binomial',\n",
       " 'noncentral_chisquare',\n",
       " 'noncentral_f',\n",
       " 'normal',\n",
       " 'pareto',\n",
       " 'permutation',\n",
       " 'poisson',\n",
       " 'power',\n",
       " 'rand',\n",
       " 'randint',\n",
       " 'randn',\n",
       " 'random',\n",
       " 'random_integers',\n",
       " 'random_sample',\n",
       " 'ranf',\n",
       " 'rayleigh',\n",
       " 'sample',\n",
       " 'seed',\n",
       " 'set_state',\n",
       " 'shuffle',\n",
       " 'standard_cauchy',\n",
       " 'standard_exponential',\n",
       " 'standard_gamma',\n",
       " 'standard_normal',\n",
       " 'standard_t',\n",
       " 'test',\n",
       " 'triangular',\n",
       " 'uniform',\n",
       " 'vonmises',\n",
       " 'wald',\n",
       " 'weibull',\n",
       " 'zipf']"
      ]
     },
     "execution_count": 436,
     "metadata": {},
     "output_type": "execute_result"
    }
   ],
   "source": [
    "dir(np.random)"
   ]
  },
  {
   "cell_type": "code",
   "execution_count": 438,
   "id": "7e4ee221-b993-485c-8d1c-a18a2c4fe980",
   "metadata": {},
   "outputs": [
    {
     "data": {
      "text/plain": [
       "\u001b[1;31mDocstring:\u001b[0m\n",
       "zipf(a, size=None)\n",
       "\n",
       "Draw samples from a Zipf distribution.\n",
       "\n",
       "Samples are drawn from a Zipf distribution with specified parameter\n",
       "`a` > 1.\n",
       "\n",
       "The Zipf distribution (also known as the zeta distribution) is a\n",
       "continuous probability distribution that satisfies Zipf's law: the\n",
       "frequency of an item is inversely proportional to its rank in a\n",
       "frequency table.\n",
       "\n",
       ".. note::\n",
       "    New code should use the ``zipf`` method of a ``default_rng()``\n",
       "    instance instead; please see the :ref:`random-quick-start`.\n",
       "\n",
       "Parameters\n",
       "----------\n",
       "a : float or array_like of floats\n",
       "    Distribution parameter. Must be greater than 1.\n",
       "size : int or tuple of ints, optional\n",
       "    Output shape.  If the given shape is, e.g., ``(m, n, k)``, then\n",
       "    ``m * n * k`` samples are drawn.  If size is ``None`` (default),\n",
       "    a single value is returned if ``a`` is a scalar. Otherwise,\n",
       "    ``np.array(a).size`` samples are drawn.\n",
       "\n",
       "Returns\n",
       "-------\n",
       "out : ndarray or scalar\n",
       "    Drawn samples from the parameterized Zipf distribution.\n",
       "\n",
       "See Also\n",
       "--------\n",
       "scipy.stats.zipf : probability density function, distribution, or\n",
       "    cumulative density function, etc.\n",
       "Generator.zipf: which should be used for new code.\n",
       "\n",
       "Notes\n",
       "-----\n",
       "The probability density for the Zipf distribution is\n",
       "\n",
       ".. math:: p(x) = \\frac{x^{-a}}{\\zeta(a)},\n",
       "\n",
       "where :math:`\\zeta` is the Riemann Zeta function.\n",
       "\n",
       "It is named for the American linguist George Kingsley Zipf, who noted\n",
       "that the frequency of any word in a sample of a language is inversely\n",
       "proportional to its rank in the frequency table.\n",
       "\n",
       "References\n",
       "----------\n",
       ".. [1] Zipf, G. K., \"Selected Studies of the Principle of Relative\n",
       "       Frequency in Language,\" Cambridge, MA: Harvard Univ. Press,\n",
       "       1932.\n",
       "\n",
       "Examples\n",
       "--------\n",
       "Draw samples from the distribution:\n",
       "\n",
       ">>> a = 2. # parameter\n",
       ">>> s = np.random.zipf(a, 1000)\n",
       "\n",
       "Display the histogram of the samples, along with\n",
       "the probability density function:\n",
       "\n",
       ">>> import matplotlib.pyplot as plt\n",
       ">>> from scipy import special  # doctest: +SKIP\n",
       "\n",
       "Truncate s values at 50 so plot is interesting:\n",
       "\n",
       ">>> count, bins, ignored = plt.hist(s[s<50], 50, density=True)\n",
       ">>> x = np.arange(1., 50.)\n",
       ">>> y = x**(-a) / special.zetac(a)  # doctest: +SKIP\n",
       ">>> plt.plot(x, y/max(y), linewidth=2, color='r')  # doctest: +SKIP\n",
       ">>> plt.show()\n",
       "\u001b[1;31mType:\u001b[0m      builtin_function_or_method\n"
      ]
     },
     "metadata": {},
     "output_type": "display_data"
    }
   ],
   "source": [
    "np.random.zipf?"
   ]
  },
  {
   "cell_type": "code",
   "execution_count": null,
   "id": "77ab0b83-c502-4500-aaa4-cf7bc724a0d9",
   "metadata": {},
   "outputs": [],
   "source": []
  }
 ],
 "metadata": {
  "kernelspec": {
   "display_name": "Python 3",
   "language": "python",
   "name": "python3"
  },
  "language_info": {
   "codemirror_mode": {
    "name": "ipython",
    "version": 3
   },
   "file_extension": ".py",
   "mimetype": "text/x-python",
   "name": "python",
   "nbconvert_exporter": "python",
   "pygments_lexer": "ipython3",
   "version": "3.8.8"
  }
 },
 "nbformat": 4,
 "nbformat_minor": 5
}
