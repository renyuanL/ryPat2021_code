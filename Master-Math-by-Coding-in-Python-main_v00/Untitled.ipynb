{
 "cells": [
  {
   "cell_type": "code",
   "execution_count": 1,
   "id": "9f265c4c-a543-4fdf-923a-33c375457992",
   "metadata": {},
   "outputs": [],
   "source": [
    "import sympy as sm\n",
    "import matplotlib.pyplot as pl\n",
    "import numpy as np\n",
    "from IPython.display import display, Math\n"
   ]
  },
  {
   "cell_type": "code",
   "execution_count": 10,
   "id": "11f8b39f-4008-4ea7-93e9-e8a8007fd57f",
   "metadata": {},
   "outputs": [],
   "source": [
    "x,y,z= sm.symbols('x,y,z')\n",
    "f= sm.Function('f')"
   ]
  },
  {
   "cell_type": "code",
   "execution_count": 17,
   "id": "e347cd2e-038c-43b7-9a2d-f6f47848066c",
   "metadata": {},
   "outputs": [
    {
     "data": {
      "text/latex": [
       "$\\displaystyle f{\\left(x,y,z \\right)}$"
      ],
      "text/plain": [
       "f(x, y, z)"
      ]
     },
     "execution_count": 17,
     "metadata": {},
     "output_type": "execute_result"
    }
   ],
   "source": [
    "q= f(x,y,z)\n",
    "q"
   ]
  },
  {
   "cell_type": "code",
   "execution_count": 31,
   "id": "f275f489-59a7-42f9-bc92-241ed99bd81a",
   "metadata": {},
   "outputs": [
    {
     "data": {
      "text/latex": [
       "$\\displaystyle \\frac{d}{d x} f{\\left(x \\right)} \\frac{d}{d f{\\left(x \\right)}} f{\\left(f{\\left(x \\right)} \\right)} \\frac{d}{d f{\\left(f{\\left(x \\right)} \\right)}} f{\\left(f{\\left(f{\\left(x \\right)} \\right)} \\right)}$"
      ],
      "text/plain": [
       "Derivative(f(x), x)*Derivative(f(f(x)), f(x))*Derivative(f(f(f(x))), f(f(x)))"
      ]
     },
     "execution_count": 31,
     "metadata": {},
     "output_type": "execute_result"
    }
   ],
   "source": [
    "f(f(f(x))).diff(x)"
   ]
  },
  {
   "cell_type": "code",
   "execution_count": 32,
   "id": "101db629-db2a-4db2-82e5-f53216d2669e",
   "metadata": {},
   "outputs": [
    {
     "data": {
      "text/latex": [
       "$\\displaystyle f{\\left(x \\right)}$"
      ],
      "text/plain": [
       "f(x)"
      ]
     },
     "execution_count": 32,
     "metadata": {},
     "output_type": "execute_result"
    }
   ],
   "source": [
    "f(x)"
   ]
  },
  {
   "cell_type": "code",
   "execution_count": 33,
   "id": "68ddcc9f-6a56-404f-a8e1-a1fccd0446e7",
   "metadata": {},
   "outputs": [
    {
     "data": {
      "text/latex": [
       "$\\displaystyle f{\\left(x \\right)}$"
      ],
      "text/plain": [
       "f(x)"
      ]
     },
     "execution_count": 33,
     "metadata": {},
     "output_type": "execute_result"
    }
   ],
   "source": [
    "s= f(x)\n",
    "s"
   ]
  },
  {
   "cell_type": "code",
   "execution_count": 34,
   "id": "3e429092-b9a0-4a86-b0fd-fe00df17e902",
   "metadata": {},
   "outputs": [
    {
     "data": {
      "text/latex": [
       "$\\displaystyle f{\\left(f{\\left(x \\right)} \\right)}$"
      ],
      "text/plain": [
       "f(f(x))"
      ]
     },
     "execution_count": 34,
     "metadata": {},
     "output_type": "execute_result"
    }
   ],
   "source": [
    "t= f(s)\n",
    "t"
   ]
  },
  {
   "cell_type": "code",
   "execution_count": 35,
   "id": "3f73c455-da79-49db-841a-c00d81583ebf",
   "metadata": {},
   "outputs": [],
   "source": [
    "u= f(t)"
   ]
  },
  {
   "cell_type": "code",
   "execution_count": 36,
   "id": "68abaf45-1bb0-4bd9-8255-bd7622b0fa2e",
   "metadata": {},
   "outputs": [
    {
     "data": {
      "text/plain": [
       "(f(x), f(f(x)), f(f(f(x))))"
      ]
     },
     "execution_count": 36,
     "metadata": {},
     "output_type": "execute_result"
    }
   ],
   "source": [
    "s, t, u\n"
   ]
  },
  {
   "cell_type": "code",
   "execution_count": 54,
   "id": "9413589e-97c3-4c94-b56d-528d06946a82",
   "metadata": {},
   "outputs": [
    {
     "data": {
      "text/latex": [
       "$\\displaystyle \\left(x + y\\right)^{3}$"
      ],
      "text/plain": [
       "(x + y)**3"
      ]
     },
     "execution_count": 54,
     "metadata": {},
     "output_type": "execute_result"
    }
   ],
   "source": [
    "class F(sm.Function):\n",
    "    @classmethod\n",
    "    def eval(cls, x,y):\n",
    "        z= (x+y)**3\n",
    "        return z\n",
    "\n",
    "qF= F(x,y)\n",
    "qF"
   ]
  },
  {
   "cell_type": "code",
   "execution_count": 55,
   "id": "74681835-ed97-4037-83cd-8e3087887a56",
   "metadata": {},
   "outputs": [
    {
     "data": {
      "text/latex": [
       "$\\displaystyle \\left(x + y\\right)^{2}$"
      ],
      "text/plain": [
       "(x + y)**2"
      ]
     },
     "execution_count": 55,
     "metadata": {},
     "output_type": "execute_result"
    }
   ],
   "source": [
    "def f(x,y):\n",
    "    z= (x+y)**2\n",
    "    return z\n",
    "qf= f(x,y)\n",
    "qf"
   ]
  },
  {
   "cell_type": "code",
   "execution_count": 58,
   "id": "c6eed742-f4e6-420a-af59-7f4bb2e568dd",
   "metadata": {},
   "outputs": [
    {
     "data": {
      "text/plain": [
       "sympy.core.power.Pow"
      ]
     },
     "execution_count": 58,
     "metadata": {},
     "output_type": "execute_result"
    }
   ],
   "source": [
    "type(qf)"
   ]
  },
  {
   "cell_type": "code",
   "execution_count": 59,
   "id": "533d12b5-20f9-4bd7-a98d-cd6e753c2fa9",
   "metadata": {},
   "outputs": [
    {
     "data": {
      "text/plain": [
       "sympy.core.power.Pow"
      ]
     },
     "execution_count": 59,
     "metadata": {},
     "output_type": "execute_result"
    }
   ],
   "source": [
    "type(qF)"
   ]
  },
  {
   "cell_type": "code",
   "execution_count": 60,
   "id": "a1cd053e-a361-450b-ac28-119232fadc3b",
   "metadata": {},
   "outputs": [
    {
     "data": {
      "text/plain": [
       "<function __main__.f(x, y)>"
      ]
     },
     "execution_count": 60,
     "metadata": {},
     "output_type": "execute_result"
    }
   ],
   "source": [
    "f"
   ]
  },
  {
   "cell_type": "code",
   "execution_count": 61,
   "id": "bcb2adca-81fb-4cd7-bea5-0f13715535cf",
   "metadata": {},
   "outputs": [
    {
     "data": {
      "text/plain": [
       "F"
      ]
     },
     "execution_count": 61,
     "metadata": {},
     "output_type": "execute_result"
    }
   ],
   "source": [
    "F"
   ]
  },
  {
   "cell_type": "code",
   "execution_count": 63,
   "id": "87158d4e-eb13-4829-92a0-68482ac230d2",
   "metadata": {},
   "outputs": [
    {
     "data": {
      "text/latex": [
       "$\\displaystyle \\left(x + y\\right)^{3}$"
      ],
      "text/plain": [
       "(x + y)**3"
      ]
     },
     "execution_count": 63,
     "metadata": {},
     "output_type": "execute_result"
    }
   ],
   "source": [
    "F(x,y)"
   ]
  },
  {
   "cell_type": "code",
   "execution_count": 71,
   "id": "09c992af-1d46-4c74-990b-a34061163f2b",
   "metadata": {},
   "outputs": [
    {
     "data": {
      "text/latex": [
       "$\\displaystyle \\frac{d}{d x} \\sin{\\left(x \\right)}$"
      ],
      "text/plain": [
       "Derivative(sin(x), x)"
      ]
     },
     "execution_count": 71,
     "metadata": {},
     "output_type": "execute_result"
    }
   ],
   "source": [
    "g= sm.Function('sin')\n",
    "g(x).diff(x)"
   ]
  },
  {
   "cell_type": "code",
   "execution_count": 72,
   "id": "bf8ef942-940a-485f-87ec-142313890147",
   "metadata": {},
   "outputs": [
    {
     "data": {
      "text/latex": [
       "$\\displaystyle \\int\\limits_{0}^{1} \\sin{\\left(x \\right)}\\, dx$"
      ],
      "text/plain": [
       "Integral(sin(x), (x, 0, 1))"
      ]
     },
     "execution_count": 72,
     "metadata": {},
     "output_type": "execute_result"
    }
   ],
   "source": [
    "g(x).integrate((x,0,1))"
   ]
  },
  {
   "cell_type": "code",
   "execution_count": 69,
   "id": "86ff0213-6e1c-4e9d-9de0-d1b8a8d83cad",
   "metadata": {},
   "outputs": [
    {
     "name": "stdout",
     "output_type": "stream",
     "text": [
      "\\int g{\\left(x \\right)}\\, dx\n"
     ]
    }
   ],
   "source": [
    "print(sm.latex(g(x).integrate(x)))"
   ]
  },
  {
   "cell_type": "markdown",
   "id": "160dfbb8-c03d-4e35-a1df-7e2b2c750003",
   "metadata": {},
   "source": [
    "$$\n",
    "\\int g{\\left(x \\right)}\\, dx\n",
    "$$"
   ]
  },
  {
   "cell_type": "code",
   "execution_count": 73,
   "id": "b7f937de-7bc6-4d26-b1b4-912ef39dd99f",
   "metadata": {},
   "outputs": [
    {
     "data": {
      "text/latex": [
       "$\\displaystyle \\sin{\\left(x \\right)}$"
      ],
      "text/plain": [
       "sin(x)"
      ]
     },
     "execution_count": 73,
     "metadata": {},
     "output_type": "execute_result"
    }
   ],
   "source": [
    "sm.sin(x)"
   ]
  },
  {
   "cell_type": "code",
   "execution_count": 78,
   "id": "73dfdd65-0010-4565-af6f-93c59689aeeb",
   "metadata": {},
   "outputs": [
    {
     "data": {
      "text/latex": [
       "$\\displaystyle \\operatorname{Poly}{\\left( 2 x + 1, x, domain=\\mathbb{Z} \\right)}$"
      ],
      "text/plain": [
       "Poly(2*x + 1, x, domain='ZZ')"
      ]
     },
     "execution_count": 78,
     "metadata": {},
     "output_type": "execute_result"
    }
   ],
   "source": []
  },
  {
   "cell_type": "code",
   "execution_count": 111,
   "id": "53e2443a-7438-4817-9556-5e4736e7afa6",
   "metadata": {},
   "outputs": [
    {
     "data": {
      "text/latex": [
       "$\\displaystyle 2^{x} + x^{2} + x + 1$"
      ],
      "text/plain": [
       "2**x + x**2 + x + 1"
      ]
     },
     "metadata": {},
     "output_type": "display_data"
    },
    {
     "data": {
      "text/latex": [
       "$\\displaystyle 2^{x} \\log{\\left(2 \\right)} + 2 x + 1$"
      ],
      "text/plain": [
       "2**x*log(2) + 2*x + 1"
      ]
     },
     "metadata": {},
     "output_type": "display_data"
    },
    {
     "data": {
      "text/latex": [
       "$\\displaystyle \\frac{1}{\\log{\\left(2 \\right)}} + \\frac{11}{6}$"
      ],
      "text/plain": [
       "1/log(2) + 11/6"
      ]
     },
     "metadata": {},
     "output_type": "display_data"
    },
    {
     "data": {
      "text/plain": [
       "3.276028374222297"
      ]
     },
     "metadata": {},
     "output_type": "display_data"
    },
    {
     "data": {
      "text/latex": [
       "$\\displaystyle f{\\left(x \\right)}$"
      ],
      "text/plain": [
       "f(x)"
      ]
     },
     "metadata": {},
     "output_type": "display_data"
    },
    {
     "data": {
      "text/latex": [
       "$\\displaystyle \\frac{d}{d x} f{\\left(x \\right)}$"
      ],
      "text/plain": [
       "Derivative(f(x), x)"
      ]
     },
     "metadata": {},
     "output_type": "display_data"
    },
    {
     "data": {
      "text/latex": [
       "$\\displaystyle \\int\\limits_{0}^{1} f{\\left(x \\right)}\\, dx$"
      ],
      "text/plain": [
       "Integral(f(x), (x, 0, 1))"
      ]
     },
     "metadata": {},
     "output_type": "display_data"
    }
   ],
   "source": [
    "x= sm.symbols('x')\n",
    "\n",
    "def f(x):\n",
    "    y= 1 + x + x**2 + 2**x\n",
    "    return y\n",
    "\n",
    "display(f(x))\n",
    "display(f(x).diff(x))\n",
    "display(f(x).integrate((x,0,1)))\n",
    "display(float(f(x).integrate((x,0,1))))\n",
    "\n",
    "p= sm.Function(f.__name__)\n",
    "display(p(x))\n",
    "display(p(x).diff(x))\n",
    "display(p(x).integrate((x,0,1)))\n"
   ]
  },
  {
   "cell_type": "code",
   "execution_count": 122,
   "id": "ca92fce5-0f9e-4248-b662-7d444706f1bf",
   "metadata": {},
   "outputs": [
    {
     "name": "stdout",
     "output_type": "stream",
     "text": [
      "\n",
      "2**x + x**2 + x + 1\n",
      "2**x*log(2) + 2*x + 1\n",
      "1/log(2) + 11/6\n",
      "3.276028374222297\n",
      "\n",
      "f(x)\n",
      "Derivative(f(x), x)\n",
      "Integral(f(x), (x, 0, 1))\n",
      "\n"
     ]
    }
   ],
   "source": [
    "s= f'''\n",
    "{f(x)}\n",
    "{f(x).diff(x)}\n",
    "{f(x).integrate((x,0,1))}\n",
    "{float(f(x).integrate((x,0,1)))}\n",
    "\n",
    "{p(x)}\n",
    "{p(x).diff(x)}\n",
    "{p(x).integrate((x,0,1))}\n",
    "'''\n",
    "\n",
    "print(s)"
   ]
  },
  {
   "cell_type": "code",
   "execution_count": 165,
   "id": "8a414626-79bd-48e8-a8c7-92df1558fa6c",
   "metadata": {},
   "outputs": [],
   "source": [
    "import seaborn as sb\n",
    "sb.set_style()"
   ]
  },
  {
   "cell_type": "code",
   "execution_count": 166,
   "id": "d14a02db-4ade-466b-8fbd-65704d21123c",
   "metadata": {},
   "outputs": [
    {
     "data": {
      "image/png": "[encoded data removed]",
      "text/plain": [
       "<Figure size 432x288 with 1 Axes>"
      ]
     },
     "metadata": {},
     "output_type": "display_data"
    },
    {
     "data": {
      "text/latex": [
       "$\\displaystyle \n",
       "f{\\left(x \\right)} = x e^{- x} \\sin{\\left(x \\right)}\n",
       "\\\\\n",
       "\\frac{d}{d x} f{\\left(x \\right)} = - x e^{- x} \\sin{\\left(x \\right)} + x e^{- x} \\cos{\\left(x \\right)} + e^{- x} \\sin{\\left(x \\right)}\n",
       "\\\\\n",
       "\\int\\limits_{0}^{10} f{\\left(x \\right)}\\, dx\n",
       "=- \\frac{x e^{- x} \\sin{\\left(x \\right)}}{2} - \\frac{x e^{- x} \\cos{\\left(x \\right)}}{2} - \\frac{e^{- x} \\cos{\\left(x \\right)}}{2}\n",
       "=- \\frac{5 \\sin{\\left(10 \\right)}}{e^{10}} - \\frac{11 \\cos{\\left(10 \\right)}}{2 e^{10}} + \\frac{1}{2}\n",
       "=0.50033300843779\n",
       "\\\\\n",
       "$"
      ],
      "text/plain": [
       "<IPython.core.display.Math object>"
      ]
     },
     "execution_count": 166,
     "metadata": {},
     "output_type": "execute_result"
    }
   ],
   "source": [
    "\n",
    "x= sm.symbols('x')\n",
    "\n",
    "def f(x):\n",
    "    #y= 1 + x + x**2 + 2**x\n",
    "    y= x *sm.sin(x) *sm.exp(-x)\n",
    "    \n",
    "    return y\n",
    "\n",
    "sm.plotting.plot(f(x), \n",
    "                 (x,0,10))\n",
    "\n",
    "p= sm.Function(f.__name__)\n",
    "\n",
    "L= sm.latex\n",
    "\n",
    "s= f'''\n",
    "{L(p(x))} = {L(f(x))}\n",
    "\\\\\\\\\n",
    "{L(p(x).diff(x))} = {L(f(x).diff(x))}\n",
    "\\\\\\\\\n",
    "{L(p(x).integrate((x,0,10)))}\n",
    "={L(f(x).integrate(x))}\n",
    "={L(f(x).integrate((x,0,10)))}\n",
    "={L(float(f(x).integrate((x,0,10))))}\n",
    "\\\\\\\\\n",
    "'''\n",
    "\n",
    "Math(s)"
   ]
  },
  {
   "cell_type": "code",
   "execution_count": 167,
   "id": "4df8b79b-5b1a-4935-81ae-5a775d6ccc9d",
   "metadata": {},
   "outputs": [
    {
     "data": {
      "text/plain": [
       "[0, pi]"
      ]
     },
     "execution_count": 167,
     "metadata": {},
     "output_type": "execute_result"
    }
   ],
   "source": [
    "\n",
    "sm.solve(f(x),x)"
   ]
  },
  {
   "cell_type": "code",
   "execution_count": 168,
   "id": "c877af5c-f79b-4fe7-8f21-e120f8c394fe",
   "metadata": {},
   "outputs": [
    {
     "data": {
      "text/latex": [
       "$\\displaystyle 0$"
      ],
      "text/plain": [
       "0"
      ]
     },
     "execution_count": 168,
     "metadata": {},
     "output_type": "execute_result"
    }
   ],
   "source": [
    "f(0)"
   ]
  },
  {
   "cell_type": "code",
   "execution_count": 175,
   "id": "3a03a0c8-179c-4a8e-b273-c2d44712b516",
   "metadata": {},
   "outputs": [
    {
     "data": {
      "text/plain": [
       "0.0"
      ]
     },
     "execution_count": 175,
     "metadata": {},
     "output_type": "execute_result"
    }
   ],
   "source": [
    "float(f(sm.pi))"
   ]
  },
  {
   "cell_type": "code",
   "execution_count": 201,
   "id": "3232a466-6683-42f4-9bf4-18ffd01f2149",
   "metadata": {},
   "outputs": [
    {
     "data": {
      "image/png": "[encoded data removed]",
      "text/plain": [
       "<Figure size 432x288 with 1 Axes>"
      ]
     },
     "metadata": {},
     "output_type": "display_data"
    },
    {
     "data": {
      "image/png": "[encoded data removed]",
      "text/plain": [
       "<Figure size 432x288 with 1 Axes>"
      ]
     },
     "metadata": {},
     "output_type": "display_data"
    },
    {
     "data": {
      "text/plain": [
       "<sympy.plotting.plot.Plot at 0x1f104929940>"
      ]
     },
     "execution_count": 201,
     "metadata": {},
     "output_type": "execute_result"
    }
   ],
   "source": [
    "sm.plotting.plot(f(x), (x,0,10))\n",
    "sm.plotting.plot(f(x), (x,5,5))"
   ]
  },
  {
   "cell_type": "code",
   "execution_count": 188,
   "id": "c3687128-336b-4eca-b20b-923773e2a292",
   "metadata": {},
   "outputs": [],
   "source": [
    "#sm.plotting.plot?"
   ]
  },
  {
   "cell_type": "code",
   "execution_count": null,
   "id": "fdc5c5c9-e3af-41eb-8697-49be68d53f5e",
   "metadata": {},
   "outputs": [],
   "source": []
  }
 ],
 "metadata": {
  "kernelspec": {
   "display_name": "Python 3",
   "language": "python",
   "name": "python3"
  },
  "language_info": {
   "codemirror_mode": {
    "name": "ipython",
    "version": 3
   },
   "file_extension": ".py",
   "mimetype": "text/x-python",
   "name": "python",
   "nbconvert_exporter": "python",
   "pygments_lexer": "ipython3",
   "version": "3.8.8"
  }
 },
 "nbformat": 4,
 "nbformat_minor": 5
}
