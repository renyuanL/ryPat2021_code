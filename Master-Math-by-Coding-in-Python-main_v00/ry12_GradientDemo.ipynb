{
 "cells": [
  {
   "cell_type": "code",
   "execution_count": 1,
   "id": "b0b4adb9-7eac-4c96-974a-a762c0d6c111",
   "metadata": {},
   "outputs": [
    {
     "name": "stdout",
     "output_type": "stream",
     "text": [
      "z= x**2 + y**2\n",
      "dz_dx= 2*x\n",
      "dz_dy= 2*y\n"
     ]
    },
    {
     "data": {
      "text/latex": [
       "$\\displaystyle x^{2} + y^{2}$"
      ],
      "text/plain": [
       "x**2 + y**2"
      ]
     },
     "metadata": {},
     "output_type": "display_data"
    },
    {
     "data": {
      "text/latex": [
       "$\\displaystyle 2 x$"
      ],
      "text/plain": [
       "2*x"
      ]
     },
     "metadata": {},
     "output_type": "display_data"
    },
    {
     "data": {
      "text/latex": [
       "$\\displaystyle 2 y$"
      ],
      "text/plain": [
       "2*y"
      ]
     },
     "metadata": {},
     "output_type": "display_data"
    }
   ],
   "source": [
    "import numpy as np\n",
    "import matplotlib.pyplot as pl\n",
    "import sympy as sm\n",
    "\n",
    "from IPython.display import display\n",
    "\n",
    "%matplotlib qt\n",
    "\n",
    "def ryGradient_demo(z=None):\n",
    "    '''\n",
    "    input: z= f(x,y)\n",
    "    '''\n",
    "    x,y= sm.symbols('x,y')\n",
    "\n",
    "    if z == None:\n",
    "        z= x**2 +y**2\n",
    "        #z= x*(x-10)*(x+10) +y*(y-10)*(y+10)\n",
    "        #z= sm.sin(x)/x+sm.sin(y)/y\n",
    "\n",
    "    dz_dx= z.diff(x)\n",
    "    dz_dy= z.diff(y)\n",
    "\n",
    "    print(f'z= {z}')\n",
    "    print(f'dz_dx= {dz_dx}')\n",
    "    print(f'dz_dy= {dz_dy}')\n",
    "    \n",
    "    display(z)\n",
    "    display(dz_dx)\n",
    "    display(dz_dy)\n",
    "\n",
    "\n",
    "    ϵ= 0.2\n",
    "\n",
    "    xrange= np.arange(-10, 10+ϵ, ϵ)\n",
    "    yrange= np.arange(-10, 10+ϵ, ϵ)\n",
    "\n",
    "    xm, ym= np.meshgrid(xrange,yrange)\n",
    "    zm= sm.lambdify((x,y),z)(xm,ym)\n",
    "\n",
    "    fg= pl.figure()\n",
    "    ax= pl.axes(projection='3d', \n",
    "                xlabel= 'x', \n",
    "                ylabel= 'y', \n",
    "                #title=  f'z= {z}'\n",
    "                title= f'z= ${sm.latex(z)}$'\n",
    "               )\n",
    "\n",
    "    ax.contour3D(xm, ym, zm, 100, cmap='rainbow')\n",
    "\n",
    "    #--------------------------------\n",
    "    '''\n",
    "    ax.plot_surface(xm,ym,zm, \n",
    "                    #rstride= 1, \n",
    "                    #cstride= 1,\n",
    "                    cmap=     'rainbow', #'viridis', #'rainbow',  \n",
    "                    edgecolor='none'\n",
    "                   )\n",
    "    '''\n",
    "\n",
    "    #-------------------------------------------\n",
    "    downSampleFactor= 5\n",
    "    x0, y0, z0= np.meshgrid(\n",
    "        xrange[::downSampleFactor],\n",
    "        yrange[::downSampleFactor],\n",
    "        np.linspace(np.min(zm), np.min(zm)+1, 1)\n",
    "        )\n",
    "\n",
    "    #dz_dx= 2*x0\n",
    "    #dz_dy= 2*y0\n",
    "\n",
    "    dz_dx_m= sm.lambdify((x,y),dz_dx)(x0,y0)\n",
    "    dz_dy_m= sm.lambdify((x,y),dz_dy)(x0,y0)\n",
    "\n",
    "    u= dz_dx_m\n",
    "    v= dz_dy_m\n",
    "    w= np.zeros_like(x0)\n",
    "    ax.quiver(x0, y0, z0, \n",
    "              u, v, w, \n",
    "              length= 1/np.max([u,v]), \n",
    "              color = 'gray')\n",
    "\n",
    "ryGradient_demo()\n"
   ]
  },
  {
   "cell_type": "code",
   "execution_count": 3,
   "id": "1b833cb9-ae50-4290-910d-710fee828645",
   "metadata": {},
   "outputs": [
    {
     "name": "stdout",
     "output_type": "stream",
     "text": [
      "z= x*y**2\n",
      "dz_dx= y**2\n",
      "dz_dy= 2*x*y\n"
     ]
    },
    {
     "data": {
      "image/png": "[encoded data removed]",
      "text/latex": [
       "$\\displaystyle x y^{2}$"
      ],
      "text/plain": [
       "   2\n",
       "x⋅y "
      ]
     },
     "metadata": {},
     "output_type": "display_data"
    },
    {
     "data": {
      "image/png": "[encoded data removed]",
      "text/latex": [
       "$\\displaystyle y^{2}$"
      ],
      "text/plain": [
       " 2\n",
       "y "
      ]
     },
     "metadata": {},
     "output_type": "display_data"
    },
    {
     "data": {
      "image/png": "[encoded data removed]",
      "text/latex": [
       "$\\displaystyle 2 x y$"
      ],
      "text/plain": [
       "2⋅x⋅y"
      ]
     },
     "metadata": {},
     "output_type": "display_data"
    }
   ],
   "source": [
    "from ryPat import *\n",
    "ryGradient_demo(x*y**2)\n"
   ]
  },
  {
   "cell_type": "code",
   "execution_count": 4,
   "id": "f5fe54c4-6ce2-45f1-b602-f3e8e208c864",
   "metadata": {},
   "outputs": [
    {
     "name": "stdout",
     "output_type": "stream",
     "text": [
      "z= exp(-x**2 - y**2) + exp(-(x - 10)**2 - (y - 10)**2) + exp(-(x - 5)**2 - (y - 5)**2) + exp(-(x - 4)**2 - (y + 8)**2) + exp(-(x - 2)**2 - (y - 2)**2) + exp(-(x - 2)**2 - (y + 2)**2) + exp(-(x - 1)**2 - (y - 1)**2) + exp(-(x + 3)**2 - (y - 3)**2) + exp(-(x + 8)**2 - (y - 8)**2) + exp(-(x + 8)**2 - (y + 4)**2) + exp(-(x + 10)**2 - (y + 10)**2)\n",
      "dz_dx= -2*x*exp(-x**2 - y**2) + (2 - 2*x)*exp(-(x - 1)**2 - (y - 1)**2) + (4 - 2*x)*exp(-(x - 2)**2 - (y - 2)**2) + (4 - 2*x)*exp(-(x - 2)**2 - (y + 2)**2) + (8 - 2*x)*exp(-(x - 4)**2 - (y + 8)**2) + (10 - 2*x)*exp(-(x - 5)**2 - (y - 5)**2) + (20 - 2*x)*exp(-(x - 10)**2 - (y - 10)**2) + (-2*x - 20)*exp(-(x + 10)**2 - (y + 10)**2) + (-2*x - 16)*exp(-(x + 8)**2 - (y - 8)**2) + (-2*x - 16)*exp(-(x + 8)**2 - (y + 4)**2) + (-2*x - 6)*exp(-(x + 3)**2 - (y - 3)**2)\n",
      "dz_dy= -2*y*exp(-x**2 - y**2) + (2 - 2*y)*exp(-(x - 1)**2 - (y - 1)**2) + (4 - 2*y)*exp(-(x - 2)**2 - (y - 2)**2) + (6 - 2*y)*exp(-(x + 3)**2 - (y - 3)**2) + (10 - 2*y)*exp(-(x - 5)**2 - (y - 5)**2) + (16 - 2*y)*exp(-(x + 8)**2 - (y - 8)**2) + (20 - 2*y)*exp(-(x - 10)**2 - (y - 10)**2) + (-2*y - 20)*exp(-(x + 10)**2 - (y + 10)**2) + (-2*y - 16)*exp(-(x - 4)**2 - (y + 8)**2) + (-2*y - 8)*exp(-(x + 8)**2 - (y + 4)**2) + (-2*y - 4)*exp(-(x - 2)**2 - (y + 2)**2)\n"
     ]
    },
    {
     "data": {
      "image/png": "[encoded data removed]",
      "text/latex": [
       "$\\displaystyle e^{- x^{2} - y^{2}} + e^{- \\left(x - 10\\right)^{2} - \\left(y - 10\\right)^{2}} + e^{- \\left(x - 5\\right)^{2} - \\left(y - 5\\right)^{2}} + e^{- \\left(x - 4\\right)^{2} - \\left(y + 8\\right)^{2}} + e^{- \\left(x - 2\\right)^{2} - \\left(y - 2\\right)^{2}} + e^{- \\left(x - 2\\right)^{2} - \\left(y + 2\\right)^{2}} + e^{- \\left(x - 1\\right)^{2} - \\left(y - 1\\right)^{2}} + e^{- \\left(x + 3\\right)^{2} - \\left(y - 3\\right)^{2}} + e^{- \\left(x + 8\\right)^{2} - \\left(y - 8\\right)^{2}} + e^{- \\left(x + 8\\right)^{2} - \\left(y + 4\\right)^{2}} + e^{- \\left(x + 10\\right)^{2} - \\left(y + 10\\right)^{2}}$"
      ],
      "text/plain": [
       "    2    2              2           2             2          2             2  \n",
       " - x  - y     - (x - 10)  - (y - 10)     - (x - 5)  - (y - 5)     - (x - 4)  -\n",
       "ℯ          + ℯ                        + ℯ                      + ℯ            \n",
       "\n",
       "        2             2          2             2          2             2     \n",
       " (y + 8)     - (x - 2)  - (y - 2)     - (x - 2)  - (y + 2)     - (x - 1)  - (y\n",
       "          + ℯ                      + ℯ                      + ℯ               \n",
       "\n",
       "     2             2          2             2          2             2        \n",
       " - 1)     - (x + 3)  - (y - 3)     - (x + 8)  - (y - 8)     - (x + 8)  - (y + \n",
       "       + ℯ                      + ℯ                      + ℯ                  \n",
       "\n",
       "  2              2           2\n",
       "4)     - (x + 10)  - (y + 10) \n",
       "    + ℯ                       "
      ]
     },
     "metadata": {},
     "output_type": "display_data"
    },
    {
     "data": {
      "image/png": "[encoded data removed]",
      "text/latex": [
       "$\\displaystyle - 2 x e^{- x^{2} - y^{2}} + \\left(2 - 2 x\\right) e^{- \\left(x - 1\\right)^{2} - \\left(y - 1\\right)^{2}} + \\left(4 - 2 x\\right) e^{- \\left(x - 2\\right)^{2} - \\left(y - 2\\right)^{2}} + \\left(4 - 2 x\\right) e^{- \\left(x - 2\\right)^{2} - \\left(y + 2\\right)^{2}} + \\left(8 - 2 x\\right) e^{- \\left(x - 4\\right)^{2} - \\left(y + 8\\right)^{2}} + \\left(10 - 2 x\\right) e^{- \\left(x - 5\\right)^{2} - \\left(y - 5\\right)^{2}} + \\left(20 - 2 x\\right) e^{- \\left(x - 10\\right)^{2} - \\left(y - 10\\right)^{2}} + \\left(- 2 x - 20\\right) e^{- \\left(x + 10\\right)^{2} - \\left(y + 10\\right)^{2}} + \\left(- 2 x - 16\\right) e^{- \\left(x + 8\\right)^{2} - \\left(y - 8\\right)^{2}} + \\left(- 2 x - 16\\right) e^{- \\left(x + 8\\right)^{2} - \\left(y + 4\\right)^{2}} + \\left(- 2 x - 6\\right) e^{- \\left(x + 3\\right)^{2} - \\left(y - 3\\right)^{2}}$"
      ],
      "text/plain": [
       "          2    2                       2          2                       2   \n",
       "       - x  - y               - (x - 1)  - (y - 1)               - (x - 2)  - \n",
       "- 2⋅x⋅ℯ          + (2 - 2⋅x)⋅ℯ                      + (4 - 2⋅x)⋅ℯ             \n",
       "\n",
       "       2                       2          2                       2          2\n",
       "(y - 2)               - (x - 2)  - (y + 2)               - (x - 4)  - (y + 8) \n",
       "         + (4 - 2⋅x)⋅ℯ                      + (8 - 2⋅x)⋅ℯ                     \n",
       "\n",
       "                        2          2                         2           2    \n",
       "               - (x - 5)  - (y - 5)                - (x - 10)  - (y - 10)     \n",
       " + (10 - 2⋅x)⋅ℯ                      + (20 - 2⋅x)⋅ℯ                        + (\n",
       "\n",
       "                      2           2                         2          2      \n",
       "            - (x + 10)  - (y + 10)                 - (x + 8)  - (y - 8)       \n",
       "-2⋅x - 20)⋅ℯ                        + (-2⋅x - 16)⋅ℯ                      + (-2\n",
       "\n",
       "                   2          2                        2          2\n",
       "          - (x + 8)  - (y + 4)                - (x + 3)  - (y - 3) \n",
       "⋅x - 16)⋅ℯ                      + (-2⋅x - 6)⋅ℯ                     "
      ]
     },
     "metadata": {},
     "output_type": "display_data"
    },
    {
     "data": {
      "image/png": "[encoded data removed]",
      "text/latex": [
       "$\\displaystyle - 2 y e^{- x^{2} - y^{2}} + \\left(2 - 2 y\\right) e^{- \\left(x - 1\\right)^{2} - \\left(y - 1\\right)^{2}} + \\left(4 - 2 y\\right) e^{- \\left(x - 2\\right)^{2} - \\left(y - 2\\right)^{2}} + \\left(6 - 2 y\\right) e^{- \\left(x + 3\\right)^{2} - \\left(y - 3\\right)^{2}} + \\left(10 - 2 y\\right) e^{- \\left(x - 5\\right)^{2} - \\left(y - 5\\right)^{2}} + \\left(16 - 2 y\\right) e^{- \\left(x + 8\\right)^{2} - \\left(y - 8\\right)^{2}} + \\left(20 - 2 y\\right) e^{- \\left(x - 10\\right)^{2} - \\left(y - 10\\right)^{2}} + \\left(- 2 y - 20\\right) e^{- \\left(x + 10\\right)^{2} - \\left(y + 10\\right)^{2}} + \\left(- 2 y - 16\\right) e^{- \\left(x - 4\\right)^{2} - \\left(y + 8\\right)^{2}} + \\left(- 2 y - 8\\right) e^{- \\left(x + 8\\right)^{2} - \\left(y + 4\\right)^{2}} + \\left(- 2 y - 4\\right) e^{- \\left(x - 2\\right)^{2} - \\left(y + 2\\right)^{2}}$"
      ],
      "text/plain": [
       "          2    2                       2          2                       2   \n",
       "       - x  - y               - (x - 1)  - (y - 1)               - (x - 2)  - \n",
       "- 2⋅y⋅ℯ          + (2 - 2⋅y)⋅ℯ                      + (4 - 2⋅y)⋅ℯ             \n",
       "\n",
       "       2                       2          2                        2          \n",
       "(y - 2)               - (x + 3)  - (y - 3)                - (x - 5)  - (y - 5)\n",
       "         + (6 - 2⋅y)⋅ℯ                      + (10 - 2⋅y)⋅ℯ                    \n",
       "\n",
       "2                        2          2                         2           2   \n",
       "                - (x + 8)  - (y - 8)                - (x - 10)  - (y - 10)    \n",
       "  + (16 - 2⋅y)⋅ℯ                      + (20 - 2⋅y)⋅ℯ                        + \n",
       "\n",
       "                       2           2                         2          2     \n",
       "             - (x + 10)  - (y + 10)                 - (x - 4)  - (y + 8)      \n",
       "(-2⋅y - 20)⋅ℯ                        + (-2⋅y - 16)⋅ℯ                      + (-\n",
       "\n",
       "                   2          2                        2          2\n",
       "          - (x + 8)  - (y + 4)                - (x - 2)  - (y + 2) \n",
       "2⋅y - 8)⋅ℯ                      + (-2⋅y - 4)⋅ℯ                     "
      ]
     },
     "metadata": {},
     "output_type": "display_data"
    }
   ],
   "source": [
    "def f(x,y):\n",
    "    z= sm.exp(-(x**2+y**2))\n",
    "    return z\n",
    "\n",
    "x,y= sm.symbols('x,y')\n",
    "\n",
    "centerList= [(0,0),\n",
    "             (1,1),\n",
    "             (2,2),\n",
    "             (5,5),\n",
    "             (-3,3),\n",
    "             (-8,8),\n",
    "             (2,-2),\n",
    "             (4,-8),\n",
    "             (-8,-4),\n",
    "             (-10,-10),\n",
    "             (10,10)]\n",
    "\n",
    "z= 0\n",
    "for x0,y0 in centerList:\n",
    "    z += f(x-x0, y-y0)\n",
    "\n",
    "ryGradient_demo(z)"
   ]
  },
  {
   "cell_type": "code",
   "execution_count": null,
   "id": "907835f0-8e83-4ccd-b146-97e2e46872cc",
   "metadata": {},
   "outputs": [],
   "source": [
    "import ryPat"
   ]
  },
  {
   "cell_type": "code",
   "execution_count": null,
   "id": "92a3994e-14e6-4720-ad87-2a6eff0531c2",
   "metadata": {},
   "outputs": [],
   "source": [
    "ryPat.ryGradient_demo()"
   ]
  },
  {
   "cell_type": "code",
   "execution_count": null,
   "id": "f97498b3-bea0-48dd-a0b2-651640238cc6",
   "metadata": {},
   "outputs": [],
   "source": [
    "import ryPat"
   ]
  },
  {
   "cell_type": "code",
   "execution_count": null,
   "id": "e12b8244-bee7-47b2-a1db-52a2fa8140c6",
   "metadata": {},
   "outputs": [],
   "source": []
  },
  {
   "cell_type": "code",
   "execution_count": null,
   "id": "4539369e-7cca-4f23-b799-3e2507bad1b5",
   "metadata": {},
   "outputs": [],
   "source": []
  }
 ],
 "metadata": {
  "kernelspec": {
   "display_name": "Python 3",
   "language": "python",
   "name": "python3"
  },
  "language_info": {
   "codemirror_mode": {
    "name": "ipython",
    "version": 3
   },
   "file_extension": ".py",
   "mimetype": "text/x-python",
   "name": "python",
   "nbconvert_exporter": "python",
   "pygments_lexer": "ipython3",
   "version": "3.8.8"
  }
 },
 "nbformat": 4,
 "nbformat_minor": 5
}
