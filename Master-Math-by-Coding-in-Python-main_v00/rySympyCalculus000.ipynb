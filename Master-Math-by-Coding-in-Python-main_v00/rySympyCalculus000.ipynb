{
 "cells": [
  {
   "cell_type": "code",
   "execution_count": 665,
   "id": "620f61ab-b58e-4622-98a7-844ee0a86a40",
   "metadata": {},
   "outputs": [],
   "source": [
    "# import the sympy package\n",
    "import sympy as sym\n",
    "\n",
    "# optional setup for \"fancy\" printing (used later)\n",
    "# sym.init_printing()\n",
    "\n",
    "# import additional functions for nice printing\n",
    "from IPython.display import display, Math\n",
    "\n",
    "import sympy as sym\n",
    "import matplotlib.pyplot as pl\n",
    "import numpy as np\n",
    "from scipy.signal import find_peaks\n",
    "from IPython.display import display,Math\n",
    "\n"
   ]
  },
  {
   "cell_type": "code",
   "execution_count": 151,
   "id": "db963071-3ec1-4944-b231-96132d859846",
   "metadata": {},
   "outputs": [
    {
     "data": {
      "text/plain": [
       "'\\n\\\\lim_{ x \\\\to 1.5 }\\n【x^{3}】\\n=\\n3.375\\n'"
      ]
     },
     "execution_count": 151,
     "metadata": {},
     "output_type": "execute_result"
    }
   ],
   "source": [
    "x = sym.symbols('x')\n",
    "\n",
    "# the function\n",
    "def f(x):\n",
    "    y= x**3\n",
    "    return y\n",
    "\n",
    "# limit\n",
    "x0= 1.5\n",
    "x=  sym.symbols('x')\n",
    "\n",
    "limF= sym.limit(f(x), x, x0)\n",
    "\n",
    "latexF= sym.latex(f(x))\n",
    "\n",
    "sF= f'''\n",
    "\\\\lim_{{ x \\\\to {x0} }}\n",
    "【{latexF}】\n",
    "=\n",
    "{limF:.3f}\n",
    "'''\n",
    "\n",
    "sF"
   ]
  },
  {
   "cell_type": "code",
   "execution_count": 152,
   "id": "56ddbfd6-4784-4fe8-a755-9929bf725db9",
   "metadata": {},
   "outputs": [
    {
     "data": {
      "text/latex": [
       "$\\displaystyle \n",
       "\\lim_{ x \\to 1.5 }\n",
       "【x^{3}】\n",
       "=\n",
       "3.375\n",
       "$"
      ],
      "text/plain": [
       "<IPython.core.display.Math object>"
      ]
     },
     "execution_count": 152,
     "metadata": {},
     "output_type": "execute_result"
    }
   ],
   "source": [
    "Math(sF)"
   ]
  },
  {
   "cell_type": "markdown",
   "id": "f64e40a4-f061-43a7-8f3f-c4bf2859d006",
   "metadata": {},
   "source": [
    "# in markdown language \n",
    "\n",
    "\\lim_{ x \\to 1.5 }【x^{3}】= 3.375\n",
    "\n",
    "$$\n",
    "\\lim_{ x \\to 1.5 }【x^{3}】= 3.375\n",
    "$$\n"
   ]
  },
  {
   "cell_type": "code",
   "execution_count": null,
   "id": "7f42ec7e-abea-44bc-9491-f20bc2cc68e5",
   "metadata": {},
   "outputs": [],
   "source": []
  },
  {
   "cell_type": "code",
   "execution_count": 174,
   "id": "8c28c8c2-0d6d-4871-8aa0-91b71e333054",
   "metadata": {},
   "outputs": [
    {
     "data": {
      "image/png": "[encoded data removed]",
      "text/plain": [
       "<Figure size 432x288 with 1 Axes>"
      ]
     },
     "metadata": {
      "needs_background": "light"
     },
     "output_type": "display_data"
    }
   ],
   "source": [
    "# evaluate the function in a range\n",
    "xx=  np.linspace(-5, 5, 101)\n",
    "\n",
    "#fxx= sym.lambdify(x, fx) # a function for evaluating a sympy function\n",
    "\n",
    "# show it in a plot\n",
    "plt.plot(xx,f(xx))\n",
    "plt.grid()"
   ]
  },
  {
   "cell_type": "code",
   "execution_count": 173,
   "id": "7328d081-c63a-4e9a-a442-192a9afd09ea",
   "metadata": {},
   "outputs": [
    {
     "data": {
      "image/png": "[encoded data removed]",
      "text/plain": [
       "<Figure size 432x288 with 1 Axes>"
      ]
     },
     "metadata": {
      "needs_background": "light"
     },
     "output_type": "display_data"
    }
   ],
   "source": [
    "# make the plot look a bit nicer\n",
    "plt.plot(xx, f(xx))\n",
    "\n",
    "plt.plot(x0, limF,'ro')\n",
    "plt.text(x0, limF,f'({x0}, {limF:.3f})')\n",
    "\n",
    "plt.xlim([1,2])\n",
    "plt.ylim([2,5])\n",
    "\n",
    "plt.xlabel('x')\n",
    "\n",
    "plt.ylabel(f'f(x)= ${latexF}$')\n",
    "\n",
    "plt.grid()\n",
    "plt.show()"
   ]
  },
  {
   "cell_type": "code",
   "execution_count": null,
   "id": "b6950d89-0b62-4d1f-b877-cae72ef34d4d",
   "metadata": {},
   "outputs": [],
   "source": []
  },
  {
   "cell_type": "code",
   "execution_count": 186,
   "id": "b068d2ff-e473-4ae6-b84c-18d19dcb3991",
   "metadata": {},
   "outputs": [
    {
     "data": {
      "text/plain": [
       "'\\n\\\\lim_{ x \\\\to 2^+} \\n\\\\frac{x^{2}}{x - 2} \\n= \\noo \\n'"
      ]
     },
     "execution_count": 186,
     "metadata": {},
     "output_type": "execute_result"
    }
   ],
   "source": [
    "# the function\n",
    "#fx = (x**2)/(x-2)\n",
    "#fxx = sym.lambdify(x,fx) # a function for evaluating a sympy function\n",
    "\n",
    "def f(x):\n",
    "    y= (x**2) / (x-2)\n",
    "    return y\n",
    "\n",
    "# limit\n",
    "\n",
    "x=    sym.symbols('x')\n",
    "x0=   2\n",
    "limF= sym.limit(f(x), \n",
    "                x, \n",
    "                x0, \n",
    "                dir= '+')\n",
    "\n",
    "latexF= sym.latex(f(x))\n",
    "\n",
    "sF= f'''\n",
    "\\\\lim_{{ x \\\\to {x0}^+}} \n",
    "{latexF} \n",
    "= \n",
    "{limF} \n",
    "'''\n",
    "sF"
   ]
  },
  {
   "cell_type": "code",
   "execution_count": 187,
   "id": "a69d10bf-9f47-4107-bf99-832bb870a625",
   "metadata": {},
   "outputs": [
    {
     "data": {
      "text/latex": [
       "$\\displaystyle \n",
       "\\lim_{ x \\to 2^+} \n",
       "\\frac{x^{2}}{x - 2} \n",
       "= \n",
       "oo \n",
       "$"
      ],
      "text/plain": [
       "<IPython.core.display.Math object>"
      ]
     },
     "execution_count": 187,
     "metadata": {},
     "output_type": "execute_result"
    }
   ],
   "source": [
    "Math(sF)"
   ]
  },
  {
   "cell_type": "markdown",
   "id": "74f0a7b7-6bcb-45a6-bd93-eb264f8a3814",
   "metadata": {},
   "source": [
    "# in markdown \n",
    "\n",
    "$$\n",
    "\\lim_{ x \\to 2^+} \\frac{x^2}{x - 2} = \\infty \n",
    "$$"
   ]
  },
  {
   "cell_type": "code",
   "execution_count": 183,
   "id": "58a94ddf-231a-4f00-bd20-27724ad76c5e",
   "metadata": {},
   "outputs": [
    {
     "data": {
      "image/png": "[encoded data removed]",
      "text/plain": [
       "<Figure size 432x288 with 1 Axes>"
      ]
     },
     "metadata": {
      "needs_background": "light"
     },
     "output_type": "display_data"
    }
   ],
   "source": [
    "\n",
    "# show it in a plot\n",
    "\n",
    "xx= np.linspace(1,3,100)\n",
    "plt.plot(xx, f(xx))\n",
    "\n",
    "# make the plot look a bit nicer\n",
    "plt.plot(x0, limF, 'ro')\n",
    "plt.xlim([1,3])\n",
    "plt.xlabel('x')\n",
    "plt.ylabel(f'f(x) = ${latexF}$')\n",
    "\n",
    "plt.grid()\n",
    "plt.show()"
   ]
  },
  {
   "cell_type": "markdown",
   "id": "be045b1f-fdbe-4954-bf36-059938245230",
   "metadata": {},
   "source": [
    "# Exercise\n"
   ]
  },
  {
   "cell_type": "code",
   "execution_count": 11,
   "id": "506cd9d8-0e50-42ea-974d-d39711956974",
   "metadata": {},
   "outputs": [],
   "source": [
    "'''\n",
    "fx = sym.sqrt(x+1)*sym.exp(-x)\n",
    "gx = sym.cos(x + sym.sin(x))\n",
    "\n",
    "## start by plotting the functions\n",
    "fxx = sym.lambdify(x,fx)\n",
    "gxx = sym.lambdify(x,gx)\n",
    "'''\n",
    "\n",
    "\n",
    "def f(x):\n",
    "    y= sym.sqrt(x+1) * sym.exp(-x)\n",
    "    return y\n",
    "\n",
    "def g(x):\n",
    "    y= sym.cos(x + sym.sin(x))\n",
    "    return y\n",
    "\n",
    "f_np= sym.lambdify(x, f(x)) #, 'numpy')\n",
    "g_np= sym.lambdify(x, g(x)) #, 'numpy')\n",
    "\n",
    "x=  sym.symbols('x')\n",
    "xx= np.linspace(0,10,100)\n"
   ]
  },
  {
   "cell_type": "code",
   "execution_count": null,
   "id": "fac31f64-ab82-4979-b970-acf59410f58a",
   "metadata": {},
   "outputs": [],
   "source": []
  },
  {
   "cell_type": "code",
   "execution_count": null,
   "id": "70e0d89e-aaa2-49bf-8687-89364b886c40",
   "metadata": {},
   "outputs": [],
   "source": []
  },
  {
   "cell_type": "code",
   "execution_count": 12,
   "id": "72b8c5c5-4937-459b-95ae-c4362a0b0523",
   "metadata": {},
   "outputs": [
    {
     "data": {
      "image/png": "[encoded data removed]",
      "text/plain": [
       "<Figure size 432x288 with 1 Axes>"
      ]
     },
     "metadata": {
      "needs_background": "light"
     },
     "output_type": "display_data"
    }
   ],
   "source": [
    "# show it in a plot\n",
    "plt.plot(xx, f_np(xx), label= 'f(x)')\n",
    "plt.plot(xx, g_np(xx), label= 'g(x)')\n",
    "plt.xlabel('x')\n",
    "plt.legend()\n",
    "plt.grid()"
   ]
  },
  {
   "cell_type": "code",
   "execution_count": 13,
   "id": "82ecc421-8c14-4d6a-b668-01ad4b68d567",
   "metadata": {},
   "outputs": [
    {
     "data": {
      "text/latex": [
       "$\\displaystyle \n",
       "\\frac\n",
       "{ \\lim_{x \\to 5 } f(x) }\n",
       "{ \\lim_{x \\to 5 } g(x) }\n",
       "=\n",
       "\\frac\n",
       "{ sqrt(6)*exp(-5) }\n",
       "{ cos(sin(5) + 5) }\n",
       "=\n",
       "\\frac\n",
       "{ 0.01650 }\n",
       "{ -0.62201 }\n",
       "=\n",
       "{ -0.02653 }\n",
       "$"
      ],
      "text/plain": [
       "<IPython.core.display.Math object>"
      ]
     },
     "execution_count": 13,
     "metadata": {},
     "output_type": "execute_result"
    }
   ],
   "source": [
    "# compute the limits separately at x=5\n",
    "\n",
    "x0= 5\n",
    "limF= sym.limit(f(x), x, x0)\n",
    "limG= sym.limit(g(x), x, x0)\n",
    "\n",
    "sF= f'''\n",
    "\\\\frac\n",
    "{{ \\\\lim_{{x \\\\to {x0} }} f(x) }}\n",
    "{{ \\\\lim_{{x \\\\to {x0} }} g(x) }}\n",
    "=\n",
    "\\\\frac\n",
    "{{ {limF} }}\n",
    "{{ {limG} }}\n",
    "=\n",
    "\\\\frac\n",
    "{{ {float(limF):.5f} }}\n",
    "{{ {float(limG):.5f} }}\n",
    "=\n",
    "{{ {float(limF/limG):.5f} }}\n",
    "'''\n",
    "\n",
    "Math(sF)"
   ]
  },
  {
   "cell_type": "code",
   "execution_count": 14,
   "id": "de12b6a6-0efa-450f-80f6-630604b82346",
   "metadata": {},
   "outputs": [
    {
     "data": {
      "text/latex": [
       "$\\displaystyle \n",
       "\\frac\n",
       "{ \\lim_{x \\to 5 } f(x) }\n",
       "{ \\lim_{x \\to 5 } g(x) }\n",
       "=\n",
       "$"
      ],
      "text/plain": [
       "<IPython.core.display.Math object>"
      ]
     },
     "metadata": {},
     "output_type": "display_data"
    },
    {
     "data": {
      "text/latex": [
       "$\\displaystyle \n",
       "\\frac\n",
       "{ sqrt(6)*exp(-5) }\n",
       "{ cos(sin(5) + 5) }\n",
       "=\n",
       "$"
      ],
      "text/plain": [
       "<IPython.core.display.Math object>"
      ]
     },
     "metadata": {},
     "output_type": "display_data"
    },
    {
     "data": {
      "text/latex": [
       "$\\displaystyle \n",
       "\\frac\n",
       "{ 0.01650 }\n",
       "{ -0.62201 }\n",
       "=\n",
       "$"
      ],
      "text/plain": [
       "<IPython.core.display.Math object>"
      ]
     },
     "metadata": {},
     "output_type": "display_data"
    },
    {
     "data": {
      "text/latex": [
       "$\\displaystyle \n",
       "{ -0.02653 }\n",
       "$"
      ],
      "text/plain": [
       "<IPython.core.display.Math object>"
      ]
     },
     "metadata": {},
     "output_type": "display_data"
    }
   ],
   "source": [
    "sF0= f'''\n",
    "\\\\frac\n",
    "{{ \\\\lim_{{x \\\\to {x0} }} f(x) }}\n",
    "{{ \\\\lim_{{x \\\\to {x0} }} g(x) }}\n",
    "=\n",
    "'''\n",
    "\n",
    "sF1= f'''\n",
    "\\\\frac\n",
    "{{ {limF} }}\n",
    "{{ {limG} }}\n",
    "=\n",
    "'''\n",
    "\n",
    "sF2= f'''\n",
    "\\\\frac\n",
    "{{ {float(limF):.5f} }}\n",
    "{{ {float(limG):.5f} }}\n",
    "=\n",
    "'''\n",
    "\n",
    "sF3= f'''\n",
    "{{ {float(limF/limG):.5f} }}\n",
    "'''\n",
    "\n",
    "display(Math(sF0))\n",
    "display(Math(sF1))\n",
    "display(Math(sF2))\n",
    "display(Math(sF3))"
   ]
  },
  {
   "cell_type": "markdown",
   "id": "7468b1fc-6929-4d77-8446-7cbe7a57e120",
   "metadata": {},
   "source": [
    "# VIDEO: Piece-wise functions\n"
   ]
  },
  {
   "cell_type": "code",
   "execution_count": 15,
   "id": "0bc11309-8b3a-4b28-98d8-30a73a6416f5",
   "metadata": {},
   "outputs": [
    {
     "data": {
      "text/latex": [
       "$\\displaystyle x$"
      ],
      "text/plain": [
       "x"
      ]
     },
     "execution_count": 15,
     "metadata": {},
     "output_type": "execute_result"
    }
   ],
   "source": [
    "# list function pieces\n",
    "\n",
    "from sympy.abc import x\n",
    "x"
   ]
  },
  {
   "cell_type": "code",
   "execution_count": 8,
   "id": "33385856-369a-486d-acc4-9f3b0fbca20b",
   "metadata": {},
   "outputs": [
    {
     "data": {
      "text/latex": [
       "$\\displaystyle \\begin{cases} 0 & \\text{for}\\: x < 0 \\\\- 2 x & \\text{for}\\: x < 3 \\\\\\frac{x^{3}}{10} & \\text{otherwise} \\end{cases}$"
      ],
      "text/plain": [
       "Piecewise((0, x < 0), (-2*x, x < 3), (x**3/10, True))"
      ]
     },
     "execution_count": 8,
     "metadata": {},
     "output_type": "execute_result"
    }
   ],
   "source": [
    "x= sym.symbols('x')\n",
    "\n",
    "f1= 0\n",
    "f2= -2*x\n",
    "f3= x**3/10\n",
    "\n",
    "# put them together with conditions\n",
    "fx= sym.Piecewise( \n",
    "    (f1, x < 0),\n",
    "    (f2, (x>=0) & (x<3)),\n",
    "    (f3, x>=3) )\n",
    "fx"
   ]
  },
  {
   "cell_type": "code",
   "execution_count": null,
   "id": "5bc483cd-65bf-4f46-9e8e-48d75d18f799",
   "metadata": {},
   "outputs": [],
   "source": []
  },
  {
   "cell_type": "code",
   "execution_count": 17,
   "id": "7cbac24d-8857-40f3-a831-80c95a769fa1",
   "metadata": {},
   "outputs": [
    {
     "data": {
      "text/plain": [
       "<function _lambdifygenerated(x)>"
      ]
     },
     "execution_count": 17,
     "metadata": {},
     "output_type": "execute_result"
    }
   ],
   "source": [
    "# evaluate the function in a range\n",
    "fxx= sym.lambdify(x, fx)\n",
    "fxx\n",
    "\n",
    "f_np= sym.lambdify(x, fx, 'numpy')\n",
    "f_np"
   ]
  },
  {
   "cell_type": "code",
   "execution_count": 24,
   "id": "0a944899-338a-4852-9b3e-bd78e0db16d2",
   "metadata": {},
   "outputs": [
    {
     "data": {
      "image/png": "[encoded data removed]",
      "text/plain": [
       "<Figure size 432x288 with 1 Axes>"
      ]
     },
     "metadata": {
      "needs_background": "light"
     },
     "output_type": "display_data"
    },
    {
     "data": {
      "text/latex": [
       "$\\displaystyle \\begin{cases} 0 & \\text{for}\\: x < 0 \\\\- 2 x & \\text{for}\\: x < 3 \\\\\\frac{x^{3}}{10} & \\text{otherwise} \\end{cases}$"
      ],
      "text/plain": [
       "<IPython.core.display.Math object>"
      ]
     },
     "execution_count": 24,
     "metadata": {},
     "output_type": "execute_result"
    }
   ],
   "source": [
    "xx=  np.linspace(-3, 5, 1000)\n",
    "yy= f_np(xx)\n",
    "\n",
    "# show it in a plot\n",
    "plt.plot(xx, yy, 'k')\n",
    "\n",
    "# make the plot look a bit nicer\n",
    "plt.xlabel('x')\n",
    "\n",
    "plt.ylabel('f(x)')\n",
    "\n",
    "latexF= sym.latex(fx)\n",
    "\n",
    "plt.title(f'{latexF}')\n",
    "\n",
    "plt.grid()\n",
    "plt.show()\n",
    "\n",
    "Math(latexF)"
   ]
  },
  {
   "cell_type": "code",
   "execution_count": 25,
   "id": "6fe2951a-e00e-4993-8b43-bd14707c23c8",
   "metadata": {},
   "outputs": [
    {
     "data": {
      "text/plain": [
       "'\\\\begin{cases} 0 & \\\\text{for}\\\\: x < 0 \\\\\\\\- 2 x & \\\\text{for}\\\\: x < 3 \\\\\\\\\\\\frac{x^{3}}{10} & \\\\text{otherwise} \\\\end{cases}'"
      ]
     },
     "execution_count": 25,
     "metadata": {},
     "output_type": "execute_result"
    }
   ],
   "source": [
    "latexF"
   ]
  },
  {
   "cell_type": "markdown",
   "id": "94525bbc-3583-4da4-a6b1-3415f24c527f",
   "metadata": {},
   "source": [
    "$\n",
    "\\begin{cases} \n",
    "0 & \\text{for}\\: x < 0     \n",
    "\\\\\n",
    "- 2 x & \\text{for}\\: x < 3 \n",
    "\\\\\n",
    "\\frac{x^{3}}{10} & \\text{otherwise} \n",
    "\\end{cases}\n",
    "$\n",
    "\n"
   ]
  },
  {
   "cell_type": "code",
   "execution_count": 45,
   "id": "65ad5ce0-c3f4-4d2b-8241-bc3fd3d7d0cd",
   "metadata": {},
   "outputs": [
    {
     "data": {
      "text/latex": [
       "$\\displaystyle e^{- x^{2}}$"
      ],
      "text/plain": [
       "exp(-x**2)"
      ]
     },
     "execution_count": 45,
     "metadata": {},
     "output_type": "execute_result"
    }
   ],
   "source": [
    "def f(x):\n",
    "    #y= sym.cos(x) * sym.exp(-x)\n",
    "    y= sym.exp(-x**2)\n",
    "    return y\n",
    "\n",
    "x, y, z= sym.symbols('x, y, z')\n",
    "f(x)"
   ]
  },
  {
   "cell_type": "code",
   "execution_count": 48,
   "id": "885aee9e-2d12-446e-98cf-84c36507a890",
   "metadata": {},
   "outputs": [],
   "source": [
    "ts= np.linspace(-3, 3,101)\n",
    "fs= sym.lambdify(z, f(z))"
   ]
  },
  {
   "cell_type": "code",
   "execution_count": 257,
   "id": "102d9b72-386e-48d6-a908-f19095399dc5",
   "metadata": {},
   "outputs": [
    {
     "ename": "NameError",
     "evalue": "name 'ts' is not defined",
     "output_type": "error",
     "traceback": [
      "\u001b[1;31m---------------------------------------------------------------------------\u001b[0m",
      "\u001b[1;31mNameError\u001b[0m                                 Traceback (most recent call last)",
      "\u001b[1;32m<ipython-input-257-d3a4e579ef7f>\u001b[0m in \u001b[0;36m<module>\u001b[1;34m\u001b[0m\n\u001b[0;32m      1\u001b[0m \u001b[1;32mimport\u001b[0m \u001b[0mmatplotlib\u001b[0m\u001b[1;33m.\u001b[0m\u001b[0mpyplot\u001b[0m \u001b[1;32mas\u001b[0m \u001b[0mpl\u001b[0m\u001b[1;33m\u001b[0m\u001b[1;33m\u001b[0m\u001b[0m\n\u001b[1;32m----> 2\u001b[1;33m \u001b[0mpl\u001b[0m\u001b[1;33m.\u001b[0m\u001b[0mplot\u001b[0m\u001b[1;33m(\u001b[0m\u001b[0mts\u001b[0m\u001b[1;33m,\u001b[0m \u001b[0mfs\u001b[0m\u001b[1;33m(\u001b[0m\u001b[0mts\u001b[0m\u001b[1;33m)\u001b[0m\u001b[1;33m)\u001b[0m\u001b[1;33m\u001b[0m\u001b[1;33m\u001b[0m\u001b[0m\n\u001b[0m\u001b[0;32m      3\u001b[0m \u001b[0mpl\u001b[0m\u001b[1;33m.\u001b[0m\u001b[0mgrid\u001b[0m\u001b[1;33m(\u001b[0m\u001b[1;33m)\u001b[0m\u001b[1;33m\u001b[0m\u001b[1;33m\u001b[0m\u001b[0m\n",
      "\u001b[1;31mNameError\u001b[0m: name 'ts' is not defined"
     ]
    }
   ],
   "source": [
    "import matplotlib.pyplot as pl\n",
    "pl.plot(ts, fs(ts))\n",
    "pl.grid()"
   ]
  },
  {
   "cell_type": "code",
   "execution_count": 50,
   "id": "efc76570-d0a8-4c17-bce1-fe4df47d7356",
   "metadata": {},
   "outputs": [
    {
     "data": {
      "image/png": "[encoded data removed]",
      "text/plain": [
       "<Figure size 432x288 with 1 Axes>"
      ]
     },
     "metadata": {
      "needs_background": "light"
     },
     "output_type": "display_data"
    }
   ],
   "source": [
    "g= f(x).diff(x)\n",
    "\n",
    "fs= sym.lambdify(x, g)\n",
    "pl.plot(ts, fs(ts))\n",
    "pl.grid()"
   ]
  },
  {
   "cell_type": "code",
   "execution_count": 51,
   "id": "892e6e42-0418-4837-9f76-61042393cd1b",
   "metadata": {},
   "outputs": [
    {
     "data": {
      "image/png": "[encoded data removed]",
      "text/plain": [
       "<Figure size 432x288 with 1 Axes>"
      ]
     },
     "metadata": {
      "needs_background": "light"
     },
     "output_type": "display_data"
    }
   ],
   "source": [
    "g= f(x).integrate(x)\n",
    "\n",
    "fs= sym.lambdify(x, g)\n",
    "pl.plot(ts, fs(ts))\n",
    "pl.grid()"
   ]
  },
  {
   "cell_type": "code",
   "execution_count": 85,
   "id": "ecdd1ec8-e121-428b-99b0-366cbfd9d7b6",
   "metadata": {},
   "outputs": [],
   "source": [
    "def f(x):\n",
    "    y= sym.exp(-x**2)\n",
    "    #y= sym.exp(-x**2/2)/sym.sqrt(2*sym.pi)\n",
    "    return y\n",
    "\n",
    "x=  sym.symbols('x')\n",
    "ϕ=  f(x).diff(x)\n",
    "Φ=  f(x).integrate((x,-sym.oo,x))\n",
    "\n"
   ]
  },
  {
   "cell_type": "code",
   "execution_count": 86,
   "id": "fb07e39f-b851-4430-9dbf-a14954acec08",
   "metadata": {},
   "outputs": [
    {
     "data": {
      "text/latex": [
       "$\\displaystyle x$"
      ],
      "text/plain": [
       "x"
      ]
     },
     "metadata": {},
     "output_type": "display_data"
    },
    {
     "data": {
      "text/latex": [
       "$\\displaystyle e^{- x^{2}}$"
      ],
      "text/plain": [
       "exp(-x**2)"
      ]
     },
     "metadata": {},
     "output_type": "display_data"
    },
    {
     "data": {
      "text/latex": [
       "$\\displaystyle - 2 x e^{- x^{2}}$"
      ],
      "text/plain": [
       "-2*x*exp(-x**2)"
      ]
     },
     "metadata": {},
     "output_type": "display_data"
    },
    {
     "data": {
      "text/latex": [
       "$\\displaystyle \\frac{\\sqrt{\\pi} \\operatorname{erf}{\\left(x \\right)}}{2} + \\frac{\\sqrt{\\pi}}{2}$"
      ],
      "text/plain": [
       "sqrt(pi)*erf(x)/2 + sqrt(pi)/2"
      ]
     },
     "metadata": {},
     "output_type": "display_data"
    }
   ],
   "source": [
    "display(x)\n",
    "display(f(x))\n",
    "display(ϕ)\n",
    "display(Φ)"
   ]
  },
  {
   "cell_type": "code",
   "execution_count": 87,
   "id": "6de809a9-0033-4a7e-bc15-64af74dc4686",
   "metadata": {},
   "outputs": [],
   "source": [
    "xs= np.linspace(-5, 5, 101)\n",
    "xs\n",
    "\n",
    "f_np= sym.lambdify(x, f(x))\n",
    "ϕ_np= sym.lambdify(x, f(x).diff(x))\n",
    "Φ_np= sym.lambdify(x, f(x).integrate((x,-sym.oo,x)))\n"
   ]
  },
  {
   "cell_type": "code",
   "execution_count": 88,
   "id": "662e49b0-dde8-4a5a-a1fd-a9e9531fa7e7",
   "metadata": {},
   "outputs": [
    {
     "data": {
      "image/png": "[encoded data removed]",
      "text/plain": [
       "<Figure size 432x288 with 1 Axes>"
      ]
     },
     "metadata": {
      "needs_background": "light"
     },
     "output_type": "display_data"
    }
   ],
   "source": [
    "pl.plot(xs, f_np(xs), 'r')\n",
    "pl.plot(xs, ϕ_np(xs), 'g')\n",
    "pl.plot(xs, Φ_np(xs), 'b')\n",
    "pl.legend(['f','ϕ','Φ'])\n",
    "pl.grid()"
   ]
  },
  {
   "cell_type": "code",
   "execution_count": 89,
   "id": "2f17a88a-2f57-4294-9527-a4244b67b601",
   "metadata": {},
   "outputs": [
    {
     "data": {
      "text/latex": [
       "$\\displaystyle \\sqrt{\\pi}$"
      ],
      "text/plain": [
       "sqrt(pi)"
      ]
     },
     "execution_count": 89,
     "metadata": {},
     "output_type": "execute_result"
    }
   ],
   "source": [
    "f(x).integrate((x,-sym.oo, +sym.oo))"
   ]
  },
  {
   "cell_type": "code",
   "execution_count": 93,
   "id": "48e8114a-1921-469e-870e-019cbce7cc85",
   "metadata": {},
   "outputs": [
    {
     "data": {
      "text/latex": [
       "$\\displaystyle \\frac{\\sqrt{\\pi} \\operatorname{erf}{\\left(x \\right)}}{2} + \\frac{\\sqrt{\\pi}}{2}$"
      ],
      "text/plain": [
       "sqrt(pi)*erf(x)/2 + sqrt(pi)/2"
      ]
     },
     "execution_count": 93,
     "metadata": {},
     "output_type": "execute_result"
    }
   ],
   "source": [
    "x, y, t= sym.symbols('x, y, t')\n",
    "\n",
    "f(t).integrate((t,-sym.oo, x))"
   ]
  },
  {
   "cell_type": "code",
   "execution_count": 254,
   "id": "0f642625-4e04-4d1f-b830-e5e648d4c6d1",
   "metadata": {},
   "outputs": [
    {
     "data": {
      "text/latex": [
       "$\\displaystyle \\frac{\\sqrt{2} e^{- \\frac{x^{2}}{2}}}{2 \\sqrt{\\pi}}$"
      ],
      "text/plain": [
       "sqrt(2)*exp(-x**2/2)/(2*sqrt(pi))"
      ]
     },
     "metadata": {},
     "output_type": "display_data"
    },
    {
     "data": {
      "text/latex": [
       "$\\displaystyle \\frac{\\operatorname{erf}{\\left(\\frac{\\sqrt{2} x}{2} \\right)}}{2} + \\frac{1}{2}$"
      ],
      "text/plain": [
       "erf(sqrt(2)*x/2)/2 + 1/2"
      ]
     },
     "metadata": {},
     "output_type": "display_data"
    }
   ],
   "source": [
    "def f(x):\n",
    "    y= sym.exp(-x**2/2)\n",
    "    y= y/y.integrate((x,-sym.oo,+sym.oo))\n",
    "    return y\n",
    "\n",
    "def F(x):\n",
    "    t= sym.symbols('t')\n",
    "    y= f(t).integrate((t, -sym.oo, x))\n",
    "    return y\n",
    "\n",
    "x= sym.symbols('x')    \n",
    "display(f(x))\n",
    "display(F(x))"
   ]
  },
  {
   "cell_type": "code",
   "execution_count": 261,
   "id": "926e992f-9b7f-499e-924b-e0b4be99f4b2",
   "metadata": {},
   "outputs": [
    {
     "data": {
      "image/png": "[encoded data removed]",
      "text/plain": [
       "<Figure size 432x288 with 1 Axes>"
      ]
     },
     "metadata": {
      "needs_background": "light"
     },
     "output_type": "display_data"
    }
   ],
   "source": [
    "xs= np.linspace(-3,3,101)\n",
    "\n",
    "f_np= sym.lambdify(x, F(x))\n",
    "ys= f_np(xs)\n",
    "pl.plot(xs,ys)\n",
    "pl.grid()"
   ]
  },
  {
   "cell_type": "code",
   "execution_count": 266,
   "id": "91c10e9f-9cd7-4f07-a3fa-3c8bc3c80b78",
   "metadata": {},
   "outputs": [
    {
     "data": {
      "image/png": "[encoded data removed]",
      "text/plain": [
       "<Figure size 432x288 with 1 Axes>"
      ]
     },
     "metadata": {},
     "output_type": "display_data"
    }
   ],
   "source": [
    "# show it in a plot\n",
    "with pl.xkcd():\n",
    "    pl.plot(xs,f_np(xs))\n",
    "    pl.grid()\n",
    "\n"
   ]
  },
  {
   "cell_type": "code",
   "execution_count": 268,
   "id": "2f30cf7e-acfc-44d7-9772-8bdd54e448b9",
   "metadata": {},
   "outputs": [],
   "source": [
    "#pl.xkcd?"
   ]
  },
  {
   "cell_type": "markdown",
   "id": "cbd34074-a0b6-47c9-a5d2-41c65d4beb23",
   "metadata": {},
   "source": [
    "# VIDEO: Derivatives of polynomials\n"
   ]
  },
  {
   "cell_type": "code",
   "execution_count": 269,
   "id": "3e8b0fe0-22df-4e71-ae8b-7b6be3a19af9",
   "metadata": {},
   "outputs": [
    {
     "data": {
      "text/latex": [
       "$\\displaystyle f(x) = \\sqrt{x + 1} e^{- x}, \\quad \\frac{df}{dx} = - \\sqrt{x + 1} e^{- x} + \\frac{e^{- x}}{2 \\sqrt{x + 1}}$"
      ],
      "text/plain": [
       "<IPython.core.display.Math object>"
      ]
     },
     "metadata": {},
     "output_type": "display_data"
    },
    {
     "data": {
      "text/latex": [
       "$\\displaystyle f(x) = \\sqrt{x + 1} e^{- x}, \\quad f' = - \\sqrt{x + 1} e^{- x} + \\frac{e^{- x}}{2 \\sqrt{x + 1}}$"
      ],
      "text/plain": [
       "<IPython.core.display.Math object>"
      ]
     },
     "metadata": {},
     "output_type": "display_data"
    },
    {
     "data": {
      "text/latex": [
       "$\\displaystyle f(x) = \\sqrt{x + 1} e^{- x}, \\quad \\ddot{f} = \\sqrt{x + 1} e^{- x} - \\frac{e^{- x}}{\\sqrt{x + 1}} - \\frac{e^{- x}}{4 \\left(x + 1\\right)^{\\frac{3}{2}}}$"
      ],
      "text/plain": [
       "<IPython.core.display.Math object>"
      ]
     },
     "metadata": {},
     "output_type": "display_data"
    }
   ],
   "source": [
    "# Leibniz notation\n",
    "display(Math('f(x) = %s, \\\\quad \\\\frac{df}{dx} = %s' %(sym.latex(fx),sym.latex(sym.diff(fx)))))\n",
    "\n",
    "# Lagrange notation\n",
    "display(Math('f(x) = %s, \\\\quad f\\' = %s' %(sym.latex(fx),sym.latex(sym.diff(fx)))))\n",
    "\n",
    "# Newton notation\n",
    "\n",
    "display(Math('f(x) = %s, \\\\quad \\\\ddot{f} = %s' %(sym.latex(fx),sym.latex(sym.diff(sym.diff(fx))))))"
   ]
  },
  {
   "cell_type": "markdown",
   "id": "cbd9fa5b-6c61-45f7-9905-593728da590f",
   "metadata": {},
   "source": [
    "# Leibniz notation\n",
    "\n",
    "$$\n",
    "f(x) =  \\sqrt{x+1}  e^{-x}\n",
    "\\\\\n",
    "\\frac{df}{dx} = - \\sqrt{x + 1} e^{- x} + \\frac{e^{- x}}{2 \\sqrt{x + 1}}\n",
    "$$\n",
    "\n",
    "$$\n",
    "f'(x)\n",
    "$$\n",
    "\n",
    "$$\n",
    "\\dot{f}(x)\n",
    "$$"
   ]
  },
  {
   "cell_type": "code",
   "execution_count": 278,
   "id": "4b7fd89e-f992-415c-8cf6-e19ed7c556a7",
   "metadata": {},
   "outputs": [
    {
     "name": "stdout",
     "output_type": "stream",
     "text": [
      "\\frac{\\sqrt{x} e^{- x}}{\\pi}\n"
     ]
    },
    {
     "data": {
      "text/plain": [
       "'\\\\frac{\\\\sqrt{x} e^{- x}}{\\\\pi}'"
      ]
     },
     "metadata": {},
     "output_type": "display_data"
    },
    {
     "data": {
      "text/latex": [
       "$\\displaystyle \\frac{\\sqrt{x} e^{- x}}{\\pi}$"
      ],
      "text/plain": [
       "<IPython.core.display.Math object>"
      ]
     },
     "execution_count": 278,
     "metadata": {},
     "output_type": "execute_result"
    }
   ],
   "source": [
    "def f(x):\n",
    "    y= sym.sqrt(x) * sym.exp(-x) / sym.pi\n",
    "    return y\n",
    "\n",
    "x=  sym.symbols('x')\n",
    "sf= sym.latex(f(x))\n",
    "\n",
    "print(sf)\n",
    "display(sf)\n",
    "Math(sf)"
   ]
  },
  {
   "cell_type": "code",
   "execution_count": 280,
   "id": "f6b9dade-cc51-41a3-95e1-a2b375d4276c",
   "metadata": {},
   "outputs": [
    {
     "name": "stdout",
     "output_type": "stream",
     "text": [
      "$$\\frac{\\sqrt{x} e^{- x}}{\\pi}$$\n"
     ]
    }
   ],
   "source": [
    "markdownS= f'$${sf}$$'\n",
    "print(markdownS)"
   ]
  },
  {
   "cell_type": "markdown",
   "id": "d1620a01-7da8-4c1c-81e5-9e997adf6f5f",
   "metadata": {},
   "source": [
    "$$\\frac{\\sqrt{x} e^{- x}}{\\pi}$$"
   ]
  },
  {
   "cell_type": "code",
   "execution_count": 282,
   "id": "fc3d18fa-13ba-433d-a0a1-035f8c6a1422",
   "metadata": {},
   "outputs": [
    {
     "data": {
      "text/latex": [
       "$\\displaystyle n x^{n - 1}$"
      ],
      "text/plain": [
       "n*x**(n - 1)"
      ]
     },
     "execution_count": 282,
     "metadata": {},
     "output_type": "execute_result"
    }
   ],
   "source": [
    "x, n= sym.symbols('x, n')\n",
    "f= x**n\n",
    "f.diff(x).simplify()"
   ]
  },
  {
   "cell_type": "code",
   "execution_count": 283,
   "id": "a2e90cb3-0f66-48c2-9faa-4156f4398b01",
   "metadata": {},
   "outputs": [
    {
     "data": {
      "text/latex": [
       "$\\displaystyle x^{x} \\left(\\log{\\left(x \\right)} + 1\\right)$"
      ],
      "text/plain": [
       "x**x*(log(x) + 1)"
      ]
     },
     "execution_count": 283,
     "metadata": {},
     "output_type": "execute_result"
    }
   ],
   "source": [
    "f= x**x\n",
    "f.diff(x).simplify()"
   ]
  },
  {
   "cell_type": "code",
   "execution_count": 284,
   "id": "04226e4b-845c-4228-b360-bfeaddc7afd6",
   "metadata": {},
   "outputs": [
    {
     "data": {
      "text/latex": [
       "$\\displaystyle n^{x} \\log{\\left(n \\right)}$"
      ],
      "text/plain": [
       "n**x*log(n)"
      ]
     },
     "execution_count": 284,
     "metadata": {},
     "output_type": "execute_result"
    }
   ],
   "source": [
    "f= n**x\n",
    "f.diff(x).simplify()"
   ]
  },
  {
   "cell_type": "code",
   "execution_count": null,
   "id": "8d23762e-41bd-41fb-b9a2-9126900e56e9",
   "metadata": {},
   "outputs": [],
   "source": []
  },
  {
   "cell_type": "code",
   "execution_count": 290,
   "id": "64568bc3-af27-411e-97f7-2b3a4d43a547",
   "metadata": {},
   "outputs": [
    {
     "data": {
      "text/latex": [
       "$\\displaystyle \\Gamma\\left(x\\right)$"
      ],
      "text/plain": [
       "gamma(x)"
      ]
     },
     "execution_count": 290,
     "metadata": {},
     "output_type": "execute_result"
    }
   ],
   "source": [
    "f= sym.gamma(x)\n",
    "f"
   ]
  },
  {
   "cell_type": "code",
   "execution_count": 309,
   "id": "387a3f70-10e2-4c57-8029-54712bcb34cf",
   "metadata": {},
   "outputs": [
    {
     "data": {
      "text/plain": [
       "Text(0.5, 1.0, '$\\\\operatorname{erf}{\\\\left(x \\\\right)}$')"
      ]
     },
     "execution_count": 309,
     "metadata": {},
     "output_type": "execute_result"
    },
    {
     "data": {
      "image/png": "[encoded data removed]",
      "text/plain": [
       "<Figure size 432x288 with 1 Axes>"
      ]
     },
     "metadata": {
      "needs_background": "light"
     },
     "output_type": "display_data"
    }
   ],
   "source": [
    "def f(s):\n",
    "    f= sym.gamma(s)\n",
    "    f= sym.erf(s)\n",
    "    return f\n",
    "\n",
    "x=  sym.symbols('x')\n",
    "\n",
    "xs= np.linspace(-5, 5, 1001)\n",
    "\n",
    "ys= sym.lambdify(\n",
    "    x, \n",
    "    f(x)\n",
    "    )(xs)\n",
    "\n",
    "pl.plot(xs, ys)\n",
    "pl.grid()\n",
    "latexF= sym.latex(f(x))\n",
    "pl.title(f'${latexF}$')"
   ]
  },
  {
   "cell_type": "markdown",
   "id": "f6382c0f-c94e-4e46-9c22-be4294815ed6",
   "metadata": {},
   "source": [
    "# sym.erf?\n",
    "\n",
    "$\n",
    "\\mathrm{erf}(x) = \n",
    "\\frac{2}{\\sqrt{\\pi}} \n",
    "\\int_0^x e^{-t^2} \\mathrm{d}t\n",
    "$\n"
   ]
  },
  {
   "cell_type": "code",
   "execution_count": 326,
   "id": "67e7dd09-473d-40e3-b302-9acd383b1419",
   "metadata": {},
   "outputs": [
    {
     "data": {
      "image/png": "[encoded data removed]",
      "text/plain": [
       "<Figure size 432x288 with 1 Axes>"
      ]
     },
     "metadata": {
      "needs_background": "light"
     },
     "output_type": "display_data"
    },
    {
     "data": {
      "text/plain": [
       "<sympy.plotting.plot.Plot at 0x20e42a40730>"
      ]
     },
     "execution_count": 326,
     "metadata": {},
     "output_type": "execute_result"
    }
   ],
   "source": [
    "import sympy.plotting.plot as symplot\n",
    "\n",
    "f= sym.sin(x) /x\n",
    "symplot(f, (x,-10,10))\n"
   ]
  },
  {
   "cell_type": "markdown",
   "id": "97267725-2aa7-453a-836d-7d9d3ea7bd49",
   "metadata": {},
   "source": [
    "# VIDEO: Derivatives of trig functions\n",
    "$\n",
    "\\frac{d}{dx} sin(x) =  cos(x) \n",
    "$"
   ]
  },
  {
   "cell_type": "code",
   "execution_count": 329,
   "id": "2a7dc873-9835-4d6d-8fd1-360d28b8f3c6",
   "metadata": {},
   "outputs": [
    {
     "data": {
      "text/latex": [
       "$\\displaystyle \\sin{\\left(x \\right)}$"
      ],
      "text/plain": [
       "sin(x)"
      ]
     },
     "metadata": {},
     "output_type": "display_data"
    },
    {
     "data": {
      "text/latex": [
       "$\\displaystyle \\cos{\\left(x \\right)}$"
      ],
      "text/plain": [
       "cos(x)"
      ]
     },
     "metadata": {},
     "output_type": "display_data"
    }
   ],
   "source": [
    "f= sym.sin(x)\n",
    "g= f.diff(x)\n",
    "\n",
    "display(f)\n",
    "display(g)"
   ]
  },
  {
   "cell_type": "code",
   "execution_count": 333,
   "id": "df56a842-12f7-4d48-a2d6-90488fc1b2f6",
   "metadata": {},
   "outputs": [
    {
     "data": {
      "text/latex": [
       "$\\displaystyle \\frac{d}{dx}\\sin{\\left(x \\right)} = \\cos{\\left(x \\right)}$"
      ],
      "text/plain": [
       "<IPython.core.display.Math object>"
      ]
     },
     "metadata": {},
     "output_type": "display_data"
    },
    {
     "data": {
      "text/latex": [
       "$\\displaystyle \\frac{d}{dx}\\cos{\\left(x \\right)} = - \\sin{\\left(x \\right)}$"
      ],
      "text/plain": [
       "<IPython.core.display.Math object>"
      ]
     },
     "metadata": {},
     "output_type": "display_data"
    },
    {
     "data": {
      "text/latex": [
       "$\\displaystyle \\frac{d}{dx}- \\sin{\\left(x \\right)} = - \\cos{\\left(x \\right)}$"
      ],
      "text/plain": [
       "<IPython.core.display.Math object>"
      ]
     },
     "metadata": {},
     "output_type": "display_data"
    },
    {
     "data": {
      "text/latex": [
       "$\\displaystyle \\frac{d}{dx}- \\cos{\\left(x \\right)} = \\sin{\\left(x \\right)}$"
      ],
      "text/plain": [
       "<IPython.core.display.Math object>"
      ]
     },
     "metadata": {},
     "output_type": "display_data"
    }
   ],
   "source": [
    "f= sym.sin(x)\n",
    "\n",
    "for i in range(4):\n",
    "    display(Math('\\\\frac{d}{dx}%s = %s' %(sym.latex(f),sym.latex(sym.diff(f)))))\n",
    "    f = sym.diff(f)"
   ]
  },
  {
   "cell_type": "code",
   "execution_count": 344,
   "id": "e81491df-5de7-4185-9bf2-aed91c24719b",
   "metadata": {},
   "outputs": [
    {
     "data": {
      "image/png": "[encoded data removed]",
      "text/plain": [
       "<Figure size 432x288 with 1 Axes>"
      ]
     },
     "metadata": {
      "needs_background": "light"
     },
     "output_type": "display_data"
    }
   ],
   "source": [
    "import sympy.plotting.plot as symplot\n",
    "\n",
    "f = sym.cos(x)\n",
    "\n",
    "for i in range(0,4):\n",
    "    if i==0:\n",
    "        p = symplot(f,show=False,line_color=(i/8,i/4,i/8),\n",
    "                    label= f'${sym.latex(f)}$'\n",
    "                   )\n",
    "    else:\n",
    "        p.extend( symplot(f,show=False,line_color=(i/8,i/4,i/8),\n",
    "                          label= f'${sym.latex(f)}$'\n",
    "                         ) )\n",
    "    f = sym.diff(f)\n",
    "    \n",
    "p.legend = True\n",
    "p.xlim = [-3,3]\n",
    "p.show()"
   ]
  },
  {
   "cell_type": "markdown",
   "id": "fd6656df-aa52-40fb-a735-bcf1d1e6398e",
   "metadata": {},
   "source": [
    "# VIDEO: Graphing a function tangent line"
   ]
  },
  {
   "cell_type": "code",
   "execution_count": 429,
   "id": "870b4bf6-c90d-4338-b7b1-7e6d1eda1268",
   "metadata": {},
   "outputs": [],
   "source": [
    "x= sym.symbols('x')\n",
    "\n",
    "# define function and its derivative\n",
    "f=  x**2\n",
    "#f= sym.sin(x*2)\n",
    "#f= sym.sqrt(4-x**2)\n",
    "\n",
    "\n",
    "df= sym.diff(f)"
   ]
  },
  {
   "cell_type": "code",
   "execution_count": 430,
   "id": "93b5e7df-6e55-4181-ae31-2959554d5c01",
   "metadata": {},
   "outputs": [],
   "source": [
    "# select x point\n",
    "xa= 1\n",
    "\n",
    "# define function and derivative values at that point\n",
    "fa=    f.subs(x,xa)\n",
    "df_a= df.subs(x,xa)\n",
    "\n",
    "## evaluate function and its derivative\n",
    "xx=     np.linspace(-2, 2, 101)\n",
    "f_fun=  sym.lambdify(x, f)(xx)\n",
    "df_fun= sym.lambdify(x,df)(xx)\n",
    "\n",
    "# compute the tangent line\n",
    "tanline= df_a * (xx - xa) + fa\n",
    "#tanline"
   ]
  },
  {
   "cell_type": "code",
   "execution_count": 432,
   "id": "0ab6b922-7646-4577-894a-db2d58a7ca63",
   "metadata": {},
   "outputs": [
    {
     "data": {
      "image/png": "[encoded data removed]",
      "text/plain": [
       "<Figure size 432x288 with 1 Axes>"
      ]
     },
     "metadata": {
      "needs_background": "light"
     },
     "output_type": "display_data"
    }
   ],
   "source": [
    "# plot it!\n",
    "plt.plot(xx,f_fun,label='f(x)')\n",
    "plt.plot(xx,tanline,label='tangent')\n",
    "plt.plot(xa,fa,'ro')\n",
    "\n",
    "plt.axis('square')\n",
    "plt.axis([-3,3,-3,3])\n",
    "\n",
    "ax= plt.gca()\n",
    "plt.plot(ax.get_xlim(),[0,0],'k--')\n",
    "plt.plot([0,0],ax.get_xlim(),'k--')\n",
    "\n",
    "plt.xlabel('x')\n",
    "plt.ylabel('f(x)')\n",
    "plt.legend()\n",
    "\n",
    "plt.grid()\n",
    "plt.show()\n"
   ]
  },
  {
   "cell_type": "markdown",
   "id": "d336e0b7-c14d-4cf6-82bc-2f1407c4335d",
   "metadata": {},
   "source": [
    "# VIDEO: Finding critical points of a function\n"
   ]
  },
  {
   "cell_type": "code",
   "execution_count": 443,
   "id": "2d06d77f-8c1d-49fd-8d89-eaed3031dedf",
   "metadata": {},
   "outputs": [
    {
     "name": "stdout",
     "output_type": "stream",
     "text": [
      "The critical points are [-0.995996  0.995996] [-0.00500501]\n"
     ]
    }
   ],
   "source": [
    "# The empirical method (useful for df=0; won't work for non-differentiable points)\n",
    "\n",
    "# create a function\n",
    "x= np.linspace(-5,5,1000) # vs 1001\n",
    "fx= x**2 * np.exp(-x**2)\n",
    "\n",
    "# extrema\n",
    "localmax= find_peaks(fx)[0]\n",
    "localmin= find_peaks(-fx)[0]\n",
    "\n",
    "print('The critical points are ' + str(x[localmax]) + ' ' + str(x[localmin]))\n"
   ]
  },
  {
   "cell_type": "code",
   "execution_count": 442,
   "id": "57bcfed6-47b5-4720-b55b-bd142443dd9b",
   "metadata": {},
   "outputs": [
    {
     "data": {
      "text/plain": [
       "(array([400, 599], dtype=int64), {})"
      ]
     },
     "metadata": {},
     "output_type": "display_data"
    },
    {
     "data": {
      "text/plain": [
       "(array([499], dtype=int64), {})"
      ]
     },
     "metadata": {},
     "output_type": "display_data"
    }
   ],
   "source": [
    "display(find_peaks(fx))\n",
    "display(find_peaks(-fx))"
   ]
  },
  {
   "cell_type": "code",
   "execution_count": 433,
   "id": "943464d4-ac28-4b58-979c-67a954353599",
   "metadata": {},
   "outputs": [
    {
     "name": "stdout",
     "output_type": "stream",
     "text": [
      "The critical points are [-0.995996  0.995996] [-0.00500501]\n"
     ]
    },
    {
     "data": {
      "image/png": "[encoded data removed]",
      "text/plain": [
       "<Figure size 432x288 with 1 Axes>"
      ]
     },
     "metadata": {
      "needs_background": "light"
     },
     "output_type": "display_data"
    }
   ],
   "source": [
    "# compute its derivative\n",
    "dfx = np.diff(fx)/np.mean(np.diff(x)) # scale by dx!\n",
    "\n",
    "# plot everything\n",
    "plt.plot(x,fx,label='y')\n",
    "plt.plot(x[0:-1],dfx,label='dy/dx')\n",
    "plt.plot(x[localmax],fx[localmax],'ro',label='local max.')\n",
    "plt.plot(x[localmin],fx[localmin],'gs',label='local min.')\n",
    "plt.plot(x[[0,-1]],[0,0],'--',c=[.7,.7,.7])\n",
    "\n",
    "plt.legend()\n",
    "plt.xlim(x[[0,-1]])\n",
    "plt.show()"
   ]
  },
  {
   "cell_type": "markdown",
   "id": "de8d8f17-702f-4d9b-9bf5-feb58b99a48a",
   "metadata": {},
   "source": [
    "# The analytic (symbolic) method"
   ]
  },
  {
   "cell_type": "code",
   "execution_count": 444,
   "id": "bbf6afc2-cbc8-4f6d-9483-83d5246dd957",
   "metadata": {},
   "outputs": [
    {
     "name": "stdout",
     "output_type": "stream",
     "text": [
      "The critical points are: [-1, 0, 1]\n"
     ]
    }
   ],
   "source": [
    "x=  sym.symbols('x')\n",
    "fx= x**2 * sym.exp(-x**2)\n",
    "\n",
    "# derivative in sympy, solve\n",
    "dfx=        sym.diff(fx, x)\n",
    "critpoints= sym.solve(dfx)\n",
    "print('The critical points are: ' + str(critpoints))\n"
   ]
  },
  {
   "cell_type": "code",
   "execution_count": 448,
   "id": "843923c5-edf5-45cd-bad5-5b19d894b494",
   "metadata": {},
   "outputs": [
    {
     "data": {
      "image/png": "[encoded data removed]",
      "text/plain": [
       "<Figure size 432x288 with 1 Axes>"
      ]
     },
     "metadata": {
      "needs_background": "light"
     },
     "output_type": "display_data"
    }
   ],
   "source": [
    "# some sympy plotting\n",
    "p= sym.plot(fx,(x,-5,5),show=False)\n",
    "\n",
    "p.extend(sym.plot(\n",
    "         dfx,\n",
    "         (x,-5,5),\n",
    "         show=False,\n",
    "         line_color='r'))\n",
    "\n",
    "p[0].label= 'y'\n",
    "p[1].label= 'dy/dx'\n",
    "p.legend=    True\n",
    "\n",
    "p.show()\n"
   ]
  },
  {
   "cell_type": "markdown",
   "id": "95cd8c8f-2516-48e2-92ff-4cff296de5ff",
   "metadata": {},
   "source": [
    "### Exercise\n"
   ]
  },
  {
   "cell_type": "code",
   "execution_count": 451,
   "id": "668d1867-a0da-4fa5-9099-1ad9ac1b5e89",
   "metadata": {},
   "outputs": [
    {
     "data": {
      "text/latex": [
       "$\\displaystyle \\quad x^{2}\\text{ has NO critical point at x=2. :(}$"
      ],
      "text/plain": [
       "<IPython.core.display.Math object>"
      ]
     },
     "metadata": {},
     "output_type": "display_data"
    },
    {
     "data": {
      "text/latex": [
       "$\\displaystyle \\Rightarrow x^{2} e^{- 0.25 x^{2}}\\text{ has a critical point at x=2! Woohoo!!}$"
      ],
      "text/plain": [
       "<IPython.core.display.Math object>"
      ]
     },
     "metadata": {},
     "output_type": "display_data"
    },
    {
     "data": {
      "text/latex": [
       "$\\displaystyle \\quad x^{2} e^{- 0.5 x^{2}}\\text{ has NO critical point at x=2. :(}$"
      ],
      "text/plain": [
       "<IPython.core.display.Math object>"
      ]
     },
     "metadata": {},
     "output_type": "display_data"
    },
    {
     "data": {
      "text/latex": [
       "$\\displaystyle \\quad x^{2} e^{- 0.75 x^{2}}\\text{ has NO critical point at x=2. :(}$"
      ],
      "text/plain": [
       "<IPython.core.display.Math object>"
      ]
     },
     "metadata": {},
     "output_type": "display_data"
    },
    {
     "data": {
      "text/latex": [
       "$\\displaystyle \\Rightarrow x^{2} e^{- 1.0 x^{2}}\\text{ has a critical point at x=1! Woohoo!!}$"
      ],
      "text/plain": [
       "<IPython.core.display.Math object>"
      ]
     },
     "metadata": {},
     "output_type": "display_data"
    },
    {
     "data": {
      "text/latex": [
       "$\\displaystyle \\quad x^{2} e^{- 1.25 x^{2}}\\text{ has NO critical point at x=2. :(}$"
      ],
      "text/plain": [
       "<IPython.core.display.Math object>"
      ]
     },
     "metadata": {},
     "output_type": "display_data"
    },
    {
     "data": {
      "text/latex": [
       "$\\displaystyle \\quad x^{2} e^{- 1.5 x^{2}}\\text{ has NO critical point at x=2. :(}$"
      ],
      "text/plain": [
       "<IPython.core.display.Math object>"
      ]
     },
     "metadata": {},
     "output_type": "display_data"
    },
    {
     "data": {
      "text/latex": [
       "$\\displaystyle \\quad x^{2} e^{- 1.75 x^{2}}\\text{ has NO critical point at x=2. :(}$"
      ],
      "text/plain": [
       "<IPython.core.display.Math object>"
      ]
     },
     "metadata": {},
     "output_type": "display_data"
    },
    {
     "data": {
      "text/latex": [
       "$\\displaystyle \\quad x^{2} e^{- 2.0 x^{2}}\\text{ has NO critical point at x=2. :(}$"
      ],
      "text/plain": [
       "<IPython.core.display.Math object>"
      ]
     },
     "metadata": {},
     "output_type": "display_data"
    },
    {
     "data": {
      "image/png": "[encoded data removed]",
      "text/plain": [
       "<Figure size 576x288 with 2 Axes>"
      ]
     },
     "metadata": {
      "needs_background": "light"
     },
     "output_type": "display_data"
    }
   ],
   "source": [
    "# what values of 'a' give this function a critical point at x=1 or x=2?\n",
    "a,x = sym.symbols('a,x')\n",
    "\n",
    "baseexpr = x**2 * sym.exp(-a*x**2)\n",
    "arange = np.arange(0,2.25,.25)\n",
    "xrange = np.linspace(-3,3,100)\n",
    "\n",
    "# setup plots\n",
    "fig,ax = plt.subplots(1,2)\n",
    "\n",
    "for ai in arange:\n",
    "    \n",
    "    fx = baseexpr.subs(a,ai)\n",
    "    dfx = sym.diff(fx)\n",
    "    critpnts = sym.solve( dfx )\n",
    "    \n",
    "    # also plot the function in subplot1 and its derivative in subplot2\n",
    "    ax[0].plot(xrange,sym.lambdify(x,fx)(xrange))\n",
    "    ax[1].plot(xrange,sym.lambdify(x,dfx)(xrange))\n",
    "    \n",
    "    \n",
    "    if 1 in critpnts:\n",
    "        display(Math('\\\\Rightarrow %s\\\\text{ has a critical point at x=1! Woohoo!!}' %sym.latex(fx)))\n",
    "    elif 2 in critpnts:\n",
    "        display(Math('\\\\Rightarrow %s\\\\text{ has a critical point at x=2! Woohoo!!}' %sym.latex(fx)))\n",
    "    else:\n",
    "        display(Math('\\\\quad %s\\\\text{ has NO critical point at x=2. :(}' %sym.latex(fx)))\n",
    "\n",
    "\n",
    "\n",
    "# some adjustments to the function plot\n",
    "ax[0].set_ylim([0,2])\n",
    "ax[0].set_title('Function')\n",
    "ax[0].plot([1,1],[0,2],'--',c='gray')\n",
    "ax[0].plot([2,2],[0,2],'--',c='gray')\n",
    "\n",
    "# adjustments to the derivative plot\n",
    "ax[1].set_ylim([-1.5,1.5])\n",
    "ax[1].plot(xrange[[0,-1]],[0,0],'--',c='gray')\n",
    "ax[1].plot([1,1],[-1.5,1.5],'--',c='gray')\n",
    "ax[1].plot([2,2],[-1.5,1.5],'--',c='gray')\n",
    "# ax[1].set_xlim([.5,2.5])\n",
    "ax[1].set_title('Its derivative')\n",
    "fig.set_size_inches(8,4)\n",
    "\n",
    "plt.grid()\n",
    "plt.show()\n"
   ]
  },
  {
   "cell_type": "code",
   "execution_count": 467,
   "id": "4a1788bb-0455-465f-a775-5186d420e4de",
   "metadata": {},
   "outputs": [],
   "source": []
  },
  {
   "cell_type": "code",
   "execution_count": 466,
   "id": "7e68d348-db4b-4a36-9cbe-c7f5f606741b",
   "metadata": {},
   "outputs": [
    {
     "data": {
      "text/plain": [
       "<function __main__.f(x)>"
      ]
     },
     "metadata": {},
     "output_type": "display_data"
    }
   ],
   "source": []
  },
  {
   "cell_type": "code",
   "execution_count": 544,
   "id": "151929a0-ea7d-47de-9126-f1d23e77b062",
   "metadata": {},
   "outputs": [
    {
     "data": {
      "text/latex": [
       "$\\displaystyle \n",
       "f(x)= \\sin{\\left(x \\right)}\n",
       "\\\\\n",
       "f'(x)= \\cos{\\left(x \\right)}\n",
       "\\\\\n",
       "f''(x)= - \\sin{\\left(x \\right)}\n",
       "\\\\\n",
       "f'''(x)= - \\cos{\\left(x \\right)}\n",
       "\\\\\n",
       "f''''(x)= \\sin{\\left(x \\right)}\n",
       "$"
      ],
      "text/plain": [
       "<IPython.core.display.Math object>"
      ]
     },
     "execution_count": 544,
     "metadata": {},
     "output_type": "execute_result"
    }
   ],
   "source": [
    "def f(x):\n",
    "    '''\n",
    "    多項式函數\n",
    "    '''\n",
    "    #y= 1 + x + x**2\n",
    "    y= sym.sin(x)\n",
    "    return y\n",
    "\n",
    "x, y, z, s, t, u, v= sym.symbols(\n",
    "    'x, y, z, s, t, u, v')\n",
    "\n",
    "f_t= f(t)\n",
    "f_s= f(s)\n",
    "f_x= f(x)\n",
    "\n",
    "\n",
    "q= f\"\"\"\n",
    "f(x)= {\n",
    "    sym.latex(\n",
    "        f(x)\n",
    "        )}\n",
    "\\\\\\\\\n",
    "f'(x)= {\n",
    "    sym.latex(\n",
    "        f(x).diff(x)\n",
    "        )}\n",
    "\\\\\\\\\n",
    "f''(x)= {\n",
    "    sym.latex(\n",
    "        f(x).diff(x).diff(x)\n",
    "        )}\n",
    "\\\\\\\\\n",
    "f'''(x)= {\n",
    "    sym.latex(\n",
    "        f(x).diff(x).diff(x).diff(x)\n",
    "        )}\n",
    "\\\\\\\\\n",
    "f''''(x)= {\n",
    "    sym.latex(\n",
    "        f(x).diff(x).diff(x).diff(x).diff(x)\n",
    "        )}\n",
    "\"\"\"\n",
    "\n",
    "Math(q)\n",
    "\n",
    "\n",
    "\n"
   ]
  },
  {
   "cell_type": "code",
   "execution_count": 564,
   "id": "7eb0ea14-e6d6-4d74-a21f-b1745067f1a6",
   "metadata": {},
   "outputs": [
    {
     "name": "stdout",
     "output_type": "stream",
     "text": [
      "f^{(0)}(x)= \n",
      "             \\sin{\\left(x \\right)}\\\\\n",
      "             f^{(1)}(x)= \n",
      "             \\cos{\\left(x \\right)}\\\\\n",
      "             f^{(2)}(x)= \n",
      "             - \\sin{\\left(x \\right)}\\\\\n",
      "             f^{(3)}(x)= \n",
      "             - \\cos{\\left(x \\right)}\\\\\n",
      "             f^{(4)}(x)= \n",
      "             \\sin{\\left(x \\right)}\\\\\n",
      "             f^{(5)}(x)= \n",
      "             \\cos{\\left(x \\right)}\\\\\n",
      "             f^{(6)}(x)= \n",
      "             - \\sin{\\left(x \\right)}\\\\\n",
      "             f^{(7)}(x)= \n",
      "             - \\cos{\\left(x \\right)}\\\\\n",
      "             f^{(8)}(x)= \n",
      "             \\sin{\\left(x \\right)}\\\\\n",
      "             \n"
     ]
    },
    {
     "data": {
      "text/latex": [
       "$\\displaystyle f^{(0)}(x)= \n",
       "             \\sin{\\left(x \\right)}\\\\\n",
       "             f^{(1)}(x)= \n",
       "             \\cos{\\left(x \\right)}\\\\\n",
       "             f^{(2)}(x)= \n",
       "             - \\sin{\\left(x \\right)}\\\\\n",
       "             f^{(3)}(x)= \n",
       "             - \\cos{\\left(x \\right)}\\\\\n",
       "             f^{(4)}(x)= \n",
       "             \\sin{\\left(x \\right)}\\\\\n",
       "             f^{(5)}(x)= \n",
       "             \\cos{\\left(x \\right)}\\\\\n",
       "             f^{(6)}(x)= \n",
       "             - \\sin{\\left(x \\right)}\\\\\n",
       "             f^{(7)}(x)= \n",
       "             - \\cos{\\left(x \\right)}\\\\\n",
       "             f^{(8)}(x)= \n",
       "             \\sin{\\left(x \\right)}\\\\\n",
       "             $"
      ],
      "text/plain": [
       "<IPython.core.display.Math object>"
      ]
     },
     "execution_count": 564,
     "metadata": {},
     "output_type": "execute_result"
    }
   ],
   "source": [
    "fx= f(x)\n",
    "q= f\"\"\n",
    "for i in range(9):\n",
    "    if i>0:\n",
    "        fx= fx.diff(x)\n",
    "    lfx= sym.latex(fx)\n",
    "    q += f\"\"\"f^{{({i})}}(x)= \n",
    "             {lfx}\\\\\\\\\n",
    "             \"\"\"\n",
    "    \n",
    "print(q)\n",
    "Math(q)    \n"
   ]
  },
  {
   "cell_type": "markdown",
   "id": "02046921-9f3b-4c80-af98-8ecf5d0acc76",
   "metadata": {},
   "source": [
    "$\n",
    "f^{(0)}(x)= \n",
    "             \\sin{\\left(x \\right)}\\\\\n",
    "             f^{(1)}(x)= \n",
    "             \\cos{\\left(x \\right)}\\\\\n",
    "             f^{(2)}(x)= \n",
    "             - \\sin{\\left(x \\right)}\\\\\n",
    "             f^{(3)}(x)= \n",
    "             - \\cos{\\left(x \\right)}\\\\\n",
    "             f^{(4)}(x)= \n",
    "             \\sin{\\left(x \\right)}\\\\\n",
    "             f^{(5)}(x)= \n",
    "             \\cos{\\left(x \\right)}\\\\\n",
    "             f^{(6)}(x)= \n",
    "             - \\sin{\\left(x \\right)}\\\\\n",
    "             f^{(7)}(x)= \n",
    "             - \\cos{\\left(x \\right)}\\\\\n",
    "             f^{(8)}(x)= \n",
    "             \\sin{\\left(x \\right)}\\\\\n",
    "$"
   ]
  },
  {
   "cell_type": "code",
   "execution_count": 588,
   "id": "668a48ec-1262-4228-87d2-725d9e59a903",
   "metadata": {},
   "outputs": [
    {
     "data": {
      "text/latex": [
       "$\\displaystyle \n",
       "f(x,y) = x^{y}\n",
       "\n",
       "\\\\\n",
       "\n",
       "\\frac\n",
       "{\\partial f}\n",
       "{\\partial x} = \\frac{x^{y} y}{x}\n",
       "\n",
       "\\\\\n",
       "\n",
       "\\frac\n",
       "{\\partial f}\n",
       "{\\partial y} = x^{y} \\log{\\left(x \\right)}\n",
       "$"
      ],
      "text/plain": [
       "<IPython.core.display.Math object>"
      ]
     },
     "execution_count": 588,
     "metadata": {},
     "output_type": "execute_result"
    }
   ],
   "source": [
    "def f(x,y):\n",
    "    \n",
    "    #z= x**2 + x*y**2\n",
    "    \n",
    "    #z= sym.exp(x*y) * sym.sin(x*y)\n",
    "    \n",
    "    z= x**y\n",
    "    \n",
    "    return z\n",
    "\n",
    "\n",
    "fxy=      f(x,y)\n",
    "df_dx=    f(x,y).diff(x)\n",
    "df_dy=    f(x,y).diff(y)\n",
    "df_dx_dy= f(x,y).diff(x).diff(y)\n",
    "df_dy_dx= f(x,y).diff(y).diff(x)\n",
    "\n",
    "fxy=      sym.latex(fxy)\n",
    "df_dx=    sym.latex(df_dx)\n",
    "df_dy=    sym.latex(df_dy)\n",
    "df_dx_dy= sym.latex(df_dx_dy)\n",
    "df_dy_dx= sym.latex(df_dy_dx)\n",
    "\n",
    "\n",
    "lx= '''\n",
    "f(x,y) = %s\n",
    "\n",
    "\\\\\\\\\n",
    "\n",
    "\\\\frac\n",
    "{\\\\partial f}\n",
    "{\\\\partial x} = %s\n",
    "\n",
    "\\\\\\\\\n",
    "\n",
    "\\\\frac\n",
    "{\\\\partial f}\n",
    "{\\\\partial y} = %s\n",
    "'''%(\n",
    "fxy, \n",
    "df_dx,\n",
    "df_dy\n",
    ")\n",
    "\n",
    "Math(lx)"
   ]
  },
  {
   "cell_type": "code",
   "execution_count": 593,
   "id": "42de42a1-de3a-4521-a4fa-0e86ebf825f9",
   "metadata": {},
   "outputs": [
    {
     "data": {
      "text/latex": [
       "$\\displaystyle \n",
       "f(x,y) \n",
       "= x^{y}\n",
       "\n",
       "\\\\\n",
       "\n",
       "\\frac\n",
       "{\\partial f}\n",
       "{\\partial x} \n",
       "= \\frac{x^{y} y}{x}\n",
       "\n",
       "\\\\\n",
       "\n",
       "\\frac\n",
       "{\\partial f}\n",
       "{\\partial y} \n",
       "= x^{y} \\log{\\left(x \\right)}\n",
       "\n",
       "\\\\\n",
       "\n",
       "\\frac\n",
       "{\\partial^{2} f}\n",
       "{\\partial x \\partial y} \n",
       "= \\frac{x^{y} y \\log{\\left(x \\right)}}{x} + \\frac{x^{y}}{x}\n",
       "\n",
       "\\\\\n",
       "\n",
       "\\frac\n",
       "{\\partial^{2} f}\n",
       "{\\partial y \\partial x} \n",
       "= \\frac{x^{y} y \\log{\\left(x \\right)}}{x} + \\frac{x^{y}}{x}\n",
       "$"
      ],
      "text/plain": [
       "<IPython.core.display.Math object>"
      ]
     },
     "execution_count": 593,
     "metadata": {},
     "output_type": "execute_result"
    }
   ],
   "source": [
    "lx= f'''\n",
    "f(x,y) \n",
    "= {fxy}\n",
    "\n",
    "\\\\\\\\\n",
    "\n",
    "\\\\frac\n",
    "{{\\\\partial f}}\n",
    "{{\\\\partial x}} \n",
    "= {df_dx}\n",
    "\n",
    "\\\\\\\\\n",
    "\n",
    "\\\\frac\n",
    "{{\\\\partial f}}\n",
    "{{\\\\partial y}} \n",
    "= {df_dy}\n",
    "\n",
    "\\\\\\\\\n",
    "\n",
    "\\\\frac\n",
    "{{\\\\partial^{{2}} f}}\n",
    "{{\\\\partial x \\\\partial y}} \n",
    "= {df_dx_dy}\n",
    "\n",
    "\\\\\\\\\n",
    "\n",
    "\\\\frac\n",
    "{{\\\\partial^{{2}} f}}\n",
    "{{\\\\partial y \\\\partial x}} \n",
    "= {df_dy_dx}\n",
    "'''\n",
    "\n",
    "Math(lx)"
   ]
  },
  {
   "cell_type": "code",
   "execution_count": 582,
   "id": "32a89dfb-74b9-4a5d-9d33-d458b15c5e94",
   "metadata": {},
   "outputs": [
    {
     "name": "stdout",
     "output_type": "stream",
     "text": [
      "\n",
      "f(x,y) = x^{2} + x y^{2}\n",
      "\n",
      "\\\\\n",
      "\n",
      "\\frac\n",
      "{\\partial f}\n",
      "{\\partial x} = 2 x + y^{2}\n",
      "\n",
      "\\\\\n",
      "\n",
      "\\frac\n",
      "{\\partial f}\n",
      "{\\partial y} = 2 x y\n",
      "\n"
     ]
    }
   ],
   "source": [
    "print(lx)"
   ]
  },
  {
   "cell_type": "markdown",
   "id": "c70dfe59-a2cd-4d16-b376-166cd8415faa",
   "metadata": {},
   "source": [
    "# markdown\n",
    "\n",
    "$\n",
    "f(x,y) = x^{2} + x y^{2}\n",
    "\\\\\n",
    "\\frac{\\partial f}{\\partial x} = 2 x + y^{2}\n",
    "\\\\\n",
    "\\frac{\\partial f}{\\partial y} = 2 x y\n",
    "$\n",
    "\n",
    "$$\n",
    "f(x,y) = x^{2} + x y^{2}\n",
    "\\\\\n",
    "\\frac\n",
    "{\\partial f}\n",
    "{\\partial x} = 2 x + y^{2}\n",
    "\\\\\n",
    "\\frac\n",
    "{\\partial f}\n",
    "{\\partial y} = 2 x y\n",
    "$$"
   ]
  },
  {
   "cell_type": "markdown",
   "id": "90c773b7-350e-4abe-a483-b58b43eb765c",
   "metadata": {},
   "source": [
    "# VIDEO: Indefinite and definite integrals\n"
   ]
  },
  {
   "cell_type": "code",
   "execution_count": 594,
   "id": "1b2af664-b47c-4b63-9421-13daabaeab92",
   "metadata": {},
   "outputs": [
    {
     "data": {
      "text/latex": [
       "$\\displaystyle \\frac{x^{2}}{2}$"
      ],
      "text/plain": [
       "x**2/2"
      ]
     },
     "execution_count": 594,
     "metadata": {},
     "output_type": "execute_result"
    }
   ],
   "source": [
    "x= sym.symbols('x')\n",
    "\n",
    "# a simple function\n",
    "f= x\n",
    "\n",
    "# indefinite integration\n",
    "sym.integrate(f) # notice no constant term\n"
   ]
  },
  {
   "cell_type": "code",
   "execution_count": 595,
   "id": "0778099c-fa9d-4eea-a534-6afcf8705753",
   "metadata": {},
   "outputs": [
    {
     "data": {
      "text/latex": [
       "$\\displaystyle \\frac{1}{2}$"
      ],
      "text/plain": [
       "1/2"
      ]
     },
     "execution_count": 595,
     "metadata": {},
     "output_type": "execute_result"
    }
   ],
   "source": [
    "# definite integation (within bounds)\n",
    "sym.integrate(f,(x,0,1))\n"
   ]
  },
  {
   "cell_type": "code",
   "execution_count": 645,
   "id": "a363690e-4135-4f3a-a3c5-6208c5c40b91",
   "metadata": {},
   "outputs": [
    {
     "data": {
      "image/png": "[encoded data removed]",
      "text/plain": [
       "<Figure size 432x288 with 1 Axes>"
      ]
     },
     "metadata": {
      "needs_background": "light"
     },
     "output_type": "display_data"
    },
    {
     "data": {
      "image/png": "[encoded data removed]",
      "text/plain": [
       "<Figure size 432x288 with 1 Axes>"
      ]
     },
     "metadata": {
      "needs_background": "light"
     },
     "output_type": "display_data"
    },
    {
     "data": {
      "text/plain": [
       "<sympy.plotting.plot.Plot at 0x20e4693e520>"
      ]
     },
     "execution_count": 645,
     "metadata": {},
     "output_type": "execute_result"
    }
   ],
   "source": []
  },
  {
   "cell_type": "code",
   "execution_count": 661,
   "id": "dbd1e6ca-20ed-4802-98f5-1bab8fa4e741",
   "metadata": {},
   "outputs": [
    {
     "data": {
      "text/latex": [
       "$\\displaystyle t^{3} e^{- t}$"
      ],
      "text/plain": [
       "t**3*exp(-t)"
      ]
     },
     "execution_count": 661,
     "metadata": {},
     "output_type": "execute_result"
    }
   ],
   "source": [
    "def f(x):\n",
    "    y= sym.sin(2*x) * sym.exp(-3*x)\n",
    "    y= x**3 * sym.exp(-x)\n",
    "    return y\n",
    "\n",
    "f(t)"
   ]
  },
  {
   "cell_type": "code",
   "execution_count": 664,
   "id": "15869ef7-c780-4531-91ae-5f1994ccb50b",
   "metadata": {},
   "outputs": [
    {
     "data": {
      "text/latex": [
       "$\\displaystyle - s^{3} e^{- s} + 9 s^{2} e^{- s} - 18 s e^{- s} + 6 e^{- s}$"
      ],
      "text/plain": [
       "-s**3*exp(-s) + 9*s**2*exp(-s) - 18*s*exp(-s) + 6*exp(-s)"
      ]
     },
     "execution_count": 664,
     "metadata": {},
     "output_type": "execute_result"
    }
   ],
   "source": [
    "f(s).diff(s).diff(s).diff(s)"
   ]
  },
  {
   "cell_type": "code",
   "execution_count": 659,
   "id": "b7a945d4-b567-4d43-8de8-342c5891b27f",
   "metadata": {},
   "outputs": [
    {
     "data": {
      "text/plain": [
       "True"
      ]
     },
     "execution_count": 659,
     "metadata": {},
     "output_type": "execute_result"
    }
   ],
   "source": [
    "\n",
    "f(t) == f(t).diff(t).integrate(t)"
   ]
  },
  {
   "cell_type": "code",
   "execution_count": 656,
   "id": "9822a9ec-9f27-4464-bb84-e9aab364648b",
   "metadata": {},
   "outputs": [
    {
     "data": {
      "text/plain": [
       "True"
      ]
     },
     "execution_count": 656,
     "metadata": {},
     "output_type": "execute_result"
    }
   ],
   "source": [
    "f(s) == f(s).integrate(s).diff(s)"
   ]
  },
  {
   "cell_type": "code",
   "execution_count": 657,
   "id": "aecd874b-d088-409c-9083-b9f857b0ac55",
   "metadata": {},
   "outputs": [
    {
     "data": {
      "text/latex": [
       "$\\displaystyle - \\frac{3 e^{- 3 s} \\sin{\\left(2 s \\right)}}{13} - \\frac{2 e^{- 3 s} \\cos{\\left(2 s \\right)}}{13}$"
      ],
      "text/plain": [
       "-3*exp(-3*s)*sin(2*s)/13 - 2*exp(-3*s)*cos(2*s)/13"
      ]
     },
     "execution_count": 657,
     "metadata": {},
     "output_type": "execute_result"
    }
   ],
   "source": [
    "f(s).integrate(s)"
   ]
  },
  {
   "cell_type": "code",
   "execution_count": 658,
   "id": "2d20b254-b122-4819-b207-7cee55282456",
   "metadata": {},
   "outputs": [
    {
     "data": {
      "text/latex": [
       "$\\displaystyle - 3 e^{- 3 t} \\sin{\\left(2 t \\right)} + 2 e^{- 3 t} \\cos{\\left(2 t \\right)}$"
      ],
      "text/plain": [
       "-3*exp(-3*t)*sin(2*t) + 2*exp(-3*t)*cos(2*t)"
      ]
     },
     "execution_count": 658,
     "metadata": {},
     "output_type": "execute_result"
    }
   ],
   "source": [
    "f(t).diff(t)"
   ]
  },
  {
   "cell_type": "code",
   "execution_count": null,
   "id": "562166c5-2374-4386-b50e-b86b1cfacf0a",
   "metadata": {},
   "outputs": [],
   "source": []
  },
  {
   "cell_type": "code",
   "execution_count": 212,
   "id": "f385463d-d3f3-4ecd-a217-2aee0673e729",
   "metadata": {},
   "outputs": [
    {
     "data": {
      "text/latex": [
       "$\\displaystyle \\frac{\\lim_{x\\to 5} f(x)}{\\lim_{x\\to 5} g(x)} = \\frac{0.0165045}{-0.622015} = -0.026534$"
      ],
      "text/plain": [
       "<IPython.core.display.Math object>"
      ]
     },
     "metadata": {},
     "output_type": "display_data"
    }
   ],
   "source": [
    "\n",
    "f(x)}} \n",
    "{{ \\\\lim_{{ x \\\\to {x0}  {g(x)} = \\\\frac{%g}{%g} = %g' \\\n",
    "             %(x0, x0, limF, limG, limF/limG)\n",
    "'''\n",
    "\n",
    "display(Math(sF))"
   ]
  },
  {
   "cell_type": "code",
   "execution_count": null,
   "id": "0d10b689-4c14-4f03-a041-4ff62eea6b58",
   "metadata": {},
   "outputs": [],
   "source": []
  },
  {
   "cell_type": "code",
   "execution_count": null,
   "id": "c0a3a9bf-da07-486c-97c7-6ab3ecf73075",
   "metadata": {},
   "outputs": [],
   "source": []
  },
  {
   "cell_type": "code",
   "execution_count": null,
   "id": "28c47180-eec5-442e-8298-4b4bef216ea1",
   "metadata": {},
   "outputs": [],
   "source": []
  },
  {
   "cell_type": "code",
   "execution_count": 243,
   "id": "3f3a1fc8-6c41-4a7f-9186-d446e946761d",
   "metadata": {},
   "outputs": [
    {
     "data": {
      "text/latex": [
       "$\\displaystyle \n",
       "\\lim_{ x \\to 5 }\n",
       "\\frac{f(x} {g(x)}\n",
       "=\n",
       "$"
      ],
      "text/plain": [
       "<IPython.core.display.Math object>"
      ]
     },
     "metadata": {},
     "output_type": "display_data"
    },
    {
     "data": {
      "text/latex": [
       "$\\displaystyle \n",
       "-0.02653\n",
       "$"
      ],
      "text/plain": [
       "<IPython.core.display.Math object>"
      ]
     },
     "metadata": {},
     "output_type": "display_data"
    }
   ],
   "source": [
    "# now compute limit of fx/gx\n",
    "lim_F_G= sym.limit(f(x)/g(x), x, x0)\n",
    "\n",
    "sF0= f'''\n",
    "\\\\lim_{{ x \\\\to {x0} }}\n",
    "\\\\frac{{f(x}} {{g(x)}}\n",
    "=\n",
    "'''\n",
    "\n",
    "sF1= f'''\n",
    "{float(limF/limG): .5f}\n",
    "'''\n",
    "\n",
    "display(Math(sF0))\n",
    "display(Math(sF1))"
   ]
  },
  {
   "cell_type": "code",
   "execution_count": 213,
   "id": "b8a87871-7c1f-4d6d-b88c-6a7155b54598",
   "metadata": {},
   "outputs": [
    {
     "data": {
      "text/latex": [
       "$\\displaystyle \\lim_{x\\to 5} \\frac{f(x)}{g(x)} = -0.026534$"
      ],
      "text/plain": [
       "<IPython.core.display.Math object>"
      ]
     },
     "metadata": {},
     "output_type": "display_data"
    }
   ],
   "source": [
    "display(Math('\\\\lim_{x\\\\to %g} \\\\frac{f(x)}{g(x)} = %g' %(x0, lim_F_G)))"
   ]
  },
  {
   "cell_type": "markdown",
   "id": "019aa876-1996-4b35-9f47-3c9f81f83ba4",
   "metadata": {},
   "source": [
    "$\n",
    "\\lim_{x \\to 5}\n",
    "\\frac{f(x}{g(x)}\n",
    "=\n",
    "-0.026534\n",
    "$"
   ]
  },
  {
   "cell_type": "code",
   "execution_count": null,
   "id": "cc4f1b4c-6659-4b1d-bc94-3c8c94d2695f",
   "metadata": {},
   "outputs": [],
   "source": []
  },
  {
   "cell_type": "code",
   "execution_count": null,
   "id": "253e29e4-97b0-4a86-a398-5d65f645f5cf",
   "metadata": {},
   "outputs": [],
   "source": []
  },
  {
   "cell_type": "code",
   "execution_count": null,
   "id": "9f787d12-2838-4c2c-b834-acb443101f41",
   "metadata": {},
   "outputs": [],
   "source": []
  },
  {
   "cell_type": "code",
   "execution_count": null,
   "id": "a8f70e4c-8703-48a2-a0ee-52668ea8c218",
   "metadata": {},
   "outputs": [],
   "source": []
  },
  {
   "cell_type": "code",
   "execution_count": null,
   "id": "58a68830-881e-4bcd-914c-23068176647d",
   "metadata": {},
   "outputs": [],
   "source": []
  },
  {
   "cell_type": "code",
   "execution_count": 3,
   "id": "08be3185-42e0-4aeb-90d0-a645dfab4575",
   "metadata": {},
   "outputs": [
    {
     "data": {
      "text/latex": [
       "$\\displaystyle x+y=z$"
      ],
      "text/plain": [
       "<IPython.core.display.Math object>"
      ]
     },
     "metadata": {},
     "output_type": "display_data"
    }
   ],
   "source": [
    "\n",
    "display(Math(\n",
    "'x+y=z'\n",
    "))"
   ]
  },
  {
   "cell_type": "code",
   "execution_count": 4,
   "id": "ce1f9a78-e4ef-4c27-a1d2-05220cbd9695",
   "metadata": {},
   "outputs": [
    {
     "data": {
      "text/latex": [
       "$\\displaystyle \\sigma$"
      ],
      "text/plain": [
       "<IPython.core.display.Math object>"
      ]
     },
     "execution_count": 4,
     "metadata": {},
     "output_type": "execute_result"
    }
   ],
   "source": [
    "Math('\\\\sigma')"
   ]
  },
  {
   "cell_type": "markdown",
   "id": "f0a78ed6-2a57-4583-9aa6-2338aad828b7",
   "metadata": {},
   "source": [
    "$$\n",
    "\\text{寫數學}\n",
    "\\sigma = \\mu \\times \\sqrt{2}\n",
    "$$\n"
   ]
  },
  {
   "cell_type": "code",
   "execution_count": 5,
   "id": "5c3d259b-ab60-4a03-84da-883b6d73938b",
   "metadata": {},
   "outputs": [
    {
     "data": {
      "text/plain": [
       "\u001b[1;31mInit signature:\u001b[0m \u001b[0mMath\u001b[0m\u001b[1;33m(\u001b[0m\u001b[0mdata\u001b[0m\u001b[1;33m=\u001b[0m\u001b[1;32mNone\u001b[0m\u001b[1;33m,\u001b[0m \u001b[0murl\u001b[0m\u001b[1;33m=\u001b[0m\u001b[1;32mNone\u001b[0m\u001b[1;33m,\u001b[0m \u001b[0mfilename\u001b[0m\u001b[1;33m=\u001b[0m\u001b[1;32mNone\u001b[0m\u001b[1;33m,\u001b[0m \u001b[0mmetadata\u001b[0m\u001b[1;33m=\u001b[0m\u001b[1;32mNone\u001b[0m\u001b[1;33m)\u001b[0m\u001b[1;33m\u001b[0m\u001b[1;33m\u001b[0m\u001b[0m\n",
       "\u001b[1;31mDocstring:\u001b[0m      Validate that display data is text\n",
       "\u001b[1;31mInit docstring:\u001b[0m\n",
       "Create a display object given raw data.\n",
       "\n",
       "When this object is returned by an expression or passed to the\n",
       "display function, it will result in the data being displayed\n",
       "in the frontend. The MIME type of the data should match the\n",
       "subclasses used, so the Png subclass should be used for 'image/png'\n",
       "data. If the data is a URL, the data will first be downloaded\n",
       "and then displayed. If\n",
       "\n",
       "Parameters\n",
       "----------\n",
       "data : unicode, str or bytes\n",
       "    The raw data or a URL or file to load the data from\n",
       "url : unicode\n",
       "    A URL to download the data from.\n",
       "filename : unicode\n",
       "    Path to a local file to load the data from.\n",
       "metadata : dict\n",
       "    Dict of metadata associated to be the object when displayed\n",
       "\u001b[1;31mFile:\u001b[0m           m:\\programdata\\anaconda3\\lib\\site-packages\\ipython\\core\\display.py\n",
       "\u001b[1;31mType:\u001b[0m           type\n",
       "\u001b[1;31mSubclasses:\u001b[0m     \n"
      ]
     },
     "metadata": {},
     "output_type": "display_data"
    }
   ],
   "source": [
    "Math?"
   ]
  },
  {
   "cell_type": "code",
   "execution_count": 15,
   "id": "853f4486-321b-4278-b1dd-48f90cfb103e",
   "metadata": {},
   "outputs": [
    {
     "data": {
      "text/latex": [
       "$\\displaystyle x^{2} + \\sqrt{y α}$"
      ],
      "text/plain": [
       "x**2 + sqrt(y*α)"
      ]
     },
     "execution_count": 15,
     "metadata": {},
     "output_type": "execute_result"
    }
   ],
   "source": [
    "x,y,z,α,β,γ= sym.symbols('x,y,z,α,β,γ')\n",
    "f= x**2+sym.sqrt(α*y)\n",
    "f"
   ]
  },
  {
   "cell_type": "code",
   "execution_count": 12,
   "id": "3cecd3a2-f5c7-4b7b-b94a-eb00aadc74ac",
   "metadata": {},
   "outputs": [
    {
     "data": {
      "text/latex": [
       "$\\displaystyle x^{2} + \\sqrt{α}$"
      ],
      "text/plain": [
       "<IPython.core.display.Math object>"
      ]
     },
     "metadata": {},
     "output_type": "display_data"
    }
   ],
   "source": [
    "display(Math(sym.latex(f)))"
   ]
  },
  {
   "cell_type": "code",
   "execution_count": 16,
   "id": "0c94e7cd-3aaf-4d51-b6ea-471d2f2dfddb",
   "metadata": {},
   "outputs": [
    {
     "data": {
      "text/latex": [
       "$\\displaystyle \\frac{x^{3}}{3} + x \\sqrt{y α}$"
      ],
      "text/plain": [
       "x**3/3 + x*sqrt(y*α)"
      ]
     },
     "execution_count": 16,
     "metadata": {},
     "output_type": "execute_result"
    }
   ],
   "source": [
    "f.integrate(x)"
   ]
  },
  {
   "cell_type": "code",
   "execution_count": 17,
   "id": "a9c76eb9-6218-4cab-80a7-fa52638c2b29",
   "metadata": {},
   "outputs": [
    {
     "data": {
      "text/latex": [
       "$\\displaystyle 2 x$"
      ],
      "text/plain": [
       "2*x"
      ]
     },
     "execution_count": 17,
     "metadata": {},
     "output_type": "execute_result"
    }
   ],
   "source": [
    "f.diff(x)"
   ]
  },
  {
   "cell_type": "code",
   "execution_count": 20,
   "id": "513230dd-c3ca-411b-8581-e1fcdfbc2d76",
   "metadata": {},
   "outputs": [
    {
     "data": {
      "text/plain": [
       "'\\\\frac{α}{x}'"
      ]
     },
     "execution_count": 20,
     "metadata": {},
     "output_type": "execute_result"
    }
   ],
   "source": [
    "sym.latex(α/x)"
   ]
  },
  {
   "cell_type": "code",
   "execution_count": 21,
   "id": "4a572198-6e8d-4d76-a116-1de79efdb1cf",
   "metadata": {},
   "outputs": [
    {
     "data": {
      "text/latex": [
       "$\\displaystyle \\frac{α}{x}$"
      ],
      "text/plain": [
       "α/x"
      ]
     },
     "execution_count": 21,
     "metadata": {},
     "output_type": "execute_result"
    }
   ],
   "source": [
    "α/x"
   ]
  },
  {
   "cell_type": "code",
   "execution_count": 22,
   "id": "c08e7218-2f98-4c52-9d8f-e67f81b62f94",
   "metadata": {},
   "outputs": [
    {
     "ename": "AttributeError",
     "evalue": "module 'sympy' has no attribute 'simpify'",
     "output_type": "error",
     "traceback": [
      "\u001b[1;31m---------------------------------------------------------------------------\u001b[0m",
      "\u001b[1;31mAttributeError\u001b[0m                            Traceback (most recent call last)",
      "\u001b[1;32m<ipython-input-22-8d81819bd149>\u001b[0m in \u001b[0;36m<module>\u001b[1;34m\u001b[0m\n\u001b[1;32m----> 1\u001b[1;33m \u001b[0msym\u001b[0m\u001b[1;33m.\u001b[0m\u001b[0msimpify\u001b[0m\u001b[1;33m(\u001b[0m\u001b[1;34m'3/4'\u001b[0m\u001b[1;33m)\u001b[0m\u001b[1;33m\u001b[0m\u001b[1;33m\u001b[0m\u001b[0m\n\u001b[0m",
      "\u001b[1;31mAttributeError\u001b[0m: module 'sympy' has no attribute 'simpify'"
     ]
    }
   ],
   "source": []
  },
  {
   "cell_type": "markdown",
   "id": "0e815b50-531e-4889-bf49-0a3ba28fcf81",
   "metadata": {},
   "source": [
    "$\n",
    "\\text{with } x=-2, x^2+4 \\quad \\Rightarrow \\quad -x^2+4 = 8\n",
    "$"
   ]
  },
  {
   "cell_type": "code",
   "execution_count": 28,
   "id": "82da63b4-fd1d-41b4-ac30-9cb924a13ed2",
   "metadata": {},
   "outputs": [
    {
     "data": {
      "text/latex": [
       "$\\displaystyle \\frac{x}{y}$"
      ],
      "text/plain": [
       "x/y"
      ]
     },
     "metadata": {},
     "output_type": "display_data"
    },
    {
     "data": {
      "text/latex": [
       "$\\displaystyle \\sqrt{α}$"
      ],
      "text/plain": [
       "sqrt(α)"
      ]
     },
     "metadata": {},
     "output_type": "display_data"
    }
   ],
   "source": [
    "display(x/y)\n",
    "display(sym.sqrt(α))"
   ]
  },
  {
   "cell_type": "code",
   "execution_count": 30,
   "id": "4c1aeeb5-64e8-4db2-9676-82cdbe044a45",
   "metadata": {},
   "outputs": [
    {
     "data": {
      "text/plain": [
       "1"
      ]
     },
     "metadata": {},
     "output_type": "display_data"
    },
    {
     "data": {
      "text/plain": [
       "2"
      ]
     },
     "metadata": {},
     "output_type": "display_data"
    }
   ],
   "source": [
    "p= 1\n",
    "q= 2\n",
    "display(p)\n",
    "display(q)"
   ]
  },
  {
   "cell_type": "code",
   "execution_count": 33,
   "id": "b43a0fa3-af8d-4140-9f30-a05fe814e286",
   "metadata": {},
   "outputs": [
    {
     "data": {
      "text/latex": [
       "$\\displaystyle x^{y}$"
      ],
      "text/plain": [
       "x**y"
      ]
     },
     "metadata": {},
     "output_type": "display_data"
    },
    {
     "data": {
      "text/latex": [
       "$\\displaystyle x^{z}$"
      ],
      "text/plain": [
       "x**z"
      ]
     },
     "metadata": {},
     "output_type": "display_data"
    }
   ],
   "source": [
    "display(x**y)\n",
    "display(x**z)"
   ]
  },
  {
   "cell_type": "code",
   "execution_count": 38,
   "id": "710d2c5f-57bf-4734-86c3-ba65ca1006d8",
   "metadata": {},
   "outputs": [
    {
     "data": {
      "text/latex": [
       "$\\displaystyle x^{y} x^{- z}$"
      ],
      "text/plain": [
       "x**y*x**(-z)"
      ]
     },
     "execution_count": 38,
     "metadata": {},
     "output_type": "execute_result"
    }
   ],
   "source": [
    "f= x**y / x**z\n",
    "f"
   ]
  },
  {
   "cell_type": "code",
   "execution_count": 39,
   "id": "9d8da061-bb12-4f15-9a60-d9b5ebd52308",
   "metadata": {},
   "outputs": [
    {
     "data": {
      "text/latex": [
       "$\\displaystyle x^{y - z}$"
      ],
      "text/plain": [
       "x**(y - z)"
      ]
     },
     "execution_count": 39,
     "metadata": {},
     "output_type": "execute_result"
    }
   ],
   "source": [
    "f.simplify()"
   ]
  },
  {
   "cell_type": "code",
   "execution_count": 40,
   "id": "a3498ec6-cf95-416e-ac20-879bffd71728",
   "metadata": {},
   "outputs": [
    {
     "data": {
      "text/latex": [
       "$\\displaystyle x^{y} x^{- z}$"
      ],
      "text/plain": [
       "x**y*x**(-z)"
      ]
     },
     "execution_count": 40,
     "metadata": {},
     "output_type": "execute_result"
    }
   ],
   "source": [
    "f.expand()"
   ]
  },
  {
   "cell_type": "code",
   "execution_count": 46,
   "id": "e64669f4-ba9b-49c5-977b-0cd7b345816f",
   "metadata": {},
   "outputs": [
    {
     "data": {
      "text/latex": [
       "$\\displaystyle x^{y} x^{z} = x^{y + z}$"
      ],
      "text/plain": [
       "Eq(x**y*x**z, x**(y + z))"
      ]
     },
     "execution_count": 46,
     "metadata": {},
     "output_type": "execute_result"
    }
   ],
   "source": [
    "f= x**y * x**z\n",
    "g= x**(y+z)\n",
    "sym.Eq(f, g)"
   ]
  },
  {
   "cell_type": "code",
   "execution_count": 47,
   "id": "d24e416f-ac06-42d9-9338-10d0cb8803ee",
   "metadata": {},
   "outputs": [
    {
     "data": {
      "text/latex": [
       "$\\displaystyle \\text{True}$"
      ],
      "text/plain": [
       "True"
      ]
     },
     "execution_count": 47,
     "metadata": {},
     "output_type": "execute_result"
    }
   ],
   "source": [
    "sym.Eq(f.simplify(), g.simplify())"
   ]
  },
  {
   "cell_type": "code",
   "execution_count": 48,
   "id": "6b5ae919-d03c-4600-954d-f90d2f9d08d5",
   "metadata": {},
   "outputs": [
    {
     "data": {
      "text/latex": [
       "$\\displaystyle \\text{True}$"
      ],
      "text/plain": [
       "True"
      ]
     },
     "execution_count": 48,
     "metadata": {},
     "output_type": "execute_result"
    }
   ],
   "source": [
    "sym.Eq(f.expand(), g.expand())"
   ]
  },
  {
   "cell_type": "code",
   "execution_count": 49,
   "id": "18979051-0c0a-4b8b-bdf3-b259621ef816",
   "metadata": {},
   "outputs": [
    {
     "data": {
      "text/latex": [
       "$\\displaystyle x^{y + z}$"
      ],
      "text/plain": [
       "x**(y + z)"
      ]
     },
     "execution_count": 49,
     "metadata": {},
     "output_type": "execute_result"
    }
   ],
   "source": [
    "f.powsimp()"
   ]
  },
  {
   "cell_type": "code",
   "execution_count": 50,
   "id": "f126edd7-6bcb-42ba-a92e-d05a9631e992",
   "metadata": {},
   "outputs": [],
   "source": [
    "import sympy as sym\n",
    "import matplotlib.pyplot as plt\n",
    "import numpy as np\n",
    "from scipy.signal import find_peaks\n",
    "from IPython.display import display,Math\n"
   ]
  },
  {
   "cell_type": "code",
   "execution_count": 117,
   "id": "04bf63b7-1d1c-4d26-a809-fffbedd6bb15",
   "metadata": {},
   "outputs": [
    {
     "data": {
      "text/latex": [
       "$\\displaystyle \\lim_{x\\to 1.5} x^{3} = 3.375$"
      ],
      "text/plain": [
       "<IPython.core.display.Math object>"
      ]
     },
     "execution_count": 117,
     "metadata": {},
     "output_type": "execute_result"
    }
   ],
   "source": [
    "x = sym.symbols('x')\n",
    "\n",
    "# the function\n",
    "fx= x**3\n",
    "\n",
    "# limit\n",
    "lim_pnt= 1.5\n",
    "lim=     sym.limit(fx, x, lim_pnt)\n",
    "\n",
    "s= '\\\\lim_{x\\\\to %g} %s = %g' %(lim_pnt,sym.latex(fx),lim)\n",
    "s\n",
    "Math(s)"
   ]
  },
  {
   "cell_type": "code",
   "execution_count": 125,
   "id": "636e7ca0-00ba-4590-8514-106488d8c3da",
   "metadata": {},
   "outputs": [
    {
     "data": {
      "text/plain": [
       "'\\n\\\\lim_{x\\\\to 1.5} \\nx^{3} \\n= \\n3.375\\n'"
      ]
     },
     "metadata": {},
     "output_type": "display_data"
    },
    {
     "data": {
      "text/latex": [
       "$\\displaystyle \n",
       "\\lim_{x\\to 1.5} \n",
       "x^{3} \n",
       "= \n",
       "3.375\n",
       "$"
      ],
      "text/plain": [
       "<IPython.core.display.Math object>"
      ]
     },
     "metadata": {},
     "output_type": "display_data"
    }
   ],
   "source": [
    "l_fx= sym.latex(fx)\n",
    "\n",
    "s= f'''\n",
    "\\\\lim_{{x\\\\to {lim_pnt}}} \n",
    "{l_fx} \n",
    "= \n",
    "{lim:.3f}\n",
    "'''\n",
    "\n",
    "display(s)\n",
    "display(Math(s))"
   ]
  },
  {
   "cell_type": "code",
   "execution_count": 76,
   "id": "c0eef783-d435-4323-8121-656f4ff5500a",
   "metadata": {},
   "outputs": [
    {
     "ename": "SyntaxError",
     "evalue": "invalid syntax (<fstring>, line 1)",
     "output_type": "error",
     "traceback": [
      "\u001b[1;36m  File \u001b[1;32m\"<fstring>\"\u001b[1;36m, line \u001b[1;32m1\u001b[0m\n\u001b[1;33m    (x to {lim_pnt})\u001b[0m\n\u001b[1;37m       ^\u001b[0m\n\u001b[1;31mSyntaxError\u001b[0m\u001b[1;31m:\u001b[0m invalid syntax\n"
     ]
    }
   ],
   "source": [
    "s= f'''\\lim_{x to {lim_pnt}} \n",
    "{l_fx} = \n",
    "{lim}'''\n",
    "\n",
    "\n",
    "#display(s)\n",
    "#display(Math(s))\n",
    "Math(s)"
   ]
  },
  {
   "cell_type": "markdown",
   "id": "9a01800a-18ed-45f5-af68-98edb0947af4",
   "metadata": {},
   "source": [
    "$\n",
    "\\frac{1}{2}\n",
    "$"
   ]
  },
  {
   "cell_type": "code",
   "execution_count": 63,
   "id": "4f10f904-e5da-4c03-b438-ebc2bdbc5be3",
   "metadata": {},
   "outputs": [
    {
     "data": {
      "text/latex": [
       "$\\displaystyle \\frac12$"
      ],
      "text/plain": [
       "<IPython.core.display.Math object>"
      ]
     },
     "execution_count": 63,
     "metadata": {},
     "output_type": "execute_result"
    }
   ],
   "source": [
    "x=1\n",
    "y=2\n",
    "s= f'\\\\frac{x}{y}'\n",
    "Math(s)"
   ]
  },
  {
   "cell_type": "markdown",
   "id": "48a72267-36fb-4fa3-a131-1fc5760bffbd",
   "metadata": {},
   "source": [
    "$$\n",
    "\\lim_{x \\to 1.5} x^{3} = 3.375\n",
    "$$"
   ]
  },
  {
   "cell_type": "code",
   "execution_count": 140,
   "id": "cf7b38c3-845b-4651-8edc-43b4b0a09b4d",
   "metadata": {},
   "outputs": [
    {
     "data": {
      "text/latex": [
       "$\\displaystyle \n",
       "\\lim_{ x \\to 1 } \n",
       "x^{ 2 } \n",
       "= 3\n",
       "$"
      ],
      "text/plain": [
       "<IPython.core.display.Math object>"
      ]
     },
     "execution_count": 140,
     "metadata": {},
     "output_type": "execute_result"
    }
   ],
   "source": [
    "p=1\n",
    "q=2\n",
    "r=3\n",
    "\n",
    "s= f'''\n",
    "\\\\lim_{{ x \\\\to {p} }} \n",
    "x^{{ {q} }} \n",
    "= {r}\n",
    "'''\n",
    "\n",
    "Math(s)"
   ]
  },
  {
   "cell_type": "code",
   "execution_count": 130,
   "id": "afa00bd2-a958-4c36-86fd-3ad538c5054c",
   "metadata": {},
   "outputs": [
    {
     "data": {
      "text/plain": [
       "'\\\\{}\\\\ '"
      ]
     },
     "execution_count": 130,
     "metadata": {},
     "output_type": "execute_result"
    }
   ],
   "source": [
    "r'\\{}\\'"
   ]
  },
  {
   "cell_type": "code",
   "execution_count": 139,
   "id": "71745dcb-8e93-4492-aba0-5f8cf0fbef75",
   "metadata": {},
   "outputs": [
    {
     "ename": "SyntaxError",
     "evalue": "f-string expression part cannot include a backslash (<ipython-input-139-8811dd11816f>, line 1)",
     "output_type": "error",
     "traceback": [
      "\u001b[1;36m  File \u001b[1;32m\"<ipython-input-139-8811dd11816f>\"\u001b[1;36m, line \u001b[1;32m1\u001b[0m\n\u001b[1;33m    s= fr'''\\lim_{ x \\to {p} } x^{ {q} } = {r}'''\u001b[0m\n\u001b[1;37m       ^\u001b[0m\n\u001b[1;31mSyntaxError\u001b[0m\u001b[1;31m:\u001b[0m f-string expression part cannot include a backslash\n"
     ]
    }
   ],
   "source": []
  },
  {
   "cell_type": "code",
   "execution_count": null,
   "id": "43c2de75-afb0-4bba-bc85-4eed413f8b5e",
   "metadata": {},
   "outputs": [],
   "source": []
  }
 ],
 "metadata": {
  "kernelspec": {
   "display_name": "Python 3",
   "language": "python",
   "name": "python3"
  },
  "language_info": {
   "codemirror_mode": {
    "name": "ipython",
    "version": 3
   },
   "file_extension": ".py",
   "mimetype": "text/x-python",
   "name": "python",
   "nbconvert_exporter": "python",
   "pygments_lexer": "ipython3",
   "version": "3.8.8"
  }
 },
 "nbformat": 4,
 "nbformat_minor": 5
}
