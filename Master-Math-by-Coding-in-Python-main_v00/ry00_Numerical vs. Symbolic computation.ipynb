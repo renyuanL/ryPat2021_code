{
 "cells": [
  {
   "cell_type": "markdown",
   "id": "7fc29de3-f4af-4b5d-9ec9-c7fa0a6d60e0",
   "metadata": {},
   "source": [
    "# Numerical vs. Symbolic computation"
   ]
  },
  {
   "cell_type": "code",
   "execution_count": 1,
   "id": "41cbdbfe-5d70-4754-8da4-abc3d92f431d",
   "metadata": {},
   "outputs": [
    {
     "data": {
      "text/plain": [
       "(0.3333333333333333, 0.6666666666666666, 1.0, 0.33333333333333337)"
      ]
     },
     "execution_count": 1,
     "metadata": {},
     "output_type": "execute_result"
    }
   ],
   "source": [
    "# numerical computation\n",
    "# ex01\n",
    "\n",
    "a= 1/3\n",
    "b= 2/3\n",
    "\n",
    "a, b, a+b, (a+b-b)"
   ]
  },
  {
   "cell_type": "code",
   "execution_count": 2,
   "id": "aa29daf0-7e6b-4c74-8f76-b18c31991cb0",
   "metadata": {},
   "outputs": [
    {
     "data": {
      "text/plain": [
       "False"
      ]
     },
     "execution_count": 2,
     "metadata": {},
     "output_type": "execute_result"
    }
   ],
   "source": [
    "(a+b-b) == a  # this is False !!!"
   ]
  },
  {
   "cell_type": "code",
   "execution_count": 3,
   "id": "be5f1c62-d58c-4d67-b381-0832e3d720c3",
   "metadata": {},
   "outputs": [
    {
     "data": {
      "text/plain": [
       "True"
      ]
     },
     "execution_count": 3,
     "metadata": {},
     "output_type": "execute_result"
    }
   ],
   "source": [
    "import math\n",
    "math.isclose((a+b-b), a)  # 除非你覺得 \"isclose\" is enough!!"
   ]
  },
  {
   "cell_type": "code",
   "execution_count": 4,
   "id": "0ab1a4fd-719b-4de4-8549-b5865869e60e",
   "metadata": {},
   "outputs": [],
   "source": [
    "#math.isclose?\n",
    "# Signature: math.isclose(a, b, *, 【rel_tol=1e-09】, abs_tol=0.0)"
   ]
  },
  {
   "cell_type": "code",
   "execution_count": 5,
   "id": "c556b4bf-4549-4eae-b0b6-9ee45c8ef296",
   "metadata": {},
   "outputs": [
    {
     "data": {
      "text/plain": [
       "(0.8164965809277261, 0.816496580927726, False)"
      ]
     },
     "execution_count": 5,
     "metadata": {},
     "output_type": "execute_result"
    }
   ],
   "source": [
    "# ex02\n",
    "a= 2\n",
    "b= 3\n",
    "c= (a**.5) / (b**.5)\n",
    "d= (a/b)**.5\n",
    "c, d, c==d"
   ]
  },
  {
   "cell_type": "code",
   "execution_count": 6,
   "id": "62974f20-61b7-4a83-b04d-1031f204df0d",
   "metadata": {},
   "outputs": [
    {
     "data": {
      "text/plain": [
       "1.3597399555105182e-16"
      ]
     },
     "execution_count": 6,
     "metadata": {},
     "output_type": "execute_result"
    }
   ],
   "source": [
    "# 檢查一下誤差之百分比，的確很小啦！\n",
    "error= (c-d)/c\n",
    "error"
   ]
  },
  {
   "cell_type": "code",
   "execution_count": 7,
   "id": "ad514c54-c7f1-4050-b6a3-7f4823232c1a",
   "metadata": {},
   "outputs": [
    {
     "data": {
      "text/plain": [
       "(2, 3)"
      ]
     },
     "execution_count": 7,
     "metadata": {},
     "output_type": "execute_result"
    }
   ],
   "source": [
    "# 但有沒有改善空間，有！\n",
    "# 增加電腦的位元數 16bit --> 32 bit -->64 bit -->128 bit ->???\n",
    "# 還有沒有其他可能性？ \n",
    "# ===> Symbolic Computation\n",
    "\n",
    "import sympy\n",
    "a= sympy.Integer(2)\n",
    "b= sympy.Integer(3)\n",
    "a, b"
   ]
  },
  {
   "cell_type": "code",
   "execution_count": 8,
   "id": "ad16bb46-60d1-4046-9370-19f542516642",
   "metadata": {},
   "outputs": [
    {
     "data": {
      "text/latex": [
       "$\\displaystyle \\frac{\\sqrt{6}}{3}$"
      ],
      "text/plain": [
       "sqrt(6)/3"
      ]
     },
     "execution_count": 8,
     "metadata": {},
     "output_type": "execute_result"
    }
   ],
   "source": [
    "c= sympy.sqrt(a)/sympy.sqrt(b)\n",
    "c"
   ]
  },
  {
   "cell_type": "code",
   "execution_count": 9,
   "id": "923930b5-652b-46e2-b229-53221bb32aef",
   "metadata": {},
   "outputs": [
    {
     "data": {
      "text/latex": [
       "$\\displaystyle \\frac{\\sqrt{6}}{3}$"
      ],
      "text/plain": [
       "sqrt(6)/3"
      ]
     },
     "execution_count": 9,
     "metadata": {},
     "output_type": "execute_result"
    }
   ],
   "source": [
    "d= sympy.sqrt(a/b)\n",
    "d"
   ]
  },
  {
   "cell_type": "code",
   "execution_count": 10,
   "id": "c3670898-5109-4758-95bf-1be07c8d539c",
   "metadata": {},
   "outputs": [
    {
     "data": {
      "text/plain": [
       "True"
      ]
     },
     "execution_count": 10,
     "metadata": {},
     "output_type": "execute_result"
    }
   ],
   "source": [
    "c==d"
   ]
  },
  {
   "cell_type": "markdown",
   "id": "40a907b3-43d2-4910-aab5-ffac1b591795",
   "metadata": {},
   "source": [
    "# A More Interesting Example\n",
    "- https://docs.sympy.org/latest/tutorial/intro.html#what-is-symbolic-computation"
   ]
  },
  {
   "cell_type": "code",
   "execution_count": 11,
   "id": "f239ed6e-5916-4448-b16c-697135f3b99b",
   "metadata": {},
   "outputs": [
    {
     "data": {
      "text/latex": [
       "$\\displaystyle x$"
      ],
      "text/plain": [
       "x"
      ]
     },
     "execution_count": 11,
     "metadata": {},
     "output_type": "execute_result"
    }
   ],
   "source": [
    "x= sympy.symbols('x')\n",
    "x"
   ]
  },
  {
   "cell_type": "code",
   "execution_count": 12,
   "id": "91b0ff3b-77e0-41d6-ac32-bea52d492bed",
   "metadata": {},
   "outputs": [],
   "source": [
    "#x??\n",
    "\n",
    "#Type:        Symbol\n",
    "#String form: x\n"
   ]
  },
  {
   "cell_type": "code",
   "execution_count": 13,
   "id": "ed43622a-ae5d-4a43-b094-b971538eae5d",
   "metadata": {},
   "outputs": [
    {
     "data": {
      "text/latex": [
       "$\\displaystyle x^{2} + x + 1$"
      ],
      "text/plain": [
       "x**2 + x + 1"
      ]
     },
     "execution_count": 13,
     "metadata": {},
     "output_type": "execute_result"
    }
   ],
   "source": [
    "f= 1 + x + x**2  # 多項式 表示式 (expression)\n",
    "f"
   ]
  },
  {
   "cell_type": "code",
   "execution_count": 14,
   "id": "6b7b38f8-7588-4b34-83c7-212471708428",
   "metadata": {},
   "outputs": [
    {
     "data": {
      "text/latex": [
       "$\\displaystyle 2 x^{2} + 2 x + 2$"
      ],
      "text/plain": [
       "2*x**2 + 2*x + 2"
      ]
     },
     "execution_count": 14,
     "metadata": {},
     "output_type": "execute_result"
    }
   ],
   "source": [
    "f+f  # 表示式 (expression) 的相加"
   ]
  },
  {
   "cell_type": "code",
   "execution_count": 15,
   "id": "274dffca-6899-4776-9bb6-d49c4f7cea5e",
   "metadata": {},
   "outputs": [
    {
     "data": {
      "text/latex": [
       "$\\displaystyle \\left(x^{2} + x + 1\\right)^{2}$"
      ],
      "text/plain": [
       "(x**2 + x + 1)**2"
      ]
     },
     "execution_count": 15,
     "metadata": {},
     "output_type": "execute_result"
    }
   ],
   "source": [
    "f*f # 表示式 (expression) 的相乘"
   ]
  },
  {
   "cell_type": "code",
   "execution_count": 16,
   "id": "9c64908d-8fc6-485a-a8db-33051db700fd",
   "metadata": {},
   "outputs": [
    {
     "data": {
      "text/latex": [
       "$\\displaystyle \\left(x^{2} + x + 1\\right)^{3}$"
      ],
      "text/plain": [
       "(x**2 + x + 1)**3"
      ]
     },
     "execution_count": 16,
     "metadata": {},
     "output_type": "execute_result"
    }
   ],
   "source": [
    "f**3  # 表示式 (expression) 的乘冪"
   ]
  },
  {
   "cell_type": "code",
   "execution_count": 17,
   "id": "e5c89156-8577-42ac-ab59-35162d7cdf51",
   "metadata": {},
   "outputs": [
    {
     "data": {
      "text/latex": [
       "$\\displaystyle x^{6} + 3 x^{5} + 6 x^{4} + 7 x^{3} + 6 x^{2} + 3 x + 1$"
      ],
      "text/plain": [
       "x**6 + 3*x**5 + 6*x**4 + 7*x**3 + 6*x**2 + 3*x + 1"
      ]
     },
     "execution_count": 17,
     "metadata": {},
     "output_type": "execute_result"
    }
   ],
   "source": [
    "(f**3).expand() # 表示式 (expression) 的展開"
   ]
  },
  {
   "cell_type": "code",
   "execution_count": 18,
   "id": "1ade2c0c-1acf-40ba-9e46-4f8fa98d2e88",
   "metadata": {},
   "outputs": [
    {
     "data": {
      "text/latex": [
       "$\\displaystyle \\left(x^{2} + x + 1\\right)^{3}$"
      ],
      "text/plain": [
       "(x**2 + x + 1)**3"
      ]
     },
     "execution_count": 18,
     "metadata": {},
     "output_type": "execute_result"
    }
   ],
   "source": [
    "g= (f**3).expand() # 表示式 (expression) 的因式分解\n",
    "g.factor()"
   ]
  },
  {
   "cell_type": "code",
   "execution_count": 19,
   "id": "f3fdf8e9-c534-44fe-ad08-1e737908158a",
   "metadata": {},
   "outputs": [
    {
     "data": {
      "text/latex": [
       "$\\displaystyle x^{2} + x + 1$"
      ],
      "text/plain": [
       "x**2 + x + 1"
      ]
     },
     "execution_count": 19,
     "metadata": {},
     "output_type": "execute_result"
    }
   ],
   "source": [
    "f"
   ]
  },
  {
   "cell_type": "code",
   "execution_count": 20,
   "id": "9f8103ac-24f5-4809-ad4b-6691e07c9031",
   "metadata": {},
   "outputs": [
    {
     "data": {
      "text/latex": [
       "$\\displaystyle 2 x + 1$"
      ],
      "text/plain": [
       "2*x + 1"
      ]
     },
     "execution_count": 20,
     "metadata": {},
     "output_type": "execute_result"
    }
   ],
   "source": [
    "f.diff(x) # 表示式 (expression) 的微分"
   ]
  },
  {
   "cell_type": "code",
   "execution_count": 21,
   "id": "cce79525-df33-467a-b489-bc520aceb07d",
   "metadata": {},
   "outputs": [
    {
     "data": {
      "text/latex": [
       "$\\displaystyle \\frac{x^{3}}{3} + \\frac{x^{2}}{2} + x$"
      ],
      "text/plain": [
       "x**3/3 + x**2/2 + x"
      ]
     },
     "execution_count": 21,
     "metadata": {},
     "output_type": "execute_result"
    }
   ],
   "source": [
    "f.integrate(x) # 表示式 (expression) 的積分"
   ]
  },
  {
   "cell_type": "code",
   "execution_count": 22,
   "id": "22f2cef4-a418-460d-a1f5-a037fc723d26",
   "metadata": {},
   "outputs": [
    {
     "data": {
      "text/latex": [
       "$\\displaystyle \\frac{1180}{3}$"
      ],
      "text/plain": [
       "1180/3"
      ]
     },
     "execution_count": 22,
     "metadata": {},
     "output_type": "execute_result"
    }
   ],
   "source": [
    "f.integrate((x,0,10)) # 表示式 (expression) 的定積分"
   ]
  },
  {
   "cell_type": "code",
   "execution_count": 23,
   "id": "2f546826-39ea-4ca0-a044-9fe323511c1f",
   "metadata": {},
   "outputs": [
    {
     "data": {
      "text/latex": [
       "$\\displaystyle 111$"
      ],
      "text/plain": [
       "111"
      ]
     },
     "execution_count": 23,
     "metadata": {},
     "output_type": "execute_result"
    }
   ],
   "source": [
    "f.subs(x,10)  # 表示式 (expression) 的變數替換 (代入)"
   ]
  },
  {
   "cell_type": "code",
   "execution_count": 24,
   "id": "6d268cd6-29c1-42c4-8eef-07ace5855ce6",
   "metadata": {},
   "outputs": [
    {
     "data": {
      "text/latex": [
       "$\\displaystyle \\frac{1180}{3}$"
      ],
      "text/plain": [
       "1180/3"
      ]
     },
     "execution_count": 24,
     "metadata": {},
     "output_type": "execute_result"
    }
   ],
   "source": [
    "# 運用 變數替換 (代入)，來驗算定積分\n",
    "F= f.integrate(x)\n",
    "F.subs(x,10) - F.subs(x,0)"
   ]
  },
  {
   "cell_type": "code",
   "execution_count": 25,
   "id": "540b0bfa-94ff-430c-9dd6-807b98ffce47",
   "metadata": {},
   "outputs": [
    {
     "data": {
      "text/plain": [
       "True"
      ]
     },
     "execution_count": 25,
     "metadata": {},
     "output_type": "execute_result"
    }
   ],
   "source": [
    "F.subs(x,10) - F.subs(x,0) == f.integrate((x,0,10))"
   ]
  },
  {
   "cell_type": "code",
   "execution_count": 26,
   "id": "6bf1c890-214b-4164-84fa-ec6245732ca4",
   "metadata": {},
   "outputs": [
    {
     "data": {
      "text/latex": [
       "$\\displaystyle 111$"
      ],
      "text/plain": [
       "111"
      ]
     },
     "execution_count": 26,
     "metadata": {},
     "output_type": "execute_result"
    }
   ],
   "source": [
    "# 極限\n",
    "sympy.limit(f, x, 10)"
   ]
  },
  {
   "cell_type": "code",
   "execution_count": 27,
   "id": "1c6cc574-fd8b-40ad-a7bf-be518d3c1f88",
   "metadata": {},
   "outputs": [
    {
     "data": {
      "text/latex": [
       "$\\displaystyle \\infty$"
      ],
      "text/plain": [
       "oo"
      ]
     },
     "execution_count": 27,
     "metadata": {},
     "output_type": "execute_result"
    }
   ],
   "source": [
    "sympy.limit(f, x, sympy.oo)"
   ]
  },
  {
   "cell_type": "code",
   "execution_count": 28,
   "id": "3f38d4a4-9cba-4b04-ae36-9b7dd3518a02",
   "metadata": {},
   "outputs": [
    {
     "data": {
      "text/latex": [
       "$\\displaystyle \\frac{x^{2} - x - 2}{x + 1}$"
      ],
      "text/plain": [
       "(x**2 - x - 2)/(x + 1)"
      ]
     },
     "execution_count": 28,
     "metadata": {},
     "output_type": "execute_result"
    }
   ],
   "source": [
    "# 再測試一下其他較有趣的極限運算\n",
    "# ex01\n",
    "\n",
    "f1= (x**2 -x -2)/(x+1)\n",
    "f1"
   ]
  },
  {
   "cell_type": "code",
   "execution_count": 29,
   "id": "c8ee8f75-5508-4504-bc82-0dfc01bf5191",
   "metadata": {},
   "outputs": [
    {
     "data": {
      "text/latex": [
       "$\\displaystyle \\text{NaN}$"
      ],
      "text/plain": [
       "nan"
      ]
     },
     "execution_count": 29,
     "metadata": {},
     "output_type": "execute_result"
    }
   ],
   "source": [
    "f1.subs(x,-1)"
   ]
  },
  {
   "cell_type": "code",
   "execution_count": 30,
   "id": "822b0c69-117d-4a94-846d-7cff34405b96",
   "metadata": {},
   "outputs": [
    {
     "data": {
      "text/latex": [
       "$\\displaystyle x - 2$"
      ],
      "text/plain": [
       "x - 2"
      ]
     },
     "execution_count": 30,
     "metadata": {},
     "output_type": "execute_result"
    }
   ],
   "source": [
    "f2= f1.simplify()\n",
    "f2"
   ]
  },
  {
   "cell_type": "code",
   "execution_count": 31,
   "id": "c98c4edb-4a7f-483b-bf20-672125cd484b",
   "metadata": {},
   "outputs": [
    {
     "data": {
      "text/latex": [
       "$\\displaystyle -3$"
      ],
      "text/plain": [
       "-3"
      ]
     },
     "execution_count": 31,
     "metadata": {},
     "output_type": "execute_result"
    }
   ],
   "source": [
    "f2.subs(x,-1)"
   ]
  },
  {
   "cell_type": "code",
   "execution_count": 32,
   "id": "e16c774b-f133-4214-b03f-5f04ba931f42",
   "metadata": {},
   "outputs": [
    {
     "data": {
      "text/latex": [
       "$\\displaystyle -3$"
      ],
      "text/plain": [
       "-3"
      ]
     },
     "execution_count": 32,
     "metadata": {},
     "output_type": "execute_result"
    }
   ],
   "source": [
    "sympy.limit(f1, x, -1)"
   ]
  },
  {
   "cell_type": "code",
   "execution_count": 33,
   "id": "60f64d2e-234b-4f4b-bd41-6d2f2c44ba13",
   "metadata": {},
   "outputs": [
    {
     "data": {
      "text/latex": [
       "$\\displaystyle \\left(1 + \\frac{x}{n}\\right)^{n}$"
      ],
      "text/plain": [
       "(1 + x/n)**n"
      ]
     },
     "execution_count": 33,
     "metadata": {},
     "output_type": "execute_result"
    }
   ],
   "source": [
    "# ex03\n",
    "x, n= sympy.symbols('x, n')\n",
    "f3= (1+x/n)**n\n",
    "f3"
   ]
  },
  {
   "cell_type": "code",
   "execution_count": 34,
   "id": "1eaf017f-47db-4f3c-8524-db86fcff1a20",
   "metadata": {},
   "outputs": [
    {
     "data": {
      "text/latex": [
       "$\\displaystyle e^{x}$"
      ],
      "text/plain": [
       "exp(x)"
      ]
     },
     "execution_count": 34,
     "metadata": {},
     "output_type": "execute_result"
    }
   ],
   "source": [
    "sympy.limit(f3, n, sympy.oo)"
   ]
  },
  {
   "cell_type": "code",
   "execution_count": 35,
   "id": "ebef0ddb-661d-4093-bee9-61dc51f3ea65",
   "metadata": {},
   "outputs": [
    {
     "data": {
      "text/latex": [
       "$\\displaystyle \\frac{\\sin{\\left(θ \\right)}}{θ}$"
      ],
      "text/plain": [
       "sin(θ)/θ"
      ]
     },
     "execution_count": 35,
     "metadata": {},
     "output_type": "execute_result"
    }
   ],
   "source": [
    "# ex04\n",
    "θ= sympy.symbols('θ')\n",
    "f4= sympy.sin(θ) / θ\n",
    "f4"
   ]
  },
  {
   "cell_type": "code",
   "execution_count": 36,
   "id": "459a0a51-e763-497f-920b-185a3b41056a",
   "metadata": {},
   "outputs": [
    {
     "data": {
      "text/latex": [
       "$\\displaystyle 1$"
      ],
      "text/plain": [
       "1"
      ]
     },
     "execution_count": 36,
     "metadata": {},
     "output_type": "execute_result"
    }
   ],
   "source": [
    "sympy.limit(f4, θ, 0)"
   ]
  },
  {
   "cell_type": "code",
   "execution_count": 37,
   "id": "3abdee3e-c750-453a-a2d4-f88a263b553b",
   "metadata": {},
   "outputs": [
    {
     "data": {
      "text/latex": [
       "$\\displaystyle \\left. \\frac{d}{d \\xi_{1}} f{\\left(\\xi_{1} \\right)} \\right|_{\\substack{ \\xi_{1}=x }}$"
      ],
      "text/plain": [
       "Subs(Derivative(f(_xi_1), _xi_1), _xi_1, x)"
      ]
     },
     "execution_count": 37,
     "metadata": {},
     "output_type": "execute_result"
    }
   ],
   "source": [
    "# ex 5\n",
    "x, dx= sympy.symbols('x, dx')\n",
    "f= sympy.Function('f')\n",
    "\n",
    "q= sympy.limit((f(x+dx)-f(x))/dx, dx,0)\n",
    "q"
   ]
  },
  {
   "cell_type": "code",
   "execution_count": 38,
   "id": "461c062a-944f-43d8-8953-9d929c39ee11",
   "metadata": {},
   "outputs": [
    {
     "data": {
      "text/latex": [
       "$\\displaystyle \\frac{d}{d x} f{\\left(x \\right)}$"
      ],
      "text/plain": [
       "Derivative(f(x), x)"
      ]
     },
     "execution_count": 38,
     "metadata": {},
     "output_type": "execute_result"
    }
   ],
   "source": [
    "f(x).diff(x)"
   ]
  },
  {
   "cell_type": "code",
   "execution_count": 39,
   "id": "99c1f5bf-3293-431d-becb-791e87e578a7",
   "metadata": {},
   "outputs": [
    {
     "data": {
      "text/plain": [
       "True"
      ]
     },
     "execution_count": 39,
     "metadata": {},
     "output_type": "execute_result"
    }
   ],
   "source": [
    "q.simplify() == f(x).diff(x)"
   ]
  },
  {
   "cell_type": "code",
   "execution_count": 40,
   "id": "51e9eec7-5488-4893-83a5-cef92f11b253",
   "metadata": {},
   "outputs": [
    {
     "data": {
      "text/latex": [
       "$\\displaystyle x^{2} + x + 1$"
      ],
      "text/plain": [
       "x**2 + x + 1"
      ]
     },
     "execution_count": 40,
     "metadata": {},
     "output_type": "execute_result"
    }
   ],
   "source": [
    "# ex6\n",
    "# 再走深入一點\n",
    "def h(x):\n",
    "    y = 1 + x + x**2\n",
    "    return y\n",
    "h(x)"
   ]
  },
  {
   "cell_type": "code",
   "execution_count": 41,
   "id": "8c3c9c30-2574-4ec5-a2a6-b0d404a42d70",
   "metadata": {},
   "outputs": [
    {
     "data": {
      "text/latex": [
       "$\\displaystyle dx + x + \\left(dx + x\\right)^{2} + 1$"
      ],
      "text/plain": [
       "dx + x + (dx + x)**2 + 1"
      ]
     },
     "execution_count": 41,
     "metadata": {},
     "output_type": "execute_result"
    }
   ],
   "source": [
    "h(x+dx)"
   ]
  },
  {
   "cell_type": "code",
   "execution_count": 42,
   "id": "bb7c8a75-3164-4239-b5d3-962e54f26475",
   "metadata": {},
   "outputs": [
    {
     "data": {
      "text/latex": [
       "$\\displaystyle \\frac{dx - x^{2} + \\left(dx + x\\right)^{2}}{dx}$"
      ],
      "text/plain": [
       "(dx - x**2 + (dx + x)**2)/dx"
      ]
     },
     "execution_count": 42,
     "metadata": {},
     "output_type": "execute_result"
    }
   ],
   "source": [
    "(h(x+dx) - h(x))/dx"
   ]
  },
  {
   "cell_type": "code",
   "execution_count": 43,
   "id": "a1e64ac2-fd5c-487c-983f-cb6b8b87bec3",
   "metadata": {},
   "outputs": [
    {
     "data": {
      "text/latex": [
       "$\\displaystyle 2 x + 1$"
      ],
      "text/plain": [
       "2*x + 1"
      ]
     },
     "execution_count": 43,
     "metadata": {},
     "output_type": "execute_result"
    }
   ],
   "source": [
    "sympy.limit(\n",
    "    (h(x+dx) - h(x))/dx, \n",
    "    dx, 0)\n"
   ]
  },
  {
   "cell_type": "code",
   "execution_count": 44,
   "id": "5f35c9ba-a530-4214-a34d-1ade88bc2832",
   "metadata": {},
   "outputs": [
    {
     "data": {
      "text/latex": [
       "$\\displaystyle 2 x + 1$"
      ],
      "text/plain": [
       "2*x + 1"
      ]
     },
     "execution_count": 44,
     "metadata": {},
     "output_type": "execute_result"
    }
   ],
   "source": [
    "h(x).diff(x)"
   ]
  },
  {
   "cell_type": "code",
   "execution_count": 45,
   "id": "9e9869f4-462f-4ffc-b8a6-0fd5dc71dcf0",
   "metadata": {},
   "outputs": [
    {
     "data": {
      "text/plain": [
       "True"
      ]
     },
     "execution_count": 45,
     "metadata": {},
     "output_type": "execute_result"
    }
   ],
   "source": [
    "sympy.limit(\n",
    "    (h(x+dx) - h(x))/dx, \n",
    "    dx, 0\n",
    ") == h(x).diff(x)"
   ]
  },
  {
   "cell_type": "code",
   "execution_count": 46,
   "id": "c593baa2-3024-469f-b4e7-f15454388764",
   "metadata": {},
   "outputs": [
    {
     "data": {
      "text/latex": [
       "$\\displaystyle \\sin{\\left(x \\right)}$"
      ],
      "text/plain": [
       "sin(x)"
      ]
     },
     "execution_count": 46,
     "metadata": {},
     "output_type": "execute_result"
    }
   ],
   "source": [
    "# ex07\n",
    "def mySin(x):\n",
    "    y= sympy.sin(x)\n",
    "    return y\n",
    "mySin(x)"
   ]
  },
  {
   "cell_type": "code",
   "execution_count": 47,
   "id": "99964f2f-882d-4742-ae33-dc549ab34503",
   "metadata": {},
   "outputs": [
    {
     "data": {
      "text/latex": [
       "$\\displaystyle \\sin{\\left(dx + x \\right)}$"
      ],
      "text/plain": [
       "sin(dx + x)"
      ]
     },
     "execution_count": 47,
     "metadata": {},
     "output_type": "execute_result"
    }
   ],
   "source": [
    "mySin(x+dx)"
   ]
  },
  {
   "cell_type": "code",
   "execution_count": 48,
   "id": "e68added-47c0-4cf1-8fe3-90c4074206b4",
   "metadata": {},
   "outputs": [
    {
     "data": {
      "text/latex": [
       "$\\displaystyle \\cos{\\left(x \\right)}$"
      ],
      "text/plain": [
       "cos(x)"
      ]
     },
     "execution_count": 48,
     "metadata": {},
     "output_type": "execute_result"
    }
   ],
   "source": [
    "sympy.limit(\n",
    "    (mySin(x+dx)-mySin(x))/dx, \n",
    "    dx, 0)\n"
   ]
  },
  {
   "cell_type": "code",
   "execution_count": 49,
   "id": "b00cab1e-c18e-4b52-9d71-0a8ed657af4f",
   "metadata": {},
   "outputs": [
    {
     "data": {
      "text/latex": [
       "$\\displaystyle \\cos{\\left(x \\right)}$"
      ],
      "text/plain": [
       "cos(x)"
      ]
     },
     "execution_count": 49,
     "metadata": {},
     "output_type": "execute_result"
    }
   ],
   "source": [
    "mySin(x).diff(x)"
   ]
  },
  {
   "cell_type": "code",
   "execution_count": 50,
   "id": "5be95fc0-7d87-468b-9c03-c225512fe207",
   "metadata": {},
   "outputs": [],
   "source": [
    "# ex08\n",
    "# 自己出些題目，自己練習"
   ]
  },
  {
   "cell_type": "code",
   "execution_count": null,
   "id": "7688c619-e0f9-4e64-9e3e-0451c6c28361",
   "metadata": {},
   "outputs": [],
   "source": []
  },
  {
   "cell_type": "code",
   "execution_count": null,
   "id": "649f72e2-d6eb-4487-8371-11f494c0a9c7",
   "metadata": {},
   "outputs": [],
   "source": []
  },
  {
   "cell_type": "code",
   "execution_count": null,
   "id": "f207a572-1f70-4050-8c12-569f31bc9072",
   "metadata": {},
   "outputs": [],
   "source": []
  },
  {
   "cell_type": "code",
   "execution_count": 51,
   "id": "d4518b97-e103-4f06-ab5f-91629307f717",
   "metadata": {},
   "outputs": [
    {
     "data": {
      "text/plain": [
       "[-2, 1]"
      ]
     },
     "execution_count": 51,
     "metadata": {},
     "output_type": "execute_result"
    }
   ],
   "source": [
    "# 解方程式\n",
    "# x**2 + x - 2 ==0\n",
    "# x = ?\n",
    "\n",
    "eq= x**2 + x - 2\n",
    "\n",
    "解= sympy.solve(eq, x)\n",
    "解"
   ]
  },
  {
   "cell_type": "code",
   "execution_count": 52,
   "id": "3b978e3e-1703-4c18-a0f1-812cc5a7162e",
   "metadata": {},
   "outputs": [
    {
     "data": {
      "text/plain": [
       "True"
      ]
     },
     "execution_count": 52,
     "metadata": {},
     "output_type": "execute_result"
    }
   ],
   "source": [
    "#驗算\n",
    "eq.subs(x, 解[0]) == 0"
   ]
  },
  {
   "cell_type": "code",
   "execution_count": 53,
   "id": "c8cd3927-d0d5-47ac-8d7a-c9611ab6ef0e",
   "metadata": {},
   "outputs": [
    {
     "data": {
      "text/plain": [
       "True"
      ]
     },
     "execution_count": 53,
     "metadata": {},
     "output_type": "execute_result"
    }
   ],
   "source": [
    "eq.subs(x, 解[1]) == 0"
   ]
  },
  {
   "cell_type": "code",
   "execution_count": 54,
   "id": "0977260f-58e0-4254-9ff9-ecd45e1b367a",
   "metadata": {},
   "outputs": [
    {
     "data": {
      "text/latex": [
       "$\\displaystyle \\left[\\begin{matrix}2 & 1\\\\1 & 3\\end{matrix}\\right]$"
      ],
      "text/plain": [
       "Matrix([\n",
       "[2, 1],\n",
       "[1, 3]])"
      ]
     },
     "execution_count": 54,
     "metadata": {},
     "output_type": "execute_result"
    }
   ],
   "source": [
    "# 矩陣運算\n",
    "A= [[2,1], [1,3]]\n",
    "A= sympy.Matrix(A)\n",
    "A"
   ]
  },
  {
   "cell_type": "code",
   "execution_count": 55,
   "id": "6a29946f-55c9-4769-9fb1-86990933cc20",
   "metadata": {},
   "outputs": [
    {
     "data": {
      "text/latex": [
       "$\\displaystyle \\left[\\begin{matrix}4 & 2\\\\2 & 6\\end{matrix}\\right]$"
      ],
      "text/plain": [
       "Matrix([\n",
       "[4, 2],\n",
       "[2, 6]])"
      ]
     },
     "execution_count": 55,
     "metadata": {},
     "output_type": "execute_result"
    }
   ],
   "source": [
    "A+A"
   ]
  },
  {
   "cell_type": "code",
   "execution_count": 56,
   "id": "ea01c342-c5c3-4b77-816e-89b0d4d8ae94",
   "metadata": {},
   "outputs": [
    {
     "data": {
      "text/latex": [
       "$\\displaystyle \\left[\\begin{matrix}20 & 10\\\\10 & 30\\end{matrix}\\right]$"
      ],
      "text/plain": [
       "Matrix([\n",
       "[20, 10],\n",
       "[10, 30]])"
      ]
     },
     "execution_count": 56,
     "metadata": {},
     "output_type": "execute_result"
    }
   ],
   "source": [
    "A*10"
   ]
  },
  {
   "cell_type": "code",
   "execution_count": 57,
   "id": "46ae5302-0680-422f-b342-d2fc08e36df3",
   "metadata": {},
   "outputs": [
    {
     "data": {
      "text/latex": [
       "$\\displaystyle \\left[\\begin{matrix}5 & 5\\\\5 & 10\\end{matrix}\\right]$"
      ],
      "text/plain": [
       "Matrix([\n",
       "[5,  5],\n",
       "[5, 10]])"
      ]
     },
     "execution_count": 57,
     "metadata": {},
     "output_type": "execute_result"
    }
   ],
   "source": [
    "A*A"
   ]
  },
  {
   "cell_type": "code",
   "execution_count": 58,
   "id": "1780584c-a491-4563-9ea1-e2b49170ed94",
   "metadata": {},
   "outputs": [
    {
     "data": {
      "text/latex": [
       "$\\displaystyle 5$"
      ],
      "text/plain": [
       "5"
      ]
     },
     "execution_count": 58,
     "metadata": {},
     "output_type": "execute_result"
    }
   ],
   "source": [
    "A.det()"
   ]
  },
  {
   "cell_type": "code",
   "execution_count": 59,
   "id": "e47953fc-8532-48ae-a5d8-8c515defadaa",
   "metadata": {},
   "outputs": [
    {
     "data": {
      "text/latex": [
       "$\\displaystyle \\left[\\begin{matrix}\\frac{3}{5} & - \\frac{1}{5}\\\\- \\frac{1}{5} & \\frac{2}{5}\\end{matrix}\\right]$"
      ],
      "text/plain": [
       "Matrix([\n",
       "[ 3/5, -1/5],\n",
       "[-1/5,  2/5]])"
      ]
     },
     "execution_count": 59,
     "metadata": {},
     "output_type": "execute_result"
    }
   ],
   "source": [
    "A.inv()"
   ]
  },
  {
   "cell_type": "code",
   "execution_count": 60,
   "id": "b1bce71a-65de-4b9e-883d-45c9b7e9b6cd",
   "metadata": {},
   "outputs": [
    {
     "data": {
      "text/latex": [
       "$\\displaystyle \\left[\\begin{matrix}\\frac{3}{5} & - \\frac{1}{5}\\\\- \\frac{1}{5} & \\frac{2}{5}\\end{matrix}\\right]$"
      ],
      "text/plain": [
       "Matrix([\n",
       "[ 3/5, -1/5],\n",
       "[-1/5,  2/5]])"
      ]
     },
     "execution_count": 60,
     "metadata": {},
     "output_type": "execute_result"
    }
   ],
   "source": [
    "A**(-1)"
   ]
  },
  {
   "cell_type": "code",
   "execution_count": 61,
   "id": "7ea25efd-82d8-4f7e-8dce-40cd0285ed61",
   "metadata": {},
   "outputs": [
    {
     "data": {
      "text/latex": [
       "$\\displaystyle \\left[\\begin{matrix}1 & 0\\\\0 & 1\\end{matrix}\\right]$"
      ],
      "text/plain": [
       "Matrix([\n",
       "[1, 0],\n",
       "[0, 1]])"
      ]
     },
     "execution_count": 61,
     "metadata": {},
     "output_type": "execute_result"
    }
   ],
   "source": [
    "A**(-1) * A"
   ]
  },
  {
   "cell_type": "code",
   "execution_count": 62,
   "id": "b53d6c61-33f4-4d5d-ba5c-60bf325d9690",
   "metadata": {},
   "outputs": [
    {
     "data": {
      "text/plain": [
       "{5/2 - sqrt(5)/2: 1, sqrt(5)/2 + 5/2: 1}"
      ]
     },
     "execution_count": 62,
     "metadata": {},
     "output_type": "execute_result"
    }
   ],
   "source": [
    "A.eigenvals()"
   ]
  },
  {
   "cell_type": "code",
   "execution_count": 63,
   "id": "a8221c4c-3641-4674-b388-b05ca06bc2c7",
   "metadata": {},
   "outputs": [
    {
     "data": {
      "text/plain": [
       "[(5/2 - sqrt(5)/2,\n",
       "  1,\n",
       "  [Matrix([\n",
       "   [-sqrt(5)/2 - 1/2],\n",
       "   [               1]])]),\n",
       " (sqrt(5)/2 + 5/2,\n",
       "  1,\n",
       "  [Matrix([\n",
       "   [-1/2 + sqrt(5)/2],\n",
       "   [               1]])])]"
      ]
     },
     "execution_count": 63,
     "metadata": {},
     "output_type": "execute_result"
    }
   ],
   "source": [
    "A.eigenvects()"
   ]
  },
  {
   "cell_type": "code",
   "execution_count": 64,
   "id": "cb8035c8-e817-4e13-b1ce-c062980216eb",
   "metadata": {},
   "outputs": [
    {
     "data": {
      "text/latex": [
       "$\\displaystyle \\left[\\begin{matrix}- \\frac{\\sqrt{5}}{2} - \\frac{1}{2} & - \\frac{1}{2} + \\frac{\\sqrt{5}}{2}\\\\1 & 1\\end{matrix}\\right]$"
      ],
      "text/plain": [
       "Matrix([\n",
       "[-sqrt(5)/2 - 1/2, -1/2 + sqrt(5)/2],\n",
       "[               1,                1]])"
      ]
     },
     "execution_count": 64,
     "metadata": {},
     "output_type": "execute_result"
    }
   ],
   "source": [
    "P, D= A.diagonalize()\n",
    "P"
   ]
  },
  {
   "cell_type": "code",
   "execution_count": 65,
   "id": "89398c5b-cb58-48e0-b402-100313f28e21",
   "metadata": {},
   "outputs": [
    {
     "data": {
      "text/latex": [
       "$\\displaystyle \\left[\\begin{matrix}\\frac{5}{2} - \\frac{\\sqrt{5}}{2} & 0\\\\0 & \\frac{\\sqrt{5}}{2} + \\frac{5}{2}\\end{matrix}\\right]$"
      ],
      "text/plain": [
       "Matrix([\n",
       "[5/2 - sqrt(5)/2,               0],\n",
       "[              0, sqrt(5)/2 + 5/2]])"
      ]
     },
     "execution_count": 65,
     "metadata": {},
     "output_type": "execute_result"
    }
   ],
   "source": [
    "D"
   ]
  },
  {
   "cell_type": "code",
   "execution_count": 66,
   "id": "ea981a92-9358-4cbb-b423-09127f7a7b49",
   "metadata": {},
   "outputs": [
    {
     "data": {
      "text/latex": [
       "$\\displaystyle \\left[\\begin{matrix}\\frac{\\left(\\frac{5}{2} - \\frac{\\sqrt{5}}{2}\\right) \\left(- \\sqrt{5} - 1\\right) \\left(- \\frac{\\sqrt{5}}{2} - \\frac{1}{2}\\right)}{\\sqrt{5} + 5} + \\frac{\\sqrt{5} \\left(- \\frac{1}{2} + \\frac{\\sqrt{5}}{2}\\right) \\left(\\frac{\\sqrt{5}}{2} + \\frac{5}{2}\\right)}{5} & \\frac{\\left(\\frac{5}{2} - \\frac{\\sqrt{5}}{2}\\right) \\left(- \\frac{\\sqrt{5}}{2} - \\frac{1}{2}\\right)}{\\frac{\\sqrt{5}}{2} + \\frac{5}{2}} + \\left(- \\frac{1}{2} + \\frac{\\sqrt{5}}{2}\\right) \\left(\\frac{\\sqrt{5}}{10} + \\frac{1}{2}\\right) \\left(\\frac{\\sqrt{5}}{2} + \\frac{5}{2}\\right)\\\\\\frac{\\left(\\frac{5}{2} - \\frac{\\sqrt{5}}{2}\\right) \\left(- \\sqrt{5} - 1\\right)}{\\sqrt{5} + 5} + \\frac{\\sqrt{5} \\left(\\frac{\\sqrt{5}}{2} + \\frac{5}{2}\\right)}{5} & \\frac{\\frac{5}{2} - \\frac{\\sqrt{5}}{2}}{\\frac{\\sqrt{5}}{2} + \\frac{5}{2}} + \\left(\\frac{\\sqrt{5}}{10} + \\frac{1}{2}\\right) \\left(\\frac{\\sqrt{5}}{2} + \\frac{5}{2}\\right)\\end{matrix}\\right]$"
      ],
      "text/plain": [
       "Matrix([\n",
       "[(5/2 - sqrt(5)/2)*(-sqrt(5) - 1)*(-sqrt(5)/2 - 1/2)/(sqrt(5) + 5) + sqrt(5)*(-1/2 + sqrt(5)/2)*(sqrt(5)/2 + 5/2)/5, (5/2 - sqrt(5)/2)*(-sqrt(5)/2 - 1/2)/(sqrt(5)/2 + 5/2) + (-1/2 + sqrt(5)/2)*(sqrt(5)/10 + 1/2)*(sqrt(5)/2 + 5/2)],\n",
       "[                                      (5/2 - sqrt(5)/2)*(-sqrt(5) - 1)/(sqrt(5) + 5) + sqrt(5)*(sqrt(5)/2 + 5/2)/5,                                       (5/2 - sqrt(5)/2)/(sqrt(5)/2 + 5/2) + (sqrt(5)/10 + 1/2)*(sqrt(5)/2 + 5/2)]])"
      ]
     },
     "execution_count": 66,
     "metadata": {},
     "output_type": "execute_result"
    }
   ],
   "source": [
    "P * D * P**(-1)"
   ]
  },
  {
   "cell_type": "code",
   "execution_count": 67,
   "id": "5bd42c16-d644-457a-8440-023ce5c10847",
   "metadata": {},
   "outputs": [
    {
     "data": {
      "text/plain": [
       "False"
      ]
     },
     "execution_count": 67,
     "metadata": {},
     "output_type": "execute_result"
    }
   ],
   "source": [
    "P * D * P**(-1) == A"
   ]
  },
  {
   "cell_type": "code",
   "execution_count": 68,
   "id": "2bd22cd8-aa41-48b9-986d-3fced57986fc",
   "metadata": {},
   "outputs": [
    {
     "data": {
      "text/latex": [
       "$\\displaystyle \\left[\\begin{matrix}2.0 & 1.0\\\\1.0 & 3.0\\end{matrix}\\right]$"
      ],
      "text/plain": [
       "Matrix([\n",
       "[2.0, 1.0],\n",
       "[1.0, 3.0]])"
      ]
     },
     "execution_count": 68,
     "metadata": {},
     "output_type": "execute_result"
    }
   ],
   "source": [
    "(P * D * P**(-1)).evalf()"
   ]
  },
  {
   "cell_type": "code",
   "execution_count": 69,
   "id": "b8e0a093-d5b6-44ee-bc75-32fbe7208312",
   "metadata": {},
   "outputs": [
    {
     "data": {
      "text/plain": [
       "True"
      ]
     },
     "execution_count": 69,
     "metadata": {},
     "output_type": "execute_result"
    }
   ],
   "source": [
    "(P * D * P**(-1)).evalf() == A"
   ]
  },
  {
   "cell_type": "markdown",
   "id": "37c6a7fe-fa90-42f5-8b09-3c594b967bfe",
   "metadata": {},
   "source": [
    "# 解微分方程式 ， 這個我之前沒試過，這裡是第一次嘗試、、、、\n",
    "## Solve the differential equation\n",
    "\n",
    "$\n",
    "f= f(x)\n",
    "\\\\\n",
    "f\" - f = e^x\n",
    "\\\\\n",
    "f(x) = ?\n",
    "$"
   ]
  },
  {
   "cell_type": "code",
   "execution_count": 70,
   "id": "6eb21764-a262-44cc-8289-dcf2f0f3e3a7",
   "metadata": {},
   "outputs": [
    {
     "data": {
      "text/plain": [
       "f"
      ]
     },
     "execution_count": 70,
     "metadata": {},
     "output_type": "execute_result"
    }
   ],
   "source": [
    "f= sympy.Function('f')\n",
    "f"
   ]
  },
  {
   "cell_type": "code",
   "execution_count": 71,
   "id": "26f77ee2-161c-4f0c-b89d-d68a5a626672",
   "metadata": {},
   "outputs": [
    {
     "data": {
      "text/latex": [
       "$\\displaystyle - f{\\left(x \\right)} + \\frac{d^{2}}{d x^{2}} f{\\left(x \\right)} = e^{x}$"
      ],
      "text/plain": [
       "Eq(-f(x) + Derivative(f(x), (x, 2)), exp(x))"
      ]
     },
     "execution_count": 71,
     "metadata": {},
     "output_type": "execute_result"
    }
   ],
   "source": [
    "eq= sympy.Eq(\n",
    "    f(x).diff(x).diff(x)-f(x), \n",
    "    sympy.exp(x)\n",
    ")\n",
    "eq"
   ]
  },
  {
   "cell_type": "code",
   "execution_count": 72,
   "id": "c8e06eff-3f23-4001-bd2d-d0e532dcf264",
   "metadata": {},
   "outputs": [
    {
     "data": {
      "text/latex": [
       "$\\displaystyle f{\\left(x \\right)} = C_{2} e^{- x} + \\left(C_{1} + \\frac{x}{2}\\right) e^{x}$"
      ],
      "text/plain": [
       "Eq(f(x), C2*exp(-x) + (C1 + x/2)*exp(x))"
      ]
     },
     "execution_count": 72,
     "metadata": {},
     "output_type": "execute_result"
    }
   ],
   "source": [
    "解= sympy.dsolve(eq, f(x))\n",
    "解"
   ]
  },
  {
   "cell_type": "code",
   "execution_count": 73,
   "id": "6506fa31-2b6c-41a7-915a-7944605603b6",
   "metadata": {},
   "outputs": [
    {
     "data": {
      "text/latex": [
       "$\\displaystyle f{\\left(x \\right)} = C_{2} e^{- x} + \\left(C_{1} + \\frac{x}{2}\\right) e^{x}$"
      ],
      "text/plain": [
       "Eq(f(x), C2*exp(-x) + (C1 + x/2)*exp(x))"
      ]
     },
     "execution_count": 73,
     "metadata": {},
     "output_type": "execute_result"
    }
   ],
   "source": [
    "# 驚！！！\n",
    "解"
   ]
  },
  {
   "cell_type": "code",
   "execution_count": 74,
   "id": "ff78f6a9-2a8b-437e-8b4a-f21d5db58a17",
   "metadata": {},
   "outputs": [
    {
     "name": "stdout",
     "output_type": "stream",
     "text": [
      "Eq(f(x), C2*exp(-x) + (C1 + x/2)*exp(x))\n"
     ]
    }
   ],
   "source": [
    "print(解)"
   ]
  },
  {
   "cell_type": "code",
   "execution_count": 75,
   "id": "d0fe1120-7613-4c66-9120-5f1cb94ac6e2",
   "metadata": {},
   "outputs": [
    {
     "data": {
      "text/plain": [
       "'f{\\\\left(x \\\\right)} = C_{2} e^{- x} + \\\\left(C_{1} + \\\\frac{x}{2}\\\\right) e^{x}'"
      ]
     },
     "execution_count": 75,
     "metadata": {},
     "output_type": "execute_result"
    }
   ],
   "source": [
    "sympy.latex(解)"
   ]
  },
  {
   "cell_type": "code",
   "execution_count": 76,
   "id": "56a3ca6a-24fb-45ca-81a9-262e17c433cf",
   "metadata": {},
   "outputs": [
    {
     "data": {
      "text/plain": [
       "True"
      ]
     },
     "execution_count": 76,
     "metadata": {},
     "output_type": "execute_result"
    }
   ],
   "source": [
    "# 驗算\n",
    "# 如何撈出 解 中的 函數？？ 還不知！\n",
    "# 可先自己手動打入\n",
    "\n",
    "c1, c2, x= sympy.symbols('c1, c2, x')\n",
    "\n",
    "f解= c2 * sympy.exp(-x) + (c1 + x/2) * sympy.exp(x)\n",
    "左=  f解.diff(x).diff(x) - f解\n",
    "右=  sympy.exp(x)\n",
    "\n",
    "左 == 右"
   ]
  },
  {
   "cell_type": "code",
   "execution_count": 77,
   "id": "4e98f72b-93c7-4b3c-bf5f-a6447f5310c7",
   "metadata": {},
   "outputs": [
    {
     "data": {
      "text/latex": [
       "$\\displaystyle C_{2} e^{- x} + \\left(C_{1} + \\frac{x}{2}\\right) e^{x}$"
      ],
      "text/plain": [
       "C2*exp(-x) + (C1 + x/2)*exp(x)"
      ]
     },
     "execution_count": 77,
     "metadata": {},
     "output_type": "execute_result"
    }
   ],
   "source": [
    "# 再研究一下如何自動 從 自動得出的 【解】 之中撈出可用的 物件 出來驗算，不用自己眼睛來看過才手打出來。\n",
    "q= 解.rhs\n",
    "q"
   ]
  },
  {
   "cell_type": "code",
   "execution_count": 78,
   "id": "20093282-7714-4865-834f-9accbaa6d359",
   "metadata": {},
   "outputs": [
    {
     "data": {
      "text/plain": [
       "True"
      ]
     },
     "execution_count": 78,
     "metadata": {},
     "output_type": "execute_result"
    }
   ],
   "source": [
    "左= q.diff(x).diff(x)-q\n",
    "右=  sympy.exp(x)\n",
    "左 == 右"
   ]
  },
  {
   "cell_type": "code",
   "execution_count": 79,
   "id": "f8270139-d9b8-4193-be0f-cb7bcd2d0493",
   "metadata": {},
   "outputs": [],
   "source": [
    "#解??"
   ]
  },
  {
   "cell_type": "code",
   "execution_count": null,
   "id": "7937e639-f7f5-4efa-8268-d3ab22b954fd",
   "metadata": {},
   "outputs": [],
   "source": []
  },
  {
   "cell_type": "code",
   "execution_count": 80,
   "id": "c8df0eec-13a4-4c50-a73e-ccda5c5db6d3",
   "metadata": {},
   "outputs": [
    {
     "data": {
      "text/latex": [
       "$\\displaystyle s{\\left(t \\right)} = C_{1} + C_{2} t - \\frac{49 t^{2}}{10}$"
      ],
      "text/plain": [
       "Eq(s(t), C1 + C2*t - 49*t**2/10)"
      ]
     },
     "execution_count": 80,
     "metadata": {},
     "output_type": "execute_result"
    }
   ],
   "source": [
    "# 牛頓運動方程式\n",
    "# a(t)  == -9.8\n",
    "# v'(t) == -9.8\n",
    "# s\"(t) == -9.8\n",
    "# s\"(t) + 9.8 == 0\n",
    "\n",
    "# s(t) == ?\n",
    "\n",
    "t= sympy.symbols('t')\n",
    "s= sympy.Function('s')\n",
    "s0, v0= sympy.symbols('s0, v0')\n",
    "\n",
    "eq= s(t).diff(t).diff(t) + 9.8\n",
    "\n",
    "解= sympy.dsolve(eq, s(t))\n",
    "解"
   ]
  },
  {
   "cell_type": "code",
   "execution_count": 81,
   "id": "4864f2c8-44ba-4eee-b0a4-44dcb99ad737",
   "metadata": {},
   "outputs": [
    {
     "name": "stdout",
     "output_type": "stream",
     "text": [
      "C1 + C2*t - 49*t**2/10\n"
     ]
    }
   ],
   "source": [
    "print(解.rhs)"
   ]
  },
  {
   "cell_type": "code",
   "execution_count": 82,
   "id": "03b6b2f7-e1d3-48bb-b0c7-55aae1ac34f1",
   "metadata": {},
   "outputs": [
    {
     "data": {
      "text/latex": [
       "$\\displaystyle C_{1} + C_{2} t - \\frac{49 t^{2}}{10}$"
      ],
      "text/plain": [
       "C1 + C2*t - 49*t**2/10"
      ]
     },
     "execution_count": 82,
     "metadata": {},
     "output_type": "execute_result"
    }
   ],
   "source": [
    "# 增加初始條件 at t=0, s= s0, v= s'= v0\n",
    "s= 解.rhs\n",
    "v= s.diff(t)\n",
    "s"
   ]
  },
  {
   "cell_type": "code",
   "execution_count": 83,
   "id": "5942cacc-a656-4092-9309-ea0590716e0e",
   "metadata": {},
   "outputs": [
    {
     "data": {
      "text/latex": [
       "$\\displaystyle C_{2} - \\frac{49 t}{5}$"
      ],
      "text/plain": [
       "C2 - 49*t/5"
      ]
     },
     "execution_count": 83,
     "metadata": {},
     "output_type": "execute_result"
    }
   ],
   "source": [
    "v"
   ]
  },
  {
   "cell_type": "code",
   "execution_count": 84,
   "id": "aa570f7c-7a4e-4f37-8d85-2b1e80b361fe",
   "metadata": {},
   "outputs": [],
   "source": [
    "C1, C2= sympy.symbols('C1, C2')"
   ]
  },
  {
   "cell_type": "code",
   "execution_count": 85,
   "id": "f12f50f1-20f3-4ec8-ba40-e746e127cb87",
   "metadata": {},
   "outputs": [
    {
     "data": {
      "text/latex": [
       "$\\displaystyle v_{0}$"
      ],
      "text/plain": [
       "v0"
      ]
     },
     "execution_count": 85,
     "metadata": {},
     "output_type": "execute_result"
    }
   ],
   "source": [
    "# 運用 v== v0 at t=0 來解 C2\n",
    "\n",
    "c2= sympy.solve(\n",
    "    v.subs(t,0)-v0, \n",
    "    C2)\n",
    "c2= c2[0]\n",
    "c2"
   ]
  },
  {
   "cell_type": "code",
   "execution_count": 86,
   "id": "3abe7819-043f-45a5-aae1-37c311464aa1",
   "metadata": {},
   "outputs": [
    {
     "data": {
      "text/latex": [
       "$\\displaystyle s_{0}$"
      ],
      "text/plain": [
       "s0"
      ]
     },
     "execution_count": 86,
     "metadata": {},
     "output_type": "execute_result"
    }
   ],
   "source": [
    "# 運用 s== s0 at t=0 來解 C1\n",
    "c1= sympy.solve(\n",
    "    s.subs(t,0).subs(C2,c2)-s0, \n",
    "    C1)\n",
    "c1= c1[0]\n",
    "c1"
   ]
  },
  {
   "cell_type": "code",
   "execution_count": 87,
   "id": "ef02bef7-3aa5-4ced-959d-8aa399fcc035",
   "metadata": {},
   "outputs": [
    {
     "data": {
      "text/latex": [
       "$\\displaystyle C_{1} + C_{2} t - \\frac{49 t^{2}}{10}$"
      ],
      "text/plain": [
       "C1 + C2*t - 49*t**2/10"
      ]
     },
     "execution_count": 87,
     "metadata": {},
     "output_type": "execute_result"
    }
   ],
   "source": [
    "s"
   ]
  },
  {
   "cell_type": "code",
   "execution_count": 88,
   "id": "5ad8106a-5700-44ed-8fe8-d0d2d10db00b",
   "metadata": {},
   "outputs": [
    {
     "data": {
      "text/latex": [
       "$\\displaystyle s_{0} - \\frac{49 t^{2}}{10} + t v_{0}$"
      ],
      "text/plain": [
       "s0 - 49*t**2/10 + t*v0"
      ]
     },
     "execution_count": 88,
     "metadata": {},
     "output_type": "execute_result"
    }
   ],
   "source": [
    "sFinal= s.subs(C1,c1).subs(C2,c2)\n",
    "sFinal"
   ]
  },
  {
   "cell_type": "code",
   "execution_count": 89,
   "id": "e75ce970-1820-4fdf-9d87-3abcd54426b0",
   "metadata": {},
   "outputs": [],
   "source": [
    "# ex10: 運用積分計算圓形面積\n",
    "\n",
    "# x**2 + y**2 ==1\n",
    "# y**2 = 1 - x**2\n",
    "\n",
    "# y1= +sqrt(1-x**2) # 上半圓\n",
    "# y2= -sqrt(1-x**2) # 下半圓\n",
    "# \n",
    "\n",
    "# x= -1, ... +1\n",
    "\n"
   ]
  },
  {
   "cell_type": "code",
   "execution_count": 90,
   "id": "2fc4a62f-c886-468c-9cda-672c71e9f3bf",
   "metadata": {},
   "outputs": [
    {
     "data": {
      "text/latex": [
       "$\\displaystyle \\sqrt{1 - x^{2}}$"
      ],
      "text/plain": [
       "sqrt(1 - x**2)"
      ]
     },
     "execution_count": 90,
     "metadata": {},
     "output_type": "execute_result"
    }
   ],
   "source": [
    "x,y = sympy.symbols('x,y')\n",
    "y1= sympy.sqrt(1-x**2)\n",
    "y2= -y1\n",
    "y1"
   ]
  },
  {
   "cell_type": "code",
   "execution_count": 91,
   "id": "f90fe404-ef6a-4a2e-a161-d45fe945a998",
   "metadata": {},
   "outputs": [
    {
     "data": {
      "text/latex": [
       "$\\displaystyle - \\sqrt{1 - x^{2}}$"
      ],
      "text/plain": [
       "-sqrt(1 - x**2)"
      ]
     },
     "execution_count": 91,
     "metadata": {},
     "output_type": "execute_result"
    }
   ],
   "source": [
    "y2"
   ]
  },
  {
   "cell_type": "code",
   "execution_count": 92,
   "id": "0ddfa57e-d73d-4fbb-84b8-3a0c0580055a",
   "metadata": {},
   "outputs": [
    {
     "data": {
      "image/png": "[encoded data removed]",
      "text/plain": [
       "<Figure size 432x288 with 1 Axes>"
      ]
     },
     "metadata": {},
     "output_type": "display_data"
    }
   ],
   "source": [
    "import seaborn as sb\n",
    "sb.set_style('whitegrid')\n",
    "\n",
    "p= sympy.plotting.plot(y1,y2,(x,-1,1), show=False)\n",
    "p[0].line_color='red'\n",
    "p[1].line_color='green'\n",
    "p.legend=True\n",
    "p.show()"
   ]
  },
  {
   "cell_type": "code",
   "execution_count": 93,
   "id": "1fac59cd-d701-4f92-a711-86f8ad9c2237",
   "metadata": {},
   "outputs": [
    {
     "data": {
      "text/latex": [
       "$\\displaystyle \\frac{\\pi}{2}$"
      ],
      "text/plain": [
       "pi/2"
      ]
     },
     "execution_count": 93,
     "metadata": {},
     "output_type": "execute_result"
    }
   ],
   "source": [
    "y1.integrate((x,-1,1))  # 上半圓"
   ]
  },
  {
   "cell_type": "code",
   "execution_count": 94,
   "id": "eaba4a20-249d-4e67-a3da-6e3da99afcda",
   "metadata": {},
   "outputs": [
    {
     "data": {
      "text/latex": [
       "$\\displaystyle - \\frac{\\pi}{2}$"
      ],
      "text/plain": [
       "-pi/2"
      ]
     },
     "execution_count": 94,
     "metadata": {},
     "output_type": "execute_result"
    }
   ],
   "source": [
    "y2.integrate((x,-1,1)) # 下半圓  \n",
    "#(會有 負號，那是因為 y2 整個在 x軸下方，函數值都是負值的緣故)"
   ]
  },
  {
   "cell_type": "code",
   "execution_count": 95,
   "id": "ea751529-275c-4f3e-818a-169a4f997b09",
   "metadata": {},
   "outputs": [
    {
     "data": {
      "text/latex": [
       "$\\displaystyle \\pi$"
      ],
      "text/plain": [
       "pi"
      ]
     },
     "execution_count": 95,
     "metadata": {},
     "output_type": "execute_result"
    }
   ],
   "source": [
    "圓面積= y1.integrate((x,-1,1)) * 2  #只取上半圓 * 2 即可\n",
    "圓面積"
   ]
  },
  {
   "cell_type": "code",
   "execution_count": 96,
   "id": "3ff534cb-a572-430a-b6bf-ec64d4d50d7f",
   "metadata": {},
   "outputs": [
    {
     "data": {
      "text/latex": [
       "$\\displaystyle \\left(x + y\\right)^{2} = x^{2} + 2 x y + y^{2}$"
      ],
      "text/plain": [
       "Eq((x + y)**2, x**2 + 2*x*y + y**2)"
      ]
     },
     "execution_count": 96,
     "metadata": {},
     "output_type": "execute_result"
    }
   ],
   "source": [
    "# sympy.Eq\n",
    "\n",
    "sympy.Eq(\n",
    "    (x+y)**2,\n",
    "    x**2+2*x*y+y**2)"
   ]
  },
  {
   "cell_type": "code",
   "execution_count": 97,
   "id": "81584953-d328-4dcd-ba1f-e592eea02278",
   "metadata": {},
   "outputs": [
    {
     "data": {
      "text/latex": [
       "$\\displaystyle \\text{True}$"
      ],
      "text/plain": [
       "True"
      ]
     },
     "execution_count": 97,
     "metadata": {},
     "output_type": "execute_result"
    }
   ],
   "source": [
    "sympy.Eq(\n",
    "    ((x+y)**2).expand(),\n",
    "    x**2+2*x*y+y**2)"
   ]
  },
  {
   "cell_type": "code",
   "execution_count": 98,
   "id": "7245080e-967c-4b3f-b45b-48bdc86b3a3a",
   "metadata": {},
   "outputs": [
    {
     "data": {
      "text/latex": [
       "$\\displaystyle - r_{0} r_{1} r_{2} + r_{0} r_{1} x + r_{0} r_{2} x - r_{0} x^{2} + r_{1} r_{2} x - r_{1} x^{2} - r_{2} x^{2} + x^{3}$"
      ],
      "text/plain": [
       "-r0*r1*r2 + r0*r1*x + r0*r2*x - r0*x**2 + r1*r2*x - r1*x**2 - r2*x**2 + x**3"
      ]
     },
     "metadata": {},
     "output_type": "display_data"
    },
    {
     "data": {
      "text/plain": [
       "[r0, r1, r2]"
      ]
     },
     "execution_count": 98,
     "metadata": {},
     "output_type": "execute_result"
    }
   ],
   "source": [
    "r= sympy.symbols('r:10')\n",
    "'''\n",
    "eq= 1\n",
    "for i in range(len(r)):\n",
    "    eq *= (x-r[i])\n",
    "'''\n",
    "eq= (x-r[0])*(x-r[1])*(x-r[2])\n",
    "    \n",
    "eq= eq.expand()\n",
    "display(eq)\n",
    "\n",
    "解= sympy.solve(\n",
    "    eq, \n",
    "    x)\n",
    "解"
   ]
  },
  {
   "cell_type": "code",
   "execution_count": 99,
   "id": "79e6689a-c003-4871-a051-744bd634d5c0",
   "metadata": {},
   "outputs": [
    {
     "data": {
      "text/latex": [
       "$\\displaystyle \\left(- r_{0} + x\\right) \\left(- r_{1} + x\\right) \\left(- r_{2} + x\\right)$"
      ],
      "text/plain": [
       "(-r0 + x)*(-r1 + x)*(-r2 + x)"
      ]
     },
     "execution_count": 99,
     "metadata": {},
     "output_type": "execute_result"
    }
   ],
   "source": [
    "eq.factor()"
   ]
  },
  {
   "cell_type": "code",
   "execution_count": 100,
   "id": "4f31870a-0ed1-4f40-8534-125df10ca283",
   "metadata": {},
   "outputs": [
    {
     "data": {
      "text/latex": [
       "$\\displaystyle - r_{0} r_{1} r_{2} + r_{0} r_{1} x + r_{0} r_{2} x - r_{0} x^{2} + r_{1} r_{2} x - r_{1} x^{2} - r_{2} x^{2} + x^{3}$"
      ],
      "text/plain": [
       "-r0*r1*r2 + r0*r1*x + r0*r2*x - r0*x**2 + r1*r2*x - r1*x**2 - r2*x**2 + x**3"
      ]
     },
     "execution_count": 100,
     "metadata": {},
     "output_type": "execute_result"
    }
   ],
   "source": [
    "eq.simplify()"
   ]
  },
  {
   "cell_type": "code",
   "execution_count": 101,
   "id": "22701675-101d-46a3-94d2-25543def9ce1",
   "metadata": {},
   "outputs": [
    {
     "data": {
      "text/latex": [
       "$\\displaystyle \\operatorname{Poly}{\\left( x^{3} - x^{2}r_{0} - x^{2}r_{1} - x^{2}r_{2} + xr_{0}r_{1} + xr_{0}r_{2} + xr_{1}r_{2} - r_{0}r_{1}r_{2}, x, r_{0}, r_{1}, r_{2}, domain=\\mathbb{Z} \\right)}$"
      ],
      "text/plain": [
       "Poly(x**3 - x**2*r0 - x**2*r1 - x**2*r2 + x*r0*r1 + x*r0*r2 + x*r1*r2 - r0*r1*r2, x, r0, r1, r2, domain='ZZ')"
      ]
     },
     "execution_count": 101,
     "metadata": {},
     "output_type": "execute_result"
    }
   ],
   "source": [
    "sympy.Poly(eq)"
   ]
  },
  {
   "cell_type": "code",
   "execution_count": 102,
   "id": "4f0e328f-c8a3-4b61-8b2d-d2e1f5005a44",
   "metadata": {},
   "outputs": [],
   "source": [
    "# 另類物件了....\n",
    "# leave to you if you feel interested in more detail...."
   ]
  },
  {
   "cell_type": "code",
   "execution_count": null,
   "id": "aa10c5d4-6527-4ee8-adfe-c94cf9d49bb9",
   "metadata": {},
   "outputs": [],
   "source": []
  },
  {
   "cell_type": "code",
   "execution_count": 103,
   "id": "58cf69c6-6812-4b75-9776-1b7da6973415",
   "metadata": {},
   "outputs": [
    {
     "data": {
      "text/latex": [
       "$\\displaystyle - x^{2} - y^{2} + 1$"
      ],
      "text/plain": [
       "-x**2 - y**2 + 1"
      ]
     },
     "execution_count": 103,
     "metadata": {},
     "output_type": "execute_result"
    }
   ],
   "source": [
    "# 多重積分，延續 計算 圓面積，這回我們來算 球體積...\n",
    "# x**2 + y**2 + z**2 =1\n",
    "# z= sqrt(1- x**2 -y**2)\n",
    "x,y,z= sympy.symbols('x,y,z')\n",
    "\n",
    "z= sympy.sqrt(1-x**2-y**2)\n",
    "z= 1-x**2-y**2\n",
    "z"
   ]
  },
  {
   "cell_type": "code",
   "execution_count": 104,
   "id": "e9d056cc-cb44-47e7-8424-5259371b32ea",
   "metadata": {},
   "outputs": [],
   "source": [
    "# 畫圖 3d，為了 互動操作...\n",
    "\n",
    "%matplotlib qt\n"
   ]
  },
  {
   "cell_type": "code",
   "execution_count": 105,
   "id": "4c127ca8-95ce-45cc-95be-a1d4b4c09a84",
   "metadata": {},
   "outputs": [
    {
     "data": {
      "text/plain": [
       "<sympy.plotting.plot.Plot at 0x2206d847af0>"
      ]
     },
     "execution_count": 105,
     "metadata": {},
     "output_type": "execute_result"
    }
   ],
   "source": [
    "title= f'z= $\\\\pm$ ${sympy.latex(z)}$'\n",
    "\n",
    "sympy.plotting.plot3d(\n",
    "    z, \n",
    "    #-z, \n",
    "    (x,-1,1),\n",
    "    (y,-1,1),\n",
    "    xlabel='x',\n",
    "    ylabel='y',\n",
    "    title= f'{title}'\n",
    ")\n"
   ]
  },
  {
   "cell_type": "markdown",
   "id": "47fe158b-f49d-48cd-97ce-dd0ae502799a",
   "metadata": {},
   "source": [
    "- Latex 正負號\n",
    "$\n",
    "\\pm\n",
    "$"
   ]
  },
  {
   "cell_type": "code",
   "execution_count": 106,
   "id": "31a904d5-6886-4e53-8dd5-91e8e5c82652",
   "metadata": {},
   "outputs": [
    {
     "data": {
      "text/latex": [
       "$\\displaystyle - x^{2} - y^{2} + 1$"
      ],
      "text/plain": [
       "-x**2 - y**2 + 1"
      ]
     },
     "execution_count": 106,
     "metadata": {},
     "output_type": "execute_result"
    }
   ],
   "source": [
    "z"
   ]
  },
  {
   "cell_type": "code",
   "execution_count": 107,
   "id": "5342c0e8-e52b-4e51-b3d1-1dd21b39db43",
   "metadata": {},
   "outputs": [
    {
     "data": {
      "text/plain": [
       "'\\nz.integrate(\\n    (y, -sympy.sqrt(1-x**2), sympy.sqrt(1-x**2)),\\n    (x,-1,1)\\n)\\n'"
      ]
     },
     "execution_count": 107,
     "metadata": {},
     "output_type": "execute_result"
    }
   ],
   "source": [
    "'''\n",
    "z.integrate(\n",
    "    (y, -sympy.sqrt(1-x**2), sympy.sqrt(1-x**2)),\n",
    "    (x,-1,1)\n",
    ")\n",
    "'''\n",
    "# 這樣積不出來！！"
   ]
  },
  {
   "cell_type": "code",
   "execution_count": 108,
   "id": "8b408221-8bd5-451b-9337-ac2f2307c64d",
   "metadata": {},
   "outputs": [
    {
     "data": {
      "text/latex": [
       "$\\displaystyle \\frac{\\pi}{2}$"
      ],
      "text/plain": [
       "pi/2"
      ]
     },
     "execution_count": 108,
     "metadata": {},
     "output_type": "execute_result"
    }
   ],
   "source": [
    "sympy.integrate(1-x**2-y**2,\n",
    "                (x,-sympy.sqrt(1-y**2),sympy.sqrt(1-y**2)),\n",
    "                (y,-1,1))"
   ]
  },
  {
   "cell_type": "code",
   "execution_count": 109,
   "id": "fd9a3732-1362-4bcc-b2ae-227276d95eef",
   "metadata": {},
   "outputs": [],
   "source": [
    "import sympy as sm\n",
    "x, y, z, r, θ, ϕ, R= sm.symbols('x,y,z, r, θ, ϕ, R')"
   ]
  },
  {
   "cell_type": "code",
   "execution_count": 110,
   "id": "0752bd28-060f-462b-9d78-2fd531e8931b",
   "metadata": {},
   "outputs": [
    {
     "data": {
      "text/latex": [
       "$\\displaystyle \\sqrt{- x^{2} - y^{2} + 1}$"
      ],
      "text/plain": [
       "sqrt(-x**2 - y**2 + 1)"
      ]
     },
     "execution_count": 110,
     "metadata": {},
     "output_type": "execute_result"
    }
   ],
   "source": [
    "z= sm.sqrt(1-x**2-y**2)\n",
    "z"
   ]
  },
  {
   "cell_type": "code",
   "execution_count": 111,
   "id": "6010b9dc-8e66-4096-9451-de49897b3bea",
   "metadata": {},
   "outputs": [
    {
     "data": {
      "text/plain": [
       "'\\nsm.integrate(\\n    1, \\n     (x,0,sm.sqrt(1-y**2-z**2)),\\n     (y,0,sm.sqrt(1-z**2)),\\n     (z,0,1)\\n)\\n'"
      ]
     },
     "execution_count": 111,
     "metadata": {},
     "output_type": "execute_result"
    }
   ],
   "source": [
    "'''\n",
    "sm.integrate(\n",
    "    1, \n",
    "     (x,0,sm.sqrt(1-y**2-z**2)),\n",
    "     (y,0,sm.sqrt(1-z**2)),\n",
    "     (z,0,1)\n",
    ")\n",
    "'''\n",
    "# 很難積\n",
    "# 開始進入深水區！！！\n"
   ]
  },
  {
   "cell_type": "code",
   "execution_count": 112,
   "id": "7cf8747c-d2dc-448c-a4f9-5b7dda27f404",
   "metadata": {},
   "outputs": [
    {
     "data": {
      "text/latex": [
       "$\\displaystyle \\frac{4 \\pi R^{3}}{3}$"
      ],
      "text/plain": [
       "4*pi*R**3/3"
      ]
     },
     "execution_count": 112,
     "metadata": {},
     "output_type": "execute_result"
    }
   ],
   "source": [
    "sm.integrate(\n",
    "     \n",
    "     r**2*sm.cos(ϕ),  # 神奇的 直角坐標 vs 球座標 轉換\n",
    "    \n",
    "     (ϕ, -sm.pi/2, sm.pi/2),\n",
    "     (θ, 0, sm.pi*2),\n",
    "     (r, 0, R)\n",
    ")"
   ]
  },
  {
   "cell_type": "code",
   "execution_count": null,
   "id": "bcdc81de-508b-4f38-9eb9-dfcbdfe6a000",
   "metadata": {},
   "outputs": [],
   "source": []
  },
  {
   "cell_type": "code",
   "execution_count": 113,
   "id": "db701499-ffea-4f05-843d-ec02b74d5c55",
   "metadata": {},
   "outputs": [],
   "source": [
    "# 球座標 vs xyz 座標\n",
    "import sympy as sm\n",
    "x, y, z, r, θ, ϕ= sm.symbols('x,y,z, r, θ, ϕ')\n",
    "\n",
    "x= r * sm.cos(ϕ) * sm.cos(θ)\n",
    "y= r * sm.cos(ϕ) * sm.sin(θ)\n",
    "z= r * sm.sin(ϕ)\n",
    "\n",
    "# ϕ= 0 @赤道\n",
    "# ϕ= π/2 @北極\n",
    "# ϕ= -π/2 @南極\n",
    "# 以上是自推\n",
    "\n",
    "\n",
    "#-------------\n",
    "# 以下來自 wikipedia\n",
    "# 另類定義\n",
    "# ϕ= 0   @北極\n",
    "# ϕ= π/2 @赤道\n",
    "# ϕ= π   @南極\n",
    "## https://en.wikipedia.org/wiki/Jacobian_matrix_and_determinant#Example_3:_spherical-Cartesian_transformation\n",
    "\n",
    "# 下面計算是自推的。。初步看來正確但仍有待深入研究，這裡是深水區，我年輕時沒搞懂，因此一直覺得自己微積分沒學好！\n",
    "\n"
   ]
  },
  {
   "cell_type": "code",
   "execution_count": 114,
   "id": "29af7b6f-7697-4458-b354-0d268d045e75",
   "metadata": {},
   "outputs": [
    {
     "data": {
      "text/latex": [
       "$\\displaystyle \\left[\\begin{matrix}\\cos{\\left(θ \\right)} \\cos{\\left(ϕ \\right)} & - r \\sin{\\left(θ \\right)} \\cos{\\left(ϕ \\right)} & - r \\sin{\\left(ϕ \\right)} \\cos{\\left(θ \\right)}\\\\\\sin{\\left(θ \\right)} \\cos{\\left(ϕ \\right)} & r \\cos{\\left(θ \\right)} \\cos{\\left(ϕ \\right)} & - r \\sin{\\left(θ \\right)} \\sin{\\left(ϕ \\right)}\\\\\\sin{\\left(ϕ \\right)} & 0 & r \\cos{\\left(ϕ \\right)}\\end{matrix}\\right]$"
      ],
      "text/plain": [
       "Matrix([\n",
       "[cos(θ)*cos(ϕ), -r*sin(θ)*cos(ϕ), -r*sin(ϕ)*cos(θ)],\n",
       "[sin(θ)*cos(ϕ),  r*cos(θ)*cos(ϕ), -r*sin(θ)*sin(ϕ)],\n",
       "[       sin(ϕ),                0,         r*cos(ϕ)]])"
      ]
     },
     "execution_count": 114,
     "metadata": {},
     "output_type": "execute_result"
    }
   ],
   "source": [
    "# The Jacobian matrix\n",
    "\n",
    "J= [\n",
    " [x.diff(r), x.diff(θ), x.diff(ϕ)],\n",
    " [y.diff(r), y.diff(θ), y.diff(ϕ)],\n",
    " [z.diff(r), z.diff(θ), z.diff(ϕ)]]\n",
    "J= sm.Matrix(J)\n",
    "J\n"
   ]
  },
  {
   "cell_type": "code",
   "execution_count": 115,
   "id": "afc22a06-532a-44fa-80c6-3d87fae74b8b",
   "metadata": {},
   "outputs": [
    {
     "data": {
      "text/latex": [
       "$\\displaystyle r^{2} \\cos{\\left(ϕ \\right)}$"
      ],
      "text/plain": [
       "r**2*cos(ϕ)"
      ]
     },
     "execution_count": 115,
     "metadata": {},
     "output_type": "execute_result"
    }
   ],
   "source": [
    "J.det().simplify()"
   ]
  },
  {
   "cell_type": "code",
   "execution_count": 116,
   "id": "bc56d219-26e9-4bb4-a8aa-e2841d13d388",
   "metadata": {},
   "outputs": [
    {
     "data": {
      "text/plain": [
       "\u001b[1;31mSignature:\u001b[0m \u001b[0mJ\u001b[0m\u001b[1;33m.\u001b[0m\u001b[0mjacobian\u001b[0m\u001b[1;33m(\u001b[0m\u001b[0mX\u001b[0m\u001b[1;33m)\u001b[0m\u001b[1;33m\u001b[0m\u001b[1;33m\u001b[0m\u001b[0m\n",
       "\u001b[1;31mDocstring:\u001b[0m\n",
       "Calculates the Jacobian matrix (derivative of a vector-valued function).\n",
       "\n",
       "Parameters\n",
       "==========\n",
       "\n",
       "``self`` : vector of expressions representing functions f_i(x_1, ..., x_n).\n",
       "X : set of x_i's in order, it can be a list or a Matrix\n",
       "\n",
       "Both ``self`` and X can be a row or a column matrix in any order\n",
       "(i.e., jacobian() should always work).\n",
       "\n",
       "Examples\n",
       "========\n",
       "\n",
       ">>> from sympy import sin, cos, Matrix\n",
       ">>> from sympy.abc import rho, phi\n",
       ">>> X = Matrix([rho*cos(phi), rho*sin(phi), rho**2])\n",
       ">>> Y = Matrix([rho, phi])\n",
       ">>> X.jacobian(Y)\n",
       "Matrix([\n",
       "[cos(phi), -rho*sin(phi)],\n",
       "[sin(phi),  rho*cos(phi)],\n",
       "[   2*rho,             0]])\n",
       ">>> X = Matrix([rho*cos(phi), rho*sin(phi)])\n",
       ">>> X.jacobian(Y)\n",
       "Matrix([\n",
       "[cos(phi), -rho*sin(phi)],\n",
       "[sin(phi),  rho*cos(phi)]])\n",
       "\n",
       "See Also\n",
       "========\n",
       "\n",
       "hessian\n",
       "wronskian\n",
       "\u001b[1;31mFile:\u001b[0m      d:\\anaconda3-2021.05\\lib\\site-packages\\sympy\\matrices\\matrices.py\n",
       "\u001b[1;31mType:\u001b[0m      method\n"
      ]
     },
     "metadata": {},
     "output_type": "display_data"
    }
   ],
   "source": [
    "J.jacobian?"
   ]
  },
  {
   "cell_type": "code",
   "execution_count": null,
   "id": "a297280f-9583-459b-b710-b98adf5f2a9d",
   "metadata": {},
   "outputs": [],
   "source": []
  }
 ],
 "metadata": {
  "kernelspec": {
   "display_name": "Python 3",
   "language": "python",
   "name": "python3"
  },
  "language_info": {
   "codemirror_mode": {
    "name": "ipython",
    "version": 3
   },
   "file_extension": ".py",
   "mimetype": "text/x-python",
   "name": "python",
   "nbconvert_exporter": "python",
   "pygments_lexer": "ipython3",
   "version": "3.8.8"
  }
 },
 "nbformat": 4,
 "nbformat_minor": 5
}
