{
 "cells": [
  {
   "cell_type": "code",
   "execution_count": 5,
   "id": "00799970-4bfc-47f7-a29d-c14b0655438c",
   "metadata": {},
   "outputs": [
    {
     "name": "stdout",
     "output_type": "stream",
     "text": [
      "k= 0\n",
      "f= Sum(1, (i, 1, n))\n"
     ]
    },
    {
     "data": {
      "text/latex": [
       "$\\displaystyle \\sum_{i=1}^{n} 1$"
      ],
      "text/plain": [
       "Sum(1, (i, 1, n))"
      ]
     },
     "metadata": {},
     "output_type": "display_data"
    },
    {
     "data": {
      "text/latex": [
       "$\\displaystyle n$"
      ],
      "text/plain": [
       "n"
      ]
     },
     "metadata": {},
     "output_type": "display_data"
    },
    {
     "name": "stdout",
     "output_type": "stream",
     "text": [
      "----------\n",
      "k= 1\n",
      "f= Sum(i, (i, 1, n))\n"
     ]
    },
    {
     "data": {
      "text/latex": [
       "$\\displaystyle \\sum_{i=1}^{n} i$"
      ],
      "text/plain": [
       "Sum(i, (i, 1, n))"
      ]
     },
     "metadata": {},
     "output_type": "display_data"
    },
    {
     "data": {
      "text/latex": [
       "$\\displaystyle \\frac{n^{2}}{2} + \\frac{n}{2}$"
      ],
      "text/plain": [
       "n**2/2 + n/2"
      ]
     },
     "metadata": {},
     "output_type": "display_data"
    },
    {
     "name": "stdout",
     "output_type": "stream",
     "text": [
      "----------\n",
      "k= 2\n",
      "f= Sum(i**2, (i, 1, n))\n"
     ]
    },
    {
     "data": {
      "text/latex": [
       "$\\displaystyle \\sum_{i=1}^{n} i^{2}$"
      ],
      "text/plain": [
       "Sum(i**2, (i, 1, n))"
      ]
     },
     "metadata": {},
     "output_type": "display_data"
    },
    {
     "data": {
      "text/latex": [
       "$\\displaystyle \\frac{n^{3}}{3} + \\frac{n^{2}}{2} + \\frac{n}{6}$"
      ],
      "text/plain": [
       "n**3/3 + n**2/2 + n/6"
      ]
     },
     "metadata": {},
     "output_type": "display_data"
    },
    {
     "name": "stdout",
     "output_type": "stream",
     "text": [
      "----------\n"
     ]
    }
   ],
   "source": [
    "import sympy as sm\n",
    "\n",
    "i, n= sm.symbols('i, n')\n",
    "for k in range(0,3):\n",
    "    \n",
    "    f= sm.Sum( i**k, \n",
    "              (i, 1, n))\n",
    "    \n",
    "    結果= f.doit()\n",
    "    \n",
    "    print(f'k= {k}')\n",
    "    print(f'f= {f}')\n",
    "    display(f)\n",
    "    display(結果)\n",
    "    print(\"-\"*10)"
   ]
  },
  {
   "cell_type": "code",
   "execution_count": 6,
   "id": "679907c5-5779-456a-b58b-25edd8e6a62d",
   "metadata": {},
   "outputs": [],
   "source": [
    "from ryPat import *"
   ]
  },
  {
   "cell_type": "code",
   "execution_count": 51,
   "id": "2808b33e-45bc-4557-b679-dfaa059b3e54",
   "metadata": {},
   "outputs": [],
   "source": [
    "def ϕ(x):\n",
    "    y= sm.exp(-(x**2)/2) /sm.sqrt(2*π)\n",
    "    return y\n",
    "\n",
    "def f(x, μ=0, σ=1):\n",
    "    y= ϕ((x-μ)/σ) / σ\n",
    "    return y\n",
    "\n",
    "\n",
    "x, μ= sm.symbols('x, μ')\n",
    "σ=    sm.symbols('σ', positive=True)"
   ]
  },
  {
   "cell_type": "code",
   "execution_count": 52,
   "id": "20c53c6f-5d7b-4b4c-afaf-0dfda1a4ec52",
   "metadata": {},
   "outputs": [
    {
     "data": {
      "image/png": "[encoded data removed]",
      "text/latex": [
       "$\\displaystyle \\frac{\\sqrt{2} e^{- \\frac{x^{2}}{2}}}{2 \\sqrt{\\pi}}$"
      ],
      "text/plain": [
       "      2 \n",
       "    -x  \n",
       "    ────\n",
       "     2  \n",
       "√2⋅ℯ    \n",
       "────────\n",
       "  2⋅√π  "
      ]
     },
     "execution_count": 52,
     "metadata": {},
     "output_type": "execute_result"
    }
   ],
   "source": [
    "ϕ(x)"
   ]
  },
  {
   "cell_type": "code",
   "execution_count": 56,
   "id": "9d3a04c3-d37c-4e77-bad4-f417cbc5258b",
   "metadata": {},
   "outputs": [
    {
     "data": {
      "image/png": "[encoded data removed]",
      "text/latex": [
       "$\\displaystyle \\frac{\\sqrt{2} e^{- \\frac{\\left(x - μ\\right)^{2}}{2 σ^{2}}}}{2 \\sqrt{\\pi} σ}$"
      ],
      "text/plain": [
       "            2 \n",
       "    -(x - μ)  \n",
       "    ──────────\n",
       "          2   \n",
       "       2⋅σ    \n",
       "√2⋅ℯ          \n",
       "──────────────\n",
       "    2⋅√π⋅σ    "
      ]
     },
     "execution_count": 56,
     "metadata": {},
     "output_type": "execute_result"
    }
   ],
   "source": [
    "f(x, μ, σ).simplify()"
   ]
  },
  {
   "cell_type": "code",
   "execution_count": 57,
   "id": "f2a46dd8-acfb-4d07-b27b-c57d7d8edb25",
   "metadata": {},
   "outputs": [
    {
     "data": {
      "image/png": "[encoded data removed]",
      "text/latex": [
       "$\\displaystyle 1$"
      ],
      "text/plain": [
       "1"
      ]
     },
     "execution_count": 57,
     "metadata": {},
     "output_type": "execute_result"
    }
   ],
   "source": [
    "# integration of pdf should be 1\n",
    "(\n",
    "f(x,μ,σ)\n",
    ".integrate(\n",
    "    (x,-sm.oo,sm.oo))\n",
    ")"
   ]
  },
  {
   "cell_type": "code",
   "execution_count": 61,
   "id": "e3e88038-4078-4a81-9682-4d68e23c910b",
   "metadata": {},
   "outputs": [
    {
     "data": {
      "image/png": "[encoded data removed]",
      "text/latex": [
       "$\\displaystyle μ$"
      ],
      "text/plain": [
       "μ"
      ]
     },
     "metadata": {},
     "output_type": "display_data"
    },
    {
     "data": {
      "image/png": "[encoded data removed]",
      "text/latex": [
       "$\\displaystyle μ^{2} + σ^{2}$"
      ],
      "text/plain": [
       " 2    2\n",
       "μ  + σ "
      ]
     },
     "metadata": {},
     "output_type": "display_data"
    },
    {
     "data": {
      "image/png": "[encoded data removed]",
      "text/latex": [
       "$\\displaystyle σ^{2}$"
      ],
      "text/plain": [
       " 2\n",
       "σ "
      ]
     },
     "metadata": {},
     "output_type": "display_data"
    },
    {
     "data": {
      "image/png": "[encoded data removed]",
      "text/latex": [
       "$\\displaystyle \\left[ μ\\right]$"
      ],
      "text/plain": [
       "[μ]"
      ]
     },
     "metadata": {},
     "output_type": "display_data"
    }
   ],
   "source": [
    "# E[X]=\n",
    "E_X= (\n",
    "    (x*f(x,μ,σ))\n",
    "    .integrate(\n",
    "        (x,-sm.oo,sm.oo))\n",
    ").simplify()\n",
    "\n",
    "# E[X**2]=\n",
    "E_XX= (\n",
    "    ((x**2)*f(x,μ,σ))\n",
    "    .integrate(\n",
    "        (x,-sm.oo,sm.oo))\n",
    ").simplify()\n",
    "\n",
    "# Var[X]=\n",
    "Var_X= (\n",
    "    (((x-μ)**2)*f(x,μ,σ))\n",
    "    .integrate(\n",
    "        (x,-sm.oo,sm.oo))\n",
    ").simplify()\n",
    "\n",
    "# Mode[X]= \n",
    "Mode_X= (\n",
    "    sm.solve(\n",
    "        f(x,μ,σ).diff(x),\n",
    "        x)\n",
    ")\n",
    "\n",
    "display(E_X)\n",
    "display(E_XX)\n",
    "display(Var_X)\n",
    "display(Mode_X)"
   ]
  },
  {
   "cell_type": "code",
   "execution_count": 33,
   "id": "9efa6523-6065-4ea2-838d-d4cf2c762a66",
   "metadata": {},
   "outputs": [],
   "source": [
    "import scipy.special\n",
    "#scipy.special.comb?"
   ]
  },
  {
   "cell_type": "code",
   "execution_count": 67,
   "id": "4199ff52-d57b-49ea-9234-3c6cdbb1c7ed",
   "metadata": {},
   "outputs": [
    {
     "data": {
      "text/plain": [
       "([1, 10, 45, 120, 210, 252, 210, 120, 45, 10, 1],\n",
       " [1, 10, 45, 120, 210, 252, 210, 120, 45, 10, 1],\n",
       " [1, 10, 45, 120, 210, 252, 210, 120, 45, 10, 1])"
      ]
     },
     "execution_count": 67,
     "metadata": {},
     "output_type": "execute_result"
    }
   ],
   "source": [
    "# version 1: 僅使用 陽春的 Python\n",
    "def binomial_coefficient(n, k):\n",
    "    '''\n",
    "    using recursive method\n",
    "    '''\n",
    "    if k < 0 or k > n:\n",
    "        c= 0\n",
    "    elif k in [0, n]:\n",
    "        c= 1    \n",
    "    else:\n",
    "        k= min(k, n - k)  # 善用對稱性\n",
    "        c= 1\n",
    "        for i in range(k):\n",
    "            c = c * (n - i) // (i + 1) \n",
    "            \n",
    "    return c\n",
    "\n",
    "n=  10\n",
    "v1= [binomial_coefficient(n,k) for k in range(n+1)]\n",
    "#----------------------------------------------------------\n",
    "\n",
    "# version 2\n",
    "import math as mt\n",
    "\n",
    "def binomial_coefficient_v2(n, k):\n",
    "    c= mt.factorial(n) // (mt.factorial(k) * mt.factorial(n - k))\n",
    "    return c \n",
    "\n",
    "#n= 10\n",
    "v2= [binomial_coefficient_v2(n,x) for x in range(n+1)]\n",
    "#----------------------------------------------------------\n",
    "\n",
    "# version 3\n",
    "import scipy.special as sp\n",
    "binomial_coefficient_v3= sp.comb\n",
    "\n",
    "#n= 10\n",
    "v3= [int(binomial_coefficient_v3(n,k)) for k in range(n+1)]\n",
    "#----------------------------------------------------------\n",
    "\n",
    "v1,v2,v3"
   ]
  },
  {
   "cell_type": "code",
   "execution_count": 80,
   "id": "3cd619a5-b322-437c-b55b-ce4c429c9bc5",
   "metadata": {},
   "outputs": [
    {
     "data": {
      "text/plain": [
       "[1,\n",
       " 20,\n",
       " 190,\n",
       " 1140,\n",
       " 4845,\n",
       " 15504,\n",
       " 38760,\n",
       " 77520,\n",
       " 125970,\n",
       " 167960,\n",
       " 184756,\n",
       " 167960,\n",
       " 125970,\n",
       " 77520,\n",
       " 38760,\n",
       " 15504,\n",
       " 4845,\n",
       " 1140,\n",
       " 190,\n",
       " 20,\n",
       " 1]"
      ]
     },
     "execution_count": 80,
     "metadata": {},
     "output_type": "execute_result"
    }
   ],
   "source": [
    "# version 4: 僅使用 陽春的 Python\n",
    "def binomial_coefficient_v4(n, k):\n",
    "    '''\n",
    "    using recursive method\n",
    "    '''\n",
    "    if k < 0 or k > n:\n",
    "        c= 0\n",
    "    elif k in [0, n]:\n",
    "        c= 1    \n",
    "    else:\n",
    "        k= min(k, n - k)  # 善用對稱性\n",
    "        \n",
    "        #c= 1\n",
    "        #for i in range(k):\n",
    "        #    c = c * (n - i) // (i + 1) \n",
    "        c= binomial_coefficient_v4(n-1, k) + binomial_coefficient_v4(n-1, k-1)     \n",
    "    return c\n",
    "\n",
    "n=  20\n",
    "v4= [binomial_coefficient_v4(n,k) for k in range(n+1)]\n",
    "#----------------------------------------------------------\n",
    "v4"
   ]
  },
  {
   "cell_type": "code",
   "execution_count": 115,
   "id": "7c1b29e0-a048-4c65-b7b7-7132b6d3cc6c",
   "metadata": {},
   "outputs": [
    {
     "data": {
      "text/plain": [
       "[1, 10, 45, 120, 210, 252, 210, 120, 45, 10, 1]"
      ]
     },
     "execution_count": 115,
     "metadata": {},
     "output_type": "execute_result"
    }
   ],
   "source": [
    "import sympy as sm\n",
    "\n",
    "n=  10\n",
    "v4= [sm.binomial(n,k) for k in range(n+1)]\n",
    "v4"
   ]
  },
  {
   "cell_type": "code",
   "execution_count": 149,
   "id": "9e7167c8-3378-4127-88a2-18ebe27a067e",
   "metadata": {},
   "outputs": [
    {
     "data": {
      "text/plain": [
       "[1, -10, 55, -220, 715, -2002, 5005, -11440, 24310, -48620, 92378]"
      ]
     },
     "execution_count": 149,
     "metadata": {},
     "output_type": "execute_result"
    }
   ],
   "source": [
    "# Negative Binomial ??\n",
    "v5= [sm.binomial(-n, k) for k in range(n+1)]\n",
    "v5"
   ]
  },
  {
   "cell_type": "code",
   "execution_count": 150,
   "id": "31411c8b-7c06-4e01-b0e6-02e5101f1013",
   "metadata": {},
   "outputs": [
    {
     "data": {
      "text/latex": [
       "$\\displaystyle \\frac{1}{\\left(x + 1\\right)^{10}}$"
      ],
      "text/plain": [
       "(x + 1)**(-10)"
      ]
     },
     "execution_count": 150,
     "metadata": {},
     "output_type": "execute_result"
    }
   ],
   "source": [
    "x= sm.symbols('x')\n",
    "f= (1+x)**(-n)\n",
    "f"
   ]
  },
  {
   "cell_type": "code",
   "execution_count": 151,
   "id": "3f0c56d0-ca5d-4309-bc84-a74d9288813f",
   "metadata": {},
   "outputs": [
    {
     "data": {
      "text/latex": [
       "$\\displaystyle \\frac{1}{x^{10} + 10 x^{9} + 45 x^{8} + 120 x^{7} + 210 x^{6} + 252 x^{5} + 210 x^{4} + 120 x^{3} + 45 x^{2} + 10 x + 1}$"
      ],
      "text/plain": [
       "1/(x**10 + 10*x**9 + 45*x**8 + 120*x**7 + 210*x**6 + 252*x**5 + 210*x**4 + 120*x**3 + 45*x**2 + 10*x + 1)"
      ]
     },
     "execution_count": 151,
     "metadata": {},
     "output_type": "execute_result"
    }
   ],
   "source": [
    "f.expand()"
   ]
  },
  {
   "cell_type": "code",
   "execution_count": 152,
   "id": "5ad23759-4802-4a05-90e3-19fd4d73458b",
   "metadata": {},
   "outputs": [
    {
     "data": {
      "text/latex": [
       "$\\displaystyle 1 - 10 x + 55 x^{2} - 220 x^{3} + 715 x^{4} - 2002 x^{5} + O\\left(x^{6}\\right)$"
      ],
      "text/plain": [
       "1 - 10*x + 55*x**2 - 220*x**3 + 715*x**4 - 2002*x**5 + O(x**6)"
      ]
     },
     "execution_count": 152,
     "metadata": {},
     "output_type": "execute_result"
    }
   ],
   "source": [
    "# 這是 Taylor 級數展開，直接用長除法就可，但長度(亦即項數)會趨近無限。\n",
    "f.series()  "
   ]
  },
  {
   "cell_type": "code",
   "execution_count": 251,
   "id": "13a17a30-41f2-47c0-9acc-ce903a7d1e2b",
   "metadata": {},
   "outputs": [
    {
     "data": {
      "text/latex": [
       "$\\displaystyle -220$"
      ],
      "text/plain": [
       "-220"
      ]
     },
     "execution_count": 251,
     "metadata": {},
     "output_type": "execute_result"
    }
   ],
   "source": [
    "# 據說 n 不但 【負數】 可以\n",
    "n= -10\n",
    "k= 3\n",
    "sm.binomial(n, k)"
   ]
  },
  {
   "cell_type": "code",
   "execution_count": 252,
   "id": "f9e0f64c-3d02-43d7-95d6-929d53e3a015",
   "metadata": {},
   "outputs": [
    {
     "data": {
      "text/latex": [
       "$\\displaystyle - \\frac{i}{3}$"
      ],
      "text/plain": [
       "-I/3"
      ]
     },
     "execution_count": 252,
     "metadata": {},
     "output_type": "execute_result"
    }
   ],
   "source": [
    "#連 【複數】 都很可以！！！\n",
    "n= 1 + sm.I\n",
    "ak= sm.binomial(n, k)\n",
    "ak"
   ]
  },
  {
   "cell_type": "code",
   "execution_count": 253,
   "id": "c13b5f8f-d034-4b9e-86bf-abb519255dd9",
   "metadata": {},
   "outputs": [
    {
     "data": {
      "text/latex": [
       "$\\displaystyle \\left(x + 1\\right)^{1 + i}$"
      ],
      "text/plain": [
       "(x + 1)**(1 + I)"
      ]
     },
     "execution_count": 253,
     "metadata": {},
     "output_type": "execute_result"
    }
   ],
   "source": [
    "(1+x)**(n)"
   ]
  },
  {
   "cell_type": "code",
   "execution_count": 254,
   "id": "2aed3ae7-cff4-4249-b394-d5214a14ec1d",
   "metadata": {},
   "outputs": [
    {
     "data": {
      "text/latex": [
       "$\\displaystyle 1 + x \\left(1 + i\\right) + \\frac{i x^{2} \\left(1 + i\\right)}{2} + \\frac{i x^{3} \\left(-1 + i\\right) \\left(1 + i\\right)}{6} + \\frac{i x^{4} \\left(-2 + i\\right) \\left(-1 + i\\right) \\left(1 + i\\right)}{24} + \\frac{i x^{5} \\left(-3 + i\\right) \\left(-2 + i\\right) \\left(-1 + i\\right) \\left(1 + i\\right)}{120} + O\\left(x^{6}\\right)$"
      ],
      "text/plain": [
       "1 + x*(1 + I) + I*x**2*(1 + I)/2 + I*x**3*(-1 + I)*(1 + I)/6 + I*x**4*(-2 + I)*(-1 + I)*(1 + I)/24 + I*x**5*(-3 + I)*(-2 + I)*(-1 + I)*(1 + I)/120 + O(x**6)"
      ]
     },
     "execution_count": 254,
     "metadata": {},
     "output_type": "execute_result"
    }
   ],
   "source": [
    "f= ((1+x)**(n)).series()\n",
    "f"
   ]
  },
  {
   "cell_type": "code",
   "execution_count": 255,
   "id": "0143c8aa-9ab8-415a-ac68-ea939c1e3223",
   "metadata": {},
   "outputs": [
    {
     "data": {
      "text/latex": [
       "$\\displaystyle - \\frac{i}{3}$"
      ],
      "text/plain": [
       "-I/3"
      ]
     },
     "execution_count": 255,
     "metadata": {},
     "output_type": "execute_result"
    }
   ],
   "source": [
    "bk= f.as_poly().coeff_monomial(x**k)\n",
    "bk"
   ]
  },
  {
   "cell_type": "code",
   "execution_count": 256,
   "id": "af71cc13-43f4-40c3-b382-ae8084cbeb3a",
   "metadata": {},
   "outputs": [
    {
     "data": {
      "text/plain": [
       "True"
      ]
     },
     "execution_count": 256,
     "metadata": {},
     "output_type": "execute_result"
    }
   ],
   "source": [
    "ak==bk"
   ]
  },
  {
   "cell_type": "code",
   "execution_count": 260,
   "id": "b6b7c0d2-6cbc-403a-8756-c4b9599da1dc",
   "metadata": {},
   "outputs": [
    {
     "data": {
      "text/latex": [
       "$\\displaystyle - \\frac{i}{3}$"
      ],
      "text/plain": [
       "-I/3"
      ]
     },
     "execution_count": 260,
     "metadata": {},
     "output_type": "execute_result"
    }
   ],
   "source": [
    "# 觀察上式中 x**3 的係數為 i * (-1+i) * (1+i) /6\n",
    "# 化簡如下：\n",
    "i= sm.I\n",
    "bk= (i * (-1+i) * (1+i) /6).simplify()\n",
    "bk"
   ]
  },
  {
   "cell_type": "code",
   "execution_count": 261,
   "id": "e56f0db9-d62e-454b-9b81-7d62e158f41a",
   "metadata": {},
   "outputs": [
    {
     "data": {
      "text/latex": [
       "$\\displaystyle - \\frac{i}{3}$"
      ],
      "text/plain": [
       "-I/3"
      ]
     },
     "execution_count": 261,
     "metadata": {},
     "output_type": "execute_result"
    }
   ],
   "source": [
    "# 自動從 f (以多項式看待) 中撈出，如下：\n",
    "bk= f.as_poly().coeff_monomial(x**k)\n",
    "bk"
   ]
  },
  {
   "cell_type": "code",
   "execution_count": 275,
   "id": "8969af69-c60d-4be1-a52b-df296d6a6aa7",
   "metadata": {},
   "outputs": [
    {
     "data": {
      "text/latex": [
       "$\\displaystyle 10^{i}$"
      ],
      "text/plain": [
       "10**I"
      ]
     },
     "execution_count": 275,
     "metadata": {},
     "output_type": "execute_result"
    }
   ],
   "source": [
    "# 再加碼想一下，\n",
    "# x**i\n",
    "# 到底啥意思？？\n",
    "\n",
    "q= 10**sm.I\n",
    "q"
   ]
  },
  {
   "cell_type": "code",
   "execution_count": 276,
   "id": "47f8869a-5874-4829-b3cb-e947a3ddb893",
   "metadata": {},
   "outputs": [
    {
     "data": {
      "text/latex": [
       "$\\displaystyle -0.668201510190313 + 0.743980336957493 i$"
      ],
      "text/plain": [
       "-0.668201510190313 + 0.743980336957493*I"
      ]
     },
     "execution_count": 276,
     "metadata": {},
     "output_type": "execute_result"
    }
   ],
   "source": [
    "q.evalf()"
   ]
  },
  {
   "cell_type": "code",
   "execution_count": 277,
   "id": "79186ea2-f5cc-4504-9530-f74bdcf8781f",
   "metadata": {},
   "outputs": [
    {
     "data": {
      "text/latex": [
       "$\\displaystyle 2^{i}$"
      ],
      "text/plain": [
       "2**I"
      ]
     },
     "execution_count": 277,
     "metadata": {},
     "output_type": "execute_result"
    }
   ],
   "source": [
    "q= 2**sm.I\n",
    "q"
   ]
  },
  {
   "cell_type": "code",
   "execution_count": 278,
   "id": "3881ff5a-70b8-4da7-8d67-765b2b59e831",
   "metadata": {},
   "outputs": [
    {
     "data": {
      "text/latex": [
       "$\\displaystyle 0.769238901363972 + 0.638961276313635 i$"
      ],
      "text/plain": [
       "0.769238901363972 + 0.638961276313635*I"
      ]
     },
     "execution_count": 278,
     "metadata": {},
     "output_type": "execute_result"
    }
   ],
   "source": [
    "q.evalf()"
   ]
  },
  {
   "cell_type": "code",
   "execution_count": 280,
   "id": "ae138e3f-622b-4259-ab66-791c971d676f",
   "metadata": {},
   "outputs": [
    {
     "data": {
      "text/latex": [
       "$\\displaystyle 1.0$"
      ],
      "text/plain": [
       "1.00000000000000"
      ]
     },
     "execution_count": 280,
     "metadata": {},
     "output_type": "execute_result"
    }
   ],
   "source": [
    "q= 1**sm.I\n",
    "q.evalf()"
   ]
  },
  {
   "cell_type": "code",
   "execution_count": 281,
   "id": "9bba88c7-36b1-4ddd-b7f6-85dc0617e7ad",
   "metadata": {},
   "outputs": [
    {
     "data": {
      "text/latex": [
       "$\\displaystyle \\text{NaN}$"
      ],
      "text/plain": [
       "nan"
      ]
     },
     "execution_count": 281,
     "metadata": {},
     "output_type": "execute_result"
    }
   ],
   "source": [
    "q= 0**sm.I\n",
    "q.evalf()"
   ]
  },
  {
   "cell_type": "code",
   "execution_count": 282,
   "id": "908daeab-d784-41b0-9b9a-3aa8490601f0",
   "metadata": {},
   "outputs": [
    {
     "data": {
      "text/latex": [
       "$\\displaystyle 0.207879576350762$"
      ],
      "text/plain": [
       "0.207879576350762"
      ]
     },
     "execution_count": 282,
     "metadata": {},
     "output_type": "execute_result"
    }
   ],
   "source": [
    "q= sm.I**sm.I\n",
    "q.evalf()"
   ]
  },
  {
   "cell_type": "code",
   "execution_count": 286,
   "id": "a0302816-1fc5-423b-ae4b-66ef3c2870e8",
   "metadata": {},
   "outputs": [
    {
     "data": {
      "text/latex": [
       "$\\displaystyle e^{- \\frac{\\pi}{2}}$"
      ],
      "text/plain": [
       "exp(-pi/2)"
      ]
     },
     "execution_count": 286,
     "metadata": {},
     "output_type": "execute_result"
    }
   ],
   "source": [
    "sm.exp(-sm.pi/2)"
   ]
  },
  {
   "cell_type": "code",
   "execution_count": 287,
   "id": "32a4701f-92e2-443c-a9f6-2df083035a7d",
   "metadata": {},
   "outputs": [
    {
     "data": {
      "text/latex": [
       "$\\displaystyle 0.207879576350762$"
      ],
      "text/plain": [
       "0.207879576350762"
      ]
     },
     "execution_count": 287,
     "metadata": {},
     "output_type": "execute_result"
    }
   ],
   "source": [
    "sm.exp(-sm.pi/2).evalf()"
   ]
  },
  {
   "cell_type": "code",
   "execution_count": 268,
   "id": "ab099174-4e73-4a50-b557-9f602611480d",
   "metadata": {},
   "outputs": [
    {
     "data": {
      "text/latex": [
       "$\\displaystyle e^{i \\log{\\left(10 \\right)}}$"
      ],
      "text/plain": [
       "exp(I*log(10))"
      ]
     },
     "execution_count": 268,
     "metadata": {},
     "output_type": "execute_result"
    }
   ],
   "source": [
    "q2= (sm.cos(sm.log(10)) + sm.I *sm.sin(sm.log(10))).simplify()\n",
    "q2"
   ]
  },
  {
   "cell_type": "code",
   "execution_count": 264,
   "id": "f6df2e66-a0e9-4f5e-8498-21601e71cc13",
   "metadata": {},
   "outputs": [
    {
     "data": {
      "text/plain": [
       "False"
      ]
     },
     "execution_count": 264,
     "metadata": {},
     "output_type": "execute_result"
    }
   ],
   "source": [
    "10**sm.I == sm.cos(sm.log(10)) + sm.I *sm.sin(sm.log(10))"
   ]
  },
  {
   "cell_type": "code",
   "execution_count": 272,
   "id": "15551949-0c26-4fcc-819c-e7426436480e",
   "metadata": {},
   "outputs": [
    {
     "data": {
      "text/latex": [
       "$\\displaystyle -0.668201510190313 + 0.743980336957493 i$"
      ],
      "text/plain": [
       "-0.668201510190313 + 0.743980336957493*I"
      ]
     },
     "execution_count": 272,
     "metadata": {},
     "output_type": "execute_result"
    }
   ],
   "source": [
    "q1.evalf()"
   ]
  },
  {
   "cell_type": "code",
   "execution_count": 273,
   "id": "63065f50-3f6f-4637-b773-e1522a23aaef",
   "metadata": {},
   "outputs": [
    {
     "data": {
      "text/latex": [
       "$\\displaystyle -0.668201510190313 + 0.743980336957493 i$"
      ],
      "text/plain": [
       "-0.668201510190313 + 0.743980336957493*I"
      ]
     },
     "execution_count": 273,
     "metadata": {},
     "output_type": "execute_result"
    }
   ],
   "source": [
    "q2.evalf()"
   ]
  },
  {
   "cell_type": "code",
   "execution_count": 274,
   "id": "9c9a1612-3f89-4507-a87e-1522546b2f45",
   "metadata": {},
   "outputs": [
    {
     "data": {
      "text/plain": [
       "True"
      ]
     },
     "execution_count": 274,
     "metadata": {},
     "output_type": "execute_result"
    }
   ],
   "source": [
    "q1.evalf() == q2.evalf()"
   ]
  },
  {
   "cell_type": "code",
   "execution_count": 391,
   "id": "808dfca3-9ac7-4ad1-b605-eed50c4b6a7c",
   "metadata": {},
   "outputs": [
    {
     "data": {
      "text/latex": [
       "$\\displaystyle \\sqrt{1 - x^{2}}$"
      ],
      "text/plain": [
       "sqrt(1 - x**2)"
      ]
     },
     "execution_count": 391,
     "metadata": {},
     "output_type": "execute_result"
    }
   ],
   "source": [
    "# length of a curve\n",
    "\n",
    "def f(x):\n",
    "    y= sm.sqrt(1-x**2)\n",
    "    return y\n",
    "f(x)"
   ]
  },
  {
   "cell_type": "code",
   "execution_count": 392,
   "id": "cb321006-094a-4e47-ae93-8d6458fa28c3",
   "metadata": {},
   "outputs": [
    {
     "data": {
      "image/png": "[encoded data removed]",
      "text/plain": [
       "<Figure size 432x288 with 1 Axes>"
      ]
     },
     "metadata": {
      "needs_background": "light"
     },
     "output_type": "display_data"
    },
    {
     "data": {
      "text/plain": [
       "<sympy.plotting.plot.Plot at 0x25dbda62f40>"
      ]
     },
     "execution_count": 392,
     "metadata": {},
     "output_type": "execute_result"
    }
   ],
   "source": [
    "x= sm.symbols('x')\n",
    "sm.plot(\n",
    "    f(x),\n",
    "    (x,-1,1))"
   ]
  },
  {
   "cell_type": "code",
   "execution_count": 393,
   "id": "7e1b1de6-ddc0-41c5-8af2-bedcfddb6568",
   "metadata": {},
   "outputs": [
    {
     "data": {
      "text/latex": [
       "$\\displaystyle \\pi$"
      ],
      "text/plain": [
       "pi"
      ]
     },
     "execution_count": 393,
     "metadata": {},
     "output_type": "execute_result"
    }
   ],
   "source": [
    "# 長度\n",
    "長度= sm.sqrt(\n",
    "  1+(f(x).diff(x))**2\n",
    ").integrate((x,-1,1))\n",
    "長度"
   ]
  },
  {
   "cell_type": "code",
   "execution_count": 394,
   "id": "9c0d6419-a0a0-46b7-ab3d-170c961b33ec",
   "metadata": {},
   "outputs": [
    {
     "data": {
      "text/latex": [
       "$\\displaystyle \\frac{\\pi}{2}$"
      ],
      "text/plain": [
       "pi/2"
      ]
     },
     "execution_count": 394,
     "metadata": {},
     "output_type": "execute_result"
    }
   ],
   "source": [
    "#面積\n",
    "面積= f(x).integrate((x,-1,1))\n",
    "面積"
   ]
  },
  {
   "cell_type": "markdown",
   "id": "bf3bc79f-13e4-487a-8e81-fb1d4632f2d5",
   "metadata": {},
   "source": [
    "# sympy.stats.Binomial"
   ]
  },
  {
   "cell_type": "code",
   "execution_count": 556,
   "id": "884710e0-8b75-49d6-a559-dec9d41b0df6",
   "metadata": {},
   "outputs": [],
   "source": [
    "import sympy.stats as st\n",
    "p= sm.symbols('p', positive=True, real=True)\n",
    "n, k, x= sm.symbols('n, k, x', positive=True, integer=True)\n",
    "X= st.Binomial('X',n,p)"
   ]
  },
  {
   "cell_type": "code",
   "execution_count": 558,
   "id": "92a615d7-41dc-485e-a224-e2a0ed4ef6fe",
   "metadata": {},
   "outputs": [
    {
     "data": {
      "text/latex": [
       "$\\displaystyle \\begin{cases} p^{x} \\left(1 - p\\right)^{n - x} {\\binom{n}{x}} & \\text{for}\\: n \\geq x \\\\0 & \\text{otherwise} \\end{cases}$"
      ],
      "text/plain": [
       "Piecewise((p**x*(1 - p)**(n - x)*binomial(n, x), n >= x), (0, True))"
      ]
     },
     "execution_count": 558,
     "metadata": {},
     "output_type": "execute_result"
    }
   ],
   "source": [
    "f= st.density(X)(x) #.subs({n:100, p:0.5})\n",
    "f"
   ]
  },
  {
   "cell_type": "code",
   "execution_count": 507,
   "id": "0f222ef2-986f-4447-bf23-b53359f8ffc7",
   "metadata": {},
   "outputs": [
    {
     "data": {
      "image/png": "[encoded data removed]",
      "text/plain": [
       "<Figure size 432x288 with 1 Axes>"
      ]
     },
     "metadata": {
      "needs_background": "light"
     },
     "output_type": "display_data"
    }
   ],
   "source": [
    "fg= sm.plot(f, (x,0,100), show=False)\n",
    "fg.show()\n",
    "\n",
    "# sm.plot 就是不夠好用 !!"
   ]
  },
  {
   "cell_type": "code",
   "execution_count": 509,
   "id": "6481e833-e03f-49ae-a99b-68583001203f",
   "metadata": {},
   "outputs": [
    {
     "data": {
      "image/png": "[encoded data removed]",
      "text/plain": [
       "<Figure size 432x288 with 1 Axes>"
      ]
     },
     "metadata": {
      "needs_background": "light"
     },
     "output_type": "display_data"
    }
   ],
   "source": [
    "# 改回 matplotlib.pyplot ...\n",
    "# 但有一些 衝突待解...\n",
    "\n",
    "# 這一段進一步了解 sm.lambdify 的機制\n",
    "\n",
    "import numpy as np\n",
    "import matplotlib.pyplot as pl\n",
    "\n",
    "xx= np.arange(0,101)\n",
    "yy= sm.lambdify(x,f,  \n",
    "                modules=['numpy', \n",
    "                         {'binomial':scipy.special.binom}]\n",
    "               )(xx)\n",
    "pl.stem(xx,yy,'ro')\n",
    "pl.grid()\n",
    "\n",
    "# 漂亮多了"
   ]
  },
  {
   "cell_type": "code",
   "execution_count": 513,
   "id": "0c14d3e2-a8bb-4953-b0a4-0742672289a4",
   "metadata": {},
   "outputs": [
    {
     "data": {
      "text/latex": [
       "$\\displaystyle \\sum_{k=0}^{n} \\begin{cases} k p^{k} \\left(1 - p\\right)^{- k} \\left(1 - p\\right)^{n} {\\binom{n}{k}} & \\text{for}\\: k \\leq n \\\\0 & \\text{otherwise} \\end{cases}$"
      ],
      "text/plain": [
       "Sum(Piecewise((_k*p**_k*(1 - p)**(-_k)*(1 - p)**n*binomial(n, _k), _k <= n), (0, True)), (_k, 0, n))"
      ]
     },
     "execution_count": 513,
     "metadata": {},
     "output_type": "execute_result"
    }
   ],
   "source": [
    "st.E(X).simplify()"
   ]
  },
  {
   "cell_type": "code",
   "execution_count": 550,
   "id": "13ae9dde-42a6-4399-9e90-2c782d45a45f",
   "metadata": {},
   "outputs": [
    {
     "data": {
      "text/latex": [
       "$\\displaystyle \\sum_{k=0}^{50} \\begin{cases} 0.2^{50 - k} 0.8^{k} k^{2} {\\binom{50}{k}} & \\text{for}\\: k \\leq 50 \\\\0 & \\text{otherwise} \\end{cases}$"
      ],
      "text/plain": [
       "Sum(Piecewise((0.2**(50 - k)*0.8**k*k**2*binomial(50, k), k <= 50), (0, True)), (k, 0, 50))"
      ]
     },
     "execution_count": 550,
     "metadata": {},
     "output_type": "execute_result"
    }
   ],
   "source": [
    "q= sm.Sum(\n",
    "    (k**2)*st.density(X)(k).subs({n:50, p:0.8}), \n",
    "    (k,0,50))\n",
    "q"
   ]
  },
  {
   "cell_type": "code",
   "execution_count": 551,
   "id": "4b80e24e-4b06-4617-8238-90f3f6db9e1c",
   "metadata": {},
   "outputs": [
    {
     "data": {
      "text/latex": [
       "$\\displaystyle 1608.0$"
      ],
      "text/plain": [
       "1608.00000000000"
      ]
     },
     "execution_count": 551,
     "metadata": {},
     "output_type": "execute_result"
    }
   ],
   "source": [
    "q.doit()"
   ]
  },
  {
   "cell_type": "code",
   "execution_count": 554,
   "id": "1edf1133-315b-455e-b907-eca670554fb1",
   "metadata": {},
   "outputs": [
    {
     "data": {
      "text/latex": [
       "$\\displaystyle 40.0$"
      ],
      "text/plain": [
       "40.0000000000000"
      ]
     },
     "execution_count": 554,
     "metadata": {},
     "output_type": "execute_result"
    }
   ],
   "source": [
    "st.E(X).subs({n:50, p:0.8}).doit()"
   ]
  },
  {
   "cell_type": "code",
   "execution_count": 555,
   "id": "b7147f78-8bbd-46ef-a819-6ed18b433fc5",
   "metadata": {},
   "outputs": [
    {
     "data": {
      "text/latex": [
       "$\\displaystyle 8.0$"
      ],
      "text/plain": [
       "8.00000000000000"
      ]
     },
     "execution_count": 555,
     "metadata": {},
     "output_type": "execute_result"
    }
   ],
   "source": [
    "st.variance(X).subs({n:50, p:0.8}).doit()\n"
   ]
  },
  {
   "cell_type": "code",
   "execution_count": 524,
   "id": "0134d42d-e865-4caa-84be-de336b589ada",
   "metadata": {},
   "outputs": [
    {
     "data": {
      "text/latex": [
       "$\\displaystyle \\sum_{k=0}^{n} \\begin{cases} p^{k} \\left(1 - p\\right)^{- k} \\left(1 - p\\right)^{n} \\left(k^{2} - 2 k \\sum_{k=0}^{n} \\begin{cases} k p^{k} \\left(1 - p\\right)^{- k} \\left(1 - p\\right)^{n} {\\binom{n}{k}} & \\text{for}\\: k \\leq n \\\\0 & \\text{otherwise} \\end{cases} + \\left(\\sum_{k=0}^{n} \\begin{cases} k p^{k} \\left(1 - p\\right)^{- k} \\left(1 - p\\right)^{n} {\\binom{n}{k}} & \\text{for}\\: k \\leq n \\\\0 & \\text{otherwise} \\end{cases}\\right)^{2}\\right) {\\binom{n}{k}} & \\text{for}\\: k \\leq n \\\\0 & \\text{otherwise} \\end{cases}$"
      ],
      "text/plain": [
       "Sum(Piecewise((p**_k*(1 - p)**(-_k)*(1 - p)**n*(_k**2 - 2*_k*Sum(Piecewise((_k*p**_k*(1 - p)**(-_k)*(1 - p)**n*binomial(n, _k), _k <= n), (0, True)), (_k, 0, n)) + Sum(Piecewise((_k*p**_k*(1 - p)**(-_k)*(1 - p)**n*binomial(n, _k), _k <= n), (0, True)), (_k, 0, n))**2)*binomial(n, _k), _k <= n), (0, True)), (_k, 0, n))"
      ]
     },
     "execution_count": 524,
     "metadata": {},
     "output_type": "execute_result"
    }
   ],
   "source": [
    "\n",
    "st.variance(X).simplify()"
   ]
  },
  {
   "cell_type": "code",
   "execution_count": null,
   "id": "ce43b0e0-af91-484b-b363-05a067ce20cb",
   "metadata": {},
   "outputs": [],
   "source": []
  },
  {
   "cell_type": "code",
   "execution_count": null,
   "id": "d45cd12d-1488-4b7e-bb0f-98468a9502b3",
   "metadata": {},
   "outputs": [],
   "source": []
  },
  {
   "cell_type": "code",
   "execution_count": null,
   "id": "7725c93c-9431-4ff4-a782-2c26e6499423",
   "metadata": {},
   "outputs": [],
   "source": []
  },
  {
   "cell_type": "code",
   "execution_count": 510,
   "id": "aaa9db03-882b-4f98-be7c-f81e88458de4",
   "metadata": {},
   "outputs": [],
   "source": [
    "\n",
    "#import scipy.special.binom?"
   ]
  },
  {
   "cell_type": "code",
   "execution_count": null,
   "id": "82a4ac3c-adaa-4a3f-bda8-d021f7c59625",
   "metadata": {},
   "outputs": [],
   "source": [
    "import scipy.special.binom"
   ]
  },
  {
   "cell_type": "code",
   "execution_count": null,
   "id": "ac8cc6cd-fc8f-4e5b-8fac-54ae4586ec09",
   "metadata": {},
   "outputs": [],
   "source": []
  },
  {
   "cell_type": "code",
   "execution_count": null,
   "id": "f5d08bcb-5d46-42f4-a3a3-c5ade3d79bb6",
   "metadata": {},
   "outputs": [],
   "source": []
  },
  {
   "cell_type": "code",
   "execution_count": 421,
   "id": "07029ec0-9838-45a5-9bb2-c6eb21ff38d3",
   "metadata": {},
   "outputs": [
    {
     "data": {
      "text/latex": [
       "$\\displaystyle p^{k} \\left(1 - p\\right)^{- k + n} {\\binom{n}{k}}$"
      ],
      "text/plain": [
       "p**k*(1 - p)**(-k + n)*binomial(n, k)"
      ]
     },
     "execution_count": 421,
     "metadata": {},
     "output_type": "execute_result"
    }
   ],
   "source": [
    "\n",
    "f= sm.binomial(n,k)*p**k*(1-p)**(n-k)\n",
    "f"
   ]
  },
  {
   "cell_type": "code",
   "execution_count": 429,
   "id": "b8dd5378-3aed-4ff3-a364-96a926f3111c",
   "metadata": {},
   "outputs": [
    {
     "data": {
      "image/png": "[encoded data removed]",
      "text/plain": [
       "<Figure size 432x288 with 1 Axes>"
      ]
     },
     "metadata": {
      "needs_background": "light"
     },
     "output_type": "display_data"
    },
    {
     "data": {
      "text/plain": [
       "<sympy.plotting.plot.Plot at 0x25dbeb7f9a0>"
      ]
     },
     "execution_count": 429,
     "metadata": {},
     "output_type": "execute_result"
    }
   ],
   "source": [
    "sm.plot(f.subs({n:10,p:0.5}),(k,0,10))"
   ]
  },
  {
   "cell_type": "code",
   "execution_count": null,
   "id": "a72a1055-2e0a-44d4-8d6c-0f031a6f3f15",
   "metadata": {},
   "outputs": [],
   "source": []
  },
  {
   "cell_type": "code",
   "execution_count": 431,
   "id": "39e2f028-504a-4e24-a020-793b8312e48c",
   "metadata": {},
   "outputs": [],
   "source": [
    "#st.density?"
   ]
  },
  {
   "cell_type": "code",
   "execution_count": null,
   "id": "0baf5120-fe7b-42fb-9508-18c48ff361a0",
   "metadata": {},
   "outputs": [],
   "source": []
  }
 ],
 "metadata": {
  "kernelspec": {
   "display_name": "Python 3",
   "language": "python",
   "name": "python3"
  },
  "language_info": {
   "codemirror_mode": {
    "name": "ipython",
    "version": 3
   },
   "file_extension": ".py",
   "mimetype": "text/x-python",
   "name": "python",
   "nbconvert_exporter": "python",
   "pygments_lexer": "ipython3",
   "version": "3.8.8"
  }
 },
 "nbformat": 4,
 "nbformat_minor": 5
}
