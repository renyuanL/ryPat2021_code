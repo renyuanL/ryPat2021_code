{
 "cells": [
  {
   "cell_type": "markdown",
   "id": "d11c1634-6e4a-4c06-9214-bb9d2b50d68a",
   "metadata": {},
   "source": [
    "# scipy.optimize.linprog\n",
    "\n",
    "- https://docs.scipy.org/doc/scipy/reference/reference/generated/scipy.optimize.linprog.html#scipy.optimize.linprog\n",
    "\n",
    "$\n",
    "min_{x_0, x_1} f(x_0, x_1)\n",
    "\\\\\n",
    "f(x_0, x_1) = - 1 x_0 + 4 x_1\n",
    "$\n",
    "\n",
    "s.t.\n",
    "\n",
    "$\n",
    "-3 x_0 + 1 x_1 \\le 6\n",
    "\\\\\n",
    "1 x_0 + 2 x_1 \\le 4\n",
    "\\\\\n",
    "x_1 \\ge -3\n",
    "$\n"
   ]
  },
  {
   "cell_type": "code",
   "execution_count": 138,
   "id": "bddf305b-c590-4906-a51f-212f4e4e05c9",
   "metadata": {},
   "outputs": [
    {
     "data": {
      "text/plain": [
       "     con: array([], dtype=float64)\n",
       "     fun: -21.999999840824938\n",
       " message: 'Optimization terminated successfully.'\n",
       "     nit: 6\n",
       "   slack: array([3.89999997e+01, 8.46872492e-08])\n",
       "  status: 0\n",
       " success: True\n",
       "       x: array([ 9.99999989, -2.99999999])"
      ]
     },
     "execution_count": 138,
     "metadata": {},
     "output_type": "execute_result"
    }
   ],
   "source": [
    "from scipy.optimize import linprog\n",
    "\n",
    "c= [ -1, 4]\n",
    "A= [[-3, 1], \n",
    "    [ 1, 2]]\n",
    "\n",
    "b= [6, 4]\n",
    "\n",
    "x0_bounds= (None, None)\n",
    "x1_bounds= (-3, None)\n",
    "\n",
    "res= linprog(\n",
    "        c, \n",
    "        A_ub= A, \n",
    "        b_ub= b, \n",
    "        bounds= [x0_bounds, \n",
    "                 x1_bounds])\n",
    "\n",
    "res"
   ]
  },
  {
   "cell_type": "code",
   "execution_count": 139,
   "id": "b35dbcd6-14c7-4c37-89fa-0cb7417e1444",
   "metadata": {},
   "outputs": [
    {
     "data": {
      "image/png": "[encoded data removed]",
      "text/latex": [
       "$\\displaystyle -21.9999998408249$"
      ],
      "text/plain": [
       "-21.999999840824938"
      ]
     },
     "execution_count": 139,
     "metadata": {},
     "output_type": "execute_result"
    }
   ],
   "source": [
    "c @ res.x"
   ]
  },
  {
   "cell_type": "code",
   "execution_count": 140,
   "id": "94e61c12-67b3-4c9d-b3af-615946718c5e",
   "metadata": {},
   "outputs": [
    {
     "data": {
      "text/plain": [
       "True"
      ]
     },
     "execution_count": 140,
     "metadata": {},
     "output_type": "execute_result"
    }
   ],
   "source": [
    "(A @ res.x <= b).all()"
   ]
  },
  {
   "cell_type": "code",
   "execution_count": 141,
   "id": "099fb740-b564-4af0-a7b0-73fe4f6de6fb",
   "metadata": {},
   "outputs": [
    {
     "data": {
      "text/plain": [
       "True"
      ]
     },
     "execution_count": 141,
     "metadata": {},
     "output_type": "execute_result"
    }
   ],
   "source": [
    "res.x[1] >= x1_bounds[0] "
   ]
  },
  {
   "cell_type": "code",
   "execution_count": 142,
   "id": "3bb18719-3093-4808-9ae1-dece1f60cb7e",
   "metadata": {},
   "outputs": [],
   "source": [
    "from ryPat import *"
   ]
  },
  {
   "cell_type": "markdown",
   "id": "f228ec79-ae66-4638-a854-fe70c48e5ac0",
   "metadata": {},
   "source": []
  },
  {
   "cell_type": "markdown",
   "id": "e10be304-f173-446b-813e-b5560cbc6867",
   "metadata": {},
   "source": []
  },
  {
   "cell_type": "markdown",
   "id": "6ad09c75-8618-4874-b894-d3713447c33d",
   "metadata": {},
   "source": []
  },
  {
   "cell_type": "markdown",
   "id": "77feaad6-1887-4b08-8b62-6601e77140c7",
   "metadata": {},
   "source": [
    "- https://people.bath.ac.uk/ps2106/files/courses/MA40050/2020/jupyter/Rosenbrock.html"
   ]
  },
  {
   "cell_type": "code",
   "execution_count": 143,
   "id": "99d3f266-fa43-481c-95d9-4147c44747b8",
   "metadata": {},
   "outputs": [
    {
     "data": {
      "image/png": "[encoded data removed]",
      "text/latex": [
       "$\\displaystyle \\left(x - 1\\right)^{2} + 100 \\left(- x^{2} + y\\right)^{2}$"
      ],
      "text/plain": [
       "                         2\n",
       "       2       ⎛   2    ⎞ \n",
       "(x - 1)  + 100⋅⎝- x  + y⎠ "
      ]
     },
     "execution_count": 143,
     "metadata": {},
     "output_type": "execute_result"
    }
   ],
   "source": [
    "x, y= sm.symbols('x,y')\n",
    "\n",
    "def Rosenbrock(x, y, b=100):\n",
    "    z= (x-1)**2 + b*(y-x**2)**2\n",
    "    return z\n",
    "\n",
    "Rosenbrock(x, y)"
   ]
  },
  {
   "cell_type": "code",
   "execution_count": 144,
   "id": "cc861a6a-1121-4354-ba4f-3ce2f4b018ce",
   "metadata": {},
   "outputs": [],
   "source": [
    "%matplotlib qt\n",
    "\n",
    "q= sm.plotting.plot3d(\n",
    "    Rosenbrock(x, y), \n",
    "    (x,-3,3),\n",
    "    (y,-3,3),\n",
    "    xlabel= 'x',\n",
    "    ylabel= 'y',\n",
    "    show= False)\n",
    "q.show()"
   ]
  },
  {
   "cell_type": "code",
   "execution_count": 145,
   "id": "af111d9d-4c7d-4953-a465-8b81ed3053af",
   "metadata": {},
   "outputs": [
    {
     "data": {
      "image/png": "[encoded data removed]",
      "text/latex": [
       "$\\displaystyle - 400 x \\left(- x^{2} + y\\right) + 2 x - 2$"
      ],
      "text/plain": [
       "        ⎛   2    ⎞          \n",
       "- 400⋅x⋅⎝- x  + y⎠ + 2⋅x - 2"
      ]
     },
     "execution_count": 145,
     "metadata": {},
     "output_type": "execute_result"
    }
   ],
   "source": [
    "Rosenbrock(x,y).diff(x)"
   ]
  },
  {
   "cell_type": "code",
   "execution_count": 146,
   "id": "38971642-78a6-4397-a271-7a263db8347e",
   "metadata": {},
   "outputs": [
    {
     "data": {
      "image/png": "[encoded data removed]",
      "text/latex": [
       "$\\displaystyle - 200 x^{2} + 200 y$"
      ],
      "text/plain": [
       "       2        \n",
       "- 200⋅x  + 200⋅y"
      ]
     },
     "execution_count": 146,
     "metadata": {},
     "output_type": "execute_result"
    }
   ],
   "source": [
    "Rosenbrock(x,y).diff(y)"
   ]
  },
  {
   "cell_type": "code",
   "execution_count": 147,
   "id": "90a032f0-1c0d-480d-89f3-a3c4874c250b",
   "metadata": {},
   "outputs": [
    {
     "data": {
      "text/plain": [
       "array([[2896.   , 2848.2  , 2800.8  , ...,  784.8  ,  760.2  ,  736.   ],\n",
       "       [2618.972, 2573.532, 2528.492, ...,  644.652,  622.412,  600.572],\n",
       "       [2364.552, 2321.392, 2278.632, ...,  522.472,  502.512,  482.952],\n",
       "       ...,\n",
       "       [2353.352, 2310.192, 2267.432, ...,  511.272,  491.312,  471.752],\n",
       "       [2607.372, 2561.932, 2516.892, ...,  633.052,  610.812,  588.972],\n",
       "       [2884.   , 2836.2  , 2788.8  , ...,  772.8  ,  748.2  ,  724.   ]])"
      ]
     },
     "execution_count": 147,
     "metadata": {},
     "output_type": "execute_result"
    }
   ],
   "source": [
    "xx, yy= np.mgrid[-3:3.1:.1, -3:3.1:.1]\n",
    "zz= Rosenbrock(xx,yy, b=20)\n",
    "zz"
   ]
  },
  {
   "cell_type": "code",
   "execution_count": 148,
   "id": "898ff23b-f632-4333-9b31-f6ebe8052bb3",
   "metadata": {},
   "outputs": [
    {
     "data": {
      "text/plain": [
       "<matplotlib.contour.QuadContourSet at 0x2096f4a4a60>"
      ]
     },
     "execution_count": 148,
     "metadata": {},
     "output_type": "execute_result"
    }
   ],
   "source": [
    "from   mpl_toolkits import mplot3d\n",
    "\n",
    "ax= pl.axes(projection='3d')\n",
    "ax.contour3D(xx, yy, zz, 100,\n",
    "            cmap= 'rainbow')"
   ]
  },
  {
   "cell_type": "code",
   "execution_count": null,
   "id": "d092e5fa-8f4a-4e06-a801-d9b4961422b2",
   "metadata": {},
   "outputs": [],
   "source": []
  },
  {
   "cell_type": "code",
   "execution_count": 149,
   "id": "4047b80c-dd5e-42ab-a4f4-5ce5ca4e797f",
   "metadata": {},
   "outputs": [],
   "source": [
    "import scipy\n",
    "#scipy.optimize.rosen?"
   ]
  },
  {
   "cell_type": "code",
   "execution_count": 150,
   "id": "28a472fc-6f6e-4d24-952c-4122e7197618",
   "metadata": {},
   "outputs": [],
   "source": [
    "from ryPat import *\n",
    "\n",
    "def f0(s):\n",
    "    x, y= s\n",
    "    z=  2**(-(x**2+y**2))\n",
    "    z+= 2**(-((x-2)**2+(y-2)**2)) *2\n",
    "    z+= 2**(-((x-5)**2+(y+5)**2)) *5\n",
    "    \n",
    "    z= -z\n",
    "    return z\n",
    "\n",
    "def f1(s):\n",
    "    x, y= s\n",
    "    z=  (x**2-y**2)\n",
    "    z+= -((x-2)+(y-2)**2) \n",
    "    z+= ((x-5)**2-(y+5)) \n",
    "    \n",
    "    z= z\n",
    "    return z\n",
    "\n",
    "def f2(s):\n",
    "    \n",
    "    x, y= s\n",
    "    \n",
    "    z=  (x-1)**2 + x*y - (y+1)**2\n",
    "    \n",
    "    #z= 2**(-z)\n",
    "    \n",
    "    return z"
   ]
  },
  {
   "cell_type": "code",
   "execution_count": null,
   "id": "890f38d3-2f42-448c-846b-c2d88dc56b9d",
   "metadata": {},
   "outputs": [],
   "source": []
  },
  {
   "cell_type": "code",
   "execution_count": null,
   "id": "a499fb16-3fcd-4ebe-9757-c5e004d39148",
   "metadata": {},
   "outputs": [],
   "source": []
  },
  {
   "cell_type": "code",
   "execution_count": null,
   "id": "67d58d05-5149-437e-a340-a06e9a2e366e",
   "metadata": {},
   "outputs": [],
   "source": []
  },
  {
   "cell_type": "code",
   "execution_count": 151,
   "id": "7cb3c641-f5df-40d4-9976-fd8509e6bd64",
   "metadata": {},
   "outputs": [],
   "source": [
    "def f(s):\n",
    "    x, y= s\n",
    "    z=  x * 2**(-(x**2+y**2))\n",
    "    return z\n",
    "\n",
    "x, y= sm.symbols('x,y')\n",
    "s=    [x,y]\n",
    "\n",
    "#ryGradient_demo(f(s))\n",
    "ryPlotGradientMap(f(s))"
   ]
  },
  {
   "cell_type": "code",
   "execution_count": null,
   "id": "708bd2a3-1c5c-4ce4-961c-b718d59e3d53",
   "metadata": {},
   "outputs": [],
   "source": []
  },
  {
   "cell_type": "code",
   "execution_count": null,
   "id": "79951bd6-8b58-4e41-a5dc-bc3d80411229",
   "metadata": {},
   "outputs": [],
   "source": []
  },
  {
   "cell_type": "code",
   "execution_count": null,
   "id": "bebb6a51-d25c-47d0-95da-c8d4bbad20ed",
   "metadata": {},
   "outputs": [],
   "source": []
  },
  {
   "cell_type": "code",
   "execution_count": null,
   "id": "57b487ed-6a1b-4ca5-9276-41706471aeb6",
   "metadata": {},
   "outputs": [],
   "source": []
  },
  {
   "cell_type": "code",
   "execution_count": null,
   "id": "643bdaf9-868d-4600-9b64-5066bb64441a",
   "metadata": {},
   "outputs": [],
   "source": []
  },
  {
   "cell_type": "code",
   "execution_count": null,
   "id": "dc854c69-de29-4ecd-8415-279b57da745e",
   "metadata": {},
   "outputs": [],
   "source": []
  },
  {
   "cell_type": "code",
   "execution_count": null,
   "id": "be2fcb47-0e85-4a6f-a61e-73493030433d",
   "metadata": {},
   "outputs": [],
   "source": []
  },
  {
   "cell_type": "code",
   "execution_count": null,
   "id": "f2d7eef2-8e66-451b-a595-f0dbb6c72a62",
   "metadata": {},
   "outputs": [],
   "source": []
  },
  {
   "cell_type": "code",
   "execution_count": null,
   "id": "087de127-52a3-462c-8a0c-1c1df9f244ae",
   "metadata": {},
   "outputs": [],
   "source": []
  },
  {
   "cell_type": "code",
   "execution_count": null,
   "id": "bb4db4ac-ea0b-481d-8c86-080bec4248f2",
   "metadata": {},
   "outputs": [],
   "source": []
  },
  {
   "cell_type": "code",
   "execution_count": null,
   "id": "8f8a7ec0-3f97-4df6-a864-1ea771f4f1da",
   "metadata": {},
   "outputs": [],
   "source": []
  },
  {
   "cell_type": "code",
   "execution_count": 152,
   "id": "71852542-6185-4ab5-a39c-69768a18e87c",
   "metadata": {},
   "outputs": [
    {
     "data": {
      "image/png": "[encoded data removed]",
      "text/latex": [
       "$\\displaystyle 2^{- x^{2} - y^{2}} x$"
      ],
      "text/plain": [
       "    2    2  \n",
       " - x  - y   \n",
       "2         ⋅x"
      ]
     },
     "execution_count": 152,
     "metadata": {},
     "output_type": "execute_result"
    }
   ],
   "source": [
    "f(s)"
   ]
  },
  {
   "cell_type": "code",
   "execution_count": 153,
   "id": "f30b09dc-f13b-440f-8d72-7cde4432d3c3",
   "metadata": {},
   "outputs": [
    {
     "data": {
      "text/plain": [
       "      fun: -0.5151397118370136\n",
       " hess_inv: array([[7.00666361e-01, 2.61018560e-09],\n",
       "       [2.61018560e-09, 1.00000000e+00]])\n",
       "      jac: array([-7.4505806e-09,  0.0000000e+00])\n",
       "  message: 'Optimization terminated successfully.'\n",
       "     nfev: 18\n",
       "      nit: 5\n",
       "     njev: 6\n",
       "   status: 0\n",
       "  success: True\n",
       "        x: array([-8.49321806e-01, -3.16397028e-09])"
      ]
     },
     "execution_count": 153,
     "metadata": {},
     "output_type": "execute_result"
    }
   ],
   "source": [
    "\n",
    "# http://apmonitor.com/che263/index.php/Main/PythonOptimization\n",
    "import numpy as np\n",
    "from scipy.optimize import minimize\n",
    "\n",
    "def constraint1(t):\n",
    "    x, y= t\n",
    "    z= 1*x -5\n",
    "    return z\n",
    "def constraint2(t):\n",
    "    x, y= t\n",
    "    z= 1*y -5\n",
    "    return z\n",
    "\n",
    "cons= [{'fun':  constraint1, 'type': 'ineq'},\n",
    "       {'fun':  constraint2, 'type': 'ineq'}]\n",
    "\n",
    "bnds= [[-10, 10],\n",
    "       [-10, 10]\n",
    "      ]\n",
    "\n",
    "x0= [0, 0]\n",
    "\n",
    "solution= minimize(\n",
    "    f,\n",
    "    x0,\n",
    "    #method= 'SLSQP',\n",
    "    #bounds= bnds,\n",
    "    #constraints= cons\n",
    ")\n",
    "\n",
    "solution\n"
   ]
  },
  {
   "cell_type": "code",
   "execution_count": 154,
   "id": "60e38823-ef11-41d7-94f3-0d1ee698c9c2",
   "metadata": {},
   "outputs": [
    {
     "data": {
      "image/png": "[encoded data removed]",
      "text/latex": [
       "$\\displaystyle 2^{- x^{2} - y^{2}} x$"
      ],
      "text/plain": [
       "    2    2  \n",
       " - x  - y   \n",
       "2         ⋅x"
      ]
     },
     "execution_count": 154,
     "metadata": {},
     "output_type": "execute_result"
    }
   ],
   "source": [
    "f(s)"
   ]
  },
  {
   "cell_type": "code",
   "execution_count": null,
   "id": "2f42f586-3464-47ae-8575-38561d38fe9c",
   "metadata": {},
   "outputs": [],
   "source": []
  },
  {
   "cell_type": "code",
   "execution_count": 155,
   "id": "acd11d68-4f51-4282-b5b3-0e815bc167f2",
   "metadata": {},
   "outputs": [
    {
     "data": {
      "image/png": "[encoded data removed]",
      "text/latex": [
       "$\\displaystyle 2^{- x^{2} - y^{2}} \\left(x + y\\right)$"
      ],
      "text/plain": [
       "    2    2        \n",
       " - x  - y         \n",
       "2         ⋅(x + y)"
      ]
     },
     "execution_count": 155,
     "metadata": {},
     "output_type": "execute_result"
    }
   ],
   "source": [
    "# ...\n",
    "def f(s):\n",
    "    x, y= s\n",
    "    z= (x+y) * 2**(-(x**2+y**2))\n",
    "    return z\n",
    "f(s)"
   ]
  },
  {
   "cell_type": "code",
   "execution_count": null,
   "id": "4b96d31d-d0af-452a-b943-2433fd05e16c",
   "metadata": {},
   "outputs": [],
   "source": []
  },
  {
   "cell_type": "code",
   "execution_count": null,
   "id": "c2b59e51-35af-4a5a-abd6-a4802df022c7",
   "metadata": {},
   "outputs": [],
   "source": []
  },
  {
   "cell_type": "code",
   "execution_count": null,
   "id": "fb98d704-d428-43d7-b13f-814197fb0486",
   "metadata": {},
   "outputs": [],
   "source": []
  },
  {
   "cell_type": "code",
   "execution_count": 156,
   "id": "6aceabb4-a694-499f-b9fa-6c5a467f583c",
   "metadata": {},
   "outputs": [
    {
     "name": "stdout",
     "output_type": "stream",
     "text": [
      "Initial Objective: 16.0\n",
      "Final Objective: 17.01401724563517\n",
      "Solution\n",
      "x1 = 1.0\n",
      "x2 = 4.742996096883977\n",
      "x3 = 3.8211546234095715\n",
      "x4 = 1.379407645075325\n"
     ]
    }
   ],
   "source": [
    "\n",
    "# http://apmonitor.com/che263/index.php/Main/PythonOptimization\n",
    "\n",
    "import numpy as np\n",
    "from scipy.optimize import minimize\n",
    "\n",
    "def objective(x):\n",
    "    return x[0]*x[3]*(x[0]+x[1]+x[2])+x[2]\n",
    "\n",
    "def constraint1(x):\n",
    "    return x[0]*x[1]*x[2]*x[3]-25.0\n",
    "\n",
    "def constraint2(x):\n",
    "    sum_eq = 40.0\n",
    "    for i in range(4):\n",
    "        sum_eq = sum_eq - x[i]**2\n",
    "    return sum_eq\n",
    "\n",
    "# initial guesses\n",
    "n = 4\n",
    "x0 = np.zeros(n)\n",
    "x0[0] = 1.0\n",
    "x0[1] = 5.0\n",
    "x0[2] = 5.0\n",
    "x0[3] = 1.0\n",
    "\n",
    "# show initial objective\n",
    "print('Initial Objective: ' + str(objective(x0)))\n",
    "\n",
    "# optimize\n",
    "b = (1.0,5.0)\n",
    "bnds = (b, b, b, b)\n",
    "con1 = {'type': 'ineq', 'fun': constraint1}\n",
    "con2 = {'type': 'eq', 'fun': constraint2}\n",
    "cons = ([con1,con2])\n",
    "solution = minimize(objective,x0,method='SLSQP',\\\n",
    "                    bounds=bnds,constraints=cons)\n",
    "x = solution.x\n",
    "\n",
    "# show final objective\n",
    "print('Final Objective: ' + str(objective(x)))\n",
    "\n",
    "# print solution\n",
    "print('Solution')\n",
    "print('x1 = ' + str(x[0]))\n",
    "print('x2 = ' + str(x[1]))\n",
    "print('x3 = ' + str(x[2]))\n",
    "print('x4 = ' + str(x[3]))\n"
   ]
  },
  {
   "cell_type": "markdown",
   "id": "04d01bc0-f7bf-474d-b946-8cdaab44852f",
   "metadata": {},
   "source": [
    "# Understanding optimization and it's different types\n"
   ]
  },
  {
   "cell_type": "code",
   "execution_count": 157,
   "id": "0d35fc5c-eb16-4d56-8859-748f53156199",
   "metadata": {},
   "outputs": [
    {
     "data": {
      "image/png": "[encoded data removed]",
      "text/latex": [
       "$\\displaystyle \\left(x - 8\\right) \\left(x - 2\\right) \\left(x + 5\\right) \\left(x + 9\\right)$"
      ],
      "text/plain": [
       "(x - 8)⋅(x - 2)⋅(x + 5)⋅(x + 9)"
      ]
     },
     "execution_count": 157,
     "metadata": {},
     "output_type": "execute_result"
    }
   ],
   "source": [
    "def f(x):\n",
    "    y= (x+9) * (x+5) * (x-2) * (x-8)\n",
    "    return y\n",
    "x= sm.symbols('x')\n",
    "\n",
    "f(x)"
   ]
  },
  {
   "cell_type": "code",
   "execution_count": 158,
   "id": "74115fe7-f460-427d-b48c-9ee2039627bd",
   "metadata": {},
   "outputs": [
    {
     "data": {
      "image/png": "[encoded data removed]",
      "text/latex": [
       "$\\displaystyle x^{4} + 4 x^{3} - 79 x^{2} - 226 x + 720$"
      ],
      "text/plain": [
       " 4      3       2              \n",
       "x  + 4⋅x  - 79⋅x  - 226⋅x + 720"
      ]
     },
     "execution_count": 158,
     "metadata": {},
     "output_type": "execute_result"
    }
   ],
   "source": [
    "f(x).expand()"
   ]
  },
  {
   "cell_type": "code",
   "execution_count": 159,
   "id": "cd47f086-2e08-401c-8a54-09e1c0a61d25",
   "metadata": {},
   "outputs": [
    {
     "data": {
      "image/png": "[encoded data removed]",
      "text/latex": [
       "$\\displaystyle 4 x^{3} + 12 x^{2} - 158 x - 226$"
      ],
      "text/plain": [
       "   3       2              \n",
       "4⋅x  + 12⋅x  - 158⋅x - 226"
      ]
     },
     "execution_count": 159,
     "metadata": {},
     "output_type": "execute_result"
    }
   ],
   "source": [
    "f(x).diff(x).expand()"
   ]
  },
  {
   "cell_type": "code",
   "execution_count": 160,
   "id": "d9c30067-26c6-4ec3-9663-eada07916bdc",
   "metadata": {},
   "outputs": [
    {
     "data": {
      "image/png": "[encoded data removed]",
      "text/latex": [
       "$\\displaystyle 12 x^{2} + 24 x - 158$"
      ],
      "text/plain": [
       "    2             \n",
       "12⋅x  + 24⋅x - 158"
      ]
     },
     "execution_count": 160,
     "metadata": {},
     "output_type": "execute_result"
    }
   ],
   "source": [
    "f(x).diff(x,2).expand()"
   ]
  },
  {
   "cell_type": "code",
   "execution_count": 161,
   "id": "8055c4a0-e1f4-4426-ac05-0e80a77b5643",
   "metadata": {},
   "outputs": [],
   "source": [
    "q= sm.plotting.plot(f(x).expand(),(x,-10,10))\n",
    "q1= sm.plotting.plot(f(x).diff(x).expand(),(x,-10,10))\n",
    "q2= sm.plotting.plot(f(x).diff(x,2).expand(),(x,-10,10))"
   ]
  },
  {
   "cell_type": "code",
   "execution_count": 162,
   "id": "b6950a5f-b50f-4f44-8dfa-768f229c80da",
   "metadata": {},
   "outputs": [],
   "source": [
    "q[0].line_color= 'r'\n",
    "q1[0].line_color='g'\n",
    "q2[0].line_color='b'\n",
    "q.append(q1[0])\n",
    "q.append(q2[0])\n",
    "q.legend=True\n",
    "q.show()"
   ]
  },
  {
   "cell_type": "code",
   "execution_count": 163,
   "id": "36b8c854-28fa-45d2-ac82-7dceadb49dc5",
   "metadata": {},
   "outputs": [
    {
     "data": {
      "image/png": "[encoded data removed]",
      "text/latex": [
       "$\\displaystyle \\left[ -1.35398485103579 - 1.0 \\cdot 10^{-22} i, \\  -7.33499813374491 + 3.0 \\cdot 10^{-20} i, \\  5.6889829847807 - 1.0 \\cdot 10^{-20} i\\right]$"
      ],
      "text/plain": [
       "[-1.35398485103579 - 0.e-22⋅ⅈ, -7.33499813374491 + 0.e-20⋅ⅈ, 5.6889829847807 -\n",
       " 0.e-20⋅ⅈ]"
      ]
     },
     "execution_count": 163,
     "metadata": {},
     "output_type": "execute_result"
    }
   ],
   "source": [
    "sol= sm.solve(f(x).diff(x), x)\n",
    "sol\n",
    "[s.evalf() for s in sol]"
   ]
  },
  {
   "cell_type": "code",
   "execution_count": 164,
   "id": "8a9c2e0a-f4a2-48ea-8ded-70425b64cb03",
   "metadata": {},
   "outputs": [
    {
     "data": {
      "text/plain": [
       "      fun: -1338.5602025692726\n",
       " hess_inv: array([[0.00271896]])\n",
       "      jac: array([0.])\n",
       "  message: 'Optimization terminated successfully.'\n",
       "     nfev: 32\n",
       "      nit: 6\n",
       "     njev: 16\n",
       "   status: 0\n",
       "  success: True\n",
       "        x: array([5.68898297])"
      ]
     },
     "execution_count": 164,
     "metadata": {},
     "output_type": "execute_result"
    }
   ],
   "source": [
    "import scipy.optimize as sopt\n",
    "opt= sopt.minimize(f, x0= 0)\n",
    "opt"
   ]
  },
  {
   "cell_type": "code",
   "execution_count": 165,
   "id": "3ac22755-9398-4409-ae80-c1afed990061",
   "metadata": {},
   "outputs": [
    {
     "data": {
      "text/plain": [
       "      fun: -556.5436415499177\n",
       " hess_inv: array([[0.00321063]])\n",
       "      jac: array([0.])\n",
       "  message: 'Optimization terminated successfully.'\n",
       "     nfev: 16\n",
       "      nit: 3\n",
       "     njev: 8\n",
       "   status: 0\n",
       "  success: True\n",
       "        x: array([-7.33499816])"
      ]
     },
     "execution_count": 165,
     "metadata": {},
     "output_type": "execute_result"
    }
   ],
   "source": [
    "opt= sopt.minimize(f, x0= -3)\n",
    "opt"
   ]
  },
  {
   "cell_type": "code",
   "execution_count": 166,
   "id": "d1dd22ca-6166-4b16-8c5d-d7bc2d30fb00",
   "metadata": {},
   "outputs": [
    {
     "data": {
      "text/plain": [
       "[(-3.0, array([-7.33499816])),\n",
       " (-2.9, array([-7.33499814])),\n",
       " (-2.8, array([-7.33499814])),\n",
       " (-2.6999999999999997, array([-7.33499815])),\n",
       " (-2.5999999999999996, array([-7.33499812])),\n",
       " (-2.4999999999999996, array([-7.33499818])),\n",
       " (-2.3999999999999995, array([-7.33499815])),\n",
       " (-2.2999999999999994, array([-7.33499813])),\n",
       " (-2.1999999999999993, array([-7.33499816])),\n",
       " (-2.099999999999999, array([-7.33499815])),\n",
       " (-1.9999999999999991, array([-7.33499814])),\n",
       " (-1.899999999999999, array([-7.33499814])),\n",
       " (-1.799999999999999, array([-7.33499814])),\n",
       " (-1.6999999999999988, array([-7.33499813])),\n",
       " (-1.5999999999999988, array([-7.33499815])),\n",
       " (-1.4999999999999987, array([-7.33499814])),\n",
       " (-1.3999999999999986, array([-7.33499811])),\n",
       " (-1.2999999999999985, array([5.68898297])),\n",
       " (-1.1999999999999984, array([5.68898293])),\n",
       " (-1.0999999999999983, array([5.68898298])),\n",
       " (-0.9999999999999982, array([5.68898294])),\n",
       " (-0.8999999999999981, array([5.68898297])),\n",
       " (-0.799999999999998, array([5.68898299])),\n",
       " (-0.699999999999998, array([5.688983])),\n",
       " (-0.5999999999999979, array([5.68898296])),\n",
       " (-0.4999999999999978, array([5.68898299])),\n",
       " (-0.3999999999999977, array([5.68898298])),\n",
       " (-0.2999999999999976, array([5.68898296])),\n",
       " (-0.1999999999999975, array([5.68898296])),\n",
       " (-0.09999999999999742, array([5.68898298])),\n",
       " (2.6645352591003757e-15, array([5.68898297])),\n",
       " (0.10000000000000275, array([5.68898299])),\n",
       " (0.20000000000000284, array([5.68898297])),\n",
       " (0.30000000000000293, array([5.68898298])),\n",
       " (0.400000000000003, array([5.68898297])),\n",
       " (0.5000000000000031, array([5.68898298])),\n",
       " (0.6000000000000032, array([5.68898296])),\n",
       " (0.7000000000000033, array([5.68898298])),\n",
       " (0.8000000000000034, array([5.68898298])),\n",
       " (0.9000000000000035, array([5.68898299])),\n",
       " (1.0000000000000036, array([5.68898299])),\n",
       " (1.1000000000000032, array([5.68898296])),\n",
       " (1.2000000000000037, array([5.68898299])),\n",
       " (1.3000000000000043, array([5.68898299])),\n",
       " (1.400000000000004, array([5.68898296])),\n",
       " (1.5000000000000036, array([5.68898297])),\n",
       " (1.600000000000004, array([5.68898292])),\n",
       " (1.7000000000000046, array([5.68898298])),\n",
       " (1.8000000000000043, array([5.68898297])),\n",
       " (1.900000000000004, array([5.68898297])),\n",
       " (2.0000000000000044, array([5.68898297])),\n",
       " (2.100000000000005, array([5.68898299])),\n",
       " (2.2000000000000046, array([5.68898297])),\n",
       " (2.3000000000000043, array([5.688983])),\n",
       " (2.400000000000005, array([5.68898295])),\n",
       " (2.5000000000000053, array([5.68898294])),\n",
       " (2.600000000000005, array([5.68898292])),\n",
       " (2.7000000000000046, array([5.68898301])),\n",
       " (2.800000000000005, array([5.68898299])),\n",
       " (2.9000000000000057, array([5.68898299]))]"
      ]
     },
     "execution_count": 166,
     "metadata": {},
     "output_type": "execute_result"
    }
   ],
   "source": [
    "[(x0, \n",
    "  sopt.minimize(f, x0= x0).x) \n",
    " for x0 in np.arange(-3,3,.1)]"
   ]
  },
  {
   "cell_type": "markdown",
   "id": "0b0f9629-5a5c-4cf2-af79-ce3316b235ee",
   "metadata": {},
   "source": [
    "# Constrained optimization\n"
   ]
  },
  {
   "cell_type": "code",
   "execution_count": 167,
   "id": "99711f00-e87b-43e6-a527-7773801175f5",
   "metadata": {},
   "outputs": [
    {
     "data": {
      "text/plain": [
       "     fun: array([420.00000112])\n",
       "     jac: array([-368.])\n",
       " message: 'Optimization terminated successfully'\n",
       "    nfev: 4\n",
       "     nit: 6\n",
       "    njev: 2\n",
       "  status: 0\n",
       " success: True\n",
       "       x: array([1.])"
      ]
     },
     "execution_count": 167,
     "metadata": {},
     "output_type": "execute_result"
    }
   ],
   "source": [
    "opt= sopt.minimize(\n",
    "    f, \n",
    "    x0= [0],                    # initial guess\n",
    "    bounds=      [(-10, 10)],   # -10 <= x <=10\n",
    "    constraints= [{'type': 'ineq', \n",
    "                   'fun': lambda x: x+7  # x+7 >=0\n",
    "                  },\n",
    "                  {'type': 'ineq', \n",
    "                   'fun': lambda x: -(x-1)  # -(x-1) >=0\n",
    "                  }]\n",
    ")\n",
    "opt"
   ]
  },
  {
   "cell_type": "code",
   "execution_count": 168,
   "id": "838f913c-cc6c-44b5-b536-c019f0f6433c",
   "metadata": {},
   "outputs": [],
   "source": [
    "def f(s):\n",
    "    x, y= s\n",
    "    z=  x * 2**(-(x**2+y**2))\n",
    "    return z\n",
    "\n",
    "x, y= sm.symbols('x,y')\n",
    "s=    [x,y]\n",
    "f(s)\n",
    "\n",
    "#ryGradient_demo(f(s))\n",
    "ryPlotGradientMap(f(s))"
   ]
  },
  {
   "cell_type": "code",
   "execution_count": 169,
   "id": "2d967163-0a08-4953-9d5e-4a338d3522ba",
   "metadata": {},
   "outputs": [
    {
     "data": {
      "text/plain": [
       "     fun: -0.5151397117896506\n",
       "     jac: array([-1.16154552e-05,  0.00000000e+00])\n",
       " message: 'Optimization terminated successfully'\n",
       "    nfev: 15\n",
       "     nit: 5\n",
       "    njev: 5\n",
       "  status: 0\n",
       " success: True\n",
       "       x: array([-8.49329944e-01, -3.16400060e-09])"
      ]
     },
     "execution_count": 169,
     "metadata": {},
     "output_type": "execute_result"
    }
   ],
   "source": [
    "opt= sopt.minimize(\n",
    "    f, \n",
    "    x0= [0, 0],                    # initial guess\n",
    "    bounds=      [(-10, 10), (-10,10)],   # -10 <= x <=10, -10 <= y <=10, \n",
    "    constraints= [{'type': 'ineq', \n",
    "                   'fun': lambda s: s[0]+s[1]+1  # x+y+1 >=0\n",
    "                  },\n",
    "                  {'type': 'ineq', \n",
    "                   'fun': lambda s: s[0]-s[1]+2  # x-y+2 >=0\n",
    "                  }]\n",
    ")\n",
    "opt"
   ]
  },
  {
   "cell_type": "code",
   "execution_count": 170,
   "id": "3c1a62e7-fdc5-48f6-ad19-4a8a14492746",
   "metadata": {},
   "outputs": [
    {
     "data": {
      "image/png": "[encoded data removed]",
      "text/latex": [
       "$\\displaystyle 2^{- x^{2} - y^{2}} x$"
      ],
      "text/plain": [
       "    2    2  \n",
       " - x  - y   \n",
       "2         ⋅x"
      ]
     },
     "execution_count": 170,
     "metadata": {},
     "output_type": "execute_result"
    }
   ],
   "source": [
    "f([x,y])"
   ]
  },
  {
   "cell_type": "code",
   "execution_count": 171,
   "id": "731b4a11-12f7-4ffd-b3be-eeb9139bd418",
   "metadata": {},
   "outputs": [
    {
     "data": {
      "image/png": "[encoded data removed]",
      "text/latex": [
       "$\\displaystyle -1.42827055541715$"
      ],
      "text/plain": [
       "-1.42827055541715"
      ]
     },
     "execution_count": 171,
     "metadata": {},
     "output_type": "execute_result"
    }
   ],
   "source": [
    "sol= sm.solve([f([x,y]).diff(x), \n",
    "               f([x,y]).diff(y)], \n",
    "              (x,y))\n",
    "solL= [(x.evalf(), y.evalf()) for (x,y) in sol]\n",
    "solL # [(−0.849321800288019, 0), (0.849321800288019, 0)]\n",
    "\n",
    "# 檢查2次微分，判斷在極點為極小值或極大值\n",
    "# 2次微分 若為正，該點有極小值\n",
    "\n",
    "f([x,y]).diff(x,2).subs(\n",
    "    {x:solL[0][0],\n",
    "     y:solL[0][1]}).evalf() \n",
    "# 1.42827055541715\n",
    "\n",
    "# 2次微分 若為負，該點有極大值\n",
    "\n",
    "f([x,y]).diff(x,2).subs(\n",
    "    {x:solL[1][0],\n",
    "     y:solL[1][1]}).evalf()\n",
    "# −1.42827055541715"
   ]
  },
  {
   "cell_type": "code",
   "execution_count": 172,
   "id": "b1d8bdae-c01d-40b7-a260-9a76ac211777",
   "metadata": {},
   "outputs": [
    {
     "data": {
      "text/plain": [
       "      fun: -0.5151397118370137\n",
       " hess_inv: <2x2 LbfgsInvHessProduct with dtype=float64>\n",
       "      jac: array([1.11022302e-08, 0.00000000e+00])\n",
       "  message: 'CONVERGENCE: NORM_OF_PROJECTED_GRADIENT_<=_PGTOL'\n",
       "     nfev: 18\n",
       "      nit: 5\n",
       "     njev: 6\n",
       "   status: 0\n",
       "  success: True\n",
       "        x: array([-8.49321795e-01, -3.92669050e-09])"
      ]
     },
     "execution_count": 172,
     "metadata": {},
     "output_type": "execute_result"
    }
   ],
   "source": [
    "opt= sopt.minimize(\n",
    "    f, \n",
    "    x0= [0, 0],                    # initial guess\n",
    "    bounds=      [(-10, 10), (-10,10)],   # -10 <= x <=10, -10 <= y <=10, \n",
    ")\n",
    "opt"
   ]
  },
  {
   "cell_type": "code",
   "execution_count": 173,
   "id": "5228fc03-4120-4c9f-ae13-7b4871394c9d",
   "metadata": {},
   "outputs": [
    {
     "data": {
      "text/plain": [
       "     fun: 6.638126077537978e-07\n",
       "     jac: array([-2.72412790e-06, -7.94961677e-06])\n",
       " message: 'Optimization terminated successfully'\n",
       "    nfev: 43\n",
       "     nit: 14\n",
       "    njev: 14\n",
       "  status: 0\n",
       " success: True\n",
       "       x: array([1.87036512, 4.23412032])"
      ]
     },
     "execution_count": 173,
     "metadata": {},
     "output_type": "execute_result"
    }
   ],
   "source": [
    "opt= sopt.minimize(\n",
    "    f, \n",
    "    x0= [0, 0],                    # initial guess\n",
    "    bounds=      [(-10, 10), (-10,10)],   # -10 <= x <=10, -10 <= y <=10, \n",
    "    \n",
    "    constraints= [{'type': 'ineq', \n",
    "                   'fun': lambda s: (s[0]+s[1]-2)  # x+y-2 >=0\n",
    "                  },\n",
    "                  {'type': 'ineq', \n",
    "                   'fun': lambda s: -(s[0]-s[1]+1)  # x-y+1 <=0\n",
    "                  }]\n",
    ")\n",
    "opt"
   ]
  },
  {
   "cell_type": "code",
   "execution_count": 174,
   "id": "930acf8c-88ed-4de8-a138-be6ec0217e17",
   "metadata": {},
   "outputs": [
    {
     "data": {
      "text/plain": [
       "     fun: -22.0000000000011\n",
       "     jac: array([-1.,  4.])\n",
       " message: 'Optimization terminated successfully'\n",
       "    nfev: 15\n",
       "     nit: 5\n",
       "    njev: 5\n",
       "  status: 0\n",
       " success: True\n",
       "       x: array([10., -3.])"
      ]
     },
     "execution_count": 174,
     "metadata": {},
     "output_type": "execute_result"
    }
   ],
   "source": [
    "# Linear Optimization\n",
    "import scipy.optimize as sopt\n",
    "from ryPat import *\n",
    "\n",
    "def f(s):\n",
    "    x, y= s\n",
    "    z= -1*x + 4*y\n",
    "    return z\n",
    "\n",
    "def c1(s):\n",
    "    x,y= s\n",
    "    z= -(-3*x + 1*y -6)\n",
    "    return z\n",
    "\n",
    "def c2(s):\n",
    "    x,y= s\n",
    "    z= -1*x -2*y +4\n",
    "    return z\n",
    "\n",
    "def c3(s):\n",
    "    x,y= s\n",
    "    z= 1*y + 3\n",
    "    return z\n",
    "\n",
    "opt= sopt.minimize(\n",
    "    f,\n",
    "    x0= [0,0],\n",
    "    constraints= [\n",
    "        {'fun':c1, 'type': 'ineq'},\n",
    "        {'fun':c2, 'type': 'ineq'},\n",
    "        #{'fun':c3, 'type': 'ineq'}        \n",
    "        ],\n",
    "    bounds= [(None, None),\n",
    "             (-3, None)]\n",
    ")\n",
    "\n",
    "opt"
   ]
  },
  {
   "cell_type": "code",
   "execution_count": 175,
   "id": "94e9dedb-3a9e-4d2d-899d-532baeda20bf",
   "metadata": {},
   "outputs": [
    {
     "data": {
      "image/png": "[encoded data removed]",
      "text/latex": [
       "$\\displaystyle - x + 4 y$"
      ],
      "text/plain": [
       "-x + 4⋅y"
      ]
     },
     "execution_count": 175,
     "metadata": {},
     "output_type": "execute_result"
    }
   ],
   "source": [
    "f([x,y])"
   ]
  },
  {
   "cell_type": "code",
   "execution_count": 176,
   "id": "67a80ee6-3b9a-4152-86f7-14e07d5bb4a8",
   "metadata": {},
   "outputs": [],
   "source": [
    "%matplotlib qt\n",
    "ryPlotGradientMap(f([x,y]), (-10,10), (-10,10))"
   ]
  },
  {
   "cell_type": "code",
   "execution_count": 177,
   "id": "15530016-0863-440e-8de7-01fa6131d402",
   "metadata": {},
   "outputs": [
    {
     "data": {
      "image/png": "[encoded data removed]",
      "text/latex": [
       "$\\displaystyle \\left\\{ x : - \\frac{8}{7}, \\  y : \\frac{18}{7}\\right\\}$"
      ],
      "text/plain": [
       "{x: -8/7, y: 18/7}"
      ]
     },
     "execution_count": 177,
     "metadata": {},
     "output_type": "execute_result"
    }
   ],
   "source": [
    "sm.solve(\n",
    "    [c1([x,y]),\n",
    "     c2([x,y])],\n",
    "       (x,y))"
   ]
  },
  {
   "cell_type": "code",
   "execution_count": 178,
   "id": "414147fb-ad94-4ae0-b0ae-bb2334f09f9d",
   "metadata": {},
   "outputs": [
    {
     "data": {
      "image/png": "[encoded data removed]",
      "text/latex": [
       "$\\displaystyle 3 x - y + 6$"
      ],
      "text/plain": [
       "3⋅x - y + 6"
      ]
     },
     "execution_count": 178,
     "metadata": {},
     "output_type": "execute_result"
    }
   ],
   "source": [
    "c1([x,y])"
   ]
  },
  {
   "cell_type": "code",
   "execution_count": 179,
   "id": "a24eed25-3cd4-4c7e-a145-4f6a00d8f258",
   "metadata": {},
   "outputs": [
    {
     "data": {
      "image/png": "[encoded data removed]",
      "text/latex": [
       "$\\displaystyle - x - 2 y + 4$"
      ],
      "text/plain": [
       "-x - 2⋅y + 4"
      ]
     },
     "execution_count": 179,
     "metadata": {},
     "output_type": "execute_result"
    }
   ],
   "source": [
    "c2([x,y])"
   ]
  },
  {
   "cell_type": "code",
   "execution_count": 180,
   "id": "461ee8e6-371d-4eb7-b4d2-bc949576a045",
   "metadata": {},
   "outputs": [
    {
     "data": {
      "image/png": "[encoded data removed]",
      "text/latex": [
       "$\\displaystyle y + 3$"
      ],
      "text/plain": [
       "y + 3"
      ]
     },
     "execution_count": 180,
     "metadata": {},
     "output_type": "execute_result"
    }
   ],
   "source": [
    "c3([x,y])"
   ]
  },
  {
   "cell_type": "code",
   "execution_count": 181,
   "id": "b5a9f875-1454-4857-b771-2249029f4fbe",
   "metadata": {},
   "outputs": [],
   "source": [
    "q1= sm.plotting.plot_parametric(x, 3*x+6,    (x,-10,10))\n",
    "q2= sm.plotting.plot_parametric(x, (-x+4)/2, (x,-10,10))\n",
    "q3= sm.plotting.plot_parametric(x, -3, (x,-10,10))\n",
    "\n",
    "q1[0].line_color='r'\n",
    "q2[0].line_color='g'\n",
    "q3[0].line_color='b'\n",
    "q1.append(q2[0])\n",
    "q1.append(q3[0])\n",
    "q1.legend=True\n",
    "q1.xlabel='x'\n",
    "q1.ylabel='y'\n",
    "q1.title='Constraints'\n",
    "q1.show()"
   ]
  },
  {
   "cell_type": "code",
   "execution_count": 182,
   "id": "e15d9756-9cb5-4683-963a-0d24a2ca5da5",
   "metadata": {},
   "outputs": [
    {
     "data": {
      "image/png": "[encoded data removed]",
      "text/latex": [
       "$\\displaystyle \\left[ \\left\\{ x : - \\frac{8}{7}, \\  y : \\frac{18}{7}\\right\\}, \\  \\left\\{ x : -3, \\  y : -3\\right\\}, \\  \\left\\{ x : 10, \\  y : -3\\right\\}\\right]$"
      ],
      "text/plain": [
       "[{x: -8/7, y: 18/7}, {x: -3, y: -3}, {x: 10, y: -3}]"
      ]
     },
     "execution_count": 182,
     "metadata": {},
     "output_type": "execute_result"
    }
   ],
   "source": [
    "vtx0= sm.solve(\n",
    "    [c1([x,y]),\n",
    "     c2([x,y])],\n",
    "       (x,y))\n",
    "vtx1= sm.solve(\n",
    "    [c1([x,y]),\n",
    "     c3([x,y])],\n",
    "       (x,y))\n",
    "vtx2= sm.solve(\n",
    "    [c2([x,y]),\n",
    "     c3([x,y])],\n",
    "       (x,y))\n",
    "[vtx0,vtx1,vtx2]"
   ]
  },
  {
   "cell_type": "code",
   "execution_count": 183,
   "id": "fb766fcb-3502-4fcb-bb23-5682211732ab",
   "metadata": {},
   "outputs": [
    {
     "data": {
      "image/png": "[encoded data removed]",
      "text/latex": [
       "$\\displaystyle \\left[ \\frac{80}{7}, \\  -9, \\  -22\\right]$"
      ],
      "text/plain": [
       "[80/7, -9, -22]"
      ]
     },
     "execution_count": 183,
     "metadata": {},
     "output_type": "execute_result"
    }
   ],
   "source": [
    "v0= f([x,y]).subs(vtx0)\n",
    "v1= f([x,y]).subs(vtx1)\n",
    "v2= f([x,y]).subs(vtx2)\n",
    "[v0,v1,v2]"
   ]
  },
  {
   "cell_type": "code",
   "execution_count": 184,
   "id": "7e370b91-b9f3-4516-8d78-28ceec4d668a",
   "metadata": {},
   "outputs": [
    {
     "data": {
      "text/plain": [
       "2"
      ]
     },
     "execution_count": 184,
     "metadata": {},
     "output_type": "execute_result"
    }
   ],
   "source": [
    "np.argmin([v0,v1,v2])"
   ]
  },
  {
   "cell_type": "code",
   "execution_count": 185,
   "id": "d9b1af82-7b02-48c9-860a-4536e8ba1ad2",
   "metadata": {},
   "outputs": [
    {
     "data": {
      "image/png": "[encoded data removed]",
      "text/latex": [
       "$\\displaystyle \\left\\{ x : 10, \\  y : -3\\right\\}$"
      ],
      "text/plain": [
       "{x: 10, y: -3}"
      ]
     },
     "execution_count": 185,
     "metadata": {},
     "output_type": "execute_result"
    }
   ],
   "source": [
    "[vtx0,vtx1,vtx2][np.argmin([v0,v1,v2])]"
   ]
  },
  {
   "cell_type": "code",
   "execution_count": null,
   "id": "969f8990-252b-4582-a596-15de9dc50cf1",
   "metadata": {},
   "outputs": [],
   "source": []
  },
  {
   "cell_type": "code",
   "execution_count": null,
   "id": "05d38a9d-d62c-4140-a4fc-28f53d07306d",
   "metadata": {},
   "outputs": [],
   "source": []
  },
  {
   "cell_type": "code",
   "execution_count": null,
   "id": "2e8b40cd-2b43-4cfe-bdc5-eca0eb82654b",
   "metadata": {},
   "outputs": [],
   "source": []
  },
  {
   "cell_type": "code",
   "execution_count": 186,
   "id": "40591e5f-ce11-4aa2-81b5-424d4cec8082",
   "metadata": {},
   "outputs": [
    {
     "data": {
      "text/plain": [
       "     con: array([], dtype=float64)\n",
       "     fun: -21.999999840824938\n",
       " message: 'Optimization terminated successfully.'\n",
       "     nit: 6\n",
       "   slack: array([3.89999997e+01, 8.46872492e-08])\n",
       "  status: 0\n",
       " success: True\n",
       "       x: array([ 9.99999989, -2.99999999])"
      ]
     },
     "execution_count": 186,
     "metadata": {},
     "output_type": "execute_result"
    }
   ],
   "source": [
    "#\n",
    "# Linear Optimization 專屬演算法 .linprog()\n",
    "#\n",
    "\n",
    "c= [ -1, 4]\n",
    "\n",
    "A= [[-3, 1], \n",
    "    [ 1, 2]]\n",
    "b= [6, 4]\n",
    "\n",
    "x_bounds= (None, None)\n",
    "y_bounds= (-3, None)\n",
    "\n",
    "opt= sopt.linprog(\n",
    "        c, \n",
    "        A_ub= A, \n",
    "        b_ub= b, \n",
    "        bounds= [x_bounds, \n",
    "                 y_bounds])\n",
    "opt\n"
   ]
  },
  {
   "cell_type": "code",
   "execution_count": 187,
   "id": "a3f02d4d-e1d5-440e-bc1f-2910c8faf9c1",
   "metadata": {},
   "outputs": [],
   "source": [
    "def ryPlotGradientMap(z,\n",
    "                      xrange=(-3,+3), \n",
    "                      yrange=(-3,+3),\n",
    "                      downSampleFactor= 4, \n",
    "                      lengthFactor= .1):\n",
    "    \n",
    "    fg, ax, zm, xrange, yrange=  ryPlot3d(z, \n",
    "                                          xrange= xrange, \n",
    "                                          yrange=yrange)\n",
    "    \n",
    "    z10= z.diff(x,1,y,0)\n",
    "    z01= z.diff(x,0,y,1)\n",
    "\n",
    "    #downSampleFactor= 2\n",
    "    xm, ym, zm0= np.meshgrid(\n",
    "        xrange[::downSampleFactor],\n",
    "        yrange[::downSampleFactor],\n",
    "        np.linspace(np.min(zm), np.min(zm)+1, 1)\n",
    "        )\n",
    "\n",
    "    #dz_dx= 2*x0\n",
    "    #dz_dy= 2*y0\n",
    "\n",
    "    dz_dx_m= sm.lambdify((x,y),z10)(xm,ym)\n",
    "    dz_dy_m= sm.lambdify((x,y),z01)(xm,ym)\n",
    "\n",
    "    u= dz_dx_m\n",
    "    v= dz_dy_m\n",
    "    w= np.zeros_like(xm)\n",
    "    ax.quiver(xm, ym, zm0, \n",
    "              u, v, w, \n",
    "              length= lengthFactor, #*np.max([u,v]), \n",
    "              color = 'gray') \n",
    "    \n",
    "    return fg, ax\n"
   ]
  },
  {
   "cell_type": "code",
   "execution_count": null,
   "id": "c8556671-5a02-4dd0-bc4e-d68d8ddbc03d",
   "metadata": {},
   "outputs": [],
   "source": []
  },
  {
   "cell_type": "code",
   "execution_count": null,
   "id": "fbb0b67d-9588-47b9-815a-043421ab441a",
   "metadata": {},
   "outputs": [],
   "source": []
  },
  {
   "cell_type": "code",
   "execution_count": null,
   "id": "5f5b39d5-a587-49ca-a895-6a45661b7e2b",
   "metadata": {},
   "outputs": [],
   "source": []
  },
  {
   "cell_type": "code",
   "execution_count": 105,
   "id": "faf7591f-10a5-423c-ad3b-eb28d88185af",
   "metadata": {},
   "outputs": [
    {
     "name": "stdout",
     "output_type": "stream",
     "text": [
      "Objective function: f()=-2**(-(x - 5)**2/25 - (y - 5)**2/25)\n"
     ]
    },
    {
     "data": {
      "image/png": "[encoded data removed]",
      "text/latex": [
       "$\\displaystyle - 2^{- \\frac{\\left(x - 5\\right)^{2}}{25} - \\frac{\\left(y - 5\\right)^{2}}{25}}$"
      ],
      "text/plain": [
       "           2          2\n",
       "    (x - 5)    (y - 5) \n",
       "  - ──────── - ────────\n",
       "       25         25   \n",
       "-2                     "
      ]
     },
     "metadata": {},
     "output_type": "display_data"
    },
    {
     "name": "stdout",
     "output_type": "stream",
     "text": [
      "Constraints: c() >= 0\n",
      "c()= 3*x - y + 6,-x - 2*y + 4,y + 3\n"
     ]
    },
    {
     "data": {
      "image/png": "[encoded data removed]",
      "text/latex": [
       "$\\displaystyle 3 x - y + 6$"
      ],
      "text/plain": [
       "3⋅x - y + 6"
      ]
     },
     "metadata": {},
     "output_type": "display_data"
    },
    {
     "data": {
      "image/png": "[encoded data removed]",
      "text/latex": [
       "$\\displaystyle - x - 2 y + 4$"
      ],
      "text/plain": [
       "-x - 2⋅y + 4"
      ]
     },
     "metadata": {},
     "output_type": "display_data"
    },
    {
     "data": {
      "image/png": "[encoded data removed]",
      "text/latex": [
       "$\\displaystyle y + 3$"
      ],
      "text/plain": [
       "y + 3"
      ]
     },
     "metadata": {},
     "output_type": "display_data"
    },
    {
     "name": "stdout",
     "output_type": "stream",
     "text": [
      "optimum= \n",
      "     fun: -0.5112142652520548\n",
      "     jac: array([-0.06236658, -0.12472928])\n",
      " message: 'Optimization terminated successfully'\n",
      "    nfev: 27\n",
      "     nit: 9\n",
      "    njev: 9\n",
      "  status: 0\n",
      " success: True\n",
      "       x: array([2.79994536, 0.60002732])\n"
     ]
    }
   ],
   "source": [
    "# \n",
    "# NonLinear Optimization\n",
    "# Wonderful!!\n",
    "#\n",
    "\n",
    "from ryPat import *\n",
    "import scipy.optimize as sopt\n",
    "\n",
    "def f(s):\n",
    "    x, y= s\n",
    "    \n",
    "    #z= (x-1)**2 + (y+1)**2\n",
    "    z= (x-5)**2 + (y-5)**2\n",
    "    z= - 2**(-z/25)\n",
    "    \n",
    "    return z\n",
    "\n",
    "def c1(s):\n",
    "    x,y= s\n",
    "    z= -(-3*x + 1*y -6)\n",
    "    return z\n",
    "\n",
    "def c2(s):\n",
    "    x,y= s\n",
    "    z= -1*x -2*y +4\n",
    "    return z\n",
    "\n",
    "def c3(s):\n",
    "    x,y= s\n",
    "    z= 1*y + 3\n",
    "    return z\n",
    "\n",
    "#\n",
    "# Objective function s.t. Constraints\n",
    "#\n",
    "x,y= sm.symbols('x,y')\n",
    "\n",
    "print(f'Objective function: f()={f([x,y])}')\n",
    "q= f([x,y])\n",
    "display(q)\n",
    "\n",
    "print('Constraints: c() >= 0')\n",
    "print(f'c()= {c1([x,y])},{c2([x,y])},{c3([x,y])}')\n",
    "\n",
    "q= c1([x,y])\n",
    "display(q)\n",
    "q= c2([x,y])\n",
    "display(q)\n",
    "q= c3([x,y])\n",
    "display(q)\n",
    "\n",
    "opt= sopt.minimize(\n",
    "    f,\n",
    "    x0= [0,0],\n",
    "    constraints= [\n",
    "        {'fun':c1, 'type': 'ineq'},\n",
    "        {'fun':c2, 'type': 'ineq'},\n",
    "        #{'fun':c3, 'type': 'ineq'}        \n",
    "        ],\n",
    "    bounds= [(None, None),\n",
    "             (-3, None)\n",
    "             #(None, -3)\n",
    "            ]\n",
    ")\n",
    "print(f'optimum= \\n{opt}')\n",
    "\n",
    "\n",
    "#\n",
    "# plot objective function\n",
    "#\n",
    "x,y= sm.symbols('x,y')\n",
    "#f([x,y])\n",
    "fg, ax= ryPlotGradientMap(\n",
    "    f([x,y]), \n",
    "    xrange= (-10,10), \n",
    "    yrange= (-10,10)\n",
    ")\n",
    "\n",
    "#\n",
    "# plot constraints \n",
    "#\n",
    "\n",
    "xx= np.linspace(-10,10,1001)\n",
    "\n",
    "yy1= 3*xx+6\n",
    "yy2= (-xx+4)/2\n",
    "yy3= xx*0 -3\n",
    "\n",
    "ax.plot(xx,yy1,'r',\n",
    "        xx,yy2,'g',\n",
    "        xx,yy3,'b',\n",
    "        linestyle='--'\n",
    "       )\n",
    "#\n",
    "# 畫 最佳點 opt.x \n",
    "#\n",
    "\n",
    "ax.scatter3D(\n",
    "    xs= [opt.x[0]]*2, \n",
    "    ys= [opt.x[1]]*2, \n",
    "    zs= [0, opt.fun],\n",
    "    color= 'magenta',\n",
    "    marker= 's'    \n",
    ")\n",
    "\n",
    "\n",
    "ax.plot3D(\n",
    "    xs= [opt.x[0]]*2, \n",
    "    ys= [opt.x[1]]*2, \n",
    "    zs= [0, opt.fun],\n",
    "    color= 'magenta',\n",
    "    #marker= '.',\n",
    "    linestyle= ':'\n",
    ")\n",
    "\n",
    "\n",
    "\n",
    "#\n",
    "# 畫坐標軸 (x軸,y軸) \n",
    "#\n",
    "ax.plot(xx,  xx*0,'k--',\n",
    "        xx*0,xx,  'k--',\n",
    "       )\n",
    "\n",
    "#\n",
    "# 設定 2軸 顯示範圍\n",
    "#\n",
    "ax.set_xlim([-10,10])\n",
    "ax.set_ylim([-10,10])\n",
    "\n",
    "\n",
    "#\n",
    "# 再加碼 ，把 constraints 升至 立體的曲面 \n",
    "#\n",
    "\n",
    "xx= np.linspace(-10,10,1001)\n",
    "\n",
    "yy1= 3*xx+6\n",
    "yy2= (-xx+4)/2\n",
    "yy3= xx*0 -3\n",
    "\n",
    "zz1= f([xx,yy1])\n",
    "zz2= f([xx,yy2])\n",
    "zz3= f([xx,yy3])\n",
    "\n",
    "ax.plot3D(xx,yy1,zz1, color='r', linestyle='-')\n",
    "ax.plot3D(xx,yy2,zz2, color='g', linestyle='-')\n",
    "ax.plot3D(xx,yy3,zz3, color='b', linestyle='-')\n",
    "\n",
    "pl.show()\n"
   ]
  },
  {
   "cell_type": "code",
   "execution_count": 104,
   "id": "83ab5d15-6cf5-4c8f-9c97-8ab6abf7a9ef",
   "metadata": {},
   "outputs": [
    {
     "data": {
      "image/png": "[encoded data removed]",
      "text/latex": [
       "$\\displaystyle - 2^{- \\frac{\\left(x - 5\\right)^{2}}{25} - \\frac{\\left(y - 5\\right)^{2}}{25}}$"
      ],
      "text/plain": [
       "           2          2\n",
       "    (x - 5)    (y - 5) \n",
       "  - ──────── - ────────\n",
       "       25         25   \n",
       "-2                     "
      ]
     },
     "execution_count": 104,
     "metadata": {},
     "output_type": "execute_result"
    }
   ],
   "source": [
    "f([x,y])"
   ]
  },
  {
   "cell_type": "code",
   "execution_count": null,
   "id": "4792ed39-04b5-4bf6-8934-581ef0bdcc2f",
   "metadata": {},
   "outputs": [],
   "source": []
  },
  {
   "cell_type": "code",
   "execution_count": null,
   "id": "2b02390d-7e23-474e-8357-095327807c41",
   "metadata": {},
   "outputs": [],
   "source": []
  },
  {
   "cell_type": "code",
   "execution_count": 57,
   "id": "a99406e5-0aa2-4ce9-ae5a-ecb478d89daf",
   "metadata": {},
   "outputs": [
    {
     "data": {
      "image/png": "[encoded data removed]",
      "text/latex": [
       "$\\displaystyle \\left( -10.0, \\  10.0\\right)$"
      ],
      "text/plain": [
       "(-10.0, 10.0)"
      ]
     },
     "execution_count": 57,
     "metadata": {},
     "output_type": "execute_result"
    }
   ],
   "source": [
    "ax.plot(xx,xx*0,'m--',\n",
    "        xx*0,xx,'m--',\n",
    "        #xx,yy3,'b',\n",
    "        #opt.x[0:1], opt.x[1:],'m'\n",
    "       )\n",
    "ax.set_xlim([-10,10])\n",
    "ax.set_ylim([-10,10])"
   ]
  },
  {
   "cell_type": "code",
   "execution_count": 59,
   "id": "bbcbb76e-d5fa-4a28-8324-c983afa8ce1d",
   "metadata": {},
   "outputs": [
    {
     "data": {
      "text/plain": [
       "<mpl_toolkits.mplot3d.art3d.Path3DCollection at 0x1373c7d4220>"
      ]
     },
     "execution_count": 59,
     "metadata": {},
     "output_type": "execute_result"
    }
   ],
   "source": [
    "ax.scatter(xs= opt.x[0:1], ys=opt.x[1:])"
   ]
  },
  {
   "cell_type": "code",
   "execution_count": 10,
   "id": "2d7fda1c-d9bc-44df-b262-aa12aa196884",
   "metadata": {},
   "outputs": [],
   "source": [
    "#%matplotlib qt"
   ]
  },
  {
   "cell_type": "code",
   "execution_count": 62,
   "id": "e095aad7-d90a-49b5-aa2e-7a6ae4cc6d8c",
   "metadata": {},
   "outputs": [
    {
     "data": {
      "text/plain": [
       "<mpl_toolkits.mplot3d.art3d.Path3DCollection at 0x1373a088be0>"
      ]
     },
     "execution_count": 62,
     "metadata": {},
     "output_type": "execute_result"
    }
   ],
   "source": [
    "ax.scatter3D(xs= opt.x[0:1], ys=opt.x[1:], zs=opt.fun)"
   ]
  },
  {
   "cell_type": "code",
   "execution_count": 61,
   "id": "0403ffb7-e586-418b-b370-ba23b3f380d0",
   "metadata": {},
   "outputs": [
    {
     "data": {
      "image/png": "[encoded data removed]",
      "text/latex": [
       "$\\displaystyle 24.1999999999982$"
      ],
      "text/plain": [
       "24.199999999998163"
      ]
     },
     "execution_count": 61,
     "metadata": {},
     "output_type": "execute_result"
    }
   ],
   "source": [
    "opt.fun"
   ]
  },
  {
   "cell_type": "code",
   "execution_count": 64,
   "id": "d9e491b7-842e-46bd-902f-4eeda2676f4a",
   "metadata": {},
   "outputs": [
    {
     "data": {
      "text/plain": [
       "<mpl_toolkits.mplot3d.art3d.Path3DCollection at 0x1373c74c130>"
      ]
     },
     "execution_count": 64,
     "metadata": {},
     "output_type": "execute_result"
    }
   ],
   "source": [
    "ax.scatter3D(\n",
    "    xs= [opt.x[0]]*2, \n",
    "    ys= [opt.x[1]]*2, \n",
    "    zs= [0, opt.fun])"
   ]
  },
  {
   "cell_type": "code",
   "execution_count": null,
   "id": "6da0f8ef-a1a8-4be5-a812-c26847e8a6ed",
   "metadata": {},
   "outputs": [],
   "source": []
  }
 ],
 "metadata": {
  "kernelspec": {
   "display_name": "Python 3",
   "language": "python",
   "name": "python3"
  },
  "language_info": {
   "codemirror_mode": {
    "name": "ipython",
    "version": 3
   },
   "file_extension": ".py",
   "mimetype": "text/x-python",
   "name": "python",
   "nbconvert_exporter": "python",
   "pygments_lexer": "ipython3",
   "version": "3.8.8"
  }
 },
 "nbformat": 4,
 "nbformat_minor": 5
}
