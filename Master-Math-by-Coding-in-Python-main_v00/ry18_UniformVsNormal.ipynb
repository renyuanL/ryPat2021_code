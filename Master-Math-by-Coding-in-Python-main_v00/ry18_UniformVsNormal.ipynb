{
 "cells": [
  {
   "cell_type": "code",
   "execution_count": 124,
   "id": "79733c30-3d31-4dc3-b3a6-0ea9963f643d",
   "metadata": {},
   "outputs": [],
   "source": [
    "import numpy  as np\n",
    "import pandas as pd\n",
    "\n",
    "\n",
    "%matplotlib qt\n",
    "\n",
    "pl.rcParams['axes.prop_cycle']= pl.cycler(\n",
    "    color=['red', \n",
    "           'orange', \n",
    "           'yellow', \n",
    "           'green',\n",
    "           'cyan',\n",
    "           'blue',\n",
    "           'purple',\n",
    "           'magenta',\n",
    "           'gray',\n",
    "           'black'])\n",
    "\n",
    "\n",
    "def ryUniformVsNormal(sampSize= 1000):\n",
    "    \n",
    "    X= pd.DataFrame(np.zeros((sampSize, 1)))\n",
    "    for i in range(0,8):\n",
    "        a= i-1/2\n",
    "        b= i+1/2\n",
    "        X[i]= np.random.uniform(\n",
    "                low=  a, \n",
    "                high= b,\n",
    "                size= sampSize)\n",
    "\n",
    "    #X= X.cumsum()\n",
    "    X.plot(title= 'uniform', alpha= .5)\n",
    "    X.hist()\n",
    "\n",
    "\n",
    "    Y= pd.DataFrame(np.zeros((sampSize, 1)))\n",
    "    for i in range(0,8):\n",
    "        μ= i\n",
    "        σ= 1/2\n",
    "        Y[i]= np.random.normal( \n",
    "                loc=   μ,  \n",
    "                scale= σ,\n",
    "                size= sampSize)\n",
    "    #Y=Y.cumsum()\n",
    "    Y.plot(alpha= .5, title= 'normal')\n",
    "    Y.hist()\n",
    "\n",
    "ryUniformVsNormal(sampSize= 1000)\n"
   ]
  },
  {
   "cell_type": "code",
   "execution_count": 121,
   "id": "4d0eb881-8a2a-4a42-bd33-5ccd852241e7",
   "metadata": {},
   "outputs": [
    {
     "name": "stdout",
     "output_type": "stream",
     "text": [
      "Object `pd.plot` not found.\n"
     ]
    }
   ],
   "source": [
    "pd.plot?"
   ]
  },
  {
   "cell_type": "code",
   "execution_count": 125,
   "id": "dc3b16bb-2ce9-4cad-b5d7-de90dcbcc1ec",
   "metadata": {},
   "outputs": [
    {
     "data": {
      "text/plain": [
       "array([[<AxesSubplot:title={'center':'0'}>,\n",
       "        <AxesSubplot:title={'center':'1'}>,\n",
       "        <AxesSubplot:title={'center':'2'}>],\n",
       "       [<AxesSubplot:title={'center':'3'}>,\n",
       "        <AxesSubplot:title={'center':'4'}>,\n",
       "        <AxesSubplot:title={'center':'5'}>],\n",
       "       [<AxesSubplot:title={'center':'6'}>,\n",
       "        <AxesSubplot:title={'center':'7'}>, <AxesSubplot:>]], dtype=object)"
      ]
     },
     "execution_count": 125,
     "metadata": {},
     "output_type": "execute_result"
    }
   ],
   "source": [
    "Y= pd.DataFrame(np.zeros((sampSize, 1)))\n",
    "for i in range(0,8):\n",
    "    μ= i\n",
    "    σ= 1/2\n",
    "    Y[i]= np.random.normal( \n",
    "            loc=   μ,  \n",
    "            scale= σ,\n",
    "            size= sampSize)\n",
    "#Y=Y.cumsum()\n",
    "Y.plot(alpha= .5, title= 'normal')\n",
    "Y.hist()\n"
   ]
  },
  {
   "cell_type": "code",
   "execution_count": 157,
   "id": "6f86e250-e032-4f2b-b04a-66ffd4ed4d74",
   "metadata": {},
   "outputs": [
    {
     "data": {
      "text/plain": [
       "<AxesSubplot:>"
      ]
     },
     "execution_count": 157,
     "metadata": {},
     "output_type": "execute_result"
    }
   ],
   "source": [
    "Y= pd.DataFrame(np.zeros((sampSize, 1)))\n",
    "for i in range(0,8):\n",
    "    n= 100\n",
    "    p= (i+1)/10\n",
    "    Y[i]= np.random.binomial( \n",
    "            n= n,  \n",
    "            p= p,\n",
    "            size= sampSize)\n",
    "#Y=Y.cumsum()\n",
    "Y.plot(alpha= .5, title= 'binomial')\n",
    "#Y.hist()\n",
    "Y.plot.box()"
   ]
  },
  {
   "cell_type": "markdown",
   "id": "eb985a3d-364a-46e1-bae7-f9fbe7029ec1",
   "metadata": {},
   "source": [
    "# How about the other distributions?\n",
    "\n",
    "- Binomial,\n",
    "- Poisson,\n",
    "- Negative Binomial,\n",
    "- \n",
    "- Gamma, \n",
    "- χ^2,\n",
    "- Student T, \n",
    "- LogNormal, \n",
    "- Zipf, …\n",
    "\n"
   ]
  },
  {
   "cell_type": "code",
   "execution_count": null,
   "id": "1d1fb262-b5f8-40e9-a7a7-2b36fad93cdb",
   "metadata": {},
   "outputs": [],
   "source": []
  },
  {
   "cell_type": "code",
   "execution_count": 179,
   "id": "75004330-5bb8-4ace-9b2b-8972ec375c9e",
   "metadata": {},
   "outputs": [
    {
     "data": {
      "text/plain": [
       "<AxesSubplot:title={'center':'Poisson Boxplot'}>"
      ]
     },
     "execution_count": 179,
     "metadata": {},
     "output_type": "execute_result"
    }
   ],
   "source": [
    "# try Poisson distribution with boxplot\n",
    "\n",
    "Y= pd.DataFrame(np.zeros((sampSize, 1)))\n",
    "for i in range(0,8):\n",
    "    Y[i]= np.random.poisson( \n",
    "            lam= 10*(i+1),\n",
    "            size= sampSize)\n",
    "#Y=Y.cumsum()\n",
    "Y.plot(alpha= .5, title= 'Poisson')\n",
    "Y.hist()\n",
    "Y.plot.box(title= 'Poisson Boxplot')\n"
   ]
  },
  {
   "cell_type": "code",
   "execution_count": null,
   "id": "2e0c1659-dd8f-41f5-8dae-c7d62e3398fc",
   "metadata": {},
   "outputs": [],
   "source": []
  },
  {
   "cell_type": "code",
   "execution_count": 168,
   "id": "43fe1c2e-f1f8-4b84-9cee-b5e69d2ab569",
   "metadata": {},
   "outputs": [
    {
     "data": {
      "text/plain": [
       "<AxesSubplot:>"
      ]
     },
     "execution_count": 168,
     "metadata": {},
     "output_type": "execute_result"
    }
   ],
   "source": []
  },
  {
   "cell_type": "code",
   "execution_count": 180,
   "id": "24576476-cbc6-43ae-abe4-ade52dd2c262",
   "metadata": {},
   "outputs": [
    {
     "name": "stdout",
     "output_type": "stream",
     "text": [
      "Object `st.probplot` not found.\n"
     ]
    }
   ],
   "source": [
    "st.probplot?"
   ]
  },
  {
   "cell_type": "code",
   "execution_count": 181,
   "id": "0250c2ea-9892-4a03-b897-9ad7ef06397b",
   "metadata": {},
   "outputs": [],
   "source": [
    "import scipy.stats as st\n"
   ]
  },
  {
   "cell_type": "code",
   "execution_count": 216,
   "id": "16f109bd-31f0-46f0-995e-2626d2d68f20",
   "metadata": {},
   "outputs": [],
   "source": [
    "#st.probplot(x, sparams=(), dist='norm', fit=True, plot=None, rvalue=False)\n",
    "X= np.random.poisson(lam= 10, size=1000)\n",
    "\n",
    "q= st.probplot(X, sparams=(100), dist='poisson', plot=pl)\n",
    "#pl.scatter(*q[0])"
   ]
  },
  {
   "cell_type": "code",
   "execution_count": 207,
   "id": "afd407b9-b1ab-42e3-80cb-f0ef0607ee1b",
   "metadata": {},
   "outputs": [
    {
     "data": {
      "text/plain": [
       "\u001b[1;31mSignature:\u001b[0m \u001b[0mst\u001b[0m\u001b[1;33m.\u001b[0m\u001b[0mprobplot\u001b[0m\u001b[1;33m(\u001b[0m\u001b[0mx\u001b[0m\u001b[1;33m,\u001b[0m \u001b[0msparams\u001b[0m\u001b[1;33m=\u001b[0m\u001b[1;33m(\u001b[0m\u001b[1;33m)\u001b[0m\u001b[1;33m,\u001b[0m \u001b[0mdist\u001b[0m\u001b[1;33m=\u001b[0m\u001b[1;34m'norm'\u001b[0m\u001b[1;33m,\u001b[0m \u001b[0mfit\u001b[0m\u001b[1;33m=\u001b[0m\u001b[1;32mTrue\u001b[0m\u001b[1;33m,\u001b[0m \u001b[0mplot\u001b[0m\u001b[1;33m=\u001b[0m\u001b[1;32mNone\u001b[0m\u001b[1;33m,\u001b[0m \u001b[0mrvalue\u001b[0m\u001b[1;33m=\u001b[0m\u001b[1;32mFalse\u001b[0m\u001b[1;33m)\u001b[0m\u001b[1;33m\u001b[0m\u001b[1;33m\u001b[0m\u001b[0m\n",
       "\u001b[1;31mDocstring:\u001b[0m\n",
       "Calculate quantiles for a probability plot, and optionally show the plot.\n",
       "\n",
       "Generates a probability plot of sample data against the quantiles of a\n",
       "specified theoretical distribution (the normal distribution by default).\n",
       "`probplot` optionally calculates a best-fit line for the data and plots the\n",
       "results using Matplotlib or a given plot function.\n",
       "\n",
       "Parameters\n",
       "----------\n",
       "x : array_like\n",
       "    Sample/response data from which `probplot` creates the plot.\n",
       "sparams : tuple, optional\n",
       "    Distribution-specific shape parameters (shape parameters plus location\n",
       "    and scale).\n",
       "dist : str or stats.distributions instance, optional\n",
       "    Distribution or distribution function name. The default is 'norm' for a\n",
       "    normal probability plot.  Objects that look enough like a\n",
       "    stats.distributions instance (i.e. they have a ``ppf`` method) are also\n",
       "    accepted.\n",
       "fit : bool, optional\n",
       "    Fit a least-squares regression (best-fit) line to the sample data if\n",
       "    True (default).\n",
       "plot : object, optional\n",
       "    If given, plots the quantiles and least squares fit.\n",
       "    `plot` is an object that has to have methods \"plot\" and \"text\".\n",
       "    The `matplotlib.pyplot` module or a Matplotlib Axes object can be used,\n",
       "    or a custom object with the same methods.\n",
       "    Default is None, which means that no plot is created.\n",
       "\n",
       "Returns\n",
       "-------\n",
       "(osm, osr) : tuple of ndarrays\n",
       "    Tuple of theoretical quantiles (osm, or order statistic medians) and\n",
       "    ordered responses (osr).  `osr` is simply sorted input `x`.\n",
       "    For details on how `osm` is calculated see the Notes section.\n",
       "(slope, intercept, r) : tuple of floats, optional\n",
       "    Tuple  containing the result of the least-squares fit, if that is\n",
       "    performed by `probplot`. `r` is the square root of the coefficient of\n",
       "    determination.  If ``fit=False`` and ``plot=None``, this tuple is not\n",
       "    returned.\n",
       "\n",
       "Notes\n",
       "-----\n",
       "Even if `plot` is given, the figure is not shown or saved by `probplot`;\n",
       "``plt.show()`` or ``plt.savefig('figname.png')`` should be used after\n",
       "calling `probplot`.\n",
       "\n",
       "`probplot` generates a probability plot, which should not be confused with\n",
       "a Q-Q or a P-P plot.  Statsmodels has more extensive functionality of this\n",
       "type, see ``statsmodels.api.ProbPlot``.\n",
       "\n",
       "The formula used for the theoretical quantiles (horizontal axis of the\n",
       "probability plot) is Filliben's estimate::\n",
       "\n",
       "    quantiles = dist.ppf(val), for\n",
       "\n",
       "            0.5**(1/n),                  for i = n\n",
       "      val = (i - 0.3175) / (n + 0.365),  for i = 2, ..., n-1\n",
       "            1 - 0.5**(1/n),              for i = 1\n",
       "\n",
       "where ``i`` indicates the i-th ordered value and ``n`` is the total number\n",
       "of values.\n",
       "\n",
       "Examples\n",
       "--------\n",
       ">>> from scipy import stats\n",
       ">>> import matplotlib.pyplot as plt\n",
       ">>> nsample = 100\n",
       ">>> np.random.seed(7654321)\n",
       "\n",
       "A t distribution with small degrees of freedom:\n",
       "\n",
       ">>> ax1 = plt.subplot(221)\n",
       ">>> x = stats.t.rvs(3, size=nsample)\n",
       ">>> res = stats.probplot(x, plot=plt)\n",
       "\n",
       "A t distribution with larger degrees of freedom:\n",
       "\n",
       ">>> ax2 = plt.subplot(222)\n",
       ">>> x = stats.t.rvs(25, size=nsample)\n",
       ">>> res = stats.probplot(x, plot=plt)\n",
       "\n",
       "A mixture of two normal distributions with broadcasting:\n",
       "\n",
       ">>> ax3 = plt.subplot(223)\n",
       ">>> x = stats.norm.rvs(loc=[0,5], scale=[1,1.5],\n",
       "...                    size=(nsample//2,2)).ravel()\n",
       ">>> res = stats.probplot(x, plot=plt)\n",
       "\n",
       "A standard normal distribution:\n",
       "\n",
       ">>> ax4 = plt.subplot(224)\n",
       ">>> x = stats.norm.rvs(loc=0, scale=1, size=nsample)\n",
       ">>> res = stats.probplot(x, plot=plt)\n",
       "\n",
       "Produce a new figure with a loggamma distribution, using the ``dist`` and\n",
       "``sparams`` keywords:\n",
       "\n",
       ">>> fig = plt.figure()\n",
       ">>> ax = fig.add_subplot(111)\n",
       ">>> x = stats.loggamma.rvs(c=2.5, size=500)\n",
       ">>> res = stats.probplot(x, dist=stats.loggamma, sparams=(2.5,), plot=ax)\n",
       ">>> ax.set_title(\"Probplot for loggamma dist with shape parameter 2.5\")\n",
       "\n",
       "Show the results with Matplotlib:\n",
       "\n",
       ">>> plt.show()\n",
       "\u001b[1;31mFile:\u001b[0m      m:\\programdata\\anaconda3\\lib\\site-packages\\scipy\\stats\\morestats.py\n",
       "\u001b[1;31mType:\u001b[0m      function\n"
      ]
     },
     "metadata": {},
     "output_type": "display_data"
    }
   ],
   "source": [
    "st.probplot?"
   ]
  },
  {
   "cell_type": "code",
   "execution_count": null,
   "id": "ee5db8ca-ccef-4d58-a3ed-6756f94e0b4f",
   "metadata": {},
   "outputs": [],
   "source": []
  }
 ],
 "metadata": {
  "kernelspec": {
   "display_name": "Python 3",
   "language": "python",
   "name": "python3"
  },
  "language_info": {
   "codemirror_mode": {
    "name": "ipython",
    "version": 3
   },
   "file_extension": ".py",
   "mimetype": "text/x-python",
   "name": "python",
   "nbconvert_exporter": "python",
   "pygments_lexer": "ipython3",
   "version": "3.8.8"
  }
 },
 "nbformat": 4,
 "nbformat_minor": 5
}
