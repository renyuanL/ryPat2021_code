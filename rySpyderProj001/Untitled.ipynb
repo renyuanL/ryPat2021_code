{
 "cells": [
  {
   "cell_type": "code",
   "execution_count": 3,
   "id": "20c3d3b4-ba81-4f0e-9398-2d23865cccff",
   "metadata": {},
   "outputs": [
    {
     "data": {
      "text/plain": [
       "(int, float, complex)"
      ]
     },
     "execution_count": 3,
     "metadata": {},
     "output_type": "execute_result"
    }
   ],
   "source": [
    "# -*- coding: utf-8 -*-\n",
    "\"\"\"\n",
    "Ch01: Linear Algebra\n",
    "\n",
    "Created on Sat Sep 25 17:36:35 2021\n",
    "\n",
    "@author: renyu\n",
    "\n",
    "\n",
    "\"\"\"\n",
    "\n",
    "x= 1\n",
    "y= 1.0\n",
    "z= 1+1j\n",
    "x, y, z\n",
    "type(x), type(y), type(z)"
   ]
  },
  {
   "cell_type": "code",
   "execution_count": 5,
   "id": "4149b488-4972-4f2d-8b34-2d9a340a386c",
   "metadata": {},
   "outputs": [],
   "source": [
    "#%%\n",
    "aList= [1,2,3]\n",
    "aSet=  {10,20,30}\n",
    "aDict= {'a':1, 'b':2, 'c':3}"
   ]
  },
  {
   "cell_type": "code",
   "execution_count": 13,
   "id": "844d776c-29dc-4d6a-8044-2592b3cf72a1",
   "metadata": {},
   "outputs": [
    {
     "data": {
      "text/plain": [
       "list"
      ]
     },
     "execution_count": 13,
     "metadata": {},
     "output_type": "execute_result"
    }
   ],
   "source": [
    "type(aList)"
   ]
  },
  {
   "cell_type": "code",
   "execution_count": 15,
   "id": "f0975b3d-1cf1-415e-bbd8-39d96230c6ab",
   "metadata": {},
   "outputs": [],
   "source": [
    "#%%\n",
    "import numpy as np\n",
    "\n",
    "v= [10, 20, 30]\n",
    "\n",
    "v= np.array(v)\n",
    "\n",
    "type(v)"
   ]
  },
  {
   "cell_type": "code",
   "execution_count": 34,
   "id": "8193d5e1-4964-4c07-befa-9a801a9cd325",
   "metadata": {},
   "outputs": [
    {
     "data": {
      "text/plain": [
       "(3,)"
      ]
     },
     "execution_count": 34,
     "metadata": {},
     "output_type": "execute_result"
    }
   ],
   "source": [
    "v= [1,2,3]\n",
    "v= np.array(v)\n",
    "v.shape"
   ]
  },
  {
   "cell_type": "code",
   "execution_count": 36,
   "id": "604eb161-edee-4485-aab0-8ea026d8fe0c",
   "metadata": {},
   "outputs": [
    {
     "data": {
      "text/plain": [
       "[[1, 2, 3], [4, 5, 6]]"
      ]
     },
     "execution_count": 36,
     "metadata": {},
     "output_type": "execute_result"
    }
   ],
   "source": [
    "A= [[1, 2, 3],\n",
    "    [4, 5, 6]]\n",
    "A"
   ]
  },
  {
   "cell_type": "code",
   "execution_count": 38,
   "id": "a681d434-dc99-44f1-a878-c9b3fd867343",
   "metadata": {},
   "outputs": [
    {
     "data": {
      "text/plain": [
       "(2, 3)"
      ]
     },
     "execution_count": 38,
     "metadata": {},
     "output_type": "execute_result"
    }
   ],
   "source": [
    "A= np.array(A)\n",
    "A.shape"
   ]
  },
  {
   "cell_type": "code",
   "execution_count": null,
   "id": "ff12291d-c7c1-4a90-8d25-748d6bd65bb2",
   "metadata": {},
   "outputs": [],
   "source": []
  },
  {
   "cell_type": "code",
   "execution_count": null,
   "id": "2d2e5276-f3f4-4ba5-a8c8-9f47e3c1b248",
   "metadata": {},
   "outputs": [],
   "source": [
    "# -*- coding: utf-8 -*-\n",
    "\"\"\"\n",
    "Ch01: Linear Algebra\n",
    "\n",
    "Created on Sat Sep 25 17:36:35 2021\n",
    "\n",
    "@author: renyu\n",
    "\n",
    "\n",
    "\"\"\"\n",
    "\n",
    "x= 1\n",
    "y= 1.0\n",
    "z= 1+1j\n",
    "#%%\n",
    "aList= [1,2,3]\n",
    "aSet=  {10,20,30}\n",
    "aDict= {'a':1, 'b':2, 'c':3}\n",
    "#%%\n",
    "import numpy as np\n",
    "\n",
    "v= [10, 20, 30]\n",
    "v= np.array(v)"
   ]
  },
  {
   "cell_type": "code",
   "execution_count": 39,
   "id": "a31e6b93-d7ab-47ea-97dc-4d8883e5d8a9",
   "metadata": {},
   "outputs": [
    {
     "data": {
      "text/plain": [
       "array([[1, 2, 3],\n",
       "       [4, 5, 6]])"
      ]
     },
     "execution_count": 39,
     "metadata": {},
     "output_type": "execute_result"
    }
   ],
   "source": [
    "A= [[1, 2, 3],\n",
    "    [4, 5, 6]]\n",
    "\n",
    "A= np.array(A)\n",
    "A"
   ]
  },
  {
   "cell_type": "code",
   "execution_count": 41,
   "id": "6feccecf-2293-4a2c-b2d0-c097eb098412",
   "metadata": {},
   "outputs": [
    {
     "data": {
      "text/plain": [
       "array([40, 50, 60])"
      ]
     },
     "execution_count": 41,
     "metadata": {},
     "output_type": "execute_result"
    }
   ],
   "source": [
    "#%%\n",
    "v1= [10, 20, 30]\n",
    "v2= [40, 50, 60]\n",
    "\n",
    "v1= np.array(v1)\n",
    "v2= np.array(v2)\n",
    "v2"
   ]
  },
  {
   "cell_type": "code",
   "execution_count": 49,
   "id": "2cb3265d-b311-4f9f-843f-6dcab76c290c",
   "metadata": {},
   "outputs": [
    {
     "data": {
      "text/plain": [
       "(10,)"
      ]
     },
     "execution_count": 49,
     "metadata": {},
     "output_type": "execute_result"
    }
   ],
   "source": [
    "v= np.arange(10)\n",
    "v.shape"
   ]
  },
  {
   "cell_type": "code",
   "execution_count": null,
   "id": "1a502e7c-0b4c-41e0-bea2-9440ff49c383",
   "metadata": {},
   "outputs": [],
   "source": []
  },
  {
   "cell_type": "code",
   "execution_count": 51,
   "id": "3b9880eb-4c75-4a9f-9d16-3a79d1a3467b",
   "metadata": {},
   "outputs": [
    {
     "data": {
      "text/plain": [
       "array([ 0,  1,  2,  3,  4,  5,  6,  7,  8,  9, 10, 11])"
      ]
     },
     "execution_count": 51,
     "metadata": {},
     "output_type": "execute_result"
    }
   ],
   "source": [
    "#%%\n",
    "B= np.arange(12)\n",
    "B"
   ]
  },
  {
   "cell_type": "code",
   "execution_count": 56,
   "id": "dd78e5a2-1a81-410f-9fc0-51def4a02099",
   "metadata": {},
   "outputs": [
    {
     "data": {
      "text/plain": [
       "array([[ 0,  1],\n",
       "       [ 2,  3],\n",
       "       [ 4,  5],\n",
       "       [ 6,  7],\n",
       "       [ 8,  9],\n",
       "       [10, 11]])"
      ]
     },
     "execution_count": 56,
     "metadata": {},
     "output_type": "execute_result"
    }
   ],
   "source": [
    "#%%\n",
    "B= B.reshape(6,2)\n",
    "B"
   ]
  },
  {
   "cell_type": "code",
   "execution_count": null,
   "id": "05e36a9c-f1e2-49c0-914d-5537c6ac9e40",
   "metadata": {},
   "outputs": [],
   "source": [
    "#%%\n",
    "import sympy as sy\n",
    "x,y,z= sy.symbols('x,y,z')\n",
    "\n",
    "from sympy import MatrixSymbol, Matrix"
   ]
  },
  {
   "cell_type": "code",
   "execution_count": 57,
   "id": "3356f71d-89ec-4f65-8754-7da276cb62b6",
   "metadata": {},
   "outputs": [
    {
     "data": {
      "text/plain": [
       "array([[ 1, -2],\n",
       "       [ 2,  1]])"
      ]
     },
     "execution_count": 57,
     "metadata": {},
     "output_type": "execute_result"
    }
   ],
   "source": [
    "#%%\n",
    "# Solve linear equations\n",
    "########################\n",
    "#\n",
    "# A x = b\n",
    "#\n",
    "A= [[1,-2],\n",
    "    [2, 1]]\n",
    "A= np.array(A)\n",
    "A"
   ]
  },
  {
   "cell_type": "code",
   "execution_count": 60,
   "id": "9762710b-b2f5-4534-b16e-5abac6bb596e",
   "metadata": {},
   "outputs": [
    {
     "data": {
      "text/plain": [
       "array([[1],\n",
       "       [7]])"
      ]
     },
     "execution_count": 60,
     "metadata": {},
     "output_type": "execute_result"
    }
   ],
   "source": [
    "b= [1,7]\n",
    "b= np.array(b)\n",
    "b= b.reshape(2,1)\n",
    "b"
   ]
  },
  {
   "cell_type": "code",
   "execution_count": 63,
   "id": "83f49f22-c078-43c4-8bc4-186dbbb37b0c",
   "metadata": {},
   "outputs": [
    {
     "data": {
      "text/plain": [
       "array([[3.],\n",
       "       [1.]])"
      ]
     },
     "execution_count": 63,
     "metadata": {},
     "output_type": "execute_result"
    }
   ],
   "source": [
    "#[sol]\n",
    "x= np.linalg.solve(A,b)\n",
    "x"
   ]
  },
  {
   "cell_type": "code",
   "execution_count": 84,
   "id": "001d4446-8415-44b0-a551-3eb66483feb6",
   "metadata": {},
   "outputs": [
    {
     "data": {
      "text/plain": [
       "array([[ True],\n",
       "       [ True]])"
      ]
     },
     "execution_count": 84,
     "metadata": {},
     "output_type": "execute_result"
    }
   ],
   "source": [
    "# 驗算\n",
    "#A@x == b\n",
    "A@x == b\n"
   ]
  },
  {
   "cell_type": "code",
   "execution_count": null,
   "id": "26f018c7-1160-401a-a1e4-85637cdf11ea",
   "metadata": {},
   "outputs": [],
   "source": [
    "np.isclose(A@x, b) \n",
    "#%%"
   ]
  },
  {
   "cell_type": "code",
   "execution_count": 85,
   "id": "1e9e5e3f-bf70-4b25-a74f-9087fe4ff162",
   "metadata": {},
   "outputs": [
    {
     "data": {
      "text/plain": [
       "array([[3.],\n",
       "       [1.]])"
      ]
     },
     "execution_count": 85,
     "metadata": {},
     "output_type": "execute_result"
    }
   ],
   "source": [
    "# [sol2[]\n",
    "\n",
    "x1= np.linalg.inv(A) @ b\n",
    "x1"
   ]
  },
  {
   "cell_type": "code",
   "execution_count": null,
   "id": "08d7ad1e-4a1a-4325-95c4-61d88778af40",
   "metadata": {},
   "outputs": [],
   "source": [
    "# 驗算\n",
    "A@x1 == b\n",
    "np.isclose(A@x1, b) "
   ]
  },
  {
   "cell_type": "code",
   "execution_count": 99,
   "id": "8333d92c-9eb0-498e-b22a-90004ca07d4d",
   "metadata": {},
   "outputs": [
    {
     "data": {
      "text/plain": [
       "array([[ 0, -5, -2],\n",
       "       [-2,  2,  4],\n",
       "       [-2,  0, -3]])"
      ]
     },
     "execution_count": 99,
     "metadata": {},
     "output_type": "execute_result"
    }
   ],
   "source": [
    "#%%\n",
    "# n 變數 線性方程組\n",
    "\n",
    "n= 3 #np.random.randint(2,10)\n",
    "\n",
    "np.random.seed(0)\n",
    "A= np.random.randint(-5,5,size=(n,n))\n",
    "A"
   ]
  },
  {
   "cell_type": "code",
   "execution_count": 100,
   "id": "0773df3e-261f-4d62-8948-fe8f5ef92841",
   "metadata": {},
   "outputs": [
    {
     "data": {
      "text/plain": [
       "array([[0],\n",
       "       [3],\n",
       "       [4]])"
      ]
     },
     "execution_count": 100,
     "metadata": {},
     "output_type": "execute_result"
    }
   ],
   "source": [
    "np.random.seed(1)\n",
    "b= np.random.randint(-5,5,size=(n,1))\n",
    "b"
   ]
  },
  {
   "cell_type": "code",
   "execution_count": 104,
   "id": "cd867883-1268-4613-a40e-2eda38e33338",
   "metadata": {},
   "outputs": [
    {
     "name": "stdout",
     "output_type": "stream",
     "text": [
      "\n",
      "n= \n",
      "3, \n",
      "\n",
      "A= \n",
      "[[ 0 -5 -2]\n",
      " [-2  2  4]\n",
      " [-2  0 -3]]\n",
      "\n",
      "b= \n",
      "[[0]\n",
      " [3]\n",
      " [4]]\n",
      "\n",
      "x= \n",
      "[[-1.75806452]\n",
      " [ 0.06451613]\n",
      " [-0.16129032]]\n",
      "\n"
     ]
    }
   ],
   "source": [
    "# to solve \n",
    "# A x = b\n",
    "\n",
    "x= np.linalg.solve(A, b)\n",
    "\n",
    "print(\n",
    "f'''\n",
    "n= \n",
    "{n}, \n",
    "\n",
    "A= \n",
    "{A}\n",
    "\n",
    "b= \n",
    "{b}\n",
    "\n",
    "x= \n",
    "{x}\n",
    "''')\n",
    "#%%"
   ]
  },
  {
   "cell_type": "code",
   "execution_count": 105,
   "id": "e59a2eca-7a66-4d48-81d2-a83644d00908",
   "metadata": {},
   "outputs": [
    {
     "name": "stdout",
     "output_type": "stream",
     "text": [
      "\n",
      "n= \n",
      "3, \n",
      "\n",
      "A= \n",
      "[[ 0 -5 -2]\n",
      " [-2  2  4]\n",
      " [-2  0 -3]]\n",
      "\n",
      "invA=\n",
      "[[-0.09677419 -0.24193548 -0.25806452]\n",
      " [-0.22580645 -0.06451613  0.06451613]\n",
      " [ 0.06451613  0.16129032 -0.16129032]]\n",
      "\n",
      "b= \n",
      "[[0]\n",
      " [3]\n",
      " [4]]\n",
      "\n",
      "x1= \n",
      "[[-1.75806452]\n",
      " [ 0.06451613]\n",
      " [-0.16129032]]\n",
      "\n"
     ]
    }
   ],
   "source": [
    "invA= np.linalg.inv(A)\n",
    "\n",
    "x1= invA @ b\n",
    "\n",
    "print(\n",
    "f'''\n",
    "n= \n",
    "{n}, \n",
    "\n",
    "A= \n",
    "{A}\n",
    "\n",
    "invA=\n",
    "{invA}\n",
    "\n",
    "b= \n",
    "{b}\n",
    "\n",
    "x1= \n",
    "{x1}\n",
    "''')"
   ]
  },
  {
   "cell_type": "code",
   "execution_count": 107,
   "id": "bff2dac6-6551-48b4-93bf-4ca359e9e23d",
   "metadata": {},
   "outputs": [
    {
     "name": "stdout",
     "output_type": "stream",
     "text": [
      "True\n",
      "True\n"
     ]
    }
   ],
   "source": [
    "#%%\n",
    "# 驗算\n",
    "validation= np.allclose(A@x, b)\n",
    "print(validation)\n",
    "\n",
    "validation= np.allclose(A@x1, b)\n",
    "print(validation)"
   ]
  },
  {
   "cell_type": "code",
   "execution_count": 123,
   "id": "f1766aa8-472d-4d34-9158-3271ba5ceaa1",
   "metadata": {},
   "outputs": [
    {
     "data": {
      "text/plain": [
       "False"
      ]
     },
     "execution_count": 123,
     "metadata": {},
     "output_type": "execute_result"
    }
   ],
   "source": [
    "62 == np.linalg.det(A)"
   ]
  },
  {
   "cell_type": "code",
   "execution_count": 122,
   "id": "f57fff78-62b2-45af-9f57-89a3cb1b0a88",
   "metadata": {},
   "outputs": [
    {
     "data": {
      "text/plain": [
       "True"
      ]
     },
     "execution_count": 122,
     "metadata": {},
     "output_type": "execute_result"
    }
   ],
   "source": [
    "np.isclose(62, np.linalg.det(A))"
   ]
  },
  {
   "cell_type": "code",
   "execution_count": 126,
   "id": "afd7490f-a293-4c01-8305-6a75e902f0d6",
   "metadata": {},
   "outputs": [
    {
     "name": "stdout",
     "output_type": "stream",
     "text": [
      "A= \n",
      "[[ 0 -5 -2]\n",
      " [-2  2  4]\n",
      " [-2  0 -3]]\n",
      "det= 62.00000000000001\n"
     ]
    }
   ],
   "source": [
    "#%%\n",
    "# HomeWork:\n",
    "# 自己寫一個遞迴式的 function，來計算 Determinant \n",
    "\n",
    "\n",
    "n= 3 \n",
    "\n",
    "np.random.seed(0)\n",
    "A= np.random.randint(-5,5,size=(n,n))\n",
    "print(f'A= \\n{A}')\n",
    "\n",
    "det= np.linalg.det(A)\n",
    "print(f'det= {det}')"
   ]
  },
  {
   "cell_type": "code",
   "execution_count": 130,
   "id": "067789f8-ee56-4c15-ac66-b521024f1730",
   "metadata": {},
   "outputs": [
    {
     "data": {
      "text/plain": [
       "(array([[ 0, -5, -2],\n",
       "        [-2,  2,  4],\n",
       "        [-2,  0, -3]]),\n",
       " array([[-2,  2,  4],\n",
       "        [-2,  0, -3]]),\n",
       " array([[ 2,  4],\n",
       "        [ 0, -3]]))"
      ]
     },
     "execution_count": 130,
     "metadata": {},
     "output_type": "execute_result"
    }
   ],
   "source": [
    " \n",
    "B= np.delete(A, 0, axis=0) # i axis, 沿著垂直軸走，割掉0號水平列\n",
    "C= np.delete(B, 0, axis=1)    # j axis, 水平軸\n",
    "A, B, C"
   ]
  },
  {
   "cell_type": "code",
   "execution_count": 127,
   "id": "50f4d595-6408-4816-8a78-0caae6221398",
   "metadata": {},
   "outputs": [
    {
     "name": "stdout",
     "output_type": "stream",
     "text": [
      "det= 61.999999999999986\n"
     ]
    }
   ],
   "source": [
    "#%%\n",
    "# Determinant\n",
    "\n",
    "i= 0\n",
    "det= 0\n",
    "for j in range(n):\n",
    "    Bi=  np.delete(A, i, axis=0)\n",
    "    Bij= np.delete(Bi,j, axis=1)\n",
    "    Bij= np.linalg.det(Bij)  # 偷用 官方的 .det()\n",
    "    Aij= A[i,j]*Bij*(-1)**(i+j)\n",
    "    det += Aij\n",
    "print(f'det= {det}')\n"
   ]
  },
  {
   "cell_type": "code",
   "execution_count": 125,
   "id": "a25e3830-0f3c-4f97-8936-2f7ecbaa5cb2",
   "metadata": {},
   "outputs": [],
   "source": [
    "#%%\n",
    "# 行列互換，重作一遍。\n",
    "#\n",
    "j= 0\n",
    "det= 0\n",
    "for i in range(n):\n",
    "    Bj=  np.delete(A, j, axis=1)\n",
    "    Bij= np.delete(Bj,i, axis=0)\n",
    "    Bij= np.linalg.det(Bij)\n",
    "    Aij= A[i,j]*Bij*(-1)**(i+j)\n",
    "    det += Aij\n",
    "print(f'det= {det}')\n",
    "\n",
    "#%%"
   ]
  },
  {
   "cell_type": "code",
   "execution_count": 131,
   "id": "4ee23c0b-1c5c-4a32-875a-8b335feaab26",
   "metadata": {},
   "outputs": [
    {
     "name": "stdout",
     "output_type": "stream",
     "text": [
      "det= 62\n"
     ]
    }
   ],
   "source": [
    "# when n is large, it is very slow!!\n",
    "\n",
    "def ryDet(A):\n",
    "    \n",
    "    n= A.shape[0]\n",
    "    if n>1:\n",
    "        i= 0\n",
    "        det= 0\n",
    "        for j in range(n):\n",
    "            Bi=  np.delete(A, i, axis=0)\n",
    "            Bij= np.delete(Bi,j, axis=1)\n",
    "            \n",
    "            Bij= ryDet(Bij) #np.linalg.det(Bij)\n",
    "            \n",
    "            Aij= A[i,j]*Bij*(-1)**(i+j)\n",
    "            det += Aij\n",
    "        #print(f'det= {det}')\n",
    "        return det\n",
    "    \n",
    "    elif A.shape[0]==1:\n",
    "        det= A[0,0]\n",
    "        return det\n",
    "    else:\n",
    "        return None\n",
    "\n",
    "det= ryDet(A)\n",
    "print(f'det= {det}')\n",
    "#%%"
   ]
  },
  {
   "cell_type": "code",
   "execution_count": 125,
   "id": "f67a401a-40ae-476e-b34c-aeb40c57f9fb",
   "metadata": {},
   "outputs": [
    {
     "name": "stdout",
     "output_type": "stream",
     "text": [
      "A= \n",
      "[[ 0 -5 -2]\n",
      " [-2  2  4]\n",
      " [-2  0 -3]]\n",
      "det= 62.00000000000001\n",
      "det= 61.999999999999986\n",
      "det= 62.0\n",
      "det= 62\n",
      "A= \n",
      "[[ 0 -5 -2]\n",
      " [-2  2  4]\n",
      " [-2  0 -3]]\n",
      "i= 0, Bi= \n",
      "[[-2  2  4]\n",
      " [-2  0 -3]]\n",
      "i,j= 00, Bij= \n",
      "[[ 2  4]\n",
      " [ 0 -3]]\n",
      ".... Dij= -6.0\n",
      "i,j= 01, Bij= \n",
      "[[-2  4]\n",
      " [-2 -3]]\n",
      ".... Dij= 13.999999999999996\n",
      "i,j= 02, Bij= \n",
      "[[-2  2]\n",
      " [-2  0]]\n",
      ".... Dij= 4.0\n",
      "det= 61.999999999999986\n",
      "A= \n",
      "[[ 0 -5 -2]\n",
      " [-2  2  4]\n",
      " [-2  0 -3]]\n",
      "\n",
      "i,j= 00, Bij= \n",
      "[[ 2  4]\n",
      " [ 0 -3]]\n",
      "\n",
      "i,j= 00, Bij= \n",
      "[[-3]]\n",
      ".... Dij= -3\n",
      "\n",
      "i,j= 01, Bij= \n",
      "[[0]]\n",
      ".... Dij= 0\n",
      ".... Dij= -6\n",
      "\n",
      "i,j= 01, Bij= \n",
      "[[-2  4]\n",
      " [-2 -3]]\n",
      "\n",
      "i,j= 00, Bij= \n",
      "[[-3]]\n",
      ".... Dij= -3\n",
      "\n",
      "i,j= 01, Bij= \n",
      "[[-2]]\n",
      ".... Dij= -2\n",
      ".... Dij= 14\n",
      "\n",
      "i,j= 02, Bij= \n",
      "[[-2  2]\n",
      " [-2  0]]\n",
      "\n",
      "i,j= 00, Bij= \n",
      "[[0]]\n",
      ".... Dij= 0\n",
      "\n",
      "i,j= 01, Bij= \n",
      "[[-2]]\n",
      ".... Dij= -2\n",
      ".... Dij= 4\n",
      "\n",
      "det= 62\n"
     ]
    }
   ],
   "source": [
    "#%%\n",
    "\n",
    "print(f'A= \\n{A}')\n",
    "\n",
    "i= 0\n",
    "Bi=  np.delete(A, i, axis=0)\n",
    "print(f'i= {i}, Bi= \\n{Bi}')\n",
    "\n",
    "det= 0\n",
    "for j in range(n):    \n",
    "    Bij= np.delete(Bi,j, axis=1)\n",
    "    print(f'i,j= {i}{j}, Bij= \\n{Bij}')\n",
    "    Dij= np.linalg.det(Bij)\n",
    "    print(f'.... Dij= {Dij}')\n",
    "    Cij= A[i,j]*Dij*(-1)**(i+j)\n",
    "    det += Cij\n",
    "\n",
    "print(f'det= {det}')\n",
    "\n",
    "#%%\n",
    "# when n is large, it is very slow!!\n",
    "\n",
    "print(f'A= \\n{A}')\n",
    "\n",
    "def ryDet(A):\n",
    "    \n",
    "    n= A.shape[0]\n",
    "    if n>1:\n",
    "        i= 0\n",
    "        Bi=  np.delete(A, i, axis=0)\n",
    "        #print(f'\\ni= {i}, Bi= \\n{Bi}')\n",
    "        \n",
    "        det= 0\n",
    "        for j in range(n):\n",
    "            \n",
    "            Bij= np.delete(Bi,j, axis=1)\n",
    "            print(f'\\ni,j= {i}{j}, Bij= \\n{Bij}')\n",
    "            \n",
    "            Dij= ryDet(Bij) #np.linalg.det(Bij)\n",
    "            print(f'.... Dij= {Dij}')\n",
    "            \n",
    "            Cij= A[i,j]*Dij*(-1)**(i+j)\n",
    "            det += Cij\n",
    "        #print(f'det= {det}')\n",
    "        return det\n",
    "    \n",
    "    elif A.shape[0]==1:\n",
    "        det= A[0,0]\n",
    "        return det\n",
    "    else:\n",
    "        return None\n",
    "\n",
    "det= ryDet(A)\n",
    "print(f'\\ndet= {det}')\n",
    "#%%"
   ]
  },
  {
   "cell_type": "code",
   "execution_count": 139,
   "id": "6cf81a37-d7bd-4595-a43c-7121fe361a17",
   "metadata": {},
   "outputs": [],
   "source": [
    "import numpy as np\n"
   ]
  },
  {
   "cell_type": "code",
   "execution_count": 140,
   "id": "60db459b-0040-4be3-a72e-561b89858097",
   "metadata": {},
   "outputs": [
    {
     "data": {
      "text/plain": [
       "(array([[0., 1.],\n",
       "        [1., 0.]]),\n",
       " array([[1.        , 0.        ],\n",
       "        [0.66666667, 1.        ]]),\n",
       " array([[6., 3.],\n",
       "        [0., 1.]]))"
      ]
     },
     "execution_count": 140,
     "metadata": {},
     "output_type": "execute_result"
    }
   ],
   "source": [
    "import scipy.linalg\n",
    "\n",
    "A= [[4,3],\n",
    "    [6,3]]\n",
    "\n",
    "'''\n",
    "A= [[12, -51, 4], \n",
    "    [6, 167, -68],\n",
    "    [-4, 24, -41]]\n",
    "'''\n",
    "\n",
    "A= np.array(A)\n",
    "\n",
    "P,L,U= scipy.linalg.lu(A)\n",
    "P, L, U"
   ]
  },
  {
   "cell_type": "code",
   "execution_count": 141,
   "id": "4edfcbfc-8a86-4787-aec3-937e022b56e5",
   "metadata": {},
   "outputs": [
    {
     "data": {
      "text/plain": [
       "True"
      ]
     },
     "execution_count": 141,
     "metadata": {},
     "output_type": "execute_result"
    }
   ],
   "source": [
    "# 驗算\n",
    "P @ L @ U == A\n",
    "np.isclose(P @ L @ U , A)\n",
    "np.allclose(P @ L @ U , A)\n"
   ]
  },
  {
   "cell_type": "code",
   "execution_count": 144,
   "id": "db288f35-689d-479a-949c-72f8b92d57fb",
   "metadata": {},
   "outputs": [
    {
     "data": {
      "text/plain": [
       "(array([[-0.5547002 , -0.83205029],\n",
       "        [-0.83205029,  0.5547002 ]]),\n",
       " array([[-7.21110255, -4.16025147],\n",
       "        [ 0.        , -0.83205029]]))"
      ]
     },
     "execution_count": 144,
     "metadata": {},
     "output_type": "execute_result"
    }
   ],
   "source": [
    "#%%\n",
    "Q,R= np.linalg.qr(A)\n",
    "Q,R"
   ]
  },
  {
   "cell_type": "code",
   "execution_count": 147,
   "id": "07bb8c18-e615-4bf3-bab4-b40cd6b91276",
   "metadata": {},
   "outputs": [],
   "source": [
    "# 驗算\n",
    "(Q @ R == A).all()\n",
    "\n",
    "np.allclose(Q @ R , A)\n",
    "\n",
    "# 再檢查 Q 的正交性質\n",
    "#assert Q[0]@Q[1] == 0\n",
    "#assert Q[0]@Q[0] == 1\n",
    "assert np.allclose(Q[0]@Q[1] , 0)\n",
    "assert np.allclose(Q[0]@Q[0] , 1)"
   ]
  },
  {
   "cell_type": "code",
   "execution_count": null,
   "id": "701e0f97-185b-404a-b9fe-2b49b74f2ed1",
   "metadata": {},
   "outputs": [],
   "source": [
    "#%%\n",
    "λ, Q= scipy.linalg.eig(A)\n",
    "\n",
    "lmbd= λ \n",
    "# 驗算\n",
    "#assert A @ Q[:,0] == Q[:,0] * λ[0]\n",
    "\n",
    "assert np.allclose(A @ Q[:,0], Q[:,0] * λ[0] )\n",
    "\n",
    "assert np.allclose(A @ Q, Q @ np.diag(λ) )\n",
    "#%%\n",
    "U, σ, V_T= scipy.linalg.svd(A)\n",
    "\n",
    "V= V_T.T\n",
    "\n",
    "Σ= np.diag(σ)\n",
    "\n",
    "sigma= σ\n",
    "Sigma= Σ \n",
    "\n",
    "# 驗算\n",
    "\n",
    "assert np.allclose(U @  Σ @ V.T, A )\n",
    "\n",
    "# 再檢查 U, V 的正交性質\n",
    "\n",
    "assert np.allclose(U[0]@U[1] , 0)\n",
    "assert np.allclose(V[0]@V[1] , 0)\n",
    "assert np.allclose(U[0]@U[0] , 1)\n",
    "assert np.allclose(V[0]@V[0] , 1)\n",
    "\n",
    "#\n",
    "# 檢查 orthogonal , orthonormal\n",
    "#\n",
    "assert np.allclose(U@U.T, np.eye(U.shape[0]))\n",
    "assert np.allclose(V@V.T, np.eye(V.shape[0]))\n",
    "\n",
    "#\n",
    "assert np.allclose(A  @V, U@Σ)\n",
    "assert np.allclose(A.T@U, V@Σ)\n",
    "\n",
    "#%%\n",
    "import numpy as np\n",
    "import scipy.linalg as sp_linalg\n",
    "\n",
    "M= [[1,2],\n",
    "    [3,4]]\n",
    "M= np.array(M)\n",
    "U,sigma,V_T= np.linalg.svd(M)\n",
    "V= V_T.T\n",
    "MtM= M.T@M\n",
    "ld, Q= np.linalg.eig(MtM)\n",
    "#%%\n",
    "\n",
    "A= [[12, -51, 4], \n",
    "    [6, 167, -68],\n",
    "    [-4, 24, -41]]\n",
    "A= np.array(A)\n",
    "Q,R= np.linalg.qr(A)\n",
    "\n",
    "#%%\n",
    "A= [[2,1],\n",
    "    [1,2]]\n",
    "A= np.array(A)\n",
    "lmda, eigV= np.linalg.eig(A)\n",
    "#%%\n",
    "\n",
    "Q, R= np.linalg.qr(A)\n",
    "\n",
    "#%%\n",
    "U,Sigma,V_T= np.linalg.svd(A)\n",
    "V= V_T.T\n",
    "\n",
    "#%%\n",
    "A= [[1,-1],\n",
    "    [1,1]]\n",
    "A= np.array(A)\n",
    "S= np.diag([2,1])\n",
    "B= A@S@A.T\n",
    "\n",
    "print(f'A= \\n{A}, \\nS= \\n{S}, \\nB= \\n{B}')\n",
    "#%%\n",
    "lmda, eigV= np.linalg.eig(B)\n",
    "Q, R= np.linalg.qr(B)\n",
    "U,Sigma,V_T= np.linalg.svd(B)\n",
    "V= V_T.T\n",
    "\n",
    "#%%\n",
    "\n",
    "A= [[10,1],\n",
    "    [1,10]]\n",
    "A= np.array(A)\n",
    "\n",
    "lmda, eigV= np.linalg.eig(A)\n",
    "\n",
    "#%%\n",
    "\n",
    "A= [[1,1],\n",
    "    [0,1]]\n",
    "A= np.array(A)\n",
    "\n",
    "lmda, eigV= np.linalg.eig(A)\n",
    "\n",
    "\n",
    "\n",
    "\n",
    "#%%\n",
    "\n",
    "A= [[4,1],\n",
    "    [1,4]]\n",
    "A= np.array(A)\n",
    "\n",
    "X= [[1,0,1,-1,-1,-1],\n",
    "    [0,1,1,+1,-1,+1]]\n",
    "X= np.array(X)\n",
    "\n",
    "Y= A@X"
   ]
  }
 ],
 "metadata": {
  "kernelspec": {
   "display_name": "Python 3",
   "language": "python",
   "name": "python3"
  },
  "language_info": {
   "codemirror_mode": {
    "name": "ipython",
    "version": 3
   },
   "file_extension": ".py",
   "mimetype": "text/x-python",
   "name": "python",
   "nbconvert_exporter": "python",
   "pygments_lexer": "ipython3",
   "version": "3.8.8"
  }
 },
 "nbformat": 4,
 "nbformat_minor": 5
}
