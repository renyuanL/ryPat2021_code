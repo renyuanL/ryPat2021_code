{
 "cells": [
  {
   "cell_type": "code",
   "execution_count": 2,
   "id": "5859a3bd-94ef-4c1b-a156-51265d5038aa",
   "metadata": {},
   "outputs": [],
   "source": [
    "import numpy as np\n",
    "import matplotlib.pyplot as plt"
   ]
  },
  {
   "cell_type": "code",
   "execution_count": 4,
   "id": "2f23b38f-6026-4463-82a1-65fc62c941bf",
   "metadata": {},
   "outputs": [
    {
     "data": {
      "text/plain": [
       "array([  1., -10.,  35., -50.,  24.])"
      ]
     },
     "execution_count": 4,
     "metadata": {},
     "output_type": "execute_result"
    }
   ],
   "source": [
    "np.poly([1,2,3,4])"
   ]
  },
  {
   "cell_type": "code",
   "execution_count": 9,
   "id": "cb9342c0-1edf-4492-a929-22befba7ab39",
   "metadata": {},
   "outputs": [
    {
     "data": {
      "text/latex": [
       "$x \\mapsto \\text{1.0} + \\text{2.0}\\,x + \\text{3.0}\\,x^{2} + \\text{4.0}\\,x^{3}$"
      ],
      "text/plain": [
       "Polynomial([1., 2., 3., 4.], domain=[-1,  1], window=[-1,  1])"
      ]
     },
     "execution_count": 9,
     "metadata": {},
     "output_type": "execute_result"
    }
   ],
   "source": [
    "f= np.polynomial.Polynomial([1,2,3,4])\n",
    "f"
   ]
  },
  {
   "cell_type": "code",
   "execution_count": 17,
   "id": "a9aa62f8-d0e5-4759-8926-411e5c2efb8d",
   "metadata": {},
   "outputs": [
    {
     "data": {
      "text/plain": [
       "array([1., 2., 3., 4.])"
      ]
     },
     "execution_count": 17,
     "metadata": {},
     "output_type": "execute_result"
    }
   ],
   "source": []
  },
  {
   "cell_type": "code",
   "execution_count": 18,
   "id": "e26f1a43-7095-4dc3-b691-33dce0001513",
   "metadata": {},
   "outputs": [
    {
     "data": {
      "text/plain": [
       "\u001b[1;31mSignature:\u001b[0m \u001b[0mnp\u001b[0m\u001b[1;33m.\u001b[0m\u001b[0mpolyval\u001b[0m\u001b[1;33m(\u001b[0m\u001b[0mp\u001b[0m\u001b[1;33m,\u001b[0m \u001b[0mx\u001b[0m\u001b[1;33m)\u001b[0m\u001b[1;33m\u001b[0m\u001b[1;33m\u001b[0m\u001b[0m\n",
       "\u001b[1;31mDocstring:\u001b[0m\n",
       "Evaluate a polynomial at specific values.\n",
       "\n",
       ".. note::\n",
       "   This forms part of the old polynomial API. Since version 1.4, the\n",
       "   new polynomial API defined in `numpy.polynomial` is preferred.\n",
       "   A summary of the differences can be found in the\n",
       "   :doc:`transition guide </reference/routines.polynomials>`.\n",
       "\n",
       "If `p` is of length N, this function returns the value:\n",
       "\n",
       "    ``p[0]*x**(N-1) + p[1]*x**(N-2) + ... + p[N-2]*x + p[N-1]``\n",
       "\n",
       "If `x` is a sequence, then `p(x)` is returned for each element of `x`.\n",
       "If `x` is another polynomial then the composite polynomial `p(x(t))`\n",
       "is returned.\n",
       "\n",
       "Parameters\n",
       "----------\n",
       "p : array_like or poly1d object\n",
       "   1D array of polynomial coefficients (including coefficients equal\n",
       "   to zero) from highest degree to the constant term, or an\n",
       "   instance of poly1d.\n",
       "x : array_like or poly1d object\n",
       "   A number, an array of numbers, or an instance of poly1d, at\n",
       "   which to evaluate `p`.\n",
       "\n",
       "Returns\n",
       "-------\n",
       "values : ndarray or poly1d\n",
       "   If `x` is a poly1d instance, the result is the composition of the two\n",
       "   polynomials, i.e., `x` is \"substituted\" in `p` and the simplified\n",
       "   result is returned. In addition, the type of `x` - array_like or\n",
       "   poly1d - governs the type of the output: `x` array_like => `values`\n",
       "   array_like, `x` a poly1d object => `values` is also.\n",
       "\n",
       "See Also\n",
       "--------\n",
       "poly1d: A polynomial class.\n",
       "\n",
       "Notes\n",
       "-----\n",
       "Horner's scheme [1]_ is used to evaluate the polynomial. Even so,\n",
       "for polynomials of high degree the values may be inaccurate due to\n",
       "rounding errors. Use carefully.\n",
       "\n",
       "If `x` is a subtype of `ndarray` the return value will be of the same type.\n",
       "\n",
       "References\n",
       "----------\n",
       ".. [1] I. N. Bronshtein, K. A. Semendyayev, and K. A. Hirsch (Eng.\n",
       "   trans. Ed.), *Handbook of Mathematics*, New York, Van Nostrand\n",
       "   Reinhold Co., 1985, pg. 720.\n",
       "\n",
       "Examples\n",
       "--------\n",
       ">>> np.polyval([3,0,1], 5)  # 3 * 5**2 + 0 * 5**1 + 1\n",
       "76\n",
       ">>> np.polyval([3,0,1], np.poly1d(5))\n",
       "poly1d([76])\n",
       ">>> np.polyval(np.poly1d([3,0,1]), 5)\n",
       "76\n",
       ">>> np.polyval(np.poly1d([3,0,1]), np.poly1d(5))\n",
       "poly1d([76])\n",
       "\u001b[1;31mFile:\u001b[0m      m:\\programdata\\anaconda3\\lib\\site-packages\\numpy\\lib\\polynomial.py\n",
       "\u001b[1;31mType:\u001b[0m      function\n"
      ]
     },
     "metadata": {},
     "output_type": "display_data"
    }
   ],
   "source": [
    "np.polyval?"
   ]
  },
  {
   "cell_type": "code",
   "execution_count": null,
   "id": "233dc2d0-15dc-4ba1-b54d-20e1add0d388",
   "metadata": {},
   "outputs": [],
   "source": []
  }
 ],
 "metadata": {
  "kernelspec": {
   "display_name": "Python 3",
   "language": "python",
   "name": "python3"
  },
  "language_info": {
   "codemirror_mode": {
    "name": "ipython",
    "version": 3
   },
   "file_extension": ".py",
   "mimetype": "text/x-python",
   "name": "python",
   "nbconvert_exporter": "python",
   "pygments_lexer": "ipython3",
   "version": "3.8.8"
  }
 },
 "nbformat": 4,
 "nbformat_minor": 5
}
