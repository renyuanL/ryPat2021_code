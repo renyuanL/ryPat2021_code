{
 "cells": [
  {
   "cell_type": "markdown",
   "id": "0a8c6b6b-98be-4081-8aab-58862969f02c",
   "metadata": {},
   "source": [
    "# ryEx001.ipynb\n",
    "- 嚐一下 矩陣及向量的運算\n"
   ]
  },
  {
   "cell_type": "code",
   "execution_count": 2,
   "id": "68e4b628-1b8e-4681-8ad4-c3174d8053e5",
   "metadata": {},
   "outputs": [],
   "source": [
    "import numpy as np"
   ]
  },
  {
   "cell_type": "markdown",
   "id": "9c22178d-ad99-48f9-9ee9-cfca684d9670",
   "metadata": {},
   "source": [
    "# Vector Operations\n",
    "\n",
    "We have covered the basic structures. Now it is time to discuss basic operations that can be done on these structures.\n"
   ]
  },
  {
   "cell_type": "code",
   "execution_count": 3,
   "id": "3ca05afe-a207-4705-b3cb-2a9346b2b32d",
   "metadata": {},
   "outputs": [
    {
     "data": {
      "text/plain": [
       "array([[1, 2, 3],\n",
       "       [4, 5, 6],\n",
       "       [7, 8, 9]])"
      ]
     },
     "execution_count": 3,
     "metadata": {},
     "output_type": "execute_result"
    }
   ],
   "source": [
    "A= [[1,2,3],\n",
    "    [4,5,6],\n",
    "    [7,8,9]]\n",
    "A= np.array(A)\n",
    "A"
   ]
  },
  {
   "cell_type": "code",
   "execution_count": 4,
   "id": "45c5ff82-efda-44e5-b14d-2a061c53c5ed",
   "metadata": {},
   "outputs": [
    {
     "data": {
      "text/plain": [
       "(array([1, 2, 3]), array([4, 5, 6]), array([7, 8, 9]))"
      ]
     },
     "execution_count": 4,
     "metadata": {},
     "output_type": "execute_result"
    }
   ],
   "source": [
    "# row vector, 1-D array\n",
    "r0= A[0,:]\n",
    "r1= A[1,:]\n",
    "r2= A[2,:]\n",
    "r0,r1,r2"
   ]
  },
  {
   "cell_type": "code",
   "execution_count": 5,
   "id": "e8306a16-76d5-4c92-94b9-a9eb5a9b20b2",
   "metadata": {},
   "outputs": [
    {
     "data": {
      "text/plain": [
       "(array([1, 4, 7]), array([2, 5, 8]), array([3, 6, 9]))"
      ]
     },
     "execution_count": 5,
     "metadata": {},
     "output_type": "execute_result"
    }
   ],
   "source": [
    "# column vector, 1-D array\n",
    "c0= A[:,0]\n",
    "c1= A[:,1]\n",
    "c2= A[:,2]\n",
    "c0,c1,c2\n"
   ]
  },
  {
   "cell_type": "code",
   "execution_count": 6,
   "id": "3cd679f1-abfd-4914-b3e3-6e29aaec55c5",
   "metadata": {},
   "outputs": [],
   "source": [
    "# reshape the row-, column- vector\n",
    "r0= r0.reshape(1,-1)\n",
    "r1= r1.reshape(1,-1)\n",
    "r2= r2.reshape(1,-1)\n",
    "\n",
    "c0= c0.reshape(-1,1)\n",
    "c1= c1.reshape(-1,1)\n",
    "c2= c2.reshape(-1,1)\n",
    "\n"
   ]
  },
  {
   "cell_type": "code",
   "execution_count": 7,
   "id": "46966976-5a75-4387-88f2-02c8696aa35e",
   "metadata": {},
   "outputs": [
    {
     "data": {
      "text/plain": [
       "array([[1, 2, 3]])"
      ]
     },
     "execution_count": 7,
     "metadata": {},
     "output_type": "execute_result"
    }
   ],
   "source": [
    "r0"
   ]
  },
  {
   "cell_type": "code",
   "execution_count": 8,
   "id": "c939adc7-5bbf-4f98-b2b6-1ca4caf03050",
   "metadata": {},
   "outputs": [
    {
     "data": {
      "text/plain": [
       "array([[1],\n",
       "       [4],\n",
       "       [7]])"
      ]
     },
     "execution_count": 8,
     "metadata": {},
     "output_type": "execute_result"
    }
   ],
   "source": [
    "c0"
   ]
  },
  {
   "cell_type": "code",
   "execution_count": 9,
   "id": "2e369aaa-596d-4651-9873-5e206474718f",
   "metadata": {},
   "outputs": [
    {
     "data": {
      "text/plain": [
       "(array([[ 1,  4,  9],\n",
       "        [ 4, 10, 18],\n",
       "        [ 7, 16, 27]]),\n",
       " array([[ 1,  4,  9],\n",
       "        [ 4, 10, 18],\n",
       "        [ 7, 16, 27]]))"
      ]
     },
     "execution_count": 9,
     "metadata": {},
     "output_type": "execute_result"
    }
   ],
   "source": [
    "A*r0, r0*A"
   ]
  },
  {
   "cell_type": "code",
   "execution_count": 10,
   "id": "f8bd31c5-9b51-49e0-9c4d-08ed710a6f44",
   "metadata": {},
   "outputs": [
    {
     "data": {
      "text/plain": [
       "(array([[ 1,  2,  3],\n",
       "        [16, 20, 24],\n",
       "        [49, 56, 63]]),\n",
       " array([[ 1,  2,  3],\n",
       "        [16, 20, 24],\n",
       "        [49, 56, 63]]))"
      ]
     },
     "execution_count": 10,
     "metadata": {},
     "output_type": "execute_result"
    }
   ],
   "source": [
    "A*c0, c0*A"
   ]
  },
  {
   "cell_type": "code",
   "execution_count": 11,
   "id": "d5ba6a41-4e38-4351-b352-ecba1aa7000a",
   "metadata": {},
   "outputs": [
    {
     "ename": "ValueError",
     "evalue": "matmul: Input operand 1 has a mismatch in its core dimension 0, with gufunc signature (n?,k),(k,m?)->(n?,m?) (size 1 is different from 3)",
     "output_type": "error",
     "traceback": [
      "\u001b[1;31m---------------------------------------------------------------------------\u001b[0m",
      "\u001b[1;31mValueError\u001b[0m                                Traceback (most recent call last)",
      "\u001b[1;32m<ipython-input-11-b73737f524fb>\u001b[0m in \u001b[0;36m<module>\u001b[1;34m\u001b[0m\n\u001b[1;32m----> 1\u001b[1;33m \u001b[0mA\u001b[0m\u001b[1;33m@\u001b[0m\u001b[0mr0\u001b[0m\u001b[1;33m\u001b[0m\u001b[1;33m\u001b[0m\u001b[0m\n\u001b[0m",
      "\u001b[1;31mValueError\u001b[0m: matmul: Input operand 1 has a mismatch in its core dimension 0, with gufunc signature (n?,k),(k,m?)->(n?,m?) (size 1 is different from 3)"
     ]
    }
   ],
   "source": [
    "A@r0"
   ]
  },
  {
   "cell_type": "code",
   "execution_count": null,
   "id": "f8e5b7a6-0efb-473d-8cee-78cb9d46d087",
   "metadata": {},
   "outputs": [],
   "source": [
    "r0@A"
   ]
  },
  {
   "cell_type": "code",
   "execution_count": null,
   "id": "2c4d3122-6e18-4840-bd34-b6a1486720ab",
   "metadata": {},
   "outputs": [],
   "source": [
    "A@c0"
   ]
  },
  {
   "cell_type": "code",
   "execution_count": null,
   "id": "a3a232f6-5694-46b0-b9d7-275601074cbf",
   "metadata": {},
   "outputs": [],
   "source": [
    "c0@A"
   ]
  },
  {
   "cell_type": "code",
   "execution_count": null,
   "id": "2d2b45ee-57cf-48ba-b040-3a8d66dab473",
   "metadata": {},
   "outputs": [],
   "source": [
    "A"
   ]
  },
  {
   "cell_type": "code",
   "execution_count": null,
   "id": "7cdae394-efa1-4490-82b8-52271d03bb8f",
   "metadata": {},
   "outputs": [],
   "source": [
    "import scipy.linalg as sl\n",
    "\n"
   ]
  },
  {
   "cell_type": "code",
   "execution_count": null,
   "id": "03d4d642-d886-40ca-8171-2b38be2722d3",
   "metadata": {},
   "outputs": [],
   "source": [
    "p,l,u= sl.lu(A)"
   ]
  },
  {
   "cell_type": "code",
   "execution_count": null,
   "id": "4e7f82b8-f9dd-42c4-b8eb-b1794041de2d",
   "metadata": {},
   "outputs": [],
   "source": [
    "p@l@u"
   ]
  },
  {
   "cell_type": "code",
   "execution_count": null,
   "id": "38c54373-a3ed-4020-b498-23925cff1c90",
   "metadata": {},
   "outputs": [],
   "source": [
    "p"
   ]
  },
  {
   "cell_type": "code",
   "execution_count": null,
   "id": "9b90ccd2-ccbb-4ada-a80c-8293695d2759",
   "metadata": {},
   "outputs": [],
   "source": [
    "sl.inv(A)"
   ]
  },
  {
   "cell_type": "code",
   "execution_count": null,
   "id": "dcc25603-9ead-4f5e-949a-c8a714072f57",
   "metadata": {},
   "outputs": [],
   "source": [
    "A= np.array([[1,2,3],[4,5,6],[7,9,8]])"
   ]
  },
  {
   "cell_type": "code",
   "execution_count": null,
   "id": "494c16a2-f1f6-401c-988c-1ccf54b8dc2b",
   "metadata": {},
   "outputs": [],
   "source": [
    "p,l,u= sl.lu(A)"
   ]
  },
  {
   "cell_type": "code",
   "execution_count": null,
   "id": "7fbd330c-f1c8-4c8d-bb48-ecf40d602ab1",
   "metadata": {},
   "outputs": [],
   "source": [
    "p@l@u"
   ]
  },
  {
   "cell_type": "code",
   "execution_count": null,
   "id": "77d56ed8-3146-47da-8fd9-2509b857a4f7",
   "metadata": {},
   "outputs": [],
   "source": [
    "sl.svd?"
   ]
  },
  {
   "cell_type": "code",
   "execution_count": null,
   "id": "05d358a2-8b5d-4f83-91f7-89612e01a3a7",
   "metadata": {},
   "outputs": [],
   "source": [
    "np.diag([1,2,3])"
   ]
  },
  {
   "cell_type": "code",
   "execution_count": null,
   "id": "dc97ae3d-5734-4b70-9d9b-2414147ed2a4",
   "metadata": {},
   "outputs": [],
   "source": [
    "u,s,v= np.linalg.svd(A)"
   ]
  },
  {
   "cell_type": "code",
   "execution_count": null,
   "id": "51730b5c-20d3-4373-9f47-06bfbeb9a8fd",
   "metadata": {},
   "outputs": [],
   "source": [
    "u@np.diag(s)@v"
   ]
  },
  {
   "cell_type": "code",
   "execution_count": null,
   "id": "193371e5-a788-42e7-8381-fa431154e353",
   "metadata": {},
   "outputs": [],
   "source": [
    "u"
   ]
  },
  {
   "cell_type": "code",
   "execution_count": null,
   "id": "66249e40-79af-48c0-a28f-3787285a94e4",
   "metadata": {},
   "outputs": [],
   "source": [
    "u[:,0]@u[:,1]"
   ]
  },
  {
   "cell_type": "code",
   "execution_count": null,
   "id": "3df9bf75-08d1-4caf-b6d9-65529acca072",
   "metadata": {},
   "outputs": [],
   "source": [
    "v[:,0]@v[:,0]"
   ]
  },
  {
   "cell_type": "code",
   "execution_count": null,
   "id": "ce1152f4-6746-4f89-9ab7-a18bd71c465f",
   "metadata": {},
   "outputs": [],
   "source": [
    "A=np.array([[1,2],[3,4]])\n",
    "A"
   ]
  },
  {
   "cell_type": "code",
   "execution_count": null,
   "id": "d3bafa2a-4dfd-40ea-8a09-aa899e174c66",
   "metadata": {},
   "outputs": [],
   "source": [
    "np.linalg.svd(A)"
   ]
  },
  {
   "cell_type": "markdown",
   "id": "a434f722-3b66-4441-af6c-c85e9974b4bc",
   "metadata": {},
   "source": []
  },
  {
   "cell_type": "markdown",
   "id": "4ff184b5-4af6-4959-8c01-6ab9b48c20d4",
   "metadata": {},
   "source": [
    "# 計算行列式 \n",
    "- recursive formula\n",
    "- 超級漂亮\n",
    "- https://en.wikipedia.org/wiki/Laplace_expansion\n",
    "![](https://wikimedia.org/api/rest_v1/media/math/render/svg/5ed201576483cebc15b497f91951651715e37847)\n",
    "- 拜讀！！"
   ]
  },
  {
   "cell_type": "code",
   "execution_count": null,
   "id": "7d43419e-538a-48be-aae8-1e3be49ac2dd",
   "metadata": {},
   "outputs": [],
   "source": [
    "def determinant(M):\n",
    "    # Base case of recursive function: 1x1 matrix\n",
    "    if len(M) == 1: \n",
    "        return M[0][0]\n",
    "\n",
    "    total = 0\n",
    "    for column, element in enumerate(M[0]):\n",
    "        # Exclude first row and current column.\n",
    "        K = [x[:column] + x[column + 1 :] for x in M[1:]]\n",
    "        s = 1 if column % 2 == 0 else -1 \n",
    "        total += s * element * determinant(K)\n",
    "    return total"
   ]
  },
  {
   "cell_type": "code",
   "execution_count": null,
   "id": "caf5a117-0cf8-4fe6-a666-a76f284afe01",
   "metadata": {},
   "outputs": [],
   "source": [
    "M= [[ 1, -2,  3,   4],\n",
    "    [ 5,  6, -7,   8],\n",
    "    [ 9, 10, 11, -12],\n",
    "    [13, 14, 15,  16]]\n",
    "\n",
    "determinant(M)"
   ]
  },
  {
   "cell_type": "code",
   "execution_count": null,
   "id": "37e8a689-4955-4f3f-968f-573372a5365e",
   "metadata": {},
   "outputs": [],
   "source": [
    "# 與 numpy.linalg.det() 比較，作為驗證！\n",
    "np.linalg.det(M)"
   ]
  },
  {
   "cell_type": "markdown",
   "id": "15910c22-659c-46ba-957a-6c2b2cada885",
   "metadata": {},
   "source": [
    "# Gaussian Elimination\n",
    "# LU decomposition\n"
   ]
  },
  {
   "cell_type": "code",
   "execution_count": null,
   "id": "c902a6e6-9eeb-4c07-b3ef-2cb5de4cb632",
   "metadata": {},
   "outputs": [],
   "source": []
  },
  {
   "cell_type": "code",
   "execution_count": null,
   "id": "45f0ff1e-995d-4319-8f8f-7fe031409e2f",
   "metadata": {},
   "outputs": [],
   "source": []
  }
 ],
 "metadata": {
  "kernelspec": {
   "display_name": "Python 3",
   "language": "python",
   "name": "python3"
  },
  "language_info": {
   "codemirror_mode": {
    "name": "ipython",
    "version": 3
   },
   "file_extension": ".py",
   "mimetype": "text/x-python",
   "name": "python",
   "nbconvert_exporter": "python",
   "pygments_lexer": "ipython3",
   "version": "3.8.8"
  }
 },
 "nbformat": 4,
 "nbformat_minor": 5
}
